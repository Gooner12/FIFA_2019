{
  "nbformat": 4,
  "nbformat_minor": 0,
  "metadata": {
    "colab": {
      "name": "FIFA_2019.ipynb",
      "provenance": [],
      "collapsed_sections": [],
      "toc_visible": true
    },
    "kernelspec": {
      "display_name": "Python 3",
      "language": "python",
      "name": "python3"
    },
    "language_info": {
      "codemirror_mode": {
        "name": "ipython",
        "version": 3
      },
      "file_extension": ".py",
      "mimetype": "text/x-python",
      "name": "python",
      "nbconvert_exporter": "python",
      "pygments_lexer": "ipython3",
      "version": "3.7.6"
    }
  },
  "cells": [
    {
      "cell_type": "markdown",
      "metadata": {
        "id": "2ljGko6N-6vf"
      },
      "source": [
        "## Overview\n",
        "\n",
        "This analysis is based on the attributes of football players released on [FIFA19](https://www.kaggle.com/karangadiya/fifa19)  dataset on Kaggle. The dataset consists of more than 18000 records of player data with around 90 attributes extracted from FIFA database. In this project, we perform data analysis using **Spark packages**.\n",
        " \n",
        "\n",
        "In this analysis, we divide the task into three parts.\n",
        "\n",
        "- **Part 1**: Exploratory Data Analysis\n",
        "\n",
        "- **Part 2**: Clustering Analysis, and identify the position profiles of each cluster\n",
        "\n",
        "- **Part 3**: Classification Analysis, and evaluate the performance of different algorithms using cross validation;"
      ]
    },
    {
      "cell_type": "markdown",
      "metadata": {
        "id": "G1vjEdvs-6vh"
      },
      "source": [
        "## Part 1 - Exploratory Data Analysis\n",
        "\n",
        "### 1.0. Libraries and data files\n",
        "***"
      ]
    },
    {
      "cell_type": "code",
      "metadata": {
        "colab": {
          "base_uri": "https://localhost:8080/"
        },
        "id": "nZY2t-qpxW4x",
        "outputId": "59c227c0-15fb-460c-95b8-4e059f37ca77"
      },
      "source": [
        "!apt-get update\n",
        "# importing the necessary spark environment and getting jdk\n",
        "!apt-get install openjdk-8-jdk-headless -qq > /dev/null\n",
        "!wget -q https://archive.apache.org/dist/spark/spark-2.4.0/spark-2.4.0-bin-hadoop2.7.tgz\n",
        "!tar xf spark-2.4.0-bin-hadoop2.7.tgz\n",
        "import os\n",
        "os.environ['JAVA_HOME'] = '/usr/lib/jvm/java-8-openjdk-amd64'\n",
        "os.environ['SPARK_HOME'] = '/content/spark-2.4.0-bin-hadoop2.7'"
      ],
      "execution_count": 1,
      "outputs": [
        {
          "output_type": "stream",
          "text": [
            "Get:1 http://security.ubuntu.com/ubuntu bionic-security InRelease [88.7 kB]\n",
            "Get:2 https://cloud.r-project.org/bin/linux/ubuntu bionic-cran40/ InRelease [3,626 B]\n",
            "Ign:3 https://developer.download.nvidia.com/compute/cuda/repos/ubuntu1804/x86_64  InRelease\n",
            "Get:4 http://ppa.launchpad.net/c2d4u.team/c2d4u4.0+/ubuntu bionic InRelease [15.9 kB]\n",
            "Hit:5 http://archive.ubuntu.com/ubuntu bionic InRelease\n",
            "Ign:6 https://developer.download.nvidia.com/compute/machine-learning/repos/ubuntu1804/x86_64  InRelease\n",
            "Get:7 https://developer.download.nvidia.com/compute/cuda/repos/ubuntu1804/x86_64  Release [697 B]\n",
            "Hit:8 https://developer.download.nvidia.com/compute/machine-learning/repos/ubuntu1804/x86_64  Release\n",
            "Get:9 https://developer.download.nvidia.com/compute/cuda/repos/ubuntu1804/x86_64  Release.gpg [836 B]\n",
            "Get:10 http://archive.ubuntu.com/ubuntu bionic-updates InRelease [88.7 kB]\n",
            "Hit:11 http://ppa.launchpad.net/cran/libgit2/ubuntu bionic InRelease\n",
            "Get:12 http://security.ubuntu.com/ubuntu bionic-security/restricted amd64 Packages [399 kB]\n",
            "Get:13 http://archive.ubuntu.com/ubuntu bionic-backports InRelease [74.6 kB]\n",
            "Get:14 http://ppa.launchpad.net/deadsnakes/ppa/ubuntu bionic InRelease [15.9 kB]\n",
            "Get:15 http://security.ubuntu.com/ubuntu bionic-security/universe amd64 Packages [1,410 kB]\n",
            "Get:16 http://security.ubuntu.com/ubuntu bionic-security/multiverse amd64 Packages [24.7 kB]\n",
            "Get:17 http://security.ubuntu.com/ubuntu bionic-security/main amd64 Packages [2,119 kB]\n",
            "Get:18 http://ppa.launchpad.net/graphics-drivers/ppa/ubuntu bionic InRelease [15.9 kB]\n",
            "Get:19 https://cloud.r-project.org/bin/linux/ubuntu bionic-cran40/ Packages [53.9 kB]\n",
            "Ign:21 https://developer.download.nvidia.com/compute/cuda/repos/ubuntu1804/x86_64  Packages\n",
            "Get:21 https://developer.download.nvidia.com/compute/cuda/repos/ubuntu1804/x86_64  Packages [742 kB]\n",
            "Get:22 http://ppa.launchpad.net/c2d4u.team/c2d4u4.0+/ubuntu bionic/main Sources [1,759 kB]\n",
            "Get:23 http://archive.ubuntu.com/ubuntu bionic-updates/restricted amd64 Packages [429 kB]\n",
            "Get:24 http://archive.ubuntu.com/ubuntu bionic-updates/universe amd64 Packages [2,181 kB]\n",
            "Get:25 http://ppa.launchpad.net/c2d4u.team/c2d4u4.0+/ubuntu bionic/main amd64 Packages [900 kB]\n",
            "Get:26 http://archive.ubuntu.com/ubuntu bionic-updates/main amd64 Packages [2,550 kB]\n",
            "Get:27 http://archive.ubuntu.com/ubuntu bionic-updates/multiverse amd64 Packages [31.6 kB]\n",
            "Get:28 http://ppa.launchpad.net/deadsnakes/ppa/ubuntu bionic/main amd64 Packages [40.3 kB]\n",
            "Get:29 http://ppa.launchpad.net/graphics-drivers/ppa/ubuntu bionic/main amd64 Packages [53.2 kB]\n",
            "Fetched 13.0 MB in 4s (3,154 kB/s)\n",
            "Reading package lists... Done\n"
          ],
          "name": "stdout"
        }
      ]
    },
    {
      "cell_type": "code",
      "metadata": {
        "id": "H4vYjBA7xW4x"
      },
      "source": [
        "#only required for jupyter\n",
        "import os\n",
        "os.environ['SPARK_HOME'] = 'D:/Projects/spark-2.4.0-bin-hadoop2.7'"
      ],
      "execution_count": null,
      "outputs": []
    },
    {
      "cell_type": "code",
      "metadata": {
        "colab": {
          "base_uri": "https://localhost:8080/"
        },
        "id": "auVRAscVRVrI",
        "outputId": "19212612-a9b7-4f3c-84e0-29e09b2d8da7"
      },
      "source": [
        "# getting the data\n",
        "!pip install -q wget\n",
        "!pip install -q findspark\n",
        "import wget\n",
        "data_19 = 'https://raw.githubusercontent.com/Gooner12/FIFA_2019/main/FIFA_19_players.csv'\n",
        "data_21 = 'https://raw.githubusercontent.com/Gooner12/FIFA_2019/main/FIFA_21_players.csv'\n",
        "dataset_19 = wget.download(data_19)\n",
        "dataset_21 = wget.download(data_21)"
      ],
      "execution_count": 2,
      "outputs": [
        {
          "output_type": "stream",
          "text": [
            "  Building wheel for wget (setup.py) ... \u001b[?25l\u001b[?25hdone\n"
          ],
          "name": "stdout"
        }
      ]
    },
    {
      "cell_type": "code",
      "metadata": {
        "id": "3Gxm5nc6Rz-a"
      },
      "source": [
        "import findspark\n",
        "findspark.init()\n",
        "from pyspark.sql import SparkSession"
      ],
      "execution_count": 3,
      "outputs": []
    },
    {
      "cell_type": "markdown",
      "metadata": {
        "id": "dSPbqoEGR30v"
      },
      "source": [
        "### 1.1 Data Exploration\n",
        "***"
      ]
    },
    {
      "cell_type": "code",
      "metadata": {
        "colab": {
          "base_uri": "https://localhost:8080/"
        },
        "id": "uuGY6lgWR7B3",
        "outputId": "c5e78667-bd69-43cf-be2a-4885a260d38a"
      },
      "source": [
        "# importing the 'FIFA_19.csv' as a Spark dataframe\n",
        "spark = SparkSession.builder.appName('FIFA_19').config('spark.sql.caseSensitive', 'true').getOrCreate()\n",
        "# not including header as data while reading so the header value is made true\n",
        "df_19 = spark.read.format('csv').options(header='true', inferschema='true').load('FIFA_19_players.csv')\n",
        "df_19.show()"
      ],
      "execution_count": 4,
      "outputs": [
        {
          "output_type": "stream",
          "text": [
            "+------+-----------------+---+--------------------+-----------+--------------------+-------+---------+-------------------+--------------------+--------+-------+-------+--------------+------------------------+---------+-----------+--------------+----------+---------+--------+-------------+------------+-----------+--------------------+------+----------+------+----------+--------+---------+---------------+------------+-------+---------+-----+----------+-----------+-----------+------------+-----------+-------+---------+-------+---------+-------+-------+--------+---------+----------+-------------+-----------+------+---------+---------+-------+--------------+-------------+--------+----------+---------+-------------+----------+-----------------+\n",
            "|    ID|             Name|Age|               Photo|Nationality|                Flag|Overall|Potential|               Club|           Club Logo|value(M)|wage(K)|Special|Preferred Foot|International Reputation|Weak Foot|Skill Moves|     Work Rate| Body Type|Real Face|Position|Jersey Number|      Joined|Loaned From|Contract Valid Until|Height|Height(CM)|Weight|Weight(KG)|Crossing|Finishing|HeadingAccuracy|ShortPassing|Volleys|Dribbling|Curve|FKAccuracy|LongPassing|BallControl|Acceleration|SprintSpeed|Agility|Reactions|Balance|ShotPower|Jumping|Stamina|Strength|LongShots|Aggression|Interceptions|Positioning|Vision|Penalties|Composure|Marking|StandingTackle|SlidingTackle|GKDiving|GKHandling|GKKicking|GKPositioning|GKReflexes|Release Clause(M)|\n",
            "+------+-----------------+---+--------------------+-----------+--------------------+-------+---------+-------------------+--------------------+--------+-------+-------+--------------+------------------------+---------+-----------+--------------+----------+---------+--------+-------------+------------+-----------+--------------------+------+----------+------+----------+--------+---------+---------------+------------+-------+---------+-----+----------+-----------+-----------+------------+-----------+-------+---------+-------+---------+-------+-------+--------+---------+----------+-------------+-----------+------+---------+---------+-------+--------------+-------------+--------+----------+---------+-------------+----------+-----------------+\n",
            "|158023|         L. Messi| 31|https://cdn.sofif...|  Argentina|https://cdn.sofif...|     94|       94|       FC Barcelona|https://cdn.sofif...|   110.5|    565|   2202|          Left|                       5|        4|          4|Medium/ Medium|     Messi|      Yes|      RF|           10| Jul 1, 2004|       null|                2021|   5.7|   173.736| 159.0| 72.121128|      84|       95|             70|          90|     86|       97|   93|        94|         87|         96|          91|         86|     91|       95|     95|       85|     68|     72|      59|       94|        48|           22|         94|    94|       75|       96|     33|            28|           26|       6|        11|       15|           14|         8|            226.5|\n",
            "| 20801|Cristiano Ronaldo| 33|https://cdn.sofif...|   Portugal|https://cdn.sofif...|     94|       94|           Juventus|https://cdn.sofif...|      77|    405|   2228|         Right|                       5|        4|          5|     High/ Low|C. Ronaldo|      Yes|      ST|            7|Jul 10, 2018|       null|                2022|   6.2|   188.976| 183.0| 83.007336|      84|       94|             89|          81|     87|       88|   81|        76|         77|         94|          89|         91|     87|       96|     70|       95|     95|     88|      79|       93|        63|           29|         95|    82|       85|       95|     28|            31|           23|       7|        11|       15|           14|        11|            127.1|\n",
            "|190871|        Neymar Jr| 26|https://cdn.sofif...|     Brazil|https://cdn.sofif...|     92|       93|Paris Saint-Germain|https://cdn.sofif...|   118.5|    290|   2143|         Right|                       5|        5|          5|  High/ Medium|    Neymar|      Yes|      LW|           10| Aug 3, 2017|       null|                2022|   5.9|   179.832| 150.0|   68.0388|      79|       87|             62|          84|     84|       96|   88|        87|         78|         95|          94|         90|     96|       94|     84|       80|     61|     81|      49|       82|        56|           36|         89|    87|       81|       94|     27|            24|           33|       9|         9|       15|           15|        11|            228.1|\n",
            "|193080|           De Gea| 27|https://cdn.sofif...|      Spain|https://cdn.sofif...|     91|       93|  Manchester United|https://cdn.sofif...|      72|    260|   1471|         Right|                       4|        3|          1|Medium/ Medium|      Lean|      Yes|      GK|            1| Jul 1, 2011|       null|                2020|   6.4|   195.072| 168.0| 76.203456|      17|       13|             21|          50|     13|       18|   21|        19|         51|         42|          57|         58|     60|       90|     43|       31|     67|     43|      64|       12|        38|           30|         12|    68|       40|       68|     15|            21|           13|      90|        85|       87|           88|        94|            138.6|\n",
            "|192985|     K. De Bruyne| 27|https://cdn.sofif...|    Belgium|https://cdn.sofif...|     91|       92|    Manchester City|https://cdn.sofif...|     102|    355|   2281|         Right|                       4|        5|          4|    High/ High|    Normal|      Yes|     RCM|            7|Aug 30, 2015|       null|                2023|  5.11|  155.7528| 154.0| 69.853168|      93|       82|             55|          92|     82|       86|   85|        83|         91|         91|          78|         76|     79|       91|     77|       91|     63|     90|      75|       91|        76|           61|         87|    94|       79|       88|     68|            58|           51|      15|        13|        5|           10|        13|            196.4|\n",
            "|183277|        E. Hazard| 27|https://cdn.sofif...|    Belgium|https://cdn.sofif...|     91|       91|            Chelsea|https://cdn.sofif...|      93|    340|   2142|         Right|                       4|        4|          4|  High/ Medium|    Normal|      Yes|      LF|           10| Jul 1, 2012|       null|                2020|   5.8|   176.784| 163.0| 73.935496|      81|       84|             61|          89|     80|       95|   83|        79|         83|         94|          94|         88|     95|       90|     94|       82|     56|     83|      66|       80|        54|           41|         87|    89|       86|       91|     34|            27|           22|      11|        12|        6|            8|         8|            172.1|\n",
            "|177003|        L. Modri?| 32|https://cdn.sofif...|    Croatia|https://cdn.sofif...|     91|       91|        Real Madrid|https://cdn.sofif...|      67|    420|   2280|         Right|                       4|        4|          4|    High/ High|      Lean|      Yes|     RCM|           10| Aug 1, 2012|       null|                2020|   5.8|   176.784| 146.0| 66.224432|      86|       72|             55|          93|     76|       90|   85|        78|         88|         93|          80|         72|     93|       90|     94|       79|     68|     89|      58|       82|        62|           83|         79|    92|       82|       84|     60|            76|           73|      13|         9|        7|           14|         9|            137.4|\n",
            "|176580|       L. Su��rez| 31|https://cdn.sofif...|    Uruguay|https://cdn.sofif...|     91|       91|       FC Barcelona|https://cdn.sofif...|      80|    455|   2346|         Right|                       5|        4|          3|  High/ Medium|    Normal|      Yes|      RS|            9|Jul 11, 2014|       null|                2021|   6.0|    182.88| 190.0|  86.18248|      77|       93|             77|          82|     88|       87|   86|        84|         64|         90|          86|         75|     82|       92|     83|       86|     69|     90|      83|       85|        87|           41|         92|    84|       85|       85|     62|            45|           38|      27|        25|       31|           33|        37|              164|\n",
            "|155862|     Sergio Ramos| 32|https://cdn.sofif...|      Spain|https://cdn.sofif...|     91|       91|        Real Madrid|https://cdn.sofif...|      51|    380|   2201|         Right|                       4|        3|          3|  High/ Medium|    Normal|      Yes|     RCB|           15| Aug 1, 2005|       null|                2020|   6.0|    182.88| 181.0| 82.100152|      66|       60|             91|          78|     66|       63|   74|        72|         77|         84|          76|         75|     78|       85|     66|       79|     93|     84|      83|       59|        88|           90|         60|    63|       75|       82|     87|            92|           91|      11|         8|        9|            7|        11|            104.6|\n",
            "|200389|         J. Oblak| 25|https://cdn.sofif...|   Slovenia|https://cdn.sofif...|     90|       93|   Atl��tico Madrid|https://cdn.sofif...|      68|     94|   1331|         Right|                       3|        3|          1|Medium/ Medium|    Normal|      Yes|      GK|            1|Jul 16, 2014|       null|                2021|   6.2|   188.976| 192.0| 87.089664|      13|       11|             15|          29|     13|       12|   13|        14|         26|         16|          43|         60|     67|       86|     49|       22|     76|     41|      78|       12|        34|           19|         11|    70|       11|       70|     27|            12|           18|      86|        92|       78|           88|        89|            144.5|\n",
            "|188545|   R. Lewandowski| 29|https://cdn.sofif...|     Poland|https://cdn.sofif...|     90|       90| FC Bayern M��nchen|https://cdn.sofif...|      77|    205|   2152|         Right|                       4|        4|          4|  High/ Medium|    Normal|      Yes|      ST|            9| Jul 1, 2014|       null|                2021|   6.0|    182.88| 176.0| 79.832192|      62|       91|             85|          83|     89|       85|   77|        86|         65|         89|          77|         78|     78|       90|     78|       88|     84|     78|      84|       84|        80|           39|         91|    77|       88|       86|     34|            42|           19|      15|         6|       12|            8|        10|            127.1|\n",
            "|182521|         T. Kroos| 28|https://cdn.sofif...|    Germany|https://cdn.sofif...|     90|       90|        Real Madrid|https://cdn.sofif...|    76.5|    355|   2190|         Right|                       4|        5|          3|Medium/ Medium|    Normal|      Yes|     LCM|            8|Jul 17, 2014|       null|                2022|   6.0|    182.88| 168.0| 76.203456|      88|       76|             54|          92|     82|       81|   86|        84|         93|         90|          64|         62|     70|       89|     71|       87|     30|     75|      73|       92|        60|           82|         79|    86|       73|       85|     72|            79|           69|      10|        11|       13|            7|        10|            156.8|\n",
            "|182493|        D. God��n| 32|https://cdn.sofif...|    Uruguay|https://cdn.sofif...|     90|       90|   Atl��tico Madrid|https://cdn.sofif...|      44|    125|   1946|         Right|                       3|        3|          2|  Medium/ High|      Lean|      Yes|      CB|           10| Aug 4, 2010|       null|                2019|   6.2|   188.976| 172.0| 78.017824|      55|       42|             92|          79|     47|       53|   49|        51|         70|         76|          68|         68|     58|       85|     54|       67|     91|     66|      88|       43|        89|           88|         48|    52|       50|       82|     90|            89|           89|       6|         8|       15|            5|        15|             90.2|\n",
            "|168542|      David Silva| 32|https://cdn.sofif...|      Spain|https://cdn.sofif...|     90|       90|    Manchester City|https://cdn.sofif...|      60|    285|   2115|          Left|                       4|        2|          4|  High/ Medium|    Normal|      Yes|     LCM|           21|Jul 14, 2010|       null|                2020|   5.8|   176.784| 148.0| 67.131616|      84|       76|             54|          93|     82|       89|   82|        77|         87|         94|          70|         64|     92|       90|     90|       72|     64|     78|      52|       75|        57|           50|         89|    92|       75|       93|     59|            53|           29|       6|        15|        7|            6|        12|              111|\n",
            "|215914|        N. Kant��| 27|https://cdn.sofif...|     France|https://cdn.sofif...|     89|       90|            Chelsea|https://cdn.sofif...|      63|    225|   2189|         Right|                       3|        3|          2|  Medium/ High|      Lean|      Yes|     LDM|           13|Jul 16, 2016|       null|                2023|   5.6|   170.688| 159.0| 72.121128|      68|       65|             54|          86|     56|       79|   49|        49|         81|         80|          82|         78|     82|       93|     92|       71|     77|     96|      76|       69|        90|           92|         71|    79|       54|       85|     90|            91|           85|      15|        12|       10|            7|        10|            121.3|\n",
            "|211110|        P. Dybala| 24|https://cdn.sofif...|  Argentina|https://cdn.sofif...|     89|       94|           Juventus|https://cdn.sofif...|      89|    205|   2092|          Left|                       3|        3|          4|  High/ Medium|    Normal|      Yes|      LF|           21| Jul 1, 2015|       null|                2022|   5.1|   155.448| 165.0|  74.84268|      82|       84|             68|          87|     88|       92|   88|        88|         75|         92|          87|         83|     91|       86|     85|       82|     75|     80|      65|       88|        48|           32|         84|    87|       86|       84|     23|            20|           20|       5|         4|        4|            5|         8|            153.5|\n",
            "|202126|          H. Kane| 24|https://cdn.sofif...|    England|https://cdn.sofif...|     89|       91|  Tottenham Hotspur|https://cdn.sofif...|    83.5|    205|   2165|         Right|                       3|        4|          3|    High/ High|    Normal|      Yes|      ST|            9| Jul 1, 2010|       null|                2024|   6.2|   188.976| 196.0| 88.904032|      75|       94|             85|          80|     84|       80|   78|        68|         82|         84|          68|         72|     71|       91|     71|       88|     78|     89|      84|       85|        76|           35|         93|    80|       90|       89|     56|            36|           38|       8|        10|       11|           14|        11|            160.7|\n",
            "|194765|     A. Griezmann| 27|https://cdn.sofif...|     France|https://cdn.sofif...|     89|       90|   Atl��tico Madrid|https://cdn.sofif...|      78|    145|   2246|          Left|                       4|        3|          4|    High/ High|      Lean|      Yes|     CAM|            7|Jul 28, 2014|       null|                2023|   5.9|   179.832| 161.0| 73.028312|      82|       90|             84|          83|     87|       88|   84|        78|         76|         90|          88|         85|     90|       90|     80|       80|     90|     83|      62|       82|        69|           35|         91|    83|       79|       87|     59|            47|           48|      14|         8|       14|           13|        14|            165.8|\n",
            "|192448|    M. ter Stegen| 26|https://cdn.sofif...|    Germany|https://cdn.sofif...|     89|       92|       FC Barcelona|https://cdn.sofif...|      58|    240|   1328|         Right|                       3|        4|          1|Medium/ Medium|    Normal|      Yes|      GK|           22| Jul 1, 2014|       null|                2022|   6.2|   188.976| 187.0| 84.821704|      15|       14|             11|          36|     14|       17|   18|        12|         42|         18|          38|         50|     37|       85|     43|       22|     79|     35|      79|       10|        43|           22|         11|    69|       25|       69|     25|            13|           10|      87|        85|       88|           85|        90|            123.3|\n",
            "|192119|      T. Courtois| 26|https://cdn.sofif...|    Belgium|https://cdn.sofif...|     89|       90|        Real Madrid|https://cdn.sofif...|    53.5|    240|   1311|          Left|                       4|        2|          1|Medium/ Medium|  Courtois|      Yes|      GK|            1| Aug 9, 2018|       null|                2024|   6.6|   201.168| 212.0| 96.161504|      14|       14|             13|          33|     12|       13|   19|        20|         35|         23|          46|         52|     61|       84|     45|       36|     68|     38|      70|       17|        23|           15|         13|    44|       27|       66|     20|            18|           16|      85|        91|       72|           86|        88|            113.7|\n",
            "+------+-----------------+---+--------------------+-----------+--------------------+-------+---------+-------------------+--------------------+--------+-------+-------+--------------+------------------------+---------+-----------+--------------+----------+---------+--------+-------------+------------+-----------+--------------------+------+----------+------+----------+--------+---------+---------------+------------+-------+---------+-----+----------+-----------+-----------+------------+-----------+-------+---------+-------+---------+-------+-------+--------+---------+----------+-------------+-----------+------+---------+---------+-------+--------------+-------------+--------+----------+---------+-------------+----------+-----------------+\n",
            "only showing top 20 rows\n",
            "\n"
          ],
          "name": "stdout"
        }
      ]
    },
    {
      "cell_type": "code",
      "metadata": {
        "colab": {
          "base_uri": "https://localhost:8080/"
        },
        "id": "pfFxwlwfX0EK",
        "outputId": "e2157542-203d-4617-a0b4-a12797d4f691"
      },
      "source": [
        "df_21 = spark.read.format('csv').options(header='true', inferschema='true').load('FIFA_21_players.csv')\n",
        "df_21.show()"
      ],
      "execution_count": 5,
      "outputs": [
        {
          "output_type": "stream",
          "text": [
            "+---------+--------------------+-----------------+--------------------+---+-------------------+---------+---------+-----------+-------------------+--------------------+-----------+-------+---------+---------+--------+----------------+--------------+------------------------+---------+-----------+-------------+--------------------+---------+------------------+--------------------+-------------+------------------+-----------+-------------------+--------------------+---------------+--------------------+----+--------+-------+---------+---------+------+---------+-----------+----------+-----------+--------+--------------+--------------------+------------------+-------------------+--------------------------+-----------------------+-----------------+---------------+-----------+-----------------+------------------+------------------+---------------------+---------------------+----------------+------------------+----------------+----------------+-------------+-------------+--------------+----------------+--------------------+-----------------------+---------------------+----------------+-------------------+-------------------+-----------------+-------------------------+------------------------+------------------+--------------------+-------------------+-----------------------+--------------------+----+----+----+----+----+----+----+----+----+----+----+----+----+----+----+----+----+----+----+----+----+----+----+----+----+----+\n",
            "|sofifa_id|          player_url|       short_name|           long_name|age|                dob|height_cm|weight_kg|nationality|          club_name|         league_name|league_rank|overall|potential|value_eur|wage_eur|player_positions|preferred_foot|international_reputation|weak_foot|skill_moves|    work_rate|           body_type|real_face|release_clause_eur|         player_tags|team_position|team_jersey_number|loaned_from|             joined|contract_valid_until|nation_position|nation_jersey_number|pace|shooting|passing|dribbling|defending|physic|gk_diving|gk_handling|gk_kicking|gk_reflexes|gk_speed|gk_positioning|       player_traits|attacking_crossing|attacking_finishing|attacking_heading_accuracy|attacking_short_passing|attacking_volleys|skill_dribbling|skill_curve|skill_fk_accuracy|skill_long_passing|skill_ball_control|movement_acceleration|movement_sprint_speed|movement_agility|movement_reactions|movement_balance|power_shot_power|power_jumping|power_stamina|power_strength|power_long_shots|mentality_aggression|mentality_interceptions|mentality_positioning|mentality_vision|mentality_penalties|mentality_composure|defending_marking|defending_standing_tackle|defending_sliding_tackle|goalkeeping_diving|goalkeeping_handling|goalkeeping_kicking|goalkeeping_positioning|goalkeeping_reflexes|  ls|  st|  rs|  lw|  lf|  cf|  rf|  rw| lam| cam| ram|  lm| lcm|  cm| rcm|  rm| lwb| ldm| cdm| rdm| rwb|  lb| lcb|  cb| rcb|  rb|\n",
            "+---------+--------------------+-----------------+--------------------+---+-------------------+---------+---------+-----------+-------------------+--------------------+-----------+-------+---------+---------+--------+----------------+--------------+------------------------+---------+-----------+-------------+--------------------+---------+------------------+--------------------+-------------+------------------+-----------+-------------------+--------------------+---------------+--------------------+----+--------+-------+---------+---------+------+---------+-----------+----------+-----------+--------+--------------+--------------------+------------------+-------------------+--------------------------+-----------------------+-----------------+---------------+-----------+-----------------+------------------+------------------+---------------------+---------------------+----------------+------------------+----------------+----------------+-------------+-------------+--------------+----------------+--------------------+-----------------------+---------------------+----------------+-------------------+-------------------+-----------------+-------------------------+------------------------+------------------+--------------------+-------------------+-----------------------+--------------------+----+----+----+----+----+----+----+----+----+----+----+----+----+----+----+----+----+----+----+----+----+----+----+----+----+----+\n",
            "|   158023|https://sofifa.co...|         L. Messi|Lionel Andrés Mes...| 33|1987-06-24 00:00:00|      170|       72|  Argentina|       FC Barcelona|Spain Primera Div...|          1|     93|       93| 67500000|  560000|      RW, ST, CF|          Left|                       5|        4|          4|   Medium/Low|               Messi|      Yes|         138400000|#Dribbler, #Dista...|          CAM|                10|       null|2004-07-01 00:00:00|                2021|             RW|                  10|  85|      92|     91|       95|       38|    65|     null|       null|      null|       null|    null|          null|Finesse Shot, Lon...|                85|                 95|                        70|                     91|               88|             96|         93|               94|                91|                96|                   91|                   80|              91|                94|              95|              86|           68|           72|            69|              94|                  44|                     40|                   93|              95|                 75|                 96|             null|                       35|                      24|                 6|                  11|                 15|                     14|                   8|89+3|89+3|89+3|92+0|93+0|93+0|93+0|92+0|93+0|93+0|93+0|91+2|87+3|87+3|87+3|91+2|66+3|65+3|65+3|65+3|66+3|62+3|52+3|52+3|52+3|62+3|\n",
            "|    20801|https://sofifa.co...|Cristiano Ronaldo|Cristiano Ronaldo...| 35|1985-02-05 00:00:00|      187|       83|   Portugal|           Juventus|     Italian Serie A|          1|     92|       92| 46000000|  220000|          ST, LW|         Right|                       5|        4|          5|     High/Low|          C. Ronaldo|      Yes|          75900000|#Aerial Threat, #...|           LS|                 7|       null|2018-07-10 00:00:00|                2022|             LS|                   7|  89|      93|     81|       89|       35|    77|     null|       null|      null|       null|    null|          null|Power Free-Kick, ...|                84|                 95|                        90|                     82|               86|             88|         81|               76|                77|                92|                   87|                   91|              87|                95|              71|              94|           95|           84|            78|              93|                  63|                     29|                   95|              82|                 84|                 95|             null|                       32|                      24|                 7|                  11|                 15|                     14|                  11|91+1|91+1|91+1|89+0|91+0|91+0|91+0|89+0|88+3|88+3|88+3|88+3|81+3|81+3|81+3|88+3|65+3|61+3|61+3|61+3|65+3|61+3|54+3|54+3|54+3|61+3|\n",
            "|   200389|https://sofifa.co...|         J. Oblak|           Jan Oblak| 27|1993-01-07 00:00:00|      188|       87|   Slovenia|    Atlético Madrid|Spain Primera Div...|          1|     91|       93| 75000000|  125000|              GK|         Right|                       3|        3|          1|Medium/Medium|PLAYER_BODY_TYPE_259|      Yes|         159400000|                null|           GK|                13|       null|2014-07-16 00:00:00|                2023|             GK|                   1|null|    null|   null|     null|     null|  null|       87|         92|        78|         90|      52|            90|GK Long Throw, Co...|                13|                 11|                        15|                     43|               13|             12|         13|               14|                40|                30|                   43|                   60|              67|                88|              49|              59|           78|           41|            78|              12|                  34|                     19|                   11|              65|                 11|                 68|             null|                       12|                      18|                87|                  92|                 78|                     90|                  90|33+3|33+3|33+3|32+0|35+0|35+0|35+0|32+0|38+3|38+3|38+3|35+3|38+3|38+3|38+3|35+3|32+3|36+3|36+3|36+3|32+3|32+3|33+3|33+3|33+3|32+3|\n",
            "|   188545|https://sofifa.co...|   R. Lewandowski|  Robert Lewandowski| 31|1988-08-21 00:00:00|      184|       80|     Poland|  FC Bayern München|German 1. Bundesliga|          1|     91|       91| 80000000|  240000|              ST|         Right|                       4|        4|          4|  High/Medium|PLAYER_BODY_TYPE_276|      Yes|         132000000|#Distance Shooter...|           ST|                 9|       null|2014-07-01 00:00:00|                2023|           null|                null|  78|      91|     78|       85|       43|    82|     null|       null|      null|       null|    null|          null|Solid Player, Fin...|                71|                 94|                        85|                     84|               89|             85|         79|               85|                70|                88|                   77|                   78|              77|                93|              82|              89|           84|           76|            86|              85|                  81|                     49|                   94|              79|                 88|                 88|             null|                       42|                      19|                15|                   6|                 12|                      8|                  10|89+2|89+2|89+2|85+0|87+0|87+0|87+0|85+0|85+3|85+3|85+3|83+3|79+3|79+3|79+3|83+3|64+3|65+3|65+3|65+3|64+3|61+3|60+3|60+3|60+3|61+3|\n",
            "|   190871|https://sofifa.co...|        Neymar Jr|Neymar da Silva S...| 28|1992-02-05 00:00:00|      175|       68|     Brazil|Paris Saint-Germain|      French Ligue 1|          1|     91|       91| 90000000|  270000|         LW, CAM|         Right|                       5|        5|          5|  High/Medium|              Neymar|      Yes|         166500000|#Speedster, #Drib...|           LW|                10|       null|2017-08-03 00:00:00|                2022|           null|                null|  91|      85|     86|       94|       36|    59|     null|       null|      null|       null|    null|          null|Injury Prone, Fla...|                85|                 87|                        62|                     87|               87|             95|         88|               89|                81|                95|                   94|                   89|              96|                91|              83|              80|           62|           81|            50|              84|                  51|                     36|                   87|              90|                 92|                 93|             null|                       30|                      29|                 9|                   9|                 15|                     15|                  11|84+3|84+3|84+3|90+0|89+0|89+0|89+0|90+0|90+1|90+1|90+1|90+1|83+3|83+3|83+3|90+1|67+3|62+3|62+3|62+3|67+3|62+3|49+3|49+3|49+3|62+3|\n",
            "|   192985|https://sofifa.co...|     K. De Bruyne|     Kevin De Bruyne| 29|1991-06-28 00:00:00|      181|       70|    Belgium|    Manchester City|English Premier L...|          1|     91|       91| 87000000|  370000|         CAM, CM|         Right|                       4|        5|          4|    High/High|PLAYER_BODY_TYPE_321|      Yes|         161000000|#Dribbler, #Playm...|          RCM|                17|       null|2015-08-30 00:00:00|                2023|            RCM|                   7|  76|      86|     93|       88|       64|    78|     null|       null|      null|       null|    null|          null|Injury Prone, Lea...|                94|                 82|                        55|                     94|               82|             88|         85|               83|                93|                92|                   77|                   76|              78|                91|              76|              91|           63|           89|            74|              91|                  76|                     66|                   88|              94|                 84|                 91|             null|                       65|                      53|                15|                  13|                  5|                     10|                  13|83+3|83+3|83+3|88+0|88+0|88+0|88+0|88+0|89+2|89+2|89+2|89+2|89+2|89+2|89+2|89+2|79+3|80+3|80+3|80+3|79+3|75+3|69+3|69+3|69+3|75+3|\n",
            "|   231747|https://sofifa.co...|        K. Mbappé|Kylian Mbappé Lottin| 21|1998-12-20 00:00:00|      178|       73|     France|Paris Saint-Germain|      French Ligue 1|          1|     90|       95|105500000|  160000|      ST, LW, RW|         Right|                       3|        4|          5|     High/Low|PLAYER_BODY_TYPE_343|      Yes|         203100000|#Speedster, #Drib...|           LS|                 7|       null|2018-07-01 00:00:00|                2022|             RM|                  10|  96|      86|     78|       91|       39|    76|     null|       null|      null|       null|    null|          null|Finesse Shot, Fla...|                78|                 91|                        73|                     83|               83|             92|         79|               63|                70|                90|                   96|                   96|              92|                92|              82|              86|           77|           86|            76|              79|                  62|                     38|                   91|              80|                 70|                 84|             null|                       34|                      32|                13|                   5|                  7|                     11|                   6|88+3|88+3|88+3|89+0|89+0|89+0|89+0|89+0|87+3|87+3|87+3|87+3|79+3|79+3|79+3|87+3|67+3|63+3|63+3|63+3|67+3|63+3|55+3|55+3|55+3|63+3|\n",
            "|   192448|https://sofifa.co...|    M. ter Stegen|Marc-André ter St...| 28|1992-04-30 00:00:00|      187|       85|    Germany|       FC Barcelona|Spain Primera Div...|          1|     90|       93| 69500000|  260000|              GK|         Right|                       3|        4|          1|Medium/Medium|PLAYER_BODY_TYPE_262|      Yes|         147700000|                null|           GK|                 1|       null|2014-07-01 00:00:00|                2022|            SUB|                  22|null|    null|   null|     null|     null|  null|       88|         85|        88|         90|      45|            88|Rushes Out Of Goa...|                18|                 14|                        11|                     61|               14|             21|         18|               12|                63|                30|                   38|                   50|              37|                86|              43|              66|           79|           35|            78|              10|                  43|                     22|                   11|              70|                 25|                 70|             null|                       13|                      10|                88|                  85|                 88|                     88|                  90|35+3|35+3|35+3|34+0|38+0|38+0|38+0|34+0|42+3|42+3|42+3|39+3|45+3|45+3|45+3|39+3|33+3|41+3|41+3|41+3|33+3|31+3|33+3|33+3|33+3|31+3|\n",
            "|   203376|https://sofifa.co...|      V. van Dijk|     Virgil van Dijk| 28|1991-07-08 00:00:00|      193|       92|Netherlands|          Liverpool|English Premier L...|          1|     90|       91| 75500000|  210000|              CB|         Right|                       3|        3|          2|Medium/Medium|PLAYER_BODY_TYPE_314|      Yes|         145300000|#Tackling, #Tacti...|          LCB|                 4|       null|2018-01-01 00:00:00|                2023|            LCB|                   4|  76|      60|     71|       71|       91|    86|     null|       null|      null|       null|    null|          null|Solid Player, Lea...|                53|                 52|                        87|                     79|               45|             70|         60|               70|                86|                77|                   72|                   79|              61|                89|              53|              81|           90|           75|            92|              64|                  83|                     90|                   47|              65|                 62|                 90|             null|                       93|                      86|                13|                  10|                 13|                     11|                  11|70+3|70+3|70+3|68+0|69+0|69+0|69+0|68+0|70+3|70+3|70+3|70+3|76+3|76+3|76+3|70+3|80+3|85+3|85+3|85+3|80+3|82+3|89+2|89+2|89+2|82+3|\n",
            "|   212831|https://sofifa.co...|          Alisson|Alisson Ramsés Be...| 27|1992-10-02 00:00:00|      191|       91|     Brazil|          Liverpool|English Premier L...|          1|     90|       91| 62500000|  160000|              GK|         Right|                       3|        3|          1|Medium/Medium|PLAYER_BODY_TYPE_312|      Yes|         120300000|                null|           GK|                 1|       null|2018-07-19 00:00:00|                2024|           null|                null|null|    null|   null|     null|     null|  null|       86|         88|        85|         89|      51|            91|GK Long Throw, Ru...|                17|                 13|                        19|                     45|               20|             27|         19|               18|                44|                30|                   56|                   47|              40|                88|              37|              64|           52|           32|            78|              14|                  27|                     11|                   13|              66|                 23|                 65|             null|                       19|                      16|                86|                  88|                 85|                     91|                  89|36+3|36+3|36+3|35+0|38+0|38+0|38+0|35+0|40+3|40+3|40+3|38+3|40+3|40+3|40+3|38+3|31+3|35+3|35+3|35+3|31+3|30+3|30+3|30+3|30+3|30+3|\n",
            "|   208722|https://sofifa.co...|          S. Mané|          Sadio Mané| 28|1992-04-10 00:00:00|      175|       69|    Senegal|          Liverpool|English Premier L...|          1|     90|       90| 78000000|  250000|              LW|         Right|                       3|        4|          4|  High/Medium|PLAYER_BODY_TYPE_313|      Yes|         144300000|#Speedster, #Drib...|           LW|                10|       null|2016-07-01 00:00:00|                2023|           null|                null|  94|      85|     80|       90|       44|    76|     null|       null|      null|       null|    null|          null|Flair, Speed Drib...|                76|                 90|                        84|                     85|               75|             91|         76|               64|                71|                89|                   95|                   93|              93|                93|              86|              84|           86|           88|            70|              78|                  75|                     35|                   92|              85|                 71|                 84|             null|                       42|                      38|                10|                  10|                 15|                      7|                  14|88+2|88+2|88+2|89+0|89+0|89+0|89+0|89+0|88+2|88+2|88+2|88+2|81+3|81+3|81+3|88+2|69+3|65+3|65+3|65+3|69+3|66+3|59+3|59+3|59+3|66+3|\n",
            "|   209331|https://sofifa.co...|         M. Salah| Mohamed Salah Ghaly| 28|1992-06-15 00:00:00|      175|       71|      Egypt|          Liverpool|English Premier L...|          1|     90|       90| 78000000|  250000|              RW|          Left|                       3|        3|          4|  High/Medium|       Mohamed Salah|      Yes|         144300000|#Speedster, #Drib...|           RW|                11|       null|2017-07-01 00:00:00|                2023|             RW|                  10|  93|      86|     81|       90|       45|    75|     null|       null|      null|       null|    null|          null|Finesse Shot, Lon...|                79|                 91|                        59|                     84|               79|             90|         83|               69|                75|                89|                   94|                   92|              91|                92|              91|              80|           69|           85|            75|              84|                  63|                     55|                   91|              84|                 83|                 90|             null|                       43|                      41|                14|                  14|                  9|                     11|                  14|85+3|85+3|85+3|88+0|88+0|88+0|88+0|88+0|88+2|88+2|88+2|87+3|82+3|82+3|82+3|87+3|71+3|68+3|68+3|68+3|71+3|67+3|58+3|58+3|58+3|67+3|\n",
            "|   192119|https://sofifa.co...|      T. Courtois|    Thibaut Courtois| 28|1992-05-11 00:00:00|      199|       96|    Belgium|        Real Madrid|Spain Primera Div...|          1|     89|       90| 56000000|  250000|              GK|          Left|                       4|        3|          1|Medium/Medium|            Courtois|      Yes|         119000000|                null|           GK|                 1|       null|2018-08-09 00:00:00|                2024|             GK|                   1|null|    null|   null|     null|     null|  null|       84|         89|        74|         88|      48|            85|GK Long Throw, Co...|                14|                 14|                        13|                     33|               12|             13|         19|               20|                35|                23|                   42|                   52|              61|                84|              45|              56|           68|           38|            70|              17|                  23|                     15|                   13|              44|                 27|                 66|             null|                       18|                      16|                84|                  89|                 74|                     85|                  88|31+3|31+3|31+3|29+0|31+0|31+0|31+0|29+0|32+3|32+3|32+3|31+3|32+3|32+3|32+3|31+3|29+3|31+3|31+3|31+3|29+3|29+3|29+3|29+3|29+3|29+3|\n",
            "|   153079|https://sofifa.co...|        S. Agüero|Sergio Leonel Agü...| 32|1988-06-02 00:00:00|      173|       70|  Argentina|    Manchester City|English Premier L...|          1|     89|       89| 53000000|  300000|              ST|         Right|                       4|        4|          4|  High/Medium|PLAYER_BODY_TYPE_322|      Yes|          98100000|#Dribbler, #Clini...|          SUB|                10|       null|2011-07-28 00:00:00|                2021|             ST|                   9|  78|      90|     77|       88|       33|    73|     null|       null|      null|       null|    null|          null|Injury Prone, Lea...|                70|                 94|                        78|                     83|               86|             88|         83|               73|                64|                89|                   79|                   78|              84|                92|              91|              89|           78|           78|            74|              84|                  65|                     24|                   94|              83|                 75|                 91|             null|                       29|                      24|                13|                  15|                  6|                     11|                  14|87+2|87+2|87+2|86+0|88+0|88+0|88+0|86+0|86+3|86+3|86+3|84+3|77+3|77+3|77+3|84+3|60+3|58+3|58+3|58+3|60+3|56+3|51+3|51+3|51+3|56+3|\n",
            "|   155862|https://sofifa.co...|     Sergio Ramos| Sergio Ramos García| 34|1986-03-30 00:00:00|      184|       82|      Spain|        Real Madrid|Spain Primera Div...|          1|     89|       89| 24500000|  300000|              CB|         Right|                       4|        3|          3|  High/Medium|PLAYER_BODY_TYPE_352|      Yes|          50200000|#Aerial Threat, #...|          LCB|                 4|       null|2005-08-01 00:00:00|                2021|            RCB|                  15|  71|      70|     76|       73|       88|    85|     null|       null|      null|       null|    null|          null|Dives Into Tackle...|                66|                 65|                        92|                     82|               69|             65|         74|               76|                83|                83|                   72|                   70|              78|                92|              66|              79|           93|           81|            85|              64|                  90|                     88|                   73|              71|                 92|                 88|             null|                       88|                      90|                11|                   8|                  9|                      7|                  11|77+3|77+3|77+3|73+0|75+0|75+0|75+0|73+0|75+3|75+3|75+3|75+3|79+3|79+3|79+3|75+3|81+3|85+3|85+3|85+3|81+3|83+3|88+1|88+1|88+1|83+3|\n",
            "|   165153|https://sofifa.co...|       K. Benzema|       Karim Benzema| 32|1987-12-19 00:00:00|      185|       81|     France|        Real Madrid|Spain Primera Div...|          1|     89|       89| 53000000|  350000|          CF, ST|         Right|                       4|        4|          4|   Medium/Low|              Normal|      Yes|         108700000|            #Poacher|           CF|                 9|       null|2009-07-09 00:00:00|                2022|           null|                null|  74|      85|     81|       86|       40|    76|     null|       null|      null|       null|    null|          null|Leadership, Fines...|                75|                 88|                        91|                     86|               86|             87|         81|               73|                73|                90|                   77|                   72|              79|                91|              69|              84|           79|           78|            80|              79|                  63|                     39|                   90|              87|                 84|                 90|             null|                       24|                      18|                13|                  11|                  5|                      5|                   7|86+3|86+3|86+3|85+0|87+0|87+0|87+0|85+0|86+3|86+3|86+3|84+3|80+3|80+3|80+3|84+3|63+3|63+3|63+3|63+3|63+3|59+3|55+3|55+3|55+3|59+3|\n",
            "|   167495|https://sofifa.co...|         M. Neuer|        Manuel Neuer| 34|1986-03-27 00:00:00|      193|       92|    Germany|  FC Bayern München|German 1. Bundesliga|          1|     89|       89| 29000000|  125000|              GK|         Right|                       5|        4|          1|Medium/Medium|PLAYER_BODY_TYPE_273|      Yes|          47900000|                null|           GK|                 1|       null|2011-07-01 00:00:00|                2023|             GK|                   1|null|    null|   null|     null|     null|  null|       87|         87|        91|         89|      57|            86|Leadership, GK Lo...|                15|                 13|                        25|                     55|               11|             30|         14|               11|                59|                46|                   54|                   60|              51|                86|              35|              68|           77|           43|            80|              16|                  29|                     30|                   12|              70|                 47|                 70|             null|                       10|                      11|                87|                  87|                 91|                     86|                  89|39+3|39+3|39+3|40+0|43+0|43+0|43+0|40+0|46+3|46+3|46+3|43+3|48+3|48+3|48+3|43+3|36+3|42+3|42+3|42+3|36+3|34+3|34+3|34+3|34+3|34+3|\n",
            "|   200145|https://sofifa.co...|         Casemiro|Carlos Henrique V...| 28|1992-02-23 00:00:00|      185|       84|     Brazil|        Real Madrid|Spain Primera Div...|          1|     89|       89| 59500000|  310000|             CDM|         Right|                       3|        3|          2|    High/High|PLAYER_BODY_TYPE_358|      Yes|         122000000|#Engine, #Tacklin...|          CDM|                14|       null|2013-07-11 00:00:00|                2023|           null|                null|  65|      73|     76|       72|       86|    91|     null|       null|      null|       null|    null|          null|Power Free-Kick, ...|                58|                 64|                        80|                     84|               63|             69|         63|               74|                84|                79|                   60|                   69|              61|                87|              66|              88|           87|           90|            91|              81|                  91|                     87|                   72|              80|                 66|                 84|             null|                       88|                      87|                13|                  14|                 16|                     12|                  12|76+3|76+3|76+3|72+0|75+0|75+0|75+0|72+0|76+3|76+3|76+3|74+3|81+3|81+3|81+3|74+3|80+3|86+3|86+3|86+3|80+3|81+3|86+3|86+3|86+3|81+3|\n",
            "|   210257|https://sofifa.co...|          Ederson|Ederson Santana d...| 26|1993-08-17 00:00:00|      188|       86|     Brazil|    Manchester City|English Premier L...|          1|     88|       91| 53500000|  195000|              GK|          Left|                       2|        3|          1|Medium/Medium|PLAYER_BODY_TYPE_325|      Yes|         103000000|                null|           GK|                31|       null|2017-07-01 00:00:00|                2024|           null|                null|null|    null|   null|     null|     null|  null|       86|         82|        93|         88|      63|            86|Long Passer (AI),...|                20|                 14|                        14|                     57|               18|             23|         15|               20|                59|                40|                   64|                   63|              60|                87|              48|              70|           66|           41|            78|              18|                  38|                     27|                   20|              70|                 17|                 70|             null|                       15|                       8|                86|                  82|                 93|                     86|                  88|39+2|39+2|39+2|40+0|43+0|43+0|43+0|40+0|46+2|46+2|46+2|44+2|47+2|47+2|47+2|44+2|37+2|43+2|43+2|43+2|37+2|35+2|35+2|35+2|35+2|35+2|\n",
            "|   202652|https://sofifa.co...|      R. Sterling|Raheem Shaquille ...| 25|1994-12-08 00:00:00|      170|       69|    England|    Manchester City|English Premier L...|          1|     88|       90| 72500000|  270000|          LW, RW|         Right|                       3|        3|          4|  High/Medium|PLAYER_BODY_TYPE_320|      Yes|         139600000|#Speedster, #Drib...|           LW|                 7|       null|2015-07-14 00:00:00|                2023|             LW|                   7|  93|      81|     79|       90|       45|    67|     null|       null|      null|       null|    null|          null|Flair, Speed Drib...|                78|                 85|                        46|                     84|               67|             90|         77|               63|                69|                88|                   96|                   90|              94|                90|              94|              78|           57|           79|            65|              79|                  59|                     30|                   92|              82|                 69|                 80|             null|                       53|                      47|                15|                  12|                 12|                     15|                   9|81+3|81+3|81+3|87+0|87+0|87+0|87+0|87+0|86+3|86+3|86+3|86+3|79+3|79+3|79+3|86+3|69+3|64+3|64+3|64+3|69+3|65+3|55+3|55+3|55+3|65+3|\n",
            "+---------+--------------------+-----------------+--------------------+---+-------------------+---------+---------+-----------+-------------------+--------------------+-----------+-------+---------+---------+--------+----------------+--------------+------------------------+---------+-----------+-------------+--------------------+---------+------------------+--------------------+-------------+------------------+-----------+-------------------+--------------------+---------------+--------------------+----+--------+-------+---------+---------+------+---------+-----------+----------+-----------+--------+--------------+--------------------+------------------+-------------------+--------------------------+-----------------------+-----------------+---------------+-----------+-----------------+------------------+------------------+---------------------+---------------------+----------------+------------------+----------------+----------------+-------------+-------------+--------------+----------------+--------------------+-----------------------+---------------------+----------------+-------------------+-------------------+-----------------+-------------------------+------------------------+------------------+--------------------+-------------------+-----------------------+--------------------+----+----+----+----+----+----+----+----+----+----+----+----+----+----+----+----+----+----+----+----+----+----+----+----+----+----+\n",
            "only showing top 20 rows\n",
            "\n"
          ],
          "name": "stdout"
        }
      ]
    },
    {
      "cell_type": "markdown",
      "metadata": {
        "id": "diElsHZPYRBF"
      },
      "source": [
        "Merging the 2019 and 2021 dataframe to get the overall, potential, value in 2021 for every player."
      ]
    },
    {
      "cell_type": "code",
      "metadata": {
        "colab": {
          "base_uri": "https://localhost:8080/"
        },
        "id": "VSBxUB5AZ581",
        "outputId": "6c293be6-5a60-47da-df6f-3c804f3a784d"
      },
      "source": [
        "# first renaming the id column in fifa 21 database same as the id column in fifa 19 database for merging later\n",
        "df_21 = df_21.withColumnRenamed('sofifa_id','ID')\n",
        "# joining the two dataframes on id and only merging overall, potential and value_eur to the fifa 19 database\n",
        "df = df_19.join(df_21['ID','overall','potential','value_eur'], on=['ID'], how='left_outer')\n",
        "df.show()"
      ],
      "execution_count": 6,
      "outputs": [
        {
          "output_type": "stream",
          "text": [
            "+------+-----------------+---+--------------------+-----------+--------------------+-------+---------+-------------------+--------------------+--------+-------+-------+--------------+------------------------+---------+-----------+--------------+----------+---------+--------+-------------+------------+-----------+--------------------+------+----------+------+----------+--------+---------+---------------+------------+-------+---------+-----+----------+-----------+-----------+------------+-----------+-------+---------+-------+---------+-------+-------+--------+---------+----------+-------------+-----------+------+---------+---------+-------+--------------+-------------+--------+----------+---------+-------------+----------+-----------------+-------+---------+---------+\n",
            "|    ID|             Name|Age|               Photo|Nationality|                Flag|Overall|Potential|               Club|           Club Logo|value(M)|wage(K)|Special|Preferred Foot|International Reputation|Weak Foot|Skill Moves|     Work Rate| Body Type|Real Face|Position|Jersey Number|      Joined|Loaned From|Contract Valid Until|Height|Height(CM)|Weight|Weight(KG)|Crossing|Finishing|HeadingAccuracy|ShortPassing|Volleys|Dribbling|Curve|FKAccuracy|LongPassing|BallControl|Acceleration|SprintSpeed|Agility|Reactions|Balance|ShotPower|Jumping|Stamina|Strength|LongShots|Aggression|Interceptions|Positioning|Vision|Penalties|Composure|Marking|StandingTackle|SlidingTackle|GKDiving|GKHandling|GKKicking|GKPositioning|GKReflexes|Release Clause(M)|overall|potential|value_eur|\n",
            "+------+-----------------+---+--------------------+-----------+--------------------+-------+---------+-------------------+--------------------+--------+-------+-------+--------------+------------------------+---------+-----------+--------------+----------+---------+--------+-------------+------------+-----------+--------------------+------+----------+------+----------+--------+---------+---------------+------------+-------+---------+-----+----------+-----------+-----------+------------+-----------+-------+---------+-------+---------+-------+-------+--------+---------+----------+-------------+-----------+------+---------+---------+-------+--------------+-------------+--------+----------+---------+-------------+----------+-----------------+-------+---------+---------+\n",
            "|158023|         L. Messi| 31|https://cdn.sofif...|  Argentina|https://cdn.sofif...|     94|       94|       FC Barcelona|https://cdn.sofif...|   110.5|    565|   2202|          Left|                       5|        4|          4|Medium/ Medium|     Messi|      Yes|      RF|           10| Jul 1, 2004|       null|                2021|   5.7|   173.736| 159.0| 72.121128|      84|       95|             70|          90|     86|       97|   93|        94|         87|         96|          91|         86|     91|       95|     95|       85|     68|     72|      59|       94|        48|           22|         94|    94|       75|       96|     33|            28|           26|       6|        11|       15|           14|         8|            226.5|     93|       93| 67500000|\n",
            "| 20801|Cristiano Ronaldo| 33|https://cdn.sofif...|   Portugal|https://cdn.sofif...|     94|       94|           Juventus|https://cdn.sofif...|      77|    405|   2228|         Right|                       5|        4|          5|     High/ Low|C. Ronaldo|      Yes|      ST|            7|Jul 10, 2018|       null|                2022|   6.2|   188.976| 183.0| 83.007336|      84|       94|             89|          81|     87|       88|   81|        76|         77|         94|          89|         91|     87|       96|     70|       95|     95|     88|      79|       93|        63|           29|         95|    82|       85|       95|     28|            31|           23|       7|        11|       15|           14|        11|            127.1|     92|       92| 46000000|\n",
            "|190871|        Neymar Jr| 26|https://cdn.sofif...|     Brazil|https://cdn.sofif...|     92|       93|Paris Saint-Germain|https://cdn.sofif...|   118.5|    290|   2143|         Right|                       5|        5|          5|  High/ Medium|    Neymar|      Yes|      LW|           10| Aug 3, 2017|       null|                2022|   5.9|   179.832| 150.0|   68.0388|      79|       87|             62|          84|     84|       96|   88|        87|         78|         95|          94|         90|     96|       94|     84|       80|     61|     81|      49|       82|        56|           36|         89|    87|       81|       94|     27|            24|           33|       9|         9|       15|           15|        11|            228.1|     91|       91| 90000000|\n",
            "|193080|           De Gea| 27|https://cdn.sofif...|      Spain|https://cdn.sofif...|     91|       93|  Manchester United|https://cdn.sofif...|      72|    260|   1471|         Right|                       4|        3|          1|Medium/ Medium|      Lean|      Yes|      GK|            1| Jul 1, 2011|       null|                2020|   6.4|   195.072| 168.0| 76.203456|      17|       13|             21|          50|     13|       18|   21|        19|         51|         42|          57|         58|     60|       90|     43|       31|     67|     43|      64|       12|        38|           30|         12|    68|       40|       68|     15|            21|           13|      90|        85|       87|           88|        94|            138.6|     86|       86| 31500000|\n",
            "|192985|     K. De Bruyne| 27|https://cdn.sofif...|    Belgium|https://cdn.sofif...|     91|       92|    Manchester City|https://cdn.sofif...|     102|    355|   2281|         Right|                       4|        5|          4|    High/ High|    Normal|      Yes|     RCM|            7|Aug 30, 2015|       null|                2023|  5.11|  155.7528| 154.0| 69.853168|      93|       82|             55|          92|     82|       86|   85|        83|         91|         91|          78|         76|     79|       91|     77|       91|     63|     90|      75|       91|        76|           61|         87|    94|       79|       88|     68|            58|           51|      15|        13|        5|           10|        13|            196.4|     91|       91| 87000000|\n",
            "|183277|        E. Hazard| 27|https://cdn.sofif...|    Belgium|https://cdn.sofif...|     91|       91|            Chelsea|https://cdn.sofif...|      93|    340|   2142|         Right|                       4|        4|          4|  High/ Medium|    Normal|      Yes|      LF|           10| Jul 1, 2012|       null|                2020|   5.8|   176.784| 163.0| 73.935496|      81|       84|             61|          89|     80|       95|   83|        79|         83|         94|          94|         88|     95|       90|     94|       82|     56|     83|      66|       80|        54|           41|         87|    89|       86|       91|     34|            27|           22|      11|        12|        6|            8|         8|            172.1|     88|       88| 58000000|\n",
            "|177003|        L. Modri?| 32|https://cdn.sofif...|    Croatia|https://cdn.sofif...|     91|       91|        Real Madrid|https://cdn.sofif...|      67|    420|   2280|         Right|                       4|        4|          4|    High/ High|      Lean|      Yes|     RCM|           10| Aug 1, 2012|       null|                2020|   5.8|   176.784| 146.0| 66.224432|      86|       72|             55|          93|     76|       90|   85|        78|         88|         93|          80|         72|     93|       90|     94|       79|     68|     89|      58|       82|        62|           83|         79|    92|       82|       84|     60|            76|           73|      13|         9|        7|           14|         9|            137.4|     87|       87| 24500000|\n",
            "|176580|       L. Su��rez| 31|https://cdn.sofif...|    Uruguay|https://cdn.sofif...|     91|       91|       FC Barcelona|https://cdn.sofif...|      80|    455|   2346|         Right|                       5|        4|          3|  High/ Medium|    Normal|      Yes|      RS|            9|Jul 11, 2014|       null|                2021|   6.0|    182.88| 190.0|  86.18248|      77|       93|             77|          82|     88|       87|   86|        84|         64|         90|          86|         75|     82|       92|     83|       86|     69|     90|      83|       85|        87|           41|         92|    84|       85|       85|     62|            45|           38|      27|        25|       31|           33|        37|              164|     87|       87| 31500000|\n",
            "|155862|     Sergio Ramos| 32|https://cdn.sofif...|      Spain|https://cdn.sofif...|     91|       91|        Real Madrid|https://cdn.sofif...|      51|    380|   2201|         Right|                       4|        3|          3|  High/ Medium|    Normal|      Yes|     RCB|           15| Aug 1, 2005|       null|                2020|   6.0|    182.88| 181.0| 82.100152|      66|       60|             91|          78|     66|       63|   74|        72|         77|         84|          76|         75|     78|       85|     66|       79|     93|     84|      83|       59|        88|           90|         60|    63|       75|       82|     87|            92|           91|      11|         8|        9|            7|        11|            104.6|     89|       89| 24500000|\n",
            "|200389|         J. Oblak| 25|https://cdn.sofif...|   Slovenia|https://cdn.sofif...|     90|       93|   Atl��tico Madrid|https://cdn.sofif...|      68|     94|   1331|         Right|                       3|        3|          1|Medium/ Medium|    Normal|      Yes|      GK|            1|Jul 16, 2014|       null|                2021|   6.2|   188.976| 192.0| 87.089664|      13|       11|             15|          29|     13|       12|   13|        14|         26|         16|          43|         60|     67|       86|     49|       22|     76|     41|      78|       12|        34|           19|         11|    70|       11|       70|     27|            12|           18|      86|        92|       78|           88|        89|            144.5|     91|       93| 75000000|\n",
            "|188545|   R. Lewandowski| 29|https://cdn.sofif...|     Poland|https://cdn.sofif...|     90|       90| FC Bayern M��nchen|https://cdn.sofif...|      77|    205|   2152|         Right|                       4|        4|          4|  High/ Medium|    Normal|      Yes|      ST|            9| Jul 1, 2014|       null|                2021|   6.0|    182.88| 176.0| 79.832192|      62|       91|             85|          83|     89|       85|   77|        86|         65|         89|          77|         78|     78|       90|     78|       88|     84|     78|      84|       84|        80|           39|         91|    77|       88|       86|     34|            42|           19|      15|         6|       12|            8|        10|            127.1|     91|       91| 80000000|\n",
            "|182521|         T. Kroos| 28|https://cdn.sofif...|    Germany|https://cdn.sofif...|     90|       90|        Real Madrid|https://cdn.sofif...|    76.5|    355|   2190|         Right|                       4|        5|          3|Medium/ Medium|    Normal|      Yes|     LCM|            8|Jul 17, 2014|       null|                2022|   6.0|    182.88| 168.0| 76.203456|      88|       76|             54|          92|     82|       81|   86|        84|         93|         90|          64|         62|     70|       89|     71|       87|     30|     75|      73|       92|        60|           82|         79|    86|       73|       85|     72|            79|           69|      10|        11|       13|            7|        10|            156.8|     88|       88| 55000000|\n",
            "|182493|        D. God��n| 32|https://cdn.sofif...|    Uruguay|https://cdn.sofif...|     90|       90|   Atl��tico Madrid|https://cdn.sofif...|      44|    125|   1946|         Right|                       3|        3|          2|  Medium/ High|      Lean|      Yes|      CB|           10| Aug 4, 2010|       null|                2019|   6.2|   188.976| 172.0| 78.017824|      55|       42|             92|          79|     47|       53|   49|        51|         70|         76|          68|         68|     58|       85|     54|       67|     91|     66|      88|       43|        89|           88|         48|    52|       50|       82|     90|            89|           89|       6|         8|       15|            5|        15|             90.2|     85|       85| 14500000|\n",
            "|168542|      David Silva| 32|https://cdn.sofif...|      Spain|https://cdn.sofif...|     90|       90|    Manchester City|https://cdn.sofif...|      60|    285|   2115|          Left|                       4|        2|          4|  High/ Medium|    Normal|      Yes|     LCM|           21|Jul 14, 2010|       null|                2020|   5.8|   176.784| 148.0| 67.131616|      84|       76|             54|          93|     82|       89|   82|        77|         87|         94|          70|         64|     92|       90|     90|       72|     64|     78|      52|       75|        57|           50|         89|    92|       75|       93|     59|            53|           29|       6|        15|        7|            6|        12|              111|     86|       86| 22500000|\n",
            "|215914|        N. Kant��| 27|https://cdn.sofif...|     France|https://cdn.sofif...|     89|       90|            Chelsea|https://cdn.sofif...|      63|    225|   2189|         Right|                       3|        3|          2|  Medium/ High|      Lean|      Yes|     LDM|           13|Jul 16, 2016|       null|                2023|   5.6|   170.688| 159.0| 72.121128|      68|       65|             54|          86|     56|       79|   49|        49|         81|         80|          82|         78|     82|       93|     92|       71|     77|     96|      76|       69|        90|           92|         71|    79|       54|       85|     90|            91|           85|      15|        12|       10|            7|        10|            121.3|     88|       88| 51000000|\n",
            "|211110|        P. Dybala| 24|https://cdn.sofif...|  Argentina|https://cdn.sofif...|     89|       94|           Juventus|https://cdn.sofif...|      89|    205|   2092|          Left|                       3|        3|          4|  High/ Medium|    Normal|      Yes|      LF|           21| Jul 1, 2015|       null|                2022|   5.1|   155.448| 165.0|  74.84268|      82|       84|             68|          87|     88|       92|   88|        88|         75|         92|          87|         83|     91|       86|     85|       82|     75|     80|      65|       88|        48|           32|         84|    87|       86|       84|     23|            20|           20|       5|         4|        4|            5|         8|            153.5|     88|       89| 71000000|\n",
            "|202126|          H. Kane| 24|https://cdn.sofif...|    England|https://cdn.sofif...|     89|       91|  Tottenham Hotspur|https://cdn.sofif...|    83.5|    205|   2165|         Right|                       3|        4|          3|    High/ High|    Normal|      Yes|      ST|            9| Jul 1, 2010|       null|                2024|   6.2|   188.976| 196.0| 88.904032|      75|       94|             85|          80|     84|       80|   78|        68|         82|         84|          68|         72|     71|       91|     71|       88|     78|     89|      84|       85|        76|           35|         93|    80|       90|       89|     56|            36|           38|       8|        10|       11|           14|        11|            160.7|     88|       89| 71000000|\n",
            "|194765|     A. Griezmann| 27|https://cdn.sofif...|     France|https://cdn.sofif...|     89|       90|   Atl��tico Madrid|https://cdn.sofif...|      78|    145|   2246|          Left|                       4|        3|          4|    High/ High|      Lean|      Yes|     CAM|            7|Jul 28, 2014|       null|                2023|   5.9|   179.832| 161.0| 73.028312|      82|       90|             84|          83|     87|       88|   84|        78|         76|         90|          88|         85|     90|       90|     80|       80|     90|     83|      62|       82|        69|           35|         91|    83|       79|       87|     59|            47|           48|      14|         8|       14|           13|        14|            165.8|     87|       87| 50500000|\n",
            "|192448|    M. ter Stegen| 26|https://cdn.sofif...|    Germany|https://cdn.sofif...|     89|       92|       FC Barcelona|https://cdn.sofif...|      58|    240|   1328|         Right|                       3|        4|          1|Medium/ Medium|    Normal|      Yes|      GK|           22| Jul 1, 2014|       null|                2022|   6.2|   188.976| 187.0| 84.821704|      15|       14|             11|          36|     14|       17|   18|        12|         42|         18|          38|         50|     37|       85|     43|       22|     79|     35|      79|       10|        43|           22|         11|    69|       25|       69|     25|            13|           10|      87|        85|       88|           85|        90|            123.3|     90|       93| 69500000|\n",
            "|192119|      T. Courtois| 26|https://cdn.sofif...|    Belgium|https://cdn.sofif...|     89|       90|        Real Madrid|https://cdn.sofif...|    53.5|    240|   1311|          Left|                       4|        2|          1|Medium/ Medium|  Courtois|      Yes|      GK|            1| Aug 9, 2018|       null|                2024|   6.6|   201.168| 212.0| 96.161504|      14|       14|             13|          33|     12|       13|   19|        20|         35|         23|          46|         52|     61|       84|     45|       36|     68|     38|      70|       17|        23|           15|         13|    44|       27|       66|     20|            18|           16|      85|        91|       72|           86|        88|            113.7|     89|       90| 56000000|\n",
            "+------+-----------------+---+--------------------+-----------+--------------------+-------+---------+-------------------+--------------------+--------+-------+-------+--------------+------------------------+---------+-----------+--------------+----------+---------+--------+-------------+------------+-----------+--------------------+------+----------+------+----------+--------+---------+---------------+------------+-------+---------+-----+----------+-----------+-----------+------------+-----------+-------+---------+-------+---------+-------+-------+--------+---------+----------+-------------+-----------+------+---------+---------+-------+--------------+-------------+--------+----------+---------+-------------+----------+-----------------+-------+---------+---------+\n",
            "only showing top 20 rows\n",
            "\n"
          ],
          "name": "stdout"
        }
      ]
    },
    {
      "cell_type": "code",
      "metadata": {
        "colab": {
          "base_uri": "https://localhost:8080/"
        },
        "id": "V2_81--rQpLs",
        "outputId": "b6dde5bc-7704-4fa4-e98e-c46c6e91d13a"
      },
      "source": [
        "df.printSchema()"
      ],
      "execution_count": 7,
      "outputs": [
        {
          "output_type": "stream",
          "text": [
            "root\n",
            " |-- ID: integer (nullable = true)\n",
            " |-- Name: string (nullable = true)\n",
            " |-- Age: integer (nullable = true)\n",
            " |-- Photo: string (nullable = true)\n",
            " |-- Nationality: string (nullable = true)\n",
            " |-- Flag: string (nullable = true)\n",
            " |-- Overall: integer (nullable = true)\n",
            " |-- Potential: integer (nullable = true)\n",
            " |-- Club: string (nullable = true)\n",
            " |-- Club Logo: string (nullable = true)\n",
            " |-- value(M): string (nullable = true)\n",
            " |-- wage(K): integer (nullable = true)\n",
            " |-- Special: integer (nullable = true)\n",
            " |-- Preferred Foot: string (nullable = true)\n",
            " |-- International Reputation: integer (nullable = true)\n",
            " |-- Weak Foot: integer (nullable = true)\n",
            " |-- Skill Moves: integer (nullable = true)\n",
            " |-- Work Rate: string (nullable = true)\n",
            " |-- Body Type: string (nullable = true)\n",
            " |-- Real Face: string (nullable = true)\n",
            " |-- Position: string (nullable = true)\n",
            " |-- Jersey Number: integer (nullable = true)\n",
            " |-- Joined: string (nullable = true)\n",
            " |-- Loaned From: string (nullable = true)\n",
            " |-- Contract Valid Until: string (nullable = true)\n",
            " |-- Height: double (nullable = true)\n",
            " |-- Height(CM): double (nullable = true)\n",
            " |-- Weight: double (nullable = true)\n",
            " |-- Weight(KG): double (nullable = true)\n",
            " |-- Crossing: integer (nullable = true)\n",
            " |-- Finishing: integer (nullable = true)\n",
            " |-- HeadingAccuracy: integer (nullable = true)\n",
            " |-- ShortPassing: integer (nullable = true)\n",
            " |-- Volleys: integer (nullable = true)\n",
            " |-- Dribbling: integer (nullable = true)\n",
            " |-- Curve: integer (nullable = true)\n",
            " |-- FKAccuracy: integer (nullable = true)\n",
            " |-- LongPassing: integer (nullable = true)\n",
            " |-- BallControl: integer (nullable = true)\n",
            " |-- Acceleration: integer (nullable = true)\n",
            " |-- SprintSpeed: integer (nullable = true)\n",
            " |-- Agility: integer (nullable = true)\n",
            " |-- Reactions: integer (nullable = true)\n",
            " |-- Balance: integer (nullable = true)\n",
            " |-- ShotPower: integer (nullable = true)\n",
            " |-- Jumping: integer (nullable = true)\n",
            " |-- Stamina: integer (nullable = true)\n",
            " |-- Strength: integer (nullable = true)\n",
            " |-- LongShots: integer (nullable = true)\n",
            " |-- Aggression: integer (nullable = true)\n",
            " |-- Interceptions: integer (nullable = true)\n",
            " |-- Positioning: integer (nullable = true)\n",
            " |-- Vision: integer (nullable = true)\n",
            " |-- Penalties: integer (nullable = true)\n",
            " |-- Composure: integer (nullable = true)\n",
            " |-- Marking: integer (nullable = true)\n",
            " |-- StandingTackle: integer (nullable = true)\n",
            " |-- SlidingTackle: integer (nullable = true)\n",
            " |-- GKDiving: integer (nullable = true)\n",
            " |-- GKHandling: integer (nullable = true)\n",
            " |-- GKKicking: integer (nullable = true)\n",
            " |-- GKPositioning: integer (nullable = true)\n",
            " |-- GKReflexes: integer (nullable = true)\n",
            " |-- Release Clause(M): string (nullable = true)\n",
            " |-- overall: integer (nullable = true)\n",
            " |-- potential: integer (nullable = true)\n",
            " |-- value_eur: integer (nullable = true)\n",
            "\n"
          ],
          "name": "stdout"
        }
      ]
    },
    {
      "cell_type": "markdown",
      "metadata": {
        "id": "mFlQjTxE4ZWK"
      },
      "source": [
        "Getting the summary statistics:"
      ]
    },
    {
      "cell_type": "code",
      "metadata": {
        "colab": {
          "base_uri": "https://localhost:8080/"
        },
        "id": "o9baiYstDKzd",
        "outputId": "0ec37a82-83c0-470a-f306-dd9da71f9c2b"
      },
      "source": [
        "# while taking summary statistics we'll only use players that are present in both FIFA 19 and FIFA 21 databases as we are \n",
        "# performing comparison between these two years.\n",
        "temp_df = df.na.drop(subset=['overall','value_eur'])\n",
        "temp_df.describe().show()"
      ],
      "execution_count": 8,
      "outputs": [
        {
          "output_type": "stream",
          "text": [
            "+-------+-----------------+---------+------------------+--------------------+-----------+--------------------+-----------------+-----------------+--------------------+--------------------+-----------------+------------------+------------------+--------------+------------------------+------------------+------------------+--------------+---------+---------+--------+------------------+-----------+--------------------+--------------------+-------------------+------------------+------------------+-----------------+------------------+-----------------+------------------+-----------------+------------------+------------------+------------------+------------------+------------------+------------------+------------------+------------------+------------------+-----------------+------------------+------------------+------------------+------------------+-----------------+------------------+------------------+------------------+-----------------+------------------+------------------+------------------+------------------+------------------+------------------+-----------------+------------------+-----------------+------------------+------------------+------------------+-----------------+------------------+------------------+\n",
            "|summary|               ID|     Name|               Age|               Photo|Nationality|                Flag|          Overall|        Potential|                Club|           Club Logo|         value(M)|           wage(K)|           Special|Preferred Foot|International Reputation|         Weak Foot|       Skill Moves|     Work Rate|Body Type|Real Face|Position|     Jersey Number|     Joined|         Loaned From|Contract Valid Until|             Height|        Height(CM)|            Weight|       Weight(KG)|          Crossing|        Finishing|   HeadingAccuracy|     ShortPassing|           Volleys|         Dribbling|             Curve|        FKAccuracy|       LongPassing|       BallControl|      Acceleration|       SprintSpeed|           Agility|        Reactions|           Balance|         ShotPower|           Jumping|           Stamina|         Strength|         LongShots|        Aggression|     Interceptions|      Positioning|            Vision|         Penalties|         Composure|           Marking|    StandingTackle|     SlidingTackle|         GKDiving|        GKHandling|        GKKicking|     GKPositioning|        GKReflexes| Release Clause(M)|          overall|         potential|         value_eur|\n",
            "+-------+-----------------+---------+------------------+--------------------+-----------+--------------------+-----------------+-----------------+--------------------+--------------------+-----------------+------------------+------------------+--------------+------------------------+------------------+------------------+--------------+---------+---------+--------+------------------+-----------+--------------------+--------------------+-------------------+------------------+------------------+-----------------+------------------+-----------------+------------------+-----------------+------------------+------------------+------------------+------------------+------------------+------------------+------------------+------------------+------------------+-----------------+------------------+------------------+------------------+------------------+-----------------+------------------+------------------+------------------+-----------------+------------------+------------------+------------------+------------------+------------------+------------------+-----------------+------------------+-----------------+------------------+------------------+------------------+-----------------+------------------+------------------+\n",
            "|  count|            11184|    11184|             11184|               11184|      11184|               11184|            11184|            11184|               11074|               11184|            11071|             11074|             11184|         11163|                   11163|             11163|             11163|         11163|    11163|    11163|   11160|             11160|      10177|                 876|               11053|              11163|             11184|             11163|            11184|             11163|            11163|             11163|            11163|             11163|             11163|             11163|             11163|             11163|             11163|             11163|             11163|             11163|            11163|             11163|             11163|             11163|             11163|            11163|             11163|             11163|             11163|            11163|             11163|             11163|             11163|             11163|             11163|             11163|            11163|             11163|            11163|             11163|             11163|             10174|            11184|             11184|             11184|\n",
            "|   mean|215398.9941881259|     null|24.765647353361945|                null|       null|                null|67.85675965665236|73.04640557939913|                null|                null|6.322367941712124|13.197218710493047|1633.7288984263232|          null|       1.142255666039595|2.9836961390307266|2.4405625727850935|          null|     null|     null|    null|18.650358422939068|       null|                null|  2020.4246831089713|  5.807181761175242|176.67054484978098|166.38609692734929|75.32969115307259| 51.12899758129535|46.84502373913823| 53.28083848427842|60.35214548060557| 44.09056705186778| 57.06324464749619|48.617755083758844| 43.86759831586491| 54.23443518767356|  60.1521096479441| 65.95440293827824| 66.19654214816805| 64.58899937292843|63.47800770402222|  64.3089671235331| 56.85290692466183| 65.66944369793066| 64.98486070052853|66.12102481411807|48.521275642748364| 57.03153274209442| 48.00770402221625| 51.3714055361462|54.991310579593296| 49.14637642210875| 60.26480336827018|48.431156499148976|48.978500403117444|46.807489026247424|16.73098629400699|16.483382603242855|16.30054644808743|16.516169488488757|16.846815372211772| 9.271652628521664|68.63161659513591|  72.1444921316166|3280964.3240343346|\n",
            "| stddev|25720.63554278423|     null| 4.276824094202578|                null|       null|                null|6.818809094590622|6.091370484199351|                null|                null| 8.76294070238198| 26.72745815198947|272.43563262998003|          null|      0.4443697031819299| 0.667213643167124|0.7896091713794327|          null|     null|     null|    null|15.367073226917952|       null|                null|  1.2677404472090492|0.45174391208311127|15.746625778057533|15.743059671248801|7.846852300156961|18.630644105677522|19.86750119093551|17.607464524052258|14.69141680226057|18.028077994988347|19.116555492479538| 18.74733203485843|17.814967842382586|15.336532697552876|16.756553721436944|14.654828626399105|14.277846691893808|14.696927268218536|   8.914520460939|14.113172274235934|17.363000680042326|11.806244446215374|15.671622534477395|12.36884425245799|19.519826447301593|17.380716670891367|20.995382077418515|19.80674448505211| 14.19383614504172|15.738742363737504|11.266299948755742|20.256662205641298|22.035731193026425|21.685704527551014|18.13301494862668|17.272357074008017|16.85456585418888| 17.47231621814401|18.450619953288182|15.728462313216914|6.087635805443543|6.0082397497879585| 6322167.097237924|\n",
            "|    min|               41|     ?der|                16|https://cdn.sofif...|Afghanistan|https://cdn.sofif...|               46|               51| SSV Jahn Regensburg|https://cdn.sofif...|                1|                 1|               755|          Left|                       1|                 1|                 1|    High/ High|Akinfenwa|       No|     CAM|                 1|Apr 1, 2008|          1. FC K?ln|                2018|                5.1|               0.0|             110.0|              0.0|                 6|                2|                 4|                7|                 4|                 4|                 6|                 6|                 9|                 5|                13|                12|                14|               21|                17|                 2|                15|                14|               24|                 4|                11|                 3|                2|                10|                 8|                 3|                 5|                 2|                 4|                1|                 1|                1|                 1|                 1|                 1|               48|                51|                 0|\n",
            "|    max|           246620|Z�� Lu��s|                41|https://cdn.sofif...|   Zimbabwe|https://cdn.sofif...|               94|               95|  Zag??bie Sosnowiec|https://cdn.sofif...|             975K|               565|              2346|         Right|                       5|                 5|                 5|Medium/ Medium|   Stocky|      Yes|      ST|                99|Sep 9, 2018|Wolverhampton Wan...|        Oct 14, 2019|                6.9|           210.312|             243.0|       110.222856|                93|               95|                94|               93|                90|                97|                94|                94|                93|                96|                97|                96|                96|               96|                96|                95|                95|                96|               97|                94|                95|                92|               95|                94|                91|                96|                93|                93|                91|               90|                92|               91|                90|                94|               99K|               93|                95|         105500000|\n",
            "+-------+-----------------+---------+------------------+--------------------+-----------+--------------------+-----------------+-----------------+--------------------+--------------------+-----------------+------------------+------------------+--------------+------------------------+------------------+------------------+--------------+---------+---------+--------+------------------+-----------+--------------------+--------------------+-------------------+------------------+------------------+-----------------+------------------+-----------------+------------------+-----------------+------------------+------------------+------------------+------------------+------------------+------------------+------------------+------------------+------------------+-----------------+------------------+------------------+------------------+------------------+-----------------+------------------+------------------+------------------+-----------------+------------------+------------------+------------------+------------------+------------------+------------------+-----------------+------------------+-----------------+------------------+------------------+------------------+-----------------+------------------+------------------+\n",
            "\n"
          ],
          "name": "stdout"
        }
      ]
    },
    {
      "cell_type": "markdown",
      "metadata": {
        "id": "fK4y1JefBzXe"
      },
      "source": [
        "From the above statistics, it is seen that the average overall in 2019 is 67.86 and in 2021, it has increased to 68.63. On the other hand, the average potential has decreased from 73.05 to 72.14. In two years, the set of  players started to meet their potential while their potential to grow has decreased."
      ]
    },
    {
      "cell_type": "markdown",
      "metadata": {
        "id": "EGN1Y6iGxW4z"
      },
      "source": [
        "Checking the statistics (min, mean and max) for Age, Overall:"
      ]
    },
    {
      "cell_type": "code",
      "metadata": {
        "colab": {
          "base_uri": "https://localhost:8080/"
        },
        "id": "mdWVric-aY-h",
        "outputId": "46beb3ba-311d-4362-b101-1401b43d5b0a"
      },
      "source": [
        "# use aggregate to calculate min, max and mean\n",
        "\n",
        "# calculating the minimum age\n",
        "min_age = df.agg({'Age':'min'}).show()\n",
        "\n",
        "# calculating the maximum age\n",
        "max_age = df.agg({'Age':'max'}).show()\n",
        "\n",
        "# calculating the mean age\n",
        "mean_age = df.agg({'Age':'avg'}).show()"
      ],
      "execution_count": 9,
      "outputs": [
        {
          "output_type": "stream",
          "text": [
            "+--------+\n",
            "|min(Age)|\n",
            "+--------+\n",
            "|      16|\n",
            "+--------+\n",
            "\n",
            "+--------+\n",
            "|max(Age)|\n",
            "+--------+\n",
            "|      45|\n",
            "+--------+\n",
            "\n",
            "+------------------+\n",
            "|          avg(Age)|\n",
            "+------------------+\n",
            "|25.122205745043114|\n",
            "+------------------+\n",
            "\n"
          ],
          "name": "stdout"
        }
      ]
    },
    {
      "cell_type": "code",
      "metadata": {
        "colab": {
          "base_uri": "https://localhost:8080/"
        },
        "id": "-KMLB3sAfkpK",
        "outputId": "97df95ca-d86f-44c7-86c6-5a276b33a90e"
      },
      "source": [
        "# calculating the minimum overall\n",
        "min_overall = df.agg({'Overall':'min'}).show()\n",
        "\n",
        "# calculating the maximum overall\n",
        "max_overall = df.agg({'Overall':'max'}).show()\n",
        "\n",
        "# calculating the mean overall\n",
        "mean_overall = df.agg({'Overall':'avg'}).show()"
      ],
      "execution_count": 10,
      "outputs": [
        {
          "output_type": "stream",
          "text": [
            "+------------+\n",
            "|min(Overall)|\n",
            "+------------+\n",
            "|          46|\n",
            "+------------+\n",
            "\n",
            "+------------+\n",
            "|max(Overall)|\n",
            "+------------+\n",
            "|          94|\n",
            "+------------+\n",
            "\n",
            "+-----------------+\n",
            "|     avg(Overall)|\n",
            "+-----------------+\n",
            "|66.23869940132916|\n",
            "+-----------------+\n",
            "\n"
          ],
          "name": "stdout"
        }
      ]
    },
    {
      "cell_type": "markdown",
      "metadata": {
        "id": "xzClAtzpxW41"
      },
      "source": [
        "Finding the position having highest average overall:"
      ]
    },
    {
      "cell_type": "code",
      "metadata": {
        "colab": {
          "base_uri": "https://localhost:8080/"
        },
        "id": "S4SMaNc4gX3E",
        "outputId": "c0c63110-5131-4081-c69a-124c1905c99f"
      },
      "source": [
        "# grouping the data first by Position, aggregating the Overall and sorting the data to get the position \n",
        "# with highest overall \n",
        "df_overall_position = df.groupby('Position').agg({'Overall':'AVG'})\n",
        "df_overall_position.orderBy(df_overall_position['avg(Overall)'].desc()).take(1)\n",
        "#df_overall_position.sort('avg(Overall)',ascending=False).first()"
      ],
      "execution_count": 11,
      "outputs": [
        {
          "output_type": "execute_result",
          "data": {
            "text/plain": [
              "[Row(Position='LF', avg(Overall)=73.86666666666666)]"
            ]
          },
          "metadata": {
            "tags": []
          },
          "execution_count": 11
        }
      ]
    },
    {
      "cell_type": "markdown",
      "metadata": {
        "id": "Ach68f5LxW41"
      },
      "source": [
        "Finding the top 3 countries with highest Avg Overall:"
      ]
    },
    {
      "cell_type": "code",
      "metadata": {
        "colab": {
          "base_uri": "https://localhost:8080/"
        },
        "id": "B6PYyigEjZwI",
        "outputId": "1fd1c532-41b0-419d-c3c1-056477c0b3a2"
      },
      "source": [
        "# grouping first by Countries and aggregating the Overall and sorting to get the top 3 countries with \n",
        "# highest average overall\n",
        "df_overall_nationality = df.groupby('Nationality').agg({'Overall':'AVG'})\n",
        "df_overall_nationality.orderBy(df_overall_nationality['avg(Overall)'].desc()).take(3)"
      ],
      "execution_count": 12,
      "outputs": [
        {
          "output_type": "execute_result",
          "data": {
            "text/plain": [
              "[Row(Nationality='United Arab Emirates', avg(Overall)=77.0),\n",
              " Row(Nationality='Central African Rep.', avg(Overall)=73.33333333333333),\n",
              " Row(Nationality='Israel', avg(Overall)=72.14285714285714)]"
            ]
          },
          "metadata": {
            "tags": []
          },
          "execution_count": 12
        }
      ]
    },
    {
      "cell_type": "markdown",
      "metadata": {
        "id": "OfLXAH39xW42"
      },
      "source": [
        "Finding the average potentials on country by position:"
      ]
    },
    {
      "cell_type": "code",
      "metadata": {
        "colab": {
          "base_uri": "https://localhost:8080/"
        },
        "id": "R1RsTYgImPFD",
        "outputId": "99a2382b-04fc-4d1d-edae-8c38013ee5b7"
      },
      "source": [
        "# creating a pivot table in which the value of column Nationality is transposed to multiple columns \n",
        "pivot_df = df.groupBy('Position').pivot('Nationality').avg('Potential')\n",
        "pivot_df.show(pivot_df.count())"
      ],
      "execution_count": 13,
      "outputs": [
        {
          "output_type": "stream",
          "text": [
            "+--------+-----------+-----------------+-----------------+-------+-----------------+-----------------+-----------------+-------+-----------------+-----------------+----------+--------+-------+-----------------+------+-----------------+-------+-------+------------------+--------+-----------------+--------+-----------------+-------+-----------------+-----------------+----------+--------------------+----+------------------+------------------+-----------------+-------+-----------------+-----------------+-----------------+----+-------+-----------------+-----------------+-----------------+-----------------+------------------+-----------------+-----------------+-----------+-----------------+-----------------+-------+-----------------+--------+-----------------+-------------+----+-----------------+-----------------+-----+------+-----------------+-----------------+-----------------+-----------------+-------+----+---------+------+-----------------+------+-----------------+--------+---------+-----------------+-----------------+------------------+---------+-----------------+-----------------+------+-----------------+-----------------+-----------------+-----------------+------+----------+-----+---------+-----------------+-----------------+------+------+-------+-------+-----+-------------+---------+----------+-----------------+-----------------+-----+----------+---------+-----------------+-------+-----------------+----------+-----------------+----------+-------+-----------------+-------------+-----------------+---------+-----+-----------------+-----------------+-----------------+----+---------+-----------------+-----------------+----+-----------+-----------------+-----------------+-----------+-----+-------------------+-----------------+-----------------+------+---------------------+------------------+-----------------+-----------------+-----------------+------------+-----------------+-----------------+-----------------+-----------+-----------------+--------------+--------+-----+--------+-----------------+-----------------+-----+--------+--------+-----------------+-----------------+-------+-----------------+------+-----------------+--------------------+-----------------+-----------------+----------+-----------------+-----------------+------+-----------------+\n",
            "|Position|Afghanistan|          Albania|          Algeria|Andorra|           Angola|Antigua & Barbuda|        Argentina|Armenia|        Australia|          Austria|Azerbaijan|Barbados|Belarus|          Belgium|Belize|            Benin|Bermuda|Bolivia|Bosnia Herzegovina|Botswana|           Brazil|Bulgaria|     Burkina Faso|Burundi|         Cameroon|           Canada|Cape Verde|Central African Rep.|Chad|             Chile|          China PR|         Colombia|Comoros|            Congo|       Costa Rica|          Croatia|Cuba|Curacao|           Cyprus|   Czech Republic|         DR Congo|          Denmark|Dominican Republic|          Ecuador|            Egypt|El Salvador|          England|Equatorial Guinea|Eritrea|          Estonia|Ethiopia|    FYR Macedonia|Faroe Islands|Fiji|          Finland|           France|Gabon|Gambia|          Georgia|          Germany|            Ghana|           Greece|Grenada|Guam|Guatemala|Guinea|    Guinea Bissau|Guyana|            Haiti|Honduras|Hong Kong|          Hungary|          Iceland|             India|Indonesia|             Iran|             Iraq|Israel|            Italy|      Ivory Coast|          Jamaica|            Japan|Jordan|Kazakhstan|Kenya|Korea DPR|   Korea Republic|           Kosovo|Kuwait|Latvia|Lebanon|Liberia|Libya|Liechtenstein|Lithuania|Luxembourg|       Madagascar|             Mali|Malta|Mauritania|Mauritius|           Mexico|Moldova|       Montenegro|Montserrat|          Morocco|Mozambique|Namibia|      Netherlands|New Caledonia|      New Zealand|Nicaragua|Niger|          Nigeria| Northern Ireland|           Norway|Oman|Palestine|           Panama|         Paraguay|Peru|Philippines|           Poland|         Portugal|Puerto Rico|Qatar|Republic of Ireland|          Romania|           Russia|Rwanda|S?o Tom�� & Pr��ncipe|      Saudi Arabia|         Scotland|          Senegal|           Serbia|Sierra Leone|         Slovakia|         Slovenia|     South Africa|South Sudan|            Spain|St Kitts Nevis|St Lucia|Sudan|Suriname|           Sweden|      Switzerland|Syria|Tanzania|Thailand|             Togo|Trinidad & Tobago|Tunisia|           Turkey|Uganda|          Ukraine|United Arab Emirates|    United States|          Uruguay|Uzbekistan|        Venezuela|            Wales|Zambia|         Zimbabwe|\n",
            "+--------+-----------+-----------------+-----------------+-------+-----------------+-----------------+-----------------+-------+-----------------+-----------------+----------+--------+-------+-----------------+------+-----------------+-------+-------+------------------+--------+-----------------+--------+-----------------+-------+-----------------+-----------------+----------+--------------------+----+------------------+------------------+-----------------+-------+-----------------+-----------------+-----------------+----+-------+-----------------+-----------------+-----------------+-----------------+------------------+-----------------+-----------------+-----------+-----------------+-----------------+-------+-----------------+--------+-----------------+-------------+----+-----------------+-----------------+-----+------+-----------------+-----------------+-----------------+-----------------+-------+----+---------+------+-----------------+------+-----------------+--------+---------+-----------------+-----------------+------------------+---------+-----------------+-----------------+------+-----------------+-----------------+-----------------+-----------------+------+----------+-----+---------+-----------------+-----------------+------+------+-------+-------+-----+-------------+---------+----------+-----------------+-----------------+-----+----------+---------+-----------------+-------+-----------------+----------+-----------------+----------+-------+-----------------+-------------+-----------------+---------+-----+-----------------+-----------------+-----------------+----+---------+-----------------+-----------------+----+-----------+-----------------+-----------------+-----------+-----+-------------------+-----------------+-----------------+------+---------------------+------------------+-----------------+-----------------+-----------------+------------+-----------------+-----------------+-----------------+-----------+-----------------+--------------+--------+-----+--------+-----------------+-----------------+-----+--------+--------+-----------------+-----------------+-------+-----------------+------+-----------------+--------------------+-----------------+-----------------+----------+-----------------+-----------------+------+-----------------+\n",
            "|      RF|       null|             null|             null|   null|             null|             null|             87.0|   null|             null|             66.0|      null|    null|   null|             82.0|  null|             null|   null|   null|              null|    null|             null|    null|             null|   null|             null|             null|      null|                null|null|              null|              72.0|             null|   null|             null|             null|             null|null|   null|             null|             null|             null|             null|              null|             null|             null|       null|             null|             null|   null|             null|    null|             null|         null|null|             69.0|             null| null|  null|             null|             78.0|             null|             null|   null|null|     null|  null|             null|  null|             null|    null|     null|             null|             null|              null|     null|             null|             null|  null|             75.0|             null|             null|68.33333333333333|  null|      null| null|     null|             null|             null|  null|  null|   null|   null| null|         null|     null|      null|             null|             null| null|      null|     null|             null|   null|             null|      null|             null|      null|   null|             null|         null|             null|     null| null|             null|             null|             null|null|     null|             null|             null|null|       null|             null|             null|       null| null|               null|             null|             null|  null|                 null|              null|             null|             null|             null|        null|             null|             null|             null|       null|             81.0|          null|    null| null|    null|             75.0|             null| 73.0|    null|    null|             null|             null|   null|             null|  null|             null|                null|             null|             75.0|      null|             null|             null|  null|             null|\n",
            "|     LWB|       null|             null|             null|   null|             null|             null|            75.75|   null|             71.0|             69.0|      null|    null|   null|             null|  null|             null|   null|   null|              null|    null|             null|    null|             null|   null|             75.0|             null|      null|                null|null|              null|              60.5|             75.5|   69.0|             null|             null|             null|null|   null|             null|             null|             null|            72.75|              null|             null|             null|       null|             69.8|             null|   null|             null|    null|             null|         64.0|null|             62.0|            74.25| null|  null|             null|76.14285714285714|             71.0|             null|   null|null|     null|  null|             null|  null|             null|    null|     null|             null|             70.0|              null|     null|             null|             null|  null|             67.0|             null|             null|             66.0|  null|      null| null|     null|             null|             null|  null|  null|   null|   null| null|         null|     null|      null|             null|             null| null|      null|     null|             null|   null|             null|      null|             null|      null|   null|             72.0|         null|             73.0|     null| null|             72.0|             67.0|             77.0|null|     null|             null|             null|68.0|       null|             null|             82.0|       null| null|               70.0|             null|             76.0|  null|                 null|              67.0|             66.0|             null|             null|        null|             null|             null|             null|       null|            77.25|          null|    null| null|    null|66.77777777777777|             68.0| null|    null|    null|             null|             null|   null|             null|  null|             null|                null|             null|             null|      null|             null|             64.0|  null|             null|\n",
            "|     LCM|       null|             71.0|             76.0|   null|             null|             null|            74.52|   null|             70.0|72.44444444444444|      null|    null|   75.0|78.14285714285714|  null|             null|   null|   68.0|             75.75|    null|             76.5|    null|             null|   null|             69.0|             73.0|      null|                null|null|              71.8|              68.0|            71.25|   null|             69.0|             null|85.33333333333333|null|   69.0|             null|72.33333333333333|             null|72.45454545454545|              null|             74.0|             null|       null|70.75757575757575|             80.0|   null|             null|    null|             83.0|         68.0|null|67.33333333333333|75.29411764705883| 78.5|  null|             null|73.11764705882354|             76.0|             null|   null|null|     null|  null|             null|  null|             null|    null|     null|             78.0|             72.0|              71.0|     null|             null|             74.0|  72.0|73.42105263157895|             73.6|             null|65.41666666666667|  null|      null| null|     null|67.54545454545455|             77.0|  null|  null|   null|   null| null|         null|     null|      null|             null|             null| null|      null|     null|             77.5|   null|             null|      null|             80.0|      null|   null|             73.1|         null|             66.0|     null| null|             73.0|             67.0|71.36363636363636|null|     null|             null|             75.5|null|       null|             75.2|77.44444444444444|       null| null|               64.8|             null|             75.0|  71.0|                 null|61.333333333333336|70.57142857142857|             73.2|             75.0|        null|             87.0|             83.0|             72.0|       null|75.28571428571429|          72.0|    null| null|    67.0|          70.3125|             74.5| 72.0|    null|    null|             null|             null|   70.0|             69.0|  74.0|             null|                null|             79.0|             78.0|      null|             null|             64.0|  null|             83.0|\n",
            "|      LM|       70.0|73.66666666666667|74.66666666666667|   null|             72.0|             65.0|         74.40625|   69.5|69.54545454545455|69.29411764705883|      68.0|    null|   null|75.31818181818181|  null|             null|   63.0|   70.0| 72.33333333333333|    null|74.43333333333334|    71.0|             null|   null|71.16666666666667|67.85714285714286|      80.0|                null|null|  71.0952380952381| 63.65384615384615|71.61702127659575|   60.0|72.33333333333333|             null|             73.0|null|   71.0|             75.0|             72.2|73.28571428571429|69.26666666666667|              76.0|             72.2|             75.6|       null| 69.6701030927835|             null|   null|             null|    null|71.66666666666667|         null|null|             72.0|74.79591836734694| 82.5|  71.0|             75.5|71.09574468085107|73.57142857142857|             73.0|   null|null|     null|  67.5|             null|  null|             null|    74.0|     null|             72.0|             71.0|              66.0|     null|             79.0|72.33333333333333|  72.0|72.88888888888889|             74.2|71.66666666666667|69.02857142857142|  null|      null| 73.5|     null|67.14285714285714|             78.0|  null|  null|   null|   null| 73.0|         null|     null|      null|             null|             77.0| 63.0|      null|     null|71.52173913043478|   null|             79.0|      null|             73.0|      null|   null|73.36363636363636|         null|             null|     null| null|75.81818181818181|             71.0|71.44444444444444|null|     null|             null|             74.8|74.5|       null|             69.4|             74.5|       null| null|  68.91304347826087|71.16666666666667|72.33333333333333|  null|                 null|  66.5909090909091|          72.3125|77.33333333333333|71.55555555555556|        null|            70.75|             81.0|             72.0|       null|74.13157894736842|          null|    null| null|    null|69.16666666666667|70.81818181818181| null|    72.0|    null|             null|             74.0|   71.0|72.11538461538461|  null|             71.0|                null|72.46666666666667|73.71428571428571|      null|            74.25|             73.5|  null|             null|\n",
            "|     RDM|       null|             null|71.33333333333333|   null|             null|             null|             73.5|   null|             77.0|72.85714285714286|      null|    null|   null|             null|  null|             null|   null|   null|              null|    null|74.04545454545455|    73.0|             null|   null|             78.0|             null|      68.5|                null|null|              69.8| 64.33333333333333|72.08333333333333|   70.0|             null|             null|             62.0|76.0|   null|             null|             83.0|             66.0|             70.0|              null|             73.5|             79.0|       70.0|71.84615384615384|             null|   null|             null|    null|             76.0|         null|null|             null|75.78947368421052| 76.0|  null|             null|70.54166666666667|             74.5|             81.5|   null|null|     null|  null|             null|  null|             null|    null|     null|             null|             64.0|              null|     null|             null|             null|  null|            74.75|             78.0|             null|            67.75|  null|      null| null|     null|             59.0|             77.0|  null|  66.0|   null|   null| null|         null|     null|      null|             77.0|             75.0| null|      null|     null|             73.8|   null|             72.0|      null|             77.0|      null|   null|73.71428571428571|         null|             71.0|     null| null|             79.0|             null|             70.5|null|     null|             null|             75.0|79.0|       null|             71.0|             69.5|       null| null|               66.6|             79.0|             79.5|  null|                 null| 68.33333333333333|             69.0|            75.75|77.66666666666667|        null|             69.0|             70.0|             70.0|       null|             74.3|          null|    null| null|    null|             64.0|70.66666666666667| null|    null|    null|             73.5|             68.0|   null|             72.8|  null|             81.0|                null|            75.25|             67.0|      null|             null|             70.4|  null|             null|\n",
            "|      LF|       null|             null|             null|   null|             null|             null|             82.0|   null|             null|             null|      null|    null|   null|             86.0|  null|             null|   null|   null|              null|    null|             74.0|    null|             null|   null|             null|             null|      null|                null|null|              null|              null|             null|   null|             null|             77.0|             null|null|   null|             null|             null|             null|             null|              null|             null|             null|       null|             null|             null|   null|             66.0|    null|             72.0|         null|null|             null|             null| null|  null|             77.0|             71.0|             null|             null|   null|null|     null|  null|             null|  null|             null|    null|     null|             null|             null|              null|     null|             null|             null|  null|             null|             null|             null|             63.0|  null|      null| null|     null|             null|             null|  null|  null|   null|   null| null|         null|     null|      null|             null|             null| null|      null|     null|             null|   null|             null|      null|             null|      null|   null|             null|         null|             null|     null| null|             null|             null|             null|null|     null|             null|             null|null|       null|             null|             null|       null| null|               null|             null|             null|  null|                 null|              null|             null|             null|             null|        null|             null|             null|             null|       null|             84.0|          null|    null| null|    null|             null|             null| null|    null|    null|             null|             null|   null|             null|  null|             null|                null|             null|             null|      null|             null|             null|  null|             null|\n",
            "|    null|       null|             70.0|             null|   null|             null|             null|             70.0|   null|             null|             64.0|      null|    null|   null|             62.0|  null|             null|   null|   68.0|              null|    null|             73.0|    null|             null|   null|             null|             null|      null|                null|null|63.333333333333336|              64.0|             67.0|   null|             null|             null|             null|null|   null|             null|             null|             null|             62.0|              null|             null|             null|       null|             66.0|             null|   null|             67.0|    null|             null|         null|null|             null|             69.0| null|  null|             null|             71.0|             null|             null|   null|null|     null|  null|             null|  null|             null|    null|     null|             null|             null|60.857142857142854|     null|             null|             null|  null|67.66666666666667|             null|             null|             null|  null|      null| null|     null|             63.5|             null|  null|  null|   null|   null| null|         null|     null|      null|             null|             null| null|      null|     null|             65.0|   null|             null|      null|             null|      null|   null|             79.0|         null|             null|     62.0| null|             null|             69.0|             null|null|     null|             null|             62.0|null|       null|             67.0|             null|       null| null|               null|             null|             null|  null|                 null| 64.66666666666667|64.66666666666667|             null|             null|        null|             null|             null|             null|       null|             69.0|          null|    null| null|    null|             73.0|             null| null|    null|    null|             null|             null|   null|             null|  null|             null|                null|             null|             null|      null|             70.0|             null|  null|             null|\n",
            "|     CAM|       66.0|            70.75|            74.25|   null|             null|             null|74.78260869565217|   null|            71.25|73.16666666666667|      null|    null|   70.0|74.08333333333333|  null|             null|   null|   70.5|              70.8|    null|71.80246913580247|    68.0|             70.5|   67.0|77.66666666666667|69.33333333333333|      null|                null|null| 74.78571428571429|62.666666666666664|             70.4|   null|             69.5|             null|78.66666666666667|null|   null|             null|73.33333333333333|             76.0|72.71428571428571|              null|             73.5|             null|       null|72.47222222222223|             75.0|   null|             61.0|    null|             75.0|         null|null|            72.25|73.41176470588235| null|  null|72.33333333333333|73.33870967741936|             70.5|77.28571428571429|   null|null|     null|  null|             null|  null|             60.0|    null|     null|             78.0|             73.5|              null|     74.0|             null|             null|  74.0|            71.96|             70.5|             69.0|68.57142857142857|  null|      65.0| null|     null| 68.3529411764706|             68.0|  null|  null|   null|   null| 73.0|         null|     null|      null|             65.0|             null| null|      null|     null|             71.2|   74.0|             null|      null|             75.4|      null|   null|72.86842105263158|         null|             70.0|     null| 63.0|             72.0|             69.0|            69.25|null|     null|             null|             77.5|76.5|       null|70.94117647058823|           77.625|       null| null|  68.94444444444444|             78.0|79.33333333333333|  null|                 null| 68.93333333333334|69.81818181818181|             null|            74.25|        null|             80.5|72.28571428571429|74.28571428571429|       null|74.49122807017544|          null|    null| null|    null|70.16666666666667|71.29411764705883| 73.0|    null|    null|             null|             72.0|   72.5|73.52631578947368|  null|             79.0|                78.0|73.07692307692308|74.27272727272727|      null|            73.25|            77.75|  74.0|             null|\n",
            "|     RAM|       null|             null|             null|   null|             null|             null|             null|   null|             null|             null|      null|    null|   null|             null|  null|             null|   null|   null|              null|    null|72.42857142857143|    null|             null|   null|             null|             null|      null|                null|null|              null|              null|             76.5|   null|             null|             null|             null|null|   null|             null|             null|             null|             null|              null|             null|             null|       null|             null|             null|   null|             null|    null|             null|         null|null|             null|             null| null|  null|             null|             72.0|             null|             null|   null|null|     null|  null|             null|  null|             null|    null|     null|             null|             null|              null|     null|             null|             null|  null|             null|             null|             null|             67.0|  null|      null| null|     null|             null|             null|  null|  null|   null|   null| null|         null|     null|      null|             null|             null| null|      null|     null|             null|   null|             null|      null|             86.0|      null|   null|             null|         null|             null|     null| null|             null|             null|             null|null|     null|             null|             null|null|       null|             null|             null|       null| null|               null|             null|             null|  null|                 null|              null|             null|             null|             null|        null|             null|             null|             null|       null|             null|          null|    null| null|    null|             null|             null| null|    null|    null|             null|             null|   null|             null|  null|             null|                null|             null|             null|      null|             71.0|             null|  null|             null|\n",
            "|      LB|       64.0|             66.0|            73.75|   null|             75.0|             null|72.22033898305085|   null|68.28571428571429|69.47058823529412|      null|    null|   null|71.36363636363636|  null|             69.0|   null|   70.0| 71.33333333333333|    null|73.82089552238806|    68.0|             73.0|   null|             72.0|             69.2|      null|                null|null| 69.26829268292683| 63.63333333333333|68.90566037735849|   null|             69.0|             72.0|74.55555555555556|64.0|   74.0|             null|72.66666666666667|72.66666666666667|            68.72|              null|75.33333333333333|69.33333333333333|       null|70.08064516129032|             75.0|   null|             66.0|    null|             null|         null|null|            68.25|72.58974358974359| 64.5|  null|             null| 71.0506329113924|73.71428571428571|             74.2|   null|null|     68.0|  71.5|             67.0|  null|             null|    70.0|     null|             71.0|71.66666666666667|              65.0|     null|             73.0|             75.0|  69.5|71.74545454545455|             72.6|             70.5|67.53846153846153|  null|      66.0| 66.0|     null|67.77272727272727|             75.0|  null|  null|   null|   null| null|         null|     66.0|      null|             67.0|71.33333333333333| null|      72.0|     null|71.55555555555556|   null|             62.0|      null|             75.0|      70.0|   null|         71.96875|         null|             63.0|     null| null|             70.0|             67.2|68.17391304347827|null|     null|             null|             73.2|71.0|       68.0|67.13636363636364|73.11764705882354|       null| null|  65.51851851851852|70.66666666666667|             75.0|  null|                 null|              65.0|70.61904761904762|           70.625|             70.0|        null|67.33333333333333|             73.0|           67.875|       null|74.27160493827161|          null|    null| null|    null|67.58333333333333|             69.0| 64.0|    null|    62.0|             null|             null|   70.0|70.34482758620689|  64.0|             76.4|                null|69.11111111111111|             75.4|      null|             72.0|71.83333333333333|  null|             68.0|\n",
            "|      LW|       null|             64.0|73.66666666666667|   null|             70.5|             null|75.18518518518519|   null|66.44444444444444|72.33333333333333|      null|    null|   null|           73.625|  null|             null|   null|   null| 69.66666666666667|    null|             77.2|    66.0|             84.0|   76.0|            68.25|             null|      null|                null|78.0| 69.84615384615384| 65.42857142857143|            71.25|   null|             75.0|             65.0|79.66666666666667|76.0|   67.5|             null|             75.0|             74.0|             74.5|              null|             74.0|             71.0|       74.0|73.94444444444444|             null|   null|             null|    null|             null|         66.0|null|             null|          72.8125| null|  68.5|             71.0|76.41666666666667|             72.0|             77.0|   null|null|     null|  80.0|             73.0|  null|             null|    null|     null|             80.0|             72.0|              66.0|     null|             68.0|             null|  null|         73.65625|             75.0|             68.0|             72.0|  null|      null| null|     null|69.14285714285714|73.33333333333333|  null|  null|   null|   null| 72.0|         null|     null|      null|             null|             73.5| null|      null|     null|             75.0|   null|             null|      null|69.66666666666667|      null|   null|             76.4|         null|             66.5|     null| null|79.66666666666667|             null|69.78571428571429|null|     null|             null|             71.5|76.0|       null|             null|             76.6|       null| null|  72.33333333333333|             80.0|             null|  null|                 null|              66.0|             76.0|             75.0|             76.5|        null|             null|             80.0|             69.6|       null|76.53846153846153|          null|    null| null|    72.0|69.28571428571429|             71.0| null|    null|    70.0|             70.0|             null|   null|75.33333333333333|  70.0|             79.0|                null|73.83333333333333|             75.0|      null|             69.0|             79.0|  null|             73.0|\n",
            "|     RCM|       null|             75.0|             76.0|   null|             null|             null|72.94444444444444|   null|             72.5|             69.6|      null|    null|   null|76.28571428571429|  null|             68.0|   null|   67.0|              73.5|    null|             75.8|    null|             null|   null|             73.5|             68.0|      null|                null|null|              71.4|63.857142857142854|73.54545454545455|   null|             null|             null|             81.0|null|   null|             null|             null|             null|71.44444444444444|              null|             76.0|             71.0|       null|70.29729729729729|             78.0|   null|             null|    null|             null|         null|null|             75.0|72.61538461538461| 75.0|  null|             null|76.77777777777777|            69.75|             null|   null|null|     null|  null|             null|  null|             null|    72.0|     null|             76.0|69.66666666666667|              67.0|     null|             null|             null|  null|           72.875|80.33333333333333|             null|66.61538461538461|  null|      70.0| null|     null|69.81818181818181|             null|  null|  null|   null|   null| null|         null|     null|      null|             null|             84.0| null|      null|     null|75.83333333333333|   null|             null|      null|             75.0|      null|   null|             73.5|         null|             73.0|     null| null|             79.2|             68.0|71.81818181818181|null|     null|             71.0|             71.0|null|       null|             73.5|75.57142857142857|       null| null|  65.84615384615384|             null|             null|  null|                 null|              64.0|             70.6|             70.5|             73.5|        null|             null|             null|             69.0|       null|            76.75|          null|    null| null|    null|70.46153846153847|            74.75| null|    null|    null|             null|             null|   81.0|             70.5|  70.0|             81.0|                null|73.83333333333333|76.14285714285714|      null|             null|             64.0|  null|             74.0|\n",
            "|      GK|       null|             77.5|             67.6|   null|             null|             null|71.76288659793815|   null|             67.0| 68.1590909090909|      null|    null|   69.0|            72.25|  null|             70.5|   null|   69.0|              70.4|    null|72.66176470588235|    65.2|             77.0|   null|             75.2|66.11111111111111|      null|                null|null| 69.30952380952381|  62.9811320754717|69.21153846153847|   null|             61.0|             77.0| 72.6923076923077|75.0|   71.5|             null|             71.5|             65.0|68.91428571428571|              null|72.33333333333333|68.66666666666667|       null| 68.2183908045977|             68.0|   null|             72.5|    null|             72.0|         null|null|           70.875|72.01980198019803| 65.0|  73.0|             70.0|70.90243902439025|             67.0| 74.3529411764706|   null|null|     68.0|  65.0|             null|  null|             null|    70.0|     null|             73.2|71.33333333333333| 64.66666666666667|     null|68.33333333333333|             null|  67.0| 71.3695652173913|            68.25|             78.0|63.18032786885246|  null|      null| null|     null|            67.95|             72.0|  null|  68.0|   null|   null| null|         null|     74.0|      null|             null|             66.0| null|      null|     null| 70.1086956521739|   72.0|             71.0|      null|             67.4|      null|   68.0|71.19642857142857|         null|             67.0|     null| null|             82.0|68.42857142857143|68.51612903225806|72.0|     null|             null|73.66666666666667|71.0|       75.0|67.77966101694915|         75.53125|       null| null|   65.8974358974359|             75.6|74.92857142857143|  null|                 null| 64.38297872340425| 66.9047619047619|           72.125|71.77777777777777|        null|69.42857142857143|             79.0|69.57142857142857|       null|73.88793103448276|          null|    null| null|    null|68.32608695652173|70.84848484848484| null|    null|    null|             null|             53.0|   73.0|69.87234042553192|  null|             73.1|                null|67.84722222222223|             72.5|      null|            75.25|67.71428571428571|  null|             null|\n",
            "|      RB|       null|             75.0|             63.0|   null|             null|             71.5|            71.98|   72.0|66.21428571428571| 69.0909090909091|      62.0|    null|   null|             72.0|  null|             null|   null|   70.0|              71.0|    null|72.57142857142857|    69.0|             77.0|   null|71.66666666666667|             70.0|      67.0|                null|null| 69.13793103448276|62.476190476190474|             71.0|   70.0|             null|             68.5|            76.75|null|   71.0|             67.0|             72.5|             78.0|             69.6|              null|             68.5|             71.0|       null|70.25210084033614|             null|   null|             66.0|    64.0|             71.0|         null|null|             64.5|72.72972972972973| 71.0|  65.0|             76.0|70.62650602409639|            71.75|71.83333333333333|   null|67.0|     null|  null|             72.0|  null|             70.0|    69.0|     null|             70.5|             66.0|              66.0|     null|             72.0|             null|  null|72.57894736842105|             75.5|67.66666666666667|66.93548387096774|  null|      65.0| null|     null|66.05555555555556|             69.0|  null|  null|   null|   null| null|         66.0|     null|      72.0|             72.0|             75.5| null|      66.0|     null|69.39473684210526|   null|             69.0|      null|             72.0|      null|   78.0|73.35135135135135|         null|66.66666666666667|     null| null|             73.0|             68.8|69.78260869565217|null|     null|             80.0|             72.5|73.0|       null|68.03225806451613|74.92857142857143|       null| null|  64.79166666666667|             74.0|76.14285714285714|  null|                 null| 66.67567567567568|68.73684210526316|           72.625|72.44444444444444|        70.0|             75.0|             69.5|             68.5|       null|74.37931034482759|          56.0|    68.0| null|    69.5|69.61111111111111|70.73913043478261| null|    null|    null|             null|             null|   69.5|            71.75|  64.0|            74.25|                null|69.65789473684211|72.11111111111111|      null|71.83333333333333| 68.3076923076923|  null|             72.0|\n",
            "|      RS|       null|             71.0|             null|   null|             66.0|             null|             73.8|   null|             66.5|70.66666666666667|      66.0|    null|   null|             77.0|  null|             76.5|   null|   73.0|              null|    null|             74.0|    null|             null|   null|             81.0|             77.0|      null|                null|null|              76.0|              67.0|77.42857142857143|   null|             null|             null|             71.0|null|   null|             null|             73.0|             70.0|             67.5|              null|             73.0|             null|       null|67.10714285714286|             null|   null|             null|    null|             null|         null|71.0|             null|            77.75| null|  null|             null|             71.0|             75.0|             null|   null|null|     null|  null|             null|  null|             null|    null|     null|             null|             null|              64.0|     null|             null|             null|  80.0|75.23529411764706|            75.25|             62.0|             73.0|  null|      null| null|     null|65.66666666666667|             null|  null|  null|   null|   null| null|         null|     null|      null|             null|             80.0| null|      null|     null|75.66666666666667|   null|             null|      67.0|             70.0|      null|   null|             71.0|         null|             70.0|     null| null|             73.0|             68.0|             73.0|null|     null|             70.0|             null|null|       null|71.33333333333333|             77.0|       null| null|               71.5|             null|             75.5|  null|                 null| 67.33333333333333|            71.75|             68.5|             73.5|        null|             null|             null|             null|       null|77.27272727272727|          null|    null| null|    null|73.33333333333333|             null| null|    null|    null|             null|             null|   null|             69.5|  null|             null|                null|             76.0|            74.75|      null|             74.5|             67.0|  null|             75.0|\n",
            "|     LCB|       null|             null|             69.0|   null|             72.0|             null|73.91428571428571|   null|             67.6|71.58333333333333|      null|    null|   null|             75.0|  null|             null|   null|   72.0|              68.5|    null|74.48936170212765|    69.0|             76.0|   null|             72.8|             66.0|      72.5|                null|null| 73.15384615384616| 66.72727272727273| 72.8076923076923|   null|             69.0|             71.5|77.66666666666667|null|   null|             78.0|             75.0|             69.0|70.84615384615384|              null|72.66666666666667|             72.5|       null|70.92592592592592|             null|   null|             69.0|    null|             null|         null|null|             67.5|76.02702702702703| null|  81.0|             73.0|72.82051282051282|             76.5|             75.0|   68.0|null|     null|  73.0|             null|  null|             null|    null|     null|             75.0|             73.0|              62.0|     null|             67.0|             null|  null|72.88888888888889|             75.0|             74.0|67.85714285714286|  null|      null| null|     null|             66.6|             null|  null|  null|   66.0|   null| null|         null|     null|      null|             null|             null| null|      null|     null|             72.4|   74.0|             69.0|      null|            68.25|      75.0|   null|            75.05|         71.0|             67.0|     66.0| null|             null|             65.0|70.06666666666666|null|     null|             68.0|71.66666666666667|74.5|       null|             68.0|73.71428571428571|       null| null|  68.66666666666667|             74.5|             73.0|  null|                 null|              67.6|72.27272727272727|             75.6|72.88888888888889|        null|79.33333333333333|             74.5|             69.0|       null|74.70967741935483|          null|    null| null|    null|          67.5625|72.16666666666667| null|    null|    null|             null|             null|   76.5|73.83333333333333|  null|             78.0|                null|73.07142857142857|             73.5|      null|             78.0|            72.75|  null|             null|\n",
            "|      CM|       71.0|            71.75|77.66666666666667|   null|             null|             null|73.08695652173913|   null|67.71428571428571|68.70588235294117|      null|    null|   null|74.21428571428571|  null|             null|   null|   72.5|              68.8|    68.0|             76.0|    66.5|             77.0|   null|             72.5|             68.5|      74.5|                85.0|null| 70.17647058823529|62.432432432432435|69.77777777777777|   73.0|             null|70.33333333333333|72.63636363636364|null|   null|             null|74.36363636363636|             70.0|69.21212121212122|              null|             71.0|             73.0|       64.0|69.79591836734694|             null|   null|             null|    null|             66.0|         null|null|70.66666666666667|73.91379310344827| null|  null|             null|74.03333333333333|74.26666666666667|             73.0|   null|null|     null|  82.0|             68.0|  63.0|             69.0|    null|     71.0|             72.5|             72.5|              61.0|     null|             79.0|             64.0|  76.5|72.11111111111111|             74.0|             66.5|65.92105263157895|  null|      null| null|     null| 65.5952380952381|             74.0|  null|  null|   null|   null| null|         71.0|     68.0|      76.0|             64.0|             76.0| null|      null|     null|70.36842105263158|   67.0|             75.5|      68.0|           75.125|      null|   null|72.57142857142857|         null|             68.0|     null| null|65.16666666666667|             72.0|68.91304347826087|null|     null|             null|70.66666666666667|71.5|       null|67.84615384615384|75.44444444444444|       null| null|             67.375|             72.2|             75.0|  null|                 null| 68.61904761904762| 71.3030303030303|             71.1|77.88888888888889|        null|74.16666666666667|             71.0|72.83333333333333|       null|          74.7875|          null|    null| null|    null|68.51282051282051|           72.625| 64.0|    null|    63.0|             null|             null|   69.0|71.44444444444444|  null|74.71428571428571|                null|70.52631578947368|71.33333333333333|      67.5|             72.6|             67.9|  76.0|             null|\n",
            "|      RW|       null|             72.5|             76.6|   null|             null|             null|73.20689655172414|   70.5|             68.6|             71.0|      null|    null|   null|78.16666666666667|  61.0|             null|   null|   null|              75.0|    null|76.42857142857143|    null|             null|   null|             null|             64.0|      null|                null|null| 70.82352941176471| 63.44444444444444|            74.75|   null|             67.0|             67.0|             null|null|   null|             null|             75.0|             77.5|             76.2|              null|             72.0|             null|       null|74.73684210526316|             null|   null|             null|    null|             null|         null|null|             65.5|             74.7| null|  null|             81.0|             73.0|           72.375|             70.0|   null|null|     null|  null|             74.5|  null|             78.0|    null|     null|70.66666666666667|             74.5|              null|     null|             null|             null|  null| 76.3157894736842|             75.8|             null|             65.0|  null|      null| 66.0|     66.0|             70.0|             83.0|  null|  null|   null|   null| 76.0|         null|     null|      null|             67.0|             null| null|      null|     null|            73.75|   null|             70.0|      null|             null|      76.0|   null|74.57142857142857|         null|             62.0|     null| null|             75.2|             null|             70.4|null|     null|             null|             79.0|76.0|       null|             null|76.53846153846153|       null| null|               null|             78.0|             76.0|  null|                 null|              null|             70.0|             69.0|             83.0|        null|             75.0|             71.0|74.66666666666667|       null|             80.4|          null|    null| null|    null|66.07692307692308|75.66666666666667| null|    null|    null|             65.0|             null|   80.0|             71.0|  null|             null|                null|             72.5|            71.75|      null|            76.25|             76.5|  68.0|             null|\n",
            "|     RCB|       null|             68.0|             74.5|   null|             65.0|             null|73.05405405405405|   null|             69.5| 70.0909090909091|      null|    null|   null|             75.5|  null|             73.0|   null|   66.0|              69.0|    null| 75.2051282051282|    69.0|             70.0|   null|70.66666666666667|             71.0|      75.0|                null|null|             70.25|              67.0|            72.75|   null|             66.0|             75.5|71.55555555555556|null|   null|             null|            69.75|             76.0|             72.0|              null|             null|             67.0|       null|71.44642857142857|             null|   null|             null|    null|             null|         null|null|             72.0|75.72413793103448| null|  null|             75.0|72.72916666666667|             72.0|             78.0|   null|null|     null|  65.5|             null|  null|             null|    null|     null|             81.0|             70.0|              71.0|     null|             73.0|             null|  null|74.08333333333333|             74.0|             71.0|69.93333333333334|  null|      null| null|     null|             68.5|             null|  null|  64.0|   null|   null| null|         null|     null|      73.0|             null|             65.0| null|      null|     null|             73.7|   null|             null|      69.0|             71.5|      74.0|   null|73.61111111111111|         null|             67.0|     null| null|            70.25|             71.0|          69.1875|null|     null|             null|76.14285714285714|71.0|       null|70.81818181818181|             75.0|       null| null|   65.3076923076923|             71.5|             80.0|  null|                 null|              67.5|             67.5|            75.25|             74.8|        null|75.33333333333333|             69.0|             67.0|       null|74.52777777777777|          null|    null| null|    null|70.13333333333334|74.11111111111111| null|    null|    null|             79.0|             null|   null|74.22222222222223|  null|             73.0|                null|72.54545454545455|75.71428571428571|      null|             76.0|69.85714285714286|  74.0|             null|\n",
            "|     CDM|       null|             69.5|            70.25|   null|             null|             null|72.76363636363637|   null|          66.8125|69.63157894736842|      71.0|    null|   null|73.71428571428571|  null|             null|   null|   67.0|              82.0|    null|72.67441860465117|    63.5|             64.0|   null|           74.125|             71.8|      67.0|                null|null|              71.8|62.916666666666664|70.88888888888889|   74.0|             69.0|             null|75.11111111111111|null|   null|             null|             69.5|71.66666666666667|             74.0|              null|            69.25|             73.0|       null|            71.88|             null|   null|             null|    null|             76.0|         null|null|             75.0|73.03174603174604| 67.0|  74.0|             73.0|71.58227848101266|74.83333333333333|72.66666666666667|   null|null|     null|  71.0|            76.25|  66.0|             null|    null|     null|72.66666666666667|             68.0|              60.0|     null|             76.0|             null|  72.0|          76.0625|           76.125|             null|65.89473684210526|  null|      null| 74.0|     null|65.33333333333333|             66.0|  null|  null|   null|   null| null|         null|     60.0|      71.0|             63.0|72.66666666666667| null|      null|     null|           70.625|   null|             79.0|      null|             69.8|      null|   null|72.26666666666667|         null|             67.0|     null| null|73.85714285714286|            72.75|71.77777777777777|null|     null|             null|             71.0|74.5|       null|67.29629629629629|74.83333333333333|       null| null|  68.77272727272727|             80.0|             75.2|  null|                 null| 66.06666666666666|             72.6|             73.0|             80.0|        null|             70.0|             77.5|             73.5|       null|74.92307692307692|          null|    null| 60.0|    null|             70.0|73.88888888888889| 67.0|    null|    null|             68.5|             null|   null|71.79310344827586|  null|72.66666666666667|                null|71.08333333333333|71.14285714285714|      null|             75.0|             70.6|  null|             null|\n",
            "|      LS|       null|             null|             null|   null|             null|             null|75.23076923076923|   73.0|             64.0|             82.0|      null|    64.5|   null|             76.0|  null|             null|   null|   null|              77.0|    null|75.33333333333333|    66.0|             null|   null|             80.0|             62.0|      null|                null|null|              72.5|              null|             74.0|   null|             70.0|             null|             65.0|null|   null|             73.0|             null|             null|            70.25|              null|             75.0|             null|       null|68.92307692307692|             null|   72.0|             null|    null|             null|         null|null|             66.0|             74.8| null|  76.0|             null|             71.0|             72.0|             null|   null|null|     null|  null|             69.0|  null|             null|    null|     null|             null|             null|              67.0|     null|             null|             null|  80.0|          73.5625|             76.0|             64.0|            70.75|  null|      null| null|     null|             70.0|             null|  null|  null|   null|   null| null|         null|     null|      null|             null|             null| null|      null|     null|             80.5|   null|             72.5|      null|             78.0|      null|   null|71.33333333333333|         null|             null|     null| null|             70.0|             null|71.33333333333333|null|     null|             null|             71.0|null|       null|             75.0|             79.0|       null| null|               67.6|             75.0|             null|  null|                 null|              null|             69.0|             74.5|             86.0|        null|             null|             null|             null|       null|             78.2|          null|    null| null|    null|73.66666666666667|             66.0| 78.0|    null|    68.0|             null|             null|   67.0|             null|  null|             73.0|                null|             70.0|             74.5|      null|             84.0|             null|  null|             null|\n",
            "|      CB|       null|74.33333333333333|             69.5|   64.0|             79.0|             null|72.85858585858585|   null| 69.0952380952381|         70.28125|      null|    66.0|   null|75.04545454545455|  null|             72.0|   null|   74.0|              74.6|    null| 71.9090909090909|    63.0|             null|   null|73.08333333333333|             70.2|      null|                72.0|null| 71.17241379310344| 64.69444444444444|71.38461538461539|   null|69.66666666666667|            70.75|            73.25|null|   66.0|67.66666666666667|             73.1|             72.6|69.94594594594595|              null|             71.5|             76.5|       75.0| 70.2919254658385|             null|   null|70.66666666666667|    null|             69.0|         68.0|null|67.71428571428571|72.83870967741936| null|  79.0|             77.5|        71.359375|             72.5|74.13333333333334|   null|null|     67.0|  77.5|             74.0|  70.0|             73.0|    null|     62.0|             68.5|             71.0|              61.0|     null|             null|             68.0|  null| 72.1219512195122|             72.4|             72.0|64.63265306122449|  null|      null| 64.0|     null|67.07692307692308|             73.5|  null|  54.0|   null|   null| null|         null|     64.0|      65.0|72.33333333333333|             72.5| null|      70.0|     69.0|70.88372093023256|   null|75.66666666666667|      null|            78.25|      null|   null|73.30952380952381|         null|           67.375|     null| null|73.22222222222223|           67.375|68.06451612903226|null|     null|             69.8|             73.0|77.0|       null|68.82352941176471|75.96153846153847|       63.0| 68.0|             66.875|             73.8|             76.5|  null|                 null| 66.48780487804878|            69.72|             72.3|            71.75|        66.0|71.66666666666667|72.57142857142857|             71.0|       null|73.77884615384616|          null|    null| null|    null|           68.225|72.13636363636364| null|    null|    null|             null|             null|   70.5|72.10714285714286|  null|           74.125|                null|69.41666666666667|73.05882352941177|      null|             70.0|          69.8125|  null|             73.0|\n",
            "|     RWB|       null|             null|             82.0|   null|             null|             null|             72.0|   null|             66.0|             66.0|      null|    null|   null|             72.0|  null|             null|   null|   null|              70.0|    null|             null|    null|             null|   null|             74.0|             null|      null|                null|null|              null|61.666666666666664|             74.0|   null|             null|             null|             74.0|null|   null|             null|             81.0|             null|           68.625|              null|             null|             null|       null|67.86666666666666|             null|   null|             null|    null|             null|         null|null|             null|            73.75| null|  null|             null|72.66666666666667|             null|             null|   null|null|     null|  null|             null|  null|             null|    null|     null|             null|             75.0|              null|     null|             null|             null|  null|             72.5|             72.0|             null|             66.0|  70.0|      null| null|     null|             null|             null|  null|  null|   null|   null| null|         null|     null|      null|             null|             null| null|      null|     null|             80.0|   null|             null|      null|             null|      null|   null|             70.5|         null|             61.0|     null| null|             null|             null|             72.0|null|     null|             null|             null|null|       null|             null|             null|       null| null|               71.0|             null|             null|  null|                 null|              65.0|             65.5|             null|             null|        null|             null|             null|             68.0|       null|            78.25|          null|    null| null|    null|             68.0|             71.0| null|    null|    null|             null|             null|   null|             null|  null|             null|                null|             null|             null|      null|             null|             64.0|  null|             null|\n",
            "|      CF|       null|             null|             null|   null|             null|             null|             79.0|   null|             null|             68.0|      null|    null|   null|             null|  null|             null|   null|   null|              null|    null|            78.25|    null|             74.0|   null|             72.0|             null|      null|                null|null|              73.0|              null|             null|   null|             null|             null|             null|null|   75.0|             null|             80.0|             null|             null|              null|             null|             null|       null|             70.0|             null|   null|             null|    null|             null|         null|null|             78.0|             null| null|  null|             null|             73.6|             77.0|             null|   null|null|     null|  null|             null|  null|             null|    null|     null|             null|             81.0|              null|     null|             null|             null|  null|             75.8|             null|             null|           66.625|  null|      null| null|     58.0|70.66666666666667|             73.0|  null|  null|   null|   null| null|         null|     68.0|      null|             null|             null| null|      null|     null|             75.0|   null|             null|      null|             null|      null|   68.0|             null|         null|             null|     null| null|             null|             null|             74.0|null|     null|             null|             null|75.0|       null|             88.0|             null|       null| null|               null|             null|             78.0|  null|                 null|              null|             71.0|             null|             null|        null|             null|             null|             null|       null|            79.25|          null|    null| null|    null|            70.25|             null| null|    null|    null|             null|             null|   null|             75.0|  null|             null|                null|             71.0|             null|      null|             null|             null|  null|             71.0|\n",
            "|      RM|       null|             64.0|            74.75|   null|             68.0|             null| 73.2741935483871|   83.0|70.53846153846153|70.30434782608695|      null|    null|   null|74.26666666666667|  null|             68.0|   null|   72.0|              76.0|    null|75.30434782608695|    71.5|             77.5|   null|             70.5|             74.5|      null|                null|null| 72.18181818181819|          65.03125|70.65384615384616|   null|             null|             75.5|76.66666666666667|null|   70.0|             null|             77.0|             72.5|69.18181818181819|              null|             76.0|             82.0|       65.0|69.94782608695652|             null|   null|             63.0|    null|             64.5|         65.5|null|             73.8|74.77551020408163| 68.0|  76.0|             76.0|70.85227272727273|             71.6|76.42857142857143|   null|null|     null|  73.0|             null|  null|             70.0|    78.5|     null|             71.0|             77.5|              67.0|     null|74.33333333333333|             null|  null|73.37037037037037|             81.5|             66.0| 66.8108108108108|  null|      null| null|     null|          68.4375|             70.5|  null|  null|   null|   null| null|         66.0|     71.0|      null|             null|             73.0| null|      null|     null|            72.28|   null|             74.5|      null|             74.8|      null|   null|71.78947368421052|         null|             76.0|     null| 66.0|             77.0|69.85714285714286|           69.125|null|     66.0|             70.5|76.33333333333333|73.0|       null|         68.28125|            76.36|       null| null|               66.7|72.16666666666667|             70.5|  null|                 null| 66.33333333333333|72.42105263157895|             80.2|             69.6|        null|             75.0|             70.6|             66.0|       null|74.86585365853658|          null|    null| 66.0|    null|             70.0|71.41666666666667| 72.0|    null|    68.0|76.66666666666667|             null|   70.0|73.57142857142857|  68.0|             77.5|                null|            72.75|69.57142857142857|      null|73.14285714285714|71.11111111111111|  null|             null|\n",
            "|     LAM|       null|             null|             null|   null|             null|             null|             null|   null|             null|             null|      null|    null|   null|             null|  null|             null|   null|   null|              null|    null|71.46153846153847|    null|             null|   null|             null|             null|      null|                null|null|              null|              null|             81.0|   null|             null|             null|             null|null|   null|             null|             null|             null|             null|              null|             null|             null|       null|             null|             null|   null|             null|    null|             null|         null|null|             null|             null| null|  null|             null|             70.0|             null|             null|   null|null|     null|  null|             null|  null|             null|    null|     null|             null|             null|              null|     null|             null|             null|  null|             null|             null|             null|             69.0|  null|      null| null|     null|             null|             null|  null|  null|   null|   null| null|         null|     null|      null|             null|             null| null|      null|     null|             null|   null|             null|      null|             null|      null|   null|             null|         null|             null|     null| null|             null|             null|             null|null|     null|             null|             null|null|       null|             null|             null|       null| null|               null|             null|             null|  null|                 null|              null|             null|             null|             81.0|        null|             null|             null|             null|       null|             null|          null|    null| null|    null|             null|             null| null|    null|    null|             null|             null|   null|             null|  null|             null|                null|             null|             68.0|      null|             null|             null|  75.0|             null|\n",
            "|     LDM|       null|72.66666666666667|             73.0|   null|             null|             null|           73.375|   null|             70.5|             75.5|      null|    null|   null|             75.5|  null|             71.0|   null|   null|             72.25|    null|            74.16|    57.0|             null|   65.0|             null|             null|      71.0|                71.0|null|             71.25|              60.0|70.81818181818181|   null|             null|             77.0|             84.0|null|   null|             null|             74.0|             null|             69.5|              null|             null|             67.0|       null|70.15384615384616|             null|   null|             null|    null|             83.0|         null|null|             null|74.76470588235294| null|  null|             71.0|71.52173913043478|             76.0|             75.0|   null|null|     null|  82.0|             null|  null|             null|    68.0|     null|             null|             null|              null|     null|             null|             null|  73.0|             70.0|            76.75|             null|             70.0|  null|      null| null|     null|             68.0|             null|  70.0|  null|   null|   null| null|         null|     null|      78.0|             null|             75.0| null|      null|     null|             71.6|   null|             null|      null|             null|      null|   null|78.66666666666667|         null|             null|     null| null|             79.5|             null|             71.0|null|     null|             70.0|             71.0|73.0|       null|67.88888888888889|74.42857142857143|       null| null|               65.6|             73.0|             86.0|  null|                 null| 68.85714285714286|             69.5|             null|             70.0|        null|             76.0|             68.0|             67.0|       null|70.41666666666667|          null|    null| null|    null|             66.0|             81.5| null|    null|    null|             null|             null|   null|            72.75|  null|             77.0|                null|73.33333333333333|             null|      null|             null|             86.0|  null|             null|\n",
            "|      ST|       null|            72.25|            73.75|   null|75.66666666666667|             63.0|           72.928|   70.0|            67.44|68.62962962962963|      67.0|    null|   70.0|75.33333333333333|  null|67.66666666666667|   70.0|   71.0| 72.85714285714286|    null|71.56756756756756|    70.5|67.33333333333333|   null|73.86666666666666|72.28571428571429|      75.0|                null|78.0| 70.10416666666667|          63.46875|70.89189189189189|   null|            71.25|            68.25|72.26666666666667|null|   69.5|             65.0|70.88888888888889| 71.9090909090909|69.91304347826087|              85.0|             75.0|             72.0|       null| 69.5575221238938|             null|   65.0|             null|    null|             74.0|         null|null|70.83333333333333|72.45283018867924| 72.0|  79.5|69.66666666666667|           71.125| 75.0909090909091|73.35714285714286|   null|null|     null|  70.5|73.33333333333333|  null|69.66666666666667|    75.0|     null|            72.25|             70.0|              58.5|     null|             75.0|             null|  70.0|            72.75|73.44444444444444|             67.0|67.27272727272727|  null|      null| 74.0|     77.0|68.36111111111111|           69.125|  null|  78.0|   null|   73.0| null|         null|     77.0|      null|             67.0|70.33333333333333| null|      null|     null|72.31428571428572|   79.0|74.66666666666667|      null|71.72727272727273|      null|   null| 73.6829268292683|         null|             70.0|     null| 71.0|73.02941176470588|69.76923076923077| 68.2439024390244|null|     null|68.66666666666667|71.04347826086956|74.0|       null|           69.425|74.66666666666667|       null| null|  66.18604651162791|             73.0|             75.6|  null|                 72.0|              67.1|70.19444444444444|72.27272727272727|73.14285714285714|       72.25|            72.75|70.28571428571429|71.66666666666667|       63.0|73.95412844036697|          62.0|    null| 72.0|    null|69.40816326530613|74.58333333333333| 80.0|    75.0|    null|             73.5|             null|   69.2|72.04166666666667|  null|73.58333333333333|                null|71.08108108108108|            74.55|      null|72.16666666666667|69.93333333333334| 74.25|70.66666666666667|\n",
            "+--------+-----------+-----------------+-----------------+-------+-----------------+-----------------+-----------------+-------+-----------------+-----------------+----------+--------+-------+-----------------+------+-----------------+-------+-------+------------------+--------+-----------------+--------+-----------------+-------+-----------------+-----------------+----------+--------------------+----+------------------+------------------+-----------------+-------+-----------------+-----------------+-----------------+----+-------+-----------------+-----------------+-----------------+-----------------+------------------+-----------------+-----------------+-----------+-----------------+-----------------+-------+-----------------+--------+-----------------+-------------+----+-----------------+-----------------+-----+------+-----------------+-----------------+-----------------+-----------------+-------+----+---------+------+-----------------+------+-----------------+--------+---------+-----------------+-----------------+------------------+---------+-----------------+-----------------+------+-----------------+-----------------+-----------------+-----------------+------+----------+-----+---------+-----------------+-----------------+------+------+-------+-------+-----+-------------+---------+----------+-----------------+-----------------+-----+----------+---------+-----------------+-------+-----------------+----------+-----------------+----------+-------+-----------------+-------------+-----------------+---------+-----+-----------------+-----------------+-----------------+----+---------+-----------------+-----------------+----+-----------+-----------------+-----------------+-----------+-----+-------------------+-----------------+-----------------+------+---------------------+------------------+-----------------+-----------------+-----------------+------------+-----------------+-----------------+-----------------+-----------+-----------------+--------------+--------+-----+--------+-----------------+-----------------+-----+--------+--------+-----------------+-----------------+-------+-----------------+------+-----------------+--------------------+-----------------+-----------------+----------+-----------------+-----------------+------+-----------------+\n",
            "\n"
          ],
          "name": "stdout"
        }
      ]
    },
    {
      "cell_type": "markdown",
      "metadata": {
        "id": "yHro20QAQala"
      },
      "source": [
        "Further, viewing the highest average potential for each position."
      ]
    },
    {
      "cell_type": "code",
      "metadata": {
        "id": "Cyf4PhkDTRaD"
      },
      "source": [
        "# renaming the name of a country to avoid syntax error in the next stage\n",
        "pivot_df = pivot_df.withColumnRenamed('Central African Rep.', 'Central African Republic')"
      ],
      "execution_count": 14,
      "outputs": []
    },
    {
      "cell_type": "code",
      "metadata": {
        "colab": {
          "base_uri": "https://localhost:8080/"
        },
        "id": "OLRy9c9Z1Ojd",
        "outputId": "7137c83a-b39b-401f-f454-ce5abdcdeb61"
      },
      "source": [
        "# removing the null position from the dataframe\n",
        "pivot_df = pivot_df.filter((pivot_df.Position != 'NA'))\n",
        "pivot_df.show(pivot_df.count())"
      ],
      "execution_count": 15,
      "outputs": [
        {
          "output_type": "stream",
          "text": [
            "+--------+-----------+-----------------+-----------------+-------+-----------------+-----------------+-----------------+-------+-----------------+-----------------+----------+--------+-------+-----------------+------+-----------------+-------+-------+------------------+--------+-----------------+--------+-----------------+-------+-----------------+-----------------+----------+------------------------+----+-----------------+------------------+-----------------+-------+-----------------+-----------------+-----------------+----+-------+-----------------+-----------------+-----------------+-----------------+------------------+-----------------+-----------------+-----------+-----------------+-----------------+-------+-----------------+--------+-----------------+-------------+----+-----------------+-----------------+-----+------+-----------------+-----------------+-----------------+-----------------+-------+----+---------+------+-----------------+------+-----------------+--------+---------+-----------------+-----------------+-----------------+---------+-----------------+-----------------+------+-----------------+-----------------+-----------------+-----------------+------+----------+-----+---------+-----------------+-----------------+------+------+-------+-------+-----+-------------+---------+----------+-----------------+-----------------+-----+----------+---------+-----------------+-------+-----------------+----------+-----------------+----------+-------+-----------------+-------------+-----------------+---------+-----+-----------------+-----------------+-----------------+----+---------+-----------------+-----------------+----+-----------+-----------------+-----------------+-----------+-----+-------------------+-----------------+-----------------+------+---------------------+------------------+-----------------+-----------------+-----------------+------------+-----------------+-----------------+-----------------+-----------+-----------------+--------------+--------+-----+--------+-----------------+-----------------+-----+--------+--------+-----------------+-----------------+-------+-----------------+------+-----------------+--------------------+-----------------+-----------------+----------+-----------------+-----------------+------+-----------------+\n",
            "|Position|Afghanistan|          Albania|          Algeria|Andorra|           Angola|Antigua & Barbuda|        Argentina|Armenia|        Australia|          Austria|Azerbaijan|Barbados|Belarus|          Belgium|Belize|            Benin|Bermuda|Bolivia|Bosnia Herzegovina|Botswana|           Brazil|Bulgaria|     Burkina Faso|Burundi|         Cameroon|           Canada|Cape Verde|Central African Republic|Chad|            Chile|          China PR|         Colombia|Comoros|            Congo|       Costa Rica|          Croatia|Cuba|Curacao|           Cyprus|   Czech Republic|         DR Congo|          Denmark|Dominican Republic|          Ecuador|            Egypt|El Salvador|          England|Equatorial Guinea|Eritrea|          Estonia|Ethiopia|    FYR Macedonia|Faroe Islands|Fiji|          Finland|           France|Gabon|Gambia|          Georgia|          Germany|            Ghana|           Greece|Grenada|Guam|Guatemala|Guinea|    Guinea Bissau|Guyana|            Haiti|Honduras|Hong Kong|          Hungary|          Iceland|            India|Indonesia|             Iran|             Iraq|Israel|            Italy|      Ivory Coast|          Jamaica|            Japan|Jordan|Kazakhstan|Kenya|Korea DPR|   Korea Republic|           Kosovo|Kuwait|Latvia|Lebanon|Liberia|Libya|Liechtenstein|Lithuania|Luxembourg|       Madagascar|             Mali|Malta|Mauritania|Mauritius|           Mexico|Moldova|       Montenegro|Montserrat|          Morocco|Mozambique|Namibia|      Netherlands|New Caledonia|      New Zealand|Nicaragua|Niger|          Nigeria| Northern Ireland|           Norway|Oman|Palestine|           Panama|         Paraguay|Peru|Philippines|           Poland|         Portugal|Puerto Rico|Qatar|Republic of Ireland|          Romania|           Russia|Rwanda|S?o Tom�� & Pr��ncipe|      Saudi Arabia|         Scotland|          Senegal|           Serbia|Sierra Leone|         Slovakia|         Slovenia|     South Africa|South Sudan|            Spain|St Kitts Nevis|St Lucia|Sudan|Suriname|           Sweden|      Switzerland|Syria|Tanzania|Thailand|             Togo|Trinidad & Tobago|Tunisia|           Turkey|Uganda|          Ukraine|United Arab Emirates|    United States|          Uruguay|Uzbekistan|        Venezuela|            Wales|Zambia|         Zimbabwe|\n",
            "+--------+-----------+-----------------+-----------------+-------+-----------------+-----------------+-----------------+-------+-----------------+-----------------+----------+--------+-------+-----------------+------+-----------------+-------+-------+------------------+--------+-----------------+--------+-----------------+-------+-----------------+-----------------+----------+------------------------+----+-----------------+------------------+-----------------+-------+-----------------+-----------------+-----------------+----+-------+-----------------+-----------------+-----------------+-----------------+------------------+-----------------+-----------------+-----------+-----------------+-----------------+-------+-----------------+--------+-----------------+-------------+----+-----------------+-----------------+-----+------+-----------------+-----------------+-----------------+-----------------+-------+----+---------+------+-----------------+------+-----------------+--------+---------+-----------------+-----------------+-----------------+---------+-----------------+-----------------+------+-----------------+-----------------+-----------------+-----------------+------+----------+-----+---------+-----------------+-----------------+------+------+-------+-------+-----+-------------+---------+----------+-----------------+-----------------+-----+----------+---------+-----------------+-------+-----------------+----------+-----------------+----------+-------+-----------------+-------------+-----------------+---------+-----+-----------------+-----------------+-----------------+----+---------+-----------------+-----------------+----+-----------+-----------------+-----------------+-----------+-----+-------------------+-----------------+-----------------+------+---------------------+------------------+-----------------+-----------------+-----------------+------------+-----------------+-----------------+-----------------+-----------+-----------------+--------------+--------+-----+--------+-----------------+-----------------+-----+--------+--------+-----------------+-----------------+-------+-----------------+------+-----------------+--------------------+-----------------+-----------------+----------+-----------------+-----------------+------+-----------------+\n",
            "|      RF|       null|             null|             null|   null|             null|             null|             87.0|   null|             null|             66.0|      null|    null|   null|             82.0|  null|             null|   null|   null|              null|    null|             null|    null|             null|   null|             null|             null|      null|                    null|null|             null|              72.0|             null|   null|             null|             null|             null|null|   null|             null|             null|             null|             null|              null|             null|             null|       null|             null|             null|   null|             null|    null|             null|         null|null|             69.0|             null| null|  null|             null|             78.0|             null|             null|   null|null|     null|  null|             null|  null|             null|    null|     null|             null|             null|             null|     null|             null|             null|  null|             75.0|             null|             null|68.33333333333333|  null|      null| null|     null|             null|             null|  null|  null|   null|   null| null|         null|     null|      null|             null|             null| null|      null|     null|             null|   null|             null|      null|             null|      null|   null|             null|         null|             null|     null| null|             null|             null|             null|null|     null|             null|             null|null|       null|             null|             null|       null| null|               null|             null|             null|  null|                 null|              null|             null|             null|             null|        null|             null|             null|             null|       null|             81.0|          null|    null| null|    null|             75.0|             null| 73.0|    null|    null|             null|             null|   null|             null|  null|             null|                null|             null|             75.0|      null|             null|             null|  null|             null|\n",
            "|     LWB|       null|             null|             null|   null|             null|             null|            75.75|   null|             71.0|             69.0|      null|    null|   null|             null|  null|             null|   null|   null|              null|    null|             null|    null|             null|   null|             75.0|             null|      null|                    null|null|             null|              60.5|             75.5|   69.0|             null|             null|             null|null|   null|             null|             null|             null|            72.75|              null|             null|             null|       null|             69.8|             null|   null|             null|    null|             null|         64.0|null|             62.0|            74.25| null|  null|             null|76.14285714285714|             71.0|             null|   null|null|     null|  null|             null|  null|             null|    null|     null|             null|             70.0|             null|     null|             null|             null|  null|             67.0|             null|             null|             66.0|  null|      null| null|     null|             null|             null|  null|  null|   null|   null| null|         null|     null|      null|             null|             null| null|      null|     null|             null|   null|             null|      null|             null|      null|   null|             72.0|         null|             73.0|     null| null|             72.0|             67.0|             77.0|null|     null|             null|             null|68.0|       null|             null|             82.0|       null| null|               70.0|             null|             76.0|  null|                 null|              67.0|             66.0|             null|             null|        null|             null|             null|             null|       null|            77.25|          null|    null| null|    null|66.77777777777777|             68.0| null|    null|    null|             null|             null|   null|             null|  null|             null|                null|             null|             null|      null|             null|             64.0|  null|             null|\n",
            "|     LCM|       null|             71.0|             76.0|   null|             null|             null|            74.52|   null|             70.0|72.44444444444444|      null|    null|   75.0|78.14285714285714|  null|             null|   null|   68.0|             75.75|    null|             76.5|    null|             null|   null|             69.0|             73.0|      null|                    null|null|             71.8|              68.0|            71.25|   null|             69.0|             null|85.33333333333333|null|   69.0|             null|72.33333333333333|             null|72.45454545454545|              null|             74.0|             null|       null|70.75757575757575|             80.0|   null|             null|    null|             83.0|         68.0|null|67.33333333333333|75.29411764705883| 78.5|  null|             null|73.11764705882354|             76.0|             null|   null|null|     null|  null|             null|  null|             null|    null|     null|             78.0|             72.0|             71.0|     null|             null|             74.0|  72.0|73.42105263157895|             73.6|             null|65.41666666666667|  null|      null| null|     null|67.54545454545455|             77.0|  null|  null|   null|   null| null|         null|     null|      null|             null|             null| null|      null|     null|             77.5|   null|             null|      null|             80.0|      null|   null|             73.1|         null|             66.0|     null| null|             73.0|             67.0|71.36363636363636|null|     null|             null|             75.5|null|       null|             75.2|77.44444444444444|       null| null|               64.8|             null|             75.0|  71.0|                 null|61.333333333333336|70.57142857142857|             73.2|             75.0|        null|             87.0|             83.0|             72.0|       null|75.28571428571429|          72.0|    null| null|    67.0|          70.3125|             74.5| 72.0|    null|    null|             null|             null|   70.0|             69.0|  74.0|             null|                null|             79.0|             78.0|      null|             null|             64.0|  null|             83.0|\n",
            "|      LM|       70.0|73.66666666666667|74.66666666666667|   null|             72.0|             65.0|         74.40625|   69.5|69.54545454545455|69.29411764705883|      68.0|    null|   null|75.31818181818181|  null|             null|   63.0|   70.0| 72.33333333333333|    null|74.43333333333334|    71.0|             null|   null|71.16666666666667|67.85714285714286|      80.0|                    null|null| 71.0952380952381| 63.65384615384615|71.61702127659575|   60.0|72.33333333333333|             null|             73.0|null|   71.0|             75.0|             72.2|73.28571428571429|69.26666666666667|              76.0|             72.2|             75.6|       null| 69.6701030927835|             null|   null|             null|    null|71.66666666666667|         null|null|             72.0|74.79591836734694| 82.5|  71.0|             75.5|71.09574468085107|73.57142857142857|             73.0|   null|null|     null|  67.5|             null|  null|             null|    74.0|     null|             72.0|             71.0|             66.0|     null|             79.0|72.33333333333333|  72.0|72.88888888888889|             74.2|71.66666666666667|69.02857142857142|  null|      null| 73.5|     null|67.14285714285714|             78.0|  null|  null|   null|   null| 73.0|         null|     null|      null|             null|             77.0| 63.0|      null|     null|71.52173913043478|   null|             79.0|      null|             73.0|      null|   null|73.36363636363636|         null|             null|     null| null|75.81818181818181|             71.0|71.44444444444444|null|     null|             null|             74.8|74.5|       null|             69.4|             74.5|       null| null|  68.91304347826087|71.16666666666667|72.33333333333333|  null|                 null|  66.5909090909091|          72.3125|77.33333333333333|71.55555555555556|        null|            70.75|             81.0|             72.0|       null|74.13157894736842|          null|    null| null|    null|69.16666666666667|70.81818181818181| null|    72.0|    null|             null|             74.0|   71.0|72.11538461538461|  null|             71.0|                null|72.46666666666667|73.71428571428571|      null|            74.25|             73.5|  null|             null|\n",
            "|     RDM|       null|             null|71.33333333333333|   null|             null|             null|             73.5|   null|             77.0|72.85714285714286|      null|    null|   null|             null|  null|             null|   null|   null|              null|    null|74.04545454545455|    73.0|             null|   null|             78.0|             null|      68.5|                    null|null|             69.8| 64.33333333333333|72.08333333333333|   70.0|             null|             null|             62.0|76.0|   null|             null|             83.0|             66.0|             70.0|              null|             73.5|             79.0|       70.0|71.84615384615384|             null|   null|             null|    null|             76.0|         null|null|             null|75.78947368421052| 76.0|  null|             null|70.54166666666667|             74.5|             81.5|   null|null|     null|  null|             null|  null|             null|    null|     null|             null|             64.0|             null|     null|             null|             null|  null|            74.75|             78.0|             null|            67.75|  null|      null| null|     null|             59.0|             77.0|  null|  66.0|   null|   null| null|         null|     null|      null|             77.0|             75.0| null|      null|     null|             73.8|   null|             72.0|      null|             77.0|      null|   null|73.71428571428571|         null|             71.0|     null| null|             79.0|             null|             70.5|null|     null|             null|             75.0|79.0|       null|             71.0|             69.5|       null| null|               66.6|             79.0|             79.5|  null|                 null| 68.33333333333333|             69.0|            75.75|77.66666666666667|        null|             69.0|             70.0|             70.0|       null|             74.3|          null|    null| null|    null|             64.0|70.66666666666667| null|    null|    null|             73.5|             68.0|   null|             72.8|  null|             81.0|                null|            75.25|             67.0|      null|             null|             70.4|  null|             null|\n",
            "|      LF|       null|             null|             null|   null|             null|             null|             82.0|   null|             null|             null|      null|    null|   null|             86.0|  null|             null|   null|   null|              null|    null|             74.0|    null|             null|   null|             null|             null|      null|                    null|null|             null|              null|             null|   null|             null|             77.0|             null|null|   null|             null|             null|             null|             null|              null|             null|             null|       null|             null|             null|   null|             66.0|    null|             72.0|         null|null|             null|             null| null|  null|             77.0|             71.0|             null|             null|   null|null|     null|  null|             null|  null|             null|    null|     null|             null|             null|             null|     null|             null|             null|  null|             null|             null|             null|             63.0|  null|      null| null|     null|             null|             null|  null|  null|   null|   null| null|         null|     null|      null|             null|             null| null|      null|     null|             null|   null|             null|      null|             null|      null|   null|             null|         null|             null|     null| null|             null|             null|             null|null|     null|             null|             null|null|       null|             null|             null|       null| null|               null|             null|             null|  null|                 null|              null|             null|             null|             null|        null|             null|             null|             null|       null|             84.0|          null|    null| null|    null|             null|             null| null|    null|    null|             null|             null|   null|             null|  null|             null|                null|             null|             null|      null|             null|             null|  null|             null|\n",
            "|     CAM|       66.0|            70.75|            74.25|   null|             null|             null|74.78260869565217|   null|            71.25|73.16666666666667|      null|    null|   70.0|74.08333333333333|  null|             null|   null|   70.5|              70.8|    null|71.80246913580247|    68.0|             70.5|   67.0|77.66666666666667|69.33333333333333|      null|                    null|null|74.78571428571429|62.666666666666664|             70.4|   null|             69.5|             null|78.66666666666667|null|   null|             null|73.33333333333333|             76.0|72.71428571428571|              null|             73.5|             null|       null|72.47222222222223|             75.0|   null|             61.0|    null|             75.0|         null|null|            72.25|73.41176470588235| null|  null|72.33333333333333|73.33870967741936|             70.5|77.28571428571429|   null|null|     null|  null|             null|  null|             60.0|    null|     null|             78.0|             73.5|             null|     74.0|             null|             null|  74.0|            71.96|             70.5|             69.0|68.57142857142857|  null|      65.0| null|     null| 68.3529411764706|             68.0|  null|  null|   null|   null| 73.0|         null|     null|      null|             65.0|             null| null|      null|     null|             71.2|   74.0|             null|      null|             75.4|      null|   null|72.86842105263158|         null|             70.0|     null| 63.0|             72.0|             69.0|            69.25|null|     null|             null|             77.5|76.5|       null|70.94117647058823|           77.625|       null| null|  68.94444444444444|             78.0|79.33333333333333|  null|                 null| 68.93333333333334|69.81818181818181|             null|            74.25|        null|             80.5|72.28571428571429|74.28571428571429|       null|74.49122807017544|          null|    null| null|    null|70.16666666666667|71.29411764705883| 73.0|    null|    null|             null|             72.0|   72.5|73.52631578947368|  null|             79.0|                78.0|73.07692307692308|74.27272727272727|      null|            73.25|            77.75|  74.0|             null|\n",
            "|     RAM|       null|             null|             null|   null|             null|             null|             null|   null|             null|             null|      null|    null|   null|             null|  null|             null|   null|   null|              null|    null|72.42857142857143|    null|             null|   null|             null|             null|      null|                    null|null|             null|              null|             76.5|   null|             null|             null|             null|null|   null|             null|             null|             null|             null|              null|             null|             null|       null|             null|             null|   null|             null|    null|             null|         null|null|             null|             null| null|  null|             null|             72.0|             null|             null|   null|null|     null|  null|             null|  null|             null|    null|     null|             null|             null|             null|     null|             null|             null|  null|             null|             null|             null|             67.0|  null|      null| null|     null|             null|             null|  null|  null|   null|   null| null|         null|     null|      null|             null|             null| null|      null|     null|             null|   null|             null|      null|             86.0|      null|   null|             null|         null|             null|     null| null|             null|             null|             null|null|     null|             null|             null|null|       null|             null|             null|       null| null|               null|             null|             null|  null|                 null|              null|             null|             null|             null|        null|             null|             null|             null|       null|             null|          null|    null| null|    null|             null|             null| null|    null|    null|             null|             null|   null|             null|  null|             null|                null|             null|             null|      null|             71.0|             null|  null|             null|\n",
            "|      LB|       64.0|             66.0|            73.75|   null|             75.0|             null|72.22033898305085|   null|68.28571428571429|69.47058823529412|      null|    null|   null|71.36363636363636|  null|             69.0|   null|   70.0| 71.33333333333333|    null|73.82089552238806|    68.0|             73.0|   null|             72.0|             69.2|      null|                    null|null|69.26829268292683| 63.63333333333333|68.90566037735849|   null|             69.0|             72.0|74.55555555555556|64.0|   74.0|             null|72.66666666666667|72.66666666666667|            68.72|              null|75.33333333333333|69.33333333333333|       null|70.08064516129032|             75.0|   null|             66.0|    null|             null|         null|null|            68.25|72.58974358974359| 64.5|  null|             null| 71.0506329113924|73.71428571428571|             74.2|   null|null|     68.0|  71.5|             67.0|  null|             null|    70.0|     null|             71.0|71.66666666666667|             65.0|     null|             73.0|             75.0|  69.5|71.74545454545455|             72.6|             70.5|67.53846153846153|  null|      66.0| 66.0|     null|67.77272727272727|             75.0|  null|  null|   null|   null| null|         null|     66.0|      null|             67.0|71.33333333333333| null|      72.0|     null|71.55555555555556|   null|             62.0|      null|             75.0|      70.0|   null|         71.96875|         null|             63.0|     null| null|             70.0|             67.2|68.17391304347827|null|     null|             null|             73.2|71.0|       68.0|67.13636363636364|73.11764705882354|       null| null|  65.51851851851852|70.66666666666667|             75.0|  null|                 null|              65.0|70.61904761904762|           70.625|             70.0|        null|67.33333333333333|             73.0|           67.875|       null|74.27160493827161|          null|    null| null|    null|67.58333333333333|             69.0| 64.0|    null|    62.0|             null|             null|   70.0|70.34482758620689|  64.0|             76.4|                null|69.11111111111111|             75.4|      null|             72.0|71.83333333333333|  null|             68.0|\n",
            "|      LW|       null|             64.0|73.66666666666667|   null|             70.5|             null|75.18518518518519|   null|66.44444444444444|72.33333333333333|      null|    null|   null|           73.625|  null|             null|   null|   null| 69.66666666666667|    null|             77.2|    66.0|             84.0|   76.0|            68.25|             null|      null|                    null|78.0|69.84615384615384| 65.42857142857143|            71.25|   null|             75.0|             65.0|79.66666666666667|76.0|   67.5|             null|             75.0|             74.0|             74.5|              null|             74.0|             71.0|       74.0|73.94444444444444|             null|   null|             null|    null|             null|         66.0|null|             null|          72.8125| null|  68.5|             71.0|76.41666666666667|             72.0|             77.0|   null|null|     null|  80.0|             73.0|  null|             null|    null|     null|             80.0|             72.0|             66.0|     null|             68.0|             null|  null|         73.65625|             75.0|             68.0|             72.0|  null|      null| null|     null|69.14285714285714|73.33333333333333|  null|  null|   null|   null| 72.0|         null|     null|      null|             null|             73.5| null|      null|     null|             75.0|   null|             null|      null|69.66666666666667|      null|   null|             76.4|         null|             66.5|     null| null|79.66666666666667|             null|69.78571428571429|null|     null|             null|             71.5|76.0|       null|             null|             76.6|       null| null|  72.33333333333333|             80.0|             null|  null|                 null|              66.0|             76.0|             75.0|             76.5|        null|             null|             80.0|             69.6|       null|76.53846153846153|          null|    null| null|    72.0|69.28571428571429|             71.0| null|    null|    70.0|             70.0|             null|   null|75.33333333333333|  70.0|             79.0|                null|73.83333333333333|             75.0|      null|             69.0|             79.0|  null|             73.0|\n",
            "|     RCM|       null|             75.0|             76.0|   null|             null|             null|72.94444444444444|   null|             72.5|             69.6|      null|    null|   null|76.28571428571429|  null|             68.0|   null|   67.0|              73.5|    null|             75.8|    null|             null|   null|             73.5|             68.0|      null|                    null|null|             71.4|63.857142857142854|73.54545454545455|   null|             null|             null|             81.0|null|   null|             null|             null|             null|71.44444444444444|              null|             76.0|             71.0|       null|70.29729729729729|             78.0|   null|             null|    null|             null|         null|null|             75.0|72.61538461538461| 75.0|  null|             null|76.77777777777777|            69.75|             null|   null|null|     null|  null|             null|  null|             null|    72.0|     null|             76.0|69.66666666666667|             67.0|     null|             null|             null|  null|           72.875|80.33333333333333|             null|66.61538461538461|  null|      70.0| null|     null|69.81818181818181|             null|  null|  null|   null|   null| null|         null|     null|      null|             null|             84.0| null|      null|     null|75.83333333333333|   null|             null|      null|             75.0|      null|   null|             73.5|         null|             73.0|     null| null|             79.2|             68.0|71.81818181818181|null|     null|             71.0|             71.0|null|       null|             73.5|75.57142857142857|       null| null|  65.84615384615384|             null|             null|  null|                 null|              64.0|             70.6|             70.5|             73.5|        null|             null|             null|             69.0|       null|            76.75|          null|    null| null|    null|70.46153846153847|            74.75| null|    null|    null|             null|             null|   81.0|             70.5|  70.0|             81.0|                null|73.83333333333333|76.14285714285714|      null|             null|             64.0|  null|             74.0|\n",
            "|      GK|       null|             77.5|             67.6|   null|             null|             null|71.76288659793815|   null|             67.0| 68.1590909090909|      null|    null|   69.0|            72.25|  null|             70.5|   null|   69.0|              70.4|    null|72.66176470588235|    65.2|             77.0|   null|             75.2|66.11111111111111|      null|                    null|null|69.30952380952381|  62.9811320754717|69.21153846153847|   null|             61.0|             77.0| 72.6923076923077|75.0|   71.5|             null|             71.5|             65.0|68.91428571428571|              null|72.33333333333333|68.66666666666667|       null| 68.2183908045977|             68.0|   null|             72.5|    null|             72.0|         null|null|           70.875|72.01980198019803| 65.0|  73.0|             70.0|70.90243902439025|             67.0| 74.3529411764706|   null|null|     68.0|  65.0|             null|  null|             null|    70.0|     null|             73.2|71.33333333333333|64.66666666666667|     null|68.33333333333333|             null|  67.0| 71.3695652173913|            68.25|             78.0|63.18032786885246|  null|      null| null|     null|            67.95|             72.0|  null|  68.0|   null|   null| null|         null|     74.0|      null|             null|             66.0| null|      null|     null| 70.1086956521739|   72.0|             71.0|      null|             67.4|      null|   68.0|71.19642857142857|         null|             67.0|     null| null|             82.0|68.42857142857143|68.51612903225806|72.0|     null|             null|73.66666666666667|71.0|       75.0|67.77966101694915|         75.53125|       null| null|   65.8974358974359|             75.6|74.92857142857143|  null|                 null| 64.38297872340425| 66.9047619047619|           72.125|71.77777777777777|        null|69.42857142857143|             79.0|69.57142857142857|       null|73.88793103448276|          null|    null| null|    null|68.32608695652173|70.84848484848484| null|    null|    null|             null|             53.0|   73.0|69.87234042553192|  null|             73.1|                null|67.84722222222223|             72.5|      null|            75.25|67.71428571428571|  null|             null|\n",
            "|      RB|       null|             75.0|             63.0|   null|             null|             71.5|            71.98|   72.0|66.21428571428571| 69.0909090909091|      62.0|    null|   null|             72.0|  null|             null|   null|   70.0|              71.0|    null|72.57142857142857|    69.0|             77.0|   null|71.66666666666667|             70.0|      67.0|                    null|null|69.13793103448276|62.476190476190474|             71.0|   70.0|             null|             68.5|            76.75|null|   71.0|             67.0|             72.5|             78.0|             69.6|              null|             68.5|             71.0|       null|70.25210084033614|             null|   null|             66.0|    64.0|             71.0|         null|null|             64.5|72.72972972972973| 71.0|  65.0|             76.0|70.62650602409639|            71.75|71.83333333333333|   null|67.0|     null|  null|             72.0|  null|             70.0|    69.0|     null|             70.5|             66.0|             66.0|     null|             72.0|             null|  null|72.57894736842105|             75.5|67.66666666666667|66.93548387096774|  null|      65.0| null|     null|66.05555555555556|             69.0|  null|  null|   null|   null| null|         66.0|     null|      72.0|             72.0|             75.5| null|      66.0|     null|69.39473684210526|   null|             69.0|      null|             72.0|      null|   78.0|73.35135135135135|         null|66.66666666666667|     null| null|             73.0|             68.8|69.78260869565217|null|     null|             80.0|             72.5|73.0|       null|68.03225806451613|74.92857142857143|       null| null|  64.79166666666667|             74.0|76.14285714285714|  null|                 null| 66.67567567567568|68.73684210526316|           72.625|72.44444444444444|        70.0|             75.0|             69.5|             68.5|       null|74.37931034482759|          56.0|    68.0| null|    69.5|69.61111111111111|70.73913043478261| null|    null|    null|             null|             null|   69.5|            71.75|  64.0|            74.25|                null|69.65789473684211|72.11111111111111|      null|71.83333333333333| 68.3076923076923|  null|             72.0|\n",
            "|      RS|       null|             71.0|             null|   null|             66.0|             null|             73.8|   null|             66.5|70.66666666666667|      66.0|    null|   null|             77.0|  null|             76.5|   null|   73.0|              null|    null|             74.0|    null|             null|   null|             81.0|             77.0|      null|                    null|null|             76.0|              67.0|77.42857142857143|   null|             null|             null|             71.0|null|   null|             null|             73.0|             70.0|             67.5|              null|             73.0|             null|       null|67.10714285714286|             null|   null|             null|    null|             null|         null|71.0|             null|            77.75| null|  null|             null|             71.0|             75.0|             null|   null|null|     null|  null|             null|  null|             null|    null|     null|             null|             null|             64.0|     null|             null|             null|  80.0|75.23529411764706|            75.25|             62.0|             73.0|  null|      null| null|     null|65.66666666666667|             null|  null|  null|   null|   null| null|         null|     null|      null|             null|             80.0| null|      null|     null|75.66666666666667|   null|             null|      67.0|             70.0|      null|   null|             71.0|         null|             70.0|     null| null|             73.0|             68.0|             73.0|null|     null|             70.0|             null|null|       null|71.33333333333333|             77.0|       null| null|               71.5|             null|             75.5|  null|                 null| 67.33333333333333|            71.75|             68.5|             73.5|        null|             null|             null|             null|       null|77.27272727272727|          null|    null| null|    null|73.33333333333333|             null| null|    null|    null|             null|             null|   null|             69.5|  null|             null|                null|             76.0|            74.75|      null|             74.5|             67.0|  null|             75.0|\n",
            "|     LCB|       null|             null|             69.0|   null|             72.0|             null|73.91428571428571|   null|             67.6|71.58333333333333|      null|    null|   null|             75.0|  null|             null|   null|   72.0|              68.5|    null|74.48936170212765|    69.0|             76.0|   null|             72.8|             66.0|      72.5|                    null|null|73.15384615384616| 66.72727272727273| 72.8076923076923|   null|             69.0|             71.5|77.66666666666667|null|   null|             78.0|             75.0|             69.0|70.84615384615384|              null|72.66666666666667|             72.5|       null|70.92592592592592|             null|   null|             69.0|    null|             null|         null|null|             67.5|76.02702702702703| null|  81.0|             73.0|72.82051282051282|             76.5|             75.0|   68.0|null|     null|  73.0|             null|  null|             null|    null|     null|             75.0|             73.0|             62.0|     null|             67.0|             null|  null|72.88888888888889|             75.0|             74.0|67.85714285714286|  null|      null| null|     null|             66.6|             null|  null|  null|   66.0|   null| null|         null|     null|      null|             null|             null| null|      null|     null|             72.4|   74.0|             69.0|      null|            68.25|      75.0|   null|            75.05|         71.0|             67.0|     66.0| null|             null|             65.0|70.06666666666666|null|     null|             68.0|71.66666666666667|74.5|       null|             68.0|73.71428571428571|       null| null|  68.66666666666667|             74.5|             73.0|  null|                 null|              67.6|72.27272727272727|             75.6|72.88888888888889|        null|79.33333333333333|             74.5|             69.0|       null|74.70967741935483|          null|    null| null|    null|          67.5625|72.16666666666667| null|    null|    null|             null|             null|   76.5|73.83333333333333|  null|             78.0|                null|73.07142857142857|             73.5|      null|             78.0|            72.75|  null|             null|\n",
            "|      CM|       71.0|            71.75|77.66666666666667|   null|             null|             null|73.08695652173913|   null|67.71428571428571|68.70588235294117|      null|    null|   null|74.21428571428571|  null|             null|   null|   72.5|              68.8|    68.0|             76.0|    66.5|             77.0|   null|             72.5|             68.5|      74.5|                    85.0|null|70.17647058823529|62.432432432432435|69.77777777777777|   73.0|             null|70.33333333333333|72.63636363636364|null|   null|             null|74.36363636363636|             70.0|69.21212121212122|              null|             71.0|             73.0|       64.0|69.79591836734694|             null|   null|             null|    null|             66.0|         null|null|70.66666666666667|73.91379310344827| null|  null|             null|74.03333333333333|74.26666666666667|             73.0|   null|null|     null|  82.0|             68.0|  63.0|             69.0|    null|     71.0|             72.5|             72.5|             61.0|     null|             79.0|             64.0|  76.5|72.11111111111111|             74.0|             66.5|65.92105263157895|  null|      null| null|     null| 65.5952380952381|             74.0|  null|  null|   null|   null| null|         71.0|     68.0|      76.0|             64.0|             76.0| null|      null|     null|70.36842105263158|   67.0|             75.5|      68.0|           75.125|      null|   null|72.57142857142857|         null|             68.0|     null| null|65.16666666666667|             72.0|68.91304347826087|null|     null|             null|70.66666666666667|71.5|       null|67.84615384615384|75.44444444444444|       null| null|             67.375|             72.2|             75.0|  null|                 null| 68.61904761904762| 71.3030303030303|             71.1|77.88888888888889|        null|74.16666666666667|             71.0|72.83333333333333|       null|          74.7875|          null|    null| null|    null|68.51282051282051|           72.625| 64.0|    null|    63.0|             null|             null|   69.0|71.44444444444444|  null|74.71428571428571|                null|70.52631578947368|71.33333333333333|      67.5|             72.6|             67.9|  76.0|             null|\n",
            "|      RW|       null|             72.5|             76.6|   null|             null|             null|73.20689655172414|   70.5|             68.6|             71.0|      null|    null|   null|78.16666666666667|  61.0|             null|   null|   null|              75.0|    null|76.42857142857143|    null|             null|   null|             null|             64.0|      null|                    null|null|70.82352941176471| 63.44444444444444|            74.75|   null|             67.0|             67.0|             null|null|   null|             null|             75.0|             77.5|             76.2|              null|             72.0|             null|       null|74.73684210526316|             null|   null|             null|    null|             null|         null|null|             65.5|             74.7| null|  null|             81.0|             73.0|           72.375|             70.0|   null|null|     null|  null|             74.5|  null|             78.0|    null|     null|70.66666666666667|             74.5|             null|     null|             null|             null|  null| 76.3157894736842|             75.8|             null|             65.0|  null|      null| 66.0|     66.0|             70.0|             83.0|  null|  null|   null|   null| 76.0|         null|     null|      null|             67.0|             null| null|      null|     null|            73.75|   null|             70.0|      null|             null|      76.0|   null|74.57142857142857|         null|             62.0|     null| null|             75.2|             null|             70.4|null|     null|             null|             79.0|76.0|       null|             null|76.53846153846153|       null| null|               null|             78.0|             76.0|  null|                 null|              null|             70.0|             69.0|             83.0|        null|             75.0|             71.0|74.66666666666667|       null|             80.4|          null|    null| null|    null|66.07692307692308|75.66666666666667| null|    null|    null|             65.0|             null|   80.0|             71.0|  null|             null|                null|             72.5|            71.75|      null|            76.25|             76.5|  68.0|             null|\n",
            "|     RCB|       null|             68.0|             74.5|   null|             65.0|             null|73.05405405405405|   null|             69.5| 70.0909090909091|      null|    null|   null|             75.5|  null|             73.0|   null|   66.0|              69.0|    null| 75.2051282051282|    69.0|             70.0|   null|70.66666666666667|             71.0|      75.0|                    null|null|            70.25|              67.0|            72.75|   null|             66.0|             75.5|71.55555555555556|null|   null|             null|            69.75|             76.0|             72.0|              null|             null|             67.0|       null|71.44642857142857|             null|   null|             null|    null|             null|         null|null|             72.0|75.72413793103448| null|  null|             75.0|72.72916666666667|             72.0|             78.0|   null|null|     null|  65.5|             null|  null|             null|    null|     null|             81.0|             70.0|             71.0|     null|             73.0|             null|  null|74.08333333333333|             74.0|             71.0|69.93333333333334|  null|      null| null|     null|             68.5|             null|  null|  64.0|   null|   null| null|         null|     null|      73.0|             null|             65.0| null|      null|     null|             73.7|   null|             null|      69.0|             71.5|      74.0|   null|73.61111111111111|         null|             67.0|     null| null|            70.25|             71.0|          69.1875|null|     null|             null|76.14285714285714|71.0|       null|70.81818181818181|             75.0|       null| null|   65.3076923076923|             71.5|             80.0|  null|                 null|              67.5|             67.5|            75.25|             74.8|        null|75.33333333333333|             69.0|             67.0|       null|74.52777777777777|          null|    null| null|    null|70.13333333333334|74.11111111111111| null|    null|    null|             79.0|             null|   null|74.22222222222223|  null|             73.0|                null|72.54545454545455|75.71428571428571|      null|             76.0|69.85714285714286|  74.0|             null|\n",
            "|     CDM|       null|             69.5|            70.25|   null|             null|             null|72.76363636363637|   null|          66.8125|69.63157894736842|      71.0|    null|   null|73.71428571428571|  null|             null|   null|   67.0|              82.0|    null|72.67441860465117|    63.5|             64.0|   null|           74.125|             71.8|      67.0|                    null|null|             71.8|62.916666666666664|70.88888888888889|   74.0|             69.0|             null|75.11111111111111|null|   null|             null|             69.5|71.66666666666667|             74.0|              null|            69.25|             73.0|       null|            71.88|             null|   null|             null|    null|             76.0|         null|null|             75.0|73.03174603174604| 67.0|  74.0|             73.0|71.58227848101266|74.83333333333333|72.66666666666667|   null|null|     null|  71.0|            76.25|  66.0|             null|    null|     null|72.66666666666667|             68.0|             60.0|     null|             76.0|             null|  72.0|          76.0625|           76.125|             null|65.89473684210526|  null|      null| 74.0|     null|65.33333333333333|             66.0|  null|  null|   null|   null| null|         null|     60.0|      71.0|             63.0|72.66666666666667| null|      null|     null|           70.625|   null|             79.0|      null|             69.8|      null|   null|72.26666666666667|         null|             67.0|     null| null|73.85714285714286|            72.75|71.77777777777777|null|     null|             null|             71.0|74.5|       null|67.29629629629629|74.83333333333333|       null| null|  68.77272727272727|             80.0|             75.2|  null|                 null| 66.06666666666666|             72.6|             73.0|             80.0|        null|             70.0|             77.5|             73.5|       null|74.92307692307692|          null|    null| 60.0|    null|             70.0|73.88888888888889| 67.0|    null|    null|             68.5|             null|   null|71.79310344827586|  null|72.66666666666667|                null|71.08333333333333|71.14285714285714|      null|             75.0|             70.6|  null|             null|\n",
            "|      LS|       null|             null|             null|   null|             null|             null|75.23076923076923|   73.0|             64.0|             82.0|      null|    64.5|   null|             76.0|  null|             null|   null|   null|              77.0|    null|75.33333333333333|    66.0|             null|   null|             80.0|             62.0|      null|                    null|null|             72.5|              null|             74.0|   null|             70.0|             null|             65.0|null|   null|             73.0|             null|             null|            70.25|              null|             75.0|             null|       null|68.92307692307692|             null|   72.0|             null|    null|             null|         null|null|             66.0|             74.8| null|  76.0|             null|             71.0|             72.0|             null|   null|null|     null|  null|             69.0|  null|             null|    null|     null|             null|             null|             67.0|     null|             null|             null|  80.0|          73.5625|             76.0|             64.0|            70.75|  null|      null| null|     null|             70.0|             null|  null|  null|   null|   null| null|         null|     null|      null|             null|             null| null|      null|     null|             80.5|   null|             72.5|      null|             78.0|      null|   null|71.33333333333333|         null|             null|     null| null|             70.0|             null|71.33333333333333|null|     null|             null|             71.0|null|       null|             75.0|             79.0|       null| null|               67.6|             75.0|             null|  null|                 null|              null|             69.0|             74.5|             86.0|        null|             null|             null|             null|       null|             78.2|          null|    null| null|    null|73.66666666666667|             66.0| 78.0|    null|    68.0|             null|             null|   67.0|             null|  null|             73.0|                null|             70.0|             74.5|      null|             84.0|             null|  null|             null|\n",
            "|      CB|       null|74.33333333333333|             69.5|   64.0|             79.0|             null|72.85858585858585|   null| 69.0952380952381|         70.28125|      null|    66.0|   null|75.04545454545455|  null|             72.0|   null|   74.0|              74.6|    null| 71.9090909090909|    63.0|             null|   null|73.08333333333333|             70.2|      null|                    72.0|null|71.17241379310344| 64.69444444444444|71.38461538461539|   null|69.66666666666667|            70.75|            73.25|null|   66.0|67.66666666666667|             73.1|             72.6|69.94594594594595|              null|             71.5|             76.5|       75.0| 70.2919254658385|             null|   null|70.66666666666667|    null|             69.0|         68.0|null|67.71428571428571|72.83870967741936| null|  79.0|             77.5|        71.359375|             72.5|74.13333333333334|   null|null|     67.0|  77.5|             74.0|  70.0|             73.0|    null|     62.0|             68.5|             71.0|             61.0|     null|             null|             68.0|  null| 72.1219512195122|             72.4|             72.0|64.63265306122449|  null|      null| 64.0|     null|67.07692307692308|             73.5|  null|  54.0|   null|   null| null|         null|     64.0|      65.0|72.33333333333333|             72.5| null|      70.0|     69.0|70.88372093023256|   null|75.66666666666667|      null|            78.25|      null|   null|73.30952380952381|         null|           67.375|     null| null|73.22222222222223|           67.375|68.06451612903226|null|     null|             69.8|             73.0|77.0|       null|68.82352941176471|75.96153846153847|       63.0| 68.0|             66.875|             73.8|             76.5|  null|                 null| 66.48780487804878|            69.72|             72.3|            71.75|        66.0|71.66666666666667|72.57142857142857|             71.0|       null|73.77884615384616|          null|    null| null|    null|           68.225|72.13636363636364| null|    null|    null|             null|             null|   70.5|72.10714285714286|  null|           74.125|                null|69.41666666666667|73.05882352941177|      null|             70.0|          69.8125|  null|             73.0|\n",
            "|     RWB|       null|             null|             82.0|   null|             null|             null|             72.0|   null|             66.0|             66.0|      null|    null|   null|             72.0|  null|             null|   null|   null|              70.0|    null|             null|    null|             null|   null|             74.0|             null|      null|                    null|null|             null|61.666666666666664|             74.0|   null|             null|             null|             74.0|null|   null|             null|             81.0|             null|           68.625|              null|             null|             null|       null|67.86666666666666|             null|   null|             null|    null|             null|         null|null|             null|            73.75| null|  null|             null|72.66666666666667|             null|             null|   null|null|     null|  null|             null|  null|             null|    null|     null|             null|             75.0|             null|     null|             null|             null|  null|             72.5|             72.0|             null|             66.0|  70.0|      null| null|     null|             null|             null|  null|  null|   null|   null| null|         null|     null|      null|             null|             null| null|      null|     null|             80.0|   null|             null|      null|             null|      null|   null|             70.5|         null|             61.0|     null| null|             null|             null|             72.0|null|     null|             null|             null|null|       null|             null|             null|       null| null|               71.0|             null|             null|  null|                 null|              65.0|             65.5|             null|             null|        null|             null|             null|             68.0|       null|            78.25|          null|    null| null|    null|             68.0|             71.0| null|    null|    null|             null|             null|   null|             null|  null|             null|                null|             null|             null|      null|             null|             64.0|  null|             null|\n",
            "|      CF|       null|             null|             null|   null|             null|             null|             79.0|   null|             null|             68.0|      null|    null|   null|             null|  null|             null|   null|   null|              null|    null|            78.25|    null|             74.0|   null|             72.0|             null|      null|                    null|null|             73.0|              null|             null|   null|             null|             null|             null|null|   75.0|             null|             80.0|             null|             null|              null|             null|             null|       null|             70.0|             null|   null|             null|    null|             null|         null|null|             78.0|             null| null|  null|             null|             73.6|             77.0|             null|   null|null|     null|  null|             null|  null|             null|    null|     null|             null|             81.0|             null|     null|             null|             null|  null|             75.8|             null|             null|           66.625|  null|      null| null|     58.0|70.66666666666667|             73.0|  null|  null|   null|   null| null|         null|     68.0|      null|             null|             null| null|      null|     null|             75.0|   null|             null|      null|             null|      null|   68.0|             null|         null|             null|     null| null|             null|             null|             74.0|null|     null|             null|             null|75.0|       null|             88.0|             null|       null| null|               null|             null|             78.0|  null|                 null|              null|             71.0|             null|             null|        null|             null|             null|             null|       null|            79.25|          null|    null| null|    null|            70.25|             null| null|    null|    null|             null|             null|   null|             75.0|  null|             null|                null|             71.0|             null|      null|             null|             null|  null|             71.0|\n",
            "|      RM|       null|             64.0|            74.75|   null|             68.0|             null| 73.2741935483871|   83.0|70.53846153846153|70.30434782608695|      null|    null|   null|74.26666666666667|  null|             68.0|   null|   72.0|              76.0|    null|75.30434782608695|    71.5|             77.5|   null|             70.5|             74.5|      null|                    null|null|72.18181818181819|          65.03125|70.65384615384616|   null|             null|             75.5|76.66666666666667|null|   70.0|             null|             77.0|             72.5|69.18181818181819|              null|             76.0|             82.0|       65.0|69.94782608695652|             null|   null|             63.0|    null|             64.5|         65.5|null|             73.8|74.77551020408163| 68.0|  76.0|             76.0|70.85227272727273|             71.6|76.42857142857143|   null|null|     null|  73.0|             null|  null|             70.0|    78.5|     null|             71.0|             77.5|             67.0|     null|74.33333333333333|             null|  null|73.37037037037037|             81.5|             66.0| 66.8108108108108|  null|      null| null|     null|          68.4375|             70.5|  null|  null|   null|   null| null|         66.0|     71.0|      null|             null|             73.0| null|      null|     null|            72.28|   null|             74.5|      null|             74.8|      null|   null|71.78947368421052|         null|             76.0|     null| 66.0|             77.0|69.85714285714286|           69.125|null|     66.0|             70.5|76.33333333333333|73.0|       null|         68.28125|            76.36|       null| null|               66.7|72.16666666666667|             70.5|  null|                 null| 66.33333333333333|72.42105263157895|             80.2|             69.6|        null|             75.0|             70.6|             66.0|       null|74.86585365853658|          null|    null| 66.0|    null|             70.0|71.41666666666667| 72.0|    null|    68.0|76.66666666666667|             null|   70.0|73.57142857142857|  68.0|             77.5|                null|            72.75|69.57142857142857|      null|73.14285714285714|71.11111111111111|  null|             null|\n",
            "|     LAM|       null|             null|             null|   null|             null|             null|             null|   null|             null|             null|      null|    null|   null|             null|  null|             null|   null|   null|              null|    null|71.46153846153847|    null|             null|   null|             null|             null|      null|                    null|null|             null|              null|             81.0|   null|             null|             null|             null|null|   null|             null|             null|             null|             null|              null|             null|             null|       null|             null|             null|   null|             null|    null|             null|         null|null|             null|             null| null|  null|             null|             70.0|             null|             null|   null|null|     null|  null|             null|  null|             null|    null|     null|             null|             null|             null|     null|             null|             null|  null|             null|             null|             null|             69.0|  null|      null| null|     null|             null|             null|  null|  null|   null|   null| null|         null|     null|      null|             null|             null| null|      null|     null|             null|   null|             null|      null|             null|      null|   null|             null|         null|             null|     null| null|             null|             null|             null|null|     null|             null|             null|null|       null|             null|             null|       null| null|               null|             null|             null|  null|                 null|              null|             null|             null|             81.0|        null|             null|             null|             null|       null|             null|          null|    null| null|    null|             null|             null| null|    null|    null|             null|             null|   null|             null|  null|             null|                null|             null|             68.0|      null|             null|             null|  75.0|             null|\n",
            "|     LDM|       null|72.66666666666667|             73.0|   null|             null|             null|           73.375|   null|             70.5|             75.5|      null|    null|   null|             75.5|  null|             71.0|   null|   null|             72.25|    null|            74.16|    57.0|             null|   65.0|             null|             null|      71.0|                    71.0|null|            71.25|              60.0|70.81818181818181|   null|             null|             77.0|             84.0|null|   null|             null|             74.0|             null|             69.5|              null|             null|             67.0|       null|70.15384615384616|             null|   null|             null|    null|             83.0|         null|null|             null|74.76470588235294| null|  null|             71.0|71.52173913043478|             76.0|             75.0|   null|null|     null|  82.0|             null|  null|             null|    68.0|     null|             null|             null|             null|     null|             null|             null|  73.0|             70.0|            76.75|             null|             70.0|  null|      null| null|     null|             68.0|             null|  70.0|  null|   null|   null| null|         null|     null|      78.0|             null|             75.0| null|      null|     null|             71.6|   null|             null|      null|             null|      null|   null|78.66666666666667|         null|             null|     null| null|             79.5|             null|             71.0|null|     null|             70.0|             71.0|73.0|       null|67.88888888888889|74.42857142857143|       null| null|               65.6|             73.0|             86.0|  null|                 null| 68.85714285714286|             69.5|             null|             70.0|        null|             76.0|             68.0|             67.0|       null|70.41666666666667|          null|    null| null|    null|             66.0|             81.5| null|    null|    null|             null|             null|   null|            72.75|  null|             77.0|                null|73.33333333333333|             null|      null|             null|             86.0|  null|             null|\n",
            "|      ST|       null|            72.25|            73.75|   null|75.66666666666667|             63.0|           72.928|   70.0|            67.44|68.62962962962963|      67.0|    null|   70.0|75.33333333333333|  null|67.66666666666667|   70.0|   71.0| 72.85714285714286|    null|71.56756756756756|    70.5|67.33333333333333|   null|73.86666666666666|72.28571428571429|      75.0|                    null|78.0|70.10416666666667|          63.46875|70.89189189189189|   null|            71.25|            68.25|72.26666666666667|null|   69.5|             65.0|70.88888888888889| 71.9090909090909|69.91304347826087|              85.0|             75.0|             72.0|       null| 69.5575221238938|             null|   65.0|             null|    null|             74.0|         null|null|70.83333333333333|72.45283018867924| 72.0|  79.5|69.66666666666667|           71.125| 75.0909090909091|73.35714285714286|   null|null|     null|  70.5|73.33333333333333|  null|69.66666666666667|    75.0|     null|            72.25|             70.0|             58.5|     null|             75.0|             null|  70.0|            72.75|73.44444444444444|             67.0|67.27272727272727|  null|      null| 74.0|     77.0|68.36111111111111|           69.125|  null|  78.0|   null|   73.0| null|         null|     77.0|      null|             67.0|70.33333333333333| null|      null|     null|72.31428571428572|   79.0|74.66666666666667|      null|71.72727272727273|      null|   null| 73.6829268292683|         null|             70.0|     null| 71.0|73.02941176470588|69.76923076923077| 68.2439024390244|null|     null|68.66666666666667|71.04347826086956|74.0|       null|           69.425|74.66666666666667|       null| null|  66.18604651162791|             73.0|             75.6|  null|                 72.0|              67.1|70.19444444444444|72.27272727272727|73.14285714285714|       72.25|            72.75|70.28571428571429|71.66666666666667|       63.0|73.95412844036697|          62.0|    null| 72.0|    null|69.40816326530613|74.58333333333333| 80.0|    75.0|    null|             73.5|             null|   69.2|72.04166666666667|  null|73.58333333333333|                null|71.08108108108108|            74.55|      null|72.16666666666667|69.93333333333334| 74.25|70.66666666666667|\n",
            "+--------+-----------+-----------------+-----------------+-------+-----------------+-----------------+-----------------+-------+-----------------+-----------------+----------+--------+-------+-----------------+------+-----------------+-------+-------+------------------+--------+-----------------+--------+-----------------+-------+-----------------+-----------------+----------+------------------------+----+-----------------+------------------+-----------------+-------+-----------------+-----------------+-----------------+----+-------+-----------------+-----------------+-----------------+-----------------+------------------+-----------------+-----------------+-----------+-----------------+-----------------+-------+-----------------+--------+-----------------+-------------+----+-----------------+-----------------+-----+------+-----------------+-----------------+-----------------+-----------------+-------+----+---------+------+-----------------+------+-----------------+--------+---------+-----------------+-----------------+-----------------+---------+-----------------+-----------------+------+-----------------+-----------------+-----------------+-----------------+------+----------+-----+---------+-----------------+-----------------+------+------+-------+-------+-----+-------------+---------+----------+-----------------+-----------------+-----+----------+---------+-----------------+-------+-----------------+----------+-----------------+----------+-------+-----------------+-------------+-----------------+---------+-----+-----------------+-----------------+-----------------+----+---------+-----------------+-----------------+----+-----------+-----------------+-----------------+-----------+-----+-------------------+-----------------+-----------------+------+---------------------+------------------+-----------------+-----------------+-----------------+------------+-----------------+-----------------+-----------------+-----------+-----------------+--------------+--------+-----+--------+-----------------+-----------------+-----+--------+--------+-----------------+-----------------+-------+-----------------+------+-----------------+--------------------+-----------------+-----------------+----------+-----------------+-----------------+------+-----------------+\n",
            "\n"
          ],
          "name": "stdout"
        }
      ]
    },
    {
      "cell_type": "code",
      "metadata": {
        "colab": {
          "base_uri": "https://localhost:8080/"
        },
        "id": "tQYaNl1cIhCt",
        "outputId": "8c11be63-412f-4ed1-90eb-fb9f4391f383"
      },
      "source": [
        "# finding the maximum value for each row from all columns excluding Position\n",
        "from pyspark.sql.functions import greatest, col, lit, coalesce, sum\n",
        "#rowmax = sum([coalesce(col(x), lit(0)) for x in pivot_df.columns])\n",
        "rowmax = greatest(*[coalesce(col(x), lit(0)) for x in pivot_df.columns[1:]]) \n",
        "# adding the column containing maximum values\n",
        "pivot_df.withColumn('Position(Maximum_Potential)',rowmax).show(pivot_df.count())"
      ],
      "execution_count": 16,
      "outputs": [
        {
          "output_type": "stream",
          "text": [
            "+--------+-----------+-----------------+-----------------+-------+-----------------+-----------------+-----------------+-------+-----------------+-----------------+----------+--------+-------+-----------------+------+-----------------+-------+-------+------------------+--------+-----------------+--------+-----------------+-------+-----------------+-----------------+----------+------------------------+----+-----------------+------------------+-----------------+-------+-----------------+-----------------+-----------------+----+-------+-----------------+-----------------+-----------------+-----------------+------------------+-----------------+-----------------+-----------+-----------------+-----------------+-------+-----------------+--------+-----------------+-------------+----+-----------------+-----------------+-----+------+-----------------+-----------------+-----------------+-----------------+-------+----+---------+------+-----------------+------+-----------------+--------+---------+-----------------+-----------------+-----------------+---------+-----------------+-----------------+------+-----------------+-----------------+-----------------+-----------------+------+----------+-----+---------+-----------------+-----------------+------+------+-------+-------+-----+-------------+---------+----------+-----------------+-----------------+-----+----------+---------+-----------------+-------+-----------------+----------+-----------------+----------+-------+-----------------+-------------+-----------------+---------+-----+-----------------+-----------------+-----------------+----+---------+-----------------+-----------------+----+-----------+-----------------+-----------------+-----------+-----+-------------------+-----------------+-----------------+------+---------------------+------------------+-----------------+-----------------+-----------------+------------+-----------------+-----------------+-----------------+-----------+-----------------+--------------+--------+-----+--------+-----------------+-----------------+-----+--------+--------+-----------------+-----------------+-------+-----------------+------+-----------------+--------------------+-----------------+-----------------+----------+-----------------+-----------------+------+-----------------+---------------------------+\n",
            "|Position|Afghanistan|          Albania|          Algeria|Andorra|           Angola|Antigua & Barbuda|        Argentina|Armenia|        Australia|          Austria|Azerbaijan|Barbados|Belarus|          Belgium|Belize|            Benin|Bermuda|Bolivia|Bosnia Herzegovina|Botswana|           Brazil|Bulgaria|     Burkina Faso|Burundi|         Cameroon|           Canada|Cape Verde|Central African Republic|Chad|            Chile|          China PR|         Colombia|Comoros|            Congo|       Costa Rica|          Croatia|Cuba|Curacao|           Cyprus|   Czech Republic|         DR Congo|          Denmark|Dominican Republic|          Ecuador|            Egypt|El Salvador|          England|Equatorial Guinea|Eritrea|          Estonia|Ethiopia|    FYR Macedonia|Faroe Islands|Fiji|          Finland|           France|Gabon|Gambia|          Georgia|          Germany|            Ghana|           Greece|Grenada|Guam|Guatemala|Guinea|    Guinea Bissau|Guyana|            Haiti|Honduras|Hong Kong|          Hungary|          Iceland|            India|Indonesia|             Iran|             Iraq|Israel|            Italy|      Ivory Coast|          Jamaica|            Japan|Jordan|Kazakhstan|Kenya|Korea DPR|   Korea Republic|           Kosovo|Kuwait|Latvia|Lebanon|Liberia|Libya|Liechtenstein|Lithuania|Luxembourg|       Madagascar|             Mali|Malta|Mauritania|Mauritius|           Mexico|Moldova|       Montenegro|Montserrat|          Morocco|Mozambique|Namibia|      Netherlands|New Caledonia|      New Zealand|Nicaragua|Niger|          Nigeria| Northern Ireland|           Norway|Oman|Palestine|           Panama|         Paraguay|Peru|Philippines|           Poland|         Portugal|Puerto Rico|Qatar|Republic of Ireland|          Romania|           Russia|Rwanda|S?o Tom�� & Pr��ncipe|      Saudi Arabia|         Scotland|          Senegal|           Serbia|Sierra Leone|         Slovakia|         Slovenia|     South Africa|South Sudan|            Spain|St Kitts Nevis|St Lucia|Sudan|Suriname|           Sweden|      Switzerland|Syria|Tanzania|Thailand|             Togo|Trinidad & Tobago|Tunisia|           Turkey|Uganda|          Ukraine|United Arab Emirates|    United States|          Uruguay|Uzbekistan|        Venezuela|            Wales|Zambia|         Zimbabwe|Position(Maximum_Potential)|\n",
            "+--------+-----------+-----------------+-----------------+-------+-----------------+-----------------+-----------------+-------+-----------------+-----------------+----------+--------+-------+-----------------+------+-----------------+-------+-------+------------------+--------+-----------------+--------+-----------------+-------+-----------------+-----------------+----------+------------------------+----+-----------------+------------------+-----------------+-------+-----------------+-----------------+-----------------+----+-------+-----------------+-----------------+-----------------+-----------------+------------------+-----------------+-----------------+-----------+-----------------+-----------------+-------+-----------------+--------+-----------------+-------------+----+-----------------+-----------------+-----+------+-----------------+-----------------+-----------------+-----------------+-------+----+---------+------+-----------------+------+-----------------+--------+---------+-----------------+-----------------+-----------------+---------+-----------------+-----------------+------+-----------------+-----------------+-----------------+-----------------+------+----------+-----+---------+-----------------+-----------------+------+------+-------+-------+-----+-------------+---------+----------+-----------------+-----------------+-----+----------+---------+-----------------+-------+-----------------+----------+-----------------+----------+-------+-----------------+-------------+-----------------+---------+-----+-----------------+-----------------+-----------------+----+---------+-----------------+-----------------+----+-----------+-----------------+-----------------+-----------+-----+-------------------+-----------------+-----------------+------+---------------------+------------------+-----------------+-----------------+-----------------+------------+-----------------+-----------------+-----------------+-----------+-----------------+--------------+--------+-----+--------+-----------------+-----------------+-----+--------+--------+-----------------+-----------------+-------+-----------------+------+-----------------+--------------------+-----------------+-----------------+----------+-----------------+-----------------+------+-----------------+---------------------------+\n",
            "|      RF|       null|             null|             null|   null|             null|             null|             87.0|   null|             null|             66.0|      null|    null|   null|             82.0|  null|             null|   null|   null|              null|    null|             null|    null|             null|   null|             null|             null|      null|                    null|null|             null|              72.0|             null|   null|             null|             null|             null|null|   null|             null|             null|             null|             null|              null|             null|             null|       null|             null|             null|   null|             null|    null|             null|         null|null|             69.0|             null| null|  null|             null|             78.0|             null|             null|   null|null|     null|  null|             null|  null|             null|    null|     null|             null|             null|             null|     null|             null|             null|  null|             75.0|             null|             null|68.33333333333333|  null|      null| null|     null|             null|             null|  null|  null|   null|   null| null|         null|     null|      null|             null|             null| null|      null|     null|             null|   null|             null|      null|             null|      null|   null|             null|         null|             null|     null| null|             null|             null|             null|null|     null|             null|             null|null|       null|             null|             null|       null| null|               null|             null|             null|  null|                 null|              null|             null|             null|             null|        null|             null|             null|             null|       null|             81.0|          null|    null| null|    null|             75.0|             null| 73.0|    null|    null|             null|             null|   null|             null|  null|             null|                null|             null|             75.0|      null|             null|             null|  null|             null|                       87.0|\n",
            "|     LWB|       null|             null|             null|   null|             null|             null|            75.75|   null|             71.0|             69.0|      null|    null|   null|             null|  null|             null|   null|   null|              null|    null|             null|    null|             null|   null|             75.0|             null|      null|                    null|null|             null|              60.5|             75.5|   69.0|             null|             null|             null|null|   null|             null|             null|             null|            72.75|              null|             null|             null|       null|             69.8|             null|   null|             null|    null|             null|         64.0|null|             62.0|            74.25| null|  null|             null|76.14285714285714|             71.0|             null|   null|null|     null|  null|             null|  null|             null|    null|     null|             null|             70.0|             null|     null|             null|             null|  null|             67.0|             null|             null|             66.0|  null|      null| null|     null|             null|             null|  null|  null|   null|   null| null|         null|     null|      null|             null|             null| null|      null|     null|             null|   null|             null|      null|             null|      null|   null|             72.0|         null|             73.0|     null| null|             72.0|             67.0|             77.0|null|     null|             null|             null|68.0|       null|             null|             82.0|       null| null|               70.0|             null|             76.0|  null|                 null|              67.0|             66.0|             null|             null|        null|             null|             null|             null|       null|            77.25|          null|    null| null|    null|66.77777777777777|             68.0| null|    null|    null|             null|             null|   null|             null|  null|             null|                null|             null|             null|      null|             null|             64.0|  null|             null|                       82.0|\n",
            "|     LCM|       null|             71.0|             76.0|   null|             null|             null|            74.52|   null|             70.0|72.44444444444444|      null|    null|   75.0|78.14285714285714|  null|             null|   null|   68.0|             75.75|    null|             76.5|    null|             null|   null|             69.0|             73.0|      null|                    null|null|             71.8|              68.0|            71.25|   null|             69.0|             null|85.33333333333333|null|   69.0|             null|72.33333333333333|             null|72.45454545454545|              null|             74.0|             null|       null|70.75757575757575|             80.0|   null|             null|    null|             83.0|         68.0|null|67.33333333333333|75.29411764705883| 78.5|  null|             null|73.11764705882354|             76.0|             null|   null|null|     null|  null|             null|  null|             null|    null|     null|             78.0|             72.0|             71.0|     null|             null|             74.0|  72.0|73.42105263157895|             73.6|             null|65.41666666666667|  null|      null| null|     null|67.54545454545455|             77.0|  null|  null|   null|   null| null|         null|     null|      null|             null|             null| null|      null|     null|             77.5|   null|             null|      null|             80.0|      null|   null|             73.1|         null|             66.0|     null| null|             73.0|             67.0|71.36363636363636|null|     null|             null|             75.5|null|       null|             75.2|77.44444444444444|       null| null|               64.8|             null|             75.0|  71.0|                 null|61.333333333333336|70.57142857142857|             73.2|             75.0|        null|             87.0|             83.0|             72.0|       null|75.28571428571429|          72.0|    null| null|    67.0|          70.3125|             74.5| 72.0|    null|    null|             null|             null|   70.0|             69.0|  74.0|             null|                null|             79.0|             78.0|      null|             null|             64.0|  null|             83.0|                       87.0|\n",
            "|      LM|       70.0|73.66666666666667|74.66666666666667|   null|             72.0|             65.0|         74.40625|   69.5|69.54545454545455|69.29411764705883|      68.0|    null|   null|75.31818181818181|  null|             null|   63.0|   70.0| 72.33333333333333|    null|74.43333333333334|    71.0|             null|   null|71.16666666666667|67.85714285714286|      80.0|                    null|null| 71.0952380952381| 63.65384615384615|71.61702127659575|   60.0|72.33333333333333|             null|             73.0|null|   71.0|             75.0|             72.2|73.28571428571429|69.26666666666667|              76.0|             72.2|             75.6|       null| 69.6701030927835|             null|   null|             null|    null|71.66666666666667|         null|null|             72.0|74.79591836734694| 82.5|  71.0|             75.5|71.09574468085107|73.57142857142857|             73.0|   null|null|     null|  67.5|             null|  null|             null|    74.0|     null|             72.0|             71.0|             66.0|     null|             79.0|72.33333333333333|  72.0|72.88888888888889|             74.2|71.66666666666667|69.02857142857142|  null|      null| 73.5|     null|67.14285714285714|             78.0|  null|  null|   null|   null| 73.0|         null|     null|      null|             null|             77.0| 63.0|      null|     null|71.52173913043478|   null|             79.0|      null|             73.0|      null|   null|73.36363636363636|         null|             null|     null| null|75.81818181818181|             71.0|71.44444444444444|null|     null|             null|             74.8|74.5|       null|             69.4|             74.5|       null| null|  68.91304347826087|71.16666666666667|72.33333333333333|  null|                 null|  66.5909090909091|          72.3125|77.33333333333333|71.55555555555556|        null|            70.75|             81.0|             72.0|       null|74.13157894736842|          null|    null| null|    null|69.16666666666667|70.81818181818181| null|    72.0|    null|             null|             74.0|   71.0|72.11538461538461|  null|             71.0|                null|72.46666666666667|73.71428571428571|      null|            74.25|             73.5|  null|             null|                       82.5|\n",
            "|     RDM|       null|             null|71.33333333333333|   null|             null|             null|             73.5|   null|             77.0|72.85714285714286|      null|    null|   null|             null|  null|             null|   null|   null|              null|    null|74.04545454545455|    73.0|             null|   null|             78.0|             null|      68.5|                    null|null|             69.8| 64.33333333333333|72.08333333333333|   70.0|             null|             null|             62.0|76.0|   null|             null|             83.0|             66.0|             70.0|              null|             73.5|             79.0|       70.0|71.84615384615384|             null|   null|             null|    null|             76.0|         null|null|             null|75.78947368421052| 76.0|  null|             null|70.54166666666667|             74.5|             81.5|   null|null|     null|  null|             null|  null|             null|    null|     null|             null|             64.0|             null|     null|             null|             null|  null|            74.75|             78.0|             null|            67.75|  null|      null| null|     null|             59.0|             77.0|  null|  66.0|   null|   null| null|         null|     null|      null|             77.0|             75.0| null|      null|     null|             73.8|   null|             72.0|      null|             77.0|      null|   null|73.71428571428571|         null|             71.0|     null| null|             79.0|             null|             70.5|null|     null|             null|             75.0|79.0|       null|             71.0|             69.5|       null| null|               66.6|             79.0|             79.5|  null|                 null| 68.33333333333333|             69.0|            75.75|77.66666666666667|        null|             69.0|             70.0|             70.0|       null|             74.3|          null|    null| null|    null|             64.0|70.66666666666667| null|    null|    null|             73.5|             68.0|   null|             72.8|  null|             81.0|                null|            75.25|             67.0|      null|             null|             70.4|  null|             null|                       83.0|\n",
            "|      LF|       null|             null|             null|   null|             null|             null|             82.0|   null|             null|             null|      null|    null|   null|             86.0|  null|             null|   null|   null|              null|    null|             74.0|    null|             null|   null|             null|             null|      null|                    null|null|             null|              null|             null|   null|             null|             77.0|             null|null|   null|             null|             null|             null|             null|              null|             null|             null|       null|             null|             null|   null|             66.0|    null|             72.0|         null|null|             null|             null| null|  null|             77.0|             71.0|             null|             null|   null|null|     null|  null|             null|  null|             null|    null|     null|             null|             null|             null|     null|             null|             null|  null|             null|             null|             null|             63.0|  null|      null| null|     null|             null|             null|  null|  null|   null|   null| null|         null|     null|      null|             null|             null| null|      null|     null|             null|   null|             null|      null|             null|      null|   null|             null|         null|             null|     null| null|             null|             null|             null|null|     null|             null|             null|null|       null|             null|             null|       null| null|               null|             null|             null|  null|                 null|              null|             null|             null|             null|        null|             null|             null|             null|       null|             84.0|          null|    null| null|    null|             null|             null| null|    null|    null|             null|             null|   null|             null|  null|             null|                null|             null|             null|      null|             null|             null|  null|             null|                       86.0|\n",
            "|     CAM|       66.0|            70.75|            74.25|   null|             null|             null|74.78260869565217|   null|            71.25|73.16666666666667|      null|    null|   70.0|74.08333333333333|  null|             null|   null|   70.5|              70.8|    null|71.80246913580247|    68.0|             70.5|   67.0|77.66666666666667|69.33333333333333|      null|                    null|null|74.78571428571429|62.666666666666664|             70.4|   null|             69.5|             null|78.66666666666667|null|   null|             null|73.33333333333333|             76.0|72.71428571428571|              null|             73.5|             null|       null|72.47222222222223|             75.0|   null|             61.0|    null|             75.0|         null|null|            72.25|73.41176470588235| null|  null|72.33333333333333|73.33870967741936|             70.5|77.28571428571429|   null|null|     null|  null|             null|  null|             60.0|    null|     null|             78.0|             73.5|             null|     74.0|             null|             null|  74.0|            71.96|             70.5|             69.0|68.57142857142857|  null|      65.0| null|     null| 68.3529411764706|             68.0|  null|  null|   null|   null| 73.0|         null|     null|      null|             65.0|             null| null|      null|     null|             71.2|   74.0|             null|      null|             75.4|      null|   null|72.86842105263158|         null|             70.0|     null| 63.0|             72.0|             69.0|            69.25|null|     null|             null|             77.5|76.5|       null|70.94117647058823|           77.625|       null| null|  68.94444444444444|             78.0|79.33333333333333|  null|                 null| 68.93333333333334|69.81818181818181|             null|            74.25|        null|             80.5|72.28571428571429|74.28571428571429|       null|74.49122807017544|          null|    null| null|    null|70.16666666666667|71.29411764705883| 73.0|    null|    null|             null|             72.0|   72.5|73.52631578947368|  null|             79.0|                78.0|73.07692307692308|74.27272727272727|      null|            73.25|            77.75|  74.0|             null|                       80.5|\n",
            "|     RAM|       null|             null|             null|   null|             null|             null|             null|   null|             null|             null|      null|    null|   null|             null|  null|             null|   null|   null|              null|    null|72.42857142857143|    null|             null|   null|             null|             null|      null|                    null|null|             null|              null|             76.5|   null|             null|             null|             null|null|   null|             null|             null|             null|             null|              null|             null|             null|       null|             null|             null|   null|             null|    null|             null|         null|null|             null|             null| null|  null|             null|             72.0|             null|             null|   null|null|     null|  null|             null|  null|             null|    null|     null|             null|             null|             null|     null|             null|             null|  null|             null|             null|             null|             67.0|  null|      null| null|     null|             null|             null|  null|  null|   null|   null| null|         null|     null|      null|             null|             null| null|      null|     null|             null|   null|             null|      null|             86.0|      null|   null|             null|         null|             null|     null| null|             null|             null|             null|null|     null|             null|             null|null|       null|             null|             null|       null| null|               null|             null|             null|  null|                 null|              null|             null|             null|             null|        null|             null|             null|             null|       null|             null|          null|    null| null|    null|             null|             null| null|    null|    null|             null|             null|   null|             null|  null|             null|                null|             null|             null|      null|             71.0|             null|  null|             null|                       86.0|\n",
            "|      LB|       64.0|             66.0|            73.75|   null|             75.0|             null|72.22033898305085|   null|68.28571428571429|69.47058823529412|      null|    null|   null|71.36363636363636|  null|             69.0|   null|   70.0| 71.33333333333333|    null|73.82089552238806|    68.0|             73.0|   null|             72.0|             69.2|      null|                    null|null|69.26829268292683| 63.63333333333333|68.90566037735849|   null|             69.0|             72.0|74.55555555555556|64.0|   74.0|             null|72.66666666666667|72.66666666666667|            68.72|              null|75.33333333333333|69.33333333333333|       null|70.08064516129032|             75.0|   null|             66.0|    null|             null|         null|null|            68.25|72.58974358974359| 64.5|  null|             null| 71.0506329113924|73.71428571428571|             74.2|   null|null|     68.0|  71.5|             67.0|  null|             null|    70.0|     null|             71.0|71.66666666666667|             65.0|     null|             73.0|             75.0|  69.5|71.74545454545455|             72.6|             70.5|67.53846153846153|  null|      66.0| 66.0|     null|67.77272727272727|             75.0|  null|  null|   null|   null| null|         null|     66.0|      null|             67.0|71.33333333333333| null|      72.0|     null|71.55555555555556|   null|             62.0|      null|             75.0|      70.0|   null|         71.96875|         null|             63.0|     null| null|             70.0|             67.2|68.17391304347827|null|     null|             null|             73.2|71.0|       68.0|67.13636363636364|73.11764705882354|       null| null|  65.51851851851852|70.66666666666667|             75.0|  null|                 null|              65.0|70.61904761904762|           70.625|             70.0|        null|67.33333333333333|             73.0|           67.875|       null|74.27160493827161|          null|    null| null|    null|67.58333333333333|             69.0| 64.0|    null|    62.0|             null|             null|   70.0|70.34482758620689|  64.0|             76.4|                null|69.11111111111111|             75.4|      null|             72.0|71.83333333333333|  null|             68.0|                       76.4|\n",
            "|      LW|       null|             64.0|73.66666666666667|   null|             70.5|             null|75.18518518518519|   null|66.44444444444444|72.33333333333333|      null|    null|   null|           73.625|  null|             null|   null|   null| 69.66666666666667|    null|             77.2|    66.0|             84.0|   76.0|            68.25|             null|      null|                    null|78.0|69.84615384615384| 65.42857142857143|            71.25|   null|             75.0|             65.0|79.66666666666667|76.0|   67.5|             null|             75.0|             74.0|             74.5|              null|             74.0|             71.0|       74.0|73.94444444444444|             null|   null|             null|    null|             null|         66.0|null|             null|          72.8125| null|  68.5|             71.0|76.41666666666667|             72.0|             77.0|   null|null|     null|  80.0|             73.0|  null|             null|    null|     null|             80.0|             72.0|             66.0|     null|             68.0|             null|  null|         73.65625|             75.0|             68.0|             72.0|  null|      null| null|     null|69.14285714285714|73.33333333333333|  null|  null|   null|   null| 72.0|         null|     null|      null|             null|             73.5| null|      null|     null|             75.0|   null|             null|      null|69.66666666666667|      null|   null|             76.4|         null|             66.5|     null| null|79.66666666666667|             null|69.78571428571429|null|     null|             null|             71.5|76.0|       null|             null|             76.6|       null| null|  72.33333333333333|             80.0|             null|  null|                 null|              66.0|             76.0|             75.0|             76.5|        null|             null|             80.0|             69.6|       null|76.53846153846153|          null|    null| null|    72.0|69.28571428571429|             71.0| null|    null|    70.0|             70.0|             null|   null|75.33333333333333|  70.0|             79.0|                null|73.83333333333333|             75.0|      null|             69.0|             79.0|  null|             73.0|                       84.0|\n",
            "|     RCM|       null|             75.0|             76.0|   null|             null|             null|72.94444444444444|   null|             72.5|             69.6|      null|    null|   null|76.28571428571429|  null|             68.0|   null|   67.0|              73.5|    null|             75.8|    null|             null|   null|             73.5|             68.0|      null|                    null|null|             71.4|63.857142857142854|73.54545454545455|   null|             null|             null|             81.0|null|   null|             null|             null|             null|71.44444444444444|              null|             76.0|             71.0|       null|70.29729729729729|             78.0|   null|             null|    null|             null|         null|null|             75.0|72.61538461538461| 75.0|  null|             null|76.77777777777777|            69.75|             null|   null|null|     null|  null|             null|  null|             null|    72.0|     null|             76.0|69.66666666666667|             67.0|     null|             null|             null|  null|           72.875|80.33333333333333|             null|66.61538461538461|  null|      70.0| null|     null|69.81818181818181|             null|  null|  null|   null|   null| null|         null|     null|      null|             null|             84.0| null|      null|     null|75.83333333333333|   null|             null|      null|             75.0|      null|   null|             73.5|         null|             73.0|     null| null|             79.2|             68.0|71.81818181818181|null|     null|             71.0|             71.0|null|       null|             73.5|75.57142857142857|       null| null|  65.84615384615384|             null|             null|  null|                 null|              64.0|             70.6|             70.5|             73.5|        null|             null|             null|             69.0|       null|            76.75|          null|    null| null|    null|70.46153846153847|            74.75| null|    null|    null|             null|             null|   81.0|             70.5|  70.0|             81.0|                null|73.83333333333333|76.14285714285714|      null|             null|             64.0|  null|             74.0|                       84.0|\n",
            "|      GK|       null|             77.5|             67.6|   null|             null|             null|71.76288659793815|   null|             67.0| 68.1590909090909|      null|    null|   69.0|            72.25|  null|             70.5|   null|   69.0|              70.4|    null|72.66176470588235|    65.2|             77.0|   null|             75.2|66.11111111111111|      null|                    null|null|69.30952380952381|  62.9811320754717|69.21153846153847|   null|             61.0|             77.0| 72.6923076923077|75.0|   71.5|             null|             71.5|             65.0|68.91428571428571|              null|72.33333333333333|68.66666666666667|       null| 68.2183908045977|             68.0|   null|             72.5|    null|             72.0|         null|null|           70.875|72.01980198019803| 65.0|  73.0|             70.0|70.90243902439025|             67.0| 74.3529411764706|   null|null|     68.0|  65.0|             null|  null|             null|    70.0|     null|             73.2|71.33333333333333|64.66666666666667|     null|68.33333333333333|             null|  67.0| 71.3695652173913|            68.25|             78.0|63.18032786885246|  null|      null| null|     null|            67.95|             72.0|  null|  68.0|   null|   null| null|         null|     74.0|      null|             null|             66.0| null|      null|     null| 70.1086956521739|   72.0|             71.0|      null|             67.4|      null|   68.0|71.19642857142857|         null|             67.0|     null| null|             82.0|68.42857142857143|68.51612903225806|72.0|     null|             null|73.66666666666667|71.0|       75.0|67.77966101694915|         75.53125|       null| null|   65.8974358974359|             75.6|74.92857142857143|  null|                 null| 64.38297872340425| 66.9047619047619|           72.125|71.77777777777777|        null|69.42857142857143|             79.0|69.57142857142857|       null|73.88793103448276|          null|    null| null|    null|68.32608695652173|70.84848484848484| null|    null|    null|             null|             53.0|   73.0|69.87234042553192|  null|             73.1|                null|67.84722222222223|             72.5|      null|            75.25|67.71428571428571|  null|             null|                       82.0|\n",
            "|      RB|       null|             75.0|             63.0|   null|             null|             71.5|            71.98|   72.0|66.21428571428571| 69.0909090909091|      62.0|    null|   null|             72.0|  null|             null|   null|   70.0|              71.0|    null|72.57142857142857|    69.0|             77.0|   null|71.66666666666667|             70.0|      67.0|                    null|null|69.13793103448276|62.476190476190474|             71.0|   70.0|             null|             68.5|            76.75|null|   71.0|             67.0|             72.5|             78.0|             69.6|              null|             68.5|             71.0|       null|70.25210084033614|             null|   null|             66.0|    64.0|             71.0|         null|null|             64.5|72.72972972972973| 71.0|  65.0|             76.0|70.62650602409639|            71.75|71.83333333333333|   null|67.0|     null|  null|             72.0|  null|             70.0|    69.0|     null|             70.5|             66.0|             66.0|     null|             72.0|             null|  null|72.57894736842105|             75.5|67.66666666666667|66.93548387096774|  null|      65.0| null|     null|66.05555555555556|             69.0|  null|  null|   null|   null| null|         66.0|     null|      72.0|             72.0|             75.5| null|      66.0|     null|69.39473684210526|   null|             69.0|      null|             72.0|      null|   78.0|73.35135135135135|         null|66.66666666666667|     null| null|             73.0|             68.8|69.78260869565217|null|     null|             80.0|             72.5|73.0|       null|68.03225806451613|74.92857142857143|       null| null|  64.79166666666667|             74.0|76.14285714285714|  null|                 null| 66.67567567567568|68.73684210526316|           72.625|72.44444444444444|        70.0|             75.0|             69.5|             68.5|       null|74.37931034482759|          56.0|    68.0| null|    69.5|69.61111111111111|70.73913043478261| null|    null|    null|             null|             null|   69.5|            71.75|  64.0|            74.25|                null|69.65789473684211|72.11111111111111|      null|71.83333333333333| 68.3076923076923|  null|             72.0|                       80.0|\n",
            "|      RS|       null|             71.0|             null|   null|             66.0|             null|             73.8|   null|             66.5|70.66666666666667|      66.0|    null|   null|             77.0|  null|             76.5|   null|   73.0|              null|    null|             74.0|    null|             null|   null|             81.0|             77.0|      null|                    null|null|             76.0|              67.0|77.42857142857143|   null|             null|             null|             71.0|null|   null|             null|             73.0|             70.0|             67.5|              null|             73.0|             null|       null|67.10714285714286|             null|   null|             null|    null|             null|         null|71.0|             null|            77.75| null|  null|             null|             71.0|             75.0|             null|   null|null|     null|  null|             null|  null|             null|    null|     null|             null|             null|             64.0|     null|             null|             null|  80.0|75.23529411764706|            75.25|             62.0|             73.0|  null|      null| null|     null|65.66666666666667|             null|  null|  null|   null|   null| null|         null|     null|      null|             null|             80.0| null|      null|     null|75.66666666666667|   null|             null|      67.0|             70.0|      null|   null|             71.0|         null|             70.0|     null| null|             73.0|             68.0|             73.0|null|     null|             70.0|             null|null|       null|71.33333333333333|             77.0|       null| null|               71.5|             null|             75.5|  null|                 null| 67.33333333333333|            71.75|             68.5|             73.5|        null|             null|             null|             null|       null|77.27272727272727|          null|    null| null|    null|73.33333333333333|             null| null|    null|    null|             null|             null|   null|             69.5|  null|             null|                null|             76.0|            74.75|      null|             74.5|             67.0|  null|             75.0|                       81.0|\n",
            "|     LCB|       null|             null|             69.0|   null|             72.0|             null|73.91428571428571|   null|             67.6|71.58333333333333|      null|    null|   null|             75.0|  null|             null|   null|   72.0|              68.5|    null|74.48936170212765|    69.0|             76.0|   null|             72.8|             66.0|      72.5|                    null|null|73.15384615384616| 66.72727272727273| 72.8076923076923|   null|             69.0|             71.5|77.66666666666667|null|   null|             78.0|             75.0|             69.0|70.84615384615384|              null|72.66666666666667|             72.5|       null|70.92592592592592|             null|   null|             69.0|    null|             null|         null|null|             67.5|76.02702702702703| null|  81.0|             73.0|72.82051282051282|             76.5|             75.0|   68.0|null|     null|  73.0|             null|  null|             null|    null|     null|             75.0|             73.0|             62.0|     null|             67.0|             null|  null|72.88888888888889|             75.0|             74.0|67.85714285714286|  null|      null| null|     null|             66.6|             null|  null|  null|   66.0|   null| null|         null|     null|      null|             null|             null| null|      null|     null|             72.4|   74.0|             69.0|      null|            68.25|      75.0|   null|            75.05|         71.0|             67.0|     66.0| null|             null|             65.0|70.06666666666666|null|     null|             68.0|71.66666666666667|74.5|       null|             68.0|73.71428571428571|       null| null|  68.66666666666667|             74.5|             73.0|  null|                 null|              67.6|72.27272727272727|             75.6|72.88888888888889|        null|79.33333333333333|             74.5|             69.0|       null|74.70967741935483|          null|    null| null|    null|          67.5625|72.16666666666667| null|    null|    null|             null|             null|   76.5|73.83333333333333|  null|             78.0|                null|73.07142857142857|             73.5|      null|             78.0|            72.75|  null|             null|                       81.0|\n",
            "|      CM|       71.0|            71.75|77.66666666666667|   null|             null|             null|73.08695652173913|   null|67.71428571428571|68.70588235294117|      null|    null|   null|74.21428571428571|  null|             null|   null|   72.5|              68.8|    68.0|             76.0|    66.5|             77.0|   null|             72.5|             68.5|      74.5|                    85.0|null|70.17647058823529|62.432432432432435|69.77777777777777|   73.0|             null|70.33333333333333|72.63636363636364|null|   null|             null|74.36363636363636|             70.0|69.21212121212122|              null|             71.0|             73.0|       64.0|69.79591836734694|             null|   null|             null|    null|             66.0|         null|null|70.66666666666667|73.91379310344827| null|  null|             null|74.03333333333333|74.26666666666667|             73.0|   null|null|     null|  82.0|             68.0|  63.0|             69.0|    null|     71.0|             72.5|             72.5|             61.0|     null|             79.0|             64.0|  76.5|72.11111111111111|             74.0|             66.5|65.92105263157895|  null|      null| null|     null| 65.5952380952381|             74.0|  null|  null|   null|   null| null|         71.0|     68.0|      76.0|             64.0|             76.0| null|      null|     null|70.36842105263158|   67.0|             75.5|      68.0|           75.125|      null|   null|72.57142857142857|         null|             68.0|     null| null|65.16666666666667|             72.0|68.91304347826087|null|     null|             null|70.66666666666667|71.5|       null|67.84615384615384|75.44444444444444|       null| null|             67.375|             72.2|             75.0|  null|                 null| 68.61904761904762| 71.3030303030303|             71.1|77.88888888888889|        null|74.16666666666667|             71.0|72.83333333333333|       null|          74.7875|          null|    null| null|    null|68.51282051282051|           72.625| 64.0|    null|    63.0|             null|             null|   69.0|71.44444444444444|  null|74.71428571428571|                null|70.52631578947368|71.33333333333333|      67.5|             72.6|             67.9|  76.0|             null|                       85.0|\n",
            "|      RW|       null|             72.5|             76.6|   null|             null|             null|73.20689655172414|   70.5|             68.6|             71.0|      null|    null|   null|78.16666666666667|  61.0|             null|   null|   null|              75.0|    null|76.42857142857143|    null|             null|   null|             null|             64.0|      null|                    null|null|70.82352941176471| 63.44444444444444|            74.75|   null|             67.0|             67.0|             null|null|   null|             null|             75.0|             77.5|             76.2|              null|             72.0|             null|       null|74.73684210526316|             null|   null|             null|    null|             null|         null|null|             65.5|             74.7| null|  null|             81.0|             73.0|           72.375|             70.0|   null|null|     null|  null|             74.5|  null|             78.0|    null|     null|70.66666666666667|             74.5|             null|     null|             null|             null|  null| 76.3157894736842|             75.8|             null|             65.0|  null|      null| 66.0|     66.0|             70.0|             83.0|  null|  null|   null|   null| 76.0|         null|     null|      null|             67.0|             null| null|      null|     null|            73.75|   null|             70.0|      null|             null|      76.0|   null|74.57142857142857|         null|             62.0|     null| null|             75.2|             null|             70.4|null|     null|             null|             79.0|76.0|       null|             null|76.53846153846153|       null| null|               null|             78.0|             76.0|  null|                 null|              null|             70.0|             69.0|             83.0|        null|             75.0|             71.0|74.66666666666667|       null|             80.4|          null|    null| null|    null|66.07692307692308|75.66666666666667| null|    null|    null|             65.0|             null|   80.0|             71.0|  null|             null|                null|             72.5|            71.75|      null|            76.25|             76.5|  68.0|             null|                       83.0|\n",
            "|     RCB|       null|             68.0|             74.5|   null|             65.0|             null|73.05405405405405|   null|             69.5| 70.0909090909091|      null|    null|   null|             75.5|  null|             73.0|   null|   66.0|              69.0|    null| 75.2051282051282|    69.0|             70.0|   null|70.66666666666667|             71.0|      75.0|                    null|null|            70.25|              67.0|            72.75|   null|             66.0|             75.5|71.55555555555556|null|   null|             null|            69.75|             76.0|             72.0|              null|             null|             67.0|       null|71.44642857142857|             null|   null|             null|    null|             null|         null|null|             72.0|75.72413793103448| null|  null|             75.0|72.72916666666667|             72.0|             78.0|   null|null|     null|  65.5|             null|  null|             null|    null|     null|             81.0|             70.0|             71.0|     null|             73.0|             null|  null|74.08333333333333|             74.0|             71.0|69.93333333333334|  null|      null| null|     null|             68.5|             null|  null|  64.0|   null|   null| null|         null|     null|      73.0|             null|             65.0| null|      null|     null|             73.7|   null|             null|      69.0|             71.5|      74.0|   null|73.61111111111111|         null|             67.0|     null| null|            70.25|             71.0|          69.1875|null|     null|             null|76.14285714285714|71.0|       null|70.81818181818181|             75.0|       null| null|   65.3076923076923|             71.5|             80.0|  null|                 null|              67.5|             67.5|            75.25|             74.8|        null|75.33333333333333|             69.0|             67.0|       null|74.52777777777777|          null|    null| null|    null|70.13333333333334|74.11111111111111| null|    null|    null|             79.0|             null|   null|74.22222222222223|  null|             73.0|                null|72.54545454545455|75.71428571428571|      null|             76.0|69.85714285714286|  74.0|             null|                       81.0|\n",
            "|     CDM|       null|             69.5|            70.25|   null|             null|             null|72.76363636363637|   null|          66.8125|69.63157894736842|      71.0|    null|   null|73.71428571428571|  null|             null|   null|   67.0|              82.0|    null|72.67441860465117|    63.5|             64.0|   null|           74.125|             71.8|      67.0|                    null|null|             71.8|62.916666666666664|70.88888888888889|   74.0|             69.0|             null|75.11111111111111|null|   null|             null|             69.5|71.66666666666667|             74.0|              null|            69.25|             73.0|       null|            71.88|             null|   null|             null|    null|             76.0|         null|null|             75.0|73.03174603174604| 67.0|  74.0|             73.0|71.58227848101266|74.83333333333333|72.66666666666667|   null|null|     null|  71.0|            76.25|  66.0|             null|    null|     null|72.66666666666667|             68.0|             60.0|     null|             76.0|             null|  72.0|          76.0625|           76.125|             null|65.89473684210526|  null|      null| 74.0|     null|65.33333333333333|             66.0|  null|  null|   null|   null| null|         null|     60.0|      71.0|             63.0|72.66666666666667| null|      null|     null|           70.625|   null|             79.0|      null|             69.8|      null|   null|72.26666666666667|         null|             67.0|     null| null|73.85714285714286|            72.75|71.77777777777777|null|     null|             null|             71.0|74.5|       null|67.29629629629629|74.83333333333333|       null| null|  68.77272727272727|             80.0|             75.2|  null|                 null| 66.06666666666666|             72.6|             73.0|             80.0|        null|             70.0|             77.5|             73.5|       null|74.92307692307692|          null|    null| 60.0|    null|             70.0|73.88888888888889| 67.0|    null|    null|             68.5|             null|   null|71.79310344827586|  null|72.66666666666667|                null|71.08333333333333|71.14285714285714|      null|             75.0|             70.6|  null|             null|                       82.0|\n",
            "|      LS|       null|             null|             null|   null|             null|             null|75.23076923076923|   73.0|             64.0|             82.0|      null|    64.5|   null|             76.0|  null|             null|   null|   null|              77.0|    null|75.33333333333333|    66.0|             null|   null|             80.0|             62.0|      null|                    null|null|             72.5|              null|             74.0|   null|             70.0|             null|             65.0|null|   null|             73.0|             null|             null|            70.25|              null|             75.0|             null|       null|68.92307692307692|             null|   72.0|             null|    null|             null|         null|null|             66.0|             74.8| null|  76.0|             null|             71.0|             72.0|             null|   null|null|     null|  null|             69.0|  null|             null|    null|     null|             null|             null|             67.0|     null|             null|             null|  80.0|          73.5625|             76.0|             64.0|            70.75|  null|      null| null|     null|             70.0|             null|  null|  null|   null|   null| null|         null|     null|      null|             null|             null| null|      null|     null|             80.5|   null|             72.5|      null|             78.0|      null|   null|71.33333333333333|         null|             null|     null| null|             70.0|             null|71.33333333333333|null|     null|             null|             71.0|null|       null|             75.0|             79.0|       null| null|               67.6|             75.0|             null|  null|                 null|              null|             69.0|             74.5|             86.0|        null|             null|             null|             null|       null|             78.2|          null|    null| null|    null|73.66666666666667|             66.0| 78.0|    null|    68.0|             null|             null|   67.0|             null|  null|             73.0|                null|             70.0|             74.5|      null|             84.0|             null|  null|             null|                       86.0|\n",
            "|      CB|       null|74.33333333333333|             69.5|   64.0|             79.0|             null|72.85858585858585|   null| 69.0952380952381|         70.28125|      null|    66.0|   null|75.04545454545455|  null|             72.0|   null|   74.0|              74.6|    null| 71.9090909090909|    63.0|             null|   null|73.08333333333333|             70.2|      null|                    72.0|null|71.17241379310344| 64.69444444444444|71.38461538461539|   null|69.66666666666667|            70.75|            73.25|null|   66.0|67.66666666666667|             73.1|             72.6|69.94594594594595|              null|             71.5|             76.5|       75.0| 70.2919254658385|             null|   null|70.66666666666667|    null|             69.0|         68.0|null|67.71428571428571|72.83870967741936| null|  79.0|             77.5|        71.359375|             72.5|74.13333333333334|   null|null|     67.0|  77.5|             74.0|  70.0|             73.0|    null|     62.0|             68.5|             71.0|             61.0|     null|             null|             68.0|  null| 72.1219512195122|             72.4|             72.0|64.63265306122449|  null|      null| 64.0|     null|67.07692307692308|             73.5|  null|  54.0|   null|   null| null|         null|     64.0|      65.0|72.33333333333333|             72.5| null|      70.0|     69.0|70.88372093023256|   null|75.66666666666667|      null|            78.25|      null|   null|73.30952380952381|         null|           67.375|     null| null|73.22222222222223|           67.375|68.06451612903226|null|     null|             69.8|             73.0|77.0|       null|68.82352941176471|75.96153846153847|       63.0| 68.0|             66.875|             73.8|             76.5|  null|                 null| 66.48780487804878|            69.72|             72.3|            71.75|        66.0|71.66666666666667|72.57142857142857|             71.0|       null|73.77884615384616|          null|    null| null|    null|           68.225|72.13636363636364| null|    null|    null|             null|             null|   70.5|72.10714285714286|  null|           74.125|                null|69.41666666666667|73.05882352941177|      null|             70.0|          69.8125|  null|             73.0|                       79.0|\n",
            "|     RWB|       null|             null|             82.0|   null|             null|             null|             72.0|   null|             66.0|             66.0|      null|    null|   null|             72.0|  null|             null|   null|   null|              70.0|    null|             null|    null|             null|   null|             74.0|             null|      null|                    null|null|             null|61.666666666666664|             74.0|   null|             null|             null|             74.0|null|   null|             null|             81.0|             null|           68.625|              null|             null|             null|       null|67.86666666666666|             null|   null|             null|    null|             null|         null|null|             null|            73.75| null|  null|             null|72.66666666666667|             null|             null|   null|null|     null|  null|             null|  null|             null|    null|     null|             null|             75.0|             null|     null|             null|             null|  null|             72.5|             72.0|             null|             66.0|  70.0|      null| null|     null|             null|             null|  null|  null|   null|   null| null|         null|     null|      null|             null|             null| null|      null|     null|             80.0|   null|             null|      null|             null|      null|   null|             70.5|         null|             61.0|     null| null|             null|             null|             72.0|null|     null|             null|             null|null|       null|             null|             null|       null| null|               71.0|             null|             null|  null|                 null|              65.0|             65.5|             null|             null|        null|             null|             null|             68.0|       null|            78.25|          null|    null| null|    null|             68.0|             71.0| null|    null|    null|             null|             null|   null|             null|  null|             null|                null|             null|             null|      null|             null|             64.0|  null|             null|                       82.0|\n",
            "|      CF|       null|             null|             null|   null|             null|             null|             79.0|   null|             null|             68.0|      null|    null|   null|             null|  null|             null|   null|   null|              null|    null|            78.25|    null|             74.0|   null|             72.0|             null|      null|                    null|null|             73.0|              null|             null|   null|             null|             null|             null|null|   75.0|             null|             80.0|             null|             null|              null|             null|             null|       null|             70.0|             null|   null|             null|    null|             null|         null|null|             78.0|             null| null|  null|             null|             73.6|             77.0|             null|   null|null|     null|  null|             null|  null|             null|    null|     null|             null|             81.0|             null|     null|             null|             null|  null|             75.8|             null|             null|           66.625|  null|      null| null|     58.0|70.66666666666667|             73.0|  null|  null|   null|   null| null|         null|     68.0|      null|             null|             null| null|      null|     null|             75.0|   null|             null|      null|             null|      null|   68.0|             null|         null|             null|     null| null|             null|             null|             74.0|null|     null|             null|             null|75.0|       null|             88.0|             null|       null| null|               null|             null|             78.0|  null|                 null|              null|             71.0|             null|             null|        null|             null|             null|             null|       null|            79.25|          null|    null| null|    null|            70.25|             null| null|    null|    null|             null|             null|   null|             75.0|  null|             null|                null|             71.0|             null|      null|             null|             null|  null|             71.0|                       88.0|\n",
            "|      RM|       null|             64.0|            74.75|   null|             68.0|             null| 73.2741935483871|   83.0|70.53846153846153|70.30434782608695|      null|    null|   null|74.26666666666667|  null|             68.0|   null|   72.0|              76.0|    null|75.30434782608695|    71.5|             77.5|   null|             70.5|             74.5|      null|                    null|null|72.18181818181819|          65.03125|70.65384615384616|   null|             null|             75.5|76.66666666666667|null|   70.0|             null|             77.0|             72.5|69.18181818181819|              null|             76.0|             82.0|       65.0|69.94782608695652|             null|   null|             63.0|    null|             64.5|         65.5|null|             73.8|74.77551020408163| 68.0|  76.0|             76.0|70.85227272727273|             71.6|76.42857142857143|   null|null|     null|  73.0|             null|  null|             70.0|    78.5|     null|             71.0|             77.5|             67.0|     null|74.33333333333333|             null|  null|73.37037037037037|             81.5|             66.0| 66.8108108108108|  null|      null| null|     null|          68.4375|             70.5|  null|  null|   null|   null| null|         66.0|     71.0|      null|             null|             73.0| null|      null|     null|            72.28|   null|             74.5|      null|             74.8|      null|   null|71.78947368421052|         null|             76.0|     null| 66.0|             77.0|69.85714285714286|           69.125|null|     66.0|             70.5|76.33333333333333|73.0|       null|         68.28125|            76.36|       null| null|               66.7|72.16666666666667|             70.5|  null|                 null| 66.33333333333333|72.42105263157895|             80.2|             69.6|        null|             75.0|             70.6|             66.0|       null|74.86585365853658|          null|    null| 66.0|    null|             70.0|71.41666666666667| 72.0|    null|    68.0|76.66666666666667|             null|   70.0|73.57142857142857|  68.0|             77.5|                null|            72.75|69.57142857142857|      null|73.14285714285714|71.11111111111111|  null|             null|                       83.0|\n",
            "|     LAM|       null|             null|             null|   null|             null|             null|             null|   null|             null|             null|      null|    null|   null|             null|  null|             null|   null|   null|              null|    null|71.46153846153847|    null|             null|   null|             null|             null|      null|                    null|null|             null|              null|             81.0|   null|             null|             null|             null|null|   null|             null|             null|             null|             null|              null|             null|             null|       null|             null|             null|   null|             null|    null|             null|         null|null|             null|             null| null|  null|             null|             70.0|             null|             null|   null|null|     null|  null|             null|  null|             null|    null|     null|             null|             null|             null|     null|             null|             null|  null|             null|             null|             null|             69.0|  null|      null| null|     null|             null|             null|  null|  null|   null|   null| null|         null|     null|      null|             null|             null| null|      null|     null|             null|   null|             null|      null|             null|      null|   null|             null|         null|             null|     null| null|             null|             null|             null|null|     null|             null|             null|null|       null|             null|             null|       null| null|               null|             null|             null|  null|                 null|              null|             null|             null|             81.0|        null|             null|             null|             null|       null|             null|          null|    null| null|    null|             null|             null| null|    null|    null|             null|             null|   null|             null|  null|             null|                null|             null|             68.0|      null|             null|             null|  75.0|             null|                       81.0|\n",
            "|     LDM|       null|72.66666666666667|             73.0|   null|             null|             null|           73.375|   null|             70.5|             75.5|      null|    null|   null|             75.5|  null|             71.0|   null|   null|             72.25|    null|            74.16|    57.0|             null|   65.0|             null|             null|      71.0|                    71.0|null|            71.25|              60.0|70.81818181818181|   null|             null|             77.0|             84.0|null|   null|             null|             74.0|             null|             69.5|              null|             null|             67.0|       null|70.15384615384616|             null|   null|             null|    null|             83.0|         null|null|             null|74.76470588235294| null|  null|             71.0|71.52173913043478|             76.0|             75.0|   null|null|     null|  82.0|             null|  null|             null|    68.0|     null|             null|             null|             null|     null|             null|             null|  73.0|             70.0|            76.75|             null|             70.0|  null|      null| null|     null|             68.0|             null|  70.0|  null|   null|   null| null|         null|     null|      78.0|             null|             75.0| null|      null|     null|             71.6|   null|             null|      null|             null|      null|   null|78.66666666666667|         null|             null|     null| null|             79.5|             null|             71.0|null|     null|             70.0|             71.0|73.0|       null|67.88888888888889|74.42857142857143|       null| null|               65.6|             73.0|             86.0|  null|                 null| 68.85714285714286|             69.5|             null|             70.0|        null|             76.0|             68.0|             67.0|       null|70.41666666666667|          null|    null| null|    null|             66.0|             81.5| null|    null|    null|             null|             null|   null|            72.75|  null|             77.0|                null|73.33333333333333|             null|      null|             null|             86.0|  null|             null|                       86.0|\n",
            "|      ST|       null|            72.25|            73.75|   null|75.66666666666667|             63.0|           72.928|   70.0|            67.44|68.62962962962963|      67.0|    null|   70.0|75.33333333333333|  null|67.66666666666667|   70.0|   71.0| 72.85714285714286|    null|71.56756756756756|    70.5|67.33333333333333|   null|73.86666666666666|72.28571428571429|      75.0|                    null|78.0|70.10416666666667|          63.46875|70.89189189189189|   null|            71.25|            68.25|72.26666666666667|null|   69.5|             65.0|70.88888888888889| 71.9090909090909|69.91304347826087|              85.0|             75.0|             72.0|       null| 69.5575221238938|             null|   65.0|             null|    null|             74.0|         null|null|70.83333333333333|72.45283018867924| 72.0|  79.5|69.66666666666667|           71.125| 75.0909090909091|73.35714285714286|   null|null|     null|  70.5|73.33333333333333|  null|69.66666666666667|    75.0|     null|            72.25|             70.0|             58.5|     null|             75.0|             null|  70.0|            72.75|73.44444444444444|             67.0|67.27272727272727|  null|      null| 74.0|     77.0|68.36111111111111|           69.125|  null|  78.0|   null|   73.0| null|         null|     77.0|      null|             67.0|70.33333333333333| null|      null|     null|72.31428571428572|   79.0|74.66666666666667|      null|71.72727272727273|      null|   null| 73.6829268292683|         null|             70.0|     null| 71.0|73.02941176470588|69.76923076923077| 68.2439024390244|null|     null|68.66666666666667|71.04347826086956|74.0|       null|           69.425|74.66666666666667|       null| null|  66.18604651162791|             73.0|             75.6|  null|                 72.0|              67.1|70.19444444444444|72.27272727272727|73.14285714285714|       72.25|            72.75|70.28571428571429|71.66666666666667|       63.0|73.95412844036697|          62.0|    null| 72.0|    null|69.40816326530613|74.58333333333333| 80.0|    75.0|    null|             73.5|             null|   69.2|72.04166666666667|  null|73.58333333333333|                null|71.08108108108108|            74.55|      null|72.16666666666667|69.93333333333334| 74.25|70.66666666666667|                       85.0|\n",
            "+--------+-----------+-----------------+-----------------+-------+-----------------+-----------------+-----------------+-------+-----------------+-----------------+----------+--------+-------+-----------------+------+-----------------+-------+-------+------------------+--------+-----------------+--------+-----------------+-------+-----------------+-----------------+----------+------------------------+----+-----------------+------------------+-----------------+-------+-----------------+-----------------+-----------------+----+-------+-----------------+-----------------+-----------------+-----------------+------------------+-----------------+-----------------+-----------+-----------------+-----------------+-------+-----------------+--------+-----------------+-------------+----+-----------------+-----------------+-----+------+-----------------+-----------------+-----------------+-----------------+-------+----+---------+------+-----------------+------+-----------------+--------+---------+-----------------+-----------------+-----------------+---------+-----------------+-----------------+------+-----------------+-----------------+-----------------+-----------------+------+----------+-----+---------+-----------------+-----------------+------+------+-------+-------+-----+-------------+---------+----------+-----------------+-----------------+-----+----------+---------+-----------------+-------+-----------------+----------+-----------------+----------+-------+-----------------+-------------+-----------------+---------+-----+-----------------+-----------------+-----------------+----+---------+-----------------+-----------------+----+-----------+-----------------+-----------------+-----------+-----+-------------------+-----------------+-----------------+------+---------------------+------------------+-----------------+-----------------+-----------------+------------+-----------------+-----------------+-----------------+-----------+-----------------+--------------+--------+-----+--------+-----------------+-----------------+-----+--------+--------+-----------------+-----------------+-------+-----------------+------+-----------------+--------------------+-----------------+-----------------+----------+-----------------+-----------------+------+-----------------+---------------------------+\n",
            "\n"
          ],
          "name": "stdout"
        }
      ]
    },
    {
      "cell_type": "markdown",
      "metadata": {
        "id": "JYdhhRLxJ7Q_"
      },
      "source": [
        "Finding the name of countries with highest average potential for each position is better for understanding. So, we discover the countries having players with highest average potential in each position.  "
      ]
    },
    {
      "cell_type": "code",
      "metadata": {
        "colab": {
          "base_uri": "https://localhost:8080/"
        },
        "id": "NOWiSBYZccXs",
        "outputId": "1dd596b0-ac4a-4ec9-a1c3-95172440079a"
      },
      "source": [
        "from pyspark.sql import types as T\n",
        "from pyspark.sql import functions as F\n",
        "from pyspark.sql.window import Window as W\n",
        "\n",
        "# creating a dataframe with a column whose values contain an array of country name and average potential value\n",
        "pdf = pivot_df.withColumn('Maximum_Avg_Potential',F.explode( \\\n",
        "        F.array([F.array([F.lit(cols), F.col(cols)]) for cols in pivot_df.columns[1:]])))\n",
        "\n",
        "# creating a dataframe such that the country name and avg potential values are separated in two columns\n",
        "pdf = pdf.select('Position', F.col('Maximum_Avg_Potential').getItem(0).alias('Country'), \\\n",
        "                 F.col('Maximum_Avg_Potential').getItem(1).cast(T.IntegerType()).alias('Avg_Potential'))\n",
        "\n",
        "# creating a rank based on average potential for each position in descending order\n",
        "pdf = pdf.withColumn('Rank', F.rank().over(W.partitionBy('Position').orderBy(F.col('Avg_Potential').desc())))\n",
        "\n",
        "# selecting rows with rank equal to 1 and this gives the maximum average potential value \n",
        "pdf.where('Rank=1').show(pdf.count())"
      ],
      "execution_count": 17,
      "outputs": [
        {
          "output_type": "stream",
          "text": [
            "+--------+--------------------+-------------+----+\n",
            "|Position|             Country|Avg_Potential|Rank|\n",
            "+--------+--------------------+-------------+----+\n",
            "|      RF|           Argentina|           87|   1|\n",
            "|     LWB|            Portugal|           82|   1|\n",
            "|     LCM|            Slovakia|           87|   1|\n",
            "|      LM|               Gabon|           82|   1|\n",
            "|     RDM|      Czech Republic|           83|   1|\n",
            "|      LF|             Belgium|           86|   1|\n",
            "|     CAM|            Slovakia|           80|   1|\n",
            "|     RAM|             Morocco|           86|   1|\n",
            "|      LB|             Ukraine|           76|   1|\n",
            "|      LW|        Burkina Faso|           84|   1|\n",
            "|     RCM|                Mali|           84|   1|\n",
            "|      GK|             Nigeria|           82|   1|\n",
            "|      RB|              Panama|           80|   1|\n",
            "|      RS|            Cameroon|           81|   1|\n",
            "|     LCB|              Gambia|           81|   1|\n",
            "|      CM|Central African R...|           85|   1|\n",
            "|      RW|              Kosovo|           83|   1|\n",
            "|      RW|              Serbia|           83|   1|\n",
            "|     RCB|             Hungary|           81|   1|\n",
            "|     CDM|  Bosnia Herzegovina|           82|   1|\n",
            "|      LS|              Serbia|           86|   1|\n",
            "|      CB|              Angola|           79|   1|\n",
            "|      CB|              Gambia|           79|   1|\n",
            "|     RWB|             Algeria|           82|   1|\n",
            "|      CF|              Poland|           88|   1|\n",
            "|      RM|             Armenia|           83|   1|\n",
            "|     LAM|            Colombia|           81|   1|\n",
            "|     LAM|              Serbia|           81|   1|\n",
            "|     LDM|              Russia|           86|   1|\n",
            "|     LDM|               Wales|           86|   1|\n",
            "|      ST|  Dominican Republic|           85|   1|\n",
            "+--------+--------------------+-------------+----+\n",
            "\n"
          ],
          "name": "stdout"
        }
      ]
    },
    {
      "cell_type": "markdown",
      "metadata": {
        "id": "3p5AJ1K8Ms7I"
      },
      "source": [
        "The most interesting finding from the above dataframe is that Dominican Republic has highest average potential for the striker position. It is well known that unlike European, South American or African continent, players from other continents rarely make it to the big stage. So, it can be assumed that player is an outlier, and is among the few players with highest ratings in that country. Not many scouts might be well aware about that striker. It is good to observe that player's game and see if we can sign that player and make one of the prospects in football."
      ]
    },
    {
      "cell_type": "code",
      "metadata": {
        "id": "36gWXTEJnAjH"
      },
      "source": [
        "from pyspark.sql import SQLContext\n",
        "sqlContext = SQLContext(spark)\n",
        "\n",
        "#df_view = 'soccer_analysis'\n",
        "df.createOrReplaceTempView('soccer_analysis')"
      ],
      "execution_count": 18,
      "outputs": []
    },
    {
      "cell_type": "code",
      "metadata": {
        "colab": {
          "base_uri": "https://localhost:8080/"
        },
        "id": "m56xI09nngnG",
        "outputId": "843c29cd-23a2-4d96-8747-a5c54402d486"
      },
      "source": [
        "# viewing the players from Dominican Republic\n",
        "spark.sql(\"\"\"\n",
        "          Select * from soccer_analysis where Nationality = 'Dominican Republic'\n",
        "          \"\"\").show()"
      ],
      "execution_count": 19,
      "outputs": [
        {
          "output_type": "stream",
          "text": [
            "+------+----------+---+--------------------+------------------+--------------------+-------+---------+-----------+--------------------+--------+-------+-------+--------------+------------------------+---------+-----------+------------+---------+---------+--------+-------------+------------+-----------+--------------------+------+----------+------+----------+--------+---------+---------------+------------+-------+---------+-----+----------+-----------+-----------+------------+-----------+-------+---------+-------+---------+-------+-------+--------+---------+----------+-------------+-----------+------+---------+---------+-------+--------------+-------------+--------+----------+---------+-------------+----------+-----------------+-------+---------+---------+\n",
            "|    ID|      Name|Age|               Photo|       Nationality|                Flag|Overall|Potential|       Club|           Club Logo|value(M)|wage(K)|Special|Preferred Foot|International Reputation|Weak Foot|Skill Moves|   Work Rate|Body Type|Real Face|Position|Jersey Number|      Joined|Loaned From|Contract Valid Until|Height|Height(CM)|Weight|Weight(KG)|Crossing|Finishing|HeadingAccuracy|ShortPassing|Volleys|Dribbling|Curve|FKAccuracy|LongPassing|BallControl|Acceleration|SprintSpeed|Agility|Reactions|Balance|ShotPower|Jumping|Stamina|Strength|LongShots|Aggression|Interceptions|Positioning|Vision|Penalties|Composure|Marking|StandingTackle|SlidingTackle|GKDiving|GKHandling|GKKicking|GKPositioning|GKReflexes|Release Clause(M)|overall|potential|value_eur|\n",
            "+------+----------+---+--------------------+------------------+--------------------+-------+---------+-----------+--------------------+--------+-------+-------+--------------+------------------------+---------+-----------+------------+---------+---------+--------+-------------+------------+-----------+--------------------+------+----------+------+----------+--------+---------+---------------+------------+-------+---------+-----+----------+-----------+-----------+------------+-----------+-------+---------+-------+---------+-------+-------+--------+---------+----------+-------------+-----------+------+---------+---------+-------+--------------+-------------+--------+----------+---------+-------------+----------+-----------------+-------+---------+---------+\n",
            "|221639|   Mariano| 24|https://cdn.sofif...|Dominican Republic|https://cdn.sofif...|     80|       85|Real Madrid|https://cdn.sofif...|      20|    140|   2041|         Right|                       1|        4|          3|High/ Medium|   Normal|       No|      ST|            7|Aug 29, 2018|       null|                2023|  5.11|  155.7528| 168.0| 76.203456|      50|       81|             82|          69|     70|       75|   76|        76|         51|         72|          84|         85|     79|       82|     72|       85|     92|     81|      79|       82|        86|           45|         79|    63|       75|       68|     41|            40|           34|      12|        14|        6|            8|        15|             42.5|     77|       78| 10500000|\n",
            "|243314|L. Quezada| 22|https://cdn.sofif...|Dominican Republic|https://cdn.sofif...|     64|       76|C��rdoba CF|https://cdn.sofif...|    800K|      2|   1653|          Left|                       1|        3|          2|Medium/ High|   Normal|       No|      LM|           32| Jul 1, 2015|       null|                2019|   5.7|   173.736| 146.0| 66.224432|      75|       56|             51|          61|     44|       60|   42|        51|         59|         65|          71|         72|     64|       58|     79|       66|     47|     62|      52|       63|        54|           45|         61|    54|       45|       42|     46|            47|           53|      10|         7|       12|           13|         8|              1.4|   null|     null|     null|\n",
            "+------+----------+---+--------------------+------------------+--------------------+-------+---------+-----------+--------------------+--------+-------+-------+--------------+------------------------+---------+-----------+------------+---------+---------+--------+-------------+------------+-----------+--------------------+------+----------+------+----------+--------+---------+---------------+------------+-------+---------+-----+----------+-----------+-----------+------------+-----------+-------+---------+-------+---------+-------+-------+--------+---------+----------+-------------+-----------+------+---------+---------+-------+--------------+-------------+--------+----------+---------+-------------+----------+-----------------+-------+---------+---------+\n",
            "\n"
          ],
          "name": "stdout"
        }
      ]
    },
    {
      "cell_type": "code",
      "metadata": {
        "colab": {
          "base_uri": "https://localhost:8080/"
        },
        "id": "EUL3xOGTW2D4",
        "outputId": "0c0fa92c-b0b3-4ec0-fc15-28242d3c2326"
      },
      "source": [
        "# viewing the players from Dominican Republic\n",
        "df.filter(df.Nationality == 'Dominican Republic').show()"
      ],
      "execution_count": 20,
      "outputs": [
        {
          "output_type": "stream",
          "text": [
            "+------+----------+---+--------------------+------------------+--------------------+-------+---------+-----------+--------------------+--------+-------+-------+--------------+------------------------+---------+-----------+------------+---------+---------+--------+-------------+------------+-----------+--------------------+------+----------+------+----------+--------+---------+---------------+------------+-------+---------+-----+----------+-----------+-----------+------------+-----------+-------+---------+-------+---------+-------+-------+--------+---------+----------+-------------+-----------+------+---------+---------+-------+--------------+-------------+--------+----------+---------+-------------+----------+-----------------+-------+---------+---------+\n",
            "|    ID|      Name|Age|               Photo|       Nationality|                Flag|Overall|Potential|       Club|           Club Logo|value(M)|wage(K)|Special|Preferred Foot|International Reputation|Weak Foot|Skill Moves|   Work Rate|Body Type|Real Face|Position|Jersey Number|      Joined|Loaned From|Contract Valid Until|Height|Height(CM)|Weight|Weight(KG)|Crossing|Finishing|HeadingAccuracy|ShortPassing|Volleys|Dribbling|Curve|FKAccuracy|LongPassing|BallControl|Acceleration|SprintSpeed|Agility|Reactions|Balance|ShotPower|Jumping|Stamina|Strength|LongShots|Aggression|Interceptions|Positioning|Vision|Penalties|Composure|Marking|StandingTackle|SlidingTackle|GKDiving|GKHandling|GKKicking|GKPositioning|GKReflexes|Release Clause(M)|overall|potential|value_eur|\n",
            "+------+----------+---+--------------------+------------------+--------------------+-------+---------+-----------+--------------------+--------+-------+-------+--------------+------------------------+---------+-----------+------------+---------+---------+--------+-------------+------------+-----------+--------------------+------+----------+------+----------+--------+---------+---------------+------------+-------+---------+-----+----------+-----------+-----------+------------+-----------+-------+---------+-------+---------+-------+-------+--------+---------+----------+-------------+-----------+------+---------+---------+-------+--------------+-------------+--------+----------+---------+-------------+----------+-----------------+-------+---------+---------+\n",
            "|221639|   Mariano| 24|https://cdn.sofif...|Dominican Republic|https://cdn.sofif...|     80|       85|Real Madrid|https://cdn.sofif...|      20|    140|   2041|         Right|                       1|        4|          3|High/ Medium|   Normal|       No|      ST|            7|Aug 29, 2018|       null|                2023|  5.11|  155.7528| 168.0| 76.203456|      50|       81|             82|          69|     70|       75|   76|        76|         51|         72|          84|         85|     79|       82|     72|       85|     92|     81|      79|       82|        86|           45|         79|    63|       75|       68|     41|            40|           34|      12|        14|        6|            8|        15|             42.5|     77|       78| 10500000|\n",
            "|243314|L. Quezada| 22|https://cdn.sofif...|Dominican Republic|https://cdn.sofif...|     64|       76|C��rdoba CF|https://cdn.sofif...|    800K|      2|   1653|          Left|                       1|        3|          2|Medium/ High|   Normal|       No|      LM|           32| Jul 1, 2015|       null|                2019|   5.7|   173.736| 146.0| 66.224432|      75|       56|             51|          61|     44|       60|   42|        51|         59|         65|          71|         72|     64|       58|     79|       66|     47|     62|      52|       63|        54|           45|         61|    54|       45|       42|     46|            47|           53|      10|         7|       12|           13|         8|              1.4|   null|     null|     null|\n",
            "+------+----------+---+--------------------+------------------+--------------------+-------+---------+-----------+--------------------+--------+-------+-------+--------------+------------------------+---------+-----------+------------+---------+---------+--------+-------------+------------+-----------+--------------------+------+----------+------+----------+--------+---------+---------------+------------+-------+---------+-----+----------+-----------+-----------+------------+-----------+-------+---------+-------+---------+-------+-------+--------+---------+----------+-------------+-----------+------+---------+---------+-------+--------------+-------------+--------+----------+---------+-------------+----------+-----------------+-------+---------+---------+\n",
            "\n"
          ],
          "name": "stdout"
        }
      ]
    },
    {
      "cell_type": "markdown",
      "metadata": {
        "id": "2adfMJs-XCTG"
      },
      "source": [
        "It is seen that there are only two players from Dominican Republic in the FIFA 2019 database. And, the player with highest potential as a striker is Mariano who is 24 years old. Since, he has already signed for one of the top clubs in Europe, it is hard to lure him away from the club. The release clause of 42.5 millions is moderate considering the current market in 2019. "
      ]
    },
    {
      "cell_type": "markdown",
      "metadata": {
        "id": "IHYPcucDxW42"
      },
      "source": [
        "Finding the position with highest average potential for Australia: "
      ]
    },
    {
      "cell_type": "code",
      "metadata": {
        "colab": {
          "base_uri": "https://localhost:8080/"
        },
        "id": "8a1XDPhHpMZ7",
        "outputId": "7221fdb6-e356-459e-a2b3-d9c7318b2b99"
      },
      "source": [
        "# selecting the highest average Potential along with the position for Australia\n",
        "pivot_df.createOrReplaceTempView('pivot_soccer_analysis')\n",
        "spark.sql(\"\"\"\n",
        "          Select Position, Australia from pivot_soccer_analysis Order By Australia Desc Limit 1\n",
        "          \"\"\").show(30)"
      ],
      "execution_count": 21,
      "outputs": [
        {
          "output_type": "stream",
          "text": [
            "+--------+---------+\n",
            "|Position|Australia|\n",
            "+--------+---------+\n",
            "|     RDM|     77.0|\n",
            "+--------+---------+\n",
            "\n"
          ],
          "name": "stdout"
        }
      ]
    },
    {
      "cell_type": "code",
      "metadata": {
        "colab": {
          "base_uri": "https://localhost:8080/"
        },
        "id": "iMf63jvdxW42",
        "outputId": "767d9c34-7197-4c15-ec8a-7b7db0905ec8"
      },
      "source": [
        "# selecting the highest average Potential along with the position for Australia\n",
        "pivot_df.orderBy(pivot_df['Australia'].desc())['Position','Australia'].first()"
      ],
      "execution_count": 22,
      "outputs": [
        {
          "output_type": "execute_result",
          "data": {
            "text/plain": [
              "Row(Position='RDM', Australia=77.0)"
            ]
          },
          "metadata": {
            "tags": []
          },
          "execution_count": 22
        }
      ]
    },
    {
      "cell_type": "code",
      "metadata": {
        "colab": {
          "base_uri": "https://localhost:8080/"
        },
        "id": "mOBa4ZW-qkfR",
        "outputId": "f0a5668d-5b8c-4150-b25a-5bcb5aba50cc"
      },
      "source": [
        "# finding the name of the Australian player with highest average potential \n",
        "spark.sql(\"\"\"\n",
        "          Select * from soccer_analysis Where Nationality = 'Australia' And Position = 'RDM'\n",
        "          \"\"\").show()"
      ],
      "execution_count": 23,
      "outputs": [
        {
          "output_type": "stream",
          "text": [
            "+------+---------+---+--------------------+-----------+--------------------+-------+---------+-------------------+--------------------+--------+-------+-------+--------------+------------------------+---------+-----------+------------+---------+---------+--------+-------------+------------+-----------+--------------------+------+----------+------+----------+--------+---------+---------------+------------+-------+---------+-----+----------+-----------+-----------+------------+-----------+-------+---------+-------+---------+-------+-------+--------+---------+----------+-------------+-----------+------+---------+---------+-------+--------------+-------------+--------+----------+---------+-------------+----------+-----------------+-------+---------+---------+\n",
            "|    ID|     Name|Age|               Photo|Nationality|                Flag|Overall|Potential|               Club|           Club Logo|value(M)|wage(K)|Special|Preferred Foot|International Reputation|Weak Foot|Skill Moves|   Work Rate|Body Type|Real Face|Position|Jersey Number|      Joined|Loaned From|Contract Valid Until|Height|Height(CM)|Weight|Weight(KG)|Crossing|Finishing|HeadingAccuracy|ShortPassing|Volleys|Dribbling|Curve|FKAccuracy|LongPassing|BallControl|Acceleration|SprintSpeed|Agility|Reactions|Balance|ShotPower|Jumping|Stamina|Strength|LongShots|Aggression|Interceptions|Positioning|Vision|Penalties|Composure|Marking|StandingTackle|SlidingTackle|GKDiving|GKHandling|GKKicking|GKPositioning|GKReflexes|Release Clause(M)|overall|potential|value_eur|\n",
            "+------+---------+---+--------------------+-----------+--------------------+-------+---------+-------------------+--------------------+--------+-------+-------+--------------+------------------------+---------+-----------+------------+---------+---------+--------+-------------+------------+-----------+--------------------+------+----------+------+----------+--------+---------+---------------+------------+-------+---------+-----+----------+-----------+-----------+------------+-----------+-------+---------+-------+---------+-------+-------+--------+---------+----------+-------------+-----------+------+---------+---------+-------+--------------+-------------+--------+----------+---------+-------------+----------+-----------------+-------+---------+---------+\n",
            "|205347|M. Luongo| 25|https://cdn.sofif...|  Australia|https://cdn.sofif...|     74|       77|Queens Park Rangers|https://cdn.sofif...|       6|      9|   1960|         Right|                       1|        3|          3|Medium/ High|   Normal|       No|     RDM|            8|May 28, 2015|       null|                2020|   5.9|   179.832| 168.0| 76.203456|      51|       63|             59|          71|     46|       74|   49|        46|         68|         72|          73|         74|     79|       72|     76|       69|     84|     92|      72|       63|        76|           72|         65|    70|       52|       63|     64|            77|           74|      15|        13|        9|           14|         6|             11.9|     71|       73|  2500000|\n",
            "+------+---------+---+--------------------+-----------+--------------------+-------+---------+-------------------+--------------------+--------+-------+-------+--------------+------------------------+---------+-----------+------------+---------+---------+--------+-------------+------------+-----------+--------------------+------+----------+------+----------+--------+---------+---------------+------------+-------+---------+-----+----------+-----------+-----------+------------+-----------+-------+---------+-------+---------+-------+-------+--------+---------+----------+-------------+-----------+------+---------+---------+-------+--------------+-------------+--------+----------+---------+-------------+----------+-----------------+-------+---------+---------+\n",
            "\n"
          ],
          "name": "stdout"
        }
      ]
    },
    {
      "cell_type": "code",
      "metadata": {
        "colab": {
          "base_uri": "https://localhost:8080/"
        },
        "id": "XdQtvJxkUXgX",
        "outputId": "ba40739e-077b-43e2-c00d-8022db535d4d"
      },
      "source": [
        "# finding the name of the Australian player with highest average potential \n",
        "df.filter((df.Nationality == 'Australia') & (df.Position == 'RDM')).show()"
      ],
      "execution_count": 24,
      "outputs": [
        {
          "output_type": "stream",
          "text": [
            "+------+---------+---+--------------------+-----------+--------------------+-------+---------+-------------------+--------------------+--------+-------+-------+--------------+------------------------+---------+-----------+------------+---------+---------+--------+-------------+------------+-----------+--------------------+------+----------+------+----------+--------+---------+---------------+------------+-------+---------+-----+----------+-----------+-----------+------------+-----------+-------+---------+-------+---------+-------+-------+--------+---------+----------+-------------+-----------+------+---------+---------+-------+--------------+-------------+--------+----------+---------+-------------+----------+-----------------+-------+---------+---------+\n",
            "|    ID|     Name|Age|               Photo|Nationality|                Flag|Overall|Potential|               Club|           Club Logo|value(M)|wage(K)|Special|Preferred Foot|International Reputation|Weak Foot|Skill Moves|   Work Rate|Body Type|Real Face|Position|Jersey Number|      Joined|Loaned From|Contract Valid Until|Height|Height(CM)|Weight|Weight(KG)|Crossing|Finishing|HeadingAccuracy|ShortPassing|Volleys|Dribbling|Curve|FKAccuracy|LongPassing|BallControl|Acceleration|SprintSpeed|Agility|Reactions|Balance|ShotPower|Jumping|Stamina|Strength|LongShots|Aggression|Interceptions|Positioning|Vision|Penalties|Composure|Marking|StandingTackle|SlidingTackle|GKDiving|GKHandling|GKKicking|GKPositioning|GKReflexes|Release Clause(M)|overall|potential|value_eur|\n",
            "+------+---------+---+--------------------+-----------+--------------------+-------+---------+-------------------+--------------------+--------+-------+-------+--------------+------------------------+---------+-----------+------------+---------+---------+--------+-------------+------------+-----------+--------------------+------+----------+------+----------+--------+---------+---------------+------------+-------+---------+-----+----------+-----------+-----------+------------+-----------+-------+---------+-------+---------+-------+-------+--------+---------+----------+-------------+-----------+------+---------+---------+-------+--------------+-------------+--------+----------+---------+-------------+----------+-----------------+-------+---------+---------+\n",
            "|205347|M. Luongo| 25|https://cdn.sofif...|  Australia|https://cdn.sofif...|     74|       77|Queens Park Rangers|https://cdn.sofif...|       6|      9|   1960|         Right|                       1|        3|          3|Medium/ High|   Normal|       No|     RDM|            8|May 28, 2015|       null|                2020|   5.9|   179.832| 168.0| 76.203456|      51|       63|             59|          71|     46|       74|   49|        46|         68|         72|          73|         74|     79|       72|     76|       69|     84|     92|      72|       63|        76|           72|         65|    70|       52|       63|     64|            77|           74|      15|        13|        9|           14|         6|             11.9|     71|       73|  2500000|\n",
            "+------+---------+---+--------------------+-----------+--------------------+-------+---------+-------------------+--------------------+--------+-------+-------+--------------+------------------------+---------+-----------+------------+---------+---------+--------+-------------+------------+-----------+--------------------+------+----------+------+----------+--------+---------+---------------+------------+-------+---------+-----+----------+-----------+-----------+------------+-----------+-------+---------+-------+---------+-------+-------+--------+---------+----------+-------------+-----------+------+---------+---------+-------+--------------+-------------+--------+----------+---------+-------------+----------+-----------------+-------+---------+---------+\n",
            "\n"
          ],
          "name": "stdout"
        }
      ]
    },
    {
      "cell_type": "markdown",
      "metadata": {
        "id": "uAKqlL0qzkpe"
      },
      "source": [
        "Finding the under 20 players with the highest and worst potential"
      ]
    },
    {
      "cell_type": "code",
      "metadata": {
        "colab": {
          "base_uri": "https://localhost:8080/"
        },
        "id": "PZtgwjLHrSqX",
        "outputId": "0be36ffd-f8db-46b9-9937-958ae6b4e268"
      },
      "source": [
        "# filtering the dataset based on age (under 20) and then arranging the overall in descending order\n",
        "spark.sql(\"\"\"\n",
        "          Select * from soccer_analysis Where Age < 20 Order By Overall Desc\n",
        "          \"\"\").show()"
      ],
      "execution_count": 25,
      "outputs": [
        {
          "output_type": "stream",
          "text": [
            "+------+-------------------+---+--------------------+-------------+--------------------+-------+---------+--------------------+--------------------+--------+-------+-------+--------------+------------------------+---------+-----------+--------------+---------+---------+--------+-------------+------------+-----------+--------------------+------+----------+------+----------+--------+---------+---------------+------------+-------+---------+-----+----------+-----------+-----------+------------+-----------+-------+---------+-------+---------+-------+-------+--------+---------+----------+-------------+-----------+------+---------+---------+-------+--------------+-------------+--------+----------+---------+-------------+----------+-----------------+-------+---------+---------+\n",
            "|    ID|               Name|Age|               Photo|  Nationality|                Flag|Overall|Potential|                Club|           Club Logo|value(M)|wage(K)|Special|Preferred Foot|International Reputation|Weak Foot|Skill Moves|     Work Rate|Body Type|Real Face|Position|Jersey Number|      Joined|Loaned From|Contract Valid Until|Height|Height(CM)|Weight|Weight(KG)|Crossing|Finishing|HeadingAccuracy|ShortPassing|Volleys|Dribbling|Curve|FKAccuracy|LongPassing|BallControl|Acceleration|SprintSpeed|Agility|Reactions|Balance|ShotPower|Jumping|Stamina|Strength|LongShots|Aggression|Interceptions|Positioning|Vision|Penalties|Composure|Marking|StandingTackle|SlidingTackle|GKDiving|GKHandling|GKKicking|GKPositioning|GKReflexes|Release Clause(M)|overall|potential|value_eur|\n",
            "+------+-------------------+---+--------------------+-------------+--------------------+-------+---------+--------------------+--------------------+--------+-------+-------+--------------+------------------------+---------+-----------+--------------+---------+---------+--------+-------------+------------+-----------+--------------------+------+----------+------+----------+--------+---------+---------------+------------+-------+---------+-----+----------+-----------+-----------+------------+-----------+-------+---------+-------+---------+-------+-------+--------+---------+----------+-------------+-----------+------+---------+---------+-------+--------------+-------------+--------+----------+---------+-------------+----------+-----------------+-------+---------+---------+\n",
            "|231747|         K. Mbapp��| 19|https://cdn.sofif...|       France|https://cdn.sofif...|     88|       95| Paris Saint-Germain|https://cdn.sofif...|      81|    100|   2118|         Right|                       3|        4|          5|  High/ Medium|     Lean|      Yes|      RM|           10| Jul 1, 2018|       null|                2022|   5.1|   155.448| 161.0| 73.028312|      77|       88|             77|          82|     78|       90|   77|        63|         73|         91|          96|         96|     92|       87|     83|       79|     75|     83|      71|       78|        62|           38|         88|    82|       70|       86|     34|            34|           32|      13|         5|        7|           11|         6|            166.1|     90|       95|105500000|\n",
            "|230621|      G. Donnarumma| 19|https://cdn.sofif...|        Italy|https://cdn.sofif...|     82|       93|               Milan|https://cdn.sofif...|      29|     23|   1278|         Right|                       3|        3|          1|Medium/ Medium|   Normal|      Yes|      GK|           22| Jul 1, 2015|       null|                2021|   6.5|    198.12| 198.0| 89.811216|      12|       12|             12|          34|      8|       28|   12|        14|         24|         28|          46|         54|     64|       74|     38|       24|     72|     34|      72|       18|        30|           26|         14|    50|       24|       68|     20|            14|           16|      88|        78|       72|           78|        88|             55.1|     85|       92| 41500000|\n",
            "|235243|         M. de Ligt| 18|https://cdn.sofif...|  Netherlands|https://cdn.sofif...|     82|       91|                Ajax|https://cdn.sofif...|      27|     11|   1937|         Right|                       2|        4|          2|Medium/ Medium|   Normal|      Yes|     RCB|            3|Oct 24, 2016|       null|                2021|   6.2|   188.976| 196.0| 88.904032|      57|       53|             81|          75|     40|       65|   48|        55|         72|         73|          62|         72|     56|       77|     59|       79|     80|     74|      87|       64|        79|           79|         44|    63|       40|       77|     84|            84|           79|      12|        11|       11|           12|        10|             43.2|     85|       92| 49500000|\n",
            "|235790|         K. Havertz| 19|https://cdn.sofif...|      Germany|https://cdn.sofif...|     80|       89| Bayer 04 Leverkusen|https://cdn.sofif...|      22|     32|   1876|          Left|                       1|        5|          4|Medium/ Medium|     Lean|       No|     CAM|           29| Jul 1, 2016|       null|                2022|   6.2|   188.976| 183.0| 83.007336|      69|       72|             65|          82|     71|       81|   65|        53|         73|         83|          77|         86|     78|       78|     71|       66|     69|     73|      61|       66|        40|           32|         78|    83|       49|       80|     28|            42|           38|       6|         8|       11|           10|        12|             41.8|     85|       93| 57000000|\n",
            "|227796|         C. Pulisic| 19|https://cdn.sofif...|United States|https://cdn.sofif...|     79|       87|   Borussia Dortmund|https://cdn.sofif...|      18|     26|   1925|         Right|                       3|        4|          4|Medium/ Medium|     Lean|      Yes|      RM|           10| Jan 5, 2016|       null|                2020|   5.1|   155.448| 152.0| 68.945984|      69|       67|             46|          77|     70|       87|   69|        58|         56|         82|          93|         88|     87|       79|     89|       79|     84|     74|      52|       58|        45|           32|         73|    78|       61|       67|     38|            30|           41|       8|        12|       13|           16|        14|             34.2|     81|       87| 24500000|\n",
            "|231281|T. Alexander-Arnold| 19|https://cdn.sofif...|      England|https://cdn.sofif...|     78|       88|           Liverpool|https://cdn.sofif...|      14|     36|   2025|         Right|                       1|        3|          3|  High/ Medium|     Lean|      Yes|      RB|           14| Oct 7, 2015|       null|                2021|  5.11|  155.7528| 152.0| 68.945984|      83|       56|             59|          76|     41|       72|   74|        74|         75|         72|          82|         79|     74|       75|     74|       70|     66|     79|      62|       63|        73|           76|         62|    72|       55|       74|     75|            76|           74|      14|        15|       14|            6|         7|             29.4|     87|       92| 60000000|\n",
            "|231691|          A. Lafont| 19|https://cdn.sofif...|       France|https://cdn.sofif...|     78|       90|          Fiorentina|https://cdn.sofif...|      14|     12|   1200|         Right|                       2|        3|          1|Medium/ Medium|     Lean|       No|      GK|            1| Jul 2, 2018|       null|                2023|   6.4|   195.072| 181.0| 82.100152|      13|        6|             13|          54|      9|       14|   13|        12|         38|         10|          48|         45|     55|       69|     53|       23|     73|     40|      70|        9|        20|           17|          4|    47|       16|       59|     20|            14|           12|      79|        77|       71|           76|        80|             26.6|     78|       84| 11000000|\n",
            "|235212|          A. Hakimi| 19|https://cdn.sofif...|      Morocco|https://cdn.sofif...|     78|       86|   Borussia Dortmund|https://cdn.sofif...|    12.5|     49|   2024|         Right|                       1|        2|          3|  High/ Medium|   Normal|      Yes|      LB|            5|        null|Real Madrid|        Jun 30, 2020|  5.11|  155.7528| 161.0| 73.028312|      76|       59|             64|          77|     48|       78|   65|        55|         68|         78|          89|         91|     75|       77|     75|       75|     69|     84|      73|       62|        67|           71|         71|    63|       46|       72|     74|            73|           75|      10|         8|       14|            6|         8|             null|     83|       88| 35000000|\n",
            "|233049|          J. Sancho| 18|https://cdn.sofif...|      England|https://cdn.sofif...|     77|       89|   Borussia Dortmund|https://cdn.sofif...|    14.5|     22|   1785|         Right|                       1|        3|          5|Medium/ Medium|     Lean|       No|      RM|            7|Aug 31, 2017|       null|                2022|  5.11|  155.7528| 168.0| 76.203456|      68|       70|             38|          74|     65|       86|   75|        48|         54|         85|          88|         86|     90|       76|     87|       64|     49|     66|      52|       48|        39|           26|         68|    75|       57|       64|     30|            33|           36|       7|        11|       10|           11|        13|             27.6|     87|       93| 69500000|\n",
            "|229558|       D. Upamecano| 19|https://cdn.sofif...|       France|https://cdn.sofif...|     77|       88|          RB Leipzig|https://cdn.sofif...|      13|     18|   1708|         Right|                       1|        3|          2|Medium/ Medium|   Stocky|       No|     LCB|            5|Jan 13, 2017|       null|                2021|   6.1|   185.928| 183.0| 83.007336|      47|       39|             71|          72|     21|       59|   32|        28|         66|         64|          73|         85|     61|       67|     62|       44|     86|     61|      88|       24|        81|           75|         35|    56|       39|       68|     68|            84|           75|       6|         7|        8|           15|         9|             24.7|     79|       90| 20000000|\n",
            "|238794|  Vin��cius J��nior| 17|https://cdn.sofif...|       Brazil|https://cdn.sofif...|     77|       92|         Real Madrid|https://cdn.sofif...|    17.5|     66|   1849|         Right|                       1|        4|          5|  High/ Medium|     Lean|       No|      LW|           28|Jul 12, 2018|       null|                2025|   5.9|   179.832| 161.0| 73.028312|      65|       70|             50|          70|     71|       81|   77|        62|         48|         80|          92|         94|     90|       70|     82|       74|     74|     79|      59|       68|        48|           26|         74|    69|       65|       75|     32|            25|           18|       5|         7|        7|            7|        10|             46.8|     80|       93| 27500000|\n",
            "|243952|           A. Lunin| 19|https://cdn.sofif...|      Ukraine|https://cdn.sofif...|     76|       88|         CD Legan��s|https://cdn.sofif...|    10.5|     24|   1078|         Right|                       1|        3|          1|Medium/ Medium|   Normal|       No|      GK|           29|        null|Real Madrid|        Jun 30, 2019|   6.3|   192.024| 176.0| 79.832192|      15|        8|             12|          25|     12|       11|   14|        15|         26|         15|          33|         26|     36|       76|     22|       22|     56|     32|      61|        7|        22|           19|         11|    60|       19|       56|     22|            13|           11|      74|        71|       76|           77|        79|             null|     75|       87|  9500000|\n",
            "|234568|   Gedson Fernandes| 19|https://cdn.sofif...|     Portugal|https://cdn.sofif...|     76|       86|          SL Benfica|https://cdn.sofif...|      12|      6|   2078|         Right|                       1|        3|          3|    High/ High|     Lean|       No|     RCM|           83|Jul 20, 2015|       null|                2023|  5.11|  155.7528| 157.0| 71.213944|      71|       64|             61|          75|     64|       77|   68|        70|         72|         77|          81|         78|     79|       77|     71|       80|     69|     88|      73|       77|        77|           68|         71|    73|       61|       74|     68|            72|           71|       9|        15|        7|            9|         5|             26.4|     75|       84| 10000000|\n",
            "|231826|         Y. Karamoh| 19|https://cdn.sofif...|       France|https://cdn.sofif...|     75|       85|FC Girondins de B...|https://cdn.sofif...|    10.5|     24|   1800|         Right|                       1|        4|          3|  High/ Medium|     Lean|       No|      RM|            8|        null|      Inter|        Jun 30, 2019|   6.1|   185.928| 170.0|  77.11064|      67|       68|             65|          70|     66|       80|   67|        44|         63|         79|          84|         79|     73|       70|     65|       69|     68|     72|      61|       70|        50|           29|         72|    70|       65|       65|     23|            31|           26|      14|        10|       10|            8|        12|             null|     75|       82|  9500000|\n",
            "|234986|          P. Retsos| 19|https://cdn.sofif...|       Greece|https://cdn.sofif...|     75|       85| Bayer 04 Leverkusen|https://cdn.sofif...|       9|     19|   1669|         Right|                       1|        3|          2|  Medium/ High|     Lean|       No|      CB|            3|Aug 31, 2017|       null|                2022|   6.1|   185.928| 179.0| 81.192968|      57|       26|             70|          77|     26|       46|   31|        29|         62|         65|          69|         74|     67|       72|     54|       60|     74|     76|      74|       33|        69|           75|         37|    42|       33|       73|     72|            79|           73|      14|         9|       11|            6|         7|             17.1|     74|       82|  7500000|\n",
            "|235454|            M. Sarr| 19|https://cdn.sofif...|       France|https://cdn.sofif...|     75|       84|            OGC Nice|https://cdn.sofif...|     8.5|     11|   1876|          Left|                       1|        4|          2|     Low/ High|   Stocky|       No|     LCB|           23| Jul 1, 2016|       null|                2021|   6.0|    182.88| 161.0| 73.028312|      68|       49|             73|          74|     37|       62|   68|        40|         69|         67|          74|         72|     74|       72|     70|       50|     78|     79|      79|       40|        68|           74|         59|    63|       44|       78|     72|            77|           75|       6|         9|       14|           12|         8|             17.9|     75|       79|  8000000|\n",
            "|233064|           M. Mount| 19|https://cdn.sofif...|      England|https://cdn.sofif...|     75|       86|        Derby County|https://cdn.sofif...|      11|     37|   1840|         Right|                       1|        4|          3|  High/ Medium|     Lean|      Yes|     LCM|            8|        null|    Chelsea|        Jun 30, 2019|   5.1|   155.448| 141.0| 63.956472|      69|       67|             59|          76|     61|       76|   75|        76|         71|         79|          77|         69|     78|       70|     75|       70|     46|     74|      46|       68|        38|           45|         63|    78|       60|       70|     44|            44|           30|      11|        12|       13|            8|        12|             null|     80|       87| 21000000|\n",
            "|235883|       R. Sessegnon| 18|https://cdn.sofif...|      England|https://cdn.sofif...|     75|       88|              Fulham|https://cdn.sofif...|      12|     27|   1933|          Left|                       1|        3|          4|  High/ Medium|     Lean|      Yes|      LM|            3| Aug 9, 2016|       null|                2020|   5.1|   155.448| 154.0| 69.853168|      71|       75|             55|          74|     55|       74|   54|        31|         63|         76|          85|         87|     79|       75|     85|       67|     66|     78|      55|       57|        60|           67|         77|    71|       61|       79|     66|            68|           62|       6|        11|        7|            8|         7|             30.3|     75|       86| 11500000|\n",
            "|238476|         D. Zagadou| 19|https://cdn.sofif...|       France|https://cdn.sofif...|     75|       85|   Borussia Dortmund|https://cdn.sofif...|       9|     16|   1559|          Left|                       1|        3|          2|Medium/ Medium|   Stocky|       No|      CB|            2| Jul 1, 2017|       null|                2022|   6.5|    198.12| 198.0| 89.811216|      46|       26|             77|          71|     25|       49|   37|        25|         55|         54|          52|         69|     47|       70|     34|       56|     64|     61|      87|       24|        75|           70|         31|    42|       30|       68|     71|            81|           75|       9|        13|        5|           14|        14|             17.1|     79|       86| 16000000|\n",
            "|236920|        J. Kluivert| 19|https://cdn.sofif...|  Netherlands|https://cdn.sofif...|     75|       86|                Roma|https://cdn.sofif...|      11|     28|   1877|         Right|                       1|        4|          4|  High/ Medium|   Normal|       No|      LW|           34| Jul 1, 2018|       null|                2023|   5.7|   173.736| 146.0| 66.224432|      69|       70|             52|          68|     67|       82|   72|        58|         54|         78|          91|         88|     85|       67|     83|       77|     66|     69|      61|       76|        66|           25|         65|    72|       66|       74|     47|            32|           27|       5|         6|       14|            7|        12|             20.9|     74|       84|  9000000|\n",
            "+------+-------------------+---+--------------------+-------------+--------------------+-------+---------+--------------------+--------------------+--------+-------+-------+--------------+------------------------+---------+-----------+--------------+---------+---------+--------+-------------+------------+-----------+--------------------+------+----------+------+----------+--------+---------+---------------+------------+-------+---------+-----+----------+-----------+-----------+------------+-----------+-------+---------+-------+---------+-------+-------+--------+---------+----------+-------------+-----------+------+---------+---------+-------+--------------+-------------+--------+----------+---------+-------------+----------+-----------------+-------+---------+---------+\n",
            "only showing top 20 rows\n",
            "\n"
          ],
          "name": "stdout"
        }
      ]
    },
    {
      "cell_type": "code",
      "metadata": {
        "colab": {
          "base_uri": "https://localhost:8080/"
        },
        "id": "3oIl_lIZR0mr",
        "outputId": "aac9b6d8-dc93-45b7-9659-a84af752294b"
      },
      "source": [
        "# filtering the dataset based on age (under 20) and then arranging the overall in descending order\n",
        "df.filter(df['Age'] < 20).sort('Overall', ascending=False).show() "
      ],
      "execution_count": 26,
      "outputs": [
        {
          "output_type": "stream",
          "text": [
            "+------+-------------------+---+--------------------+-------------+--------------------+-------+---------+--------------------+--------------------+--------+-------+-------+--------------+------------------------+---------+-----------+--------------+---------+---------+--------+-------------+------------+-----------+--------------------+------+----------+------+----------+--------+---------+---------------+------------+-------+---------+-----+----------+-----------+-----------+------------+-----------+-------+---------+-------+---------+-------+-------+--------+---------+----------+-------------+-----------+------+---------+---------+-------+--------------+-------------+--------+----------+---------+-------------+----------+-----------------+-------+---------+---------+\n",
            "|    ID|               Name|Age|               Photo|  Nationality|                Flag|Overall|Potential|                Club|           Club Logo|value(M)|wage(K)|Special|Preferred Foot|International Reputation|Weak Foot|Skill Moves|     Work Rate|Body Type|Real Face|Position|Jersey Number|      Joined|Loaned From|Contract Valid Until|Height|Height(CM)|Weight|Weight(KG)|Crossing|Finishing|HeadingAccuracy|ShortPassing|Volleys|Dribbling|Curve|FKAccuracy|LongPassing|BallControl|Acceleration|SprintSpeed|Agility|Reactions|Balance|ShotPower|Jumping|Stamina|Strength|LongShots|Aggression|Interceptions|Positioning|Vision|Penalties|Composure|Marking|StandingTackle|SlidingTackle|GKDiving|GKHandling|GKKicking|GKPositioning|GKReflexes|Release Clause(M)|overall|potential|value_eur|\n",
            "+------+-------------------+---+--------------------+-------------+--------------------+-------+---------+--------------------+--------------------+--------+-------+-------+--------------+------------------------+---------+-----------+--------------+---------+---------+--------+-------------+------------+-----------+--------------------+------+----------+------+----------+--------+---------+---------------+------------+-------+---------+-----+----------+-----------+-----------+------------+-----------+-------+---------+-------+---------+-------+-------+--------+---------+----------+-------------+-----------+------+---------+---------+-------+--------------+-------------+--------+----------+---------+-------------+----------+-----------------+-------+---------+---------+\n",
            "|231747|         K. Mbapp��| 19|https://cdn.sofif...|       France|https://cdn.sofif...|     88|       95| Paris Saint-Germain|https://cdn.sofif...|      81|    100|   2118|         Right|                       3|        4|          5|  High/ Medium|     Lean|      Yes|      RM|           10| Jul 1, 2018|       null|                2022|   5.1|   155.448| 161.0| 73.028312|      77|       88|             77|          82|     78|       90|   77|        63|         73|         91|          96|         96|     92|       87|     83|       79|     75|     83|      71|       78|        62|           38|         88|    82|       70|       86|     34|            34|           32|      13|         5|        7|           11|         6|            166.1|     90|       95|105500000|\n",
            "|230621|      G. Donnarumma| 19|https://cdn.sofif...|        Italy|https://cdn.sofif...|     82|       93|               Milan|https://cdn.sofif...|      29|     23|   1278|         Right|                       3|        3|          1|Medium/ Medium|   Normal|      Yes|      GK|           22| Jul 1, 2015|       null|                2021|   6.5|    198.12| 198.0| 89.811216|      12|       12|             12|          34|      8|       28|   12|        14|         24|         28|          46|         54|     64|       74|     38|       24|     72|     34|      72|       18|        30|           26|         14|    50|       24|       68|     20|            14|           16|      88|        78|       72|           78|        88|             55.1|     85|       92| 41500000|\n",
            "|235243|         M. de Ligt| 18|https://cdn.sofif...|  Netherlands|https://cdn.sofif...|     82|       91|                Ajax|https://cdn.sofif...|      27|     11|   1937|         Right|                       2|        4|          2|Medium/ Medium|   Normal|      Yes|     RCB|            3|Oct 24, 2016|       null|                2021|   6.2|   188.976| 196.0| 88.904032|      57|       53|             81|          75|     40|       65|   48|        55|         72|         73|          62|         72|     56|       77|     59|       79|     80|     74|      87|       64|        79|           79|         44|    63|       40|       77|     84|            84|           79|      12|        11|       11|           12|        10|             43.2|     85|       92| 49500000|\n",
            "|235790|         K. Havertz| 19|https://cdn.sofif...|      Germany|https://cdn.sofif...|     80|       89| Bayer 04 Leverkusen|https://cdn.sofif...|      22|     32|   1876|          Left|                       1|        5|          4|Medium/ Medium|     Lean|       No|     CAM|           29| Jul 1, 2016|       null|                2022|   6.2|   188.976| 183.0| 83.007336|      69|       72|             65|          82|     71|       81|   65|        53|         73|         83|          77|         86|     78|       78|     71|       66|     69|     73|      61|       66|        40|           32|         78|    83|       49|       80|     28|            42|           38|       6|         8|       11|           10|        12|             41.8|     85|       93| 57000000|\n",
            "|227796|         C. Pulisic| 19|https://cdn.sofif...|United States|https://cdn.sofif...|     79|       87|   Borussia Dortmund|https://cdn.sofif...|      18|     26|   1925|         Right|                       3|        4|          4|Medium/ Medium|     Lean|      Yes|      RM|           10| Jan 5, 2016|       null|                2020|   5.1|   155.448| 152.0| 68.945984|      69|       67|             46|          77|     70|       87|   69|        58|         56|         82|          93|         88|     87|       79|     89|       79|     84|     74|      52|       58|        45|           32|         73|    78|       61|       67|     38|            30|           41|       8|        12|       13|           16|        14|             34.2|     81|       87| 24500000|\n",
            "|231281|T. Alexander-Arnold| 19|https://cdn.sofif...|      England|https://cdn.sofif...|     78|       88|           Liverpool|https://cdn.sofif...|      14|     36|   2025|         Right|                       1|        3|          3|  High/ Medium|     Lean|      Yes|      RB|           14| Oct 7, 2015|       null|                2021|  5.11|  155.7528| 152.0| 68.945984|      83|       56|             59|          76|     41|       72|   74|        74|         75|         72|          82|         79|     74|       75|     74|       70|     66|     79|      62|       63|        73|           76|         62|    72|       55|       74|     75|            76|           74|      14|        15|       14|            6|         7|             29.4|     87|       92| 60000000|\n",
            "|231691|          A. Lafont| 19|https://cdn.sofif...|       France|https://cdn.sofif...|     78|       90|          Fiorentina|https://cdn.sofif...|      14|     12|   1200|         Right|                       2|        3|          1|Medium/ Medium|     Lean|       No|      GK|            1| Jul 2, 2018|       null|                2023|   6.4|   195.072| 181.0| 82.100152|      13|        6|             13|          54|      9|       14|   13|        12|         38|         10|          48|         45|     55|       69|     53|       23|     73|     40|      70|        9|        20|           17|          4|    47|       16|       59|     20|            14|           12|      79|        77|       71|           76|        80|             26.6|     78|       84| 11000000|\n",
            "|235212|          A. Hakimi| 19|https://cdn.sofif...|      Morocco|https://cdn.sofif...|     78|       86|   Borussia Dortmund|https://cdn.sofif...|    12.5|     49|   2024|         Right|                       1|        2|          3|  High/ Medium|   Normal|      Yes|      LB|            5|        null|Real Madrid|        Jun 30, 2020|  5.11|  155.7528| 161.0| 73.028312|      76|       59|             64|          77|     48|       78|   65|        55|         68|         78|          89|         91|     75|       77|     75|       75|     69|     84|      73|       62|        67|           71|         71|    63|       46|       72|     74|            73|           75|      10|         8|       14|            6|         8|             null|     83|       88| 35000000|\n",
            "|233049|          J. Sancho| 18|https://cdn.sofif...|      England|https://cdn.sofif...|     77|       89|   Borussia Dortmund|https://cdn.sofif...|    14.5|     22|   1785|         Right|                       1|        3|          5|Medium/ Medium|     Lean|       No|      RM|            7|Aug 31, 2017|       null|                2022|  5.11|  155.7528| 168.0| 76.203456|      68|       70|             38|          74|     65|       86|   75|        48|         54|         85|          88|         86|     90|       76|     87|       64|     49|     66|      52|       48|        39|           26|         68|    75|       57|       64|     30|            33|           36|       7|        11|       10|           11|        13|             27.6|     87|       93| 69500000|\n",
            "|229558|       D. Upamecano| 19|https://cdn.sofif...|       France|https://cdn.sofif...|     77|       88|          RB Leipzig|https://cdn.sofif...|      13|     18|   1708|         Right|                       1|        3|          2|Medium/ Medium|   Stocky|       No|     LCB|            5|Jan 13, 2017|       null|                2021|   6.1|   185.928| 183.0| 83.007336|      47|       39|             71|          72|     21|       59|   32|        28|         66|         64|          73|         85|     61|       67|     62|       44|     86|     61|      88|       24|        81|           75|         35|    56|       39|       68|     68|            84|           75|       6|         7|        8|           15|         9|             24.7|     79|       90| 20000000|\n",
            "|238794|  Vin��cius J��nior| 17|https://cdn.sofif...|       Brazil|https://cdn.sofif...|     77|       92|         Real Madrid|https://cdn.sofif...|    17.5|     66|   1849|         Right|                       1|        4|          5|  High/ Medium|     Lean|       No|      LW|           28|Jul 12, 2018|       null|                2025|   5.9|   179.832| 161.0| 73.028312|      65|       70|             50|          70|     71|       81|   77|        62|         48|         80|          92|         94|     90|       70|     82|       74|     74|     79|      59|       68|        48|           26|         74|    69|       65|       75|     32|            25|           18|       5|         7|        7|            7|        10|             46.8|     80|       93| 27500000|\n",
            "|243952|           A. Lunin| 19|https://cdn.sofif...|      Ukraine|https://cdn.sofif...|     76|       88|         CD Legan��s|https://cdn.sofif...|    10.5|     24|   1078|         Right|                       1|        3|          1|Medium/ Medium|   Normal|       No|      GK|           29|        null|Real Madrid|        Jun 30, 2019|   6.3|   192.024| 176.0| 79.832192|      15|        8|             12|          25|     12|       11|   14|        15|         26|         15|          33|         26|     36|       76|     22|       22|     56|     32|      61|        7|        22|           19|         11|    60|       19|       56|     22|            13|           11|      74|        71|       76|           77|        79|             null|     75|       87|  9500000|\n",
            "|234568|   Gedson Fernandes| 19|https://cdn.sofif...|     Portugal|https://cdn.sofif...|     76|       86|          SL Benfica|https://cdn.sofif...|      12|      6|   2078|         Right|                       1|        3|          3|    High/ High|     Lean|       No|     RCM|           83|Jul 20, 2015|       null|                2023|  5.11|  155.7528| 157.0| 71.213944|      71|       64|             61|          75|     64|       77|   68|        70|         72|         77|          81|         78|     79|       77|     71|       80|     69|     88|      73|       77|        77|           68|         71|    73|       61|       74|     68|            72|           71|       9|        15|        7|            9|         5|             26.4|     75|       84| 10000000|\n",
            "|231826|         Y. Karamoh| 19|https://cdn.sofif...|       France|https://cdn.sofif...|     75|       85|FC Girondins de B...|https://cdn.sofif...|    10.5|     24|   1800|         Right|                       1|        4|          3|  High/ Medium|     Lean|       No|      RM|            8|        null|      Inter|        Jun 30, 2019|   6.1|   185.928| 170.0|  77.11064|      67|       68|             65|          70|     66|       80|   67|        44|         63|         79|          84|         79|     73|       70|     65|       69|     68|     72|      61|       70|        50|           29|         72|    70|       65|       65|     23|            31|           26|      14|        10|       10|            8|        12|             null|     75|       82|  9500000|\n",
            "|234986|          P. Retsos| 19|https://cdn.sofif...|       Greece|https://cdn.sofif...|     75|       85| Bayer 04 Leverkusen|https://cdn.sofif...|       9|     19|   1669|         Right|                       1|        3|          2|  Medium/ High|     Lean|       No|      CB|            3|Aug 31, 2017|       null|                2022|   6.1|   185.928| 179.0| 81.192968|      57|       26|             70|          77|     26|       46|   31|        29|         62|         65|          69|         74|     67|       72|     54|       60|     74|     76|      74|       33|        69|           75|         37|    42|       33|       73|     72|            79|           73|      14|         9|       11|            6|         7|             17.1|     74|       82|  7500000|\n",
            "|235454|            M. Sarr| 19|https://cdn.sofif...|       France|https://cdn.sofif...|     75|       84|            OGC Nice|https://cdn.sofif...|     8.5|     11|   1876|          Left|                       1|        4|          2|     Low/ High|   Stocky|       No|     LCB|           23| Jul 1, 2016|       null|                2021|   6.0|    182.88| 161.0| 73.028312|      68|       49|             73|          74|     37|       62|   68|        40|         69|         67|          74|         72|     74|       72|     70|       50|     78|     79|      79|       40|        68|           74|         59|    63|       44|       78|     72|            77|           75|       6|         9|       14|           12|         8|             17.9|     75|       79|  8000000|\n",
            "|233064|           M. Mount| 19|https://cdn.sofif...|      England|https://cdn.sofif...|     75|       86|        Derby County|https://cdn.sofif...|      11|     37|   1840|         Right|                       1|        4|          3|  High/ Medium|     Lean|      Yes|     LCM|            8|        null|    Chelsea|        Jun 30, 2019|   5.1|   155.448| 141.0| 63.956472|      69|       67|             59|          76|     61|       76|   75|        76|         71|         79|          77|         69|     78|       70|     75|       70|     46|     74|      46|       68|        38|           45|         63|    78|       60|       70|     44|            44|           30|      11|        12|       13|            8|        12|             null|     80|       87| 21000000|\n",
            "|235883|       R. Sessegnon| 18|https://cdn.sofif...|      England|https://cdn.sofif...|     75|       88|              Fulham|https://cdn.sofif...|      12|     27|   1933|          Left|                       1|        3|          4|  High/ Medium|     Lean|      Yes|      LM|            3| Aug 9, 2016|       null|                2020|   5.1|   155.448| 154.0| 69.853168|      71|       75|             55|          74|     55|       74|   54|        31|         63|         76|          85|         87|     79|       75|     85|       67|     66|     78|      55|       57|        60|           67|         77|    71|       61|       79|     66|            68|           62|       6|        11|        7|            8|         7|             30.3|     75|       86| 11500000|\n",
            "|238476|         D. Zagadou| 19|https://cdn.sofif...|       France|https://cdn.sofif...|     75|       85|   Borussia Dortmund|https://cdn.sofif...|       9|     16|   1559|          Left|                       1|        3|          2|Medium/ Medium|   Stocky|       No|      CB|            2| Jul 1, 2017|       null|                2022|   6.5|    198.12| 198.0| 89.811216|      46|       26|             77|          71|     25|       49|   37|        25|         55|         54|          52|         69|     47|       70|     34|       56|     64|     61|      87|       24|        75|           70|         31|    42|       30|       68|     71|            81|           75|       9|        13|        5|           14|        14|             17.1|     79|       86| 16000000|\n",
            "|236920|        J. Kluivert| 19|https://cdn.sofif...|  Netherlands|https://cdn.sofif...|     75|       86|                Roma|https://cdn.sofif...|      11|     28|   1877|         Right|                       1|        4|          4|  High/ Medium|   Normal|       No|      LW|           34| Jul 1, 2018|       null|                2023|   5.7|   173.736| 146.0| 66.224432|      69|       70|             52|          68|     67|       82|   72|        58|         54|         78|          91|         88|     85|       67|     83|       77|     66|     69|      61|       76|        66|           25|         65|    72|       66|       74|     47|            32|           27|       5|         6|       14|            7|        12|             20.9|     74|       84|  9000000|\n",
            "+------+-------------------+---+--------------------+-------------+--------------------+-------+---------+--------------------+--------------------+--------+-------+-------+--------------+------------------------+---------+-----------+--------------+---------+---------+--------+-------------+------------+-----------+--------------------+------+----------+------+----------+--------+---------+---------------+------------+-------+---------+-----+----------+-----------+-----------+------------+-----------+-------+---------+-------+---------+-------+-------+--------+---------+----------+-------------+-----------+------+---------+---------+-------+--------------+-------------+--------+----------+---------+-------------+----------+-----------------+-------+---------+---------+\n",
            "only showing top 20 rows\n",
            "\n"
          ],
          "name": "stdout"
        }
      ]
    },
    {
      "cell_type": "markdown",
      "metadata": {
        "id": "SflOclDSuYBw"
      },
      "source": [
        "Best player under 20 (Kylian Mbappe) and he has the best potential as well "
      ]
    },
    {
      "cell_type": "code",
      "metadata": {
        "colab": {
          "base_uri": "https://localhost:8080/"
        },
        "id": "Ec0qmitIsAO1",
        "outputId": "375d34dd-2a0e-4016-f8ae-f46cfc3c950a"
      },
      "source": [
        "# under 20 players having worst potential\n",
        "spark.sql(\"\"\"\n",
        "          Select * from soccer_analysis Where Age < 20 Order By Potential Asc\n",
        "          \"\"\").show()"
      ],
      "execution_count": 27,
      "outputs": [
        {
          "output_type": "stream",
          "text": [
            "+------+-------------+---+--------------------+-------------------+--------------------+-------+---------+--------------------+--------------------+--------+-------+-------+--------------+------------------------+---------+-----------+--------------+---------+---------+--------+-------------+------------+-----------+--------------------+------+----------+------+----------+--------+---------+---------------+------------+-------+---------+-----+----------+-----------+-----------+------------+-----------+-------+---------+-------+---------+-------+-------+--------+---------+----------+-------------+-----------+------+---------+---------+-------+--------------+-------------+--------+----------+---------+-------------+----------+-----------------+-------+---------+---------+\n",
            "|    ID|         Name|Age|               Photo|        Nationality|                Flag|Overall|Potential|                Club|           Club Logo|value(M)|wage(K)|Special|Preferred Foot|International Reputation|Weak Foot|Skill Moves|     Work Rate|Body Type|Real Face|Position|Jersey Number|      Joined|Loaned From|Contract Valid Until|Height|Height(CM)|Weight|Weight(KG)|Crossing|Finishing|HeadingAccuracy|ShortPassing|Volleys|Dribbling|Curve|FKAccuracy|LongPassing|BallControl|Acceleration|SprintSpeed|Agility|Reactions|Balance|ShotPower|Jumping|Stamina|Strength|LongShots|Aggression|Interceptions|Positioning|Vision|Penalties|Composure|Marking|StandingTackle|SlidingTackle|GKDiving|GKHandling|GKKicking|GKPositioning|GKReflexes|Release Clause(M)|overall|potential|value_eur|\n",
            "+------+-------------+---+--------------------+-------------------+--------------------+-------+---------+--------------------+--------------------+--------+-------+-------+--------------+------------------------+---------+-----------+--------------+---------+---------+--------+-------------+------------+-----------+--------------------+------+----------+------+----------+--------+---------+---------------+------------+-------+---------+-----+----------+-----------+-----------+------------+-----------+-------+---------+-------+---------+-------+-------+--------+---------+----------+-------------+-----------+------+---------+---------+-------+--------------+-------------+--------+----------+---------+-------------+----------+-----------------+-------+---------+---------+\n",
            "|241657|    D. Horton| 18|https://cdn.sofif...|            England|https://cdn.sofif...|     48|       55|        Lincoln City|https://cdn.sofif...|     40K|      1|   1368|         Right|                       1|        3|          2|Medium/ Medium|   Normal|       No|      CM|           33| Nov 4, 2017|       null|                2021|   6.1|   185.928| 179.0| 81.192968|      33|       24|             42|          54|     33|       44|   34|        36|         50|         47|          61|         57|     57|       44|     58|       47|     64|     59|      66|       31|        53|           49|         35|    46|       37|       42|     47|            49|           53|      12|         5|       12|           14|        15|              78K|   null|     null|     null|\n",
            "|246227|   T. Hillman| 17|https://cdn.sofif...|              Wales|https://cdn.sofif...|     48|       57|      Newport County|https://cdn.sofif...|     40K|      1|   1218|         Right|                       1|        2|          2|  High/ Medium|     Lean|       No|      RM|           34|Oct 20, 2018|       null|                2019|  5.11|  155.7528| 148.0| 67.131616|      40|       47|             38|          46|     39|       48|   43|        35|         43|         50|          69|         72|     51|       30|     65|       49|     44|     50|      42|       33|        22|           21|         40|    40|       46|       36|     18|            25|           25|      14|         6|        9|           10|         8|              78K|   null|     null|     null|\n",
            "|246111|M. Humpen?der| 19|https://cdn.sofif...|            Germany|https://cdn.sofif...|     50|       57|FC W��rzburger Ki...|https://cdn.sofif...|     30K|      1|    823|         Right|                       1|        3|          1|Medium/ Medium|   Normal|       No|      GK|           39|Sep 25, 2018|       null|                2019|   6.2|   188.976| 201.0| 91.171992|      12|        6|             13|          24|      6|       13|   12|        13|         17|         14|          33|         31|     32|       41|     31|       21|     51|     24|      62|        7|        19|           14|          5|    30|       13|       23|      6|            13|           12|      49|        55|       50|           41|        53|              50K|   null|     null|     null|\n",
            "|245945|     L. Hlabi| 18|https://cdn.sofif...|            England|https://cdn.sofif...|     55|       58|          Gillingham|https://cdn.sofif...|    100K|      1|   1342|         Right|                       1|        2|          2|Medium/ Medium|   Normal|       No|      ST|           29| Jul 1, 2018|       null|                2018|   6.0|    182.88| 174.0| 78.925008|      36|       49|             49|          38|     30|       38|   39|        29|         28|         39|          78|         79|     54|       58|     80|       68|     72|     66|      75|       49|        47|           14|         55|    26|       54|       41|     12|            17|           16|      12|        10|        7|            8|        10|             183K|   null|     null|     null|\n",
            "|242290| M. Antkowiak| 18|https://cdn.sofif...|             Poland|https://cdn.sofif...|     50|       58|        Lincoln City|https://cdn.sofif...|     30K|      1|    898|         Right|                       1|        3|          1|Medium/ Medium|     Lean|       No|      GK|           22| Jul 1, 2017|       null|                2018|   6.0|    182.88| 179.0| 81.192968|      14|       11|             11|          28|     13|       10|   11|        12|         31|         12|          33|         37|     43|       47|     42|       14|     63|     33|      41|       12|        24|           13|         10|    18|       27|       44|     20|            12|           13|      53|        49|       47|           42|        52|              59K|   null|     null|     null|\n",
            "|245445|     H. Benns| 18|https://cdn.sofif...|            England|https://cdn.sofif...|     50|       58|           Port Vale|https://cdn.sofif...|     40K|      1|   1263|         Right|                       1|        3|          3|Medium/ Medium|     Lean|       No|      RW|           26|Aug 14, 2018|       null|                2019|   5.7|   173.736| 143.0| 64.863656|      44|       49|             36|          36|     39|       53|   40|        30|         31|         55|          74|         72|     68|       31|     80|       58|     40|     42|      39|       39|        33|           21|         45|    47|       49|       47|     20|            22|           20|      15|        15|        5|           10|         5|              78K|   null|     null|     null|\n",
            "|239811|    Lee Yunoh| 19|https://cdn.sofif...|     Korea Republic|https://cdn.sofif...|     53|       58|      Vegalta Sendai|https://cdn.sofif...|     50K|      1|    806|         Right|                       1|        2|          1|Medium/ Medium|   Normal|       No|      GK|           35| Apr 7, 2017|       null|                2021|   6.3|   192.024| 194.0| 87.996848|       8|        5|             10|          28|      6|       10|    9|        13|         23|         18|          14|         23|     22|       35|     27|       20|     39|     31|      65|        4|        26|           14|          7|    36|       10|       29|      8|            12|           11|      54|        52|       55|           52|        59|              66K|   null|     null|     null|\n",
            "|244631| P. Wieliczko| 18|https://cdn.sofif...|             Poland|https://cdn.sofif...|     48|       58|         Wis?a P?ock|https://cdn.sofif...|     40K|      1|   1354|         Right|                       1|        2|          2|Medium/ Medium|   Normal|       No|      CM|           99| Jul 1, 2017|       null|                2021|   6.1|   185.928| 176.0| 79.832192|      42|       31|             42|          54|     32|       51|   32|        38|         51|         50|          66|         69|     56|       47|     57|       48|     58|     43|      60|       34|        53|           39|         48|    46|       36|       36|     50|            37|           44|      12|         9|        6|            6|         7|              62K|   null|     null|     null|\n",
            "|243934|    J. Hipper| 19|https://cdn.sofif...|            Germany|https://cdn.sofif...|     50|       59|   TSV 1860 M��nchen|https://cdn.sofif...|     30K|      1|    806|         Right|                       1|        2|          1|Medium/ Medium|   Normal|       No|      GK|           30| Jul 1, 2017|       null|                2019|   6.0|    182.88| 168.0| 76.203456|      13|        9|             10|          21|      5|        5|   11|        11|         25|         11|          24|         31|     31|       44|     47|       17|     71|     17|      51|        7|        16|           12|          4|    31|       11|       25|      7|            10|           10|      56|        47|       44|           46|        51|              50K|   null|     null|     null|\n",
            "|244359| L. Catherall| 18|https://cdn.sofif...|            England|https://cdn.sofif...|     51|       59|          Gillingham|https://cdn.sofif...|     40K|      1|    760|         Right|                       1|        2|          1|Medium/ Medium|   Stocky|       No|      GK|           32| Jul 1, 2018|       null|                2019|   6.4|   195.072| 165.0|  74.84268|      11|        6|              9|          20|      7|       11|   11|        11|         13|         13|          29|         17|     28|       42|     29|       18|     45|     16|      59|        8|        16|            7|          5|    24|       12|       31|     12|            14|           12|      53|        50|       50|           45|        57|              78K|   null|     null|     null|\n",
            "|245629|  T. O'Connor| 17|https://cdn.sofif...|Republic of Ireland|https://cdn.sofif...|     49|       59|         Limerick FC|https://cdn.sofif...|     40K|      1|   1177|         Right|                       1|        2|          2|Medium/ Medium|     Lean|       No|      CB|           14| Jul 6, 2018|       null|                2018|  5.11|  155.7528| 163.0| 73.935496|      26|       18|             46|          43|     29|       27|   24|        23|         28|         43|          62|         55|     41|       42|     65|       36|     74|     57|      54|       24|        47|           51|         20|    26|       33|       37|     39|            51|           48|      10|         5|       11|            5|        14|              70K|   null|     null|     null|\n",
            "|242591|    K. Hawley| 18|https://cdn.sofif...|            England|https://cdn.sofif...|     49|       59|           Morecambe|https://cdn.sofif...|     40K|      1|   1175|         Right|                       1|        2|          2|Medium/ Medium|     Lean|       No|      ST|           30|Mar 31, 2017|       null|                2019|   5.1|   155.448| 154.0| 69.853168|      18|       54|             47|          35|     34|       39|   36|        28|         20|         47|          54|         57|     55|       47|     61|       52|     65|     56|      48|       30|        28|           15|         48|    44|       43|       48|     27|            12|           12|      12|        12|       11|           15|        13|              78K|   null|     null|     null|\n",
            "|243961|     E. Tweed| 19|https://cdn.sofif...|Republic of Ireland|https://cdn.sofif...|     48|       59|          Derry City|https://cdn.sofif...|     50K|      1|   1315|         Right|                       1|        3|          2|Medium/ Medium|   Normal|       No|     LCM|           19|Feb 23, 2018|       null|                2018|  5.11|  155.7528| 159.0| 72.121128|      37|       34|             49|          55|     27|       40|   31|        30|         46|         43|          59|         61|     63|       53|     66|       47|     60|     60|      43|       30|        52|           45|         35|    49|       40|       43|     39|            39|           48|       6|        11|        9|            5|         8|              88K|   null|     null|     null|\n",
            "|243649|    E. Clarke| 19|https://cdn.sofif...|            England|https://cdn.sofif...|     48|       59|      Fleetwood Town|https://cdn.sofif...|     40K|      1|   1225|          Left|                       1|        2|          2|Medium/ Medium|     Lean|       No|      LB|            3|May 23, 2018|       null|                2019|   5.8|   176.784| 154.0| 69.853168|      40|       25|             38|          29|     21|       48|   34|        32|         21|         31|          66|         55|     49|       46|     42|       26|     62|     62|      52|       26|        54|           45|         43|    38|       39|       30|     45|            52|           49|       9|        12|       15|           12|         7|              78K|   null|     null|     null|\n",
            "|241401|   S. Moloney| 18|https://cdn.sofif...|            England|https://cdn.sofif...|     54|       59|                Bury|https://cdn.sofif...|     60K|      1|    861|         Right|                       1|        2|          1|Medium/ Medium|   Normal|       No|      GK|           43| Jul 1, 2017|       null|                2019|  5.11|  155.7528| 154.0| 69.853168|      13|        8|             11|          27|      7|       13|   14|        10|         28|         11|          28|         27|     33|       45|     42|       22|     62|     24|      35|        7|        28|            6|          7|    25|       14|       43|     19|            13|           14|      55|        51|       53|           55|        54|             110K|     54|       62|    80000|\n",
            "|245417|    J. Manley| 19|https://cdn.sofif...|Republic of Ireland|https://cdn.sofif...|     48|       59|St. Patrick's Ath...|https://cdn.sofif...|     40K|      1|   1152|         Right|                       1|        3|          2|Medium/ Medium|   Normal|       No|      CB|           28| Jun 8, 2018|       null|                2018|   5.8|   176.784| 159.0| 72.121128|      28|       23|             45|          27|     24|       25|   21|        26|         29|         28|          63|         50|     47|       42|     76|       35|     65|     49|      49|       21|        45|           46|         25|    29|       37|       43|     42|            54|           54|       6|        11|       12|           13|         5|              70K|   null|     null|     null|\n",
            "|240158|    C. Ehlich| 19|https://cdn.sofif...|            Germany|https://cdn.sofif...|     47|       59|  SpVgg Unterhaching|https://cdn.sofif...|     40K|      1|   1366|         Right|                       1|        3|          2|  High/ Medium|     Lean|       No|      RB|           33| Jul 1, 2017|       null|                2020|   5.1|   155.448| 161.0| 73.028312|      39|       40|             45|          46|     42|       46|   35|        29|         22|         49|          65|         62|     68|       44|     70|       44|     69|     61|      59|       41|        38|           36|         44|    38|       47|       47|     40|            42|           42|      13|        12|       11|           15|        12|              66K|     58|       69|   220000|\n",
            "|240708|   T. Knowles| 19|https://cdn.sofif...|            England|https://cdn.sofif...|     50|       59|    Cambridge United|https://cdn.sofif...|     40K|      1|   1242|         Right|                       1|        3|          2|     High/ Low|   Normal|       No|      ST|           23| Oct 6, 2018|       null|                2019|   6.0|    182.88| 154.0| 69.853168|      25|       52|             49|          42|     34|       41|   36|        33|         28|         41|          57|         68|     46|       47|     55|       55|     59|     51|      56|       47|        50|           18|         48|    48|       50|       41|     35|            19|           16|       5|         6|        8|            9|         8|              78K|     56|       68|   160000|\n",
            "|229047|W. Longbottom| 19|https://cdn.sofif...|            England|https://cdn.sofif...|     53|       60|    Doncaster Rovers|https://cdn.sofif...|     80K|      1|   1425|          Left|                       1|        3|          2|Medium/ Medium|     Lean|       No|      ST|           21|Mar 31, 2016|       null|                2020|   5.9|   179.832| 137.0| 62.142104|      46|       57|             40|          43|     33|       54|   32|        29|         32|         52|          59|         63|     69|       57|     74|       46|     65|     50|      54|       40|        52|           54|         56|    38|       55|       40|     37|            42|           41|      12|        14|        9|           10|        10|             156K|     54|       60|   100000|\n",
            "|244484| B. Gr?tterud| 19|https://cdn.sofif...|             Norway|https://cdn.sofif...|     52|       60|       FK Bod?/Glimt|https://cdn.sofif...|     50K|      1|    923|         Right|                       1|        1|          1|Medium/ Medium|     Lean|       No|      GK|           31| Jun 1, 2018|       null|                2021|   6.1|   185.928| 165.0|  74.84268|      18|       11|             11|          25|     12|       15|   18|        14|         30|         14|          20|         28|     25|       40|     45|       24|     60|     23|      41|       13|        33|           15|         10|    45|       18|       34|     28|            15|           14|      55|        52|       48|           44|        59|              73K|   null|     null|     null|\n",
            "+------+-------------+---+--------------------+-------------------+--------------------+-------+---------+--------------------+--------------------+--------+-------+-------+--------------+------------------------+---------+-----------+--------------+---------+---------+--------+-------------+------------+-----------+--------------------+------+----------+------+----------+--------+---------+---------------+------------+-------+---------+-----+----------+-----------+-----------+------------+-----------+-------+---------+-------+---------+-------+-------+--------+---------+----------+-------------+-----------+------+---------+---------+-------+--------------+-------------+--------+----------+---------+-------------+----------+-----------------+-------+---------+---------+\n",
            "only showing top 20 rows\n",
            "\n"
          ],
          "name": "stdout"
        }
      ]
    },
    {
      "cell_type": "code",
      "metadata": {
        "colab": {
          "base_uri": "https://localhost:8080/"
        },
        "id": "_kiZqO1KSElE",
        "outputId": "ca7ebcd0-5c12-4164-efd0-e0e7aab585a7"
      },
      "source": [
        "# under 20 players having worst potential\n",
        "df.filter(df['Age'] < 20).sort('Potential', ascending=True).show() "
      ],
      "execution_count": 28,
      "outputs": [
        {
          "output_type": "stream",
          "text": [
            "+------+-------------+---+--------------------+-------------------+--------------------+-------+---------+--------------------+--------------------+--------+-------+-------+--------------+------------------------+---------+-----------+--------------+---------+---------+--------+-------------+------------+-----------+--------------------+------+----------+------+----------+--------+---------+---------------+------------+-------+---------+-----+----------+-----------+-----------+------------+-----------+-------+---------+-------+---------+-------+-------+--------+---------+----------+-------------+-----------+------+---------+---------+-------+--------------+-------------+--------+----------+---------+-------------+----------+-----------------+-------+---------+---------+\n",
            "|    ID|         Name|Age|               Photo|        Nationality|                Flag|Overall|Potential|                Club|           Club Logo|value(M)|wage(K)|Special|Preferred Foot|International Reputation|Weak Foot|Skill Moves|     Work Rate|Body Type|Real Face|Position|Jersey Number|      Joined|Loaned From|Contract Valid Until|Height|Height(CM)|Weight|Weight(KG)|Crossing|Finishing|HeadingAccuracy|ShortPassing|Volleys|Dribbling|Curve|FKAccuracy|LongPassing|BallControl|Acceleration|SprintSpeed|Agility|Reactions|Balance|ShotPower|Jumping|Stamina|Strength|LongShots|Aggression|Interceptions|Positioning|Vision|Penalties|Composure|Marking|StandingTackle|SlidingTackle|GKDiving|GKHandling|GKKicking|GKPositioning|GKReflexes|Release Clause(M)|overall|potential|value_eur|\n",
            "+------+-------------+---+--------------------+-------------------+--------------------+-------+---------+--------------------+--------------------+--------+-------+-------+--------------+------------------------+---------+-----------+--------------+---------+---------+--------+-------------+------------+-----------+--------------------+------+----------+------+----------+--------+---------+---------------+------------+-------+---------+-----+----------+-----------+-----------+------------+-----------+-------+---------+-------+---------+-------+-------+--------+---------+----------+-------------+-----------+------+---------+---------+-------+--------------+-------------+--------+----------+---------+-------------+----------+-----------------+-------+---------+---------+\n",
            "|241657|    D. Horton| 18|https://cdn.sofif...|            England|https://cdn.sofif...|     48|       55|        Lincoln City|https://cdn.sofif...|     40K|      1|   1368|         Right|                       1|        3|          2|Medium/ Medium|   Normal|       No|      CM|           33| Nov 4, 2017|       null|                2021|   6.1|   185.928| 179.0| 81.192968|      33|       24|             42|          54|     33|       44|   34|        36|         50|         47|          61|         57|     57|       44|     58|       47|     64|     59|      66|       31|        53|           49|         35|    46|       37|       42|     47|            49|           53|      12|         5|       12|           14|        15|              78K|   null|     null|     null|\n",
            "|246227|   T. Hillman| 17|https://cdn.sofif...|              Wales|https://cdn.sofif...|     48|       57|      Newport County|https://cdn.sofif...|     40K|      1|   1218|         Right|                       1|        2|          2|  High/ Medium|     Lean|       No|      RM|           34|Oct 20, 2018|       null|                2019|  5.11|  155.7528| 148.0| 67.131616|      40|       47|             38|          46|     39|       48|   43|        35|         43|         50|          69|         72|     51|       30|     65|       49|     44|     50|      42|       33|        22|           21|         40|    40|       46|       36|     18|            25|           25|      14|         6|        9|           10|         8|              78K|   null|     null|     null|\n",
            "|246111|M. Humpen?der| 19|https://cdn.sofif...|            Germany|https://cdn.sofif...|     50|       57|FC W��rzburger Ki...|https://cdn.sofif...|     30K|      1|    823|         Right|                       1|        3|          1|Medium/ Medium|   Normal|       No|      GK|           39|Sep 25, 2018|       null|                2019|   6.2|   188.976| 201.0| 91.171992|      12|        6|             13|          24|      6|       13|   12|        13|         17|         14|          33|         31|     32|       41|     31|       21|     51|     24|      62|        7|        19|           14|          5|    30|       13|       23|      6|            13|           12|      49|        55|       50|           41|        53|              50K|   null|     null|     null|\n",
            "|245945|     L. Hlabi| 18|https://cdn.sofif...|            England|https://cdn.sofif...|     55|       58|          Gillingham|https://cdn.sofif...|    100K|      1|   1342|         Right|                       1|        2|          2|Medium/ Medium|   Normal|       No|      ST|           29| Jul 1, 2018|       null|                2018|   6.0|    182.88| 174.0| 78.925008|      36|       49|             49|          38|     30|       38|   39|        29|         28|         39|          78|         79|     54|       58|     80|       68|     72|     66|      75|       49|        47|           14|         55|    26|       54|       41|     12|            17|           16|      12|        10|        7|            8|        10|             183K|   null|     null|     null|\n",
            "|242290| M. Antkowiak| 18|https://cdn.sofif...|             Poland|https://cdn.sofif...|     50|       58|        Lincoln City|https://cdn.sofif...|     30K|      1|    898|         Right|                       1|        3|          1|Medium/ Medium|     Lean|       No|      GK|           22| Jul 1, 2017|       null|                2018|   6.0|    182.88| 179.0| 81.192968|      14|       11|             11|          28|     13|       10|   11|        12|         31|         12|          33|         37|     43|       47|     42|       14|     63|     33|      41|       12|        24|           13|         10|    18|       27|       44|     20|            12|           13|      53|        49|       47|           42|        52|              59K|   null|     null|     null|\n",
            "|245445|     H. Benns| 18|https://cdn.sofif...|            England|https://cdn.sofif...|     50|       58|           Port Vale|https://cdn.sofif...|     40K|      1|   1263|         Right|                       1|        3|          3|Medium/ Medium|     Lean|       No|      RW|           26|Aug 14, 2018|       null|                2019|   5.7|   173.736| 143.0| 64.863656|      44|       49|             36|          36|     39|       53|   40|        30|         31|         55|          74|         72|     68|       31|     80|       58|     40|     42|      39|       39|        33|           21|         45|    47|       49|       47|     20|            22|           20|      15|        15|        5|           10|         5|              78K|   null|     null|     null|\n",
            "|239811|    Lee Yunoh| 19|https://cdn.sofif...|     Korea Republic|https://cdn.sofif...|     53|       58|      Vegalta Sendai|https://cdn.sofif...|     50K|      1|    806|         Right|                       1|        2|          1|Medium/ Medium|   Normal|       No|      GK|           35| Apr 7, 2017|       null|                2021|   6.3|   192.024| 194.0| 87.996848|       8|        5|             10|          28|      6|       10|    9|        13|         23|         18|          14|         23|     22|       35|     27|       20|     39|     31|      65|        4|        26|           14|          7|    36|       10|       29|      8|            12|           11|      54|        52|       55|           52|        59|              66K|   null|     null|     null|\n",
            "|244631| P. Wieliczko| 18|https://cdn.sofif...|             Poland|https://cdn.sofif...|     48|       58|         Wis?a P?ock|https://cdn.sofif...|     40K|      1|   1354|         Right|                       1|        2|          2|Medium/ Medium|   Normal|       No|      CM|           99| Jul 1, 2017|       null|                2021|   6.1|   185.928| 176.0| 79.832192|      42|       31|             42|          54|     32|       51|   32|        38|         51|         50|          66|         69|     56|       47|     57|       48|     58|     43|      60|       34|        53|           39|         48|    46|       36|       36|     50|            37|           44|      12|         9|        6|            6|         7|              62K|   null|     null|     null|\n",
            "|243934|    J. Hipper| 19|https://cdn.sofif...|            Germany|https://cdn.sofif...|     50|       59|   TSV 1860 M��nchen|https://cdn.sofif...|     30K|      1|    806|         Right|                       1|        2|          1|Medium/ Medium|   Normal|       No|      GK|           30| Jul 1, 2017|       null|                2019|   6.0|    182.88| 168.0| 76.203456|      13|        9|             10|          21|      5|        5|   11|        11|         25|         11|          24|         31|     31|       44|     47|       17|     71|     17|      51|        7|        16|           12|          4|    31|       11|       25|      7|            10|           10|      56|        47|       44|           46|        51|              50K|   null|     null|     null|\n",
            "|244359| L. Catherall| 18|https://cdn.sofif...|            England|https://cdn.sofif...|     51|       59|          Gillingham|https://cdn.sofif...|     40K|      1|    760|         Right|                       1|        2|          1|Medium/ Medium|   Stocky|       No|      GK|           32| Jul 1, 2018|       null|                2019|   6.4|   195.072| 165.0|  74.84268|      11|        6|              9|          20|      7|       11|   11|        11|         13|         13|          29|         17|     28|       42|     29|       18|     45|     16|      59|        8|        16|            7|          5|    24|       12|       31|     12|            14|           12|      53|        50|       50|           45|        57|              78K|   null|     null|     null|\n",
            "|245629|  T. O'Connor| 17|https://cdn.sofif...|Republic of Ireland|https://cdn.sofif...|     49|       59|         Limerick FC|https://cdn.sofif...|     40K|      1|   1177|         Right|                       1|        2|          2|Medium/ Medium|     Lean|       No|      CB|           14| Jul 6, 2018|       null|                2018|  5.11|  155.7528| 163.0| 73.935496|      26|       18|             46|          43|     29|       27|   24|        23|         28|         43|          62|         55|     41|       42|     65|       36|     74|     57|      54|       24|        47|           51|         20|    26|       33|       37|     39|            51|           48|      10|         5|       11|            5|        14|              70K|   null|     null|     null|\n",
            "|242591|    K. Hawley| 18|https://cdn.sofif...|            England|https://cdn.sofif...|     49|       59|           Morecambe|https://cdn.sofif...|     40K|      1|   1175|         Right|                       1|        2|          2|Medium/ Medium|     Lean|       No|      ST|           30|Mar 31, 2017|       null|                2019|   5.1|   155.448| 154.0| 69.853168|      18|       54|             47|          35|     34|       39|   36|        28|         20|         47|          54|         57|     55|       47|     61|       52|     65|     56|      48|       30|        28|           15|         48|    44|       43|       48|     27|            12|           12|      12|        12|       11|           15|        13|              78K|   null|     null|     null|\n",
            "|243961|     E. Tweed| 19|https://cdn.sofif...|Republic of Ireland|https://cdn.sofif...|     48|       59|          Derry City|https://cdn.sofif...|     50K|      1|   1315|         Right|                       1|        3|          2|Medium/ Medium|   Normal|       No|     LCM|           19|Feb 23, 2018|       null|                2018|  5.11|  155.7528| 159.0| 72.121128|      37|       34|             49|          55|     27|       40|   31|        30|         46|         43|          59|         61|     63|       53|     66|       47|     60|     60|      43|       30|        52|           45|         35|    49|       40|       43|     39|            39|           48|       6|        11|        9|            5|         8|              88K|   null|     null|     null|\n",
            "|243649|    E. Clarke| 19|https://cdn.sofif...|            England|https://cdn.sofif...|     48|       59|      Fleetwood Town|https://cdn.sofif...|     40K|      1|   1225|          Left|                       1|        2|          2|Medium/ Medium|     Lean|       No|      LB|            3|May 23, 2018|       null|                2019|   5.8|   176.784| 154.0| 69.853168|      40|       25|             38|          29|     21|       48|   34|        32|         21|         31|          66|         55|     49|       46|     42|       26|     62|     62|      52|       26|        54|           45|         43|    38|       39|       30|     45|            52|           49|       9|        12|       15|           12|         7|              78K|   null|     null|     null|\n",
            "|241401|   S. Moloney| 18|https://cdn.sofif...|            England|https://cdn.sofif...|     54|       59|                Bury|https://cdn.sofif...|     60K|      1|    861|         Right|                       1|        2|          1|Medium/ Medium|   Normal|       No|      GK|           43| Jul 1, 2017|       null|                2019|  5.11|  155.7528| 154.0| 69.853168|      13|        8|             11|          27|      7|       13|   14|        10|         28|         11|          28|         27|     33|       45|     42|       22|     62|     24|      35|        7|        28|            6|          7|    25|       14|       43|     19|            13|           14|      55|        51|       53|           55|        54|             110K|     54|       62|    80000|\n",
            "|245417|    J. Manley| 19|https://cdn.sofif...|Republic of Ireland|https://cdn.sofif...|     48|       59|St. Patrick's Ath...|https://cdn.sofif...|     40K|      1|   1152|         Right|                       1|        3|          2|Medium/ Medium|   Normal|       No|      CB|           28| Jun 8, 2018|       null|                2018|   5.8|   176.784| 159.0| 72.121128|      28|       23|             45|          27|     24|       25|   21|        26|         29|         28|          63|         50|     47|       42|     76|       35|     65|     49|      49|       21|        45|           46|         25|    29|       37|       43|     42|            54|           54|       6|        11|       12|           13|         5|              70K|   null|     null|     null|\n",
            "|240158|    C. Ehlich| 19|https://cdn.sofif...|            Germany|https://cdn.sofif...|     47|       59|  SpVgg Unterhaching|https://cdn.sofif...|     40K|      1|   1366|         Right|                       1|        3|          2|  High/ Medium|     Lean|       No|      RB|           33| Jul 1, 2017|       null|                2020|   5.1|   155.448| 161.0| 73.028312|      39|       40|             45|          46|     42|       46|   35|        29|         22|         49|          65|         62|     68|       44|     70|       44|     69|     61|      59|       41|        38|           36|         44|    38|       47|       47|     40|            42|           42|      13|        12|       11|           15|        12|              66K|     58|       69|   220000|\n",
            "|240708|   T. Knowles| 19|https://cdn.sofif...|            England|https://cdn.sofif...|     50|       59|    Cambridge United|https://cdn.sofif...|     40K|      1|   1242|         Right|                       1|        3|          2|     High/ Low|   Normal|       No|      ST|           23| Oct 6, 2018|       null|                2019|   6.0|    182.88| 154.0| 69.853168|      25|       52|             49|          42|     34|       41|   36|        33|         28|         41|          57|         68|     46|       47|     55|       55|     59|     51|      56|       47|        50|           18|         48|    48|       50|       41|     35|            19|           16|       5|         6|        8|            9|         8|              78K|     56|       68|   160000|\n",
            "|229047|W. Longbottom| 19|https://cdn.sofif...|            England|https://cdn.sofif...|     53|       60|    Doncaster Rovers|https://cdn.sofif...|     80K|      1|   1425|          Left|                       1|        3|          2|Medium/ Medium|     Lean|       No|      ST|           21|Mar 31, 2016|       null|                2020|   5.9|   179.832| 137.0| 62.142104|      46|       57|             40|          43|     33|       54|   32|        29|         32|         52|          59|         63|     69|       57|     74|       46|     65|     50|      54|       40|        52|           54|         56|    38|       55|       40|     37|            42|           41|      12|        14|        9|           10|        10|             156K|     54|       60|   100000|\n",
            "|244484| B. Gr?tterud| 19|https://cdn.sofif...|             Norway|https://cdn.sofif...|     52|       60|       FK Bod?/Glimt|https://cdn.sofif...|     50K|      1|    923|         Right|                       1|        1|          1|Medium/ Medium|     Lean|       No|      GK|           31| Jun 1, 2018|       null|                2021|   6.1|   185.928| 165.0|  74.84268|      18|       11|             11|          25|     12|       15|   18|        14|         30|         14|          20|         28|     25|       40|     45|       24|     60|     23|      41|       13|        33|           15|         10|    45|       18|       34|     28|            15|           14|      55|        52|       48|           44|        59|              73K|   null|     null|     null|\n",
            "+------+-------------+---+--------------------+-------------------+--------------------+-------+---------+--------------------+--------------------+--------+-------+-------+--------------+------------------------+---------+-----------+--------------+---------+---------+--------+-------------+------------+-----------+--------------------+------+----------+------+----------+--------+---------+---------------+------------+-------+---------+-----+----------+-----------+-----------+------------+-----------+-------+---------+-------+---------+-------+-------+--------+---------+----------+-------------+-----------+------+---------+---------+-------+--------------+-------------+--------+----------+---------+-------------+----------+-----------------+-------+---------+---------+\n",
            "only showing top 20 rows\n",
            "\n"
          ],
          "name": "stdout"
        }
      ]
    },
    {
      "cell_type": "code",
      "metadata": {
        "colab": {
          "base_uri": "https://localhost:8080/"
        },
        "id": "q2Xe62ZdsKMq",
        "outputId": "f51a5920-654f-46ed-cc6a-4913a8fb2dd9"
      },
      "source": [
        "# finding the Australian player with highest potential\n",
        "spark.sql(\"\"\"\n",
        "          Select * from soccer_analysis Where Nationality = 'Australia' Order By Potential Desc\n",
        "          \"\"\").show()"
      ],
      "execution_count": 29,
      "outputs": [
        {
          "output_type": "stream",
          "text": [
            "+------+-------------+---+--------------------+-----------+--------------------+-------+---------+--------------------+--------------------+--------+-------+-------+--------------+------------------------+---------+-----------+--------------+---------+---------+--------+-------------+------------+--------------------+--------------------+------+----------+------+----------+--------+---------+---------------+------------+-------+---------+-----+----------+-----------+-----------+------------+-----------+-------+---------+-------+---------+-------+-------+--------+---------+----------+-------------+-----------+------+---------+---------+-------+--------------+-------------+--------+----------+---------+-------------+----------+-----------------+-------+---------+---------+\n",
            "|    ID|         Name|Age|               Photo|Nationality|                Flag|Overall|Potential|                Club|           Club Logo|value(M)|wage(K)|Special|Preferred Foot|International Reputation|Weak Foot|Skill Moves|     Work Rate|Body Type|Real Face|Position|Jersey Number|      Joined|         Loaned From|Contract Valid Until|Height|Height(CM)|Weight|Weight(KG)|Crossing|Finishing|HeadingAccuracy|ShortPassing|Volleys|Dribbling|Curve|FKAccuracy|LongPassing|BallControl|Acceleration|SprintSpeed|Agility|Reactions|Balance|ShotPower|Jumping|Stamina|Strength|LongShots|Aggression|Interceptions|Positioning|Vision|Penalties|Composure|Marking|StandingTackle|SlidingTackle|GKDiving|GKHandling|GKKicking|GKPositioning|GKReflexes|Release Clause(M)|overall|potential|value_eur|\n",
            "+------+-------------+---+--------------------+-----------+--------------------+-------+---------+--------------------+--------------------+--------+-------+-------+--------------+------------------------+---------+-----------+--------------+---------+---------+--------+-------------+------------+--------------------+--------------------+------+----------+------+----------+--------+---------+---------------+------------+-------+---------+-----+----------+-----------+-----------+------------+-----------+-------+---------+-------+---------+-------+-------+--------+---------+----------+-------------+-----------+------+---------+---------+-------+--------------+-------------+--------+----------+---------+-------------+----------+-----------------+-------+---------+---------+\n",
            "|234867|    D. Arzani| 19|https://cdn.sofif...|  Australia|https://cdn.sofif...|     69|       83|              Celtic|https://cdn.sofif...|     2.3|     20|   1575|         Right|                       1|        3|          4|     High/ Low|     Lean|      Yes|      RM|           14|        null|     Manchester City|        Jun 30, 2020|   5.7|   173.736| 161.0| 73.028312|      65|       63|             23|          64|     51|       76|   66|        40|         58|         69|          79|         80|     80|       58|     62|       53|     33|     61|      32|       57|        35|           23|         62|    65|       64|       65|     34|            33|           35|       8|         8|       14|           10|        14|             null|     68|       82|  2000000|\n",
            "|199005|      M. Ryan| 26|https://cdn.sofif...|  Australia|https://cdn.sofif...|     79|       81|Brighton & Hove A...|https://cdn.sofif...|    10.5|     41|   1341|         Right|                       1|        4|          1|Medium/ Medium|   Normal|      Yes|      GK|            1| Jul 1, 2017|                null|                2022|   6.0|    182.88| 181.0| 82.100152|      23|       11|             14|          40|     15|       13|   23|        12|         45|         24|          53|         52|     53|       73|     50|       35|     78|     34|      68|       18|        36|           23|         10|    68|       25|       64|     10|            20|           17|      81|        74|       82|           78|        83|             20.7|     80|       82| 13000000|\n",
            "|229585|   M. Degenek| 24|https://cdn.sofif...|  Australia|https://cdn.sofif...|     73|       80|                null|https://cdn.sofif...|    null|   null|   1995|         Right|                       1|        4|          2|    High/ High|     Lean|       No|      CB|            2|        null|                null|                null|   6.2|   188.976| 181.0| 82.100152|      70|       59|             70|          74|     62|       58|   69|        44|         72|         64|          79|         79|     78|       72|     70|       70|     81|     86|      84|       61|        81|           70|         55|    67|       58|       80|     65|            71|           71|      14|        12|        7|           10|        12|             null|     73|       78|        0|\n",
            "|241861|  N. Atkinson| 19|https://cdn.sofif...|  Australia|https://cdn.sofif...|     64|       79|   Melbourne City FC|https://cdn.sofif...|    875K|      1|   1778|         Right|                       1|        4|          3|  High/ Medium|   Normal|       No|      RW|           13|Dec 10, 2017|                null|                2020|  5.11|  155.7528| 159.0| 72.121128|      59|       46|             38|          61|     31|       65|   65|        38|         55|         64|          84|         80|     86|       62|     89|       44|     88|     75|      74|       43|        55|           54|         66|    60|       51|       66|     64|            65|           60|      15|        11|       12|           12|         6|              1.6|     65|       74|   750000|\n",
            "|207928|     T. Rogi?| 25|https://cdn.sofif...|  Australia|https://cdn.sofif...|     76|       79|              Celtic|https://cdn.sofif...|     9.5|     46|   1885|          Left|                       1|        4|          4|Medium/ Medium|   Normal|       No|     CAM|           23| Jan 9, 2013|                null|                2023|   6.2|   188.976| 194.0| 87.996848|      61|       70|             60|          76|     68|       82|   76|        57|         70|         82|          74|         66|     74|       64|     75|       82|     52|     55|      77|       80|        48|           38|         75|    73|       56|       83|     46|            48|           41|      12|        11|       13|           12|        11|             17.8|     73|       74|  4600000|\n",
            "|241552|  J. Italiano| 16|https://cdn.sofif...|  Australia|https://cdn.sofif...|     58|       79|         Perth Glory|https://cdn.sofif...|    280K|      1|   1434|         Right|                       1|        2|          3|  High/ Medium|     Lean|       No|      LM|           26|Oct 15, 2017|                null|                2019|   5.7|   173.736| 143.0| 64.863656|      43|       50|             36|          61|     35|       59|   41|        36|         57|         56|          80|         72|     72|       53|     79|       54|     58|     57|      42|       33|        38|           22|         53|    52|       40|       57|     36|            38|           43|       7|         7|        9|           10|         5|             630K|     61|       82|   575000|\n",
            "|212830|     A. Mabil| 22|https://cdn.sofif...|  Australia|https://cdn.sofif...|     70|       78|      FC Midtjylland|https://cdn.sofif...|     2.6|     12|   1651|         Right|                       1|        2|          4|   Medium/ Low|     Lean|       No|      RW|           21|Jul 28, 2015|                null|                2022|   5.1|   155.448| 161.0| 73.028312|      68|       59|             33|          62|     48|       75|   62|        60|         47|         73|          93|         92|     85|       65|     72|       60|     56|     68|      43|       44|        35|           25|         65|    57|       53|       60|     37|            23|           20|      16|        12|       18|           13|        12|              3.9|     72|       75|  3900000|\n",
            "|213488|  D. De Silva| 21|https://cdn.sofif...|  Australia|https://cdn.sofif...|     67|       78|           Sydney FC|https://cdn.sofif...|     1.3|      1|   1679|         Right|                       1|        4|          3|    High/ High|     Lean|       No|     CAM|           11|        null|Central Coast Mar...|        May 31, 2019|   5.7|   173.736| 132.0| 59.874144|      47|       59|             27|          65|     59|       70|   62|        45|         63|         72|          77|         74|     81|       56|     88|       59|     77|     89|      67|       65|        36|           30|         60|    64|       50|       67|     32|            36|           20|       7|         9|        8|           15|        10|             null|     65|       72|   750000|\n",
            "|233487|    R. McGree| 19|https://cdn.sofif...|  Australia|https://cdn.sofif...|     66|       77|   Melbourne City FC|https://cdn.sofif...|     1.1|      3|   1790|          Left|                       1|        3|          3|Medium/ Medium|   Normal|       No|     RCM|            8|        null|      Club Brugge KV|        May 31, 2019|   5.1|   155.448| 159.0| 72.121128|      53|       63|             48|          66|     40|       70|   65|        55|         64|         69|          76|         76|     76|       62|     75|       64|     58|     74|      63|       58|        68|           60|         66|    64|       44|       68|     57|            57|           52|      12|         9|        5|            8|        13|             null|     71|       78|  3300000|\n",
            "|205347|    M. Luongo| 25|https://cdn.sofif...|  Australia|https://cdn.sofif...|     74|       77| Queens Park Rangers|https://cdn.sofif...|       6|      9|   1960|         Right|                       1|        3|          3|  Medium/ High|   Normal|       No|     RDM|            8|May 28, 2015|                null|                2020|   5.9|   179.832| 168.0| 76.203456|      51|       63|             59|          71|     46|       74|   49|        46|         68|         72|          73|         74|     79|       72|     76|       69|     84|     92|      72|       63|        76|           72|         65|    70|       52|       63|     64|            77|           74|      15|        13|        9|           14|         6|             11.9|     71|       73|  2500000|\n",
            "|199000| T. Sainsbury| 26|https://cdn.sofif...|  Australia|https://cdn.sofif...|     74|       77|                 PSV|https://cdn.sofif...|       6|     13|   1836|         Right|                       1|        3|          2|Medium/ Medium|     Lean|       No|     RCB|           20| Aug 7, 2018|                null|                2021|   6.0|    182.88| 172.0| 78.017824|      58|       45|             74|          67|     33|       55|   62|        25|         68|         55|          74|         74|     67|       74|     73|       61|     77|     75|      76|       43|        62|           77|         52|    62|       63|       70|     82|            70|           76|      13|        12|       11|           14|         6|              8.9|     72|       73|  3000000|\n",
            "|230888|   A. O'Neill| 19|https://cdn.sofif...|  Australia|https://cdn.sofif...|     65|       77|Central Coast Mar...|https://cdn.sofif...|    925K|      6|   1781|         Right|                       1|        2|          3|Medium/ Medium|   Normal|      Yes|      RM|           13|        null|             Burnley|        May 31, 2019|   5.1|   155.448| 154.0| 69.853168|      53|       66|             45|          66|     49|       63|   58|        42|         64|         66|          78|         77|     79|       60|     72|       61|     71|     80|      61|       69|        56|           61|         59|    60|       49|       70|     59|            55|           49|      10|        15|        7|           12|         9|             null|     65|       72|   750000|\n",
            "|228171|C. Ikonomidis| 23|https://cdn.sofif...|  Australia|https://cdn.sofif...|     68|       76|         Perth Glory|https://cdn.sofif...|     1.3|      3|   1756|         Right|                       1|        4|          3|  High/ Medium|     Lean|       No|     CAM|           19|Sep 11, 2018|                null|                2021|  5.11|  155.7528| 161.0| 73.028312|      65|       66|             54|          68|     61|       70|   58|        56|         62|         68|          76|         72|     70|       67|     64|       63|     41|     60|      64|       65|        55|           49|         59|    65|       58|       59|     47|            48|           51|      10|         7|       11|           11|        15|              1.9|     72|       74|  3800000|\n",
            "|202157|    A. Behich| 27|https://cdn.sofif...|  Australia|https://cdn.sofif...|     74|       75|                 PSV|https://cdn.sofif...|       5|     13|   1999|          Left|                       1|        4|          3|  High/ Medium|   Normal|       No|      LB|           16|Aug 31, 2018|                null|                2022|   5.7|   173.736| 139.0| 63.049288|      74|       65|             54|          74|     57|       74|   72|        55|         71|         72|          84|         83|     84|       66|     86|       72|     73|     82|      52|       62|        79|           66|         63|    50|       47|       65|     70|            73|           74|      14|        11|       11|           14|        15|              7.4|     72|       72|  2600000|\n",
            "|165735|     B. Jones| 36|https://cdn.sofif...|  Australia|https://cdn.sofif...|     75|       75|            Al Nassr|https://cdn.sofif...|    900K|     17|   1171|          Left|                       1|        2|          1|Medium/ Medium|   Normal|       No|      GK|            1| Aug 1, 2018|                null|                2020|   6.4|   195.072| 192.0| 87.089664|      19|       17|             11|          28|     11|       18|   13|        12|         18|         22|          52|         55|     25|       75|     30|       24|     70|     40|      72|       11|        32|           23|         17|    30|       35|       56|     17|            13|           13|      75|        69|       69|           80|        75|              1.5|     72|       72|   325000|\n",
            "|195033|    M. Leckie| 27|https://cdn.sofif...|  Australia|https://cdn.sofif...|     75|       75|          Hertha BSC|https://cdn.sofif...|       7|     25|   1967|         Right|                       2|        4|          3|  High/ Medium|   Normal|       No|      RM|            7| Jul 1, 2017|                null|                2021|  5.11|  155.7528| 181.0| 82.100152|      76|       68|             72|          68|     65|       76|   72|        36|         54|         75|          91|         89|     75|       70|     78|       74|     87|     77|      70|       67|        73|           54|         73|    65|       69|       67|     63|            48|           40|       8|        10|        8|            6|        10|             11.9|     72|       72|  3000000|\n",
            "|240649|   J. Roberts| 17|https://cdn.sofif...|  Australia|https://cdn.sofif...|     55|       75|Western Sydney Wa...|https://cdn.sofif...|    180K|      1|   1324|         Right|                       1|        4|          2|  High/ Medium|     Lean|       No|      ST|           32| Jan 4, 2018|                null|                2020|   5.7|   173.736| 150.0|   68.0388|      27|       57|             53|          42|     35|       51|   31|        25|         31|         48|          86|         83|     51|       48|     84|       54|     64|     57|      66|       48|        30|           13|         46|    40|       57|       48|     31|            12|           19|       9|         5|        5|            6|        10|             405K|   null|     null|     null|\n",
            "|240096|     L. Brook| 17|https://cdn.sofif...|  Australia|https://cdn.sofif...|     53|       75|     Adelaide United|https://cdn.sofif...|    130K|      1|   1336|          Left|                       1|        3|          3|Medium/ Medium|     Lean|       No|     CAM|           18| Jun 1, 2017|                null|                2019|   5.1|   155.448| 152.0| 68.945984|      32|       41|             32|          58|     48|       50|   51|        32|         48|         57|          72|         65|     70|       38|     64|       55|     61|     47|      48|       32|        41|           18|         38|    57|       44|       54|     18|            30|           38|      10|         9|       15|           10|         7|             293K|     57|       74|   220000|\n",
            "|211378|    J. Irvine| 25|https://cdn.sofif...|  Australia|https://cdn.sofif...|     71|       75|           Hull City|https://cdn.sofif...|     3.1|     17|   1982|         Right|                       1|        3|          3|    High/ High|   Normal|       No|     CAM|           22|Aug 30, 2017|                null|                2020|   6.2|   188.976| 154.0| 69.853168|      61|       70|             73|          69|     58|       67|   60|        63|         65|         71|          75|         68|     62|       74|     66|       72|     82|     81|      80|       66|        75|           69|         71|    71|       55|       71|     68|            71|           68|       7|        13|       11|            9|        11|                6|     70|       72|        0|\n",
            "|224297|  A. Gersbach| 21|https://cdn.sofif...|  Australia|https://cdn.sofif...|     65|       75|        Rosenborg BK|https://cdn.sofif...|    750K|      1|   1653|          Left|                       1|        3|          2|Medium/ Medium|   Normal|       No|      LB|            3|Jan 31, 2016|                null|                2019|   6.0|    182.88| 161.0| 73.028312|      61|       34|             53|          60|     33|       59|   54|        44|         50|         60|          82|         80|     79|       60|     69|       36|     62|     73|      71|       34|        61|           61|         59|    54|       33|       60|     63|            63|           61|      10|         7|        9|            7|        11|              1.1|     64|       72|   600000|\n",
            "+------+-------------+---+--------------------+-----------+--------------------+-------+---------+--------------------+--------------------+--------+-------+-------+--------------+------------------------+---------+-----------+--------------+---------+---------+--------+-------------+------------+--------------------+--------------------+------+----------+------+----------+--------+---------+---------------+------------+-------+---------+-----+----------+-----------+-----------+------------+-----------+-------+---------+-------+---------+-------+-------+--------+---------+----------+-------------+-----------+------+---------+---------+-------+--------------+-------------+--------+----------+---------+-------------+----------+-----------------+-------+---------+---------+\n",
            "only showing top 20 rows\n",
            "\n"
          ],
          "name": "stdout"
        }
      ]
    },
    {
      "cell_type": "code",
      "metadata": {
        "colab": {
          "base_uri": "https://localhost:8080/"
        },
        "id": "JJ8O54qdSYum",
        "outputId": "3d00e5af-1963-4612-fe40-f3e6615bfe5b"
      },
      "source": [
        "# finding the Australian player with highest potential\n",
        "df.filter(df.Nationality.isin('Australia')).sort('Potential', ascending=False).show()"
      ],
      "execution_count": 30,
      "outputs": [
        {
          "output_type": "stream",
          "text": [
            "+------+-------------+---+--------------------+-----------+--------------------+-------+---------+--------------------+--------------------+--------+-------+-------+--------------+------------------------+---------+-----------+--------------+---------+---------+--------+-------------+------------+--------------------+--------------------+------+----------+------+----------+--------+---------+---------------+------------+-------+---------+-----+----------+-----------+-----------+------------+-----------+-------+---------+-------+---------+-------+-------+--------+---------+----------+-------------+-----------+------+---------+---------+-------+--------------+-------------+--------+----------+---------+-------------+----------+-----------------+-------+---------+---------+\n",
            "|    ID|         Name|Age|               Photo|Nationality|                Flag|Overall|Potential|                Club|           Club Logo|value(M)|wage(K)|Special|Preferred Foot|International Reputation|Weak Foot|Skill Moves|     Work Rate|Body Type|Real Face|Position|Jersey Number|      Joined|         Loaned From|Contract Valid Until|Height|Height(CM)|Weight|Weight(KG)|Crossing|Finishing|HeadingAccuracy|ShortPassing|Volleys|Dribbling|Curve|FKAccuracy|LongPassing|BallControl|Acceleration|SprintSpeed|Agility|Reactions|Balance|ShotPower|Jumping|Stamina|Strength|LongShots|Aggression|Interceptions|Positioning|Vision|Penalties|Composure|Marking|StandingTackle|SlidingTackle|GKDiving|GKHandling|GKKicking|GKPositioning|GKReflexes|Release Clause(M)|overall|potential|value_eur|\n",
            "+------+-------------+---+--------------------+-----------+--------------------+-------+---------+--------------------+--------------------+--------+-------+-------+--------------+------------------------+---------+-----------+--------------+---------+---------+--------+-------------+------------+--------------------+--------------------+------+----------+------+----------+--------+---------+---------------+------------+-------+---------+-----+----------+-----------+-----------+------------+-----------+-------+---------+-------+---------+-------+-------+--------+---------+----------+-------------+-----------+------+---------+---------+-------+--------------+-------------+--------+----------+---------+-------------+----------+-----------------+-------+---------+---------+\n",
            "|234867|    D. Arzani| 19|https://cdn.sofif...|  Australia|https://cdn.sofif...|     69|       83|              Celtic|https://cdn.sofif...|     2.3|     20|   1575|         Right|                       1|        3|          4|     High/ Low|     Lean|      Yes|      RM|           14|        null|     Manchester City|        Jun 30, 2020|   5.7|   173.736| 161.0| 73.028312|      65|       63|             23|          64|     51|       76|   66|        40|         58|         69|          79|         80|     80|       58|     62|       53|     33|     61|      32|       57|        35|           23|         62|    65|       64|       65|     34|            33|           35|       8|         8|       14|           10|        14|             null|     68|       82|  2000000|\n",
            "|199005|      M. Ryan| 26|https://cdn.sofif...|  Australia|https://cdn.sofif...|     79|       81|Brighton & Hove A...|https://cdn.sofif...|    10.5|     41|   1341|         Right|                       1|        4|          1|Medium/ Medium|   Normal|      Yes|      GK|            1| Jul 1, 2017|                null|                2022|   6.0|    182.88| 181.0| 82.100152|      23|       11|             14|          40|     15|       13|   23|        12|         45|         24|          53|         52|     53|       73|     50|       35|     78|     34|      68|       18|        36|           23|         10|    68|       25|       64|     10|            20|           17|      81|        74|       82|           78|        83|             20.7|     80|       82| 13000000|\n",
            "|229585|   M. Degenek| 24|https://cdn.sofif...|  Australia|https://cdn.sofif...|     73|       80|                null|https://cdn.sofif...|    null|   null|   1995|         Right|                       1|        4|          2|    High/ High|     Lean|       No|      CB|            2|        null|                null|                null|   6.2|   188.976| 181.0| 82.100152|      70|       59|             70|          74|     62|       58|   69|        44|         72|         64|          79|         79|     78|       72|     70|       70|     81|     86|      84|       61|        81|           70|         55|    67|       58|       80|     65|            71|           71|      14|        12|        7|           10|        12|             null|     73|       78|        0|\n",
            "|241861|  N. Atkinson| 19|https://cdn.sofif...|  Australia|https://cdn.sofif...|     64|       79|   Melbourne City FC|https://cdn.sofif...|    875K|      1|   1778|         Right|                       1|        4|          3|  High/ Medium|   Normal|       No|      RW|           13|Dec 10, 2017|                null|                2020|  5.11|  155.7528| 159.0| 72.121128|      59|       46|             38|          61|     31|       65|   65|        38|         55|         64|          84|         80|     86|       62|     89|       44|     88|     75|      74|       43|        55|           54|         66|    60|       51|       66|     64|            65|           60|      15|        11|       12|           12|         6|              1.6|     65|       74|   750000|\n",
            "|207928|     T. Rogi?| 25|https://cdn.sofif...|  Australia|https://cdn.sofif...|     76|       79|              Celtic|https://cdn.sofif...|     9.5|     46|   1885|          Left|                       1|        4|          4|Medium/ Medium|   Normal|       No|     CAM|           23| Jan 9, 2013|                null|                2023|   6.2|   188.976| 194.0| 87.996848|      61|       70|             60|          76|     68|       82|   76|        57|         70|         82|          74|         66|     74|       64|     75|       82|     52|     55|      77|       80|        48|           38|         75|    73|       56|       83|     46|            48|           41|      12|        11|       13|           12|        11|             17.8|     73|       74|  4600000|\n",
            "|241552|  J. Italiano| 16|https://cdn.sofif...|  Australia|https://cdn.sofif...|     58|       79|         Perth Glory|https://cdn.sofif...|    280K|      1|   1434|         Right|                       1|        2|          3|  High/ Medium|     Lean|       No|      LM|           26|Oct 15, 2017|                null|                2019|   5.7|   173.736| 143.0| 64.863656|      43|       50|             36|          61|     35|       59|   41|        36|         57|         56|          80|         72|     72|       53|     79|       54|     58|     57|      42|       33|        38|           22|         53|    52|       40|       57|     36|            38|           43|       7|         7|        9|           10|         5|             630K|     61|       82|   575000|\n",
            "|212830|     A. Mabil| 22|https://cdn.sofif...|  Australia|https://cdn.sofif...|     70|       78|      FC Midtjylland|https://cdn.sofif...|     2.6|     12|   1651|         Right|                       1|        2|          4|   Medium/ Low|     Lean|       No|      RW|           21|Jul 28, 2015|                null|                2022|   5.1|   155.448| 161.0| 73.028312|      68|       59|             33|          62|     48|       75|   62|        60|         47|         73|          93|         92|     85|       65|     72|       60|     56|     68|      43|       44|        35|           25|         65|    57|       53|       60|     37|            23|           20|      16|        12|       18|           13|        12|              3.9|     72|       75|  3900000|\n",
            "|213488|  D. De Silva| 21|https://cdn.sofif...|  Australia|https://cdn.sofif...|     67|       78|           Sydney FC|https://cdn.sofif...|     1.3|      1|   1679|         Right|                       1|        4|          3|    High/ High|     Lean|       No|     CAM|           11|        null|Central Coast Mar...|        May 31, 2019|   5.7|   173.736| 132.0| 59.874144|      47|       59|             27|          65|     59|       70|   62|        45|         63|         72|          77|         74|     81|       56|     88|       59|     77|     89|      67|       65|        36|           30|         60|    64|       50|       67|     32|            36|           20|       7|         9|        8|           15|        10|             null|     65|       72|   750000|\n",
            "|233487|    R. McGree| 19|https://cdn.sofif...|  Australia|https://cdn.sofif...|     66|       77|   Melbourne City FC|https://cdn.sofif...|     1.1|      3|   1790|          Left|                       1|        3|          3|Medium/ Medium|   Normal|       No|     RCM|            8|        null|      Club Brugge KV|        May 31, 2019|   5.1|   155.448| 159.0| 72.121128|      53|       63|             48|          66|     40|       70|   65|        55|         64|         69|          76|         76|     76|       62|     75|       64|     58|     74|      63|       58|        68|           60|         66|    64|       44|       68|     57|            57|           52|      12|         9|        5|            8|        13|             null|     71|       78|  3300000|\n",
            "|205347|    M. Luongo| 25|https://cdn.sofif...|  Australia|https://cdn.sofif...|     74|       77| Queens Park Rangers|https://cdn.sofif...|       6|      9|   1960|         Right|                       1|        3|          3|  Medium/ High|   Normal|       No|     RDM|            8|May 28, 2015|                null|                2020|   5.9|   179.832| 168.0| 76.203456|      51|       63|             59|          71|     46|       74|   49|        46|         68|         72|          73|         74|     79|       72|     76|       69|     84|     92|      72|       63|        76|           72|         65|    70|       52|       63|     64|            77|           74|      15|        13|        9|           14|         6|             11.9|     71|       73|  2500000|\n",
            "|199000| T. Sainsbury| 26|https://cdn.sofif...|  Australia|https://cdn.sofif...|     74|       77|                 PSV|https://cdn.sofif...|       6|     13|   1836|         Right|                       1|        3|          2|Medium/ Medium|     Lean|       No|     RCB|           20| Aug 7, 2018|                null|                2021|   6.0|    182.88| 172.0| 78.017824|      58|       45|             74|          67|     33|       55|   62|        25|         68|         55|          74|         74|     67|       74|     73|       61|     77|     75|      76|       43|        62|           77|         52|    62|       63|       70|     82|            70|           76|      13|        12|       11|           14|         6|              8.9|     72|       73|  3000000|\n",
            "|230888|   A. O'Neill| 19|https://cdn.sofif...|  Australia|https://cdn.sofif...|     65|       77|Central Coast Mar...|https://cdn.sofif...|    925K|      6|   1781|         Right|                       1|        2|          3|Medium/ Medium|   Normal|      Yes|      RM|           13|        null|             Burnley|        May 31, 2019|   5.1|   155.448| 154.0| 69.853168|      53|       66|             45|          66|     49|       63|   58|        42|         64|         66|          78|         77|     79|       60|     72|       61|     71|     80|      61|       69|        56|           61|         59|    60|       49|       70|     59|            55|           49|      10|        15|        7|           12|         9|             null|     65|       72|   750000|\n",
            "|228171|C. Ikonomidis| 23|https://cdn.sofif...|  Australia|https://cdn.sofif...|     68|       76|         Perth Glory|https://cdn.sofif...|     1.3|      3|   1756|         Right|                       1|        4|          3|  High/ Medium|     Lean|       No|     CAM|           19|Sep 11, 2018|                null|                2021|  5.11|  155.7528| 161.0| 73.028312|      65|       66|             54|          68|     61|       70|   58|        56|         62|         68|          76|         72|     70|       67|     64|       63|     41|     60|      64|       65|        55|           49|         59|    65|       58|       59|     47|            48|           51|      10|         7|       11|           11|        15|              1.9|     72|       74|  3800000|\n",
            "|202157|    A. Behich| 27|https://cdn.sofif...|  Australia|https://cdn.sofif...|     74|       75|                 PSV|https://cdn.sofif...|       5|     13|   1999|          Left|                       1|        4|          3|  High/ Medium|   Normal|       No|      LB|           16|Aug 31, 2018|                null|                2022|   5.7|   173.736| 139.0| 63.049288|      74|       65|             54|          74|     57|       74|   72|        55|         71|         72|          84|         83|     84|       66|     86|       72|     73|     82|      52|       62|        79|           66|         63|    50|       47|       65|     70|            73|           74|      14|        11|       11|           14|        15|              7.4|     72|       72|  2600000|\n",
            "|165735|     B. Jones| 36|https://cdn.sofif...|  Australia|https://cdn.sofif...|     75|       75|            Al Nassr|https://cdn.sofif...|    900K|     17|   1171|          Left|                       1|        2|          1|Medium/ Medium|   Normal|       No|      GK|            1| Aug 1, 2018|                null|                2020|   6.4|   195.072| 192.0| 87.089664|      19|       17|             11|          28|     11|       18|   13|        12|         18|         22|          52|         55|     25|       75|     30|       24|     70|     40|      72|       11|        32|           23|         17|    30|       35|       56|     17|            13|           13|      75|        69|       69|           80|        75|              1.5|     72|       72|   325000|\n",
            "|195033|    M. Leckie| 27|https://cdn.sofif...|  Australia|https://cdn.sofif...|     75|       75|          Hertha BSC|https://cdn.sofif...|       7|     25|   1967|         Right|                       2|        4|          3|  High/ Medium|   Normal|       No|      RM|            7| Jul 1, 2017|                null|                2021|  5.11|  155.7528| 181.0| 82.100152|      76|       68|             72|          68|     65|       76|   72|        36|         54|         75|          91|         89|     75|       70|     78|       74|     87|     77|      70|       67|        73|           54|         73|    65|       69|       67|     63|            48|           40|       8|        10|        8|            6|        10|             11.9|     72|       72|  3000000|\n",
            "|240649|   J. Roberts| 17|https://cdn.sofif...|  Australia|https://cdn.sofif...|     55|       75|Western Sydney Wa...|https://cdn.sofif...|    180K|      1|   1324|         Right|                       1|        4|          2|  High/ Medium|     Lean|       No|      ST|           32| Jan 4, 2018|                null|                2020|   5.7|   173.736| 150.0|   68.0388|      27|       57|             53|          42|     35|       51|   31|        25|         31|         48|          86|         83|     51|       48|     84|       54|     64|     57|      66|       48|        30|           13|         46|    40|       57|       48|     31|            12|           19|       9|         5|        5|            6|        10|             405K|   null|     null|     null|\n",
            "|240096|     L. Brook| 17|https://cdn.sofif...|  Australia|https://cdn.sofif...|     53|       75|     Adelaide United|https://cdn.sofif...|    130K|      1|   1336|          Left|                       1|        3|          3|Medium/ Medium|     Lean|       No|     CAM|           18| Jun 1, 2017|                null|                2019|   5.1|   155.448| 152.0| 68.945984|      32|       41|             32|          58|     48|       50|   51|        32|         48|         57|          72|         65|     70|       38|     64|       55|     61|     47|      48|       32|        41|           18|         38|    57|       44|       54|     18|            30|           38|      10|         9|       15|           10|         7|             293K|     57|       74|   220000|\n",
            "|211378|    J. Irvine| 25|https://cdn.sofif...|  Australia|https://cdn.sofif...|     71|       75|           Hull City|https://cdn.sofif...|     3.1|     17|   1982|         Right|                       1|        3|          3|    High/ High|   Normal|       No|     CAM|           22|Aug 30, 2017|                null|                2020|   6.2|   188.976| 154.0| 69.853168|      61|       70|             73|          69|     58|       67|   60|        63|         65|         71|          75|         68|     62|       74|     66|       72|     82|     81|      80|       66|        75|           69|         71|    71|       55|       71|     68|            71|           68|       7|        13|       11|            9|        11|                6|     70|       72|        0|\n",
            "|224297|  A. Gersbach| 21|https://cdn.sofif...|  Australia|https://cdn.sofif...|     65|       75|        Rosenborg BK|https://cdn.sofif...|    750K|      1|   1653|          Left|                       1|        3|          2|Medium/ Medium|   Normal|       No|      LB|            3|Jan 31, 2016|                null|                2019|   6.0|    182.88| 161.0| 73.028312|      61|       34|             53|          60|     33|       59|   54|        44|         50|         60|          82|         80|     79|       60|     69|       36|     62|     73|      71|       34|        61|           61|         59|    54|       33|       60|     63|            63|           61|      10|         7|        9|            7|        11|              1.1|     64|       72|   600000|\n",
            "+------+-------------+---+--------------------+-----------+--------------------+-------+---------+--------------------+--------------------+--------+-------+-------+--------------+------------------------+---------+-----------+--------------+---------+---------+--------+-------------+------------+--------------------+--------------------+------+----------+------+----------+--------+---------+---------------+------------+-------+---------+-----+----------+-----------+-----------+------------+-----------+-------+---------+-------+---------+-------+-------+--------+---------+----------+-------------+-----------+------+---------+---------+-------+--------------+-------------+--------+----------+---------+-------------+----------+-----------------+-------+---------+---------+\n",
            "only showing top 20 rows\n",
            "\n"
          ],
          "name": "stdout"
        }
      ]
    },
    {
      "cell_type": "code",
      "metadata": {
        "colab": {
          "base_uri": "https://localhost:8080/"
        },
        "id": "kHlFkOmqsR0I",
        "outputId": "a529be8b-4e1d-4bf8-c2b6-b4fd1d1d08f6"
      },
      "source": [
        "# finding the Australian player with lowest potential\n",
        "spark.sql(\"\"\"\n",
        "          Select * from soccer_analysis Where Nationality = 'Australia' Order By Potential Asc\n",
        "          \"\"\").show()"
      ],
      "execution_count": 31,
      "outputs": [
        {
          "output_type": "stream",
          "text": [
            "+------+--------------+---+--------------------+-----------+--------------------+-------+---------+--------------------+--------------------+--------+-------+-------+--------------+------------------------+---------+-----------+--------------+---------+---------+--------+-------------+------------+-----------+--------------------+------+----------+------+----------+--------+---------+---------------+------------+-------+---------+-----+----------+-----------+-----------+------------+-----------+-------+---------+-------+---------+-------+-------+--------+---------+----------+-------------+-----------+------+---------+---------+-------+--------------+-------------+--------+----------+---------+-------------+----------+-----------------+-------+---------+---------+\n",
            "|    ID|          Name|Age|               Photo|Nationality|                Flag|Overall|Potential|                Club|           Club Logo|value(M)|wage(K)|Special|Preferred Foot|International Reputation|Weak Foot|Skill Moves|     Work Rate|Body Type|Real Face|Position|Jersey Number|      Joined|Loaned From|Contract Valid Until|Height|Height(CM)|Weight|Weight(KG)|Crossing|Finishing|HeadingAccuracy|ShortPassing|Volleys|Dribbling|Curve|FKAccuracy|LongPassing|BallControl|Acceleration|SprintSpeed|Agility|Reactions|Balance|ShotPower|Jumping|Stamina|Strength|LongShots|Aggression|Interceptions|Positioning|Vision|Penalties|Composure|Marking|StandingTackle|SlidingTackle|GKDiving|GKHandling|GKKicking|GKPositioning|GKReflexes|Release Clause(M)|overall|potential|value_eur|\n",
            "+------+--------------+---+--------------------+-----------+--------------------+-------+---------+--------------------+--------------------+--------+-------+-------+--------------+------------------------+---------+-----------+--------------+---------+---------+--------+-------------+------------+-----------+--------------------+------+----------+------+----------+--------+---------+---------------+------------+-------+---------+-----+----------+-----------+-----------+------------+-----------+-------+---------+-------+---------+-------+-------+--------+---------+----------+-------------+-----------+------+---------+---------+-------+--------------+-------------+--------+----------+---------+-------------+----------+-----------------+-------+---------+---------+\n",
            "|181015|    B. Kennedy| 31|https://cdn.sofif...|  Australia|https://cdn.sofif...|     56|       56|Central Coast Mar...|https://cdn.sofif...|     50K|      1|    983|         Right|                       1|        2|          1|Medium/ Medium|   Normal|       No|      GK|            1|Jun 22, 2017|       null|                2021|   6.2|   188.976| 183.0| 83.007336|      15|       13|             12|          24|     12|       14|   20|        15|         30|         18|          41|         44|     32|       49|     41|       16|     61|     24|      59|       13|        31|           19|          7|    30|       21|       39|     12|            13|           18|      59|        49|       58|           59|        54|              63K|   null|     null|     null|\n",
            "|246196|        R. Way| 28|https://cdn.sofif...|  Australia|https://cdn.sofif...|     58|       58|  Wellington Phoenix|https://cdn.sofif...|    100K|      1|   1603|         Right|                       1|        2|          2|Medium/ Medium|   Stocky|       No|      LB|            3|Oct 17, 2018|       null|                2019|   6.0|    182.88| 194.0| 87.996848|      57|       57|             56|          51|     50|       54|   39|        36|         46|         56|          57|         60|     52|       53|     55|       56|     67|     62|      81|       59|        80|           56|         53|    47|       55|       52|     53|            56|           60|       6|         5|        8|            8|        12|             125K|   null|     null|     null|\n",
            "|198761|    B. McGrath| 27|https://cdn.sofif...|  Australia|https://cdn.sofif...|     59|       59|          Esbjerg fB|https://cdn.sofif...|    170K|      2|   1528|         Right|                       1|        3|          2|     High/ Low|   Normal|       No|      ST|           22| Jul 1, 2016|       null|                2019|   6.0|    182.88| 176.0| 79.832192|      50|       57|             49|          44|     63|       54|   55|        42|         35|         59|          68|         66|     68|       69|     55|       55|     61|     73|      67|       45|        68|           20|         62|    54|       62|       41|     30|            18|           16|      16|        13|       14|            9|        11|             213K|   null|     null|     null|\n",
            "|241597|      B. White| 26|https://cdn.sofif...|  Australia|https://cdn.sofif...|     56|       59|       Brisbane Roar|https://cdn.sofif...|     80K|      1|    909|         Right|                       1|        1|          1|Medium/ Medium|   Normal|       No|      GK|           30| Nov 4, 2017|       null|                2019|   6.0|    182.88| 165.0|  74.84268|      11|       10|             13|          28|      7|       12|   11|        14|         20|         15|          32|         26|     28|       51|     49|       19|     64|     20|      62|        9|        25|           14|          8|    38|       11|       39|     11|            13|           11|      54|        58|       54|           54|        57|             106K|   null|     null|     null|\n",
            "|180755|    T. Velaphi| 31|https://cdn.sofif...|  Australia|https://cdn.sofif...|     60|       60|         Perth Glory|https://cdn.sofif...|    130K|      1|   1006|         Right|                       1|        2|          1|Medium/ Medium|     Lean|       No|      GK|            1| Jul 2, 2018|       null|                2019|   6.1|   185.928| 165.0|  74.84268|      15|       12|             13|          33|     13|       11|   17|        12|         22|         15|          53|         53|     56|       67|     28|       17|     31|     34|      65|       12|        19|           19|          9|    30|       23|       44|      9|            14|           15|      60|        55|       55|           59|        60|             163K|   null|     null|     null|\n",
            "|209887|      J. Oates| 27|https://cdn.sofif...|  Australia|https://cdn.sofif...|     60|       60|         Exeter City|https://cdn.sofif...|    170K|      2|   1543|         Right|                       1|        3|          2|  Medium/ High|   Normal|       No|      RB|           18|Jul 24, 2018|       null|                2020|  5.11|  155.7528| 176.0| 79.832192|      59|       48|             36|          48|     40|       57|   49|        35|         37|         58|          76|         74|     71|       51|     65|       36|     70|     79|      63|       28|        48|           55|         47|    35|       37|       41|     57|            60|           55|      15|        13|       10|           15|        16|             298K|   null|     null|     null|\n",
            "|211768|   L. Italiano| 27|https://cdn.sofif...|  Australia|https://cdn.sofif...|     58|       60|      Newcastle Jets|https://cdn.sofif...|    100K|      1|    946|          Left|                       1|        2|          1|Medium/ Medium|   Normal|       No|      GK|           21|Sep 26, 2018|       null|                2019|   6.2|   188.976| 183.0| 83.007336|      20|       12|             14|          21|     16|       17|   15|        13|         25|         16|          44|         42|     39|       54|     37|        9|     46|     22|      53|       11|        30|           15|          6|    20|       22|       28|     12|            14|           16|      61|        53|       58|           54|        59|             133K|     59|       59|   110000|\n",
            "|236525|      R. Lowry| 24|https://cdn.sofif...|  Australia|https://cdn.sofif...|     58|       60|  Wellington Phoenix|https://cdn.sofif...|    130K|      1|   1345|          Left|                       1|        3|          2|Medium/ Medium|   Stocky|       No|      CB|            5|Sep 30, 2016|       null|                2019|  5.11|  155.7528| 154.0| 69.853168|      48|       25|             57|          40|     26|       41|   35|        24|         34|         47|          54|         55|     52|       48|     55|       37|     68|     62|      69|       21|        62|           52|         41|    32|       35|       52|     59|            57|           59|      13|        14|        9|            8|         6|             172K|   null|     null|     null|\n",
            "|180753|     M. Bridge| 32|https://cdn.sofif...|  Australia|https://cdn.sofif...|     61|       61|Western Sydney Wa...|https://cdn.sofif...|    200K|      2|   1648|         Right|                       1|        3|          2|Medium/ Medium|   Normal|       No|      LW|           19|Jul 18, 2017|       null|                2019|  5.11|  155.7528| 176.0| 79.832192|      64|       67|             61|          59|     60|       62|   69|        49|         35|         60|          61|         64|     70|       59|     64|       62|     64|     63|      65|       59|        46|           25|         57|    53|       67|       53|     54|            46|           27|      12|         7|       16|            6|        15|             250K|   null|     null|     null|\n",
            "|203569|   J. Chianese| 28|https://cdn.sofif...|  Australia|https://cdn.sofif...|     61|       61|         Perth Glory|https://cdn.sofif...|    250K|      1|   1593|         Right|                       1|        2|          2|  Medium/ High|   Normal|       No|      RM|            7|Aug 30, 2016|       null|                2019|   5.9|   179.832| 165.0|  74.84268|      51|       59|             42|          61|     65|       58|   61|        52|         50|         64|          59|         69|     70|       61|     63|       60|     48|     66|      63|       54|        35|           38|         64|    59|       55|       59|     30|            34|           45|      15|        16|        7|           10|         9|             313K|   null|     null|     null|\n",
            "|191006|      A. Golec| 28|https://cdn.sofif...|  Australia|https://cdn.sofif...|     62|       62|Central Coast Mar...|https://cdn.sofif...|    250K|      1|   1392|          Left|                       1|        4|          2|Medium/ Medium|   Normal|       No|     LCB|            5| Jun 1, 2017|       null|                2019|   6.3|   192.024| 187.0| 84.821704|      55|       32|             51|          48|     24|       43|   48|        24|         51|         47|          45|         53|     56|       50|     36|       43|     76|     65|      77|       12|        59|           64|         37|    24|       32|       53|     59|            65|           62|       7|         6|       14|           15|        12|             313K|   null|     null|     null|\n",
            "|183025|      M. Simon| 32|https://cdn.sofif...|  Australia|https://cdn.sofif...|     62|       62|Central Coast Mar...|https://cdn.sofif...|    240K|      1|   1651|         Right|                       1|        3|          2|    High/ High|   Normal|       No|      ST|           19| Jun 1, 2018|       null|                2020|   6.2|   188.976| 172.0| 78.017824|      48|       58|             61|          48|     36|       52|   38|        29|         37|         61|          71|         73|     64|       60|     32|       66|     84|     85|      85|       58|        90|           48|         63|    49|       64|       56|     29|            49|           39|      16|        15|       11|           16|        16|             300K|     61|       61|   130000|\n",
            "|209834|K. Appiah-Kubi| 26|https://cdn.sofif...|  Australia|https://cdn.sofif...|     61|       62|   Incheon United FC|https://cdn.sofif...|    300K|      1|   1628|         Right|                       1|        1|          3|Medium/ Medium|     Lean|       No|      RW|           19|Feb 17, 2018|       null|                2022|  5.11|  155.7528| 154.0| 69.853168|      57|       42|             63|          56|     44|       68|   45|        44|         54|         58|          92|         92|     90|       55|     91|       41|     72|     78|      58|       40|        51|           42|         53|    53|       39|       55|     41|            28|           38|       6|         7|        8|           13|         9|             398K|   null|     null|     null|\n",
            "|223083|     M. Austin| 27|https://cdn.sofif...|  Australia|https://cdn.sofif...|     62|       62|      Newcastle Jets|https://cdn.sofif...|    325K|      1|   1724|          Left|                       1|        3|          3|  High/ Medium|   Normal|       No|      LW|           27|Sep 14, 2018|       null|                2019|   6.1|   185.928| 172.0| 78.017824|      64|       61|             51|          55|     36|       62|   57|        55|         48|         58|          90|         90|     81|       48|     79|       58|     76|     82|      79|       42|        40|           48|         61|    54|       63|       59|     44|            44|           46|      11|        16|        8|           10|         7|             406K|   null|     null|     null|\n",
            "|180717|      L. Reddy| 36|https://cdn.sofif...|  Australia|https://cdn.sofif...|     62|       62|         Perth Glory|https://cdn.sofif...|     40K|      1|   1028|         Right|                       1|        2|          1|Medium/ Medium|   Normal|       No|      GK|           33|Jun 24, 2016|       null|                2019|   6.2|   188.976| 198.0| 89.811216|      10|       10|             10|          17|     10|       10|   13|        12|         18|         19|          48|         48|     45|       62|     47|       24|     45|     39|      69|       10|        44|           18|          8|    35|       21|       62|     13|            11|           10|      61|        58|       58|           63|        62|              50K|     63|       63|    35000|\n",
            "|226094|      S. Brady| 22|https://cdn.sofif...|  Australia|https://cdn.sofif...|     54|       63|       Brisbane Roar|https://cdn.sofif...|    100K|      1|   1429|         Right|                       1|        2|          2|Medium/ Medium|     Lean|       No|      RW|           20|Nov 14, 2014|       null|                2019|   5.9|   179.832| 141.0| 63.956472|      51|       47|             44|          55|     39|       56|   42|        41|         52|         47|          74|         58|     83|       43|     77|       45|     51|     40|      28|       31|        47|           31|         58|    56|       53|       52|     34|            47|           44|      14|         7|       12|           14|         8|             145K|   null|     null|     null|\n",
            "|185256|    J. Hoffman| 29|https://cdn.sofif...|  Australia|https://cdn.sofif...|     63|       63|      Newcastle Jets|https://cdn.sofif...|    350K|      1|   1683|         Right|                       1|        2|          2|  High/ Medium|     Lean|       No|      ST|            3|Jul 16, 2015|       null|                2020|   6.2|   188.976| 174.0| 78.925008|      60|       58|             54|          60|     43|       59|   55|        32|         38|         61|          75|         77|     52|       61|     51|       53|     56|     75|      78|       48|        65|           60|         63|    58|       60|       56|     56|            60|           52|      11|         9|       14|           13|        16|             438K|     63|       63|   325000|\n",
            "|203310|     C. Harold| 25|https://cdn.sofif...|  Australia|https://cdn.sofif...|     62|       63|         Perth Glory|https://cdn.sofif...|    350K|      1|   1671|         Right|                       1|        3|          2|  High/ Medium|   Normal|       No|      RM|           14| May 1, 2012|       null|                2020|   5.9|   179.832| 172.0| 78.017824|      51|       63|             56|          52|     66|       61|   49|        34|         50|         60|          89|         87|     87|       45|     73|       63|     68|     64|      61|       52|        59|           35|         66|    61|       59|       55|     30|            36|           28|      13|        13|       14|           14|        12|             464K|   null|     null|     null|\n",
            "|192651|      O. Malik| 27|https://cdn.sofif...|  Australia|https://cdn.sofif...|     63|       63|   Melbourne City FC|https://cdn.sofif...|    300K|      2|   1617|         Right|                       1|        3|          2|   Low/ Medium|   Normal|       No|     CDM|            6|Jan 23, 2016|       null|                2019|   6.1|   185.928| 165.0|  74.84268|      50|       33|             60|          61|     44|       55|   36|        32|         62|         57|          65|         66|     67|       60|     59|       39|     73|     72|      75|       38|        73|           62|         45|    57|       46|       59|     58|            60|           60|       8|        13|       15|            7|         9|             375K|     60|       60|   170000|\n",
            "|181021|    D. Djulbic| 35|https://cdn.sofif...|  Australia|https://cdn.sofif...|     63|       63|         Perth Glory|https://cdn.sofif...|     90K|      1|   1306|         Right|                       1|        3|          2|  Medium/ High|   Normal|       No|      CB|           66|Jan 22, 2018|       null|                2019|   6.4|   195.072| 198.0| 89.811216|      21|       39|             66|          41|     28|       25|   21|        42|         44|         40|          30|         35|     33|       52|     31|       59|     59|     56|      90|       29|        84|           56|         26|    35|       39|       58|     57|            64|           61|       6|        12|       12|            6|         7|             113K|   null|     null|     null|\n",
            "+------+--------------+---+--------------------+-----------+--------------------+-------+---------+--------------------+--------------------+--------+-------+-------+--------------+------------------------+---------+-----------+--------------+---------+---------+--------+-------------+------------+-----------+--------------------+------+----------+------+----------+--------+---------+---------------+------------+-------+---------+-----+----------+-----------+-----------+------------+-----------+-------+---------+-------+---------+-------+-------+--------+---------+----------+-------------+-----------+------+---------+---------+-------+--------------+-------------+--------+----------+---------+-------------+----------+-----------------+-------+---------+---------+\n",
            "only showing top 20 rows\n",
            "\n"
          ],
          "name": "stdout"
        }
      ]
    },
    {
      "cell_type": "code",
      "metadata": {
        "colab": {
          "base_uri": "https://localhost:8080/"
        },
        "id": "8lvlPn-tTg_5",
        "outputId": "0b5b0ca4-abd0-40c8-9f60-d0def46c4cc3"
      },
      "source": [
        "# finding the Australian player with lowest potential\n",
        "df.filter(df.Nationality.isin('Australia')).sort('Potential', ascending=True).show()"
      ],
      "execution_count": 32,
      "outputs": [
        {
          "output_type": "stream",
          "text": [
            "+------+--------------+---+--------------------+-----------+--------------------+-------+---------+--------------------+--------------------+--------+-------+-------+--------------+------------------------+---------+-----------+--------------+---------+---------+--------+-------------+------------+-----------+--------------------+------+----------+------+----------+--------+---------+---------------+------------+-------+---------+-----+----------+-----------+-----------+------------+-----------+-------+---------+-------+---------+-------+-------+--------+---------+----------+-------------+-----------+------+---------+---------+-------+--------------+-------------+--------+----------+---------+-------------+----------+-----------------+-------+---------+---------+\n",
            "|    ID|          Name|Age|               Photo|Nationality|                Flag|Overall|Potential|                Club|           Club Logo|value(M)|wage(K)|Special|Preferred Foot|International Reputation|Weak Foot|Skill Moves|     Work Rate|Body Type|Real Face|Position|Jersey Number|      Joined|Loaned From|Contract Valid Until|Height|Height(CM)|Weight|Weight(KG)|Crossing|Finishing|HeadingAccuracy|ShortPassing|Volleys|Dribbling|Curve|FKAccuracy|LongPassing|BallControl|Acceleration|SprintSpeed|Agility|Reactions|Balance|ShotPower|Jumping|Stamina|Strength|LongShots|Aggression|Interceptions|Positioning|Vision|Penalties|Composure|Marking|StandingTackle|SlidingTackle|GKDiving|GKHandling|GKKicking|GKPositioning|GKReflexes|Release Clause(M)|overall|potential|value_eur|\n",
            "+------+--------------+---+--------------------+-----------+--------------------+-------+---------+--------------------+--------------------+--------+-------+-------+--------------+------------------------+---------+-----------+--------------+---------+---------+--------+-------------+------------+-----------+--------------------+------+----------+------+----------+--------+---------+---------------+------------+-------+---------+-----+----------+-----------+-----------+------------+-----------+-------+---------+-------+---------+-------+-------+--------+---------+----------+-------------+-----------+------+---------+---------+-------+--------------+-------------+--------+----------+---------+-------------+----------+-----------------+-------+---------+---------+\n",
            "|181015|    B. Kennedy| 31|https://cdn.sofif...|  Australia|https://cdn.sofif...|     56|       56|Central Coast Mar...|https://cdn.sofif...|     50K|      1|    983|         Right|                       1|        2|          1|Medium/ Medium|   Normal|       No|      GK|            1|Jun 22, 2017|       null|                2021|   6.2|   188.976| 183.0| 83.007336|      15|       13|             12|          24|     12|       14|   20|        15|         30|         18|          41|         44|     32|       49|     41|       16|     61|     24|      59|       13|        31|           19|          7|    30|       21|       39|     12|            13|           18|      59|        49|       58|           59|        54|              63K|   null|     null|     null|\n",
            "|246196|        R. Way| 28|https://cdn.sofif...|  Australia|https://cdn.sofif...|     58|       58|  Wellington Phoenix|https://cdn.sofif...|    100K|      1|   1603|         Right|                       1|        2|          2|Medium/ Medium|   Stocky|       No|      LB|            3|Oct 17, 2018|       null|                2019|   6.0|    182.88| 194.0| 87.996848|      57|       57|             56|          51|     50|       54|   39|        36|         46|         56|          57|         60|     52|       53|     55|       56|     67|     62|      81|       59|        80|           56|         53|    47|       55|       52|     53|            56|           60|       6|         5|        8|            8|        12|             125K|   null|     null|     null|\n",
            "|198761|    B. McGrath| 27|https://cdn.sofif...|  Australia|https://cdn.sofif...|     59|       59|          Esbjerg fB|https://cdn.sofif...|    170K|      2|   1528|         Right|                       1|        3|          2|     High/ Low|   Normal|       No|      ST|           22| Jul 1, 2016|       null|                2019|   6.0|    182.88| 176.0| 79.832192|      50|       57|             49|          44|     63|       54|   55|        42|         35|         59|          68|         66|     68|       69|     55|       55|     61|     73|      67|       45|        68|           20|         62|    54|       62|       41|     30|            18|           16|      16|        13|       14|            9|        11|             213K|   null|     null|     null|\n",
            "|241597|      B. White| 26|https://cdn.sofif...|  Australia|https://cdn.sofif...|     56|       59|       Brisbane Roar|https://cdn.sofif...|     80K|      1|    909|         Right|                       1|        1|          1|Medium/ Medium|   Normal|       No|      GK|           30| Nov 4, 2017|       null|                2019|   6.0|    182.88| 165.0|  74.84268|      11|       10|             13|          28|      7|       12|   11|        14|         20|         15|          32|         26|     28|       51|     49|       19|     64|     20|      62|        9|        25|           14|          8|    38|       11|       39|     11|            13|           11|      54|        58|       54|           54|        57|             106K|   null|     null|     null|\n",
            "|180755|    T. Velaphi| 31|https://cdn.sofif...|  Australia|https://cdn.sofif...|     60|       60|         Perth Glory|https://cdn.sofif...|    130K|      1|   1006|         Right|                       1|        2|          1|Medium/ Medium|     Lean|       No|      GK|            1| Jul 2, 2018|       null|                2019|   6.1|   185.928| 165.0|  74.84268|      15|       12|             13|          33|     13|       11|   17|        12|         22|         15|          53|         53|     56|       67|     28|       17|     31|     34|      65|       12|        19|           19|          9|    30|       23|       44|      9|            14|           15|      60|        55|       55|           59|        60|             163K|   null|     null|     null|\n",
            "|209887|      J. Oates| 27|https://cdn.sofif...|  Australia|https://cdn.sofif...|     60|       60|         Exeter City|https://cdn.sofif...|    170K|      2|   1543|         Right|                       1|        3|          2|  Medium/ High|   Normal|       No|      RB|           18|Jul 24, 2018|       null|                2020|  5.11|  155.7528| 176.0| 79.832192|      59|       48|             36|          48|     40|       57|   49|        35|         37|         58|          76|         74|     71|       51|     65|       36|     70|     79|      63|       28|        48|           55|         47|    35|       37|       41|     57|            60|           55|      15|        13|       10|           15|        16|             298K|   null|     null|     null|\n",
            "|211768|   L. Italiano| 27|https://cdn.sofif...|  Australia|https://cdn.sofif...|     58|       60|      Newcastle Jets|https://cdn.sofif...|    100K|      1|    946|          Left|                       1|        2|          1|Medium/ Medium|   Normal|       No|      GK|           21|Sep 26, 2018|       null|                2019|   6.2|   188.976| 183.0| 83.007336|      20|       12|             14|          21|     16|       17|   15|        13|         25|         16|          44|         42|     39|       54|     37|        9|     46|     22|      53|       11|        30|           15|          6|    20|       22|       28|     12|            14|           16|      61|        53|       58|           54|        59|             133K|     59|       59|   110000|\n",
            "|236525|      R. Lowry| 24|https://cdn.sofif...|  Australia|https://cdn.sofif...|     58|       60|  Wellington Phoenix|https://cdn.sofif...|    130K|      1|   1345|          Left|                       1|        3|          2|Medium/ Medium|   Stocky|       No|      CB|            5|Sep 30, 2016|       null|                2019|  5.11|  155.7528| 154.0| 69.853168|      48|       25|             57|          40|     26|       41|   35|        24|         34|         47|          54|         55|     52|       48|     55|       37|     68|     62|      69|       21|        62|           52|         41|    32|       35|       52|     59|            57|           59|      13|        14|        9|            8|         6|             172K|   null|     null|     null|\n",
            "|180753|     M. Bridge| 32|https://cdn.sofif...|  Australia|https://cdn.sofif...|     61|       61|Western Sydney Wa...|https://cdn.sofif...|    200K|      2|   1648|         Right|                       1|        3|          2|Medium/ Medium|   Normal|       No|      LW|           19|Jul 18, 2017|       null|                2019|  5.11|  155.7528| 176.0| 79.832192|      64|       67|             61|          59|     60|       62|   69|        49|         35|         60|          61|         64|     70|       59|     64|       62|     64|     63|      65|       59|        46|           25|         57|    53|       67|       53|     54|            46|           27|      12|         7|       16|            6|        15|             250K|   null|     null|     null|\n",
            "|203569|   J. Chianese| 28|https://cdn.sofif...|  Australia|https://cdn.sofif...|     61|       61|         Perth Glory|https://cdn.sofif...|    250K|      1|   1593|         Right|                       1|        2|          2|  Medium/ High|   Normal|       No|      RM|            7|Aug 30, 2016|       null|                2019|   5.9|   179.832| 165.0|  74.84268|      51|       59|             42|          61|     65|       58|   61|        52|         50|         64|          59|         69|     70|       61|     63|       60|     48|     66|      63|       54|        35|           38|         64|    59|       55|       59|     30|            34|           45|      15|        16|        7|           10|         9|             313K|   null|     null|     null|\n",
            "|191006|      A. Golec| 28|https://cdn.sofif...|  Australia|https://cdn.sofif...|     62|       62|Central Coast Mar...|https://cdn.sofif...|    250K|      1|   1392|          Left|                       1|        4|          2|Medium/ Medium|   Normal|       No|     LCB|            5| Jun 1, 2017|       null|                2019|   6.3|   192.024| 187.0| 84.821704|      55|       32|             51|          48|     24|       43|   48|        24|         51|         47|          45|         53|     56|       50|     36|       43|     76|     65|      77|       12|        59|           64|         37|    24|       32|       53|     59|            65|           62|       7|         6|       14|           15|        12|             313K|   null|     null|     null|\n",
            "|183025|      M. Simon| 32|https://cdn.sofif...|  Australia|https://cdn.sofif...|     62|       62|Central Coast Mar...|https://cdn.sofif...|    240K|      1|   1651|         Right|                       1|        3|          2|    High/ High|   Normal|       No|      ST|           19| Jun 1, 2018|       null|                2020|   6.2|   188.976| 172.0| 78.017824|      48|       58|             61|          48|     36|       52|   38|        29|         37|         61|          71|         73|     64|       60|     32|       66|     84|     85|      85|       58|        90|           48|         63|    49|       64|       56|     29|            49|           39|      16|        15|       11|           16|        16|             300K|     61|       61|   130000|\n",
            "|209834|K. Appiah-Kubi| 26|https://cdn.sofif...|  Australia|https://cdn.sofif...|     61|       62|   Incheon United FC|https://cdn.sofif...|    300K|      1|   1628|         Right|                       1|        1|          3|Medium/ Medium|     Lean|       No|      RW|           19|Feb 17, 2018|       null|                2022|  5.11|  155.7528| 154.0| 69.853168|      57|       42|             63|          56|     44|       68|   45|        44|         54|         58|          92|         92|     90|       55|     91|       41|     72|     78|      58|       40|        51|           42|         53|    53|       39|       55|     41|            28|           38|       6|         7|        8|           13|         9|             398K|   null|     null|     null|\n",
            "|223083|     M. Austin| 27|https://cdn.sofif...|  Australia|https://cdn.sofif...|     62|       62|      Newcastle Jets|https://cdn.sofif...|    325K|      1|   1724|          Left|                       1|        3|          3|  High/ Medium|   Normal|       No|      LW|           27|Sep 14, 2018|       null|                2019|   6.1|   185.928| 172.0| 78.017824|      64|       61|             51|          55|     36|       62|   57|        55|         48|         58|          90|         90|     81|       48|     79|       58|     76|     82|      79|       42|        40|           48|         61|    54|       63|       59|     44|            44|           46|      11|        16|        8|           10|         7|             406K|   null|     null|     null|\n",
            "|180717|      L. Reddy| 36|https://cdn.sofif...|  Australia|https://cdn.sofif...|     62|       62|         Perth Glory|https://cdn.sofif...|     40K|      1|   1028|         Right|                       1|        2|          1|Medium/ Medium|   Normal|       No|      GK|           33|Jun 24, 2016|       null|                2019|   6.2|   188.976| 198.0| 89.811216|      10|       10|             10|          17|     10|       10|   13|        12|         18|         19|          48|         48|     45|       62|     47|       24|     45|     39|      69|       10|        44|           18|          8|    35|       21|       62|     13|            11|           10|      61|        58|       58|           63|        62|              50K|     63|       63|    35000|\n",
            "|226094|      S. Brady| 22|https://cdn.sofif...|  Australia|https://cdn.sofif...|     54|       63|       Brisbane Roar|https://cdn.sofif...|    100K|      1|   1429|         Right|                       1|        2|          2|Medium/ Medium|     Lean|       No|      RW|           20|Nov 14, 2014|       null|                2019|   5.9|   179.832| 141.0| 63.956472|      51|       47|             44|          55|     39|       56|   42|        41|         52|         47|          74|         58|     83|       43|     77|       45|     51|     40|      28|       31|        47|           31|         58|    56|       53|       52|     34|            47|           44|      14|         7|       12|           14|         8|             145K|   null|     null|     null|\n",
            "|185256|    J. Hoffman| 29|https://cdn.sofif...|  Australia|https://cdn.sofif...|     63|       63|      Newcastle Jets|https://cdn.sofif...|    350K|      1|   1683|         Right|                       1|        2|          2|  High/ Medium|     Lean|       No|      ST|            3|Jul 16, 2015|       null|                2020|   6.2|   188.976| 174.0| 78.925008|      60|       58|             54|          60|     43|       59|   55|        32|         38|         61|          75|         77|     52|       61|     51|       53|     56|     75|      78|       48|        65|           60|         63|    58|       60|       56|     56|            60|           52|      11|         9|       14|           13|        16|             438K|     63|       63|   325000|\n",
            "|203310|     C. Harold| 25|https://cdn.sofif...|  Australia|https://cdn.sofif...|     62|       63|         Perth Glory|https://cdn.sofif...|    350K|      1|   1671|         Right|                       1|        3|          2|  High/ Medium|   Normal|       No|      RM|           14| May 1, 2012|       null|                2020|   5.9|   179.832| 172.0| 78.017824|      51|       63|             56|          52|     66|       61|   49|        34|         50|         60|          89|         87|     87|       45|     73|       63|     68|     64|      61|       52|        59|           35|         66|    61|       59|       55|     30|            36|           28|      13|        13|       14|           14|        12|             464K|   null|     null|     null|\n",
            "|192651|      O. Malik| 27|https://cdn.sofif...|  Australia|https://cdn.sofif...|     63|       63|   Melbourne City FC|https://cdn.sofif...|    300K|      2|   1617|         Right|                       1|        3|          2|   Low/ Medium|   Normal|       No|     CDM|            6|Jan 23, 2016|       null|                2019|   6.1|   185.928| 165.0|  74.84268|      50|       33|             60|          61|     44|       55|   36|        32|         62|         57|          65|         66|     67|       60|     59|       39|     73|     72|      75|       38|        73|           62|         45|    57|       46|       59|     58|            60|           60|       8|        13|       15|            7|         9|             375K|     60|       60|   170000|\n",
            "|181021|    D. Djulbic| 35|https://cdn.sofif...|  Australia|https://cdn.sofif...|     63|       63|         Perth Glory|https://cdn.sofif...|     90K|      1|   1306|         Right|                       1|        3|          2|  Medium/ High|   Normal|       No|      CB|           66|Jan 22, 2018|       null|                2019|   6.4|   195.072| 198.0| 89.811216|      21|       39|             66|          41|     28|       25|   21|        42|         44|         40|          30|         35|     33|       52|     31|       59|     59|     56|      90|       29|        84|           56|         26|    35|       39|       58|     57|            64|           61|       6|        12|       12|            6|         7|             113K|   null|     null|     null|\n",
            "+------+--------------+---+--------------------+-----------+--------------------+-------+---------+--------------------+--------------------+--------+-------+-------+--------------+------------------------+---------+-----------+--------------+---------+---------+--------+-------------+------------+-----------+--------------------+------+----------+------+----------+--------+---------+---------------+------------+-------+---------+-----+----------+-----------+-----------+------------+-----------+-------+---------+-------+---------+-------+-------+--------+---------+----------+-------------+-----------+------+---------+---------+-------+--------------+-------------+--------+----------+---------+-------------+----------+-----------------+-------+---------+---------+\n",
            "only showing top 20 rows\n",
            "\n"
          ],
          "name": "stdout"
        }
      ]
    },
    {
      "cell_type": "markdown",
      "metadata": {
        "id": "lGWtR6Ast7o8"
      },
      "source": [
        "**Relationship between age of players with their potential and overall**"
      ]
    },
    {
      "cell_type": "markdown",
      "metadata": {
        "id": "m7Yz_pnlxW43"
      },
      "source": [
        "Finding relationships between age and average potential and age and average overall:"
      ]
    },
    {
      "cell_type": "code",
      "metadata": {
        "colab": {
          "base_uri": "https://localhost:8080/",
          "height": 350
        },
        "id": "mRvkk376u-dE",
        "outputId": "c082ba87-6f12-43fc-c139-8e4c54e47119"
      },
      "source": [
        "import matplotlib.pyplot as plt\n",
        "import numpy as np\n",
        "import pandas as pd\n",
        "%matplotlib inline\n",
        "\n",
        "# creating two dataframes that hold Age with Average Potential and Average Overall along with renaming the aggregated columns\n",
        "df_age_potential = df.groupby('Age').avg('Potential').withColumnRenamed('avg(Potential)', 'Average Potential')\n",
        "df_age_overall = df.groupby('Age').avg('Overall').withColumnRenamed('avg(Overall)', 'Average Overall')\n",
        "\n",
        "# first, converting the above two pyspark dataframes to Pandas and storing in a variable\n",
        "# then, concatenating those two pandas dataframe setting axis 1 i.e. by column\n",
        "data = [df_age_potential.select('*').toPandas(),df_age_overall.select('Average Overall').toPandas()]\n",
        "df_age = pd.concat(data, axis=1)\n",
        "df_age.head(5)\n",
        "\n",
        "# plotting \n",
        "# creating two subplots for plotting Average Potential and Average Overall against Age\n",
        "fig, (ax1,ax2) = plt.subplots(1, 2, sharex='none', sharey='none', figsize=(15,5))\n",
        "# using first scatter plot for Average Potential and the second for Average Overall \n",
        "ax1.scatter(df_age['Age'], df_age['Average Potential'], color='r')\n",
        "ax2.scatter(df_age['Age'], df_age['Average Overall'], color='b')\n",
        "# setting y ticks, labels and titles for both plots\n",
        "ax1.set_yticks(list(range(50,78,2)))\n",
        "ax2.set_yticks(list(range(50,78,2)))\n",
        "ax1.set_xlabel('Age')\n",
        "ax1.set_ylabel('Average Potential')\n",
        "ax1.set_title('Scatter Plot: Average Potential Vs Age')\n",
        "ax2.set_xlabel('Age')\n",
        "ax2.set_ylabel('Average Overall')\n",
        "ax2.set_title('Scatter Plot: Average Overall Vs Age')\n",
        "# enabling grid view\n",
        "ax1.grid(True)\n",
        "ax2.grid(True)\n",
        "plt.show()"
      ],
      "execution_count": 33,
      "outputs": [
        {
          "output_type": "display_data",
          "data": {
            "image/png": "[encoded data removed]",
            "text/plain": [
              "<Figure size 1080x360 with 2 Axes>"
            ]
          },
          "metadata": {
            "tags": [],
            "needs_background": "light"
          }
        }
      ]
    },
    {
      "cell_type": "markdown",
      "metadata": {
        "id": "vD67c-_RxW44"
      },
      "source": [
        "It is seen from the above scatter plots that average potential decreases with age while average overall increases with age. At age 31, both average potential and average overall meet at the same point (70). So, by the age of 31, players will realise their full potential. After 31, both average potential and average overall declines. However, we can see that at 45 both average potential and overall reached a high point which can be considered as an outlier."
      ]
    },
    {
      "cell_type": "code",
      "metadata": {
        "colab": {
          "base_uri": "https://localhost:8080/",
          "height": 141
        },
        "id": "G_VNumgBNvad",
        "outputId": "b0111f4c-9a72-4387-8949-66ae5a7d79ed"
      },
      "source": [
        "# finding the correlation matrix\n",
        "df_age.corr(method ='pearson') "
      ],
      "execution_count": 34,
      "outputs": [
        {
          "output_type": "execute_result",
          "data": {
            "text/html": [
              "<div>\n",
              "<style scoped>\n",
              "    .dataframe tbody tr th:only-of-type {\n",
              "        vertical-align: middle;\n",
              "    }\n",
              "\n",
              "    .dataframe tbody tr th {\n",
              "        vertical-align: top;\n",
              "    }\n",
              "\n",
              "    .dataframe thead th {\n",
              "        text-align: right;\n",
              "    }\n",
              "</style>\n",
              "<table border=\"1\" class=\"dataframe\">\n",
              "  <thead>\n",
              "    <tr style=\"text-align: right;\">\n",
              "      <th></th>\n",
              "      <th>Age</th>\n",
              "      <th>Average Potential</th>\n",
              "      <th>Average Overall</th>\n",
              "    </tr>\n",
              "  </thead>\n",
              "  <tbody>\n",
              "    <tr>\n",
              "      <th>Age</th>\n",
              "      <td>1.000000</td>\n",
              "      <td>-0.703127</td>\n",
              "      <td>0.370369</td>\n",
              "    </tr>\n",
              "    <tr>\n",
              "      <th>Average Potential</th>\n",
              "      <td>-0.703127</td>\n",
              "      <td>1.000000</td>\n",
              "      <td>0.199843</td>\n",
              "    </tr>\n",
              "    <tr>\n",
              "      <th>Average Overall</th>\n",
              "      <td>0.370369</td>\n",
              "      <td>0.199843</td>\n",
              "      <td>1.000000</td>\n",
              "    </tr>\n",
              "  </tbody>\n",
              "</table>\n",
              "</div>"
            ],
            "text/plain": [
              "                        Age  Average Potential  Average Overall\n",
              "Age                1.000000          -0.703127         0.370369\n",
              "Average Potential -0.703127           1.000000         0.199843\n",
              "Average Overall    0.370369           0.199843         1.000000"
            ]
          },
          "metadata": {
            "tags": []
          },
          "execution_count": 34
        }
      ]
    },
    {
      "cell_type": "markdown",
      "metadata": {
        "id": "LMs7lWM2xW45"
      },
      "source": [
        "The above correlation matrix reflects the same relationship that can be seen in scatter plots."
      ]
    },
    {
      "cell_type": "markdown",
      "metadata": {
        "id": "0S3BYVijEbAM"
      },
      "source": [
        "Dealing Missing Values:"
      ]
    },
    {
      "cell_type": "markdown",
      "metadata": {
        "id": "opXJVamevgyT"
      },
      "source": [
        "In this stage, we examine the dataset to see the necessary operations required on data to ease our analysis. Based on the examination, we develop separate transformers that can perform data manipulation to output the data in a desired format."
      ]
    },
    {
      "cell_type": "code",
      "metadata": {
        "colab": {
          "base_uri": "https://localhost:8080/"
        },
        "id": "cD7QkXwC8WMh",
        "outputId": "9cbbf12f-e120-4484-89b1-0365525fd0b4"
      },
      "source": [
        "# checking the missing values\n",
        "from pyspark.sql.functions import count, col\n",
        "null_values_count = df.select([count(F.when(F.isnull(cols), cols)).alias(cols) for cols in df.columns])\n",
        "null_values_count.show()"
      ],
      "execution_count": 35,
      "outputs": [
        {
          "output_type": "stream",
          "text": [
            "+---+----+---+-----+-----------+----+-------+---------+----+---------+--------+-------+-------+--------------+------------------------+---------+-----------+---------+---------+---------+--------+-------------+------+-----------+--------------------+------+----------+------+----------+--------+---------+---------------+------------+-------+---------+-----+----------+-----------+-----------+------------+-----------+-------+---------+-------+---------+-------+-------+--------+---------+----------+-------------+-----------+------+---------+---------+-------+--------------+-------------+--------+----------+---------+-------------+----------+-----------------+-------+---------+---------+\n",
            "| ID|Name|Age|Photo|Nationality|Flag|Overall|Potential|Club|Club Logo|value(M)|wage(K)|Special|Preferred Foot|International Reputation|Weak Foot|Skill Moves|Work Rate|Body Type|Real Face|Position|Jersey Number|Joined|Loaned From|Contract Valid Until|Height|Height(CM)|Weight|Weight(KG)|Crossing|Finishing|HeadingAccuracy|ShortPassing|Volleys|Dribbling|Curve|FKAccuracy|LongPassing|BallControl|Acceleration|SprintSpeed|Agility|Reactions|Balance|ShotPower|Jumping|Stamina|Strength|LongShots|Aggression|Interceptions|Positioning|Vision|Penalties|Composure|Marking|StandingTackle|SlidingTackle|GKDiving|GKHandling|GKKicking|GKPositioning|GKReflexes|Release Clause(M)|overall|potential|value_eur|\n",
            "+---+----+---+-----+-----------+----+-------+---------+----+---------+--------+-------+-------+--------------+------------------------+---------+-----------+---------+---------+---------+--------+-------------+------+-----------+--------------------+------+----------+------+----------+--------+---------+---------------+------------+-------+---------+-----+----------+-----------+-----------+------------+-----------+-------+---------+-------+---------+-------+-------+--------+---------+----------+-------------+-----------+------+---------+---------+-------+--------------+-------------+--------+----------+---------+-------------+----------+-----------------+-------+---------+---------+\n",
            "|  0|   0|  0|    0|          0|   0|      0|        0| 241|        0|     252|    241|      0|            48|                      48|       48|         48|       48|       48|       48|      60|           60|  1553|      16943|                 289|    48|         0|    48|         0|      48|       48|             48|          48|     48|       48|   48|        48|         48|         48|          48|         48|     48|       48|     48|       48|     48|     48|      48|       48|        48|           48|         48|    48|       48|       48|     48|            48|           48|      48|        48|       48|           48|        48|             1564|   7023|     7023|     7023|\n",
            "+---+----+---+-----+-----------+----+-------+---------+----+---------+--------+-------+-------+--------------+------------------------+---------+-----------+---------+---------+---------+--------+-------------+------+-----------+--------------------+------+----------+------+----------+--------+---------+---------------+------------+-------+---------+-----+----------+-----------+-----------+------------+-----------+-------+---------+-------+---------+-------+-------+--------+---------+----------+-------------+-----------+------+---------+---------+-------+--------------+-------------+--------+----------+---------+-------------+----------+-----------------+-------+---------+---------+\n",
            "\n"
          ],
          "name": "stdout"
        }
      ]
    },
    {
      "cell_type": "markdown",
      "metadata": {
        "id": "e5j2e4L5CLhZ"
      },
      "source": [
        "In this analysis, the attributes that we are concerned with are player attributes that has impacts on players' gameplay such as 'Crossing', ShortPassing', etc. We are only concerned with forwards, midfielders and defenders not goalkeepers. It is seen that all attributes of interests have 48 missing values which include goalkeeping attributes too. So, we need to see if those missing values for different attributes belong to goalkeepers only before performing imputation or deletion of missing values."
      ]
    },
    {
      "cell_type": "code",
      "metadata": {
        "colab": {
          "base_uri": "https://localhost:8080/"
        },
        "id": "YmLzarGn1yB0",
        "outputId": "542ebd68-5364-4427-d024-4d9b1058bf8f"
      },
      "source": [
        "# checking the missing values after removing goalkeepers\n",
        "df_non_goalkeeper = df.filter(df['Position'] != 'GK')\n",
        "df_non_goalkeeper.select([count(F.when(F.isnull(cols), cols)).alias(cols) for cols in df.columns]).show()"
      ],
      "execution_count": 36,
      "outputs": [
        {
          "output_type": "stream",
          "text": [
            "+---+----+---+-----+-----------+----+-------+---------+----+---------+--------+-------+-------+--------------+------------------------+---------+-----------+---------+---------+---------+--------+-------------+------+-----------+--------------------+------+----------+------+----------+--------+---------+---------------+------------+-------+---------+-----+----------+-----------+-----------+------------+-----------+-------+---------+-------+---------+-------+-------+--------+---------+----------+-------------+-----------+------+---------+---------+-------+--------------+-------------+--------+----------+---------+-------------+----------+-----------------+-------+---------+---------+\n",
            "| ID|Name|Age|Photo|Nationality|Flag|Overall|Potential|Club|Club Logo|value(M)|wage(K)|Special|Preferred Foot|International Reputation|Weak Foot|Skill Moves|Work Rate|Body Type|Real Face|Position|Jersey Number|Joined|Loaned From|Contract Valid Until|Height|Height(CM)|Weight|Weight(KG)|Crossing|Finishing|HeadingAccuracy|ShortPassing|Volleys|Dribbling|Curve|FKAccuracy|LongPassing|BallControl|Acceleration|SprintSpeed|Agility|Reactions|Balance|ShotPower|Jumping|Stamina|Strength|LongShots|Aggression|Interceptions|Positioning|Vision|Penalties|Composure|Marking|StandingTackle|SlidingTackle|GKDiving|GKHandling|GKKicking|GKPositioning|GKReflexes|Release Clause(M)|overall|potential|value_eur|\n",
            "+---+----+---+-----+-----------+----+-------+---------+----+---------+--------+-------+-------+--------------+------------------------+---------+-----------+---------+---------+---------+--------+-------------+------+-----------+--------------------+------+----------+------+----------+--------+---------+---------------+------------+-------+---------+-----+----------+-----------+-----------+------------+-----------+-------+---------+-------+---------+-------+-------+--------+---------+----------+-------------+-----------+------+---------+---------+-------+--------------+-------------+--------+----------+---------+-------------+----------+-----------------+-------+---------+---------+\n",
            "|  0|   0|  0|    0|          0|   0|      0|        0| 196|        0|     204|    196|      0|             0|                       0|        0|          0|        0|        0|        0|       0|            0|  1371|      14947|                 196|     0|         0|     0|         0|       0|        0|              0|           0|      0|        0|    0|         0|          0|          0|           0|          0|      0|        0|      0|        0|      0|      0|       0|        0|         0|            0|          0|     0|        0|        0|      0|             0|            0|       0|         0|        0|            0|         0|             1379|   6183|     6183|     6183|\n",
            "+---+----+---+-----+-----------+----+-------+---------+----+---------+--------+-------+-------+--------------+------------------------+---------+-----------+---------+---------+---------+--------+-------------+------+-----------+--------------------+------+----------+------+----------+--------+---------+---------------+------------+-------+---------+-----+----------+-----------+-----------+------------+-----------+-------+---------+-------+---------+-------+-------+--------+---------+----------+-------------+-----------+------+---------+---------+-------+--------------+-------------+--------+----------+---------+-------------+----------+-----------------+-------+---------+---------+\n",
            "\n"
          ],
          "name": "stdout"
        }
      ]
    },
    {
      "cell_type": "markdown",
      "metadata": {
        "id": "rOzUZ_DPEI4W"
      },
      "source": [
        "It is seen that no missing values are present in our many attributes of interests for players belonging to positions other than goalkeepers. Important features in our analysis such as value(M), potential and value_eur, still have missing values, so appropriate operations to deal with those missing values should be performed before we proceed to other analysis."
      ]
    },
    {
      "cell_type": "markdown",
      "metadata": {
        "id": "UkVQ3Ry2G9sf"
      },
      "source": [
        "Handling of missing values in Value_2019(M) column:"
      ]
    },
    {
      "cell_type": "code",
      "metadata": {
        "colab": {
          "base_uri": "https://localhost:8080/"
        },
        "id": "V7EZ2T_msV2v",
        "outputId": "e0679dff-9019-4f8b-ec38-88a6350306e3"
      },
      "source": [
        "spark.sql(\"\"\"\n",
        "          Select * from soccer_analysis Where value_eur Is NUll\n",
        "          \"\"\").show()"
      ],
      "execution_count": 37,
      "outputs": [
        {
          "output_type": "stream",
          "text": [
            "+------+---------------+---+--------------------+-----------+--------------------+-------+---------+--------------------+--------------------+--------+-------+-------+--------------+------------------------+---------+-----------+--------------+---------+---------+--------+-------------+------------+-----------+--------------------+------+----------+------+----------+--------+---------+---------------+------------+-------+---------+-----+----------+-----------+-----------+------------+-----------+-------+---------+-------+---------+-------+-------+--------+---------+----------+-------------+-----------+------+---------+---------+-------+--------------+-------------+--------+----------+---------+-------------+----------+-----------------+-------+---------+---------+\n",
            "|    ID|           Name|Age|               Photo|Nationality|                Flag|Overall|Potential|                Club|           Club Logo|value(M)|wage(K)|Special|Preferred Foot|International Reputation|Weak Foot|Skill Moves|     Work Rate|Body Type|Real Face|Position|Jersey Number|      Joined|Loaned From|Contract Valid Until|Height|Height(CM)|Weight|Weight(KG)|Crossing|Finishing|HeadingAccuracy|ShortPassing|Volleys|Dribbling|Curve|FKAccuracy|LongPassing|BallControl|Acceleration|SprintSpeed|Agility|Reactions|Balance|ShotPower|Jumping|Stamina|Strength|LongShots|Aggression|Interceptions|Positioning|Vision|Penalties|Composure|Marking|StandingTackle|SlidingTackle|GKDiving|GKHandling|GKKicking|GKPositioning|GKReflexes|Release Clause(M)|overall|potential|value_eur|\n",
            "+------+---------------+---+--------------------+-----------+--------------------+-------+---------+--------------------+--------------------+--------+-------+-------+--------------+------------------------+---------+-----------+--------------+---------+---------+--------+-------------+------------+-----------+--------------------+------+----------+------+----------+--------+---------+---------------+------------+-------+---------+-----+----------+-----------+-----------+------------+-----------+-------+---------+-------+---------+-------+-------+--------+---------+----------+-------------+-----------+------+---------+---------+-------+--------------+-------------+--------+----------+---------+-------------+----------+-----------------+-------+---------+---------+\n",
            "|179813|      E. Cavani| 31|https://cdn.sofif...|    Uruguay|https://cdn.sofif...|     89|       89| Paris Saint-Germain|https://cdn.sofif...|      60|    200|   2161|         Right|                       4|        4|          3|    High/ High|     Lean|      Yes|      LS|           21|Jul 16, 2013|       null|                2020|   6.1|   185.928| 170.0|  77.11064|      70|       89|             89|          78|     90|       80|   77|        76|         52|         82|          75|         76|     77|       91|     59|       87|     88|     92|      78|       79|        84|           48|         93|    77|       85|       82|     52|            45|           39|      12|         5|       13|           13|        10|              111|   null|     null|     null|\n",
            "|177509|     M. Benatia| 31|https://cdn.sofif...|    Morocco|https://cdn.sofif...|     86|       86|            Juventus|https://cdn.sofif...|      30|    160|   1803|         Right|                       3|        3|          2|  Medium/ High|   Normal|      Yes|      CB|            4|Aug 26, 2014|       null|                2020|   6.2|   188.976| 207.0| 93.893544|      45|       47|             83|          65|     44|       64|   34|        27|         65|         64|          65|         75|     59|       82|     53|       66|     85|     69|      91|       24|        86|           86|         38|    47|       41|       82|     89|            87|           85|       7|         4|        8|            7|        11|             49.5|   null|     null|     null|\n",
            "|184267|     Y. Brahimi| 28|https://cdn.sofif...|    Algeria|https://cdn.sofif...|     85|       85|            FC Porto|https://cdn.sofif...|      39|     28|   2030|         Right|                       3|        3|          4|  High/ Medium|   Normal|       No|      LM|            8|Jul 22, 2014|       null|                2019|   5.9|   179.832| 146.0| 66.224432|      79|       76|             46|          79|     73|       93|   84|        78|         72|         86|          87|         75|     92|       84|     87|       69|     72|     85|      49|       76|        46|           38|         83|    79|       75|       90|     51|            36|           25|      13|        16|       12|            7|         7|               78|   null|     null|     null|\n",
            "|171919|          Naldo| 35|https://cdn.sofif...|     Brazil|https://cdn.sofif...|     85|       85|       FC Schalke 04|https://cdn.sofif...|       9|     38|   1959|         Right|                       3|        4|          2|Medium/ Medium|     Lean|       No|      CB|           29| Jul 1, 2016|       null|                2020|   6.6|   201.168| 201.0| 91.171992|      45|       57|             94|          76|     60|       60|   52|        76|         70|         68|          60|         65|     46|       85|     36|       92|     45|     61|      83|       82|        72|           83|         53|    59|       60|       84|     86|            88|           85|      14|        10|       14|            8|        14|             15.3|   null|     null|     null|\n",
            "|164169|   Filipe Lu��s| 32|https://cdn.sofif...|     Brazil|https://cdn.sofif...|     85|       85|    Atl��tico Madrid|https://cdn.sofif...|    21.5|     81|   2145|          Left|                       3|        3|          3|  High/ Medium|     Lean|      Yes|      LB|            3|Jul 28, 2015|       null|                2019|   6.0|    182.88| 163.0| 73.935496|      86|       59|             72|          80|     56|       77|   74|        75|         77|         83|          76|         75|     75|       85|     62|       71|     71|     89|      74|       60|        81|           84|         71|    70|       65|       88|     78|            84|           86|      11|        15|        9|            9|         5|             44.1|   null|     null|     null|\n",
            "|139720|     V. Kompany| 32|https://cdn.sofif...|    Belgium|https://cdn.sofif...|     85|       85|     Manchester City|https://cdn.sofif...|      22|    170|   1898|         Right|                       4|        3|          2|  Medium/ High|   Normal|      Yes|      CB|            4|Aug 22, 2008|       null|                2019|   6.3|   192.024| 187.0| 84.821704|      61|       45|             84|          73|     46|       63|   61|        52|         66|         70|          52|         59|     57|       87|     41|       75|     72|     66|      87|       55|        87|           82|         41|    59|       63|       81|     87|            85|           84|      10|         9|        5|            8|         6|             40.7|   null|     null|     null|\n",
            "|185020|Jos�� Callej��n| 31|https://cdn.sofif...|      Spain|https://cdn.sofif...|     84|       84|              Napoli|https://cdn.sofif...|    27.5|    105|   2045|         Right|                       3|        3|          3|    High/ High|     Lean|      Yes|      RM|            7|Jul 11, 2013|       null|                2020|   5.1|   155.448| 161.0| 73.028312|      82|       78|             65|          80|     84|       82|   73|        65|         51|         85|          88|         89|     85|       82|     80|       78|     73|     91|      55|       80|        54|           40|         88|    78|       62|       79|     64|            32|           32|       8|         5|       14|           11|        11|             46.8|   null|     null|     null|\n",
            "|181783|   M. Mand?uki?| 32|https://cdn.sofif...|    Croatia|https://cdn.sofif...|     84|       84|            Juventus|https://cdn.sofif...|      25|    160|   2106|         Right|                       3|        3|          3|    High/ High|     Lean|      Yes|      ST|           17| Jul 1, 2015|       null|                2020|   6.3|   192.024| 187.0| 84.821704|      72|       84|             90|          75|     86|       76|   64|        49|         67|         77|          67|         73|     67|       86|     53|       80|     85|     83|      85|       60|        88|           66|         90|    74|       76|       80|     59|            64|           64|      10|         8|        5|            8|        15|             41.3|   null|     null|     null|\n",
            "|176769|          Jonas| 34|https://cdn.sofif...|     Brazil|https://cdn.sofif...|     84|       84|          SL Benfica|https://cdn.sofif...|    16.5|     25|   2023|         Right|                       3|        5|          3|  High/ Medium|     Lean|      Yes|      ST|           10|Sep 12, 2014|       null|                2020|  5.11|  155.7528| 163.0| 73.935496|      70|       88|             84|          76|     85|       84|   85|        77|         75|         88|          65|         64|     77|       85|     69|       84|     69|     66|      63|       85|        61|           34|         87|    83|       84|       87|     31|            36|           25|      12|        11|        7|            8|         5|               33|   null|     null|     null|\n",
            "|137186|    A. Barzagli| 37|https://cdn.sofif...|      Italy|https://cdn.sofif...|     84|       84|            Juventus|https://cdn.sofif...|     4.2|     95|   1740|         Right|                       3|        3|          2|     Low/ High|   Normal|      Yes|      CB|           15| Jan 1, 2011|       null|                2019|   6.2|   188.976| 192.0| 87.089664|      40|       21|             72|          65|     35|       64|   50|        31|         65|         65|          61|         77|     52|       80|     64|       54|     81|     53|      83|       39|        66|           90|         28|    62|       60|       88|     94|            90|           82|       4|         2|        4|            2|         4|              6.9|   null|     null|     null|\n",
            "|192593|     D. Suba?i?| 33|https://cdn.sofif...|    Croatia|https://cdn.sofif...|     83|       83|           AS Monaco|https://cdn.sofif...|      13|     70|   1284|         Right|                       3|        2|          1|Medium/ Medium|   Normal|       No|      GK|            1|Jan 24, 2012|       null|                2020|   6.3|   192.024| 185.0|  83.91452|      11|       10|             13|          24|     13|       11|   24|        57|         26|         19|          51|         54|     42|       78|     37|       24|     75|     32|      80|       14|        31|           20|         15|    52|       23|       65|     14|            14|           13|      82|        80|       79|           82|        84|             24.7|   null|     null|     null|\n",
            "|186627|   M. Balotelli| 27|https://cdn.sofif...|      Italy|https://cdn.sofif...|     83|       83|            OGC Nice|https://cdn.sofif...|    27.5|     55|   1914|         Right|                       4|        4|          4|   Medium/ Low|   Normal|      Yes|      LS|            9|Aug 31, 2016|       null|                2019|   6.2|   188.976| 194.0| 87.996848|      68|       85|             67|          78|     78|       81|   78|        78|         66|         85|          76|         82|     71|       68|     50|       89|     74|     66|      86|       79|        70|           30|         79|    74|       92|       81|     10|            22|           20|       2|         2|        2|            4|         2|             52.3|   null|     null|     null|\n",
            "| 53302|    D. De Rossi| 34|https://cdn.sofif...|      Italy|https://cdn.sofif...|     83|       83|                Roma|https://cdn.sofif...|       8|     80|   2101|         Right|                       3|        4|          2|  Medium/ High|   Normal|      Yes|     RDM|           16| Jul 1, 2002|       null|                2019|   6.0|    182.88| 183.0| 83.007336|      57|       50|             81|          81|     74|       64|   62|        71|         80|         77|          63|         67|     64|       80|     72|       81|     77|     74|      81|       72|        84|           87|         55|    71|       75|       87|     90|            82|           80|      10|         7|       13|           10|         9|             13.6|   null|     null|     null|\n",
            "|222737|         Malcom| 21|https://cdn.sofif...|     Brazil|https://cdn.sofif...|     82|       89|        FC Barcelona|https://cdn.sofif...|    31.5|    140|   1984|          Left|                       2|        4|          4|Medium/ Medium|   Normal|       No|      RW|           14|Jul 24, 2018|       null|                2023|   5.8|   176.784| 163.0| 73.935496|      79|       75|             57|          82|     71|       85|   77|        81|         73|         85|          87|         82|     92|       80|     84|       85|     58|     74|      64|       85|        53|           26|         79|    83|       68|       78|     21|            28|           17|       8|        14|       15|            7|         9|             70.9|   null|     null|     null|\n",
            "|192318|       M. G?tze| 26|https://cdn.sofif...|    Germany|https://cdn.sofif...|     82|       85|   Borussia Dortmund|https://cdn.sofif...|      27|     67|   2101|         Right|                       4|        4|          4|Medium/ Medium|   Normal|      Yes|      CM|           10| Aug 1, 2016|       null|                2020|   5.9|   179.832| 165.0|  74.84268|      78|       75|             51|          87|     86|       84|   81|        72|         82|         90|          74|         64|     86|       84|     85|       68|     58|     73|      68|       66|        58|           65|         81|    86|       77|       85|     63|            53|           57|      14|         7|       12|            6|        10|             47.9|   null|     null|     null|\n",
            "|183376|       L. Fejsa| 29|https://cdn.sofif...|     Serbia|https://cdn.sofif...|     82|       82|          SL Benfica|https://cdn.sofif...|      17|     18|   1945|         Right|                       2|        3|          2|     Low/ High|   Normal|       No|     CDM|            5|Aug 24, 2013|       null|                2021|   6.0|    182.88| 176.0| 79.832192|      50|       49|             73|          78|     53|       68|   43|        57|         74|         72|          52|         55|     57|       78|     58|       73|     73|     90|      78|       62|        91|           85|         50|    63|       56|       75|     82|            84|           77|      14|        12|       13|           11|        14|               34|   null|     null|     null|\n",
            "|170481|       E. Garay| 31|https://cdn.sofif...|  Argentina|https://cdn.sofif...|     82|       82|         Valencia CF|https://cdn.sofif...|      15|     44|   1896|         Right|                       3|        3|          2|Medium/ Medium|   Normal|      Yes|     RCB|           24|Aug 31, 2016|       null|                2020|   6.2|   188.976| 198.0| 89.811216|      62|       58|             80|          69|     49|       60|   55|        74|         72|         73|          34|         36|     54|       76|     34|       80|     76|     62|      88|       64|        77|           83|         42|    63|       69|       78|     82|            83|           81|      14|         6|       13|           13|        14|             31.5|   null|     null|     null|\n",
            "|146530|     Dani Alves| 35|https://cdn.sofif...|     Brazil|https://cdn.sofif...|     82|       82| Paris Saint-Germain|https://cdn.sofif...|     4.8|     62|   2197|         Right|                       4|        3|          4|     High/ Low|   Normal|      Yes|      RB|           13|Jul 12, 2017|       null|                2019|   5.8|   176.784| 150.0|   68.0388|      85|       61|             72|          81|     68|       84|   80|        74|         79|         86|          77|         79|     84|       77|     87|       86|     80|     74|      55|       78|        78|           79|         74|    78|       70|       80|     72|            79|           82|       5|        11|        9|            6|         7|              8.9|   null|     null|     null|\n",
            "|113422|    David Villa| 36|https://cdn.sofif...|      Spain|https://cdn.sofif...|     82|       82|    New York City FC|https://cdn.sofif...|       8|     12|   1993|         Right|                       3|        5|          4|     High/ Low|   Normal|      Yes|      ST|            7| Jul 1, 2014|       null|                2018|   5.9|   179.832| 152.0| 68.945984|      71|       86|             67|          76|     79|       83|   83|        80|         67|         85|          72|         67|     71|       83|     73|       81|     67|     70|      66|       79|        67|           29|         86|    75|       88|       83|     30|            28|           38|       8|         9|        9|           11|         9|               12|   null|     null|     null|\n",
            "|106231|         Aduriz| 37|https://cdn.sofif...|      Spain|https://cdn.sofif...|     82|       82|Athletic Club de ...|https://cdn.sofif...|       8|     29|   1973|         Right|                       3|        3|          3|  High/ Medium|   Normal|      Yes|      ST|           20| Jul 1, 2012|       null|                2019|   6.0|    182.88| 172.0| 78.017824|      54|       83|             92|          72|     80|       76|   61|        54|         52|         82|          64|         66|     50|       85|     55|       82|     90|     60|      82|       78|        82|           23|         87|    73|       82|       87|     58|            44|           49|      14|        10|        9|           15|         9|             16.8|   null|     null|     null|\n",
            "+------+---------------+---+--------------------+-----------+--------------------+-------+---------+--------------------+--------------------+--------+-------+-------+--------------+------------------------+---------+-----------+--------------+---------+---------+--------+-------------+------------+-----------+--------------------+------+----------+------+----------+--------+---------+---------------+------------+-------+---------+-----+----------+-----------+-----------+------------+-----------+-------+---------+-------+---------+-------+-------+--------+---------+----------+-------------+-----------+------+---------+---------+-------+--------------+-------------+--------+----------+---------+-------------+----------+-----------------+-------+---------+---------+\n",
            "only showing top 20 rows\n",
            "\n"
          ],
          "name": "stdout"
        }
      ]
    },
    {
      "cell_type": "code",
      "metadata": {
        "colab": {
          "base_uri": "https://localhost:8080/"
        },
        "id": "6gnvBUH3G7Ls",
        "outputId": "c26f86a4-d4c9-41ec-8161-86d1ed4d6de1"
      },
      "source": [
        "df.filter(F.col('value_eur').isNull()).show()"
      ],
      "execution_count": 38,
      "outputs": [
        {
          "output_type": "stream",
          "text": [
            "+------+---------------+---+--------------------+-----------+--------------------+-------+---------+--------------------+--------------------+--------+-------+-------+--------------+------------------------+---------+-----------+--------------+---------+---------+--------+-------------+------------+-----------+--------------------+------+----------+------+----------+--------+---------+---------------+------------+-------+---------+-----+----------+-----------+-----------+------------+-----------+-------+---------+-------+---------+-------+-------+--------+---------+----------+-------------+-----------+------+---------+---------+-------+--------------+-------------+--------+----------+---------+-------------+----------+-----------------+-------+---------+---------+\n",
            "|    ID|           Name|Age|               Photo|Nationality|                Flag|Overall|Potential|                Club|           Club Logo|value(M)|wage(K)|Special|Preferred Foot|International Reputation|Weak Foot|Skill Moves|     Work Rate|Body Type|Real Face|Position|Jersey Number|      Joined|Loaned From|Contract Valid Until|Height|Height(CM)|Weight|Weight(KG)|Crossing|Finishing|HeadingAccuracy|ShortPassing|Volleys|Dribbling|Curve|FKAccuracy|LongPassing|BallControl|Acceleration|SprintSpeed|Agility|Reactions|Balance|ShotPower|Jumping|Stamina|Strength|LongShots|Aggression|Interceptions|Positioning|Vision|Penalties|Composure|Marking|StandingTackle|SlidingTackle|GKDiving|GKHandling|GKKicking|GKPositioning|GKReflexes|Release Clause(M)|overall|potential|value_eur|\n",
            "+------+---------------+---+--------------------+-----------+--------------------+-------+---------+--------------------+--------------------+--------+-------+-------+--------------+------------------------+---------+-----------+--------------+---------+---------+--------+-------------+------------+-----------+--------------------+------+----------+------+----------+--------+---------+---------------+------------+-------+---------+-----+----------+-----------+-----------+------------+-----------+-------+---------+-------+---------+-------+-------+--------+---------+----------+-------------+-----------+------+---------+---------+-------+--------------+-------------+--------+----------+---------+-------------+----------+-----------------+-------+---------+---------+\n",
            "|179813|      E. Cavani| 31|https://cdn.sofif...|    Uruguay|https://cdn.sofif...|     89|       89| Paris Saint-Germain|https://cdn.sofif...|      60|    200|   2161|         Right|                       4|        4|          3|    High/ High|     Lean|      Yes|      LS|           21|Jul 16, 2013|       null|                2020|   6.1|   185.928| 170.0|  77.11064|      70|       89|             89|          78|     90|       80|   77|        76|         52|         82|          75|         76|     77|       91|     59|       87|     88|     92|      78|       79|        84|           48|         93|    77|       85|       82|     52|            45|           39|      12|         5|       13|           13|        10|              111|   null|     null|     null|\n",
            "|177509|     M. Benatia| 31|https://cdn.sofif...|    Morocco|https://cdn.sofif...|     86|       86|            Juventus|https://cdn.sofif...|      30|    160|   1803|         Right|                       3|        3|          2|  Medium/ High|   Normal|      Yes|      CB|            4|Aug 26, 2014|       null|                2020|   6.2|   188.976| 207.0| 93.893544|      45|       47|             83|          65|     44|       64|   34|        27|         65|         64|          65|         75|     59|       82|     53|       66|     85|     69|      91|       24|        86|           86|         38|    47|       41|       82|     89|            87|           85|       7|         4|        8|            7|        11|             49.5|   null|     null|     null|\n",
            "|184267|     Y. Brahimi| 28|https://cdn.sofif...|    Algeria|https://cdn.sofif...|     85|       85|            FC Porto|https://cdn.sofif...|      39|     28|   2030|         Right|                       3|        3|          4|  High/ Medium|   Normal|       No|      LM|            8|Jul 22, 2014|       null|                2019|   5.9|   179.832| 146.0| 66.224432|      79|       76|             46|          79|     73|       93|   84|        78|         72|         86|          87|         75|     92|       84|     87|       69|     72|     85|      49|       76|        46|           38|         83|    79|       75|       90|     51|            36|           25|      13|        16|       12|            7|         7|               78|   null|     null|     null|\n",
            "|171919|          Naldo| 35|https://cdn.sofif...|     Brazil|https://cdn.sofif...|     85|       85|       FC Schalke 04|https://cdn.sofif...|       9|     38|   1959|         Right|                       3|        4|          2|Medium/ Medium|     Lean|       No|      CB|           29| Jul 1, 2016|       null|                2020|   6.6|   201.168| 201.0| 91.171992|      45|       57|             94|          76|     60|       60|   52|        76|         70|         68|          60|         65|     46|       85|     36|       92|     45|     61|      83|       82|        72|           83|         53|    59|       60|       84|     86|            88|           85|      14|        10|       14|            8|        14|             15.3|   null|     null|     null|\n",
            "|164169|   Filipe Lu��s| 32|https://cdn.sofif...|     Brazil|https://cdn.sofif...|     85|       85|    Atl��tico Madrid|https://cdn.sofif...|    21.5|     81|   2145|          Left|                       3|        3|          3|  High/ Medium|     Lean|      Yes|      LB|            3|Jul 28, 2015|       null|                2019|   6.0|    182.88| 163.0| 73.935496|      86|       59|             72|          80|     56|       77|   74|        75|         77|         83|          76|         75|     75|       85|     62|       71|     71|     89|      74|       60|        81|           84|         71|    70|       65|       88|     78|            84|           86|      11|        15|        9|            9|         5|             44.1|   null|     null|     null|\n",
            "|139720|     V. Kompany| 32|https://cdn.sofif...|    Belgium|https://cdn.sofif...|     85|       85|     Manchester City|https://cdn.sofif...|      22|    170|   1898|         Right|                       4|        3|          2|  Medium/ High|   Normal|      Yes|      CB|            4|Aug 22, 2008|       null|                2019|   6.3|   192.024| 187.0| 84.821704|      61|       45|             84|          73|     46|       63|   61|        52|         66|         70|          52|         59|     57|       87|     41|       75|     72|     66|      87|       55|        87|           82|         41|    59|       63|       81|     87|            85|           84|      10|         9|        5|            8|         6|             40.7|   null|     null|     null|\n",
            "|185020|Jos�� Callej��n| 31|https://cdn.sofif...|      Spain|https://cdn.sofif...|     84|       84|              Napoli|https://cdn.sofif...|    27.5|    105|   2045|         Right|                       3|        3|          3|    High/ High|     Lean|      Yes|      RM|            7|Jul 11, 2013|       null|                2020|   5.1|   155.448| 161.0| 73.028312|      82|       78|             65|          80|     84|       82|   73|        65|         51|         85|          88|         89|     85|       82|     80|       78|     73|     91|      55|       80|        54|           40|         88|    78|       62|       79|     64|            32|           32|       8|         5|       14|           11|        11|             46.8|   null|     null|     null|\n",
            "|181783|   M. Mand?uki?| 32|https://cdn.sofif...|    Croatia|https://cdn.sofif...|     84|       84|            Juventus|https://cdn.sofif...|      25|    160|   2106|         Right|                       3|        3|          3|    High/ High|     Lean|      Yes|      ST|           17| Jul 1, 2015|       null|                2020|   6.3|   192.024| 187.0| 84.821704|      72|       84|             90|          75|     86|       76|   64|        49|         67|         77|          67|         73|     67|       86|     53|       80|     85|     83|      85|       60|        88|           66|         90|    74|       76|       80|     59|            64|           64|      10|         8|        5|            8|        15|             41.3|   null|     null|     null|\n",
            "|176769|          Jonas| 34|https://cdn.sofif...|     Brazil|https://cdn.sofif...|     84|       84|          SL Benfica|https://cdn.sofif...|    16.5|     25|   2023|         Right|                       3|        5|          3|  High/ Medium|     Lean|      Yes|      ST|           10|Sep 12, 2014|       null|                2020|  5.11|  155.7528| 163.0| 73.935496|      70|       88|             84|          76|     85|       84|   85|        77|         75|         88|          65|         64|     77|       85|     69|       84|     69|     66|      63|       85|        61|           34|         87|    83|       84|       87|     31|            36|           25|      12|        11|        7|            8|         5|               33|   null|     null|     null|\n",
            "|137186|    A. Barzagli| 37|https://cdn.sofif...|      Italy|https://cdn.sofif...|     84|       84|            Juventus|https://cdn.sofif...|     4.2|     95|   1740|         Right|                       3|        3|          2|     Low/ High|   Normal|      Yes|      CB|           15| Jan 1, 2011|       null|                2019|   6.2|   188.976| 192.0| 87.089664|      40|       21|             72|          65|     35|       64|   50|        31|         65|         65|          61|         77|     52|       80|     64|       54|     81|     53|      83|       39|        66|           90|         28|    62|       60|       88|     94|            90|           82|       4|         2|        4|            2|         4|              6.9|   null|     null|     null|\n",
            "|192593|     D. Suba?i?| 33|https://cdn.sofif...|    Croatia|https://cdn.sofif...|     83|       83|           AS Monaco|https://cdn.sofif...|      13|     70|   1284|         Right|                       3|        2|          1|Medium/ Medium|   Normal|       No|      GK|            1|Jan 24, 2012|       null|                2020|   6.3|   192.024| 185.0|  83.91452|      11|       10|             13|          24|     13|       11|   24|        57|         26|         19|          51|         54|     42|       78|     37|       24|     75|     32|      80|       14|        31|           20|         15|    52|       23|       65|     14|            14|           13|      82|        80|       79|           82|        84|             24.7|   null|     null|     null|\n",
            "|186627|   M. Balotelli| 27|https://cdn.sofif...|      Italy|https://cdn.sofif...|     83|       83|            OGC Nice|https://cdn.sofif...|    27.5|     55|   1914|         Right|                       4|        4|          4|   Medium/ Low|   Normal|      Yes|      LS|            9|Aug 31, 2016|       null|                2019|   6.2|   188.976| 194.0| 87.996848|      68|       85|             67|          78|     78|       81|   78|        78|         66|         85|          76|         82|     71|       68|     50|       89|     74|     66|      86|       79|        70|           30|         79|    74|       92|       81|     10|            22|           20|       2|         2|        2|            4|         2|             52.3|   null|     null|     null|\n",
            "| 53302|    D. De Rossi| 34|https://cdn.sofif...|      Italy|https://cdn.sofif...|     83|       83|                Roma|https://cdn.sofif...|       8|     80|   2101|         Right|                       3|        4|          2|  Medium/ High|   Normal|      Yes|     RDM|           16| Jul 1, 2002|       null|                2019|   6.0|    182.88| 183.0| 83.007336|      57|       50|             81|          81|     74|       64|   62|        71|         80|         77|          63|         67|     64|       80|     72|       81|     77|     74|      81|       72|        84|           87|         55|    71|       75|       87|     90|            82|           80|      10|         7|       13|           10|         9|             13.6|   null|     null|     null|\n",
            "|222737|         Malcom| 21|https://cdn.sofif...|     Brazil|https://cdn.sofif...|     82|       89|        FC Barcelona|https://cdn.sofif...|    31.5|    140|   1984|          Left|                       2|        4|          4|Medium/ Medium|   Normal|       No|      RW|           14|Jul 24, 2018|       null|                2023|   5.8|   176.784| 163.0| 73.935496|      79|       75|             57|          82|     71|       85|   77|        81|         73|         85|          87|         82|     92|       80|     84|       85|     58|     74|      64|       85|        53|           26|         79|    83|       68|       78|     21|            28|           17|       8|        14|       15|            7|         9|             70.9|   null|     null|     null|\n",
            "|192318|       M. G?tze| 26|https://cdn.sofif...|    Germany|https://cdn.sofif...|     82|       85|   Borussia Dortmund|https://cdn.sofif...|      27|     67|   2101|         Right|                       4|        4|          4|Medium/ Medium|   Normal|      Yes|      CM|           10| Aug 1, 2016|       null|                2020|   5.9|   179.832| 165.0|  74.84268|      78|       75|             51|          87|     86|       84|   81|        72|         82|         90|          74|         64|     86|       84|     85|       68|     58|     73|      68|       66|        58|           65|         81|    86|       77|       85|     63|            53|           57|      14|         7|       12|            6|        10|             47.9|   null|     null|     null|\n",
            "|183376|       L. Fejsa| 29|https://cdn.sofif...|     Serbia|https://cdn.sofif...|     82|       82|          SL Benfica|https://cdn.sofif...|      17|     18|   1945|         Right|                       2|        3|          2|     Low/ High|   Normal|       No|     CDM|            5|Aug 24, 2013|       null|                2021|   6.0|    182.88| 176.0| 79.832192|      50|       49|             73|          78|     53|       68|   43|        57|         74|         72|          52|         55|     57|       78|     58|       73|     73|     90|      78|       62|        91|           85|         50|    63|       56|       75|     82|            84|           77|      14|        12|       13|           11|        14|               34|   null|     null|     null|\n",
            "|170481|       E. Garay| 31|https://cdn.sofif...|  Argentina|https://cdn.sofif...|     82|       82|         Valencia CF|https://cdn.sofif...|      15|     44|   1896|         Right|                       3|        3|          2|Medium/ Medium|   Normal|      Yes|     RCB|           24|Aug 31, 2016|       null|                2020|   6.2|   188.976| 198.0| 89.811216|      62|       58|             80|          69|     49|       60|   55|        74|         72|         73|          34|         36|     54|       76|     34|       80|     76|     62|      88|       64|        77|           83|         42|    63|       69|       78|     82|            83|           81|      14|         6|       13|           13|        14|             31.5|   null|     null|     null|\n",
            "|146530|     Dani Alves| 35|https://cdn.sofif...|     Brazil|https://cdn.sofif...|     82|       82| Paris Saint-Germain|https://cdn.sofif...|     4.8|     62|   2197|         Right|                       4|        3|          4|     High/ Low|   Normal|      Yes|      RB|           13|Jul 12, 2017|       null|                2019|   5.8|   176.784| 150.0|   68.0388|      85|       61|             72|          81|     68|       84|   80|        74|         79|         86|          77|         79|     84|       77|     87|       86|     80|     74|      55|       78|        78|           79|         74|    78|       70|       80|     72|            79|           82|       5|        11|        9|            6|         7|              8.9|   null|     null|     null|\n",
            "|113422|    David Villa| 36|https://cdn.sofif...|      Spain|https://cdn.sofif...|     82|       82|    New York City FC|https://cdn.sofif...|       8|     12|   1993|         Right|                       3|        5|          4|     High/ Low|   Normal|      Yes|      ST|            7| Jul 1, 2014|       null|                2018|   5.9|   179.832| 152.0| 68.945984|      71|       86|             67|          76|     79|       83|   83|        80|         67|         85|          72|         67|     71|       83|     73|       81|     67|     70|      66|       79|        67|           29|         86|    75|       88|       83|     30|            28|           38|       8|         9|        9|           11|         9|               12|   null|     null|     null|\n",
            "|106231|         Aduriz| 37|https://cdn.sofif...|      Spain|https://cdn.sofif...|     82|       82|Athletic Club de ...|https://cdn.sofif...|       8|     29|   1973|         Right|                       3|        3|          3|  High/ Medium|   Normal|      Yes|      ST|           20| Jul 1, 2012|       null|                2019|   6.0|    182.88| 172.0| 78.017824|      54|       83|             92|          72|     80|       76|   61|        54|         52|         82|          64|         66|     50|       85|     55|       82|     90|     60|      82|       78|        82|           23|         87|    73|       82|       87|     58|            44|           49|      14|        10|        9|           15|         9|             16.8|   null|     null|     null|\n",
            "+------+---------------+---+--------------------+-----------+--------------------+-------+---------+--------------------+--------------------+--------+-------+-------+--------------+------------------------+---------+-----------+--------------+---------+---------+--------+-------------+------------+-----------+--------------------+------+----------+------+----------+--------+---------+---------------+------------+-------+---------+-----+----------+-----------+-----------+------------+-----------+-------+---------+-------+---------+-------+-------+--------+---------+----------+-------------+-----------+------+---------+---------+-------+--------------+-------------+--------+----------+---------+-------------+----------+-----------------+-------+---------+---------+\n",
            "only showing top 20 rows\n",
            "\n"
          ],
          "name": "stdout"
        }
      ]
    },
    {
      "cell_type": "markdown",
      "metadata": {
        "id": "tLboQfzWHfFT"
      },
      "source": [
        "It is seen that although we have missing values for players in 2019, we can find the value of some of those players in 2021. Based on the value in 2021, we perform imputation of missing values in value column in 2019. To do that, we first compare the values in both years and calculate the percentage variation in values in those two years. Using that variation, we calculate the figures for missing values. "
      ]
    },
    {
      "cell_type": "code",
      "metadata": {
        "colab": {
          "base_uri": "https://localhost:8080/"
        },
        "id": "eANvWu6PsX6K",
        "outputId": "1c39d357-c824-4175-f8ab-2d758f9df196"
      },
      "source": [
        "spark.sql(\"\"\"\n",
        "          Select * from soccer_analysis Where `value(M)` Like '%K'\n",
        "          \"\"\").show()"
      ],
      "execution_count": 39,
      "outputs": [
        {
          "output_type": "stream",
          "text": [
            "+------+-------------+---+--------------------+--------------+--------------------+-------+---------+--------------------+--------------------+--------+-------+-------+--------------+------------------------+---------+-----------+--------------+---------+---------+--------+-------------+------------+-----------+--------------------+------+----------+------+----------+--------+---------+---------------+------------+-------+---------+-----+----------+-----------+-----------+------------+-----------+-------+---------+-------+---------+-------+-------+--------+---------+----------+-------------+-----------+------+---------+---------+-------+--------------+-------------+--------+----------+---------+-------------+----------+-----------------+-------+---------+---------+\n",
            "|    ID|         Name|Age|               Photo|   Nationality|                Flag|Overall|Potential|                Club|           Club Logo|value(M)|wage(K)|Special|Preferred Foot|International Reputation|Weak Foot|Skill Moves|     Work Rate|Body Type|Real Face|Position|Jersey Number|      Joined|Loaned From|Contract Valid Until|Height|Height(CM)|Weight|Weight(KG)|Crossing|Finishing|HeadingAccuracy|ShortPassing|Volleys|Dribbling|Curve|FKAccuracy|LongPassing|BallControl|Acceleration|SprintSpeed|Agility|Reactions|Balance|ShotPower|Jumping|Stamina|Strength|LongShots|Aggression|Interceptions|Positioning|Vision|Penalties|Composure|Marking|StandingTackle|SlidingTackle|GKDiving|GKHandling|GKKicking|GKPositioning|GKReflexes|Release Clause(M)|overall|potential|value_eur|\n",
            "+------+-------------+---+--------------------+--------------+--------------------+-------+---------+--------------------+--------------------+--------+-------+-------+--------------+------------------------+---------+-----------+--------------+---------+---------+--------+-------------+------------+-----------+--------------------+------+----------+------+----------+--------+---------+---------------+------------+-------+---------+-----+----------+-----------+-----------+------------+-----------+-------+---------+-------+---------+-------+-------+--------+---------+----------+-------------+-----------+------+---------+---------+-------+--------------+-------------+--------+----------+---------+-------------+----------+-----------------+-------+---------+---------+\n",
            "|135451|        Gomes| 37|https://cdn.sofif...|        Brazil|https://cdn.sofif...|     77|       77|             Watford|https://cdn.sofif...|    600K|     25|   1249|         Right|                       2|        2|          1|Medium/ Medium|     Lean|      Yes|      GK|            1|May 24, 2014|       null|                2019|   6.3|   192.024| 209.0| 94.800728|      15|       15|             14|          23|     13|       15|   12|        13|         19|         25|          50|         52|     56|       71|     53|       30|     76|     27|      64|       14|        40|           20|         12|    59|       41|       59|     19|            14|           15|      80|        72|       60|           77|        83|              1.1|   null|     null|     null|\n",
            "| 14907|  A. Bizzarri| 40|https://cdn.sofif...|     Argentina|https://cdn.sofif...|     76|       76|              Foggia|https://cdn.sofif...|    525K|      2|   1198|         Right|                       2|        3|          1|Medium/ Medium|   Normal|       No|      GK|            1|Jul 17, 2018|       null|                2019|   6.2|   188.976| 196.0| 88.904032|      11|       17|             10|          27|     19|       18|   19|        18|         26|         23|          55|         45|     53|       68|     51|       19|     68|     31|      55|       19|        40|           19|         10|    49|       20|       60|     11|            12|           11|      76|        74|       66|           82|        76|             840K|   null|     null|     null|\n",
            "| 45595|    D. Bonera| 37|https://cdn.sofif...|         Italy|https://cdn.sofif...|     75|       75|       Villarreal CF|https://cdn.sofif...|    900K|     18|   1490|         Right|                       2|        3|          2|     Low/ High|   Normal|      Yes|      CB|           23|Aug 31, 2015|       null|                2019|   6.0|    182.88| 185.0|  83.91452|      58|       23|             74|          60|     19|       41|   38|        29|         61|         51|          33|         30|     34|       68|     48|       60|     74|     34|      77|       53|        80|           79|         27|    41|       49|       77|     82|            78|           74|       3|         3|        3|            3|         3|              1.9|   null|     null|     null|\n",
            "|140082|       Rafael| 36|https://cdn.sofif...|        Brazil|https://cdn.sofif...|     75|       75|            Cagliari|https://cdn.sofif...|    900K|     14|   1076|         Right|                       2|        3|          1|Medium/ Medium|     Lean|       No|      GK|            1| Jul 8, 2016|       null|                2019|   6.2|   188.976| 176.0| 79.832192|      13|       11|             10|          25|     10|       13|   11|        12|         24|         23|          43|         31|     31|       70|     23|       21|     63|     41|      49|       14|        31|           10|         12|    45|       22|       60|     20|            19|           17|      76|        71|       63|           76|        76|              1.5|     73|       73|   400000|\n",
            "|114764|      Iraizoz| 37|https://cdn.sofif...|         Spain|https://cdn.sofif...|     75|       75|           Girona FC|https://cdn.sofif...|    450K|     13|   1120|         Right|                       2|        3|          1|Medium/ Medium|   Normal|       No|      GK|            1| Jul 1, 2017|       null|                2019|   6.3|   192.024| 196.0| 88.904032|      11|       12|             13|          29|     16|       11|   12|        13|         20|         15|          32|         33|     28|       73|     52|       20|     47|     33|      83|       14|        38|           23|         16|    53|       13|       56|     15|            11|           12|      69|        77|       74|           85|        67|             945K|   null|     null|     null|\n",
            "|159591|    A. P��rez| 37|https://cdn.sofif...|      Colombia|https://cdn.sofif...|     75|       75|      Deportivo Cali|https://cdn.sofif...|    900K|      2|   1908|         Right|                       1|        3|          2|Medium/ Medium|   Normal|       No|     RDM|            5| Jan 1, 2009|       null|                2023|  5.11|  155.7528| 165.0|  74.84268|      61|       55|             55|          74|     59|       59|   49|        56|         71|         71|          49|         49|     64|       75|     60|       75|     68|     66|      74|       74|        88|           81|         69|    72|       62|       84|     75|            74|           66|       8|        12|       12|           10|        15|              1.3|   null|     null|     null|\n",
            "|165735|     B. Jones| 36|https://cdn.sofif...|     Australia|https://cdn.sofif...|     75|       75|            Al Nassr|https://cdn.sofif...|    900K|     17|   1171|          Left|                       1|        2|          1|Medium/ Medium|   Normal|       No|      GK|            1| Aug 1, 2018|       null|                2020|   6.4|   195.072| 192.0| 87.089664|      19|       17|             11|          28|     11|       18|   13|        12|         18|         22|          52|         55|     25|       75|     30|       24|     70|     40|      72|       11|        32|           23|         17|    30|       35|       56|     17|            13|           13|      75|        69|       69|           80|        75|              1.5|     72|       72|   325000|\n",
            "| 49000|  A. McGregor| 36|https://cdn.sofif...|      Scotland|https://cdn.sofif...|     75|       75|          Rangers FC|https://cdn.sofif...|    900K|     22|   1258|         Right|                       2|        3|          1|Medium/ Medium|   Normal|      Yes|      GK|            1| Jul 1, 2018|       null|                2020|   6.0|    182.88| 163.0| 73.935496|      11|       19|             13|          36|     15|       18|   20|        14|         39|         29|          33|         41|     65|       70|     51|       23|     73|     30|      71|       14|        53|           18|         13|    60|       23|       68|     15|            13|           13|      74|        72|       66|           74|        79|              1.6|     74|       74|   575000|\n",
            "|165769|      C��ssio| 37|https://cdn.sofif...|        Brazil|https://cdn.sofif...|     75|       75|          Al Taawoun|https://cdn.sofif...|    450K|     10|   1165|         Right|                       1|        2|          1|Medium/ Medium|   Normal|       No|      GK|            1| Jul 1, 2018|       null|                2019|   6.1|   185.928| 174.0| 78.925008|      11|       11|             12|          25|     14|       12|   12|        13|         22|         22|          34|         40|     45|       72|     45|       24|     70|     30|      64|       11|        40|           22|         13|    60|       24|       59|     18|            17|           14|      77|        74|       68|           73|        76|             743K|     74|       74|   575000|\n",
            "| 46736|   E. Moretti| 37|https://cdn.sofif...|         Italy|https://cdn.sofif...|     75|       75|              Torino|https://cdn.sofif...|    900K|     24|   1573|          Left|                       2|        2|          2|     Low/ High|     Lean|       No|     LCB|           24|Jul 11, 2013|       null|                2019|   6.0|    182.88| 170.0|  77.11064|      51|       16|             75|          59|     27|       49|   52|        33|         56|         64|          48|         34|     48|       64|     65|       56|     73|     39|      68|       39|        74|           84|         31|    31|       49|       73|     80|            77|           76|       9|        10|       10|           11|        15|              1.5|   null|     null|     null|\n",
            "|161468|  P. Gui?az��| 39|https://cdn.sofif...|     Argentina|https://cdn.sofif...|     75|       75|Club Atl��tico Ta...|https://cdn.sofif...|    450K|     10|   1876|          Left|                       1|        3|          3|     Low/ High|   Normal|       No|     LCM|            5|Jan 20, 2016|       null|                2019|   5.9|   179.832| 150.0|   68.0388|      63|       48|             60|          82|     25|       63|   65|        30|         68|         70|          58|         61|     56|       58|     77|       65|     75|     89|      79|       60|        84|           73|         67|    69|       55|       74|     76|            76|           68|      12|        10|       12|            9|        13|             675K|   null|     null|     null|\n",
            "|149184|    C. Maggio| 36|https://cdn.sofif...|         Italy|https://cdn.sofif...|     75|       75|           Benevento|https://cdn.sofif...|    775K|      4|   2055|         Right|                       2|        2|          3|Medium/ Medium|   Normal|       No|      RB|           11| Jul 6, 2018|       null|                2020|   6.0|    182.88| 174.0| 78.925008|      77|       67|             74|          74|     79|       70|   71|        55|         72|         77|          68|         72|     74|       76|     68|       75|     86|     79|      77|       69|        72|           67|         74|    58|       57|       78|     74|            75|           75|       9|         5|        9|           11|         9|              1.2|     74|       74|  1000000|\n",
            "|156412|    J. Corona| 37|https://cdn.sofif...|        Mexico|https://cdn.sofif...|     75|       75|           Cruz Azul|https://cdn.sofif...|    450K|     12|   1166|         Right|                       2|        3|          1|Medium/ Medium|   Normal|       No|      GK|            1| Jun 1, 2009|       null|                2020|   6.0|    182.88| 185.0|  83.91452|      17|       12|             13|          33|     12|       13|   14|        10|         33|         20|          41|         38|     64|       70|     60|       21|     79|     25|      52|       12|        11|           23|         15|    40|       21|       67|     25|            13|           11|      72|        77|       68|           78|        73|             765K|     75|       75|   675000|\n",
            "|154634|   M. Pasqual| 36|https://cdn.sofif...|         Italy|https://cdn.sofif...|     74|       74|              Empoli|https://cdn.sofif...|    650K|      9|   1996|          Left|                       2|        2|          3|Medium/ Medium|   Normal|       No|      LB|           23|May 31, 2016|       null|                2022|   5.1|   155.448| 157.0| 71.213944|      86|       46|             60|          78|     62|       72|   82|        76|         77|         77|          67|         69|     76|       72|     75|       72|     77|     68|      66|       62|        66|           72|         66|    70|       50|       78|     70|            73|           72|       6|         5|        7|           12|         7|              1.2|   null|     null|     null|\n",
            "|143632|   V. Demirel| 36|https://cdn.sofif...|        Turkey|https://cdn.sofif...|     74|       74|       Fenerbah?e SK|https://cdn.sofif...|    750K|     23|   1214|         Right|                       2|        2|          1|Medium/ Medium|   Stocky|       No|      GK|            1| Aug 6, 2002|       null|                2019|   6.3|   192.024| 198.0| 89.811216|      18|       14|             18|          38|     13|       25|   11|        15|         42|         28|          32|         30|     36|       71|     35|       25|     70|     42|      83|       12|        45|           19|         12|    50|       11|       50|     22|            14|           17|      75|        71|       75|           72|        73|              1.4|   null|     null|     null|\n",
            "|116308|     R. Fanni| 36|https://cdn.sofif...|        France|https://cdn.sofif...|     74|       74|     Montreal Impact|https://cdn.sofif...|    750K|      5|   1869|         Right|                       2|        3|          2|  Medium/ High|   Normal|      Yes|     RCB|           15| Mar 5, 2018|       null|                2018|   6.1|   185.928| 179.0| 81.192968|      66|       44|             68|          70|     33|       66|   55|        57|         66|         71|          63|         65|     64|       74|     68|       67|     71|     65|      79|       58|        71|           76|         53|    58|       57|       75|     75|            71|           71|      16|        12|        8|           16|        15|              1.1|     70|       70|   350000|\n",
            "|105846|     A. Boruc| 38|https://cdn.sofif...|        Poland|https://cdn.sofif...|     74|       74|         Bournemouth|https://cdn.sofif...|    375K|     24|   1159|         Right|                       2|        3|          1|Medium/ Medium|   Normal|      Yes|      GK|            1| Jul 1, 2015|       null|                2019|   6.4|   195.072| 192.0| 87.089664|      12|       11|             11|          25|     13|       14|   13|        19|         34|         18|          37|         39|     40|       69|     40|       21|     73|     31|      69|       15|        38|           25|         17|    40|       21|       63|     15|            20|           20|      74|        73|       62|           76|        74|             713K|     73|       73|   400000|\n",
            "|145047| Bruno Saltor| 37|https://cdn.sofif...|         Spain|https://cdn.sofif...|     74|       74|Brighton & Hove A...|https://cdn.sofif...|    650K|     25|   1865|         Right|                       1|        3|          3|  High/ Medium|     Lean|      Yes|      RB|            2| Jul 1, 2012|       null|                2019|  5.11|  155.7528| 168.0| 76.203456|      75|       33|             64|          77|     55|       69|   66|        51|         72|         78|          57|         53|     66|       82|     66|       65|     56|     55|      66|       46|        74|           80|         58|    68|       45|       78|     79|            80|           76|       9|        16|       13|            8|         7|              1.2|   null|     null|     null|\n",
            "| 20209|Ricardo Costa| 37|https://cdn.sofif...|      Portugal|https://cdn.sofif...|     74|       74|          CD Tondela|https://cdn.sofif...|    750K|      4|   1638|         Right|                       2|        3|          2|  Medium/ High|   Normal|      Yes|     LCB|           20| Jul 1, 2017|       null|                2019|   6.0|    182.88| 181.0| 82.100152|      41|       25|             72|          56|     35|       48|   25|        28|         47|         52|          50|         42|     62|       70|     64|       65|     92|     69|      77|       32|        91|           70|         56|    45|       40|       75|     76|            77|           74|      14|        15|        7|            8|        13|              1.6|     73|       73|   550000|\n",
            "|150278|    J. Drobn?| 38|https://cdn.sofif...|Czech Republic|https://cdn.sofif...|     73|       73|    SV Werder Bremen|https://cdn.sofif...|    270K|     10|   1052|         Right|                       2|        2|          1|Medium/ Medium|   Normal|      Yes|      GK|           33| Jul 1, 2016|       null|                2019|   6.4|   195.072| 198.0| 89.811216|      13|       14|             12|          35|     19|       15|   12|        12|         33|         22|          35|         36|     37|       74|     35|       22|     50|     23|      66|       15|        26|           14|          8|    21|       24|       42|     13|            13|           13|      73|        74|       45|           74|        74|             459K|   null|     null|     null|\n",
            "+------+-------------+---+--------------------+--------------+--------------------+-------+---------+--------------------+--------------------+--------+-------+-------+--------------+------------------------+---------+-----------+--------------+---------+---------+--------+-------------+------------+-----------+--------------------+------+----------+------+----------+--------+---------+---------------+------------+-------+---------+-----+----------+-----------+-----------+------------+-----------+-------+---------+-------+---------+-------+-------+--------+---------+----------+-------------+-----------+------+---------+---------+-------+--------------+-------------+--------+----------+---------+-------------+----------+-----------------+-------+---------+---------+\n",
            "only showing top 20 rows\n",
            "\n"
          ],
          "name": "stdout"
        }
      ]
    },
    {
      "cell_type": "code",
      "metadata": {
        "colab": {
          "base_uri": "https://localhost:8080/"
        },
        "id": "QLpVEZgKdZ2-",
        "outputId": "3d2545ca-5293-4613-9f48-5004c7b81823"
      },
      "source": [
        "df.filter(df['value(M)'].contains('K')).show()"
      ],
      "execution_count": 40,
      "outputs": [
        {
          "output_type": "stream",
          "text": [
            "+------+-------------+---+--------------------+--------------+--------------------+-------+---------+--------------------+--------------------+--------+-------+-------+--------------+------------------------+---------+-----------+--------------+---------+---------+--------+-------------+------------+-----------+--------------------+------+----------+------+----------+--------+---------+---------------+------------+-------+---------+-----+----------+-----------+-----------+------------+-----------+-------+---------+-------+---------+-------+-------+--------+---------+----------+-------------+-----------+------+---------+---------+-------+--------------+-------------+--------+----------+---------+-------------+----------+-----------------+-------+---------+---------+\n",
            "|    ID|         Name|Age|               Photo|   Nationality|                Flag|Overall|Potential|                Club|           Club Logo|value(M)|wage(K)|Special|Preferred Foot|International Reputation|Weak Foot|Skill Moves|     Work Rate|Body Type|Real Face|Position|Jersey Number|      Joined|Loaned From|Contract Valid Until|Height|Height(CM)|Weight|Weight(KG)|Crossing|Finishing|HeadingAccuracy|ShortPassing|Volleys|Dribbling|Curve|FKAccuracy|LongPassing|BallControl|Acceleration|SprintSpeed|Agility|Reactions|Balance|ShotPower|Jumping|Stamina|Strength|LongShots|Aggression|Interceptions|Positioning|Vision|Penalties|Composure|Marking|StandingTackle|SlidingTackle|GKDiving|GKHandling|GKKicking|GKPositioning|GKReflexes|Release Clause(M)|overall|potential|value_eur|\n",
            "+------+-------------+---+--------------------+--------------+--------------------+-------+---------+--------------------+--------------------+--------+-------+-------+--------------+------------------------+---------+-----------+--------------+---------+---------+--------+-------------+------------+-----------+--------------------+------+----------+------+----------+--------+---------+---------------+------------+-------+---------+-----+----------+-----------+-----------+------------+-----------+-------+---------+-------+---------+-------+-------+--------+---------+----------+-------------+-----------+------+---------+---------+-------+--------------+-------------+--------+----------+---------+-------------+----------+-----------------+-------+---------+---------+\n",
            "|135451|        Gomes| 37|https://cdn.sofif...|        Brazil|https://cdn.sofif...|     77|       77|             Watford|https://cdn.sofif...|    600K|     25|   1249|         Right|                       2|        2|          1|Medium/ Medium|     Lean|      Yes|      GK|            1|May 24, 2014|       null|                2019|   6.3|   192.024| 209.0| 94.800728|      15|       15|             14|          23|     13|       15|   12|        13|         19|         25|          50|         52|     56|       71|     53|       30|     76|     27|      64|       14|        40|           20|         12|    59|       41|       59|     19|            14|           15|      80|        72|       60|           77|        83|              1.1|   null|     null|     null|\n",
            "| 14907|  A. Bizzarri| 40|https://cdn.sofif...|     Argentina|https://cdn.sofif...|     76|       76|              Foggia|https://cdn.sofif...|    525K|      2|   1198|         Right|                       2|        3|          1|Medium/ Medium|   Normal|       No|      GK|            1|Jul 17, 2018|       null|                2019|   6.2|   188.976| 196.0| 88.904032|      11|       17|             10|          27|     19|       18|   19|        18|         26|         23|          55|         45|     53|       68|     51|       19|     68|     31|      55|       19|        40|           19|         10|    49|       20|       60|     11|            12|           11|      76|        74|       66|           82|        76|             840K|   null|     null|     null|\n",
            "| 45595|    D. Bonera| 37|https://cdn.sofif...|         Italy|https://cdn.sofif...|     75|       75|       Villarreal CF|https://cdn.sofif...|    900K|     18|   1490|         Right|                       2|        3|          2|     Low/ High|   Normal|      Yes|      CB|           23|Aug 31, 2015|       null|                2019|   6.0|    182.88| 185.0|  83.91452|      58|       23|             74|          60|     19|       41|   38|        29|         61|         51|          33|         30|     34|       68|     48|       60|     74|     34|      77|       53|        80|           79|         27|    41|       49|       77|     82|            78|           74|       3|         3|        3|            3|         3|              1.9|   null|     null|     null|\n",
            "|140082|       Rafael| 36|https://cdn.sofif...|        Brazil|https://cdn.sofif...|     75|       75|            Cagliari|https://cdn.sofif...|    900K|     14|   1076|         Right|                       2|        3|          1|Medium/ Medium|     Lean|       No|      GK|            1| Jul 8, 2016|       null|                2019|   6.2|   188.976| 176.0| 79.832192|      13|       11|             10|          25|     10|       13|   11|        12|         24|         23|          43|         31|     31|       70|     23|       21|     63|     41|      49|       14|        31|           10|         12|    45|       22|       60|     20|            19|           17|      76|        71|       63|           76|        76|              1.5|     73|       73|   400000|\n",
            "|114764|      Iraizoz| 37|https://cdn.sofif...|         Spain|https://cdn.sofif...|     75|       75|           Girona FC|https://cdn.sofif...|    450K|     13|   1120|         Right|                       2|        3|          1|Medium/ Medium|   Normal|       No|      GK|            1| Jul 1, 2017|       null|                2019|   6.3|   192.024| 196.0| 88.904032|      11|       12|             13|          29|     16|       11|   12|        13|         20|         15|          32|         33|     28|       73|     52|       20|     47|     33|      83|       14|        38|           23|         16|    53|       13|       56|     15|            11|           12|      69|        77|       74|           85|        67|             945K|   null|     null|     null|\n",
            "|159591|    A. P��rez| 37|https://cdn.sofif...|      Colombia|https://cdn.sofif...|     75|       75|      Deportivo Cali|https://cdn.sofif...|    900K|      2|   1908|         Right|                       1|        3|          2|Medium/ Medium|   Normal|       No|     RDM|            5| Jan 1, 2009|       null|                2023|  5.11|  155.7528| 165.0|  74.84268|      61|       55|             55|          74|     59|       59|   49|        56|         71|         71|          49|         49|     64|       75|     60|       75|     68|     66|      74|       74|        88|           81|         69|    72|       62|       84|     75|            74|           66|       8|        12|       12|           10|        15|              1.3|   null|     null|     null|\n",
            "|165735|     B. Jones| 36|https://cdn.sofif...|     Australia|https://cdn.sofif...|     75|       75|            Al Nassr|https://cdn.sofif...|    900K|     17|   1171|          Left|                       1|        2|          1|Medium/ Medium|   Normal|       No|      GK|            1| Aug 1, 2018|       null|                2020|   6.4|   195.072| 192.0| 87.089664|      19|       17|             11|          28|     11|       18|   13|        12|         18|         22|          52|         55|     25|       75|     30|       24|     70|     40|      72|       11|        32|           23|         17|    30|       35|       56|     17|            13|           13|      75|        69|       69|           80|        75|              1.5|     72|       72|   325000|\n",
            "| 49000|  A. McGregor| 36|https://cdn.sofif...|      Scotland|https://cdn.sofif...|     75|       75|          Rangers FC|https://cdn.sofif...|    900K|     22|   1258|         Right|                       2|        3|          1|Medium/ Medium|   Normal|      Yes|      GK|            1| Jul 1, 2018|       null|                2020|   6.0|    182.88| 163.0| 73.935496|      11|       19|             13|          36|     15|       18|   20|        14|         39|         29|          33|         41|     65|       70|     51|       23|     73|     30|      71|       14|        53|           18|         13|    60|       23|       68|     15|            13|           13|      74|        72|       66|           74|        79|              1.6|     74|       74|   575000|\n",
            "|165769|      C��ssio| 37|https://cdn.sofif...|        Brazil|https://cdn.sofif...|     75|       75|          Al Taawoun|https://cdn.sofif...|    450K|     10|   1165|         Right|                       1|        2|          1|Medium/ Medium|   Normal|       No|      GK|            1| Jul 1, 2018|       null|                2019|   6.1|   185.928| 174.0| 78.925008|      11|       11|             12|          25|     14|       12|   12|        13|         22|         22|          34|         40|     45|       72|     45|       24|     70|     30|      64|       11|        40|           22|         13|    60|       24|       59|     18|            17|           14|      77|        74|       68|           73|        76|             743K|     74|       74|   575000|\n",
            "| 46736|   E. Moretti| 37|https://cdn.sofif...|         Italy|https://cdn.sofif...|     75|       75|              Torino|https://cdn.sofif...|    900K|     24|   1573|          Left|                       2|        2|          2|     Low/ High|     Lean|       No|     LCB|           24|Jul 11, 2013|       null|                2019|   6.0|    182.88| 170.0|  77.11064|      51|       16|             75|          59|     27|       49|   52|        33|         56|         64|          48|         34|     48|       64|     65|       56|     73|     39|      68|       39|        74|           84|         31|    31|       49|       73|     80|            77|           76|       9|        10|       10|           11|        15|              1.5|   null|     null|     null|\n",
            "|161468|  P. Gui?az��| 39|https://cdn.sofif...|     Argentina|https://cdn.sofif...|     75|       75|Club Atl��tico Ta...|https://cdn.sofif...|    450K|     10|   1876|          Left|                       1|        3|          3|     Low/ High|   Normal|       No|     LCM|            5|Jan 20, 2016|       null|                2019|   5.9|   179.832| 150.0|   68.0388|      63|       48|             60|          82|     25|       63|   65|        30|         68|         70|          58|         61|     56|       58|     77|       65|     75|     89|      79|       60|        84|           73|         67|    69|       55|       74|     76|            76|           68|      12|        10|       12|            9|        13|             675K|   null|     null|     null|\n",
            "|149184|    C. Maggio| 36|https://cdn.sofif...|         Italy|https://cdn.sofif...|     75|       75|           Benevento|https://cdn.sofif...|    775K|      4|   2055|         Right|                       2|        2|          3|Medium/ Medium|   Normal|       No|      RB|           11| Jul 6, 2018|       null|                2020|   6.0|    182.88| 174.0| 78.925008|      77|       67|             74|          74|     79|       70|   71|        55|         72|         77|          68|         72|     74|       76|     68|       75|     86|     79|      77|       69|        72|           67|         74|    58|       57|       78|     74|            75|           75|       9|         5|        9|           11|         9|              1.2|     74|       74|  1000000|\n",
            "|156412|    J. Corona| 37|https://cdn.sofif...|        Mexico|https://cdn.sofif...|     75|       75|           Cruz Azul|https://cdn.sofif...|    450K|     12|   1166|         Right|                       2|        3|          1|Medium/ Medium|   Normal|       No|      GK|            1| Jun 1, 2009|       null|                2020|   6.0|    182.88| 185.0|  83.91452|      17|       12|             13|          33|     12|       13|   14|        10|         33|         20|          41|         38|     64|       70|     60|       21|     79|     25|      52|       12|        11|           23|         15|    40|       21|       67|     25|            13|           11|      72|        77|       68|           78|        73|             765K|     75|       75|   675000|\n",
            "|154634|   M. Pasqual| 36|https://cdn.sofif...|         Italy|https://cdn.sofif...|     74|       74|              Empoli|https://cdn.sofif...|    650K|      9|   1996|          Left|                       2|        2|          3|Medium/ Medium|   Normal|       No|      LB|           23|May 31, 2016|       null|                2022|   5.1|   155.448| 157.0| 71.213944|      86|       46|             60|          78|     62|       72|   82|        76|         77|         77|          67|         69|     76|       72|     75|       72|     77|     68|      66|       62|        66|           72|         66|    70|       50|       78|     70|            73|           72|       6|         5|        7|           12|         7|              1.2|   null|     null|     null|\n",
            "|143632|   V. Demirel| 36|https://cdn.sofif...|        Turkey|https://cdn.sofif...|     74|       74|       Fenerbah?e SK|https://cdn.sofif...|    750K|     23|   1214|         Right|                       2|        2|          1|Medium/ Medium|   Stocky|       No|      GK|            1| Aug 6, 2002|       null|                2019|   6.3|   192.024| 198.0| 89.811216|      18|       14|             18|          38|     13|       25|   11|        15|         42|         28|          32|         30|     36|       71|     35|       25|     70|     42|      83|       12|        45|           19|         12|    50|       11|       50|     22|            14|           17|      75|        71|       75|           72|        73|              1.4|   null|     null|     null|\n",
            "|116308|     R. Fanni| 36|https://cdn.sofif...|        France|https://cdn.sofif...|     74|       74|     Montreal Impact|https://cdn.sofif...|    750K|      5|   1869|         Right|                       2|        3|          2|  Medium/ High|   Normal|      Yes|     RCB|           15| Mar 5, 2018|       null|                2018|   6.1|   185.928| 179.0| 81.192968|      66|       44|             68|          70|     33|       66|   55|        57|         66|         71|          63|         65|     64|       74|     68|       67|     71|     65|      79|       58|        71|           76|         53|    58|       57|       75|     75|            71|           71|      16|        12|        8|           16|        15|              1.1|     70|       70|   350000|\n",
            "|105846|     A. Boruc| 38|https://cdn.sofif...|        Poland|https://cdn.sofif...|     74|       74|         Bournemouth|https://cdn.sofif...|    375K|     24|   1159|         Right|                       2|        3|          1|Medium/ Medium|   Normal|      Yes|      GK|            1| Jul 1, 2015|       null|                2019|   6.4|   195.072| 192.0| 87.089664|      12|       11|             11|          25|     13|       14|   13|        19|         34|         18|          37|         39|     40|       69|     40|       21|     73|     31|      69|       15|        38|           25|         17|    40|       21|       63|     15|            20|           20|      74|        73|       62|           76|        74|             713K|     73|       73|   400000|\n",
            "|145047| Bruno Saltor| 37|https://cdn.sofif...|         Spain|https://cdn.sofif...|     74|       74|Brighton & Hove A...|https://cdn.sofif...|    650K|     25|   1865|         Right|                       1|        3|          3|  High/ Medium|     Lean|      Yes|      RB|            2| Jul 1, 2012|       null|                2019|  5.11|  155.7528| 168.0| 76.203456|      75|       33|             64|          77|     55|       69|   66|        51|         72|         78|          57|         53|     66|       82|     66|       65|     56|     55|      66|       46|        74|           80|         58|    68|       45|       78|     79|            80|           76|       9|        16|       13|            8|         7|              1.2|   null|     null|     null|\n",
            "| 20209|Ricardo Costa| 37|https://cdn.sofif...|      Portugal|https://cdn.sofif...|     74|       74|          CD Tondela|https://cdn.sofif...|    750K|      4|   1638|         Right|                       2|        3|          2|  Medium/ High|   Normal|      Yes|     LCB|           20| Jul 1, 2017|       null|                2019|   6.0|    182.88| 181.0| 82.100152|      41|       25|             72|          56|     35|       48|   25|        28|         47|         52|          50|         42|     62|       70|     64|       65|     92|     69|      77|       32|        91|           70|         56|    45|       40|       75|     76|            77|           74|      14|        15|        7|            8|        13|              1.6|     73|       73|   550000|\n",
            "|150278|    J. Drobn?| 38|https://cdn.sofif...|Czech Republic|https://cdn.sofif...|     73|       73|    SV Werder Bremen|https://cdn.sofif...|    270K|     10|   1052|         Right|                       2|        2|          1|Medium/ Medium|   Normal|      Yes|      GK|           33| Jul 1, 2016|       null|                2019|   6.4|   195.072| 198.0| 89.811216|      13|       14|             12|          35|     19|       15|   12|        12|         33|         22|          35|         36|     37|       74|     35|       22|     50|     23|      66|       15|        26|           14|          8|    21|       24|       42|     13|            13|           13|      73|        74|       45|           74|        74|             459K|   null|     null|     null|\n",
            "+------+-------------+---+--------------------+--------------+--------------------+-------+---------+--------------------+--------------------+--------+-------+-------+--------------+------------------------+---------+-----------+--------------+---------+---------+--------+-------------+------------+-----------+--------------------+------+----------+------+----------+--------+---------+---------------+------------+-------+---------+-----+----------+-----------+-----------+------------+-----------+-------+---------+-------+---------+-------+-------+--------+---------+----------+-------------+-----------+------+---------+---------+-------+--------------+-------------+--------+----------+---------+-------------+----------+-----------------+-------+---------+---------+\n",
            "only showing top 20 rows\n",
            "\n"
          ],
          "name": "stdout"
        }
      ]
    },
    {
      "cell_type": "markdown",
      "metadata": {
        "id": "Qhw_gxsh_VK4"
      },
      "source": [
        "All the issues seen above have to be dealt before proceeding to further analysis. To deal with those issues, a separate python script has been developed which we will import later on in this analysis to create dataframes that are free from complications seen above."
      ]
    },
    {
      "cell_type": "markdown",
      "metadata": {
        "id": "8txlnp7Gi2dO"
      },
      "source": [
        "Creating Pipelines for Data Preprocessing:"
      ]
    },
    {
      "cell_type": "markdown",
      "metadata": {
        "id": "GoVgxnkCoNnL"
      },
      "source": [
        "In this stage, we create two pipelines for regression and classification tasks. Depending on the tasks, certain operations are omitted in the pipeline. For example, for classification tasks, we will not use ValueImputer function to impute missing values for players monetary values in 2019 and 2021 as classification is made independent of these two columns."
      ]
    },
    {
      "cell_type": "markdown",
      "metadata": {
        "id": "rNwl_W74wdO8"
      },
      "source": [
        "Here, we import two python scripts containing transformers that we developed according to our examination in the previous section. The first python script is data_preprocessor.py which contains classes such as ValueManipulator, UnifyValue and ValueImputer. The second script is target_generator, and it contains classes such as ProfitGenerator and GrowthGenerator."
      ]
    },
    {
      "cell_type": "code",
      "metadata": {
        "colab": {
          "base_uri": "https://localhost:8080/"
        },
        "id": "_fdds9u6VFN0",
        "outputId": "7a89705a-dd0f-469c-9838-4db1411a13a4"
      },
      "source": [
        "# only for google colab\n",
        "!git clone https://github.com/Gooner12/FIFA_2019.git FIFA_2019\n",
        "!mv \"/content/FIFA_2019/data_preprocessor.py\" \"/content/\"\n",
        "!mv \"/content/FIFA_2019/target_generator.py\" \"/content/\"\n",
        "!mv \"/content/FIFA_2019/encoder.py\" \"/content/\""
      ],
      "execution_count": 41,
      "outputs": [
        {
          "output_type": "stream",
          "text": [
            "Cloning into 'FIFA_2019'...\n",
            "remote: Enumerating objects: 116, done.\u001b[K\n",
            "remote: Counting objects: 100% (116/116), done.\u001b[K\n",
            "remote: Compressing objects: 100% (80/80), done.\u001b[K\n",
            "remote: Total 116 (delta 56), reused 73 (delta 35), pack-reused 0\u001b[K\n",
            "Receiving objects: 100% (116/116), 4.75 MiB | 13.58 MiB/s, done.\n",
            "Resolving deltas: 100% (56/56), done.\n"
          ],
          "name": "stdout"
        }
      ]
    },
    {
      "cell_type": "code",
      "metadata": {
        "id": "6A8GtAe9pBHP"
      },
      "source": [
        "from pyspark.ml import Pipeline\n",
        "import data_preprocessor, target_generator\n",
        "\n",
        "# defining the stage that changes the units of players' values in 2021 along with renaming columns based on the year \n",
        "value_manipulation = data_preprocessor.ValueManipulator()\n",
        "# defining the stage that standardises the players' values in 2019 to millions\n",
        "value_standardisation = data_preprocessor.UnifyValue()\n",
        "# defining the stage that imputes and removes missing values present in players' values in 2019 and 2021\n",
        "value_imputation = data_preprocessor.ValueImputer()\n",
        "# defining the stage that generates labels based on profits in two years for regression\n",
        "regression_target = target_generator.ProfitGenerator()\n",
        "# defining the stage that generates labels based on the potential to grow in two years\n",
        "classification_target = target_generator.GrowthGenerator()"
      ],
      "execution_count": 42,
      "outputs": []
    },
    {
      "cell_type": "markdown",
      "metadata": {
        "id": "RPRzJXY6q-om"
      },
      "source": [
        "DataFrame for Regression:"
      ]
    },
    {
      "cell_type": "code",
      "metadata": {
        "id": "jrWJ5nUArECJ"
      },
      "source": [
        "# creating a pipeline to generate dataframe for regression\n",
        "pipeline_regression = Pipeline(stages=[value_manipulation, value_standardisation, value_imputation, regression_target])\n",
        "# fitting the pipeline model and transforming the data as defined\n",
        "pipeline_model = pipeline_regression.fit(df)\n",
        "regression_df = pipeline_model.transform(df)"
      ],
      "execution_count": 43,
      "outputs": []
    },
    {
      "cell_type": "code",
      "metadata": {
        "colab": {
          "base_uri": "https://localhost:8080/"
        },
        "id": "pgYcZDrGPCfE",
        "outputId": "a51e4138-aba9-47a2-b074-58254073a6b9"
      },
      "source": [
        "regression_df.printSchema()"
      ],
      "execution_count": 44,
      "outputs": [
        {
          "output_type": "stream",
          "text": [
            "root\n",
            " |-- ID: integer (nullable = true)\n",
            " |-- Name: string (nullable = true)\n",
            " |-- Age: integer (nullable = true)\n",
            " |-- Photo: string (nullable = true)\n",
            " |-- Nationality: string (nullable = true)\n",
            " |-- Flag: string (nullable = true)\n",
            " |-- Overall_2019: integer (nullable = true)\n",
            " |-- Potential_2019: integer (nullable = true)\n",
            " |-- Club: string (nullable = true)\n",
            " |-- Club Logo: string (nullable = true)\n",
            " |-- Value_2019(M): double (nullable = true)\n",
            " |-- wage(K): integer (nullable = true)\n",
            " |-- Special: integer (nullable = true)\n",
            " |-- Preferred Foot: string (nullable = true)\n",
            " |-- International Reputation: integer (nullable = true)\n",
            " |-- Weak Foot: integer (nullable = true)\n",
            " |-- Skill Moves: integer (nullable = true)\n",
            " |-- Work Rate: string (nullable = true)\n",
            " |-- Body Type: string (nullable = true)\n",
            " |-- Real Face: string (nullable = true)\n",
            " |-- Position: string (nullable = true)\n",
            " |-- Jersey Number: integer (nullable = true)\n",
            " |-- Joined: string (nullable = true)\n",
            " |-- Loaned From: string (nullable = true)\n",
            " |-- Contract Valid Until: string (nullable = true)\n",
            " |-- Height: double (nullable = true)\n",
            " |-- Height(CM): double (nullable = true)\n",
            " |-- Weight: double (nullable = true)\n",
            " |-- Weight(KG): double (nullable = true)\n",
            " |-- Crossing: integer (nullable = true)\n",
            " |-- Finishing: integer (nullable = true)\n",
            " |-- HeadingAccuracy: integer (nullable = true)\n",
            " |-- ShortPassing: integer (nullable = true)\n",
            " |-- Volleys: integer (nullable = true)\n",
            " |-- Dribbling: integer (nullable = true)\n",
            " |-- Curve: integer (nullable = true)\n",
            " |-- FKAccuracy: integer (nullable = true)\n",
            " |-- LongPassing: integer (nullable = true)\n",
            " |-- BallControl: integer (nullable = true)\n",
            " |-- Acceleration: integer (nullable = true)\n",
            " |-- SprintSpeed: integer (nullable = true)\n",
            " |-- Agility: integer (nullable = true)\n",
            " |-- Reactions: integer (nullable = true)\n",
            " |-- Balance: integer (nullable = true)\n",
            " |-- ShotPower: integer (nullable = true)\n",
            " |-- Jumping: integer (nullable = true)\n",
            " |-- Stamina: integer (nullable = true)\n",
            " |-- Strength: integer (nullable = true)\n",
            " |-- LongShots: integer (nullable = true)\n",
            " |-- Aggression: integer (nullable = true)\n",
            " |-- Interceptions: integer (nullable = true)\n",
            " |-- Positioning: integer (nullable = true)\n",
            " |-- Vision: integer (nullable = true)\n",
            " |-- Penalties: integer (nullable = true)\n",
            " |-- Composure: integer (nullable = true)\n",
            " |-- Marking: integer (nullable = true)\n",
            " |-- StandingTackle: integer (nullable = true)\n",
            " |-- SlidingTackle: integer (nullable = true)\n",
            " |-- GKDiving: integer (nullable = true)\n",
            " |-- GKHandling: integer (nullable = true)\n",
            " |-- GKKicking: integer (nullable = true)\n",
            " |-- GKPositioning: integer (nullable = true)\n",
            " |-- GKReflexes: integer (nullable = true)\n",
            " |-- Release Clause(M): string (nullable = true)\n",
            " |-- Overall_2021: integer (nullable = true)\n",
            " |-- Potential_2021: integer (nullable = true)\n",
            " |-- Value_2021(M): double (nullable = true)\n",
            " |-- Gain in Two Years: double (nullable = true)\n",
            "\n"
          ],
          "name": "stdout"
        }
      ]
    },
    {
      "cell_type": "code",
      "metadata": {
        "colab": {
          "base_uri": "https://localhost:8080/"
        },
        "id": "3g2ZczcNtTBJ",
        "outputId": "ca855112-c3ed-4e59-9647-67e9b34773c7"
      },
      "source": [
        "regression_df.show(5)"
      ],
      "execution_count": 45,
      "outputs": [
        {
          "output_type": "stream",
          "text": [
            "+------+-----------------+---+--------------------+-----------+--------------------+------------+--------------+-------------------+--------------------+-------------+-------+-------+--------------+------------------------+---------+-----------+--------------+----------+---------+--------+-------------+------------+-----------+--------------------+------+----------+------+----------+--------+---------+---------------+------------+-------+---------+-----+----------+-----------+-----------+------------+-----------+-------+---------+-------+---------+-------+-------+--------+---------+----------+-------------+-----------+------+---------+---------+-------+--------------+-------------+--------+----------+---------+-------------+----------+-----------------+------------+--------------+-------------+-----------------+\n",
            "|    ID|             Name|Age|               Photo|Nationality|                Flag|Overall_2019|Potential_2019|               Club|           Club Logo|Value_2019(M)|wage(K)|Special|Preferred Foot|International Reputation|Weak Foot|Skill Moves|     Work Rate| Body Type|Real Face|Position|Jersey Number|      Joined|Loaned From|Contract Valid Until|Height|Height(CM)|Weight|Weight(KG)|Crossing|Finishing|HeadingAccuracy|ShortPassing|Volleys|Dribbling|Curve|FKAccuracy|LongPassing|BallControl|Acceleration|SprintSpeed|Agility|Reactions|Balance|ShotPower|Jumping|Stamina|Strength|LongShots|Aggression|Interceptions|Positioning|Vision|Penalties|Composure|Marking|StandingTackle|SlidingTackle|GKDiving|GKHandling|GKKicking|GKPositioning|GKReflexes|Release Clause(M)|Overall_2021|Potential_2021|Value_2021(M)|Gain in Two Years|\n",
            "+------+-----------------+---+--------------------+-----------+--------------------+------------+--------------+-------------------+--------------------+-------------+-------+-------+--------------+------------------------+---------+-----------+--------------+----------+---------+--------+-------------+------------+-----------+--------------------+------+----------+------+----------+--------+---------+---------------+------------+-------+---------+-----+----------+-----------+-----------+------------+-----------+-------+---------+-------+---------+-------+-------+--------+---------+----------+-------------+-----------+------+---------+---------+-------+--------------+-------------+--------+----------+---------+-------------+----------+-----------------+------------+--------------+-------------+-----------------+\n",
            "|158023|         L. Messi| 31|https://cdn.sofif...|  Argentina|https://cdn.sofif...|          94|            94|       FC Barcelona|https://cdn.sofif...|        110.5|    565|   2202|          Left|                       5|        4|          4|Medium/ Medium|     Messi|      Yes|      RF|           10| Jul 1, 2004|       null|                2021|   5.7|   173.736| 159.0| 72.121128|      84|       95|             70|          90|     86|       97|   93|        94|         87|         96|          91|         86|     91|       95|     95|       85|     68|     72|      59|       94|        48|           22|         94|    94|       75|       96|     33|            28|           26|       6|        11|       15|           14|         8|            226.5|          93|            93|         67.5|            -43.0|\n",
            "| 20801|Cristiano Ronaldo| 33|https://cdn.sofif...|   Portugal|https://cdn.sofif...|          94|            94|           Juventus|https://cdn.sofif...|         77.0|    405|   2228|         Right|                       5|        4|          5|     High/ Low|C. Ronaldo|      Yes|      ST|            7|Jul 10, 2018|       null|                2022|   6.2|   188.976| 183.0| 83.007336|      84|       94|             89|          81|     87|       88|   81|        76|         77|         94|          89|         91|     87|       96|     70|       95|     95|     88|      79|       93|        63|           29|         95|    82|       85|       95|     28|            31|           23|       7|        11|       15|           14|        11|            127.1|          92|            92|         46.0|            -31.0|\n",
            "|190871|        Neymar Jr| 26|https://cdn.sofif...|     Brazil|https://cdn.sofif...|          92|            93|Paris Saint-Germain|https://cdn.sofif...|        118.5|    290|   2143|         Right|                       5|        5|          5|  High/ Medium|    Neymar|      Yes|      LW|           10| Aug 3, 2017|       null|                2022|   5.9|   179.832| 150.0|   68.0388|      79|       87|             62|          84|     84|       96|   88|        87|         78|         95|          94|         90|     96|       94|     84|       80|     61|     81|      49|       82|        56|           36|         89|    87|       81|       94|     27|            24|           33|       9|         9|       15|           15|        11|            228.1|          91|            91|         90.0|            -28.5|\n",
            "|192985|     K. De Bruyne| 27|https://cdn.sofif...|    Belgium|https://cdn.sofif...|          91|            92|    Manchester City|https://cdn.sofif...|        102.0|    355|   2281|         Right|                       4|        5|          4|    High/ High|    Normal|      Yes|     RCM|            7|Aug 30, 2015|       null|                2023|  5.11|  155.7528| 154.0| 69.853168|      93|       82|             55|          92|     82|       86|   85|        83|         91|         91|          78|         76|     79|       91|     77|       91|     63|     90|      75|       91|        76|           61|         87|    94|       79|       88|     68|            58|           51|      15|        13|        5|           10|        13|            196.4|          91|            91|         87.0|            -15.0|\n",
            "|183277|        E. Hazard| 27|https://cdn.sofif...|    Belgium|https://cdn.sofif...|          91|            91|            Chelsea|https://cdn.sofif...|         93.0|    340|   2142|         Right|                       4|        4|          4|  High/ Medium|    Normal|      Yes|      LF|           10| Jul 1, 2012|       null|                2020|   5.8|   176.784| 163.0| 73.935496|      81|       84|             61|          89|     80|       95|   83|        79|         83|         94|          94|         88|     95|       90|     94|       82|     56|     83|      66|       80|        54|           41|         87|    89|       86|       91|     34|            27|           22|      11|        12|        6|            8|         8|            172.1|          88|            88|         58.0|            -35.0|\n",
            "+------+-----------------+---+--------------------+-----------+--------------------+------------+--------------+-------------------+--------------------+-------------+-------+-------+--------------+------------------------+---------+-----------+--------------+----------+---------+--------+-------------+------------+-----------+--------------------+------+----------+------+----------+--------+---------+---------------+------------+-------+---------+-----+----------+-----------+-----------+------------+-----------+-------+---------+-------+---------+-------+-------+--------+---------+----------+-------------+-----------+------+---------+---------+-------+--------------+-------------+--------+----------+---------+-------------+----------+-----------------+------------+--------------+-------------+-----------------+\n",
            "only showing top 5 rows\n",
            "\n"
          ],
          "name": "stdout"
        }
      ]
    },
    {
      "cell_type": "markdown",
      "metadata": {
        "id": "LJUWIYtEtm_I"
      },
      "source": [
        "DataFrame for Classification"
      ]
    },
    {
      "cell_type": "code",
      "metadata": {
        "id": "rk_4RlvNtrZu"
      },
      "source": [
        "# creating a pipeline to generate dataframe for classification\n",
        "pipeline_classification = Pipeline(stages=[value_manipulation, value_standardisation, classification_target])\n",
        "# fitting the pipeline model and transforming the data as defined\n",
        "pipeline_model2 = pipeline_classification.fit(df)\n",
        "classification_df = pipeline_model2.transform(df)"
      ],
      "execution_count": 46,
      "outputs": []
    },
    {
      "cell_type": "code",
      "metadata": {
        "colab": {
          "base_uri": "https://localhost:8080/"
        },
        "id": "VhqKtlrgt7Vu",
        "outputId": "5958490d-fecd-4ea8-bf06-13f6562fa8f6"
      },
      "source": [
        "classification_df.printSchema()"
      ],
      "execution_count": 47,
      "outputs": [
        {
          "output_type": "stream",
          "text": [
            "root\n",
            " |-- ID: integer (nullable = true)\n",
            " |-- Name: string (nullable = true)\n",
            " |-- Age: integer (nullable = true)\n",
            " |-- Photo: string (nullable = true)\n",
            " |-- Nationality: string (nullable = true)\n",
            " |-- Flag: string (nullable = true)\n",
            " |-- Overall_2019: integer (nullable = true)\n",
            " |-- Potential_2019: integer (nullable = true)\n",
            " |-- Club: string (nullable = true)\n",
            " |-- Club Logo: string (nullable = true)\n",
            " |-- Value_2019(M): float (nullable = true)\n",
            " |-- wage(K): integer (nullable = true)\n",
            " |-- Special: integer (nullable = true)\n",
            " |-- Preferred Foot: string (nullable = true)\n",
            " |-- International Reputation: integer (nullable = true)\n",
            " |-- Weak Foot: integer (nullable = true)\n",
            " |-- Skill Moves: integer (nullable = true)\n",
            " |-- Work Rate: string (nullable = true)\n",
            " |-- Body Type: string (nullable = true)\n",
            " |-- Real Face: string (nullable = true)\n",
            " |-- Position: string (nullable = true)\n",
            " |-- Jersey Number: integer (nullable = true)\n",
            " |-- Joined: string (nullable = true)\n",
            " |-- Loaned From: string (nullable = true)\n",
            " |-- Contract Valid Until: string (nullable = true)\n",
            " |-- Height: double (nullable = true)\n",
            " |-- Height(CM): double (nullable = true)\n",
            " |-- Weight: double (nullable = true)\n",
            " |-- Weight(KG): double (nullable = true)\n",
            " |-- Crossing: integer (nullable = true)\n",
            " |-- Finishing: integer (nullable = true)\n",
            " |-- HeadingAccuracy: integer (nullable = true)\n",
            " |-- ShortPassing: integer (nullable = true)\n",
            " |-- Volleys: integer (nullable = true)\n",
            " |-- Dribbling: integer (nullable = true)\n",
            " |-- Curve: integer (nullable = true)\n",
            " |-- FKAccuracy: integer (nullable = true)\n",
            " |-- LongPassing: integer (nullable = true)\n",
            " |-- BallControl: integer (nullable = true)\n",
            " |-- Acceleration: integer (nullable = true)\n",
            " |-- SprintSpeed: integer (nullable = true)\n",
            " |-- Agility: integer (nullable = true)\n",
            " |-- Reactions: integer (nullable = true)\n",
            " |-- Balance: integer (nullable = true)\n",
            " |-- ShotPower: integer (nullable = true)\n",
            " |-- Jumping: integer (nullable = true)\n",
            " |-- Stamina: integer (nullable = true)\n",
            " |-- Strength: integer (nullable = true)\n",
            " |-- LongShots: integer (nullable = true)\n",
            " |-- Aggression: integer (nullable = true)\n",
            " |-- Interceptions: integer (nullable = true)\n",
            " |-- Positioning: integer (nullable = true)\n",
            " |-- Vision: integer (nullable = true)\n",
            " |-- Penalties: integer (nullable = true)\n",
            " |-- Composure: integer (nullable = true)\n",
            " |-- Marking: integer (nullable = true)\n",
            " |-- StandingTackle: integer (nullable = true)\n",
            " |-- SlidingTackle: integer (nullable = true)\n",
            " |-- GKDiving: integer (nullable = true)\n",
            " |-- GKHandling: integer (nullable = true)\n",
            " |-- GKKicking: integer (nullable = true)\n",
            " |-- GKPositioning: integer (nullable = true)\n",
            " |-- GKReflexes: integer (nullable = true)\n",
            " |-- Release Clause(M): string (nullable = true)\n",
            " |-- Overall_2021: integer (nullable = true)\n",
            " |-- Potential_2021: integer (nullable = true)\n",
            " |-- Value_2021(M): double (nullable = true)\n",
            " |-- Growth_Level: string (nullable = true)\n",
            "\n"
          ],
          "name": "stdout"
        }
      ]
    },
    {
      "cell_type": "code",
      "metadata": {
        "colab": {
          "base_uri": "https://localhost:8080/"
        },
        "id": "UKYOH0TMuOjN",
        "outputId": "76c795fe-cfa1-4a6e-9739-d2f9004d58c3"
      },
      "source": [
        "classification_df.show(5)"
      ],
      "execution_count": 48,
      "outputs": [
        {
          "output_type": "stream",
          "text": [
            "+------+-----------------+---+--------------------+-----------+--------------------+------------+--------------+-------------------+--------------------+-------------+-------+-------+--------------+------------------------+---------+-----------+--------------+----------+---------+--------+-------------+------------+-----------+--------------------+------+----------+------+----------+--------+---------+---------------+------------+-------+---------+-----+----------+-----------+-----------+------------+-----------+-------+---------+-------+---------+-------+-------+--------+---------+----------+-------------+-----------+------+---------+---------+-------+--------------+-------------+--------+----------+---------+-------------+----------+-----------------+------------+--------------+-------------+------------+\n",
            "|    ID|             Name|Age|               Photo|Nationality|                Flag|Overall_2019|Potential_2019|               Club|           Club Logo|Value_2019(M)|wage(K)|Special|Preferred Foot|International Reputation|Weak Foot|Skill Moves|     Work Rate| Body Type|Real Face|Position|Jersey Number|      Joined|Loaned From|Contract Valid Until|Height|Height(CM)|Weight|Weight(KG)|Crossing|Finishing|HeadingAccuracy|ShortPassing|Volleys|Dribbling|Curve|FKAccuracy|LongPassing|BallControl|Acceleration|SprintSpeed|Agility|Reactions|Balance|ShotPower|Jumping|Stamina|Strength|LongShots|Aggression|Interceptions|Positioning|Vision|Penalties|Composure|Marking|StandingTackle|SlidingTackle|GKDiving|GKHandling|GKKicking|GKPositioning|GKReflexes|Release Clause(M)|Overall_2021|Potential_2021|Value_2021(M)|Growth_Level|\n",
            "+------+-----------------+---+--------------------+-----------+--------------------+------------+--------------+-------------------+--------------------+-------------+-------+-------+--------------+------------------------+---------+-----------+--------------+----------+---------+--------+-------------+------------+-----------+--------------------+------+----------+------+----------+--------+---------+---------------+------------+-------+---------+-----+----------+-----------+-----------+------------+-----------+-------+---------+-------+---------+-------+-------+--------+---------+----------+-------------+-----------+------+---------+---------+-------+--------------+-------------+--------+----------+---------+-------------+----------+-----------------+------------+--------------+-------------+------------+\n",
            "|158023|         L. Messi| 31|https://cdn.sofif...|  Argentina|https://cdn.sofif...|          94|            94|       FC Barcelona|https://cdn.sofif...|        110.5|    565|   2202|          Left|                       5|        4|          4|Medium/ Medium|     Messi|      Yes|      RF|           10| Jul 1, 2004|       null|                2021|   5.7|   173.736| 159.0| 72.121128|      84|       95|             70|          90|     86|       97|   93|        94|         87|         96|          91|         86|     91|       95|     95|       85|     68|     72|      59|       94|        48|           22|         94|    94|       75|       96|     33|            28|           26|       6|        11|       15|           14|         8|            226.5|          93|            93|         67.5|   No_Growth|\n",
            "| 20801|Cristiano Ronaldo| 33|https://cdn.sofif...|   Portugal|https://cdn.sofif...|          94|            94|           Juventus|https://cdn.sofif...|         77.0|    405|   2228|         Right|                       5|        4|          5|     High/ Low|C. Ronaldo|      Yes|      ST|            7|Jul 10, 2018|       null|                2022|   6.2|   188.976| 183.0| 83.007336|      84|       94|             89|          81|     87|       88|   81|        76|         77|         94|          89|         91|     87|       96|     70|       95|     95|     88|      79|       93|        63|           29|         95|    82|       85|       95|     28|            31|           23|       7|        11|       15|           14|        11|            127.1|          92|            92|         46.0|   No_Growth|\n",
            "|190871|        Neymar Jr| 26|https://cdn.sofif...|     Brazil|https://cdn.sofif...|          92|            93|Paris Saint-Germain|https://cdn.sofif...|        118.5|    290|   2143|         Right|                       5|        5|          5|  High/ Medium|    Neymar|      Yes|      LW|           10| Aug 3, 2017|       null|                2022|   5.9|   179.832| 150.0|   68.0388|      79|       87|             62|          84|     84|       96|   88|        87|         78|         95|          94|         90|     96|       94|     84|       80|     61|     81|      49|       82|        56|           36|         89|    87|       81|       94|     27|            24|           33|       9|         9|       15|           15|        11|            228.1|          91|            91|         90.0|   No_Growth|\n",
            "|192985|     K. De Bruyne| 27|https://cdn.sofif...|    Belgium|https://cdn.sofif...|          91|            92|    Manchester City|https://cdn.sofif...|        102.0|    355|   2281|         Right|                       4|        5|          4|    High/ High|    Normal|      Yes|     RCM|            7|Aug 30, 2015|       null|                2023|  5.11|  155.7528| 154.0| 69.853168|      93|       82|             55|          92|     82|       86|   85|        83|         91|         91|          78|         76|     79|       91|     77|       91|     63|     90|      75|       91|        76|           61|         87|    94|       79|       88|     68|            58|           51|      15|        13|        5|           10|        13|            196.4|          91|            91|         87.0|   No_Growth|\n",
            "|183277|        E. Hazard| 27|https://cdn.sofif...|    Belgium|https://cdn.sofif...|          91|            91|            Chelsea|https://cdn.sofif...|         93.0|    340|   2142|         Right|                       4|        4|          4|  High/ Medium|    Normal|      Yes|      LF|           10| Jul 1, 2012|       null|                2020|   5.8|   176.784| 163.0| 73.935496|      81|       84|             61|          89|     80|       95|   83|        79|         83|         94|          94|         88|     95|       90|     94|       82|     56|     83|      66|       80|        54|           41|         87|    89|       86|       91|     34|            27|           22|      11|        12|        6|            8|         8|            172.1|          88|            88|         58.0|   No_Growth|\n",
            "+------+-----------------+---+--------------------+-----------+--------------------+------------+--------------+-------------------+--------------------+-------------+-------+-------+--------------+------------------------+---------+-----------+--------------+----------+---------+--------+-------------+------------+-----------+--------------------+------+----------+------+----------+--------+---------+---------------+------------+-------+---------+-----+----------+-----------+-----------+------------+-----------+-------+---------+-------+---------+-------+-------+--------+---------+----------+-------------+-----------+------+---------+---------+-------+--------------+-------------+--------+----------+---------+-------------+----------+-----------------+------------+--------------+-------------+------------+\n",
            "only showing top 5 rows\n",
            "\n"
          ],
          "name": "stdout"
        }
      ]
    },
    {
      "cell_type": "markdown",
      "metadata": {
        "id": "gMqIOge42NI7"
      },
      "source": [
        "## Part 2 - Unsupervised Learning: Kmeans\n",
        "\n",
        "\n",
        "\n",
        "\n",
        "### 2.1 Data Preparation\n",
        "***"
      ]
    },
    {
      "cell_type": "markdown",
      "metadata": {
        "id": "TmD6rRmtxW45"
      },
      "source": [
        "In this stage, we perform clustering of players after grouping them in three groups, DEF, MID and FWD, based on their attributes. Later, we analyse what type of positions are mainly included in each cluster. Also, for clustering purpose, we use classification_df dataframe as in regression_df we have removed some records for players containing missing values in Value column, and since Value column is not relevant in clustering having missing values in that column won't affect our cluster analysis."
      ]
    },
    {
      "cell_type": "code",
      "metadata": {
        "colab": {
          "base_uri": "https://localhost:8080/"
        },
        "id": "vBeISm5gE3Mb",
        "outputId": "1e51858d-4259-4e56-8828-baa0399df18f"
      },
      "source": [
        "# removing the position GK and storing in a new dataframe\n",
        "df_filtered = df.filter(df['Position'] != 'GK')\n",
        "# viewing the unique values in the filtered dataframe and check if GK has been removed\n",
        "df_filtered.count()"
      ],
      "execution_count": null,
      "outputs": [
        {
          "output_type": "execute_result",
          "data": {
            "text/plain": [
              "16122"
            ]
          },
          "metadata": {
            "tags": []
          },
          "execution_count": 52
        }
      ]
    },
    {
      "cell_type": "code",
      "metadata": {
        "colab": {
          "base_uri": "https://localhost:8080/"
        },
        "id": "LdATCE9D_-H6",
        "outputId": "79c7bb09-349e-47a8-ca1d-61fdb6a4f1e2"
      },
      "source": [
        "# rough\n",
        "regression_df.count()"
      ],
      "execution_count": 49,
      "outputs": [
        {
          "output_type": "execute_result",
          "data": {
            "text/plain": [
              "16010"
            ]
          },
          "metadata": {
            "tags": []
          },
          "execution_count": 49
        }
      ]
    },
    {
      "cell_type": "code",
      "metadata": {
        "colab": {
          "base_uri": "https://localhost:8080/"
        },
        "id": "ateyDVa8EvBk",
        "outputId": "ad8e1862-a9e7-450d-8aa5-ed46720b2672"
      },
      "source": [
        "df.count()"
      ],
      "execution_count": 50,
      "outputs": [
        {
          "output_type": "execute_result",
          "data": {
            "text/plain": [
              "18207"
            ]
          },
          "metadata": {
            "tags": []
          },
          "execution_count": 50
        }
      ]
    },
    {
      "cell_type": "code",
      "metadata": {
        "colab": {
          "base_uri": "https://localhost:8080/"
        },
        "id": "AHYt8Es8Ewyt",
        "outputId": "9962cd41-6b1e-466d-9c6c-8ac7945d1e26"
      },
      "source": [
        "classification_df.count()"
      ],
      "execution_count": 51,
      "outputs": [
        {
          "output_type": "execute_result",
          "data": {
            "text/plain": [
              "16122"
            ]
          },
          "metadata": {
            "tags": []
          },
          "execution_count": 51
        }
      ]
    },
    {
      "cell_type": "markdown",
      "metadata": {
        "id": "kVLBzBId9iCk"
      },
      "source": [
        "To make the later stage easier, we define the position group by using the position feature (attributes on Position).\n",
        "- DEF = [LB,LWB,RB,LCB,RCB,CB,RWB] ,\n",
        "- FWD = [RF,LF,LW,RS,RW,LS,CF,ST] ,\n",
        "- MID = [LCM,LM,RDM,CAM,RAM,RCM,CM,CDM,RM,LAM,LDM]"
      ]
    },
    {
      "cell_type": "code",
      "metadata": {
        "colab": {
          "base_uri": "https://localhost:8080/"
        },
        "id": "X4N6edcq5kE_",
        "outputId": "27dbf24e-468f-46cb-c108-8e3f150dac69"
      },
      "source": [
        "from pyspark.sql.functions import when,col\n",
        "\n",
        "# creating a list of specific positions\n",
        "DEF = ['LB','LWB','RB','LCB','RCB','CB','RWB']\n",
        "FWD = ['RF','LF','LW','RS','RW','LS','CF','ST']  \n",
        "MID = ['LCM','LM','RDM','CAM','RAM','RCM','CM','CDM','RM','LAM','LDM'] \n",
        "\n",
        "# creating a new column which stores values based on conditions\n",
        "df_kmeans_new = classification_df.withColumn('Position_Group',F.when(F.col('Position').isin(DEF),'DEF')\\\n",
        "                                  .when(F.col('Position').isin(FWD),'FWD')\\\n",
        "                                  .when(F.col('Position').isin(MID),'MID').otherwise(0))\n",
        "# checking if correct group has been assigned for specific playing positions\n",
        "df_kmeans_new.select('Position','Position_Group').distinct().show(50)"
      ],
      "execution_count": 52,
      "outputs": [
        {
          "output_type": "stream",
          "text": [
            "+--------+--------------+\n",
            "|Position|Position_Group|\n",
            "+--------+--------------+\n",
            "|     LCB|           DEF|\n",
            "|      LS|           FWD|\n",
            "|     RCB|           DEF|\n",
            "|      ST|           FWD|\n",
            "|      CF|           FWD|\n",
            "|     RAM|           MID|\n",
            "|     RCM|           MID|\n",
            "|     LCM|           MID|\n",
            "|      CM|           MID|\n",
            "|      LF|           FWD|\n",
            "|      RW|           FWD|\n",
            "|      LB|           DEF|\n",
            "|     CDM|           MID|\n",
            "|     LDM|           MID|\n",
            "|     RDM|           MID|\n",
            "|      LM|           MID|\n",
            "|     LWB|           DEF|\n",
            "|      RB|           DEF|\n",
            "|      LW|           FWD|\n",
            "|      RS|           FWD|\n",
            "|     LAM|           MID|\n",
            "|     RWB|           DEF|\n",
            "|      RM|           MID|\n",
            "|      CB|           DEF|\n",
            "|      RF|           FWD|\n",
            "|     CAM|           MID|\n",
            "+--------+--------------+\n",
            "\n"
          ],
          "name": "stdout"
        }
      ]
    },
    {
      "cell_type": "markdown",
      "metadata": {
        "id": "R-NyFp7IBtGZ"
      },
      "source": [
        "Now, we create a feature vector from different features of a player. We only take the feature vector for clustering purpose removing the Position_Group and Position to create the feature for Kmeans\n",
        "\n",
        "\n"
      ]
    },
    {
      "cell_type": "code",
      "metadata": {
        "colab": {
          "base_uri": "https://localhost:8080/"
        },
        "id": "2x_o_w54B-mN",
        "outputId": "d7377869-8702-4959-a196-c12da25f6e4b"
      },
      "source": [
        "from pyspark.ml.clustering import KMeans\n",
        "from pyspark.ml.feature import VectorAssembler\n",
        "\n",
        "features_col = ['Height(CM)', 'Weight(KG)', \n",
        "                      'Crossing', 'Finishing', 'HeadingAccuracy', \n",
        "                      'ShortPassing', 'Volleys', 'Dribbling', 'Curve',\n",
        "                      'FKAccuracy', 'LongPassing', 'BallControl', \n",
        "                      'Acceleration', 'SprintSpeed', 'Agility', \n",
        "                      'Reactions', 'Balance', 'ShotPower', 'Jumping', \n",
        "                      'Stamina', 'Strength', 'LongShots', 'Aggression', \n",
        "                      'Interceptions', 'Positioning', 'Vision', 'Penalties', \n",
        "                      'Composure', 'Marking', 'StandingTackle', 'SlidingTackle']\n",
        "\n",
        "vec_assembler = VectorAssembler(inputCols=features_col, outputCol='features')\n",
        "# selecting only ID and features, which is the feature vector in a new dataframe\n",
        "df_kmeans = vec_assembler.transform(df_kmeans_new).select('ID','features')\n",
        "df_kmeans.show(3)"
      ],
      "execution_count": 53,
      "outputs": [
        {
          "output_type": "stream",
          "text": [
            "+------+--------------------+\n",
            "|    ID|            features|\n",
            "+------+--------------------+\n",
            "|158023|[173.736,72.12112...|\n",
            "| 20801|[188.976,83.00733...|\n",
            "|190871|[179.832,68.0388,...|\n",
            "+------+--------------------+\n",
            "only showing top 3 rows\n",
            "\n"
          ],
          "name": "stdout"
        }
      ]
    },
    {
      "cell_type": "markdown",
      "metadata": {
        "id": "UniVGeYIDa_k"
      },
      "source": [
        "Now we plot the elbow plot to determine the optimum number of clusters for our dataset. We test with a range of cluster numbers from 2 to 20."
      ]
    },
    {
      "cell_type": "code",
      "metadata": {
        "id": "UDia7JYyDLhg"
      },
      "source": [
        "# creating an array to store the within sum of squared errors for different cluster numbers\n",
        "cost = np.zeros(21)\n",
        "\n",
        "for k in range(2,21):\n",
        "    # initialising k means with seed value to enable reproducability and fitting the model to df_kmeans\n",
        "    kmeans_iter = KMeans().setK(k).setSeed(2020)\n",
        "    model = kmeans_iter.fit(df_kmeans)\n",
        "    # storing the within sum of squared errors in the cost array\n",
        "    cost[k] = model.computeCost(df_kmeans)"
      ],
      "execution_count": 54,
      "outputs": []
    },
    {
      "cell_type": "code",
      "metadata": {
        "colab": {
          "base_uri": "https://localhost:8080/",
          "height": 417
        },
        "id": "Mr-bSnj5EA1l",
        "outputId": "da986022-d99a-4c48-f095-41001bba6541"
      },
      "source": [
        "fig, ax = plt.subplots(1,1, figsize =(8,6))\n",
        "ax.set_xlabel('k')\n",
        "ax.set_ylabel('cost')\n",
        "\n",
        "#plotting the within sum of squared errors for each cluster number\n",
        "ax.plot(range(2,21),cost[2:21])"
      ],
      "execution_count": 55,
      "outputs": [
        {
          "output_type": "execute_result",
          "data": {
            "text/plain": [
              "[<matplotlib.lines.Line2D at 0x7f177c898150>]"
            ]
          },
          "metadata": {
            "tags": []
          },
          "execution_count": 55
        },
        {
          "output_type": "display_data",
          "data": {
            "image/png": "[encoded data removed]",
            "text/plain": [
              "<Figure size 576x432 with 1 Axes>"
            ]
          },
          "metadata": {
            "tags": [],
            "needs_background": "light"
          }
        }
      ]
    },
    {
      "cell_type": "markdown",
      "metadata": {
        "id": "i4Q9C1kKxW49"
      },
      "source": [
        "From the above plot, it can be seen that after k=8 there is not a steep decline in the cost (sum of squared error), so we take k=8 as our elbow point. For clustering, we take 8 as the ideal number of clusters."
      ]
    },
    {
      "cell_type": "markdown",
      "metadata": {
        "id": "XupecQFHE5Za"
      },
      "source": [
        "\n",
        "### 2.2 K-Means\n",
        "***\n",
        "\n"
      ]
    },
    {
      "cell_type": "code",
      "metadata": {
        "colab": {
          "base_uri": "https://localhost:8080/"
        },
        "id": "LxSOxcowE6vB",
        "outputId": "a232dd3e-9596-4bcf-ceae-92c1760a472b"
      },
      "source": [
        "k = 8\n",
        "\n",
        "kmeans = KMeans().setK(k).setSeed(2020)\n",
        "model = kmeans.fit(df_kmeans)\n",
        "# assigning the cluster centers\n",
        "print('***Cluster Centres***')\n",
        "cluster_centers = model.clusterCenters()\n",
        "for i in cluster_centers:\n",
        "  print(i) # printing the centers"
      ],
      "execution_count": 56,
      "outputs": [
        {
          "output_type": "stream",
          "text": [
            "***Cluster Centres***\n",
            "[185.31495491  79.65976768  32.77394408  24.74895895  62.62522308\n",
            "  50.86079714  27.50089233  36.57406306  29.23022011  28.58953004\n",
            "  43.74776919  47.08685306  55.09220702  56.6097561   49.00237954\n",
            "  56.5056514   52.90422368  42.62938727  68.55978584  61.56692445\n",
            "  74.70493754  26.34622249  62.74538965  60.69363474  28.58060678\n",
            "  34.55205235  37.14931588  53.29565735  61.76085663  64.85246877\n",
            "  62.20107079]\n",
            "[173.32242564  74.68080605  68.73818577  59.31504617  60.89570885\n",
            "  74.44486692  59.38511678  71.22053232  68.15209125  63.67028789\n",
            "  71.1922868   73.79739272  68.86040196  68.0032591   71.15643672\n",
            "  71.85659967  70.43400326  73.11406844  68.26941879  76.1667572\n",
            "  69.41879413  68.24551874  71.51330798  68.88919066  66.30852797\n",
            "  70.11624117  61.4741988   71.4263987   66.1700163   68.99022271\n",
            "  65.78815861]\n",
            "[171.31033837  71.90209742  51.98690836  33.60775428  51.13141994\n",
            "  57.00906344  32.35397784  55.21903323  40.13796576  35.9572004\n",
            "  50.55991944  56.16968781  68.33534743  67.83635448  64.76686808\n",
            "  56.34793555  68.00251762  43.94159114  64.79154079  65.6470292\n",
            "  60.80765358  35.65055388  58.37009063  56.14400806  46.55387714\n",
            "  46.25478348  40.75981873  50.26888218  56.          59.32980866\n",
            "  58.1570997 ]\n",
            "[171.02861322  69.02973471  54.8128179   54.45981689  42.95218718\n",
            "  59.90844354  47.81790437  63.76958291  52.18514751  46.00559512\n",
            "  53.45422177  62.48880977  73.74720244  72.6612411   72.45167854\n",
            "  54.43540183  73.99949135  57.68311292  56.75788403  58.63224822\n",
            "  50.66531027  50.40437436  42.34231943  30.34282808  55.74364191\n",
            "  56.37894201  52.21312309  54.67192269  35.73245168  34.14649034\n",
            "  33.25178026]\n",
            "[171.11189896  72.81066991  60.29331942  48.12073765  54.89909534\n",
            "  66.23173278  45.08629088  63.33820459  55.12456507  49.29088379\n",
            "  62.10229645  65.48886569  70.072373    69.85142658  69.85490605\n",
            "  63.3315936   70.07863605  61.10125261  67.48538622  73.23625609\n",
            "  65.46624913  54.1861517   65.32254697  61.78183716  56.99304106\n",
            "  59.18197634  49.62421712  61.50835073  60.6203897   63.59116214\n",
            "  61.43319415]\n",
            "[172.34539719  73.12139013  65.08422791  68.4657308   57.43393889\n",
            "  68.8492981   64.27085054  73.04541701  66.75227085  61.10982659\n",
            "  60.75763832  72.65937242  76.24938068  75.48926507  76.85466557\n",
            "  68.55491329  73.41701073  71.29603633  66.27869529  69.03798514\n",
            "  63.41866226  67.23410405  56.09372419  35.87365813  70.2192403\n",
            "  67.39223782  64.96985962  68.43559042  37.00412882  34.28612717\n",
            "  30.79149463]\n",
            "[185.57921226  80.57224791  48.56194125  37.14878672  69.14814815\n",
            "  64.95210728  37.04533844  52.84418902  42.949553    40.38633461\n",
            "  61.43550447  61.29054917  56.67943806  58.89655172  55.02298851\n",
            "  65.99936143  54.68710089  58.55172414  69.8339719   68.27330779\n",
            "  78.40293742  44.34610473  72.82503193  69.41890166  42.22541507\n",
            "  50.48978289  45.94827586  64.43358876  68.89463602  70.99233716\n",
            "  68.5       ]\n",
            "[178.99166674  77.17819626  41.5         64.58790594  62.40817469\n",
            "  54.6237402   54.05767077  60.1881299   45.9406495   38.38241881\n",
            "  40.60470325  61.21668533  67.20268757  68.55823068  63.5162374\n",
            "  58.93505039  61.30291153  63.82138858  66.81578947  62.50111982\n",
            "  69.61702128  56.82922732  48.51119821  22.2956327   62.54479283\n",
            "  51.52407615  61.19932811  56.62653975  27.11534155  21.86170213\n",
            "  19.73964166]\n"
          ],
          "name": "stdout"
        }
      ]
    },
    {
      "cell_type": "code",
      "metadata": {
        "colab": {
          "base_uri": "https://localhost:8080/"
        },
        "id": "AkWZ5-6oFlpp",
        "outputId": "7d6c6fe5-fd39-4829-9119-cf8e2e799ba6"
      },
      "source": [
        "# assigning the unique column to a cluster center while taking off the features column using transform method\n",
        "predictions = model.transform(df_kmeans).select('ID','prediction')\n",
        "# assigning the list of predicted ids\n",
        "predictions_list = predictions.collect()\n",
        "\n",
        "# # instantiating a sqlContext object\n",
        "# sqlContext = SQLContext(spark)\n",
        "# creating a dataframe using SQLContext object\n",
        "df_prediction = sqlContext.createDataFrame(predictions_list)\n",
        "df_prediction.show(10)"
      ],
      "execution_count": 57,
      "outputs": [
        {
          "output_type": "stream",
          "text": [
            "+------+----------+\n",
            "|    ID|prediction|\n",
            "+------+----------+\n",
            "|158023|         5|\n",
            "| 20801|         5|\n",
            "|190871|         5|\n",
            "|192985|         1|\n",
            "|183277|         5|\n",
            "|177003|         1|\n",
            "|176580|         5|\n",
            "|155862|         1|\n",
            "|188545|         5|\n",
            "|182521|         1|\n",
            "+------+----------+\n",
            "only showing top 10 rows\n",
            "\n"
          ],
          "name": "stdout"
        }
      ]
    },
    {
      "cell_type": "code",
      "metadata": {
        "colab": {
          "base_uri": "https://localhost:8080/"
        },
        "id": "UYeUV5w2xW4-",
        "outputId": "35e087ae-f8bc-4a39-9f0c-10599f7653e2"
      },
      "source": [
        "# joining the original dataframe containing Position_Group to the prediction dataframe using common column ID\n",
        "df_prediction_complete = df_prediction.join(df_kmeans_new,'ID')\n",
        "df_prediction_complete.show()"
      ],
      "execution_count": 58,
      "outputs": [
        {
          "output_type": "stream",
          "text": [
            "+------+----------+-----------------+---+--------------------+--------------+--------------------+------------+--------------+--------------------+--------------------+-------------+-------+-------+--------------+------------------------+---------+-----------+--------------+---------+---------+--------+-------------+------------+-----------+--------------------+------+----------+------+----------+--------+---------+---------------+------------+-------+---------+-----+----------+-----------+-----------+------------+-----------+-------+---------+-------+---------+-------+-------+--------+---------+----------+-------------+-----------+------+---------+---------+-------+--------------+-------------+--------+----------+---------+-------------+----------+-----------------+------------+--------------+-------------+------------+--------------+\n",
            "|    ID|prediction|             Name|Age|               Photo|   Nationality|                Flag|Overall_2019|Potential_2019|                Club|           Club Logo|Value_2019(M)|wage(K)|Special|Preferred Foot|International Reputation|Weak Foot|Skill Moves|     Work Rate|Body Type|Real Face|Position|Jersey Number|      Joined|Loaned From|Contract Valid Until|Height|Height(CM)|Weight|Weight(KG)|Crossing|Finishing|HeadingAccuracy|ShortPassing|Volleys|Dribbling|Curve|FKAccuracy|LongPassing|BallControl|Acceleration|SprintSpeed|Agility|Reactions|Balance|ShotPower|Jumping|Stamina|Strength|LongShots|Aggression|Interceptions|Positioning|Vision|Penalties|Composure|Marking|StandingTackle|SlidingTackle|GKDiving|GKHandling|GKKicking|GKPositioning|GKReflexes|Release Clause(M)|Overall_2021|Potential_2021|Value_2021(M)|Growth_Level|Position_Group|\n",
            "+------+----------+-----------------+---+--------------------+--------------+--------------------+------------+--------------+--------------------+--------------------+-------------+-------+-------+--------------+------------------------+---------+-----------+--------------+---------+---------+--------+-------------+------------+-----------+--------------------+------+----------+------+----------+--------+---------+---------------+------------+-------+---------+-----+----------+-----------+-----------+------------+-----------+-------+---------+-------+---------+-------+-------+--------+---------+----------+-------------+-----------+------+---------+---------+-------+--------------+-------------+--------+----------+---------+-------------+----------+-----------------+------------+--------------+-------------+------------+--------------+\n",
            "|115909|         5|    Rub��n Castro| 37|https://cdn.sofif...|         Spain|https://cdn.sofif...|          77|            77|       UD Las Palmas|https://cdn.sofif...|          3.2|     11|   1860|         Right|                       2|        3|          3|   Medium/ Low|   Normal|       No|      ST|            7|Jul 13, 2018|       null|                2020|   5.7|   173.736| 150.0|   68.0388|      60|       81|             71|          67|     70|       80|   69|        68|         45|         78|          77|         73|     85|       83|     77|       74|     76|     55|      57|       75|        50|           37|         83|    74|       76|       68|     36|            12|           14|      14|         8|       15|            8|        12|              5.1|          71|            71|          0.7|   No_Growth|           FWD|\n",
            "|137114|         0|         M. Ciani| 34|https://cdn.sofif...|        France|https://cdn.sofif...|          69|            69|           LA Galaxy|https://cdn.sofif...|        0.325|      4|   1416|         Right|                       2|        3|          2|Medium/ Medium|   Normal|      Yes|      CB|           28| Sep 2, 2017|       null|                2021|   6.4|   195.072| 194.0| 87.996848|      30|       26|             72|          55|     16|       38|   19|        55|         61|         46|          33|         35|     31|       54|     32|       79|     63|     58|      92|       44|        80|           71|         33|    24|       25|       54|     60|            69|           63|      15|         6|        9|            7|        15|             488K|        null|             0|         null|   No_Growth|           DEF|\n",
            "|155264|         6|       V. Demidov| 31|https://cdn.sofif...|        Norway|https://cdn.sofif...|          65|            65|      Stab?k Fotball|https://cdn.sofif...|        0.375|      1|   1509|         Right|                       1|        3|          2|Medium/ Medium|   Normal|       No|     LCB|            4| Mar 7, 2018|       null|                2019|   6.1|   185.928| 176.0| 79.832192|      36|       39|             67|          65|     41|       29|   43|        45|         65|         44|          37|         36|     52|       55|     34|       62|     61|     55|      74|       51|        73|           66|         38|    37|       41|       47|     65|            63|           65|      13|        16|       11|           15|        15|             469K|        null|             0|         null|   No_Growth|           DEF|\n",
            "|161468|         4|      P. Gui?az��| 39|https://cdn.sofif...|     Argentina|https://cdn.sofif...|          75|            75|Club Atl��tico Ta...|https://cdn.sofif...|         0.45|     10|   1876|          Left|                       1|        3|          3|     Low/ High|   Normal|       No|     LCM|            5|Jan 20, 2016|       null|                2019|   5.9|   179.832| 150.0|   68.0388|      63|       48|             60|          82|     25|       63|   65|        30|         68|         70|          58|         61|     56|       58|     77|       65|     75|     89|      79|       60|        84|           73|         67|    69|       55|       74|     76|            76|           68|      12|        10|       12|            9|        13|             675K|        null|             0|         null|   No_Growth|           MID|\n",
            "|163631|         1|        L. Baines| 33|https://cdn.sofif...|       England|https://cdn.sofif...|          77|            77|             Everton|https://cdn.sofif...|          3.4|     74|   2126|          Left|                       3|        3|          3|  High/ Medium|   Normal|      Yes|      LB|            3| Aug 7, 2007|       null|                2019|   5.7|   173.736| 154.0| 69.853168|      84|       63|             74|          78|     63|       75|   81|        81|         74|         80|          66|         59|     69|       79|     83|       84|     67|     64|      55|       71|        74|           77|         73|    73|       90|       84|     76|            78|           77|       8|        15|       10|           13|        12|              6.5|        null|             0|         null|   No_Growth|           DEF|\n",
            "|173530|         5|         S. Aluko| 29|https://cdn.sofif...|       Nigeria|https://cdn.sofif...|          67|            67|             Reading|https://cdn.sofif...|         0.75|     13|   1721|          Left|                       1|        2|          3|Medium/ Medium|   Normal|      Yes|      RW|           14|Aug 29, 2017|       null|                2021|   5.8|   176.784| 165.0|  74.84268|      63|       54|             42|          65|     64|       70|   72|        71|         55|         70|          79|         76|     90|       60|     83|       67|     49|     61|      48|       64|        34|           31|         62|    63|       68|       60|     39|            36|           35|      14|         8|        7|           15|         6|              1.4|          65|            65|        0.475|   No_Growth|           FWD|\n",
            "|177473|         4|          D. Loft| 31|https://cdn.sofif...|       England|https://cdn.sofif...|          63|            63|          Shrewsbury|https://cdn.sofif...|        0.325|      2|   1792|          Left|                       1|        4|          2|Medium/ Medium|   Normal|       No|      CM|           19|Jul 21, 2018|       null|                2019|   6.0|    182.88| 170.0|  77.11064|      59|       58|             55|          63|     59|       64|   65|        62|         63|         61|          44|         51|     72|       70|     63|       70|     72|     65|      73|       62|        70|           62|         54|    61|       63|       57|     59|            58|           57|      11|         9|        6|           15|        16|             569K|        null|             0|         null|   No_Growth|           MID|\n",
            "|177719|         4|          L. Bro?| 32|https://cdn.sofif...|        Poland|https://cdn.sofif...|          66|            66|       ?l?sk Wroc?aw|https://cdn.sofif...|         0.35|      2|   1818|         Right|                       1|        3|          3|  High/ Medium|   Normal|       No|      RB|           28|Jul 26, 2018|       null|                2020|  5.11|  155.7528| 163.0| 73.935496|      67|       53|             59|          67|     37|       68|   65|        56|         58|         69|          58|         64|     70|       57|     80|       64|     65|     74|      64|       59|        71|           65|         64|    62|       60|       59|     54|            66|           69|      15|         9|        7|           14|         8|             473K|        null|             0|         null|   No_Growth|           DEF|\n",
            "|186507|         6|   C. Landu Landu| 26|https://cdn.sofif...|        Norway|https://cdn.sofif...|          63|            66|           Troms? IL|https://cdn.sofif...|         0.45|      1|   1741|         Right|                       1|        3|          2|  Medium/ High|   Stocky|       No|      CM|            6| Jan 1, 2015|       null|                2018|   6.0|    182.88| 183.0| 83.007336|      54|       36|             64|          64|     56|       61|   49|        46|         59|         64|          68|         50|     64|       70|     55|       67|     67|     79|      82|       59|        68|           63|         62|    51|       32|       59|     66|            62|           56|      16|        11|       13|           14|        13|             596K|        null|             0|         null|   No_Growth|           MID|\n",
            "|188058|         7|       A. Kravets| 29|https://cdn.sofif...|       Ukraine|https://cdn.sofif...|          73|            73|         Kayserispor|https://cdn.sofif...|          4.0|     14|   1711|         Right|                       1|        3|          3|    High/ High|   Normal|       No|      ST|           11|Jan 15, 2018|       null|                2021|   6.2|   188.976| 174.0| 78.925008|      46|       73|             75|          67|     69|       64|   53|        47|         49|         66|          62|         65|     47|       76|     45|       72|     61|     75|      79|       65|        59|           54|         78|    59|       59|       71|     28|            32|           34|      10|        15|        8|           13|         6|                8|          70|            70|          1.6|   No_Growth|           FWD|\n",
            "|191541|         4|        A. Uchida| 30|https://cdn.sofif...|         Japan|https://cdn.sofif...|          71|            71|     Kashima Antlers|https://cdn.sofif...|          1.7|      8|   1858|         Right|                       2|        2|          3|  High/ Medium|     Lean|      Yes|      RB|            2| Jan 3, 2018|       null|                2020|   5.9|   179.832| 154.0| 69.853168|      74|       36|             61|          74|     34|       74|   68|        36|         73|         75|          67|         65|     73|       72|     71|       68|     77|     50|      58|       49|        60|           73|         71|    65|       41|       70|     76|            73|           74|      10|        13|       16|           15|        16|              2.2|        null|             0|         null|   No_Growth|           DEF|\n",
            "|191910|         5|    Kim Shin Wook| 30|https://cdn.sofif...|Korea Republic|https://cdn.sofif...|          69|            69|Jeonbuk Hyundai M...|https://cdn.sofif...|          1.0|      6|   1756|         Right|                       2|        3|          2|Medium/ Medium|   Normal|       No|      RS|            9| Feb 2, 2016|       null|                2021|   6.5|    198.12| 205.0|  92.98636|      52|       67|             80|          67|     68|       61|   53|        61|         62|         69|          61|         44|     42|       71|     64|       73|     69|     65|      90|       68|        68|           26|         63|    68|       69|       67|     51|            40|           42|       7|        10|        7|           10|         8|              1.3|          76|            76|          6.0| High_Growth|           FWD|\n",
            "|192490|         5|      Juan Villar| 30|https://cdn.sofif...|         Spain|https://cdn.sofif...|          73|            73|          CA Osasuna|https://cdn.sofif...|          3.8|      9|   1920|         Right|                       1|        4|          3|     High/ Low|     Lean|       No|      RM|           18|Jul 27, 2018|       null|                2021|   6.0|    182.88| 159.0| 72.121128|      67|       72|             63|          66|     70|       71|   77|        73|         57|         70|          87|         91|     90|       71|     68|       73|     89|     75|      66|       63|        69|           35|         72|    69|       68|       67|     55|            26|           29|       6|         6|        7|            7|        12|                6|          70|            70|          1.4|   No_Growth|           MID|\n",
            "|192643|         1|         K. Kratz| 31|https://cdn.sofif...|       Germany|https://cdn.sofif...|          67|            67|      Atlanta United|https://cdn.sofif...|        0.675|      3|   1833|         Right|                       1|        5|          3|Medium/ Medium|   Normal|       No|     CAM|           32|Dec 12, 2016|       null|                2018|   5.8|   176.784| 159.0| 72.121128|      69|       54|             50|          69|     62|       66|   73|        76|         68|         68|          63|         54|     72|       66|     81|       72|     41|     59|      62|       69|        69|           62|         62|    66|       55|       70|     50|            62|           63|      10|         8|       13|            6|        13|                1|        null|             0|         null|   No_Growth|           MID|\n",
            "|193133|         4|J. Stryger Larsen| 27|https://cdn.sofif...|       Denmark|https://cdn.sofif...|          73|            75|             Udinese|https://cdn.sofif...|          3.9|     19|   1920|         Right|                       1|        3|          3|    High/ High|   Normal|       No|      LB|           17|Aug 25, 2017|       null|                2022|   6.0|    182.88| 181.0| 82.100152|      70|       48|             60|          66|     60|       68|   62|        48|         60|         70|          78|         79|     72|       72|     72|       68|     78|     79|      77|       58|        74|           74|         56|    58|       50|       64|     70|            76|           74|       7|         8|       12|            7|         9|              7.3|          75|            75|          6.5|   No_Growth|           DEF|\n",
            "|193283|         1|       T. Delaney| 26|https://cdn.sofif...|       Denmark|https://cdn.sofif...|          82|            83|   Borussia Dortmund|https://cdn.sofif...|         21.5|     61|   2211|          Left|                       2|        4|          3|    High/ High|   Normal|       No|     LCM|            8| Jul 1, 2018|       null|                2022|   6.0|    182.88| 174.0| 78.925008|      67|       72|             83|          79|     66|       73|   71|        68|         77|         77|          76|         78|     73|       81|     74|       78|     91|     90|      79|       74|        84|           85|         75|    77|       60|       81|     80|            82|           81|       8|        12|       11|           14|        15|             38.2|          81|            81|         16.0|   No_Growth|           MID|\n",
            "|194792|         4|          L. Hyam| 26|https://cdn.sofif...|       England|https://cdn.sofif...|          67|            68|     Southend United|https://cdn.sofif...|        0.875|      4|   1887|         Right|                       1|        3|          3|  Medium/ High|   Normal|       No|      CM|            4| Jul 1, 2018|       null|                2020|   5.1|   155.448| 159.0| 72.121128|      56|       51|             66|          68|     40|       63|   56|        55|         65|         67|          75|         74|     75|       69|     77|       53|     73|     82|      76|       50|        86|           70|         55|    63|       59|       60|     68|            71|           70|      15|        12|       13|            7|         7|              1.6|        null|             0|         null|   No_Growth|           MID|\n",
            "|195065|         1|     G. Hairemans| 26|https://cdn.sofif...|       Belgium|https://cdn.sofif...|          70|            71|    Royal Antwerp FC|https://cdn.sofif...|          2.1|      7|   1872|          Left|                       1|        2|          3|  High/ Medium|     Lean|       No|     CAM|           10|Jul 31, 2015|       null|                2021|   6.0|    182.88| 168.0| 76.203456|      74|       52|             38|          73|     66|       68|   78|        72|         75|         74|          55|         51|     67|       69|     62|       78|     53|     78|      71|       72|        61|           64|         69|    74|       73|       74|     58|            53|           42|       8|         8|       16|           10|        10|              3.3|          68|            68|          0.9|   No_Growth|           MID|\n",
            "|196848|         5|         I. ?vila| 27|https://cdn.sofif...|          Peru|https://cdn.sofif...|          72|            72|    Monarcas Morelia|https://cdn.sofif...|          3.3|      9|   1752|         Right|                       1|        3|          3|     High/ Low|   Normal|       No|      ST|           11| Jul 1, 2018|       null|                2019|   5.6|   170.688| 150.0|   68.0388|      36|       76|             65|          57|     70|       73|   66|        66|         46|         74|          77|         76|     82|       71|     87|       74|     54|     65|      56|       65|        50|           33|         74|    37|       82|       60|     41|            19|           20|      12|        13|        8|           13|        14|              5.6|          65|            65|         0.55|   No_Growth|           FWD|\n",
            "|199800|         4|      Z. Bergdich| 29|https://cdn.sofif...|       Morocco|https://cdn.sofif...|          68|            68|       Os Belenenses|https://cdn.sofif...|        0.675|      3|   1870|          Left|                       1|        2|          3|  High/ Medium|   Normal|       No|      LB|           21| Jul 4, 2018|       null|                2020|   5.1|   155.448| 152.0| 68.945984|      73|       46|             64|          65|     38|       68|   75|        46|         68|         69|          85|         81|     81|       57|     74|       74|     86|     59|      79|       39|        60|           65|         67|    59|       44|       61|     63|            67|           65|      15|        12|        9|            6|        11|              1.4|          73|            73|          2.9|  Mid_Growth|           DEF|\n",
            "+------+----------+-----------------+---+--------------------+--------------+--------------------+------------+--------------+--------------------+--------------------+-------------+-------+-------+--------------+------------------------+---------+-----------+--------------+---------+---------+--------+-------------+------------+-----------+--------------------+------+----------+------+----------+--------+---------+---------------+------------+-------+---------+-----+----------+-----------+-----------+------------+-----------+-------+---------+-------+---------+-------+-------+--------+---------+----------+-------------+-----------+------+---------+---------+-------+--------------+-------------+--------+----------+---------+-------------+----------+-----------------+------------+--------------+-------------+------------+--------------+\n",
            "only showing top 20 rows\n",
            "\n"
          ],
          "name": "stdout"
        }
      ]
    },
    {
      "cell_type": "code",
      "metadata": {
        "colab": {
          "base_uri": "https://localhost:8080/"
        },
        "id": "Dwjj5V1wxW4-",
        "outputId": "e52eb679-f9dc-456d-aa2e-91e1be51d8bc"
      },
      "source": [
        "# counting the position group present in each cluster \n",
        "df_prediction_complete.groupby('prediction','Position_Group').agg(F.count('ID')).sort('prediction').show(30)"
      ],
      "execution_count": 59,
      "outputs": [
        {
          "output_type": "stream",
          "text": [
            "+----------+--------------+---------+\n",
            "|prediction|Position_Group|count(ID)|\n",
            "+----------+--------------+---------+\n",
            "|         0|           MID|       22|\n",
            "|         0|           FWD|        1|\n",
            "|         0|           DEF|     1659|\n",
            "|         1|           MID|     1326|\n",
            "|         1|           DEF|      475|\n",
            "|         1|           FWD|       40|\n",
            "|         2|           DEF|     1303|\n",
            "|         2|           MID|      666|\n",
            "|         2|           FWD|       11|\n",
            "|         3|           DEF|       11|\n",
            "|         3|           MID|     1452|\n",
            "|         3|           FWD|      510|\n",
            "|         4|           MID|     1619|\n",
            "|         4|           FWD|       59|\n",
            "|         4|           DEF|     1194|\n",
            "|         5|           FWD|     1144|\n",
            "|         5|           DEF|        5|\n",
            "|         5|           MID|     1267|\n",
            "|         6|           FWD|        4|\n",
            "|         6|           MID|      352|\n",
            "|         6|           DEF|     1219|\n",
            "|         7|           MID|      134|\n",
            "|         7|           FWD|     1649|\n",
            "+----------+--------------+---------+\n",
            "\n"
          ],
          "name": "stdout"
        }
      ]
    },
    {
      "cell_type": "markdown",
      "metadata": {
        "id": "IiHEevY6IOJz"
      },
      "source": [
        "## Part 3 - Supervised Learning: Classification on Position_Group\n"
      ]
    },
    {
      "cell_type": "markdown",
      "metadata": {
        "id": "cMxCG46J684x"
      },
      "source": [
        "In this part, we try to predict the position group of the player."
      ]
    },
    {
      "cell_type": "markdown",
      "metadata": {
        "id": "e66sZKQF7SEn"
      },
      "source": [
        "### 3.1 Data Preparation\n",
        "\n",
        "We remove the feature of position and only use the skill set features and the cluster results from Kmeans as the input. The target for classification is \"Position_Group\".\n",
        "***"
      ]
    },
    {
      "cell_type": "code",
      "metadata": {
        "colab": {
          "base_uri": "https://localhost:8080/"
        },
        "id": "PwtsyrUsI8e_",
        "outputId": "826af224-a928-4d2f-dcf3-9eba7bf103da"
      },
      "source": [
        "# renaming the column prediction in our dataframe as Cluster and reflecting the changes in a new dataframe df_kmeans_pred\n",
        "df_kmeans_pred = df_prediction_complete.withColumnRenamed('prediction', 'Cluster')\n",
        "df_kmeans_pred.show(5)"
      ],
      "execution_count": 60,
      "outputs": [
        {
          "output_type": "stream",
          "text": [
            "+------+-------+-------------+---+--------------------+-----------+--------------------+------------+--------------+--------------------+--------------------+-------------+-------+-------+--------------+------------------------+---------+-----------+--------------+---------+---------+--------+-------------+------------+-----------+--------------------+------+----------+------+----------+--------+---------+---------------+------------+-------+---------+-----+----------+-----------+-----------+------------+-----------+-------+---------+-------+---------+-------+-------+--------+---------+----------+-------------+-----------+------+---------+---------+-------+--------------+-------------+--------+----------+---------+-------------+----------+-----------------+------------+--------------+-------------+------------+--------------+\n",
            "|    ID|Cluster|         Name|Age|               Photo|Nationality|                Flag|Overall_2019|Potential_2019|                Club|           Club Logo|Value_2019(M)|wage(K)|Special|Preferred Foot|International Reputation|Weak Foot|Skill Moves|     Work Rate|Body Type|Real Face|Position|Jersey Number|      Joined|Loaned From|Contract Valid Until|Height|Height(CM)|Weight|Weight(KG)|Crossing|Finishing|HeadingAccuracy|ShortPassing|Volleys|Dribbling|Curve|FKAccuracy|LongPassing|BallControl|Acceleration|SprintSpeed|Agility|Reactions|Balance|ShotPower|Jumping|Stamina|Strength|LongShots|Aggression|Interceptions|Positioning|Vision|Penalties|Composure|Marking|StandingTackle|SlidingTackle|GKDiving|GKHandling|GKKicking|GKPositioning|GKReflexes|Release Clause(M)|Overall_2021|Potential_2021|Value_2021(M)|Growth_Level|Position_Group|\n",
            "+------+-------+-------------+---+--------------------+-----------+--------------------+------------+--------------+--------------------+--------------------+-------------+-------+-------+--------------+------------------------+---------+-----------+--------------+---------+---------+--------+-------------+------------+-----------+--------------------+------+----------+------+----------+--------+---------+---------------+------------+-------+---------+-----+----------+-----------+-----------+------------+-----------+-------+---------+-------+---------+-------+-------+--------+---------+----------+-------------+-----------+------+---------+---------+-------+--------------+-------------+--------+----------+---------+-------------+----------+-----------------+------------+--------------+-------------+------------+--------------+\n",
            "|115909|      5|Rub��n Castro| 37|https://cdn.sofif...|      Spain|https://cdn.sofif...|          77|            77|       UD Las Palmas|https://cdn.sofif...|          3.2|     11|   1860|         Right|                       2|        3|          3|   Medium/ Low|   Normal|       No|      ST|            7|Jul 13, 2018|       null|                2020|   5.7|   173.736| 150.0|   68.0388|      60|       81|             71|          67|     70|       80|   69|        68|         45|         78|          77|         73|     85|       83|     77|       74|     76|     55|      57|       75|        50|           37|         83|    74|       76|       68|     36|            12|           14|      14|         8|       15|            8|        12|              5.1|          71|            71|          0.7|   No_Growth|           FWD|\n",
            "|137114|      0|     M. Ciani| 34|https://cdn.sofif...|     France|https://cdn.sofif...|          69|            69|           LA Galaxy|https://cdn.sofif...|        0.325|      4|   1416|         Right|                       2|        3|          2|Medium/ Medium|   Normal|      Yes|      CB|           28| Sep 2, 2017|       null|                2021|   6.4|   195.072| 194.0| 87.996848|      30|       26|             72|          55|     16|       38|   19|        55|         61|         46|          33|         35|     31|       54|     32|       79|     63|     58|      92|       44|        80|           71|         33|    24|       25|       54|     60|            69|           63|      15|         6|        9|            7|        15|             488K|        null|             0|         null|   No_Growth|           DEF|\n",
            "|155264|      6|   V. Demidov| 31|https://cdn.sofif...|     Norway|https://cdn.sofif...|          65|            65|      Stab?k Fotball|https://cdn.sofif...|        0.375|      1|   1509|         Right|                       1|        3|          2|Medium/ Medium|   Normal|       No|     LCB|            4| Mar 7, 2018|       null|                2019|   6.1|   185.928| 176.0| 79.832192|      36|       39|             67|          65|     41|       29|   43|        45|         65|         44|          37|         36|     52|       55|     34|       62|     61|     55|      74|       51|        73|           66|         38|    37|       41|       47|     65|            63|           65|      13|        16|       11|           15|        15|             469K|        null|             0|         null|   No_Growth|           DEF|\n",
            "|161468|      4|  P. Gui?az��| 39|https://cdn.sofif...|  Argentina|https://cdn.sofif...|          75|            75|Club Atl��tico Ta...|https://cdn.sofif...|         0.45|     10|   1876|          Left|                       1|        3|          3|     Low/ High|   Normal|       No|     LCM|            5|Jan 20, 2016|       null|                2019|   5.9|   179.832| 150.0|   68.0388|      63|       48|             60|          82|     25|       63|   65|        30|         68|         70|          58|         61|     56|       58|     77|       65|     75|     89|      79|       60|        84|           73|         67|    69|       55|       74|     76|            76|           68|      12|        10|       12|            9|        13|             675K|        null|             0|         null|   No_Growth|           MID|\n",
            "|163631|      1|    L. Baines| 33|https://cdn.sofif...|    England|https://cdn.sofif...|          77|            77|             Everton|https://cdn.sofif...|          3.4|     74|   2126|          Left|                       3|        3|          3|  High/ Medium|   Normal|      Yes|      LB|            3| Aug 7, 2007|       null|                2019|   5.7|   173.736| 154.0| 69.853168|      84|       63|             74|          78|     63|       75|   81|        81|         74|         80|          66|         59|     69|       79|     83|       84|     67|     64|      55|       71|        74|           77|         73|    73|       90|       84|     76|            78|           77|       8|        15|       10|           13|        12|              6.5|        null|             0|         null|   No_Growth|           DEF|\n",
            "+------+-------+-------------+---+--------------------+-----------+--------------------+------------+--------------+--------------------+--------------------+-------------+-------+-------+--------------+------------------------+---------+-----------+--------------+---------+---------+--------+-------------+------------+-----------+--------------------+------+----------+------+----------+--------+---------+---------------+------------+-------+---------+-----+----------+-----------+-----------+------------+-----------+-------+---------+-------+---------+-------+-------+--------+---------+----------+-------------+-----------+------+---------+---------+-------+--------------+-------------+--------+----------+---------+-------------+----------+-----------------+------------+--------------+-------------+------------+--------------+\n",
            "only showing top 5 rows\n",
            "\n"
          ],
          "name": "stdout"
        }
      ]
    },
    {
      "cell_type": "code",
      "metadata": {
        "colab": {
          "base_uri": "https://localhost:8080/"
        },
        "id": "isGaE9NO8P6j",
        "outputId": "d1861bea-0df5-40ba-d6da-378f4fb366e9"
      },
      "source": [
        "# selecting the attributes to get a feature vector later\n",
        "features_col = ['Height(CM)', 'Weight(KG)', \n",
        "                      'Crossing', 'Finishing', 'HeadingAccuracy', \n",
        "                      'ShortPassing', 'Volleys', 'Dribbling', 'Curve',\n",
        "                      'FKAccuracy', 'LongPassing', 'BallControl', \n",
        "                      'Acceleration', 'SprintSpeed', 'Agility', \n",
        "                      'Reactions', 'Balance', 'ShotPower', 'Jumping', \n",
        "                      'Stamina', 'Strength', 'LongShots', 'Aggression', \n",
        "                      'Interceptions', 'Positioning', 'Vision', 'Penalties', \n",
        "                      'Composure', 'Marking', 'StandingTackle', 'SlidingTackle', 'Cluster']\n",
        "\n",
        "\n",
        "vec_assembler_ = VectorAssembler(inputCols=features_col, outputCol='features')\n",
        "# this dataframe contains the feature vector generated from players' attributes and their clusters\n",
        "df_class = vec_assembler_.transform(df_kmeans_pred).select('features','Position_Group')\n",
        "df_class.show(3)"
      ],
      "execution_count": 62,
      "outputs": [
        {
          "output_type": "stream",
          "text": [
            "+--------------------+--------------+\n",
            "|            features|Position_Group|\n",
            "+--------------------+--------------+\n",
            "|[173.736,68.0388,...|           FWD|\n",
            "|[195.072,87.99684...|           DEF|\n",
            "|[185.928,79.83219...|           DEF|\n",
            "+--------------------+--------------+\n",
            "only showing top 3 rows\n",
            "\n"
          ],
          "name": "stdout"
        }
      ]
    },
    {
      "cell_type": "markdown",
      "metadata": {
        "id": "AklN81TvMKJS"
      },
      "source": [
        "Performing feature scaling. For this, we use standard scaling on the features."
      ]
    },
    {
      "cell_type": "code",
      "metadata": {
        "colab": {
          "base_uri": "https://localhost:8080/"
        },
        "id": "pjQRAHOQMK6V",
        "outputId": "61a85692-a04c-44c2-d9d9-668723ec9a58"
      },
      "source": [
        "from pyspark.ml.feature import StandardScaler\n",
        "\n",
        "standardscaler = StandardScaler().setInputCol('features').setOutputCol('Scaled_features')\n",
        "raw_data = standardscaler.fit(df_class).transform(df_class)\n",
        "raw_data.select('features', 'Scaled_features','Position_Group').show(5)"
      ],
      "execution_count": 63,
      "outputs": [
        {
          "output_type": "stream",
          "text": [
            "+--------------------+--------------------+--------------+\n",
            "|            features|     Scaled_features|Position_Group|\n",
            "+--------------------+--------------------+--------------+\n",
            "|[173.736,68.0388,...|[12.9261363965245...|           FWD|\n",
            "|[195.072,87.99684...|[14.5135566557469...|           DEF|\n",
            "|[185.928,79.83219...|[13.8332336875087...|           DEF|\n",
            "|[179.832,68.0388,...|[13.3796850420166...|           MID|\n",
            "|[173.736,69.85316...|[12.9261363965245...|           DEF|\n",
            "+--------------------+--------------------+--------------+\n",
            "only showing top 5 rows\n",
            "\n"
          ],
          "name": "stdout"
        }
      ]
    },
    {
      "cell_type": "markdown",
      "metadata": {
        "id": "DD6wgq2sgiGk"
      },
      "source": [
        "In Spark, we can not use string as Target data type. So, encoding the Position_Group column by using following encoding: \n",
        "\n",
        "FWD = 0\n",
        "DEF = 1\n",
        "MID = 2"
      ]
    },
    {
      "cell_type": "code",
      "metadata": {
        "colab": {
          "base_uri": "https://localhost:8080/"
        },
        "id": "OosmFX9iOc0Z",
        "outputId": "ae0c4d7f-67a9-4340-aae9-329c05c87990"
      },
      "source": [
        "raw_data_encode = raw_data.withColumn('Target',when(col('Position_Group') == 'DEF', 1)\n",
        "      .when(col('Position_Group')== 'FWD', 0)\n",
        "      .otherwise(2))\n",
        "raw_data_encode.show()"
      ],
      "execution_count": 64,
      "outputs": [
        {
          "output_type": "stream",
          "text": [
            "+--------------------+--------------+--------------------+------+\n",
            "|            features|Position_Group|     Scaled_features|Target|\n",
            "+--------------------+--------------+--------------------+------+\n",
            "|[173.736,68.0388,...|           FWD|[12.9261363965245...|     0|\n",
            "|[195.072,87.99684...|           DEF|[14.5135566557469...|     1|\n",
            "|[185.928,79.83219...|           DEF|[13.8332336875087...|     1|\n",
            "|[179.832,68.0388,...|           MID|[13.3796850420166...|     2|\n",
            "|[173.736,69.85316...|           DEF|[12.9261363965245...|     1|\n",
            "|[176.784,74.84268...|           FWD|[13.1529107192706...|     0|\n",
            "|[182.88,77.11064,...|           MID|[13.6064593647627...|     2|\n",
            "|[155.7528,73.9354...|           DEF|[11.5881678923229...|     1|\n",
            "|[182.88,83.007336...|           MID|[13.6064593647627...|     2|\n",
            "|[188.976,78.92500...|           FWD|[14.0600080102548...|     0|\n",
            "|[179.832,69.85316...|           DEF|[13.3796850420166...|     1|\n",
            "|[198.12,92.98636,...|           FWD|[14.7403309784929...|     0|\n",
            "|[182.88,72.121128...|           MID|[13.6064593647627...|     2|\n",
            "|[176.784,72.12112...|           MID|[13.1529107192706...|     2|\n",
            "|[182.88,82.100152...|           DEF|[13.6064593647627...|     1|\n",
            "|[182.88,78.925008...|           MID|[13.6064593647627...|     2|\n",
            "|[155.448,72.12112...|           MID|[11.5654904600483...|     2|\n",
            "|[182.88,76.203456...|           MID|[13.6064593647627...|     2|\n",
            "|[170.688,68.0388,...|           FWD|[12.6993620737785...|     0|\n",
            "|[155.448,68.94598...|           DEF|[11.5654904600483...|     1|\n",
            "+--------------------+--------------+--------------------+------+\n",
            "only showing top 20 rows\n",
            "\n"
          ],
          "name": "stdout"
        }
      ]
    },
    {
      "cell_type": "markdown",
      "metadata": {
        "id": "NDfZARUNMW2M"
      },
      "source": [
        "### 3.2 Training Test Evaluation\n",
        "***\n",
        "\n",
        "Splitting the data into train/Test, and evaluating the model performance."
      ]
    },
    {
      "cell_type": "code",
      "metadata": {
        "id": "MmbanmwBMUQB"
      },
      "source": [
        "train, test = raw_data_encode.randomSplit([0.7, 0.3], seed=2020)"
      ],
      "execution_count": 65,
      "outputs": []
    },
    {
      "cell_type": "code",
      "metadata": {
        "colab": {
          "base_uri": "https://localhost:8080/"
        },
        "id": "h-vH7VOfpNJP",
        "outputId": "630e89df-4b71-4558-b71a-1a393b26dc84"
      },
      "source": [
        "test.show()"
      ],
      "execution_count": 66,
      "outputs": [
        {
          "output_type": "stream",
          "text": [
            "+--------------------+--------------+--------------------+------+\n",
            "|            features|Position_Group|     Scaled_features|Target|\n",
            "+--------------------+--------------+--------------------+------+\n",
            "|[155.448,64.86365...|           DEF|[11.5654904600483...|     1|\n",
            "|[155.448,68.0388,...|           MID|[11.5654904600483...|     2|\n",
            "|[155.448,73.93549...|           MID|[11.5654904600483...|     2|\n",
            "|[155.448,74.84268...|           FWD|[11.5654904600483...|     0|\n",
            "|[155.448,79.83219...|           DEF|[11.5654904600483...|     1|\n",
            "|[155.7528,64.8636...|           FWD|[11.5881678923229...|     0|\n",
            "|[155.7528,78.9250...|           MID|[11.5881678923229...|     2|\n",
            "|[170.688,63.95647...|           MID|[12.6993620737785...|     2|\n",
            "|[170.688,69.85316...|           MID|[12.6993620737785...|     2|\n",
            "|[173.736,64.86365...|           FWD|[12.9261363965245...|     0|\n",
            "|[173.736,68.0388,...|           FWD|[12.9261363965245...|     0|\n",
            "|[173.736,68.0388,...|           DEF|[12.9261363965245...|     1|\n",
            "|[176.784,64.86365...|           MID|[13.1529107192706...|     2|\n",
            "|[176.784,68.0388,...|           MID|[13.1529107192706...|     2|\n",
            "|[176.784,74.84268...|           FWD|[13.1529107192706...|     0|\n",
            "|[179.832,68.0388,...|           MID|[13.3796850420166...|     2|\n",
            "|[179.832,68.0388,...|           FWD|[13.3796850420166...|     0|\n",
            "|[179.832,71.21394...|           MID|[13.3796850420166...|     2|\n",
            "|[182.88,78.925008...|           MID|[13.6064593647627...|     2|\n",
            "|[185.928,73.93549...|           MID|[13.8332336875087...|     2|\n",
            "+--------------------+--------------+--------------------+------+\n",
            "only showing top 20 rows\n",
            "\n"
          ],
          "name": "stdout"
        }
      ]
    },
    {
      "cell_type": "code",
      "metadata": {
        "colab": {
          "base_uri": "https://localhost:8080/"
        },
        "id": "apoKm9igMi12",
        "outputId": "b9cc2011-fd2f-44dd-fea8-1a4e794cd5d3"
      },
      "source": [
        "# using logistic regression for classification\n",
        "from pyspark.ml.classification import LogisticRegression\n",
        "lr = LogisticRegression(labelCol='Target', featuresCol='Scaled_features', maxIter=10)\n",
        "model=lr.fit(train)\n",
        "\n",
        "predict_train=model.transform(train)\n",
        "predict_test=model.transform(test)\n",
        "predict_test.select('Target', 'prediction').show(10)"
      ],
      "execution_count": 67,
      "outputs": [
        {
          "output_type": "stream",
          "text": [
            "+------+----------+\n",
            "|Target|prediction|\n",
            "+------+----------+\n",
            "|     1|       1.0|\n",
            "|     2|       2.0|\n",
            "|     2|       2.0|\n",
            "|     0|       0.0|\n",
            "|     1|       1.0|\n",
            "|     0|       0.0|\n",
            "|     2|       2.0|\n",
            "|     2|       2.0|\n",
            "|     2|       2.0|\n",
            "|     0|       0.0|\n",
            "+------+----------+\n",
            "only showing top 10 rows\n",
            "\n"
          ],
          "name": "stdout"
        }
      ]
    },
    {
      "cell_type": "code",
      "metadata": {
        "colab": {
          "base_uri": "https://localhost:8080/"
        },
        "id": "Fp-cHnK_VDRU",
        "outputId": "35a48b7d-7307-4502-bfca-8b631ed3fb5e"
      },
      "source": [
        "predict_test.show(10)"
      ],
      "execution_count": 68,
      "outputs": [
        {
          "output_type": "stream",
          "text": [
            "+--------------------+--------------+--------------------+------+--------------------+--------------------+----------+\n",
            "|            features|Position_Group|     Scaled_features|Target|       rawPrediction|         probability|prediction|\n",
            "+--------------------+--------------+--------------------+------+--------------------+--------------------+----------+\n",
            "|[155.448,64.86365...|           DEF|[11.5654904600483...|     1|[-2.8578031569771...|[0.00279182149990...|       1.0|\n",
            "|[155.448,68.0388,...|           MID|[11.5654904600483...|     2|[-1.8369679854817...|[0.02790440766187...|       2.0|\n",
            "|[155.448,73.93549...|           MID|[11.5654904600483...|     2|[-1.9796668089244...|[0.02467655552863...|       2.0|\n",
            "|[155.448,74.84268...|           FWD|[11.5654904600483...|     0|[3.36930942811444...|[0.97422394752631...|       0.0|\n",
            "|[155.448,79.83219...|           DEF|[11.5654904600483...|     1|[-3.1383386153398...|[0.00261386216688...|       1.0|\n",
            "|[155.7528,64.8636...|           FWD|[11.5881678923229...|     0|[2.48021604129917...|[0.87175752581759...|       0.0|\n",
            "|[155.7528,78.9250...|           MID|[11.5881678923229...|     2|[-2.3381697482124...|[0.01147606117773...|       2.0|\n",
            "|[170.688,63.95647...|           MID|[12.6993620737785...|     2|[-0.5512160442327...|[0.02212629828209...|       2.0|\n",
            "|[170.688,69.85316...|           MID|[12.6993620737785...|     2|[1.83843843579707...|[0.25245089666904...|       2.0|\n",
            "|[173.736,64.86365...|           FWD|[12.9261363965245...|     0|[1.70074689851819...|[0.72950557371118...|       0.0|\n",
            "+--------------------+--------------+--------------------+------+--------------------+--------------------+----------+\n",
            "only showing top 10 rows\n",
            "\n"
          ],
          "name": "stdout"
        }
      ]
    },
    {
      "cell_type": "markdown",
      "metadata": {
        "id": "EoFo3Uwu-SYP"
      },
      "source": [
        "Evaluating the model using confusion matrix."
      ]
    },
    {
      "cell_type": "code",
      "metadata": {
        "id": "UVszXDHpQ1R4"
      },
      "source": [
        "from pyspark.mllib.evaluation import MulticlassMetrics\n",
        "from pyspark.sql.types import FloatType\n",
        "\n",
        "def calculate_confusion_matrix(df):\n",
        "  # the label need to be in float datatype otherwise it won't work\n",
        "  # creating a column that represents the target but the datatype is float\n",
        "  df_float = df.select(['prediction','Target']).withColumn('label', F.col('Target').cast(FloatType()))\n",
        "\n",
        "  # selecting only prediction and label columns\n",
        "  df_float = df_float.select(['prediction','label'])\n",
        "  # casting to rdd and mapping to a tuple\n",
        "  metrics = MulticlassMetrics(df_float.rdd.map(tuple))\n",
        "  confusion_matrix = metrics.confusionMatrix().toArray()\n",
        "  # changing the confusion matrix array datatype to int as it's datatype is float\n",
        "  confusion_matrix = confusion_matrix.astype('int32')\n",
        "  fwd_details = ()\n",
        "  def_details = ()\n",
        "  mid_details = ()\n",
        " \n",
        "  # calculating precision, recall and f1-score for different labels\n",
        "  for lab in 0.0,1.0,2.0:\n",
        "    if lab == 0:\n",
        "      precision_fwd = round(metrics.precision(lab) * 100, 2)\n",
        "      recall_fwd = round(metrics.recall(lab) * 100, 2)\n",
        "      f1_score_fwd = round(metrics.fMeasure(lab, beta=1.0) * 100, 2)\n",
        "      fwd_details = fwd_details + (precision_fwd, recall_fwd, f1_score_fwd)\n",
        "      print('Precision for FWD is', precision_fwd)\n",
        "      print('Recall for FWD is', recall_fwd)\n",
        "      print('F1-score for FWD is', f1_score_fwd)\n",
        "    elif lab == 1:\n",
        "      precision_def = round(metrics.precision(lab) * 100, 2)\n",
        "      recall_def = round(metrics.recall(lab) * 100, 2)\n",
        "      f1_score_def = round(metrics.fMeasure(lab, beta=1.0) * 100, 2)\n",
        "      def_details = def_details + (precision_def, recall_def, f1_score_def)\n",
        "      print('Precision for DEF is', precision_def)\n",
        "      print('Recall for DEF is', recall_def)\n",
        "      print('F1-score for DEF is', f1_score_def)\n",
        "    else:\n",
        "      precision_mid = round(metrics.precision(lab) * 100, 2)\n",
        "      recall_mid = round(metrics.recall(lab) * 100, 2)\n",
        "      f1_score_mid = round(metrics.fMeasure(lab, beta=1.0) * 100, 2)\n",
        "      mid_details = mid_details + (precision_mid, recall_mid, f1_score_mid)\n",
        "      print('Precision for MID is', precision_mid)\n",
        "      print('Recall for MID is', recall_mid)\n",
        "      print('F1-score for MID is', f1_score_mid)\n",
        "    print()\n",
        "  return confusion_matrix, fwd_details, def_details, mid_details"
      ],
      "execution_count": 123,
      "outputs": []
    },
    {
      "cell_type": "code",
      "metadata": {
        "colab": {
          "base_uri": "https://localhost:8080/"
        },
        "id": "QopPYzF-Rb0Y",
        "outputId": "4945e2ba-a20d-428b-e1f0-2009ad93b244"
      },
      "source": [
        "confusion_matrix = calculate_confusion_matrix(predict_test)"
      ],
      "execution_count": 124,
      "outputs": [
        {
          "output_type": "stream",
          "text": [
            "Precision for FWD is 78.15\n",
            "Recall for FWD is 80.08\n",
            "F1-score for FWD is 79.1\n",
            "\n",
            "Precision for DEF is 85.98\n",
            "Recall for DEF is 83.58\n",
            "F1-score for DEF is 84.76\n",
            "\n",
            "Precision for MID is 77.34\n",
            "Recall for MID is 78.27\n",
            "F1-score for MID is 77.8\n",
            "\n"
          ],
          "name": "stdout"
        }
      ]
    },
    {
      "cell_type": "code",
      "metadata": {
        "colab": {
          "base_uri": "https://localhost:8080/"
        },
        "id": "Qeawqox7bd8i",
        "outputId": "66a78523-c74d-4271-a802-010d20e64f65"
      },
      "source": [
        "confusion_matrix[0]"
      ],
      "execution_count": 107,
      "outputs": [
        {
          "output_type": "execute_result",
          "data": {
            "text/plain": [
              "array([[ 776,    3,  190],\n",
              "       [   1, 1466,  287],\n",
              "       [ 216,  236, 1628]], dtype=int32)"
            ]
          },
          "metadata": {
            "tags": []
          },
          "execution_count": 107
        }
      ]
    },
    {
      "cell_type": "code",
      "metadata": {
        "colab": {
          "base_uri": "https://localhost:8080/",
          "height": 457
        },
        "id": "gL8BoKNilc83",
        "outputId": "5ec6a446-5db5-4526-dc85-0b19289c9ee7"
      },
      "source": [
        "# creating a heatmap from the confusion matrix\n",
        "import seaborn as sn \n",
        "labels = ['FWD', 'DEF', 'MID'] # specifying the labels in our data based on encoding\n",
        "#creating a dataframe from the confusion matrix\n",
        "confusion_df = pd.DataFrame(confusion_matrix[0], index = [i for i in labels], columns = [i for i in labels])\n",
        "plt.figure(figsize=(10,7))\n",
        "sn.set(font_scale=1.5) # setting the label size\n",
        "# drawing the heat map along with displaying values in a digit format and setting the digit size\n",
        "sn.heatmap(confusion_df, annot=True, fmt='d', annot_kws={'size': 20})\n"
      ],
      "execution_count": 109,
      "outputs": [
        {
          "output_type": "execute_result",
          "data": {
            "text/plain": [
              "<matplotlib.axes._subplots.AxesSubplot at 0x7f175d5f85d0>"
            ]
          },
          "metadata": {
            "tags": []
          },
          "execution_count": 109
        },
        {
          "output_type": "display_data",
          "data": {
            "image/png": "[encoded data removed]",
            "text/plain": [
              "<Figure size 720x504 with 2 Axes>"
            ]
          },
          "metadata": {
            "tags": []
          }
        }
      ]
    },
    {
      "cell_type": "markdown",
      "metadata": {
        "id": "4Iy-g_68Q8OV"
      },
      "source": [
        "### 3.3 K-fold Cross-Validation\n",
        "***"
      ]
    },
    {
      "cell_type": "markdown",
      "metadata": {
        "id": "k1fIzZifdvyu"
      },
      "source": [
        "For prediction, we create a dataframe containing only relevant columns to shorten the prediction time."
      ]
    },
    {
      "cell_type": "code",
      "metadata": {
        "id": "pTdt2zhkc7b1"
      },
      "source": [
        "df_final_prediction = df_kmeans_pred[['Height(CM)', 'Weight(KG)', \n",
        "                      'Crossing', 'Finishing', 'HeadingAccuracy', \n",
        "                      'ShortPassing', 'Volleys', 'Dribbling', 'Curve',\n",
        "                      'FKAccuracy', 'LongPassing', 'BallControl', \n",
        "                      'Acceleration', 'SprintSpeed', 'Agility', \n",
        "                      'Reactions', 'Balance', 'ShotPower', 'Jumping', \n",
        "                      'Stamina', 'Strength', 'LongShots', 'Aggression', \n",
        "                      'Interceptions', 'Positioning', 'Vision', 'Penalties', \n",
        "                      'Composure', 'Marking', 'StandingTackle', 'SlidingTackle', 'Cluster', 'Position_Group']]"
      ],
      "execution_count": null,
      "outputs": []
    },
    {
      "cell_type": "code",
      "metadata": {
        "colab": {
          "base_uri": "https://localhost:8080/"
        },
        "id": "I5oDQ2_xeUR_",
        "outputId": "9b6ced65-82e1-45ea-ddc8-5a7418cc71d6"
      },
      "source": [
        "df_kmeans_pred.show(5)"
      ],
      "execution_count": 72,
      "outputs": [
        {
          "output_type": "stream",
          "text": [
            "+------+-------+-------------+---+--------------------+-----------+--------------------+------------+--------------+--------------------+--------------------+-------------+-------+-------+--------------+------------------------+---------+-----------+--------------+---------+---------+--------+-------------+------------+-----------+--------------------+------+----------+------+----------+--------+---------+---------------+------------+-------+---------+-----+----------+-----------+-----------+------------+-----------+-------+---------+-------+---------+-------+-------+--------+---------+----------+-------------+-----------+------+---------+---------+-------+--------------+-------------+--------+----------+---------+-------------+----------+-----------------+------------+--------------+-------------+------------+--------------+\n",
            "|    ID|Cluster|         Name|Age|               Photo|Nationality|                Flag|Overall_2019|Potential_2019|                Club|           Club Logo|Value_2019(M)|wage(K)|Special|Preferred Foot|International Reputation|Weak Foot|Skill Moves|     Work Rate|Body Type|Real Face|Position|Jersey Number|      Joined|Loaned From|Contract Valid Until|Height|Height(CM)|Weight|Weight(KG)|Crossing|Finishing|HeadingAccuracy|ShortPassing|Volleys|Dribbling|Curve|FKAccuracy|LongPassing|BallControl|Acceleration|SprintSpeed|Agility|Reactions|Balance|ShotPower|Jumping|Stamina|Strength|LongShots|Aggression|Interceptions|Positioning|Vision|Penalties|Composure|Marking|StandingTackle|SlidingTackle|GKDiving|GKHandling|GKKicking|GKPositioning|GKReflexes|Release Clause(M)|Overall_2021|Potential_2021|Value_2021(M)|Growth_Level|Position_Group|\n",
            "+------+-------+-------------+---+--------------------+-----------+--------------------+------------+--------------+--------------------+--------------------+-------------+-------+-------+--------------+------------------------+---------+-----------+--------------+---------+---------+--------+-------------+------------+-----------+--------------------+------+----------+------+----------+--------+---------+---------------+------------+-------+---------+-----+----------+-----------+-----------+------------+-----------+-------+---------+-------+---------+-------+-------+--------+---------+----------+-------------+-----------+------+---------+---------+-------+--------------+-------------+--------+----------+---------+-------------+----------+-----------------+------------+--------------+-------------+------------+--------------+\n",
            "|115909|      5|Rub��n Castro| 37|https://cdn.sofif...|      Spain|https://cdn.sofif...|          77|            77|       UD Las Palmas|https://cdn.sofif...|          3.2|     11|   1860|         Right|                       2|        3|          3|   Medium/ Low|   Normal|       No|      ST|            7|Jul 13, 2018|       null|                2020|   5.7|   173.736| 150.0|   68.0388|      60|       81|             71|          67|     70|       80|   69|        68|         45|         78|          77|         73|     85|       83|     77|       74|     76|     55|      57|       75|        50|           37|         83|    74|       76|       68|     36|            12|           14|      14|         8|       15|            8|        12|              5.1|          71|            71|          0.7|   No_Growth|           FWD|\n",
            "|137114|      0|     M. Ciani| 34|https://cdn.sofif...|     France|https://cdn.sofif...|          69|            69|           LA Galaxy|https://cdn.sofif...|        0.325|      4|   1416|         Right|                       2|        3|          2|Medium/ Medium|   Normal|      Yes|      CB|           28| Sep 2, 2017|       null|                2021|   6.4|   195.072| 194.0| 87.996848|      30|       26|             72|          55|     16|       38|   19|        55|         61|         46|          33|         35|     31|       54|     32|       79|     63|     58|      92|       44|        80|           71|         33|    24|       25|       54|     60|            69|           63|      15|         6|        9|            7|        15|             488K|        null|             0|         null|   No_Growth|           DEF|\n",
            "|155264|      6|   V. Demidov| 31|https://cdn.sofif...|     Norway|https://cdn.sofif...|          65|            65|      Stab?k Fotball|https://cdn.sofif...|        0.375|      1|   1509|         Right|                       1|        3|          2|Medium/ Medium|   Normal|       No|     LCB|            4| Mar 7, 2018|       null|                2019|   6.1|   185.928| 176.0| 79.832192|      36|       39|             67|          65|     41|       29|   43|        45|         65|         44|          37|         36|     52|       55|     34|       62|     61|     55|      74|       51|        73|           66|         38|    37|       41|       47|     65|            63|           65|      13|        16|       11|           15|        15|             469K|        null|             0|         null|   No_Growth|           DEF|\n",
            "|161468|      4|  P. Gui?az��| 39|https://cdn.sofif...|  Argentina|https://cdn.sofif...|          75|            75|Club Atl��tico Ta...|https://cdn.sofif...|         0.45|     10|   1876|          Left|                       1|        3|          3|     Low/ High|   Normal|       No|     LCM|            5|Jan 20, 2016|       null|                2019|   5.9|   179.832| 150.0|   68.0388|      63|       48|             60|          82|     25|       63|   65|        30|         68|         70|          58|         61|     56|       58|     77|       65|     75|     89|      79|       60|        84|           73|         67|    69|       55|       74|     76|            76|           68|      12|        10|       12|            9|        13|             675K|        null|             0|         null|   No_Growth|           MID|\n",
            "|163631|      1|    L. Baines| 33|https://cdn.sofif...|    England|https://cdn.sofif...|          77|            77|             Everton|https://cdn.sofif...|          3.4|     74|   2126|          Left|                       3|        3|          3|  High/ Medium|   Normal|      Yes|      LB|            3| Aug 7, 2007|       null|                2019|   5.7|   173.736| 154.0| 69.853168|      84|       63|             74|          78|     63|       75|   81|        81|         74|         80|          66|         59|     69|       79|     83|       84|     67|     64|      55|       71|        74|           77|         73|    73|       90|       84|     76|            78|           77|       8|        15|       10|           13|        12|              6.5|        null|             0|         null|   No_Growth|           DEF|\n",
            "+------+-------+-------------+---+--------------------+-----------+--------------------+------------+--------------+--------------------+--------------------+-------------+-------+-------+--------------+------------------------+---------+-----------+--------------+---------+---------+--------+-------------+------------+-----------+--------------------+------+----------+------+----------+--------+---------+---------------+------------+-------+---------+-----+----------+-----------+-----------+------------+-----------+-------+---------+-------+---------+-------+-------+--------+---------+----------+-------------+-----------+------+---------+---------+-------+--------------+-------------+--------+----------+---------+-------------+----------+-----------------+------------+--------------+-------------+------------+--------------+\n",
            "only showing top 5 rows\n",
            "\n"
          ],
          "name": "stdout"
        }
      ]
    },
    {
      "cell_type": "code",
      "metadata": {
        "id": "wHNpTU9I8035",
        "colab": {
          "base_uri": "https://localhost:8080/"
        },
        "outputId": "e3e824f4-9025-47e6-ae3a-2ae4d69875fc"
      },
      "source": [
        "# writing to a csv file\n",
        "df_kmeans_pred.coalesce(1).write.format('com.databricks.spark.csv').option('header',True).save('/content/custom_csv.csv')\n",
        "!ls /content/custom_csv.csv"
      ],
      "execution_count": 74,
      "outputs": [
        {
          "output_type": "stream",
          "text": [
            "part-00000-9664fe47-f1e1-4ec7-8462-e5e2966d7be7-c000.csv  _SUCCESS\n"
          ],
          "name": "stdout"
        }
      ]
    },
    {
      "cell_type": "code",
      "metadata": {
        "colab": {
          "base_uri": "https://localhost:8080/"
        },
        "id": "dzzaxNA8M3Gw",
        "outputId": "5b066812-991f-4b38-91a5-ba145a9b2a9c"
      },
      "source": [
        "# moving and renaming the saved csv file as the same time\n",
        "#!mv \"/content/custom_csv.csv/part-00000-9664fe47-f1e1-4ec7-8462-e5e2966d7be7-c000.csv\" \"/content/FIFA_new.csv\"\n",
        "df_final = spark.read.format('csv').options(header='true', inferschema='true').load('FIFA_new.csv')\n",
        "df_final.show(5)"
      ],
      "execution_count": 79,
      "outputs": [
        {
          "output_type": "stream",
          "text": [
            "+------+-------+-------------+---+--------------------+-----------+--------------------+------------+--------------+--------------------+--------------------+-------------+-------+-------+--------------+------------------------+---------+-----------+--------------+---------+---------+--------+-------------+------------+-----------+--------------------+------+----------+------+----------+--------+---------+---------------+------------+-------+---------+-----+----------+-----------+-----------+------------+-----------+-------+---------+-------+---------+-------+-------+--------+---------+----------+-------------+-----------+------+---------+---------+-------+--------------+-------------+--------+----------+---------+-------------+----------+-----------------+------------+--------------+-------------+------------+--------------+\n",
            "|    ID|Cluster|         Name|Age|               Photo|Nationality|                Flag|Overall_2019|Potential_2019|                Club|           Club Logo|Value_2019(M)|wage(K)|Special|Preferred Foot|International Reputation|Weak Foot|Skill Moves|     Work Rate|Body Type|Real Face|Position|Jersey Number|      Joined|Loaned From|Contract Valid Until|Height|Height(CM)|Weight|Weight(KG)|Crossing|Finishing|HeadingAccuracy|ShortPassing|Volleys|Dribbling|Curve|FKAccuracy|LongPassing|BallControl|Acceleration|SprintSpeed|Agility|Reactions|Balance|ShotPower|Jumping|Stamina|Strength|LongShots|Aggression|Interceptions|Positioning|Vision|Penalties|Composure|Marking|StandingTackle|SlidingTackle|GKDiving|GKHandling|GKKicking|GKPositioning|GKReflexes|Release Clause(M)|Overall_2021|Potential_2021|Value_2021(M)|Growth_Level|Position_Group|\n",
            "+------+-------+-------------+---+--------------------+-----------+--------------------+------------+--------------+--------------------+--------------------+-------------+-------+-------+--------------+------------------------+---------+-----------+--------------+---------+---------+--------+-------------+------------+-----------+--------------------+------+----------+------+----------+--------+---------+---------------+------------+-------+---------+-----+----------+-----------+-----------+------------+-----------+-------+---------+-------+---------+-------+-------+--------+---------+----------+-------------+-----------+------+---------+---------+-------+--------------+-------------+--------+----------+---------+-------------+----------+-----------------+------------+--------------+-------------+------------+--------------+\n",
            "|115909|      5|Rub��n Castro| 37|https://cdn.sofif...|      Spain|https://cdn.sofif...|          77|            77|       UD Las Palmas|https://cdn.sofif...|          3.2|     11|   1860|         Right|                       2|        3|          3|   Medium/ Low|   Normal|       No|      ST|            7|Jul 13, 2018|       null|                2020|   5.7|   173.736| 150.0|   68.0388|      60|       81|             71|          67|     70|       80|   69|        68|         45|         78|          77|         73|     85|       83|     77|       74|     76|     55|      57|       75|        50|           37|         83|    74|       76|       68|     36|            12|           14|      14|         8|       15|            8|        12|              5.1|          71|            71|          0.7|   No_Growth|           FWD|\n",
            "|137114|      0|     M. Ciani| 34|https://cdn.sofif...|     France|https://cdn.sofif...|          69|            69|           LA Galaxy|https://cdn.sofif...|        0.325|      4|   1416|         Right|                       2|        3|          2|Medium/ Medium|   Normal|      Yes|      CB|           28| Sep 2, 2017|       null|                2021|   6.4|   195.072| 194.0| 87.996848|      30|       26|             72|          55|     16|       38|   19|        55|         61|         46|          33|         35|     31|       54|     32|       79|     63|     58|      92|       44|        80|           71|         33|    24|       25|       54|     60|            69|           63|      15|         6|        9|            7|        15|             488K|        null|             0|         null|   No_Growth|           DEF|\n",
            "|155264|      6|   V. Demidov| 31|https://cdn.sofif...|     Norway|https://cdn.sofif...|          65|            65|      Stab?k Fotball|https://cdn.sofif...|        0.375|      1|   1509|         Right|                       1|        3|          2|Medium/ Medium|   Normal|       No|     LCB|            4| Mar 7, 2018|       null|                2019|   6.1|   185.928| 176.0| 79.832192|      36|       39|             67|          65|     41|       29|   43|        45|         65|         44|          37|         36|     52|       55|     34|       62|     61|     55|      74|       51|        73|           66|         38|    37|       41|       47|     65|            63|           65|      13|        16|       11|           15|        15|             469K|        null|             0|         null|   No_Growth|           DEF|\n",
            "|161468|      4|  P. Gui?az��| 39|https://cdn.sofif...|  Argentina|https://cdn.sofif...|          75|            75|Club Atl��tico Ta...|https://cdn.sofif...|         0.45|     10|   1876|          Left|                       1|        3|          3|     Low/ High|   Normal|       No|     LCM|            5|Jan 20, 2016|       null|                2019|   5.9|   179.832| 150.0|   68.0388|      63|       48|             60|          82|     25|       63|   65|        30|         68|         70|          58|         61|     56|       58|     77|       65|     75|     89|      79|       60|        84|           73|         67|    69|       55|       74|     76|            76|           68|      12|        10|       12|            9|        13|             675K|        null|             0|         null|   No_Growth|           MID|\n",
            "|163631|      1|    L. Baines| 33|https://cdn.sofif...|    England|https://cdn.sofif...|          77|            77|             Everton|https://cdn.sofif...|          3.4|     74|   2126|          Left|                       3|        3|          3|  High/ Medium|   Normal|      Yes|      LB|            3| Aug 7, 2007|       null|                2019|   5.7|   173.736| 154.0| 69.853168|      84|       63|             74|          78|     63|       75|   81|        81|         74|         80|          66|         59|     69|       79|     83|       84|     67|     64|      55|       71|        74|           77|         73|    73|       90|       84|     76|            78|           77|       8|        15|       10|           13|        12|              6.5|        null|             0|         null|   No_Growth|           DEF|\n",
            "+------+-------+-------------+---+--------------------+-----------+--------------------+------------+--------------+--------------------+--------------------+-------------+-------+-------+--------------+------------------------+---------+-----------+--------------+---------+---------+--------+-------------+------------+-----------+--------------------+------+----------+------+----------+--------+---------+---------------+------------+-------+---------+-----+----------+-----------+-----------+------------+-----------+-------+---------+-------+---------+-------+-------+--------+---------+----------+-------------+-----------+------+---------+---------+-------+--------------+-------------+--------+----------+---------+-------------+----------+-----------------+------------+--------------+-------------+------------+--------------+\n",
            "only showing top 5 rows\n",
            "\n"
          ],
          "name": "stdout"
        }
      ]
    },
    {
      "cell_type": "code",
      "metadata": {
        "colab": {
          "base_uri": "https://localhost:8080/"
        },
        "id": "PXTRl3T6Kt5x",
        "outputId": "56fa215a-e1af-4ca3-d5e6-d046da88a9a5"
      },
      "source": [
        "df_kmeans_pred.show(5)"
      ],
      "execution_count": null,
      "outputs": [
        {
          "output_type": "stream",
          "text": [
            "+------+-------+-------------+---+--------------------+-----------+--------------------+------------+--------------+--------------------+--------------------+-------------+-------+-------+--------------+------------------------+---------+-----------+--------------+---------+---------+--------+-------------+------------+-----------+--------------------+------+----------+------+----------+--------+---------+---------------+------------+-------+---------+-----+----------+-----------+-----------+------------+-----------+-------+---------+-------+---------+-------+-------+--------+---------+----------+-------------+-----------+------+---------+---------+-------+--------------+-------------+--------+----------+---------+-------------+----------+-----------------+------------+--------------+-------------+------------+--------------+\n",
            "|    ID|Cluster|         Name|Age|               Photo|Nationality|                Flag|Overall_2019|Potential_2019|                Club|           Club Logo|Value_2019(M)|wage(K)|Special|Preferred Foot|International Reputation|Weak Foot|Skill Moves|     Work Rate|Body Type|Real Face|Position|Jersey Number|      Joined|Loaned From|Contract Valid Until|Height|Height(CM)|Weight|Weight(KG)|Crossing|Finishing|HeadingAccuracy|ShortPassing|Volleys|Dribbling|Curve|FKAccuracy|LongPassing|BallControl|Acceleration|SprintSpeed|Agility|Reactions|Balance|ShotPower|Jumping|Stamina|Strength|LongShots|Aggression|Interceptions|Positioning|Vision|Penalties|Composure|Marking|StandingTackle|SlidingTackle|GKDiving|GKHandling|GKKicking|GKPositioning|GKReflexes|Release Clause(M)|Overall_2021|Potential_2021|Value_2021(M)|Growth_Level|Position_Group|\n",
            "+------+-------+-------------+---+--------------------+-----------+--------------------+------------+--------------+--------------------+--------------------+-------------+-------+-------+--------------+------------------------+---------+-----------+--------------+---------+---------+--------+-------------+------------+-----------+--------------------+------+----------+------+----------+--------+---------+---------------+------------+-------+---------+-----+----------+-----------+-----------+------------+-----------+-------+---------+-------+---------+-------+-------+--------+---------+----------+-------------+-----------+------+---------+---------+-------+--------------+-------------+--------+----------+---------+-------------+----------+-----------------+------------+--------------+-------------+------------+--------------+\n",
            "|115909|      5|Rub��n Castro| 37|https://cdn.sofif...|      Spain|https://cdn.sofif...|          77|            77|       UD Las Palmas|https://cdn.sofif...|          3.2|     11|   1860|         Right|                       2|        3|          3|   Medium/ Low|   Normal|       No|      ST|            7|Jul 13, 2018|       null|                2020|   5.7|   173.736| 150.0|   68.0388|      60|       81|             71|          67|     70|       80|   69|        68|         45|         78|          77|         73|     85|       83|     77|       74|     76|     55|      57|       75|        50|           37|         83|    74|       76|       68|     36|            12|           14|      14|         8|       15|            8|        12|              5.1|          71|            71|          0.7|   No_Growth|           FWD|\n",
            "|137114|      0|     M. Ciani| 34|https://cdn.sofif...|     France|https://cdn.sofif...|          69|            69|           LA Galaxy|https://cdn.sofif...|        0.325|      4|   1416|         Right|                       2|        3|          2|Medium/ Medium|   Normal|      Yes|      CB|           28| Sep 2, 2017|       null|                2021|   6.4|   195.072| 194.0| 87.996848|      30|       26|             72|          55|     16|       38|   19|        55|         61|         46|          33|         35|     31|       54|     32|       79|     63|     58|      92|       44|        80|           71|         33|    24|       25|       54|     60|            69|           63|      15|         6|        9|            7|        15|             488K|        null|             0|         null|   No_Growth|           DEF|\n",
            "|155264|      6|   V. Demidov| 31|https://cdn.sofif...|     Norway|https://cdn.sofif...|          65|            65|      Stab?k Fotball|https://cdn.sofif...|        0.375|      1|   1509|         Right|                       1|        3|          2|Medium/ Medium|   Normal|       No|     LCB|            4| Mar 7, 2018|       null|                2019|   6.1|   185.928| 176.0| 79.832192|      36|       39|             67|          65|     41|       29|   43|        45|         65|         44|          37|         36|     52|       55|     34|       62|     61|     55|      74|       51|        73|           66|         38|    37|       41|       47|     65|            63|           65|      13|        16|       11|           15|        15|             469K|        null|             0|         null|   No_Growth|           DEF|\n",
            "|161468|      4|  P. Gui?az��| 39|https://cdn.sofif...|  Argentina|https://cdn.sofif...|          75|            75|Club Atl��tico Ta...|https://cdn.sofif...|         0.45|     10|   1876|          Left|                       1|        3|          3|     Low/ High|   Normal|       No|     LCM|            5|Jan 20, 2016|       null|                2019|   5.9|   179.832| 150.0|   68.0388|      63|       48|             60|          82|     25|       63|   65|        30|         68|         70|          58|         61|     56|       58|     77|       65|     75|     89|      79|       60|        84|           73|         67|    69|       55|       74|     76|            76|           68|      12|        10|       12|            9|        13|             675K|        null|             0|         null|   No_Growth|           MID|\n",
            "|163631|      1|    L. Baines| 33|https://cdn.sofif...|    England|https://cdn.sofif...|          77|            77|             Everton|https://cdn.sofif...|          3.4|     74|   2126|          Left|                       3|        3|          3|  High/ Medium|   Normal|      Yes|      LB|            3| Aug 7, 2007|       null|                2019|   5.7|   173.736| 154.0| 69.853168|      84|       63|             74|          78|     63|       75|   81|        81|         74|         80|          66|         59|     69|       79|     83|       84|     67|     64|      55|       71|        74|           77|         73|    73|       90|       84|     76|            78|           77|       8|        15|       10|           13|        12|              6.5|        null|             0|         null|   No_Growth|           DEF|\n",
            "+------+-------+-------------+---+--------------------+-----------+--------------------+------------+--------------+--------------------+--------------------+-------------+-------+-------+--------------+------------------------+---------+-----------+--------------+---------+---------+--------+-------------+------------+-----------+--------------------+------+----------+------+----------+--------+---------+---------------+------------+-------+---------+-----+----------+-----------+-----------+------------+-----------+-------+---------+-------+---------+-------+-------+--------+---------+----------+-------------+-----------+------+---------+---------+-------+--------------+-------------+--------+----------+---------+-------------+----------+-----------------+------------+--------------+-------------+------------+--------------+\n",
            "only showing top 5 rows\n",
            "\n"
          ],
          "name": "stdout"
        }
      ]
    },
    {
      "cell_type": "code",
      "metadata": {
        "colab": {
          "base_uri": "https://localhost:8080/"
        },
        "id": "ZMZTHPCrJ_YB",
        "outputId": "c41076d5-a7af-4a1a-e5b6-c0be3f9fa648"
      },
      "source": [
        "print((df_test.count(), len(df_test.columns)))"
      ],
      "execution_count": null,
      "outputs": [
        {
          "output_type": "stream",
          "text": [
            "(16122, 70)\n"
          ],
          "name": "stdout"
        }
      ]
    },
    {
      "cell_type": "code",
      "metadata": {
        "colab": {
          "base_uri": "https://localhost:8080/"
        },
        "id": "id_y-9vBKSd8",
        "outputId": "b85fa2aa-2bdf-40ff-9259-dabaab4aaec8"
      },
      "source": [
        "print((df_kmeans_pred.count(), len(df_kmeans_pred.columns)))"
      ],
      "execution_count": null,
      "outputs": [
        {
          "output_type": "stream",
          "text": [
            "(16122, 70)\n"
          ],
          "name": "stdout"
        }
      ]
    },
    {
      "cell_type": "markdown",
      "metadata": {
        "id": "nb_oFT80Cbcy"
      },
      "source": [
        "In this section, we perform hyper-parameter tuning to find the best hyper-parameter set using K-fold cross validation along with param grid. "
      ]
    },
    {
      "cell_type": "code",
      "metadata": {
        "id": "0yCvsy1-jO7x"
      },
      "source": [
        "from pyspark.ml import Pipeline\n",
        "from pyspark.ml.classification import RandomForestClassifier, DecisionTreeClassifier\n",
        "from pyspark.ml.evaluation import MulticlassClassificationEvaluator\n",
        "from pyspark.ml.tuning import ParamGridBuilder, CrossValidator\n",
        "import encoder"
      ],
      "execution_count": 80,
      "outputs": []
    },
    {
      "cell_type": "markdown",
      "metadata": {
        "id": "rzEmnsKCPi8A"
      },
      "source": [
        "Preprocessing Stages:"
      ]
    },
    {
      "cell_type": "markdown",
      "metadata": {
        "id": "Vz9WI2HLPvNi"
      },
      "source": [
        "Setting the pipeline"
      ]
    },
    {
      "cell_type": "code",
      "metadata": {
        "id": "xwrGN9nun__-"
      },
      "source": [
        "# creating the preprocessing stages for the Machine Learning pipeline and setting the pipeline\n",
        "# defining the stage 1\n",
        "vec_assembler_mlp = VectorAssembler(inputCols=features_col, outputCol='features')\n",
        "# defining the stage 2\n",
        "standard_scaler_mlp = StandardScaler().setInputCol('features').setOutputCol('Scaled_features')\n",
        "# defining the stage 3\n",
        "encoding_mlp = encoder.LabelEncoder()\n",
        "# defining the last stage (random forest)\n",
        "random_forest = RandomForestClassifier(labelCol='Target', featuresCol='Scaled_features', numTrees=20, maxDepth=5,\\\n",
        "                                       impurity='gini')\n",
        "# defining the last stage (logistic regression)\n",
        "logistic_regression = LogisticRegression(featuresCol='Scaled_features', labelCol='Target', maxIter=100, regParam=0, threshold=0.5)\n",
        "# defining the last stage (decision tree)\n",
        "decision_tree = DecisionTreeClassifier(featuresCol='Scaled_features', labelCol='Target', maxDepth=5, maxBins=32, impurity='gini')\n",
        "\n",
        "\n",
        "# setting the pipeline for random_forest\n",
        "pipeline_random_forest = Pipeline(stages=[vec_assembler_mlp, standard_scaler_mlp, encoding_mlp, random_forest])\n",
        "# setting the pipeline for logistic_regression\n",
        "pipeline_logistic_regression = Pipeline(stages=[vec_assembler_mlp, standard_scaler_mlp, encoding_mlp, logistic_regression])\n",
        "# setting the pipeline for decision tree\n",
        "pipeline_decision_tree = Pipeline(stages=[vec_assembler_mlp, standard_scaler_mlp, encoding_mlp, decision_tree])"
      ],
      "execution_count": 81,
      "outputs": []
    },
    {
      "cell_type": "markdown",
      "metadata": {
        "id": "qhq0bxUOP7ZV"
      },
      "source": [
        "Buidling parameter grids"
      ]
    },
    {
      "cell_type": "code",
      "metadata": {
        "id": "_JyIHePVoWL0"
      },
      "source": [
        "# building a grid of parameters for random forest to be used by the cross-\n",
        "# providing number of trees, depth of trees and impurity measures as inputs for parameter grids\n",
        "paramGrid_random_forest = ParamGridBuilder().addGrid(random_forest.numTrees, [5, 10, 20, 40])\\\n",
        ".addGrid(random_forest.maxDepth, [4,14,24])\\\n",
        ".addGrid(random_forest.impurity, ['entropy', 'gini']).build()\n",
        "\n",
        "# building a grid of parameters for logistic regression to be used by the cross-validation\n",
        "# providing iteration number, different lambda values and threshold values for paramter grids\n",
        "paramGrid_logistic_regression = ParamGridBuilder().addGrid(logistic_regression.maxIter, [50, 100, 200, 250])\\\n",
        ".addGrid(logistic_regression.regParam, [0.1,0, 1, 10]).build()\n",
        "\n",
        "# building a grid of parameters for decision tree to be used by the cross-validation\n",
        "# providing various maxBins, maxDepth and impurity values as parameters\n",
        "paramGrid_decision_tree = ParamGridBuilder().addGrid(decision_tree.maxDepth, [5, 10, 20, 30])\\\n",
        " .addGrid(decision_tree.maxBins, [15, 25, 32])\\\n",
        " .addGrid(decision_tree.impurity, ['entropy', 'gini']).build()"
      ],
      "execution_count": 82,
      "outputs": []
    },
    {
      "cell_type": "markdown",
      "metadata": {
        "id": "wT26nwRlQGY-"
      },
      "source": [
        "Splitting the dataset"
      ]
    },
    {
      "cell_type": "code",
      "metadata": {
        "id": "S5grj1KV9Il3"
      },
      "source": [
        "# splitting the data into training and testing dataset\n",
        "training, testing = df_final.randomSplit([0.7, 0.3], seed=2020)"
      ],
      "execution_count": 85,
      "outputs": []
    },
    {
      "cell_type": "code",
      "metadata": {
        "colab": {
          "base_uri": "https://localhost:8080/"
        },
        "id": "TCv68NAn7vBQ",
        "outputId": "38084529-e492-440c-cbe3-38bb7c071c52"
      },
      "source": [
        "print((training.count(), len(training.columns)))"
      ],
      "execution_count": 86,
      "outputs": [
        {
          "output_type": "stream",
          "text": [
            "(11363, 70)\n"
          ],
          "name": "stdout"
        }
      ]
    },
    {
      "cell_type": "code",
      "metadata": {
        "colab": {
          "base_uri": "https://localhost:8080/"
        },
        "id": "MQpY3m2r8NEk",
        "outputId": "e737baf6-22f1-445f-e72f-d17490b96b4b"
      },
      "source": [
        "print((training.count(), len(training.columns)))"
      ],
      "execution_count": null,
      "outputs": [
        {
          "output_type": "stream",
          "text": [
            "(11319, 70)\n"
          ],
          "name": "stdout"
        }
      ]
    },
    {
      "cell_type": "markdown",
      "metadata": {
        "id": "pLNZ0MdpHAeu"
      },
      "source": [
        "**Cross validation**\n",
        "\n",
        "\n"
      ]
    },
    {
      "cell_type": "markdown",
      "metadata": {
        "id": "ygCKee-wHTyd"
      },
      "source": [
        "Cross validating the random forest"
      ]
    },
    {
      "cell_type": "code",
      "metadata": {
        "id": "IP2w_7Rgt2G9"
      },
      "source": [
        "# cross validating for random forest\n",
        "crossval_random_forest = CrossValidator(estimator=pipeline_random_forest,\\\n",
        "                          estimatorParamMaps=paramGrid_random_forest,\\\n",
        "                          evaluator=MulticlassClassificationEvaluator(labelCol='Target', predictionCol='prediction'),\\\n",
        "                          numFolds=10)\n",
        "\n",
        "# fitting the training data\n",
        "cv_random_forest= crossval_random_forest.fit(training)"
      ],
      "execution_count": 87,
      "outputs": []
    },
    {
      "cell_type": "markdown",
      "metadata": {
        "id": "KNMOxWceHtNE"
      },
      "source": [
        "Displaying the parameter values with scores along with finding the best parameter values and fitting the testing dataset"
      ]
    },
    {
      "cell_type": "code",
      "metadata": {
        "colab": {
          "base_uri": "https://localhost:8080/",
          "height": 785
        },
        "id": "iNyM5v8S4nrL",
        "outputId": "ca374126-f05b-47f8-ac46-3b633b38fe08"
      },
      "source": [
        "# creating a dictionary of parameter and values after retrieving the estimator parameter map\n",
        "parameter_values_rf = [{parameter.name: values for parameter, values in parameter_maps.items()} for parameter_maps in cv_random_forest.getEstimatorParamMaps()]\n",
        "#print(parameter_values_rf)\n",
        "# creating a pandas dataframe containing measuring scores corresponding to each parameter value for different parameters from a dictionary \n",
        "# the first column is the score and the remaining are the parameters\n",
        "pd.DataFrame.from_dict([{cv_random_forest.getEvaluator().getMetricName(): metric, **pvs}\\\n",
        "    for pvs, metric in zip(parameter_values_rf, cv_random_forest.avgMetrics)\n",
        "])"
      ],
      "execution_count": 88,
      "outputs": [
        {
          "output_type": "execute_result",
          "data": {
            "text/html": [
              "<div>\n",
              "<style scoped>\n",
              "    .dataframe tbody tr th:only-of-type {\n",
              "        vertical-align: middle;\n",
              "    }\n",
              "\n",
              "    .dataframe tbody tr th {\n",
              "        vertical-align: top;\n",
              "    }\n",
              "\n",
              "    .dataframe thead th {\n",
              "        text-align: right;\n",
              "    }\n",
              "</style>\n",
              "<table border=\"1\" class=\"dataframe\">\n",
              "  <thead>\n",
              "    <tr style=\"text-align: right;\">\n",
              "      <th></th>\n",
              "      <th>f1</th>\n",
              "      <th>numTrees</th>\n",
              "      <th>maxDepth</th>\n",
              "      <th>impurity</th>\n",
              "    </tr>\n",
              "  </thead>\n",
              "  <tbody>\n",
              "    <tr>\n",
              "      <th>0</th>\n",
              "      <td>0.778420</td>\n",
              "      <td>5</td>\n",
              "      <td>4</td>\n",
              "      <td>entropy</td>\n",
              "    </tr>\n",
              "    <tr>\n",
              "      <th>1</th>\n",
              "      <td>0.790429</td>\n",
              "      <td>5</td>\n",
              "      <td>4</td>\n",
              "      <td>gini</td>\n",
              "    </tr>\n",
              "    <tr>\n",
              "      <th>2</th>\n",
              "      <td>0.834875</td>\n",
              "      <td>5</td>\n",
              "      <td>14</td>\n",
              "      <td>entropy</td>\n",
              "    </tr>\n",
              "    <tr>\n",
              "      <th>3</th>\n",
              "      <td>0.834080</td>\n",
              "      <td>5</td>\n",
              "      <td>14</td>\n",
              "      <td>gini</td>\n",
              "    </tr>\n",
              "    <tr>\n",
              "      <th>4</th>\n",
              "      <td>0.830326</td>\n",
              "      <td>5</td>\n",
              "      <td>24</td>\n",
              "      <td>entropy</td>\n",
              "    </tr>\n",
              "    <tr>\n",
              "      <th>5</th>\n",
              "      <td>0.828899</td>\n",
              "      <td>5</td>\n",
              "      <td>24</td>\n",
              "      <td>gini</td>\n",
              "    </tr>\n",
              "    <tr>\n",
              "      <th>6</th>\n",
              "      <td>0.805837</td>\n",
              "      <td>10</td>\n",
              "      <td>4</td>\n",
              "      <td>entropy</td>\n",
              "    </tr>\n",
              "    <tr>\n",
              "      <th>7</th>\n",
              "      <td>0.810868</td>\n",
              "      <td>10</td>\n",
              "      <td>4</td>\n",
              "      <td>gini</td>\n",
              "    </tr>\n",
              "    <tr>\n",
              "      <th>8</th>\n",
              "      <td>0.853937</td>\n",
              "      <td>10</td>\n",
              "      <td>14</td>\n",
              "      <td>entropy</td>\n",
              "    </tr>\n",
              "    <tr>\n",
              "      <th>9</th>\n",
              "      <td>0.846169</td>\n",
              "      <td>10</td>\n",
              "      <td>14</td>\n",
              "      <td>gini</td>\n",
              "    </tr>\n",
              "    <tr>\n",
              "      <th>10</th>\n",
              "      <td>0.850530</td>\n",
              "      <td>10</td>\n",
              "      <td>24</td>\n",
              "      <td>entropy</td>\n",
              "    </tr>\n",
              "    <tr>\n",
              "      <th>11</th>\n",
              "      <td>0.841964</td>\n",
              "      <td>10</td>\n",
              "      <td>24</td>\n",
              "      <td>gini</td>\n",
              "    </tr>\n",
              "    <tr>\n",
              "      <th>12</th>\n",
              "      <td>0.808207</td>\n",
              "      <td>20</td>\n",
              "      <td>4</td>\n",
              "      <td>entropy</td>\n",
              "    </tr>\n",
              "    <tr>\n",
              "      <th>13</th>\n",
              "      <td>0.811834</td>\n",
              "      <td>20</td>\n",
              "      <td>4</td>\n",
              "      <td>gini</td>\n",
              "    </tr>\n",
              "    <tr>\n",
              "      <th>14</th>\n",
              "      <td>0.858695</td>\n",
              "      <td>20</td>\n",
              "      <td>14</td>\n",
              "      <td>entropy</td>\n",
              "    </tr>\n",
              "    <tr>\n",
              "      <th>15</th>\n",
              "      <td>0.855097</td>\n",
              "      <td>20</td>\n",
              "      <td>14</td>\n",
              "      <td>gini</td>\n",
              "    </tr>\n",
              "    <tr>\n",
              "      <th>16</th>\n",
              "      <td>0.857615</td>\n",
              "      <td>20</td>\n",
              "      <td>24</td>\n",
              "      <td>entropy</td>\n",
              "    </tr>\n",
              "    <tr>\n",
              "      <th>17</th>\n",
              "      <td>0.854315</td>\n",
              "      <td>20</td>\n",
              "      <td>24</td>\n",
              "      <td>gini</td>\n",
              "    </tr>\n",
              "    <tr>\n",
              "      <th>18</th>\n",
              "      <td>0.808873</td>\n",
              "      <td>40</td>\n",
              "      <td>4</td>\n",
              "      <td>entropy</td>\n",
              "    </tr>\n",
              "    <tr>\n",
              "      <th>19</th>\n",
              "      <td>0.812971</td>\n",
              "      <td>40</td>\n",
              "      <td>4</td>\n",
              "      <td>gini</td>\n",
              "    </tr>\n",
              "    <tr>\n",
              "      <th>20</th>\n",
              "      <td>0.863942</td>\n",
              "      <td>40</td>\n",
              "      <td>14</td>\n",
              "      <td>entropy</td>\n",
              "    </tr>\n",
              "    <tr>\n",
              "      <th>21</th>\n",
              "      <td>0.861456</td>\n",
              "      <td>40</td>\n",
              "      <td>14</td>\n",
              "      <td>gini</td>\n",
              "    </tr>\n",
              "    <tr>\n",
              "      <th>22</th>\n",
              "      <td>0.863017</td>\n",
              "      <td>40</td>\n",
              "      <td>24</td>\n",
              "      <td>entropy</td>\n",
              "    </tr>\n",
              "    <tr>\n",
              "      <th>23</th>\n",
              "      <td>0.860539</td>\n",
              "      <td>40</td>\n",
              "      <td>24</td>\n",
              "      <td>gini</td>\n",
              "    </tr>\n",
              "  </tbody>\n",
              "</table>\n",
              "</div>"
            ],
            "text/plain": [
              "          f1  numTrees  maxDepth impurity\n",
              "0   0.778420         5         4  entropy\n",
              "1   0.790429         5         4     gini\n",
              "2   0.834875         5        14  entropy\n",
              "3   0.834080         5        14     gini\n",
              "4   0.830326         5        24  entropy\n",
              "5   0.828899         5        24     gini\n",
              "6   0.805837        10         4  entropy\n",
              "7   0.810868        10         4     gini\n",
              "8   0.853937        10        14  entropy\n",
              "9   0.846169        10        14     gini\n",
              "10  0.850530        10        24  entropy\n",
              "11  0.841964        10        24     gini\n",
              "12  0.808207        20         4  entropy\n",
              "13  0.811834        20         4     gini\n",
              "14  0.858695        20        14  entropy\n",
              "15  0.855097        20        14     gini\n",
              "16  0.857615        20        24  entropy\n",
              "17  0.854315        20        24     gini\n",
              "18  0.808873        40         4  entropy\n",
              "19  0.812971        40         4     gini\n",
              "20  0.863942        40        14  entropy\n",
              "21  0.861456        40        14     gini\n",
              "22  0.863017        40        24  entropy\n",
              "23  0.860539        40        24     gini"
            ]
          },
          "metadata": {
            "tags": []
          },
          "execution_count": 88
        }
      ]
    },
    {
      "cell_type": "code",
      "metadata": {
        "colab": {
          "base_uri": "https://localhost:8080/"
        },
        "id": "-c6v-6pi5_uR",
        "outputId": "ae087509-ddf7-4de2-8e02-28820c916526"
      },
      "source": [
        "# printing the parameter values for the best estimator\n",
        "print(cv_random_forest.getEstimatorParamMaps()[np.argmax(cv_random_forest.avgMetrics)])"
      ],
      "execution_count": 89,
      "outputs": [
        {
          "output_type": "stream",
          "text": [
            "{Param(parent='RandomForestClassifier_a33bebc2371b', name='numTrees', doc='Number of trees to train (>= 1).'): 40, Param(parent='RandomForestClassifier_a33bebc2371b', name='maxDepth', doc='Maximum depth of the tree. (>= 0) E.g., depth 0 means 1 leaf node; depth 1 means 1 internal node + 2 leaf nodes.'): 14, Param(parent='RandomForestClassifier_a33bebc2371b', name='impurity', doc='Criterion used for information gain calculation (case-insensitive). Supported options: entropy, gini'): 'entropy'}\n"
          ],
          "name": "stdout"
        }
      ]
    },
    {
      "cell_type": "code",
      "metadata": {
        "colab": {
          "base_uri": "https://localhost:8080/"
        },
        "id": "9PfjA9DI6YrH",
        "outputId": "c539f046-d106-4479-aa41-1ce609dc024b"
      },
      "source": [
        "# fitting the training data using the best model\n",
        "prediction_random_forest = cv_random_forest.bestModel.transform(testing).select('Target', 'prediction')\n",
        "prediction_random_forest.show()"
      ],
      "execution_count": 90,
      "outputs": [
        {
          "output_type": "stream",
          "text": [
            "+------+----------+\n",
            "|Target|prediction|\n",
            "+------+----------+\n",
            "|     2|       2.0|\n",
            "|     2|       2.0|\n",
            "|     1|       1.0|\n",
            "|     2|       2.0|\n",
            "|     1|       1.0|\n",
            "|     2|       2.0|\n",
            "|     2|       2.0|\n",
            "|     0|       2.0|\n",
            "|     2|       0.0|\n",
            "|     2|       2.0|\n",
            "|     2|       1.0|\n",
            "|     1|       2.0|\n",
            "|     0|       0.0|\n",
            "|     2|       2.0|\n",
            "|     2|       2.0|\n",
            "|     0|       2.0|\n",
            "|     1|       2.0|\n",
            "|     1|       1.0|\n",
            "|     2|       2.0|\n",
            "|     0|       2.0|\n",
            "+------+----------+\n",
            "only showing top 20 rows\n",
            "\n"
          ],
          "name": "stdout"
        }
      ]
    },
    {
      "cell_type": "code",
      "metadata": {
        "id": "TdLatmk-Gt2K",
        "colab": {
          "base_uri": "https://localhost:8080/"
        },
        "outputId": "e60217d1-4c29-4a14-c58f-8c9a0a5c9b44"
      },
      "source": [
        "confusion_matrix_random_forest = calculate_confusion_matrix(prediction_random_forest)\n",
        "#confusion_matrix_random_forest"
      ],
      "execution_count": 125,
      "outputs": [
        {
          "output_type": "stream",
          "text": [
            "Precision for FWD is 84.45\n",
            "Recall for FWD is 76.19\n",
            "F1-score for FWD is 80.11\n",
            "\n",
            "Precision for DEF is 91.72\n",
            "Recall for DEF is 92.89\n",
            "F1-score for DEF is 92.3\n",
            "\n",
            "Precision for MID is 83.3\n",
            "Recall for MID is 86.37\n",
            "F1-score for MID is 84.81\n",
            "\n"
          ],
          "name": "stdout"
        }
      ]
    },
    {
      "cell_type": "code",
      "metadata": {
        "colab": {
          "base_uri": "https://localhost:8080/"
        },
        "id": "boa7oZDocBF0",
        "outputId": "8c83bb68-3fdf-4147-9cd2-998028f2fa0a"
      },
      "source": [
        "confusion_matrix_random_forest"
      ],
      "execution_count": 111,
      "outputs": [
        {
          "output_type": "execute_result",
          "data": {
            "text/plain": [
              "(array([[ 755,    6,  230],\n",
              "        [   0, 1606,  123],\n",
              "        [ 139,  139, 1761]], dtype=int32),\n",
              " (0.8445190156599552, 0.7618567103935419, 0.8010610079575596),\n",
              " (0.9171901770416905, 0.9288606130711394, 0.9229885057471265),\n",
              " (0.8330179754020813, 0.8636586562040216, 0.8480616421863713))"
            ]
          },
          "metadata": {
            "tags": []
          },
          "execution_count": 111
        }
      ]
    },
    {
      "cell_type": "markdown",
      "metadata": {
        "id": "U-T6-pk4H-u2"
      },
      "source": [
        "Cross validating the logistic regression"
      ]
    },
    {
      "cell_type": "code",
      "metadata": {
        "id": "3Hmiry078YJe"
      },
      "source": [
        "# cross validating for logistic regression\n",
        "crossval_logistic_regression = CrossValidator(estimator=pipeline_logistic_regression,\\\n",
        "                          estimatorParamMaps=paramGrid_logistic_regression,\\\n",
        "                          evaluator=MulticlassClassificationEvaluator(labelCol='Target', predictionCol='prediction'),\\\n",
        "                          numFolds=10)\n",
        "\n",
        "# fitting the training dataset\n",
        "cv_logistic_regression = crossval_logistic_regression.fit(training)"
      ],
      "execution_count": 93,
      "outputs": []
    },
    {
      "cell_type": "code",
      "metadata": {
        "colab": {
          "base_uri": "https://localhost:8080/"
        },
        "id": "vpnlfLM5EGhp",
        "outputId": "58791004-ac8b-4a23-bf8d-8a6b35d85875"
      },
      "source": [
        "# fitting the training data using the best model\n",
        "prediction_logistic_regression = cv_logistic_regression.bestModel.transform(testing).select('Target', 'prediction')\n",
        "prediction_logistic_regression.show()"
      ],
      "execution_count": 94,
      "outputs": [
        {
          "output_type": "stream",
          "text": [
            "+------+----------+\n",
            "|Target|prediction|\n",
            "+------+----------+\n",
            "|     2|       2.0|\n",
            "|     2|       2.0|\n",
            "|     1|       1.0|\n",
            "|     2|       2.0|\n",
            "|     1|       1.0|\n",
            "|     2|       2.0|\n",
            "|     2|       2.0|\n",
            "|     0|       2.0|\n",
            "|     2|       2.0|\n",
            "|     2|       2.0|\n",
            "|     2|       1.0|\n",
            "|     1|       2.0|\n",
            "|     0|       0.0|\n",
            "|     2|       2.0|\n",
            "|     2|       2.0|\n",
            "|     0|       2.0|\n",
            "|     1|       2.0|\n",
            "|     1|       1.0|\n",
            "|     2|       2.0|\n",
            "|     0|       2.0|\n",
            "+------+----------+\n",
            "only showing top 20 rows\n",
            "\n"
          ],
          "name": "stdout"
        }
      ]
    },
    {
      "cell_type": "code",
      "metadata": {
        "id": "NmZLmNTpUszn",
        "colab": {
          "base_uri": "https://localhost:8080/"
        },
        "outputId": "d5ff3fb4-0612-42de-cb9c-10c65a96d957"
      },
      "source": [
        "confusion_matrix_logistic_regression = calculate_confusion_matrix(prediction_logistic_regression)"
      ],
      "execution_count": 126,
      "outputs": [
        {
          "output_type": "stream",
          "text": [
            "Precision for FWD is 82.51\n",
            "Recall for FWD is 79.01\n",
            "F1-score for FWD is 80.72\n",
            "\n",
            "Precision for DEF is 92.25\n",
            "Recall for DEF is 91.61\n",
            "F1-score for DEF is 91.93\n",
            "\n",
            "Precision for MID is 83.42\n",
            "Recall for MID is 85.63\n",
            "F1-score for MID is 84.51\n",
            "\n"
          ],
          "name": "stdout"
        }
      ]
    },
    {
      "cell_type": "code",
      "metadata": {
        "colab": {
          "base_uri": "https://localhost:8080/"
        },
        "id": "YyYX2lOYcfHt",
        "outputId": "1c17f3d8-c50e-4a11-fedc-d7ee14061173"
      },
      "source": [
        "confusion_matrix_logistic_regression"
      ],
      "execution_count": 113,
      "outputs": [
        {
          "output_type": "execute_result",
          "data": {
            "text/plain": [
              "(array([[ 783,    6,  202],\n",
              "        [   0, 1584,  145],\n",
              "        [ 166,  127, 1746]], dtype=int32),\n",
              " (0.8250790305584826, 0.7901109989909183, 0.8072164948453608),\n",
              " (0.9225393127548049, 0.9161364950838635, 0.9193267556587348),\n",
              " (0.8342092689918776, 0.8563021088769004, 0.8451113262342691))"
            ]
          },
          "metadata": {
            "tags": []
          },
          "execution_count": 113
        }
      ]
    },
    {
      "cell_type": "markdown",
      "metadata": {
        "id": "0nXmDaLMI165"
      },
      "source": [
        "Cross validating the Decision Tree"
      ]
    },
    {
      "cell_type": "code",
      "metadata": {
        "id": "MAbVzARj8ZNp"
      },
      "source": [
        "# cross validating for decision tree\n",
        "crossval_decision_tree = CrossValidator(estimator=pipeline_decision_tree,\\\n",
        "                          estimatorParamMaps=paramGrid_decision_tree,\\\n",
        "                          evaluator=MulticlassClassificationEvaluator(labelCol='Target', predictionCol='prediction'),\\\n",
        "                          numFolds=10)\n",
        "# fitting the training dataset\n",
        "cv_decision_tree = crossval_decision_tree.fit(training)"
      ],
      "execution_count": 98,
      "outputs": []
    },
    {
      "cell_type": "code",
      "metadata": {
        "colab": {
          "base_uri": "https://localhost:8080/"
        },
        "id": "Y54ZJ_XcFLt8",
        "outputId": "1e59c3cd-f378-4a3d-d2fc-224a63ba6948"
      },
      "source": [
        "# fitting the training data using the best model\n",
        "prediction_decision_tree = cv_decision_tree.bestModel.transform(testing).select('Target', 'prediction')\n",
        "prediction_decision_tree.show()"
      ],
      "execution_count": 99,
      "outputs": [
        {
          "output_type": "stream",
          "text": [
            "+------+----------+\n",
            "|Target|prediction|\n",
            "+------+----------+\n",
            "|     2|       2.0|\n",
            "|     2|       2.0|\n",
            "|     1|       1.0|\n",
            "|     2|       2.0|\n",
            "|     1|       1.0|\n",
            "|     2|       2.0|\n",
            "|     2|       2.0|\n",
            "|     0|       0.0|\n",
            "|     2|       2.0|\n",
            "|     2|       2.0|\n",
            "|     2|       1.0|\n",
            "|     1|       2.0|\n",
            "|     0|       0.0|\n",
            "|     2|       0.0|\n",
            "|     2|       2.0|\n",
            "|     0|       2.0|\n",
            "|     1|       2.0|\n",
            "|     1|       1.0|\n",
            "|     2|       2.0|\n",
            "|     0|       2.0|\n",
            "+------+----------+\n",
            "only showing top 20 rows\n",
            "\n"
          ],
          "name": "stdout"
        }
      ]
    },
    {
      "cell_type": "code",
      "metadata": {
        "colab": {
          "base_uri": "https://localhost:8080/"
        },
        "id": "MWDPjp-u7y6h",
        "outputId": "967f43f8-0890-4493-882d-296b8edd0672"
      },
      "source": [
        "confusion_matrix_decision_tree = calculate_confusion_matrix(prediction_decision_tree)"
      ],
      "execution_count": 127,
      "outputs": [
        {
          "output_type": "stream",
          "text": [
            "Precision for FWD is 76.57\n",
            "Recall for FWD is 73.86\n",
            "F1-score for FWD is 75.19\n",
            "\n",
            "Precision for DEF is 88.68\n",
            "Recall for DEF is 88.78\n",
            "F1-score for DEF is 88.73\n",
            "\n",
            "Precision for MID is 78.96\n",
            "Recall for MID is 80.24\n",
            "F1-score for MID is 79.59\n",
            "\n"
          ],
          "name": "stdout"
        }
      ]
    },
    {
      "cell_type": "markdown",
      "metadata": {
        "id": "tjUsSm9Dhqy2"
      },
      "source": [
        "Creating tables or dataframes to compare the performance of different classifiers."
      ]
    },
    {
      "cell_type": "code",
      "metadata": {
        "id": "bNh6InPwkfts"
      },
      "source": [
        "# creating a new dataframe from list of classifers\n",
        "classifiers = ('Random Forest', 'Logistic Regression', 'Decision Tree')\n",
        "df_classifier = spark.createDataFrame([(l,) for l in classifiers], ['Classifier'])"
      ],
      "execution_count": 248,
      "outputs": []
    },
    {
      "cell_type": "code",
      "metadata": {
        "id": "_duX4gtqcngz"
      },
      "source": [
        "# populating the data for dataframes containing performance indicators\n",
        "data_fwd = [confusion_matrix_random_forest[1], confusion_matrix_random_forest[2], \\\n",
        "        confusion_matrix_random_forest[3]]\n",
        "data_def = [confusion_matrix_logistic_regression[1], confusion_matrix_logistic_regression[2], \\\n",
        "        confusion_matrix_logistic_regression[3]]\n",
        "data_mid = [confusion_matrix_decision_tree[1], confusion_matrix_decision_tree[2], \\\n",
        "        confusion_matrix_decision_tree[3]]"
      ],
      "execution_count": 250,
      "outputs": []
    },
    {
      "cell_type": "code",
      "metadata": {
        "id": "jZkW-QDheL6h"
      },
      "source": [
        "# defining the schema of the dataframes containing performance metrics\n",
        "from pyspark.sql.types import StructType, StructField, StringType\n",
        "schema = StructType([\n",
        "    StructField('Precision', FloatType(), False),\n",
        "    StructField('Recall', FloatType(), False),\n",
        "    StructField('F1-score', FloatType(), False)\n",
        "    ])"
      ],
      "execution_count": 252,
      "outputs": []
    },
    {
      "cell_type": "code",
      "metadata": {
        "colab": {
          "base_uri": "https://localhost:8080/"
        },
        "id": "qwCGVLfweaI-",
        "outputId": "3abcd965-f144-4778-bf04-05a8c54d7e7c"
      },
      "source": [
        "# creating dataframes\n",
        "fwd_df = spark.createDataFrame(data_fwd, schema)\n",
        "def_df = spark.createDataFrame(data_def, schema)\n",
        "mid_df = spark.createDataFrame(data_mid, schema)\n",
        "print('Forwards:')\n",
        "fwd_comparison_df.show()\n",
        "\n",
        "#def_comparison_df = spark.createDataFrame(data_def, schema)\n",
        "#print('Defenders:')\n",
        "#def_comparison_df.show()\n",
        "\n",
        "#mid_comparison_df = spark.createDataFrame(data_mid, schema)\n",
        "#print('Midfielders:')\n",
        "#mid_comparison_df.show()"
      ],
      "execution_count": 253,
      "outputs": [
        {
          "output_type": "stream",
          "text": [
            "Forwards:\n",
            "+---------+------+--------+\n",
            "|Precision|Recall|F1-score|\n",
            "+---------+------+--------+\n",
            "|    84.45| 76.19|   80.11|\n",
            "|    91.72| 92.89|    92.3|\n",
            "|     83.3| 86.37|   84.81|\n",
            "+---------+------+--------+\n",
            "\n"
          ],
          "name": "stdout"
        }
      ]
    },
    {
      "cell_type": "code",
      "metadata": {
        "id": "UAUdPgLHCHCz"
      },
      "source": [
        "# adding index to the dataframes to join later\n",
        "from pyspark.sql.functions import monotonically_increasing_id, row_number\n",
        "from pyspark.sql import Window\n",
        "fwd_comparison_df = fwd_comparison_df.withColumn(\"row_index\", row_number().over(Window.orderBy(monotonically_increasing_id())))\n",
        "df_classifier = df_classifier.withColumn(\"row_index\", row_number().over(Window.orderBy(monotonically_increasing_id())))\n",
        "final_df = df_classifier.join(fwd_comparison_df, fwd_comparison_df.row_index == df_classifier.row_index).drop(\"row_index\")"
      ],
      "execution_count": 261,
      "outputs": []
    },
    {
      "cell_type": "code",
      "metadata": {
        "colab": {
          "base_uri": "https://localhost:8080/"
        },
        "id": "V0hIr5AnDSYk",
        "outputId": "9170ce87-7484-42e8-91a3-1c7d0e8c97e9"
      },
      "source": [
        "final_df.show()"
      ],
      "execution_count": 262,
      "outputs": [
        {
          "output_type": "stream",
          "text": [
            "+-------------------+---------+------+--------+\n",
            "|         Classifier|Precision|Recall|F1-score|\n",
            "+-------------------+---------+------+--------+\n",
            "|      Random Forest|    84.45| 76.19|   80.11|\n",
            "|Logistic Regression|    91.72| 92.89|    92.3|\n",
            "|      Decision Tree|     83.3| 86.37|   84.81|\n",
            "+-------------------+---------+------+--------+\n",
            "\n"
          ],
          "name": "stdout"
        }
      ]
    },
    {
      "cell_type": "code",
      "metadata": {
        "id": "nhlJh-n5e6xt"
      },
      "source": [
        "from pyspark.sql.types import StructType, StructField\n",
        "from pyspark.sql.functions import monotonically_increasing_id, row_number\n",
        "from pyspark.sql import Window\n",
        "\n",
        "def comparison_table(confusion_matrix_a, confusion_matrix_b, confusion_matrix_c, pos):\n",
        "  # creating a new dataframe from list of classifiers\n",
        "  classifiers = ('Random Forest', 'Logistic Regression', 'Decision Tree')\n",
        "  df_classifier = spark.createDataFrame([(l,) for l in classifiers], ['Classifier'])\n",
        "\n",
        "  # stating conditions to select data based on player positions\n",
        "  if pos == 'FWD':\n",
        "    index = 1\n",
        "  elif pos == 'DEF':\n",
        "    index = 2\n",
        "  elif pos == 'MID':\n",
        "    index = 3\n",
        "\n",
        "  # populating the data for dataframes containing performance indicators\n",
        "  data_pos = [confusion_matrix_a[index], confusion_matrix_b[index], confusion_matrix_c[index]]\n",
        "  \n",
        "  # defining the schema of the dataframes containing performance metrics\n",
        "  schema = StructType([\n",
        "      StructField('Precision', FloatType(), False),\n",
        "      StructField('Recall', FloatType(), False),\n",
        "      StructField('F1-score', FloatType(), False)\n",
        "      ])\n",
        "  \n",
        "  # creating a dataframe for performance metrics\n",
        "  pos_df = spark.createDataFrame(data_pos, schema)\n",
        "\n",
        "  # adding index to the dataframes to join later\n",
        "  pos_df = pos_df.withColumn(\"row_index\", row_number().over(Window.orderBy(monotonically_increasing_id())))\n",
        "  df_classifier = df_classifier.withColumn(\"row_index\", row_number().over(Window.orderBy(monotonically_increasing_id())))\n",
        "  comparison_df = df_classifier.join(pos_df, pos_df.row_index == df_classifier.row_index).drop(\"row_index\")\n",
        "  \n",
        "  return comparison_df"
      ],
      "execution_count": 273,
      "outputs": []
    },
    {
      "cell_type": "code",
      "metadata": {
        "colab": {
          "base_uri": "https://localhost:8080/"
        },
        "id": "CLpla6oFFs2T",
        "outputId": "f76e1e68-48b9-4314-96f7-c173edc1248d"
      },
      "source": [
        "print('Forwards:')\n",
        "comparison_table(confusion_matrix_random_forest, confusion_matrix_logistic_regression, \\\n",
        "                 confusion_matrix_decision_tree, 'FWD').show()\n",
        "\n",
        "print('Defenders:')\n",
        "comparison_table(confusion_matrix_random_forest, confusion_matrix_logistic_regression, \\\n",
        "                 confusion_matrix_decision_tree, 'DEF').show()\n",
        "print('Midfielders:')\n",
        "comparison_table(confusion_matrix_random_forest, confusion_matrix_logistic_regression, \\\n",
        "                 confusion_matrix_decision_tree, 'MID').show()                "
      ],
      "execution_count": 274,
      "outputs": [
        {
          "output_type": "stream",
          "text": [
            "Forwards:\n",
            "+-------------------+---------+------+--------+\n",
            "|         Classifier|Precision|Recall|F1-score|\n",
            "+-------------------+---------+------+--------+\n",
            "|      Random Forest|    84.45| 76.19|   80.11|\n",
            "|Logistic Regression|    82.51| 79.01|   80.72|\n",
            "|      Decision Tree|    76.57| 73.86|   75.19|\n",
            "+-------------------+---------+------+--------+\n",
            "\n",
            "Defenders:\n",
            "+-------------------+---------+------+--------+\n",
            "|         Classifier|Precision|Recall|F1-score|\n",
            "+-------------------+---------+------+--------+\n",
            "|      Random Forest|    91.72| 92.89|    92.3|\n",
            "|Logistic Regression|    92.25| 91.61|   91.93|\n",
            "|      Decision Tree|    88.68| 88.78|   88.73|\n",
            "+-------------------+---------+------+--------+\n",
            "\n",
            "Midfielders:\n",
            "+-------------------+---------+------+--------+\n",
            "|         Classifier|Precision|Recall|F1-score|\n",
            "+-------------------+---------+------+--------+\n",
            "|      Random Forest|     83.3| 86.37|   84.81|\n",
            "|Logistic Regression|    83.42| 85.63|   84.51|\n",
            "|      Decision Tree|    78.96| 80.24|   79.59|\n",
            "+-------------------+---------+------+--------+\n",
            "\n"
          ],
          "name": "stdout"
        }
      ]
    },
    {
      "cell_type": "code",
      "metadata": {
        "id": "IrSvYhe5FtR0"
      },
      "source": [
        ""
      ],
      "execution_count": null,
      "outputs": []
    }
  ]
}
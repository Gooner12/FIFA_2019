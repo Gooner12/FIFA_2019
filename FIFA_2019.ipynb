{
  "nbformat": 4,
  "nbformat_minor": 0,
  "metadata": {
    "colab": {
      "name": "FIFA_2019.ipynb",
      "provenance": [],
      "collapsed_sections": [],
      "toc_visible": true
    },
    "kernelspec": {
      "display_name": "Python 3",
      "language": "python",
      "name": "python3"
    },
    "language_info": {
      "codemirror_mode": {
        "name": "ipython",
        "version": 3
      },
      "file_extension": ".py",
      "mimetype": "text/x-python",
      "name": "python",
      "nbconvert_exporter": "python",
      "pygments_lexer": "ipython3",
      "version": "3.7.6"
    }
  },
  "cells": [
    {
      "cell_type": "markdown",
      "metadata": {
        "id": "2ljGko6N-6vf"
      },
      "source": [
        "## Overview\n",
        "\n",
        "This analysis is based on the attributes of football players released on [FIFA19](https://www.kaggle.com/karangadiya/fifa19)  dataset on Kaggle. The dataset consists of more than 18000 records of player data with around 90 attributes extracted from FIFA database. In this project, we perform data analysis using **Spark packages**.\n",
        " \n",
        "\n",
        "In this analysis, we divide the task into three parts.\n",
        "\n",
        "- **Part 1**: Exploratory Data Analysis\n",
        "\n",
        "- **Part 2**: Clustering Analysis, and identify the position profiles of each cluster\n",
        "\n",
        "- **Part 3**: Classification Analysis, and evaluate the performance of different algorithms using cross validation;"
      ]
    },
    {
      "cell_type": "markdown",
      "metadata": {
        "id": "G1vjEdvs-6vh"
      },
      "source": [
        "## Part 1 - Exploratory Data Analysis\n",
        "\n",
        "### 1.0. Libraries and data files\n",
        "***"
      ]
    },
    {
      "cell_type": "code",
      "metadata": {
        "id": "nZY2t-qpxW4x"
      },
      "source": [
        "# importing the necessary spark environment and getting jdk\n",
        "!apt-get install openjdk-8-jdk-headless -qq > /dev/null\n",
        "!wget -q https://archive.apache.org/dist/spark/spark-2.4.0/spark-2.4.0-bin-hadoop2.7.tgz\n",
        "!tar xf spark-2.4.0-bin-hadoop2.7.tgz\n",
        "import os\n",
        "os.environ[\"JAVA_HOME\"] = \"/usr/lib/jvm/java-8-openjdk-amd64\"\n",
        "os.environ[\"SPARK_HOME\"] = \"/content/spark-2.4.0-bin-hadoop2.7\""
      ],
      "execution_count": 1,
      "outputs": []
    },
    {
      "cell_type": "code",
      "metadata": {
        "id": "H4vYjBA7xW4x"
      },
      "source": [
        "#only required for jupyter\n",
        "import os\n",
        "os.environ[\"SPARK_HOME\"] = \"D:/Projects/spark-2.4.0-bin-hadoop2.7\""
      ],
      "execution_count": null,
      "outputs": []
    },
    {
      "cell_type": "code",
      "metadata": {
        "colab": {
          "base_uri": "https://localhost:8080/"
        },
        "id": "auVRAscVRVrI",
        "outputId": "bae375b2-392b-4fef-8159-b00e51ce4cb5"
      },
      "source": [
        "# getting the data\n",
        "!pip install -q wget\n",
        "!pip install -q findspark\n",
        "import wget\n",
        "data_19 = 'https://raw.githubusercontent.com/Gooner12/FIFA_2019/main/FIFA_19_players.csv'\n",
        "data_21 = 'https://raw.githubusercontent.com/Gooner12/FIFA_2019/main/FIFA_21_players.csv'\n",
        "dataset_19 = wget.download(data_19)\n",
        "dataset_21 = wget.download(data_21)"
      ],
      "execution_count": 2,
      "outputs": [
        {
          "output_type": "stream",
          "text": [
            "  Building wheel for wget (setup.py) ... \u001b[?25l\u001b[?25hdone\n"
          ],
          "name": "stdout"
        }
      ]
    },
    {
      "cell_type": "code",
      "metadata": {
        "id": "3Gxm5nc6Rz-a"
      },
      "source": [
        "import findspark\n",
        "findspark.init()\n",
        "from pyspark.sql import SparkSession"
      ],
      "execution_count": 3,
      "outputs": []
    },
    {
      "cell_type": "markdown",
      "metadata": {
        "id": "dSPbqoEGR30v"
      },
      "source": [
        "### 1.1 Data Exploration\n",
        "***"
      ]
    },
    {
      "cell_type": "code",
      "metadata": {
        "colab": {
          "base_uri": "https://localhost:8080/"
        },
        "id": "uuGY6lgWR7B3",
        "outputId": "4433434c-2436-445b-b703-ca9811d84810"
      },
      "source": [
        "# importing the 'FIFA_19.csv' as a Spark dataframe\n",
        "spark = SparkSession.builder.appName('FIFA_19').config(\"spark.sql.caseSensitive\", \"true\").getOrCreate()\n",
        "# not including header as data while reading so the header value is made true\n",
        "df_19 = spark.read.format('csv').options(header='true', inferschema='true').load('FIFA_19_players.csv')\n",
        "df_19.show()"
      ],
      "execution_count": 4,
      "outputs": [
        {
          "output_type": "stream",
          "text": [
            "+------+-----------------+---+--------------------+-----------+--------------------+-------+---------+-------------------+--------------------+--------+-------+-------+--------------+------------------------+---------+-----------+--------------+----------+---------+--------+-------------+------------+-----------+--------------------+------+----------+------+----------+--------+---------+---------------+------------+-------+---------+-----+----------+-----------+-----------+------------+-----------+-------+---------+-------+---------+-------+-------+--------+---------+----------+-------------+-----------+------+---------+---------+-------+--------------+-------------+--------+----------+---------+-------------+----------+-----------------+\n",
            "|    ID|             Name|Age|               Photo|Nationality|                Flag|Overall|Potential|               Club|           Club Logo|value(M)|wage(K)|Special|Preferred Foot|International Reputation|Weak Foot|Skill Moves|     Work Rate| Body Type|Real Face|Position|Jersey Number|      Joined|Loaned From|Contract Valid Until|Height|Height(CM)|Weight|Weight(KG)|Crossing|Finishing|HeadingAccuracy|ShortPassing|Volleys|Dribbling|Curve|FKAccuracy|LongPassing|BallControl|Acceleration|SprintSpeed|Agility|Reactions|Balance|ShotPower|Jumping|Stamina|Strength|LongShots|Aggression|Interceptions|Positioning|Vision|Penalties|Composure|Marking|StandingTackle|SlidingTackle|GKDiving|GKHandling|GKKicking|GKPositioning|GKReflexes|Release Clause(M)|\n",
            "+------+-----------------+---+--------------------+-----------+--------------------+-------+---------+-------------------+--------------------+--------+-------+-------+--------------+------------------------+---------+-----------+--------------+----------+---------+--------+-------------+------------+-----------+--------------------+------+----------+------+----------+--------+---------+---------------+------------+-------+---------+-----+----------+-----------+-----------+------------+-----------+-------+---------+-------+---------+-------+-------+--------+---------+----------+-------------+-----------+------+---------+---------+-------+--------------+-------------+--------+----------+---------+-------------+----------+-----------------+\n",
            "|158023|         L. Messi| 31|https://cdn.sofif...|  Argentina|https://cdn.sofif...|     94|       94|       FC Barcelona|https://cdn.sofif...|   110.5|    565|   2202|          Left|                       5|        4|          4|Medium/ Medium|     Messi|      Yes|      RF|           10| Jul 1, 2004|       null|                2021|   5.7|   173.736| 159.0| 72.121128|      84|       95|             70|          90|     86|       97|   93|        94|         87|         96|          91|         86|     91|       95|     95|       85|     68|     72|      59|       94|        48|           22|         94|    94|       75|       96|     33|            28|           26|       6|        11|       15|           14|         8|            226.5|\n",
            "| 20801|Cristiano Ronaldo| 33|https://cdn.sofif...|   Portugal|https://cdn.sofif...|     94|       94|           Juventus|https://cdn.sofif...|      77|    405|   2228|         Right|                       5|        4|          5|     High/ Low|C. Ronaldo|      Yes|      ST|            7|Jul 10, 2018|       null|                2022|   6.2|   188.976| 183.0| 83.007336|      84|       94|             89|          81|     87|       88|   81|        76|         77|         94|          89|         91|     87|       96|     70|       95|     95|     88|      79|       93|        63|           29|         95|    82|       85|       95|     28|            31|           23|       7|        11|       15|           14|        11|            127.1|\n",
            "|190871|        Neymar Jr| 26|https://cdn.sofif...|     Brazil|https://cdn.sofif...|     92|       93|Paris Saint-Germain|https://cdn.sofif...|   118.5|    290|   2143|         Right|                       5|        5|          5|  High/ Medium|    Neymar|      Yes|      LW|           10| Aug 3, 2017|       null|                2022|   5.9|   179.832| 150.0|   68.0388|      79|       87|             62|          84|     84|       96|   88|        87|         78|         95|          94|         90|     96|       94|     84|       80|     61|     81|      49|       82|        56|           36|         89|    87|       81|       94|     27|            24|           33|       9|         9|       15|           15|        11|            228.1|\n",
            "|193080|           De Gea| 27|https://cdn.sofif...|      Spain|https://cdn.sofif...|     91|       93|  Manchester United|https://cdn.sofif...|      72|    260|   1471|         Right|                       4|        3|          1|Medium/ Medium|      Lean|      Yes|      GK|            1| Jul 1, 2011|       null|                2020|   6.4|   195.072| 168.0| 76.203456|      17|       13|             21|          50|     13|       18|   21|        19|         51|         42|          57|         58|     60|       90|     43|       31|     67|     43|      64|       12|        38|           30|         12|    68|       40|       68|     15|            21|           13|      90|        85|       87|           88|        94|            138.6|\n",
            "|192985|     K. De Bruyne| 27|https://cdn.sofif...|    Belgium|https://cdn.sofif...|     91|       92|    Manchester City|https://cdn.sofif...|     102|    355|   2281|         Right|                       4|        5|          4|    High/ High|    Normal|      Yes|     RCM|            7|Aug 30, 2015|       null|                2023|  5.11|  155.7528| 154.0| 69.853168|      93|       82|             55|          92|     82|       86|   85|        83|         91|         91|          78|         76|     79|       91|     77|       91|     63|     90|      75|       91|        76|           61|         87|    94|       79|       88|     68|            58|           51|      15|        13|        5|           10|        13|            196.4|\n",
            "|183277|        E. Hazard| 27|https://cdn.sofif...|    Belgium|https://cdn.sofif...|     91|       91|            Chelsea|https://cdn.sofif...|      93|    340|   2142|         Right|                       4|        4|          4|  High/ Medium|    Normal|      Yes|      LF|           10| Jul 1, 2012|       null|                2020|   5.8|   176.784| 163.0| 73.935496|      81|       84|             61|          89|     80|       95|   83|        79|         83|         94|          94|         88|     95|       90|     94|       82|     56|     83|      66|       80|        54|           41|         87|    89|       86|       91|     34|            27|           22|      11|        12|        6|            8|         8|            172.1|\n",
            "|177003|        L. Modri?| 32|https://cdn.sofif...|    Croatia|https://cdn.sofif...|     91|       91|        Real Madrid|https://cdn.sofif...|      67|    420|   2280|         Right|                       4|        4|          4|    High/ High|      Lean|      Yes|     RCM|           10| Aug 1, 2012|       null|                2020|   5.8|   176.784| 146.0| 66.224432|      86|       72|             55|          93|     76|       90|   85|        78|         88|         93|          80|         72|     93|       90|     94|       79|     68|     89|      58|       82|        62|           83|         79|    92|       82|       84|     60|            76|           73|      13|         9|        7|           14|         9|            137.4|\n",
            "|176580|       L. Su��rez| 31|https://cdn.sofif...|    Uruguay|https://cdn.sofif...|     91|       91|       FC Barcelona|https://cdn.sofif...|      80|    455|   2346|         Right|                       5|        4|          3|  High/ Medium|    Normal|      Yes|      RS|            9|Jul 11, 2014|       null|                2021|   6.0|    182.88| 190.0|  86.18248|      77|       93|             77|          82|     88|       87|   86|        84|         64|         90|          86|         75|     82|       92|     83|       86|     69|     90|      83|       85|        87|           41|         92|    84|       85|       85|     62|            45|           38|      27|        25|       31|           33|        37|              164|\n",
            "|155862|     Sergio Ramos| 32|https://cdn.sofif...|      Spain|https://cdn.sofif...|     91|       91|        Real Madrid|https://cdn.sofif...|      51|    380|   2201|         Right|                       4|        3|          3|  High/ Medium|    Normal|      Yes|     RCB|           15| Aug 1, 2005|       null|                2020|   6.0|    182.88| 181.0| 82.100152|      66|       60|             91|          78|     66|       63|   74|        72|         77|         84|          76|         75|     78|       85|     66|       79|     93|     84|      83|       59|        88|           90|         60|    63|       75|       82|     87|            92|           91|      11|         8|        9|            7|        11|            104.6|\n",
            "|200389|         J. Oblak| 25|https://cdn.sofif...|   Slovenia|https://cdn.sofif...|     90|       93|   Atl��tico Madrid|https://cdn.sofif...|      68|     94|   1331|         Right|                       3|        3|          1|Medium/ Medium|    Normal|      Yes|      GK|            1|Jul 16, 2014|       null|                2021|   6.2|   188.976| 192.0| 87.089664|      13|       11|             15|          29|     13|       12|   13|        14|         26|         16|          43|         60|     67|       86|     49|       22|     76|     41|      78|       12|        34|           19|         11|    70|       11|       70|     27|            12|           18|      86|        92|       78|           88|        89|            144.5|\n",
            "|188545|   R. Lewandowski| 29|https://cdn.sofif...|     Poland|https://cdn.sofif...|     90|       90| FC Bayern M��nchen|https://cdn.sofif...|      77|    205|   2152|         Right|                       4|        4|          4|  High/ Medium|    Normal|      Yes|      ST|            9| Jul 1, 2014|       null|                2021|   6.0|    182.88| 176.0| 79.832192|      62|       91|             85|          83|     89|       85|   77|        86|         65|         89|          77|         78|     78|       90|     78|       88|     84|     78|      84|       84|        80|           39|         91|    77|       88|       86|     34|            42|           19|      15|         6|       12|            8|        10|            127.1|\n",
            "|182521|         T. Kroos| 28|https://cdn.sofif...|    Germany|https://cdn.sofif...|     90|       90|        Real Madrid|https://cdn.sofif...|    76.5|    355|   2190|         Right|                       4|        5|          3|Medium/ Medium|    Normal|      Yes|     LCM|            8|Jul 17, 2014|       null|                2022|   6.0|    182.88| 168.0| 76.203456|      88|       76|             54|          92|     82|       81|   86|        84|         93|         90|          64|         62|     70|       89|     71|       87|     30|     75|      73|       92|        60|           82|         79|    86|       73|       85|     72|            79|           69|      10|        11|       13|            7|        10|            156.8|\n",
            "|182493|        D. God��n| 32|https://cdn.sofif...|    Uruguay|https://cdn.sofif...|     90|       90|   Atl��tico Madrid|https://cdn.sofif...|      44|    125|   1946|         Right|                       3|        3|          2|  Medium/ High|      Lean|      Yes|      CB|           10| Aug 4, 2010|       null|                2019|   6.2|   188.976| 172.0| 78.017824|      55|       42|             92|          79|     47|       53|   49|        51|         70|         76|          68|         68|     58|       85|     54|       67|     91|     66|      88|       43|        89|           88|         48|    52|       50|       82|     90|            89|           89|       6|         8|       15|            5|        15|             90.2|\n",
            "|168542|      David Silva| 32|https://cdn.sofif...|      Spain|https://cdn.sofif...|     90|       90|    Manchester City|https://cdn.sofif...|      60|    285|   2115|          Left|                       4|        2|          4|  High/ Medium|    Normal|      Yes|     LCM|           21|Jul 14, 2010|       null|                2020|   5.8|   176.784| 148.0| 67.131616|      84|       76|             54|          93|     82|       89|   82|        77|         87|         94|          70|         64|     92|       90|     90|       72|     64|     78|      52|       75|        57|           50|         89|    92|       75|       93|     59|            53|           29|       6|        15|        7|            6|        12|              111|\n",
            "|215914|        N. Kant��| 27|https://cdn.sofif...|     France|https://cdn.sofif...|     89|       90|            Chelsea|https://cdn.sofif...|      63|    225|   2189|         Right|                       3|        3|          2|  Medium/ High|      Lean|      Yes|     LDM|           13|Jul 16, 2016|       null|                2023|   5.6|   170.688| 159.0| 72.121128|      68|       65|             54|          86|     56|       79|   49|        49|         81|         80|          82|         78|     82|       93|     92|       71|     77|     96|      76|       69|        90|           92|         71|    79|       54|       85|     90|            91|           85|      15|        12|       10|            7|        10|            121.3|\n",
            "|211110|        P. Dybala| 24|https://cdn.sofif...|  Argentina|https://cdn.sofif...|     89|       94|           Juventus|https://cdn.sofif...|      89|    205|   2092|          Left|                       3|        3|          4|  High/ Medium|    Normal|      Yes|      LF|           21| Jul 1, 2015|       null|                2022|   5.1|   155.448| 165.0|  74.84268|      82|       84|             68|          87|     88|       92|   88|        88|         75|         92|          87|         83|     91|       86|     85|       82|     75|     80|      65|       88|        48|           32|         84|    87|       86|       84|     23|            20|           20|       5|         4|        4|            5|         8|            153.5|\n",
            "|202126|          H. Kane| 24|https://cdn.sofif...|    England|https://cdn.sofif...|     89|       91|  Tottenham Hotspur|https://cdn.sofif...|    83.5|    205|   2165|         Right|                       3|        4|          3|    High/ High|    Normal|      Yes|      ST|            9| Jul 1, 2010|       null|                2024|   6.2|   188.976| 196.0| 88.904032|      75|       94|             85|          80|     84|       80|   78|        68|         82|         84|          68|         72|     71|       91|     71|       88|     78|     89|      84|       85|        76|           35|         93|    80|       90|       89|     56|            36|           38|       8|        10|       11|           14|        11|            160.7|\n",
            "|194765|     A. Griezmann| 27|https://cdn.sofif...|     France|https://cdn.sofif...|     89|       90|   Atl��tico Madrid|https://cdn.sofif...|      78|    145|   2246|          Left|                       4|        3|          4|    High/ High|      Lean|      Yes|     CAM|            7|Jul 28, 2014|       null|                2023|   5.9|   179.832| 161.0| 73.028312|      82|       90|             84|          83|     87|       88|   84|        78|         76|         90|          88|         85|     90|       90|     80|       80|     90|     83|      62|       82|        69|           35|         91|    83|       79|       87|     59|            47|           48|      14|         8|       14|           13|        14|            165.8|\n",
            "|192448|    M. ter Stegen| 26|https://cdn.sofif...|    Germany|https://cdn.sofif...|     89|       92|       FC Barcelona|https://cdn.sofif...|      58|    240|   1328|         Right|                       3|        4|          1|Medium/ Medium|    Normal|      Yes|      GK|           22| Jul 1, 2014|       null|                2022|   6.2|   188.976| 187.0| 84.821704|      15|       14|             11|          36|     14|       17|   18|        12|         42|         18|          38|         50|     37|       85|     43|       22|     79|     35|      79|       10|        43|           22|         11|    69|       25|       69|     25|            13|           10|      87|        85|       88|           85|        90|            123.3|\n",
            "|192119|      T. Courtois| 26|https://cdn.sofif...|    Belgium|https://cdn.sofif...|     89|       90|        Real Madrid|https://cdn.sofif...|    53.5|    240|   1311|          Left|                       4|        2|          1|Medium/ Medium|  Courtois|      Yes|      GK|            1| Aug 9, 2018|       null|                2024|   6.6|   201.168| 212.0| 96.161504|      14|       14|             13|          33|     12|       13|   19|        20|         35|         23|          46|         52|     61|       84|     45|       36|     68|     38|      70|       17|        23|           15|         13|    44|       27|       66|     20|            18|           16|      85|        91|       72|           86|        88|            113.7|\n",
            "+------+-----------------+---+--------------------+-----------+--------------------+-------+---------+-------------------+--------------------+--------+-------+-------+--------------+------------------------+---------+-----------+--------------+----------+---------+--------+-------------+------------+-----------+--------------------+------+----------+------+----------+--------+---------+---------------+------------+-------+---------+-----+----------+-----------+-----------+------------+-----------+-------+---------+-------+---------+-------+-------+--------+---------+----------+-------------+-----------+------+---------+---------+-------+--------------+-------------+--------+----------+---------+-------------+----------+-----------------+\n",
            "only showing top 20 rows\n",
            "\n"
          ],
          "name": "stdout"
        }
      ]
    },
    {
      "cell_type": "code",
      "metadata": {
        "colab": {
          "base_uri": "https://localhost:8080/"
        },
        "id": "pfFxwlwfX0EK",
        "outputId": "9d6bd9ea-cf73-4e83-bc32-588bf7041fcc"
      },
      "source": [
        "df_21 = spark.read.format('csv').options(header='true', inferschema='true').load('FIFA_21_players.csv')\n",
        "df_21.show()"
      ],
      "execution_count": 5,
      "outputs": [
        {
          "output_type": "stream",
          "text": [
            "+---------+--------------------+-----------------+--------------------+---+-------------------+---------+---------+-----------+-------------------+--------------------+-----------+-------+---------+---------+--------+----------------+--------------+------------------------+---------+-----------+-------------+--------------------+---------+------------------+--------------------+-------------+------------------+-----------+-------------------+--------------------+---------------+--------------------+----+--------+-------+---------+---------+------+---------+-----------+----------+-----------+--------+--------------+--------------------+------------------+-------------------+--------------------------+-----------------------+-----------------+---------------+-----------+-----------------+------------------+------------------+---------------------+---------------------+----------------+------------------+----------------+----------------+-------------+-------------+--------------+----------------+--------------------+-----------------------+---------------------+----------------+-------------------+-------------------+-----------------+-------------------------+------------------------+------------------+--------------------+-------------------+-----------------------+--------------------+----+----+----+----+----+----+----+----+----+----+----+----+----+----+----+----+----+----+----+----+----+----+----+----+----+----+\n",
            "|sofifa_id|          player_url|       short_name|           long_name|age|                dob|height_cm|weight_kg|nationality|          club_name|         league_name|league_rank|overall|potential|value_eur|wage_eur|player_positions|preferred_foot|international_reputation|weak_foot|skill_moves|    work_rate|           body_type|real_face|release_clause_eur|         player_tags|team_position|team_jersey_number|loaned_from|             joined|contract_valid_until|nation_position|nation_jersey_number|pace|shooting|passing|dribbling|defending|physic|gk_diving|gk_handling|gk_kicking|gk_reflexes|gk_speed|gk_positioning|       player_traits|attacking_crossing|attacking_finishing|attacking_heading_accuracy|attacking_short_passing|attacking_volleys|skill_dribbling|skill_curve|skill_fk_accuracy|skill_long_passing|skill_ball_control|movement_acceleration|movement_sprint_speed|movement_agility|movement_reactions|movement_balance|power_shot_power|power_jumping|power_stamina|power_strength|power_long_shots|mentality_aggression|mentality_interceptions|mentality_positioning|mentality_vision|mentality_penalties|mentality_composure|defending_marking|defending_standing_tackle|defending_sliding_tackle|goalkeeping_diving|goalkeeping_handling|goalkeeping_kicking|goalkeeping_positioning|goalkeeping_reflexes|  ls|  st|  rs|  lw|  lf|  cf|  rf|  rw| lam| cam| ram|  lm| lcm|  cm| rcm|  rm| lwb| ldm| cdm| rdm| rwb|  lb| lcb|  cb| rcb|  rb|\n",
            "+---------+--------------------+-----------------+--------------------+---+-------------------+---------+---------+-----------+-------------------+--------------------+-----------+-------+---------+---------+--------+----------------+--------------+------------------------+---------+-----------+-------------+--------------------+---------+------------------+--------------------+-------------+------------------+-----------+-------------------+--------------------+---------------+--------------------+----+--------+-------+---------+---------+------+---------+-----------+----------+-----------+--------+--------------+--------------------+------------------+-------------------+--------------------------+-----------------------+-----------------+---------------+-----------+-----------------+------------------+------------------+---------------------+---------------------+----------------+------------------+----------------+----------------+-------------+-------------+--------------+----------------+--------------------+-----------------------+---------------------+----------------+-------------------+-------------------+-----------------+-------------------------+------------------------+------------------+--------------------+-------------------+-----------------------+--------------------+----+----+----+----+----+----+----+----+----+----+----+----+----+----+----+----+----+----+----+----+----+----+----+----+----+----+\n",
            "|   158023|https://sofifa.co...|         L. Messi|Lionel Andrés Mes...| 33|1987-06-24 00:00:00|      170|       72|  Argentina|       FC Barcelona|Spain Primera Div...|          1|     93|       93| 67500000|  560000|      RW, ST, CF|          Left|                       5|        4|          4|   Medium/Low|               Messi|      Yes|         138400000|#Dribbler, #Dista...|          CAM|                10|       null|2004-07-01 00:00:00|                2021|             RW|                  10|  85|      92|     91|       95|       38|    65|     null|       null|      null|       null|    null|          null|Finesse Shot, Lon...|                85|                 95|                        70|                     91|               88|             96|         93|               94|                91|                96|                   91|                   80|              91|                94|              95|              86|           68|           72|            69|              94|                  44|                     40|                   93|              95|                 75|                 96|             null|                       35|                      24|                 6|                  11|                 15|                     14|                   8|89+3|89+3|89+3|92+0|93+0|93+0|93+0|92+0|93+0|93+0|93+0|91+2|87+3|87+3|87+3|91+2|66+3|65+3|65+3|65+3|66+3|62+3|52+3|52+3|52+3|62+3|\n",
            "|    20801|https://sofifa.co...|Cristiano Ronaldo|Cristiano Ronaldo...| 35|1985-02-05 00:00:00|      187|       83|   Portugal|           Juventus|     Italian Serie A|          1|     92|       92| 46000000|  220000|          ST, LW|         Right|                       5|        4|          5|     High/Low|          C. Ronaldo|      Yes|          75900000|#Aerial Threat, #...|           LS|                 7|       null|2018-07-10 00:00:00|                2022|             LS|                   7|  89|      93|     81|       89|       35|    77|     null|       null|      null|       null|    null|          null|Power Free-Kick, ...|                84|                 95|                        90|                     82|               86|             88|         81|               76|                77|                92|                   87|                   91|              87|                95|              71|              94|           95|           84|            78|              93|                  63|                     29|                   95|              82|                 84|                 95|             null|                       32|                      24|                 7|                  11|                 15|                     14|                  11|91+1|91+1|91+1|89+0|91+0|91+0|91+0|89+0|88+3|88+3|88+3|88+3|81+3|81+3|81+3|88+3|65+3|61+3|61+3|61+3|65+3|61+3|54+3|54+3|54+3|61+3|\n",
            "|   200389|https://sofifa.co...|         J. Oblak|           Jan Oblak| 27|1993-01-07 00:00:00|      188|       87|   Slovenia|    Atlético Madrid|Spain Primera Div...|          1|     91|       93| 75000000|  125000|              GK|         Right|                       3|        3|          1|Medium/Medium|PLAYER_BODY_TYPE_259|      Yes|         159400000|                null|           GK|                13|       null|2014-07-16 00:00:00|                2023|             GK|                   1|null|    null|   null|     null|     null|  null|       87|         92|        78|         90|      52|            90|GK Long Throw, Co...|                13|                 11|                        15|                     43|               13|             12|         13|               14|                40|                30|                   43|                   60|              67|                88|              49|              59|           78|           41|            78|              12|                  34|                     19|                   11|              65|                 11|                 68|             null|                       12|                      18|                87|                  92|                 78|                     90|                  90|33+3|33+3|33+3|32+0|35+0|35+0|35+0|32+0|38+3|38+3|38+3|35+3|38+3|38+3|38+3|35+3|32+3|36+3|36+3|36+3|32+3|32+3|33+3|33+3|33+3|32+3|\n",
            "|   188545|https://sofifa.co...|   R. Lewandowski|  Robert Lewandowski| 31|1988-08-21 00:00:00|      184|       80|     Poland|  FC Bayern München|German 1. Bundesliga|          1|     91|       91| 80000000|  240000|              ST|         Right|                       4|        4|          4|  High/Medium|PLAYER_BODY_TYPE_276|      Yes|         132000000|#Distance Shooter...|           ST|                 9|       null|2014-07-01 00:00:00|                2023|           null|                null|  78|      91|     78|       85|       43|    82|     null|       null|      null|       null|    null|          null|Solid Player, Fin...|                71|                 94|                        85|                     84|               89|             85|         79|               85|                70|                88|                   77|                   78|              77|                93|              82|              89|           84|           76|            86|              85|                  81|                     49|                   94|              79|                 88|                 88|             null|                       42|                      19|                15|                   6|                 12|                      8|                  10|89+2|89+2|89+2|85+0|87+0|87+0|87+0|85+0|85+3|85+3|85+3|83+3|79+3|79+3|79+3|83+3|64+3|65+3|65+3|65+3|64+3|61+3|60+3|60+3|60+3|61+3|\n",
            "|   190871|https://sofifa.co...|        Neymar Jr|Neymar da Silva S...| 28|1992-02-05 00:00:00|      175|       68|     Brazil|Paris Saint-Germain|      French Ligue 1|          1|     91|       91| 90000000|  270000|         LW, CAM|         Right|                       5|        5|          5|  High/Medium|              Neymar|      Yes|         166500000|#Speedster, #Drib...|           LW|                10|       null|2017-08-03 00:00:00|                2022|           null|                null|  91|      85|     86|       94|       36|    59|     null|       null|      null|       null|    null|          null|Injury Prone, Fla...|                85|                 87|                        62|                     87|               87|             95|         88|               89|                81|                95|                   94|                   89|              96|                91|              83|              80|           62|           81|            50|              84|                  51|                     36|                   87|              90|                 92|                 93|             null|                       30|                      29|                 9|                   9|                 15|                     15|                  11|84+3|84+3|84+3|90+0|89+0|89+0|89+0|90+0|90+1|90+1|90+1|90+1|83+3|83+3|83+3|90+1|67+3|62+3|62+3|62+3|67+3|62+3|49+3|49+3|49+3|62+3|\n",
            "|   192985|https://sofifa.co...|     K. De Bruyne|     Kevin De Bruyne| 29|1991-06-28 00:00:00|      181|       70|    Belgium|    Manchester City|English Premier L...|          1|     91|       91| 87000000|  370000|         CAM, CM|         Right|                       4|        5|          4|    High/High|PLAYER_BODY_TYPE_321|      Yes|         161000000|#Dribbler, #Playm...|          RCM|                17|       null|2015-08-30 00:00:00|                2023|            RCM|                   7|  76|      86|     93|       88|       64|    78|     null|       null|      null|       null|    null|          null|Injury Prone, Lea...|                94|                 82|                        55|                     94|               82|             88|         85|               83|                93|                92|                   77|                   76|              78|                91|              76|              91|           63|           89|            74|              91|                  76|                     66|                   88|              94|                 84|                 91|             null|                       65|                      53|                15|                  13|                  5|                     10|                  13|83+3|83+3|83+3|88+0|88+0|88+0|88+0|88+0|89+2|89+2|89+2|89+2|89+2|89+2|89+2|89+2|79+3|80+3|80+3|80+3|79+3|75+3|69+3|69+3|69+3|75+3|\n",
            "|   231747|https://sofifa.co...|        K. Mbappé|Kylian Mbappé Lottin| 21|1998-12-20 00:00:00|      178|       73|     France|Paris Saint-Germain|      French Ligue 1|          1|     90|       95|105500000|  160000|      ST, LW, RW|         Right|                       3|        4|          5|     High/Low|PLAYER_BODY_TYPE_343|      Yes|         203100000|#Speedster, #Drib...|           LS|                 7|       null|2018-07-01 00:00:00|                2022|             RM|                  10|  96|      86|     78|       91|       39|    76|     null|       null|      null|       null|    null|          null|Finesse Shot, Fla...|                78|                 91|                        73|                     83|               83|             92|         79|               63|                70|                90|                   96|                   96|              92|                92|              82|              86|           77|           86|            76|              79|                  62|                     38|                   91|              80|                 70|                 84|             null|                       34|                      32|                13|                   5|                  7|                     11|                   6|88+3|88+3|88+3|89+0|89+0|89+0|89+0|89+0|87+3|87+3|87+3|87+3|79+3|79+3|79+3|87+3|67+3|63+3|63+3|63+3|67+3|63+3|55+3|55+3|55+3|63+3|\n",
            "|   192448|https://sofifa.co...|    M. ter Stegen|Marc-André ter St...| 28|1992-04-30 00:00:00|      187|       85|    Germany|       FC Barcelona|Spain Primera Div...|          1|     90|       93| 69500000|  260000|              GK|         Right|                       3|        4|          1|Medium/Medium|PLAYER_BODY_TYPE_262|      Yes|         147700000|                null|           GK|                 1|       null|2014-07-01 00:00:00|                2022|            SUB|                  22|null|    null|   null|     null|     null|  null|       88|         85|        88|         90|      45|            88|Rushes Out Of Goa...|                18|                 14|                        11|                     61|               14|             21|         18|               12|                63|                30|                   38|                   50|              37|                86|              43|              66|           79|           35|            78|              10|                  43|                     22|                   11|              70|                 25|                 70|             null|                       13|                      10|                88|                  85|                 88|                     88|                  90|35+3|35+3|35+3|34+0|38+0|38+0|38+0|34+0|42+3|42+3|42+3|39+3|45+3|45+3|45+3|39+3|33+3|41+3|41+3|41+3|33+3|31+3|33+3|33+3|33+3|31+3|\n",
            "|   203376|https://sofifa.co...|      V. van Dijk|     Virgil van Dijk| 28|1991-07-08 00:00:00|      193|       92|Netherlands|          Liverpool|English Premier L...|          1|     90|       91| 75500000|  210000|              CB|         Right|                       3|        3|          2|Medium/Medium|PLAYER_BODY_TYPE_314|      Yes|         145300000|#Tackling, #Tacti...|          LCB|                 4|       null|2018-01-01 00:00:00|                2023|            LCB|                   4|  76|      60|     71|       71|       91|    86|     null|       null|      null|       null|    null|          null|Solid Player, Lea...|                53|                 52|                        87|                     79|               45|             70|         60|               70|                86|                77|                   72|                   79|              61|                89|              53|              81|           90|           75|            92|              64|                  83|                     90|                   47|              65|                 62|                 90|             null|                       93|                      86|                13|                  10|                 13|                     11|                  11|70+3|70+3|70+3|68+0|69+0|69+0|69+0|68+0|70+3|70+3|70+3|70+3|76+3|76+3|76+3|70+3|80+3|85+3|85+3|85+3|80+3|82+3|89+2|89+2|89+2|82+3|\n",
            "|   212831|https://sofifa.co...|          Alisson|Alisson Ramsés Be...| 27|1992-10-02 00:00:00|      191|       91|     Brazil|          Liverpool|English Premier L...|          1|     90|       91| 62500000|  160000|              GK|         Right|                       3|        3|          1|Medium/Medium|PLAYER_BODY_TYPE_312|      Yes|         120300000|                null|           GK|                 1|       null|2018-07-19 00:00:00|                2024|           null|                null|null|    null|   null|     null|     null|  null|       86|         88|        85|         89|      51|            91|GK Long Throw, Ru...|                17|                 13|                        19|                     45|               20|             27|         19|               18|                44|                30|                   56|                   47|              40|                88|              37|              64|           52|           32|            78|              14|                  27|                     11|                   13|              66|                 23|                 65|             null|                       19|                      16|                86|                  88|                 85|                     91|                  89|36+3|36+3|36+3|35+0|38+0|38+0|38+0|35+0|40+3|40+3|40+3|38+3|40+3|40+3|40+3|38+3|31+3|35+3|35+3|35+3|31+3|30+3|30+3|30+3|30+3|30+3|\n",
            "|   208722|https://sofifa.co...|          S. Mané|          Sadio Mané| 28|1992-04-10 00:00:00|      175|       69|    Senegal|          Liverpool|English Premier L...|          1|     90|       90| 78000000|  250000|              LW|         Right|                       3|        4|          4|  High/Medium|PLAYER_BODY_TYPE_313|      Yes|         144300000|#Speedster, #Drib...|           LW|                10|       null|2016-07-01 00:00:00|                2023|           null|                null|  94|      85|     80|       90|       44|    76|     null|       null|      null|       null|    null|          null|Flair, Speed Drib...|                76|                 90|                        84|                     85|               75|             91|         76|               64|                71|                89|                   95|                   93|              93|                93|              86|              84|           86|           88|            70|              78|                  75|                     35|                   92|              85|                 71|                 84|             null|                       42|                      38|                10|                  10|                 15|                      7|                  14|88+2|88+2|88+2|89+0|89+0|89+0|89+0|89+0|88+2|88+2|88+2|88+2|81+3|81+3|81+3|88+2|69+3|65+3|65+3|65+3|69+3|66+3|59+3|59+3|59+3|66+3|\n",
            "|   209331|https://sofifa.co...|         M. Salah| Mohamed Salah Ghaly| 28|1992-06-15 00:00:00|      175|       71|      Egypt|          Liverpool|English Premier L...|          1|     90|       90| 78000000|  250000|              RW|          Left|                       3|        3|          4|  High/Medium|       Mohamed Salah|      Yes|         144300000|#Speedster, #Drib...|           RW|                11|       null|2017-07-01 00:00:00|                2023|             RW|                  10|  93|      86|     81|       90|       45|    75|     null|       null|      null|       null|    null|          null|Finesse Shot, Lon...|                79|                 91|                        59|                     84|               79|             90|         83|               69|                75|                89|                   94|                   92|              91|                92|              91|              80|           69|           85|            75|              84|                  63|                     55|                   91|              84|                 83|                 90|             null|                       43|                      41|                14|                  14|                  9|                     11|                  14|85+3|85+3|85+3|88+0|88+0|88+0|88+0|88+0|88+2|88+2|88+2|87+3|82+3|82+3|82+3|87+3|71+3|68+3|68+3|68+3|71+3|67+3|58+3|58+3|58+3|67+3|\n",
            "|   192119|https://sofifa.co...|      T. Courtois|    Thibaut Courtois| 28|1992-05-11 00:00:00|      199|       96|    Belgium|        Real Madrid|Spain Primera Div...|          1|     89|       90| 56000000|  250000|              GK|          Left|                       4|        3|          1|Medium/Medium|            Courtois|      Yes|         119000000|                null|           GK|                 1|       null|2018-08-09 00:00:00|                2024|             GK|                   1|null|    null|   null|     null|     null|  null|       84|         89|        74|         88|      48|            85|GK Long Throw, Co...|                14|                 14|                        13|                     33|               12|             13|         19|               20|                35|                23|                   42|                   52|              61|                84|              45|              56|           68|           38|            70|              17|                  23|                     15|                   13|              44|                 27|                 66|             null|                       18|                      16|                84|                  89|                 74|                     85|                  88|31+3|31+3|31+3|29+0|31+0|31+0|31+0|29+0|32+3|32+3|32+3|31+3|32+3|32+3|32+3|31+3|29+3|31+3|31+3|31+3|29+3|29+3|29+3|29+3|29+3|29+3|\n",
            "|   153079|https://sofifa.co...|        S. Agüero|Sergio Leonel Agü...| 32|1988-06-02 00:00:00|      173|       70|  Argentina|    Manchester City|English Premier L...|          1|     89|       89| 53000000|  300000|              ST|         Right|                       4|        4|          4|  High/Medium|PLAYER_BODY_TYPE_322|      Yes|          98100000|#Dribbler, #Clini...|          SUB|                10|       null|2011-07-28 00:00:00|                2021|             ST|                   9|  78|      90|     77|       88|       33|    73|     null|       null|      null|       null|    null|          null|Injury Prone, Lea...|                70|                 94|                        78|                     83|               86|             88|         83|               73|                64|                89|                   79|                   78|              84|                92|              91|              89|           78|           78|            74|              84|                  65|                     24|                   94|              83|                 75|                 91|             null|                       29|                      24|                13|                  15|                  6|                     11|                  14|87+2|87+2|87+2|86+0|88+0|88+0|88+0|86+0|86+3|86+3|86+3|84+3|77+3|77+3|77+3|84+3|60+3|58+3|58+3|58+3|60+3|56+3|51+3|51+3|51+3|56+3|\n",
            "|   155862|https://sofifa.co...|     Sergio Ramos| Sergio Ramos García| 34|1986-03-30 00:00:00|      184|       82|      Spain|        Real Madrid|Spain Primera Div...|          1|     89|       89| 24500000|  300000|              CB|         Right|                       4|        3|          3|  High/Medium|PLAYER_BODY_TYPE_352|      Yes|          50200000|#Aerial Threat, #...|          LCB|                 4|       null|2005-08-01 00:00:00|                2021|            RCB|                  15|  71|      70|     76|       73|       88|    85|     null|       null|      null|       null|    null|          null|Dives Into Tackle...|                66|                 65|                        92|                     82|               69|             65|         74|               76|                83|                83|                   72|                   70|              78|                92|              66|              79|           93|           81|            85|              64|                  90|                     88|                   73|              71|                 92|                 88|             null|                       88|                      90|                11|                   8|                  9|                      7|                  11|77+3|77+3|77+3|73+0|75+0|75+0|75+0|73+0|75+3|75+3|75+3|75+3|79+3|79+3|79+3|75+3|81+3|85+3|85+3|85+3|81+3|83+3|88+1|88+1|88+1|83+3|\n",
            "|   165153|https://sofifa.co...|       K. Benzema|       Karim Benzema| 32|1987-12-19 00:00:00|      185|       81|     France|        Real Madrid|Spain Primera Div...|          1|     89|       89| 53000000|  350000|          CF, ST|         Right|                       4|        4|          4|   Medium/Low|              Normal|      Yes|         108700000|            #Poacher|           CF|                 9|       null|2009-07-09 00:00:00|                2022|           null|                null|  74|      85|     81|       86|       40|    76|     null|       null|      null|       null|    null|          null|Leadership, Fines...|                75|                 88|                        91|                     86|               86|             87|         81|               73|                73|                90|                   77|                   72|              79|                91|              69|              84|           79|           78|            80|              79|                  63|                     39|                   90|              87|                 84|                 90|             null|                       24|                      18|                13|                  11|                  5|                      5|                   7|86+3|86+3|86+3|85+0|87+0|87+0|87+0|85+0|86+3|86+3|86+3|84+3|80+3|80+3|80+3|84+3|63+3|63+3|63+3|63+3|63+3|59+3|55+3|55+3|55+3|59+3|\n",
            "|   167495|https://sofifa.co...|         M. Neuer|        Manuel Neuer| 34|1986-03-27 00:00:00|      193|       92|    Germany|  FC Bayern München|German 1. Bundesliga|          1|     89|       89| 29000000|  125000|              GK|         Right|                       5|        4|          1|Medium/Medium|PLAYER_BODY_TYPE_273|      Yes|          47900000|                null|           GK|                 1|       null|2011-07-01 00:00:00|                2023|             GK|                   1|null|    null|   null|     null|     null|  null|       87|         87|        91|         89|      57|            86|Leadership, GK Lo...|                15|                 13|                        25|                     55|               11|             30|         14|               11|                59|                46|                   54|                   60|              51|                86|              35|              68|           77|           43|            80|              16|                  29|                     30|                   12|              70|                 47|                 70|             null|                       10|                      11|                87|                  87|                 91|                     86|                  89|39+3|39+3|39+3|40+0|43+0|43+0|43+0|40+0|46+3|46+3|46+3|43+3|48+3|48+3|48+3|43+3|36+3|42+3|42+3|42+3|36+3|34+3|34+3|34+3|34+3|34+3|\n",
            "|   200145|https://sofifa.co...|         Casemiro|Carlos Henrique V...| 28|1992-02-23 00:00:00|      185|       84|     Brazil|        Real Madrid|Spain Primera Div...|          1|     89|       89| 59500000|  310000|             CDM|         Right|                       3|        3|          2|    High/High|PLAYER_BODY_TYPE_358|      Yes|         122000000|#Engine, #Tacklin...|          CDM|                14|       null|2013-07-11 00:00:00|                2023|           null|                null|  65|      73|     76|       72|       86|    91|     null|       null|      null|       null|    null|          null|Power Free-Kick, ...|                58|                 64|                        80|                     84|               63|             69|         63|               74|                84|                79|                   60|                   69|              61|                87|              66|              88|           87|           90|            91|              81|                  91|                     87|                   72|              80|                 66|                 84|             null|                       88|                      87|                13|                  14|                 16|                     12|                  12|76+3|76+3|76+3|72+0|75+0|75+0|75+0|72+0|76+3|76+3|76+3|74+3|81+3|81+3|81+3|74+3|80+3|86+3|86+3|86+3|80+3|81+3|86+3|86+3|86+3|81+3|\n",
            "|   210257|https://sofifa.co...|          Ederson|Ederson Santana d...| 26|1993-08-17 00:00:00|      188|       86|     Brazil|    Manchester City|English Premier L...|          1|     88|       91| 53500000|  195000|              GK|          Left|                       2|        3|          1|Medium/Medium|PLAYER_BODY_TYPE_325|      Yes|         103000000|                null|           GK|                31|       null|2017-07-01 00:00:00|                2024|           null|                null|null|    null|   null|     null|     null|  null|       86|         82|        93|         88|      63|            86|Long Passer (AI),...|                20|                 14|                        14|                     57|               18|             23|         15|               20|                59|                40|                   64|                   63|              60|                87|              48|              70|           66|           41|            78|              18|                  38|                     27|                   20|              70|                 17|                 70|             null|                       15|                       8|                86|                  82|                 93|                     86|                  88|39+2|39+2|39+2|40+0|43+0|43+0|43+0|40+0|46+2|46+2|46+2|44+2|47+2|47+2|47+2|44+2|37+2|43+2|43+2|43+2|37+2|35+2|35+2|35+2|35+2|35+2|\n",
            "|   202652|https://sofifa.co...|      R. Sterling|Raheem Shaquille ...| 25|1994-12-08 00:00:00|      170|       69|    England|    Manchester City|English Premier L...|          1|     88|       90| 72500000|  270000|          LW, RW|         Right|                       3|        3|          4|  High/Medium|PLAYER_BODY_TYPE_320|      Yes|         139600000|#Speedster, #Drib...|           LW|                 7|       null|2015-07-14 00:00:00|                2023|             LW|                   7|  93|      81|     79|       90|       45|    67|     null|       null|      null|       null|    null|          null|Flair, Speed Drib...|                78|                 85|                        46|                     84|               67|             90|         77|               63|                69|                88|                   96|                   90|              94|                90|              94|              78|           57|           79|            65|              79|                  59|                     30|                   92|              82|                 69|                 80|             null|                       53|                      47|                15|                  12|                 12|                     15|                   9|81+3|81+3|81+3|87+0|87+0|87+0|87+0|87+0|86+3|86+3|86+3|86+3|79+3|79+3|79+3|86+3|69+3|64+3|64+3|64+3|69+3|65+3|55+3|55+3|55+3|65+3|\n",
            "+---------+--------------------+-----------------+--------------------+---+-------------------+---------+---------+-----------+-------------------+--------------------+-----------+-------+---------+---------+--------+----------------+--------------+------------------------+---------+-----------+-------------+--------------------+---------+------------------+--------------------+-------------+------------------+-----------+-------------------+--------------------+---------------+--------------------+----+--------+-------+---------+---------+------+---------+-----------+----------+-----------+--------+--------------+--------------------+------------------+-------------------+--------------------------+-----------------------+-----------------+---------------+-----------+-----------------+------------------+------------------+---------------------+---------------------+----------------+------------------+----------------+----------------+-------------+-------------+--------------+----------------+--------------------+-----------------------+---------------------+----------------+-------------------+-------------------+-----------------+-------------------------+------------------------+------------------+--------------------+-------------------+-----------------------+--------------------+----+----+----+----+----+----+----+----+----+----+----+----+----+----+----+----+----+----+----+----+----+----+----+----+----+----+\n",
            "only showing top 20 rows\n",
            "\n"
          ],
          "name": "stdout"
        }
      ]
    },
    {
      "cell_type": "markdown",
      "metadata": {
        "id": "diElsHZPYRBF"
      },
      "source": [
        "Merging the 2019 and 2021 dataframe to get the overall, potential, value in 2021 for every player."
      ]
    },
    {
      "cell_type": "code",
      "metadata": {
        "colab": {
          "base_uri": "https://localhost:8080/"
        },
        "id": "VSBxUB5AZ581",
        "outputId": "0fa1ac66-0d13-4e6c-90a9-e8f0ddb74e24"
      },
      "source": [
        "# first renaming the id column in fifa 21 database same as the id column in fifa 19 database for merging later\n",
        "df_21 = df_21.withColumnRenamed('sofifa_id','ID')\n",
        "# joining the two dataframes on id and only merging overall, potential and value_eur to the fifa 19 database\n",
        "df = df_19.join(df_21['ID','overall','potential','value_eur'], on=['ID'], how='left_outer')\n",
        "df.show()"
      ],
      "execution_count": 6,
      "outputs": [
        {
          "output_type": "stream",
          "text": [
            "+------+-----------------+---+--------------------+-----------+--------------------+-------+---------+-------------------+--------------------+--------+-------+-------+--------------+------------------------+---------+-----------+--------------+----------+---------+--------+-------------+------------+-----------+--------------------+------+----------+------+----------+--------+---------+---------------+------------+-------+---------+-----+----------+-----------+-----------+------------+-----------+-------+---------+-------+---------+-------+-------+--------+---------+----------+-------------+-----------+------+---------+---------+-------+--------------+-------------+--------+----------+---------+-------------+----------+-----------------+-------+---------+---------+\n",
            "|    ID|             Name|Age|               Photo|Nationality|                Flag|Overall|Potential|               Club|           Club Logo|value(M)|wage(K)|Special|Preferred Foot|International Reputation|Weak Foot|Skill Moves|     Work Rate| Body Type|Real Face|Position|Jersey Number|      Joined|Loaned From|Contract Valid Until|Height|Height(CM)|Weight|Weight(KG)|Crossing|Finishing|HeadingAccuracy|ShortPassing|Volleys|Dribbling|Curve|FKAccuracy|LongPassing|BallControl|Acceleration|SprintSpeed|Agility|Reactions|Balance|ShotPower|Jumping|Stamina|Strength|LongShots|Aggression|Interceptions|Positioning|Vision|Penalties|Composure|Marking|StandingTackle|SlidingTackle|GKDiving|GKHandling|GKKicking|GKPositioning|GKReflexes|Release Clause(M)|overall|potential|value_eur|\n",
            "+------+-----------------+---+--------------------+-----------+--------------------+-------+---------+-------------------+--------------------+--------+-------+-------+--------------+------------------------+---------+-----------+--------------+----------+---------+--------+-------------+------------+-----------+--------------------+------+----------+------+----------+--------+---------+---------------+------------+-------+---------+-----+----------+-----------+-----------+------------+-----------+-------+---------+-------+---------+-------+-------+--------+---------+----------+-------------+-----------+------+---------+---------+-------+--------------+-------------+--------+----------+---------+-------------+----------+-----------------+-------+---------+---------+\n",
            "|158023|         L. Messi| 31|https://cdn.sofif...|  Argentina|https://cdn.sofif...|     94|       94|       FC Barcelona|https://cdn.sofif...|   110.5|    565|   2202|          Left|                       5|        4|          4|Medium/ Medium|     Messi|      Yes|      RF|           10| Jul 1, 2004|       null|                2021|   5.7|   173.736| 159.0| 72.121128|      84|       95|             70|          90|     86|       97|   93|        94|         87|         96|          91|         86|     91|       95|     95|       85|     68|     72|      59|       94|        48|           22|         94|    94|       75|       96|     33|            28|           26|       6|        11|       15|           14|         8|            226.5|     93|       93| 67500000|\n",
            "| 20801|Cristiano Ronaldo| 33|https://cdn.sofif...|   Portugal|https://cdn.sofif...|     94|       94|           Juventus|https://cdn.sofif...|      77|    405|   2228|         Right|                       5|        4|          5|     High/ Low|C. Ronaldo|      Yes|      ST|            7|Jul 10, 2018|       null|                2022|   6.2|   188.976| 183.0| 83.007336|      84|       94|             89|          81|     87|       88|   81|        76|         77|         94|          89|         91|     87|       96|     70|       95|     95|     88|      79|       93|        63|           29|         95|    82|       85|       95|     28|            31|           23|       7|        11|       15|           14|        11|            127.1|     92|       92| 46000000|\n",
            "|190871|        Neymar Jr| 26|https://cdn.sofif...|     Brazil|https://cdn.sofif...|     92|       93|Paris Saint-Germain|https://cdn.sofif...|   118.5|    290|   2143|         Right|                       5|        5|          5|  High/ Medium|    Neymar|      Yes|      LW|           10| Aug 3, 2017|       null|                2022|   5.9|   179.832| 150.0|   68.0388|      79|       87|             62|          84|     84|       96|   88|        87|         78|         95|          94|         90|     96|       94|     84|       80|     61|     81|      49|       82|        56|           36|         89|    87|       81|       94|     27|            24|           33|       9|         9|       15|           15|        11|            228.1|     91|       91| 90000000|\n",
            "|193080|           De Gea| 27|https://cdn.sofif...|      Spain|https://cdn.sofif...|     91|       93|  Manchester United|https://cdn.sofif...|      72|    260|   1471|         Right|                       4|        3|          1|Medium/ Medium|      Lean|      Yes|      GK|            1| Jul 1, 2011|       null|                2020|   6.4|   195.072| 168.0| 76.203456|      17|       13|             21|          50|     13|       18|   21|        19|         51|         42|          57|         58|     60|       90|     43|       31|     67|     43|      64|       12|        38|           30|         12|    68|       40|       68|     15|            21|           13|      90|        85|       87|           88|        94|            138.6|     86|       86| 31500000|\n",
            "|192985|     K. De Bruyne| 27|https://cdn.sofif...|    Belgium|https://cdn.sofif...|     91|       92|    Manchester City|https://cdn.sofif...|     102|    355|   2281|         Right|                       4|        5|          4|    High/ High|    Normal|      Yes|     RCM|            7|Aug 30, 2015|       null|                2023|  5.11|  155.7528| 154.0| 69.853168|      93|       82|             55|          92|     82|       86|   85|        83|         91|         91|          78|         76|     79|       91|     77|       91|     63|     90|      75|       91|        76|           61|         87|    94|       79|       88|     68|            58|           51|      15|        13|        5|           10|        13|            196.4|     91|       91| 87000000|\n",
            "|183277|        E. Hazard| 27|https://cdn.sofif...|    Belgium|https://cdn.sofif...|     91|       91|            Chelsea|https://cdn.sofif...|      93|    340|   2142|         Right|                       4|        4|          4|  High/ Medium|    Normal|      Yes|      LF|           10| Jul 1, 2012|       null|                2020|   5.8|   176.784| 163.0| 73.935496|      81|       84|             61|          89|     80|       95|   83|        79|         83|         94|          94|         88|     95|       90|     94|       82|     56|     83|      66|       80|        54|           41|         87|    89|       86|       91|     34|            27|           22|      11|        12|        6|            8|         8|            172.1|     88|       88| 58000000|\n",
            "|177003|        L. Modri?| 32|https://cdn.sofif...|    Croatia|https://cdn.sofif...|     91|       91|        Real Madrid|https://cdn.sofif...|      67|    420|   2280|         Right|                       4|        4|          4|    High/ High|      Lean|      Yes|     RCM|           10| Aug 1, 2012|       null|                2020|   5.8|   176.784| 146.0| 66.224432|      86|       72|             55|          93|     76|       90|   85|        78|         88|         93|          80|         72|     93|       90|     94|       79|     68|     89|      58|       82|        62|           83|         79|    92|       82|       84|     60|            76|           73|      13|         9|        7|           14|         9|            137.4|     87|       87| 24500000|\n",
            "|176580|       L. Su��rez| 31|https://cdn.sofif...|    Uruguay|https://cdn.sofif...|     91|       91|       FC Barcelona|https://cdn.sofif...|      80|    455|   2346|         Right|                       5|        4|          3|  High/ Medium|    Normal|      Yes|      RS|            9|Jul 11, 2014|       null|                2021|   6.0|    182.88| 190.0|  86.18248|      77|       93|             77|          82|     88|       87|   86|        84|         64|         90|          86|         75|     82|       92|     83|       86|     69|     90|      83|       85|        87|           41|         92|    84|       85|       85|     62|            45|           38|      27|        25|       31|           33|        37|              164|     87|       87| 31500000|\n",
            "|155862|     Sergio Ramos| 32|https://cdn.sofif...|      Spain|https://cdn.sofif...|     91|       91|        Real Madrid|https://cdn.sofif...|      51|    380|   2201|         Right|                       4|        3|          3|  High/ Medium|    Normal|      Yes|     RCB|           15| Aug 1, 2005|       null|                2020|   6.0|    182.88| 181.0| 82.100152|      66|       60|             91|          78|     66|       63|   74|        72|         77|         84|          76|         75|     78|       85|     66|       79|     93|     84|      83|       59|        88|           90|         60|    63|       75|       82|     87|            92|           91|      11|         8|        9|            7|        11|            104.6|     89|       89| 24500000|\n",
            "|200389|         J. Oblak| 25|https://cdn.sofif...|   Slovenia|https://cdn.sofif...|     90|       93|   Atl��tico Madrid|https://cdn.sofif...|      68|     94|   1331|         Right|                       3|        3|          1|Medium/ Medium|    Normal|      Yes|      GK|            1|Jul 16, 2014|       null|                2021|   6.2|   188.976| 192.0| 87.089664|      13|       11|             15|          29|     13|       12|   13|        14|         26|         16|          43|         60|     67|       86|     49|       22|     76|     41|      78|       12|        34|           19|         11|    70|       11|       70|     27|            12|           18|      86|        92|       78|           88|        89|            144.5|     91|       93| 75000000|\n",
            "|188545|   R. Lewandowski| 29|https://cdn.sofif...|     Poland|https://cdn.sofif...|     90|       90| FC Bayern M��nchen|https://cdn.sofif...|      77|    205|   2152|         Right|                       4|        4|          4|  High/ Medium|    Normal|      Yes|      ST|            9| Jul 1, 2014|       null|                2021|   6.0|    182.88| 176.0| 79.832192|      62|       91|             85|          83|     89|       85|   77|        86|         65|         89|          77|         78|     78|       90|     78|       88|     84|     78|      84|       84|        80|           39|         91|    77|       88|       86|     34|            42|           19|      15|         6|       12|            8|        10|            127.1|     91|       91| 80000000|\n",
            "|182521|         T. Kroos| 28|https://cdn.sofif...|    Germany|https://cdn.sofif...|     90|       90|        Real Madrid|https://cdn.sofif...|    76.5|    355|   2190|         Right|                       4|        5|          3|Medium/ Medium|    Normal|      Yes|     LCM|            8|Jul 17, 2014|       null|                2022|   6.0|    182.88| 168.0| 76.203456|      88|       76|             54|          92|     82|       81|   86|        84|         93|         90|          64|         62|     70|       89|     71|       87|     30|     75|      73|       92|        60|           82|         79|    86|       73|       85|     72|            79|           69|      10|        11|       13|            7|        10|            156.8|     88|       88| 55000000|\n",
            "|182493|        D. God��n| 32|https://cdn.sofif...|    Uruguay|https://cdn.sofif...|     90|       90|   Atl��tico Madrid|https://cdn.sofif...|      44|    125|   1946|         Right|                       3|        3|          2|  Medium/ High|      Lean|      Yes|      CB|           10| Aug 4, 2010|       null|                2019|   6.2|   188.976| 172.0| 78.017824|      55|       42|             92|          79|     47|       53|   49|        51|         70|         76|          68|         68|     58|       85|     54|       67|     91|     66|      88|       43|        89|           88|         48|    52|       50|       82|     90|            89|           89|       6|         8|       15|            5|        15|             90.2|     85|       85| 14500000|\n",
            "|168542|      David Silva| 32|https://cdn.sofif...|      Spain|https://cdn.sofif...|     90|       90|    Manchester City|https://cdn.sofif...|      60|    285|   2115|          Left|                       4|        2|          4|  High/ Medium|    Normal|      Yes|     LCM|           21|Jul 14, 2010|       null|                2020|   5.8|   176.784| 148.0| 67.131616|      84|       76|             54|          93|     82|       89|   82|        77|         87|         94|          70|         64|     92|       90|     90|       72|     64|     78|      52|       75|        57|           50|         89|    92|       75|       93|     59|            53|           29|       6|        15|        7|            6|        12|              111|     86|       86| 22500000|\n",
            "|215914|        N. Kant��| 27|https://cdn.sofif...|     France|https://cdn.sofif...|     89|       90|            Chelsea|https://cdn.sofif...|      63|    225|   2189|         Right|                       3|        3|          2|  Medium/ High|      Lean|      Yes|     LDM|           13|Jul 16, 2016|       null|                2023|   5.6|   170.688| 159.0| 72.121128|      68|       65|             54|          86|     56|       79|   49|        49|         81|         80|          82|         78|     82|       93|     92|       71|     77|     96|      76|       69|        90|           92|         71|    79|       54|       85|     90|            91|           85|      15|        12|       10|            7|        10|            121.3|     88|       88| 51000000|\n",
            "|211110|        P. Dybala| 24|https://cdn.sofif...|  Argentina|https://cdn.sofif...|     89|       94|           Juventus|https://cdn.sofif...|      89|    205|   2092|          Left|                       3|        3|          4|  High/ Medium|    Normal|      Yes|      LF|           21| Jul 1, 2015|       null|                2022|   5.1|   155.448| 165.0|  74.84268|      82|       84|             68|          87|     88|       92|   88|        88|         75|         92|          87|         83|     91|       86|     85|       82|     75|     80|      65|       88|        48|           32|         84|    87|       86|       84|     23|            20|           20|       5|         4|        4|            5|         8|            153.5|     88|       89| 71000000|\n",
            "|202126|          H. Kane| 24|https://cdn.sofif...|    England|https://cdn.sofif...|     89|       91|  Tottenham Hotspur|https://cdn.sofif...|    83.5|    205|   2165|         Right|                       3|        4|          3|    High/ High|    Normal|      Yes|      ST|            9| Jul 1, 2010|       null|                2024|   6.2|   188.976| 196.0| 88.904032|      75|       94|             85|          80|     84|       80|   78|        68|         82|         84|          68|         72|     71|       91|     71|       88|     78|     89|      84|       85|        76|           35|         93|    80|       90|       89|     56|            36|           38|       8|        10|       11|           14|        11|            160.7|     88|       89| 71000000|\n",
            "|194765|     A. Griezmann| 27|https://cdn.sofif...|     France|https://cdn.sofif...|     89|       90|   Atl��tico Madrid|https://cdn.sofif...|      78|    145|   2246|          Left|                       4|        3|          4|    High/ High|      Lean|      Yes|     CAM|            7|Jul 28, 2014|       null|                2023|   5.9|   179.832| 161.0| 73.028312|      82|       90|             84|          83|     87|       88|   84|        78|         76|         90|          88|         85|     90|       90|     80|       80|     90|     83|      62|       82|        69|           35|         91|    83|       79|       87|     59|            47|           48|      14|         8|       14|           13|        14|            165.8|     87|       87| 50500000|\n",
            "|192448|    M. ter Stegen| 26|https://cdn.sofif...|    Germany|https://cdn.sofif...|     89|       92|       FC Barcelona|https://cdn.sofif...|      58|    240|   1328|         Right|                       3|        4|          1|Medium/ Medium|    Normal|      Yes|      GK|           22| Jul 1, 2014|       null|                2022|   6.2|   188.976| 187.0| 84.821704|      15|       14|             11|          36|     14|       17|   18|        12|         42|         18|          38|         50|     37|       85|     43|       22|     79|     35|      79|       10|        43|           22|         11|    69|       25|       69|     25|            13|           10|      87|        85|       88|           85|        90|            123.3|     90|       93| 69500000|\n",
            "|192119|      T. Courtois| 26|https://cdn.sofif...|    Belgium|https://cdn.sofif...|     89|       90|        Real Madrid|https://cdn.sofif...|    53.5|    240|   1311|          Left|                       4|        2|          1|Medium/ Medium|  Courtois|      Yes|      GK|            1| Aug 9, 2018|       null|                2024|   6.6|   201.168| 212.0| 96.161504|      14|       14|             13|          33|     12|       13|   19|        20|         35|         23|          46|         52|     61|       84|     45|       36|     68|     38|      70|       17|        23|           15|         13|    44|       27|       66|     20|            18|           16|      85|        91|       72|           86|        88|            113.7|     89|       90| 56000000|\n",
            "+------+-----------------+---+--------------------+-----------+--------------------+-------+---------+-------------------+--------------------+--------+-------+-------+--------------+------------------------+---------+-----------+--------------+----------+---------+--------+-------------+------------+-----------+--------------------+------+----------+------+----------+--------+---------+---------------+------------+-------+---------+-----+----------+-----------+-----------+------------+-----------+-------+---------+-------+---------+-------+-------+--------+---------+----------+-------------+-----------+------+---------+---------+-------+--------------+-------------+--------+----------+---------+-------------+----------+-----------------+-------+---------+---------+\n",
            "only showing top 20 rows\n",
            "\n"
          ],
          "name": "stdout"
        }
      ]
    },
    {
      "cell_type": "code",
      "metadata": {
        "colab": {
          "base_uri": "https://localhost:8080/"
        },
        "id": "V2_81--rQpLs",
        "outputId": "d7bbf774-3d4d-4fba-d6fc-86233672655a"
      },
      "source": [
        "df.printSchema()"
      ],
      "execution_count": 7,
      "outputs": [
        {
          "output_type": "stream",
          "text": [
            "root\n",
            " |-- ID: integer (nullable = true)\n",
            " |-- Name: string (nullable = true)\n",
            " |-- Age: integer (nullable = true)\n",
            " |-- Photo: string (nullable = true)\n",
            " |-- Nationality: string (nullable = true)\n",
            " |-- Flag: string (nullable = true)\n",
            " |-- Overall: integer (nullable = true)\n",
            " |-- Potential: integer (nullable = true)\n",
            " |-- Club: string (nullable = true)\n",
            " |-- Club Logo: string (nullable = true)\n",
            " |-- value(M): string (nullable = true)\n",
            " |-- wage(K): integer (nullable = true)\n",
            " |-- Special: integer (nullable = true)\n",
            " |-- Preferred Foot: string (nullable = true)\n",
            " |-- International Reputation: integer (nullable = true)\n",
            " |-- Weak Foot: integer (nullable = true)\n",
            " |-- Skill Moves: integer (nullable = true)\n",
            " |-- Work Rate: string (nullable = true)\n",
            " |-- Body Type: string (nullable = true)\n",
            " |-- Real Face: string (nullable = true)\n",
            " |-- Position: string (nullable = true)\n",
            " |-- Jersey Number: integer (nullable = true)\n",
            " |-- Joined: string (nullable = true)\n",
            " |-- Loaned From: string (nullable = true)\n",
            " |-- Contract Valid Until: string (nullable = true)\n",
            " |-- Height: double (nullable = true)\n",
            " |-- Height(CM): double (nullable = true)\n",
            " |-- Weight: double (nullable = true)\n",
            " |-- Weight(KG): double (nullable = true)\n",
            " |-- Crossing: integer (nullable = true)\n",
            " |-- Finishing: integer (nullable = true)\n",
            " |-- HeadingAccuracy: integer (nullable = true)\n",
            " |-- ShortPassing: integer (nullable = true)\n",
            " |-- Volleys: integer (nullable = true)\n",
            " |-- Dribbling: integer (nullable = true)\n",
            " |-- Curve: integer (nullable = true)\n",
            " |-- FKAccuracy: integer (nullable = true)\n",
            " |-- LongPassing: integer (nullable = true)\n",
            " |-- BallControl: integer (nullable = true)\n",
            " |-- Acceleration: integer (nullable = true)\n",
            " |-- SprintSpeed: integer (nullable = true)\n",
            " |-- Agility: integer (nullable = true)\n",
            " |-- Reactions: integer (nullable = true)\n",
            " |-- Balance: integer (nullable = true)\n",
            " |-- ShotPower: integer (nullable = true)\n",
            " |-- Jumping: integer (nullable = true)\n",
            " |-- Stamina: integer (nullable = true)\n",
            " |-- Strength: integer (nullable = true)\n",
            " |-- LongShots: integer (nullable = true)\n",
            " |-- Aggression: integer (nullable = true)\n",
            " |-- Interceptions: integer (nullable = true)\n",
            " |-- Positioning: integer (nullable = true)\n",
            " |-- Vision: integer (nullable = true)\n",
            " |-- Penalties: integer (nullable = true)\n",
            " |-- Composure: integer (nullable = true)\n",
            " |-- Marking: integer (nullable = true)\n",
            " |-- StandingTackle: integer (nullable = true)\n",
            " |-- SlidingTackle: integer (nullable = true)\n",
            " |-- GKDiving: integer (nullable = true)\n",
            " |-- GKHandling: integer (nullable = true)\n",
            " |-- GKKicking: integer (nullable = true)\n",
            " |-- GKPositioning: integer (nullable = true)\n",
            " |-- GKReflexes: integer (nullable = true)\n",
            " |-- Release Clause(M): string (nullable = true)\n",
            " |-- overall: integer (nullable = true)\n",
            " |-- potential: integer (nullable = true)\n",
            " |-- value_eur: integer (nullable = true)\n",
            "\n"
          ],
          "name": "stdout"
        }
      ]
    },
    {
      "cell_type": "markdown",
      "metadata": {
        "id": "mFlQjTxE4ZWK"
      },
      "source": [
        "Getting the summary statistics:"
      ]
    },
    {
      "cell_type": "code",
      "metadata": {
        "colab": {
          "base_uri": "https://localhost:8080/"
        },
        "id": "o9baiYstDKzd",
        "outputId": "ecf5973c-8e48-4e82-801b-4cd03b417176"
      },
      "source": [
        "# while taking summary statistics we'll only use players that are present in both FIFA 19 and FIFA 21 databases as we are \n",
        "# performing comparison between these two years.\n",
        "temp_df = df.na.drop(subset=['overall','value_eur'])\n",
        "temp_df.describe().show()"
      ],
      "execution_count": 8,
      "outputs": [
        {
          "output_type": "stream",
          "text": [
            "+-------+-----------------+---------+------------------+--------------------+-----------+--------------------+-----------------+-----------------+--------------------+--------------------+-----------------+------------------+------------------+--------------+------------------------+------------------+------------------+--------------+---------+---------+--------+------------------+-----------+--------------------+--------------------+-------------------+------------------+------------------+-----------------+------------------+-----------------+------------------+-----------------+------------------+------------------+------------------+------------------+------------------+------------------+------------------+------------------+------------------+-----------------+------------------+------------------+------------------+------------------+-----------------+------------------+------------------+------------------+-----------------+------------------+------------------+------------------+------------------+------------------+------------------+-----------------+------------------+-----------------+------------------+------------------+------------------+-----------------+------------------+------------------+\n",
            "|summary|               ID|     Name|               Age|               Photo|Nationality|                Flag|          Overall|        Potential|                Club|           Club Logo|         value(M)|           wage(K)|           Special|Preferred Foot|International Reputation|         Weak Foot|       Skill Moves|     Work Rate|Body Type|Real Face|Position|     Jersey Number|     Joined|         Loaned From|Contract Valid Until|             Height|        Height(CM)|            Weight|       Weight(KG)|          Crossing|        Finishing|   HeadingAccuracy|     ShortPassing|           Volleys|         Dribbling|             Curve|        FKAccuracy|       LongPassing|       BallControl|      Acceleration|       SprintSpeed|           Agility|        Reactions|           Balance|         ShotPower|           Jumping|           Stamina|         Strength|         LongShots|        Aggression|     Interceptions|      Positioning|            Vision|         Penalties|         Composure|           Marking|    StandingTackle|     SlidingTackle|         GKDiving|        GKHandling|        GKKicking|     GKPositioning|        GKReflexes| Release Clause(M)|          overall|         potential|         value_eur|\n",
            "+-------+-----------------+---------+------------------+--------------------+-----------+--------------------+-----------------+-----------------+--------------------+--------------------+-----------------+------------------+------------------+--------------+------------------------+------------------+------------------+--------------+---------+---------+--------+------------------+-----------+--------------------+--------------------+-------------------+------------------+------------------+-----------------+------------------+-----------------+------------------+-----------------+------------------+------------------+------------------+------------------+------------------+------------------+------------------+------------------+------------------+-----------------+------------------+------------------+------------------+------------------+-----------------+------------------+------------------+------------------+-----------------+------------------+------------------+------------------+------------------+------------------+------------------+-----------------+------------------+-----------------+------------------+------------------+------------------+-----------------+------------------+------------------+\n",
            "|  count|            11184|    11184|             11184|               11184|      11184|               11184|            11184|            11184|               11074|               11184|            11071|             11074|             11184|         11163|                   11163|             11163|             11163|         11163|    11163|    11163|   11160|             11160|      10177|                 876|               11053|              11163|             11184|             11163|            11184|             11163|            11163|             11163|            11163|             11163|             11163|             11163|             11163|             11163|             11163|             11163|             11163|             11163|            11163|             11163|             11163|             11163|             11163|            11163|             11163|             11163|             11163|            11163|             11163|             11163|             11163|             11163|             11163|             11163|            11163|             11163|            11163|             11163|             11163|             10174|            11184|             11184|             11184|\n",
            "|   mean|215398.9941881259|     null|24.765647353361945|                null|       null|                null|67.85675965665236|73.04640557939913|                null|                null|6.322367941712124|13.197218710493047|1633.7288984263232|          null|       1.142255666039595|2.9836961390307266|2.4405625727850935|          null|     null|     null|    null|18.650358422939068|       null|                null|  2020.4246831089713|  5.807181761175242|176.67054484978098|166.38609692734929|75.32969115307259| 51.12899758129535|46.84502373913823| 53.28083848427842|60.35214548060557| 44.09056705186778| 57.06324464749619|48.617755083758844| 43.86759831586491| 54.23443518767356|  60.1521096479441| 65.95440293827824| 66.19654214816805| 64.58899937292843|63.47800770402222|  64.3089671235331| 56.85290692466183| 65.66944369793066| 64.98486070052853|66.12102481411807|48.521275642748364| 57.03153274209442| 48.00770402221625| 51.3714055361462|54.991310579593296| 49.14637642210875| 60.26480336827018|48.431156499148976|48.978500403117444|46.807489026247424|16.73098629400699|16.483382603242855|16.30054644808743|16.516169488488757|16.846815372211772| 9.271652628521664|68.63161659513591|  72.1444921316166|3280964.3240343346|\n",
            "| stddev|25720.63554278423|     null| 4.276824094202578|                null|       null|                null|6.818809094590622|6.091370484199351|                null|                null| 8.76294070238198| 26.72745815198947|272.43563262998003|          null|      0.4443697031819299| 0.667213643167124|0.7896091713794327|          null|     null|     null|    null|15.367073226917952|       null|                null|  1.2677404472090492|0.45174391208311127|15.746625778057533|15.743059671248801|7.846852300156961|18.630644105677522|19.86750119093551|17.607464524052258|14.69141680226057|18.028077994988347|19.116555492479538| 18.74733203485843|17.814967842382586|15.336532697552876|16.756553721436944|14.654828626399105|14.277846691893808|14.696927268218536|   8.914520460939|14.113172274235934|17.363000680042326|11.806244446215374|15.671622534477395|12.36884425245799|19.519826447301593|17.380716670891367|20.995382077418515|19.80674448505211| 14.19383614504172|15.738742363737504|11.266299948755742|20.256662205641298|22.035731193026425|21.685704527551014|18.13301494862668|17.272357074008017|16.85456585418888| 17.47231621814401|18.450619953288182|15.728462313216914|6.087635805443543|6.0082397497879585| 6322167.097237924|\n",
            "|    min|               41|     ?der|                16|https://cdn.sofif...|Afghanistan|https://cdn.sofif...|               46|               51| SSV Jahn Regensburg|https://cdn.sofif...|                1|                 1|               755|          Left|                       1|                 1|                 1|    High/ High|Akinfenwa|       No|     CAM|                 1|Apr 1, 2008|          1. FC K?ln|                2018|                5.1|               0.0|             110.0|              0.0|                 6|                2|                 4|                7|                 4|                 4|                 6|                 6|                 9|                 5|                13|                12|                14|               21|                17|                 2|                15|                14|               24|                 4|                11|                 3|                2|                10|                 8|                 3|                 5|                 2|                 4|                1|                 1|                1|                 1|                 1|                 1|               48|                51|                 0|\n",
            "|    max|           246620|Z�� Lu��s|                41|https://cdn.sofif...|   Zimbabwe|https://cdn.sofif...|               94|               95|  Zag??bie Sosnowiec|https://cdn.sofif...|             975K|               565|              2346|         Right|                       5|                 5|                 5|Medium/ Medium|   Stocky|      Yes|      ST|                99|Sep 9, 2018|Wolverhampton Wan...|        Oct 14, 2019|                6.9|           210.312|             243.0|       110.222856|                93|               95|                94|               93|                90|                97|                94|                94|                93|                96|                97|                96|                96|               96|                96|                95|                95|                96|               97|                94|                95|                92|               95|                94|                91|                96|                93|                93|                91|               90|                92|               91|                90|                94|               99K|               93|                95|         105500000|\n",
            "+-------+-----------------+---------+------------------+--------------------+-----------+--------------------+-----------------+-----------------+--------------------+--------------------+-----------------+------------------+------------------+--------------+------------------------+------------------+------------------+--------------+---------+---------+--------+------------------+-----------+--------------------+--------------------+-------------------+------------------+------------------+-----------------+------------------+-----------------+------------------+-----------------+------------------+------------------+------------------+------------------+------------------+------------------+------------------+------------------+------------------+-----------------+------------------+------------------+------------------+------------------+-----------------+------------------+------------------+------------------+-----------------+------------------+------------------+------------------+------------------+------------------+------------------+-----------------+------------------+-----------------+------------------+------------------+------------------+-----------------+------------------+------------------+\n",
            "\n"
          ],
          "name": "stdout"
        }
      ]
    },
    {
      "cell_type": "markdown",
      "metadata": {
        "id": "fK4y1JefBzXe"
      },
      "source": [
        "From the above statistics, it is seen that the average overall in 2019 is 67.86 and in 2021, it has increased to 68.63. On the other hand, the average potential has decreased from 73.05 to 72.14. In two years, the set of  players started to meet their potential while their potential to grow has decreased."
      ]
    },
    {
      "cell_type": "markdown",
      "metadata": {
        "id": "EGN1Y6iGxW4z"
      },
      "source": [
        "Checking the statistics (min, mean and max) for Age, Overall:"
      ]
    },
    {
      "cell_type": "code",
      "metadata": {
        "colab": {
          "base_uri": "https://localhost:8080/"
        },
        "id": "mdWVric-aY-h",
        "outputId": "68c884d2-e6d8-405d-a52a-19baa1ee9d9a"
      },
      "source": [
        "# use aggregate to calculate min, max and mean\n",
        "\n",
        "# calculating the minimum age\n",
        "min_age = df.agg({'Age':'min'}).show()\n",
        "\n",
        "# calculating the maximum age\n",
        "max_age = df.agg({'Age':'max'}).show()\n",
        "\n",
        "# calculating the mean age\n",
        "mean_age = df.agg({'Age':'avg'}).show()"
      ],
      "execution_count": 9,
      "outputs": [
        {
          "output_type": "stream",
          "text": [
            "+--------+\n",
            "|min(Age)|\n",
            "+--------+\n",
            "|      16|\n",
            "+--------+\n",
            "\n",
            "+--------+\n",
            "|max(Age)|\n",
            "+--------+\n",
            "|      45|\n",
            "+--------+\n",
            "\n",
            "+------------------+\n",
            "|          avg(Age)|\n",
            "+------------------+\n",
            "|25.122205745043114|\n",
            "+------------------+\n",
            "\n"
          ],
          "name": "stdout"
        }
      ]
    },
    {
      "cell_type": "code",
      "metadata": {
        "colab": {
          "base_uri": "https://localhost:8080/"
        },
        "id": "-KMLB3sAfkpK",
        "outputId": "77da87ac-a90d-4fd3-d63b-076444f7302f"
      },
      "source": [
        "# calculating the minimum overall\n",
        "min_overall = df.agg({'Overall':'min'}).show()\n",
        "\n",
        "# calculating the maximum overall\n",
        "max_overall = df.agg({'Overall':'max'}).show()\n",
        "\n",
        "# calculating the mean overall\n",
        "mean_overall = df.agg({'Overall':'avg'}).show()"
      ],
      "execution_count": 10,
      "outputs": [
        {
          "output_type": "stream",
          "text": [
            "+------------+\n",
            "|min(Overall)|\n",
            "+------------+\n",
            "|          46|\n",
            "+------------+\n",
            "\n",
            "+------------+\n",
            "|max(Overall)|\n",
            "+------------+\n",
            "|          94|\n",
            "+------------+\n",
            "\n",
            "+-----------------+\n",
            "|     avg(Overall)|\n",
            "+-----------------+\n",
            "|66.23869940132916|\n",
            "+-----------------+\n",
            "\n"
          ],
          "name": "stdout"
        }
      ]
    },
    {
      "cell_type": "markdown",
      "metadata": {
        "id": "xzClAtzpxW41"
      },
      "source": [
        "Finding the position having highest average overall:"
      ]
    },
    {
      "cell_type": "code",
      "metadata": {
        "colab": {
          "base_uri": "https://localhost:8080/"
        },
        "id": "S4SMaNc4gX3E",
        "outputId": "37d9c19f-f78e-4da3-8199-64d0269b19ff"
      },
      "source": [
        "# grouping the data first by Position, aggregating the Overall and sorting the data to get the position \n",
        "# with highest overall \n",
        "df_overall_position = df.groupby('Position').agg({'Overall':'AVG'})\n",
        "df_overall_position.orderBy(df_overall_position['avg(Overall)'].desc()).take(1)\n",
        "#df_overall_position.sort('avg(Overall)',ascending=False).first()"
      ],
      "execution_count": 11,
      "outputs": [
        {
          "output_type": "execute_result",
          "data": {
            "text/plain": [
              "[Row(Position='LF', avg(Overall)=73.86666666666666)]"
            ]
          },
          "metadata": {
            "tags": []
          },
          "execution_count": 11
        }
      ]
    },
    {
      "cell_type": "markdown",
      "metadata": {
        "id": "Ach68f5LxW41"
      },
      "source": [
        "Finding the top 3 countries with highest Avg Overall:"
      ]
    },
    {
      "cell_type": "code",
      "metadata": {
        "colab": {
          "base_uri": "https://localhost:8080/"
        },
        "id": "B6PYyigEjZwI",
        "outputId": "96fbcfd9-c710-4c3e-9e41-72d51ed898fd"
      },
      "source": [
        "# grouping first by Countries and aggregating the Overall and sorting to get the top 3 countries with \n",
        "# highest average overall\n",
        "df_overall_nationality = df.groupby('Nationality').agg({'Overall':'AVG'})\n",
        "df_overall_nationality.orderBy(df_overall_nationality['avg(Overall)'].desc()).take(3)\n"
      ],
      "execution_count": 12,
      "outputs": [
        {
          "output_type": "execute_result",
          "data": {
            "text/plain": [
              "[Row(Nationality='United Arab Emirates', avg(Overall)=77.0),\n",
              " Row(Nationality='Central African Rep.', avg(Overall)=73.33333333333333),\n",
              " Row(Nationality='Israel', avg(Overall)=72.14285714285714)]"
            ]
          },
          "metadata": {
            "tags": []
          },
          "execution_count": 12
        }
      ]
    },
    {
      "cell_type": "markdown",
      "metadata": {
        "id": "OfLXAH39xW42"
      },
      "source": [
        "Finding the average potentials on country by position:"
      ]
    },
    {
      "cell_type": "code",
      "metadata": {
        "colab": {
          "base_uri": "https://localhost:8080/"
        },
        "id": "R1RsTYgImPFD",
        "outputId": "d3f77e8f-0db7-4229-c7d9-40ed45b8c376"
      },
      "source": [
        "# creating a pivot table in which the value of column Nationality is transposed to multiple columns \n",
        "pivot_df = df.groupBy(\"Position\").pivot(\"Nationality\").avg(\"Potential\")\n",
        "pivot_df.show(pivot_df.count())"
      ],
      "execution_count": 13,
      "outputs": [
        {
          "output_type": "stream",
          "text": [
            "+--------+-----------+-----------------+-----------------+-------+-----------------+-----------------+-----------------+-------+-----------------+-----------------+----------+--------+-------+-----------------+------+-----------------+-------+-------+------------------+--------+-----------------+--------+-----------------+-------+-----------------+-----------------+----------+--------------------+----+------------------+------------------+-----------------+-------+-----------------+-----------------+-----------------+----+-------+-----------------+-----------------+-----------------+-----------------+------------------+-----------------+-----------------+-----------+-----------------+-----------------+-------+-----------------+--------+-----------------+-------------+----+-----------------+-----------------+-----+------+-----------------+-----------------+-----------------+-----------------+-------+----+---------+------+-----------------+------+-----------------+--------+---------+-----------------+-----------------+------------------+---------+-----------------+-----------------+------+-----------------+-----------------+-----------------+-----------------+------+----------+-----+---------+-----------------+-----------------+------+------+-------+-------+-----+-------------+---------+----------+-----------------+-----------------+-----+----------+---------+-----------------+-------+-----------------+----------+-----------------+----------+-------+-----------------+-------------+-----------------+---------+-----+-----------------+-----------------+-----------------+----+---------+-----------------+-----------------+----+-----------+-----------------+-----------------+-----------+-----+-------------------+-----------------+-----------------+------+---------------------+------------------+-----------------+-----------------+-----------------+------------+-----------------+-----------------+-----------------+-----------+-----------------+--------------+--------+-----+--------+-----------------+-----------------+-----+--------+--------+-----------------+-----------------+-------+-----------------+------+-----------------+--------------------+-----------------+-----------------+----------+-----------------+-----------------+------+-----------------+\n",
            "|Position|Afghanistan|          Albania|          Algeria|Andorra|           Angola|Antigua & Barbuda|        Argentina|Armenia|        Australia|          Austria|Azerbaijan|Barbados|Belarus|          Belgium|Belize|            Benin|Bermuda|Bolivia|Bosnia Herzegovina|Botswana|           Brazil|Bulgaria|     Burkina Faso|Burundi|         Cameroon|           Canada|Cape Verde|Central African Rep.|Chad|             Chile|          China PR|         Colombia|Comoros|            Congo|       Costa Rica|          Croatia|Cuba|Curacao|           Cyprus|   Czech Republic|         DR Congo|          Denmark|Dominican Republic|          Ecuador|            Egypt|El Salvador|          England|Equatorial Guinea|Eritrea|          Estonia|Ethiopia|    FYR Macedonia|Faroe Islands|Fiji|          Finland|           France|Gabon|Gambia|          Georgia|          Germany|            Ghana|           Greece|Grenada|Guam|Guatemala|Guinea|    Guinea Bissau|Guyana|            Haiti|Honduras|Hong Kong|          Hungary|          Iceland|             India|Indonesia|             Iran|             Iraq|Israel|            Italy|      Ivory Coast|          Jamaica|            Japan|Jordan|Kazakhstan|Kenya|Korea DPR|   Korea Republic|           Kosovo|Kuwait|Latvia|Lebanon|Liberia|Libya|Liechtenstein|Lithuania|Luxembourg|       Madagascar|             Mali|Malta|Mauritania|Mauritius|           Mexico|Moldova|       Montenegro|Montserrat|          Morocco|Mozambique|Namibia|      Netherlands|New Caledonia|      New Zealand|Nicaragua|Niger|          Nigeria| Northern Ireland|           Norway|Oman|Palestine|           Panama|         Paraguay|Peru|Philippines|           Poland|         Portugal|Puerto Rico|Qatar|Republic of Ireland|          Romania|           Russia|Rwanda|S?o Tom�� & Pr��ncipe|      Saudi Arabia|         Scotland|          Senegal|           Serbia|Sierra Leone|         Slovakia|         Slovenia|     South Africa|South Sudan|            Spain|St Kitts Nevis|St Lucia|Sudan|Suriname|           Sweden|      Switzerland|Syria|Tanzania|Thailand|             Togo|Trinidad & Tobago|Tunisia|           Turkey|Uganda|          Ukraine|United Arab Emirates|    United States|          Uruguay|Uzbekistan|        Venezuela|            Wales|Zambia|         Zimbabwe|\n",
            "+--------+-----------+-----------------+-----------------+-------+-----------------+-----------------+-----------------+-------+-----------------+-----------------+----------+--------+-------+-----------------+------+-----------------+-------+-------+------------------+--------+-----------------+--------+-----------------+-------+-----------------+-----------------+----------+--------------------+----+------------------+------------------+-----------------+-------+-----------------+-----------------+-----------------+----+-------+-----------------+-----------------+-----------------+-----------------+------------------+-----------------+-----------------+-----------+-----------------+-----------------+-------+-----------------+--------+-----------------+-------------+----+-----------------+-----------------+-----+------+-----------------+-----------------+-----------------+-----------------+-------+----+---------+------+-----------------+------+-----------------+--------+---------+-----------------+-----------------+------------------+---------+-----------------+-----------------+------+-----------------+-----------------+-----------------+-----------------+------+----------+-----+---------+-----------------+-----------------+------+------+-------+-------+-----+-------------+---------+----------+-----------------+-----------------+-----+----------+---------+-----------------+-------+-----------------+----------+-----------------+----------+-------+-----------------+-------------+-----------------+---------+-----+-----------------+-----------------+-----------------+----+---------+-----------------+-----------------+----+-----------+-----------------+-----------------+-----------+-----+-------------------+-----------------+-----------------+------+---------------------+------------------+-----------------+-----------------+-----------------+------------+-----------------+-----------------+-----------------+-----------+-----------------+--------------+--------+-----+--------+-----------------+-----------------+-----+--------+--------+-----------------+-----------------+-------+-----------------+------+-----------------+--------------------+-----------------+-----------------+----------+-----------------+-----------------+------+-----------------+\n",
            "|      RF|       null|             null|             null|   null|             null|             null|             87.0|   null|             null|             66.0|      null|    null|   null|             82.0|  null|             null|   null|   null|              null|    null|             null|    null|             null|   null|             null|             null|      null|                null|null|              null|              72.0|             null|   null|             null|             null|             null|null|   null|             null|             null|             null|             null|              null|             null|             null|       null|             null|             null|   null|             null|    null|             null|         null|null|             69.0|             null| null|  null|             null|             78.0|             null|             null|   null|null|     null|  null|             null|  null|             null|    null|     null|             null|             null|              null|     null|             null|             null|  null|             75.0|             null|             null|68.33333333333333|  null|      null| null|     null|             null|             null|  null|  null|   null|   null| null|         null|     null|      null|             null|             null| null|      null|     null|             null|   null|             null|      null|             null|      null|   null|             null|         null|             null|     null| null|             null|             null|             null|null|     null|             null|             null|null|       null|             null|             null|       null| null|               null|             null|             null|  null|                 null|              null|             null|             null|             null|        null|             null|             null|             null|       null|             81.0|          null|    null| null|    null|             75.0|             null| 73.0|    null|    null|             null|             null|   null|             null|  null|             null|                null|             null|             75.0|      null|             null|             null|  null|             null|\n",
            "|     LWB|       null|             null|             null|   null|             null|             null|            75.75|   null|             71.0|             69.0|      null|    null|   null|             null|  null|             null|   null|   null|              null|    null|             null|    null|             null|   null|             75.0|             null|      null|                null|null|              null|              60.5|             75.5|   69.0|             null|             null|             null|null|   null|             null|             null|             null|            72.75|              null|             null|             null|       null|             69.8|             null|   null|             null|    null|             null|         64.0|null|             62.0|            74.25| null|  null|             null|76.14285714285714|             71.0|             null|   null|null|     null|  null|             null|  null|             null|    null|     null|             null|             70.0|              null|     null|             null|             null|  null|             67.0|             null|             null|             66.0|  null|      null| null|     null|             null|             null|  null|  null|   null|   null| null|         null|     null|      null|             null|             null| null|      null|     null|             null|   null|             null|      null|             null|      null|   null|             72.0|         null|             73.0|     null| null|             72.0|             67.0|             77.0|null|     null|             null|             null|68.0|       null|             null|             82.0|       null| null|               70.0|             null|             76.0|  null|                 null|              67.0|             66.0|             null|             null|        null|             null|             null|             null|       null|            77.25|          null|    null| null|    null|66.77777777777777|             68.0| null|    null|    null|             null|             null|   null|             null|  null|             null|                null|             null|             null|      null|             null|             64.0|  null|             null|\n",
            "|     LCM|       null|             71.0|             76.0|   null|             null|             null|            74.52|   null|             70.0|72.44444444444444|      null|    null|   75.0|78.14285714285714|  null|             null|   null|   68.0|             75.75|    null|             76.5|    null|             null|   null|             69.0|             73.0|      null|                null|null|              71.8|              68.0|            71.25|   null|             69.0|             null|85.33333333333333|null|   69.0|             null|72.33333333333333|             null|72.45454545454545|              null|             74.0|             null|       null|70.75757575757575|             80.0|   null|             null|    null|             83.0|         68.0|null|67.33333333333333|75.29411764705883| 78.5|  null|             null|73.11764705882354|             76.0|             null|   null|null|     null|  null|             null|  null|             null|    null|     null|             78.0|             72.0|              71.0|     null|             null|             74.0|  72.0|73.42105263157895|             73.6|             null|65.41666666666667|  null|      null| null|     null|67.54545454545455|             77.0|  null|  null|   null|   null| null|         null|     null|      null|             null|             null| null|      null|     null|             77.5|   null|             null|      null|             80.0|      null|   null|             73.1|         null|             66.0|     null| null|             73.0|             67.0|71.36363636363636|null|     null|             null|             75.5|null|       null|             75.2|77.44444444444444|       null| null|               64.8|             null|             75.0|  71.0|                 null|61.333333333333336|70.57142857142857|             73.2|             75.0|        null|             87.0|             83.0|             72.0|       null|75.28571428571429|          72.0|    null| null|    67.0|          70.3125|             74.5| 72.0|    null|    null|             null|             null|   70.0|             69.0|  74.0|             null|                null|             79.0|             78.0|      null|             null|             64.0|  null|             83.0|\n",
            "|      LM|       70.0|73.66666666666667|74.66666666666667|   null|             72.0|             65.0|         74.40625|   69.5|69.54545454545455|69.29411764705883|      68.0|    null|   null|75.31818181818181|  null|             null|   63.0|   70.0| 72.33333333333333|    null|74.43333333333334|    71.0|             null|   null|71.16666666666667|67.85714285714286|      80.0|                null|null|  71.0952380952381| 63.65384615384615|71.61702127659575|   60.0|72.33333333333333|             null|             73.0|null|   71.0|             75.0|             72.2|73.28571428571429|69.26666666666667|              76.0|             72.2|             75.6|       null| 69.6701030927835|             null|   null|             null|    null|71.66666666666667|         null|null|             72.0|74.79591836734694| 82.5|  71.0|             75.5|71.09574468085107|73.57142857142857|             73.0|   null|null|     null|  67.5|             null|  null|             null|    74.0|     null|             72.0|             71.0|              66.0|     null|             79.0|72.33333333333333|  72.0|72.88888888888889|             74.2|71.66666666666667|69.02857142857142|  null|      null| 73.5|     null|67.14285714285714|             78.0|  null|  null|   null|   null| 73.0|         null|     null|      null|             null|             77.0| 63.0|      null|     null|71.52173913043478|   null|             79.0|      null|             73.0|      null|   null|73.36363636363636|         null|             null|     null| null|75.81818181818181|             71.0|71.44444444444444|null|     null|             null|             74.8|74.5|       null|             69.4|             74.5|       null| null|  68.91304347826087|71.16666666666667|72.33333333333333|  null|                 null|  66.5909090909091|          72.3125|77.33333333333333|71.55555555555556|        null|            70.75|             81.0|             72.0|       null|74.13157894736842|          null|    null| null|    null|69.16666666666667|70.81818181818181| null|    72.0|    null|             null|             74.0|   71.0|72.11538461538461|  null|             71.0|                null|72.46666666666667|73.71428571428571|      null|            74.25|             73.5|  null|             null|\n",
            "|     RDM|       null|             null|71.33333333333333|   null|             null|             null|             73.5|   null|             77.0|72.85714285714286|      null|    null|   null|             null|  null|             null|   null|   null|              null|    null|74.04545454545455|    73.0|             null|   null|             78.0|             null|      68.5|                null|null|              69.8| 64.33333333333333|72.08333333333333|   70.0|             null|             null|             62.0|76.0|   null|             null|             83.0|             66.0|             70.0|              null|             73.5|             79.0|       70.0|71.84615384615384|             null|   null|             null|    null|             76.0|         null|null|             null|75.78947368421052| 76.0|  null|             null|70.54166666666667|             74.5|             81.5|   null|null|     null|  null|             null|  null|             null|    null|     null|             null|             64.0|              null|     null|             null|             null|  null|            74.75|             78.0|             null|            67.75|  null|      null| null|     null|             59.0|             77.0|  null|  66.0|   null|   null| null|         null|     null|      null|             77.0|             75.0| null|      null|     null|             73.8|   null|             72.0|      null|             77.0|      null|   null|73.71428571428571|         null|             71.0|     null| null|             79.0|             null|             70.5|null|     null|             null|             75.0|79.0|       null|             71.0|             69.5|       null| null|               66.6|             79.0|             79.5|  null|                 null| 68.33333333333333|             69.0|            75.75|77.66666666666667|        null|             69.0|             70.0|             70.0|       null|             74.3|          null|    null| null|    null|             64.0|70.66666666666667| null|    null|    null|             73.5|             68.0|   null|             72.8|  null|             81.0|                null|            75.25|             67.0|      null|             null|             70.4|  null|             null|\n",
            "|      LF|       null|             null|             null|   null|             null|             null|             82.0|   null|             null|             null|      null|    null|   null|             86.0|  null|             null|   null|   null|              null|    null|             74.0|    null|             null|   null|             null|             null|      null|                null|null|              null|              null|             null|   null|             null|             77.0|             null|null|   null|             null|             null|             null|             null|              null|             null|             null|       null|             null|             null|   null|             66.0|    null|             72.0|         null|null|             null|             null| null|  null|             77.0|             71.0|             null|             null|   null|null|     null|  null|             null|  null|             null|    null|     null|             null|             null|              null|     null|             null|             null|  null|             null|             null|             null|             63.0|  null|      null| null|     null|             null|             null|  null|  null|   null|   null| null|         null|     null|      null|             null|             null| null|      null|     null|             null|   null|             null|      null|             null|      null|   null|             null|         null|             null|     null| null|             null|             null|             null|null|     null|             null|             null|null|       null|             null|             null|       null| null|               null|             null|             null|  null|                 null|              null|             null|             null|             null|        null|             null|             null|             null|       null|             84.0|          null|    null| null|    null|             null|             null| null|    null|    null|             null|             null|   null|             null|  null|             null|                null|             null|             null|      null|             null|             null|  null|             null|\n",
            "|    null|       null|             70.0|             null|   null|             null|             null|             70.0|   null|             null|             64.0|      null|    null|   null|             62.0|  null|             null|   null|   68.0|              null|    null|             73.0|    null|             null|   null|             null|             null|      null|                null|null|63.333333333333336|              64.0|             67.0|   null|             null|             null|             null|null|   null|             null|             null|             null|             62.0|              null|             null|             null|       null|             66.0|             null|   null|             67.0|    null|             null|         null|null|             null|             69.0| null|  null|             null|             71.0|             null|             null|   null|null|     null|  null|             null|  null|             null|    null|     null|             null|             null|60.857142857142854|     null|             null|             null|  null|67.66666666666667|             null|             null|             null|  null|      null| null|     null|             63.5|             null|  null|  null|   null|   null| null|         null|     null|      null|             null|             null| null|      null|     null|             65.0|   null|             null|      null|             null|      null|   null|             79.0|         null|             null|     62.0| null|             null|             69.0|             null|null|     null|             null|             62.0|null|       null|             67.0|             null|       null| null|               null|             null|             null|  null|                 null| 64.66666666666667|64.66666666666667|             null|             null|        null|             null|             null|             null|       null|             69.0|          null|    null| null|    null|             73.0|             null| null|    null|    null|             null|             null|   null|             null|  null|             null|                null|             null|             null|      null|             70.0|             null|  null|             null|\n",
            "|     CAM|       66.0|            70.75|            74.25|   null|             null|             null|74.78260869565217|   null|            71.25|73.16666666666667|      null|    null|   70.0|74.08333333333333|  null|             null|   null|   70.5|              70.8|    null|71.80246913580247|    68.0|             70.5|   67.0|77.66666666666667|69.33333333333333|      null|                null|null| 74.78571428571429|62.666666666666664|             70.4|   null|             69.5|             null|78.66666666666667|null|   null|             null|73.33333333333333|             76.0|72.71428571428571|              null|             73.5|             null|       null|72.47222222222223|             75.0|   null|             61.0|    null|             75.0|         null|null|            72.25|73.41176470588235| null|  null|72.33333333333333|73.33870967741936|             70.5|77.28571428571429|   null|null|     null|  null|             null|  null|             60.0|    null|     null|             78.0|             73.5|              null|     74.0|             null|             null|  74.0|            71.96|             70.5|             69.0|68.57142857142857|  null|      65.0| null|     null| 68.3529411764706|             68.0|  null|  null|   null|   null| 73.0|         null|     null|      null|             65.0|             null| null|      null|     null|             71.2|   74.0|             null|      null|             75.4|      null|   null|72.86842105263158|         null|             70.0|     null| 63.0|             72.0|             69.0|            69.25|null|     null|             null|             77.5|76.5|       null|70.94117647058823|           77.625|       null| null|  68.94444444444444|             78.0|79.33333333333333|  null|                 null| 68.93333333333334|69.81818181818181|             null|            74.25|        null|             80.5|72.28571428571429|74.28571428571429|       null|74.49122807017544|          null|    null| null|    null|70.16666666666667|71.29411764705883| 73.0|    null|    null|             null|             72.0|   72.5|73.52631578947368|  null|             79.0|                78.0|73.07692307692308|74.27272727272727|      null|            73.25|            77.75|  74.0|             null|\n",
            "|     RAM|       null|             null|             null|   null|             null|             null|             null|   null|             null|             null|      null|    null|   null|             null|  null|             null|   null|   null|              null|    null|72.42857142857143|    null|             null|   null|             null|             null|      null|                null|null|              null|              null|             76.5|   null|             null|             null|             null|null|   null|             null|             null|             null|             null|              null|             null|             null|       null|             null|             null|   null|             null|    null|             null|         null|null|             null|             null| null|  null|             null|             72.0|             null|             null|   null|null|     null|  null|             null|  null|             null|    null|     null|             null|             null|              null|     null|             null|             null|  null|             null|             null|             null|             67.0|  null|      null| null|     null|             null|             null|  null|  null|   null|   null| null|         null|     null|      null|             null|             null| null|      null|     null|             null|   null|             null|      null|             86.0|      null|   null|             null|         null|             null|     null| null|             null|             null|             null|null|     null|             null|             null|null|       null|             null|             null|       null| null|               null|             null|             null|  null|                 null|              null|             null|             null|             null|        null|             null|             null|             null|       null|             null|          null|    null| null|    null|             null|             null| null|    null|    null|             null|             null|   null|             null|  null|             null|                null|             null|             null|      null|             71.0|             null|  null|             null|\n",
            "|      LB|       64.0|             66.0|            73.75|   null|             75.0|             null|72.22033898305085|   null|68.28571428571429|69.47058823529412|      null|    null|   null|71.36363636363636|  null|             69.0|   null|   70.0| 71.33333333333333|    null|73.82089552238806|    68.0|             73.0|   null|             72.0|             69.2|      null|                null|null| 69.26829268292683| 63.63333333333333|68.90566037735849|   null|             69.0|             72.0|74.55555555555556|64.0|   74.0|             null|72.66666666666667|72.66666666666667|            68.72|              null|75.33333333333333|69.33333333333333|       null|70.08064516129032|             75.0|   null|             66.0|    null|             null|         null|null|            68.25|72.58974358974359| 64.5|  null|             null| 71.0506329113924|73.71428571428571|             74.2|   null|null|     68.0|  71.5|             67.0|  null|             null|    70.0|     null|             71.0|71.66666666666667|              65.0|     null|             73.0|             75.0|  69.5|71.74545454545455|             72.6|             70.5|67.53846153846153|  null|      66.0| 66.0|     null|67.77272727272727|             75.0|  null|  null|   null|   null| null|         null|     66.0|      null|             67.0|71.33333333333333| null|      72.0|     null|71.55555555555556|   null|             62.0|      null|             75.0|      70.0|   null|         71.96875|         null|             63.0|     null| null|             70.0|             67.2|68.17391304347827|null|     null|             null|             73.2|71.0|       68.0|67.13636363636364|73.11764705882354|       null| null|  65.51851851851852|70.66666666666667|             75.0|  null|                 null|              65.0|70.61904761904762|           70.625|             70.0|        null|67.33333333333333|             73.0|           67.875|       null|74.27160493827161|          null|    null| null|    null|67.58333333333333|             69.0| 64.0|    null|    62.0|             null|             null|   70.0|70.34482758620689|  64.0|             76.4|                null|69.11111111111111|             75.4|      null|             72.0|71.83333333333333|  null|             68.0|\n",
            "|      LW|       null|             64.0|73.66666666666667|   null|             70.5|             null|75.18518518518519|   null|66.44444444444444|72.33333333333333|      null|    null|   null|           73.625|  null|             null|   null|   null| 69.66666666666667|    null|             77.2|    66.0|             84.0|   76.0|            68.25|             null|      null|                null|78.0| 69.84615384615384| 65.42857142857143|            71.25|   null|             75.0|             65.0|79.66666666666667|76.0|   67.5|             null|             75.0|             74.0|             74.5|              null|             74.0|             71.0|       74.0|73.94444444444444|             null|   null|             null|    null|             null|         66.0|null|             null|          72.8125| null|  68.5|             71.0|76.41666666666667|             72.0|             77.0|   null|null|     null|  80.0|             73.0|  null|             null|    null|     null|             80.0|             72.0|              66.0|     null|             68.0|             null|  null|         73.65625|             75.0|             68.0|             72.0|  null|      null| null|     null|69.14285714285714|73.33333333333333|  null|  null|   null|   null| 72.0|         null|     null|      null|             null|             73.5| null|      null|     null|             75.0|   null|             null|      null|69.66666666666667|      null|   null|             76.4|         null|             66.5|     null| null|79.66666666666667|             null|69.78571428571429|null|     null|             null|             71.5|76.0|       null|             null|             76.6|       null| null|  72.33333333333333|             80.0|             null|  null|                 null|              66.0|             76.0|             75.0|             76.5|        null|             null|             80.0|             69.6|       null|76.53846153846153|          null|    null| null|    72.0|69.28571428571429|             71.0| null|    null|    70.0|             70.0|             null|   null|75.33333333333333|  70.0|             79.0|                null|73.83333333333333|             75.0|      null|             69.0|             79.0|  null|             73.0|\n",
            "|     RCM|       null|             75.0|             76.0|   null|             null|             null|72.94444444444444|   null|             72.5|             69.6|      null|    null|   null|76.28571428571429|  null|             68.0|   null|   67.0|              73.5|    null|             75.8|    null|             null|   null|             73.5|             68.0|      null|                null|null|              71.4|63.857142857142854|73.54545454545455|   null|             null|             null|             81.0|null|   null|             null|             null|             null|71.44444444444444|              null|             76.0|             71.0|       null|70.29729729729729|             78.0|   null|             null|    null|             null|         null|null|             75.0|72.61538461538461| 75.0|  null|             null|76.77777777777777|            69.75|             null|   null|null|     null|  null|             null|  null|             null|    72.0|     null|             76.0|69.66666666666667|              67.0|     null|             null|             null|  null|           72.875|80.33333333333333|             null|66.61538461538461|  null|      70.0| null|     null|69.81818181818181|             null|  null|  null|   null|   null| null|         null|     null|      null|             null|             84.0| null|      null|     null|75.83333333333333|   null|             null|      null|             75.0|      null|   null|             73.5|         null|             73.0|     null| null|             79.2|             68.0|71.81818181818181|null|     null|             71.0|             71.0|null|       null|             73.5|75.57142857142857|       null| null|  65.84615384615384|             null|             null|  null|                 null|              64.0|             70.6|             70.5|             73.5|        null|             null|             null|             69.0|       null|            76.75|          null|    null| null|    null|70.46153846153847|            74.75| null|    null|    null|             null|             null|   81.0|             70.5|  70.0|             81.0|                null|73.83333333333333|76.14285714285714|      null|             null|             64.0|  null|             74.0|\n",
            "|      GK|       null|             77.5|             67.6|   null|             null|             null|71.76288659793815|   null|             67.0| 68.1590909090909|      null|    null|   69.0|            72.25|  null|             70.5|   null|   69.0|              70.4|    null|72.66176470588235|    65.2|             77.0|   null|             75.2|66.11111111111111|      null|                null|null| 69.30952380952381|  62.9811320754717|69.21153846153847|   null|             61.0|             77.0| 72.6923076923077|75.0|   71.5|             null|             71.5|             65.0|68.91428571428571|              null|72.33333333333333|68.66666666666667|       null| 68.2183908045977|             68.0|   null|             72.5|    null|             72.0|         null|null|           70.875|72.01980198019803| 65.0|  73.0|             70.0|70.90243902439025|             67.0| 74.3529411764706|   null|null|     68.0|  65.0|             null|  null|             null|    70.0|     null|             73.2|71.33333333333333| 64.66666666666667|     null|68.33333333333333|             null|  67.0| 71.3695652173913|            68.25|             78.0|63.18032786885246|  null|      null| null|     null|            67.95|             72.0|  null|  68.0|   null|   null| null|         null|     74.0|      null|             null|             66.0| null|      null|     null| 70.1086956521739|   72.0|             71.0|      null|             67.4|      null|   68.0|71.19642857142857|         null|             67.0|     null| null|             82.0|68.42857142857143|68.51612903225806|72.0|     null|             null|73.66666666666667|71.0|       75.0|67.77966101694915|         75.53125|       null| null|   65.8974358974359|             75.6|74.92857142857143|  null|                 null| 64.38297872340425| 66.9047619047619|           72.125|71.77777777777777|        null|69.42857142857143|             79.0|69.57142857142857|       null|73.88793103448276|          null|    null| null|    null|68.32608695652173|70.84848484848484| null|    null|    null|             null|             53.0|   73.0|69.87234042553192|  null|             73.1|                null|67.84722222222223|             72.5|      null|            75.25|67.71428571428571|  null|             null|\n",
            "|      RB|       null|             75.0|             63.0|   null|             null|             71.5|            71.98|   72.0|66.21428571428571| 69.0909090909091|      62.0|    null|   null|             72.0|  null|             null|   null|   70.0|              71.0|    null|72.57142857142857|    69.0|             77.0|   null|71.66666666666667|             70.0|      67.0|                null|null| 69.13793103448276|62.476190476190474|             71.0|   70.0|             null|             68.5|            76.75|null|   71.0|             67.0|             72.5|             78.0|             69.6|              null|             68.5|             71.0|       null|70.25210084033614|             null|   null|             66.0|    64.0|             71.0|         null|null|             64.5|72.72972972972973| 71.0|  65.0|             76.0|70.62650602409639|            71.75|71.83333333333333|   null|67.0|     null|  null|             72.0|  null|             70.0|    69.0|     null|             70.5|             66.0|              66.0|     null|             72.0|             null|  null|72.57894736842105|             75.5|67.66666666666667|66.93548387096774|  null|      65.0| null|     null|66.05555555555556|             69.0|  null|  null|   null|   null| null|         66.0|     null|      72.0|             72.0|             75.5| null|      66.0|     null|69.39473684210526|   null|             69.0|      null|             72.0|      null|   78.0|73.35135135135135|         null|66.66666666666667|     null| null|             73.0|             68.8|69.78260869565217|null|     null|             80.0|             72.5|73.0|       null|68.03225806451613|74.92857142857143|       null| null|  64.79166666666667|             74.0|76.14285714285714|  null|                 null| 66.67567567567568|68.73684210526316|           72.625|72.44444444444444|        70.0|             75.0|             69.5|             68.5|       null|74.37931034482759|          56.0|    68.0| null|    69.5|69.61111111111111|70.73913043478261| null|    null|    null|             null|             null|   69.5|            71.75|  64.0|            74.25|                null|69.65789473684211|72.11111111111111|      null|71.83333333333333| 68.3076923076923|  null|             72.0|\n",
            "|      RS|       null|             71.0|             null|   null|             66.0|             null|             73.8|   null|             66.5|70.66666666666667|      66.0|    null|   null|             77.0|  null|             76.5|   null|   73.0|              null|    null|             74.0|    null|             null|   null|             81.0|             77.0|      null|                null|null|              76.0|              67.0|77.42857142857143|   null|             null|             null|             71.0|null|   null|             null|             73.0|             70.0|             67.5|              null|             73.0|             null|       null|67.10714285714286|             null|   null|             null|    null|             null|         null|71.0|             null|            77.75| null|  null|             null|             71.0|             75.0|             null|   null|null|     null|  null|             null|  null|             null|    null|     null|             null|             null|              64.0|     null|             null|             null|  80.0|75.23529411764706|            75.25|             62.0|             73.0|  null|      null| null|     null|65.66666666666667|             null|  null|  null|   null|   null| null|         null|     null|      null|             null|             80.0| null|      null|     null|75.66666666666667|   null|             null|      67.0|             70.0|      null|   null|             71.0|         null|             70.0|     null| null|             73.0|             68.0|             73.0|null|     null|             70.0|             null|null|       null|71.33333333333333|             77.0|       null| null|               71.5|             null|             75.5|  null|                 null| 67.33333333333333|            71.75|             68.5|             73.5|        null|             null|             null|             null|       null|77.27272727272727|          null|    null| null|    null|73.33333333333333|             null| null|    null|    null|             null|             null|   null|             69.5|  null|             null|                null|             76.0|            74.75|      null|             74.5|             67.0|  null|             75.0|\n",
            "|     LCB|       null|             null|             69.0|   null|             72.0|             null|73.91428571428571|   null|             67.6|71.58333333333333|      null|    null|   null|             75.0|  null|             null|   null|   72.0|              68.5|    null|74.48936170212765|    69.0|             76.0|   null|             72.8|             66.0|      72.5|                null|null| 73.15384615384616| 66.72727272727273| 72.8076923076923|   null|             69.0|             71.5|77.66666666666667|null|   null|             78.0|             75.0|             69.0|70.84615384615384|              null|72.66666666666667|             72.5|       null|70.92592592592592|             null|   null|             69.0|    null|             null|         null|null|             67.5|76.02702702702703| null|  81.0|             73.0|72.82051282051282|             76.5|             75.0|   68.0|null|     null|  73.0|             null|  null|             null|    null|     null|             75.0|             73.0|              62.0|     null|             67.0|             null|  null|72.88888888888889|             75.0|             74.0|67.85714285714286|  null|      null| null|     null|             66.6|             null|  null|  null|   66.0|   null| null|         null|     null|      null|             null|             null| null|      null|     null|             72.4|   74.0|             69.0|      null|            68.25|      75.0|   null|            75.05|         71.0|             67.0|     66.0| null|             null|             65.0|70.06666666666666|null|     null|             68.0|71.66666666666667|74.5|       null|             68.0|73.71428571428571|       null| null|  68.66666666666667|             74.5|             73.0|  null|                 null|              67.6|72.27272727272727|             75.6|72.88888888888889|        null|79.33333333333333|             74.5|             69.0|       null|74.70967741935483|          null|    null| null|    null|          67.5625|72.16666666666667| null|    null|    null|             null|             null|   76.5|73.83333333333333|  null|             78.0|                null|73.07142857142857|             73.5|      null|             78.0|            72.75|  null|             null|\n",
            "|      CM|       71.0|            71.75|77.66666666666667|   null|             null|             null|73.08695652173913|   null|67.71428571428571|68.70588235294117|      null|    null|   null|74.21428571428571|  null|             null|   null|   72.5|              68.8|    68.0|             76.0|    66.5|             77.0|   null|             72.5|             68.5|      74.5|                85.0|null| 70.17647058823529|62.432432432432435|69.77777777777777|   73.0|             null|70.33333333333333|72.63636363636364|null|   null|             null|74.36363636363636|             70.0|69.21212121212122|              null|             71.0|             73.0|       64.0|69.79591836734694|             null|   null|             null|    null|             66.0|         null|null|70.66666666666667|73.91379310344827| null|  null|             null|74.03333333333333|74.26666666666667|             73.0|   null|null|     null|  82.0|             68.0|  63.0|             69.0|    null|     71.0|             72.5|             72.5|              61.0|     null|             79.0|             64.0|  76.5|72.11111111111111|             74.0|             66.5|65.92105263157895|  null|      null| null|     null| 65.5952380952381|             74.0|  null|  null|   null|   null| null|         71.0|     68.0|      76.0|             64.0|             76.0| null|      null|     null|70.36842105263158|   67.0|             75.5|      68.0|           75.125|      null|   null|72.57142857142857|         null|             68.0|     null| null|65.16666666666667|             72.0|68.91304347826087|null|     null|             null|70.66666666666667|71.5|       null|67.84615384615384|75.44444444444444|       null| null|             67.375|             72.2|             75.0|  null|                 null| 68.61904761904762| 71.3030303030303|             71.1|77.88888888888889|        null|74.16666666666667|             71.0|72.83333333333333|       null|          74.7875|          null|    null| null|    null|68.51282051282051|           72.625| 64.0|    null|    63.0|             null|             null|   69.0|71.44444444444444|  null|74.71428571428571|                null|70.52631578947368|71.33333333333333|      67.5|             72.6|             67.9|  76.0|             null|\n",
            "|      RW|       null|             72.5|             76.6|   null|             null|             null|73.20689655172414|   70.5|             68.6|             71.0|      null|    null|   null|78.16666666666667|  61.0|             null|   null|   null|              75.0|    null|76.42857142857143|    null|             null|   null|             null|             64.0|      null|                null|null| 70.82352941176471| 63.44444444444444|            74.75|   null|             67.0|             67.0|             null|null|   null|             null|             75.0|             77.5|             76.2|              null|             72.0|             null|       null|74.73684210526316|             null|   null|             null|    null|             null|         null|null|             65.5|             74.7| null|  null|             81.0|             73.0|           72.375|             70.0|   null|null|     null|  null|             74.5|  null|             78.0|    null|     null|70.66666666666667|             74.5|              null|     null|             null|             null|  null| 76.3157894736842|             75.8|             null|             65.0|  null|      null| 66.0|     66.0|             70.0|             83.0|  null|  null|   null|   null| 76.0|         null|     null|      null|             67.0|             null| null|      null|     null|            73.75|   null|             70.0|      null|             null|      76.0|   null|74.57142857142857|         null|             62.0|     null| null|             75.2|             null|             70.4|null|     null|             null|             79.0|76.0|       null|             null|76.53846153846153|       null| null|               null|             78.0|             76.0|  null|                 null|              null|             70.0|             69.0|             83.0|        null|             75.0|             71.0|74.66666666666667|       null|             80.4|          null|    null| null|    null|66.07692307692308|75.66666666666667| null|    null|    null|             65.0|             null|   80.0|             71.0|  null|             null|                null|             72.5|            71.75|      null|            76.25|             76.5|  68.0|             null|\n",
            "|     RCB|       null|             68.0|             74.5|   null|             65.0|             null|73.05405405405405|   null|             69.5| 70.0909090909091|      null|    null|   null|             75.5|  null|             73.0|   null|   66.0|              69.0|    null| 75.2051282051282|    69.0|             70.0|   null|70.66666666666667|             71.0|      75.0|                null|null|             70.25|              67.0|            72.75|   null|             66.0|             75.5|71.55555555555556|null|   null|             null|            69.75|             76.0|             72.0|              null|             null|             67.0|       null|71.44642857142857|             null|   null|             null|    null|             null|         null|null|             72.0|75.72413793103448| null|  null|             75.0|72.72916666666667|             72.0|             78.0|   null|null|     null|  65.5|             null|  null|             null|    null|     null|             81.0|             70.0|              71.0|     null|             73.0|             null|  null|74.08333333333333|             74.0|             71.0|69.93333333333334|  null|      null| null|     null|             68.5|             null|  null|  64.0|   null|   null| null|         null|     null|      73.0|             null|             65.0| null|      null|     null|             73.7|   null|             null|      69.0|             71.5|      74.0|   null|73.61111111111111|         null|             67.0|     null| null|            70.25|             71.0|          69.1875|null|     null|             null|76.14285714285714|71.0|       null|70.81818181818181|             75.0|       null| null|   65.3076923076923|             71.5|             80.0|  null|                 null|              67.5|             67.5|            75.25|             74.8|        null|75.33333333333333|             69.0|             67.0|       null|74.52777777777777|          null|    null| null|    null|70.13333333333334|74.11111111111111| null|    null|    null|             79.0|             null|   null|74.22222222222223|  null|             73.0|                null|72.54545454545455|75.71428571428571|      null|             76.0|69.85714285714286|  74.0|             null|\n",
            "|     CDM|       null|             69.5|            70.25|   null|             null|             null|72.76363636363637|   null|          66.8125|69.63157894736842|      71.0|    null|   null|73.71428571428571|  null|             null|   null|   67.0|              82.0|    null|72.67441860465117|    63.5|             64.0|   null|           74.125|             71.8|      67.0|                null|null|              71.8|62.916666666666664|70.88888888888889|   74.0|             69.0|             null|75.11111111111111|null|   null|             null|             69.5|71.66666666666667|             74.0|              null|            69.25|             73.0|       null|            71.88|             null|   null|             null|    null|             76.0|         null|null|             75.0|73.03174603174604| 67.0|  74.0|             73.0|71.58227848101266|74.83333333333333|72.66666666666667|   null|null|     null|  71.0|            76.25|  66.0|             null|    null|     null|72.66666666666667|             68.0|              60.0|     null|             76.0|             null|  72.0|          76.0625|           76.125|             null|65.89473684210526|  null|      null| 74.0|     null|65.33333333333333|             66.0|  null|  null|   null|   null| null|         null|     60.0|      71.0|             63.0|72.66666666666667| null|      null|     null|           70.625|   null|             79.0|      null|             69.8|      null|   null|72.26666666666667|         null|             67.0|     null| null|73.85714285714286|            72.75|71.77777777777777|null|     null|             null|             71.0|74.5|       null|67.29629629629629|74.83333333333333|       null| null|  68.77272727272727|             80.0|             75.2|  null|                 null| 66.06666666666666|             72.6|             73.0|             80.0|        null|             70.0|             77.5|             73.5|       null|74.92307692307692|          null|    null| 60.0|    null|             70.0|73.88888888888889| 67.0|    null|    null|             68.5|             null|   null|71.79310344827586|  null|72.66666666666667|                null|71.08333333333333|71.14285714285714|      null|             75.0|             70.6|  null|             null|\n",
            "|      LS|       null|             null|             null|   null|             null|             null|75.23076923076923|   73.0|             64.0|             82.0|      null|    64.5|   null|             76.0|  null|             null|   null|   null|              77.0|    null|75.33333333333333|    66.0|             null|   null|             80.0|             62.0|      null|                null|null|              72.5|              null|             74.0|   null|             70.0|             null|             65.0|null|   null|             73.0|             null|             null|            70.25|              null|             75.0|             null|       null|68.92307692307692|             null|   72.0|             null|    null|             null|         null|null|             66.0|             74.8| null|  76.0|             null|             71.0|             72.0|             null|   null|null|     null|  null|             69.0|  null|             null|    null|     null|             null|             null|              67.0|     null|             null|             null|  80.0|          73.5625|             76.0|             64.0|            70.75|  null|      null| null|     null|             70.0|             null|  null|  null|   null|   null| null|         null|     null|      null|             null|             null| null|      null|     null|             80.5|   null|             72.5|      null|             78.0|      null|   null|71.33333333333333|         null|             null|     null| null|             70.0|             null|71.33333333333333|null|     null|             null|             71.0|null|       null|             75.0|             79.0|       null| null|               67.6|             75.0|             null|  null|                 null|              null|             69.0|             74.5|             86.0|        null|             null|             null|             null|       null|             78.2|          null|    null| null|    null|73.66666666666667|             66.0| 78.0|    null|    68.0|             null|             null|   67.0|             null|  null|             73.0|                null|             70.0|             74.5|      null|             84.0|             null|  null|             null|\n",
            "|      CB|       null|74.33333333333333|             69.5|   64.0|             79.0|             null|72.85858585858585|   null| 69.0952380952381|         70.28125|      null|    66.0|   null|75.04545454545455|  null|             72.0|   null|   74.0|              74.6|    null| 71.9090909090909|    63.0|             null|   null|73.08333333333333|             70.2|      null|                72.0|null| 71.17241379310344| 64.69444444444444|71.38461538461539|   null|69.66666666666667|            70.75|            73.25|null|   66.0|67.66666666666667|             73.1|             72.6|69.94594594594595|              null|             71.5|             76.5|       75.0| 70.2919254658385|             null|   null|70.66666666666667|    null|             69.0|         68.0|null|67.71428571428571|72.83870967741936| null|  79.0|             77.5|        71.359375|             72.5|74.13333333333334|   null|null|     67.0|  77.5|             74.0|  70.0|             73.0|    null|     62.0|             68.5|             71.0|              61.0|     null|             null|             68.0|  null| 72.1219512195122|             72.4|             72.0|64.63265306122449|  null|      null| 64.0|     null|67.07692307692308|             73.5|  null|  54.0|   null|   null| null|         null|     64.0|      65.0|72.33333333333333|             72.5| null|      70.0|     69.0|70.88372093023256|   null|75.66666666666667|      null|            78.25|      null|   null|73.30952380952381|         null|           67.375|     null| null|73.22222222222223|           67.375|68.06451612903226|null|     null|             69.8|             73.0|77.0|       null|68.82352941176471|75.96153846153847|       63.0| 68.0|             66.875|             73.8|             76.5|  null|                 null| 66.48780487804878|            69.72|             72.3|            71.75|        66.0|71.66666666666667|72.57142857142857|             71.0|       null|73.77884615384616|          null|    null| null|    null|           68.225|72.13636363636364| null|    null|    null|             null|             null|   70.5|72.10714285714286|  null|           74.125|                null|69.41666666666667|73.05882352941177|      null|             70.0|          69.8125|  null|             73.0|\n",
            "|     RWB|       null|             null|             82.0|   null|             null|             null|             72.0|   null|             66.0|             66.0|      null|    null|   null|             72.0|  null|             null|   null|   null|              70.0|    null|             null|    null|             null|   null|             74.0|             null|      null|                null|null|              null|61.666666666666664|             74.0|   null|             null|             null|             74.0|null|   null|             null|             81.0|             null|           68.625|              null|             null|             null|       null|67.86666666666666|             null|   null|             null|    null|             null|         null|null|             null|            73.75| null|  null|             null|72.66666666666667|             null|             null|   null|null|     null|  null|             null|  null|             null|    null|     null|             null|             75.0|              null|     null|             null|             null|  null|             72.5|             72.0|             null|             66.0|  70.0|      null| null|     null|             null|             null|  null|  null|   null|   null| null|         null|     null|      null|             null|             null| null|      null|     null|             80.0|   null|             null|      null|             null|      null|   null|             70.5|         null|             61.0|     null| null|             null|             null|             72.0|null|     null|             null|             null|null|       null|             null|             null|       null| null|               71.0|             null|             null|  null|                 null|              65.0|             65.5|             null|             null|        null|             null|             null|             68.0|       null|            78.25|          null|    null| null|    null|             68.0|             71.0| null|    null|    null|             null|             null|   null|             null|  null|             null|                null|             null|             null|      null|             null|             64.0|  null|             null|\n",
            "|      CF|       null|             null|             null|   null|             null|             null|             79.0|   null|             null|             68.0|      null|    null|   null|             null|  null|             null|   null|   null|              null|    null|            78.25|    null|             74.0|   null|             72.0|             null|      null|                null|null|              73.0|              null|             null|   null|             null|             null|             null|null|   75.0|             null|             80.0|             null|             null|              null|             null|             null|       null|             70.0|             null|   null|             null|    null|             null|         null|null|             78.0|             null| null|  null|             null|             73.6|             77.0|             null|   null|null|     null|  null|             null|  null|             null|    null|     null|             null|             81.0|              null|     null|             null|             null|  null|             75.8|             null|             null|           66.625|  null|      null| null|     58.0|70.66666666666667|             73.0|  null|  null|   null|   null| null|         null|     68.0|      null|             null|             null| null|      null|     null|             75.0|   null|             null|      null|             null|      null|   68.0|             null|         null|             null|     null| null|             null|             null|             74.0|null|     null|             null|             null|75.0|       null|             88.0|             null|       null| null|               null|             null|             78.0|  null|                 null|              null|             71.0|             null|             null|        null|             null|             null|             null|       null|            79.25|          null|    null| null|    null|            70.25|             null| null|    null|    null|             null|             null|   null|             75.0|  null|             null|                null|             71.0|             null|      null|             null|             null|  null|             71.0|\n",
            "|      RM|       null|             64.0|            74.75|   null|             68.0|             null| 73.2741935483871|   83.0|70.53846153846153|70.30434782608695|      null|    null|   null|74.26666666666667|  null|             68.0|   null|   72.0|              76.0|    null|75.30434782608695|    71.5|             77.5|   null|             70.5|             74.5|      null|                null|null| 72.18181818181819|          65.03125|70.65384615384616|   null|             null|             75.5|76.66666666666667|null|   70.0|             null|             77.0|             72.5|69.18181818181819|              null|             76.0|             82.0|       65.0|69.94782608695652|             null|   null|             63.0|    null|             64.5|         65.5|null|             73.8|74.77551020408163| 68.0|  76.0|             76.0|70.85227272727273|             71.6|76.42857142857143|   null|null|     null|  73.0|             null|  null|             70.0|    78.5|     null|             71.0|             77.5|              67.0|     null|74.33333333333333|             null|  null|73.37037037037037|             81.5|             66.0| 66.8108108108108|  null|      null| null|     null|          68.4375|             70.5|  null|  null|   null|   null| null|         66.0|     71.0|      null|             null|             73.0| null|      null|     null|            72.28|   null|             74.5|      null|             74.8|      null|   null|71.78947368421052|         null|             76.0|     null| 66.0|             77.0|69.85714285714286|           69.125|null|     66.0|             70.5|76.33333333333333|73.0|       null|         68.28125|            76.36|       null| null|               66.7|72.16666666666667|             70.5|  null|                 null| 66.33333333333333|72.42105263157895|             80.2|             69.6|        null|             75.0|             70.6|             66.0|       null|74.86585365853658|          null|    null| 66.0|    null|             70.0|71.41666666666667| 72.0|    null|    68.0|76.66666666666667|             null|   70.0|73.57142857142857|  68.0|             77.5|                null|            72.75|69.57142857142857|      null|73.14285714285714|71.11111111111111|  null|             null|\n",
            "|     LAM|       null|             null|             null|   null|             null|             null|             null|   null|             null|             null|      null|    null|   null|             null|  null|             null|   null|   null|              null|    null|71.46153846153847|    null|             null|   null|             null|             null|      null|                null|null|              null|              null|             81.0|   null|             null|             null|             null|null|   null|             null|             null|             null|             null|              null|             null|             null|       null|             null|             null|   null|             null|    null|             null|         null|null|             null|             null| null|  null|             null|             70.0|             null|             null|   null|null|     null|  null|             null|  null|             null|    null|     null|             null|             null|              null|     null|             null|             null|  null|             null|             null|             null|             69.0|  null|      null| null|     null|             null|             null|  null|  null|   null|   null| null|         null|     null|      null|             null|             null| null|      null|     null|             null|   null|             null|      null|             null|      null|   null|             null|         null|             null|     null| null|             null|             null|             null|null|     null|             null|             null|null|       null|             null|             null|       null| null|               null|             null|             null|  null|                 null|              null|             null|             null|             81.0|        null|             null|             null|             null|       null|             null|          null|    null| null|    null|             null|             null| null|    null|    null|             null|             null|   null|             null|  null|             null|                null|             null|             68.0|      null|             null|             null|  75.0|             null|\n",
            "|     LDM|       null|72.66666666666667|             73.0|   null|             null|             null|           73.375|   null|             70.5|             75.5|      null|    null|   null|             75.5|  null|             71.0|   null|   null|             72.25|    null|            74.16|    57.0|             null|   65.0|             null|             null|      71.0|                71.0|null|             71.25|              60.0|70.81818181818181|   null|             null|             77.0|             84.0|null|   null|             null|             74.0|             null|             69.5|              null|             null|             67.0|       null|70.15384615384616|             null|   null|             null|    null|             83.0|         null|null|             null|74.76470588235294| null|  null|             71.0|71.52173913043478|             76.0|             75.0|   null|null|     null|  82.0|             null|  null|             null|    68.0|     null|             null|             null|              null|     null|             null|             null|  73.0|             70.0|            76.75|             null|             70.0|  null|      null| null|     null|             68.0|             null|  70.0|  null|   null|   null| null|         null|     null|      78.0|             null|             75.0| null|      null|     null|             71.6|   null|             null|      null|             null|      null|   null|78.66666666666667|         null|             null|     null| null|             79.5|             null|             71.0|null|     null|             70.0|             71.0|73.0|       null|67.88888888888889|74.42857142857143|       null| null|               65.6|             73.0|             86.0|  null|                 null| 68.85714285714286|             69.5|             null|             70.0|        null|             76.0|             68.0|             67.0|       null|70.41666666666667|          null|    null| null|    null|             66.0|             81.5| null|    null|    null|             null|             null|   null|            72.75|  null|             77.0|                null|73.33333333333333|             null|      null|             null|             86.0|  null|             null|\n",
            "|      ST|       null|            72.25|            73.75|   null|75.66666666666667|             63.0|           72.928|   70.0|            67.44|68.62962962962963|      67.0|    null|   70.0|75.33333333333333|  null|67.66666666666667|   70.0|   71.0| 72.85714285714286|    null|71.56756756756756|    70.5|67.33333333333333|   null|73.86666666666666|72.28571428571429|      75.0|                null|78.0| 70.10416666666667|          63.46875|70.89189189189189|   null|            71.25|            68.25|72.26666666666667|null|   69.5|             65.0|70.88888888888889| 71.9090909090909|69.91304347826087|              85.0|             75.0|             72.0|       null| 69.5575221238938|             null|   65.0|             null|    null|             74.0|         null|null|70.83333333333333|72.45283018867924| 72.0|  79.5|69.66666666666667|           71.125| 75.0909090909091|73.35714285714286|   null|null|     null|  70.5|73.33333333333333|  null|69.66666666666667|    75.0|     null|            72.25|             70.0|              58.5|     null|             75.0|             null|  70.0|            72.75|73.44444444444444|             67.0|67.27272727272727|  null|      null| 74.0|     77.0|68.36111111111111|           69.125|  null|  78.0|   null|   73.0| null|         null|     77.0|      null|             67.0|70.33333333333333| null|      null|     null|72.31428571428572|   79.0|74.66666666666667|      null|71.72727272727273|      null|   null| 73.6829268292683|         null|             70.0|     null| 71.0|73.02941176470588|69.76923076923077| 68.2439024390244|null|     null|68.66666666666667|71.04347826086956|74.0|       null|           69.425|74.66666666666667|       null| null|  66.18604651162791|             73.0|             75.6|  null|                 72.0|              67.1|70.19444444444444|72.27272727272727|73.14285714285714|       72.25|            72.75|70.28571428571429|71.66666666666667|       63.0|73.95412844036697|          62.0|    null| 72.0|    null|69.40816326530613|74.58333333333333| 80.0|    75.0|    null|             73.5|             null|   69.2|72.04166666666667|  null|73.58333333333333|                null|71.08108108108108|            74.55|      null|72.16666666666667|69.93333333333334| 74.25|70.66666666666667|\n",
            "+--------+-----------+-----------------+-----------------+-------+-----------------+-----------------+-----------------+-------+-----------------+-----------------+----------+--------+-------+-----------------+------+-----------------+-------+-------+------------------+--------+-----------------+--------+-----------------+-------+-----------------+-----------------+----------+--------------------+----+------------------+------------------+-----------------+-------+-----------------+-----------------+-----------------+----+-------+-----------------+-----------------+-----------------+-----------------+------------------+-----------------+-----------------+-----------+-----------------+-----------------+-------+-----------------+--------+-----------------+-------------+----+-----------------+-----------------+-----+------+-----------------+-----------------+-----------------+-----------------+-------+----+---------+------+-----------------+------+-----------------+--------+---------+-----------------+-----------------+------------------+---------+-----------------+-----------------+------+-----------------+-----------------+-----------------+-----------------+------+----------+-----+---------+-----------------+-----------------+------+------+-------+-------+-----+-------------+---------+----------+-----------------+-----------------+-----+----------+---------+-----------------+-------+-----------------+----------+-----------------+----------+-------+-----------------+-------------+-----------------+---------+-----+-----------------+-----------------+-----------------+----+---------+-----------------+-----------------+----+-----------+-----------------+-----------------+-----------+-----+-------------------+-----------------+-----------------+------+---------------------+------------------+-----------------+-----------------+-----------------+------------+-----------------+-----------------+-----------------+-----------+-----------------+--------------+--------+-----+--------+-----------------+-----------------+-----+--------+--------+-----------------+-----------------+-------+-----------------+------+-----------------+--------------------+-----------------+-----------------+----------+-----------------+-----------------+------+-----------------+\n",
            "\n"
          ],
          "name": "stdout"
        }
      ]
    },
    {
      "cell_type": "markdown",
      "metadata": {
        "id": "yHro20QAQala"
      },
      "source": [
        "Further, viewing the highest average potential for each position."
      ]
    },
    {
      "cell_type": "code",
      "metadata": {
        "id": "Cyf4PhkDTRaD"
      },
      "source": [
        "# renaming the name of a country to avoid syntax error in the next stage\n",
        "pivot_df = pivot_df.withColumnRenamed('Central African Rep.', 'Central African Republic')"
      ],
      "execution_count": 14,
      "outputs": []
    },
    {
      "cell_type": "code",
      "metadata": {
        "colab": {
          "base_uri": "https://localhost:8080/"
        },
        "id": "OLRy9c9Z1Ojd",
        "outputId": "e8e8551a-6d4b-410e-e0d9-581131b37508"
      },
      "source": [
        "# removing the null position from the dataframe\n",
        "pivot_df = pivot_df.filter((pivot_df.Position != 'NA'))\n",
        "pivot_df.show(pivot_df.count())"
      ],
      "execution_count": 15,
      "outputs": [
        {
          "output_type": "stream",
          "text": [
            "+--------+-----------+-----------------+-----------------+-------+-----------------+-----------------+-----------------+-------+-----------------+-----------------+----------+--------+-------+-----------------+------+-----------------+-------+-------+------------------+--------+-----------------+--------+-----------------+-------+-----------------+-----------------+----------+------------------------+----+-----------------+------------------+-----------------+-------+-----------------+-----------------+-----------------+----+-------+-----------------+-----------------+-----------------+-----------------+------------------+-----------------+-----------------+-----------+-----------------+-----------------+-------+-----------------+--------+-----------------+-------------+----+-----------------+-----------------+-----+------+-----------------+-----------------+-----------------+-----------------+-------+----+---------+------+-----------------+------+-----------------+--------+---------+-----------------+-----------------+-----------------+---------+-----------------+-----------------+------+-----------------+-----------------+-----------------+-----------------+------+----------+-----+---------+-----------------+-----------------+------+------+-------+-------+-----+-------------+---------+----------+-----------------+-----------------+-----+----------+---------+-----------------+-------+-----------------+----------+-----------------+----------+-------+-----------------+-------------+-----------------+---------+-----+-----------------+-----------------+-----------------+----+---------+-----------------+-----------------+----+-----------+-----------------+-----------------+-----------+-----+-------------------+-----------------+-----------------+------+---------------------+------------------+-----------------+-----------------+-----------------+------------+-----------------+-----------------+-----------------+-----------+-----------------+--------------+--------+-----+--------+-----------------+-----------------+-----+--------+--------+-----------------+-----------------+-------+-----------------+------+-----------------+--------------------+-----------------+-----------------+----------+-----------------+-----------------+------+-----------------+\n",
            "|Position|Afghanistan|          Albania|          Algeria|Andorra|           Angola|Antigua & Barbuda|        Argentina|Armenia|        Australia|          Austria|Azerbaijan|Barbados|Belarus|          Belgium|Belize|            Benin|Bermuda|Bolivia|Bosnia Herzegovina|Botswana|           Brazil|Bulgaria|     Burkina Faso|Burundi|         Cameroon|           Canada|Cape Verde|Central African Republic|Chad|            Chile|          China PR|         Colombia|Comoros|            Congo|       Costa Rica|          Croatia|Cuba|Curacao|           Cyprus|   Czech Republic|         DR Congo|          Denmark|Dominican Republic|          Ecuador|            Egypt|El Salvador|          England|Equatorial Guinea|Eritrea|          Estonia|Ethiopia|    FYR Macedonia|Faroe Islands|Fiji|          Finland|           France|Gabon|Gambia|          Georgia|          Germany|            Ghana|           Greece|Grenada|Guam|Guatemala|Guinea|    Guinea Bissau|Guyana|            Haiti|Honduras|Hong Kong|          Hungary|          Iceland|            India|Indonesia|             Iran|             Iraq|Israel|            Italy|      Ivory Coast|          Jamaica|            Japan|Jordan|Kazakhstan|Kenya|Korea DPR|   Korea Republic|           Kosovo|Kuwait|Latvia|Lebanon|Liberia|Libya|Liechtenstein|Lithuania|Luxembourg|       Madagascar|             Mali|Malta|Mauritania|Mauritius|           Mexico|Moldova|       Montenegro|Montserrat|          Morocco|Mozambique|Namibia|      Netherlands|New Caledonia|      New Zealand|Nicaragua|Niger|          Nigeria| Northern Ireland|           Norway|Oman|Palestine|           Panama|         Paraguay|Peru|Philippines|           Poland|         Portugal|Puerto Rico|Qatar|Republic of Ireland|          Romania|           Russia|Rwanda|S?o Tom�� & Pr��ncipe|      Saudi Arabia|         Scotland|          Senegal|           Serbia|Sierra Leone|         Slovakia|         Slovenia|     South Africa|South Sudan|            Spain|St Kitts Nevis|St Lucia|Sudan|Suriname|           Sweden|      Switzerland|Syria|Tanzania|Thailand|             Togo|Trinidad & Tobago|Tunisia|           Turkey|Uganda|          Ukraine|United Arab Emirates|    United States|          Uruguay|Uzbekistan|        Venezuela|            Wales|Zambia|         Zimbabwe|\n",
            "+--------+-----------+-----------------+-----------------+-------+-----------------+-----------------+-----------------+-------+-----------------+-----------------+----------+--------+-------+-----------------+------+-----------------+-------+-------+------------------+--------+-----------------+--------+-----------------+-------+-----------------+-----------------+----------+------------------------+----+-----------------+------------------+-----------------+-------+-----------------+-----------------+-----------------+----+-------+-----------------+-----------------+-----------------+-----------------+------------------+-----------------+-----------------+-----------+-----------------+-----------------+-------+-----------------+--------+-----------------+-------------+----+-----------------+-----------------+-----+------+-----------------+-----------------+-----------------+-----------------+-------+----+---------+------+-----------------+------+-----------------+--------+---------+-----------------+-----------------+-----------------+---------+-----------------+-----------------+------+-----------------+-----------------+-----------------+-----------------+------+----------+-----+---------+-----------------+-----------------+------+------+-------+-------+-----+-------------+---------+----------+-----------------+-----------------+-----+----------+---------+-----------------+-------+-----------------+----------+-----------------+----------+-------+-----------------+-------------+-----------------+---------+-----+-----------------+-----------------+-----------------+----+---------+-----------------+-----------------+----+-----------+-----------------+-----------------+-----------+-----+-------------------+-----------------+-----------------+------+---------------------+------------------+-----------------+-----------------+-----------------+------------+-----------------+-----------------+-----------------+-----------+-----------------+--------------+--------+-----+--------+-----------------+-----------------+-----+--------+--------+-----------------+-----------------+-------+-----------------+------+-----------------+--------------------+-----------------+-----------------+----------+-----------------+-----------------+------+-----------------+\n",
            "|      RF|       null|             null|             null|   null|             null|             null|             87.0|   null|             null|             66.0|      null|    null|   null|             82.0|  null|             null|   null|   null|              null|    null|             null|    null|             null|   null|             null|             null|      null|                    null|null|             null|              72.0|             null|   null|             null|             null|             null|null|   null|             null|             null|             null|             null|              null|             null|             null|       null|             null|             null|   null|             null|    null|             null|         null|null|             69.0|             null| null|  null|             null|             78.0|             null|             null|   null|null|     null|  null|             null|  null|             null|    null|     null|             null|             null|             null|     null|             null|             null|  null|             75.0|             null|             null|68.33333333333333|  null|      null| null|     null|             null|             null|  null|  null|   null|   null| null|         null|     null|      null|             null|             null| null|      null|     null|             null|   null|             null|      null|             null|      null|   null|             null|         null|             null|     null| null|             null|             null|             null|null|     null|             null|             null|null|       null|             null|             null|       null| null|               null|             null|             null|  null|                 null|              null|             null|             null|             null|        null|             null|             null|             null|       null|             81.0|          null|    null| null|    null|             75.0|             null| 73.0|    null|    null|             null|             null|   null|             null|  null|             null|                null|             null|             75.0|      null|             null|             null|  null|             null|\n",
            "|     LWB|       null|             null|             null|   null|             null|             null|            75.75|   null|             71.0|             69.0|      null|    null|   null|             null|  null|             null|   null|   null|              null|    null|             null|    null|             null|   null|             75.0|             null|      null|                    null|null|             null|              60.5|             75.5|   69.0|             null|             null|             null|null|   null|             null|             null|             null|            72.75|              null|             null|             null|       null|             69.8|             null|   null|             null|    null|             null|         64.0|null|             62.0|            74.25| null|  null|             null|76.14285714285714|             71.0|             null|   null|null|     null|  null|             null|  null|             null|    null|     null|             null|             70.0|             null|     null|             null|             null|  null|             67.0|             null|             null|             66.0|  null|      null| null|     null|             null|             null|  null|  null|   null|   null| null|         null|     null|      null|             null|             null| null|      null|     null|             null|   null|             null|      null|             null|      null|   null|             72.0|         null|             73.0|     null| null|             72.0|             67.0|             77.0|null|     null|             null|             null|68.0|       null|             null|             82.0|       null| null|               70.0|             null|             76.0|  null|                 null|              67.0|             66.0|             null|             null|        null|             null|             null|             null|       null|            77.25|          null|    null| null|    null|66.77777777777777|             68.0| null|    null|    null|             null|             null|   null|             null|  null|             null|                null|             null|             null|      null|             null|             64.0|  null|             null|\n",
            "|     LCM|       null|             71.0|             76.0|   null|             null|             null|            74.52|   null|             70.0|72.44444444444444|      null|    null|   75.0|78.14285714285714|  null|             null|   null|   68.0|             75.75|    null|             76.5|    null|             null|   null|             69.0|             73.0|      null|                    null|null|             71.8|              68.0|            71.25|   null|             69.0|             null|85.33333333333333|null|   69.0|             null|72.33333333333333|             null|72.45454545454545|              null|             74.0|             null|       null|70.75757575757575|             80.0|   null|             null|    null|             83.0|         68.0|null|67.33333333333333|75.29411764705883| 78.5|  null|             null|73.11764705882354|             76.0|             null|   null|null|     null|  null|             null|  null|             null|    null|     null|             78.0|             72.0|             71.0|     null|             null|             74.0|  72.0|73.42105263157895|             73.6|             null|65.41666666666667|  null|      null| null|     null|67.54545454545455|             77.0|  null|  null|   null|   null| null|         null|     null|      null|             null|             null| null|      null|     null|             77.5|   null|             null|      null|             80.0|      null|   null|             73.1|         null|             66.0|     null| null|             73.0|             67.0|71.36363636363636|null|     null|             null|             75.5|null|       null|             75.2|77.44444444444444|       null| null|               64.8|             null|             75.0|  71.0|                 null|61.333333333333336|70.57142857142857|             73.2|             75.0|        null|             87.0|             83.0|             72.0|       null|75.28571428571429|          72.0|    null| null|    67.0|          70.3125|             74.5| 72.0|    null|    null|             null|             null|   70.0|             69.0|  74.0|             null|                null|             79.0|             78.0|      null|             null|             64.0|  null|             83.0|\n",
            "|      LM|       70.0|73.66666666666667|74.66666666666667|   null|             72.0|             65.0|         74.40625|   69.5|69.54545454545455|69.29411764705883|      68.0|    null|   null|75.31818181818181|  null|             null|   63.0|   70.0| 72.33333333333333|    null|74.43333333333334|    71.0|             null|   null|71.16666666666667|67.85714285714286|      80.0|                    null|null| 71.0952380952381| 63.65384615384615|71.61702127659575|   60.0|72.33333333333333|             null|             73.0|null|   71.0|             75.0|             72.2|73.28571428571429|69.26666666666667|              76.0|             72.2|             75.6|       null| 69.6701030927835|             null|   null|             null|    null|71.66666666666667|         null|null|             72.0|74.79591836734694| 82.5|  71.0|             75.5|71.09574468085107|73.57142857142857|             73.0|   null|null|     null|  67.5|             null|  null|             null|    74.0|     null|             72.0|             71.0|             66.0|     null|             79.0|72.33333333333333|  72.0|72.88888888888889|             74.2|71.66666666666667|69.02857142857142|  null|      null| 73.5|     null|67.14285714285714|             78.0|  null|  null|   null|   null| 73.0|         null|     null|      null|             null|             77.0| 63.0|      null|     null|71.52173913043478|   null|             79.0|      null|             73.0|      null|   null|73.36363636363636|         null|             null|     null| null|75.81818181818181|             71.0|71.44444444444444|null|     null|             null|             74.8|74.5|       null|             69.4|             74.5|       null| null|  68.91304347826087|71.16666666666667|72.33333333333333|  null|                 null|  66.5909090909091|          72.3125|77.33333333333333|71.55555555555556|        null|            70.75|             81.0|             72.0|       null|74.13157894736842|          null|    null| null|    null|69.16666666666667|70.81818181818181| null|    72.0|    null|             null|             74.0|   71.0|72.11538461538461|  null|             71.0|                null|72.46666666666667|73.71428571428571|      null|            74.25|             73.5|  null|             null|\n",
            "|     RDM|       null|             null|71.33333333333333|   null|             null|             null|             73.5|   null|             77.0|72.85714285714286|      null|    null|   null|             null|  null|             null|   null|   null|              null|    null|74.04545454545455|    73.0|             null|   null|             78.0|             null|      68.5|                    null|null|             69.8| 64.33333333333333|72.08333333333333|   70.0|             null|             null|             62.0|76.0|   null|             null|             83.0|             66.0|             70.0|              null|             73.5|             79.0|       70.0|71.84615384615384|             null|   null|             null|    null|             76.0|         null|null|             null|75.78947368421052| 76.0|  null|             null|70.54166666666667|             74.5|             81.5|   null|null|     null|  null|             null|  null|             null|    null|     null|             null|             64.0|             null|     null|             null|             null|  null|            74.75|             78.0|             null|            67.75|  null|      null| null|     null|             59.0|             77.0|  null|  66.0|   null|   null| null|         null|     null|      null|             77.0|             75.0| null|      null|     null|             73.8|   null|             72.0|      null|             77.0|      null|   null|73.71428571428571|         null|             71.0|     null| null|             79.0|             null|             70.5|null|     null|             null|             75.0|79.0|       null|             71.0|             69.5|       null| null|               66.6|             79.0|             79.5|  null|                 null| 68.33333333333333|             69.0|            75.75|77.66666666666667|        null|             69.0|             70.0|             70.0|       null|             74.3|          null|    null| null|    null|             64.0|70.66666666666667| null|    null|    null|             73.5|             68.0|   null|             72.8|  null|             81.0|                null|            75.25|             67.0|      null|             null|             70.4|  null|             null|\n",
            "|      LF|       null|             null|             null|   null|             null|             null|             82.0|   null|             null|             null|      null|    null|   null|             86.0|  null|             null|   null|   null|              null|    null|             74.0|    null|             null|   null|             null|             null|      null|                    null|null|             null|              null|             null|   null|             null|             77.0|             null|null|   null|             null|             null|             null|             null|              null|             null|             null|       null|             null|             null|   null|             66.0|    null|             72.0|         null|null|             null|             null| null|  null|             77.0|             71.0|             null|             null|   null|null|     null|  null|             null|  null|             null|    null|     null|             null|             null|             null|     null|             null|             null|  null|             null|             null|             null|             63.0|  null|      null| null|     null|             null|             null|  null|  null|   null|   null| null|         null|     null|      null|             null|             null| null|      null|     null|             null|   null|             null|      null|             null|      null|   null|             null|         null|             null|     null| null|             null|             null|             null|null|     null|             null|             null|null|       null|             null|             null|       null| null|               null|             null|             null|  null|                 null|              null|             null|             null|             null|        null|             null|             null|             null|       null|             84.0|          null|    null| null|    null|             null|             null| null|    null|    null|             null|             null|   null|             null|  null|             null|                null|             null|             null|      null|             null|             null|  null|             null|\n",
            "|     CAM|       66.0|            70.75|            74.25|   null|             null|             null|74.78260869565217|   null|            71.25|73.16666666666667|      null|    null|   70.0|74.08333333333333|  null|             null|   null|   70.5|              70.8|    null|71.80246913580247|    68.0|             70.5|   67.0|77.66666666666667|69.33333333333333|      null|                    null|null|74.78571428571429|62.666666666666664|             70.4|   null|             69.5|             null|78.66666666666667|null|   null|             null|73.33333333333333|             76.0|72.71428571428571|              null|             73.5|             null|       null|72.47222222222223|             75.0|   null|             61.0|    null|             75.0|         null|null|            72.25|73.41176470588235| null|  null|72.33333333333333|73.33870967741936|             70.5|77.28571428571429|   null|null|     null|  null|             null|  null|             60.0|    null|     null|             78.0|             73.5|             null|     74.0|             null|             null|  74.0|            71.96|             70.5|             69.0|68.57142857142857|  null|      65.0| null|     null| 68.3529411764706|             68.0|  null|  null|   null|   null| 73.0|         null|     null|      null|             65.0|             null| null|      null|     null|             71.2|   74.0|             null|      null|             75.4|      null|   null|72.86842105263158|         null|             70.0|     null| 63.0|             72.0|             69.0|            69.25|null|     null|             null|             77.5|76.5|       null|70.94117647058823|           77.625|       null| null|  68.94444444444444|             78.0|79.33333333333333|  null|                 null| 68.93333333333334|69.81818181818181|             null|            74.25|        null|             80.5|72.28571428571429|74.28571428571429|       null|74.49122807017544|          null|    null| null|    null|70.16666666666667|71.29411764705883| 73.0|    null|    null|             null|             72.0|   72.5|73.52631578947368|  null|             79.0|                78.0|73.07692307692308|74.27272727272727|      null|            73.25|            77.75|  74.0|             null|\n",
            "|     RAM|       null|             null|             null|   null|             null|             null|             null|   null|             null|             null|      null|    null|   null|             null|  null|             null|   null|   null|              null|    null|72.42857142857143|    null|             null|   null|             null|             null|      null|                    null|null|             null|              null|             76.5|   null|             null|             null|             null|null|   null|             null|             null|             null|             null|              null|             null|             null|       null|             null|             null|   null|             null|    null|             null|         null|null|             null|             null| null|  null|             null|             72.0|             null|             null|   null|null|     null|  null|             null|  null|             null|    null|     null|             null|             null|             null|     null|             null|             null|  null|             null|             null|             null|             67.0|  null|      null| null|     null|             null|             null|  null|  null|   null|   null| null|         null|     null|      null|             null|             null| null|      null|     null|             null|   null|             null|      null|             86.0|      null|   null|             null|         null|             null|     null| null|             null|             null|             null|null|     null|             null|             null|null|       null|             null|             null|       null| null|               null|             null|             null|  null|                 null|              null|             null|             null|             null|        null|             null|             null|             null|       null|             null|          null|    null| null|    null|             null|             null| null|    null|    null|             null|             null|   null|             null|  null|             null|                null|             null|             null|      null|             71.0|             null|  null|             null|\n",
            "|      LB|       64.0|             66.0|            73.75|   null|             75.0|             null|72.22033898305085|   null|68.28571428571429|69.47058823529412|      null|    null|   null|71.36363636363636|  null|             69.0|   null|   70.0| 71.33333333333333|    null|73.82089552238806|    68.0|             73.0|   null|             72.0|             69.2|      null|                    null|null|69.26829268292683| 63.63333333333333|68.90566037735849|   null|             69.0|             72.0|74.55555555555556|64.0|   74.0|             null|72.66666666666667|72.66666666666667|            68.72|              null|75.33333333333333|69.33333333333333|       null|70.08064516129032|             75.0|   null|             66.0|    null|             null|         null|null|            68.25|72.58974358974359| 64.5|  null|             null| 71.0506329113924|73.71428571428571|             74.2|   null|null|     68.0|  71.5|             67.0|  null|             null|    70.0|     null|             71.0|71.66666666666667|             65.0|     null|             73.0|             75.0|  69.5|71.74545454545455|             72.6|             70.5|67.53846153846153|  null|      66.0| 66.0|     null|67.77272727272727|             75.0|  null|  null|   null|   null| null|         null|     66.0|      null|             67.0|71.33333333333333| null|      72.0|     null|71.55555555555556|   null|             62.0|      null|             75.0|      70.0|   null|         71.96875|         null|             63.0|     null| null|             70.0|             67.2|68.17391304347827|null|     null|             null|             73.2|71.0|       68.0|67.13636363636364|73.11764705882354|       null| null|  65.51851851851852|70.66666666666667|             75.0|  null|                 null|              65.0|70.61904761904762|           70.625|             70.0|        null|67.33333333333333|             73.0|           67.875|       null|74.27160493827161|          null|    null| null|    null|67.58333333333333|             69.0| 64.0|    null|    62.0|             null|             null|   70.0|70.34482758620689|  64.0|             76.4|                null|69.11111111111111|             75.4|      null|             72.0|71.83333333333333|  null|             68.0|\n",
            "|      LW|       null|             64.0|73.66666666666667|   null|             70.5|             null|75.18518518518519|   null|66.44444444444444|72.33333333333333|      null|    null|   null|           73.625|  null|             null|   null|   null| 69.66666666666667|    null|             77.2|    66.0|             84.0|   76.0|            68.25|             null|      null|                    null|78.0|69.84615384615384| 65.42857142857143|            71.25|   null|             75.0|             65.0|79.66666666666667|76.0|   67.5|             null|             75.0|             74.0|             74.5|              null|             74.0|             71.0|       74.0|73.94444444444444|             null|   null|             null|    null|             null|         66.0|null|             null|          72.8125| null|  68.5|             71.0|76.41666666666667|             72.0|             77.0|   null|null|     null|  80.0|             73.0|  null|             null|    null|     null|             80.0|             72.0|             66.0|     null|             68.0|             null|  null|         73.65625|             75.0|             68.0|             72.0|  null|      null| null|     null|69.14285714285714|73.33333333333333|  null|  null|   null|   null| 72.0|         null|     null|      null|             null|             73.5| null|      null|     null|             75.0|   null|             null|      null|69.66666666666667|      null|   null|             76.4|         null|             66.5|     null| null|79.66666666666667|             null|69.78571428571429|null|     null|             null|             71.5|76.0|       null|             null|             76.6|       null| null|  72.33333333333333|             80.0|             null|  null|                 null|              66.0|             76.0|             75.0|             76.5|        null|             null|             80.0|             69.6|       null|76.53846153846153|          null|    null| null|    72.0|69.28571428571429|             71.0| null|    null|    70.0|             70.0|             null|   null|75.33333333333333|  70.0|             79.0|                null|73.83333333333333|             75.0|      null|             69.0|             79.0|  null|             73.0|\n",
            "|     RCM|       null|             75.0|             76.0|   null|             null|             null|72.94444444444444|   null|             72.5|             69.6|      null|    null|   null|76.28571428571429|  null|             68.0|   null|   67.0|              73.5|    null|             75.8|    null|             null|   null|             73.5|             68.0|      null|                    null|null|             71.4|63.857142857142854|73.54545454545455|   null|             null|             null|             81.0|null|   null|             null|             null|             null|71.44444444444444|              null|             76.0|             71.0|       null|70.29729729729729|             78.0|   null|             null|    null|             null|         null|null|             75.0|72.61538461538461| 75.0|  null|             null|76.77777777777777|            69.75|             null|   null|null|     null|  null|             null|  null|             null|    72.0|     null|             76.0|69.66666666666667|             67.0|     null|             null|             null|  null|           72.875|80.33333333333333|             null|66.61538461538461|  null|      70.0| null|     null|69.81818181818181|             null|  null|  null|   null|   null| null|         null|     null|      null|             null|             84.0| null|      null|     null|75.83333333333333|   null|             null|      null|             75.0|      null|   null|             73.5|         null|             73.0|     null| null|             79.2|             68.0|71.81818181818181|null|     null|             71.0|             71.0|null|       null|             73.5|75.57142857142857|       null| null|  65.84615384615384|             null|             null|  null|                 null|              64.0|             70.6|             70.5|             73.5|        null|             null|             null|             69.0|       null|            76.75|          null|    null| null|    null|70.46153846153847|            74.75| null|    null|    null|             null|             null|   81.0|             70.5|  70.0|             81.0|                null|73.83333333333333|76.14285714285714|      null|             null|             64.0|  null|             74.0|\n",
            "|      GK|       null|             77.5|             67.6|   null|             null|             null|71.76288659793815|   null|             67.0| 68.1590909090909|      null|    null|   69.0|            72.25|  null|             70.5|   null|   69.0|              70.4|    null|72.66176470588235|    65.2|             77.0|   null|             75.2|66.11111111111111|      null|                    null|null|69.30952380952381|  62.9811320754717|69.21153846153847|   null|             61.0|             77.0| 72.6923076923077|75.0|   71.5|             null|             71.5|             65.0|68.91428571428571|              null|72.33333333333333|68.66666666666667|       null| 68.2183908045977|             68.0|   null|             72.5|    null|             72.0|         null|null|           70.875|72.01980198019803| 65.0|  73.0|             70.0|70.90243902439025|             67.0| 74.3529411764706|   null|null|     68.0|  65.0|             null|  null|             null|    70.0|     null|             73.2|71.33333333333333|64.66666666666667|     null|68.33333333333333|             null|  67.0| 71.3695652173913|            68.25|             78.0|63.18032786885246|  null|      null| null|     null|            67.95|             72.0|  null|  68.0|   null|   null| null|         null|     74.0|      null|             null|             66.0| null|      null|     null| 70.1086956521739|   72.0|             71.0|      null|             67.4|      null|   68.0|71.19642857142857|         null|             67.0|     null| null|             82.0|68.42857142857143|68.51612903225806|72.0|     null|             null|73.66666666666667|71.0|       75.0|67.77966101694915|         75.53125|       null| null|   65.8974358974359|             75.6|74.92857142857143|  null|                 null| 64.38297872340425| 66.9047619047619|           72.125|71.77777777777777|        null|69.42857142857143|             79.0|69.57142857142857|       null|73.88793103448276|          null|    null| null|    null|68.32608695652173|70.84848484848484| null|    null|    null|             null|             53.0|   73.0|69.87234042553192|  null|             73.1|                null|67.84722222222223|             72.5|      null|            75.25|67.71428571428571|  null|             null|\n",
            "|      RB|       null|             75.0|             63.0|   null|             null|             71.5|            71.98|   72.0|66.21428571428571| 69.0909090909091|      62.0|    null|   null|             72.0|  null|             null|   null|   70.0|              71.0|    null|72.57142857142857|    69.0|             77.0|   null|71.66666666666667|             70.0|      67.0|                    null|null|69.13793103448276|62.476190476190474|             71.0|   70.0|             null|             68.5|            76.75|null|   71.0|             67.0|             72.5|             78.0|             69.6|              null|             68.5|             71.0|       null|70.25210084033614|             null|   null|             66.0|    64.0|             71.0|         null|null|             64.5|72.72972972972973| 71.0|  65.0|             76.0|70.62650602409639|            71.75|71.83333333333333|   null|67.0|     null|  null|             72.0|  null|             70.0|    69.0|     null|             70.5|             66.0|             66.0|     null|             72.0|             null|  null|72.57894736842105|             75.5|67.66666666666667|66.93548387096774|  null|      65.0| null|     null|66.05555555555556|             69.0|  null|  null|   null|   null| null|         66.0|     null|      72.0|             72.0|             75.5| null|      66.0|     null|69.39473684210526|   null|             69.0|      null|             72.0|      null|   78.0|73.35135135135135|         null|66.66666666666667|     null| null|             73.0|             68.8|69.78260869565217|null|     null|             80.0|             72.5|73.0|       null|68.03225806451613|74.92857142857143|       null| null|  64.79166666666667|             74.0|76.14285714285714|  null|                 null| 66.67567567567568|68.73684210526316|           72.625|72.44444444444444|        70.0|             75.0|             69.5|             68.5|       null|74.37931034482759|          56.0|    68.0| null|    69.5|69.61111111111111|70.73913043478261| null|    null|    null|             null|             null|   69.5|            71.75|  64.0|            74.25|                null|69.65789473684211|72.11111111111111|      null|71.83333333333333| 68.3076923076923|  null|             72.0|\n",
            "|      RS|       null|             71.0|             null|   null|             66.0|             null|             73.8|   null|             66.5|70.66666666666667|      66.0|    null|   null|             77.0|  null|             76.5|   null|   73.0|              null|    null|             74.0|    null|             null|   null|             81.0|             77.0|      null|                    null|null|             76.0|              67.0|77.42857142857143|   null|             null|             null|             71.0|null|   null|             null|             73.0|             70.0|             67.5|              null|             73.0|             null|       null|67.10714285714286|             null|   null|             null|    null|             null|         null|71.0|             null|            77.75| null|  null|             null|             71.0|             75.0|             null|   null|null|     null|  null|             null|  null|             null|    null|     null|             null|             null|             64.0|     null|             null|             null|  80.0|75.23529411764706|            75.25|             62.0|             73.0|  null|      null| null|     null|65.66666666666667|             null|  null|  null|   null|   null| null|         null|     null|      null|             null|             80.0| null|      null|     null|75.66666666666667|   null|             null|      67.0|             70.0|      null|   null|             71.0|         null|             70.0|     null| null|             73.0|             68.0|             73.0|null|     null|             70.0|             null|null|       null|71.33333333333333|             77.0|       null| null|               71.5|             null|             75.5|  null|                 null| 67.33333333333333|            71.75|             68.5|             73.5|        null|             null|             null|             null|       null|77.27272727272727|          null|    null| null|    null|73.33333333333333|             null| null|    null|    null|             null|             null|   null|             69.5|  null|             null|                null|             76.0|            74.75|      null|             74.5|             67.0|  null|             75.0|\n",
            "|     LCB|       null|             null|             69.0|   null|             72.0|             null|73.91428571428571|   null|             67.6|71.58333333333333|      null|    null|   null|             75.0|  null|             null|   null|   72.0|              68.5|    null|74.48936170212765|    69.0|             76.0|   null|             72.8|             66.0|      72.5|                    null|null|73.15384615384616| 66.72727272727273| 72.8076923076923|   null|             69.0|             71.5|77.66666666666667|null|   null|             78.0|             75.0|             69.0|70.84615384615384|              null|72.66666666666667|             72.5|       null|70.92592592592592|             null|   null|             69.0|    null|             null|         null|null|             67.5|76.02702702702703| null|  81.0|             73.0|72.82051282051282|             76.5|             75.0|   68.0|null|     null|  73.0|             null|  null|             null|    null|     null|             75.0|             73.0|             62.0|     null|             67.0|             null|  null|72.88888888888889|             75.0|             74.0|67.85714285714286|  null|      null| null|     null|             66.6|             null|  null|  null|   66.0|   null| null|         null|     null|      null|             null|             null| null|      null|     null|             72.4|   74.0|             69.0|      null|            68.25|      75.0|   null|            75.05|         71.0|             67.0|     66.0| null|             null|             65.0|70.06666666666666|null|     null|             68.0|71.66666666666667|74.5|       null|             68.0|73.71428571428571|       null| null|  68.66666666666667|             74.5|             73.0|  null|                 null|              67.6|72.27272727272727|             75.6|72.88888888888889|        null|79.33333333333333|             74.5|             69.0|       null|74.70967741935483|          null|    null| null|    null|          67.5625|72.16666666666667| null|    null|    null|             null|             null|   76.5|73.83333333333333|  null|             78.0|                null|73.07142857142857|             73.5|      null|             78.0|            72.75|  null|             null|\n",
            "|      CM|       71.0|            71.75|77.66666666666667|   null|             null|             null|73.08695652173913|   null|67.71428571428571|68.70588235294117|      null|    null|   null|74.21428571428571|  null|             null|   null|   72.5|              68.8|    68.0|             76.0|    66.5|             77.0|   null|             72.5|             68.5|      74.5|                    85.0|null|70.17647058823529|62.432432432432435|69.77777777777777|   73.0|             null|70.33333333333333|72.63636363636364|null|   null|             null|74.36363636363636|             70.0|69.21212121212122|              null|             71.0|             73.0|       64.0|69.79591836734694|             null|   null|             null|    null|             66.0|         null|null|70.66666666666667|73.91379310344827| null|  null|             null|74.03333333333333|74.26666666666667|             73.0|   null|null|     null|  82.0|             68.0|  63.0|             69.0|    null|     71.0|             72.5|             72.5|             61.0|     null|             79.0|             64.0|  76.5|72.11111111111111|             74.0|             66.5|65.92105263157895|  null|      null| null|     null| 65.5952380952381|             74.0|  null|  null|   null|   null| null|         71.0|     68.0|      76.0|             64.0|             76.0| null|      null|     null|70.36842105263158|   67.0|             75.5|      68.0|           75.125|      null|   null|72.57142857142857|         null|             68.0|     null| null|65.16666666666667|             72.0|68.91304347826087|null|     null|             null|70.66666666666667|71.5|       null|67.84615384615384|75.44444444444444|       null| null|             67.375|             72.2|             75.0|  null|                 null| 68.61904761904762| 71.3030303030303|             71.1|77.88888888888889|        null|74.16666666666667|             71.0|72.83333333333333|       null|          74.7875|          null|    null| null|    null|68.51282051282051|           72.625| 64.0|    null|    63.0|             null|             null|   69.0|71.44444444444444|  null|74.71428571428571|                null|70.52631578947368|71.33333333333333|      67.5|             72.6|             67.9|  76.0|             null|\n",
            "|      RW|       null|             72.5|             76.6|   null|             null|             null|73.20689655172414|   70.5|             68.6|             71.0|      null|    null|   null|78.16666666666667|  61.0|             null|   null|   null|              75.0|    null|76.42857142857143|    null|             null|   null|             null|             64.0|      null|                    null|null|70.82352941176471| 63.44444444444444|            74.75|   null|             67.0|             67.0|             null|null|   null|             null|             75.0|             77.5|             76.2|              null|             72.0|             null|       null|74.73684210526316|             null|   null|             null|    null|             null|         null|null|             65.5|             74.7| null|  null|             81.0|             73.0|           72.375|             70.0|   null|null|     null|  null|             74.5|  null|             78.0|    null|     null|70.66666666666667|             74.5|             null|     null|             null|             null|  null| 76.3157894736842|             75.8|             null|             65.0|  null|      null| 66.0|     66.0|             70.0|             83.0|  null|  null|   null|   null| 76.0|         null|     null|      null|             67.0|             null| null|      null|     null|            73.75|   null|             70.0|      null|             null|      76.0|   null|74.57142857142857|         null|             62.0|     null| null|             75.2|             null|             70.4|null|     null|             null|             79.0|76.0|       null|             null|76.53846153846153|       null| null|               null|             78.0|             76.0|  null|                 null|              null|             70.0|             69.0|             83.0|        null|             75.0|             71.0|74.66666666666667|       null|             80.4|          null|    null| null|    null|66.07692307692308|75.66666666666667| null|    null|    null|             65.0|             null|   80.0|             71.0|  null|             null|                null|             72.5|            71.75|      null|            76.25|             76.5|  68.0|             null|\n",
            "|     RCB|       null|             68.0|             74.5|   null|             65.0|             null|73.05405405405405|   null|             69.5| 70.0909090909091|      null|    null|   null|             75.5|  null|             73.0|   null|   66.0|              69.0|    null| 75.2051282051282|    69.0|             70.0|   null|70.66666666666667|             71.0|      75.0|                    null|null|            70.25|              67.0|            72.75|   null|             66.0|             75.5|71.55555555555556|null|   null|             null|            69.75|             76.0|             72.0|              null|             null|             67.0|       null|71.44642857142857|             null|   null|             null|    null|             null|         null|null|             72.0|75.72413793103448| null|  null|             75.0|72.72916666666667|             72.0|             78.0|   null|null|     null|  65.5|             null|  null|             null|    null|     null|             81.0|             70.0|             71.0|     null|             73.0|             null|  null|74.08333333333333|             74.0|             71.0|69.93333333333334|  null|      null| null|     null|             68.5|             null|  null|  64.0|   null|   null| null|         null|     null|      73.0|             null|             65.0| null|      null|     null|             73.7|   null|             null|      69.0|             71.5|      74.0|   null|73.61111111111111|         null|             67.0|     null| null|            70.25|             71.0|          69.1875|null|     null|             null|76.14285714285714|71.0|       null|70.81818181818181|             75.0|       null| null|   65.3076923076923|             71.5|             80.0|  null|                 null|              67.5|             67.5|            75.25|             74.8|        null|75.33333333333333|             69.0|             67.0|       null|74.52777777777777|          null|    null| null|    null|70.13333333333334|74.11111111111111| null|    null|    null|             79.0|             null|   null|74.22222222222223|  null|             73.0|                null|72.54545454545455|75.71428571428571|      null|             76.0|69.85714285714286|  74.0|             null|\n",
            "|     CDM|       null|             69.5|            70.25|   null|             null|             null|72.76363636363637|   null|          66.8125|69.63157894736842|      71.0|    null|   null|73.71428571428571|  null|             null|   null|   67.0|              82.0|    null|72.67441860465117|    63.5|             64.0|   null|           74.125|             71.8|      67.0|                    null|null|             71.8|62.916666666666664|70.88888888888889|   74.0|             69.0|             null|75.11111111111111|null|   null|             null|             69.5|71.66666666666667|             74.0|              null|            69.25|             73.0|       null|            71.88|             null|   null|             null|    null|             76.0|         null|null|             75.0|73.03174603174604| 67.0|  74.0|             73.0|71.58227848101266|74.83333333333333|72.66666666666667|   null|null|     null|  71.0|            76.25|  66.0|             null|    null|     null|72.66666666666667|             68.0|             60.0|     null|             76.0|             null|  72.0|          76.0625|           76.125|             null|65.89473684210526|  null|      null| 74.0|     null|65.33333333333333|             66.0|  null|  null|   null|   null| null|         null|     60.0|      71.0|             63.0|72.66666666666667| null|      null|     null|           70.625|   null|             79.0|      null|             69.8|      null|   null|72.26666666666667|         null|             67.0|     null| null|73.85714285714286|            72.75|71.77777777777777|null|     null|             null|             71.0|74.5|       null|67.29629629629629|74.83333333333333|       null| null|  68.77272727272727|             80.0|             75.2|  null|                 null| 66.06666666666666|             72.6|             73.0|             80.0|        null|             70.0|             77.5|             73.5|       null|74.92307692307692|          null|    null| 60.0|    null|             70.0|73.88888888888889| 67.0|    null|    null|             68.5|             null|   null|71.79310344827586|  null|72.66666666666667|                null|71.08333333333333|71.14285714285714|      null|             75.0|             70.6|  null|             null|\n",
            "|      LS|       null|             null|             null|   null|             null|             null|75.23076923076923|   73.0|             64.0|             82.0|      null|    64.5|   null|             76.0|  null|             null|   null|   null|              77.0|    null|75.33333333333333|    66.0|             null|   null|             80.0|             62.0|      null|                    null|null|             72.5|              null|             74.0|   null|             70.0|             null|             65.0|null|   null|             73.0|             null|             null|            70.25|              null|             75.0|             null|       null|68.92307692307692|             null|   72.0|             null|    null|             null|         null|null|             66.0|             74.8| null|  76.0|             null|             71.0|             72.0|             null|   null|null|     null|  null|             69.0|  null|             null|    null|     null|             null|             null|             67.0|     null|             null|             null|  80.0|          73.5625|             76.0|             64.0|            70.75|  null|      null| null|     null|             70.0|             null|  null|  null|   null|   null| null|         null|     null|      null|             null|             null| null|      null|     null|             80.5|   null|             72.5|      null|             78.0|      null|   null|71.33333333333333|         null|             null|     null| null|             70.0|             null|71.33333333333333|null|     null|             null|             71.0|null|       null|             75.0|             79.0|       null| null|               67.6|             75.0|             null|  null|                 null|              null|             69.0|             74.5|             86.0|        null|             null|             null|             null|       null|             78.2|          null|    null| null|    null|73.66666666666667|             66.0| 78.0|    null|    68.0|             null|             null|   67.0|             null|  null|             73.0|                null|             70.0|             74.5|      null|             84.0|             null|  null|             null|\n",
            "|      CB|       null|74.33333333333333|             69.5|   64.0|             79.0|             null|72.85858585858585|   null| 69.0952380952381|         70.28125|      null|    66.0|   null|75.04545454545455|  null|             72.0|   null|   74.0|              74.6|    null| 71.9090909090909|    63.0|             null|   null|73.08333333333333|             70.2|      null|                    72.0|null|71.17241379310344| 64.69444444444444|71.38461538461539|   null|69.66666666666667|            70.75|            73.25|null|   66.0|67.66666666666667|             73.1|             72.6|69.94594594594595|              null|             71.5|             76.5|       75.0| 70.2919254658385|             null|   null|70.66666666666667|    null|             69.0|         68.0|null|67.71428571428571|72.83870967741936| null|  79.0|             77.5|        71.359375|             72.5|74.13333333333334|   null|null|     67.0|  77.5|             74.0|  70.0|             73.0|    null|     62.0|             68.5|             71.0|             61.0|     null|             null|             68.0|  null| 72.1219512195122|             72.4|             72.0|64.63265306122449|  null|      null| 64.0|     null|67.07692307692308|             73.5|  null|  54.0|   null|   null| null|         null|     64.0|      65.0|72.33333333333333|             72.5| null|      70.0|     69.0|70.88372093023256|   null|75.66666666666667|      null|            78.25|      null|   null|73.30952380952381|         null|           67.375|     null| null|73.22222222222223|           67.375|68.06451612903226|null|     null|             69.8|             73.0|77.0|       null|68.82352941176471|75.96153846153847|       63.0| 68.0|             66.875|             73.8|             76.5|  null|                 null| 66.48780487804878|            69.72|             72.3|            71.75|        66.0|71.66666666666667|72.57142857142857|             71.0|       null|73.77884615384616|          null|    null| null|    null|           68.225|72.13636363636364| null|    null|    null|             null|             null|   70.5|72.10714285714286|  null|           74.125|                null|69.41666666666667|73.05882352941177|      null|             70.0|          69.8125|  null|             73.0|\n",
            "|     RWB|       null|             null|             82.0|   null|             null|             null|             72.0|   null|             66.0|             66.0|      null|    null|   null|             72.0|  null|             null|   null|   null|              70.0|    null|             null|    null|             null|   null|             74.0|             null|      null|                    null|null|             null|61.666666666666664|             74.0|   null|             null|             null|             74.0|null|   null|             null|             81.0|             null|           68.625|              null|             null|             null|       null|67.86666666666666|             null|   null|             null|    null|             null|         null|null|             null|            73.75| null|  null|             null|72.66666666666667|             null|             null|   null|null|     null|  null|             null|  null|             null|    null|     null|             null|             75.0|             null|     null|             null|             null|  null|             72.5|             72.0|             null|             66.0|  70.0|      null| null|     null|             null|             null|  null|  null|   null|   null| null|         null|     null|      null|             null|             null| null|      null|     null|             80.0|   null|             null|      null|             null|      null|   null|             70.5|         null|             61.0|     null| null|             null|             null|             72.0|null|     null|             null|             null|null|       null|             null|             null|       null| null|               71.0|             null|             null|  null|                 null|              65.0|             65.5|             null|             null|        null|             null|             null|             68.0|       null|            78.25|          null|    null| null|    null|             68.0|             71.0| null|    null|    null|             null|             null|   null|             null|  null|             null|                null|             null|             null|      null|             null|             64.0|  null|             null|\n",
            "|      CF|       null|             null|             null|   null|             null|             null|             79.0|   null|             null|             68.0|      null|    null|   null|             null|  null|             null|   null|   null|              null|    null|            78.25|    null|             74.0|   null|             72.0|             null|      null|                    null|null|             73.0|              null|             null|   null|             null|             null|             null|null|   75.0|             null|             80.0|             null|             null|              null|             null|             null|       null|             70.0|             null|   null|             null|    null|             null|         null|null|             78.0|             null| null|  null|             null|             73.6|             77.0|             null|   null|null|     null|  null|             null|  null|             null|    null|     null|             null|             81.0|             null|     null|             null|             null|  null|             75.8|             null|             null|           66.625|  null|      null| null|     58.0|70.66666666666667|             73.0|  null|  null|   null|   null| null|         null|     68.0|      null|             null|             null| null|      null|     null|             75.0|   null|             null|      null|             null|      null|   68.0|             null|         null|             null|     null| null|             null|             null|             74.0|null|     null|             null|             null|75.0|       null|             88.0|             null|       null| null|               null|             null|             78.0|  null|                 null|              null|             71.0|             null|             null|        null|             null|             null|             null|       null|            79.25|          null|    null| null|    null|            70.25|             null| null|    null|    null|             null|             null|   null|             75.0|  null|             null|                null|             71.0|             null|      null|             null|             null|  null|             71.0|\n",
            "|      RM|       null|             64.0|            74.75|   null|             68.0|             null| 73.2741935483871|   83.0|70.53846153846153|70.30434782608695|      null|    null|   null|74.26666666666667|  null|             68.0|   null|   72.0|              76.0|    null|75.30434782608695|    71.5|             77.5|   null|             70.5|             74.5|      null|                    null|null|72.18181818181819|          65.03125|70.65384615384616|   null|             null|             75.5|76.66666666666667|null|   70.0|             null|             77.0|             72.5|69.18181818181819|              null|             76.0|             82.0|       65.0|69.94782608695652|             null|   null|             63.0|    null|             64.5|         65.5|null|             73.8|74.77551020408163| 68.0|  76.0|             76.0|70.85227272727273|             71.6|76.42857142857143|   null|null|     null|  73.0|             null|  null|             70.0|    78.5|     null|             71.0|             77.5|             67.0|     null|74.33333333333333|             null|  null|73.37037037037037|             81.5|             66.0| 66.8108108108108|  null|      null| null|     null|          68.4375|             70.5|  null|  null|   null|   null| null|         66.0|     71.0|      null|             null|             73.0| null|      null|     null|            72.28|   null|             74.5|      null|             74.8|      null|   null|71.78947368421052|         null|             76.0|     null| 66.0|             77.0|69.85714285714286|           69.125|null|     66.0|             70.5|76.33333333333333|73.0|       null|         68.28125|            76.36|       null| null|               66.7|72.16666666666667|             70.5|  null|                 null| 66.33333333333333|72.42105263157895|             80.2|             69.6|        null|             75.0|             70.6|             66.0|       null|74.86585365853658|          null|    null| 66.0|    null|             70.0|71.41666666666667| 72.0|    null|    68.0|76.66666666666667|             null|   70.0|73.57142857142857|  68.0|             77.5|                null|            72.75|69.57142857142857|      null|73.14285714285714|71.11111111111111|  null|             null|\n",
            "|     LAM|       null|             null|             null|   null|             null|             null|             null|   null|             null|             null|      null|    null|   null|             null|  null|             null|   null|   null|              null|    null|71.46153846153847|    null|             null|   null|             null|             null|      null|                    null|null|             null|              null|             81.0|   null|             null|             null|             null|null|   null|             null|             null|             null|             null|              null|             null|             null|       null|             null|             null|   null|             null|    null|             null|         null|null|             null|             null| null|  null|             null|             70.0|             null|             null|   null|null|     null|  null|             null|  null|             null|    null|     null|             null|             null|             null|     null|             null|             null|  null|             null|             null|             null|             69.0|  null|      null| null|     null|             null|             null|  null|  null|   null|   null| null|         null|     null|      null|             null|             null| null|      null|     null|             null|   null|             null|      null|             null|      null|   null|             null|         null|             null|     null| null|             null|             null|             null|null|     null|             null|             null|null|       null|             null|             null|       null| null|               null|             null|             null|  null|                 null|              null|             null|             null|             81.0|        null|             null|             null|             null|       null|             null|          null|    null| null|    null|             null|             null| null|    null|    null|             null|             null|   null|             null|  null|             null|                null|             null|             68.0|      null|             null|             null|  75.0|             null|\n",
            "|     LDM|       null|72.66666666666667|             73.0|   null|             null|             null|           73.375|   null|             70.5|             75.5|      null|    null|   null|             75.5|  null|             71.0|   null|   null|             72.25|    null|            74.16|    57.0|             null|   65.0|             null|             null|      71.0|                    71.0|null|            71.25|              60.0|70.81818181818181|   null|             null|             77.0|             84.0|null|   null|             null|             74.0|             null|             69.5|              null|             null|             67.0|       null|70.15384615384616|             null|   null|             null|    null|             83.0|         null|null|             null|74.76470588235294| null|  null|             71.0|71.52173913043478|             76.0|             75.0|   null|null|     null|  82.0|             null|  null|             null|    68.0|     null|             null|             null|             null|     null|             null|             null|  73.0|             70.0|            76.75|             null|             70.0|  null|      null| null|     null|             68.0|             null|  70.0|  null|   null|   null| null|         null|     null|      78.0|             null|             75.0| null|      null|     null|             71.6|   null|             null|      null|             null|      null|   null|78.66666666666667|         null|             null|     null| null|             79.5|             null|             71.0|null|     null|             70.0|             71.0|73.0|       null|67.88888888888889|74.42857142857143|       null| null|               65.6|             73.0|             86.0|  null|                 null| 68.85714285714286|             69.5|             null|             70.0|        null|             76.0|             68.0|             67.0|       null|70.41666666666667|          null|    null| null|    null|             66.0|             81.5| null|    null|    null|             null|             null|   null|            72.75|  null|             77.0|                null|73.33333333333333|             null|      null|             null|             86.0|  null|             null|\n",
            "|      ST|       null|            72.25|            73.75|   null|75.66666666666667|             63.0|           72.928|   70.0|            67.44|68.62962962962963|      67.0|    null|   70.0|75.33333333333333|  null|67.66666666666667|   70.0|   71.0| 72.85714285714286|    null|71.56756756756756|    70.5|67.33333333333333|   null|73.86666666666666|72.28571428571429|      75.0|                    null|78.0|70.10416666666667|          63.46875|70.89189189189189|   null|            71.25|            68.25|72.26666666666667|null|   69.5|             65.0|70.88888888888889| 71.9090909090909|69.91304347826087|              85.0|             75.0|             72.0|       null| 69.5575221238938|             null|   65.0|             null|    null|             74.0|         null|null|70.83333333333333|72.45283018867924| 72.0|  79.5|69.66666666666667|           71.125| 75.0909090909091|73.35714285714286|   null|null|     null|  70.5|73.33333333333333|  null|69.66666666666667|    75.0|     null|            72.25|             70.0|             58.5|     null|             75.0|             null|  70.0|            72.75|73.44444444444444|             67.0|67.27272727272727|  null|      null| 74.0|     77.0|68.36111111111111|           69.125|  null|  78.0|   null|   73.0| null|         null|     77.0|      null|             67.0|70.33333333333333| null|      null|     null|72.31428571428572|   79.0|74.66666666666667|      null|71.72727272727273|      null|   null| 73.6829268292683|         null|             70.0|     null| 71.0|73.02941176470588|69.76923076923077| 68.2439024390244|null|     null|68.66666666666667|71.04347826086956|74.0|       null|           69.425|74.66666666666667|       null| null|  66.18604651162791|             73.0|             75.6|  null|                 72.0|              67.1|70.19444444444444|72.27272727272727|73.14285714285714|       72.25|            72.75|70.28571428571429|71.66666666666667|       63.0|73.95412844036697|          62.0|    null| 72.0|    null|69.40816326530613|74.58333333333333| 80.0|    75.0|    null|             73.5|             null|   69.2|72.04166666666667|  null|73.58333333333333|                null|71.08108108108108|            74.55|      null|72.16666666666667|69.93333333333334| 74.25|70.66666666666667|\n",
            "+--------+-----------+-----------------+-----------------+-------+-----------------+-----------------+-----------------+-------+-----------------+-----------------+----------+--------+-------+-----------------+------+-----------------+-------+-------+------------------+--------+-----------------+--------+-----------------+-------+-----------------+-----------------+----------+------------------------+----+-----------------+------------------+-----------------+-------+-----------------+-----------------+-----------------+----+-------+-----------------+-----------------+-----------------+-----------------+------------------+-----------------+-----------------+-----------+-----------------+-----------------+-------+-----------------+--------+-----------------+-------------+----+-----------------+-----------------+-----+------+-----------------+-----------------+-----------------+-----------------+-------+----+---------+------+-----------------+------+-----------------+--------+---------+-----------------+-----------------+-----------------+---------+-----------------+-----------------+------+-----------------+-----------------+-----------------+-----------------+------+----------+-----+---------+-----------------+-----------------+------+------+-------+-------+-----+-------------+---------+----------+-----------------+-----------------+-----+----------+---------+-----------------+-------+-----------------+----------+-----------------+----------+-------+-----------------+-------------+-----------------+---------+-----+-----------------+-----------------+-----------------+----+---------+-----------------+-----------------+----+-----------+-----------------+-----------------+-----------+-----+-------------------+-----------------+-----------------+------+---------------------+------------------+-----------------+-----------------+-----------------+------------+-----------------+-----------------+-----------------+-----------+-----------------+--------------+--------+-----+--------+-----------------+-----------------+-----+--------+--------+-----------------+-----------------+-------+-----------------+------+-----------------+--------------------+-----------------+-----------------+----------+-----------------+-----------------+------+-----------------+\n",
            "\n"
          ],
          "name": "stdout"
        }
      ]
    },
    {
      "cell_type": "code",
      "metadata": {
        "colab": {
          "base_uri": "https://localhost:8080/"
        },
        "id": "tQYaNl1cIhCt",
        "outputId": "0f8f2a99-42fc-4764-8366-539abc61b49a"
      },
      "source": [
        "# finding the maximum value for each row from all columns excluding Position\n",
        "from pyspark.sql.functions import greatest, col, lit, coalesce, sum\n",
        "#rowmax = sum([coalesce(col(x), lit(0)) for x in pivot_df.columns])\n",
        "rowmax = greatest(*[coalesce(col(x), lit(0)) for x in pivot_df.columns[1:]]) \n",
        "# adding the column containing maximum values\n",
        "pivot_df.withColumn('Position(Maximum_Potential)',rowmax).show(pivot_df.count())"
      ],
      "execution_count": 17,
      "outputs": [
        {
          "output_type": "stream",
          "text": [
            "+--------+-----------+-----------------+-----------------+-------+-----------------+-----------------+-----------------+-------+-----------------+-----------------+----------+--------+-------+-----------------+------+-----------------+-------+-------+------------------+--------+-----------------+--------+-----------------+-------+-----------------+-----------------+----------+------------------------+----+-----------------+------------------+-----------------+-------+-----------------+-----------------+-----------------+----+-------+-----------------+-----------------+-----------------+-----------------+------------------+-----------------+-----------------+-----------+-----------------+-----------------+-------+-----------------+--------+-----------------+-------------+----+-----------------+-----------------+-----+------+-----------------+-----------------+-----------------+-----------------+-------+----+---------+------+-----------------+------+-----------------+--------+---------+-----------------+-----------------+-----------------+---------+-----------------+-----------------+------+-----------------+-----------------+-----------------+-----------------+------+----------+-----+---------+-----------------+-----------------+------+------+-------+-------+-----+-------------+---------+----------+-----------------+-----------------+-----+----------+---------+-----------------+-------+-----------------+----------+-----------------+----------+-------+-----------------+-------------+-----------------+---------+-----+-----------------+-----------------+-----------------+----+---------+-----------------+-----------------+----+-----------+-----------------+-----------------+-----------+-----+-------------------+-----------------+-----------------+------+---------------------+------------------+-----------------+-----------------+-----------------+------------+-----------------+-----------------+-----------------+-----------+-----------------+--------------+--------+-----+--------+-----------------+-----------------+-----+--------+--------+-----------------+-----------------+-------+-----------------+------+-----------------+--------------------+-----------------+-----------------+----------+-----------------+-----------------+------+-----------------+---------------------------+\n",
            "|Position|Afghanistan|          Albania|          Algeria|Andorra|           Angola|Antigua & Barbuda|        Argentina|Armenia|        Australia|          Austria|Azerbaijan|Barbados|Belarus|          Belgium|Belize|            Benin|Bermuda|Bolivia|Bosnia Herzegovina|Botswana|           Brazil|Bulgaria|     Burkina Faso|Burundi|         Cameroon|           Canada|Cape Verde|Central African Republic|Chad|            Chile|          China PR|         Colombia|Comoros|            Congo|       Costa Rica|          Croatia|Cuba|Curacao|           Cyprus|   Czech Republic|         DR Congo|          Denmark|Dominican Republic|          Ecuador|            Egypt|El Salvador|          England|Equatorial Guinea|Eritrea|          Estonia|Ethiopia|    FYR Macedonia|Faroe Islands|Fiji|          Finland|           France|Gabon|Gambia|          Georgia|          Germany|            Ghana|           Greece|Grenada|Guam|Guatemala|Guinea|    Guinea Bissau|Guyana|            Haiti|Honduras|Hong Kong|          Hungary|          Iceland|            India|Indonesia|             Iran|             Iraq|Israel|            Italy|      Ivory Coast|          Jamaica|            Japan|Jordan|Kazakhstan|Kenya|Korea DPR|   Korea Republic|           Kosovo|Kuwait|Latvia|Lebanon|Liberia|Libya|Liechtenstein|Lithuania|Luxembourg|       Madagascar|             Mali|Malta|Mauritania|Mauritius|           Mexico|Moldova|       Montenegro|Montserrat|          Morocco|Mozambique|Namibia|      Netherlands|New Caledonia|      New Zealand|Nicaragua|Niger|          Nigeria| Northern Ireland|           Norway|Oman|Palestine|           Panama|         Paraguay|Peru|Philippines|           Poland|         Portugal|Puerto Rico|Qatar|Republic of Ireland|          Romania|           Russia|Rwanda|S?o Tom�� & Pr��ncipe|      Saudi Arabia|         Scotland|          Senegal|           Serbia|Sierra Leone|         Slovakia|         Slovenia|     South Africa|South Sudan|            Spain|St Kitts Nevis|St Lucia|Sudan|Suriname|           Sweden|      Switzerland|Syria|Tanzania|Thailand|             Togo|Trinidad & Tobago|Tunisia|           Turkey|Uganda|          Ukraine|United Arab Emirates|    United States|          Uruguay|Uzbekistan|        Venezuela|            Wales|Zambia|         Zimbabwe|Position(Maximum_Potential)|\n",
            "+--------+-----------+-----------------+-----------------+-------+-----------------+-----------------+-----------------+-------+-----------------+-----------------+----------+--------+-------+-----------------+------+-----------------+-------+-------+------------------+--------+-----------------+--------+-----------------+-------+-----------------+-----------------+----------+------------------------+----+-----------------+------------------+-----------------+-------+-----------------+-----------------+-----------------+----+-------+-----------------+-----------------+-----------------+-----------------+------------------+-----------------+-----------------+-----------+-----------------+-----------------+-------+-----------------+--------+-----------------+-------------+----+-----------------+-----------------+-----+------+-----------------+-----------------+-----------------+-----------------+-------+----+---------+------+-----------------+------+-----------------+--------+---------+-----------------+-----------------+-----------------+---------+-----------------+-----------------+------+-----------------+-----------------+-----------------+-----------------+------+----------+-----+---------+-----------------+-----------------+------+------+-------+-------+-----+-------------+---------+----------+-----------------+-----------------+-----+----------+---------+-----------------+-------+-----------------+----------+-----------------+----------+-------+-----------------+-------------+-----------------+---------+-----+-----------------+-----------------+-----------------+----+---------+-----------------+-----------------+----+-----------+-----------------+-----------------+-----------+-----+-------------------+-----------------+-----------------+------+---------------------+------------------+-----------------+-----------------+-----------------+------------+-----------------+-----------------+-----------------+-----------+-----------------+--------------+--------+-----+--------+-----------------+-----------------+-----+--------+--------+-----------------+-----------------+-------+-----------------+------+-----------------+--------------------+-----------------+-----------------+----------+-----------------+-----------------+------+-----------------+---------------------------+\n",
            "|      RF|       null|             null|             null|   null|             null|             null|             87.0|   null|             null|             66.0|      null|    null|   null|             82.0|  null|             null|   null|   null|              null|    null|             null|    null|             null|   null|             null|             null|      null|                    null|null|             null|              72.0|             null|   null|             null|             null|             null|null|   null|             null|             null|             null|             null|              null|             null|             null|       null|             null|             null|   null|             null|    null|             null|         null|null|             69.0|             null| null|  null|             null|             78.0|             null|             null|   null|null|     null|  null|             null|  null|             null|    null|     null|             null|             null|             null|     null|             null|             null|  null|             75.0|             null|             null|68.33333333333333|  null|      null| null|     null|             null|             null|  null|  null|   null|   null| null|         null|     null|      null|             null|             null| null|      null|     null|             null|   null|             null|      null|             null|      null|   null|             null|         null|             null|     null| null|             null|             null|             null|null|     null|             null|             null|null|       null|             null|             null|       null| null|               null|             null|             null|  null|                 null|              null|             null|             null|             null|        null|             null|             null|             null|       null|             81.0|          null|    null| null|    null|             75.0|             null| 73.0|    null|    null|             null|             null|   null|             null|  null|             null|                null|             null|             75.0|      null|             null|             null|  null|             null|                       87.0|\n",
            "|     LWB|       null|             null|             null|   null|             null|             null|            75.75|   null|             71.0|             69.0|      null|    null|   null|             null|  null|             null|   null|   null|              null|    null|             null|    null|             null|   null|             75.0|             null|      null|                    null|null|             null|              60.5|             75.5|   69.0|             null|             null|             null|null|   null|             null|             null|             null|            72.75|              null|             null|             null|       null|             69.8|             null|   null|             null|    null|             null|         64.0|null|             62.0|            74.25| null|  null|             null|76.14285714285714|             71.0|             null|   null|null|     null|  null|             null|  null|             null|    null|     null|             null|             70.0|             null|     null|             null|             null|  null|             67.0|             null|             null|             66.0|  null|      null| null|     null|             null|             null|  null|  null|   null|   null| null|         null|     null|      null|             null|             null| null|      null|     null|             null|   null|             null|      null|             null|      null|   null|             72.0|         null|             73.0|     null| null|             72.0|             67.0|             77.0|null|     null|             null|             null|68.0|       null|             null|             82.0|       null| null|               70.0|             null|             76.0|  null|                 null|              67.0|             66.0|             null|             null|        null|             null|             null|             null|       null|            77.25|          null|    null| null|    null|66.77777777777777|             68.0| null|    null|    null|             null|             null|   null|             null|  null|             null|                null|             null|             null|      null|             null|             64.0|  null|             null|                       82.0|\n",
            "|     LCM|       null|             71.0|             76.0|   null|             null|             null|            74.52|   null|             70.0|72.44444444444444|      null|    null|   75.0|78.14285714285714|  null|             null|   null|   68.0|             75.75|    null|             76.5|    null|             null|   null|             69.0|             73.0|      null|                    null|null|             71.8|              68.0|            71.25|   null|             69.0|             null|85.33333333333333|null|   69.0|             null|72.33333333333333|             null|72.45454545454545|              null|             74.0|             null|       null|70.75757575757575|             80.0|   null|             null|    null|             83.0|         68.0|null|67.33333333333333|75.29411764705883| 78.5|  null|             null|73.11764705882354|             76.0|             null|   null|null|     null|  null|             null|  null|             null|    null|     null|             78.0|             72.0|             71.0|     null|             null|             74.0|  72.0|73.42105263157895|             73.6|             null|65.41666666666667|  null|      null| null|     null|67.54545454545455|             77.0|  null|  null|   null|   null| null|         null|     null|      null|             null|             null| null|      null|     null|             77.5|   null|             null|      null|             80.0|      null|   null|             73.1|         null|             66.0|     null| null|             73.0|             67.0|71.36363636363636|null|     null|             null|             75.5|null|       null|             75.2|77.44444444444444|       null| null|               64.8|             null|             75.0|  71.0|                 null|61.333333333333336|70.57142857142857|             73.2|             75.0|        null|             87.0|             83.0|             72.0|       null|75.28571428571429|          72.0|    null| null|    67.0|          70.3125|             74.5| 72.0|    null|    null|             null|             null|   70.0|             69.0|  74.0|             null|                null|             79.0|             78.0|      null|             null|             64.0|  null|             83.0|                       87.0|\n",
            "|      LM|       70.0|73.66666666666667|74.66666666666667|   null|             72.0|             65.0|         74.40625|   69.5|69.54545454545455|69.29411764705883|      68.0|    null|   null|75.31818181818181|  null|             null|   63.0|   70.0| 72.33333333333333|    null|74.43333333333334|    71.0|             null|   null|71.16666666666667|67.85714285714286|      80.0|                    null|null| 71.0952380952381| 63.65384615384615|71.61702127659575|   60.0|72.33333333333333|             null|             73.0|null|   71.0|             75.0|             72.2|73.28571428571429|69.26666666666667|              76.0|             72.2|             75.6|       null| 69.6701030927835|             null|   null|             null|    null|71.66666666666667|         null|null|             72.0|74.79591836734694| 82.5|  71.0|             75.5|71.09574468085107|73.57142857142857|             73.0|   null|null|     null|  67.5|             null|  null|             null|    74.0|     null|             72.0|             71.0|             66.0|     null|             79.0|72.33333333333333|  72.0|72.88888888888889|             74.2|71.66666666666667|69.02857142857142|  null|      null| 73.5|     null|67.14285714285714|             78.0|  null|  null|   null|   null| 73.0|         null|     null|      null|             null|             77.0| 63.0|      null|     null|71.52173913043478|   null|             79.0|      null|             73.0|      null|   null|73.36363636363636|         null|             null|     null| null|75.81818181818181|             71.0|71.44444444444444|null|     null|             null|             74.8|74.5|       null|             69.4|             74.5|       null| null|  68.91304347826087|71.16666666666667|72.33333333333333|  null|                 null|  66.5909090909091|          72.3125|77.33333333333333|71.55555555555556|        null|            70.75|             81.0|             72.0|       null|74.13157894736842|          null|    null| null|    null|69.16666666666667|70.81818181818181| null|    72.0|    null|             null|             74.0|   71.0|72.11538461538461|  null|             71.0|                null|72.46666666666667|73.71428571428571|      null|            74.25|             73.5|  null|             null|                       82.5|\n",
            "|     RDM|       null|             null|71.33333333333333|   null|             null|             null|             73.5|   null|             77.0|72.85714285714286|      null|    null|   null|             null|  null|             null|   null|   null|              null|    null|74.04545454545455|    73.0|             null|   null|             78.0|             null|      68.5|                    null|null|             69.8| 64.33333333333333|72.08333333333333|   70.0|             null|             null|             62.0|76.0|   null|             null|             83.0|             66.0|             70.0|              null|             73.5|             79.0|       70.0|71.84615384615384|             null|   null|             null|    null|             76.0|         null|null|             null|75.78947368421052| 76.0|  null|             null|70.54166666666667|             74.5|             81.5|   null|null|     null|  null|             null|  null|             null|    null|     null|             null|             64.0|             null|     null|             null|             null|  null|            74.75|             78.0|             null|            67.75|  null|      null| null|     null|             59.0|             77.0|  null|  66.0|   null|   null| null|         null|     null|      null|             77.0|             75.0| null|      null|     null|             73.8|   null|             72.0|      null|             77.0|      null|   null|73.71428571428571|         null|             71.0|     null| null|             79.0|             null|             70.5|null|     null|             null|             75.0|79.0|       null|             71.0|             69.5|       null| null|               66.6|             79.0|             79.5|  null|                 null| 68.33333333333333|             69.0|            75.75|77.66666666666667|        null|             69.0|             70.0|             70.0|       null|             74.3|          null|    null| null|    null|             64.0|70.66666666666667| null|    null|    null|             73.5|             68.0|   null|             72.8|  null|             81.0|                null|            75.25|             67.0|      null|             null|             70.4|  null|             null|                       83.0|\n",
            "|      LF|       null|             null|             null|   null|             null|             null|             82.0|   null|             null|             null|      null|    null|   null|             86.0|  null|             null|   null|   null|              null|    null|             74.0|    null|             null|   null|             null|             null|      null|                    null|null|             null|              null|             null|   null|             null|             77.0|             null|null|   null|             null|             null|             null|             null|              null|             null|             null|       null|             null|             null|   null|             66.0|    null|             72.0|         null|null|             null|             null| null|  null|             77.0|             71.0|             null|             null|   null|null|     null|  null|             null|  null|             null|    null|     null|             null|             null|             null|     null|             null|             null|  null|             null|             null|             null|             63.0|  null|      null| null|     null|             null|             null|  null|  null|   null|   null| null|         null|     null|      null|             null|             null| null|      null|     null|             null|   null|             null|      null|             null|      null|   null|             null|         null|             null|     null| null|             null|             null|             null|null|     null|             null|             null|null|       null|             null|             null|       null| null|               null|             null|             null|  null|                 null|              null|             null|             null|             null|        null|             null|             null|             null|       null|             84.0|          null|    null| null|    null|             null|             null| null|    null|    null|             null|             null|   null|             null|  null|             null|                null|             null|             null|      null|             null|             null|  null|             null|                       86.0|\n",
            "|     CAM|       66.0|            70.75|            74.25|   null|             null|             null|74.78260869565217|   null|            71.25|73.16666666666667|      null|    null|   70.0|74.08333333333333|  null|             null|   null|   70.5|              70.8|    null|71.80246913580247|    68.0|             70.5|   67.0|77.66666666666667|69.33333333333333|      null|                    null|null|74.78571428571429|62.666666666666664|             70.4|   null|             69.5|             null|78.66666666666667|null|   null|             null|73.33333333333333|             76.0|72.71428571428571|              null|             73.5|             null|       null|72.47222222222223|             75.0|   null|             61.0|    null|             75.0|         null|null|            72.25|73.41176470588235| null|  null|72.33333333333333|73.33870967741936|             70.5|77.28571428571429|   null|null|     null|  null|             null|  null|             60.0|    null|     null|             78.0|             73.5|             null|     74.0|             null|             null|  74.0|            71.96|             70.5|             69.0|68.57142857142857|  null|      65.0| null|     null| 68.3529411764706|             68.0|  null|  null|   null|   null| 73.0|         null|     null|      null|             65.0|             null| null|      null|     null|             71.2|   74.0|             null|      null|             75.4|      null|   null|72.86842105263158|         null|             70.0|     null| 63.0|             72.0|             69.0|            69.25|null|     null|             null|             77.5|76.5|       null|70.94117647058823|           77.625|       null| null|  68.94444444444444|             78.0|79.33333333333333|  null|                 null| 68.93333333333334|69.81818181818181|             null|            74.25|        null|             80.5|72.28571428571429|74.28571428571429|       null|74.49122807017544|          null|    null| null|    null|70.16666666666667|71.29411764705883| 73.0|    null|    null|             null|             72.0|   72.5|73.52631578947368|  null|             79.0|                78.0|73.07692307692308|74.27272727272727|      null|            73.25|            77.75|  74.0|             null|                       80.5|\n",
            "|     RAM|       null|             null|             null|   null|             null|             null|             null|   null|             null|             null|      null|    null|   null|             null|  null|             null|   null|   null|              null|    null|72.42857142857143|    null|             null|   null|             null|             null|      null|                    null|null|             null|              null|             76.5|   null|             null|             null|             null|null|   null|             null|             null|             null|             null|              null|             null|             null|       null|             null|             null|   null|             null|    null|             null|         null|null|             null|             null| null|  null|             null|             72.0|             null|             null|   null|null|     null|  null|             null|  null|             null|    null|     null|             null|             null|             null|     null|             null|             null|  null|             null|             null|             null|             67.0|  null|      null| null|     null|             null|             null|  null|  null|   null|   null| null|         null|     null|      null|             null|             null| null|      null|     null|             null|   null|             null|      null|             86.0|      null|   null|             null|         null|             null|     null| null|             null|             null|             null|null|     null|             null|             null|null|       null|             null|             null|       null| null|               null|             null|             null|  null|                 null|              null|             null|             null|             null|        null|             null|             null|             null|       null|             null|          null|    null| null|    null|             null|             null| null|    null|    null|             null|             null|   null|             null|  null|             null|                null|             null|             null|      null|             71.0|             null|  null|             null|                       86.0|\n",
            "|      LB|       64.0|             66.0|            73.75|   null|             75.0|             null|72.22033898305085|   null|68.28571428571429|69.47058823529412|      null|    null|   null|71.36363636363636|  null|             69.0|   null|   70.0| 71.33333333333333|    null|73.82089552238806|    68.0|             73.0|   null|             72.0|             69.2|      null|                    null|null|69.26829268292683| 63.63333333333333|68.90566037735849|   null|             69.0|             72.0|74.55555555555556|64.0|   74.0|             null|72.66666666666667|72.66666666666667|            68.72|              null|75.33333333333333|69.33333333333333|       null|70.08064516129032|             75.0|   null|             66.0|    null|             null|         null|null|            68.25|72.58974358974359| 64.5|  null|             null| 71.0506329113924|73.71428571428571|             74.2|   null|null|     68.0|  71.5|             67.0|  null|             null|    70.0|     null|             71.0|71.66666666666667|             65.0|     null|             73.0|             75.0|  69.5|71.74545454545455|             72.6|             70.5|67.53846153846153|  null|      66.0| 66.0|     null|67.77272727272727|             75.0|  null|  null|   null|   null| null|         null|     66.0|      null|             67.0|71.33333333333333| null|      72.0|     null|71.55555555555556|   null|             62.0|      null|             75.0|      70.0|   null|         71.96875|         null|             63.0|     null| null|             70.0|             67.2|68.17391304347827|null|     null|             null|             73.2|71.0|       68.0|67.13636363636364|73.11764705882354|       null| null|  65.51851851851852|70.66666666666667|             75.0|  null|                 null|              65.0|70.61904761904762|           70.625|             70.0|        null|67.33333333333333|             73.0|           67.875|       null|74.27160493827161|          null|    null| null|    null|67.58333333333333|             69.0| 64.0|    null|    62.0|             null|             null|   70.0|70.34482758620689|  64.0|             76.4|                null|69.11111111111111|             75.4|      null|             72.0|71.83333333333333|  null|             68.0|                       76.4|\n",
            "|      LW|       null|             64.0|73.66666666666667|   null|             70.5|             null|75.18518518518519|   null|66.44444444444444|72.33333333333333|      null|    null|   null|           73.625|  null|             null|   null|   null| 69.66666666666667|    null|             77.2|    66.0|             84.0|   76.0|            68.25|             null|      null|                    null|78.0|69.84615384615384| 65.42857142857143|            71.25|   null|             75.0|             65.0|79.66666666666667|76.0|   67.5|             null|             75.0|             74.0|             74.5|              null|             74.0|             71.0|       74.0|73.94444444444444|             null|   null|             null|    null|             null|         66.0|null|             null|          72.8125| null|  68.5|             71.0|76.41666666666667|             72.0|             77.0|   null|null|     null|  80.0|             73.0|  null|             null|    null|     null|             80.0|             72.0|             66.0|     null|             68.0|             null|  null|         73.65625|             75.0|             68.0|             72.0|  null|      null| null|     null|69.14285714285714|73.33333333333333|  null|  null|   null|   null| 72.0|         null|     null|      null|             null|             73.5| null|      null|     null|             75.0|   null|             null|      null|69.66666666666667|      null|   null|             76.4|         null|             66.5|     null| null|79.66666666666667|             null|69.78571428571429|null|     null|             null|             71.5|76.0|       null|             null|             76.6|       null| null|  72.33333333333333|             80.0|             null|  null|                 null|              66.0|             76.0|             75.0|             76.5|        null|             null|             80.0|             69.6|       null|76.53846153846153|          null|    null| null|    72.0|69.28571428571429|             71.0| null|    null|    70.0|             70.0|             null|   null|75.33333333333333|  70.0|             79.0|                null|73.83333333333333|             75.0|      null|             69.0|             79.0|  null|             73.0|                       84.0|\n",
            "|     RCM|       null|             75.0|             76.0|   null|             null|             null|72.94444444444444|   null|             72.5|             69.6|      null|    null|   null|76.28571428571429|  null|             68.0|   null|   67.0|              73.5|    null|             75.8|    null|             null|   null|             73.5|             68.0|      null|                    null|null|             71.4|63.857142857142854|73.54545454545455|   null|             null|             null|             81.0|null|   null|             null|             null|             null|71.44444444444444|              null|             76.0|             71.0|       null|70.29729729729729|             78.0|   null|             null|    null|             null|         null|null|             75.0|72.61538461538461| 75.0|  null|             null|76.77777777777777|            69.75|             null|   null|null|     null|  null|             null|  null|             null|    72.0|     null|             76.0|69.66666666666667|             67.0|     null|             null|             null|  null|           72.875|80.33333333333333|             null|66.61538461538461|  null|      70.0| null|     null|69.81818181818181|             null|  null|  null|   null|   null| null|         null|     null|      null|             null|             84.0| null|      null|     null|75.83333333333333|   null|             null|      null|             75.0|      null|   null|             73.5|         null|             73.0|     null| null|             79.2|             68.0|71.81818181818181|null|     null|             71.0|             71.0|null|       null|             73.5|75.57142857142857|       null| null|  65.84615384615384|             null|             null|  null|                 null|              64.0|             70.6|             70.5|             73.5|        null|             null|             null|             69.0|       null|            76.75|          null|    null| null|    null|70.46153846153847|            74.75| null|    null|    null|             null|             null|   81.0|             70.5|  70.0|             81.0|                null|73.83333333333333|76.14285714285714|      null|             null|             64.0|  null|             74.0|                       84.0|\n",
            "|      GK|       null|             77.5|             67.6|   null|             null|             null|71.76288659793815|   null|             67.0| 68.1590909090909|      null|    null|   69.0|            72.25|  null|             70.5|   null|   69.0|              70.4|    null|72.66176470588235|    65.2|             77.0|   null|             75.2|66.11111111111111|      null|                    null|null|69.30952380952381|  62.9811320754717|69.21153846153847|   null|             61.0|             77.0| 72.6923076923077|75.0|   71.5|             null|             71.5|             65.0|68.91428571428571|              null|72.33333333333333|68.66666666666667|       null| 68.2183908045977|             68.0|   null|             72.5|    null|             72.0|         null|null|           70.875|72.01980198019803| 65.0|  73.0|             70.0|70.90243902439025|             67.0| 74.3529411764706|   null|null|     68.0|  65.0|             null|  null|             null|    70.0|     null|             73.2|71.33333333333333|64.66666666666667|     null|68.33333333333333|             null|  67.0| 71.3695652173913|            68.25|             78.0|63.18032786885246|  null|      null| null|     null|            67.95|             72.0|  null|  68.0|   null|   null| null|         null|     74.0|      null|             null|             66.0| null|      null|     null| 70.1086956521739|   72.0|             71.0|      null|             67.4|      null|   68.0|71.19642857142857|         null|             67.0|     null| null|             82.0|68.42857142857143|68.51612903225806|72.0|     null|             null|73.66666666666667|71.0|       75.0|67.77966101694915|         75.53125|       null| null|   65.8974358974359|             75.6|74.92857142857143|  null|                 null| 64.38297872340425| 66.9047619047619|           72.125|71.77777777777777|        null|69.42857142857143|             79.0|69.57142857142857|       null|73.88793103448276|          null|    null| null|    null|68.32608695652173|70.84848484848484| null|    null|    null|             null|             53.0|   73.0|69.87234042553192|  null|             73.1|                null|67.84722222222223|             72.5|      null|            75.25|67.71428571428571|  null|             null|                       82.0|\n",
            "|      RB|       null|             75.0|             63.0|   null|             null|             71.5|            71.98|   72.0|66.21428571428571| 69.0909090909091|      62.0|    null|   null|             72.0|  null|             null|   null|   70.0|              71.0|    null|72.57142857142857|    69.0|             77.0|   null|71.66666666666667|             70.0|      67.0|                    null|null|69.13793103448276|62.476190476190474|             71.0|   70.0|             null|             68.5|            76.75|null|   71.0|             67.0|             72.5|             78.0|             69.6|              null|             68.5|             71.0|       null|70.25210084033614|             null|   null|             66.0|    64.0|             71.0|         null|null|             64.5|72.72972972972973| 71.0|  65.0|             76.0|70.62650602409639|            71.75|71.83333333333333|   null|67.0|     null|  null|             72.0|  null|             70.0|    69.0|     null|             70.5|             66.0|             66.0|     null|             72.0|             null|  null|72.57894736842105|             75.5|67.66666666666667|66.93548387096774|  null|      65.0| null|     null|66.05555555555556|             69.0|  null|  null|   null|   null| null|         66.0|     null|      72.0|             72.0|             75.5| null|      66.0|     null|69.39473684210526|   null|             69.0|      null|             72.0|      null|   78.0|73.35135135135135|         null|66.66666666666667|     null| null|             73.0|             68.8|69.78260869565217|null|     null|             80.0|             72.5|73.0|       null|68.03225806451613|74.92857142857143|       null| null|  64.79166666666667|             74.0|76.14285714285714|  null|                 null| 66.67567567567568|68.73684210526316|           72.625|72.44444444444444|        70.0|             75.0|             69.5|             68.5|       null|74.37931034482759|          56.0|    68.0| null|    69.5|69.61111111111111|70.73913043478261| null|    null|    null|             null|             null|   69.5|            71.75|  64.0|            74.25|                null|69.65789473684211|72.11111111111111|      null|71.83333333333333| 68.3076923076923|  null|             72.0|                       80.0|\n",
            "|      RS|       null|             71.0|             null|   null|             66.0|             null|             73.8|   null|             66.5|70.66666666666667|      66.0|    null|   null|             77.0|  null|             76.5|   null|   73.0|              null|    null|             74.0|    null|             null|   null|             81.0|             77.0|      null|                    null|null|             76.0|              67.0|77.42857142857143|   null|             null|             null|             71.0|null|   null|             null|             73.0|             70.0|             67.5|              null|             73.0|             null|       null|67.10714285714286|             null|   null|             null|    null|             null|         null|71.0|             null|            77.75| null|  null|             null|             71.0|             75.0|             null|   null|null|     null|  null|             null|  null|             null|    null|     null|             null|             null|             64.0|     null|             null|             null|  80.0|75.23529411764706|            75.25|             62.0|             73.0|  null|      null| null|     null|65.66666666666667|             null|  null|  null|   null|   null| null|         null|     null|      null|             null|             80.0| null|      null|     null|75.66666666666667|   null|             null|      67.0|             70.0|      null|   null|             71.0|         null|             70.0|     null| null|             73.0|             68.0|             73.0|null|     null|             70.0|             null|null|       null|71.33333333333333|             77.0|       null| null|               71.5|             null|             75.5|  null|                 null| 67.33333333333333|            71.75|             68.5|             73.5|        null|             null|             null|             null|       null|77.27272727272727|          null|    null| null|    null|73.33333333333333|             null| null|    null|    null|             null|             null|   null|             69.5|  null|             null|                null|             76.0|            74.75|      null|             74.5|             67.0|  null|             75.0|                       81.0|\n",
            "|     LCB|       null|             null|             69.0|   null|             72.0|             null|73.91428571428571|   null|             67.6|71.58333333333333|      null|    null|   null|             75.0|  null|             null|   null|   72.0|              68.5|    null|74.48936170212765|    69.0|             76.0|   null|             72.8|             66.0|      72.5|                    null|null|73.15384615384616| 66.72727272727273| 72.8076923076923|   null|             69.0|             71.5|77.66666666666667|null|   null|             78.0|             75.0|             69.0|70.84615384615384|              null|72.66666666666667|             72.5|       null|70.92592592592592|             null|   null|             69.0|    null|             null|         null|null|             67.5|76.02702702702703| null|  81.0|             73.0|72.82051282051282|             76.5|             75.0|   68.0|null|     null|  73.0|             null|  null|             null|    null|     null|             75.0|             73.0|             62.0|     null|             67.0|             null|  null|72.88888888888889|             75.0|             74.0|67.85714285714286|  null|      null| null|     null|             66.6|             null|  null|  null|   66.0|   null| null|         null|     null|      null|             null|             null| null|      null|     null|             72.4|   74.0|             69.0|      null|            68.25|      75.0|   null|            75.05|         71.0|             67.0|     66.0| null|             null|             65.0|70.06666666666666|null|     null|             68.0|71.66666666666667|74.5|       null|             68.0|73.71428571428571|       null| null|  68.66666666666667|             74.5|             73.0|  null|                 null|              67.6|72.27272727272727|             75.6|72.88888888888889|        null|79.33333333333333|             74.5|             69.0|       null|74.70967741935483|          null|    null| null|    null|          67.5625|72.16666666666667| null|    null|    null|             null|             null|   76.5|73.83333333333333|  null|             78.0|                null|73.07142857142857|             73.5|      null|             78.0|            72.75|  null|             null|                       81.0|\n",
            "|      CM|       71.0|            71.75|77.66666666666667|   null|             null|             null|73.08695652173913|   null|67.71428571428571|68.70588235294117|      null|    null|   null|74.21428571428571|  null|             null|   null|   72.5|              68.8|    68.0|             76.0|    66.5|             77.0|   null|             72.5|             68.5|      74.5|                    85.0|null|70.17647058823529|62.432432432432435|69.77777777777777|   73.0|             null|70.33333333333333|72.63636363636364|null|   null|             null|74.36363636363636|             70.0|69.21212121212122|              null|             71.0|             73.0|       64.0|69.79591836734694|             null|   null|             null|    null|             66.0|         null|null|70.66666666666667|73.91379310344827| null|  null|             null|74.03333333333333|74.26666666666667|             73.0|   null|null|     null|  82.0|             68.0|  63.0|             69.0|    null|     71.0|             72.5|             72.5|             61.0|     null|             79.0|             64.0|  76.5|72.11111111111111|             74.0|             66.5|65.92105263157895|  null|      null| null|     null| 65.5952380952381|             74.0|  null|  null|   null|   null| null|         71.0|     68.0|      76.0|             64.0|             76.0| null|      null|     null|70.36842105263158|   67.0|             75.5|      68.0|           75.125|      null|   null|72.57142857142857|         null|             68.0|     null| null|65.16666666666667|             72.0|68.91304347826087|null|     null|             null|70.66666666666667|71.5|       null|67.84615384615384|75.44444444444444|       null| null|             67.375|             72.2|             75.0|  null|                 null| 68.61904761904762| 71.3030303030303|             71.1|77.88888888888889|        null|74.16666666666667|             71.0|72.83333333333333|       null|          74.7875|          null|    null| null|    null|68.51282051282051|           72.625| 64.0|    null|    63.0|             null|             null|   69.0|71.44444444444444|  null|74.71428571428571|                null|70.52631578947368|71.33333333333333|      67.5|             72.6|             67.9|  76.0|             null|                       85.0|\n",
            "|      RW|       null|             72.5|             76.6|   null|             null|             null|73.20689655172414|   70.5|             68.6|             71.0|      null|    null|   null|78.16666666666667|  61.0|             null|   null|   null|              75.0|    null|76.42857142857143|    null|             null|   null|             null|             64.0|      null|                    null|null|70.82352941176471| 63.44444444444444|            74.75|   null|             67.0|             67.0|             null|null|   null|             null|             75.0|             77.5|             76.2|              null|             72.0|             null|       null|74.73684210526316|             null|   null|             null|    null|             null|         null|null|             65.5|             74.7| null|  null|             81.0|             73.0|           72.375|             70.0|   null|null|     null|  null|             74.5|  null|             78.0|    null|     null|70.66666666666667|             74.5|             null|     null|             null|             null|  null| 76.3157894736842|             75.8|             null|             65.0|  null|      null| 66.0|     66.0|             70.0|             83.0|  null|  null|   null|   null| 76.0|         null|     null|      null|             67.0|             null| null|      null|     null|            73.75|   null|             70.0|      null|             null|      76.0|   null|74.57142857142857|         null|             62.0|     null| null|             75.2|             null|             70.4|null|     null|             null|             79.0|76.0|       null|             null|76.53846153846153|       null| null|               null|             78.0|             76.0|  null|                 null|              null|             70.0|             69.0|             83.0|        null|             75.0|             71.0|74.66666666666667|       null|             80.4|          null|    null| null|    null|66.07692307692308|75.66666666666667| null|    null|    null|             65.0|             null|   80.0|             71.0|  null|             null|                null|             72.5|            71.75|      null|            76.25|             76.5|  68.0|             null|                       83.0|\n",
            "|     RCB|       null|             68.0|             74.5|   null|             65.0|             null|73.05405405405405|   null|             69.5| 70.0909090909091|      null|    null|   null|             75.5|  null|             73.0|   null|   66.0|              69.0|    null| 75.2051282051282|    69.0|             70.0|   null|70.66666666666667|             71.0|      75.0|                    null|null|            70.25|              67.0|            72.75|   null|             66.0|             75.5|71.55555555555556|null|   null|             null|            69.75|             76.0|             72.0|              null|             null|             67.0|       null|71.44642857142857|             null|   null|             null|    null|             null|         null|null|             72.0|75.72413793103448| null|  null|             75.0|72.72916666666667|             72.0|             78.0|   null|null|     null|  65.5|             null|  null|             null|    null|     null|             81.0|             70.0|             71.0|     null|             73.0|             null|  null|74.08333333333333|             74.0|             71.0|69.93333333333334|  null|      null| null|     null|             68.5|             null|  null|  64.0|   null|   null| null|         null|     null|      73.0|             null|             65.0| null|      null|     null|             73.7|   null|             null|      69.0|             71.5|      74.0|   null|73.61111111111111|         null|             67.0|     null| null|            70.25|             71.0|          69.1875|null|     null|             null|76.14285714285714|71.0|       null|70.81818181818181|             75.0|       null| null|   65.3076923076923|             71.5|             80.0|  null|                 null|              67.5|             67.5|            75.25|             74.8|        null|75.33333333333333|             69.0|             67.0|       null|74.52777777777777|          null|    null| null|    null|70.13333333333334|74.11111111111111| null|    null|    null|             79.0|             null|   null|74.22222222222223|  null|             73.0|                null|72.54545454545455|75.71428571428571|      null|             76.0|69.85714285714286|  74.0|             null|                       81.0|\n",
            "|     CDM|       null|             69.5|            70.25|   null|             null|             null|72.76363636363637|   null|          66.8125|69.63157894736842|      71.0|    null|   null|73.71428571428571|  null|             null|   null|   67.0|              82.0|    null|72.67441860465117|    63.5|             64.0|   null|           74.125|             71.8|      67.0|                    null|null|             71.8|62.916666666666664|70.88888888888889|   74.0|             69.0|             null|75.11111111111111|null|   null|             null|             69.5|71.66666666666667|             74.0|              null|            69.25|             73.0|       null|            71.88|             null|   null|             null|    null|             76.0|         null|null|             75.0|73.03174603174604| 67.0|  74.0|             73.0|71.58227848101266|74.83333333333333|72.66666666666667|   null|null|     null|  71.0|            76.25|  66.0|             null|    null|     null|72.66666666666667|             68.0|             60.0|     null|             76.0|             null|  72.0|          76.0625|           76.125|             null|65.89473684210526|  null|      null| 74.0|     null|65.33333333333333|             66.0|  null|  null|   null|   null| null|         null|     60.0|      71.0|             63.0|72.66666666666667| null|      null|     null|           70.625|   null|             79.0|      null|             69.8|      null|   null|72.26666666666667|         null|             67.0|     null| null|73.85714285714286|            72.75|71.77777777777777|null|     null|             null|             71.0|74.5|       null|67.29629629629629|74.83333333333333|       null| null|  68.77272727272727|             80.0|             75.2|  null|                 null| 66.06666666666666|             72.6|             73.0|             80.0|        null|             70.0|             77.5|             73.5|       null|74.92307692307692|          null|    null| 60.0|    null|             70.0|73.88888888888889| 67.0|    null|    null|             68.5|             null|   null|71.79310344827586|  null|72.66666666666667|                null|71.08333333333333|71.14285714285714|      null|             75.0|             70.6|  null|             null|                       82.0|\n",
            "|      LS|       null|             null|             null|   null|             null|             null|75.23076923076923|   73.0|             64.0|             82.0|      null|    64.5|   null|             76.0|  null|             null|   null|   null|              77.0|    null|75.33333333333333|    66.0|             null|   null|             80.0|             62.0|      null|                    null|null|             72.5|              null|             74.0|   null|             70.0|             null|             65.0|null|   null|             73.0|             null|             null|            70.25|              null|             75.0|             null|       null|68.92307692307692|             null|   72.0|             null|    null|             null|         null|null|             66.0|             74.8| null|  76.0|             null|             71.0|             72.0|             null|   null|null|     null|  null|             69.0|  null|             null|    null|     null|             null|             null|             67.0|     null|             null|             null|  80.0|          73.5625|             76.0|             64.0|            70.75|  null|      null| null|     null|             70.0|             null|  null|  null|   null|   null| null|         null|     null|      null|             null|             null| null|      null|     null|             80.5|   null|             72.5|      null|             78.0|      null|   null|71.33333333333333|         null|             null|     null| null|             70.0|             null|71.33333333333333|null|     null|             null|             71.0|null|       null|             75.0|             79.0|       null| null|               67.6|             75.0|             null|  null|                 null|              null|             69.0|             74.5|             86.0|        null|             null|             null|             null|       null|             78.2|          null|    null| null|    null|73.66666666666667|             66.0| 78.0|    null|    68.0|             null|             null|   67.0|             null|  null|             73.0|                null|             70.0|             74.5|      null|             84.0|             null|  null|             null|                       86.0|\n",
            "|      CB|       null|74.33333333333333|             69.5|   64.0|             79.0|             null|72.85858585858585|   null| 69.0952380952381|         70.28125|      null|    66.0|   null|75.04545454545455|  null|             72.0|   null|   74.0|              74.6|    null| 71.9090909090909|    63.0|             null|   null|73.08333333333333|             70.2|      null|                    72.0|null|71.17241379310344| 64.69444444444444|71.38461538461539|   null|69.66666666666667|            70.75|            73.25|null|   66.0|67.66666666666667|             73.1|             72.6|69.94594594594595|              null|             71.5|             76.5|       75.0| 70.2919254658385|             null|   null|70.66666666666667|    null|             69.0|         68.0|null|67.71428571428571|72.83870967741936| null|  79.0|             77.5|        71.359375|             72.5|74.13333333333334|   null|null|     67.0|  77.5|             74.0|  70.0|             73.0|    null|     62.0|             68.5|             71.0|             61.0|     null|             null|             68.0|  null| 72.1219512195122|             72.4|             72.0|64.63265306122449|  null|      null| 64.0|     null|67.07692307692308|             73.5|  null|  54.0|   null|   null| null|         null|     64.0|      65.0|72.33333333333333|             72.5| null|      70.0|     69.0|70.88372093023256|   null|75.66666666666667|      null|            78.25|      null|   null|73.30952380952381|         null|           67.375|     null| null|73.22222222222223|           67.375|68.06451612903226|null|     null|             69.8|             73.0|77.0|       null|68.82352941176471|75.96153846153847|       63.0| 68.0|             66.875|             73.8|             76.5|  null|                 null| 66.48780487804878|            69.72|             72.3|            71.75|        66.0|71.66666666666667|72.57142857142857|             71.0|       null|73.77884615384616|          null|    null| null|    null|           68.225|72.13636363636364| null|    null|    null|             null|             null|   70.5|72.10714285714286|  null|           74.125|                null|69.41666666666667|73.05882352941177|      null|             70.0|          69.8125|  null|             73.0|                       79.0|\n",
            "|     RWB|       null|             null|             82.0|   null|             null|             null|             72.0|   null|             66.0|             66.0|      null|    null|   null|             72.0|  null|             null|   null|   null|              70.0|    null|             null|    null|             null|   null|             74.0|             null|      null|                    null|null|             null|61.666666666666664|             74.0|   null|             null|             null|             74.0|null|   null|             null|             81.0|             null|           68.625|              null|             null|             null|       null|67.86666666666666|             null|   null|             null|    null|             null|         null|null|             null|            73.75| null|  null|             null|72.66666666666667|             null|             null|   null|null|     null|  null|             null|  null|             null|    null|     null|             null|             75.0|             null|     null|             null|             null|  null|             72.5|             72.0|             null|             66.0|  70.0|      null| null|     null|             null|             null|  null|  null|   null|   null| null|         null|     null|      null|             null|             null| null|      null|     null|             80.0|   null|             null|      null|             null|      null|   null|             70.5|         null|             61.0|     null| null|             null|             null|             72.0|null|     null|             null|             null|null|       null|             null|             null|       null| null|               71.0|             null|             null|  null|                 null|              65.0|             65.5|             null|             null|        null|             null|             null|             68.0|       null|            78.25|          null|    null| null|    null|             68.0|             71.0| null|    null|    null|             null|             null|   null|             null|  null|             null|                null|             null|             null|      null|             null|             64.0|  null|             null|                       82.0|\n",
            "|      CF|       null|             null|             null|   null|             null|             null|             79.0|   null|             null|             68.0|      null|    null|   null|             null|  null|             null|   null|   null|              null|    null|            78.25|    null|             74.0|   null|             72.0|             null|      null|                    null|null|             73.0|              null|             null|   null|             null|             null|             null|null|   75.0|             null|             80.0|             null|             null|              null|             null|             null|       null|             70.0|             null|   null|             null|    null|             null|         null|null|             78.0|             null| null|  null|             null|             73.6|             77.0|             null|   null|null|     null|  null|             null|  null|             null|    null|     null|             null|             81.0|             null|     null|             null|             null|  null|             75.8|             null|             null|           66.625|  null|      null| null|     58.0|70.66666666666667|             73.0|  null|  null|   null|   null| null|         null|     68.0|      null|             null|             null| null|      null|     null|             75.0|   null|             null|      null|             null|      null|   68.0|             null|         null|             null|     null| null|             null|             null|             74.0|null|     null|             null|             null|75.0|       null|             88.0|             null|       null| null|               null|             null|             78.0|  null|                 null|              null|             71.0|             null|             null|        null|             null|             null|             null|       null|            79.25|          null|    null| null|    null|            70.25|             null| null|    null|    null|             null|             null|   null|             75.0|  null|             null|                null|             71.0|             null|      null|             null|             null|  null|             71.0|                       88.0|\n",
            "|      RM|       null|             64.0|            74.75|   null|             68.0|             null| 73.2741935483871|   83.0|70.53846153846153|70.30434782608695|      null|    null|   null|74.26666666666667|  null|             68.0|   null|   72.0|              76.0|    null|75.30434782608695|    71.5|             77.5|   null|             70.5|             74.5|      null|                    null|null|72.18181818181819|          65.03125|70.65384615384616|   null|             null|             75.5|76.66666666666667|null|   70.0|             null|             77.0|             72.5|69.18181818181819|              null|             76.0|             82.0|       65.0|69.94782608695652|             null|   null|             63.0|    null|             64.5|         65.5|null|             73.8|74.77551020408163| 68.0|  76.0|             76.0|70.85227272727273|             71.6|76.42857142857143|   null|null|     null|  73.0|             null|  null|             70.0|    78.5|     null|             71.0|             77.5|             67.0|     null|74.33333333333333|             null|  null|73.37037037037037|             81.5|             66.0| 66.8108108108108|  null|      null| null|     null|          68.4375|             70.5|  null|  null|   null|   null| null|         66.0|     71.0|      null|             null|             73.0| null|      null|     null|            72.28|   null|             74.5|      null|             74.8|      null|   null|71.78947368421052|         null|             76.0|     null| 66.0|             77.0|69.85714285714286|           69.125|null|     66.0|             70.5|76.33333333333333|73.0|       null|         68.28125|            76.36|       null| null|               66.7|72.16666666666667|             70.5|  null|                 null| 66.33333333333333|72.42105263157895|             80.2|             69.6|        null|             75.0|             70.6|             66.0|       null|74.86585365853658|          null|    null| 66.0|    null|             70.0|71.41666666666667| 72.0|    null|    68.0|76.66666666666667|             null|   70.0|73.57142857142857|  68.0|             77.5|                null|            72.75|69.57142857142857|      null|73.14285714285714|71.11111111111111|  null|             null|                       83.0|\n",
            "|     LAM|       null|             null|             null|   null|             null|             null|             null|   null|             null|             null|      null|    null|   null|             null|  null|             null|   null|   null|              null|    null|71.46153846153847|    null|             null|   null|             null|             null|      null|                    null|null|             null|              null|             81.0|   null|             null|             null|             null|null|   null|             null|             null|             null|             null|              null|             null|             null|       null|             null|             null|   null|             null|    null|             null|         null|null|             null|             null| null|  null|             null|             70.0|             null|             null|   null|null|     null|  null|             null|  null|             null|    null|     null|             null|             null|             null|     null|             null|             null|  null|             null|             null|             null|             69.0|  null|      null| null|     null|             null|             null|  null|  null|   null|   null| null|         null|     null|      null|             null|             null| null|      null|     null|             null|   null|             null|      null|             null|      null|   null|             null|         null|             null|     null| null|             null|             null|             null|null|     null|             null|             null|null|       null|             null|             null|       null| null|               null|             null|             null|  null|                 null|              null|             null|             null|             81.0|        null|             null|             null|             null|       null|             null|          null|    null| null|    null|             null|             null| null|    null|    null|             null|             null|   null|             null|  null|             null|                null|             null|             68.0|      null|             null|             null|  75.0|             null|                       81.0|\n",
            "|     LDM|       null|72.66666666666667|             73.0|   null|             null|             null|           73.375|   null|             70.5|             75.5|      null|    null|   null|             75.5|  null|             71.0|   null|   null|             72.25|    null|            74.16|    57.0|             null|   65.0|             null|             null|      71.0|                    71.0|null|            71.25|              60.0|70.81818181818181|   null|             null|             77.0|             84.0|null|   null|             null|             74.0|             null|             69.5|              null|             null|             67.0|       null|70.15384615384616|             null|   null|             null|    null|             83.0|         null|null|             null|74.76470588235294| null|  null|             71.0|71.52173913043478|             76.0|             75.0|   null|null|     null|  82.0|             null|  null|             null|    68.0|     null|             null|             null|             null|     null|             null|             null|  73.0|             70.0|            76.75|             null|             70.0|  null|      null| null|     null|             68.0|             null|  70.0|  null|   null|   null| null|         null|     null|      78.0|             null|             75.0| null|      null|     null|             71.6|   null|             null|      null|             null|      null|   null|78.66666666666667|         null|             null|     null| null|             79.5|             null|             71.0|null|     null|             70.0|             71.0|73.0|       null|67.88888888888889|74.42857142857143|       null| null|               65.6|             73.0|             86.0|  null|                 null| 68.85714285714286|             69.5|             null|             70.0|        null|             76.0|             68.0|             67.0|       null|70.41666666666667|          null|    null| null|    null|             66.0|             81.5| null|    null|    null|             null|             null|   null|            72.75|  null|             77.0|                null|73.33333333333333|             null|      null|             null|             86.0|  null|             null|                       86.0|\n",
            "|      ST|       null|            72.25|            73.75|   null|75.66666666666667|             63.0|           72.928|   70.0|            67.44|68.62962962962963|      67.0|    null|   70.0|75.33333333333333|  null|67.66666666666667|   70.0|   71.0| 72.85714285714286|    null|71.56756756756756|    70.5|67.33333333333333|   null|73.86666666666666|72.28571428571429|      75.0|                    null|78.0|70.10416666666667|          63.46875|70.89189189189189|   null|            71.25|            68.25|72.26666666666667|null|   69.5|             65.0|70.88888888888889| 71.9090909090909|69.91304347826087|              85.0|             75.0|             72.0|       null| 69.5575221238938|             null|   65.0|             null|    null|             74.0|         null|null|70.83333333333333|72.45283018867924| 72.0|  79.5|69.66666666666667|           71.125| 75.0909090909091|73.35714285714286|   null|null|     null|  70.5|73.33333333333333|  null|69.66666666666667|    75.0|     null|            72.25|             70.0|             58.5|     null|             75.0|             null|  70.0|            72.75|73.44444444444444|             67.0|67.27272727272727|  null|      null| 74.0|     77.0|68.36111111111111|           69.125|  null|  78.0|   null|   73.0| null|         null|     77.0|      null|             67.0|70.33333333333333| null|      null|     null|72.31428571428572|   79.0|74.66666666666667|      null|71.72727272727273|      null|   null| 73.6829268292683|         null|             70.0|     null| 71.0|73.02941176470588|69.76923076923077| 68.2439024390244|null|     null|68.66666666666667|71.04347826086956|74.0|       null|           69.425|74.66666666666667|       null| null|  66.18604651162791|             73.0|             75.6|  null|                 72.0|              67.1|70.19444444444444|72.27272727272727|73.14285714285714|       72.25|            72.75|70.28571428571429|71.66666666666667|       63.0|73.95412844036697|          62.0|    null| 72.0|    null|69.40816326530613|74.58333333333333| 80.0|    75.0|    null|             73.5|             null|   69.2|72.04166666666667|  null|73.58333333333333|                null|71.08108108108108|            74.55|      null|72.16666666666667|69.93333333333334| 74.25|70.66666666666667|                       85.0|\n",
            "+--------+-----------+-----------------+-----------------+-------+-----------------+-----------------+-----------------+-------+-----------------+-----------------+----------+--------+-------+-----------------+------+-----------------+-------+-------+------------------+--------+-----------------+--------+-----------------+-------+-----------------+-----------------+----------+------------------------+----+-----------------+------------------+-----------------+-------+-----------------+-----------------+-----------------+----+-------+-----------------+-----------------+-----------------+-----------------+------------------+-----------------+-----------------+-----------+-----------------+-----------------+-------+-----------------+--------+-----------------+-------------+----+-----------------+-----------------+-----+------+-----------------+-----------------+-----------------+-----------------+-------+----+---------+------+-----------------+------+-----------------+--------+---------+-----------------+-----------------+-----------------+---------+-----------------+-----------------+------+-----------------+-----------------+-----------------+-----------------+------+----------+-----+---------+-----------------+-----------------+------+------+-------+-------+-----+-------------+---------+----------+-----------------+-----------------+-----+----------+---------+-----------------+-------+-----------------+----------+-----------------+----------+-------+-----------------+-------------+-----------------+---------+-----+-----------------+-----------------+-----------------+----+---------+-----------------+-----------------+----+-----------+-----------------+-----------------+-----------+-----+-------------------+-----------------+-----------------+------+---------------------+------------------+-----------------+-----------------+-----------------+------------+-----------------+-----------------+-----------------+-----------+-----------------+--------------+--------+-----+--------+-----------------+-----------------+-----+--------+--------+-----------------+-----------------+-------+-----------------+------+-----------------+--------------------+-----------------+-----------------+----------+-----------------+-----------------+------+-----------------+---------------------------+\n",
            "\n"
          ],
          "name": "stdout"
        }
      ]
    },
    {
      "cell_type": "markdown",
      "metadata": {
        "id": "JYdhhRLxJ7Q_"
      },
      "source": [
        "Finding the name of countries with highest average potential for each position is better for understanding. So, we discover the countries having players with highest average potential in each position.  "
      ]
    },
    {
      "cell_type": "code",
      "metadata": {
        "colab": {
          "base_uri": "https://localhost:8080/"
        },
        "id": "NOWiSBYZccXs",
        "outputId": "3e0798de-bd32-47c2-f168-1952e283988b"
      },
      "source": [
        "from pyspark.sql import types as T\n",
        "from pyspark.sql import functions as F\n",
        "from pyspark.sql.window import Window as W\n",
        "\n",
        "# creating a dataframe with a column whose values contain an array of country name and average potential value\n",
        "pdf = pivot_df.withColumn('Maximum_Avg_Potential',F.explode( \\\n",
        "        F.array([F.array([F.lit(cols), F.col(cols)]) for cols in pivot_df.columns[1:]])))\n",
        "\n",
        "# creating a dataframe such that the country name and avg potential values are separated in two columns\n",
        "pdf = pdf.select('Position', F.col('Maximum_Avg_Potential').getItem(0).alias('Country'), \\\n",
        "                 F.col('Maximum_Avg_Potential').getItem(1).cast(T.IntegerType()).alias('Avg_Potential'))\n",
        "\n",
        "# creating a rank based on average potential for each position in descending order\n",
        "pdf = pdf.withColumn('Rank', F.rank().over(W.partitionBy('Position').orderBy(F.col('Avg_Potential').desc())))\n",
        "\n",
        "# selecting rows with rank equal to 1 and this gives the maximum average potential value \n",
        "pdf.where('Rank=1').show(pdf.count())"
      ],
      "execution_count": 18,
      "outputs": [
        {
          "output_type": "stream",
          "text": [
            "+--------+--------------------+-------------+----+\n",
            "|Position|             Country|Avg_Potential|Rank|\n",
            "+--------+--------------------+-------------+----+\n",
            "|      RF|           Argentina|           87|   1|\n",
            "|     LWB|            Portugal|           82|   1|\n",
            "|     LCM|            Slovakia|           87|   1|\n",
            "|      LM|               Gabon|           82|   1|\n",
            "|     RDM|      Czech Republic|           83|   1|\n",
            "|      LF|             Belgium|           86|   1|\n",
            "|     CAM|            Slovakia|           80|   1|\n",
            "|     RAM|             Morocco|           86|   1|\n",
            "|      LB|             Ukraine|           76|   1|\n",
            "|      LW|        Burkina Faso|           84|   1|\n",
            "|     RCM|                Mali|           84|   1|\n",
            "|      GK|             Nigeria|           82|   1|\n",
            "|      RB|              Panama|           80|   1|\n",
            "|      RS|            Cameroon|           81|   1|\n",
            "|     LCB|              Gambia|           81|   1|\n",
            "|      CM|Central African R...|           85|   1|\n",
            "|      RW|              Kosovo|           83|   1|\n",
            "|      RW|              Serbia|           83|   1|\n",
            "|     RCB|             Hungary|           81|   1|\n",
            "|     CDM|  Bosnia Herzegovina|           82|   1|\n",
            "|      LS|              Serbia|           86|   1|\n",
            "|      CB|              Angola|           79|   1|\n",
            "|      CB|              Gambia|           79|   1|\n",
            "|     RWB|             Algeria|           82|   1|\n",
            "|      CF|              Poland|           88|   1|\n",
            "|      RM|             Armenia|           83|   1|\n",
            "|     LAM|            Colombia|           81|   1|\n",
            "|     LAM|              Serbia|           81|   1|\n",
            "|     LDM|              Russia|           86|   1|\n",
            "|     LDM|               Wales|           86|   1|\n",
            "|      ST|  Dominican Republic|           85|   1|\n",
            "+--------+--------------------+-------------+----+\n",
            "\n"
          ],
          "name": "stdout"
        }
      ]
    },
    {
      "cell_type": "markdown",
      "metadata": {
        "id": "3p5AJ1K8Ms7I"
      },
      "source": [
        "The most interesting finding from the above dataframe is that Dominican Republic has highest average potential for the striker position. It is well known that unlike European, South American or African continent, players from other continents rarely make it to the big stage. So, it can be assumed that player is an outlier, and is among the few players with highest ratings in that country. Not many scouts might be well aware about that striker. It is good to observe that player's game and see if we can sign that player and make one of the prospects in football."
      ]
    },
    {
      "cell_type": "code",
      "metadata": {
        "id": "36gWXTEJnAjH"
      },
      "source": [
        "from pyspark.sql import SQLContext\n",
        "sqlContext = SQLContext(spark)\n",
        "\n",
        "#df_view = 'soccer_analysis'\n",
        "df.createOrReplaceTempView('soccer_analysis')"
      ],
      "execution_count": 29,
      "outputs": []
    },
    {
      "cell_type": "code",
      "metadata": {
        "colab": {
          "base_uri": "https://localhost:8080/"
        },
        "id": "m56xI09nngnG",
        "outputId": "a1105c38-efd6-42b0-efde-0623aad7d8fe"
      },
      "source": [
        "# viewing the players from Dominican Republic\n",
        "spark.sql(\"\"\"\n",
        "          Select * from soccer_analysis where Nationality = 'Dominican Republic'\n",
        "          \"\"\").show()"
      ],
      "execution_count": 35,
      "outputs": [
        {
          "output_type": "stream",
          "text": [
            "+------+----------+---+--------------------+------------------+--------------------+-------+---------+-----------+--------------------+--------+-------+-------+--------------+------------------------+---------+-----------+------------+---------+---------+--------+-------------+------------+-----------+--------------------+------+----------+------+----------+--------+---------+---------------+------------+-------+---------+-----+----------+-----------+-----------+------------+-----------+-------+---------+-------+---------+-------+-------+--------+---------+----------+-------------+-----------+------+---------+---------+-------+--------------+-------------+--------+----------+---------+-------------+----------+-----------------+-------+---------+---------+\n",
            "|    ID|      Name|Age|               Photo|       Nationality|                Flag|Overall|Potential|       Club|           Club Logo|value(M)|wage(K)|Special|Preferred Foot|International Reputation|Weak Foot|Skill Moves|   Work Rate|Body Type|Real Face|Position|Jersey Number|      Joined|Loaned From|Contract Valid Until|Height|Height(CM)|Weight|Weight(KG)|Crossing|Finishing|HeadingAccuracy|ShortPassing|Volleys|Dribbling|Curve|FKAccuracy|LongPassing|BallControl|Acceleration|SprintSpeed|Agility|Reactions|Balance|ShotPower|Jumping|Stamina|Strength|LongShots|Aggression|Interceptions|Positioning|Vision|Penalties|Composure|Marking|StandingTackle|SlidingTackle|GKDiving|GKHandling|GKKicking|GKPositioning|GKReflexes|Release Clause(M)|overall|potential|value_eur|\n",
            "+------+----------+---+--------------------+------------------+--------------------+-------+---------+-----------+--------------------+--------+-------+-------+--------------+------------------------+---------+-----------+------------+---------+---------+--------+-------------+------------+-----------+--------------------+------+----------+------+----------+--------+---------+---------------+------------+-------+---------+-----+----------+-----------+-----------+------------+-----------+-------+---------+-------+---------+-------+-------+--------+---------+----------+-------------+-----------+------+---------+---------+-------+--------------+-------------+--------+----------+---------+-------------+----------+-----------------+-------+---------+---------+\n",
            "|221639|   Mariano| 24|https://cdn.sofif...|Dominican Republic|https://cdn.sofif...|     80|       85|Real Madrid|https://cdn.sofif...|      20|    140|   2041|         Right|                       1|        4|          3|High/ Medium|   Normal|       No|      ST|            7|Aug 29, 2018|       null|                2023|  5.11|  155.7528| 168.0| 76.203456|      50|       81|             82|          69|     70|       75|   76|        76|         51|         72|          84|         85|     79|       82|     72|       85|     92|     81|      79|       82|        86|           45|         79|    63|       75|       68|     41|            40|           34|      12|        14|        6|            8|        15|             42.5|     77|       78| 10500000|\n",
            "|243314|L. Quezada| 22|https://cdn.sofif...|Dominican Republic|https://cdn.sofif...|     64|       76|C��rdoba CF|https://cdn.sofif...|    800K|      2|   1653|          Left|                       1|        3|          2|Medium/ High|   Normal|       No|      LM|           32| Jul 1, 2015|       null|                2019|   5.7|   173.736| 146.0| 66.224432|      75|       56|             51|          61|     44|       60|   42|        51|         59|         65|          71|         72|     64|       58|     79|       66|     47|     62|      52|       63|        54|           45|         61|    54|       45|       42|     46|            47|           53|      10|         7|       12|           13|         8|              1.4|   null|     null|     null|\n",
            "+------+----------+---+--------------------+------------------+--------------------+-------+---------+-----------+--------------------+--------+-------+-------+--------------+------------------------+---------+-----------+------------+---------+---------+--------+-------------+------------+-----------+--------------------+------+----------+------+----------+--------+---------+---------------+------------+-------+---------+-----+----------+-----------+-----------+------------+-----------+-------+---------+-------+---------+-------+-------+--------+---------+----------+-------------+-----------+------+---------+---------+-------+--------------+-------------+--------+----------+---------+-------------+----------+-----------------+-------+---------+---------+\n",
            "\n"
          ],
          "name": "stdout"
        }
      ]
    },
    {
      "cell_type": "code",
      "metadata": {
        "colab": {
          "base_uri": "https://localhost:8080/"
        },
        "id": "EUL3xOGTW2D4",
        "outputId": "55205494-86be-430c-c86e-13e27cef7126"
      },
      "source": [
        "# viewing the players from Dominican Republic\n",
        "df.filter(df.Nationality == 'Dominican Republic').show()"
      ],
      "execution_count": 19,
      "outputs": [
        {
          "output_type": "stream",
          "text": [
            "+------+----------+---+--------------------+------------------+--------------------+-------+---------+-----------+--------------------+--------+-------+-------+--------------+------------------------+---------+-----------+------------+---------+---------+--------+-------------+------------+-----------+--------------------+------+----------+------+----------+--------+---------+---------------+------------+-------+---------+-----+----------+-----------+-----------+------------+-----------+-------+---------+-------+---------+-------+-------+--------+---------+----------+-------------+-----------+------+---------+---------+-------+--------------+-------------+--------+----------+---------+-------------+----------+-----------------+-------+---------+---------+\n",
            "|    ID|      Name|Age|               Photo|       Nationality|                Flag|Overall|Potential|       Club|           Club Logo|value(M)|wage(K)|Special|Preferred Foot|International Reputation|Weak Foot|Skill Moves|   Work Rate|Body Type|Real Face|Position|Jersey Number|      Joined|Loaned From|Contract Valid Until|Height|Height(CM)|Weight|Weight(KG)|Crossing|Finishing|HeadingAccuracy|ShortPassing|Volleys|Dribbling|Curve|FKAccuracy|LongPassing|BallControl|Acceleration|SprintSpeed|Agility|Reactions|Balance|ShotPower|Jumping|Stamina|Strength|LongShots|Aggression|Interceptions|Positioning|Vision|Penalties|Composure|Marking|StandingTackle|SlidingTackle|GKDiving|GKHandling|GKKicking|GKPositioning|GKReflexes|Release Clause(M)|overall|potential|value_eur|\n",
            "+------+----------+---+--------------------+------------------+--------------------+-------+---------+-----------+--------------------+--------+-------+-------+--------------+------------------------+---------+-----------+------------+---------+---------+--------+-------------+------------+-----------+--------------------+------+----------+------+----------+--------+---------+---------------+------------+-------+---------+-----+----------+-----------+-----------+------------+-----------+-------+---------+-------+---------+-------+-------+--------+---------+----------+-------------+-----------+------+---------+---------+-------+--------------+-------------+--------+----------+---------+-------------+----------+-----------------+-------+---------+---------+\n",
            "|221639|   Mariano| 24|https://cdn.sofif...|Dominican Republic|https://cdn.sofif...|     80|       85|Real Madrid|https://cdn.sofif...|      20|    140|   2041|         Right|                       1|        4|          3|High/ Medium|   Normal|       No|      ST|            7|Aug 29, 2018|       null|                2023|  5.11|  155.7528| 168.0| 76.203456|      50|       81|             82|          69|     70|       75|   76|        76|         51|         72|          84|         85|     79|       82|     72|       85|     92|     81|      79|       82|        86|           45|         79|    63|       75|       68|     41|            40|           34|      12|        14|        6|            8|        15|             42.5|     77|       78| 10500000|\n",
            "|243314|L. Quezada| 22|https://cdn.sofif...|Dominican Republic|https://cdn.sofif...|     64|       76|C��rdoba CF|https://cdn.sofif...|    800K|      2|   1653|          Left|                       1|        3|          2|Medium/ High|   Normal|       No|      LM|           32| Jul 1, 2015|       null|                2019|   5.7|   173.736| 146.0| 66.224432|      75|       56|             51|          61|     44|       60|   42|        51|         59|         65|          71|         72|     64|       58|     79|       66|     47|     62|      52|       63|        54|           45|         61|    54|       45|       42|     46|            47|           53|      10|         7|       12|           13|         8|              1.4|   null|     null|     null|\n",
            "+------+----------+---+--------------------+------------------+--------------------+-------+---------+-----------+--------------------+--------+-------+-------+--------------+------------------------+---------+-----------+------------+---------+---------+--------+-------------+------------+-----------+--------------------+------+----------+------+----------+--------+---------+---------------+------------+-------+---------+-----+----------+-----------+-----------+------------+-----------+-------+---------+-------+---------+-------+-------+--------+---------+----------+-------------+-----------+------+---------+---------+-------+--------------+-------------+--------+----------+---------+-------------+----------+-----------------+-------+---------+---------+\n",
            "\n"
          ],
          "name": "stdout"
        }
      ]
    },
    {
      "cell_type": "markdown",
      "metadata": {
        "id": "2adfMJs-XCTG"
      },
      "source": [
        "It is seen that there are only two players from Dominican Republic in the FIFA 2019 database. And, the player with highest potential as a striker is Mariano who is 24 years old. Since, he has already signed for one of the top clubs in Europe, it is hard to lure him away from the club. The release clause of 42.5 millions is moderate considering the current market in 2019. "
      ]
    },
    {
      "cell_type": "markdown",
      "metadata": {
        "id": "IHYPcucDxW42"
      },
      "source": [
        "Finding the position with highest average potential for Australia: "
      ]
    },
    {
      "cell_type": "code",
      "metadata": {
        "colab": {
          "base_uri": "https://localhost:8080/"
        },
        "id": "8a1XDPhHpMZ7",
        "outputId": "809ab12d-badd-4635-9ef2-3f376d01ce97"
      },
      "source": [
        "# selecting the highest average Potential along with the position for Australia\n",
        "pivot_df.createOrReplaceTempView('pivot_soccer_analysis')\n",
        "spark.sql(\"\"\"\n",
        "          Select Position, Australia from pivot_soccer_analysis Order By Australia Desc Limit 1\n",
        "          \"\"\").show(30)"
      ],
      "execution_count": 42,
      "outputs": [
        {
          "output_type": "stream",
          "text": [
            "+--------+---------+\n",
            "|Position|Australia|\n",
            "+--------+---------+\n",
            "|     RDM|     77.0|\n",
            "+--------+---------+\n",
            "\n"
          ],
          "name": "stdout"
        }
      ]
    },
    {
      "cell_type": "code",
      "metadata": {
        "id": "iMf63jvdxW42",
        "colab": {
          "base_uri": "https://localhost:8080/"
        },
        "outputId": "f0ed8595-0ecb-4b1a-be2c-888b60c560f0"
      },
      "source": [
        "# selecting the highest average Potential along with the position for Australia\n",
        "pivot_df.orderBy(pivot_df['Australia'].desc())['Position','Australia'].first()"
      ],
      "execution_count": 39,
      "outputs": [
        {
          "output_type": "execute_result",
          "data": {
            "text/plain": [
              "Row(Position='RDM', Australia=77.0)"
            ]
          },
          "metadata": {
            "tags": []
          },
          "execution_count": 39
        }
      ]
    },
    {
      "cell_type": "code",
      "metadata": {
        "colab": {
          "base_uri": "https://localhost:8080/"
        },
        "id": "mOBa4ZW-qkfR",
        "outputId": "4cc5a8ea-4292-4fba-ae90-94782cfea320"
      },
      "source": [
        "# finding the name of the Australian player with highest average potential \n",
        "spark.sql(\"\"\"\n",
        "          Select * from soccer_analysis Where Nationality = 'Australia' And Position = 'RDM'\n",
        "          \"\"\").show()"
      ],
      "execution_count": 43,
      "outputs": [
        {
          "output_type": "stream",
          "text": [
            "+------+---------+---+--------------------+-----------+--------------------+-------+---------+-------------------+--------------------+--------+-------+-------+--------------+------------------------+---------+-----------+------------+---------+---------+--------+-------------+------------+-----------+--------------------+------+----------+------+----------+--------+---------+---------------+------------+-------+---------+-----+----------+-----------+-----------+------------+-----------+-------+---------+-------+---------+-------+-------+--------+---------+----------+-------------+-----------+------+---------+---------+-------+--------------+-------------+--------+----------+---------+-------------+----------+-----------------+-------+---------+---------+\n",
            "|    ID|     Name|Age|               Photo|Nationality|                Flag|Overall|Potential|               Club|           Club Logo|value(M)|wage(K)|Special|Preferred Foot|International Reputation|Weak Foot|Skill Moves|   Work Rate|Body Type|Real Face|Position|Jersey Number|      Joined|Loaned From|Contract Valid Until|Height|Height(CM)|Weight|Weight(KG)|Crossing|Finishing|HeadingAccuracy|ShortPassing|Volleys|Dribbling|Curve|FKAccuracy|LongPassing|BallControl|Acceleration|SprintSpeed|Agility|Reactions|Balance|ShotPower|Jumping|Stamina|Strength|LongShots|Aggression|Interceptions|Positioning|Vision|Penalties|Composure|Marking|StandingTackle|SlidingTackle|GKDiving|GKHandling|GKKicking|GKPositioning|GKReflexes|Release Clause(M)|overall|potential|value_eur|\n",
            "+------+---------+---+--------------------+-----------+--------------------+-------+---------+-------------------+--------------------+--------+-------+-------+--------------+------------------------+---------+-----------+------------+---------+---------+--------+-------------+------------+-----------+--------------------+------+----------+------+----------+--------+---------+---------------+------------+-------+---------+-----+----------+-----------+-----------+------------+-----------+-------+---------+-------+---------+-------+-------+--------+---------+----------+-------------+-----------+------+---------+---------+-------+--------------+-------------+--------+----------+---------+-------------+----------+-----------------+-------+---------+---------+\n",
            "|205347|M. Luongo| 25|https://cdn.sofif...|  Australia|https://cdn.sofif...|     74|       77|Queens Park Rangers|https://cdn.sofif...|       6|      9|   1960|         Right|                       1|        3|          3|Medium/ High|   Normal|       No|     RDM|            8|May 28, 2015|       null|                2020|   5.9|   179.832| 168.0| 76.203456|      51|       63|             59|          71|     46|       74|   49|        46|         68|         72|          73|         74|     79|       72|     76|       69|     84|     92|      72|       63|        76|           72|         65|    70|       52|       63|     64|            77|           74|      15|        13|        9|           14|         6|             11.9|     71|       73|  2500000|\n",
            "+------+---------+---+--------------------+-----------+--------------------+-------+---------+-------------------+--------------------+--------+-------+-------+--------------+------------------------+---------+-----------+------------+---------+---------+--------+-------------+------------+-----------+--------------------+------+----------+------+----------+--------+---------+---------------+------------+-------+---------+-----+----------+-----------+-----------+------------+-----------+-------+---------+-------+---------+-------+-------+--------+---------+----------+-------------+-----------+------+---------+---------+-------+--------------+-------------+--------+----------+---------+-------------+----------+-----------------+-------+---------+---------+\n",
            "\n"
          ],
          "name": "stdout"
        }
      ]
    },
    {
      "cell_type": "code",
      "metadata": {
        "colab": {
          "base_uri": "https://localhost:8080/"
        },
        "id": "XdQtvJxkUXgX",
        "outputId": "99c6f6b9-5472-44c7-cb6c-0fc10107c982"
      },
      "source": [
        "# finding the name of the Australian player with highest average potential \n",
        "df.filter((df.Nationality == 'Australia') & (df.Position == 'RDM')).show()"
      ],
      "execution_count": 21,
      "outputs": [
        {
          "output_type": "stream",
          "text": [
            "+------+---------+---+--------------------+-----------+--------------------+-------+---------+-------------------+--------------------+--------+-------+-------+--------------+------------------------+---------+-----------+------------+---------+---------+--------+-------------+------------+-----------+--------------------+------+----------+------+----------+--------+---------+---------------+------------+-------+---------+-----+----------+-----------+-----------+------------+-----------+-------+---------+-------+---------+-------+-------+--------+---------+----------+-------------+-----------+------+---------+---------+-------+--------------+-------------+--------+----------+---------+-------------+----------+-----------------+-------+---------+---------+\n",
            "|    ID|     Name|Age|               Photo|Nationality|                Flag|Overall|Potential|               Club|           Club Logo|value(M)|wage(K)|Special|Preferred Foot|International Reputation|Weak Foot|Skill Moves|   Work Rate|Body Type|Real Face|Position|Jersey Number|      Joined|Loaned From|Contract Valid Until|Height|Height(CM)|Weight|Weight(KG)|Crossing|Finishing|HeadingAccuracy|ShortPassing|Volleys|Dribbling|Curve|FKAccuracy|LongPassing|BallControl|Acceleration|SprintSpeed|Agility|Reactions|Balance|ShotPower|Jumping|Stamina|Strength|LongShots|Aggression|Interceptions|Positioning|Vision|Penalties|Composure|Marking|StandingTackle|SlidingTackle|GKDiving|GKHandling|GKKicking|GKPositioning|GKReflexes|Release Clause(M)|overall|potential|value_eur|\n",
            "+------+---------+---+--------------------+-----------+--------------------+-------+---------+-------------------+--------------------+--------+-------+-------+--------------+------------------------+---------+-----------+------------+---------+---------+--------+-------------+------------+-----------+--------------------+------+----------+------+----------+--------+---------+---------------+------------+-------+---------+-----+----------+-----------+-----------+------------+-----------+-------+---------+-------+---------+-------+-------+--------+---------+----------+-------------+-----------+------+---------+---------+-------+--------------+-------------+--------+----------+---------+-------------+----------+-----------------+-------+---------+---------+\n",
            "|205347|M. Luongo| 25|https://cdn.sofif...|  Australia|https://cdn.sofif...|     74|       77|Queens Park Rangers|https://cdn.sofif...|       6|      9|   1960|         Right|                       1|        3|          3|Medium/ High|   Normal|       No|     RDM|            8|May 28, 2015|       null|                2020|   5.9|   179.832| 168.0| 76.203456|      51|       63|             59|          71|     46|       74|   49|        46|         68|         72|          73|         74|     79|       72|     76|       69|     84|     92|      72|       63|        76|           72|         65|    70|       52|       63|     64|            77|           74|      15|        13|        9|           14|         6|             11.9|     71|       73|  2500000|\n",
            "+------+---------+---+--------------------+-----------+--------------------+-------+---------+-------------------+--------------------+--------+-------+-------+--------------+------------------------+---------+-----------+------------+---------+---------+--------+-------------+------------+-----------+--------------------+------+----------+------+----------+--------+---------+---------------+------------+-------+---------+-----+----------+-----------+-----------+------------+-----------+-------+---------+-------+---------+-------+-------+--------+---------+----------+-------------+-----------+------+---------+---------+-------+--------------+-------------+--------+----------+---------+-------------+----------+-----------------+-------+---------+---------+\n",
            "\n"
          ],
          "name": "stdout"
        }
      ]
    },
    {
      "cell_type": "markdown",
      "metadata": {
        "id": "uAKqlL0qzkpe"
      },
      "source": [
        "Finding the under 20 players with the highest and worst potential"
      ]
    },
    {
      "cell_type": "code",
      "metadata": {
        "colab": {
          "base_uri": "https://localhost:8080/"
        },
        "id": "PZtgwjLHrSqX",
        "outputId": "38200511-7197-4362-ae85-dd774b398f00"
      },
      "source": [
        "# filtering the dataset based on age (under 20) and then arranging the overall in descending order\n",
        "spark.sql(\"\"\"\n",
        "          Select * from soccer_analysis Where Age < 20 Order By Overall Desc\n",
        "          \"\"\").show()"
      ],
      "execution_count": 44,
      "outputs": [
        {
          "output_type": "stream",
          "text": [
            "+------+-------------------+---+--------------------+-------------+--------------------+-------+---------+--------------------+--------------------+--------+-------+-------+--------------+------------------------+---------+-----------+--------------+---------+---------+--------+-------------+------------+-----------+--------------------+------+----------+------+----------+--------+---------+---------------+------------+-------+---------+-----+----------+-----------+-----------+------------+-----------+-------+---------+-------+---------+-------+-------+--------+---------+----------+-------------+-----------+------+---------+---------+-------+--------------+-------------+--------+----------+---------+-------------+----------+-----------------+-------+---------+---------+\n",
            "|    ID|               Name|Age|               Photo|  Nationality|                Flag|Overall|Potential|                Club|           Club Logo|value(M)|wage(K)|Special|Preferred Foot|International Reputation|Weak Foot|Skill Moves|     Work Rate|Body Type|Real Face|Position|Jersey Number|      Joined|Loaned From|Contract Valid Until|Height|Height(CM)|Weight|Weight(KG)|Crossing|Finishing|HeadingAccuracy|ShortPassing|Volleys|Dribbling|Curve|FKAccuracy|LongPassing|BallControl|Acceleration|SprintSpeed|Agility|Reactions|Balance|ShotPower|Jumping|Stamina|Strength|LongShots|Aggression|Interceptions|Positioning|Vision|Penalties|Composure|Marking|StandingTackle|SlidingTackle|GKDiving|GKHandling|GKKicking|GKPositioning|GKReflexes|Release Clause(M)|overall|potential|value_eur|\n",
            "+------+-------------------+---+--------------------+-------------+--------------------+-------+---------+--------------------+--------------------+--------+-------+-------+--------------+------------------------+---------+-----------+--------------+---------+---------+--------+-------------+------------+-----------+--------------------+------+----------+------+----------+--------+---------+---------------+------------+-------+---------+-----+----------+-----------+-----------+------------+-----------+-------+---------+-------+---------+-------+-------+--------+---------+----------+-------------+-----------+------+---------+---------+-------+--------------+-------------+--------+----------+---------+-------------+----------+-----------------+-------+---------+---------+\n",
            "|231747|         K. Mbapp��| 19|https://cdn.sofif...|       France|https://cdn.sofif...|     88|       95| Paris Saint-Germain|https://cdn.sofif...|      81|    100|   2118|         Right|                       3|        4|          5|  High/ Medium|     Lean|      Yes|      RM|           10| Jul 1, 2018|       null|                2022|   5.1|   155.448| 161.0| 73.028312|      77|       88|             77|          82|     78|       90|   77|        63|         73|         91|          96|         96|     92|       87|     83|       79|     75|     83|      71|       78|        62|           38|         88|    82|       70|       86|     34|            34|           32|      13|         5|        7|           11|         6|            166.1|     90|       95|105500000|\n",
            "|230621|      G. Donnarumma| 19|https://cdn.sofif...|        Italy|https://cdn.sofif...|     82|       93|               Milan|https://cdn.sofif...|      29|     23|   1278|         Right|                       3|        3|          1|Medium/ Medium|   Normal|      Yes|      GK|           22| Jul 1, 2015|       null|                2021|   6.5|    198.12| 198.0| 89.811216|      12|       12|             12|          34|      8|       28|   12|        14|         24|         28|          46|         54|     64|       74|     38|       24|     72|     34|      72|       18|        30|           26|         14|    50|       24|       68|     20|            14|           16|      88|        78|       72|           78|        88|             55.1|     85|       92| 41500000|\n",
            "|235243|         M. de Ligt| 18|https://cdn.sofif...|  Netherlands|https://cdn.sofif...|     82|       91|                Ajax|https://cdn.sofif...|      27|     11|   1937|         Right|                       2|        4|          2|Medium/ Medium|   Normal|      Yes|     RCB|            3|Oct 24, 2016|       null|                2021|   6.2|   188.976| 196.0| 88.904032|      57|       53|             81|          75|     40|       65|   48|        55|         72|         73|          62|         72|     56|       77|     59|       79|     80|     74|      87|       64|        79|           79|         44|    63|       40|       77|     84|            84|           79|      12|        11|       11|           12|        10|             43.2|     85|       92| 49500000|\n",
            "|235790|         K. Havertz| 19|https://cdn.sofif...|      Germany|https://cdn.sofif...|     80|       89| Bayer 04 Leverkusen|https://cdn.sofif...|      22|     32|   1876|          Left|                       1|        5|          4|Medium/ Medium|     Lean|       No|     CAM|           29| Jul 1, 2016|       null|                2022|   6.2|   188.976| 183.0| 83.007336|      69|       72|             65|          82|     71|       81|   65|        53|         73|         83|          77|         86|     78|       78|     71|       66|     69|     73|      61|       66|        40|           32|         78|    83|       49|       80|     28|            42|           38|       6|         8|       11|           10|        12|             41.8|     85|       93| 57000000|\n",
            "|227796|         C. Pulisic| 19|https://cdn.sofif...|United States|https://cdn.sofif...|     79|       87|   Borussia Dortmund|https://cdn.sofif...|      18|     26|   1925|         Right|                       3|        4|          4|Medium/ Medium|     Lean|      Yes|      RM|           10| Jan 5, 2016|       null|                2020|   5.1|   155.448| 152.0| 68.945984|      69|       67|             46|          77|     70|       87|   69|        58|         56|         82|          93|         88|     87|       79|     89|       79|     84|     74|      52|       58|        45|           32|         73|    78|       61|       67|     38|            30|           41|       8|        12|       13|           16|        14|             34.2|     81|       87| 24500000|\n",
            "|231281|T. Alexander-Arnold| 19|https://cdn.sofif...|      England|https://cdn.sofif...|     78|       88|           Liverpool|https://cdn.sofif...|      14|     36|   2025|         Right|                       1|        3|          3|  High/ Medium|     Lean|      Yes|      RB|           14| Oct 7, 2015|       null|                2021|  5.11|  155.7528| 152.0| 68.945984|      83|       56|             59|          76|     41|       72|   74|        74|         75|         72|          82|         79|     74|       75|     74|       70|     66|     79|      62|       63|        73|           76|         62|    72|       55|       74|     75|            76|           74|      14|        15|       14|            6|         7|             29.4|     87|       92| 60000000|\n",
            "|231691|          A. Lafont| 19|https://cdn.sofif...|       France|https://cdn.sofif...|     78|       90|          Fiorentina|https://cdn.sofif...|      14|     12|   1200|         Right|                       2|        3|          1|Medium/ Medium|     Lean|       No|      GK|            1| Jul 2, 2018|       null|                2023|   6.4|   195.072| 181.0| 82.100152|      13|        6|             13|          54|      9|       14|   13|        12|         38|         10|          48|         45|     55|       69|     53|       23|     73|     40|      70|        9|        20|           17|          4|    47|       16|       59|     20|            14|           12|      79|        77|       71|           76|        80|             26.6|     78|       84| 11000000|\n",
            "|235212|          A. Hakimi| 19|https://cdn.sofif...|      Morocco|https://cdn.sofif...|     78|       86|   Borussia Dortmund|https://cdn.sofif...|    12.5|     49|   2024|         Right|                       1|        2|          3|  High/ Medium|   Normal|      Yes|      LB|            5|        null|Real Madrid|        Jun 30, 2020|  5.11|  155.7528| 161.0| 73.028312|      76|       59|             64|          77|     48|       78|   65|        55|         68|         78|          89|         91|     75|       77|     75|       75|     69|     84|      73|       62|        67|           71|         71|    63|       46|       72|     74|            73|           75|      10|         8|       14|            6|         8|             null|     83|       88| 35000000|\n",
            "|233049|          J. Sancho| 18|https://cdn.sofif...|      England|https://cdn.sofif...|     77|       89|   Borussia Dortmund|https://cdn.sofif...|    14.5|     22|   1785|         Right|                       1|        3|          5|Medium/ Medium|     Lean|       No|      RM|            7|Aug 31, 2017|       null|                2022|  5.11|  155.7528| 168.0| 76.203456|      68|       70|             38|          74|     65|       86|   75|        48|         54|         85|          88|         86|     90|       76|     87|       64|     49|     66|      52|       48|        39|           26|         68|    75|       57|       64|     30|            33|           36|       7|        11|       10|           11|        13|             27.6|     87|       93| 69500000|\n",
            "|229558|       D. Upamecano| 19|https://cdn.sofif...|       France|https://cdn.sofif...|     77|       88|          RB Leipzig|https://cdn.sofif...|      13|     18|   1708|         Right|                       1|        3|          2|Medium/ Medium|   Stocky|       No|     LCB|            5|Jan 13, 2017|       null|                2021|   6.1|   185.928| 183.0| 83.007336|      47|       39|             71|          72|     21|       59|   32|        28|         66|         64|          73|         85|     61|       67|     62|       44|     86|     61|      88|       24|        81|           75|         35|    56|       39|       68|     68|            84|           75|       6|         7|        8|           15|         9|             24.7|     79|       90| 20000000|\n",
            "|238794|  Vin��cius J��nior| 17|https://cdn.sofif...|       Brazil|https://cdn.sofif...|     77|       92|         Real Madrid|https://cdn.sofif...|    17.5|     66|   1849|         Right|                       1|        4|          5|  High/ Medium|     Lean|       No|      LW|           28|Jul 12, 2018|       null|                2025|   5.9|   179.832| 161.0| 73.028312|      65|       70|             50|          70|     71|       81|   77|        62|         48|         80|          92|         94|     90|       70|     82|       74|     74|     79|      59|       68|        48|           26|         74|    69|       65|       75|     32|            25|           18|       5|         7|        7|            7|        10|             46.8|     80|       93| 27500000|\n",
            "|243952|           A. Lunin| 19|https://cdn.sofif...|      Ukraine|https://cdn.sofif...|     76|       88|         CD Legan��s|https://cdn.sofif...|    10.5|     24|   1078|         Right|                       1|        3|          1|Medium/ Medium|   Normal|       No|      GK|           29|        null|Real Madrid|        Jun 30, 2019|   6.3|   192.024| 176.0| 79.832192|      15|        8|             12|          25|     12|       11|   14|        15|         26|         15|          33|         26|     36|       76|     22|       22|     56|     32|      61|        7|        22|           19|         11|    60|       19|       56|     22|            13|           11|      74|        71|       76|           77|        79|             null|     75|       87|  9500000|\n",
            "|234568|   Gedson Fernandes| 19|https://cdn.sofif...|     Portugal|https://cdn.sofif...|     76|       86|          SL Benfica|https://cdn.sofif...|      12|      6|   2078|         Right|                       1|        3|          3|    High/ High|     Lean|       No|     RCM|           83|Jul 20, 2015|       null|                2023|  5.11|  155.7528| 157.0| 71.213944|      71|       64|             61|          75|     64|       77|   68|        70|         72|         77|          81|         78|     79|       77|     71|       80|     69|     88|      73|       77|        77|           68|         71|    73|       61|       74|     68|            72|           71|       9|        15|        7|            9|         5|             26.4|     75|       84| 10000000|\n",
            "|231826|         Y. Karamoh| 19|https://cdn.sofif...|       France|https://cdn.sofif...|     75|       85|FC Girondins de B...|https://cdn.sofif...|    10.5|     24|   1800|         Right|                       1|        4|          3|  High/ Medium|     Lean|       No|      RM|            8|        null|      Inter|        Jun 30, 2019|   6.1|   185.928| 170.0|  77.11064|      67|       68|             65|          70|     66|       80|   67|        44|         63|         79|          84|         79|     73|       70|     65|       69|     68|     72|      61|       70|        50|           29|         72|    70|       65|       65|     23|            31|           26|      14|        10|       10|            8|        12|             null|     75|       82|  9500000|\n",
            "|234986|          P. Retsos| 19|https://cdn.sofif...|       Greece|https://cdn.sofif...|     75|       85| Bayer 04 Leverkusen|https://cdn.sofif...|       9|     19|   1669|         Right|                       1|        3|          2|  Medium/ High|     Lean|       No|      CB|            3|Aug 31, 2017|       null|                2022|   6.1|   185.928| 179.0| 81.192968|      57|       26|             70|          77|     26|       46|   31|        29|         62|         65|          69|         74|     67|       72|     54|       60|     74|     76|      74|       33|        69|           75|         37|    42|       33|       73|     72|            79|           73|      14|         9|       11|            6|         7|             17.1|     74|       82|  7500000|\n",
            "|235454|            M. Sarr| 19|https://cdn.sofif...|       France|https://cdn.sofif...|     75|       84|            OGC Nice|https://cdn.sofif...|     8.5|     11|   1876|          Left|                       1|        4|          2|     Low/ High|   Stocky|       No|     LCB|           23| Jul 1, 2016|       null|                2021|   6.0|    182.88| 161.0| 73.028312|      68|       49|             73|          74|     37|       62|   68|        40|         69|         67|          74|         72|     74|       72|     70|       50|     78|     79|      79|       40|        68|           74|         59|    63|       44|       78|     72|            77|           75|       6|         9|       14|           12|         8|             17.9|     75|       79|  8000000|\n",
            "|233064|           M. Mount| 19|https://cdn.sofif...|      England|https://cdn.sofif...|     75|       86|        Derby County|https://cdn.sofif...|      11|     37|   1840|         Right|                       1|        4|          3|  High/ Medium|     Lean|      Yes|     LCM|            8|        null|    Chelsea|        Jun 30, 2019|   5.1|   155.448| 141.0| 63.956472|      69|       67|             59|          76|     61|       76|   75|        76|         71|         79|          77|         69|     78|       70|     75|       70|     46|     74|      46|       68|        38|           45|         63|    78|       60|       70|     44|            44|           30|      11|        12|       13|            8|        12|             null|     80|       87| 21000000|\n",
            "|235883|       R. Sessegnon| 18|https://cdn.sofif...|      England|https://cdn.sofif...|     75|       88|              Fulham|https://cdn.sofif...|      12|     27|   1933|          Left|                       1|        3|          4|  High/ Medium|     Lean|      Yes|      LM|            3| Aug 9, 2016|       null|                2020|   5.1|   155.448| 154.0| 69.853168|      71|       75|             55|          74|     55|       74|   54|        31|         63|         76|          85|         87|     79|       75|     85|       67|     66|     78|      55|       57|        60|           67|         77|    71|       61|       79|     66|            68|           62|       6|        11|        7|            8|         7|             30.3|     75|       86| 11500000|\n",
            "|238476|         D. Zagadou| 19|https://cdn.sofif...|       France|https://cdn.sofif...|     75|       85|   Borussia Dortmund|https://cdn.sofif...|       9|     16|   1559|          Left|                       1|        3|          2|Medium/ Medium|   Stocky|       No|      CB|            2| Jul 1, 2017|       null|                2022|   6.5|    198.12| 198.0| 89.811216|      46|       26|             77|          71|     25|       49|   37|        25|         55|         54|          52|         69|     47|       70|     34|       56|     64|     61|      87|       24|        75|           70|         31|    42|       30|       68|     71|            81|           75|       9|        13|        5|           14|        14|             17.1|     79|       86| 16000000|\n",
            "|236920|        J. Kluivert| 19|https://cdn.sofif...|  Netherlands|https://cdn.sofif...|     75|       86|                Roma|https://cdn.sofif...|      11|     28|   1877|         Right|                       1|        4|          4|  High/ Medium|   Normal|       No|      LW|           34| Jul 1, 2018|       null|                2023|   5.7|   173.736| 146.0| 66.224432|      69|       70|             52|          68|     67|       82|   72|        58|         54|         78|          91|         88|     85|       67|     83|       77|     66|     69|      61|       76|        66|           25|         65|    72|       66|       74|     47|            32|           27|       5|         6|       14|            7|        12|             20.9|     74|       84|  9000000|\n",
            "+------+-------------------+---+--------------------+-------------+--------------------+-------+---------+--------------------+--------------------+--------+-------+-------+--------------+------------------------+---------+-----------+--------------+---------+---------+--------+-------------+------------+-----------+--------------------+------+----------+------+----------+--------+---------+---------------+------------+-------+---------+-----+----------+-----------+-----------+------------+-----------+-------+---------+-------+---------+-------+-------+--------+---------+----------+-------------+-----------+------+---------+---------+-------+--------------+-------------+--------+----------+---------+-------------+----------+-----------------+-------+---------+---------+\n",
            "only showing top 20 rows\n",
            "\n"
          ],
          "name": "stdout"
        }
      ]
    },
    {
      "cell_type": "code",
      "metadata": {
        "colab": {
          "base_uri": "https://localhost:8080/"
        },
        "id": "3oIl_lIZR0mr",
        "outputId": "973effa2-9121-4c75-fee2-59512beeb3b8"
      },
      "source": [
        "# filtering the dataset based on age (under 20) and then arranging the overall in descending order\n",
        "df.filter(df['Age'] < 20).sort('Overall', ascending=False).show() "
      ],
      "execution_count": 22,
      "outputs": [
        {
          "output_type": "stream",
          "text": [
            "+------+-------------------+---+--------------------+-------------+--------------------+-------+---------+--------------------+--------------------+--------+-------+-------+--------------+------------------------+---------+-----------+--------------+---------+---------+--------+-------------+------------+-----------+--------------------+------+----------+------+----------+--------+---------+---------------+------------+-------+---------+-----+----------+-----------+-----------+------------+-----------+-------+---------+-------+---------+-------+-------+--------+---------+----------+-------------+-----------+------+---------+---------+-------+--------------+-------------+--------+----------+---------+-------------+----------+-----------------+-------+---------+---------+\n",
            "|    ID|               Name|Age|               Photo|  Nationality|                Flag|Overall|Potential|                Club|           Club Logo|value(M)|wage(K)|Special|Preferred Foot|International Reputation|Weak Foot|Skill Moves|     Work Rate|Body Type|Real Face|Position|Jersey Number|      Joined|Loaned From|Contract Valid Until|Height|Height(CM)|Weight|Weight(KG)|Crossing|Finishing|HeadingAccuracy|ShortPassing|Volleys|Dribbling|Curve|FKAccuracy|LongPassing|BallControl|Acceleration|SprintSpeed|Agility|Reactions|Balance|ShotPower|Jumping|Stamina|Strength|LongShots|Aggression|Interceptions|Positioning|Vision|Penalties|Composure|Marking|StandingTackle|SlidingTackle|GKDiving|GKHandling|GKKicking|GKPositioning|GKReflexes|Release Clause(M)|overall|potential|value_eur|\n",
            "+------+-------------------+---+--------------------+-------------+--------------------+-------+---------+--------------------+--------------------+--------+-------+-------+--------------+------------------------+---------+-----------+--------------+---------+---------+--------+-------------+------------+-----------+--------------------+------+----------+------+----------+--------+---------+---------------+------------+-------+---------+-----+----------+-----------+-----------+------------+-----------+-------+---------+-------+---------+-------+-------+--------+---------+----------+-------------+-----------+------+---------+---------+-------+--------------+-------------+--------+----------+---------+-------------+----------+-----------------+-------+---------+---------+\n",
            "|231747|         K. Mbapp��| 19|https://cdn.sofif...|       France|https://cdn.sofif...|     88|       95| Paris Saint-Germain|https://cdn.sofif...|      81|    100|   2118|         Right|                       3|        4|          5|  High/ Medium|     Lean|      Yes|      RM|           10| Jul 1, 2018|       null|                2022|   5.1|   155.448| 161.0| 73.028312|      77|       88|             77|          82|     78|       90|   77|        63|         73|         91|          96|         96|     92|       87|     83|       79|     75|     83|      71|       78|        62|           38|         88|    82|       70|       86|     34|            34|           32|      13|         5|        7|           11|         6|            166.1|     90|       95|105500000|\n",
            "|230621|      G. Donnarumma| 19|https://cdn.sofif...|        Italy|https://cdn.sofif...|     82|       93|               Milan|https://cdn.sofif...|      29|     23|   1278|         Right|                       3|        3|          1|Medium/ Medium|   Normal|      Yes|      GK|           22| Jul 1, 2015|       null|                2021|   6.5|    198.12| 198.0| 89.811216|      12|       12|             12|          34|      8|       28|   12|        14|         24|         28|          46|         54|     64|       74|     38|       24|     72|     34|      72|       18|        30|           26|         14|    50|       24|       68|     20|            14|           16|      88|        78|       72|           78|        88|             55.1|     85|       92| 41500000|\n",
            "|235243|         M. de Ligt| 18|https://cdn.sofif...|  Netherlands|https://cdn.sofif...|     82|       91|                Ajax|https://cdn.sofif...|      27|     11|   1937|         Right|                       2|        4|          2|Medium/ Medium|   Normal|      Yes|     RCB|            3|Oct 24, 2016|       null|                2021|   6.2|   188.976| 196.0| 88.904032|      57|       53|             81|          75|     40|       65|   48|        55|         72|         73|          62|         72|     56|       77|     59|       79|     80|     74|      87|       64|        79|           79|         44|    63|       40|       77|     84|            84|           79|      12|        11|       11|           12|        10|             43.2|     85|       92| 49500000|\n",
            "|235790|         K. Havertz| 19|https://cdn.sofif...|      Germany|https://cdn.sofif...|     80|       89| Bayer 04 Leverkusen|https://cdn.sofif...|      22|     32|   1876|          Left|                       1|        5|          4|Medium/ Medium|     Lean|       No|     CAM|           29| Jul 1, 2016|       null|                2022|   6.2|   188.976| 183.0| 83.007336|      69|       72|             65|          82|     71|       81|   65|        53|         73|         83|          77|         86|     78|       78|     71|       66|     69|     73|      61|       66|        40|           32|         78|    83|       49|       80|     28|            42|           38|       6|         8|       11|           10|        12|             41.8|     85|       93| 57000000|\n",
            "|227796|         C. Pulisic| 19|https://cdn.sofif...|United States|https://cdn.sofif...|     79|       87|   Borussia Dortmund|https://cdn.sofif...|      18|     26|   1925|         Right|                       3|        4|          4|Medium/ Medium|     Lean|      Yes|      RM|           10| Jan 5, 2016|       null|                2020|   5.1|   155.448| 152.0| 68.945984|      69|       67|             46|          77|     70|       87|   69|        58|         56|         82|          93|         88|     87|       79|     89|       79|     84|     74|      52|       58|        45|           32|         73|    78|       61|       67|     38|            30|           41|       8|        12|       13|           16|        14|             34.2|     81|       87| 24500000|\n",
            "|231281|T. Alexander-Arnold| 19|https://cdn.sofif...|      England|https://cdn.sofif...|     78|       88|           Liverpool|https://cdn.sofif...|      14|     36|   2025|         Right|                       1|        3|          3|  High/ Medium|     Lean|      Yes|      RB|           14| Oct 7, 2015|       null|                2021|  5.11|  155.7528| 152.0| 68.945984|      83|       56|             59|          76|     41|       72|   74|        74|         75|         72|          82|         79|     74|       75|     74|       70|     66|     79|      62|       63|        73|           76|         62|    72|       55|       74|     75|            76|           74|      14|        15|       14|            6|         7|             29.4|     87|       92| 60000000|\n",
            "|231691|          A. Lafont| 19|https://cdn.sofif...|       France|https://cdn.sofif...|     78|       90|          Fiorentina|https://cdn.sofif...|      14|     12|   1200|         Right|                       2|        3|          1|Medium/ Medium|     Lean|       No|      GK|            1| Jul 2, 2018|       null|                2023|   6.4|   195.072| 181.0| 82.100152|      13|        6|             13|          54|      9|       14|   13|        12|         38|         10|          48|         45|     55|       69|     53|       23|     73|     40|      70|        9|        20|           17|          4|    47|       16|       59|     20|            14|           12|      79|        77|       71|           76|        80|             26.6|     78|       84| 11000000|\n",
            "|235212|          A. Hakimi| 19|https://cdn.sofif...|      Morocco|https://cdn.sofif...|     78|       86|   Borussia Dortmund|https://cdn.sofif...|    12.5|     49|   2024|         Right|                       1|        2|          3|  High/ Medium|   Normal|      Yes|      LB|            5|        null|Real Madrid|        Jun 30, 2020|  5.11|  155.7528| 161.0| 73.028312|      76|       59|             64|          77|     48|       78|   65|        55|         68|         78|          89|         91|     75|       77|     75|       75|     69|     84|      73|       62|        67|           71|         71|    63|       46|       72|     74|            73|           75|      10|         8|       14|            6|         8|             null|     83|       88| 35000000|\n",
            "|233049|          J. Sancho| 18|https://cdn.sofif...|      England|https://cdn.sofif...|     77|       89|   Borussia Dortmund|https://cdn.sofif...|    14.5|     22|   1785|         Right|                       1|        3|          5|Medium/ Medium|     Lean|       No|      RM|            7|Aug 31, 2017|       null|                2022|  5.11|  155.7528| 168.0| 76.203456|      68|       70|             38|          74|     65|       86|   75|        48|         54|         85|          88|         86|     90|       76|     87|       64|     49|     66|      52|       48|        39|           26|         68|    75|       57|       64|     30|            33|           36|       7|        11|       10|           11|        13|             27.6|     87|       93| 69500000|\n",
            "|229558|       D. Upamecano| 19|https://cdn.sofif...|       France|https://cdn.sofif...|     77|       88|          RB Leipzig|https://cdn.sofif...|      13|     18|   1708|         Right|                       1|        3|          2|Medium/ Medium|   Stocky|       No|     LCB|            5|Jan 13, 2017|       null|                2021|   6.1|   185.928| 183.0| 83.007336|      47|       39|             71|          72|     21|       59|   32|        28|         66|         64|          73|         85|     61|       67|     62|       44|     86|     61|      88|       24|        81|           75|         35|    56|       39|       68|     68|            84|           75|       6|         7|        8|           15|         9|             24.7|     79|       90| 20000000|\n",
            "|238794|  Vin��cius J��nior| 17|https://cdn.sofif...|       Brazil|https://cdn.sofif...|     77|       92|         Real Madrid|https://cdn.sofif...|    17.5|     66|   1849|         Right|                       1|        4|          5|  High/ Medium|     Lean|       No|      LW|           28|Jul 12, 2018|       null|                2025|   5.9|   179.832| 161.0| 73.028312|      65|       70|             50|          70|     71|       81|   77|        62|         48|         80|          92|         94|     90|       70|     82|       74|     74|     79|      59|       68|        48|           26|         74|    69|       65|       75|     32|            25|           18|       5|         7|        7|            7|        10|             46.8|     80|       93| 27500000|\n",
            "|243952|           A. Lunin| 19|https://cdn.sofif...|      Ukraine|https://cdn.sofif...|     76|       88|         CD Legan��s|https://cdn.sofif...|    10.5|     24|   1078|         Right|                       1|        3|          1|Medium/ Medium|   Normal|       No|      GK|           29|        null|Real Madrid|        Jun 30, 2019|   6.3|   192.024| 176.0| 79.832192|      15|        8|             12|          25|     12|       11|   14|        15|         26|         15|          33|         26|     36|       76|     22|       22|     56|     32|      61|        7|        22|           19|         11|    60|       19|       56|     22|            13|           11|      74|        71|       76|           77|        79|             null|     75|       87|  9500000|\n",
            "|234568|   Gedson Fernandes| 19|https://cdn.sofif...|     Portugal|https://cdn.sofif...|     76|       86|          SL Benfica|https://cdn.sofif...|      12|      6|   2078|         Right|                       1|        3|          3|    High/ High|     Lean|       No|     RCM|           83|Jul 20, 2015|       null|                2023|  5.11|  155.7528| 157.0| 71.213944|      71|       64|             61|          75|     64|       77|   68|        70|         72|         77|          81|         78|     79|       77|     71|       80|     69|     88|      73|       77|        77|           68|         71|    73|       61|       74|     68|            72|           71|       9|        15|        7|            9|         5|             26.4|     75|       84| 10000000|\n",
            "|231826|         Y. Karamoh| 19|https://cdn.sofif...|       France|https://cdn.sofif...|     75|       85|FC Girondins de B...|https://cdn.sofif...|    10.5|     24|   1800|         Right|                       1|        4|          3|  High/ Medium|     Lean|       No|      RM|            8|        null|      Inter|        Jun 30, 2019|   6.1|   185.928| 170.0|  77.11064|      67|       68|             65|          70|     66|       80|   67|        44|         63|         79|          84|         79|     73|       70|     65|       69|     68|     72|      61|       70|        50|           29|         72|    70|       65|       65|     23|            31|           26|      14|        10|       10|            8|        12|             null|     75|       82|  9500000|\n",
            "|234986|          P. Retsos| 19|https://cdn.sofif...|       Greece|https://cdn.sofif...|     75|       85| Bayer 04 Leverkusen|https://cdn.sofif...|       9|     19|   1669|         Right|                       1|        3|          2|  Medium/ High|     Lean|       No|      CB|            3|Aug 31, 2017|       null|                2022|   6.1|   185.928| 179.0| 81.192968|      57|       26|             70|          77|     26|       46|   31|        29|         62|         65|          69|         74|     67|       72|     54|       60|     74|     76|      74|       33|        69|           75|         37|    42|       33|       73|     72|            79|           73|      14|         9|       11|            6|         7|             17.1|     74|       82|  7500000|\n",
            "|235454|            M. Sarr| 19|https://cdn.sofif...|       France|https://cdn.sofif...|     75|       84|            OGC Nice|https://cdn.sofif...|     8.5|     11|   1876|          Left|                       1|        4|          2|     Low/ High|   Stocky|       No|     LCB|           23| Jul 1, 2016|       null|                2021|   6.0|    182.88| 161.0| 73.028312|      68|       49|             73|          74|     37|       62|   68|        40|         69|         67|          74|         72|     74|       72|     70|       50|     78|     79|      79|       40|        68|           74|         59|    63|       44|       78|     72|            77|           75|       6|         9|       14|           12|         8|             17.9|     75|       79|  8000000|\n",
            "|233064|           M. Mount| 19|https://cdn.sofif...|      England|https://cdn.sofif...|     75|       86|        Derby County|https://cdn.sofif...|      11|     37|   1840|         Right|                       1|        4|          3|  High/ Medium|     Lean|      Yes|     LCM|            8|        null|    Chelsea|        Jun 30, 2019|   5.1|   155.448| 141.0| 63.956472|      69|       67|             59|          76|     61|       76|   75|        76|         71|         79|          77|         69|     78|       70|     75|       70|     46|     74|      46|       68|        38|           45|         63|    78|       60|       70|     44|            44|           30|      11|        12|       13|            8|        12|             null|     80|       87| 21000000|\n",
            "|235883|       R. Sessegnon| 18|https://cdn.sofif...|      England|https://cdn.sofif...|     75|       88|              Fulham|https://cdn.sofif...|      12|     27|   1933|          Left|                       1|        3|          4|  High/ Medium|     Lean|      Yes|      LM|            3| Aug 9, 2016|       null|                2020|   5.1|   155.448| 154.0| 69.853168|      71|       75|             55|          74|     55|       74|   54|        31|         63|         76|          85|         87|     79|       75|     85|       67|     66|     78|      55|       57|        60|           67|         77|    71|       61|       79|     66|            68|           62|       6|        11|        7|            8|         7|             30.3|     75|       86| 11500000|\n",
            "|238476|         D. Zagadou| 19|https://cdn.sofif...|       France|https://cdn.sofif...|     75|       85|   Borussia Dortmund|https://cdn.sofif...|       9|     16|   1559|          Left|                       1|        3|          2|Medium/ Medium|   Stocky|       No|      CB|            2| Jul 1, 2017|       null|                2022|   6.5|    198.12| 198.0| 89.811216|      46|       26|             77|          71|     25|       49|   37|        25|         55|         54|          52|         69|     47|       70|     34|       56|     64|     61|      87|       24|        75|           70|         31|    42|       30|       68|     71|            81|           75|       9|        13|        5|           14|        14|             17.1|     79|       86| 16000000|\n",
            "|236920|        J. Kluivert| 19|https://cdn.sofif...|  Netherlands|https://cdn.sofif...|     75|       86|                Roma|https://cdn.sofif...|      11|     28|   1877|         Right|                       1|        4|          4|  High/ Medium|   Normal|       No|      LW|           34| Jul 1, 2018|       null|                2023|   5.7|   173.736| 146.0| 66.224432|      69|       70|             52|          68|     67|       82|   72|        58|         54|         78|          91|         88|     85|       67|     83|       77|     66|     69|      61|       76|        66|           25|         65|    72|       66|       74|     47|            32|           27|       5|         6|       14|            7|        12|             20.9|     74|       84|  9000000|\n",
            "+------+-------------------+---+--------------------+-------------+--------------------+-------+---------+--------------------+--------------------+--------+-------+-------+--------------+------------------------+---------+-----------+--------------+---------+---------+--------+-------------+------------+-----------+--------------------+------+----------+------+----------+--------+---------+---------------+------------+-------+---------+-----+----------+-----------+-----------+------------+-----------+-------+---------+-------+---------+-------+-------+--------+---------+----------+-------------+-----------+------+---------+---------+-------+--------------+-------------+--------+----------+---------+-------------+----------+-----------------+-------+---------+---------+\n",
            "only showing top 20 rows\n",
            "\n"
          ],
          "name": "stdout"
        }
      ]
    },
    {
      "cell_type": "markdown",
      "metadata": {
        "id": "SflOclDSuYBw"
      },
      "source": [
        "Best player under 20 (Kylian Mbappe) and he has the best potential as well "
      ]
    },
    {
      "cell_type": "code",
      "metadata": {
        "colab": {
          "base_uri": "https://localhost:8080/"
        },
        "id": "Ec0qmitIsAO1",
        "outputId": "01c821cf-2f27-4602-e7d7-acf4d1dc413a"
      },
      "source": [
        "# under 20 players having worst potential\n",
        "spark.sql(\"\"\"\n",
        "          Select * from soccer_analysis Where Age < 20 Order By Potential Asc\n",
        "          \"\"\").show()"
      ],
      "execution_count": 47,
      "outputs": [
        {
          "output_type": "stream",
          "text": [
            "+------+-------------+---+--------------------+-------------------+--------------------+-------+---------+--------------------+--------------------+--------+-------+-------+--------------+------------------------+---------+-----------+--------------+---------+---------+--------+-------------+------------+-----------+--------------------+------+----------+------+----------+--------+---------+---------------+------------+-------+---------+-----+----------+-----------+-----------+------------+-----------+-------+---------+-------+---------+-------+-------+--------+---------+----------+-------------+-----------+------+---------+---------+-------+--------------+-------------+--------+----------+---------+-------------+----------+-----------------+-------+---------+---------+\n",
            "|    ID|         Name|Age|               Photo|        Nationality|                Flag|Overall|Potential|                Club|           Club Logo|value(M)|wage(K)|Special|Preferred Foot|International Reputation|Weak Foot|Skill Moves|     Work Rate|Body Type|Real Face|Position|Jersey Number|      Joined|Loaned From|Contract Valid Until|Height|Height(CM)|Weight|Weight(KG)|Crossing|Finishing|HeadingAccuracy|ShortPassing|Volleys|Dribbling|Curve|FKAccuracy|LongPassing|BallControl|Acceleration|SprintSpeed|Agility|Reactions|Balance|ShotPower|Jumping|Stamina|Strength|LongShots|Aggression|Interceptions|Positioning|Vision|Penalties|Composure|Marking|StandingTackle|SlidingTackle|GKDiving|GKHandling|GKKicking|GKPositioning|GKReflexes|Release Clause(M)|overall|potential|value_eur|\n",
            "+------+-------------+---+--------------------+-------------------+--------------------+-------+---------+--------------------+--------------------+--------+-------+-------+--------------+------------------------+---------+-----------+--------------+---------+---------+--------+-------------+------------+-----------+--------------------+------+----------+------+----------+--------+---------+---------------+------------+-------+---------+-----+----------+-----------+-----------+------------+-----------+-------+---------+-------+---------+-------+-------+--------+---------+----------+-------------+-----------+------+---------+---------+-------+--------------+-------------+--------+----------+---------+-------------+----------+-----------------+-------+---------+---------+\n",
            "|241657|    D. Horton| 18|https://cdn.sofif...|            England|https://cdn.sofif...|     48|       55|        Lincoln City|https://cdn.sofif...|     40K|      1|   1368|         Right|                       1|        3|          2|Medium/ Medium|   Normal|       No|      CM|           33| Nov 4, 2017|       null|                2021|   6.1|   185.928| 179.0| 81.192968|      33|       24|             42|          54|     33|       44|   34|        36|         50|         47|          61|         57|     57|       44|     58|       47|     64|     59|      66|       31|        53|           49|         35|    46|       37|       42|     47|            49|           53|      12|         5|       12|           14|        15|              78K|   null|     null|     null|\n",
            "|246227|   T. Hillman| 17|https://cdn.sofif...|              Wales|https://cdn.sofif...|     48|       57|      Newport County|https://cdn.sofif...|     40K|      1|   1218|         Right|                       1|        2|          2|  High/ Medium|     Lean|       No|      RM|           34|Oct 20, 2018|       null|                2019|  5.11|  155.7528| 148.0| 67.131616|      40|       47|             38|          46|     39|       48|   43|        35|         43|         50|          69|         72|     51|       30|     65|       49|     44|     50|      42|       33|        22|           21|         40|    40|       46|       36|     18|            25|           25|      14|         6|        9|           10|         8|              78K|   null|     null|     null|\n",
            "|246111|M. Humpen?der| 19|https://cdn.sofif...|            Germany|https://cdn.sofif...|     50|       57|FC W��rzburger Ki...|https://cdn.sofif...|     30K|      1|    823|         Right|                       1|        3|          1|Medium/ Medium|   Normal|       No|      GK|           39|Sep 25, 2018|       null|                2019|   6.2|   188.976| 201.0| 91.171992|      12|        6|             13|          24|      6|       13|   12|        13|         17|         14|          33|         31|     32|       41|     31|       21|     51|     24|      62|        7|        19|           14|          5|    30|       13|       23|      6|            13|           12|      49|        55|       50|           41|        53|              50K|   null|     null|     null|\n",
            "|245945|     L. Hlabi| 18|https://cdn.sofif...|            England|https://cdn.sofif...|     55|       58|          Gillingham|https://cdn.sofif...|    100K|      1|   1342|         Right|                       1|        2|          2|Medium/ Medium|   Normal|       No|      ST|           29| Jul 1, 2018|       null|                2018|   6.0|    182.88| 174.0| 78.925008|      36|       49|             49|          38|     30|       38|   39|        29|         28|         39|          78|         79|     54|       58|     80|       68|     72|     66|      75|       49|        47|           14|         55|    26|       54|       41|     12|            17|           16|      12|        10|        7|            8|        10|             183K|   null|     null|     null|\n",
            "|242290| M. Antkowiak| 18|https://cdn.sofif...|             Poland|https://cdn.sofif...|     50|       58|        Lincoln City|https://cdn.sofif...|     30K|      1|    898|         Right|                       1|        3|          1|Medium/ Medium|     Lean|       No|      GK|           22| Jul 1, 2017|       null|                2018|   6.0|    182.88| 179.0| 81.192968|      14|       11|             11|          28|     13|       10|   11|        12|         31|         12|          33|         37|     43|       47|     42|       14|     63|     33|      41|       12|        24|           13|         10|    18|       27|       44|     20|            12|           13|      53|        49|       47|           42|        52|              59K|   null|     null|     null|\n",
            "|245445|     H. Benns| 18|https://cdn.sofif...|            England|https://cdn.sofif...|     50|       58|           Port Vale|https://cdn.sofif...|     40K|      1|   1263|         Right|                       1|        3|          3|Medium/ Medium|     Lean|       No|      RW|           26|Aug 14, 2018|       null|                2019|   5.7|   173.736| 143.0| 64.863656|      44|       49|             36|          36|     39|       53|   40|        30|         31|         55|          74|         72|     68|       31|     80|       58|     40|     42|      39|       39|        33|           21|         45|    47|       49|       47|     20|            22|           20|      15|        15|        5|           10|         5|              78K|   null|     null|     null|\n",
            "|239811|    Lee Yunoh| 19|https://cdn.sofif...|     Korea Republic|https://cdn.sofif...|     53|       58|      Vegalta Sendai|https://cdn.sofif...|     50K|      1|    806|         Right|                       1|        2|          1|Medium/ Medium|   Normal|       No|      GK|           35| Apr 7, 2017|       null|                2021|   6.3|   192.024| 194.0| 87.996848|       8|        5|             10|          28|      6|       10|    9|        13|         23|         18|          14|         23|     22|       35|     27|       20|     39|     31|      65|        4|        26|           14|          7|    36|       10|       29|      8|            12|           11|      54|        52|       55|           52|        59|              66K|   null|     null|     null|\n",
            "|244631| P. Wieliczko| 18|https://cdn.sofif...|             Poland|https://cdn.sofif...|     48|       58|         Wis?a P?ock|https://cdn.sofif...|     40K|      1|   1354|         Right|                       1|        2|          2|Medium/ Medium|   Normal|       No|      CM|           99| Jul 1, 2017|       null|                2021|   6.1|   185.928| 176.0| 79.832192|      42|       31|             42|          54|     32|       51|   32|        38|         51|         50|          66|         69|     56|       47|     57|       48|     58|     43|      60|       34|        53|           39|         48|    46|       36|       36|     50|            37|           44|      12|         9|        6|            6|         7|              62K|   null|     null|     null|\n",
            "|243934|    J. Hipper| 19|https://cdn.sofif...|            Germany|https://cdn.sofif...|     50|       59|   TSV 1860 M��nchen|https://cdn.sofif...|     30K|      1|    806|         Right|                       1|        2|          1|Medium/ Medium|   Normal|       No|      GK|           30| Jul 1, 2017|       null|                2019|   6.0|    182.88| 168.0| 76.203456|      13|        9|             10|          21|      5|        5|   11|        11|         25|         11|          24|         31|     31|       44|     47|       17|     71|     17|      51|        7|        16|           12|          4|    31|       11|       25|      7|            10|           10|      56|        47|       44|           46|        51|              50K|   null|     null|     null|\n",
            "|244359| L. Catherall| 18|https://cdn.sofif...|            England|https://cdn.sofif...|     51|       59|          Gillingham|https://cdn.sofif...|     40K|      1|    760|         Right|                       1|        2|          1|Medium/ Medium|   Stocky|       No|      GK|           32| Jul 1, 2018|       null|                2019|   6.4|   195.072| 165.0|  74.84268|      11|        6|              9|          20|      7|       11|   11|        11|         13|         13|          29|         17|     28|       42|     29|       18|     45|     16|      59|        8|        16|            7|          5|    24|       12|       31|     12|            14|           12|      53|        50|       50|           45|        57|              78K|   null|     null|     null|\n",
            "|245629|  T. O'Connor| 17|https://cdn.sofif...|Republic of Ireland|https://cdn.sofif...|     49|       59|         Limerick FC|https://cdn.sofif...|     40K|      1|   1177|         Right|                       1|        2|          2|Medium/ Medium|     Lean|       No|      CB|           14| Jul 6, 2018|       null|                2018|  5.11|  155.7528| 163.0| 73.935496|      26|       18|             46|          43|     29|       27|   24|        23|         28|         43|          62|         55|     41|       42|     65|       36|     74|     57|      54|       24|        47|           51|         20|    26|       33|       37|     39|            51|           48|      10|         5|       11|            5|        14|              70K|   null|     null|     null|\n",
            "|242591|    K. Hawley| 18|https://cdn.sofif...|            England|https://cdn.sofif...|     49|       59|           Morecambe|https://cdn.sofif...|     40K|      1|   1175|         Right|                       1|        2|          2|Medium/ Medium|     Lean|       No|      ST|           30|Mar 31, 2017|       null|                2019|   5.1|   155.448| 154.0| 69.853168|      18|       54|             47|          35|     34|       39|   36|        28|         20|         47|          54|         57|     55|       47|     61|       52|     65|     56|      48|       30|        28|           15|         48|    44|       43|       48|     27|            12|           12|      12|        12|       11|           15|        13|              78K|   null|     null|     null|\n",
            "|243961|     E. Tweed| 19|https://cdn.sofif...|Republic of Ireland|https://cdn.sofif...|     48|       59|          Derry City|https://cdn.sofif...|     50K|      1|   1315|         Right|                       1|        3|          2|Medium/ Medium|   Normal|       No|     LCM|           19|Feb 23, 2018|       null|                2018|  5.11|  155.7528| 159.0| 72.121128|      37|       34|             49|          55|     27|       40|   31|        30|         46|         43|          59|         61|     63|       53|     66|       47|     60|     60|      43|       30|        52|           45|         35|    49|       40|       43|     39|            39|           48|       6|        11|        9|            5|         8|              88K|   null|     null|     null|\n",
            "|243649|    E. Clarke| 19|https://cdn.sofif...|            England|https://cdn.sofif...|     48|       59|      Fleetwood Town|https://cdn.sofif...|     40K|      1|   1225|          Left|                       1|        2|          2|Medium/ Medium|     Lean|       No|      LB|            3|May 23, 2018|       null|                2019|   5.8|   176.784| 154.0| 69.853168|      40|       25|             38|          29|     21|       48|   34|        32|         21|         31|          66|         55|     49|       46|     42|       26|     62|     62|      52|       26|        54|           45|         43|    38|       39|       30|     45|            52|           49|       9|        12|       15|           12|         7|              78K|   null|     null|     null|\n",
            "|241401|   S. Moloney| 18|https://cdn.sofif...|            England|https://cdn.sofif...|     54|       59|                Bury|https://cdn.sofif...|     60K|      1|    861|         Right|                       1|        2|          1|Medium/ Medium|   Normal|       No|      GK|           43| Jul 1, 2017|       null|                2019|  5.11|  155.7528| 154.0| 69.853168|      13|        8|             11|          27|      7|       13|   14|        10|         28|         11|          28|         27|     33|       45|     42|       22|     62|     24|      35|        7|        28|            6|          7|    25|       14|       43|     19|            13|           14|      55|        51|       53|           55|        54|             110K|     54|       62|    80000|\n",
            "|245417|    J. Manley| 19|https://cdn.sofif...|Republic of Ireland|https://cdn.sofif...|     48|       59|St. Patrick's Ath...|https://cdn.sofif...|     40K|      1|   1152|         Right|                       1|        3|          2|Medium/ Medium|   Normal|       No|      CB|           28| Jun 8, 2018|       null|                2018|   5.8|   176.784| 159.0| 72.121128|      28|       23|             45|          27|     24|       25|   21|        26|         29|         28|          63|         50|     47|       42|     76|       35|     65|     49|      49|       21|        45|           46|         25|    29|       37|       43|     42|            54|           54|       6|        11|       12|           13|         5|              70K|   null|     null|     null|\n",
            "|240158|    C. Ehlich| 19|https://cdn.sofif...|            Germany|https://cdn.sofif...|     47|       59|  SpVgg Unterhaching|https://cdn.sofif...|     40K|      1|   1366|         Right|                       1|        3|          2|  High/ Medium|     Lean|       No|      RB|           33| Jul 1, 2017|       null|                2020|   5.1|   155.448| 161.0| 73.028312|      39|       40|             45|          46|     42|       46|   35|        29|         22|         49|          65|         62|     68|       44|     70|       44|     69|     61|      59|       41|        38|           36|         44|    38|       47|       47|     40|            42|           42|      13|        12|       11|           15|        12|              66K|     58|       69|   220000|\n",
            "|240708|   T. Knowles| 19|https://cdn.sofif...|            England|https://cdn.sofif...|     50|       59|    Cambridge United|https://cdn.sofif...|     40K|      1|   1242|         Right|                       1|        3|          2|     High/ Low|   Normal|       No|      ST|           23| Oct 6, 2018|       null|                2019|   6.0|    182.88| 154.0| 69.853168|      25|       52|             49|          42|     34|       41|   36|        33|         28|         41|          57|         68|     46|       47|     55|       55|     59|     51|      56|       47|        50|           18|         48|    48|       50|       41|     35|            19|           16|       5|         6|        8|            9|         8|              78K|     56|       68|   160000|\n",
            "|229047|W. Longbottom| 19|https://cdn.sofif...|            England|https://cdn.sofif...|     53|       60|    Doncaster Rovers|https://cdn.sofif...|     80K|      1|   1425|          Left|                       1|        3|          2|Medium/ Medium|     Lean|       No|      ST|           21|Mar 31, 2016|       null|                2020|   5.9|   179.832| 137.0| 62.142104|      46|       57|             40|          43|     33|       54|   32|        29|         32|         52|          59|         63|     69|       57|     74|       46|     65|     50|      54|       40|        52|           54|         56|    38|       55|       40|     37|            42|           41|      12|        14|        9|           10|        10|             156K|     54|       60|   100000|\n",
            "|244484| B. Gr?tterud| 19|https://cdn.sofif...|             Norway|https://cdn.sofif...|     52|       60|       FK Bod?/Glimt|https://cdn.sofif...|     50K|      1|    923|         Right|                       1|        1|          1|Medium/ Medium|     Lean|       No|      GK|           31| Jun 1, 2018|       null|                2021|   6.1|   185.928| 165.0|  74.84268|      18|       11|             11|          25|     12|       15|   18|        14|         30|         14|          20|         28|     25|       40|     45|       24|     60|     23|      41|       13|        33|           15|         10|    45|       18|       34|     28|            15|           14|      55|        52|       48|           44|        59|              73K|   null|     null|     null|\n",
            "+------+-------------+---+--------------------+-------------------+--------------------+-------+---------+--------------------+--------------------+--------+-------+-------+--------------+------------------------+---------+-----------+--------------+---------+---------+--------+-------------+------------+-----------+--------------------+------+----------+------+----------+--------+---------+---------------+------------+-------+---------+-----+----------+-----------+-----------+------------+-----------+-------+---------+-------+---------+-------+-------+--------+---------+----------+-------------+-----------+------+---------+---------+-------+--------------+-------------+--------+----------+---------+-------------+----------+-----------------+-------+---------+---------+\n",
            "only showing top 20 rows\n",
            "\n"
          ],
          "name": "stdout"
        }
      ]
    },
    {
      "cell_type": "code",
      "metadata": {
        "colab": {
          "base_uri": "https://localhost:8080/"
        },
        "id": "_kiZqO1KSElE",
        "outputId": "3e17c618-fd5c-4ef2-e477-415230507307"
      },
      "source": [
        "# under 20 players having worst potential\n",
        "df.filter(df['Age'] < 20).sort('Potential', ascending=True).show() "
      ],
      "execution_count": 23,
      "outputs": [
        {
          "output_type": "stream",
          "text": [
            "+------+-------------+---+--------------------+-------------------+--------------------+-------+---------+--------------------+--------------------+--------+-------+-------+--------------+------------------------+---------+-----------+--------------+---------+---------+--------+-------------+------------+-----------+--------------------+------+----------+------+----------+--------+---------+---------------+------------+-------+---------+-----+----------+-----------+-----------+------------+-----------+-------+---------+-------+---------+-------+-------+--------+---------+----------+-------------+-----------+------+---------+---------+-------+--------------+-------------+--------+----------+---------+-------------+----------+-----------------+-------+---------+---------+\n",
            "|    ID|         Name|Age|               Photo|        Nationality|                Flag|Overall|Potential|                Club|           Club Logo|value(M)|wage(K)|Special|Preferred Foot|International Reputation|Weak Foot|Skill Moves|     Work Rate|Body Type|Real Face|Position|Jersey Number|      Joined|Loaned From|Contract Valid Until|Height|Height(CM)|Weight|Weight(KG)|Crossing|Finishing|HeadingAccuracy|ShortPassing|Volleys|Dribbling|Curve|FKAccuracy|LongPassing|BallControl|Acceleration|SprintSpeed|Agility|Reactions|Balance|ShotPower|Jumping|Stamina|Strength|LongShots|Aggression|Interceptions|Positioning|Vision|Penalties|Composure|Marking|StandingTackle|SlidingTackle|GKDiving|GKHandling|GKKicking|GKPositioning|GKReflexes|Release Clause(M)|overall|potential|value_eur|\n",
            "+------+-------------+---+--------------------+-------------------+--------------------+-------+---------+--------------------+--------------------+--------+-------+-------+--------------+------------------------+---------+-----------+--------------+---------+---------+--------+-------------+------------+-----------+--------------------+------+----------+------+----------+--------+---------+---------------+------------+-------+---------+-----+----------+-----------+-----------+------------+-----------+-------+---------+-------+---------+-------+-------+--------+---------+----------+-------------+-----------+------+---------+---------+-------+--------------+-------------+--------+----------+---------+-------------+----------+-----------------+-------+---------+---------+\n",
            "|241657|    D. Horton| 18|https://cdn.sofif...|            England|https://cdn.sofif...|     48|       55|        Lincoln City|https://cdn.sofif...|     40K|      1|   1368|         Right|                       1|        3|          2|Medium/ Medium|   Normal|       No|      CM|           33| Nov 4, 2017|       null|                2021|   6.1|   185.928| 179.0| 81.192968|      33|       24|             42|          54|     33|       44|   34|        36|         50|         47|          61|         57|     57|       44|     58|       47|     64|     59|      66|       31|        53|           49|         35|    46|       37|       42|     47|            49|           53|      12|         5|       12|           14|        15|              78K|   null|     null|     null|\n",
            "|246227|   T. Hillman| 17|https://cdn.sofif...|              Wales|https://cdn.sofif...|     48|       57|      Newport County|https://cdn.sofif...|     40K|      1|   1218|         Right|                       1|        2|          2|  High/ Medium|     Lean|       No|      RM|           34|Oct 20, 2018|       null|                2019|  5.11|  155.7528| 148.0| 67.131616|      40|       47|             38|          46|     39|       48|   43|        35|         43|         50|          69|         72|     51|       30|     65|       49|     44|     50|      42|       33|        22|           21|         40|    40|       46|       36|     18|            25|           25|      14|         6|        9|           10|         8|              78K|   null|     null|     null|\n",
            "|246111|M. Humpen?der| 19|https://cdn.sofif...|            Germany|https://cdn.sofif...|     50|       57|FC W��rzburger Ki...|https://cdn.sofif...|     30K|      1|    823|         Right|                       1|        3|          1|Medium/ Medium|   Normal|       No|      GK|           39|Sep 25, 2018|       null|                2019|   6.2|   188.976| 201.0| 91.171992|      12|        6|             13|          24|      6|       13|   12|        13|         17|         14|          33|         31|     32|       41|     31|       21|     51|     24|      62|        7|        19|           14|          5|    30|       13|       23|      6|            13|           12|      49|        55|       50|           41|        53|              50K|   null|     null|     null|\n",
            "|245945|     L. Hlabi| 18|https://cdn.sofif...|            England|https://cdn.sofif...|     55|       58|          Gillingham|https://cdn.sofif...|    100K|      1|   1342|         Right|                       1|        2|          2|Medium/ Medium|   Normal|       No|      ST|           29| Jul 1, 2018|       null|                2018|   6.0|    182.88| 174.0| 78.925008|      36|       49|             49|          38|     30|       38|   39|        29|         28|         39|          78|         79|     54|       58|     80|       68|     72|     66|      75|       49|        47|           14|         55|    26|       54|       41|     12|            17|           16|      12|        10|        7|            8|        10|             183K|   null|     null|     null|\n",
            "|242290| M. Antkowiak| 18|https://cdn.sofif...|             Poland|https://cdn.sofif...|     50|       58|        Lincoln City|https://cdn.sofif...|     30K|      1|    898|         Right|                       1|        3|          1|Medium/ Medium|     Lean|       No|      GK|           22| Jul 1, 2017|       null|                2018|   6.0|    182.88| 179.0| 81.192968|      14|       11|             11|          28|     13|       10|   11|        12|         31|         12|          33|         37|     43|       47|     42|       14|     63|     33|      41|       12|        24|           13|         10|    18|       27|       44|     20|            12|           13|      53|        49|       47|           42|        52|              59K|   null|     null|     null|\n",
            "|245445|     H. Benns| 18|https://cdn.sofif...|            England|https://cdn.sofif...|     50|       58|           Port Vale|https://cdn.sofif...|     40K|      1|   1263|         Right|                       1|        3|          3|Medium/ Medium|     Lean|       No|      RW|           26|Aug 14, 2018|       null|                2019|   5.7|   173.736| 143.0| 64.863656|      44|       49|             36|          36|     39|       53|   40|        30|         31|         55|          74|         72|     68|       31|     80|       58|     40|     42|      39|       39|        33|           21|         45|    47|       49|       47|     20|            22|           20|      15|        15|        5|           10|         5|              78K|   null|     null|     null|\n",
            "|239811|    Lee Yunoh| 19|https://cdn.sofif...|     Korea Republic|https://cdn.sofif...|     53|       58|      Vegalta Sendai|https://cdn.sofif...|     50K|      1|    806|         Right|                       1|        2|          1|Medium/ Medium|   Normal|       No|      GK|           35| Apr 7, 2017|       null|                2021|   6.3|   192.024| 194.0| 87.996848|       8|        5|             10|          28|      6|       10|    9|        13|         23|         18|          14|         23|     22|       35|     27|       20|     39|     31|      65|        4|        26|           14|          7|    36|       10|       29|      8|            12|           11|      54|        52|       55|           52|        59|              66K|   null|     null|     null|\n",
            "|244631| P. Wieliczko| 18|https://cdn.sofif...|             Poland|https://cdn.sofif...|     48|       58|         Wis?a P?ock|https://cdn.sofif...|     40K|      1|   1354|         Right|                       1|        2|          2|Medium/ Medium|   Normal|       No|      CM|           99| Jul 1, 2017|       null|                2021|   6.1|   185.928| 176.0| 79.832192|      42|       31|             42|          54|     32|       51|   32|        38|         51|         50|          66|         69|     56|       47|     57|       48|     58|     43|      60|       34|        53|           39|         48|    46|       36|       36|     50|            37|           44|      12|         9|        6|            6|         7|              62K|   null|     null|     null|\n",
            "|243934|    J. Hipper| 19|https://cdn.sofif...|            Germany|https://cdn.sofif...|     50|       59|   TSV 1860 M��nchen|https://cdn.sofif...|     30K|      1|    806|         Right|                       1|        2|          1|Medium/ Medium|   Normal|       No|      GK|           30| Jul 1, 2017|       null|                2019|   6.0|    182.88| 168.0| 76.203456|      13|        9|             10|          21|      5|        5|   11|        11|         25|         11|          24|         31|     31|       44|     47|       17|     71|     17|      51|        7|        16|           12|          4|    31|       11|       25|      7|            10|           10|      56|        47|       44|           46|        51|              50K|   null|     null|     null|\n",
            "|244359| L. Catherall| 18|https://cdn.sofif...|            England|https://cdn.sofif...|     51|       59|          Gillingham|https://cdn.sofif...|     40K|      1|    760|         Right|                       1|        2|          1|Medium/ Medium|   Stocky|       No|      GK|           32| Jul 1, 2018|       null|                2019|   6.4|   195.072| 165.0|  74.84268|      11|        6|              9|          20|      7|       11|   11|        11|         13|         13|          29|         17|     28|       42|     29|       18|     45|     16|      59|        8|        16|            7|          5|    24|       12|       31|     12|            14|           12|      53|        50|       50|           45|        57|              78K|   null|     null|     null|\n",
            "|245629|  T. O'Connor| 17|https://cdn.sofif...|Republic of Ireland|https://cdn.sofif...|     49|       59|         Limerick FC|https://cdn.sofif...|     40K|      1|   1177|         Right|                       1|        2|          2|Medium/ Medium|     Lean|       No|      CB|           14| Jul 6, 2018|       null|                2018|  5.11|  155.7528| 163.0| 73.935496|      26|       18|             46|          43|     29|       27|   24|        23|         28|         43|          62|         55|     41|       42|     65|       36|     74|     57|      54|       24|        47|           51|         20|    26|       33|       37|     39|            51|           48|      10|         5|       11|            5|        14|              70K|   null|     null|     null|\n",
            "|242591|    K. Hawley| 18|https://cdn.sofif...|            England|https://cdn.sofif...|     49|       59|           Morecambe|https://cdn.sofif...|     40K|      1|   1175|         Right|                       1|        2|          2|Medium/ Medium|     Lean|       No|      ST|           30|Mar 31, 2017|       null|                2019|   5.1|   155.448| 154.0| 69.853168|      18|       54|             47|          35|     34|       39|   36|        28|         20|         47|          54|         57|     55|       47|     61|       52|     65|     56|      48|       30|        28|           15|         48|    44|       43|       48|     27|            12|           12|      12|        12|       11|           15|        13|              78K|   null|     null|     null|\n",
            "|243961|     E. Tweed| 19|https://cdn.sofif...|Republic of Ireland|https://cdn.sofif...|     48|       59|          Derry City|https://cdn.sofif...|     50K|      1|   1315|         Right|                       1|        3|          2|Medium/ Medium|   Normal|       No|     LCM|           19|Feb 23, 2018|       null|                2018|  5.11|  155.7528| 159.0| 72.121128|      37|       34|             49|          55|     27|       40|   31|        30|         46|         43|          59|         61|     63|       53|     66|       47|     60|     60|      43|       30|        52|           45|         35|    49|       40|       43|     39|            39|           48|       6|        11|        9|            5|         8|              88K|   null|     null|     null|\n",
            "|243649|    E. Clarke| 19|https://cdn.sofif...|            England|https://cdn.sofif...|     48|       59|      Fleetwood Town|https://cdn.sofif...|     40K|      1|   1225|          Left|                       1|        2|          2|Medium/ Medium|     Lean|       No|      LB|            3|May 23, 2018|       null|                2019|   5.8|   176.784| 154.0| 69.853168|      40|       25|             38|          29|     21|       48|   34|        32|         21|         31|          66|         55|     49|       46|     42|       26|     62|     62|      52|       26|        54|           45|         43|    38|       39|       30|     45|            52|           49|       9|        12|       15|           12|         7|              78K|   null|     null|     null|\n",
            "|241401|   S. Moloney| 18|https://cdn.sofif...|            England|https://cdn.sofif...|     54|       59|                Bury|https://cdn.sofif...|     60K|      1|    861|         Right|                       1|        2|          1|Medium/ Medium|   Normal|       No|      GK|           43| Jul 1, 2017|       null|                2019|  5.11|  155.7528| 154.0| 69.853168|      13|        8|             11|          27|      7|       13|   14|        10|         28|         11|          28|         27|     33|       45|     42|       22|     62|     24|      35|        7|        28|            6|          7|    25|       14|       43|     19|            13|           14|      55|        51|       53|           55|        54|             110K|     54|       62|    80000|\n",
            "|245417|    J. Manley| 19|https://cdn.sofif...|Republic of Ireland|https://cdn.sofif...|     48|       59|St. Patrick's Ath...|https://cdn.sofif...|     40K|      1|   1152|         Right|                       1|        3|          2|Medium/ Medium|   Normal|       No|      CB|           28| Jun 8, 2018|       null|                2018|   5.8|   176.784| 159.0| 72.121128|      28|       23|             45|          27|     24|       25|   21|        26|         29|         28|          63|         50|     47|       42|     76|       35|     65|     49|      49|       21|        45|           46|         25|    29|       37|       43|     42|            54|           54|       6|        11|       12|           13|         5|              70K|   null|     null|     null|\n",
            "|240158|    C. Ehlich| 19|https://cdn.sofif...|            Germany|https://cdn.sofif...|     47|       59|  SpVgg Unterhaching|https://cdn.sofif...|     40K|      1|   1366|         Right|                       1|        3|          2|  High/ Medium|     Lean|       No|      RB|           33| Jul 1, 2017|       null|                2020|   5.1|   155.448| 161.0| 73.028312|      39|       40|             45|          46|     42|       46|   35|        29|         22|         49|          65|         62|     68|       44|     70|       44|     69|     61|      59|       41|        38|           36|         44|    38|       47|       47|     40|            42|           42|      13|        12|       11|           15|        12|              66K|     58|       69|   220000|\n",
            "|240708|   T. Knowles| 19|https://cdn.sofif...|            England|https://cdn.sofif...|     50|       59|    Cambridge United|https://cdn.sofif...|     40K|      1|   1242|         Right|                       1|        3|          2|     High/ Low|   Normal|       No|      ST|           23| Oct 6, 2018|       null|                2019|   6.0|    182.88| 154.0| 69.853168|      25|       52|             49|          42|     34|       41|   36|        33|         28|         41|          57|         68|     46|       47|     55|       55|     59|     51|      56|       47|        50|           18|         48|    48|       50|       41|     35|            19|           16|       5|         6|        8|            9|         8|              78K|     56|       68|   160000|\n",
            "|229047|W. Longbottom| 19|https://cdn.sofif...|            England|https://cdn.sofif...|     53|       60|    Doncaster Rovers|https://cdn.sofif...|     80K|      1|   1425|          Left|                       1|        3|          2|Medium/ Medium|     Lean|       No|      ST|           21|Mar 31, 2016|       null|                2020|   5.9|   179.832| 137.0| 62.142104|      46|       57|             40|          43|     33|       54|   32|        29|         32|         52|          59|         63|     69|       57|     74|       46|     65|     50|      54|       40|        52|           54|         56|    38|       55|       40|     37|            42|           41|      12|        14|        9|           10|        10|             156K|     54|       60|   100000|\n",
            "|244484| B. Gr?tterud| 19|https://cdn.sofif...|             Norway|https://cdn.sofif...|     52|       60|       FK Bod?/Glimt|https://cdn.sofif...|     50K|      1|    923|         Right|                       1|        1|          1|Medium/ Medium|     Lean|       No|      GK|           31| Jun 1, 2018|       null|                2021|   6.1|   185.928| 165.0|  74.84268|      18|       11|             11|          25|     12|       15|   18|        14|         30|         14|          20|         28|     25|       40|     45|       24|     60|     23|      41|       13|        33|           15|         10|    45|       18|       34|     28|            15|           14|      55|        52|       48|           44|        59|              73K|   null|     null|     null|\n",
            "+------+-------------+---+--------------------+-------------------+--------------------+-------+---------+--------------------+--------------------+--------+-------+-------+--------------+------------------------+---------+-----------+--------------+---------+---------+--------+-------------+------------+-----------+--------------------+------+----------+------+----------+--------+---------+---------------+------------+-------+---------+-----+----------+-----------+-----------+------------+-----------+-------+---------+-------+---------+-------+-------+--------+---------+----------+-------------+-----------+------+---------+---------+-------+--------------+-------------+--------+----------+---------+-------------+----------+-----------------+-------+---------+---------+\n",
            "only showing top 20 rows\n",
            "\n"
          ],
          "name": "stdout"
        }
      ]
    },
    {
      "cell_type": "code",
      "metadata": {
        "colab": {
          "base_uri": "https://localhost:8080/"
        },
        "id": "q2Xe62ZdsKMq",
        "outputId": "685c9a99-9c63-4e2f-85a1-d7a298ff9289"
      },
      "source": [
        "# finding the Australian player with highest potential\n",
        "spark.sql(\"\"\"\n",
        "          Select * from soccer_analysis Where Nationality = 'Australia' Order By Potential Desc\n",
        "          \"\"\").show()"
      ],
      "execution_count": 48,
      "outputs": [
        {
          "output_type": "stream",
          "text": [
            "+------+-------------+---+--------------------+-----------+--------------------+-------+---------+--------------------+--------------------+--------+-------+-------+--------------+------------------------+---------+-----------+--------------+---------+---------+--------+-------------+------------+--------------------+--------------------+------+----------+------+----------+--------+---------+---------------+------------+-------+---------+-----+----------+-----------+-----------+------------+-----------+-------+---------+-------+---------+-------+-------+--------+---------+----------+-------------+-----------+------+---------+---------+-------+--------------+-------------+--------+----------+---------+-------------+----------+-----------------+-------+---------+---------+\n",
            "|    ID|         Name|Age|               Photo|Nationality|                Flag|Overall|Potential|                Club|           Club Logo|value(M)|wage(K)|Special|Preferred Foot|International Reputation|Weak Foot|Skill Moves|     Work Rate|Body Type|Real Face|Position|Jersey Number|      Joined|         Loaned From|Contract Valid Until|Height|Height(CM)|Weight|Weight(KG)|Crossing|Finishing|HeadingAccuracy|ShortPassing|Volleys|Dribbling|Curve|FKAccuracy|LongPassing|BallControl|Acceleration|SprintSpeed|Agility|Reactions|Balance|ShotPower|Jumping|Stamina|Strength|LongShots|Aggression|Interceptions|Positioning|Vision|Penalties|Composure|Marking|StandingTackle|SlidingTackle|GKDiving|GKHandling|GKKicking|GKPositioning|GKReflexes|Release Clause(M)|overall|potential|value_eur|\n",
            "+------+-------------+---+--------------------+-----------+--------------------+-------+---------+--------------------+--------------------+--------+-------+-------+--------------+------------------------+---------+-----------+--------------+---------+---------+--------+-------------+------------+--------------------+--------------------+------+----------+------+----------+--------+---------+---------------+------------+-------+---------+-----+----------+-----------+-----------+------------+-----------+-------+---------+-------+---------+-------+-------+--------+---------+----------+-------------+-----------+------+---------+---------+-------+--------------+-------------+--------+----------+---------+-------------+----------+-----------------+-------+---------+---------+\n",
            "|234867|    D. Arzani| 19|https://cdn.sofif...|  Australia|https://cdn.sofif...|     69|       83|              Celtic|https://cdn.sofif...|     2.3|     20|   1575|         Right|                       1|        3|          4|     High/ Low|     Lean|      Yes|      RM|           14|        null|     Manchester City|        Jun 30, 2020|   5.7|   173.736| 161.0| 73.028312|      65|       63|             23|          64|     51|       76|   66|        40|         58|         69|          79|         80|     80|       58|     62|       53|     33|     61|      32|       57|        35|           23|         62|    65|       64|       65|     34|            33|           35|       8|         8|       14|           10|        14|             null|     68|       82|  2000000|\n",
            "|199005|      M. Ryan| 26|https://cdn.sofif...|  Australia|https://cdn.sofif...|     79|       81|Brighton & Hove A...|https://cdn.sofif...|    10.5|     41|   1341|         Right|                       1|        4|          1|Medium/ Medium|   Normal|      Yes|      GK|            1| Jul 1, 2017|                null|                2022|   6.0|    182.88| 181.0| 82.100152|      23|       11|             14|          40|     15|       13|   23|        12|         45|         24|          53|         52|     53|       73|     50|       35|     78|     34|      68|       18|        36|           23|         10|    68|       25|       64|     10|            20|           17|      81|        74|       82|           78|        83|             20.7|     80|       82| 13000000|\n",
            "|229585|   M. Degenek| 24|https://cdn.sofif...|  Australia|https://cdn.sofif...|     73|       80|                null|https://cdn.sofif...|    null|   null|   1995|         Right|                       1|        4|          2|    High/ High|     Lean|       No|      CB|            2|        null|                null|                null|   6.2|   188.976| 181.0| 82.100152|      70|       59|             70|          74|     62|       58|   69|        44|         72|         64|          79|         79|     78|       72|     70|       70|     81|     86|      84|       61|        81|           70|         55|    67|       58|       80|     65|            71|           71|      14|        12|        7|           10|        12|             null|     73|       78|        0|\n",
            "|241861|  N. Atkinson| 19|https://cdn.sofif...|  Australia|https://cdn.sofif...|     64|       79|   Melbourne City FC|https://cdn.sofif...|    875K|      1|   1778|         Right|                       1|        4|          3|  High/ Medium|   Normal|       No|      RW|           13|Dec 10, 2017|                null|                2020|  5.11|  155.7528| 159.0| 72.121128|      59|       46|             38|          61|     31|       65|   65|        38|         55|         64|          84|         80|     86|       62|     89|       44|     88|     75|      74|       43|        55|           54|         66|    60|       51|       66|     64|            65|           60|      15|        11|       12|           12|         6|              1.6|     65|       74|   750000|\n",
            "|207928|     T. Rogi?| 25|https://cdn.sofif...|  Australia|https://cdn.sofif...|     76|       79|              Celtic|https://cdn.sofif...|     9.5|     46|   1885|          Left|                       1|        4|          4|Medium/ Medium|   Normal|       No|     CAM|           23| Jan 9, 2013|                null|                2023|   6.2|   188.976| 194.0| 87.996848|      61|       70|             60|          76|     68|       82|   76|        57|         70|         82|          74|         66|     74|       64|     75|       82|     52|     55|      77|       80|        48|           38|         75|    73|       56|       83|     46|            48|           41|      12|        11|       13|           12|        11|             17.8|     73|       74|  4600000|\n",
            "|241552|  J. Italiano| 16|https://cdn.sofif...|  Australia|https://cdn.sofif...|     58|       79|         Perth Glory|https://cdn.sofif...|    280K|      1|   1434|         Right|                       1|        2|          3|  High/ Medium|     Lean|       No|      LM|           26|Oct 15, 2017|                null|                2019|   5.7|   173.736| 143.0| 64.863656|      43|       50|             36|          61|     35|       59|   41|        36|         57|         56|          80|         72|     72|       53|     79|       54|     58|     57|      42|       33|        38|           22|         53|    52|       40|       57|     36|            38|           43|       7|         7|        9|           10|         5|             630K|     61|       82|   575000|\n",
            "|212830|     A. Mabil| 22|https://cdn.sofif...|  Australia|https://cdn.sofif...|     70|       78|      FC Midtjylland|https://cdn.sofif...|     2.6|     12|   1651|         Right|                       1|        2|          4|   Medium/ Low|     Lean|       No|      RW|           21|Jul 28, 2015|                null|                2022|   5.1|   155.448| 161.0| 73.028312|      68|       59|             33|          62|     48|       75|   62|        60|         47|         73|          93|         92|     85|       65|     72|       60|     56|     68|      43|       44|        35|           25|         65|    57|       53|       60|     37|            23|           20|      16|        12|       18|           13|        12|              3.9|     72|       75|  3900000|\n",
            "|213488|  D. De Silva| 21|https://cdn.sofif...|  Australia|https://cdn.sofif...|     67|       78|           Sydney FC|https://cdn.sofif...|     1.3|      1|   1679|         Right|                       1|        4|          3|    High/ High|     Lean|       No|     CAM|           11|        null|Central Coast Mar...|        May 31, 2019|   5.7|   173.736| 132.0| 59.874144|      47|       59|             27|          65|     59|       70|   62|        45|         63|         72|          77|         74|     81|       56|     88|       59|     77|     89|      67|       65|        36|           30|         60|    64|       50|       67|     32|            36|           20|       7|         9|        8|           15|        10|             null|     65|       72|   750000|\n",
            "|233487|    R. McGree| 19|https://cdn.sofif...|  Australia|https://cdn.sofif...|     66|       77|   Melbourne City FC|https://cdn.sofif...|     1.1|      3|   1790|          Left|                       1|        3|          3|Medium/ Medium|   Normal|       No|     RCM|            8|        null|      Club Brugge KV|        May 31, 2019|   5.1|   155.448| 159.0| 72.121128|      53|       63|             48|          66|     40|       70|   65|        55|         64|         69|          76|         76|     76|       62|     75|       64|     58|     74|      63|       58|        68|           60|         66|    64|       44|       68|     57|            57|           52|      12|         9|        5|            8|        13|             null|     71|       78|  3300000|\n",
            "|205347|    M. Luongo| 25|https://cdn.sofif...|  Australia|https://cdn.sofif...|     74|       77| Queens Park Rangers|https://cdn.sofif...|       6|      9|   1960|         Right|                       1|        3|          3|  Medium/ High|   Normal|       No|     RDM|            8|May 28, 2015|                null|                2020|   5.9|   179.832| 168.0| 76.203456|      51|       63|             59|          71|     46|       74|   49|        46|         68|         72|          73|         74|     79|       72|     76|       69|     84|     92|      72|       63|        76|           72|         65|    70|       52|       63|     64|            77|           74|      15|        13|        9|           14|         6|             11.9|     71|       73|  2500000|\n",
            "|199000| T. Sainsbury| 26|https://cdn.sofif...|  Australia|https://cdn.sofif...|     74|       77|                 PSV|https://cdn.sofif...|       6|     13|   1836|         Right|                       1|        3|          2|Medium/ Medium|     Lean|       No|     RCB|           20| Aug 7, 2018|                null|                2021|   6.0|    182.88| 172.0| 78.017824|      58|       45|             74|          67|     33|       55|   62|        25|         68|         55|          74|         74|     67|       74|     73|       61|     77|     75|      76|       43|        62|           77|         52|    62|       63|       70|     82|            70|           76|      13|        12|       11|           14|         6|              8.9|     72|       73|  3000000|\n",
            "|230888|   A. O'Neill| 19|https://cdn.sofif...|  Australia|https://cdn.sofif...|     65|       77|Central Coast Mar...|https://cdn.sofif...|    925K|      6|   1781|         Right|                       1|        2|          3|Medium/ Medium|   Normal|      Yes|      RM|           13|        null|             Burnley|        May 31, 2019|   5.1|   155.448| 154.0| 69.853168|      53|       66|             45|          66|     49|       63|   58|        42|         64|         66|          78|         77|     79|       60|     72|       61|     71|     80|      61|       69|        56|           61|         59|    60|       49|       70|     59|            55|           49|      10|        15|        7|           12|         9|             null|     65|       72|   750000|\n",
            "|228171|C. Ikonomidis| 23|https://cdn.sofif...|  Australia|https://cdn.sofif...|     68|       76|         Perth Glory|https://cdn.sofif...|     1.3|      3|   1756|         Right|                       1|        4|          3|  High/ Medium|     Lean|       No|     CAM|           19|Sep 11, 2018|                null|                2021|  5.11|  155.7528| 161.0| 73.028312|      65|       66|             54|          68|     61|       70|   58|        56|         62|         68|          76|         72|     70|       67|     64|       63|     41|     60|      64|       65|        55|           49|         59|    65|       58|       59|     47|            48|           51|      10|         7|       11|           11|        15|              1.9|     72|       74|  3800000|\n",
            "|202157|    A. Behich| 27|https://cdn.sofif...|  Australia|https://cdn.sofif...|     74|       75|                 PSV|https://cdn.sofif...|       5|     13|   1999|          Left|                       1|        4|          3|  High/ Medium|   Normal|       No|      LB|           16|Aug 31, 2018|                null|                2022|   5.7|   173.736| 139.0| 63.049288|      74|       65|             54|          74|     57|       74|   72|        55|         71|         72|          84|         83|     84|       66|     86|       72|     73|     82|      52|       62|        79|           66|         63|    50|       47|       65|     70|            73|           74|      14|        11|       11|           14|        15|              7.4|     72|       72|  2600000|\n",
            "|165735|     B. Jones| 36|https://cdn.sofif...|  Australia|https://cdn.sofif...|     75|       75|            Al Nassr|https://cdn.sofif...|    900K|     17|   1171|          Left|                       1|        2|          1|Medium/ Medium|   Normal|       No|      GK|            1| Aug 1, 2018|                null|                2020|   6.4|   195.072| 192.0| 87.089664|      19|       17|             11|          28|     11|       18|   13|        12|         18|         22|          52|         55|     25|       75|     30|       24|     70|     40|      72|       11|        32|           23|         17|    30|       35|       56|     17|            13|           13|      75|        69|       69|           80|        75|              1.5|     72|       72|   325000|\n",
            "|195033|    M. Leckie| 27|https://cdn.sofif...|  Australia|https://cdn.sofif...|     75|       75|          Hertha BSC|https://cdn.sofif...|       7|     25|   1967|         Right|                       2|        4|          3|  High/ Medium|   Normal|       No|      RM|            7| Jul 1, 2017|                null|                2021|  5.11|  155.7528| 181.0| 82.100152|      76|       68|             72|          68|     65|       76|   72|        36|         54|         75|          91|         89|     75|       70|     78|       74|     87|     77|      70|       67|        73|           54|         73|    65|       69|       67|     63|            48|           40|       8|        10|        8|            6|        10|             11.9|     72|       72|  3000000|\n",
            "|240649|   J. Roberts| 17|https://cdn.sofif...|  Australia|https://cdn.sofif...|     55|       75|Western Sydney Wa...|https://cdn.sofif...|    180K|      1|   1324|         Right|                       1|        4|          2|  High/ Medium|     Lean|       No|      ST|           32| Jan 4, 2018|                null|                2020|   5.7|   173.736| 150.0|   68.0388|      27|       57|             53|          42|     35|       51|   31|        25|         31|         48|          86|         83|     51|       48|     84|       54|     64|     57|      66|       48|        30|           13|         46|    40|       57|       48|     31|            12|           19|       9|         5|        5|            6|        10|             405K|   null|     null|     null|\n",
            "|240096|     L. Brook| 17|https://cdn.sofif...|  Australia|https://cdn.sofif...|     53|       75|     Adelaide United|https://cdn.sofif...|    130K|      1|   1336|          Left|                       1|        3|          3|Medium/ Medium|     Lean|       No|     CAM|           18| Jun 1, 2017|                null|                2019|   5.1|   155.448| 152.0| 68.945984|      32|       41|             32|          58|     48|       50|   51|        32|         48|         57|          72|         65|     70|       38|     64|       55|     61|     47|      48|       32|        41|           18|         38|    57|       44|       54|     18|            30|           38|      10|         9|       15|           10|         7|             293K|     57|       74|   220000|\n",
            "|211378|    J. Irvine| 25|https://cdn.sofif...|  Australia|https://cdn.sofif...|     71|       75|           Hull City|https://cdn.sofif...|     3.1|     17|   1982|         Right|                       1|        3|          3|    High/ High|   Normal|       No|     CAM|           22|Aug 30, 2017|                null|                2020|   6.2|   188.976| 154.0| 69.853168|      61|       70|             73|          69|     58|       67|   60|        63|         65|         71|          75|         68|     62|       74|     66|       72|     82|     81|      80|       66|        75|           69|         71|    71|       55|       71|     68|            71|           68|       7|        13|       11|            9|        11|                6|     70|       72|        0|\n",
            "|224297|  A. Gersbach| 21|https://cdn.sofif...|  Australia|https://cdn.sofif...|     65|       75|        Rosenborg BK|https://cdn.sofif...|    750K|      1|   1653|          Left|                       1|        3|          2|Medium/ Medium|   Normal|       No|      LB|            3|Jan 31, 2016|                null|                2019|   6.0|    182.88| 161.0| 73.028312|      61|       34|             53|          60|     33|       59|   54|        44|         50|         60|          82|         80|     79|       60|     69|       36|     62|     73|      71|       34|        61|           61|         59|    54|       33|       60|     63|            63|           61|      10|         7|        9|            7|        11|              1.1|     64|       72|   600000|\n",
            "+------+-------------+---+--------------------+-----------+--------------------+-------+---------+--------------------+--------------------+--------+-------+-------+--------------+------------------------+---------+-----------+--------------+---------+---------+--------+-------------+------------+--------------------+--------------------+------+----------+------+----------+--------+---------+---------------+------------+-------+---------+-----+----------+-----------+-----------+------------+-----------+-------+---------+-------+---------+-------+-------+--------+---------+----------+-------------+-----------+------+---------+---------+-------+--------------+-------------+--------+----------+---------+-------------+----------+-----------------+-------+---------+---------+\n",
            "only showing top 20 rows\n",
            "\n"
          ],
          "name": "stdout"
        }
      ]
    },
    {
      "cell_type": "code",
      "metadata": {
        "colab": {
          "base_uri": "https://localhost:8080/"
        },
        "id": "JJ8O54qdSYum",
        "outputId": "2b79c589-1376-4f24-ba97-3d7dac015fb5"
      },
      "source": [
        "# finding the Australian player with highest potential\n",
        "df.filter(df.Nationality.isin('Australia')).sort('Potential', ascending=False).show()"
      ],
      "execution_count": 24,
      "outputs": [
        {
          "output_type": "stream",
          "text": [
            "+------+-------------+---+--------------------+-----------+--------------------+-------+---------+--------------------+--------------------+--------+-------+-------+--------------+------------------------+---------+-----------+--------------+---------+---------+--------+-------------+------------+--------------------+--------------------+------+----------+------+----------+--------+---------+---------------+------------+-------+---------+-----+----------+-----------+-----------+------------+-----------+-------+---------+-------+---------+-------+-------+--------+---------+----------+-------------+-----------+------+---------+---------+-------+--------------+-------------+--------+----------+---------+-------------+----------+-----------------+-------+---------+---------+\n",
            "|    ID|         Name|Age|               Photo|Nationality|                Flag|Overall|Potential|                Club|           Club Logo|value(M)|wage(K)|Special|Preferred Foot|International Reputation|Weak Foot|Skill Moves|     Work Rate|Body Type|Real Face|Position|Jersey Number|      Joined|         Loaned From|Contract Valid Until|Height|Height(CM)|Weight|Weight(KG)|Crossing|Finishing|HeadingAccuracy|ShortPassing|Volleys|Dribbling|Curve|FKAccuracy|LongPassing|BallControl|Acceleration|SprintSpeed|Agility|Reactions|Balance|ShotPower|Jumping|Stamina|Strength|LongShots|Aggression|Interceptions|Positioning|Vision|Penalties|Composure|Marking|StandingTackle|SlidingTackle|GKDiving|GKHandling|GKKicking|GKPositioning|GKReflexes|Release Clause(M)|overall|potential|value_eur|\n",
            "+------+-------------+---+--------------------+-----------+--------------------+-------+---------+--------------------+--------------------+--------+-------+-------+--------------+------------------------+---------+-----------+--------------+---------+---------+--------+-------------+------------+--------------------+--------------------+------+----------+------+----------+--------+---------+---------------+------------+-------+---------+-----+----------+-----------+-----------+------------+-----------+-------+---------+-------+---------+-------+-------+--------+---------+----------+-------------+-----------+------+---------+---------+-------+--------------+-------------+--------+----------+---------+-------------+----------+-----------------+-------+---------+---------+\n",
            "|234867|    D. Arzani| 19|https://cdn.sofif...|  Australia|https://cdn.sofif...|     69|       83|              Celtic|https://cdn.sofif...|     2.3|     20|   1575|         Right|                       1|        3|          4|     High/ Low|     Lean|      Yes|      RM|           14|        null|     Manchester City|        Jun 30, 2020|   5.7|   173.736| 161.0| 73.028312|      65|       63|             23|          64|     51|       76|   66|        40|         58|         69|          79|         80|     80|       58|     62|       53|     33|     61|      32|       57|        35|           23|         62|    65|       64|       65|     34|            33|           35|       8|         8|       14|           10|        14|             null|     68|       82|  2000000|\n",
            "|199005|      M. Ryan| 26|https://cdn.sofif...|  Australia|https://cdn.sofif...|     79|       81|Brighton & Hove A...|https://cdn.sofif...|    10.5|     41|   1341|         Right|                       1|        4|          1|Medium/ Medium|   Normal|      Yes|      GK|            1| Jul 1, 2017|                null|                2022|   6.0|    182.88| 181.0| 82.100152|      23|       11|             14|          40|     15|       13|   23|        12|         45|         24|          53|         52|     53|       73|     50|       35|     78|     34|      68|       18|        36|           23|         10|    68|       25|       64|     10|            20|           17|      81|        74|       82|           78|        83|             20.7|     80|       82| 13000000|\n",
            "|229585|   M. Degenek| 24|https://cdn.sofif...|  Australia|https://cdn.sofif...|     73|       80|                null|https://cdn.sofif...|    null|   null|   1995|         Right|                       1|        4|          2|    High/ High|     Lean|       No|      CB|            2|        null|                null|                null|   6.2|   188.976| 181.0| 82.100152|      70|       59|             70|          74|     62|       58|   69|        44|         72|         64|          79|         79|     78|       72|     70|       70|     81|     86|      84|       61|        81|           70|         55|    67|       58|       80|     65|            71|           71|      14|        12|        7|           10|        12|             null|     73|       78|        0|\n",
            "|241861|  N. Atkinson| 19|https://cdn.sofif...|  Australia|https://cdn.sofif...|     64|       79|   Melbourne City FC|https://cdn.sofif...|    875K|      1|   1778|         Right|                       1|        4|          3|  High/ Medium|   Normal|       No|      RW|           13|Dec 10, 2017|                null|                2020|  5.11|  155.7528| 159.0| 72.121128|      59|       46|             38|          61|     31|       65|   65|        38|         55|         64|          84|         80|     86|       62|     89|       44|     88|     75|      74|       43|        55|           54|         66|    60|       51|       66|     64|            65|           60|      15|        11|       12|           12|         6|              1.6|     65|       74|   750000|\n",
            "|207928|     T. Rogi?| 25|https://cdn.sofif...|  Australia|https://cdn.sofif...|     76|       79|              Celtic|https://cdn.sofif...|     9.5|     46|   1885|          Left|                       1|        4|          4|Medium/ Medium|   Normal|       No|     CAM|           23| Jan 9, 2013|                null|                2023|   6.2|   188.976| 194.0| 87.996848|      61|       70|             60|          76|     68|       82|   76|        57|         70|         82|          74|         66|     74|       64|     75|       82|     52|     55|      77|       80|        48|           38|         75|    73|       56|       83|     46|            48|           41|      12|        11|       13|           12|        11|             17.8|     73|       74|  4600000|\n",
            "|241552|  J. Italiano| 16|https://cdn.sofif...|  Australia|https://cdn.sofif...|     58|       79|         Perth Glory|https://cdn.sofif...|    280K|      1|   1434|         Right|                       1|        2|          3|  High/ Medium|     Lean|       No|      LM|           26|Oct 15, 2017|                null|                2019|   5.7|   173.736| 143.0| 64.863656|      43|       50|             36|          61|     35|       59|   41|        36|         57|         56|          80|         72|     72|       53|     79|       54|     58|     57|      42|       33|        38|           22|         53|    52|       40|       57|     36|            38|           43|       7|         7|        9|           10|         5|             630K|     61|       82|   575000|\n",
            "|212830|     A. Mabil| 22|https://cdn.sofif...|  Australia|https://cdn.sofif...|     70|       78|      FC Midtjylland|https://cdn.sofif...|     2.6|     12|   1651|         Right|                       1|        2|          4|   Medium/ Low|     Lean|       No|      RW|           21|Jul 28, 2015|                null|                2022|   5.1|   155.448| 161.0| 73.028312|      68|       59|             33|          62|     48|       75|   62|        60|         47|         73|          93|         92|     85|       65|     72|       60|     56|     68|      43|       44|        35|           25|         65|    57|       53|       60|     37|            23|           20|      16|        12|       18|           13|        12|              3.9|     72|       75|  3900000|\n",
            "|213488|  D. De Silva| 21|https://cdn.sofif...|  Australia|https://cdn.sofif...|     67|       78|           Sydney FC|https://cdn.sofif...|     1.3|      1|   1679|         Right|                       1|        4|          3|    High/ High|     Lean|       No|     CAM|           11|        null|Central Coast Mar...|        May 31, 2019|   5.7|   173.736| 132.0| 59.874144|      47|       59|             27|          65|     59|       70|   62|        45|         63|         72|          77|         74|     81|       56|     88|       59|     77|     89|      67|       65|        36|           30|         60|    64|       50|       67|     32|            36|           20|       7|         9|        8|           15|        10|             null|     65|       72|   750000|\n",
            "|233487|    R. McGree| 19|https://cdn.sofif...|  Australia|https://cdn.sofif...|     66|       77|   Melbourne City FC|https://cdn.sofif...|     1.1|      3|   1790|          Left|                       1|        3|          3|Medium/ Medium|   Normal|       No|     RCM|            8|        null|      Club Brugge KV|        May 31, 2019|   5.1|   155.448| 159.0| 72.121128|      53|       63|             48|          66|     40|       70|   65|        55|         64|         69|          76|         76|     76|       62|     75|       64|     58|     74|      63|       58|        68|           60|         66|    64|       44|       68|     57|            57|           52|      12|         9|        5|            8|        13|             null|     71|       78|  3300000|\n",
            "|205347|    M. Luongo| 25|https://cdn.sofif...|  Australia|https://cdn.sofif...|     74|       77| Queens Park Rangers|https://cdn.sofif...|       6|      9|   1960|         Right|                       1|        3|          3|  Medium/ High|   Normal|       No|     RDM|            8|May 28, 2015|                null|                2020|   5.9|   179.832| 168.0| 76.203456|      51|       63|             59|          71|     46|       74|   49|        46|         68|         72|          73|         74|     79|       72|     76|       69|     84|     92|      72|       63|        76|           72|         65|    70|       52|       63|     64|            77|           74|      15|        13|        9|           14|         6|             11.9|     71|       73|  2500000|\n",
            "|199000| T. Sainsbury| 26|https://cdn.sofif...|  Australia|https://cdn.sofif...|     74|       77|                 PSV|https://cdn.sofif...|       6|     13|   1836|         Right|                       1|        3|          2|Medium/ Medium|     Lean|       No|     RCB|           20| Aug 7, 2018|                null|                2021|   6.0|    182.88| 172.0| 78.017824|      58|       45|             74|          67|     33|       55|   62|        25|         68|         55|          74|         74|     67|       74|     73|       61|     77|     75|      76|       43|        62|           77|         52|    62|       63|       70|     82|            70|           76|      13|        12|       11|           14|         6|              8.9|     72|       73|  3000000|\n",
            "|230888|   A. O'Neill| 19|https://cdn.sofif...|  Australia|https://cdn.sofif...|     65|       77|Central Coast Mar...|https://cdn.sofif...|    925K|      6|   1781|         Right|                       1|        2|          3|Medium/ Medium|   Normal|      Yes|      RM|           13|        null|             Burnley|        May 31, 2019|   5.1|   155.448| 154.0| 69.853168|      53|       66|             45|          66|     49|       63|   58|        42|         64|         66|          78|         77|     79|       60|     72|       61|     71|     80|      61|       69|        56|           61|         59|    60|       49|       70|     59|            55|           49|      10|        15|        7|           12|         9|             null|     65|       72|   750000|\n",
            "|228171|C. Ikonomidis| 23|https://cdn.sofif...|  Australia|https://cdn.sofif...|     68|       76|         Perth Glory|https://cdn.sofif...|     1.3|      3|   1756|         Right|                       1|        4|          3|  High/ Medium|     Lean|       No|     CAM|           19|Sep 11, 2018|                null|                2021|  5.11|  155.7528| 161.0| 73.028312|      65|       66|             54|          68|     61|       70|   58|        56|         62|         68|          76|         72|     70|       67|     64|       63|     41|     60|      64|       65|        55|           49|         59|    65|       58|       59|     47|            48|           51|      10|         7|       11|           11|        15|              1.9|     72|       74|  3800000|\n",
            "|202157|    A. Behich| 27|https://cdn.sofif...|  Australia|https://cdn.sofif...|     74|       75|                 PSV|https://cdn.sofif...|       5|     13|   1999|          Left|                       1|        4|          3|  High/ Medium|   Normal|       No|      LB|           16|Aug 31, 2018|                null|                2022|   5.7|   173.736| 139.0| 63.049288|      74|       65|             54|          74|     57|       74|   72|        55|         71|         72|          84|         83|     84|       66|     86|       72|     73|     82|      52|       62|        79|           66|         63|    50|       47|       65|     70|            73|           74|      14|        11|       11|           14|        15|              7.4|     72|       72|  2600000|\n",
            "|165735|     B. Jones| 36|https://cdn.sofif...|  Australia|https://cdn.sofif...|     75|       75|            Al Nassr|https://cdn.sofif...|    900K|     17|   1171|          Left|                       1|        2|          1|Medium/ Medium|   Normal|       No|      GK|            1| Aug 1, 2018|                null|                2020|   6.4|   195.072| 192.0| 87.089664|      19|       17|             11|          28|     11|       18|   13|        12|         18|         22|          52|         55|     25|       75|     30|       24|     70|     40|      72|       11|        32|           23|         17|    30|       35|       56|     17|            13|           13|      75|        69|       69|           80|        75|              1.5|     72|       72|   325000|\n",
            "|195033|    M. Leckie| 27|https://cdn.sofif...|  Australia|https://cdn.sofif...|     75|       75|          Hertha BSC|https://cdn.sofif...|       7|     25|   1967|         Right|                       2|        4|          3|  High/ Medium|   Normal|       No|      RM|            7| Jul 1, 2017|                null|                2021|  5.11|  155.7528| 181.0| 82.100152|      76|       68|             72|          68|     65|       76|   72|        36|         54|         75|          91|         89|     75|       70|     78|       74|     87|     77|      70|       67|        73|           54|         73|    65|       69|       67|     63|            48|           40|       8|        10|        8|            6|        10|             11.9|     72|       72|  3000000|\n",
            "|240649|   J. Roberts| 17|https://cdn.sofif...|  Australia|https://cdn.sofif...|     55|       75|Western Sydney Wa...|https://cdn.sofif...|    180K|      1|   1324|         Right|                       1|        4|          2|  High/ Medium|     Lean|       No|      ST|           32| Jan 4, 2018|                null|                2020|   5.7|   173.736| 150.0|   68.0388|      27|       57|             53|          42|     35|       51|   31|        25|         31|         48|          86|         83|     51|       48|     84|       54|     64|     57|      66|       48|        30|           13|         46|    40|       57|       48|     31|            12|           19|       9|         5|        5|            6|        10|             405K|   null|     null|     null|\n",
            "|240096|     L. Brook| 17|https://cdn.sofif...|  Australia|https://cdn.sofif...|     53|       75|     Adelaide United|https://cdn.sofif...|    130K|      1|   1336|          Left|                       1|        3|          3|Medium/ Medium|     Lean|       No|     CAM|           18| Jun 1, 2017|                null|                2019|   5.1|   155.448| 152.0| 68.945984|      32|       41|             32|          58|     48|       50|   51|        32|         48|         57|          72|         65|     70|       38|     64|       55|     61|     47|      48|       32|        41|           18|         38|    57|       44|       54|     18|            30|           38|      10|         9|       15|           10|         7|             293K|     57|       74|   220000|\n",
            "|211378|    J. Irvine| 25|https://cdn.sofif...|  Australia|https://cdn.sofif...|     71|       75|           Hull City|https://cdn.sofif...|     3.1|     17|   1982|         Right|                       1|        3|          3|    High/ High|   Normal|       No|     CAM|           22|Aug 30, 2017|                null|                2020|   6.2|   188.976| 154.0| 69.853168|      61|       70|             73|          69|     58|       67|   60|        63|         65|         71|          75|         68|     62|       74|     66|       72|     82|     81|      80|       66|        75|           69|         71|    71|       55|       71|     68|            71|           68|       7|        13|       11|            9|        11|                6|     70|       72|        0|\n",
            "|224297|  A. Gersbach| 21|https://cdn.sofif...|  Australia|https://cdn.sofif...|     65|       75|        Rosenborg BK|https://cdn.sofif...|    750K|      1|   1653|          Left|                       1|        3|          2|Medium/ Medium|   Normal|       No|      LB|            3|Jan 31, 2016|                null|                2019|   6.0|    182.88| 161.0| 73.028312|      61|       34|             53|          60|     33|       59|   54|        44|         50|         60|          82|         80|     79|       60|     69|       36|     62|     73|      71|       34|        61|           61|         59|    54|       33|       60|     63|            63|           61|      10|         7|        9|            7|        11|              1.1|     64|       72|   600000|\n",
            "+------+-------------+---+--------------------+-----------+--------------------+-------+---------+--------------------+--------------------+--------+-------+-------+--------------+------------------------+---------+-----------+--------------+---------+---------+--------+-------------+------------+--------------------+--------------------+------+----------+------+----------+--------+---------+---------------+------------+-------+---------+-----+----------+-----------+-----------+------------+-----------+-------+---------+-------+---------+-------+-------+--------+---------+----------+-------------+-----------+------+---------+---------+-------+--------------+-------------+--------+----------+---------+-------------+----------+-----------------+-------+---------+---------+\n",
            "only showing top 20 rows\n",
            "\n"
          ],
          "name": "stdout"
        }
      ]
    },
    {
      "cell_type": "code",
      "metadata": {
        "colab": {
          "base_uri": "https://localhost:8080/"
        },
        "id": "kHlFkOmqsR0I",
        "outputId": "42eb7312-11df-43e2-a70c-1a54549ab45b"
      },
      "source": [
        "# finding the Australian player with lowest potential\n",
        "spark.sql(\"\"\"\n",
        "          Select * from soccer_analysis Where Nationality = 'Australia' Order By Potential Asc\n",
        "          \"\"\").show()"
      ],
      "execution_count": 50,
      "outputs": [
        {
          "output_type": "stream",
          "text": [
            "+------+--------------+---+--------------------+-----------+--------------------+-------+---------+--------------------+--------------------+--------+-------+-------+--------------+------------------------+---------+-----------+--------------+---------+---------+--------+-------------+------------+-----------+--------------------+------+----------+------+----------+--------+---------+---------------+------------+-------+---------+-----+----------+-----------+-----------+------------+-----------+-------+---------+-------+---------+-------+-------+--------+---------+----------+-------------+-----------+------+---------+---------+-------+--------------+-------------+--------+----------+---------+-------------+----------+-----------------+-------+---------+---------+\n",
            "|    ID|          Name|Age|               Photo|Nationality|                Flag|Overall|Potential|                Club|           Club Logo|value(M)|wage(K)|Special|Preferred Foot|International Reputation|Weak Foot|Skill Moves|     Work Rate|Body Type|Real Face|Position|Jersey Number|      Joined|Loaned From|Contract Valid Until|Height|Height(CM)|Weight|Weight(KG)|Crossing|Finishing|HeadingAccuracy|ShortPassing|Volleys|Dribbling|Curve|FKAccuracy|LongPassing|BallControl|Acceleration|SprintSpeed|Agility|Reactions|Balance|ShotPower|Jumping|Stamina|Strength|LongShots|Aggression|Interceptions|Positioning|Vision|Penalties|Composure|Marking|StandingTackle|SlidingTackle|GKDiving|GKHandling|GKKicking|GKPositioning|GKReflexes|Release Clause(M)|overall|potential|value_eur|\n",
            "+------+--------------+---+--------------------+-----------+--------------------+-------+---------+--------------------+--------------------+--------+-------+-------+--------------+------------------------+---------+-----------+--------------+---------+---------+--------+-------------+------------+-----------+--------------------+------+----------+------+----------+--------+---------+---------------+------------+-------+---------+-----+----------+-----------+-----------+------------+-----------+-------+---------+-------+---------+-------+-------+--------+---------+----------+-------------+-----------+------+---------+---------+-------+--------------+-------------+--------+----------+---------+-------------+----------+-----------------+-------+---------+---------+\n",
            "|181015|    B. Kennedy| 31|https://cdn.sofif...|  Australia|https://cdn.sofif...|     56|       56|Central Coast Mar...|https://cdn.sofif...|     50K|      1|    983|         Right|                       1|        2|          1|Medium/ Medium|   Normal|       No|      GK|            1|Jun 22, 2017|       null|                2021|   6.2|   188.976| 183.0| 83.007336|      15|       13|             12|          24|     12|       14|   20|        15|         30|         18|          41|         44|     32|       49|     41|       16|     61|     24|      59|       13|        31|           19|          7|    30|       21|       39|     12|            13|           18|      59|        49|       58|           59|        54|              63K|   null|     null|     null|\n",
            "|246196|        R. Way| 28|https://cdn.sofif...|  Australia|https://cdn.sofif...|     58|       58|  Wellington Phoenix|https://cdn.sofif...|    100K|      1|   1603|         Right|                       1|        2|          2|Medium/ Medium|   Stocky|       No|      LB|            3|Oct 17, 2018|       null|                2019|   6.0|    182.88| 194.0| 87.996848|      57|       57|             56|          51|     50|       54|   39|        36|         46|         56|          57|         60|     52|       53|     55|       56|     67|     62|      81|       59|        80|           56|         53|    47|       55|       52|     53|            56|           60|       6|         5|        8|            8|        12|             125K|   null|     null|     null|\n",
            "|198761|    B. McGrath| 27|https://cdn.sofif...|  Australia|https://cdn.sofif...|     59|       59|          Esbjerg fB|https://cdn.sofif...|    170K|      2|   1528|         Right|                       1|        3|          2|     High/ Low|   Normal|       No|      ST|           22| Jul 1, 2016|       null|                2019|   6.0|    182.88| 176.0| 79.832192|      50|       57|             49|          44|     63|       54|   55|        42|         35|         59|          68|         66|     68|       69|     55|       55|     61|     73|      67|       45|        68|           20|         62|    54|       62|       41|     30|            18|           16|      16|        13|       14|            9|        11|             213K|   null|     null|     null|\n",
            "|241597|      B. White| 26|https://cdn.sofif...|  Australia|https://cdn.sofif...|     56|       59|       Brisbane Roar|https://cdn.sofif...|     80K|      1|    909|         Right|                       1|        1|          1|Medium/ Medium|   Normal|       No|      GK|           30| Nov 4, 2017|       null|                2019|   6.0|    182.88| 165.0|  74.84268|      11|       10|             13|          28|      7|       12|   11|        14|         20|         15|          32|         26|     28|       51|     49|       19|     64|     20|      62|        9|        25|           14|          8|    38|       11|       39|     11|            13|           11|      54|        58|       54|           54|        57|             106K|   null|     null|     null|\n",
            "|180755|    T. Velaphi| 31|https://cdn.sofif...|  Australia|https://cdn.sofif...|     60|       60|         Perth Glory|https://cdn.sofif...|    130K|      1|   1006|         Right|                       1|        2|          1|Medium/ Medium|     Lean|       No|      GK|            1| Jul 2, 2018|       null|                2019|   6.1|   185.928| 165.0|  74.84268|      15|       12|             13|          33|     13|       11|   17|        12|         22|         15|          53|         53|     56|       67|     28|       17|     31|     34|      65|       12|        19|           19|          9|    30|       23|       44|      9|            14|           15|      60|        55|       55|           59|        60|             163K|   null|     null|     null|\n",
            "|209887|      J. Oates| 27|https://cdn.sofif...|  Australia|https://cdn.sofif...|     60|       60|         Exeter City|https://cdn.sofif...|    170K|      2|   1543|         Right|                       1|        3|          2|  Medium/ High|   Normal|       No|      RB|           18|Jul 24, 2018|       null|                2020|  5.11|  155.7528| 176.0| 79.832192|      59|       48|             36|          48|     40|       57|   49|        35|         37|         58|          76|         74|     71|       51|     65|       36|     70|     79|      63|       28|        48|           55|         47|    35|       37|       41|     57|            60|           55|      15|        13|       10|           15|        16|             298K|   null|     null|     null|\n",
            "|211768|   L. Italiano| 27|https://cdn.sofif...|  Australia|https://cdn.sofif...|     58|       60|      Newcastle Jets|https://cdn.sofif...|    100K|      1|    946|          Left|                       1|        2|          1|Medium/ Medium|   Normal|       No|      GK|           21|Sep 26, 2018|       null|                2019|   6.2|   188.976| 183.0| 83.007336|      20|       12|             14|          21|     16|       17|   15|        13|         25|         16|          44|         42|     39|       54|     37|        9|     46|     22|      53|       11|        30|           15|          6|    20|       22|       28|     12|            14|           16|      61|        53|       58|           54|        59|             133K|     59|       59|   110000|\n",
            "|236525|      R. Lowry| 24|https://cdn.sofif...|  Australia|https://cdn.sofif...|     58|       60|  Wellington Phoenix|https://cdn.sofif...|    130K|      1|   1345|          Left|                       1|        3|          2|Medium/ Medium|   Stocky|       No|      CB|            5|Sep 30, 2016|       null|                2019|  5.11|  155.7528| 154.0| 69.853168|      48|       25|             57|          40|     26|       41|   35|        24|         34|         47|          54|         55|     52|       48|     55|       37|     68|     62|      69|       21|        62|           52|         41|    32|       35|       52|     59|            57|           59|      13|        14|        9|            8|         6|             172K|   null|     null|     null|\n",
            "|180753|     M. Bridge| 32|https://cdn.sofif...|  Australia|https://cdn.sofif...|     61|       61|Western Sydney Wa...|https://cdn.sofif...|    200K|      2|   1648|         Right|                       1|        3|          2|Medium/ Medium|   Normal|       No|      LW|           19|Jul 18, 2017|       null|                2019|  5.11|  155.7528| 176.0| 79.832192|      64|       67|             61|          59|     60|       62|   69|        49|         35|         60|          61|         64|     70|       59|     64|       62|     64|     63|      65|       59|        46|           25|         57|    53|       67|       53|     54|            46|           27|      12|         7|       16|            6|        15|             250K|   null|     null|     null|\n",
            "|203569|   J. Chianese| 28|https://cdn.sofif...|  Australia|https://cdn.sofif...|     61|       61|         Perth Glory|https://cdn.sofif...|    250K|      1|   1593|         Right|                       1|        2|          2|  Medium/ High|   Normal|       No|      RM|            7|Aug 30, 2016|       null|                2019|   5.9|   179.832| 165.0|  74.84268|      51|       59|             42|          61|     65|       58|   61|        52|         50|         64|          59|         69|     70|       61|     63|       60|     48|     66|      63|       54|        35|           38|         64|    59|       55|       59|     30|            34|           45|      15|        16|        7|           10|         9|             313K|   null|     null|     null|\n",
            "|191006|      A. Golec| 28|https://cdn.sofif...|  Australia|https://cdn.sofif...|     62|       62|Central Coast Mar...|https://cdn.sofif...|    250K|      1|   1392|          Left|                       1|        4|          2|Medium/ Medium|   Normal|       No|     LCB|            5| Jun 1, 2017|       null|                2019|   6.3|   192.024| 187.0| 84.821704|      55|       32|             51|          48|     24|       43|   48|        24|         51|         47|          45|         53|     56|       50|     36|       43|     76|     65|      77|       12|        59|           64|         37|    24|       32|       53|     59|            65|           62|       7|         6|       14|           15|        12|             313K|   null|     null|     null|\n",
            "|183025|      M. Simon| 32|https://cdn.sofif...|  Australia|https://cdn.sofif...|     62|       62|Central Coast Mar...|https://cdn.sofif...|    240K|      1|   1651|         Right|                       1|        3|          2|    High/ High|   Normal|       No|      ST|           19| Jun 1, 2018|       null|                2020|   6.2|   188.976| 172.0| 78.017824|      48|       58|             61|          48|     36|       52|   38|        29|         37|         61|          71|         73|     64|       60|     32|       66|     84|     85|      85|       58|        90|           48|         63|    49|       64|       56|     29|            49|           39|      16|        15|       11|           16|        16|             300K|     61|       61|   130000|\n",
            "|209834|K. Appiah-Kubi| 26|https://cdn.sofif...|  Australia|https://cdn.sofif...|     61|       62|   Incheon United FC|https://cdn.sofif...|    300K|      1|   1628|         Right|                       1|        1|          3|Medium/ Medium|     Lean|       No|      RW|           19|Feb 17, 2018|       null|                2022|  5.11|  155.7528| 154.0| 69.853168|      57|       42|             63|          56|     44|       68|   45|        44|         54|         58|          92|         92|     90|       55|     91|       41|     72|     78|      58|       40|        51|           42|         53|    53|       39|       55|     41|            28|           38|       6|         7|        8|           13|         9|             398K|   null|     null|     null|\n",
            "|223083|     M. Austin| 27|https://cdn.sofif...|  Australia|https://cdn.sofif...|     62|       62|      Newcastle Jets|https://cdn.sofif...|    325K|      1|   1724|          Left|                       1|        3|          3|  High/ Medium|   Normal|       No|      LW|           27|Sep 14, 2018|       null|                2019|   6.1|   185.928| 172.0| 78.017824|      64|       61|             51|          55|     36|       62|   57|        55|         48|         58|          90|         90|     81|       48|     79|       58|     76|     82|      79|       42|        40|           48|         61|    54|       63|       59|     44|            44|           46|      11|        16|        8|           10|         7|             406K|   null|     null|     null|\n",
            "|180717|      L. Reddy| 36|https://cdn.sofif...|  Australia|https://cdn.sofif...|     62|       62|         Perth Glory|https://cdn.sofif...|     40K|      1|   1028|         Right|                       1|        2|          1|Medium/ Medium|   Normal|       No|      GK|           33|Jun 24, 2016|       null|                2019|   6.2|   188.976| 198.0| 89.811216|      10|       10|             10|          17|     10|       10|   13|        12|         18|         19|          48|         48|     45|       62|     47|       24|     45|     39|      69|       10|        44|           18|          8|    35|       21|       62|     13|            11|           10|      61|        58|       58|           63|        62|              50K|     63|       63|    35000|\n",
            "|226094|      S. Brady| 22|https://cdn.sofif...|  Australia|https://cdn.sofif...|     54|       63|       Brisbane Roar|https://cdn.sofif...|    100K|      1|   1429|         Right|                       1|        2|          2|Medium/ Medium|     Lean|       No|      RW|           20|Nov 14, 2014|       null|                2019|   5.9|   179.832| 141.0| 63.956472|      51|       47|             44|          55|     39|       56|   42|        41|         52|         47|          74|         58|     83|       43|     77|       45|     51|     40|      28|       31|        47|           31|         58|    56|       53|       52|     34|            47|           44|      14|         7|       12|           14|         8|             145K|   null|     null|     null|\n",
            "|185256|    J. Hoffman| 29|https://cdn.sofif...|  Australia|https://cdn.sofif...|     63|       63|      Newcastle Jets|https://cdn.sofif...|    350K|      1|   1683|         Right|                       1|        2|          2|  High/ Medium|     Lean|       No|      ST|            3|Jul 16, 2015|       null|                2020|   6.2|   188.976| 174.0| 78.925008|      60|       58|             54|          60|     43|       59|   55|        32|         38|         61|          75|         77|     52|       61|     51|       53|     56|     75|      78|       48|        65|           60|         63|    58|       60|       56|     56|            60|           52|      11|         9|       14|           13|        16|             438K|     63|       63|   325000|\n",
            "|203310|     C. Harold| 25|https://cdn.sofif...|  Australia|https://cdn.sofif...|     62|       63|         Perth Glory|https://cdn.sofif...|    350K|      1|   1671|         Right|                       1|        3|          2|  High/ Medium|   Normal|       No|      RM|           14| May 1, 2012|       null|                2020|   5.9|   179.832| 172.0| 78.017824|      51|       63|             56|          52|     66|       61|   49|        34|         50|         60|          89|         87|     87|       45|     73|       63|     68|     64|      61|       52|        59|           35|         66|    61|       59|       55|     30|            36|           28|      13|        13|       14|           14|        12|             464K|   null|     null|     null|\n",
            "|192651|      O. Malik| 27|https://cdn.sofif...|  Australia|https://cdn.sofif...|     63|       63|   Melbourne City FC|https://cdn.sofif...|    300K|      2|   1617|         Right|                       1|        3|          2|   Low/ Medium|   Normal|       No|     CDM|            6|Jan 23, 2016|       null|                2019|   6.1|   185.928| 165.0|  74.84268|      50|       33|             60|          61|     44|       55|   36|        32|         62|         57|          65|         66|     67|       60|     59|       39|     73|     72|      75|       38|        73|           62|         45|    57|       46|       59|     58|            60|           60|       8|        13|       15|            7|         9|             375K|     60|       60|   170000|\n",
            "|181021|    D. Djulbic| 35|https://cdn.sofif...|  Australia|https://cdn.sofif...|     63|       63|         Perth Glory|https://cdn.sofif...|     90K|      1|   1306|         Right|                       1|        3|          2|  Medium/ High|   Normal|       No|      CB|           66|Jan 22, 2018|       null|                2019|   6.4|   195.072| 198.0| 89.811216|      21|       39|             66|          41|     28|       25|   21|        42|         44|         40|          30|         35|     33|       52|     31|       59|     59|     56|      90|       29|        84|           56|         26|    35|       39|       58|     57|            64|           61|       6|        12|       12|            6|         7|             113K|   null|     null|     null|\n",
            "+------+--------------+---+--------------------+-----------+--------------------+-------+---------+--------------------+--------------------+--------+-------+-------+--------------+------------------------+---------+-----------+--------------+---------+---------+--------+-------------+------------+-----------+--------------------+------+----------+------+----------+--------+---------+---------------+------------+-------+---------+-----+----------+-----------+-----------+------------+-----------+-------+---------+-------+---------+-------+-------+--------+---------+----------+-------------+-----------+------+---------+---------+-------+--------------+-------------+--------+----------+---------+-------------+----------+-----------------+-------+---------+---------+\n",
            "only showing top 20 rows\n",
            "\n"
          ],
          "name": "stdout"
        }
      ]
    },
    {
      "cell_type": "code",
      "metadata": {
        "colab": {
          "base_uri": "https://localhost:8080/"
        },
        "id": "8lvlPn-tTg_5",
        "outputId": "dcf02417-95ef-418e-8acf-6f0f1daaf218"
      },
      "source": [
        "# finding the Australian player with lowest potential\n",
        "df.filter(df.Nationality.isin('Australia')).sort('Potential', ascending=True).show()"
      ],
      "execution_count": 25,
      "outputs": [
        {
          "output_type": "stream",
          "text": [
            "+------+--------------+---+--------------------+-----------+--------------------+-------+---------+--------------------+--------------------+--------+-------+-------+--------------+------------------------+---------+-----------+--------------+---------+---------+--------+-------------+------------+-----------+--------------------+------+----------+------+----------+--------+---------+---------------+------------+-------+---------+-----+----------+-----------+-----------+------------+-----------+-------+---------+-------+---------+-------+-------+--------+---------+----------+-------------+-----------+------+---------+---------+-------+--------------+-------------+--------+----------+---------+-------------+----------+-----------------+-------+---------+---------+\n",
            "|    ID|          Name|Age|               Photo|Nationality|                Flag|Overall|Potential|                Club|           Club Logo|value(M)|wage(K)|Special|Preferred Foot|International Reputation|Weak Foot|Skill Moves|     Work Rate|Body Type|Real Face|Position|Jersey Number|      Joined|Loaned From|Contract Valid Until|Height|Height(CM)|Weight|Weight(KG)|Crossing|Finishing|HeadingAccuracy|ShortPassing|Volleys|Dribbling|Curve|FKAccuracy|LongPassing|BallControl|Acceleration|SprintSpeed|Agility|Reactions|Balance|ShotPower|Jumping|Stamina|Strength|LongShots|Aggression|Interceptions|Positioning|Vision|Penalties|Composure|Marking|StandingTackle|SlidingTackle|GKDiving|GKHandling|GKKicking|GKPositioning|GKReflexes|Release Clause(M)|overall|potential|value_eur|\n",
            "+------+--------------+---+--------------------+-----------+--------------------+-------+---------+--------------------+--------------------+--------+-------+-------+--------------+------------------------+---------+-----------+--------------+---------+---------+--------+-------------+------------+-----------+--------------------+------+----------+------+----------+--------+---------+---------------+------------+-------+---------+-----+----------+-----------+-----------+------------+-----------+-------+---------+-------+---------+-------+-------+--------+---------+----------+-------------+-----------+------+---------+---------+-------+--------------+-------------+--------+----------+---------+-------------+----------+-----------------+-------+---------+---------+\n",
            "|181015|    B. Kennedy| 31|https://cdn.sofif...|  Australia|https://cdn.sofif...|     56|       56|Central Coast Mar...|https://cdn.sofif...|     50K|      1|    983|         Right|                       1|        2|          1|Medium/ Medium|   Normal|       No|      GK|            1|Jun 22, 2017|       null|                2021|   6.2|   188.976| 183.0| 83.007336|      15|       13|             12|          24|     12|       14|   20|        15|         30|         18|          41|         44|     32|       49|     41|       16|     61|     24|      59|       13|        31|           19|          7|    30|       21|       39|     12|            13|           18|      59|        49|       58|           59|        54|              63K|   null|     null|     null|\n",
            "|246196|        R. Way| 28|https://cdn.sofif...|  Australia|https://cdn.sofif...|     58|       58|  Wellington Phoenix|https://cdn.sofif...|    100K|      1|   1603|         Right|                       1|        2|          2|Medium/ Medium|   Stocky|       No|      LB|            3|Oct 17, 2018|       null|                2019|   6.0|    182.88| 194.0| 87.996848|      57|       57|             56|          51|     50|       54|   39|        36|         46|         56|          57|         60|     52|       53|     55|       56|     67|     62|      81|       59|        80|           56|         53|    47|       55|       52|     53|            56|           60|       6|         5|        8|            8|        12|             125K|   null|     null|     null|\n",
            "|198761|    B. McGrath| 27|https://cdn.sofif...|  Australia|https://cdn.sofif...|     59|       59|          Esbjerg fB|https://cdn.sofif...|    170K|      2|   1528|         Right|                       1|        3|          2|     High/ Low|   Normal|       No|      ST|           22| Jul 1, 2016|       null|                2019|   6.0|    182.88| 176.0| 79.832192|      50|       57|             49|          44|     63|       54|   55|        42|         35|         59|          68|         66|     68|       69|     55|       55|     61|     73|      67|       45|        68|           20|         62|    54|       62|       41|     30|            18|           16|      16|        13|       14|            9|        11|             213K|   null|     null|     null|\n",
            "|241597|      B. White| 26|https://cdn.sofif...|  Australia|https://cdn.sofif...|     56|       59|       Brisbane Roar|https://cdn.sofif...|     80K|      1|    909|         Right|                       1|        1|          1|Medium/ Medium|   Normal|       No|      GK|           30| Nov 4, 2017|       null|                2019|   6.0|    182.88| 165.0|  74.84268|      11|       10|             13|          28|      7|       12|   11|        14|         20|         15|          32|         26|     28|       51|     49|       19|     64|     20|      62|        9|        25|           14|          8|    38|       11|       39|     11|            13|           11|      54|        58|       54|           54|        57|             106K|   null|     null|     null|\n",
            "|180755|    T. Velaphi| 31|https://cdn.sofif...|  Australia|https://cdn.sofif...|     60|       60|         Perth Glory|https://cdn.sofif...|    130K|      1|   1006|         Right|                       1|        2|          1|Medium/ Medium|     Lean|       No|      GK|            1| Jul 2, 2018|       null|                2019|   6.1|   185.928| 165.0|  74.84268|      15|       12|             13|          33|     13|       11|   17|        12|         22|         15|          53|         53|     56|       67|     28|       17|     31|     34|      65|       12|        19|           19|          9|    30|       23|       44|      9|            14|           15|      60|        55|       55|           59|        60|             163K|   null|     null|     null|\n",
            "|209887|      J. Oates| 27|https://cdn.sofif...|  Australia|https://cdn.sofif...|     60|       60|         Exeter City|https://cdn.sofif...|    170K|      2|   1543|         Right|                       1|        3|          2|  Medium/ High|   Normal|       No|      RB|           18|Jul 24, 2018|       null|                2020|  5.11|  155.7528| 176.0| 79.832192|      59|       48|             36|          48|     40|       57|   49|        35|         37|         58|          76|         74|     71|       51|     65|       36|     70|     79|      63|       28|        48|           55|         47|    35|       37|       41|     57|            60|           55|      15|        13|       10|           15|        16|             298K|   null|     null|     null|\n",
            "|211768|   L. Italiano| 27|https://cdn.sofif...|  Australia|https://cdn.sofif...|     58|       60|      Newcastle Jets|https://cdn.sofif...|    100K|      1|    946|          Left|                       1|        2|          1|Medium/ Medium|   Normal|       No|      GK|           21|Sep 26, 2018|       null|                2019|   6.2|   188.976| 183.0| 83.007336|      20|       12|             14|          21|     16|       17|   15|        13|         25|         16|          44|         42|     39|       54|     37|        9|     46|     22|      53|       11|        30|           15|          6|    20|       22|       28|     12|            14|           16|      61|        53|       58|           54|        59|             133K|     59|       59|   110000|\n",
            "|236525|      R. Lowry| 24|https://cdn.sofif...|  Australia|https://cdn.sofif...|     58|       60|  Wellington Phoenix|https://cdn.sofif...|    130K|      1|   1345|          Left|                       1|        3|          2|Medium/ Medium|   Stocky|       No|      CB|            5|Sep 30, 2016|       null|                2019|  5.11|  155.7528| 154.0| 69.853168|      48|       25|             57|          40|     26|       41|   35|        24|         34|         47|          54|         55|     52|       48|     55|       37|     68|     62|      69|       21|        62|           52|         41|    32|       35|       52|     59|            57|           59|      13|        14|        9|            8|         6|             172K|   null|     null|     null|\n",
            "|180753|     M. Bridge| 32|https://cdn.sofif...|  Australia|https://cdn.sofif...|     61|       61|Western Sydney Wa...|https://cdn.sofif...|    200K|      2|   1648|         Right|                       1|        3|          2|Medium/ Medium|   Normal|       No|      LW|           19|Jul 18, 2017|       null|                2019|  5.11|  155.7528| 176.0| 79.832192|      64|       67|             61|          59|     60|       62|   69|        49|         35|         60|          61|         64|     70|       59|     64|       62|     64|     63|      65|       59|        46|           25|         57|    53|       67|       53|     54|            46|           27|      12|         7|       16|            6|        15|             250K|   null|     null|     null|\n",
            "|203569|   J. Chianese| 28|https://cdn.sofif...|  Australia|https://cdn.sofif...|     61|       61|         Perth Glory|https://cdn.sofif...|    250K|      1|   1593|         Right|                       1|        2|          2|  Medium/ High|   Normal|       No|      RM|            7|Aug 30, 2016|       null|                2019|   5.9|   179.832| 165.0|  74.84268|      51|       59|             42|          61|     65|       58|   61|        52|         50|         64|          59|         69|     70|       61|     63|       60|     48|     66|      63|       54|        35|           38|         64|    59|       55|       59|     30|            34|           45|      15|        16|        7|           10|         9|             313K|   null|     null|     null|\n",
            "|191006|      A. Golec| 28|https://cdn.sofif...|  Australia|https://cdn.sofif...|     62|       62|Central Coast Mar...|https://cdn.sofif...|    250K|      1|   1392|          Left|                       1|        4|          2|Medium/ Medium|   Normal|       No|     LCB|            5| Jun 1, 2017|       null|                2019|   6.3|   192.024| 187.0| 84.821704|      55|       32|             51|          48|     24|       43|   48|        24|         51|         47|          45|         53|     56|       50|     36|       43|     76|     65|      77|       12|        59|           64|         37|    24|       32|       53|     59|            65|           62|       7|         6|       14|           15|        12|             313K|   null|     null|     null|\n",
            "|183025|      M. Simon| 32|https://cdn.sofif...|  Australia|https://cdn.sofif...|     62|       62|Central Coast Mar...|https://cdn.sofif...|    240K|      1|   1651|         Right|                       1|        3|          2|    High/ High|   Normal|       No|      ST|           19| Jun 1, 2018|       null|                2020|   6.2|   188.976| 172.0| 78.017824|      48|       58|             61|          48|     36|       52|   38|        29|         37|         61|          71|         73|     64|       60|     32|       66|     84|     85|      85|       58|        90|           48|         63|    49|       64|       56|     29|            49|           39|      16|        15|       11|           16|        16|             300K|     61|       61|   130000|\n",
            "|209834|K. Appiah-Kubi| 26|https://cdn.sofif...|  Australia|https://cdn.sofif...|     61|       62|   Incheon United FC|https://cdn.sofif...|    300K|      1|   1628|         Right|                       1|        1|          3|Medium/ Medium|     Lean|       No|      RW|           19|Feb 17, 2018|       null|                2022|  5.11|  155.7528| 154.0| 69.853168|      57|       42|             63|          56|     44|       68|   45|        44|         54|         58|          92|         92|     90|       55|     91|       41|     72|     78|      58|       40|        51|           42|         53|    53|       39|       55|     41|            28|           38|       6|         7|        8|           13|         9|             398K|   null|     null|     null|\n",
            "|223083|     M. Austin| 27|https://cdn.sofif...|  Australia|https://cdn.sofif...|     62|       62|      Newcastle Jets|https://cdn.sofif...|    325K|      1|   1724|          Left|                       1|        3|          3|  High/ Medium|   Normal|       No|      LW|           27|Sep 14, 2018|       null|                2019|   6.1|   185.928| 172.0| 78.017824|      64|       61|             51|          55|     36|       62|   57|        55|         48|         58|          90|         90|     81|       48|     79|       58|     76|     82|      79|       42|        40|           48|         61|    54|       63|       59|     44|            44|           46|      11|        16|        8|           10|         7|             406K|   null|     null|     null|\n",
            "|180717|      L. Reddy| 36|https://cdn.sofif...|  Australia|https://cdn.sofif...|     62|       62|         Perth Glory|https://cdn.sofif...|     40K|      1|   1028|         Right|                       1|        2|          1|Medium/ Medium|   Normal|       No|      GK|           33|Jun 24, 2016|       null|                2019|   6.2|   188.976| 198.0| 89.811216|      10|       10|             10|          17|     10|       10|   13|        12|         18|         19|          48|         48|     45|       62|     47|       24|     45|     39|      69|       10|        44|           18|          8|    35|       21|       62|     13|            11|           10|      61|        58|       58|           63|        62|              50K|     63|       63|    35000|\n",
            "|226094|      S. Brady| 22|https://cdn.sofif...|  Australia|https://cdn.sofif...|     54|       63|       Brisbane Roar|https://cdn.sofif...|    100K|      1|   1429|         Right|                       1|        2|          2|Medium/ Medium|     Lean|       No|      RW|           20|Nov 14, 2014|       null|                2019|   5.9|   179.832| 141.0| 63.956472|      51|       47|             44|          55|     39|       56|   42|        41|         52|         47|          74|         58|     83|       43|     77|       45|     51|     40|      28|       31|        47|           31|         58|    56|       53|       52|     34|            47|           44|      14|         7|       12|           14|         8|             145K|   null|     null|     null|\n",
            "|185256|    J. Hoffman| 29|https://cdn.sofif...|  Australia|https://cdn.sofif...|     63|       63|      Newcastle Jets|https://cdn.sofif...|    350K|      1|   1683|         Right|                       1|        2|          2|  High/ Medium|     Lean|       No|      ST|            3|Jul 16, 2015|       null|                2020|   6.2|   188.976| 174.0| 78.925008|      60|       58|             54|          60|     43|       59|   55|        32|         38|         61|          75|         77|     52|       61|     51|       53|     56|     75|      78|       48|        65|           60|         63|    58|       60|       56|     56|            60|           52|      11|         9|       14|           13|        16|             438K|     63|       63|   325000|\n",
            "|203310|     C. Harold| 25|https://cdn.sofif...|  Australia|https://cdn.sofif...|     62|       63|         Perth Glory|https://cdn.sofif...|    350K|      1|   1671|         Right|                       1|        3|          2|  High/ Medium|   Normal|       No|      RM|           14| May 1, 2012|       null|                2020|   5.9|   179.832| 172.0| 78.017824|      51|       63|             56|          52|     66|       61|   49|        34|         50|         60|          89|         87|     87|       45|     73|       63|     68|     64|      61|       52|        59|           35|         66|    61|       59|       55|     30|            36|           28|      13|        13|       14|           14|        12|             464K|   null|     null|     null|\n",
            "|192651|      O. Malik| 27|https://cdn.sofif...|  Australia|https://cdn.sofif...|     63|       63|   Melbourne City FC|https://cdn.sofif...|    300K|      2|   1617|         Right|                       1|        3|          2|   Low/ Medium|   Normal|       No|     CDM|            6|Jan 23, 2016|       null|                2019|   6.1|   185.928| 165.0|  74.84268|      50|       33|             60|          61|     44|       55|   36|        32|         62|         57|          65|         66|     67|       60|     59|       39|     73|     72|      75|       38|        73|           62|         45|    57|       46|       59|     58|            60|           60|       8|        13|       15|            7|         9|             375K|     60|       60|   170000|\n",
            "|181021|    D. Djulbic| 35|https://cdn.sofif...|  Australia|https://cdn.sofif...|     63|       63|         Perth Glory|https://cdn.sofif...|     90K|      1|   1306|         Right|                       1|        3|          2|  Medium/ High|   Normal|       No|      CB|           66|Jan 22, 2018|       null|                2019|   6.4|   195.072| 198.0| 89.811216|      21|       39|             66|          41|     28|       25|   21|        42|         44|         40|          30|         35|     33|       52|     31|       59|     59|     56|      90|       29|        84|           56|         26|    35|       39|       58|     57|            64|           61|       6|        12|       12|            6|         7|             113K|   null|     null|     null|\n",
            "+------+--------------+---+--------------------+-----------+--------------------+-------+---------+--------------------+--------------------+--------+-------+-------+--------------+------------------------+---------+-----------+--------------+---------+---------+--------+-------------+------------+-----------+--------------------+------+----------+------+----------+--------+---------+---------------+------------+-------+---------+-----+----------+-----------+-----------+------------+-----------+-------+---------+-------+---------+-------+-------+--------+---------+----------+-------------+-----------+------+---------+---------+-------+--------------+-------------+--------+----------+---------+-------------+----------+-----------------+-------+---------+---------+\n",
            "only showing top 20 rows\n",
            "\n"
          ],
          "name": "stdout"
        }
      ]
    },
    {
      "cell_type": "markdown",
      "metadata": {
        "id": "lGWtR6Ast7o8"
      },
      "source": [
        "**Relationship between age of players with their potential and overall**"
      ]
    },
    {
      "cell_type": "markdown",
      "metadata": {
        "id": "m7Yz_pnlxW43"
      },
      "source": [
        "Finding relationships between age and average potential and age and average overall:"
      ]
    },
    {
      "cell_type": "code",
      "metadata": {
        "colab": {
          "base_uri": "https://localhost:8080/",
          "height": 339
        },
        "id": "mRvkk376u-dE",
        "outputId": "9d9c2d53-3045-42cf-f0ae-7e7ed12477fa"
      },
      "source": [
        "import matplotlib.pyplot as plt\n",
        "import numpy as np\n",
        "import pandas as pd\n",
        "%matplotlib inline\n",
        "\n",
        "# creating two dataframes that hold Age with Average Potential and Average Overall along with renaming the aggregated columns\n",
        "df_age_potential = df.groupby('Age').avg('Potential').withColumnRenamed('avg(Potential)', 'Average Potential')\n",
        "df_age_overall = df.groupby('Age').avg('Overall').withColumnRenamed('avg(Overall)', 'Average Overall')\n",
        "\n",
        "# first, converting the above two pyspark dataframes to Pandas and storing in a variable\n",
        "# then, concatenating those two pandas dataframe setting axis 1 i.e. by column\n",
        "data = [df_age_potential.select('*').toPandas(),df_age_overall.select('Average Overall').toPandas()]\n",
        "df_age = pd.concat(data, axis=1)\n",
        "df_age.head(5)\n",
        "\n",
        "# plotting \n",
        "# creating two subplots for plotting Average Potential and Average Overall against Age\n",
        "fig, (ax1,ax2) = plt.subplots(1, 2, sharex='none', sharey='none', figsize=(15,5))\n",
        "# using first scatter plot for Average Potential and the second for Average Overall \n",
        "ax1.scatter(df_age['Age'], df_age['Average Potential'], color='r')\n",
        "ax2.scatter(df_age['Age'], df_age['Average Overall'], color='b')\n",
        "# setting y ticks, labels and titles for both plots\n",
        "ax1.set_yticks(list(range(50,78,2)))\n",
        "ax2.set_yticks(list(range(50,78,2)))\n",
        "ax1.set_xlabel('Age')\n",
        "ax1.set_ylabel('Average Potential')\n",
        "ax1.set_title('Scatter Plot: Average Potential Vs Age')\n",
        "ax2.set_xlabel('Age')\n",
        "ax2.set_ylabel('Average Overall')\n",
        "ax2.set_title('Scatter Plot: Average Overall Vs Age')\n",
        "# enabling grid view\n",
        "ax1.grid(True)\n",
        "ax2.grid(True)\n",
        "plt.show()"
      ],
      "execution_count": 26,
      "outputs": [
        {
          "output_type": "display_data",
          "data": {
            "image/png": "[encoded data removed]",
            "text/plain": [
              "<Figure size 1080x360 with 2 Axes>"
            ]
          },
          "metadata": {
            "tags": [],
            "needs_background": "light"
          }
        }
      ]
    },
    {
      "cell_type": "markdown",
      "metadata": {
        "id": "vD67c-_RxW44"
      },
      "source": [
        "It is seen from the above scatter plots that average potential decreases with age while average overall increases with age. At age 31, both average potential and average overall meet at the same point (70). So, by the age of 31, players will realise their full potential. After 31, both average potential and average overall declines. However, we can see that at 45 both average potential and overall reached a high point which can be considered as an outlier."
      ]
    },
    {
      "cell_type": "code",
      "metadata": {
        "colab": {
          "base_uri": "https://localhost:8080/",
          "height": 141
        },
        "id": "G_VNumgBNvad",
        "outputId": "61f1f0eb-8909-4197-fd63-32d4266dc7b8"
      },
      "source": [
        "# finding the correlation matrix\n",
        "df_age.corr(method ='pearson') "
      ],
      "execution_count": 27,
      "outputs": [
        {
          "output_type": "execute_result",
          "data": {
            "text/html": [
              "<div>\n",
              "<style scoped>\n",
              "    .dataframe tbody tr th:only-of-type {\n",
              "        vertical-align: middle;\n",
              "    }\n",
              "\n",
              "    .dataframe tbody tr th {\n",
              "        vertical-align: top;\n",
              "    }\n",
              "\n",
              "    .dataframe thead th {\n",
              "        text-align: right;\n",
              "    }\n",
              "</style>\n",
              "<table border=\"1\" class=\"dataframe\">\n",
              "  <thead>\n",
              "    <tr style=\"text-align: right;\">\n",
              "      <th></th>\n",
              "      <th>Age</th>\n",
              "      <th>Average Potential</th>\n",
              "      <th>Average Overall</th>\n",
              "    </tr>\n",
              "  </thead>\n",
              "  <tbody>\n",
              "    <tr>\n",
              "      <th>Age</th>\n",
              "      <td>1.000000</td>\n",
              "      <td>-0.703127</td>\n",
              "      <td>0.370369</td>\n",
              "    </tr>\n",
              "    <tr>\n",
              "      <th>Average Potential</th>\n",
              "      <td>-0.703127</td>\n",
              "      <td>1.000000</td>\n",
              "      <td>0.199843</td>\n",
              "    </tr>\n",
              "    <tr>\n",
              "      <th>Average Overall</th>\n",
              "      <td>0.370369</td>\n",
              "      <td>0.199843</td>\n",
              "      <td>1.000000</td>\n",
              "    </tr>\n",
              "  </tbody>\n",
              "</table>\n",
              "</div>"
            ],
            "text/plain": [
              "                        Age  Average Potential  Average Overall\n",
              "Age                1.000000          -0.703127         0.370369\n",
              "Average Potential -0.703127           1.000000         0.199843\n",
              "Average Overall    0.370369           0.199843         1.000000"
            ]
          },
          "metadata": {
            "tags": []
          },
          "execution_count": 27
        }
      ]
    },
    {
      "cell_type": "markdown",
      "metadata": {
        "id": "LMs7lWM2xW45"
      },
      "source": [
        "The above correlation matrix reflects the same relationship that can be seen in scatter plots."
      ]
    },
    {
      "cell_type": "markdown",
      "metadata": {
        "id": "0S3BYVijEbAM"
      },
      "source": [
        "Dealing Missing Values:"
      ]
    },
    {
      "cell_type": "markdown",
      "metadata": {
        "id": "opXJVamevgyT"
      },
      "source": [
        "In this stage, we examine the dataset to see the necessary operations required on data to ease our analysis. Based on the examination, we develop separate transformers that can perform data manipulation to output the data in a desired format."
      ]
    },
    {
      "cell_type": "code",
      "metadata": {
        "colab": {
          "base_uri": "https://localhost:8080/"
        },
        "id": "cD7QkXwC8WMh",
        "outputId": "e62568ed-a900-4845-8471-eb4c88271093"
      },
      "source": [
        "# checking the missing values\n",
        "from pyspark.sql.functions import count, col\n",
        "null_values_count = df.select([count(F.when(F.isnull(cols), cols)).alias(cols) for cols in df.columns])\n",
        "null_values_count.show()"
      ],
      "execution_count": null,
      "outputs": [
        {
          "output_type": "stream",
          "text": [
            "+---+----+---+-----+-----------+----+-------+---------+----+---------+--------+-------+-------+--------------+------------------------+---------+-----------+---------+---------+---------+--------+-------------+------+-----------+--------------------+------+----------+------+----------+--------+---------+---------------+------------+-------+---------+-----+----------+-----------+-----------+------------+-----------+-------+---------+-------+---------+-------+-------+--------+---------+----------+-------------+-----------+------+---------+---------+-------+--------------+-------------+--------+----------+---------+-------------+----------+-----------------+-------+---------+---------+\n",
            "| ID|Name|Age|Photo|Nationality|Flag|Overall|Potential|Club|Club Logo|value(M)|wage(K)|Special|Preferred Foot|International Reputation|Weak Foot|Skill Moves|Work Rate|Body Type|Real Face|Position|Jersey Number|Joined|Loaned From|Contract Valid Until|Height|Height(CM)|Weight|Weight(KG)|Crossing|Finishing|HeadingAccuracy|ShortPassing|Volleys|Dribbling|Curve|FKAccuracy|LongPassing|BallControl|Acceleration|SprintSpeed|Agility|Reactions|Balance|ShotPower|Jumping|Stamina|Strength|LongShots|Aggression|Interceptions|Positioning|Vision|Penalties|Composure|Marking|StandingTackle|SlidingTackle|GKDiving|GKHandling|GKKicking|GKPositioning|GKReflexes|Release Clause(M)|overall|potential|value_eur|\n",
            "+---+----+---+-----+-----------+----+-------+---------+----+---------+--------+-------+-------+--------------+------------------------+---------+-----------+---------+---------+---------+--------+-------------+------+-----------+--------------------+------+----------+------+----------+--------+---------+---------------+------------+-------+---------+-----+----------+-----------+-----------+------------+-----------+-------+---------+-------+---------+-------+-------+--------+---------+----------+-------------+-----------+------+---------+---------+-------+--------------+-------------+--------+----------+---------+-------------+----------+-----------------+-------+---------+---------+\n",
            "|  0|   0|  0|    0|          0|   0|      0|        0| 241|        0|     252|    241|      0|            48|                      48|       48|         48|       48|       48|       48|      60|           60|  1553|      16943|                 289|    48|         0|    48|         0|      48|       48|             48|          48|     48|       48|   48|        48|         48|         48|          48|         48|     48|       48|     48|       48|     48|     48|      48|       48|        48|           48|         48|    48|       48|       48|     48|            48|           48|      48|        48|       48|           48|        48|             1564|   7023|     7023|     7023|\n",
            "+---+----+---+-----+-----------+----+-------+---------+----+---------+--------+-------+-------+--------------+------------------------+---------+-----------+---------+---------+---------+--------+-------------+------+-----------+--------------------+------+----------+------+----------+--------+---------+---------------+------------+-------+---------+-----+----------+-----------+-----------+------------+-----------+-------+---------+-------+---------+-------+-------+--------+---------+----------+-------------+-----------+------+---------+---------+-------+--------------+-------------+--------+----------+---------+-------------+----------+-----------------+-------+---------+---------+\n",
            "\n"
          ],
          "name": "stdout"
        }
      ]
    },
    {
      "cell_type": "markdown",
      "metadata": {
        "id": "e5j2e4L5CLhZ"
      },
      "source": [
        "In this analysis, the attributes that we are concerned with are player attributes that has impacts on players' gameplay such as 'Crossing', ShortPassing', etc. We are only concerned with forwards, midfielders and defenders not goalkeepers. It is seen that all attributes of interests have 48 missing values which include goalkeeping attributes too. So, we need to see if those missing values for different attributes belong to goalkeepers only before performing imputation or deletion of missing values."
      ]
    },
    {
      "cell_type": "code",
      "metadata": {
        "colab": {
          "base_uri": "https://localhost:8080/"
        },
        "id": "YmLzarGn1yB0",
        "outputId": "ad0850ac-156e-44ac-dd9d-ea3bea825c21"
      },
      "source": [
        "# checking the missing values after removing goalkeepers\n",
        "df = df.filter(df['Position'] != 'GK')\n",
        "df.select([count(F.when(F.isnull(cols), cols)).alias(cols) for cols in df.columns]).show()"
      ],
      "execution_count": null,
      "outputs": [
        {
          "output_type": "stream",
          "text": [
            "+---+----+---+-----+-----------+----+-------+---------+----+---------+--------+-------+-------+--------------+------------------------+---------+-----------+---------+---------+---------+--------+-------------+------+-----------+--------------------+------+----------+------+----------+--------+---------+---------------+------------+-------+---------+-----+----------+-----------+-----------+------------+-----------+-------+---------+-------+---------+-------+-------+--------+---------+----------+-------------+-----------+------+---------+---------+-------+--------------+-------------+--------+----------+---------+-------------+----------+-----------------+-------+---------+---------+\n",
            "| ID|Name|Age|Photo|Nationality|Flag|Overall|Potential|Club|Club Logo|value(M)|wage(K)|Special|Preferred Foot|International Reputation|Weak Foot|Skill Moves|Work Rate|Body Type|Real Face|Position|Jersey Number|Joined|Loaned From|Contract Valid Until|Height|Height(CM)|Weight|Weight(KG)|Crossing|Finishing|HeadingAccuracy|ShortPassing|Volleys|Dribbling|Curve|FKAccuracy|LongPassing|BallControl|Acceleration|SprintSpeed|Agility|Reactions|Balance|ShotPower|Jumping|Stamina|Strength|LongShots|Aggression|Interceptions|Positioning|Vision|Penalties|Composure|Marking|StandingTackle|SlidingTackle|GKDiving|GKHandling|GKKicking|GKPositioning|GKReflexes|Release Clause(M)|overall|potential|value_eur|\n",
            "+---+----+---+-----+-----------+----+-------+---------+----+---------+--------+-------+-------+--------------+------------------------+---------+-----------+---------+---------+---------+--------+-------------+------+-----------+--------------------+------+----------+------+----------+--------+---------+---------------+------------+-------+---------+-----+----------+-----------+-----------+------------+-----------+-------+---------+-------+---------+-------+-------+--------+---------+----------+-------------+-----------+------+---------+---------+-------+--------------+-------------+--------+----------+---------+-------------+----------+-----------------+-------+---------+---------+\n",
            "|  0|   0|  0|    0|          0|   0|      0|        0| 196|        0|     204|    196|      0|             0|                       0|        0|          0|        0|        0|        0|       0|            0|  1371|      14947|                 196|     0|         0|     0|         0|       0|        0|              0|           0|      0|        0|    0|         0|          0|          0|           0|          0|      0|        0|      0|        0|      0|      0|       0|        0|         0|            0|          0|     0|        0|        0|      0|             0|            0|       0|         0|        0|            0|         0|             1379|   6183|     6183|     6183|\n",
            "+---+----+---+-----+-----------+----+-------+---------+----+---------+--------+-------+-------+--------------+------------------------+---------+-----------+---------+---------+---------+--------+-------------+------+-----------+--------------------+------+----------+------+----------+--------+---------+---------------+------------+-------+---------+-----+----------+-----------+-----------+------------+-----------+-------+---------+-------+---------+-------+-------+--------+---------+----------+-------------+-----------+------+---------+---------+-------+--------------+-------------+--------+----------+---------+-------------+----------+-----------------+-------+---------+---------+\n",
            "\n"
          ],
          "name": "stdout"
        }
      ]
    },
    {
      "cell_type": "markdown",
      "metadata": {
        "id": "rOzUZ_DPEI4W"
      },
      "source": [
        "It is seen that no missing values are present in our many attributes of interests for players belonging to positions other than goalkeepers. Important features in our analysis such as value(M), potential and value_eur, still have missing values, so appropriate operations to deal with those missing values should be performed before we proceed to other analysis."
      ]
    },
    {
      "cell_type": "markdown",
      "metadata": {
        "id": "UkVQ3Ry2G9sf"
      },
      "source": [
        "Handling of missing values in Value_2019(M) column:"
      ]
    },
    {
      "cell_type": "code",
      "metadata": {
        "colab": {
          "base_uri": "https://localhost:8080/"
        },
        "id": "V7EZ2T_msV2v",
        "outputId": "9b876be8-01c8-4ab6-e0af-0bd6a8aee358"
      },
      "source": [
        "spark.sql(\"\"\"\n",
        "          Select * from soccer_analysis Where value_eur Is NUll\n",
        "          \"\"\").show()"
      ],
      "execution_count": 51,
      "outputs": [
        {
          "output_type": "stream",
          "text": [
            "+------+---------------+---+--------------------+-----------+--------------------+-------+---------+--------------------+--------------------+--------+-------+-------+--------------+------------------------+---------+-----------+--------------+---------+---------+--------+-------------+------------+-----------+--------------------+------+----------+------+----------+--------+---------+---------------+------------+-------+---------+-----+----------+-----------+-----------+------------+-----------+-------+---------+-------+---------+-------+-------+--------+---------+----------+-------------+-----------+------+---------+---------+-------+--------------+-------------+--------+----------+---------+-------------+----------+-----------------+-------+---------+---------+\n",
            "|    ID|           Name|Age|               Photo|Nationality|                Flag|Overall|Potential|                Club|           Club Logo|value(M)|wage(K)|Special|Preferred Foot|International Reputation|Weak Foot|Skill Moves|     Work Rate|Body Type|Real Face|Position|Jersey Number|      Joined|Loaned From|Contract Valid Until|Height|Height(CM)|Weight|Weight(KG)|Crossing|Finishing|HeadingAccuracy|ShortPassing|Volleys|Dribbling|Curve|FKAccuracy|LongPassing|BallControl|Acceleration|SprintSpeed|Agility|Reactions|Balance|ShotPower|Jumping|Stamina|Strength|LongShots|Aggression|Interceptions|Positioning|Vision|Penalties|Composure|Marking|StandingTackle|SlidingTackle|GKDiving|GKHandling|GKKicking|GKPositioning|GKReflexes|Release Clause(M)|overall|potential|value_eur|\n",
            "+------+---------------+---+--------------------+-----------+--------------------+-------+---------+--------------------+--------------------+--------+-------+-------+--------------+------------------------+---------+-----------+--------------+---------+---------+--------+-------------+------------+-----------+--------------------+------+----------+------+----------+--------+---------+---------------+------------+-------+---------+-----+----------+-----------+-----------+------------+-----------+-------+---------+-------+---------+-------+-------+--------+---------+----------+-------------+-----------+------+---------+---------+-------+--------------+-------------+--------+----------+---------+-------------+----------+-----------------+-------+---------+---------+\n",
            "|179813|      E. Cavani| 31|https://cdn.sofif...|    Uruguay|https://cdn.sofif...|     89|       89| Paris Saint-Germain|https://cdn.sofif...|      60|    200|   2161|         Right|                       4|        4|          3|    High/ High|     Lean|      Yes|      LS|           21|Jul 16, 2013|       null|                2020|   6.1|   185.928| 170.0|  77.11064|      70|       89|             89|          78|     90|       80|   77|        76|         52|         82|          75|         76|     77|       91|     59|       87|     88|     92|      78|       79|        84|           48|         93|    77|       85|       82|     52|            45|           39|      12|         5|       13|           13|        10|              111|   null|     null|     null|\n",
            "|177509|     M. Benatia| 31|https://cdn.sofif...|    Morocco|https://cdn.sofif...|     86|       86|            Juventus|https://cdn.sofif...|      30|    160|   1803|         Right|                       3|        3|          2|  Medium/ High|   Normal|      Yes|      CB|            4|Aug 26, 2014|       null|                2020|   6.2|   188.976| 207.0| 93.893544|      45|       47|             83|          65|     44|       64|   34|        27|         65|         64|          65|         75|     59|       82|     53|       66|     85|     69|      91|       24|        86|           86|         38|    47|       41|       82|     89|            87|           85|       7|         4|        8|            7|        11|             49.5|   null|     null|     null|\n",
            "|184267|     Y. Brahimi| 28|https://cdn.sofif...|    Algeria|https://cdn.sofif...|     85|       85|            FC Porto|https://cdn.sofif...|      39|     28|   2030|         Right|                       3|        3|          4|  High/ Medium|   Normal|       No|      LM|            8|Jul 22, 2014|       null|                2019|   5.9|   179.832| 146.0| 66.224432|      79|       76|             46|          79|     73|       93|   84|        78|         72|         86|          87|         75|     92|       84|     87|       69|     72|     85|      49|       76|        46|           38|         83|    79|       75|       90|     51|            36|           25|      13|        16|       12|            7|         7|               78|   null|     null|     null|\n",
            "|171919|          Naldo| 35|https://cdn.sofif...|     Brazil|https://cdn.sofif...|     85|       85|       FC Schalke 04|https://cdn.sofif...|       9|     38|   1959|         Right|                       3|        4|          2|Medium/ Medium|     Lean|       No|      CB|           29| Jul 1, 2016|       null|                2020|   6.6|   201.168| 201.0| 91.171992|      45|       57|             94|          76|     60|       60|   52|        76|         70|         68|          60|         65|     46|       85|     36|       92|     45|     61|      83|       82|        72|           83|         53|    59|       60|       84|     86|            88|           85|      14|        10|       14|            8|        14|             15.3|   null|     null|     null|\n",
            "|164169|   Filipe Lu��s| 32|https://cdn.sofif...|     Brazil|https://cdn.sofif...|     85|       85|    Atl��tico Madrid|https://cdn.sofif...|    21.5|     81|   2145|          Left|                       3|        3|          3|  High/ Medium|     Lean|      Yes|      LB|            3|Jul 28, 2015|       null|                2019|   6.0|    182.88| 163.0| 73.935496|      86|       59|             72|          80|     56|       77|   74|        75|         77|         83|          76|         75|     75|       85|     62|       71|     71|     89|      74|       60|        81|           84|         71|    70|       65|       88|     78|            84|           86|      11|        15|        9|            9|         5|             44.1|   null|     null|     null|\n",
            "|139720|     V. Kompany| 32|https://cdn.sofif...|    Belgium|https://cdn.sofif...|     85|       85|     Manchester City|https://cdn.sofif...|      22|    170|   1898|         Right|                       4|        3|          2|  Medium/ High|   Normal|      Yes|      CB|            4|Aug 22, 2008|       null|                2019|   6.3|   192.024| 187.0| 84.821704|      61|       45|             84|          73|     46|       63|   61|        52|         66|         70|          52|         59|     57|       87|     41|       75|     72|     66|      87|       55|        87|           82|         41|    59|       63|       81|     87|            85|           84|      10|         9|        5|            8|         6|             40.7|   null|     null|     null|\n",
            "|185020|Jos�� Callej��n| 31|https://cdn.sofif...|      Spain|https://cdn.sofif...|     84|       84|              Napoli|https://cdn.sofif...|    27.5|    105|   2045|         Right|                       3|        3|          3|    High/ High|     Lean|      Yes|      RM|            7|Jul 11, 2013|       null|                2020|   5.1|   155.448| 161.0| 73.028312|      82|       78|             65|          80|     84|       82|   73|        65|         51|         85|          88|         89|     85|       82|     80|       78|     73|     91|      55|       80|        54|           40|         88|    78|       62|       79|     64|            32|           32|       8|         5|       14|           11|        11|             46.8|   null|     null|     null|\n",
            "|181783|   M. Mand?uki?| 32|https://cdn.sofif...|    Croatia|https://cdn.sofif...|     84|       84|            Juventus|https://cdn.sofif...|      25|    160|   2106|         Right|                       3|        3|          3|    High/ High|     Lean|      Yes|      ST|           17| Jul 1, 2015|       null|                2020|   6.3|   192.024| 187.0| 84.821704|      72|       84|             90|          75|     86|       76|   64|        49|         67|         77|          67|         73|     67|       86|     53|       80|     85|     83|      85|       60|        88|           66|         90|    74|       76|       80|     59|            64|           64|      10|         8|        5|            8|        15|             41.3|   null|     null|     null|\n",
            "|176769|          Jonas| 34|https://cdn.sofif...|     Brazil|https://cdn.sofif...|     84|       84|          SL Benfica|https://cdn.sofif...|    16.5|     25|   2023|         Right|                       3|        5|          3|  High/ Medium|     Lean|      Yes|      ST|           10|Sep 12, 2014|       null|                2020|  5.11|  155.7528| 163.0| 73.935496|      70|       88|             84|          76|     85|       84|   85|        77|         75|         88|          65|         64|     77|       85|     69|       84|     69|     66|      63|       85|        61|           34|         87|    83|       84|       87|     31|            36|           25|      12|        11|        7|            8|         5|               33|   null|     null|     null|\n",
            "|137186|    A. Barzagli| 37|https://cdn.sofif...|      Italy|https://cdn.sofif...|     84|       84|            Juventus|https://cdn.sofif...|     4.2|     95|   1740|         Right|                       3|        3|          2|     Low/ High|   Normal|      Yes|      CB|           15| Jan 1, 2011|       null|                2019|   6.2|   188.976| 192.0| 87.089664|      40|       21|             72|          65|     35|       64|   50|        31|         65|         65|          61|         77|     52|       80|     64|       54|     81|     53|      83|       39|        66|           90|         28|    62|       60|       88|     94|            90|           82|       4|         2|        4|            2|         4|              6.9|   null|     null|     null|\n",
            "|192593|     D. Suba?i?| 33|https://cdn.sofif...|    Croatia|https://cdn.sofif...|     83|       83|           AS Monaco|https://cdn.sofif...|      13|     70|   1284|         Right|                       3|        2|          1|Medium/ Medium|   Normal|       No|      GK|            1|Jan 24, 2012|       null|                2020|   6.3|   192.024| 185.0|  83.91452|      11|       10|             13|          24|     13|       11|   24|        57|         26|         19|          51|         54|     42|       78|     37|       24|     75|     32|      80|       14|        31|           20|         15|    52|       23|       65|     14|            14|           13|      82|        80|       79|           82|        84|             24.7|   null|     null|     null|\n",
            "|186627|   M. Balotelli| 27|https://cdn.sofif...|      Italy|https://cdn.sofif...|     83|       83|            OGC Nice|https://cdn.sofif...|    27.5|     55|   1914|         Right|                       4|        4|          4|   Medium/ Low|   Normal|      Yes|      LS|            9|Aug 31, 2016|       null|                2019|   6.2|   188.976| 194.0| 87.996848|      68|       85|             67|          78|     78|       81|   78|        78|         66|         85|          76|         82|     71|       68|     50|       89|     74|     66|      86|       79|        70|           30|         79|    74|       92|       81|     10|            22|           20|       2|         2|        2|            4|         2|             52.3|   null|     null|     null|\n",
            "| 53302|    D. De Rossi| 34|https://cdn.sofif...|      Italy|https://cdn.sofif...|     83|       83|                Roma|https://cdn.sofif...|       8|     80|   2101|         Right|                       3|        4|          2|  Medium/ High|   Normal|      Yes|     RDM|           16| Jul 1, 2002|       null|                2019|   6.0|    182.88| 183.0| 83.007336|      57|       50|             81|          81|     74|       64|   62|        71|         80|         77|          63|         67|     64|       80|     72|       81|     77|     74|      81|       72|        84|           87|         55|    71|       75|       87|     90|            82|           80|      10|         7|       13|           10|         9|             13.6|   null|     null|     null|\n",
            "|222737|         Malcom| 21|https://cdn.sofif...|     Brazil|https://cdn.sofif...|     82|       89|        FC Barcelona|https://cdn.sofif...|    31.5|    140|   1984|          Left|                       2|        4|          4|Medium/ Medium|   Normal|       No|      RW|           14|Jul 24, 2018|       null|                2023|   5.8|   176.784| 163.0| 73.935496|      79|       75|             57|          82|     71|       85|   77|        81|         73|         85|          87|         82|     92|       80|     84|       85|     58|     74|      64|       85|        53|           26|         79|    83|       68|       78|     21|            28|           17|       8|        14|       15|            7|         9|             70.9|   null|     null|     null|\n",
            "|192318|       M. G?tze| 26|https://cdn.sofif...|    Germany|https://cdn.sofif...|     82|       85|   Borussia Dortmund|https://cdn.sofif...|      27|     67|   2101|         Right|                       4|        4|          4|Medium/ Medium|   Normal|      Yes|      CM|           10| Aug 1, 2016|       null|                2020|   5.9|   179.832| 165.0|  74.84268|      78|       75|             51|          87|     86|       84|   81|        72|         82|         90|          74|         64|     86|       84|     85|       68|     58|     73|      68|       66|        58|           65|         81|    86|       77|       85|     63|            53|           57|      14|         7|       12|            6|        10|             47.9|   null|     null|     null|\n",
            "|183376|       L. Fejsa| 29|https://cdn.sofif...|     Serbia|https://cdn.sofif...|     82|       82|          SL Benfica|https://cdn.sofif...|      17|     18|   1945|         Right|                       2|        3|          2|     Low/ High|   Normal|       No|     CDM|            5|Aug 24, 2013|       null|                2021|   6.0|    182.88| 176.0| 79.832192|      50|       49|             73|          78|     53|       68|   43|        57|         74|         72|          52|         55|     57|       78|     58|       73|     73|     90|      78|       62|        91|           85|         50|    63|       56|       75|     82|            84|           77|      14|        12|       13|           11|        14|               34|   null|     null|     null|\n",
            "|170481|       E. Garay| 31|https://cdn.sofif...|  Argentina|https://cdn.sofif...|     82|       82|         Valencia CF|https://cdn.sofif...|      15|     44|   1896|         Right|                       3|        3|          2|Medium/ Medium|   Normal|      Yes|     RCB|           24|Aug 31, 2016|       null|                2020|   6.2|   188.976| 198.0| 89.811216|      62|       58|             80|          69|     49|       60|   55|        74|         72|         73|          34|         36|     54|       76|     34|       80|     76|     62|      88|       64|        77|           83|         42|    63|       69|       78|     82|            83|           81|      14|         6|       13|           13|        14|             31.5|   null|     null|     null|\n",
            "|146530|     Dani Alves| 35|https://cdn.sofif...|     Brazil|https://cdn.sofif...|     82|       82| Paris Saint-Germain|https://cdn.sofif...|     4.8|     62|   2197|         Right|                       4|        3|          4|     High/ Low|   Normal|      Yes|      RB|           13|Jul 12, 2017|       null|                2019|   5.8|   176.784| 150.0|   68.0388|      85|       61|             72|          81|     68|       84|   80|        74|         79|         86|          77|         79|     84|       77|     87|       86|     80|     74|      55|       78|        78|           79|         74|    78|       70|       80|     72|            79|           82|       5|        11|        9|            6|         7|              8.9|   null|     null|     null|\n",
            "|113422|    David Villa| 36|https://cdn.sofif...|      Spain|https://cdn.sofif...|     82|       82|    New York City FC|https://cdn.sofif...|       8|     12|   1993|         Right|                       3|        5|          4|     High/ Low|   Normal|      Yes|      ST|            7| Jul 1, 2014|       null|                2018|   5.9|   179.832| 152.0| 68.945984|      71|       86|             67|          76|     79|       83|   83|        80|         67|         85|          72|         67|     71|       83|     73|       81|     67|     70|      66|       79|        67|           29|         86|    75|       88|       83|     30|            28|           38|       8|         9|        9|           11|         9|               12|   null|     null|     null|\n",
            "|106231|         Aduriz| 37|https://cdn.sofif...|      Spain|https://cdn.sofif...|     82|       82|Athletic Club de ...|https://cdn.sofif...|       8|     29|   1973|         Right|                       3|        3|          3|  High/ Medium|   Normal|      Yes|      ST|           20| Jul 1, 2012|       null|                2019|   6.0|    182.88| 172.0| 78.017824|      54|       83|             92|          72|     80|       76|   61|        54|         52|         82|          64|         66|     50|       85|     55|       82|     90|     60|      82|       78|        82|           23|         87|    73|       82|       87|     58|            44|           49|      14|        10|        9|           15|         9|             16.8|   null|     null|     null|\n",
            "+------+---------------+---+--------------------+-----------+--------------------+-------+---------+--------------------+--------------------+--------+-------+-------+--------------+------------------------+---------+-----------+--------------+---------+---------+--------+-------------+------------+-----------+--------------------+------+----------+------+----------+--------+---------+---------------+------------+-------+---------+-----+----------+-----------+-----------+------------+-----------+-------+---------+-------+---------+-------+-------+--------+---------+----------+-------------+-----------+------+---------+---------+-------+--------------+-------------+--------+----------+---------+-------------+----------+-----------------+-------+---------+---------+\n",
            "only showing top 20 rows\n",
            "\n"
          ],
          "name": "stdout"
        }
      ]
    },
    {
      "cell_type": "code",
      "metadata": {
        "colab": {
          "base_uri": "https://localhost:8080/"
        },
        "id": "6gnvBUH3G7Ls",
        "outputId": "f045a0d7-d13b-4a2a-df62-55204c0cfd88"
      },
      "source": [
        "df.filter(F.col('value_eur').isNull()).show()"
      ],
      "execution_count": null,
      "outputs": [
        {
          "output_type": "stream",
          "text": [
            "+------+---------------+---+--------------------+-----------+--------------------+-------+---------+--------------------+--------------------+--------+-------+-------+--------------+------------------------+---------+-----------+--------------+---------+---------+--------+-------------+------------+-----------+--------------------+------+----------+------+----------+--------+---------+---------------+------------+-------+---------+-----+----------+-----------+-----------+------------+-----------+-------+---------+-------+---------+-------+-------+--------+---------+----------+-------------+-----------+------+---------+---------+-------+--------------+-------------+--------+----------+---------+-------------+----------+-----------------+-------+---------+---------+\n",
            "|    ID|           Name|Age|               Photo|Nationality|                Flag|Overall|Potential|                Club|           Club Logo|value(M)|wage(K)|Special|Preferred Foot|International Reputation|Weak Foot|Skill Moves|     Work Rate|Body Type|Real Face|Position|Jersey Number|      Joined|Loaned From|Contract Valid Until|Height|Height(CM)|Weight|Weight(KG)|Crossing|Finishing|HeadingAccuracy|ShortPassing|Volleys|Dribbling|Curve|FKAccuracy|LongPassing|BallControl|Acceleration|SprintSpeed|Agility|Reactions|Balance|ShotPower|Jumping|Stamina|Strength|LongShots|Aggression|Interceptions|Positioning|Vision|Penalties|Composure|Marking|StandingTackle|SlidingTackle|GKDiving|GKHandling|GKKicking|GKPositioning|GKReflexes|Release Clause(M)|overall|potential|value_eur|\n",
            "+------+---------------+---+--------------------+-----------+--------------------+-------+---------+--------------------+--------------------+--------+-------+-------+--------------+------------------------+---------+-----------+--------------+---------+---------+--------+-------------+------------+-----------+--------------------+------+----------+------+----------+--------+---------+---------------+------------+-------+---------+-----+----------+-----------+-----------+------------+-----------+-------+---------+-------+---------+-------+-------+--------+---------+----------+-------------+-----------+------+---------+---------+-------+--------------+-------------+--------+----------+---------+-------------+----------+-----------------+-------+---------+---------+\n",
            "|179813|      E. Cavani| 31|https://cdn.sofif...|    Uruguay|https://cdn.sofif...|     89|       89| Paris Saint-Germain|https://cdn.sofif...|      60|    200|   2161|         Right|                       4|        4|          3|    High/ High|     Lean|      Yes|      LS|           21|Jul 16, 2013|       null|                2020|   6.1|   185.928| 170.0|  77.11064|      70|       89|             89|          78|     90|       80|   77|        76|         52|         82|          75|         76|     77|       91|     59|       87|     88|     92|      78|       79|        84|           48|         93|    77|       85|       82|     52|            45|           39|      12|         5|       13|           13|        10|              111|   null|     null|     null|\n",
            "|177509|     M. Benatia| 31|https://cdn.sofif...|    Morocco|https://cdn.sofif...|     86|       86|            Juventus|https://cdn.sofif...|      30|    160|   1803|         Right|                       3|        3|          2|  Medium/ High|   Normal|      Yes|      CB|            4|Aug 26, 2014|       null|                2020|   6.2|   188.976| 207.0| 93.893544|      45|       47|             83|          65|     44|       64|   34|        27|         65|         64|          65|         75|     59|       82|     53|       66|     85|     69|      91|       24|        86|           86|         38|    47|       41|       82|     89|            87|           85|       7|         4|        8|            7|        11|             49.5|   null|     null|     null|\n",
            "|184267|     Y. Brahimi| 28|https://cdn.sofif...|    Algeria|https://cdn.sofif...|     85|       85|            FC Porto|https://cdn.sofif...|      39|     28|   2030|         Right|                       3|        3|          4|  High/ Medium|   Normal|       No|      LM|            8|Jul 22, 2014|       null|                2019|   5.9|   179.832| 146.0| 66.224432|      79|       76|             46|          79|     73|       93|   84|        78|         72|         86|          87|         75|     92|       84|     87|       69|     72|     85|      49|       76|        46|           38|         83|    79|       75|       90|     51|            36|           25|      13|        16|       12|            7|         7|               78|   null|     null|     null|\n",
            "|171919|          Naldo| 35|https://cdn.sofif...|     Brazil|https://cdn.sofif...|     85|       85|       FC Schalke 04|https://cdn.sofif...|       9|     38|   1959|         Right|                       3|        4|          2|Medium/ Medium|     Lean|       No|      CB|           29| Jul 1, 2016|       null|                2020|   6.6|   201.168| 201.0| 91.171992|      45|       57|             94|          76|     60|       60|   52|        76|         70|         68|          60|         65|     46|       85|     36|       92|     45|     61|      83|       82|        72|           83|         53|    59|       60|       84|     86|            88|           85|      14|        10|       14|            8|        14|             15.3|   null|     null|     null|\n",
            "|164169|   Filipe Lu��s| 32|https://cdn.sofif...|     Brazil|https://cdn.sofif...|     85|       85|    Atl��tico Madrid|https://cdn.sofif...|    21.5|     81|   2145|          Left|                       3|        3|          3|  High/ Medium|     Lean|      Yes|      LB|            3|Jul 28, 2015|       null|                2019|   6.0|    182.88| 163.0| 73.935496|      86|       59|             72|          80|     56|       77|   74|        75|         77|         83|          76|         75|     75|       85|     62|       71|     71|     89|      74|       60|        81|           84|         71|    70|       65|       88|     78|            84|           86|      11|        15|        9|            9|         5|             44.1|   null|     null|     null|\n",
            "|139720|     V. Kompany| 32|https://cdn.sofif...|    Belgium|https://cdn.sofif...|     85|       85|     Manchester City|https://cdn.sofif...|      22|    170|   1898|         Right|                       4|        3|          2|  Medium/ High|   Normal|      Yes|      CB|            4|Aug 22, 2008|       null|                2019|   6.3|   192.024| 187.0| 84.821704|      61|       45|             84|          73|     46|       63|   61|        52|         66|         70|          52|         59|     57|       87|     41|       75|     72|     66|      87|       55|        87|           82|         41|    59|       63|       81|     87|            85|           84|      10|         9|        5|            8|         6|             40.7|   null|     null|     null|\n",
            "|185020|Jos�� Callej��n| 31|https://cdn.sofif...|      Spain|https://cdn.sofif...|     84|       84|              Napoli|https://cdn.sofif...|    27.5|    105|   2045|         Right|                       3|        3|          3|    High/ High|     Lean|      Yes|      RM|            7|Jul 11, 2013|       null|                2020|   5.1|   155.448| 161.0| 73.028312|      82|       78|             65|          80|     84|       82|   73|        65|         51|         85|          88|         89|     85|       82|     80|       78|     73|     91|      55|       80|        54|           40|         88|    78|       62|       79|     64|            32|           32|       8|         5|       14|           11|        11|             46.8|   null|     null|     null|\n",
            "|181783|   M. Mand?uki?| 32|https://cdn.sofif...|    Croatia|https://cdn.sofif...|     84|       84|            Juventus|https://cdn.sofif...|      25|    160|   2106|         Right|                       3|        3|          3|    High/ High|     Lean|      Yes|      ST|           17| Jul 1, 2015|       null|                2020|   6.3|   192.024| 187.0| 84.821704|      72|       84|             90|          75|     86|       76|   64|        49|         67|         77|          67|         73|     67|       86|     53|       80|     85|     83|      85|       60|        88|           66|         90|    74|       76|       80|     59|            64|           64|      10|         8|        5|            8|        15|             41.3|   null|     null|     null|\n",
            "|176769|          Jonas| 34|https://cdn.sofif...|     Brazil|https://cdn.sofif...|     84|       84|          SL Benfica|https://cdn.sofif...|    16.5|     25|   2023|         Right|                       3|        5|          3|  High/ Medium|     Lean|      Yes|      ST|           10|Sep 12, 2014|       null|                2020|  5.11|  155.7528| 163.0| 73.935496|      70|       88|             84|          76|     85|       84|   85|        77|         75|         88|          65|         64|     77|       85|     69|       84|     69|     66|      63|       85|        61|           34|         87|    83|       84|       87|     31|            36|           25|      12|        11|        7|            8|         5|               33|   null|     null|     null|\n",
            "|137186|    A. Barzagli| 37|https://cdn.sofif...|      Italy|https://cdn.sofif...|     84|       84|            Juventus|https://cdn.sofif...|     4.2|     95|   1740|         Right|                       3|        3|          2|     Low/ High|   Normal|      Yes|      CB|           15| Jan 1, 2011|       null|                2019|   6.2|   188.976| 192.0| 87.089664|      40|       21|             72|          65|     35|       64|   50|        31|         65|         65|          61|         77|     52|       80|     64|       54|     81|     53|      83|       39|        66|           90|         28|    62|       60|       88|     94|            90|           82|       4|         2|        4|            2|         4|              6.9|   null|     null|     null|\n",
            "|186627|   M. Balotelli| 27|https://cdn.sofif...|      Italy|https://cdn.sofif...|     83|       83|            OGC Nice|https://cdn.sofif...|    27.5|     55|   1914|         Right|                       4|        4|          4|   Medium/ Low|   Normal|      Yes|      LS|            9|Aug 31, 2016|       null|                2019|   6.2|   188.976| 194.0| 87.996848|      68|       85|             67|          78|     78|       81|   78|        78|         66|         85|          76|         82|     71|       68|     50|       89|     74|     66|      86|       79|        70|           30|         79|    74|       92|       81|     10|            22|           20|       2|         2|        2|            4|         2|             52.3|   null|     null|     null|\n",
            "| 53302|    D. De Rossi| 34|https://cdn.sofif...|      Italy|https://cdn.sofif...|     83|       83|                Roma|https://cdn.sofif...|       8|     80|   2101|         Right|                       3|        4|          2|  Medium/ High|   Normal|      Yes|     RDM|           16| Jul 1, 2002|       null|                2019|   6.0|    182.88| 183.0| 83.007336|      57|       50|             81|          81|     74|       64|   62|        71|         80|         77|          63|         67|     64|       80|     72|       81|     77|     74|      81|       72|        84|           87|         55|    71|       75|       87|     90|            82|           80|      10|         7|       13|           10|         9|             13.6|   null|     null|     null|\n",
            "|222737|         Malcom| 21|https://cdn.sofif...|     Brazil|https://cdn.sofif...|     82|       89|        FC Barcelona|https://cdn.sofif...|    31.5|    140|   1984|          Left|                       2|        4|          4|Medium/ Medium|   Normal|       No|      RW|           14|Jul 24, 2018|       null|                2023|   5.8|   176.784| 163.0| 73.935496|      79|       75|             57|          82|     71|       85|   77|        81|         73|         85|          87|         82|     92|       80|     84|       85|     58|     74|      64|       85|        53|           26|         79|    83|       68|       78|     21|            28|           17|       8|        14|       15|            7|         9|             70.9|   null|     null|     null|\n",
            "|192318|       M. G?tze| 26|https://cdn.sofif...|    Germany|https://cdn.sofif...|     82|       85|   Borussia Dortmund|https://cdn.sofif...|      27|     67|   2101|         Right|                       4|        4|          4|Medium/ Medium|   Normal|      Yes|      CM|           10| Aug 1, 2016|       null|                2020|   5.9|   179.832| 165.0|  74.84268|      78|       75|             51|          87|     86|       84|   81|        72|         82|         90|          74|         64|     86|       84|     85|       68|     58|     73|      68|       66|        58|           65|         81|    86|       77|       85|     63|            53|           57|      14|         7|       12|            6|        10|             47.9|   null|     null|     null|\n",
            "|183376|       L. Fejsa| 29|https://cdn.sofif...|     Serbia|https://cdn.sofif...|     82|       82|          SL Benfica|https://cdn.sofif...|      17|     18|   1945|         Right|                       2|        3|          2|     Low/ High|   Normal|       No|     CDM|            5|Aug 24, 2013|       null|                2021|   6.0|    182.88| 176.0| 79.832192|      50|       49|             73|          78|     53|       68|   43|        57|         74|         72|          52|         55|     57|       78|     58|       73|     73|     90|      78|       62|        91|           85|         50|    63|       56|       75|     82|            84|           77|      14|        12|       13|           11|        14|               34|   null|     null|     null|\n",
            "|170481|       E. Garay| 31|https://cdn.sofif...|  Argentina|https://cdn.sofif...|     82|       82|         Valencia CF|https://cdn.sofif...|      15|     44|   1896|         Right|                       3|        3|          2|Medium/ Medium|   Normal|      Yes|     RCB|           24|Aug 31, 2016|       null|                2020|   6.2|   188.976| 198.0| 89.811216|      62|       58|             80|          69|     49|       60|   55|        74|         72|         73|          34|         36|     54|       76|     34|       80|     76|     62|      88|       64|        77|           83|         42|    63|       69|       78|     82|            83|           81|      14|         6|       13|           13|        14|             31.5|   null|     null|     null|\n",
            "|146530|     Dani Alves| 35|https://cdn.sofif...|     Brazil|https://cdn.sofif...|     82|       82| Paris Saint-Germain|https://cdn.sofif...|     4.8|     62|   2197|         Right|                       4|        3|          4|     High/ Low|   Normal|      Yes|      RB|           13|Jul 12, 2017|       null|                2019|   5.8|   176.784| 150.0|   68.0388|      85|       61|             72|          81|     68|       84|   80|        74|         79|         86|          77|         79|     84|       77|     87|       86|     80|     74|      55|       78|        78|           79|         74|    78|       70|       80|     72|            79|           82|       5|        11|        9|            6|         7|              8.9|   null|     null|     null|\n",
            "|113422|    David Villa| 36|https://cdn.sofif...|      Spain|https://cdn.sofif...|     82|       82|    New York City FC|https://cdn.sofif...|       8|     12|   1993|         Right|                       3|        5|          4|     High/ Low|   Normal|      Yes|      ST|            7| Jul 1, 2014|       null|                2018|   5.9|   179.832| 152.0| 68.945984|      71|       86|             67|          76|     79|       83|   83|        80|         67|         85|          72|         67|     71|       83|     73|       81|     67|     70|      66|       79|        67|           29|         86|    75|       88|       83|     30|            28|           38|       8|         9|        9|           11|         9|               12|   null|     null|     null|\n",
            "|106231|         Aduriz| 37|https://cdn.sofif...|      Spain|https://cdn.sofif...|     82|       82|Athletic Club de ...|https://cdn.sofif...|       8|     29|   1973|         Right|                       3|        3|          3|  High/ Medium|   Normal|      Yes|      ST|           20| Jul 1, 2012|       null|                2019|   6.0|    182.88| 172.0| 78.017824|      54|       83|             92|          72|     80|       76|   61|        54|         52|         82|          64|         66|     50|       85|     55|       82|     90|     60|      82|       78|        82|           23|         87|    73|       82|       87|     58|            44|           49|      14|        10|        9|           15|         9|             16.8|   null|     null|     null|\n",
            "|195086|      D. Lovren| 28|https://cdn.sofif...|    Croatia|https://cdn.sofif...|     81|       82|           Liverpool|https://cdn.sofif...|      16|    115|   1726|         Right|                       2|        4|          2|  Medium/ High|   Normal|      Yes|     RCB|            6|Jul 27, 2014|       null|                2021|   6.2|   188.976| 185.0|  83.91452|      59|       33|             80|          69|     42|       63|   26|        18|         66|         67|          54|         55|     50|       75|     41|       63|     81|     68|      82|       34|        87|           81|         21|    56|       52|       70|     77|            83|           85|      14|        14|       13|           10|         7|             31.6|   null|     null|     null|\n",
            "+------+---------------+---+--------------------+-----------+--------------------+-------+---------+--------------------+--------------------+--------+-------+-------+--------------+------------------------+---------+-----------+--------------+---------+---------+--------+-------------+------------+-----------+--------------------+------+----------+------+----------+--------+---------+---------------+------------+-------+---------+-----+----------+-----------+-----------+------------+-----------+-------+---------+-------+---------+-------+-------+--------+---------+----------+-------------+-----------+------+---------+---------+-------+--------------+-------------+--------+----------+---------+-------------+----------+-----------------+-------+---------+---------+\n",
            "only showing top 20 rows\n",
            "\n"
          ],
          "name": "stdout"
        }
      ]
    },
    {
      "cell_type": "markdown",
      "metadata": {
        "id": "tLboQfzWHfFT"
      },
      "source": [
        "It is seen that although we have missing values for players in 2019, we can find the value of some of those players in 2021. Based on the value in 2021, we perform imputation of missing values in value column in 2019. To do that, we first compare the values in both years and calculate the percentage variation in values in those two years. Using that variation, we calculate the figures for missing values. "
      ]
    },
    {
      "cell_type": "code",
      "metadata": {
        "colab": {
          "base_uri": "https://localhost:8080/"
        },
        "id": "eANvWu6PsX6K",
        "outputId": "37445f72-3f84-4c9b-ccb5-0b983f24c90c"
      },
      "source": [
        "spark.sql(\"\"\"\n",
        "          Select * from soccer_analysis Where `value(M)` Like '%K'\n",
        "          \"\"\").show()"
      ],
      "execution_count": 89,
      "outputs": [
        {
          "output_type": "stream",
          "text": [
            "+------+-------------+---+--------------------+--------------+--------------------+-------+---------+--------------------+--------------------+--------+-------+-------+--------------+------------------------+---------+-----------+--------------+---------+---------+--------+-------------+------------+-----------+--------------------+------+----------+------+----------+--------+---------+---------------+------------+-------+---------+-----+----------+-----------+-----------+------------+-----------+-------+---------+-------+---------+-------+-------+--------+---------+----------+-------------+-----------+------+---------+---------+-------+--------------+-------------+--------+----------+---------+-------------+----------+-----------------+-------+---------+---------+\n",
            "|    ID|         Name|Age|               Photo|   Nationality|                Flag|Overall|Potential|                Club|           Club Logo|value(M)|wage(K)|Special|Preferred Foot|International Reputation|Weak Foot|Skill Moves|     Work Rate|Body Type|Real Face|Position|Jersey Number|      Joined|Loaned From|Contract Valid Until|Height|Height(CM)|Weight|Weight(KG)|Crossing|Finishing|HeadingAccuracy|ShortPassing|Volleys|Dribbling|Curve|FKAccuracy|LongPassing|BallControl|Acceleration|SprintSpeed|Agility|Reactions|Balance|ShotPower|Jumping|Stamina|Strength|LongShots|Aggression|Interceptions|Positioning|Vision|Penalties|Composure|Marking|StandingTackle|SlidingTackle|GKDiving|GKHandling|GKKicking|GKPositioning|GKReflexes|Release Clause(M)|overall|potential|value_eur|\n",
            "+------+-------------+---+--------------------+--------------+--------------------+-------+---------+--------------------+--------------------+--------+-------+-------+--------------+------------------------+---------+-----------+--------------+---------+---------+--------+-------------+------------+-----------+--------------------+------+----------+------+----------+--------+---------+---------------+------------+-------+---------+-----+----------+-----------+-----------+------------+-----------+-------+---------+-------+---------+-------+-------+--------+---------+----------+-------------+-----------+------+---------+---------+-------+--------------+-------------+--------+----------+---------+-------------+----------+-----------------+-------+---------+---------+\n",
            "|135451|        Gomes| 37|https://cdn.sofif...|        Brazil|https://cdn.sofif...|     77|       77|             Watford|https://cdn.sofif...|    600K|     25|   1249|         Right|                       2|        2|          1|Medium/ Medium|     Lean|      Yes|      GK|            1|May 24, 2014|       null|                2019|   6.3|   192.024| 209.0| 94.800728|      15|       15|             14|          23|     13|       15|   12|        13|         19|         25|          50|         52|     56|       71|     53|       30|     76|     27|      64|       14|        40|           20|         12|    59|       41|       59|     19|            14|           15|      80|        72|       60|           77|        83|              1.1|   null|     null|     null|\n",
            "| 14907|  A. Bizzarri| 40|https://cdn.sofif...|     Argentina|https://cdn.sofif...|     76|       76|              Foggia|https://cdn.sofif...|    525K|      2|   1198|         Right|                       2|        3|          1|Medium/ Medium|   Normal|       No|      GK|            1|Jul 17, 2018|       null|                2019|   6.2|   188.976| 196.0| 88.904032|      11|       17|             10|          27|     19|       18|   19|        18|         26|         23|          55|         45|     53|       68|     51|       19|     68|     31|      55|       19|        40|           19|         10|    49|       20|       60|     11|            12|           11|      76|        74|       66|           82|        76|             840K|   null|     null|     null|\n",
            "| 45595|    D. Bonera| 37|https://cdn.sofif...|         Italy|https://cdn.sofif...|     75|       75|       Villarreal CF|https://cdn.sofif...|    900K|     18|   1490|         Right|                       2|        3|          2|     Low/ High|   Normal|      Yes|      CB|           23|Aug 31, 2015|       null|                2019|   6.0|    182.88| 185.0|  83.91452|      58|       23|             74|          60|     19|       41|   38|        29|         61|         51|          33|         30|     34|       68|     48|       60|     74|     34|      77|       53|        80|           79|         27|    41|       49|       77|     82|            78|           74|       3|         3|        3|            3|         3|              1.9|   null|     null|     null|\n",
            "|140082|       Rafael| 36|https://cdn.sofif...|        Brazil|https://cdn.sofif...|     75|       75|            Cagliari|https://cdn.sofif...|    900K|     14|   1076|         Right|                       2|        3|          1|Medium/ Medium|     Lean|       No|      GK|            1| Jul 8, 2016|       null|                2019|   6.2|   188.976| 176.0| 79.832192|      13|       11|             10|          25|     10|       13|   11|        12|         24|         23|          43|         31|     31|       70|     23|       21|     63|     41|      49|       14|        31|           10|         12|    45|       22|       60|     20|            19|           17|      76|        71|       63|           76|        76|              1.5|     73|       73|   400000|\n",
            "|114764|      Iraizoz| 37|https://cdn.sofif...|         Spain|https://cdn.sofif...|     75|       75|           Girona FC|https://cdn.sofif...|    450K|     13|   1120|         Right|                       2|        3|          1|Medium/ Medium|   Normal|       No|      GK|            1| Jul 1, 2017|       null|                2019|   6.3|   192.024| 196.0| 88.904032|      11|       12|             13|          29|     16|       11|   12|        13|         20|         15|          32|         33|     28|       73|     52|       20|     47|     33|      83|       14|        38|           23|         16|    53|       13|       56|     15|            11|           12|      69|        77|       74|           85|        67|             945K|   null|     null|     null|\n",
            "|159591|    A. P��rez| 37|https://cdn.sofif...|      Colombia|https://cdn.sofif...|     75|       75|      Deportivo Cali|https://cdn.sofif...|    900K|      2|   1908|         Right|                       1|        3|          2|Medium/ Medium|   Normal|       No|     RDM|            5| Jan 1, 2009|       null|                2023|  5.11|  155.7528| 165.0|  74.84268|      61|       55|             55|          74|     59|       59|   49|        56|         71|         71|          49|         49|     64|       75|     60|       75|     68|     66|      74|       74|        88|           81|         69|    72|       62|       84|     75|            74|           66|       8|        12|       12|           10|        15|              1.3|   null|     null|     null|\n",
            "|165735|     B. Jones| 36|https://cdn.sofif...|     Australia|https://cdn.sofif...|     75|       75|            Al Nassr|https://cdn.sofif...|    900K|     17|   1171|          Left|                       1|        2|          1|Medium/ Medium|   Normal|       No|      GK|            1| Aug 1, 2018|       null|                2020|   6.4|   195.072| 192.0| 87.089664|      19|       17|             11|          28|     11|       18|   13|        12|         18|         22|          52|         55|     25|       75|     30|       24|     70|     40|      72|       11|        32|           23|         17|    30|       35|       56|     17|            13|           13|      75|        69|       69|           80|        75|              1.5|     72|       72|   325000|\n",
            "| 49000|  A. McGregor| 36|https://cdn.sofif...|      Scotland|https://cdn.sofif...|     75|       75|          Rangers FC|https://cdn.sofif...|    900K|     22|   1258|         Right|                       2|        3|          1|Medium/ Medium|   Normal|      Yes|      GK|            1| Jul 1, 2018|       null|                2020|   6.0|    182.88| 163.0| 73.935496|      11|       19|             13|          36|     15|       18|   20|        14|         39|         29|          33|         41|     65|       70|     51|       23|     73|     30|      71|       14|        53|           18|         13|    60|       23|       68|     15|            13|           13|      74|        72|       66|           74|        79|              1.6|     74|       74|   575000|\n",
            "|165769|      C��ssio| 37|https://cdn.sofif...|        Brazil|https://cdn.sofif...|     75|       75|          Al Taawoun|https://cdn.sofif...|    450K|     10|   1165|         Right|                       1|        2|          1|Medium/ Medium|   Normal|       No|      GK|            1| Jul 1, 2018|       null|                2019|   6.1|   185.928| 174.0| 78.925008|      11|       11|             12|          25|     14|       12|   12|        13|         22|         22|          34|         40|     45|       72|     45|       24|     70|     30|      64|       11|        40|           22|         13|    60|       24|       59|     18|            17|           14|      77|        74|       68|           73|        76|             743K|     74|       74|   575000|\n",
            "| 46736|   E. Moretti| 37|https://cdn.sofif...|         Italy|https://cdn.sofif...|     75|       75|              Torino|https://cdn.sofif...|    900K|     24|   1573|          Left|                       2|        2|          2|     Low/ High|     Lean|       No|     LCB|           24|Jul 11, 2013|       null|                2019|   6.0|    182.88| 170.0|  77.11064|      51|       16|             75|          59|     27|       49|   52|        33|         56|         64|          48|         34|     48|       64|     65|       56|     73|     39|      68|       39|        74|           84|         31|    31|       49|       73|     80|            77|           76|       9|        10|       10|           11|        15|              1.5|   null|     null|     null|\n",
            "|161468|  P. Gui?az��| 39|https://cdn.sofif...|     Argentina|https://cdn.sofif...|     75|       75|Club Atl��tico Ta...|https://cdn.sofif...|    450K|     10|   1876|          Left|                       1|        3|          3|     Low/ High|   Normal|       No|     LCM|            5|Jan 20, 2016|       null|                2019|   5.9|   179.832| 150.0|   68.0388|      63|       48|             60|          82|     25|       63|   65|        30|         68|         70|          58|         61|     56|       58|     77|       65|     75|     89|      79|       60|        84|           73|         67|    69|       55|       74|     76|            76|           68|      12|        10|       12|            9|        13|             675K|   null|     null|     null|\n",
            "|149184|    C. Maggio| 36|https://cdn.sofif...|         Italy|https://cdn.sofif...|     75|       75|           Benevento|https://cdn.sofif...|    775K|      4|   2055|         Right|                       2|        2|          3|Medium/ Medium|   Normal|       No|      RB|           11| Jul 6, 2018|       null|                2020|   6.0|    182.88| 174.0| 78.925008|      77|       67|             74|          74|     79|       70|   71|        55|         72|         77|          68|         72|     74|       76|     68|       75|     86|     79|      77|       69|        72|           67|         74|    58|       57|       78|     74|            75|           75|       9|         5|        9|           11|         9|              1.2|     74|       74|  1000000|\n",
            "|156412|    J. Corona| 37|https://cdn.sofif...|        Mexico|https://cdn.sofif...|     75|       75|           Cruz Azul|https://cdn.sofif...|    450K|     12|   1166|         Right|                       2|        3|          1|Medium/ Medium|   Normal|       No|      GK|            1| Jun 1, 2009|       null|                2020|   6.0|    182.88| 185.0|  83.91452|      17|       12|             13|          33|     12|       13|   14|        10|         33|         20|          41|         38|     64|       70|     60|       21|     79|     25|      52|       12|        11|           23|         15|    40|       21|       67|     25|            13|           11|      72|        77|       68|           78|        73|             765K|     75|       75|   675000|\n",
            "|154634|   M. Pasqual| 36|https://cdn.sofif...|         Italy|https://cdn.sofif...|     74|       74|              Empoli|https://cdn.sofif...|    650K|      9|   1996|          Left|                       2|        2|          3|Medium/ Medium|   Normal|       No|      LB|           23|May 31, 2016|       null|                2022|   5.1|   155.448| 157.0| 71.213944|      86|       46|             60|          78|     62|       72|   82|        76|         77|         77|          67|         69|     76|       72|     75|       72|     77|     68|      66|       62|        66|           72|         66|    70|       50|       78|     70|            73|           72|       6|         5|        7|           12|         7|              1.2|   null|     null|     null|\n",
            "|143632|   V. Demirel| 36|https://cdn.sofif...|        Turkey|https://cdn.sofif...|     74|       74|       Fenerbah?e SK|https://cdn.sofif...|    750K|     23|   1214|         Right|                       2|        2|          1|Medium/ Medium|   Stocky|       No|      GK|            1| Aug 6, 2002|       null|                2019|   6.3|   192.024| 198.0| 89.811216|      18|       14|             18|          38|     13|       25|   11|        15|         42|         28|          32|         30|     36|       71|     35|       25|     70|     42|      83|       12|        45|           19|         12|    50|       11|       50|     22|            14|           17|      75|        71|       75|           72|        73|              1.4|   null|     null|     null|\n",
            "|116308|     R. Fanni| 36|https://cdn.sofif...|        France|https://cdn.sofif...|     74|       74|     Montreal Impact|https://cdn.sofif...|    750K|      5|   1869|         Right|                       2|        3|          2|  Medium/ High|   Normal|      Yes|     RCB|           15| Mar 5, 2018|       null|                2018|   6.1|   185.928| 179.0| 81.192968|      66|       44|             68|          70|     33|       66|   55|        57|         66|         71|          63|         65|     64|       74|     68|       67|     71|     65|      79|       58|        71|           76|         53|    58|       57|       75|     75|            71|           71|      16|        12|        8|           16|        15|              1.1|     70|       70|   350000|\n",
            "|105846|     A. Boruc| 38|https://cdn.sofif...|        Poland|https://cdn.sofif...|     74|       74|         Bournemouth|https://cdn.sofif...|    375K|     24|   1159|         Right|                       2|        3|          1|Medium/ Medium|   Normal|      Yes|      GK|            1| Jul 1, 2015|       null|                2019|   6.4|   195.072| 192.0| 87.089664|      12|       11|             11|          25|     13|       14|   13|        19|         34|         18|          37|         39|     40|       69|     40|       21|     73|     31|      69|       15|        38|           25|         17|    40|       21|       63|     15|            20|           20|      74|        73|       62|           76|        74|             713K|     73|       73|   400000|\n",
            "|145047| Bruno Saltor| 37|https://cdn.sofif...|         Spain|https://cdn.sofif...|     74|       74|Brighton & Hove A...|https://cdn.sofif...|    650K|     25|   1865|         Right|                       1|        3|          3|  High/ Medium|     Lean|      Yes|      RB|            2| Jul 1, 2012|       null|                2019|  5.11|  155.7528| 168.0| 76.203456|      75|       33|             64|          77|     55|       69|   66|        51|         72|         78|          57|         53|     66|       82|     66|       65|     56|     55|      66|       46|        74|           80|         58|    68|       45|       78|     79|            80|           76|       9|        16|       13|            8|         7|              1.2|   null|     null|     null|\n",
            "| 20209|Ricardo Costa| 37|https://cdn.sofif...|      Portugal|https://cdn.sofif...|     74|       74|          CD Tondela|https://cdn.sofif...|    750K|      4|   1638|         Right|                       2|        3|          2|  Medium/ High|   Normal|      Yes|     LCB|           20| Jul 1, 2017|       null|                2019|   6.0|    182.88| 181.0| 82.100152|      41|       25|             72|          56|     35|       48|   25|        28|         47|         52|          50|         42|     62|       70|     64|       65|     92|     69|      77|       32|        91|           70|         56|    45|       40|       75|     76|            77|           74|      14|        15|        7|            8|        13|              1.6|     73|       73|   550000|\n",
            "|150278|    J. Drobn?| 38|https://cdn.sofif...|Czech Republic|https://cdn.sofif...|     73|       73|    SV Werder Bremen|https://cdn.sofif...|    270K|     10|   1052|         Right|                       2|        2|          1|Medium/ Medium|   Normal|      Yes|      GK|           33| Jul 1, 2016|       null|                2019|   6.4|   195.072| 198.0| 89.811216|      13|       14|             12|          35|     19|       15|   12|        12|         33|         22|          35|         36|     37|       74|     35|       22|     50|     23|      66|       15|        26|           14|          8|    21|       24|       42|     13|            13|           13|      73|        74|       45|           74|        74|             459K|   null|     null|     null|\n",
            "+------+-------------+---+--------------------+--------------+--------------------+-------+---------+--------------------+--------------------+--------+-------+-------+--------------+------------------------+---------+-----------+--------------+---------+---------+--------+-------------+------------+-----------+--------------------+------+----------+------+----------+--------+---------+---------------+------------+-------+---------+-----+----------+-----------+-----------+------------+-----------+-------+---------+-------+---------+-------+-------+--------+---------+----------+-------------+-----------+------+---------+---------+-------+--------------+-------------+--------+----------+---------+-------------+----------+-----------------+-------+---------+---------+\n",
            "only showing top 20 rows\n",
            "\n"
          ],
          "name": "stdout"
        }
      ]
    },
    {
      "cell_type": "code",
      "metadata": {
        "colab": {
          "base_uri": "https://localhost:8080/"
        },
        "id": "QLpVEZgKdZ2-",
        "outputId": "1267106c-8593-4fcf-e01f-c75a072cf143"
      },
      "source": [
        "df.filter(df['value(M)'].contains('K')).show()"
      ],
      "execution_count": 77,
      "outputs": [
        {
          "output_type": "stream",
          "text": [
            "+------+-------------+---+--------------------+--------------+--------------------+-------+---------+--------------------+--------------------+--------+-------+-------+--------------+------------------------+---------+-----------+--------------+---------+---------+--------+-------------+------------+-----------+--------------------+------+----------+------+----------+--------+---------+---------------+------------+-------+---------+-----+----------+-----------+-----------+------------+-----------+-------+---------+-------+---------+-------+-------+--------+---------+----------+-------------+-----------+------+---------+---------+-------+--------------+-------------+--------+----------+---------+-------------+----------+-----------------+-------+---------+---------+\n",
            "|    ID|         Name|Age|               Photo|   Nationality|                Flag|Overall|Potential|                Club|           Club Logo|value(M)|wage(K)|Special|Preferred Foot|International Reputation|Weak Foot|Skill Moves|     Work Rate|Body Type|Real Face|Position|Jersey Number|      Joined|Loaned From|Contract Valid Until|Height|Height(CM)|Weight|Weight(KG)|Crossing|Finishing|HeadingAccuracy|ShortPassing|Volleys|Dribbling|Curve|FKAccuracy|LongPassing|BallControl|Acceleration|SprintSpeed|Agility|Reactions|Balance|ShotPower|Jumping|Stamina|Strength|LongShots|Aggression|Interceptions|Positioning|Vision|Penalties|Composure|Marking|StandingTackle|SlidingTackle|GKDiving|GKHandling|GKKicking|GKPositioning|GKReflexes|Release Clause(M)|overall|potential|value_eur|\n",
            "+------+-------------+---+--------------------+--------------+--------------------+-------+---------+--------------------+--------------------+--------+-------+-------+--------------+------------------------+---------+-----------+--------------+---------+---------+--------+-------------+------------+-----------+--------------------+------+----------+------+----------+--------+---------+---------------+------------+-------+---------+-----+----------+-----------+-----------+------------+-----------+-------+---------+-------+---------+-------+-------+--------+---------+----------+-------------+-----------+------+---------+---------+-------+--------------+-------------+--------+----------+---------+-------------+----------+-----------------+-------+---------+---------+\n",
            "|135451|        Gomes| 37|https://cdn.sofif...|        Brazil|https://cdn.sofif...|     77|       77|             Watford|https://cdn.sofif...|    600K|     25|   1249|         Right|                       2|        2|          1|Medium/ Medium|     Lean|      Yes|      GK|            1|May 24, 2014|       null|                2019|   6.3|   192.024| 209.0| 94.800728|      15|       15|             14|          23|     13|       15|   12|        13|         19|         25|          50|         52|     56|       71|     53|       30|     76|     27|      64|       14|        40|           20|         12|    59|       41|       59|     19|            14|           15|      80|        72|       60|           77|        83|              1.1|   null|     null|     null|\n",
            "| 14907|  A. Bizzarri| 40|https://cdn.sofif...|     Argentina|https://cdn.sofif...|     76|       76|              Foggia|https://cdn.sofif...|    525K|      2|   1198|         Right|                       2|        3|          1|Medium/ Medium|   Normal|       No|      GK|            1|Jul 17, 2018|       null|                2019|   6.2|   188.976| 196.0| 88.904032|      11|       17|             10|          27|     19|       18|   19|        18|         26|         23|          55|         45|     53|       68|     51|       19|     68|     31|      55|       19|        40|           19|         10|    49|       20|       60|     11|            12|           11|      76|        74|       66|           82|        76|             840K|   null|     null|     null|\n",
            "| 45595|    D. Bonera| 37|https://cdn.sofif...|         Italy|https://cdn.sofif...|     75|       75|       Villarreal CF|https://cdn.sofif...|    900K|     18|   1490|         Right|                       2|        3|          2|     Low/ High|   Normal|      Yes|      CB|           23|Aug 31, 2015|       null|                2019|   6.0|    182.88| 185.0|  83.91452|      58|       23|             74|          60|     19|       41|   38|        29|         61|         51|          33|         30|     34|       68|     48|       60|     74|     34|      77|       53|        80|           79|         27|    41|       49|       77|     82|            78|           74|       3|         3|        3|            3|         3|              1.9|   null|     null|     null|\n",
            "|140082|       Rafael| 36|https://cdn.sofif...|        Brazil|https://cdn.sofif...|     75|       75|            Cagliari|https://cdn.sofif...|    900K|     14|   1076|         Right|                       2|        3|          1|Medium/ Medium|     Lean|       No|      GK|            1| Jul 8, 2016|       null|                2019|   6.2|   188.976| 176.0| 79.832192|      13|       11|             10|          25|     10|       13|   11|        12|         24|         23|          43|         31|     31|       70|     23|       21|     63|     41|      49|       14|        31|           10|         12|    45|       22|       60|     20|            19|           17|      76|        71|       63|           76|        76|              1.5|     73|       73|   400000|\n",
            "|114764|      Iraizoz| 37|https://cdn.sofif...|         Spain|https://cdn.sofif...|     75|       75|           Girona FC|https://cdn.sofif...|    450K|     13|   1120|         Right|                       2|        3|          1|Medium/ Medium|   Normal|       No|      GK|            1| Jul 1, 2017|       null|                2019|   6.3|   192.024| 196.0| 88.904032|      11|       12|             13|          29|     16|       11|   12|        13|         20|         15|          32|         33|     28|       73|     52|       20|     47|     33|      83|       14|        38|           23|         16|    53|       13|       56|     15|            11|           12|      69|        77|       74|           85|        67|             945K|   null|     null|     null|\n",
            "|159591|    A. P��rez| 37|https://cdn.sofif...|      Colombia|https://cdn.sofif...|     75|       75|      Deportivo Cali|https://cdn.sofif...|    900K|      2|   1908|         Right|                       1|        3|          2|Medium/ Medium|   Normal|       No|     RDM|            5| Jan 1, 2009|       null|                2023|  5.11|  155.7528| 165.0|  74.84268|      61|       55|             55|          74|     59|       59|   49|        56|         71|         71|          49|         49|     64|       75|     60|       75|     68|     66|      74|       74|        88|           81|         69|    72|       62|       84|     75|            74|           66|       8|        12|       12|           10|        15|              1.3|   null|     null|     null|\n",
            "|165735|     B. Jones| 36|https://cdn.sofif...|     Australia|https://cdn.sofif...|     75|       75|            Al Nassr|https://cdn.sofif...|    900K|     17|   1171|          Left|                       1|        2|          1|Medium/ Medium|   Normal|       No|      GK|            1| Aug 1, 2018|       null|                2020|   6.4|   195.072| 192.0| 87.089664|      19|       17|             11|          28|     11|       18|   13|        12|         18|         22|          52|         55|     25|       75|     30|       24|     70|     40|      72|       11|        32|           23|         17|    30|       35|       56|     17|            13|           13|      75|        69|       69|           80|        75|              1.5|     72|       72|   325000|\n",
            "| 49000|  A. McGregor| 36|https://cdn.sofif...|      Scotland|https://cdn.sofif...|     75|       75|          Rangers FC|https://cdn.sofif...|    900K|     22|   1258|         Right|                       2|        3|          1|Medium/ Medium|   Normal|      Yes|      GK|            1| Jul 1, 2018|       null|                2020|   6.0|    182.88| 163.0| 73.935496|      11|       19|             13|          36|     15|       18|   20|        14|         39|         29|          33|         41|     65|       70|     51|       23|     73|     30|      71|       14|        53|           18|         13|    60|       23|       68|     15|            13|           13|      74|        72|       66|           74|        79|              1.6|     74|       74|   575000|\n",
            "|165769|      C��ssio| 37|https://cdn.sofif...|        Brazil|https://cdn.sofif...|     75|       75|          Al Taawoun|https://cdn.sofif...|    450K|     10|   1165|         Right|                       1|        2|          1|Medium/ Medium|   Normal|       No|      GK|            1| Jul 1, 2018|       null|                2019|   6.1|   185.928| 174.0| 78.925008|      11|       11|             12|          25|     14|       12|   12|        13|         22|         22|          34|         40|     45|       72|     45|       24|     70|     30|      64|       11|        40|           22|         13|    60|       24|       59|     18|            17|           14|      77|        74|       68|           73|        76|             743K|     74|       74|   575000|\n",
            "| 46736|   E. Moretti| 37|https://cdn.sofif...|         Italy|https://cdn.sofif...|     75|       75|              Torino|https://cdn.sofif...|    900K|     24|   1573|          Left|                       2|        2|          2|     Low/ High|     Lean|       No|     LCB|           24|Jul 11, 2013|       null|                2019|   6.0|    182.88| 170.0|  77.11064|      51|       16|             75|          59|     27|       49|   52|        33|         56|         64|          48|         34|     48|       64|     65|       56|     73|     39|      68|       39|        74|           84|         31|    31|       49|       73|     80|            77|           76|       9|        10|       10|           11|        15|              1.5|   null|     null|     null|\n",
            "|161468|  P. Gui?az��| 39|https://cdn.sofif...|     Argentina|https://cdn.sofif...|     75|       75|Club Atl��tico Ta...|https://cdn.sofif...|    450K|     10|   1876|          Left|                       1|        3|          3|     Low/ High|   Normal|       No|     LCM|            5|Jan 20, 2016|       null|                2019|   5.9|   179.832| 150.0|   68.0388|      63|       48|             60|          82|     25|       63|   65|        30|         68|         70|          58|         61|     56|       58|     77|       65|     75|     89|      79|       60|        84|           73|         67|    69|       55|       74|     76|            76|           68|      12|        10|       12|            9|        13|             675K|   null|     null|     null|\n",
            "|149184|    C. Maggio| 36|https://cdn.sofif...|         Italy|https://cdn.sofif...|     75|       75|           Benevento|https://cdn.sofif...|    775K|      4|   2055|         Right|                       2|        2|          3|Medium/ Medium|   Normal|       No|      RB|           11| Jul 6, 2018|       null|                2020|   6.0|    182.88| 174.0| 78.925008|      77|       67|             74|          74|     79|       70|   71|        55|         72|         77|          68|         72|     74|       76|     68|       75|     86|     79|      77|       69|        72|           67|         74|    58|       57|       78|     74|            75|           75|       9|         5|        9|           11|         9|              1.2|     74|       74|  1000000|\n",
            "|156412|    J. Corona| 37|https://cdn.sofif...|        Mexico|https://cdn.sofif...|     75|       75|           Cruz Azul|https://cdn.sofif...|    450K|     12|   1166|         Right|                       2|        3|          1|Medium/ Medium|   Normal|       No|      GK|            1| Jun 1, 2009|       null|                2020|   6.0|    182.88| 185.0|  83.91452|      17|       12|             13|          33|     12|       13|   14|        10|         33|         20|          41|         38|     64|       70|     60|       21|     79|     25|      52|       12|        11|           23|         15|    40|       21|       67|     25|            13|           11|      72|        77|       68|           78|        73|             765K|     75|       75|   675000|\n",
            "|154634|   M. Pasqual| 36|https://cdn.sofif...|         Italy|https://cdn.sofif...|     74|       74|              Empoli|https://cdn.sofif...|    650K|      9|   1996|          Left|                       2|        2|          3|Medium/ Medium|   Normal|       No|      LB|           23|May 31, 2016|       null|                2022|   5.1|   155.448| 157.0| 71.213944|      86|       46|             60|          78|     62|       72|   82|        76|         77|         77|          67|         69|     76|       72|     75|       72|     77|     68|      66|       62|        66|           72|         66|    70|       50|       78|     70|            73|           72|       6|         5|        7|           12|         7|              1.2|   null|     null|     null|\n",
            "|143632|   V. Demirel| 36|https://cdn.sofif...|        Turkey|https://cdn.sofif...|     74|       74|       Fenerbah?e SK|https://cdn.sofif...|    750K|     23|   1214|         Right|                       2|        2|          1|Medium/ Medium|   Stocky|       No|      GK|            1| Aug 6, 2002|       null|                2019|   6.3|   192.024| 198.0| 89.811216|      18|       14|             18|          38|     13|       25|   11|        15|         42|         28|          32|         30|     36|       71|     35|       25|     70|     42|      83|       12|        45|           19|         12|    50|       11|       50|     22|            14|           17|      75|        71|       75|           72|        73|              1.4|   null|     null|     null|\n",
            "|116308|     R. Fanni| 36|https://cdn.sofif...|        France|https://cdn.sofif...|     74|       74|     Montreal Impact|https://cdn.sofif...|    750K|      5|   1869|         Right|                       2|        3|          2|  Medium/ High|   Normal|      Yes|     RCB|           15| Mar 5, 2018|       null|                2018|   6.1|   185.928| 179.0| 81.192968|      66|       44|             68|          70|     33|       66|   55|        57|         66|         71|          63|         65|     64|       74|     68|       67|     71|     65|      79|       58|        71|           76|         53|    58|       57|       75|     75|            71|           71|      16|        12|        8|           16|        15|              1.1|     70|       70|   350000|\n",
            "|105846|     A. Boruc| 38|https://cdn.sofif...|        Poland|https://cdn.sofif...|     74|       74|         Bournemouth|https://cdn.sofif...|    375K|     24|   1159|         Right|                       2|        3|          1|Medium/ Medium|   Normal|      Yes|      GK|            1| Jul 1, 2015|       null|                2019|   6.4|   195.072| 192.0| 87.089664|      12|       11|             11|          25|     13|       14|   13|        19|         34|         18|          37|         39|     40|       69|     40|       21|     73|     31|      69|       15|        38|           25|         17|    40|       21|       63|     15|            20|           20|      74|        73|       62|           76|        74|             713K|     73|       73|   400000|\n",
            "|145047| Bruno Saltor| 37|https://cdn.sofif...|         Spain|https://cdn.sofif...|     74|       74|Brighton & Hove A...|https://cdn.sofif...|    650K|     25|   1865|         Right|                       1|        3|          3|  High/ Medium|     Lean|      Yes|      RB|            2| Jul 1, 2012|       null|                2019|  5.11|  155.7528| 168.0| 76.203456|      75|       33|             64|          77|     55|       69|   66|        51|         72|         78|          57|         53|     66|       82|     66|       65|     56|     55|      66|       46|        74|           80|         58|    68|       45|       78|     79|            80|           76|       9|        16|       13|            8|         7|              1.2|   null|     null|     null|\n",
            "| 20209|Ricardo Costa| 37|https://cdn.sofif...|      Portugal|https://cdn.sofif...|     74|       74|          CD Tondela|https://cdn.sofif...|    750K|      4|   1638|         Right|                       2|        3|          2|  Medium/ High|   Normal|      Yes|     LCB|           20| Jul 1, 2017|       null|                2019|   6.0|    182.88| 181.0| 82.100152|      41|       25|             72|          56|     35|       48|   25|        28|         47|         52|          50|         42|     62|       70|     64|       65|     92|     69|      77|       32|        91|           70|         56|    45|       40|       75|     76|            77|           74|      14|        15|        7|            8|        13|              1.6|     73|       73|   550000|\n",
            "|150278|    J. Drobn?| 38|https://cdn.sofif...|Czech Republic|https://cdn.sofif...|     73|       73|    SV Werder Bremen|https://cdn.sofif...|    270K|     10|   1052|         Right|                       2|        2|          1|Medium/ Medium|   Normal|      Yes|      GK|           33| Jul 1, 2016|       null|                2019|   6.4|   195.072| 198.0| 89.811216|      13|       14|             12|          35|     19|       15|   12|        12|         33|         22|          35|         36|     37|       74|     35|       22|     50|     23|      66|       15|        26|           14|          8|    21|       24|       42|     13|            13|           13|      73|        74|       45|           74|        74|             459K|   null|     null|     null|\n",
            "+------+-------------+---+--------------------+--------------+--------------------+-------+---------+--------------------+--------------------+--------+-------+-------+--------------+------------------------+---------+-----------+--------------+---------+---------+--------+-------------+------------+-----------+--------------------+------+----------+------+----------+--------+---------+---------------+------------+-------+---------+-----+----------+-----------+-----------+------------+-----------+-------+---------+-------+---------+-------+-------+--------+---------+----------+-------------+-----------+------+---------+---------+-------+--------------+-------------+--------+----------+---------+-------------+----------+-----------------+-------+---------+---------+\n",
            "only showing top 20 rows\n",
            "\n"
          ],
          "name": "stdout"
        }
      ]
    },
    {
      "cell_type": "markdown",
      "metadata": {
        "id": "8txlnp7Gi2dO"
      },
      "source": [
        "Creating Pipelines for Data Preprocessing:"
      ]
    },
    {
      "cell_type": "markdown",
      "metadata": {
        "id": "GoVgxnkCoNnL"
      },
      "source": [
        "In this stage, we create two pipelines for regression and classification tasks. Depending on the tasks, certain operations are omitted in the pipeline. For example, for classification tasks, we will not use ValueImputer function to impute missing values for players monetary values in 2019 and 2021 as classification is made independent of these two columns."
      ]
    },
    {
      "cell_type": "markdown",
      "metadata": {
        "id": "rNwl_W74wdO8"
      },
      "source": [
        "Here, we import two python scripts containing transformers that we developed according to our examination in the previous section. The first python script is data_preprocessor.py which contains classes such as ValueManipulator, UnifyValue and ValueImputer. The second script is target_generator, and it contains classes such as ProfitGenerator and GrowthGenerator."
      ]
    },
    {
      "cell_type": "code",
      "metadata": {
        "colab": {
          "base_uri": "https://localhost:8080/"
        },
        "id": "_fdds9u6VFN0",
        "outputId": "575814d5-46f4-412d-b892-62ac0db9d7d2"
      },
      "source": [
        "# only for google colab\n",
        "!git clone https://github.com/Gooner12/FIFA_2019.git FIFA_2019\n",
        "!mv \"/content/FIFA_2019/data_preprocessor.py\" \"/content/\"\n",
        "!mv \"/content/FIFA_2019/target_generator.py\" \"/content/\""
      ],
      "execution_count": null,
      "outputs": [
        {
          "output_type": "stream",
          "text": [
            "Cloning into 'FIFA_2019'...\n",
            "remote: Enumerating objects: 98, done.\u001b[K\n",
            "remote: Counting objects: 100% (98/98), done.\u001b[K\n",
            "remote: Compressing objects: 100% (67/67), done.\u001b[K\n",
            "remote: Total 98 (delta 47), reused 62 (delta 30), pack-reused 0\u001b[K\n",
            "Unpacking objects: 100% (98/98), done.\n"
          ],
          "name": "stdout"
        }
      ]
    },
    {
      "cell_type": "code",
      "metadata": {
        "id": "6A8GtAe9pBHP"
      },
      "source": [
        "from pyspark.ml import Pipeline\n",
        "import data_preprocessor, target_generator\n",
        "\n",
        "# defining the stage that changes the units of players' values in 2021 along with renaming columns based on the year \n",
        "value_manipulation = data_preprocessor.ValueManipulator()\n",
        "# defining the stage that standardises the players' values in 2019 to millions\n",
        "value_standardisation = data_preprocessor.UnifyValue()\n",
        "# defining the stage that imputes and removes missing values present in players' values in 2019 and 2021\n",
        "value_imputation = data_preprocessor.ValueImputer()\n",
        "# defining the stage that generates labels based on profits in two years for regression\n",
        "regression_target = target_generator.ProfitGenerator()\n",
        "# defining the stage that generates labels based on the potential to grow in two years\n",
        "classification_target = target_generator.GrowthGenerator()"
      ],
      "execution_count": null,
      "outputs": []
    },
    {
      "cell_type": "markdown",
      "metadata": {
        "id": "RPRzJXY6q-om"
      },
      "source": [
        "DataFrame for Regression:"
      ]
    },
    {
      "cell_type": "code",
      "metadata": {
        "id": "jrWJ5nUArECJ"
      },
      "source": [
        "# creating a pipeline to generate dataframe for regression\n",
        "pipeline_regression = Pipeline(stages=[value_manipulation, value_standardisation, value_imputation, regression_target])\n",
        "# fitting the pipeline model and transforming the data as defined\n",
        "pipeline_model = pipeline_regression.fit(df)\n",
        "regression_df = pipeline_model.transform(df)\n",
        "\n"
      ],
      "execution_count": null,
      "outputs": []
    },
    {
      "cell_type": "code",
      "metadata": {
        "colab": {
          "base_uri": "https://localhost:8080/"
        },
        "id": "pgYcZDrGPCfE",
        "outputId": "56114eeb-78c9-41a8-cc16-36823c2e5e30"
      },
      "source": [
        "regression_df.printSchema()"
      ],
      "execution_count": null,
      "outputs": [
        {
          "output_type": "stream",
          "text": [
            "root\n",
            " |-- ID: integer (nullable = true)\n",
            " |-- Name: string (nullable = true)\n",
            " |-- Age: integer (nullable = true)\n",
            " |-- Photo: string (nullable = true)\n",
            " |-- Nationality: string (nullable = true)\n",
            " |-- Flag: string (nullable = true)\n",
            " |-- Overall_2019: integer (nullable = true)\n",
            " |-- Potential_2019: integer (nullable = true)\n",
            " |-- Club: string (nullable = true)\n",
            " |-- Club Logo: string (nullable = true)\n",
            " |-- Value_2019(M): double (nullable = true)\n",
            " |-- wage(K): integer (nullable = true)\n",
            " |-- Special: integer (nullable = true)\n",
            " |-- Preferred Foot: string (nullable = true)\n",
            " |-- International Reputation: integer (nullable = true)\n",
            " |-- Weak Foot: integer (nullable = true)\n",
            " |-- Skill Moves: integer (nullable = true)\n",
            " |-- Work Rate: string (nullable = true)\n",
            " |-- Body Type: string (nullable = true)\n",
            " |-- Real Face: string (nullable = true)\n",
            " |-- Position: string (nullable = true)\n",
            " |-- Jersey Number: integer (nullable = true)\n",
            " |-- Joined: string (nullable = true)\n",
            " |-- Loaned From: string (nullable = true)\n",
            " |-- Contract Valid Until: string (nullable = true)\n",
            " |-- Height: double (nullable = true)\n",
            " |-- Height(CM): double (nullable = true)\n",
            " |-- Weight: double (nullable = true)\n",
            " |-- Weight(KG): double (nullable = true)\n",
            " |-- Crossing: integer (nullable = true)\n",
            " |-- Finishing: integer (nullable = true)\n",
            " |-- HeadingAccuracy: integer (nullable = true)\n",
            " |-- ShortPassing: integer (nullable = true)\n",
            " |-- Volleys: integer (nullable = true)\n",
            " |-- Dribbling: integer (nullable = true)\n",
            " |-- Curve: integer (nullable = true)\n",
            " |-- FKAccuracy: integer (nullable = true)\n",
            " |-- LongPassing: integer (nullable = true)\n",
            " |-- BallControl: integer (nullable = true)\n",
            " |-- Acceleration: integer (nullable = true)\n",
            " |-- SprintSpeed: integer (nullable = true)\n",
            " |-- Agility: integer (nullable = true)\n",
            " |-- Reactions: integer (nullable = true)\n",
            " |-- Balance: integer (nullable = true)\n",
            " |-- ShotPower: integer (nullable = true)\n",
            " |-- Jumping: integer (nullable = true)\n",
            " |-- Stamina: integer (nullable = true)\n",
            " |-- Strength: integer (nullable = true)\n",
            " |-- LongShots: integer (nullable = true)\n",
            " |-- Aggression: integer (nullable = true)\n",
            " |-- Interceptions: integer (nullable = true)\n",
            " |-- Positioning: integer (nullable = true)\n",
            " |-- Vision: integer (nullable = true)\n",
            " |-- Penalties: integer (nullable = true)\n",
            " |-- Composure: integer (nullable = true)\n",
            " |-- Marking: integer (nullable = true)\n",
            " |-- StandingTackle: integer (nullable = true)\n",
            " |-- SlidingTackle: integer (nullable = true)\n",
            " |-- GKDiving: integer (nullable = true)\n",
            " |-- GKHandling: integer (nullable = true)\n",
            " |-- GKKicking: integer (nullable = true)\n",
            " |-- GKPositioning: integer (nullable = true)\n",
            " |-- GKReflexes: integer (nullable = true)\n",
            " |-- Release Clause(M): string (nullable = true)\n",
            " |-- Overall_2021: integer (nullable = true)\n",
            " |-- Potential_2021: integer (nullable = true)\n",
            " |-- Value_2021(M): double (nullable = true)\n",
            " |-- Gain in Two Years: double (nullable = true)\n",
            "\n"
          ],
          "name": "stdout"
        }
      ]
    },
    {
      "cell_type": "code",
      "metadata": {
        "colab": {
          "base_uri": "https://localhost:8080/"
        },
        "id": "3g2ZczcNtTBJ",
        "outputId": "85118cae-8b80-4f3a-cb13-8b69db3d44e9"
      },
      "source": [
        "regression_df.show(5)"
      ],
      "execution_count": null,
      "outputs": [
        {
          "output_type": "stream",
          "text": [
            "+------+-----------------+---+--------------------+-----------+--------------------+------------+--------------+-------------------+--------------------+-------------+-------+-------+--------------+------------------------+---------+-----------+--------------+----------+---------+--------+-------------+------------+-----------+--------------------+------+----------+------+----------+--------+---------+---------------+------------+-------+---------+-----+----------+-----------+-----------+------------+-----------+-------+---------+-------+---------+-------+-------+--------+---------+----------+-------------+-----------+------+---------+---------+-------+--------------+-------------+--------+----------+---------+-------------+----------+-----------------+------------+--------------+-------------+-----------------+\n",
            "|    ID|             Name|Age|               Photo|Nationality|                Flag|Overall_2019|Potential_2019|               Club|           Club Logo|Value_2019(M)|wage(K)|Special|Preferred Foot|International Reputation|Weak Foot|Skill Moves|     Work Rate| Body Type|Real Face|Position|Jersey Number|      Joined|Loaned From|Contract Valid Until|Height|Height(CM)|Weight|Weight(KG)|Crossing|Finishing|HeadingAccuracy|ShortPassing|Volleys|Dribbling|Curve|FKAccuracy|LongPassing|BallControl|Acceleration|SprintSpeed|Agility|Reactions|Balance|ShotPower|Jumping|Stamina|Strength|LongShots|Aggression|Interceptions|Positioning|Vision|Penalties|Composure|Marking|StandingTackle|SlidingTackle|GKDiving|GKHandling|GKKicking|GKPositioning|GKReflexes|Release Clause(M)|Overall_2021|Potential_2021|Value_2021(M)|Gain in Two Years|\n",
            "+------+-----------------+---+--------------------+-----------+--------------------+------------+--------------+-------------------+--------------------+-------------+-------+-------+--------------+------------------------+---------+-----------+--------------+----------+---------+--------+-------------+------------+-----------+--------------------+------+----------+------+----------+--------+---------+---------------+------------+-------+---------+-----+----------+-----------+-----------+------------+-----------+-------+---------+-------+---------+-------+-------+--------+---------+----------+-------------+-----------+------+---------+---------+-------+--------------+-------------+--------+----------+---------+-------------+----------+-----------------+------------+--------------+-------------+-----------------+\n",
            "|158023|         L. Messi| 31|https://cdn.sofif...|  Argentina|https://cdn.sofif...|          94|            94|       FC Barcelona|https://cdn.sofif...|        110.5|    565|   2202|          Left|                       5|        4|          4|Medium/ Medium|     Messi|      Yes|      RF|           10| Jul 1, 2004|       null|                2021|   5.7|   173.736| 159.0| 72.121128|      84|       95|             70|          90|     86|       97|   93|        94|         87|         96|          91|         86|     91|       95|     95|       85|     68|     72|      59|       94|        48|           22|         94|    94|       75|       96|     33|            28|           26|       6|        11|       15|           14|         8|            226.5|          93|            93|         67.5|            -43.0|\n",
            "| 20801|Cristiano Ronaldo| 33|https://cdn.sofif...|   Portugal|https://cdn.sofif...|          94|            94|           Juventus|https://cdn.sofif...|           77|    405|   2228|         Right|                       5|        4|          5|     High/ Low|C. Ronaldo|      Yes|      ST|            7|Jul 10, 2018|       null|                2022|   6.2|   188.976| 183.0| 83.007336|      84|       94|             89|          81|     87|       88|   81|        76|         77|         94|          89|         91|     87|       96|     70|       95|     95|     88|      79|       93|        63|           29|         95|    82|       85|       95|     28|            31|           23|       7|        11|       15|           14|        11|            127.1|          92|            92|         46.0|            -31.0|\n",
            "|190871|        Neymar Jr| 26|https://cdn.sofif...|     Brazil|https://cdn.sofif...|          92|            93|Paris Saint-Germain|https://cdn.sofif...|        118.5|    290|   2143|         Right|                       5|        5|          5|  High/ Medium|    Neymar|      Yes|      LW|           10| Aug 3, 2017|       null|                2022|   5.9|   179.832| 150.0|   68.0388|      79|       87|             62|          84|     84|       96|   88|        87|         78|         95|          94|         90|     96|       94|     84|       80|     61|     81|      49|       82|        56|           36|         89|    87|       81|       94|     27|            24|           33|       9|         9|       15|           15|        11|            228.1|          91|            91|         90.0|            -28.5|\n",
            "|192985|     K. De Bruyne| 27|https://cdn.sofif...|    Belgium|https://cdn.sofif...|          91|            92|    Manchester City|https://cdn.sofif...|          102|    355|   2281|         Right|                       4|        5|          4|    High/ High|    Normal|      Yes|     RCM|            7|Aug 30, 2015|       null|                2023|  5.11|  155.7528| 154.0| 69.853168|      93|       82|             55|          92|     82|       86|   85|        83|         91|         91|          78|         76|     79|       91|     77|       91|     63|     90|      75|       91|        76|           61|         87|    94|       79|       88|     68|            58|           51|      15|        13|        5|           10|        13|            196.4|          91|            91|         87.0|            -15.0|\n",
            "|183277|        E. Hazard| 27|https://cdn.sofif...|    Belgium|https://cdn.sofif...|          91|            91|            Chelsea|https://cdn.sofif...|           93|    340|   2142|         Right|                       4|        4|          4|  High/ Medium|    Normal|      Yes|      LF|           10| Jul 1, 2012|       null|                2020|   5.8|   176.784| 163.0| 73.935496|      81|       84|             61|          89|     80|       95|   83|        79|         83|         94|          94|         88|     95|       90|     94|       82|     56|     83|      66|       80|        54|           41|         87|    89|       86|       91|     34|            27|           22|      11|        12|        6|            8|         8|            172.1|          88|            88|         58.0|            -35.0|\n",
            "+------+-----------------+---+--------------------+-----------+--------------------+------------+--------------+-------------------+--------------------+-------------+-------+-------+--------------+------------------------+---------+-----------+--------------+----------+---------+--------+-------------+------------+-----------+--------------------+------+----------+------+----------+--------+---------+---------------+------------+-------+---------+-----+----------+-----------+-----------+------------+-----------+-------+---------+-------+---------+-------+-------+--------+---------+----------+-------------+-----------+------+---------+---------+-------+--------------+-------------+--------+----------+---------+-------------+----------+-----------------+------------+--------------+-------------+-----------------+\n",
            "only showing top 5 rows\n",
            "\n"
          ],
          "name": "stdout"
        }
      ]
    },
    {
      "cell_type": "markdown",
      "metadata": {
        "id": "LJUWIYtEtm_I"
      },
      "source": [
        "DataFrame for Classification"
      ]
    },
    {
      "cell_type": "code",
      "metadata": {
        "id": "rk_4RlvNtrZu"
      },
      "source": [
        "# creating a pipeline to generate dataframe for classification\n",
        "pipeline_classification = Pipeline(stages=[value_manipulation, value_standardisation, classification_target])\n",
        "# fitting the pipeline model and transforming the data as defined\n",
        "pipeline_model2 = pipeline_classification.fit(df)\n",
        "classification_df = pipeline_model2.transform(df)"
      ],
      "execution_count": null,
      "outputs": []
    },
    {
      "cell_type": "code",
      "metadata": {
        "colab": {
          "base_uri": "https://localhost:8080/"
        },
        "id": "VhqKtlrgt7Vu",
        "outputId": "51bc08ba-f0cd-4a54-ea3b-8486716d366b"
      },
      "source": [
        "classification_df.printSchema()"
      ],
      "execution_count": null,
      "outputs": [
        {
          "output_type": "stream",
          "text": [
            "root\n",
            " |-- ID: integer (nullable = true)\n",
            " |-- Name: string (nullable = true)\n",
            " |-- Age: integer (nullable = true)\n",
            " |-- Photo: string (nullable = true)\n",
            " |-- Nationality: string (nullable = true)\n",
            " |-- Flag: string (nullable = true)\n",
            " |-- Overall_2019: integer (nullable = true)\n",
            " |-- Potential_2019: integer (nullable = true)\n",
            " |-- Club: string (nullable = true)\n",
            " |-- Club Logo: string (nullable = true)\n",
            " |-- Value_2019(M): float (nullable = true)\n",
            " |-- wage(K): integer (nullable = true)\n",
            " |-- Special: integer (nullable = true)\n",
            " |-- Preferred Foot: string (nullable = true)\n",
            " |-- International Reputation: integer (nullable = true)\n",
            " |-- Weak Foot: integer (nullable = true)\n",
            " |-- Skill Moves: integer (nullable = true)\n",
            " |-- Work Rate: string (nullable = true)\n",
            " |-- Body Type: string (nullable = true)\n",
            " |-- Real Face: string (nullable = true)\n",
            " |-- Position: string (nullable = true)\n",
            " |-- Jersey Number: integer (nullable = true)\n",
            " |-- Joined: string (nullable = true)\n",
            " |-- Loaned From: string (nullable = true)\n",
            " |-- Contract Valid Until: string (nullable = true)\n",
            " |-- Height: double (nullable = true)\n",
            " |-- Height(CM): double (nullable = true)\n",
            " |-- Weight: double (nullable = true)\n",
            " |-- Weight(KG): double (nullable = true)\n",
            " |-- Crossing: integer (nullable = true)\n",
            " |-- Finishing: integer (nullable = true)\n",
            " |-- HeadingAccuracy: integer (nullable = true)\n",
            " |-- ShortPassing: integer (nullable = true)\n",
            " |-- Volleys: integer (nullable = true)\n",
            " |-- Dribbling: integer (nullable = true)\n",
            " |-- Curve: integer (nullable = true)\n",
            " |-- FKAccuracy: integer (nullable = true)\n",
            " |-- LongPassing: integer (nullable = true)\n",
            " |-- BallControl: integer (nullable = true)\n",
            " |-- Acceleration: integer (nullable = true)\n",
            " |-- SprintSpeed: integer (nullable = true)\n",
            " |-- Agility: integer (nullable = true)\n",
            " |-- Reactions: integer (nullable = true)\n",
            " |-- Balance: integer (nullable = true)\n",
            " |-- ShotPower: integer (nullable = true)\n",
            " |-- Jumping: integer (nullable = true)\n",
            " |-- Stamina: integer (nullable = true)\n",
            " |-- Strength: integer (nullable = true)\n",
            " |-- LongShots: integer (nullable = true)\n",
            " |-- Aggression: integer (nullable = true)\n",
            " |-- Interceptions: integer (nullable = true)\n",
            " |-- Positioning: integer (nullable = true)\n",
            " |-- Vision: integer (nullable = true)\n",
            " |-- Penalties: integer (nullable = true)\n",
            " |-- Composure: integer (nullable = true)\n",
            " |-- Marking: integer (nullable = true)\n",
            " |-- StandingTackle: integer (nullable = true)\n",
            " |-- SlidingTackle: integer (nullable = true)\n",
            " |-- GKDiving: integer (nullable = true)\n",
            " |-- GKHandling: integer (nullable = true)\n",
            " |-- GKKicking: integer (nullable = true)\n",
            " |-- GKPositioning: integer (nullable = true)\n",
            " |-- GKReflexes: integer (nullable = true)\n",
            " |-- Release Clause(M): string (nullable = true)\n",
            " |-- Overall_2021: integer (nullable = true)\n",
            " |-- Potential_2021: integer (nullable = true)\n",
            " |-- Value_2021(M): double (nullable = true)\n",
            " |-- Growth_Level: string (nullable = true)\n",
            "\n"
          ],
          "name": "stdout"
        }
      ]
    },
    {
      "cell_type": "code",
      "metadata": {
        "colab": {
          "base_uri": "https://localhost:8080/"
        },
        "id": "UKYOH0TMuOjN",
        "outputId": "c4028c82-8398-4b0d-ee37-a298bb60669b"
      },
      "source": [
        "classification_df.show(5)"
      ],
      "execution_count": null,
      "outputs": [
        {
          "output_type": "stream",
          "text": [
            "+------+-----------------+---+--------------------+-----------+--------------------+------------+--------------+-------------------+--------------------+-------------+-------+-------+--------------+------------------------+---------+-----------+--------------+----------+---------+--------+-------------+------------+-----------+--------------------+------+----------+------+----------+--------+---------+---------------+------------+-------+---------+-----+----------+-----------+-----------+------------+-----------+-------+---------+-------+---------+-------+-------+--------+---------+----------+-------------+-----------+------+---------+---------+-------+--------------+-------------+--------+----------+---------+-------------+----------+-----------------+------------+--------------+-------------+------------+\n",
            "|    ID|             Name|Age|               Photo|Nationality|                Flag|Overall_2019|Potential_2019|               Club|           Club Logo|Value_2019(M)|wage(K)|Special|Preferred Foot|International Reputation|Weak Foot|Skill Moves|     Work Rate| Body Type|Real Face|Position|Jersey Number|      Joined|Loaned From|Contract Valid Until|Height|Height(CM)|Weight|Weight(KG)|Crossing|Finishing|HeadingAccuracy|ShortPassing|Volleys|Dribbling|Curve|FKAccuracy|LongPassing|BallControl|Acceleration|SprintSpeed|Agility|Reactions|Balance|ShotPower|Jumping|Stamina|Strength|LongShots|Aggression|Interceptions|Positioning|Vision|Penalties|Composure|Marking|StandingTackle|SlidingTackle|GKDiving|GKHandling|GKKicking|GKPositioning|GKReflexes|Release Clause(M)|Overall_2021|Potential_2021|Value_2021(M)|Growth_Level|\n",
            "+------+-----------------+---+--------------------+-----------+--------------------+------------+--------------+-------------------+--------------------+-------------+-------+-------+--------------+------------------------+---------+-----------+--------------+----------+---------+--------+-------------+------------+-----------+--------------------+------+----------+------+----------+--------+---------+---------------+------------+-------+---------+-----+----------+-----------+-----------+------------+-----------+-------+---------+-------+---------+-------+-------+--------+---------+----------+-------------+-----------+------+---------+---------+-------+--------------+-------------+--------+----------+---------+-------------+----------+-----------------+------------+--------------+-------------+------------+\n",
            "|158023|         L. Messi| 31|https://cdn.sofif...|  Argentina|https://cdn.sofif...|          94|            94|       FC Barcelona|https://cdn.sofif...|        110.5|    565|   2202|          Left|                       5|        4|          4|Medium/ Medium|     Messi|      Yes|      RF|           10| Jul 1, 2004|       null|                2021|   5.7|   173.736| 159.0| 72.121128|      84|       95|             70|          90|     86|       97|   93|        94|         87|         96|          91|         86|     91|       95|     95|       85|     68|     72|      59|       94|        48|           22|         94|    94|       75|       96|     33|            28|           26|       6|        11|       15|           14|         8|            226.5|          93|            93|         67.5|   No_Growth|\n",
            "| 20801|Cristiano Ronaldo| 33|https://cdn.sofif...|   Portugal|https://cdn.sofif...|          94|            94|           Juventus|https://cdn.sofif...|         77.0|    405|   2228|         Right|                       5|        4|          5|     High/ Low|C. Ronaldo|      Yes|      ST|            7|Jul 10, 2018|       null|                2022|   6.2|   188.976| 183.0| 83.007336|      84|       94|             89|          81|     87|       88|   81|        76|         77|         94|          89|         91|     87|       96|     70|       95|     95|     88|      79|       93|        63|           29|         95|    82|       85|       95|     28|            31|           23|       7|        11|       15|           14|        11|            127.1|          92|            92|         46.0|   No_Growth|\n",
            "|190871|        Neymar Jr| 26|https://cdn.sofif...|     Brazil|https://cdn.sofif...|          92|            93|Paris Saint-Germain|https://cdn.sofif...|        118.5|    290|   2143|         Right|                       5|        5|          5|  High/ Medium|    Neymar|      Yes|      LW|           10| Aug 3, 2017|       null|                2022|   5.9|   179.832| 150.0|   68.0388|      79|       87|             62|          84|     84|       96|   88|        87|         78|         95|          94|         90|     96|       94|     84|       80|     61|     81|      49|       82|        56|           36|         89|    87|       81|       94|     27|            24|           33|       9|         9|       15|           15|        11|            228.1|          91|            91|         90.0|   No_Growth|\n",
            "|192985|     K. De Bruyne| 27|https://cdn.sofif...|    Belgium|https://cdn.sofif...|          91|            92|    Manchester City|https://cdn.sofif...|        102.0|    355|   2281|         Right|                       4|        5|          4|    High/ High|    Normal|      Yes|     RCM|            7|Aug 30, 2015|       null|                2023|  5.11|  155.7528| 154.0| 69.853168|      93|       82|             55|          92|     82|       86|   85|        83|         91|         91|          78|         76|     79|       91|     77|       91|     63|     90|      75|       91|        76|           61|         87|    94|       79|       88|     68|            58|           51|      15|        13|        5|           10|        13|            196.4|          91|            91|         87.0|   No_Growth|\n",
            "|183277|        E. Hazard| 27|https://cdn.sofif...|    Belgium|https://cdn.sofif...|          91|            91|            Chelsea|https://cdn.sofif...|         93.0|    340|   2142|         Right|                       4|        4|          4|  High/ Medium|    Normal|      Yes|      LF|           10| Jul 1, 2012|       null|                2020|   5.8|   176.784| 163.0| 73.935496|      81|       84|             61|          89|     80|       95|   83|        79|         83|         94|          94|         88|     95|       90|     94|       82|     56|     83|      66|       80|        54|           41|         87|    89|       86|       91|     34|            27|           22|      11|        12|        6|            8|         8|            172.1|          88|            88|         58.0|   No_Growth|\n",
            "+------+-----------------+---+--------------------+-----------+--------------------+------------+--------------+-------------------+--------------------+-------------+-------+-------+--------------+------------------------+---------+-----------+--------------+----------+---------+--------+-------------+------------+-----------+--------------------+------+----------+------+----------+--------+---------+---------------+------------+-------+---------+-----+----------+-----------+-----------+------------+-----------+-------+---------+-------+---------+-------+-------+--------+---------+----------+-------------+-----------+------+---------+---------+-------+--------------+-------------+--------+----------+---------+-------------+----------+-----------------+------------+--------------+-------------+------------+\n",
            "only showing top 5 rows\n",
            "\n"
          ],
          "name": "stdout"
        }
      ]
    },
    {
      "cell_type": "markdown",
      "metadata": {
        "id": "gMqIOge42NI7"
      },
      "source": [
        "## Part 2 - Unsupervised Learning: Kmeans\n",
        "\n",
        "\n",
        "\n",
        "\n",
        "### 2.1 Data Preparation\n",
        "***"
      ]
    },
    {
      "cell_type": "markdown",
      "metadata": {
        "id": "TmD6rRmtxW45"
      },
      "source": [
        "In this stage, we perform clustering of players after grouping them in three groups, DEF, MID and FWD, based on their attributes. So, we remove goalkeepers out from clustering. Later, we analyse what type of positions are mainly included in each cluster."
      ]
    },
    {
      "cell_type": "code",
      "metadata": {
        "colab": {
          "base_uri": "https://localhost:8080/"
        },
        "id": "X2LHjTMv3w_7",
        "scrolled": true,
        "outputId": "d5bfbd26-29e0-4c97-a4eb-6114dd56e063"
      },
      "source": [
        "# removing the position GK and storing in a new dataframe\n",
        "df_filtered = df.filter(df['Position'] != 'GK')\n",
        "# viewing the unique values in the filtered dataframe and check if GK has been removed\n",
        "df_filtered.select('Position').distinct().show(50)"
      ],
      "execution_count": null,
      "outputs": [
        {
          "output_type": "stream",
          "text": [
            "+--------+\n",
            "|Position|\n",
            "+--------+\n",
            "|      RF|\n",
            "|     LWB|\n",
            "|     LCM|\n",
            "|      LM|\n",
            "|     RDM|\n",
            "|      LF|\n",
            "|     CAM|\n",
            "|     RAM|\n",
            "|      LB|\n",
            "|      LW|\n",
            "|     RCM|\n",
            "|      RB|\n",
            "|      RS|\n",
            "|     LCB|\n",
            "|      CM|\n",
            "|      RW|\n",
            "|     RCB|\n",
            "|     CDM|\n",
            "|      LS|\n",
            "|      CB|\n",
            "|     RWB|\n",
            "|      CF|\n",
            "|      RM|\n",
            "|     LAM|\n",
            "|     LDM|\n",
            "|      ST|\n",
            "+--------+\n",
            "\n"
          ],
          "name": "stdout"
        }
      ]
    },
    {
      "cell_type": "markdown",
      "metadata": {
        "id": "GjSSsX26xW47"
      },
      "source": [
        "It is seen that GK has been removed and all other positions are present."
      ]
    },
    {
      "cell_type": "markdown",
      "metadata": {
        "id": "kVLBzBId9iCk"
      },
      "source": [
        "To make the later stage easier, we define the position group by using the position feature (attributes on Position).\n",
        "- DEF = [LB,LWB,RB,LCB,RCB,CB,RWB] ,\n",
        "- FWD = [RF,LF,LW,RS,RW,LS,CF,ST] ,\n",
        "- MID = [LCM,LM,RDM,CAM,RAM,RCM,CM,CDM,RM,LAM,LDM]"
      ]
    },
    {
      "cell_type": "code",
      "metadata": {
        "colab": {
          "base_uri": "https://localhost:8080/"
        },
        "id": "X4N6edcq5kE_",
        "outputId": "625089c5-fac0-4219-85f8-55bb6455639a"
      },
      "source": [
        "from pyspark.sql.functions import when,col\n",
        "\n",
        "# creating a list of specific positions\n",
        "DEF = ['LB','LWB','RB','LCB','RCB','CB','RWB']\n",
        "FWD = ['RF','LF','LW','RS','RW','LS','CF','ST']  \n",
        "MID = ['LCM','LM','RDM','CAM','RAM','RCM','CM','CDM','RM','LAM','LDM'] \n",
        "\n",
        "# creating a new column which stores values based on conditions\n",
        "df_kmeans_new = df_filtered.withColumn('Position_Group',F.when(F.col('Position').isin(DEF),'DEF')\\\n",
        "                                  .when(F.col('Position').isin(FWD),'FWD')\\\n",
        "                                  .when(F.col('Position').isin(MID),'MID').otherwise(0))\n",
        "# checking if correct group has been assigned for specific playing positions\n",
        "df_kmeans_new.select('Position','Position_Group').distinct().show(50)"
      ],
      "execution_count": null,
      "outputs": [
        {
          "output_type": "stream",
          "text": [
            "+--------+--------------+\n",
            "|Position|Position_Group|\n",
            "+--------+--------------+\n",
            "|     LCB|           DEF|\n",
            "|      LS|           FWD|\n",
            "|     RCB|           DEF|\n",
            "|      ST|           FWD|\n",
            "|      CF|           FWD|\n",
            "|     RAM|           MID|\n",
            "|     RCM|           MID|\n",
            "|     LCM|           MID|\n",
            "|      CM|           MID|\n",
            "|      LF|           FWD|\n",
            "|      RW|           FWD|\n",
            "|      LB|           DEF|\n",
            "|     CDM|           MID|\n",
            "|     LDM|           MID|\n",
            "|     RDM|           MID|\n",
            "|      LM|           MID|\n",
            "|     LWB|           DEF|\n",
            "|      RB|           DEF|\n",
            "|      LW|           FWD|\n",
            "|      RS|           FWD|\n",
            "|     LAM|           MID|\n",
            "|     RWB|           DEF|\n",
            "|      RM|           MID|\n",
            "|      CB|           DEF|\n",
            "|      RF|           FWD|\n",
            "|     CAM|           MID|\n",
            "+--------+--------------+\n",
            "\n"
          ],
          "name": "stdout"
        }
      ]
    },
    {
      "cell_type": "markdown",
      "metadata": {
        "id": "R-NyFp7IBtGZ"
      },
      "source": [
        "Now, we create a feature vector from different features of a player. We only take the feature vector for clustering purpose removing the Position_Group and Position to create the feature for Kmeans\n",
        "\n",
        "\n"
      ]
    },
    {
      "cell_type": "code",
      "metadata": {
        "colab": {
          "base_uri": "https://localhost:8080/"
        },
        "id": "2x_o_w54B-mN",
        "outputId": "c21ff4ac-b218-4486-c6e5-6be0bbbde588"
      },
      "source": [
        "from pyspark.ml.clustering import KMeans\n",
        "from pyspark.ml.feature import VectorAssembler\n",
        "\n",
        "FEATURES_COL = ['Height(CM)', 'Weight(KG)', \n",
        "                      'Crossing', 'Finishing', 'HeadingAccuracy', \n",
        "                      'ShortPassing', 'Volleys', 'Dribbling', 'Curve',\n",
        "                      'FKAccuracy', 'LongPassing', 'BallControl', \n",
        "                      'Acceleration', 'SprintSpeed', 'Agility', \n",
        "                      'Reactions', 'Balance', 'ShotPower', 'Jumping', \n",
        "                      'Stamina', 'Strength', 'LongShots', 'Aggression', \n",
        "                      'Interceptions', 'Positioning', 'Vision', 'Penalties', \n",
        "                      'Composure', 'Marking', 'StandingTackle', 'SlidingTackle']\n",
        "\n",
        "vecAssembler = VectorAssembler(inputCols=FEATURES_COL, outputCol=\"features\")\n",
        "# selecting only ID and features, which is the feature vector in a new dataframe\n",
        "df_kmeans = vecAssembler.transform(df_kmeans_new).select('ID','features')\n",
        "df_kmeans.show(3)"
      ],
      "execution_count": null,
      "outputs": [
        {
          "output_type": "stream",
          "text": [
            "+------+--------------------+\n",
            "|    ID|            features|\n",
            "+------+--------------------+\n",
            "|158023|[173.736,72.12112...|\n",
            "| 20801|[188.976,83.00733...|\n",
            "|190871|[179.832,68.0388,...|\n",
            "+------+--------------------+\n",
            "only showing top 3 rows\n",
            "\n"
          ],
          "name": "stdout"
        }
      ]
    },
    {
      "cell_type": "markdown",
      "metadata": {
        "id": "UniVGeYIDa_k"
      },
      "source": [
        "Now we plot the elbow plot to determine the optimum number of clusters for our dataset. We test with a range of cluster numbers from 2 to 20."
      ]
    },
    {
      "cell_type": "code",
      "metadata": {
        "id": "UDia7JYyDLhg"
      },
      "source": [
        "# creating an array to store the within  sum of squared errors for different cluster numbers\n",
        "cost = np.zeros(21)\n",
        "\n",
        "for k in range(2,21):\n",
        "    # initialising k means with seed value to enable reproducability and fitting the model to df_kmeans\n",
        "    kmeans_iter = KMeans().setK(k).setSeed(2020)\n",
        "    model = kmeans_iter.fit(df_kmeans)\n",
        "    # storing the within sum of squared errors in the cost array\n",
        "    cost[k] = model.computeCost(df_kmeans)"
      ],
      "execution_count": null,
      "outputs": []
    },
    {
      "cell_type": "code",
      "metadata": {
        "colab": {
          "base_uri": "https://localhost:8080/",
          "height": 417
        },
        "id": "Mr-bSnj5EA1l",
        "outputId": "267469eb-c0c3-416f-b2d3-db5a2e6e87cd"
      },
      "source": [
        "fig, ax = plt.subplots(1,1, figsize =(8,6))\n",
        "ax.set_xlabel('k')\n",
        "ax.set_ylabel('cost')\n",
        "\n",
        "#plotting the within sum of squared errors for each cluster number\n",
        "ax.plot(range(2,21),cost[2:21])"
      ],
      "execution_count": null,
      "outputs": [
        {
          "output_type": "execute_result",
          "data": {
            "text/plain": [
              "[<matplotlib.lines.Line2D at 0x7f5b5de2b050>]"
            ]
          },
          "metadata": {
            "tags": []
          },
          "execution_count": 25
        },
        {
          "output_type": "display_data",
          "data": {
            "image/png": "[encoded data removed]",
            "text/plain": [
              "<Figure size 576x432 with 1 Axes>"
            ]
          },
          "metadata": {
            "tags": [],
            "needs_background": "light"
          }
        }
      ]
    },
    {
      "cell_type": "markdown",
      "metadata": {
        "id": "i4Q9C1kKxW49"
      },
      "source": [
        "From the above plot, it can be seen that after k=8 there is not a steep decline in the cost (sum of squared error), so we take k=8 as our elbow point. For clustering, we take 8 as the ideal number of clusters."
      ]
    },
    {
      "cell_type": "markdown",
      "metadata": {
        "id": "XupecQFHE5Za"
      },
      "source": [
        "\n",
        "### 2.2 K-Means\n",
        "***\n",
        "\n"
      ]
    },
    {
      "cell_type": "code",
      "metadata": {
        "colab": {
          "base_uri": "https://localhost:8080/"
        },
        "id": "LxSOxcowE6vB",
        "outputId": "76f5f2c9-e620-468f-f8c9-068c6c2455b5"
      },
      "source": [
        "k = 8\n",
        "\n",
        "kmeans = KMeans().setK(k).setSeed(2020)\n",
        "model = kmeans.fit(df_kmeans)\n",
        "# assigning the cluster centers\n",
        "print('***Cluster Centres***')\n",
        "cluster_centers = model.clusterCenters()\n",
        "for i in cluster_centers:\n",
        "  print(i) # printing the centers"
      ],
      "execution_count": null,
      "outputs": [
        {
          "output_type": "stream",
          "text": [
            "***Cluster Centres***\n",
            "[177.45568889  77.43733424  55.1521164   69.76785714  66.54365079\n",
            "  63.61838624  63.81216931  67.9755291   57.9702381   50.59193122\n",
            "  51.62566138  68.80026455  71.45304233  72.56944444  69.84060847\n",
            "  66.64484127  64.91005291  71.04034392  71.06547619  68.28835979\n",
            "  72.6957672   63.88558201  59.07473545  29.97949735  70.10846561\n",
            "  60.4728836   65.3234127   65.73544974  32.12896825  27.96097884\n",
            "  24.36904762]\n",
            "[172.57407959  74.18369877  67.19897959  57.50170068  59.55994898\n",
            "  72.65008503  56.83418367  69.68707483  66.08886054  61.5454932\n",
            "  69.27295918  72.10204082  69.22746599  68.61479592  71.1164966\n",
            "  70.02763605  70.50807823  70.98044218  68.39328231  76.0795068\n",
            "  68.60416667  65.91411565  70.49532313  67.77380952  64.6420068\n",
            "  68.03911565  59.26785714  69.40093537  65.37967687  68.28103741\n",
            "  65.41284014]\n",
            "[186.0693585   80.24622656  35.22898032  26.64713775  64.65116279\n",
            "  53.75268336  28.77728086  39.25357782  31.22406082  30.259839\n",
            "  47.46735242  49.87880143  54.64534884  56.43962433  49.48255814\n",
            "  58.67173524  52.38059034  45.68067979  68.58050089  62.4342576\n",
            "  76.09078712  29.09794275  65.26386404  62.86449016  30.22406082\n",
            "  37.07602862  38.58899821  55.82826476  63.65876565  66.48166369\n",
            "  63.83497317]\n",
            "[177.49266594  75.92734115  38.61964147  62.0639127   58.99454404\n",
            "  51.69680436  50.07950117  57.91738114  42.75681995  35.29150429\n",
            "  37.83476228  58.52065472  67.06235386  68.01325019  62.92595479\n",
            "  55.8355417   62.24006235  60.60483242  64.60171473  59.68901013\n",
            "  65.70381917  54.28293063  43.45830086  19.8355417   59.08417771\n",
            "  49.2314887   59.41543258  52.90802806  25.80046765  20.10833983\n",
            "  18.72096648]\n",
            "[170.56921907  71.10436678  68.99491418  67.24411952  52.2460267\n",
            "  71.47933884  63.87666879  75.08773045  70.70629371  66.14494596\n",
            "  65.37635092  74.44755245  77.34710744  75.5740623   79.27209154\n",
            "  69.24094088  76.90464081  71.29752066  62.71392244  69.18563255\n",
            "  58.76668786  68.7221869   54.51176097  40.46726001  69.81945327\n",
            "  70.67005722  64.57088366  69.71455817  40.60394151  39.32104259\n",
            "  35.59059123]\n",
            "[175.89236072  75.44833414  56.90022243  43.34191293  60.15030187\n",
            "  65.97362568  41.47410232  60.07403877  50.38195106  45.10517954\n",
            "  61.99014935  64.17953607  65.91611058  66.55322529  64.95932634\n",
            "  64.25452812  65.01175723  59.79281856  68.99459803  72.43025103\n",
            "  70.3447728   50.43851287  68.55036543  64.99523356  52.22052749\n",
            "  56.0994598   47.66539561  62.21639657  64.1251986   66.72100413\n",
            "  64.61582459]\n",
            "[170.93348134  69.184243    55.76145489  54.7076051   43.38214454\n",
            "  60.78082192  48.35049598  64.29050543  53.21776098  47.19508739\n",
            "  54.58573453  63.10958904  73.86773736  72.81247048  72.81813888\n",
            "  55.32168162  74.14076523  58.22390175  57.47472839  59.79452055\n",
            "  51.59329239  51.22957015  43.76854039  32.35569202  56.42182333\n",
            "  57.22295701  52.3037317   55.51960321  37.06424185  35.95512518\n",
            "  34.89560699]\n",
            "[170.80530473  71.56832766  51.69716088  33.82492114  50.33648791\n",
            "  56.57991588  32.34121977  55.10147213  40.02313354  36.01787592\n",
            "  50.11987382  55.74500526  68.53838065  67.90904311  64.89484753\n",
            "  55.90378549  68.35488959  43.670347    64.34121977  65.12618297\n",
            "  59.86750789  35.60672976  57.64143007  55.4915878   46.70241851\n",
            "  46.21030494  40.73291272  49.75920084  55.38222923  58.75078864\n",
            "  57.60042061]\n"
          ],
          "name": "stdout"
        }
      ]
    },
    {
      "cell_type": "code",
      "metadata": {
        "id": "AkWZ5-6oFlpp",
        "colab": {
          "base_uri": "https://localhost:8080/"
        },
        "outputId": "682509f4-c8a7-4a24-b601-2a5deeaf041c"
      },
      "source": [
        "from pyspark.sql import SQLContext\n",
        "\n",
        "# assigning the unique row to a cluster center while taking off the features column using transform method\n",
        "predictions = model.transform(df_kmeans).select('ID','prediction')\n",
        "# assigning the list of predicted ids\n",
        "predictions_list = predictions.collect()\n",
        "\n",
        "# instantiating a sqlContext object\n",
        "sqlContext = SQLContext(spark)\n",
        "# creating a dataframe using SQLContext object\n",
        "df_prediction = sqlContext.createDataFrame(predictions_list)\n",
        "df_prediction.show(10)"
      ],
      "execution_count": null,
      "outputs": [
        {
          "output_type": "stream",
          "text": [
            "+------+----------+\n",
            "|    ID|prediction|\n",
            "+------+----------+\n",
            "|158023|         4|\n",
            "| 20801|         4|\n",
            "|190871|         4|\n",
            "|192985|         1|\n",
            "|183277|         4|\n",
            "|177003|         1|\n",
            "|176580|         4|\n",
            "|155862|         1|\n",
            "|188545|         4|\n",
            "|182521|         1|\n",
            "+------+----------+\n",
            "only showing top 10 rows\n",
            "\n"
          ],
          "name": "stdout"
        }
      ]
    },
    {
      "cell_type": "code",
      "metadata": {
        "id": "UYeUV5w2xW4-",
        "colab": {
          "base_uri": "https://localhost:8080/"
        },
        "outputId": "ba668cee-0e77-4744-cca5-2a7b333cc15d"
      },
      "source": [
        "# joining the original dataframe containing Position_Group to the prediction dataframe using common column ID\n",
        "df_prediction_complete = df_prediction.join(df_kmeans_new,'ID')\n",
        "df_prediction_complete.show()"
      ],
      "execution_count": null,
      "outputs": [
        {
          "output_type": "stream",
          "text": [
            "+------+----------+-----------------+---+--------------------+-----------+--------------------+-------+---------+-------------------+--------------------+--------+-------+-------+--------------+------------------------+---------+-----------+--------------+----------+---------+--------+-------------+------------+-----------+--------------------+------+----------+------+----------+--------+---------+---------------+------------+-------+---------+-----+----------+-----------+-----------+------------+-----------+-------+---------+-------+---------+-------+-------+--------+---------+----------+-------------+-----------+------+---------+---------+-------+--------------+-------------+--------+----------+---------+-------------+----------+-----------------+--------------+\n",
            "|    ID|prediction|             Name|Age|               Photo|Nationality|                Flag|Overall|Potential|               Club|           Club Logo|value(M)|wage(K)|Special|Preferred Foot|International Reputation|Weak Foot|Skill Moves|     Work Rate| Body Type|Real Face|Position|Jersey Number|      Joined|Loaned From|Contract Valid Until|Height|Height(CM)|Weight|Weight(KG)|Crossing|Finishing|HeadingAccuracy|ShortPassing|Volleys|Dribbling|Curve|FKAccuracy|LongPassing|BallControl|Acceleration|SprintSpeed|Agility|Reactions|Balance|ShotPower|Jumping|Stamina|Strength|LongShots|Aggression|Interceptions|Positioning|Vision|Penalties|Composure|Marking|StandingTackle|SlidingTackle|GKDiving|GKHandling|GKKicking|GKPositioning|GKReflexes|Release Clause(M)|Position_Group|\n",
            "+------+----------+-----------------+---+--------------------+-----------+--------------------+-------+---------+-------------------+--------------------+--------+-------+-------+--------------+------------------------+---------+-----------+--------------+----------+---------+--------+-------------+------------+-----------+--------------------+------+----------+------+----------+--------+---------+---------------+------------+-------+---------+-----+----------+-----------+-----------+------------+-----------+-------+---------+-------+---------+-------+-------+--------+---------+----------+-------------+-----------+------+---------+---------+-------+--------------+-------------+--------+----------+---------+-------------+----------+-----------------+--------------+\n",
            "|158023|         4|         L. Messi| 31|https://cdn.sofif...|  Argentina|https://cdn.sofif...|     94|       94|       FC Barcelona|https://cdn.sofif...|   110.5|    565|   2202|          Left|                       5|        4|          4|Medium/ Medium|     Messi|      Yes|      RF|           10| Jul 1, 2004|       null|                2021|   5.7|   173.736| 159.0| 72.121128|      84|       95|             70|          90|     86|       97|   93|        94|         87|         96|          91|         86|     91|       95|     95|       85|     68|     72|      59|       94|        48|           22|         94|    94|       75|       96|     33|            28|           26|       6|        11|       15|           14|         8|            226.5|           FWD|\n",
            "| 20801|         4|Cristiano Ronaldo| 33|https://cdn.sofif...|   Portugal|https://cdn.sofif...|     94|       94|           Juventus|https://cdn.sofif...|      77|    405|   2228|         Right|                       5|        4|          5|     High/ Low|C. Ronaldo|      Yes|      ST|            7|Jul 10, 2018|       null|                2022|   6.2|   188.976| 183.0| 83.007336|      84|       94|             89|          81|     87|       88|   81|        76|         77|         94|          89|         91|     87|       96|     70|       95|     95|     88|      79|       93|        63|           29|         95|    82|       85|       95|     28|            31|           23|       7|        11|       15|           14|        11|            127.1|           FWD|\n",
            "|190871|         4|        Neymar Jr| 26|https://cdn.sofif...|     Brazil|https://cdn.sofif...|     92|       93|Paris Saint-Germain|https://cdn.sofif...|   118.5|    290|   2143|         Right|                       5|        5|          5|  High/ Medium|    Neymar|      Yes|      LW|           10| Aug 3, 2017|       null|                2022|   5.9|   179.832| 150.0|   68.0388|      79|       87|             62|          84|     84|       96|   88|        87|         78|         95|          94|         90|     96|       94|     84|       80|     61|     81|      49|       82|        56|           36|         89|    87|       81|       94|     27|            24|           33|       9|         9|       15|           15|        11|            228.1|           FWD|\n",
            "|192985|         1|     K. De Bruyne| 27|https://cdn.sofif...|    Belgium|https://cdn.sofif...|     91|       92|    Manchester City|https://cdn.sofif...|     102|    355|   2281|         Right|                       4|        5|          4|    High/ High|    Normal|      Yes|     RCM|            7|Aug 30, 2015|       null|                2023|  5.11|  155.7528| 154.0| 69.853168|      93|       82|             55|          92|     82|       86|   85|        83|         91|         91|          78|         76|     79|       91|     77|       91|     63|     90|      75|       91|        76|           61|         87|    94|       79|       88|     68|            58|           51|      15|        13|        5|           10|        13|            196.4|           MID|\n",
            "|183277|         4|        E. Hazard| 27|https://cdn.sofif...|    Belgium|https://cdn.sofif...|     91|       91|            Chelsea|https://cdn.sofif...|      93|    340|   2142|         Right|                       4|        4|          4|  High/ Medium|    Normal|      Yes|      LF|           10| Jul 1, 2012|       null|                2020|   5.8|   176.784| 163.0| 73.935496|      81|       84|             61|          89|     80|       95|   83|        79|         83|         94|          94|         88|     95|       90|     94|       82|     56|     83|      66|       80|        54|           41|         87|    89|       86|       91|     34|            27|           22|      11|        12|        6|            8|         8|            172.1|           FWD|\n",
            "|177003|         1|        L. Modri?| 32|https://cdn.sofif...|    Croatia|https://cdn.sofif...|     91|       91|        Real Madrid|https://cdn.sofif...|      67|    420|   2280|         Right|                       4|        4|          4|    High/ High|      Lean|      Yes|     RCM|           10| Aug 1, 2012|       null|                2020|   5.8|   176.784| 146.0| 66.224432|      86|       72|             55|          93|     76|       90|   85|        78|         88|         93|          80|         72|     93|       90|     94|       79|     68|     89|      58|       82|        62|           83|         79|    92|       82|       84|     60|            76|           73|      13|         9|        7|           14|         9|            137.4|           MID|\n",
            "|176580|         4|       L. Su��rez| 31|https://cdn.sofif...|    Uruguay|https://cdn.sofif...|     91|       91|       FC Barcelona|https://cdn.sofif...|      80|    455|   2346|         Right|                       5|        4|          3|  High/ Medium|    Normal|      Yes|      RS|            9|Jul 11, 2014|       null|                2021|   6.0|    182.88| 190.0|  86.18248|      77|       93|             77|          82|     88|       87|   86|        84|         64|         90|          86|         75|     82|       92|     83|       86|     69|     90|      83|       85|        87|           41|         92|    84|       85|       85|     62|            45|           38|      27|        25|       31|           33|        37|              164|           FWD|\n",
            "|155862|         1|     Sergio Ramos| 32|https://cdn.sofif...|      Spain|https://cdn.sofif...|     91|       91|        Real Madrid|https://cdn.sofif...|      51|    380|   2201|         Right|                       4|        3|          3|  High/ Medium|    Normal|      Yes|     RCB|           15| Aug 1, 2005|       null|                2020|   6.0|    182.88| 181.0| 82.100152|      66|       60|             91|          78|     66|       63|   74|        72|         77|         84|          76|         75|     78|       85|     66|       79|     93|     84|      83|       59|        88|           90|         60|    63|       75|       82|     87|            92|           91|      11|         8|        9|            7|        11|            104.6|           DEF|\n",
            "|188545|         4|   R. Lewandowski| 29|https://cdn.sofif...|     Poland|https://cdn.sofif...|     90|       90| FC Bayern M��nchen|https://cdn.sofif...|      77|    205|   2152|         Right|                       4|        4|          4|  High/ Medium|    Normal|      Yes|      ST|            9| Jul 1, 2014|       null|                2021|   6.0|    182.88| 176.0| 79.832192|      62|       91|             85|          83|     89|       85|   77|        86|         65|         89|          77|         78|     78|       90|     78|       88|     84|     78|      84|       84|        80|           39|         91|    77|       88|       86|     34|            42|           19|      15|         6|       12|            8|        10|            127.1|           FWD|\n",
            "|182521|         1|         T. Kroos| 28|https://cdn.sofif...|    Germany|https://cdn.sofif...|     90|       90|        Real Madrid|https://cdn.sofif...|    76.5|    355|   2190|         Right|                       4|        5|          3|Medium/ Medium|    Normal|      Yes|     LCM|            8|Jul 17, 2014|       null|                2022|   6.0|    182.88| 168.0| 76.203456|      88|       76|             54|          92|     82|       81|   86|        84|         93|         90|          64|         62|     70|       89|     71|       87|     30|     75|      73|       92|        60|           82|         79|    86|       73|       85|     72|            79|           69|      10|        11|       13|            7|        10|            156.8|           MID|\n",
            "|182493|         5|        D. God��n| 32|https://cdn.sofif...|    Uruguay|https://cdn.sofif...|     90|       90|   Atl��tico Madrid|https://cdn.sofif...|      44|    125|   1946|         Right|                       3|        3|          2|  Medium/ High|      Lean|      Yes|      CB|           10| Aug 4, 2010|       null|                2019|   6.2|   188.976| 172.0| 78.017824|      55|       42|             92|          79|     47|       53|   49|        51|         70|         76|          68|         68|     58|       85|     54|       67|     91|     66|      88|       43|        89|           88|         48|    52|       50|       82|     90|            89|           89|       6|         8|       15|            5|        15|             90.2|           DEF|\n",
            "|168542|         4|      David Silva| 32|https://cdn.sofif...|      Spain|https://cdn.sofif...|     90|       90|    Manchester City|https://cdn.sofif...|      60|    285|   2115|          Left|                       4|        2|          4|  High/ Medium|    Normal|      Yes|     LCM|           21|Jul 14, 2010|       null|                2020|   5.8|   176.784| 148.0| 67.131616|      84|       76|             54|          93|     82|       89|   82|        77|         87|         94|          70|         64|     92|       90|     90|       72|     64|     78|      52|       75|        57|           50|         89|    92|       75|       93|     59|            53|           29|       6|        15|        7|            6|        12|              111|           MID|\n",
            "|215914|         1|        N. Kant��| 27|https://cdn.sofif...|     France|https://cdn.sofif...|     89|       90|            Chelsea|https://cdn.sofif...|      63|    225|   2189|         Right|                       3|        3|          2|  Medium/ High|      Lean|      Yes|     LDM|           13|Jul 16, 2016|       null|                2023|   5.6|   170.688| 159.0| 72.121128|      68|       65|             54|          86|     56|       79|   49|        49|         81|         80|          82|         78|     82|       93|     92|       71|     77|     96|      76|       69|        90|           92|         71|    79|       54|       85|     90|            91|           85|      15|        12|       10|            7|        10|            121.3|           MID|\n",
            "|211110|         4|        P. Dybala| 24|https://cdn.sofif...|  Argentina|https://cdn.sofif...|     89|       94|           Juventus|https://cdn.sofif...|      89|    205|   2092|          Left|                       3|        3|          4|  High/ Medium|    Normal|      Yes|      LF|           21| Jul 1, 2015|       null|                2022|   5.1|   155.448| 165.0|  74.84268|      82|       84|             68|          87|     88|       92|   88|        88|         75|         92|          87|         83|     91|       86|     85|       82|     75|     80|      65|       88|        48|           32|         84|    87|       86|       84|     23|            20|           20|       5|         4|        4|            5|         8|            153.5|           FWD|\n",
            "|202126|         4|          H. Kane| 24|https://cdn.sofif...|    England|https://cdn.sofif...|     89|       91|  Tottenham Hotspur|https://cdn.sofif...|    83.5|    205|   2165|         Right|                       3|        4|          3|    High/ High|    Normal|      Yes|      ST|            9| Jul 1, 2010|       null|                2024|   6.2|   188.976| 196.0| 88.904032|      75|       94|             85|          80|     84|       80|   78|        68|         82|         84|          68|         72|     71|       91|     71|       88|     78|     89|      84|       85|        76|           35|         93|    80|       90|       89|     56|            36|           38|       8|        10|       11|           14|        11|            160.7|           FWD|\n",
            "|194765|         4|     A. Griezmann| 27|https://cdn.sofif...|     France|https://cdn.sofif...|     89|       90|   Atl��tico Madrid|https://cdn.sofif...|      78|    145|   2246|          Left|                       4|        3|          4|    High/ High|      Lean|      Yes|     CAM|            7|Jul 28, 2014|       null|                2023|   5.9|   179.832| 161.0| 73.028312|      82|       90|             84|          83|     87|       88|   84|        78|         76|         90|          88|         85|     90|       90|     80|       80|     90|     83|      62|       82|        69|           35|         91|    83|       79|       87|     59|            47|           48|      14|         8|       14|           13|        14|            165.8|           MID|\n",
            "|189511|         1|  Sergio Busquets| 29|https://cdn.sofif...|      Spain|https://cdn.sofif...|     89|       89|       FC Barcelona|https://cdn.sofif...|    51.5|    315|   2065|         Right|                       4|        3|          3|Medium/ Medium|      Lean|      Yes|     CDM|            5| Sep 1, 2008|       null|                2023|   6.2|   188.976| 168.0| 76.203456|      62|       67|             68|          89|     44|       80|   66|        68|         82|         88|          50|         52|     66|       87|     52|       61|     66|     86|      77|       54|        85|           87|         77|    87|       60|       90|     90|            86|           80|       5|         8|       13|            9|        13|            105.6|           MID|\n",
            "|179813|         4|        E. Cavani| 31|https://cdn.sofif...|    Uruguay|https://cdn.sofif...|     89|       89|Paris Saint-Germain|https://cdn.sofif...|      60|    200|   2161|         Right|                       4|        4|          3|    High/ High|      Lean|      Yes|      LS|           21|Jul 16, 2013|       null|                2020|   6.1|   185.928| 170.0|  77.11064|      70|       89|             89|          78|     90|       80|   77|        76|         52|         82|          75|         76|     77|       91|     59|       87|     88|     92|      78|       79|        84|           48|         93|    77|       85|       82|     52|            45|           39|      12|         5|       13|           13|        10|              111|           FWD|\n",
            "|153079|         4|       S. Ag��ero| 30|https://cdn.sofif...|  Argentina|https://cdn.sofif...|     89|       89|    Manchester City|https://cdn.sofif...|    64.5|    300|   2107|         Right|                       4|        4|          4|  High/ Medium|    Stocky|      Yes|      ST|           10|Jul 28, 2011|       null|                2021|   5.8|   176.784| 154.0| 69.853168|      70|       93|             77|          81|     85|       89|   82|        73|         64|         89|          88|         80|     86|       90|     91|       88|     81|     76|      73|       83|        65|           24|         92|    83|       83|       90|     30|            20|           12|      13|        15|        6|           11|        14|            119.3|           FWD|\n",
            "|138956|         5|     G. Chiellini| 33|https://cdn.sofif...|      Italy|https://cdn.sofif...|     89|       89|           Juventus|https://cdn.sofif...|      27|    215|   1841|          Left|                       4|        3|          2|  Medium/ High|    Normal|      Yes|     LCB|            3| Jul 1, 2005|       null|                2020|   6.2|   188.976| 187.0| 84.821704|      58|       33|             83|          59|     45|       58|   60|        31|         59|         57|          63|         75|     54|       82|     55|       78|     89|     65|      89|       49|        92|           88|         28|    50|       50|       84|     93|            93|           90|       3|         3|        2|            4|         3|             44.6|           DEF|\n",
            "+------+----------+-----------------+---+--------------------+-----------+--------------------+-------+---------+-------------------+--------------------+--------+-------+-------+--------------+------------------------+---------+-----------+--------------+----------+---------+--------+-------------+------------+-----------+--------------------+------+----------+------+----------+--------+---------+---------------+------------+-------+---------+-----+----------+-----------+-----------+------------+-----------+-------+---------+-------+---------+-------+-------+--------+---------+----------+-------------+-----------+------+---------+---------+-------+--------------+-------------+--------+----------+---------+-------------+----------+-----------------+--------------+\n",
            "only showing top 20 rows\n",
            "\n"
          ],
          "name": "stdout"
        }
      ]
    },
    {
      "cell_type": "code",
      "metadata": {
        "id": "Dwjj5V1wxW4-",
        "colab": {
          "base_uri": "https://localhost:8080/"
        },
        "outputId": "03f424ff-aa84-4c30-c543-6bf4157498d1"
      },
      "source": [
        "# counting the position group present in each cluster \n",
        "df_prediction_complete.groupby(\"prediction\",'Position_Group').agg(F.count('ID')).sort('prediction').show(30)"
      ],
      "execution_count": null,
      "outputs": [
        {
          "output_type": "stream",
          "text": [
            "+----------+--------------+---------+\n",
            "|prediction|Position_Group|count(ID)|\n",
            "+----------+--------------+---------+\n",
            "|         0|           MID|      255|\n",
            "|         0|           FWD|     1221|\n",
            "|         0|           DEF|        1|\n",
            "|         1|           DEF|      696|\n",
            "|         1|           MID|     1610|\n",
            "|         1|           FWD|       51|\n",
            "|         2|           MID|       70|\n",
            "|         2|           DEF|     2167|\n",
            "|         2|           FWD|        1|\n",
            "|         3|           FWD|     1142|\n",
            "|         3|           DEF|        1|\n",
            "|         3|           MID|      108|\n",
            "|         4|           MID|     1158|\n",
            "|         4|           DEF|        6|\n",
            "|         4|           FWD|      471|\n",
            "|         5|           MID|     1383|\n",
            "|         5|           FWD|       24|\n",
            "|         5|           DEF|     1738|\n",
            "|         6|           FWD|      493|\n",
            "|         6|           DEF|       17|\n",
            "|         6|           MID|     1600|\n",
            "|         7|           DEF|     1240|\n",
            "|         7|           FWD|       15|\n",
            "|         7|           MID|      654|\n",
            "+----------+--------------+---------+\n",
            "\n"
          ],
          "name": "stdout"
        }
      ]
    },
    {
      "cell_type": "markdown",
      "metadata": {
        "id": "IiHEevY6IOJz"
      },
      "source": [
        "## Part 3 - Supervised Learning: Classification on Position_Group\n"
      ]
    },
    {
      "cell_type": "markdown",
      "metadata": {
        "id": "cMxCG46J684x"
      },
      "source": [
        "In this part, we try to predict the position group of the player."
      ]
    },
    {
      "cell_type": "markdown",
      "metadata": {
        "id": "e66sZKQF7SEn"
      },
      "source": [
        "### 3.1 Data Preparation\n",
        "\n",
        "We remove the feature of position and only use the skill set features and the cluster results from Kmeans as the input. The target for classification is \"Position_Group\".\n",
        "***"
      ]
    },
    {
      "cell_type": "code",
      "metadata": {
        "colab": {
          "base_uri": "https://localhost:8080/"
        },
        "id": "PwtsyrUsI8e_",
        "outputId": "9dc86092-6dd5-492a-edec-dee93c6139c3"
      },
      "source": [
        "# renaming the column prediction in our dataframe as Cluster and reflecting the changes in a new dataframe df_kmeans_pred\n",
        "df_kmeans_pred = df_prediction_complete.withColumnRenamed('prediction', 'Cluster')\n",
        "df_kmeans_pred.show(5)"
      ],
      "execution_count": null,
      "outputs": [
        {
          "output_type": "stream",
          "text": [
            "+------+-------+-----------------+---+--------------------+-----------+--------------------+-------+---------+-------------------+--------------------+--------+-------+-------+--------------+------------------------+---------+-----------+--------------+----------+---------+--------+-------------+------------+-----------+--------------------+------+----------+------+----------+--------+---------+---------------+------------+-------+---------+-----+----------+-----------+-----------+------------+-----------+-------+---------+-------+---------+-------+-------+--------+---------+----------+-------------+-----------+------+---------+---------+-------+--------------+-------------+--------+----------+---------+-------------+----------+-----------------+--------------+\n",
            "|    ID|Cluster|             Name|Age|               Photo|Nationality|                Flag|Overall|Potential|               Club|           Club Logo|value(M)|wage(K)|Special|Preferred Foot|International Reputation|Weak Foot|Skill Moves|     Work Rate| Body Type|Real Face|Position|Jersey Number|      Joined|Loaned From|Contract Valid Until|Height|Height(CM)|Weight|Weight(KG)|Crossing|Finishing|HeadingAccuracy|ShortPassing|Volleys|Dribbling|Curve|FKAccuracy|LongPassing|BallControl|Acceleration|SprintSpeed|Agility|Reactions|Balance|ShotPower|Jumping|Stamina|Strength|LongShots|Aggression|Interceptions|Positioning|Vision|Penalties|Composure|Marking|StandingTackle|SlidingTackle|GKDiving|GKHandling|GKKicking|GKPositioning|GKReflexes|Release Clause(M)|Position_Group|\n",
            "+------+-------+-----------------+---+--------------------+-----------+--------------------+-------+---------+-------------------+--------------------+--------+-------+-------+--------------+------------------------+---------+-----------+--------------+----------+---------+--------+-------------+------------+-----------+--------------------+------+----------+------+----------+--------+---------+---------------+------------+-------+---------+-----+----------+-----------+-----------+------------+-----------+-------+---------+-------+---------+-------+-------+--------+---------+----------+-------------+-----------+------+---------+---------+-------+--------------+-------------+--------+----------+---------+-------------+----------+-----------------+--------------+\n",
            "|158023|      4|         L. Messi| 31|https://cdn.sofif...|  Argentina|https://cdn.sofif...|     94|       94|       FC Barcelona|https://cdn.sofif...|   110.5|    565|   2202|          Left|                       5|        4|          4|Medium/ Medium|     Messi|      Yes|      RF|           10| Jul 1, 2004|       null|                2021|   5.7|   173.736| 159.0| 72.121128|      84|       95|             70|          90|     86|       97|   93|        94|         87|         96|          91|         86|     91|       95|     95|       85|     68|     72|      59|       94|        48|           22|         94|    94|       75|       96|     33|            28|           26|       6|        11|       15|           14|         8|            226.5|           FWD|\n",
            "| 20801|      4|Cristiano Ronaldo| 33|https://cdn.sofif...|   Portugal|https://cdn.sofif...|     94|       94|           Juventus|https://cdn.sofif...|      77|    405|   2228|         Right|                       5|        4|          5|     High/ Low|C. Ronaldo|      Yes|      ST|            7|Jul 10, 2018|       null|                2022|   6.2|   188.976| 183.0| 83.007336|      84|       94|             89|          81|     87|       88|   81|        76|         77|         94|          89|         91|     87|       96|     70|       95|     95|     88|      79|       93|        63|           29|         95|    82|       85|       95|     28|            31|           23|       7|        11|       15|           14|        11|            127.1|           FWD|\n",
            "|190871|      4|        Neymar Jr| 26|https://cdn.sofif...|     Brazil|https://cdn.sofif...|     92|       93|Paris Saint-Germain|https://cdn.sofif...|   118.5|    290|   2143|         Right|                       5|        5|          5|  High/ Medium|    Neymar|      Yes|      LW|           10| Aug 3, 2017|       null|                2022|   5.9|   179.832| 150.0|   68.0388|      79|       87|             62|          84|     84|       96|   88|        87|         78|         95|          94|         90|     96|       94|     84|       80|     61|     81|      49|       82|        56|           36|         89|    87|       81|       94|     27|            24|           33|       9|         9|       15|           15|        11|            228.1|           FWD|\n",
            "|192985|      1|     K. De Bruyne| 27|https://cdn.sofif...|    Belgium|https://cdn.sofif...|     91|       92|    Manchester City|https://cdn.sofif...|     102|    355|   2281|         Right|                       4|        5|          4|    High/ High|    Normal|      Yes|     RCM|            7|Aug 30, 2015|       null|                2023|  5.11|  155.7528| 154.0| 69.853168|      93|       82|             55|          92|     82|       86|   85|        83|         91|         91|          78|         76|     79|       91|     77|       91|     63|     90|      75|       91|        76|           61|         87|    94|       79|       88|     68|            58|           51|      15|        13|        5|           10|        13|            196.4|           MID|\n",
            "|183277|      4|        E. Hazard| 27|https://cdn.sofif...|    Belgium|https://cdn.sofif...|     91|       91|            Chelsea|https://cdn.sofif...|      93|    340|   2142|         Right|                       4|        4|          4|  High/ Medium|    Normal|      Yes|      LF|           10| Jul 1, 2012|       null|                2020|   5.8|   176.784| 163.0| 73.935496|      81|       84|             61|          89|     80|       95|   83|        79|         83|         94|          94|         88|     95|       90|     94|       82|     56|     83|      66|       80|        54|           41|         87|    89|       86|       91|     34|            27|           22|      11|        12|        6|            8|         8|            172.1|           FWD|\n",
            "+------+-------+-----------------+---+--------------------+-----------+--------------------+-------+---------+-------------------+--------------------+--------+-------+-------+--------------+------------------------+---------+-----------+--------------+----------+---------+--------+-------------+------------+-----------+--------------------+------+----------+------+----------+--------+---------+---------------+------------+-------+---------+-----+----------+-----------+-----------+------------+-----------+-------+---------+-------+---------+-------+-------+--------+---------+----------+-------------+-----------+------+---------+---------+-------+--------------+-------------+--------+----------+---------+-------------+----------+-----------------+--------------+\n",
            "only showing top 5 rows\n",
            "\n"
          ],
          "name": "stdout"
        }
      ]
    },
    {
      "cell_type": "code",
      "metadata": {
        "colab": {
          "base_uri": "https://localhost:8080/"
        },
        "id": "isGaE9NO8P6j",
        "outputId": "f7519e94-9324-4e30-a598-449fc6cd234c"
      },
      "source": [
        "# selecting the attributes to get a feature vector later\n",
        "FEATURES_COL_ = ['Height(CM)', 'Weight(KG)', \n",
        "                      'Crossing', 'Finishing', 'HeadingAccuracy', \n",
        "                      'ShortPassing', 'Volleys', 'Dribbling', 'Curve',\n",
        "                      'FKAccuracy', 'LongPassing', 'BallControl', \n",
        "                      'Acceleration', 'SprintSpeed', 'Agility', \n",
        "                      'Reactions', 'Balance', 'ShotPower', 'Jumping', \n",
        "                      'Stamina', 'Strength', 'LongShots', 'Aggression', \n",
        "                      'Interceptions', 'Positioning', 'Vision', 'Penalties', \n",
        "                      'Composure', 'Marking', 'StandingTackle', 'SlidingTackle','Cluster']\n",
        "\n",
        "\n",
        "vecAssembler_ = VectorAssembler(inputCols=FEATURES_COL_, outputCol=\"features\")\n",
        "# this dataframe contains the feature vector generated from players' attributes and their clusters\n",
        "df_class = vecAssembler_.transform(df_kmeans_pred).select('features','Position_Group')\n",
        "df_class.show(3)"
      ],
      "execution_count": null,
      "outputs": [
        {
          "output_type": "stream",
          "text": [
            "+--------------------+--------------+\n",
            "|            features|Position_Group|\n",
            "+--------------------+--------------+\n",
            "|[173.736,72.12112...|           FWD|\n",
            "|[188.976,83.00733...|           FWD|\n",
            "|[179.832,68.0388,...|           FWD|\n",
            "+--------------------+--------------+\n",
            "only showing top 3 rows\n",
            "\n"
          ],
          "name": "stdout"
        }
      ]
    },
    {
      "cell_type": "markdown",
      "metadata": {
        "id": "AklN81TvMKJS"
      },
      "source": [
        "Performing feature scaling. For this, we use standard scaling on the features."
      ]
    },
    {
      "cell_type": "code",
      "metadata": {
        "colab": {
          "base_uri": "https://localhost:8080/"
        },
        "id": "pjQRAHOQMK6V",
        "outputId": "d7c7b74e-88f7-468c-bc9d-a04ec667157a"
      },
      "source": [
        "from pyspark.ml.feature import StandardScaler\n",
        "\n",
        "standardscaler=StandardScaler().setInputCol(\"features\").setOutputCol(\"Scaled_features\")\n",
        "raw_data=standardscaler.fit(df_class).transform(df_class)\n",
        "raw_data.select(\"features\",\"Scaled_features\",'Position_Group').show(5)"
      ],
      "execution_count": null,
      "outputs": [
        {
          "output_type": "stream",
          "text": [
            "+--------------------+--------------------+--------------+\n",
            "|            features|     Scaled_features|Position_Group|\n",
            "+--------------------+--------------------+--------------+\n",
            "|[173.736,72.12112...|[12.9261363965246...|           FWD|\n",
            "|[188.976,83.00733...|[14.0600080102548...|           FWD|\n",
            "|[179.832,68.0388,...|[13.3796850420166...|           FWD|\n",
            "|[155.7528,69.8531...|[11.5881678923229...|           MID|\n",
            "|[176.784,73.93549...|[13.1529107192706...|           FWD|\n",
            "+--------------------+--------------------+--------------+\n",
            "only showing top 5 rows\n",
            "\n"
          ],
          "name": "stdout"
        }
      ]
    },
    {
      "cell_type": "markdown",
      "metadata": {
        "id": "DD6wgq2sgiGk"
      },
      "source": [
        "In Spark, we can not use string as Target data type. So, encoding the Position_Group column by using following encoding: \n",
        "\n",
        "FWD = 0\n",
        "DEF = 1\n",
        "MID = 2"
      ]
    },
    {
      "cell_type": "code",
      "metadata": {
        "colab": {
          "base_uri": "https://localhost:8080/"
        },
        "id": "OosmFX9iOc0Z",
        "outputId": "0ac72ed0-332b-415b-fcd4-8973d1eca85e"
      },
      "source": [
        "raw_data_encode = raw_data.withColumn('Target',when(col(\"Position_Group\") == \"DEF\", 1)\n",
        "      .when(col(\"Position_Group\")== \"FWD\", 0)\n",
        "      .otherwise(2))\n",
        "raw_data_encode.show()"
      ],
      "execution_count": null,
      "outputs": [
        {
          "output_type": "stream",
          "text": [
            "+--------------------+--------------+--------------------+------+\n",
            "|            features|Position_Group|     Scaled_features|Target|\n",
            "+--------------------+--------------+--------------------+------+\n",
            "|[173.736,72.12112...|           FWD|[12.9261363965246...|     0|\n",
            "|[188.976,83.00733...|           FWD|[14.0600080102548...|     0|\n",
            "|[179.832,68.0388,...|           FWD|[13.3796850420166...|     0|\n",
            "|[155.7528,69.8531...|           MID|[11.5881678923229...|     2|\n",
            "|[176.784,73.93549...|           FWD|[13.1529107192706...|     0|\n",
            "|[176.784,66.22443...|           MID|[13.1529107192706...|     2|\n",
            "|[182.88,86.18248,...|           FWD|[13.6064593647627...|     0|\n",
            "|[182.88,82.100152...|           DEF|[13.6064593647627...|     1|\n",
            "|[182.88,79.832192...|           FWD|[13.6064593647627...|     0|\n",
            "|[182.88,76.203456...|           MID|[13.6064593647627...|     2|\n",
            "|[188.976,78.01782...|           DEF|[14.0600080102548...|     1|\n",
            "|[176.784,67.13161...|           MID|[13.1529107192706...|     2|\n",
            "|[170.688,72.12112...|           MID|[12.6993620737785...|     2|\n",
            "|[155.448,74.84268...|           FWD|[11.5654904600483...|     0|\n",
            "|[188.976,88.90403...|           FWD|[14.0600080102548...|     0|\n",
            "|[179.832,73.02831...|           MID|[13.3796850420166...|     2|\n",
            "|[188.976,76.20345...|           MID|[14.0600080102548...|     2|\n",
            "|[185.928,77.11064...|           FWD|[13.8332336875087...|     0|\n",
            "|[176.784,69.85316...|           FWD|[13.1529107192706...|     0|\n",
            "|[188.976,84.82170...|           DEF|[14.0600080102548...|     1|\n",
            "+--------------------+--------------+--------------------+------+\n",
            "only showing top 20 rows\n",
            "\n"
          ],
          "name": "stdout"
        }
      ]
    },
    {
      "cell_type": "markdown",
      "metadata": {
        "id": "NDfZARUNMW2M"
      },
      "source": [
        "### 3.2 Training Test Evaluation\n",
        "***\n",
        "\n",
        "Splitting the data into train/Test, and evaluating the model performance."
      ]
    },
    {
      "cell_type": "code",
      "metadata": {
        "id": "MmbanmwBMUQB"
      },
      "source": [
        "train, test = raw_data_encode.randomSplit([0.7, 0.3], seed=2020)"
      ],
      "execution_count": null,
      "outputs": []
    },
    {
      "cell_type": "code",
      "metadata": {
        "colab": {
          "base_uri": "https://localhost:8080/"
        },
        "id": "h-vH7VOfpNJP",
        "outputId": "c490b68a-237b-47c0-a5fe-de7f2c3a1e79"
      },
      "source": [
        "test.show()"
      ],
      "execution_count": null,
      "outputs": [
        {
          "output_type": "stream",
          "text": [
            "+--------------------+--------------+--------------------+------+\n",
            "|            features|Position_Group|     Scaled_features|Target|\n",
            "+--------------------+--------------+--------------------+------+\n",
            "|[155.448,58.05977...|           MID|[11.5654904600483...|     2|\n",
            "|[155.448,62.14210...|           MID|[11.5654904600483...|     2|\n",
            "|[155.448,63.04928...|           MID|[11.5654904600483...|     2|\n",
            "|[155.448,63.04928...|           FWD|[11.5654904600483...|     0|\n",
            "|[155.448,63.04928...|           MID|[11.5654904600483...|     2|\n",
            "|[155.448,63.04928...|           MID|[11.5654904600483...|     2|\n",
            "|[155.448,63.95647...|           FWD|[11.5654904600483...|     0|\n",
            "|[155.448,63.95647...|           MID|[11.5654904600483...|     2|\n",
            "|[155.448,63.95647...|           MID|[11.5654904600483...|     2|\n",
            "|[155.448,63.95647...|           MID|[11.5654904600483...|     2|\n",
            "|[155.448,64.86365...|           MID|[11.5654904600483...|     2|\n",
            "|[155.448,64.86365...|           MID|[11.5654904600483...|     2|\n",
            "|[155.448,64.86365...|           MID|[11.5654904600483...|     2|\n",
            "|[155.448,64.86365...|           MID|[11.5654904600483...|     2|\n",
            "|[155.448,64.86365...|           MID|[11.5654904600483...|     2|\n",
            "|[155.448,64.86365...|           MID|[11.5654904600483...|     2|\n",
            "|[155.448,64.86365...|           MID|[11.5654904600483...|     2|\n",
            "|[155.448,64.86365...|           MID|[11.5654904600483...|     2|\n",
            "|[155.448,66.22443...|           MID|[11.5654904600483...|     2|\n",
            "|[155.448,66.22443...|           FWD|[11.5654904600483...|     0|\n",
            "+--------------------+--------------+--------------------+------+\n",
            "only showing top 20 rows\n",
            "\n"
          ],
          "name": "stdout"
        }
      ]
    },
    {
      "cell_type": "code",
      "metadata": {
        "colab": {
          "base_uri": "https://localhost:8080/"
        },
        "id": "apoKm9igMi12",
        "outputId": "9b8b1f1f-5193-467f-c666-483ea8dfbfa0"
      },
      "source": [
        "# using logistic regression for classification\n",
        "from pyspark.ml.classification import LogisticRegression\n",
        "lr = LogisticRegression(labelCol=\"Target\", featuresCol=\"Scaled_features\",maxIter=10)\n",
        "model=lr.fit(train)\n",
        "\n",
        "predict_train=model.transform(train)\n",
        "predict_test=model.transform(test)\n",
        "predict_test.select(\"Target\",\"prediction\").show(10)"
      ],
      "execution_count": null,
      "outputs": [
        {
          "output_type": "stream",
          "text": [
            "+------+----------+\n",
            "|Target|prediction|\n",
            "+------+----------+\n",
            "|     2|       2.0|\n",
            "|     2|       2.0|\n",
            "|     2|       2.0|\n",
            "|     0|       2.0|\n",
            "|     2|       2.0|\n",
            "|     2|       2.0|\n",
            "|     0|       0.0|\n",
            "|     2|       2.0|\n",
            "|     2|       2.0|\n",
            "|     2|       2.0|\n",
            "+------+----------+\n",
            "only showing top 10 rows\n",
            "\n"
          ],
          "name": "stdout"
        }
      ]
    },
    {
      "cell_type": "markdown",
      "metadata": {
        "id": "EoFo3Uwu-SYP"
      },
      "source": [
        "Evaluating the model using confusion matrix."
      ]
    },
    {
      "cell_type": "code",
      "metadata": {
        "colab": {
          "base_uri": "https://localhost:8080/"
        },
        "id": "ZWDez7Iigo28",
        "outputId": "f8d2cc18-2103-41c3-8622-27e12eed7da0"
      },
      "source": [
        "from pyspark.mllib.evaluation import MulticlassMetrics\n",
        "from pyspark.sql.types import FloatType\n",
        "# the label need to be in float datatype otherwise it won't work\n",
        "# creating a column that represents the target but the datatype is float\n",
        "predict_test_float = predict_test.select(['prediction','Target']).withColumn('label', F.col('Target').cast(FloatType()))\n",
        "\n",
        "# selecting only prediction and label columns\n",
        "predict_test_float = predict_test_float.select(['prediction','label'])\n",
        "# casting to rdd and mapping to a tuple\n",
        "metrics = MulticlassMetrics(predict_test_float.rdd.map(tuple))\n",
        "confusion_matrix = metrics.confusionMatrix().toArray()\n",
        "confusion_matrix"
      ],
      "execution_count": null,
      "outputs": [
        {
          "output_type": "execute_result",
          "data": {
            "text/plain": [
              "array([[ 799.,    2.,  215.],\n",
              "       [   2., 1442.,  344.],\n",
              "       [ 174.,  204., 1670.]])"
            ]
          },
          "metadata": {
            "tags": []
          },
          "execution_count": 106
        }
      ]
    },
    {
      "cell_type": "code",
      "metadata": {
        "colab": {
          "base_uri": "https://localhost:8080/"
        },
        "id": "T19DZCUMpo7m",
        "outputId": "b4094b8a-04de-440d-96d3-1a3d52ee113d"
      },
      "source": [
        "# changing the confusion matrix array datatype to int as it's datatype is float\n",
        "confusion_matrix = confusion_matrix.astype('int32')\n",
        "confusion_matrix"
      ],
      "execution_count": null,
      "outputs": [
        {
          "output_type": "execute_result",
          "data": {
            "text/plain": [
              "array([[ 799,    2,  215],\n",
              "       [   2, 1442,  344],\n",
              "       [ 174,  204, 1670]], dtype=int32)"
            ]
          },
          "metadata": {
            "tags": []
          },
          "execution_count": 95
        }
      ]
    },
    {
      "cell_type": "code",
      "metadata": {
        "colab": {
          "base_uri": "https://localhost:8080/",
          "height": 457
        },
        "id": "gL8BoKNilc83",
        "outputId": "08c6dc26-8302-4abd-faa4-fc80a2910fce"
      },
      "source": [
        "# creating a heatmap from the confusion matrix\n",
        "import seaborn as sn \n",
        "#creating a dataframe from the confusion matrix\n",
        "confusion_df = pd.DataFrame(confusion_matrix, index = [i for i in labels], columns = [i for i in labels])\n",
        "plt.figure(figsize=(10,7))\n",
        "sn.set(font_scale=1.5) # setting the label size\n",
        "# drawing the heat map along with displaying values in a digit format and setting the digit size\n",
        "sn.heatmap(confusion_df, annot=True, fmt='d', annot_kws={\"size\": 20})\n"
      ],
      "execution_count": null,
      "outputs": [
        {
          "output_type": "execute_result",
          "data": {
            "text/plain": [
              "<matplotlib.axes._subplots.AxesSubplot at 0x7f5b43b99550>"
            ]
          },
          "metadata": {
            "tags": []
          },
          "execution_count": 96
        },
        {
          "output_type": "display_data",
          "data": {
            "image/png": "[encoded data removed]",
            "text/plain": [
              "<Figure size 720x504 with 2 Axes>"
            ]
          },
          "metadata": {
            "tags": []
          }
        }
      ]
    },
    {
      "cell_type": "markdown",
      "metadata": {
        "id": "-Io-4TJcsC4g"
      },
      "source": [
        "Calculating Precision, Recall and F1 Score."
      ]
    },
    {
      "cell_type": "code",
      "metadata": {
        "colab": {
          "base_uri": "https://localhost:8080/"
        },
        "id": "Ye5STXodv98q",
        "outputId": "6ef396d8-998a-4e18-d991-9080282d3679"
      },
      "source": [
        "for lab in 0.0,1.0,2.0:\n",
        "  if lab == 0:\n",
        "    print('Precision for FWD is', metrics.precision(lab))\n",
        "    print('Recall for FWD is', metrics.recall(lab))\n",
        "    print('F1-score for FWD is', metrics.fMeasure(lab, beta=1.0))\n",
        "  elif lab == 1:\n",
        "    print('Precision for DEF is', metrics.precision(lab))\n",
        "    print('Recall for DEF is', metrics.recall(lab))\n",
        "    print('F1-score for DEF is', metrics.fMeasure(lab, beta=1.0))\n",
        "  else:\n",
        "    print('Precision for MID is', metrics.precision(lab))\n",
        "    print('Recall for MID is', metrics.recall(lab))\n",
        "    print('F1-score for MID is', metrics.fMeasure(lab, beta=1.0))\n",
        "  print()"
      ],
      "execution_count": null,
      "outputs": [
        {
          "output_type": "stream",
          "text": [
            "Precision for FWD is 0.8194871794871795\n",
            "Recall for FWD is 0.7864173228346457\n",
            "F1-score for FWD is 0.802611752887996\n",
            "\n",
            "Precision for DEF is 0.875\n",
            "Recall for DEF is 0.8064876957494407\n",
            "F1-score for DEF is 0.839348079161816\n",
            "\n",
            "Precision for MID is 0.7492148945715568\n",
            "Recall for MID is 0.8154296875\n",
            "F1-score for MID is 0.7809212064531214\n",
            "\n"
          ],
          "name": "stdout"
        }
      ]
    },
    {
      "cell_type": "markdown",
      "metadata": {
        "id": "4Iy-g_68Q8OV"
      },
      "source": [
        "### 3.3 K-fold Cross-Validation\n",
        "***"
      ]
    },
    {
      "cell_type": "markdown",
      "metadata": {
        "id": "nb_oFT80Cbcy"
      },
      "source": [
        "In this section, we perform hyper-parameter tuning to find the best hyper-parameter set using K-fold cross validation along with param grid. "
      ]
    },
    {
      "cell_type": "code",
      "metadata": {
        "id": "0yCvsy1-jO7x"
      },
      "source": [
        "from pyspark.ml import Pipeline\n",
        "from pyspark.ml.classification import RandomForestClassifier\n",
        "from pyspark.ml.evaluation import MulticlassClassificationEvaluator\n",
        "from pyspark.ml.tuning import ParamGridBuilder, CrossValidator\n",
        "\n",
        "# We are using Decision Tree as our other classifiers apart from Random Forest classifier and Logistic Regression \n",
        "from pyspark.ml.classification import DecisionTreeClassifier"
      ],
      "execution_count": null,
      "outputs": []
    },
    {
      "cell_type": "code",
      "metadata": {
        "id": "BaA1tKwihKsQ"
      },
      "source": [
        "# building a custom transformer method to encode the position group as done before.\n",
        "from pyspark.ml import Transformer\n",
        "from pyspark.sql import DataFrame\n",
        "\n",
        "# defining a custom transformer to perform label encoding\n",
        "class LabelEncoder(Transformer):\n",
        "    \"\"\"\n",
        "    A custom Transformer which creates a target column based on the encoding of position group, such as\n",
        "    if position group is DEF, it is encoded as 1, 0 for FWD and 3 for MID \n",
        "    \"\"\"\n",
        "\n",
        "    def __init__(self):\n",
        "        super(LabelEncoder, self).__init__()\n",
        "        #self.position_group = position_group\n",
        "\n",
        "    def _transform(self, df: DataFrame) -> DataFrame:\n",
        "        df = df.withColumn('Target',when(col('Position_Group') == \"DEF\", 1).when(col('Position_Group')== \"FWD\", 0)\\\n",
        "      .otherwise(2))\n",
        "        return df"
      ],
      "execution_count": null,
      "outputs": []
    },
    {
      "cell_type": "markdown",
      "metadata": {
        "id": "rzEmnsKCPi8A"
      },
      "source": [
        "Preprocessing Stages:"
      ]
    },
    {
      "cell_type": "markdown",
      "metadata": {
        "id": "Vz9WI2HLPvNi"
      },
      "source": [
        "Setting the pipeline"
      ]
    },
    {
      "cell_type": "code",
      "metadata": {
        "id": "xwrGN9nun__-"
      },
      "source": [
        "# creating the preprocessing stages for the Machine Learning pipeline and setting the pipeline\n",
        "# defining the stage 1\n",
        "vec_assembler_mlp = VectorAssembler(inputCols=FEATURES_COL_, outputCol=\"features\")\n",
        "# defining the stage 2\n",
        "standard_scaler_mlp = StandardScaler().setInputCol(\"features\").setOutputCol(\"Scaled_features\")\n",
        "# defining the stage 3\n",
        "encoding_mlp = LabelEncoder()\n",
        "# defining the last stage (random forest)\n",
        "random_forest = RandomForestClassifier(labelCol='Target', featuresCol='Scaled_features', numTrees=20, maxDepth=5,\\\n",
        "                                       impurity='gini')\n",
        "# defining the last stage (logistic regression)\n",
        "logistic_regression = LogisticRegression(featuresCol='Scaled_features', labelCol='Target', maxIter=100, regParam=0, threshold=0.5)\n",
        "# defining the last stage (decision tree)\n",
        "decision_tree = DecisionTreeClassifier(featuresCol='Scaled_features', labelCol='Target', maxDepth=5, maxBins=32, impurity='gini')\n",
        "\n",
        "\n",
        "# setting the pipeline for random_forest\n",
        "pipeline_random_forest = Pipeline(stages=[vec_assembler_mlp, standard_scaler_mlp, encoding_mlp, random_forest])\n",
        "# setting the pipeline for logistic_regression\n",
        "pipeline_logistic_regression = Pipeline(stages=[vec_assembler_mlp, standard_scaler_mlp, encoding_mlp, logistic_regression])\n",
        "# setting the pipeline for decision tree\n",
        "pipeline_decision_tree = Pipeline(stages=[vec_assembler_mlp, standard_scaler_mlp, encoding_mlp, decision_tree])"
      ],
      "execution_count": null,
      "outputs": []
    },
    {
      "cell_type": "markdown",
      "metadata": {
        "id": "qhq0bxUOP7ZV"
      },
      "source": [
        "Buidling parameter grids"
      ]
    },
    {
      "cell_type": "code",
      "metadata": {
        "id": "_JyIHePVoWL0"
      },
      "source": [
        "# building a grid of parameters for random forest to be used by the cross-\n",
        "# providing number of trees, depth of trees and impurity measures as inputs for parameter grids\n",
        "paramGrid_random_forest = ParamGridBuilder().addGrid(random_forest.numTrees, [5, 10, 20, 40])\\\n",
        ".addGrid(random_forest.maxDepth, [4,14,24])\\\n",
        ".addGrid(random_forest.impurity, ['entropy', 'gini']).build()\n",
        "\n",
        "# building a grid of parameters for logistic regression to be used by the cross-validation\n",
        "# providing iteration number, different lambda values and threshold values for paramter grids\n",
        "paramGrid_logistic_regression = ParamGridBuilder().addGrid(logistic_regression.maxIter, [50, 100, 200, 250])\\\n",
        ".addGrid(logistic_regression.regParam, [0.1,0, 1, 10]).build()\n",
        "\n",
        "# building a grid of parameters for decision tree to be used by the cross-validation\n",
        "# providing various maxBins, maxDepth and impurity values as parameters\n",
        "paramGrid_decision_tree = ParamGridBuilder().addGrid(decision_tree.maxDepth, [5, 10, 20, 30])\\\n",
        " .addGrid(decision_tree.maxBins, [15, 25, 32])\\\n",
        " .addGrid(decision_tree.impurity, ['entropy', 'gini']).build()"
      ],
      "execution_count": null,
      "outputs": []
    },
    {
      "cell_type": "markdown",
      "metadata": {
        "id": "wT26nwRlQGY-"
      },
      "source": [
        "Splitting the dataset"
      ]
    },
    {
      "cell_type": "code",
      "metadata": {
        "id": "S5grj1KV9Il3"
      },
      "source": [
        "# splitting the data into training and testing dataset\n",
        "training, testing = df_kmeans_pred.randomSplit([0.7, 0.3], seed=12)"
      ],
      "execution_count": null,
      "outputs": []
    },
    {
      "cell_type": "markdown",
      "metadata": {
        "id": "pLNZ0MdpHAeu"
      },
      "source": [
        "**Cross validation**\n",
        "\n",
        "\n"
      ]
    },
    {
      "cell_type": "markdown",
      "metadata": {
        "id": "ygCKee-wHTyd"
      },
      "source": [
        "Cross validating the random forest"
      ]
    },
    {
      "cell_type": "code",
      "metadata": {
        "id": "IP2w_7Rgt2G9"
      },
      "source": [
        "# cross validating for random forest\n",
        "crossval_random_forest = CrossValidator(estimator=pipeline_random_forest,\\\n",
        "                          estimatorParamMaps=paramGrid_random_forest,\\\n",
        "                          evaluator=MulticlassClassificationEvaluator(labelCol='Target', predictionCol='prediction'),\\\n",
        "                          numFolds=10)\n",
        "\n",
        "# fitting the training data\n",
        "cv_random_forest= crossval_random_forest.fit(training)"
      ],
      "execution_count": null,
      "outputs": []
    },
    {
      "cell_type": "markdown",
      "metadata": {
        "id": "KNMOxWceHtNE"
      },
      "source": [
        "Displaying the parameter values with scores along with finding the best parameter values and fitting the testing dataset"
      ]
    },
    {
      "cell_type": "code",
      "metadata": {
        "colab": {
          "base_uri": "https://localhost:8080/",
          "height": 777
        },
        "id": "iNyM5v8S4nrL",
        "outputId": "e30826f3-629f-4e62-cd2d-fce62e258dec"
      },
      "source": [
        "# creating a dictionary of parameter and values after retrieving the estimator parameter map\n",
        "parameter_values_rf = [{parameter.name: values for parameter, values in parameter_maps.items()} for parameter_maps in cv_random_forest.getEstimatorParamMaps()]\n",
        "#print(parameter_values_rf)\n",
        "# creating a pandas dataframe containing measuring scores corresponding to each parameter value for different parameters from a dictionary \n",
        "# the first column is the score and the remaining are the parameters\n",
        "pd.DataFrame.from_dict([{cv_random_forest.getEvaluator().getMetricName(): metric, **pvs}\\\n",
        "    for pvs, metric in zip(parameter_values_rf, cv_random_forest.avgMetrics)\n",
        "])"
      ],
      "execution_count": null,
      "outputs": [
        {
          "output_type": "execute_result",
          "data": {
            "text/html": [
              "<div>\n",
              "<style scoped>\n",
              "    .dataframe tbody tr th:only-of-type {\n",
              "        vertical-align: middle;\n",
              "    }\n",
              "\n",
              "    .dataframe tbody tr th {\n",
              "        vertical-align: top;\n",
              "    }\n",
              "\n",
              "    .dataframe thead th {\n",
              "        text-align: right;\n",
              "    }\n",
              "</style>\n",
              "<table border=\"1\" class=\"dataframe\">\n",
              "  <thead>\n",
              "    <tr style=\"text-align: right;\">\n",
              "      <th></th>\n",
              "      <th>f1</th>\n",
              "      <th>numTrees</th>\n",
              "      <th>maxDepth</th>\n",
              "      <th>impurity</th>\n",
              "    </tr>\n",
              "  </thead>\n",
              "  <tbody>\n",
              "    <tr>\n",
              "      <th>0</th>\n",
              "      <td>0.791475</td>\n",
              "      <td>5</td>\n",
              "      <td>4</td>\n",
              "      <td>entropy</td>\n",
              "    </tr>\n",
              "    <tr>\n",
              "      <th>1</th>\n",
              "      <td>0.792626</td>\n",
              "      <td>5</td>\n",
              "      <td>4</td>\n",
              "      <td>gini</td>\n",
              "    </tr>\n",
              "    <tr>\n",
              "      <th>2</th>\n",
              "      <td>0.837618</td>\n",
              "      <td>5</td>\n",
              "      <td>14</td>\n",
              "      <td>entropy</td>\n",
              "    </tr>\n",
              "    <tr>\n",
              "      <th>3</th>\n",
              "      <td>0.826635</td>\n",
              "      <td>5</td>\n",
              "      <td>14</td>\n",
              "      <td>gini</td>\n",
              "    </tr>\n",
              "    <tr>\n",
              "      <th>4</th>\n",
              "      <td>0.834765</td>\n",
              "      <td>5</td>\n",
              "      <td>24</td>\n",
              "      <td>entropy</td>\n",
              "    </tr>\n",
              "    <tr>\n",
              "      <th>5</th>\n",
              "      <td>0.819461</td>\n",
              "      <td>5</td>\n",
              "      <td>24</td>\n",
              "      <td>gini</td>\n",
              "    </tr>\n",
              "    <tr>\n",
              "      <th>6</th>\n",
              "      <td>0.800359</td>\n",
              "      <td>10</td>\n",
              "      <td>4</td>\n",
              "      <td>entropy</td>\n",
              "    </tr>\n",
              "    <tr>\n",
              "      <th>7</th>\n",
              "      <td>0.804420</td>\n",
              "      <td>10</td>\n",
              "      <td>4</td>\n",
              "      <td>gini</td>\n",
              "    </tr>\n",
              "    <tr>\n",
              "      <th>8</th>\n",
              "      <td>0.850241</td>\n",
              "      <td>10</td>\n",
              "      <td>14</td>\n",
              "      <td>entropy</td>\n",
              "    </tr>\n",
              "    <tr>\n",
              "      <th>9</th>\n",
              "      <td>0.844617</td>\n",
              "      <td>10</td>\n",
              "      <td>14</td>\n",
              "      <td>gini</td>\n",
              "    </tr>\n",
              "    <tr>\n",
              "      <th>10</th>\n",
              "      <td>0.847870</td>\n",
              "      <td>10</td>\n",
              "      <td>24</td>\n",
              "      <td>entropy</td>\n",
              "    </tr>\n",
              "    <tr>\n",
              "      <th>11</th>\n",
              "      <td>0.840847</td>\n",
              "      <td>10</td>\n",
              "      <td>24</td>\n",
              "      <td>gini</td>\n",
              "    </tr>\n",
              "    <tr>\n",
              "      <th>12</th>\n",
              "      <td>0.803664</td>\n",
              "      <td>20</td>\n",
              "      <td>4</td>\n",
              "      <td>entropy</td>\n",
              "    </tr>\n",
              "    <tr>\n",
              "      <th>13</th>\n",
              "      <td>0.808571</td>\n",
              "      <td>20</td>\n",
              "      <td>4</td>\n",
              "      <td>gini</td>\n",
              "    </tr>\n",
              "    <tr>\n",
              "      <th>14</th>\n",
              "      <td>0.859086</td>\n",
              "      <td>20</td>\n",
              "      <td>14</td>\n",
              "      <td>entropy</td>\n",
              "    </tr>\n",
              "    <tr>\n",
              "      <th>15</th>\n",
              "      <td>0.853583</td>\n",
              "      <td>20</td>\n",
              "      <td>14</td>\n",
              "      <td>gini</td>\n",
              "    </tr>\n",
              "    <tr>\n",
              "      <th>16</th>\n",
              "      <td>0.857848</td>\n",
              "      <td>20</td>\n",
              "      <td>24</td>\n",
              "      <td>entropy</td>\n",
              "    </tr>\n",
              "    <tr>\n",
              "      <th>17</th>\n",
              "      <td>0.852151</td>\n",
              "      <td>20</td>\n",
              "      <td>24</td>\n",
              "      <td>gini</td>\n",
              "    </tr>\n",
              "    <tr>\n",
              "      <th>18</th>\n",
              "      <td>0.803981</td>\n",
              "      <td>40</td>\n",
              "      <td>4</td>\n",
              "      <td>entropy</td>\n",
              "    </tr>\n",
              "    <tr>\n",
              "      <th>19</th>\n",
              "      <td>0.808712</td>\n",
              "      <td>40</td>\n",
              "      <td>4</td>\n",
              "      <td>gini</td>\n",
              "    </tr>\n",
              "    <tr>\n",
              "      <th>20</th>\n",
              "      <td>0.862814</td>\n",
              "      <td>40</td>\n",
              "      <td>14</td>\n",
              "      <td>entropy</td>\n",
              "    </tr>\n",
              "    <tr>\n",
              "      <th>21</th>\n",
              "      <td>0.860443</td>\n",
              "      <td>40</td>\n",
              "      <td>14</td>\n",
              "      <td>gini</td>\n",
              "    </tr>\n",
              "    <tr>\n",
              "      <th>22</th>\n",
              "      <td>0.860439</td>\n",
              "      <td>40</td>\n",
              "      <td>24</td>\n",
              "      <td>entropy</td>\n",
              "    </tr>\n",
              "    <tr>\n",
              "      <th>23</th>\n",
              "      <td>0.860856</td>\n",
              "      <td>40</td>\n",
              "      <td>24</td>\n",
              "      <td>gini</td>\n",
              "    </tr>\n",
              "  </tbody>\n",
              "</table>\n",
              "</div>"
            ],
            "text/plain": [
              "          f1  numTrees  maxDepth impurity\n",
              "0   0.791475         5         4  entropy\n",
              "1   0.792626         5         4     gini\n",
              "2   0.837618         5        14  entropy\n",
              "3   0.826635         5        14     gini\n",
              "4   0.834765         5        24  entropy\n",
              "5   0.819461         5        24     gini\n",
              "6   0.800359        10         4  entropy\n",
              "7   0.804420        10         4     gini\n",
              "8   0.850241        10        14  entropy\n",
              "9   0.844617        10        14     gini\n",
              "10  0.847870        10        24  entropy\n",
              "11  0.840847        10        24     gini\n",
              "12  0.803664        20         4  entropy\n",
              "13  0.808571        20         4     gini\n",
              "14  0.859086        20        14  entropy\n",
              "15  0.853583        20        14     gini\n",
              "16  0.857848        20        24  entropy\n",
              "17  0.852151        20        24     gini\n",
              "18  0.803981        40         4  entropy\n",
              "19  0.808712        40         4     gini\n",
              "20  0.862814        40        14  entropy\n",
              "21  0.860443        40        14     gini\n",
              "22  0.860439        40        24  entropy\n",
              "23  0.860856        40        24     gini"
            ]
          },
          "metadata": {
            "tags": []
          },
          "execution_count": 59
        }
      ]
    },
    {
      "cell_type": "code",
      "metadata": {
        "colab": {
          "base_uri": "https://localhost:8080/"
        },
        "id": "-c6v-6pi5_uR",
        "outputId": "2686613f-7c00-4c2a-def2-c20bed285926"
      },
      "source": [
        "# printing the parameter values for the best estimator\n",
        "print(cv_random_forest.getEstimatorParamMaps()[np.argmax(cv_random_forest.avgMetrics)])"
      ],
      "execution_count": null,
      "outputs": [
        {
          "output_type": "stream",
          "text": [
            "{Param(parent='RandomForestClassifier_3317a8266669', name='numTrees', doc='Number of trees to train (>= 1).'): 40, Param(parent='RandomForestClassifier_3317a8266669', name='maxDepth', doc='Maximum depth of the tree. (>= 0) E.g., depth 0 means 1 leaf node; depth 1 means 1 internal node + 2 leaf nodes.'): 14, Param(parent='RandomForestClassifier_3317a8266669', name='impurity', doc='Criterion used for information gain calculation (case-insensitive). Supported options: entropy, gini'): 'entropy'}\n"
          ],
          "name": "stdout"
        }
      ]
    },
    {
      "cell_type": "code",
      "metadata": {
        "colab": {
          "base_uri": "https://localhost:8080/"
        },
        "id": "9PfjA9DI6YrH",
        "outputId": "bbce1914-6234-4bea-abe1-252d1e39e725"
      },
      "source": [
        "# fitting the training data using the best model\n",
        "prediction_random_forest = cv_random_forest.bestModel.transform(testing).select('Target', 'prediction')\n",
        "prediction_random_forest.show()"
      ],
      "execution_count": null,
      "outputs": [
        {
          "output_type": "stream",
          "text": [
            "+------+----------+\n",
            "|Target|prediction|\n",
            "+------+----------+\n",
            "|     2|       2.0|\n",
            "|     2|       2.0|\n",
            "|     1|       1.0|\n",
            "|     2|       2.0|\n",
            "|     1|       1.0|\n",
            "|     2|       2.0|\n",
            "|     1|       1.0|\n",
            "|     0|       2.0|\n",
            "|     1|       2.0|\n",
            "|     2|       2.0|\n",
            "|     2|       2.0|\n",
            "|     1|       1.0|\n",
            "|     1|       1.0|\n",
            "|     2|       2.0|\n",
            "|     1|       1.0|\n",
            "|     2|       2.0|\n",
            "|     0|       0.0|\n",
            "|     1|       1.0|\n",
            "|     0|       0.0|\n",
            "|     1|       1.0|\n",
            "+------+----------+\n",
            "only showing top 20 rows\n",
            "\n"
          ],
          "name": "stdout"
        }
      ]
    },
    {
      "cell_type": "markdown",
      "metadata": {
        "id": "U-T6-pk4H-u2"
      },
      "source": [
        "Cross validating the logistic regression"
      ]
    },
    {
      "cell_type": "code",
      "metadata": {
        "id": "3Hmiry078YJe"
      },
      "source": [
        "# cross validating for logistic regression\n",
        "crossval_logistic_regression = CrossValidator(estimator=pipeline_logistic_regression,\\\n",
        "                          estimatorParamMaps=paramGrid_logistic_regression,\\\n",
        "                          evaluator=MulticlassClassificationEvaluator(labelCol='Target', predictionCol='prediction'),\\\n",
        "                          numFolds=10)\n",
        "\n",
        "# fitting the training dataset\n",
        "cv_logistic_regression = crossval_logistic_regression.fit(training)"
      ],
      "execution_count": null,
      "outputs": []
    },
    {
      "cell_type": "markdown",
      "metadata": {
        "id": "q9eR4jmPIefS"
      },
      "source": [
        "Displaying the parameter values with scores along with finding the best parameter values and fitting the testing dataset"
      ]
    },
    {
      "cell_type": "code",
      "metadata": {
        "colab": {
          "base_uri": "https://localhost:8080/",
          "height": 534
        },
        "id": "OZNBG57i_0pz",
        "outputId": "3150a37a-162d-4111-bf39-c53de4925333"
      },
      "source": [
        "# creating a dictionary of parameter and values after retrieving the estimator parameter map\n",
        "parameter_values_lr = [{parameter.name: values for parameter, values in parameter_maps.items()} for parameter_maps in cv_logistic_regression.getEstimatorParamMaps()]\n",
        "# creating a pandas dataframe containing measuring scores corresponding to each parameter value for different parameters from a dictionary \n",
        "# the first column is the score and the remaining are the parameters\n",
        "pd.DataFrame.from_dict([{cv_logistic_regression.getEvaluator().getMetricName(): metric, **pvs}\\\n",
        "    for pvs, metric in zip(parameter_values_lr, cv_logistic_regression.avgMetrics)\n",
        "])"
      ],
      "execution_count": null,
      "outputs": [
        {
          "output_type": "execute_result",
          "data": {
            "text/html": [
              "<div>\n",
              "<style scoped>\n",
              "    .dataframe tbody tr th:only-of-type {\n",
              "        vertical-align: middle;\n",
              "    }\n",
              "\n",
              "    .dataframe tbody tr th {\n",
              "        vertical-align: top;\n",
              "    }\n",
              "\n",
              "    .dataframe thead th {\n",
              "        text-align: right;\n",
              "    }\n",
              "</style>\n",
              "<table border=\"1\" class=\"dataframe\">\n",
              "  <thead>\n",
              "    <tr style=\"text-align: right;\">\n",
              "      <th></th>\n",
              "      <th>f1</th>\n",
              "      <th>maxIter</th>\n",
              "      <th>regParam</th>\n",
              "    </tr>\n",
              "  </thead>\n",
              "  <tbody>\n",
              "    <tr>\n",
              "      <th>0</th>\n",
              "      <td>0.845919</td>\n",
              "      <td>50</td>\n",
              "      <td>0.1</td>\n",
              "    </tr>\n",
              "    <tr>\n",
              "      <th>1</th>\n",
              "      <td>0.862929</td>\n",
              "      <td>50</td>\n",
              "      <td>0.0</td>\n",
              "    </tr>\n",
              "    <tr>\n",
              "      <th>2</th>\n",
              "      <td>0.796646</td>\n",
              "      <td>50</td>\n",
              "      <td>1.0</td>\n",
              "    </tr>\n",
              "    <tr>\n",
              "      <th>3</th>\n",
              "      <td>0.565956</td>\n",
              "      <td>50</td>\n",
              "      <td>10.0</td>\n",
              "    </tr>\n",
              "    <tr>\n",
              "      <th>4</th>\n",
              "      <td>0.845734</td>\n",
              "      <td>100</td>\n",
              "      <td>0.1</td>\n",
              "    </tr>\n",
              "    <tr>\n",
              "      <th>5</th>\n",
              "      <td>0.863157</td>\n",
              "      <td>100</td>\n",
              "      <td>0.0</td>\n",
              "    </tr>\n",
              "    <tr>\n",
              "      <th>6</th>\n",
              "      <td>0.796196</td>\n",
              "      <td>100</td>\n",
              "      <td>1.0</td>\n",
              "    </tr>\n",
              "    <tr>\n",
              "      <th>7</th>\n",
              "      <td>0.565956</td>\n",
              "      <td>100</td>\n",
              "      <td>10.0</td>\n",
              "    </tr>\n",
              "    <tr>\n",
              "      <th>8</th>\n",
              "      <td>0.845825</td>\n",
              "      <td>200</td>\n",
              "      <td>0.1</td>\n",
              "    </tr>\n",
              "    <tr>\n",
              "      <th>9</th>\n",
              "      <td>0.863415</td>\n",
              "      <td>200</td>\n",
              "      <td>0.0</td>\n",
              "    </tr>\n",
              "    <tr>\n",
              "      <th>10</th>\n",
              "      <td>0.796196</td>\n",
              "      <td>200</td>\n",
              "      <td>1.0</td>\n",
              "    </tr>\n",
              "    <tr>\n",
              "      <th>11</th>\n",
              "      <td>0.565956</td>\n",
              "      <td>200</td>\n",
              "      <td>10.0</td>\n",
              "    </tr>\n",
              "    <tr>\n",
              "      <th>12</th>\n",
              "      <td>0.845825</td>\n",
              "      <td>250</td>\n",
              "      <td>0.1</td>\n",
              "    </tr>\n",
              "    <tr>\n",
              "      <th>13</th>\n",
              "      <td>0.864226</td>\n",
              "      <td>250</td>\n",
              "      <td>0.0</td>\n",
              "    </tr>\n",
              "    <tr>\n",
              "      <th>14</th>\n",
              "      <td>0.796196</td>\n",
              "      <td>250</td>\n",
              "      <td>1.0</td>\n",
              "    </tr>\n",
              "    <tr>\n",
              "      <th>15</th>\n",
              "      <td>0.565956</td>\n",
              "      <td>250</td>\n",
              "      <td>10.0</td>\n",
              "    </tr>\n",
              "  </tbody>\n",
              "</table>\n",
              "</div>"
            ],
            "text/plain": [
              "          f1  maxIter  regParam\n",
              "0   0.845919       50       0.1\n",
              "1   0.862929       50       0.0\n",
              "2   0.796646       50       1.0\n",
              "3   0.565956       50      10.0\n",
              "4   0.845734      100       0.1\n",
              "5   0.863157      100       0.0\n",
              "6   0.796196      100       1.0\n",
              "7   0.565956      100      10.0\n",
              "8   0.845825      200       0.1\n",
              "9   0.863415      200       0.0\n",
              "10  0.796196      200       1.0\n",
              "11  0.565956      200      10.0\n",
              "12  0.845825      250       0.1\n",
              "13  0.864226      250       0.0\n",
              "14  0.796196      250       1.0\n",
              "15  0.565956      250      10.0"
            ]
          },
          "metadata": {
            "tags": []
          },
          "execution_count": 63
        }
      ]
    },
    {
      "cell_type": "code",
      "metadata": {
        "colab": {
          "base_uri": "https://localhost:8080/"
        },
        "id": "ED_x_yusEA6b",
        "outputId": "36053442-7af3-4ee6-9673-f90f2ccd745a"
      },
      "source": [
        "# printing the parameter values for the best estimator\n",
        "print(cv_logistic_regression.getEstimatorParamMaps()[np.argmax(cv_logistic_regression.avgMetrics)])"
      ],
      "execution_count": null,
      "outputs": [
        {
          "output_type": "stream",
          "text": [
            "{Param(parent='LogisticRegression_e1db64c2a71b', name='maxIter', doc='max number of iterations (>= 0).'): 250, Param(parent='LogisticRegression_e1db64c2a71b', name='regParam', doc='regularization parameter (>= 0).'): 0.0}\n"
          ],
          "name": "stdout"
        }
      ]
    },
    {
      "cell_type": "code",
      "metadata": {
        "colab": {
          "base_uri": "https://localhost:8080/"
        },
        "id": "vpnlfLM5EGhp",
        "outputId": "d5c2ff8d-a3cd-443a-df32-f1230a8d3210"
      },
      "source": [
        "# fitting the training data using the best model\n",
        "prediction_logistic_regression = cv_logistic_regression.bestModel.transform(testing).select('Target', 'prediction')\n",
        "prediction_logistic_regression.show()"
      ],
      "execution_count": null,
      "outputs": [
        {
          "output_type": "stream",
          "text": [
            "+------+----------+\n",
            "|Target|prediction|\n",
            "+------+----------+\n",
            "|     2|       2.0|\n",
            "|     2|       2.0|\n",
            "|     1|       1.0|\n",
            "|     2|       2.0|\n",
            "|     1|       1.0|\n",
            "|     2|       2.0|\n",
            "|     1|       1.0|\n",
            "|     0|       2.0|\n",
            "|     1|       2.0|\n",
            "|     2|       2.0|\n",
            "|     2|       2.0|\n",
            "|     1|       1.0|\n",
            "|     1|       1.0|\n",
            "|     2|       2.0|\n",
            "|     1|       1.0|\n",
            "|     2|       2.0|\n",
            "|     0|       0.0|\n",
            "|     1|       1.0|\n",
            "|     0|       0.0|\n",
            "|     1|       1.0|\n",
            "+------+----------+\n",
            "only showing top 20 rows\n",
            "\n"
          ],
          "name": "stdout"
        }
      ]
    },
    {
      "cell_type": "markdown",
      "metadata": {
        "id": "0nXmDaLMI165"
      },
      "source": [
        "Cross validating the Decision Tree"
      ]
    },
    {
      "cell_type": "code",
      "metadata": {
        "id": "MAbVzARj8ZNp"
      },
      "source": [
        "# cross validating for decision tree\n",
        "crossval_decision_tree = CrossValidator(estimator=pipeline_decision_tree,\\\n",
        "                          estimatorParamMaps=paramGrid_decision_tree,\\\n",
        "                          evaluator=MulticlassClassificationEvaluator(labelCol='Target', predictionCol='prediction'),\\\n",
        "                          numFolds=10)\n",
        "# fitting the training dataset\n",
        "cv_decision_tree = crossval_decision_tree.fit(training)"
      ],
      "execution_count": null,
      "outputs": []
    },
    {
      "cell_type": "markdown",
      "metadata": {
        "id": "Qdc0YgsBIijp"
      },
      "source": [
        "Displaying the parameter values with scores along with finding the best parameter values and fitting the testing dataset"
      ]
    },
    {
      "cell_type": "code",
      "metadata": {
        "colab": {
          "base_uri": "https://localhost:8080/",
          "height": 777
        },
        "id": "ZvxKIy0SE3wm",
        "outputId": "d6f980fb-0076-4272-a691-35ddbd64a422"
      },
      "source": [
        "# creating a dictionary of parameter and values after retrieving the estimator parameter map\n",
        "parameter_values_nb = [{parameter.name: values for parameter, values in parameter_maps.items()} for parameter_maps in cv_decision_tree.getEstimatorParamMaps()]\n",
        "# creating a pandas dataframe containing measuring scores corresponding to each parameter value for different parameters from a dictionary \n",
        "# the first column is the score and the remaining are the parameters\n",
        "pd.DataFrame.from_dict([{cv_decision_tree.getEvaluator().getMetricName(): metric, **pvs}\\\n",
        "    for pvs, metric in zip(parameter_values_nb, cv_decision_tree.avgMetrics)\n",
        "])"
      ],
      "execution_count": null,
      "outputs": [
        {
          "output_type": "execute_result",
          "data": {
            "text/html": [
              "<div>\n",
              "<style scoped>\n",
              "    .dataframe tbody tr th:only-of-type {\n",
              "        vertical-align: middle;\n",
              "    }\n",
              "\n",
              "    .dataframe tbody tr th {\n",
              "        vertical-align: top;\n",
              "    }\n",
              "\n",
              "    .dataframe thead th {\n",
              "        text-align: right;\n",
              "    }\n",
              "</style>\n",
              "<table border=\"1\" class=\"dataframe\">\n",
              "  <thead>\n",
              "    <tr style=\"text-align: right;\">\n",
              "      <th></th>\n",
              "      <th>f1</th>\n",
              "      <th>maxDepth</th>\n",
              "      <th>maxBins</th>\n",
              "      <th>impurity</th>\n",
              "    </tr>\n",
              "  </thead>\n",
              "  <tbody>\n",
              "    <tr>\n",
              "      <th>0</th>\n",
              "      <td>0.804606</td>\n",
              "      <td>5</td>\n",
              "      <td>15</td>\n",
              "      <td>entropy</td>\n",
              "    </tr>\n",
              "    <tr>\n",
              "      <th>1</th>\n",
              "      <td>0.805201</td>\n",
              "      <td>5</td>\n",
              "      <td>15</td>\n",
              "      <td>gini</td>\n",
              "    </tr>\n",
              "    <tr>\n",
              "      <th>2</th>\n",
              "      <td>0.805719</td>\n",
              "      <td>5</td>\n",
              "      <td>25</td>\n",
              "      <td>entropy</td>\n",
              "    </tr>\n",
              "    <tr>\n",
              "      <th>3</th>\n",
              "      <td>0.809651</td>\n",
              "      <td>5</td>\n",
              "      <td>25</td>\n",
              "      <td>gini</td>\n",
              "    </tr>\n",
              "    <tr>\n",
              "      <th>4</th>\n",
              "      <td>0.803783</td>\n",
              "      <td>5</td>\n",
              "      <td>32</td>\n",
              "      <td>entropy</td>\n",
              "    </tr>\n",
              "    <tr>\n",
              "      <th>5</th>\n",
              "      <td>0.805239</td>\n",
              "      <td>5</td>\n",
              "      <td>32</td>\n",
              "      <td>gini</td>\n",
              "    </tr>\n",
              "    <tr>\n",
              "      <th>6</th>\n",
              "      <td>0.816663</td>\n",
              "      <td>10</td>\n",
              "      <td>15</td>\n",
              "      <td>entropy</td>\n",
              "    </tr>\n",
              "    <tr>\n",
              "      <th>7</th>\n",
              "      <td>0.814264</td>\n",
              "      <td>10</td>\n",
              "      <td>15</td>\n",
              "      <td>gini</td>\n",
              "    </tr>\n",
              "    <tr>\n",
              "      <th>8</th>\n",
              "      <td>0.809764</td>\n",
              "      <td>10</td>\n",
              "      <td>25</td>\n",
              "      <td>entropy</td>\n",
              "    </tr>\n",
              "    <tr>\n",
              "      <th>9</th>\n",
              "      <td>0.819418</td>\n",
              "      <td>10</td>\n",
              "      <td>25</td>\n",
              "      <td>gini</td>\n",
              "    </tr>\n",
              "    <tr>\n",
              "      <th>10</th>\n",
              "      <td>0.810518</td>\n",
              "      <td>10</td>\n",
              "      <td>32</td>\n",
              "      <td>entropy</td>\n",
              "    </tr>\n",
              "    <tr>\n",
              "      <th>11</th>\n",
              "      <td>0.813405</td>\n",
              "      <td>10</td>\n",
              "      <td>32</td>\n",
              "      <td>gini</td>\n",
              "    </tr>\n",
              "    <tr>\n",
              "      <th>12</th>\n",
              "      <td>0.787007</td>\n",
              "      <td>20</td>\n",
              "      <td>15</td>\n",
              "      <td>entropy</td>\n",
              "    </tr>\n",
              "    <tr>\n",
              "      <th>13</th>\n",
              "      <td>0.783356</td>\n",
              "      <td>20</td>\n",
              "      <td>15</td>\n",
              "      <td>gini</td>\n",
              "    </tr>\n",
              "    <tr>\n",
              "      <th>14</th>\n",
              "      <td>0.785252</td>\n",
              "      <td>20</td>\n",
              "      <td>25</td>\n",
              "      <td>entropy</td>\n",
              "    </tr>\n",
              "    <tr>\n",
              "      <th>15</th>\n",
              "      <td>0.791463</td>\n",
              "      <td>20</td>\n",
              "      <td>25</td>\n",
              "      <td>gini</td>\n",
              "    </tr>\n",
              "    <tr>\n",
              "      <th>16</th>\n",
              "      <td>0.789735</td>\n",
              "      <td>20</td>\n",
              "      <td>32</td>\n",
              "      <td>entropy</td>\n",
              "    </tr>\n",
              "    <tr>\n",
              "      <th>17</th>\n",
              "      <td>0.788365</td>\n",
              "      <td>20</td>\n",
              "      <td>32</td>\n",
              "      <td>gini</td>\n",
              "    </tr>\n",
              "    <tr>\n",
              "      <th>18</th>\n",
              "      <td>0.787113</td>\n",
              "      <td>30</td>\n",
              "      <td>15</td>\n",
              "      <td>entropy</td>\n",
              "    </tr>\n",
              "    <tr>\n",
              "      <th>19</th>\n",
              "      <td>0.782625</td>\n",
              "      <td>30</td>\n",
              "      <td>15</td>\n",
              "      <td>gini</td>\n",
              "    </tr>\n",
              "    <tr>\n",
              "      <th>20</th>\n",
              "      <td>0.784368</td>\n",
              "      <td>30</td>\n",
              "      <td>25</td>\n",
              "      <td>entropy</td>\n",
              "    </tr>\n",
              "    <tr>\n",
              "      <th>21</th>\n",
              "      <td>0.789956</td>\n",
              "      <td>30</td>\n",
              "      <td>25</td>\n",
              "      <td>gini</td>\n",
              "    </tr>\n",
              "    <tr>\n",
              "      <th>22</th>\n",
              "      <td>0.789321</td>\n",
              "      <td>30</td>\n",
              "      <td>32</td>\n",
              "      <td>entropy</td>\n",
              "    </tr>\n",
              "    <tr>\n",
              "      <th>23</th>\n",
              "      <td>0.787713</td>\n",
              "      <td>30</td>\n",
              "      <td>32</td>\n",
              "      <td>gini</td>\n",
              "    </tr>\n",
              "  </tbody>\n",
              "</table>\n",
              "</div>"
            ],
            "text/plain": [
              "          f1  maxDepth  maxBins impurity\n",
              "0   0.804606         5       15  entropy\n",
              "1   0.805201         5       15     gini\n",
              "2   0.805719         5       25  entropy\n",
              "3   0.809651         5       25     gini\n",
              "4   0.803783         5       32  entropy\n",
              "5   0.805239         5       32     gini\n",
              "6   0.816663        10       15  entropy\n",
              "7   0.814264        10       15     gini\n",
              "8   0.809764        10       25  entropy\n",
              "9   0.819418        10       25     gini\n",
              "10  0.810518        10       32  entropy\n",
              "11  0.813405        10       32     gini\n",
              "12  0.787007        20       15  entropy\n",
              "13  0.783356        20       15     gini\n",
              "14  0.785252        20       25  entropy\n",
              "15  0.791463        20       25     gini\n",
              "16  0.789735        20       32  entropy\n",
              "17  0.788365        20       32     gini\n",
              "18  0.787113        30       15  entropy\n",
              "19  0.782625        30       15     gini\n",
              "20  0.784368        30       25  entropy\n",
              "21  0.789956        30       25     gini\n",
              "22  0.789321        30       32  entropy\n",
              "23  0.787713        30       32     gini"
            ]
          },
          "metadata": {
            "tags": []
          },
          "execution_count": 67
        }
      ]
    },
    {
      "cell_type": "code",
      "metadata": {
        "colab": {
          "base_uri": "https://localhost:8080/"
        },
        "id": "2k67SvWbvy9A",
        "outputId": "27c3e101-e16c-43b6-edf8-3187d6e64613"
      },
      "source": [
        "# printing the parameter values for the best estimator\n",
        "print(cv_decision_tree.getEstimatorParamMaps()[np.argmax(cv_decision_tree.avgMetrics)])"
      ],
      "execution_count": null,
      "outputs": [
        {
          "output_type": "stream",
          "text": [
            "{Param(parent='DecisionTreeClassifier_0c689782ce86', name='maxDepth', doc='Maximum depth of the tree. (>= 0) E.g., depth 0 means 1 leaf node; depth 1 means 1 internal node + 2 leaf nodes.'): 10, Param(parent='DecisionTreeClassifier_0c689782ce86', name='maxBins', doc='Max number of bins for discretizing continuous features.  Must be >=2 and >= number of categories for any categorical feature.'): 25, Param(parent='DecisionTreeClassifier_0c689782ce86', name='impurity', doc='Criterion used for information gain calculation (case-insensitive). Supported options: entropy, gini'): 'gini'}\n"
          ],
          "name": "stdout"
        }
      ]
    },
    {
      "cell_type": "code",
      "metadata": {
        "colab": {
          "base_uri": "https://localhost:8080/"
        },
        "id": "Y54ZJ_XcFLt8",
        "outputId": "536b6c69-6ae8-4498-b27c-f23116cf411d"
      },
      "source": [
        "# fitting the training data using the best model\n",
        "prediction_decision_tree = cv_decision_tree.bestModel.transform(testing).select('Target', 'prediction')\n",
        "prediction_decision_tree.show()"
      ],
      "execution_count": null,
      "outputs": [
        {
          "output_type": "stream",
          "text": [
            "+------+----------+\n",
            "|Target|prediction|\n",
            "+------+----------+\n",
            "|     2|       2.0|\n",
            "|     2|       2.0|\n",
            "|     1|       1.0|\n",
            "|     2|       1.0|\n",
            "|     1|       1.0|\n",
            "|     2|       2.0|\n",
            "|     1|       1.0|\n",
            "|     0|       2.0|\n",
            "|     1|       2.0|\n",
            "|     2|       2.0|\n",
            "|     2|       2.0|\n",
            "|     1|       1.0|\n",
            "|     1|       1.0|\n",
            "|     2|       2.0|\n",
            "|     1|       1.0|\n",
            "|     2|       2.0|\n",
            "|     0|       0.0|\n",
            "|     1|       1.0|\n",
            "|     0|       0.0|\n",
            "|     1|       1.0|\n",
            "+------+----------+\n",
            "only showing top 20 rows\n",
            "\n"
          ],
          "name": "stdout"
        }
      ]
    }
  ]
}
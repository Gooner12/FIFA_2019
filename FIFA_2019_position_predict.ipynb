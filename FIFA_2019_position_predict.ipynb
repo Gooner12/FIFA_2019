{
  "nbformat": 4,
  "nbformat_minor": 0,
  "metadata": {
    "colab": {
      "name": "FIFA_2019_position_predict.ipynb",
      "provenance": [],
      "collapsed_sections": [],
      "toc_visible": true
    },
    "kernelspec": {
      "display_name": "Python 3",
      "language": "python",
      "name": "python3"
    },
    "language_info": {
      "codemirror_mode": {
        "name": "ipython",
        "version": 3
      },
      "file_extension": ".py",
      "mimetype": "text/x-python",
      "name": "python",
      "nbconvert_exporter": "python",
      "pygments_lexer": "ipython3",
      "version": "3.7.6"
    }
  },
  "cells": [
    {
      "cell_type": "markdown",
      "metadata": {
        "id": "2ljGko6N-6vf"
      },
      "source": [
        "## Overview\n",
        "\n",
        "This analysis is based on the attributes of football players released on [FIFA19](https://www.kaggle.com/karangadiya/fifa19)  dataset on Kaggle. The dataset consists of more than 18000 records of player data with around 90 attributes extracted from FIFA database. In this project, we perform data analysis using **Spark packages**.\n",
        " \n",
        "\n",
        "In this analysis, we divide the task into three parts.\n",
        "\n",
        "- **Part 1**: Exploratory Data Analysis\n",
        "\n",
        "- **Part 2**: Clustering Analysis, and identify the position profiles of each cluster\n",
        "\n",
        "- **Part 3**: Classification Analysis, and evaluate the performance of different algorithms using cross validation;"
      ]
    },
    {
      "cell_type": "markdown",
      "metadata": {
        "id": "G1vjEdvs-6vh"
      },
      "source": [
        "## Part 1 - Exploratory Data Analysis\n",
        "\n",
        "### 1.0. Libraries and data files\n",
        "***"
      ]
    },
    {
      "cell_type": "code",
      "metadata": {
        "colab": {
          "base_uri": "https://localhost:8080/"
        },
        "id": "nZY2t-qpxW4x",
        "outputId": "17073cff-8b1f-4d00-afcb-5c991e17ca09"
      },
      "source": [
        "!apt-get update\n",
        "# importing the necessary spark environment and getting jdk\n",
        "!apt-get install openjdk-8-jdk-headless -qq > /dev/null\n",
        "!wget -q https://archive.apache.org/dist/spark/spark-2.4.0/spark-2.4.0-bin-hadoop2.7.tgz\n",
        "!tar xf spark-2.4.0-bin-hadoop2.7.tgz\n",
        "import os\n",
        "os.environ['JAVA_HOME'] = '/usr/lib/jvm/java-8-openjdk-amd64'\n",
        "os.environ['SPARK_HOME'] = '/content/spark-2.4.0-bin-hadoop2.7'"
      ],
      "execution_count": 1,
      "outputs": [
        {
          "output_type": "stream",
          "text": [
            "\r0% [Working]\r            \rIgn:1 https://developer.download.nvidia.com/compute/cuda/repos/ubuntu1804/x86_64  InRelease\n",
            "\r0% [Connecting to archive.ubuntu.com] [Connecting to security.ubuntu.com] [Conn\r                                                                               \rIgn:2 https://developer.download.nvidia.com/compute/machine-learning/repos/ubuntu1804/x86_64  InRelease\n",
            "\r0% [Connecting to archive.ubuntu.com] [Connecting to security.ubuntu.com] [Conn\r                                                                               \rHit:3 https://developer.download.nvidia.com/compute/cuda/repos/ubuntu1804/x86_64  Release\n",
            "\r0% [Connecting to archive.ubuntu.com] [Connecting to security.ubuntu.com] [Conn\r0% [Release.gpg gpgv 697 B] [Connecting to archive.ubuntu.com] [Connecting to s\r                                                                               \rGet:4 https://cloud.r-project.org/bin/linux/ubuntu bionic-cran40/ InRelease [3,626 B]\n",
            "Hit:5 https://developer.download.nvidia.com/compute/machine-learning/repos/ubuntu1804/x86_64  Release\n",
            "Get:6 http://security.ubuntu.com/ubuntu bionic-security InRelease [88.7 kB]\n",
            "Get:7 http://ppa.launchpad.net/c2d4u.team/c2d4u4.0+/ubuntu bionic InRelease [15.9 kB]\n",
            "Hit:9 http://archive.ubuntu.com/ubuntu bionic InRelease\n",
            "Get:10 http://archive.ubuntu.com/ubuntu bionic-updates InRelease [88.7 kB]\n",
            "Hit:11 http://ppa.launchpad.net/cran/libgit2/ubuntu bionic InRelease\n",
            "Get:13 http://ppa.launchpad.net/deadsnakes/ppa/ubuntu bionic InRelease [15.9 kB]\n",
            "Get:14 http://archive.ubuntu.com/ubuntu bionic-backports InRelease [74.6 kB]\n",
            "Hit:15 http://ppa.launchpad.net/graphics-drivers/ppa/ubuntu bionic InRelease\n",
            "Get:16 http://security.ubuntu.com/ubuntu bionic-security/restricted amd64 Packages [450 kB]\n",
            "Get:17 http://ppa.launchpad.net/c2d4u.team/c2d4u4.0+/ubuntu bionic/main Sources [1,770 kB]\n",
            "Get:18 http://security.ubuntu.com/ubuntu bionic-security/universe amd64 Packages [1,414 kB]\n",
            "Get:19 http://security.ubuntu.com/ubuntu bionic-security/main amd64 Packages [2,184 kB]\n",
            "Get:20 http://archive.ubuntu.com/ubuntu bionic-updates/main amd64 Packages [2,617 kB]\n",
            "Get:21 http://archive.ubuntu.com/ubuntu bionic-updates/universe amd64 Packages [2,184 kB]\n",
            "Get:22 http://ppa.launchpad.net/c2d4u.team/c2d4u4.0+/ubuntu bionic/main amd64 Packages [906 kB]\n",
            "Get:23 http://archive.ubuntu.com/ubuntu bionic-updates/multiverse amd64 Packages [33.6 kB]\n",
            "Get:24 http://archive.ubuntu.com/ubuntu bionic-updates/restricted amd64 Packages [480 kB]\n",
            "Get:25 http://ppa.launchpad.net/deadsnakes/ppa/ubuntu bionic/main amd64 Packages [40.9 kB]\n",
            "Fetched 12.4 MB in 4s (2,917 kB/s)\n",
            "Reading package lists... Done\n"
          ],
          "name": "stdout"
        }
      ]
    },
    {
      "cell_type": "code",
      "metadata": {
        "id": "H4vYjBA7xW4x"
      },
      "source": [
        "#only required for jupyter\n",
        "import os\n",
        "os.environ['SPARK_HOME'] = 'D:/Projects/spark-2.4.0-bin-hadoop2.7'"
      ],
      "execution_count": null,
      "outputs": []
    },
    {
      "cell_type": "code",
      "metadata": {
        "colab": {
          "base_uri": "https://localhost:8080/"
        },
        "id": "auVRAscVRVrI",
        "outputId": "68abe63c-1e38-482a-fe9c-a5ed548083e4"
      },
      "source": [
        "# getting the data\n",
        "!pip install -q wget\n",
        "!pip install -q findspark\n",
        "import wget\n",
        "data_19 = 'https://raw.githubusercontent.com/Gooner12/FIFA_2019/main/FIFA_19_players.csv'\n",
        "dataset_19 = wget.download(data_19)"
      ],
      "execution_count": 2,
      "outputs": [
        {
          "output_type": "stream",
          "text": [
            "  Building wheel for wget (setup.py) ... \u001b[?25l\u001b[?25hdone\n"
          ],
          "name": "stdout"
        }
      ]
    },
    {
      "cell_type": "code",
      "metadata": {
        "id": "3Gxm5nc6Rz-a"
      },
      "source": [
        "import findspark\n",
        "findspark.init()\n",
        "from pyspark.sql import SparkSession"
      ],
      "execution_count": 3,
      "outputs": []
    },
    {
      "cell_type": "markdown",
      "metadata": {
        "id": "dSPbqoEGR30v"
      },
      "source": [
        "### 1.1 Data Exploration\n",
        "***"
      ]
    },
    {
      "cell_type": "code",
      "metadata": {
        "colab": {
          "base_uri": "https://localhost:8080/"
        },
        "id": "uuGY6lgWR7B3",
        "outputId": "afc2979e-bbc6-4a6c-c865-bc5c93ecfdb5"
      },
      "source": [
        "# importing the 'FIFA_19.csv' as a Spark dataframe\n",
        "spark = SparkSession.builder.appName('FIFA_19').config('spark.sql.caseSensitive', 'true').getOrCreate()\n",
        "# not including header as data while reading so the header value is made true\n",
        "df_19 = spark.read.format('csv').options(header='true', inferschema='true').load('FIFA_19_players.csv')\n",
        "df_19.show()"
      ],
      "execution_count": 4,
      "outputs": [
        {
          "output_type": "stream",
          "text": [
            "+------+-----------------+---+--------------------+-----------+--------------------+-------+---------+-------------------+--------------------+--------+-------+-------+--------------+------------------------+---------+-----------+--------------+----------+---------+--------+-------------+------------+-----------+--------------------+------+----------+------+----------+--------+---------+---------------+------------+-------+---------+-----+----------+-----------+-----------+------------+-----------+-------+---------+-------+---------+-------+-------+--------+---------+----------+-------------+-----------+------+---------+---------+-------+--------------+-------------+--------+----------+---------+-------------+----------+-----------------+\n",
            "|    ID|             Name|Age|               Photo|Nationality|                Flag|Overall|Potential|               Club|           Club Logo|value(M)|wage(K)|Special|Preferred Foot|International Reputation|Weak Foot|Skill Moves|     Work Rate| Body Type|Real Face|Position|Jersey Number|      Joined|Loaned From|Contract Valid Until|Height|Height(CM)|Weight|Weight(KG)|Crossing|Finishing|HeadingAccuracy|ShortPassing|Volleys|Dribbling|Curve|FKAccuracy|LongPassing|BallControl|Acceleration|SprintSpeed|Agility|Reactions|Balance|ShotPower|Jumping|Stamina|Strength|LongShots|Aggression|Interceptions|Positioning|Vision|Penalties|Composure|Marking|StandingTackle|SlidingTackle|GKDiving|GKHandling|GKKicking|GKPositioning|GKReflexes|Release Clause(M)|\n",
            "+------+-----------------+---+--------------------+-----------+--------------------+-------+---------+-------------------+--------------------+--------+-------+-------+--------------+------------------------+---------+-----------+--------------+----------+---------+--------+-------------+------------+-----------+--------------------+------+----------+------+----------+--------+---------+---------------+------------+-------+---------+-----+----------+-----------+-----------+------------+-----------+-------+---------+-------+---------+-------+-------+--------+---------+----------+-------------+-----------+------+---------+---------+-------+--------------+-------------+--------+----------+---------+-------------+----------+-----------------+\n",
            "|158023|         L. Messi| 31|https://cdn.sofif...|  Argentina|https://cdn.sofif...|     94|       94|       FC Barcelona|https://cdn.sofif...|   110.5|    565|   2202|          Left|                       5|        4|          4|Medium/ Medium|     Messi|      Yes|      RF|           10| Jul 1, 2004|       null|                2021|   5.7|   173.736| 159.0| 72.121128|      84|       95|             70|          90|     86|       97|   93|        94|         87|         96|          91|         86|     91|       95|     95|       85|     68|     72|      59|       94|        48|           22|         94|    94|       75|       96|     33|            28|           26|       6|        11|       15|           14|         8|            226.5|\n",
            "| 20801|Cristiano Ronaldo| 33|https://cdn.sofif...|   Portugal|https://cdn.sofif...|     94|       94|           Juventus|https://cdn.sofif...|      77|    405|   2228|         Right|                       5|        4|          5|     High/ Low|C. Ronaldo|      Yes|      ST|            7|Jul 10, 2018|       null|                2022|   6.2|   188.976| 183.0| 83.007336|      84|       94|             89|          81|     87|       88|   81|        76|         77|         94|          89|         91|     87|       96|     70|       95|     95|     88|      79|       93|        63|           29|         95|    82|       85|       95|     28|            31|           23|       7|        11|       15|           14|        11|            127.1|\n",
            "|190871|        Neymar Jr| 26|https://cdn.sofif...|     Brazil|https://cdn.sofif...|     92|       93|Paris Saint-Germain|https://cdn.sofif...|   118.5|    290|   2143|         Right|                       5|        5|          5|  High/ Medium|    Neymar|      Yes|      LW|           10| Aug 3, 2017|       null|                2022|   5.9|   179.832| 150.0|   68.0388|      79|       87|             62|          84|     84|       96|   88|        87|         78|         95|          94|         90|     96|       94|     84|       80|     61|     81|      49|       82|        56|           36|         89|    87|       81|       94|     27|            24|           33|       9|         9|       15|           15|        11|            228.1|\n",
            "|193080|           De Gea| 27|https://cdn.sofif...|      Spain|https://cdn.sofif...|     91|       93|  Manchester United|https://cdn.sofif...|      72|    260|   1471|         Right|                       4|        3|          1|Medium/ Medium|      Lean|      Yes|      GK|            1| Jul 1, 2011|       null|                2020|   6.4|   195.072| 168.0| 76.203456|      17|       13|             21|          50|     13|       18|   21|        19|         51|         42|          57|         58|     60|       90|     43|       31|     67|     43|      64|       12|        38|           30|         12|    68|       40|       68|     15|            21|           13|      90|        85|       87|           88|        94|            138.6|\n",
            "|192985|     K. De Bruyne| 27|https://cdn.sofif...|    Belgium|https://cdn.sofif...|     91|       92|    Manchester City|https://cdn.sofif...|     102|    355|   2281|         Right|                       4|        5|          4|    High/ High|    Normal|      Yes|     RCM|            7|Aug 30, 2015|       null|                2023|  5.11|  155.7528| 154.0| 69.853168|      93|       82|             55|          92|     82|       86|   85|        83|         91|         91|          78|         76|     79|       91|     77|       91|     63|     90|      75|       91|        76|           61|         87|    94|       79|       88|     68|            58|           51|      15|        13|        5|           10|        13|            196.4|\n",
            "|183277|        E. Hazard| 27|https://cdn.sofif...|    Belgium|https://cdn.sofif...|     91|       91|            Chelsea|https://cdn.sofif...|      93|    340|   2142|         Right|                       4|        4|          4|  High/ Medium|    Normal|      Yes|      LF|           10| Jul 1, 2012|       null|                2020|   5.8|   176.784| 163.0| 73.935496|      81|       84|             61|          89|     80|       95|   83|        79|         83|         94|          94|         88|     95|       90|     94|       82|     56|     83|      66|       80|        54|           41|         87|    89|       86|       91|     34|            27|           22|      11|        12|        6|            8|         8|            172.1|\n",
            "|177003|        L. Modri?| 32|https://cdn.sofif...|    Croatia|https://cdn.sofif...|     91|       91|        Real Madrid|https://cdn.sofif...|      67|    420|   2280|         Right|                       4|        4|          4|    High/ High|      Lean|      Yes|     RCM|           10| Aug 1, 2012|       null|                2020|   5.8|   176.784| 146.0| 66.224432|      86|       72|             55|          93|     76|       90|   85|        78|         88|         93|          80|         72|     93|       90|     94|       79|     68|     89|      58|       82|        62|           83|         79|    92|       82|       84|     60|            76|           73|      13|         9|        7|           14|         9|            137.4|\n",
            "|176580|       L. Su��rez| 31|https://cdn.sofif...|    Uruguay|https://cdn.sofif...|     91|       91|       FC Barcelona|https://cdn.sofif...|      80|    455|   2346|         Right|                       5|        4|          3|  High/ Medium|    Normal|      Yes|      RS|            9|Jul 11, 2014|       null|                2021|   6.0|    182.88| 190.0|  86.18248|      77|       93|             77|          82|     88|       87|   86|        84|         64|         90|          86|         75|     82|       92|     83|       86|     69|     90|      83|       85|        87|           41|         92|    84|       85|       85|     62|            45|           38|      27|        25|       31|           33|        37|              164|\n",
            "|155862|     Sergio Ramos| 32|https://cdn.sofif...|      Spain|https://cdn.sofif...|     91|       91|        Real Madrid|https://cdn.sofif...|      51|    380|   2201|         Right|                       4|        3|          3|  High/ Medium|    Normal|      Yes|     RCB|           15| Aug 1, 2005|       null|                2020|   6.0|    182.88| 181.0| 82.100152|      66|       60|             91|          78|     66|       63|   74|        72|         77|         84|          76|         75|     78|       85|     66|       79|     93|     84|      83|       59|        88|           90|         60|    63|       75|       82|     87|            92|           91|      11|         8|        9|            7|        11|            104.6|\n",
            "|200389|         J. Oblak| 25|https://cdn.sofif...|   Slovenia|https://cdn.sofif...|     90|       93|   Atl��tico Madrid|https://cdn.sofif...|      68|     94|   1331|         Right|                       3|        3|          1|Medium/ Medium|    Normal|      Yes|      GK|            1|Jul 16, 2014|       null|                2021|   6.2|   188.976| 192.0| 87.089664|      13|       11|             15|          29|     13|       12|   13|        14|         26|         16|          43|         60|     67|       86|     49|       22|     76|     41|      78|       12|        34|           19|         11|    70|       11|       70|     27|            12|           18|      86|        92|       78|           88|        89|            144.5|\n",
            "|188545|   R. Lewandowski| 29|https://cdn.sofif...|     Poland|https://cdn.sofif...|     90|       90| FC Bayern M��nchen|https://cdn.sofif...|      77|    205|   2152|         Right|                       4|        4|          4|  High/ Medium|    Normal|      Yes|      ST|            9| Jul 1, 2014|       null|                2021|   6.0|    182.88| 176.0| 79.832192|      62|       91|             85|          83|     89|       85|   77|        86|         65|         89|          77|         78|     78|       90|     78|       88|     84|     78|      84|       84|        80|           39|         91|    77|       88|       86|     34|            42|           19|      15|         6|       12|            8|        10|            127.1|\n",
            "|182521|         T. Kroos| 28|https://cdn.sofif...|    Germany|https://cdn.sofif...|     90|       90|        Real Madrid|https://cdn.sofif...|    76.5|    355|   2190|         Right|                       4|        5|          3|Medium/ Medium|    Normal|      Yes|     LCM|            8|Jul 17, 2014|       null|                2022|   6.0|    182.88| 168.0| 76.203456|      88|       76|             54|          92|     82|       81|   86|        84|         93|         90|          64|         62|     70|       89|     71|       87|     30|     75|      73|       92|        60|           82|         79|    86|       73|       85|     72|            79|           69|      10|        11|       13|            7|        10|            156.8|\n",
            "|182493|        D. God��n| 32|https://cdn.sofif...|    Uruguay|https://cdn.sofif...|     90|       90|   Atl��tico Madrid|https://cdn.sofif...|      44|    125|   1946|         Right|                       3|        3|          2|  Medium/ High|      Lean|      Yes|      CB|           10| Aug 4, 2010|       null|                2019|   6.2|   188.976| 172.0| 78.017824|      55|       42|             92|          79|     47|       53|   49|        51|         70|         76|          68|         68|     58|       85|     54|       67|     91|     66|      88|       43|        89|           88|         48|    52|       50|       82|     90|            89|           89|       6|         8|       15|            5|        15|             90.2|\n",
            "|168542|      David Silva| 32|https://cdn.sofif...|      Spain|https://cdn.sofif...|     90|       90|    Manchester City|https://cdn.sofif...|      60|    285|   2115|          Left|                       4|        2|          4|  High/ Medium|    Normal|      Yes|     LCM|           21|Jul 14, 2010|       null|                2020|   5.8|   176.784| 148.0| 67.131616|      84|       76|             54|          93|     82|       89|   82|        77|         87|         94|          70|         64|     92|       90|     90|       72|     64|     78|      52|       75|        57|           50|         89|    92|       75|       93|     59|            53|           29|       6|        15|        7|            6|        12|              111|\n",
            "|215914|        N. Kant��| 27|https://cdn.sofif...|     France|https://cdn.sofif...|     89|       90|            Chelsea|https://cdn.sofif...|      63|    225|   2189|         Right|                       3|        3|          2|  Medium/ High|      Lean|      Yes|     LDM|           13|Jul 16, 2016|       null|                2023|   5.6|   170.688| 159.0| 72.121128|      68|       65|             54|          86|     56|       79|   49|        49|         81|         80|          82|         78|     82|       93|     92|       71|     77|     96|      76|       69|        90|           92|         71|    79|       54|       85|     90|            91|           85|      15|        12|       10|            7|        10|            121.3|\n",
            "|211110|        P. Dybala| 24|https://cdn.sofif...|  Argentina|https://cdn.sofif...|     89|       94|           Juventus|https://cdn.sofif...|      89|    205|   2092|          Left|                       3|        3|          4|  High/ Medium|    Normal|      Yes|      LF|           21| Jul 1, 2015|       null|                2022|   5.1|   155.448| 165.0|  74.84268|      82|       84|             68|          87|     88|       92|   88|        88|         75|         92|          87|         83|     91|       86|     85|       82|     75|     80|      65|       88|        48|           32|         84|    87|       86|       84|     23|            20|           20|       5|         4|        4|            5|         8|            153.5|\n",
            "|202126|          H. Kane| 24|https://cdn.sofif...|    England|https://cdn.sofif...|     89|       91|  Tottenham Hotspur|https://cdn.sofif...|    83.5|    205|   2165|         Right|                       3|        4|          3|    High/ High|    Normal|      Yes|      ST|            9| Jul 1, 2010|       null|                2024|   6.2|   188.976| 196.0| 88.904032|      75|       94|             85|          80|     84|       80|   78|        68|         82|         84|          68|         72|     71|       91|     71|       88|     78|     89|      84|       85|        76|           35|         93|    80|       90|       89|     56|            36|           38|       8|        10|       11|           14|        11|            160.7|\n",
            "|194765|     A. Griezmann| 27|https://cdn.sofif...|     France|https://cdn.sofif...|     89|       90|   Atl��tico Madrid|https://cdn.sofif...|      78|    145|   2246|          Left|                       4|        3|          4|    High/ High|      Lean|      Yes|     CAM|            7|Jul 28, 2014|       null|                2023|   5.9|   179.832| 161.0| 73.028312|      82|       90|             84|          83|     87|       88|   84|        78|         76|         90|          88|         85|     90|       90|     80|       80|     90|     83|      62|       82|        69|           35|         91|    83|       79|       87|     59|            47|           48|      14|         8|       14|           13|        14|            165.8|\n",
            "|192448|    M. ter Stegen| 26|https://cdn.sofif...|    Germany|https://cdn.sofif...|     89|       92|       FC Barcelona|https://cdn.sofif...|      58|    240|   1328|         Right|                       3|        4|          1|Medium/ Medium|    Normal|      Yes|      GK|           22| Jul 1, 2014|       null|                2022|   6.2|   188.976| 187.0| 84.821704|      15|       14|             11|          36|     14|       17|   18|        12|         42|         18|          38|         50|     37|       85|     43|       22|     79|     35|      79|       10|        43|           22|         11|    69|       25|       69|     25|            13|           10|      87|        85|       88|           85|        90|            123.3|\n",
            "|192119|      T. Courtois| 26|https://cdn.sofif...|    Belgium|https://cdn.sofif...|     89|       90|        Real Madrid|https://cdn.sofif...|    53.5|    240|   1311|          Left|                       4|        2|          1|Medium/ Medium|  Courtois|      Yes|      GK|            1| Aug 9, 2018|       null|                2024|   6.6|   201.168| 212.0| 96.161504|      14|       14|             13|          33|     12|       13|   19|        20|         35|         23|          46|         52|     61|       84|     45|       36|     68|     38|      70|       17|        23|           15|         13|    44|       27|       66|     20|            18|           16|      85|        91|       72|           86|        88|            113.7|\n",
            "+------+-----------------+---+--------------------+-----------+--------------------+-------+---------+-------------------+--------------------+--------+-------+-------+--------------+------------------------+---------+-----------+--------------+----------+---------+--------+-------------+------------+-----------+--------------------+------+----------+------+----------+--------+---------+---------------+------------+-------+---------+-----+----------+-----------+-----------+------------+-----------+-------+---------+-------+---------+-------+-------+--------+---------+----------+-------------+-----------+------+---------+---------+-------+--------------+-------------+--------+----------+---------+-------------+----------+-----------------+\n",
            "only showing top 20 rows\n",
            "\n"
          ],
          "name": "stdout"
        }
      ]
    },
    {
      "cell_type": "code",
      "metadata": {
        "colab": {
          "base_uri": "https://localhost:8080/"
        },
        "id": "V2_81--rQpLs",
        "outputId": "a976d16f-5689-4a1c-dca4-2e0840907054"
      },
      "source": [
        "df_19.printSchema()"
      ],
      "execution_count": 5,
      "outputs": [
        {
          "output_type": "stream",
          "text": [
            "root\n",
            " |-- ID: integer (nullable = true)\n",
            " |-- Name: string (nullable = true)\n",
            " |-- Age: integer (nullable = true)\n",
            " |-- Photo: string (nullable = true)\n",
            " |-- Nationality: string (nullable = true)\n",
            " |-- Flag: string (nullable = true)\n",
            " |-- Overall: integer (nullable = true)\n",
            " |-- Potential: integer (nullable = true)\n",
            " |-- Club: string (nullable = true)\n",
            " |-- Club Logo: string (nullable = true)\n",
            " |-- value(M): string (nullable = true)\n",
            " |-- wage(K): integer (nullable = true)\n",
            " |-- Special: integer (nullable = true)\n",
            " |-- Preferred Foot: string (nullable = true)\n",
            " |-- International Reputation: integer (nullable = true)\n",
            " |-- Weak Foot: integer (nullable = true)\n",
            " |-- Skill Moves: integer (nullable = true)\n",
            " |-- Work Rate: string (nullable = true)\n",
            " |-- Body Type: string (nullable = true)\n",
            " |-- Real Face: string (nullable = true)\n",
            " |-- Position: string (nullable = true)\n",
            " |-- Jersey Number: integer (nullable = true)\n",
            " |-- Joined: string (nullable = true)\n",
            " |-- Loaned From: string (nullable = true)\n",
            " |-- Contract Valid Until: string (nullable = true)\n",
            " |-- Height: double (nullable = true)\n",
            " |-- Height(CM): double (nullable = true)\n",
            " |-- Weight: double (nullable = true)\n",
            " |-- Weight(KG): double (nullable = true)\n",
            " |-- Crossing: integer (nullable = true)\n",
            " |-- Finishing: integer (nullable = true)\n",
            " |-- HeadingAccuracy: integer (nullable = true)\n",
            " |-- ShortPassing: integer (nullable = true)\n",
            " |-- Volleys: integer (nullable = true)\n",
            " |-- Dribbling: integer (nullable = true)\n",
            " |-- Curve: integer (nullable = true)\n",
            " |-- FKAccuracy: integer (nullable = true)\n",
            " |-- LongPassing: integer (nullable = true)\n",
            " |-- BallControl: integer (nullable = true)\n",
            " |-- Acceleration: integer (nullable = true)\n",
            " |-- SprintSpeed: integer (nullable = true)\n",
            " |-- Agility: integer (nullable = true)\n",
            " |-- Reactions: integer (nullable = true)\n",
            " |-- Balance: integer (nullable = true)\n",
            " |-- ShotPower: integer (nullable = true)\n",
            " |-- Jumping: integer (nullable = true)\n",
            " |-- Stamina: integer (nullable = true)\n",
            " |-- Strength: integer (nullable = true)\n",
            " |-- LongShots: integer (nullable = true)\n",
            " |-- Aggression: integer (nullable = true)\n",
            " |-- Interceptions: integer (nullable = true)\n",
            " |-- Positioning: integer (nullable = true)\n",
            " |-- Vision: integer (nullable = true)\n",
            " |-- Penalties: integer (nullable = true)\n",
            " |-- Composure: integer (nullable = true)\n",
            " |-- Marking: integer (nullable = true)\n",
            " |-- StandingTackle: integer (nullable = true)\n",
            " |-- SlidingTackle: integer (nullable = true)\n",
            " |-- GKDiving: integer (nullable = true)\n",
            " |-- GKHandling: integer (nullable = true)\n",
            " |-- GKKicking: integer (nullable = true)\n",
            " |-- GKPositioning: integer (nullable = true)\n",
            " |-- GKReflexes: integer (nullable = true)\n",
            " |-- Release Clause(M): string (nullable = true)\n",
            "\n"
          ],
          "name": "stdout"
        }
      ]
    },
    {
      "cell_type": "markdown",
      "metadata": {
        "id": "EGN1Y6iGxW4z"
      },
      "source": [
        "Checking the statistics (min, mean and max) for Age, Overall:"
      ]
    },
    {
      "cell_type": "code",
      "metadata": {
        "colab": {
          "base_uri": "https://localhost:8080/"
        },
        "id": "mdWVric-aY-h",
        "outputId": "3d23d121-1912-4cc6-b7f7-559f6bfc53a3"
      },
      "source": [
        "# use aggregate to calculate min, max and mean\n",
        "\n",
        "# calculating the minimum age\n",
        "min_age = df_19.agg({'Age':'min'}).show()\n",
        "\n",
        "# calculating the maximum age\n",
        "max_age = df_19.agg({'Age':'max'}).show()\n",
        "\n",
        "# calculating the mean age\n",
        "mean_age = df_19.agg({'Age':'avg'}).show()"
      ],
      "execution_count": 6,
      "outputs": [
        {
          "output_type": "stream",
          "text": [
            "+--------+\n",
            "|min(Age)|\n",
            "+--------+\n",
            "|      16|\n",
            "+--------+\n",
            "\n",
            "+--------+\n",
            "|max(Age)|\n",
            "+--------+\n",
            "|      45|\n",
            "+--------+\n",
            "\n",
            "+------------------+\n",
            "|          avg(Age)|\n",
            "+------------------+\n",
            "|25.122205745043114|\n",
            "+------------------+\n",
            "\n"
          ],
          "name": "stdout"
        }
      ]
    },
    {
      "cell_type": "code",
      "metadata": {
        "colab": {
          "base_uri": "https://localhost:8080/"
        },
        "id": "-KMLB3sAfkpK",
        "outputId": "e44773d6-7aeb-444d-d267-fa77c02715eb"
      },
      "source": [
        "# calculating the minimum overall\n",
        "min_overall = df_19.agg({'Overall':'min'}).show()\n",
        "\n",
        "# calculating the maximum overall\n",
        "max_overall = df_19.agg({'Overall':'max'}).show()\n",
        "\n",
        "# calculating the mean overall\n",
        "mean_overall = df_19.agg({'Overall':'avg'}).show()"
      ],
      "execution_count": 7,
      "outputs": [
        {
          "output_type": "stream",
          "text": [
            "+------------+\n",
            "|min(Overall)|\n",
            "+------------+\n",
            "|          46|\n",
            "+------------+\n",
            "\n",
            "+------------+\n",
            "|max(Overall)|\n",
            "+------------+\n",
            "|          94|\n",
            "+------------+\n",
            "\n",
            "+-----------------+\n",
            "|     avg(Overall)|\n",
            "+-----------------+\n",
            "|66.23869940132916|\n",
            "+-----------------+\n",
            "\n"
          ],
          "name": "stdout"
        }
      ]
    },
    {
      "cell_type": "markdown",
      "metadata": {
        "id": "xzClAtzpxW41"
      },
      "source": [
        "Finding the position having highest average overall:"
      ]
    },
    {
      "cell_type": "code",
      "metadata": {
        "colab": {
          "base_uri": "https://localhost:8080/"
        },
        "id": "S4SMaNc4gX3E",
        "outputId": "6356c241-b430-4c35-b524-c4d412eee9e0"
      },
      "source": [
        "# grouping the data first by Position, aggregating the Overall and sorting the data to get the position \n",
        "# with highest overall \n",
        "df_overall_position = df_19.groupby('Position').agg({'Overall':'AVG'})\n",
        "df_overall_position.orderBy(df_overall_position['avg(Overall)'].desc()).take(1)\n",
        "#df_overall_position.sort('avg(Overall)',ascending=False).first()"
      ],
      "execution_count": 8,
      "outputs": [
        {
          "output_type": "execute_result",
          "data": {
            "text/plain": [
              "[Row(Position='LF', avg(Overall)=73.86666666666666)]"
            ]
          },
          "metadata": {
            "tags": []
          },
          "execution_count": 8
        }
      ]
    },
    {
      "cell_type": "markdown",
      "metadata": {
        "id": "Ach68f5LxW41"
      },
      "source": [
        "Finding the top 3 countries with highest Avg Overall:"
      ]
    },
    {
      "cell_type": "code",
      "metadata": {
        "colab": {
          "base_uri": "https://localhost:8080/"
        },
        "id": "B6PYyigEjZwI",
        "outputId": "146e3cce-78fd-47c6-a30c-ff9177a9dc93"
      },
      "source": [
        "# grouping first by Countries and aggregating the Overall and sorting to get the top 3 countries with \n",
        "# highest average overall\n",
        "df_overall_nationality = df_19.groupby('Nationality').agg({'Overall':'AVG'})\n",
        "df_overall_nationality.orderBy(df_overall_nationality['avg(Overall)'].desc()).take(3)"
      ],
      "execution_count": 9,
      "outputs": [
        {
          "output_type": "execute_result",
          "data": {
            "text/plain": [
              "[Row(Nationality='United Arab Emirates', avg(Overall)=77.0),\n",
              " Row(Nationality='Central African Rep.', avg(Overall)=73.33333333333333),\n",
              " Row(Nationality='Israel', avg(Overall)=72.14285714285714)]"
            ]
          },
          "metadata": {
            "tags": []
          },
          "execution_count": 9
        }
      ]
    },
    {
      "cell_type": "markdown",
      "metadata": {
        "id": "OfLXAH39xW42"
      },
      "source": [
        "Finding the average potentials on country by position:"
      ]
    },
    {
      "cell_type": "code",
      "metadata": {
        "colab": {
          "base_uri": "https://localhost:8080/"
        },
        "id": "R1RsTYgImPFD",
        "outputId": "545173c3-87e4-4f18-a684-a3469df414f7"
      },
      "source": [
        "# creating a pivot table in which the value of column Nationality is transposed to multiple columns \n",
        "pivot_df = df_19.groupBy('Position').pivot('Nationality').avg('Potential')\n",
        "pivot_df.show(pivot_df.count())"
      ],
      "execution_count": 10,
      "outputs": [
        {
          "output_type": "stream",
          "text": [
            "+--------+-----------+-----------------+-----------------+-------+-----------------+-----------------+-----------------+-------+-----------------+-----------------+----------+--------+-------+-----------------+------+-----------------+-------+-------+------------------+--------+-----------------+--------+-----------------+-------+-----------------+-----------------+----------+--------------------+----+------------------+------------------+-----------------+-------+-----------------+-----------------+-----------------+----+-------+-----------------+-----------------+-----------------+-----------------+------------------+-----------------+-----------------+-----------+-----------------+-----------------+-------+-----------------+--------+-----------------+-------------+----+-----------------+-----------------+-----+------+-----------------+-----------------+-----------------+-----------------+-------+----+---------+------+-----------------+------+-----------------+--------+---------+-----------------+-----------------+------------------+---------+-----------------+-----------------+------+-----------------+-----------------+-----------------+-----------------+------+----------+-----+---------+-----------------+-----------------+------+------+-------+-------+-----+-------------+---------+----------+-----------------+-----------------+-----+----------+---------+-----------------+-------+-----------------+----------+-----------------+----------+-------+-----------------+-------------+-----------------+---------+-----+-----------------+-----------------+-----------------+----+---------+-----------------+-----------------+----+-----------+-----------------+-----------------+-----------+-----+-------------------+-----------------+-----------------+------+---------------------+------------------+-----------------+-----------------+-----------------+------------+-----------------+-----------------+-----------------+-----------+-----------------+--------------+--------+-----+--------+-----------------+-----------------+-----+--------+--------+-----------------+-----------------+-------+-----------------+------+-----------------+--------------------+-----------------+-----------------+----------+-----------------+-----------------+------+-----------------+\n",
            "|Position|Afghanistan|          Albania|          Algeria|Andorra|           Angola|Antigua & Barbuda|        Argentina|Armenia|        Australia|          Austria|Azerbaijan|Barbados|Belarus|          Belgium|Belize|            Benin|Bermuda|Bolivia|Bosnia Herzegovina|Botswana|           Brazil|Bulgaria|     Burkina Faso|Burundi|         Cameroon|           Canada|Cape Verde|Central African Rep.|Chad|             Chile|          China PR|         Colombia|Comoros|            Congo|       Costa Rica|          Croatia|Cuba|Curacao|           Cyprus|   Czech Republic|         DR Congo|          Denmark|Dominican Republic|          Ecuador|            Egypt|El Salvador|          England|Equatorial Guinea|Eritrea|          Estonia|Ethiopia|    FYR Macedonia|Faroe Islands|Fiji|          Finland|           France|Gabon|Gambia|          Georgia|          Germany|            Ghana|           Greece|Grenada|Guam|Guatemala|Guinea|    Guinea Bissau|Guyana|            Haiti|Honduras|Hong Kong|          Hungary|          Iceland|             India|Indonesia|             Iran|             Iraq|Israel|            Italy|      Ivory Coast|          Jamaica|            Japan|Jordan|Kazakhstan|Kenya|Korea DPR|   Korea Republic|           Kosovo|Kuwait|Latvia|Lebanon|Liberia|Libya|Liechtenstein|Lithuania|Luxembourg|       Madagascar|             Mali|Malta|Mauritania|Mauritius|           Mexico|Moldova|       Montenegro|Montserrat|          Morocco|Mozambique|Namibia|      Netherlands|New Caledonia|      New Zealand|Nicaragua|Niger|          Nigeria| Northern Ireland|           Norway|Oman|Palestine|           Panama|         Paraguay|Peru|Philippines|           Poland|         Portugal|Puerto Rico|Qatar|Republic of Ireland|          Romania|           Russia|Rwanda|S?o Tom�� & Pr��ncipe|      Saudi Arabia|         Scotland|          Senegal|           Serbia|Sierra Leone|         Slovakia|         Slovenia|     South Africa|South Sudan|            Spain|St Kitts Nevis|St Lucia|Sudan|Suriname|           Sweden|      Switzerland|Syria|Tanzania|Thailand|             Togo|Trinidad & Tobago|Tunisia|           Turkey|Uganda|          Ukraine|United Arab Emirates|    United States|          Uruguay|Uzbekistan|        Venezuela|            Wales|Zambia|         Zimbabwe|\n",
            "+--------+-----------+-----------------+-----------------+-------+-----------------+-----------------+-----------------+-------+-----------------+-----------------+----------+--------+-------+-----------------+------+-----------------+-------+-------+------------------+--------+-----------------+--------+-----------------+-------+-----------------+-----------------+----------+--------------------+----+------------------+------------------+-----------------+-------+-----------------+-----------------+-----------------+----+-------+-----------------+-----------------+-----------------+-----------------+------------------+-----------------+-----------------+-----------+-----------------+-----------------+-------+-----------------+--------+-----------------+-------------+----+-----------------+-----------------+-----+------+-----------------+-----------------+-----------------+-----------------+-------+----+---------+------+-----------------+------+-----------------+--------+---------+-----------------+-----------------+------------------+---------+-----------------+-----------------+------+-----------------+-----------------+-----------------+-----------------+------+----------+-----+---------+-----------------+-----------------+------+------+-------+-------+-----+-------------+---------+----------+-----------------+-----------------+-----+----------+---------+-----------------+-------+-----------------+----------+-----------------+----------+-------+-----------------+-------------+-----------------+---------+-----+-----------------+-----------------+-----------------+----+---------+-----------------+-----------------+----+-----------+-----------------+-----------------+-----------+-----+-------------------+-----------------+-----------------+------+---------------------+------------------+-----------------+-----------------+-----------------+------------+-----------------+-----------------+-----------------+-----------+-----------------+--------------+--------+-----+--------+-----------------+-----------------+-----+--------+--------+-----------------+-----------------+-------+-----------------+------+-----------------+--------------------+-----------------+-----------------+----------+-----------------+-----------------+------+-----------------+\n",
            "|      RF|       null|             null|             null|   null|             null|             null|             87.0|   null|             null|             66.0|      null|    null|   null|             82.0|  null|             null|   null|   null|              null|    null|             null|    null|             null|   null|             null|             null|      null|                null|null|              null|              72.0|             null|   null|             null|             null|             null|null|   null|             null|             null|             null|             null|              null|             null|             null|       null|             null|             null|   null|             null|    null|             null|         null|null|             69.0|             null| null|  null|             null|             78.0|             null|             null|   null|null|     null|  null|             null|  null|             null|    null|     null|             null|             null|              null|     null|             null|             null|  null|             75.0|             null|             null|68.33333333333333|  null|      null| null|     null|             null|             null|  null|  null|   null|   null| null|         null|     null|      null|             null|             null| null|      null|     null|             null|   null|             null|      null|             null|      null|   null|             null|         null|             null|     null| null|             null|             null|             null|null|     null|             null|             null|null|       null|             null|             null|       null| null|               null|             null|             null|  null|                 null|              null|             null|             null|             null|        null|             null|             null|             null|       null|             81.0|          null|    null| null|    null|             75.0|             null| 73.0|    null|    null|             null|             null|   null|             null|  null|             null|                null|             null|             75.0|      null|             null|             null|  null|             null|\n",
            "|     LWB|       null|             null|             null|   null|             null|             null|            75.75|   null|             71.0|             69.0|      null|    null|   null|             null|  null|             null|   null|   null|              null|    null|             null|    null|             null|   null|             75.0|             null|      null|                null|null|              null|              60.5|             75.5|   69.0|             null|             null|             null|null|   null|             null|             null|             null|            72.75|              null|             null|             null|       null|             69.8|             null|   null|             null|    null|             null|         64.0|null|             62.0|            74.25| null|  null|             null|76.14285714285714|             71.0|             null|   null|null|     null|  null|             null|  null|             null|    null|     null|             null|             70.0|              null|     null|             null|             null|  null|             67.0|             null|             null|             66.0|  null|      null| null|     null|             null|             null|  null|  null|   null|   null| null|         null|     null|      null|             null|             null| null|      null|     null|             null|   null|             null|      null|             null|      null|   null|             72.0|         null|             73.0|     null| null|             72.0|             67.0|             77.0|null|     null|             null|             null|68.0|       null|             null|             82.0|       null| null|               70.0|             null|             76.0|  null|                 null|              67.0|             66.0|             null|             null|        null|             null|             null|             null|       null|            77.25|          null|    null| null|    null|66.77777777777777|             68.0| null|    null|    null|             null|             null|   null|             null|  null|             null|                null|             null|             null|      null|             null|             64.0|  null|             null|\n",
            "|     LCM|       null|             71.0|             76.0|   null|             null|             null|            74.52|   null|             70.0|72.44444444444444|      null|    null|   75.0|78.14285714285714|  null|             null|   null|   68.0|             75.75|    null|             76.5|    null|             null|   null|             69.0|             73.0|      null|                null|null|              71.8|              68.0|            71.25|   null|             69.0|             null|85.33333333333333|null|   69.0|             null|72.33333333333333|             null|72.45454545454545|              null|             74.0|             null|       null|70.75757575757575|             80.0|   null|             null|    null|             83.0|         68.0|null|67.33333333333333|75.29411764705883| 78.5|  null|             null|73.11764705882354|             76.0|             null|   null|null|     null|  null|             null|  null|             null|    null|     null|             78.0|             72.0|              71.0|     null|             null|             74.0|  72.0|73.42105263157895|             73.6|             null|65.41666666666667|  null|      null| null|     null|67.54545454545455|             77.0|  null|  null|   null|   null| null|         null|     null|      null|             null|             null| null|      null|     null|             77.5|   null|             null|      null|             80.0|      null|   null|             73.1|         null|             66.0|     null| null|             73.0|             67.0|71.36363636363636|null|     null|             null|             75.5|null|       null|             75.2|77.44444444444444|       null| null|               64.8|             null|             75.0|  71.0|                 null|61.333333333333336|70.57142857142857|             73.2|             75.0|        null|             87.0|             83.0|             72.0|       null|75.28571428571429|          72.0|    null| null|    67.0|          70.3125|             74.5| 72.0|    null|    null|             null|             null|   70.0|             69.0|  74.0|             null|                null|             79.0|             78.0|      null|             null|             64.0|  null|             83.0|\n",
            "|      LM|       70.0|73.66666666666667|74.66666666666667|   null|             72.0|             65.0|         74.40625|   69.5|69.54545454545455|69.29411764705883|      68.0|    null|   null|75.31818181818181|  null|             null|   63.0|   70.0| 72.33333333333333|    null|74.43333333333334|    71.0|             null|   null|71.16666666666667|67.85714285714286|      80.0|                null|null|  71.0952380952381| 63.65384615384615|71.61702127659575|   60.0|72.33333333333333|             null|             73.0|null|   71.0|             75.0|             72.2|73.28571428571429|69.26666666666667|              76.0|             72.2|             75.6|       null| 69.6701030927835|             null|   null|             null|    null|71.66666666666667|         null|null|             72.0|74.79591836734694| 82.5|  71.0|             75.5|71.09574468085107|73.57142857142857|             73.0|   null|null|     null|  67.5|             null|  null|             null|    74.0|     null|             72.0|             71.0|              66.0|     null|             79.0|72.33333333333333|  72.0|72.88888888888889|             74.2|71.66666666666667|69.02857142857142|  null|      null| 73.5|     null|67.14285714285714|             78.0|  null|  null|   null|   null| 73.0|         null|     null|      null|             null|             77.0| 63.0|      null|     null|71.52173913043478|   null|             79.0|      null|             73.0|      null|   null|73.36363636363636|         null|             null|     null| null|75.81818181818181|             71.0|71.44444444444444|null|     null|             null|             74.8|74.5|       null|             69.4|             74.5|       null| null|  68.91304347826087|71.16666666666667|72.33333333333333|  null|                 null|  66.5909090909091|          72.3125|77.33333333333333|71.55555555555556|        null|            70.75|             81.0|             72.0|       null|74.13157894736842|          null|    null| null|    null|69.16666666666667|70.81818181818181| null|    72.0|    null|             null|             74.0|   71.0|72.11538461538461|  null|             71.0|                null|72.46666666666667|73.71428571428571|      null|            74.25|             73.5|  null|             null|\n",
            "|     RDM|       null|             null|71.33333333333333|   null|             null|             null|             73.5|   null|             77.0|72.85714285714286|      null|    null|   null|             null|  null|             null|   null|   null|              null|    null|74.04545454545455|    73.0|             null|   null|             78.0|             null|      68.5|                null|null|              69.8| 64.33333333333333|72.08333333333333|   70.0|             null|             null|             62.0|76.0|   null|             null|             83.0|             66.0|             70.0|              null|             73.5|             79.0|       70.0|71.84615384615384|             null|   null|             null|    null|             76.0|         null|null|             null|75.78947368421052| 76.0|  null|             null|70.54166666666667|             74.5|             81.5|   null|null|     null|  null|             null|  null|             null|    null|     null|             null|             64.0|              null|     null|             null|             null|  null|            74.75|             78.0|             null|            67.75|  null|      null| null|     null|             59.0|             77.0|  null|  66.0|   null|   null| null|         null|     null|      null|             77.0|             75.0| null|      null|     null|             73.8|   null|             72.0|      null|             77.0|      null|   null|73.71428571428571|         null|             71.0|     null| null|             79.0|             null|             70.5|null|     null|             null|             75.0|79.0|       null|             71.0|             69.5|       null| null|               66.6|             79.0|             79.5|  null|                 null| 68.33333333333333|             69.0|            75.75|77.66666666666667|        null|             69.0|             70.0|             70.0|       null|             74.3|          null|    null| null|    null|             64.0|70.66666666666667| null|    null|    null|             73.5|             68.0|   null|             72.8|  null|             81.0|                null|            75.25|             67.0|      null|             null|             70.4|  null|             null|\n",
            "|      LF|       null|             null|             null|   null|             null|             null|             82.0|   null|             null|             null|      null|    null|   null|             86.0|  null|             null|   null|   null|              null|    null|             74.0|    null|             null|   null|             null|             null|      null|                null|null|              null|              null|             null|   null|             null|             77.0|             null|null|   null|             null|             null|             null|             null|              null|             null|             null|       null|             null|             null|   null|             66.0|    null|             72.0|         null|null|             null|             null| null|  null|             77.0|             71.0|             null|             null|   null|null|     null|  null|             null|  null|             null|    null|     null|             null|             null|              null|     null|             null|             null|  null|             null|             null|             null|             63.0|  null|      null| null|     null|             null|             null|  null|  null|   null|   null| null|         null|     null|      null|             null|             null| null|      null|     null|             null|   null|             null|      null|             null|      null|   null|             null|         null|             null|     null| null|             null|             null|             null|null|     null|             null|             null|null|       null|             null|             null|       null| null|               null|             null|             null|  null|                 null|              null|             null|             null|             null|        null|             null|             null|             null|       null|             84.0|          null|    null| null|    null|             null|             null| null|    null|    null|             null|             null|   null|             null|  null|             null|                null|             null|             null|      null|             null|             null|  null|             null|\n",
            "|    null|       null|             70.0|             null|   null|             null|             null|             70.0|   null|             null|             64.0|      null|    null|   null|             62.0|  null|             null|   null|   68.0|              null|    null|             73.0|    null|             null|   null|             null|             null|      null|                null|null|63.333333333333336|              64.0|             67.0|   null|             null|             null|             null|null|   null|             null|             null|             null|             62.0|              null|             null|             null|       null|             66.0|             null|   null|             67.0|    null|             null|         null|null|             null|             69.0| null|  null|             null|             71.0|             null|             null|   null|null|     null|  null|             null|  null|             null|    null|     null|             null|             null|60.857142857142854|     null|             null|             null|  null|67.66666666666667|             null|             null|             null|  null|      null| null|     null|             63.5|             null|  null|  null|   null|   null| null|         null|     null|      null|             null|             null| null|      null|     null|             65.0|   null|             null|      null|             null|      null|   null|             79.0|         null|             null|     62.0| null|             null|             69.0|             null|null|     null|             null|             62.0|null|       null|             67.0|             null|       null| null|               null|             null|             null|  null|                 null| 64.66666666666667|64.66666666666667|             null|             null|        null|             null|             null|             null|       null|             69.0|          null|    null| null|    null|             73.0|             null| null|    null|    null|             null|             null|   null|             null|  null|             null|                null|             null|             null|      null|             70.0|             null|  null|             null|\n",
            "|     CAM|       66.0|            70.75|            74.25|   null|             null|             null|74.78260869565217|   null|            71.25|73.16666666666667|      null|    null|   70.0|74.08333333333333|  null|             null|   null|   70.5|              70.8|    null|71.80246913580247|    68.0|             70.5|   67.0|77.66666666666667|69.33333333333333|      null|                null|null| 74.78571428571429|62.666666666666664|             70.4|   null|             69.5|             null|78.66666666666667|null|   null|             null|73.33333333333333|             76.0|72.71428571428571|              null|             73.5|             null|       null|72.47222222222223|             75.0|   null|             61.0|    null|             75.0|         null|null|            72.25|73.41176470588235| null|  null|72.33333333333333|73.33870967741936|             70.5|77.28571428571429|   null|null|     null|  null|             null|  null|             60.0|    null|     null|             78.0|             73.5|              null|     74.0|             null|             null|  74.0|            71.96|             70.5|             69.0|68.57142857142857|  null|      65.0| null|     null| 68.3529411764706|             68.0|  null|  null|   null|   null| 73.0|         null|     null|      null|             65.0|             null| null|      null|     null|             71.2|   74.0|             null|      null|             75.4|      null|   null|72.86842105263158|         null|             70.0|     null| 63.0|             72.0|             69.0|            69.25|null|     null|             null|             77.5|76.5|       null|70.94117647058823|           77.625|       null| null|  68.94444444444444|             78.0|79.33333333333333|  null|                 null| 68.93333333333334|69.81818181818181|             null|            74.25|        null|             80.5|72.28571428571429|74.28571428571429|       null|74.49122807017544|          null|    null| null|    null|70.16666666666667|71.29411764705883| 73.0|    null|    null|             null|             72.0|   72.5|73.52631578947368|  null|             79.0|                78.0|73.07692307692308|74.27272727272727|      null|            73.25|            77.75|  74.0|             null|\n",
            "|     RAM|       null|             null|             null|   null|             null|             null|             null|   null|             null|             null|      null|    null|   null|             null|  null|             null|   null|   null|              null|    null|72.42857142857143|    null|             null|   null|             null|             null|      null|                null|null|              null|              null|             76.5|   null|             null|             null|             null|null|   null|             null|             null|             null|             null|              null|             null|             null|       null|             null|             null|   null|             null|    null|             null|         null|null|             null|             null| null|  null|             null|             72.0|             null|             null|   null|null|     null|  null|             null|  null|             null|    null|     null|             null|             null|              null|     null|             null|             null|  null|             null|             null|             null|             67.0|  null|      null| null|     null|             null|             null|  null|  null|   null|   null| null|         null|     null|      null|             null|             null| null|      null|     null|             null|   null|             null|      null|             86.0|      null|   null|             null|         null|             null|     null| null|             null|             null|             null|null|     null|             null|             null|null|       null|             null|             null|       null| null|               null|             null|             null|  null|                 null|              null|             null|             null|             null|        null|             null|             null|             null|       null|             null|          null|    null| null|    null|             null|             null| null|    null|    null|             null|             null|   null|             null|  null|             null|                null|             null|             null|      null|             71.0|             null|  null|             null|\n",
            "|      LB|       64.0|             66.0|            73.75|   null|             75.0|             null|72.22033898305085|   null|68.28571428571429|69.47058823529412|      null|    null|   null|71.36363636363636|  null|             69.0|   null|   70.0| 71.33333333333333|    null|73.82089552238806|    68.0|             73.0|   null|             72.0|             69.2|      null|                null|null| 69.26829268292683| 63.63333333333333|68.90566037735849|   null|             69.0|             72.0|74.55555555555556|64.0|   74.0|             null|72.66666666666667|72.66666666666667|            68.72|              null|75.33333333333333|69.33333333333333|       null|70.08064516129032|             75.0|   null|             66.0|    null|             null|         null|null|            68.25|72.58974358974359| 64.5|  null|             null| 71.0506329113924|73.71428571428571|             74.2|   null|null|     68.0|  71.5|             67.0|  null|             null|    70.0|     null|             71.0|71.66666666666667|              65.0|     null|             73.0|             75.0|  69.5|71.74545454545455|             72.6|             70.5|67.53846153846153|  null|      66.0| 66.0|     null|67.77272727272727|             75.0|  null|  null|   null|   null| null|         null|     66.0|      null|             67.0|71.33333333333333| null|      72.0|     null|71.55555555555556|   null|             62.0|      null|             75.0|      70.0|   null|         71.96875|         null|             63.0|     null| null|             70.0|             67.2|68.17391304347827|null|     null|             null|             73.2|71.0|       68.0|67.13636363636364|73.11764705882354|       null| null|  65.51851851851852|70.66666666666667|             75.0|  null|                 null|              65.0|70.61904761904762|           70.625|             70.0|        null|67.33333333333333|             73.0|           67.875|       null|74.27160493827161|          null|    null| null|    null|67.58333333333333|             69.0| 64.0|    null|    62.0|             null|             null|   70.0|70.34482758620689|  64.0|             76.4|                null|69.11111111111111|             75.4|      null|             72.0|71.83333333333333|  null|             68.0|\n",
            "|      LW|       null|             64.0|73.66666666666667|   null|             70.5|             null|75.18518518518519|   null|66.44444444444444|72.33333333333333|      null|    null|   null|           73.625|  null|             null|   null|   null| 69.66666666666667|    null|             77.2|    66.0|             84.0|   76.0|            68.25|             null|      null|                null|78.0| 69.84615384615384| 65.42857142857143|            71.25|   null|             75.0|             65.0|79.66666666666667|76.0|   67.5|             null|             75.0|             74.0|             74.5|              null|             74.0|             71.0|       74.0|73.94444444444444|             null|   null|             null|    null|             null|         66.0|null|             null|          72.8125| null|  68.5|             71.0|76.41666666666667|             72.0|             77.0|   null|null|     null|  80.0|             73.0|  null|             null|    null|     null|             80.0|             72.0|              66.0|     null|             68.0|             null|  null|         73.65625|             75.0|             68.0|             72.0|  null|      null| null|     null|69.14285714285714|73.33333333333333|  null|  null|   null|   null| 72.0|         null|     null|      null|             null|             73.5| null|      null|     null|             75.0|   null|             null|      null|69.66666666666667|      null|   null|             76.4|         null|             66.5|     null| null|79.66666666666667|             null|69.78571428571429|null|     null|             null|             71.5|76.0|       null|             null|             76.6|       null| null|  72.33333333333333|             80.0|             null|  null|                 null|              66.0|             76.0|             75.0|             76.5|        null|             null|             80.0|             69.6|       null|76.53846153846153|          null|    null| null|    72.0|69.28571428571429|             71.0| null|    null|    70.0|             70.0|             null|   null|75.33333333333333|  70.0|             79.0|                null|73.83333333333333|             75.0|      null|             69.0|             79.0|  null|             73.0|\n",
            "|     RCM|       null|             75.0|             76.0|   null|             null|             null|72.94444444444444|   null|             72.5|             69.6|      null|    null|   null|76.28571428571429|  null|             68.0|   null|   67.0|              73.5|    null|             75.8|    null|             null|   null|             73.5|             68.0|      null|                null|null|              71.4|63.857142857142854|73.54545454545455|   null|             null|             null|             81.0|null|   null|             null|             null|             null|71.44444444444444|              null|             76.0|             71.0|       null|70.29729729729729|             78.0|   null|             null|    null|             null|         null|null|             75.0|72.61538461538461| 75.0|  null|             null|76.77777777777777|            69.75|             null|   null|null|     null|  null|             null|  null|             null|    72.0|     null|             76.0|69.66666666666667|              67.0|     null|             null|             null|  null|           72.875|80.33333333333333|             null|66.61538461538461|  null|      70.0| null|     null|69.81818181818181|             null|  null|  null|   null|   null| null|         null|     null|      null|             null|             84.0| null|      null|     null|75.83333333333333|   null|             null|      null|             75.0|      null|   null|             73.5|         null|             73.0|     null| null|             79.2|             68.0|71.81818181818181|null|     null|             71.0|             71.0|null|       null|             73.5|75.57142857142857|       null| null|  65.84615384615384|             null|             null|  null|                 null|              64.0|             70.6|             70.5|             73.5|        null|             null|             null|             69.0|       null|            76.75|          null|    null| null|    null|70.46153846153847|            74.75| null|    null|    null|             null|             null|   81.0|             70.5|  70.0|             81.0|                null|73.83333333333333|76.14285714285714|      null|             null|             64.0|  null|             74.0|\n",
            "|      GK|       null|             77.5|             67.6|   null|             null|             null|71.76288659793815|   null|             67.0| 68.1590909090909|      null|    null|   69.0|            72.25|  null|             70.5|   null|   69.0|              70.4|    null|72.66176470588235|    65.2|             77.0|   null|             75.2|66.11111111111111|      null|                null|null| 69.30952380952381|  62.9811320754717|69.21153846153847|   null|             61.0|             77.0| 72.6923076923077|75.0|   71.5|             null|             71.5|             65.0|68.91428571428571|              null|72.33333333333333|68.66666666666667|       null| 68.2183908045977|             68.0|   null|             72.5|    null|             72.0|         null|null|           70.875|72.01980198019803| 65.0|  73.0|             70.0|70.90243902439025|             67.0| 74.3529411764706|   null|null|     68.0|  65.0|             null|  null|             null|    70.0|     null|             73.2|71.33333333333333| 64.66666666666667|     null|68.33333333333333|             null|  67.0| 71.3695652173913|            68.25|             78.0|63.18032786885246|  null|      null| null|     null|            67.95|             72.0|  null|  68.0|   null|   null| null|         null|     74.0|      null|             null|             66.0| null|      null|     null| 70.1086956521739|   72.0|             71.0|      null|             67.4|      null|   68.0|71.19642857142857|         null|             67.0|     null| null|             82.0|68.42857142857143|68.51612903225806|72.0|     null|             null|73.66666666666667|71.0|       75.0|67.77966101694915|         75.53125|       null| null|   65.8974358974359|             75.6|74.92857142857143|  null|                 null| 64.38297872340425| 66.9047619047619|           72.125|71.77777777777777|        null|69.42857142857143|             79.0|69.57142857142857|       null|73.88793103448276|          null|    null| null|    null|68.32608695652173|70.84848484848484| null|    null|    null|             null|             53.0|   73.0|69.87234042553192|  null|             73.1|                null|67.84722222222223|             72.5|      null|            75.25|67.71428571428571|  null|             null|\n",
            "|      RB|       null|             75.0|             63.0|   null|             null|             71.5|            71.98|   72.0|66.21428571428571| 69.0909090909091|      62.0|    null|   null|             72.0|  null|             null|   null|   70.0|              71.0|    null|72.57142857142857|    69.0|             77.0|   null|71.66666666666667|             70.0|      67.0|                null|null| 69.13793103448276|62.476190476190474|             71.0|   70.0|             null|             68.5|            76.75|null|   71.0|             67.0|             72.5|             78.0|             69.6|              null|             68.5|             71.0|       null|70.25210084033614|             null|   null|             66.0|    64.0|             71.0|         null|null|             64.5|72.72972972972973| 71.0|  65.0|             76.0|70.62650602409639|            71.75|71.83333333333333|   null|67.0|     null|  null|             72.0|  null|             70.0|    69.0|     null|             70.5|             66.0|              66.0|     null|             72.0|             null|  null|72.57894736842105|             75.5|67.66666666666667|66.93548387096774|  null|      65.0| null|     null|66.05555555555556|             69.0|  null|  null|   null|   null| null|         66.0|     null|      72.0|             72.0|             75.5| null|      66.0|     null|69.39473684210526|   null|             69.0|      null|             72.0|      null|   78.0|73.35135135135135|         null|66.66666666666667|     null| null|             73.0|             68.8|69.78260869565217|null|     null|             80.0|             72.5|73.0|       null|68.03225806451613|74.92857142857143|       null| null|  64.79166666666667|             74.0|76.14285714285714|  null|                 null| 66.67567567567568|68.73684210526316|           72.625|72.44444444444444|        70.0|             75.0|             69.5|             68.5|       null|74.37931034482759|          56.0|    68.0| null|    69.5|69.61111111111111|70.73913043478261| null|    null|    null|             null|             null|   69.5|            71.75|  64.0|            74.25|                null|69.65789473684211|72.11111111111111|      null|71.83333333333333| 68.3076923076923|  null|             72.0|\n",
            "|      RS|       null|             71.0|             null|   null|             66.0|             null|             73.8|   null|             66.5|70.66666666666667|      66.0|    null|   null|             77.0|  null|             76.5|   null|   73.0|              null|    null|             74.0|    null|             null|   null|             81.0|             77.0|      null|                null|null|              76.0|              67.0|77.42857142857143|   null|             null|             null|             71.0|null|   null|             null|             73.0|             70.0|             67.5|              null|             73.0|             null|       null|67.10714285714286|             null|   null|             null|    null|             null|         null|71.0|             null|            77.75| null|  null|             null|             71.0|             75.0|             null|   null|null|     null|  null|             null|  null|             null|    null|     null|             null|             null|              64.0|     null|             null|             null|  80.0|75.23529411764706|            75.25|             62.0|             73.0|  null|      null| null|     null|65.66666666666667|             null|  null|  null|   null|   null| null|         null|     null|      null|             null|             80.0| null|      null|     null|75.66666666666667|   null|             null|      67.0|             70.0|      null|   null|             71.0|         null|             70.0|     null| null|             73.0|             68.0|             73.0|null|     null|             70.0|             null|null|       null|71.33333333333333|             77.0|       null| null|               71.5|             null|             75.5|  null|                 null| 67.33333333333333|            71.75|             68.5|             73.5|        null|             null|             null|             null|       null|77.27272727272727|          null|    null| null|    null|73.33333333333333|             null| null|    null|    null|             null|             null|   null|             69.5|  null|             null|                null|             76.0|            74.75|      null|             74.5|             67.0|  null|             75.0|\n",
            "|     LCB|       null|             null|             69.0|   null|             72.0|             null|73.91428571428571|   null|             67.6|71.58333333333333|      null|    null|   null|             75.0|  null|             null|   null|   72.0|              68.5|    null|74.48936170212765|    69.0|             76.0|   null|             72.8|             66.0|      72.5|                null|null| 73.15384615384616| 66.72727272727273| 72.8076923076923|   null|             69.0|             71.5|77.66666666666667|null|   null|             78.0|             75.0|             69.0|70.84615384615384|              null|72.66666666666667|             72.5|       null|70.92592592592592|             null|   null|             69.0|    null|             null|         null|null|             67.5|76.02702702702703| null|  81.0|             73.0|72.82051282051282|             76.5|             75.0|   68.0|null|     null|  73.0|             null|  null|             null|    null|     null|             75.0|             73.0|              62.0|     null|             67.0|             null|  null|72.88888888888889|             75.0|             74.0|67.85714285714286|  null|      null| null|     null|             66.6|             null|  null|  null|   66.0|   null| null|         null|     null|      null|             null|             null| null|      null|     null|             72.4|   74.0|             69.0|      null|            68.25|      75.0|   null|            75.05|         71.0|             67.0|     66.0| null|             null|             65.0|70.06666666666666|null|     null|             68.0|71.66666666666667|74.5|       null|             68.0|73.71428571428571|       null| null|  68.66666666666667|             74.5|             73.0|  null|                 null|              67.6|72.27272727272727|             75.6|72.88888888888889|        null|79.33333333333333|             74.5|             69.0|       null|74.70967741935483|          null|    null| null|    null|          67.5625|72.16666666666667| null|    null|    null|             null|             null|   76.5|73.83333333333333|  null|             78.0|                null|73.07142857142857|             73.5|      null|             78.0|            72.75|  null|             null|\n",
            "|      CM|       71.0|            71.75|77.66666666666667|   null|             null|             null|73.08695652173913|   null|67.71428571428571|68.70588235294117|      null|    null|   null|74.21428571428571|  null|             null|   null|   72.5|              68.8|    68.0|             76.0|    66.5|             77.0|   null|             72.5|             68.5|      74.5|                85.0|null| 70.17647058823529|62.432432432432435|69.77777777777777|   73.0|             null|70.33333333333333|72.63636363636364|null|   null|             null|74.36363636363636|             70.0|69.21212121212122|              null|             71.0|             73.0|       64.0|69.79591836734694|             null|   null|             null|    null|             66.0|         null|null|70.66666666666667|73.91379310344827| null|  null|             null|74.03333333333333|74.26666666666667|             73.0|   null|null|     null|  82.0|             68.0|  63.0|             69.0|    null|     71.0|             72.5|             72.5|              61.0|     null|             79.0|             64.0|  76.5|72.11111111111111|             74.0|             66.5|65.92105263157895|  null|      null| null|     null| 65.5952380952381|             74.0|  null|  null|   null|   null| null|         71.0|     68.0|      76.0|             64.0|             76.0| null|      null|     null|70.36842105263158|   67.0|             75.5|      68.0|           75.125|      null|   null|72.57142857142857|         null|             68.0|     null| null|65.16666666666667|             72.0|68.91304347826087|null|     null|             null|70.66666666666667|71.5|       null|67.84615384615384|75.44444444444444|       null| null|             67.375|             72.2|             75.0|  null|                 null| 68.61904761904762| 71.3030303030303|             71.1|77.88888888888889|        null|74.16666666666667|             71.0|72.83333333333333|       null|          74.7875|          null|    null| null|    null|68.51282051282051|           72.625| 64.0|    null|    63.0|             null|             null|   69.0|71.44444444444444|  null|74.71428571428571|                null|70.52631578947368|71.33333333333333|      67.5|             72.6|             67.9|  76.0|             null|\n",
            "|      RW|       null|             72.5|             76.6|   null|             null|             null|73.20689655172414|   70.5|             68.6|             71.0|      null|    null|   null|78.16666666666667|  61.0|             null|   null|   null|              75.0|    null|76.42857142857143|    null|             null|   null|             null|             64.0|      null|                null|null| 70.82352941176471| 63.44444444444444|            74.75|   null|             67.0|             67.0|             null|null|   null|             null|             75.0|             77.5|             76.2|              null|             72.0|             null|       null|74.73684210526316|             null|   null|             null|    null|             null|         null|null|             65.5|             74.7| null|  null|             81.0|             73.0|           72.375|             70.0|   null|null|     null|  null|             74.5|  null|             78.0|    null|     null|70.66666666666667|             74.5|              null|     null|             null|             null|  null| 76.3157894736842|             75.8|             null|             65.0|  null|      null| 66.0|     66.0|             70.0|             83.0|  null|  null|   null|   null| 76.0|         null|     null|      null|             67.0|             null| null|      null|     null|            73.75|   null|             70.0|      null|             null|      76.0|   null|74.57142857142857|         null|             62.0|     null| null|             75.2|             null|             70.4|null|     null|             null|             79.0|76.0|       null|             null|76.53846153846153|       null| null|               null|             78.0|             76.0|  null|                 null|              null|             70.0|             69.0|             83.0|        null|             75.0|             71.0|74.66666666666667|       null|             80.4|          null|    null| null|    null|66.07692307692308|75.66666666666667| null|    null|    null|             65.0|             null|   80.0|             71.0|  null|             null|                null|             72.5|            71.75|      null|            76.25|             76.5|  68.0|             null|\n",
            "|     RCB|       null|             68.0|             74.5|   null|             65.0|             null|73.05405405405405|   null|             69.5| 70.0909090909091|      null|    null|   null|             75.5|  null|             73.0|   null|   66.0|              69.0|    null| 75.2051282051282|    69.0|             70.0|   null|70.66666666666667|             71.0|      75.0|                null|null|             70.25|              67.0|            72.75|   null|             66.0|             75.5|71.55555555555556|null|   null|             null|            69.75|             76.0|             72.0|              null|             null|             67.0|       null|71.44642857142857|             null|   null|             null|    null|             null|         null|null|             72.0|75.72413793103448| null|  null|             75.0|72.72916666666667|             72.0|             78.0|   null|null|     null|  65.5|             null|  null|             null|    null|     null|             81.0|             70.0|              71.0|     null|             73.0|             null|  null|74.08333333333333|             74.0|             71.0|69.93333333333334|  null|      null| null|     null|             68.5|             null|  null|  64.0|   null|   null| null|         null|     null|      73.0|             null|             65.0| null|      null|     null|             73.7|   null|             null|      69.0|             71.5|      74.0|   null|73.61111111111111|         null|             67.0|     null| null|            70.25|             71.0|          69.1875|null|     null|             null|76.14285714285714|71.0|       null|70.81818181818181|             75.0|       null| null|   65.3076923076923|             71.5|             80.0|  null|                 null|              67.5|             67.5|            75.25|             74.8|        null|75.33333333333333|             69.0|             67.0|       null|74.52777777777777|          null|    null| null|    null|70.13333333333334|74.11111111111111| null|    null|    null|             79.0|             null|   null|74.22222222222223|  null|             73.0|                null|72.54545454545455|75.71428571428571|      null|             76.0|69.85714285714286|  74.0|             null|\n",
            "|     CDM|       null|             69.5|            70.25|   null|             null|             null|72.76363636363637|   null|          66.8125|69.63157894736842|      71.0|    null|   null|73.71428571428571|  null|             null|   null|   67.0|              82.0|    null|72.67441860465117|    63.5|             64.0|   null|           74.125|             71.8|      67.0|                null|null|              71.8|62.916666666666664|70.88888888888889|   74.0|             69.0|             null|75.11111111111111|null|   null|             null|             69.5|71.66666666666667|             74.0|              null|            69.25|             73.0|       null|            71.88|             null|   null|             null|    null|             76.0|         null|null|             75.0|73.03174603174604| 67.0|  74.0|             73.0|71.58227848101266|74.83333333333333|72.66666666666667|   null|null|     null|  71.0|            76.25|  66.0|             null|    null|     null|72.66666666666667|             68.0|              60.0|     null|             76.0|             null|  72.0|          76.0625|           76.125|             null|65.89473684210526|  null|      null| 74.0|     null|65.33333333333333|             66.0|  null|  null|   null|   null| null|         null|     60.0|      71.0|             63.0|72.66666666666667| null|      null|     null|           70.625|   null|             79.0|      null|             69.8|      null|   null|72.26666666666667|         null|             67.0|     null| null|73.85714285714286|            72.75|71.77777777777777|null|     null|             null|             71.0|74.5|       null|67.29629629629629|74.83333333333333|       null| null|  68.77272727272727|             80.0|             75.2|  null|                 null| 66.06666666666666|             72.6|             73.0|             80.0|        null|             70.0|             77.5|             73.5|       null|74.92307692307692|          null|    null| 60.0|    null|             70.0|73.88888888888889| 67.0|    null|    null|             68.5|             null|   null|71.79310344827586|  null|72.66666666666667|                null|71.08333333333333|71.14285714285714|      null|             75.0|             70.6|  null|             null|\n",
            "|      LS|       null|             null|             null|   null|             null|             null|75.23076923076923|   73.0|             64.0|             82.0|      null|    64.5|   null|             76.0|  null|             null|   null|   null|              77.0|    null|75.33333333333333|    66.0|             null|   null|             80.0|             62.0|      null|                null|null|              72.5|              null|             74.0|   null|             70.0|             null|             65.0|null|   null|             73.0|             null|             null|            70.25|              null|             75.0|             null|       null|68.92307692307692|             null|   72.0|             null|    null|             null|         null|null|             66.0|             74.8| null|  76.0|             null|             71.0|             72.0|             null|   null|null|     null|  null|             69.0|  null|             null|    null|     null|             null|             null|              67.0|     null|             null|             null|  80.0|          73.5625|             76.0|             64.0|            70.75|  null|      null| null|     null|             70.0|             null|  null|  null|   null|   null| null|         null|     null|      null|             null|             null| null|      null|     null|             80.5|   null|             72.5|      null|             78.0|      null|   null|71.33333333333333|         null|             null|     null| null|             70.0|             null|71.33333333333333|null|     null|             null|             71.0|null|       null|             75.0|             79.0|       null| null|               67.6|             75.0|             null|  null|                 null|              null|             69.0|             74.5|             86.0|        null|             null|             null|             null|       null|             78.2|          null|    null| null|    null|73.66666666666667|             66.0| 78.0|    null|    68.0|             null|             null|   67.0|             null|  null|             73.0|                null|             70.0|             74.5|      null|             84.0|             null|  null|             null|\n",
            "|      CB|       null|74.33333333333333|             69.5|   64.0|             79.0|             null|72.85858585858585|   null| 69.0952380952381|         70.28125|      null|    66.0|   null|75.04545454545455|  null|             72.0|   null|   74.0|              74.6|    null| 71.9090909090909|    63.0|             null|   null|73.08333333333333|             70.2|      null|                72.0|null| 71.17241379310344| 64.69444444444444|71.38461538461539|   null|69.66666666666667|            70.75|            73.25|null|   66.0|67.66666666666667|             73.1|             72.6|69.94594594594595|              null|             71.5|             76.5|       75.0| 70.2919254658385|             null|   null|70.66666666666667|    null|             69.0|         68.0|null|67.71428571428571|72.83870967741936| null|  79.0|             77.5|        71.359375|             72.5|74.13333333333334|   null|null|     67.0|  77.5|             74.0|  70.0|             73.0|    null|     62.0|             68.5|             71.0|              61.0|     null|             null|             68.0|  null| 72.1219512195122|             72.4|             72.0|64.63265306122449|  null|      null| 64.0|     null|67.07692307692308|             73.5|  null|  54.0|   null|   null| null|         null|     64.0|      65.0|72.33333333333333|             72.5| null|      70.0|     69.0|70.88372093023256|   null|75.66666666666667|      null|            78.25|      null|   null|73.30952380952381|         null|           67.375|     null| null|73.22222222222223|           67.375|68.06451612903226|null|     null|             69.8|             73.0|77.0|       null|68.82352941176471|75.96153846153847|       63.0| 68.0|             66.875|             73.8|             76.5|  null|                 null| 66.48780487804878|            69.72|             72.3|            71.75|        66.0|71.66666666666667|72.57142857142857|             71.0|       null|73.77884615384616|          null|    null| null|    null|           68.225|72.13636363636364| null|    null|    null|             null|             null|   70.5|72.10714285714286|  null|           74.125|                null|69.41666666666667|73.05882352941177|      null|             70.0|          69.8125|  null|             73.0|\n",
            "|     RWB|       null|             null|             82.0|   null|             null|             null|             72.0|   null|             66.0|             66.0|      null|    null|   null|             72.0|  null|             null|   null|   null|              70.0|    null|             null|    null|             null|   null|             74.0|             null|      null|                null|null|              null|61.666666666666664|             74.0|   null|             null|             null|             74.0|null|   null|             null|             81.0|             null|           68.625|              null|             null|             null|       null|67.86666666666666|             null|   null|             null|    null|             null|         null|null|             null|            73.75| null|  null|             null|72.66666666666667|             null|             null|   null|null|     null|  null|             null|  null|             null|    null|     null|             null|             75.0|              null|     null|             null|             null|  null|             72.5|             72.0|             null|             66.0|  70.0|      null| null|     null|             null|             null|  null|  null|   null|   null| null|         null|     null|      null|             null|             null| null|      null|     null|             80.0|   null|             null|      null|             null|      null|   null|             70.5|         null|             61.0|     null| null|             null|             null|             72.0|null|     null|             null|             null|null|       null|             null|             null|       null| null|               71.0|             null|             null|  null|                 null|              65.0|             65.5|             null|             null|        null|             null|             null|             68.0|       null|            78.25|          null|    null| null|    null|             68.0|             71.0| null|    null|    null|             null|             null|   null|             null|  null|             null|                null|             null|             null|      null|             null|             64.0|  null|             null|\n",
            "|      CF|       null|             null|             null|   null|             null|             null|             79.0|   null|             null|             68.0|      null|    null|   null|             null|  null|             null|   null|   null|              null|    null|            78.25|    null|             74.0|   null|             72.0|             null|      null|                null|null|              73.0|              null|             null|   null|             null|             null|             null|null|   75.0|             null|             80.0|             null|             null|              null|             null|             null|       null|             70.0|             null|   null|             null|    null|             null|         null|null|             78.0|             null| null|  null|             null|             73.6|             77.0|             null|   null|null|     null|  null|             null|  null|             null|    null|     null|             null|             81.0|              null|     null|             null|             null|  null|             75.8|             null|             null|           66.625|  null|      null| null|     58.0|70.66666666666667|             73.0|  null|  null|   null|   null| null|         null|     68.0|      null|             null|             null| null|      null|     null|             75.0|   null|             null|      null|             null|      null|   68.0|             null|         null|             null|     null| null|             null|             null|             74.0|null|     null|             null|             null|75.0|       null|             88.0|             null|       null| null|               null|             null|             78.0|  null|                 null|              null|             71.0|             null|             null|        null|             null|             null|             null|       null|            79.25|          null|    null| null|    null|            70.25|             null| null|    null|    null|             null|             null|   null|             75.0|  null|             null|                null|             71.0|             null|      null|             null|             null|  null|             71.0|\n",
            "|      RM|       null|             64.0|            74.75|   null|             68.0|             null| 73.2741935483871|   83.0|70.53846153846153|70.30434782608695|      null|    null|   null|74.26666666666667|  null|             68.0|   null|   72.0|              76.0|    null|75.30434782608695|    71.5|             77.5|   null|             70.5|             74.5|      null|                null|null| 72.18181818181819|          65.03125|70.65384615384616|   null|             null|             75.5|76.66666666666667|null|   70.0|             null|             77.0|             72.5|69.18181818181819|              null|             76.0|             82.0|       65.0|69.94782608695652|             null|   null|             63.0|    null|             64.5|         65.5|null|             73.8|74.77551020408163| 68.0|  76.0|             76.0|70.85227272727273|             71.6|76.42857142857143|   null|null|     null|  73.0|             null|  null|             70.0|    78.5|     null|             71.0|             77.5|              67.0|     null|74.33333333333333|             null|  null|73.37037037037037|             81.5|             66.0| 66.8108108108108|  null|      null| null|     null|          68.4375|             70.5|  null|  null|   null|   null| null|         66.0|     71.0|      null|             null|             73.0| null|      null|     null|            72.28|   null|             74.5|      null|             74.8|      null|   null|71.78947368421052|         null|             76.0|     null| 66.0|             77.0|69.85714285714286|           69.125|null|     66.0|             70.5|76.33333333333333|73.0|       null|         68.28125|            76.36|       null| null|               66.7|72.16666666666667|             70.5|  null|                 null| 66.33333333333333|72.42105263157895|             80.2|             69.6|        null|             75.0|             70.6|             66.0|       null|74.86585365853658|          null|    null| 66.0|    null|             70.0|71.41666666666667| 72.0|    null|    68.0|76.66666666666667|             null|   70.0|73.57142857142857|  68.0|             77.5|                null|            72.75|69.57142857142857|      null|73.14285714285714|71.11111111111111|  null|             null|\n",
            "|     LAM|       null|             null|             null|   null|             null|             null|             null|   null|             null|             null|      null|    null|   null|             null|  null|             null|   null|   null|              null|    null|71.46153846153847|    null|             null|   null|             null|             null|      null|                null|null|              null|              null|             81.0|   null|             null|             null|             null|null|   null|             null|             null|             null|             null|              null|             null|             null|       null|             null|             null|   null|             null|    null|             null|         null|null|             null|             null| null|  null|             null|             70.0|             null|             null|   null|null|     null|  null|             null|  null|             null|    null|     null|             null|             null|              null|     null|             null|             null|  null|             null|             null|             null|             69.0|  null|      null| null|     null|             null|             null|  null|  null|   null|   null| null|         null|     null|      null|             null|             null| null|      null|     null|             null|   null|             null|      null|             null|      null|   null|             null|         null|             null|     null| null|             null|             null|             null|null|     null|             null|             null|null|       null|             null|             null|       null| null|               null|             null|             null|  null|                 null|              null|             null|             null|             81.0|        null|             null|             null|             null|       null|             null|          null|    null| null|    null|             null|             null| null|    null|    null|             null|             null|   null|             null|  null|             null|                null|             null|             68.0|      null|             null|             null|  75.0|             null|\n",
            "|     LDM|       null|72.66666666666667|             73.0|   null|             null|             null|           73.375|   null|             70.5|             75.5|      null|    null|   null|             75.5|  null|             71.0|   null|   null|             72.25|    null|            74.16|    57.0|             null|   65.0|             null|             null|      71.0|                71.0|null|             71.25|              60.0|70.81818181818181|   null|             null|             77.0|             84.0|null|   null|             null|             74.0|             null|             69.5|              null|             null|             67.0|       null|70.15384615384616|             null|   null|             null|    null|             83.0|         null|null|             null|74.76470588235294| null|  null|             71.0|71.52173913043478|             76.0|             75.0|   null|null|     null|  82.0|             null|  null|             null|    68.0|     null|             null|             null|              null|     null|             null|             null|  73.0|             70.0|            76.75|             null|             70.0|  null|      null| null|     null|             68.0|             null|  70.0|  null|   null|   null| null|         null|     null|      78.0|             null|             75.0| null|      null|     null|             71.6|   null|             null|      null|             null|      null|   null|78.66666666666667|         null|             null|     null| null|             79.5|             null|             71.0|null|     null|             70.0|             71.0|73.0|       null|67.88888888888889|74.42857142857143|       null| null|               65.6|             73.0|             86.0|  null|                 null| 68.85714285714286|             69.5|             null|             70.0|        null|             76.0|             68.0|             67.0|       null|70.41666666666667|          null|    null| null|    null|             66.0|             81.5| null|    null|    null|             null|             null|   null|            72.75|  null|             77.0|                null|73.33333333333333|             null|      null|             null|             86.0|  null|             null|\n",
            "|      ST|       null|            72.25|            73.75|   null|75.66666666666667|             63.0|           72.928|   70.0|            67.44|68.62962962962963|      67.0|    null|   70.0|75.33333333333333|  null|67.66666666666667|   70.0|   71.0| 72.85714285714286|    null|71.56756756756756|    70.5|67.33333333333333|   null|73.86666666666666|72.28571428571429|      75.0|                null|78.0| 70.10416666666667|          63.46875|70.89189189189189|   null|            71.25|            68.25|72.26666666666667|null|   69.5|             65.0|70.88888888888889| 71.9090909090909|69.91304347826087|              85.0|             75.0|             72.0|       null| 69.5575221238938|             null|   65.0|             null|    null|             74.0|         null|null|70.83333333333333|72.45283018867924| 72.0|  79.5|69.66666666666667|           71.125| 75.0909090909091|73.35714285714286|   null|null|     null|  70.5|73.33333333333333|  null|69.66666666666667|    75.0|     null|            72.25|             70.0|              58.5|     null|             75.0|             null|  70.0|            72.75|73.44444444444444|             67.0|67.27272727272727|  null|      null| 74.0|     77.0|68.36111111111111|           69.125|  null|  78.0|   null|   73.0| null|         null|     77.0|      null|             67.0|70.33333333333333| null|      null|     null|72.31428571428572|   79.0|74.66666666666667|      null|71.72727272727273|      null|   null| 73.6829268292683|         null|             70.0|     null| 71.0|73.02941176470588|69.76923076923077| 68.2439024390244|null|     null|68.66666666666667|71.04347826086956|74.0|       null|           69.425|74.66666666666667|       null| null|  66.18604651162791|             73.0|             75.6|  null|                 72.0|              67.1|70.19444444444444|72.27272727272727|73.14285714285714|       72.25|            72.75|70.28571428571429|71.66666666666667|       63.0|73.95412844036697|          62.0|    null| 72.0|    null|69.40816326530613|74.58333333333333| 80.0|    75.0|    null|             73.5|             null|   69.2|72.04166666666667|  null|73.58333333333333|                null|71.08108108108108|            74.55|      null|72.16666666666667|69.93333333333334| 74.25|70.66666666666667|\n",
            "+--------+-----------+-----------------+-----------------+-------+-----------------+-----------------+-----------------+-------+-----------------+-----------------+----------+--------+-------+-----------------+------+-----------------+-------+-------+------------------+--------+-----------------+--------+-----------------+-------+-----------------+-----------------+----------+--------------------+----+------------------+------------------+-----------------+-------+-----------------+-----------------+-----------------+----+-------+-----------------+-----------------+-----------------+-----------------+------------------+-----------------+-----------------+-----------+-----------------+-----------------+-------+-----------------+--------+-----------------+-------------+----+-----------------+-----------------+-----+------+-----------------+-----------------+-----------------+-----------------+-------+----+---------+------+-----------------+------+-----------------+--------+---------+-----------------+-----------------+------------------+---------+-----------------+-----------------+------+-----------------+-----------------+-----------------+-----------------+------+----------+-----+---------+-----------------+-----------------+------+------+-------+-------+-----+-------------+---------+----------+-----------------+-----------------+-----+----------+---------+-----------------+-------+-----------------+----------+-----------------+----------+-------+-----------------+-------------+-----------------+---------+-----+-----------------+-----------------+-----------------+----+---------+-----------------+-----------------+----+-----------+-----------------+-----------------+-----------+-----+-------------------+-----------------+-----------------+------+---------------------+------------------+-----------------+-----------------+-----------------+------------+-----------------+-----------------+-----------------+-----------+-----------------+--------------+--------+-----+--------+-----------------+-----------------+-----+--------+--------+-----------------+-----------------+-------+-----------------+------+-----------------+--------------------+-----------------+-----------------+----------+-----------------+-----------------+------+-----------------+\n",
            "\n"
          ],
          "name": "stdout"
        }
      ]
    },
    {
      "cell_type": "markdown",
      "metadata": {
        "id": "yHro20QAQala"
      },
      "source": [
        "Further, viewing the highest average potential for each position."
      ]
    },
    {
      "cell_type": "code",
      "metadata": {
        "id": "Cyf4PhkDTRaD"
      },
      "source": [
        "# renaming the name of a country to avoid syntax error in the next stage\n",
        "pivot_df = pivot_df.withColumnRenamed('Central African Rep.', 'Central African Republic')"
      ],
      "execution_count": 13,
      "outputs": []
    },
    {
      "cell_type": "code",
      "metadata": {
        "colab": {
          "base_uri": "https://localhost:8080/"
        },
        "id": "OLRy9c9Z1Ojd",
        "outputId": "2c6ffe80-1c3a-471c-ceff-56ef7e41757c"
      },
      "source": [
        "# removing the null position from the dataframe\n",
        "pivot_df = pivot_df.filter((pivot_df.Position != 'NA'))\n",
        "pivot_df.show(pivot_df.count())"
      ],
      "execution_count": 11,
      "outputs": [
        {
          "output_type": "stream",
          "text": [
            "+--------+-----------+-----------------+-----------------+-------+-----------------+-----------------+-----------------+-------+-----------------+-----------------+----------+--------+-------+-----------------+------+-----------------+-------+-------+------------------+--------+-----------------+--------+-----------------+-------+-----------------+-----------------+----------+--------------------+----+-----------------+------------------+-----------------+-------+-----------------+-----------------+-----------------+----+-------+-----------------+-----------------+-----------------+-----------------+------------------+-----------------+-----------------+-----------+-----------------+-----------------+-------+-----------------+--------+-----------------+-------------+----+-----------------+-----------------+-----+------+-----------------+-----------------+-----------------+-----------------+-------+----+---------+------+-----------------+------+-----------------+--------+---------+-----------------+-----------------+-----------------+---------+-----------------+-----------------+------+-----------------+-----------------+-----------------+-----------------+------+----------+-----+---------+-----------------+-----------------+------+------+-------+-------+-----+-------------+---------+----------+-----------------+-----------------+-----+----------+---------+-----------------+-------+-----------------+----------+-----------------+----------+-------+-----------------+-------------+-----------------+---------+-----+-----------------+-----------------+-----------------+----+---------+-----------------+-----------------+----+-----------+-----------------+-----------------+-----------+-----+-------------------+-----------------+-----------------+------+---------------------+------------------+-----------------+-----------------+-----------------+------------+-----------------+-----------------+-----------------+-----------+-----------------+--------------+--------+-----+--------+-----------------+-----------------+-----+--------+--------+-----------------+-----------------+-------+-----------------+------+-----------------+--------------------+-----------------+-----------------+----------+-----------------+-----------------+------+-----------------+\n",
            "|Position|Afghanistan|          Albania|          Algeria|Andorra|           Angola|Antigua & Barbuda|        Argentina|Armenia|        Australia|          Austria|Azerbaijan|Barbados|Belarus|          Belgium|Belize|            Benin|Bermuda|Bolivia|Bosnia Herzegovina|Botswana|           Brazil|Bulgaria|     Burkina Faso|Burundi|         Cameroon|           Canada|Cape Verde|Central African Rep.|Chad|            Chile|          China PR|         Colombia|Comoros|            Congo|       Costa Rica|          Croatia|Cuba|Curacao|           Cyprus|   Czech Republic|         DR Congo|          Denmark|Dominican Republic|          Ecuador|            Egypt|El Salvador|          England|Equatorial Guinea|Eritrea|          Estonia|Ethiopia|    FYR Macedonia|Faroe Islands|Fiji|          Finland|           France|Gabon|Gambia|          Georgia|          Germany|            Ghana|           Greece|Grenada|Guam|Guatemala|Guinea|    Guinea Bissau|Guyana|            Haiti|Honduras|Hong Kong|          Hungary|          Iceland|            India|Indonesia|             Iran|             Iraq|Israel|            Italy|      Ivory Coast|          Jamaica|            Japan|Jordan|Kazakhstan|Kenya|Korea DPR|   Korea Republic|           Kosovo|Kuwait|Latvia|Lebanon|Liberia|Libya|Liechtenstein|Lithuania|Luxembourg|       Madagascar|             Mali|Malta|Mauritania|Mauritius|           Mexico|Moldova|       Montenegro|Montserrat|          Morocco|Mozambique|Namibia|      Netherlands|New Caledonia|      New Zealand|Nicaragua|Niger|          Nigeria| Northern Ireland|           Norway|Oman|Palestine|           Panama|         Paraguay|Peru|Philippines|           Poland|         Portugal|Puerto Rico|Qatar|Republic of Ireland|          Romania|           Russia|Rwanda|S?o Tom�� & Pr��ncipe|      Saudi Arabia|         Scotland|          Senegal|           Serbia|Sierra Leone|         Slovakia|         Slovenia|     South Africa|South Sudan|            Spain|St Kitts Nevis|St Lucia|Sudan|Suriname|           Sweden|      Switzerland|Syria|Tanzania|Thailand|             Togo|Trinidad & Tobago|Tunisia|           Turkey|Uganda|          Ukraine|United Arab Emirates|    United States|          Uruguay|Uzbekistan|        Venezuela|            Wales|Zambia|         Zimbabwe|\n",
            "+--------+-----------+-----------------+-----------------+-------+-----------------+-----------------+-----------------+-------+-----------------+-----------------+----------+--------+-------+-----------------+------+-----------------+-------+-------+------------------+--------+-----------------+--------+-----------------+-------+-----------------+-----------------+----------+--------------------+----+-----------------+------------------+-----------------+-------+-----------------+-----------------+-----------------+----+-------+-----------------+-----------------+-----------------+-----------------+------------------+-----------------+-----------------+-----------+-----------------+-----------------+-------+-----------------+--------+-----------------+-------------+----+-----------------+-----------------+-----+------+-----------------+-----------------+-----------------+-----------------+-------+----+---------+------+-----------------+------+-----------------+--------+---------+-----------------+-----------------+-----------------+---------+-----------------+-----------------+------+-----------------+-----------------+-----------------+-----------------+------+----------+-----+---------+-----------------+-----------------+------+------+-------+-------+-----+-------------+---------+----------+-----------------+-----------------+-----+----------+---------+-----------------+-------+-----------------+----------+-----------------+----------+-------+-----------------+-------------+-----------------+---------+-----+-----------------+-----------------+-----------------+----+---------+-----------------+-----------------+----+-----------+-----------------+-----------------+-----------+-----+-------------------+-----------------+-----------------+------+---------------------+------------------+-----------------+-----------------+-----------------+------------+-----------------+-----------------+-----------------+-----------+-----------------+--------------+--------+-----+--------+-----------------+-----------------+-----+--------+--------+-----------------+-----------------+-------+-----------------+------+-----------------+--------------------+-----------------+-----------------+----------+-----------------+-----------------+------+-----------------+\n",
            "|      RF|       null|             null|             null|   null|             null|             null|             87.0|   null|             null|             66.0|      null|    null|   null|             82.0|  null|             null|   null|   null|              null|    null|             null|    null|             null|   null|             null|             null|      null|                null|null|             null|              72.0|             null|   null|             null|             null|             null|null|   null|             null|             null|             null|             null|              null|             null|             null|       null|             null|             null|   null|             null|    null|             null|         null|null|             69.0|             null| null|  null|             null|             78.0|             null|             null|   null|null|     null|  null|             null|  null|             null|    null|     null|             null|             null|             null|     null|             null|             null|  null|             75.0|             null|             null|68.33333333333333|  null|      null| null|     null|             null|             null|  null|  null|   null|   null| null|         null|     null|      null|             null|             null| null|      null|     null|             null|   null|             null|      null|             null|      null|   null|             null|         null|             null|     null| null|             null|             null|             null|null|     null|             null|             null|null|       null|             null|             null|       null| null|               null|             null|             null|  null|                 null|              null|             null|             null|             null|        null|             null|             null|             null|       null|             81.0|          null|    null| null|    null|             75.0|             null| 73.0|    null|    null|             null|             null|   null|             null|  null|             null|                null|             null|             75.0|      null|             null|             null|  null|             null|\n",
            "|     LWB|       null|             null|             null|   null|             null|             null|            75.75|   null|             71.0|             69.0|      null|    null|   null|             null|  null|             null|   null|   null|              null|    null|             null|    null|             null|   null|             75.0|             null|      null|                null|null|             null|              60.5|             75.5|   69.0|             null|             null|             null|null|   null|             null|             null|             null|            72.75|              null|             null|             null|       null|             69.8|             null|   null|             null|    null|             null|         64.0|null|             62.0|            74.25| null|  null|             null|76.14285714285714|             71.0|             null|   null|null|     null|  null|             null|  null|             null|    null|     null|             null|             70.0|             null|     null|             null|             null|  null|             67.0|             null|             null|             66.0|  null|      null| null|     null|             null|             null|  null|  null|   null|   null| null|         null|     null|      null|             null|             null| null|      null|     null|             null|   null|             null|      null|             null|      null|   null|             72.0|         null|             73.0|     null| null|             72.0|             67.0|             77.0|null|     null|             null|             null|68.0|       null|             null|             82.0|       null| null|               70.0|             null|             76.0|  null|                 null|              67.0|             66.0|             null|             null|        null|             null|             null|             null|       null|            77.25|          null|    null| null|    null|66.77777777777777|             68.0| null|    null|    null|             null|             null|   null|             null|  null|             null|                null|             null|             null|      null|             null|             64.0|  null|             null|\n",
            "|     LCM|       null|             71.0|             76.0|   null|             null|             null|            74.52|   null|             70.0|72.44444444444444|      null|    null|   75.0|78.14285714285714|  null|             null|   null|   68.0|             75.75|    null|             76.5|    null|             null|   null|             69.0|             73.0|      null|                null|null|             71.8|              68.0|            71.25|   null|             69.0|             null|85.33333333333333|null|   69.0|             null|72.33333333333333|             null|72.45454545454545|              null|             74.0|             null|       null|70.75757575757575|             80.0|   null|             null|    null|             83.0|         68.0|null|67.33333333333333|75.29411764705883| 78.5|  null|             null|73.11764705882354|             76.0|             null|   null|null|     null|  null|             null|  null|             null|    null|     null|             78.0|             72.0|             71.0|     null|             null|             74.0|  72.0|73.42105263157895|             73.6|             null|65.41666666666667|  null|      null| null|     null|67.54545454545455|             77.0|  null|  null|   null|   null| null|         null|     null|      null|             null|             null| null|      null|     null|             77.5|   null|             null|      null|             80.0|      null|   null|             73.1|         null|             66.0|     null| null|             73.0|             67.0|71.36363636363636|null|     null|             null|             75.5|null|       null|             75.2|77.44444444444444|       null| null|               64.8|             null|             75.0|  71.0|                 null|61.333333333333336|70.57142857142857|             73.2|             75.0|        null|             87.0|             83.0|             72.0|       null|75.28571428571429|          72.0|    null| null|    67.0|          70.3125|             74.5| 72.0|    null|    null|             null|             null|   70.0|             69.0|  74.0|             null|                null|             79.0|             78.0|      null|             null|             64.0|  null|             83.0|\n",
            "|      LM|       70.0|73.66666666666667|74.66666666666667|   null|             72.0|             65.0|         74.40625|   69.5|69.54545454545455|69.29411764705883|      68.0|    null|   null|75.31818181818181|  null|             null|   63.0|   70.0| 72.33333333333333|    null|74.43333333333334|    71.0|             null|   null|71.16666666666667|67.85714285714286|      80.0|                null|null| 71.0952380952381| 63.65384615384615|71.61702127659575|   60.0|72.33333333333333|             null|             73.0|null|   71.0|             75.0|             72.2|73.28571428571429|69.26666666666667|              76.0|             72.2|             75.6|       null| 69.6701030927835|             null|   null|             null|    null|71.66666666666667|         null|null|             72.0|74.79591836734694| 82.5|  71.0|             75.5|71.09574468085107|73.57142857142857|             73.0|   null|null|     null|  67.5|             null|  null|             null|    74.0|     null|             72.0|             71.0|             66.0|     null|             79.0|72.33333333333333|  72.0|72.88888888888889|             74.2|71.66666666666667|69.02857142857142|  null|      null| 73.5|     null|67.14285714285714|             78.0|  null|  null|   null|   null| 73.0|         null|     null|      null|             null|             77.0| 63.0|      null|     null|71.52173913043478|   null|             79.0|      null|             73.0|      null|   null|73.36363636363636|         null|             null|     null| null|75.81818181818181|             71.0|71.44444444444444|null|     null|             null|             74.8|74.5|       null|             69.4|             74.5|       null| null|  68.91304347826087|71.16666666666667|72.33333333333333|  null|                 null|  66.5909090909091|          72.3125|77.33333333333333|71.55555555555556|        null|            70.75|             81.0|             72.0|       null|74.13157894736842|          null|    null| null|    null|69.16666666666667|70.81818181818181| null|    72.0|    null|             null|             74.0|   71.0|72.11538461538461|  null|             71.0|                null|72.46666666666667|73.71428571428571|      null|            74.25|             73.5|  null|             null|\n",
            "|     RDM|       null|             null|71.33333333333333|   null|             null|             null|             73.5|   null|             77.0|72.85714285714286|      null|    null|   null|             null|  null|             null|   null|   null|              null|    null|74.04545454545455|    73.0|             null|   null|             78.0|             null|      68.5|                null|null|             69.8| 64.33333333333333|72.08333333333333|   70.0|             null|             null|             62.0|76.0|   null|             null|             83.0|             66.0|             70.0|              null|             73.5|             79.0|       70.0|71.84615384615384|             null|   null|             null|    null|             76.0|         null|null|             null|75.78947368421052| 76.0|  null|             null|70.54166666666667|             74.5|             81.5|   null|null|     null|  null|             null|  null|             null|    null|     null|             null|             64.0|             null|     null|             null|             null|  null|            74.75|             78.0|             null|            67.75|  null|      null| null|     null|             59.0|             77.0|  null|  66.0|   null|   null| null|         null|     null|      null|             77.0|             75.0| null|      null|     null|             73.8|   null|             72.0|      null|             77.0|      null|   null|73.71428571428571|         null|             71.0|     null| null|             79.0|             null|             70.5|null|     null|             null|             75.0|79.0|       null|             71.0|             69.5|       null| null|               66.6|             79.0|             79.5|  null|                 null| 68.33333333333333|             69.0|            75.75|77.66666666666667|        null|             69.0|             70.0|             70.0|       null|             74.3|          null|    null| null|    null|             64.0|70.66666666666667| null|    null|    null|             73.5|             68.0|   null|             72.8|  null|             81.0|                null|            75.25|             67.0|      null|             null|             70.4|  null|             null|\n",
            "|      LF|       null|             null|             null|   null|             null|             null|             82.0|   null|             null|             null|      null|    null|   null|             86.0|  null|             null|   null|   null|              null|    null|             74.0|    null|             null|   null|             null|             null|      null|                null|null|             null|              null|             null|   null|             null|             77.0|             null|null|   null|             null|             null|             null|             null|              null|             null|             null|       null|             null|             null|   null|             66.0|    null|             72.0|         null|null|             null|             null| null|  null|             77.0|             71.0|             null|             null|   null|null|     null|  null|             null|  null|             null|    null|     null|             null|             null|             null|     null|             null|             null|  null|             null|             null|             null|             63.0|  null|      null| null|     null|             null|             null|  null|  null|   null|   null| null|         null|     null|      null|             null|             null| null|      null|     null|             null|   null|             null|      null|             null|      null|   null|             null|         null|             null|     null| null|             null|             null|             null|null|     null|             null|             null|null|       null|             null|             null|       null| null|               null|             null|             null|  null|                 null|              null|             null|             null|             null|        null|             null|             null|             null|       null|             84.0|          null|    null| null|    null|             null|             null| null|    null|    null|             null|             null|   null|             null|  null|             null|                null|             null|             null|      null|             null|             null|  null|             null|\n",
            "|     CAM|       66.0|            70.75|            74.25|   null|             null|             null|74.78260869565217|   null|            71.25|73.16666666666667|      null|    null|   70.0|74.08333333333333|  null|             null|   null|   70.5|              70.8|    null|71.80246913580247|    68.0|             70.5|   67.0|77.66666666666667|69.33333333333333|      null|                null|null|74.78571428571429|62.666666666666664|             70.4|   null|             69.5|             null|78.66666666666667|null|   null|             null|73.33333333333333|             76.0|72.71428571428571|              null|             73.5|             null|       null|72.47222222222223|             75.0|   null|             61.0|    null|             75.0|         null|null|            72.25|73.41176470588235| null|  null|72.33333333333333|73.33870967741936|             70.5|77.28571428571429|   null|null|     null|  null|             null|  null|             60.0|    null|     null|             78.0|             73.5|             null|     74.0|             null|             null|  74.0|            71.96|             70.5|             69.0|68.57142857142857|  null|      65.0| null|     null| 68.3529411764706|             68.0|  null|  null|   null|   null| 73.0|         null|     null|      null|             65.0|             null| null|      null|     null|             71.2|   74.0|             null|      null|             75.4|      null|   null|72.86842105263158|         null|             70.0|     null| 63.0|             72.0|             69.0|            69.25|null|     null|             null|             77.5|76.5|       null|70.94117647058823|           77.625|       null| null|  68.94444444444444|             78.0|79.33333333333333|  null|                 null| 68.93333333333334|69.81818181818181|             null|            74.25|        null|             80.5|72.28571428571429|74.28571428571429|       null|74.49122807017544|          null|    null| null|    null|70.16666666666667|71.29411764705883| 73.0|    null|    null|             null|             72.0|   72.5|73.52631578947368|  null|             79.0|                78.0|73.07692307692308|74.27272727272727|      null|            73.25|            77.75|  74.0|             null|\n",
            "|     RAM|       null|             null|             null|   null|             null|             null|             null|   null|             null|             null|      null|    null|   null|             null|  null|             null|   null|   null|              null|    null|72.42857142857143|    null|             null|   null|             null|             null|      null|                null|null|             null|              null|             76.5|   null|             null|             null|             null|null|   null|             null|             null|             null|             null|              null|             null|             null|       null|             null|             null|   null|             null|    null|             null|         null|null|             null|             null| null|  null|             null|             72.0|             null|             null|   null|null|     null|  null|             null|  null|             null|    null|     null|             null|             null|             null|     null|             null|             null|  null|             null|             null|             null|             67.0|  null|      null| null|     null|             null|             null|  null|  null|   null|   null| null|         null|     null|      null|             null|             null| null|      null|     null|             null|   null|             null|      null|             86.0|      null|   null|             null|         null|             null|     null| null|             null|             null|             null|null|     null|             null|             null|null|       null|             null|             null|       null| null|               null|             null|             null|  null|                 null|              null|             null|             null|             null|        null|             null|             null|             null|       null|             null|          null|    null| null|    null|             null|             null| null|    null|    null|             null|             null|   null|             null|  null|             null|                null|             null|             null|      null|             71.0|             null|  null|             null|\n",
            "|      LB|       64.0|             66.0|            73.75|   null|             75.0|             null|72.22033898305085|   null|68.28571428571429|69.47058823529412|      null|    null|   null|71.36363636363636|  null|             69.0|   null|   70.0| 71.33333333333333|    null|73.82089552238806|    68.0|             73.0|   null|             72.0|             69.2|      null|                null|null|69.26829268292683| 63.63333333333333|68.90566037735849|   null|             69.0|             72.0|74.55555555555556|64.0|   74.0|             null|72.66666666666667|72.66666666666667|            68.72|              null|75.33333333333333|69.33333333333333|       null|70.08064516129032|             75.0|   null|             66.0|    null|             null|         null|null|            68.25|72.58974358974359| 64.5|  null|             null| 71.0506329113924|73.71428571428571|             74.2|   null|null|     68.0|  71.5|             67.0|  null|             null|    70.0|     null|             71.0|71.66666666666667|             65.0|     null|             73.0|             75.0|  69.5|71.74545454545455|             72.6|             70.5|67.53846153846153|  null|      66.0| 66.0|     null|67.77272727272727|             75.0|  null|  null|   null|   null| null|         null|     66.0|      null|             67.0|71.33333333333333| null|      72.0|     null|71.55555555555556|   null|             62.0|      null|             75.0|      70.0|   null|         71.96875|         null|             63.0|     null| null|             70.0|             67.2|68.17391304347827|null|     null|             null|             73.2|71.0|       68.0|67.13636363636364|73.11764705882354|       null| null|  65.51851851851852|70.66666666666667|             75.0|  null|                 null|              65.0|70.61904761904762|           70.625|             70.0|        null|67.33333333333333|             73.0|           67.875|       null|74.27160493827161|          null|    null| null|    null|67.58333333333333|             69.0| 64.0|    null|    62.0|             null|             null|   70.0|70.34482758620689|  64.0|             76.4|                null|69.11111111111111|             75.4|      null|             72.0|71.83333333333333|  null|             68.0|\n",
            "|      LW|       null|             64.0|73.66666666666667|   null|             70.5|             null|75.18518518518519|   null|66.44444444444444|72.33333333333333|      null|    null|   null|           73.625|  null|             null|   null|   null| 69.66666666666667|    null|             77.2|    66.0|             84.0|   76.0|            68.25|             null|      null|                null|78.0|69.84615384615384| 65.42857142857143|            71.25|   null|             75.0|             65.0|79.66666666666667|76.0|   67.5|             null|             75.0|             74.0|             74.5|              null|             74.0|             71.0|       74.0|73.94444444444444|             null|   null|             null|    null|             null|         66.0|null|             null|          72.8125| null|  68.5|             71.0|76.41666666666667|             72.0|             77.0|   null|null|     null|  80.0|             73.0|  null|             null|    null|     null|             80.0|             72.0|             66.0|     null|             68.0|             null|  null|         73.65625|             75.0|             68.0|             72.0|  null|      null| null|     null|69.14285714285714|73.33333333333333|  null|  null|   null|   null| 72.0|         null|     null|      null|             null|             73.5| null|      null|     null|             75.0|   null|             null|      null|69.66666666666667|      null|   null|             76.4|         null|             66.5|     null| null|79.66666666666667|             null|69.78571428571429|null|     null|             null|             71.5|76.0|       null|             null|             76.6|       null| null|  72.33333333333333|             80.0|             null|  null|                 null|              66.0|             76.0|             75.0|             76.5|        null|             null|             80.0|             69.6|       null|76.53846153846153|          null|    null| null|    72.0|69.28571428571429|             71.0| null|    null|    70.0|             70.0|             null|   null|75.33333333333333|  70.0|             79.0|                null|73.83333333333333|             75.0|      null|             69.0|             79.0|  null|             73.0|\n",
            "|     RCM|       null|             75.0|             76.0|   null|             null|             null|72.94444444444444|   null|             72.5|             69.6|      null|    null|   null|76.28571428571429|  null|             68.0|   null|   67.0|              73.5|    null|             75.8|    null|             null|   null|             73.5|             68.0|      null|                null|null|             71.4|63.857142857142854|73.54545454545455|   null|             null|             null|             81.0|null|   null|             null|             null|             null|71.44444444444444|              null|             76.0|             71.0|       null|70.29729729729729|             78.0|   null|             null|    null|             null|         null|null|             75.0|72.61538461538461| 75.0|  null|             null|76.77777777777777|            69.75|             null|   null|null|     null|  null|             null|  null|             null|    72.0|     null|             76.0|69.66666666666667|             67.0|     null|             null|             null|  null|           72.875|80.33333333333333|             null|66.61538461538461|  null|      70.0| null|     null|69.81818181818181|             null|  null|  null|   null|   null| null|         null|     null|      null|             null|             84.0| null|      null|     null|75.83333333333333|   null|             null|      null|             75.0|      null|   null|             73.5|         null|             73.0|     null| null|             79.2|             68.0|71.81818181818181|null|     null|             71.0|             71.0|null|       null|             73.5|75.57142857142857|       null| null|  65.84615384615384|             null|             null|  null|                 null|              64.0|             70.6|             70.5|             73.5|        null|             null|             null|             69.0|       null|            76.75|          null|    null| null|    null|70.46153846153847|            74.75| null|    null|    null|             null|             null|   81.0|             70.5|  70.0|             81.0|                null|73.83333333333333|76.14285714285714|      null|             null|             64.0|  null|             74.0|\n",
            "|      GK|       null|             77.5|             67.6|   null|             null|             null|71.76288659793815|   null|             67.0| 68.1590909090909|      null|    null|   69.0|            72.25|  null|             70.5|   null|   69.0|              70.4|    null|72.66176470588235|    65.2|             77.0|   null|             75.2|66.11111111111111|      null|                null|null|69.30952380952381|  62.9811320754717|69.21153846153847|   null|             61.0|             77.0| 72.6923076923077|75.0|   71.5|             null|             71.5|             65.0|68.91428571428571|              null|72.33333333333333|68.66666666666667|       null| 68.2183908045977|             68.0|   null|             72.5|    null|             72.0|         null|null|           70.875|72.01980198019803| 65.0|  73.0|             70.0|70.90243902439025|             67.0| 74.3529411764706|   null|null|     68.0|  65.0|             null|  null|             null|    70.0|     null|             73.2|71.33333333333333|64.66666666666667|     null|68.33333333333333|             null|  67.0| 71.3695652173913|            68.25|             78.0|63.18032786885246|  null|      null| null|     null|            67.95|             72.0|  null|  68.0|   null|   null| null|         null|     74.0|      null|             null|             66.0| null|      null|     null| 70.1086956521739|   72.0|             71.0|      null|             67.4|      null|   68.0|71.19642857142857|         null|             67.0|     null| null|             82.0|68.42857142857143|68.51612903225806|72.0|     null|             null|73.66666666666667|71.0|       75.0|67.77966101694915|         75.53125|       null| null|   65.8974358974359|             75.6|74.92857142857143|  null|                 null| 64.38297872340425| 66.9047619047619|           72.125|71.77777777777777|        null|69.42857142857143|             79.0|69.57142857142857|       null|73.88793103448276|          null|    null| null|    null|68.32608695652173|70.84848484848484| null|    null|    null|             null|             53.0|   73.0|69.87234042553192|  null|             73.1|                null|67.84722222222223|             72.5|      null|            75.25|67.71428571428571|  null|             null|\n",
            "|      RB|       null|             75.0|             63.0|   null|             null|             71.5|            71.98|   72.0|66.21428571428571| 69.0909090909091|      62.0|    null|   null|             72.0|  null|             null|   null|   70.0|              71.0|    null|72.57142857142857|    69.0|             77.0|   null|71.66666666666667|             70.0|      67.0|                null|null|69.13793103448276|62.476190476190474|             71.0|   70.0|             null|             68.5|            76.75|null|   71.0|             67.0|             72.5|             78.0|             69.6|              null|             68.5|             71.0|       null|70.25210084033614|             null|   null|             66.0|    64.0|             71.0|         null|null|             64.5|72.72972972972973| 71.0|  65.0|             76.0|70.62650602409639|            71.75|71.83333333333333|   null|67.0|     null|  null|             72.0|  null|             70.0|    69.0|     null|             70.5|             66.0|             66.0|     null|             72.0|             null|  null|72.57894736842105|             75.5|67.66666666666667|66.93548387096774|  null|      65.0| null|     null|66.05555555555556|             69.0|  null|  null|   null|   null| null|         66.0|     null|      72.0|             72.0|             75.5| null|      66.0|     null|69.39473684210526|   null|             69.0|      null|             72.0|      null|   78.0|73.35135135135135|         null|66.66666666666667|     null| null|             73.0|             68.8|69.78260869565217|null|     null|             80.0|             72.5|73.0|       null|68.03225806451613|74.92857142857143|       null| null|  64.79166666666667|             74.0|76.14285714285714|  null|                 null| 66.67567567567568|68.73684210526316|           72.625|72.44444444444444|        70.0|             75.0|             69.5|             68.5|       null|74.37931034482759|          56.0|    68.0| null|    69.5|69.61111111111111|70.73913043478261| null|    null|    null|             null|             null|   69.5|            71.75|  64.0|            74.25|                null|69.65789473684211|72.11111111111111|      null|71.83333333333333| 68.3076923076923|  null|             72.0|\n",
            "|      RS|       null|             71.0|             null|   null|             66.0|             null|             73.8|   null|             66.5|70.66666666666667|      66.0|    null|   null|             77.0|  null|             76.5|   null|   73.0|              null|    null|             74.0|    null|             null|   null|             81.0|             77.0|      null|                null|null|             76.0|              67.0|77.42857142857143|   null|             null|             null|             71.0|null|   null|             null|             73.0|             70.0|             67.5|              null|             73.0|             null|       null|67.10714285714286|             null|   null|             null|    null|             null|         null|71.0|             null|            77.75| null|  null|             null|             71.0|             75.0|             null|   null|null|     null|  null|             null|  null|             null|    null|     null|             null|             null|             64.0|     null|             null|             null|  80.0|75.23529411764706|            75.25|             62.0|             73.0|  null|      null| null|     null|65.66666666666667|             null|  null|  null|   null|   null| null|         null|     null|      null|             null|             80.0| null|      null|     null|75.66666666666667|   null|             null|      67.0|             70.0|      null|   null|             71.0|         null|             70.0|     null| null|             73.0|             68.0|             73.0|null|     null|             70.0|             null|null|       null|71.33333333333333|             77.0|       null| null|               71.5|             null|             75.5|  null|                 null| 67.33333333333333|            71.75|             68.5|             73.5|        null|             null|             null|             null|       null|77.27272727272727|          null|    null| null|    null|73.33333333333333|             null| null|    null|    null|             null|             null|   null|             69.5|  null|             null|                null|             76.0|            74.75|      null|             74.5|             67.0|  null|             75.0|\n",
            "|     LCB|       null|             null|             69.0|   null|             72.0|             null|73.91428571428571|   null|             67.6|71.58333333333333|      null|    null|   null|             75.0|  null|             null|   null|   72.0|              68.5|    null|74.48936170212765|    69.0|             76.0|   null|             72.8|             66.0|      72.5|                null|null|73.15384615384616| 66.72727272727273| 72.8076923076923|   null|             69.0|             71.5|77.66666666666667|null|   null|             78.0|             75.0|             69.0|70.84615384615384|              null|72.66666666666667|             72.5|       null|70.92592592592592|             null|   null|             69.0|    null|             null|         null|null|             67.5|76.02702702702703| null|  81.0|             73.0|72.82051282051282|             76.5|             75.0|   68.0|null|     null|  73.0|             null|  null|             null|    null|     null|             75.0|             73.0|             62.0|     null|             67.0|             null|  null|72.88888888888889|             75.0|             74.0|67.85714285714286|  null|      null| null|     null|             66.6|             null|  null|  null|   66.0|   null| null|         null|     null|      null|             null|             null| null|      null|     null|             72.4|   74.0|             69.0|      null|            68.25|      75.0|   null|            75.05|         71.0|             67.0|     66.0| null|             null|             65.0|70.06666666666666|null|     null|             68.0|71.66666666666667|74.5|       null|             68.0|73.71428571428571|       null| null|  68.66666666666667|             74.5|             73.0|  null|                 null|              67.6|72.27272727272727|             75.6|72.88888888888889|        null|79.33333333333333|             74.5|             69.0|       null|74.70967741935483|          null|    null| null|    null|          67.5625|72.16666666666667| null|    null|    null|             null|             null|   76.5|73.83333333333333|  null|             78.0|                null|73.07142857142857|             73.5|      null|             78.0|            72.75|  null|             null|\n",
            "|      CM|       71.0|            71.75|77.66666666666667|   null|             null|             null|73.08695652173913|   null|67.71428571428571|68.70588235294117|      null|    null|   null|74.21428571428571|  null|             null|   null|   72.5|              68.8|    68.0|             76.0|    66.5|             77.0|   null|             72.5|             68.5|      74.5|                85.0|null|70.17647058823529|62.432432432432435|69.77777777777777|   73.0|             null|70.33333333333333|72.63636363636364|null|   null|             null|74.36363636363636|             70.0|69.21212121212122|              null|             71.0|             73.0|       64.0|69.79591836734694|             null|   null|             null|    null|             66.0|         null|null|70.66666666666667|73.91379310344827| null|  null|             null|74.03333333333333|74.26666666666667|             73.0|   null|null|     null|  82.0|             68.0|  63.0|             69.0|    null|     71.0|             72.5|             72.5|             61.0|     null|             79.0|             64.0|  76.5|72.11111111111111|             74.0|             66.5|65.92105263157895|  null|      null| null|     null| 65.5952380952381|             74.0|  null|  null|   null|   null| null|         71.0|     68.0|      76.0|             64.0|             76.0| null|      null|     null|70.36842105263158|   67.0|             75.5|      68.0|           75.125|      null|   null|72.57142857142857|         null|             68.0|     null| null|65.16666666666667|             72.0|68.91304347826087|null|     null|             null|70.66666666666667|71.5|       null|67.84615384615384|75.44444444444444|       null| null|             67.375|             72.2|             75.0|  null|                 null| 68.61904761904762| 71.3030303030303|             71.1|77.88888888888889|        null|74.16666666666667|             71.0|72.83333333333333|       null|          74.7875|          null|    null| null|    null|68.51282051282051|           72.625| 64.0|    null|    63.0|             null|             null|   69.0|71.44444444444444|  null|74.71428571428571|                null|70.52631578947368|71.33333333333333|      67.5|             72.6|             67.9|  76.0|             null|\n",
            "|      RW|       null|             72.5|             76.6|   null|             null|             null|73.20689655172414|   70.5|             68.6|             71.0|      null|    null|   null|78.16666666666667|  61.0|             null|   null|   null|              75.0|    null|76.42857142857143|    null|             null|   null|             null|             64.0|      null|                null|null|70.82352941176471| 63.44444444444444|            74.75|   null|             67.0|             67.0|             null|null|   null|             null|             75.0|             77.5|             76.2|              null|             72.0|             null|       null|74.73684210526316|             null|   null|             null|    null|             null|         null|null|             65.5|             74.7| null|  null|             81.0|             73.0|           72.375|             70.0|   null|null|     null|  null|             74.5|  null|             78.0|    null|     null|70.66666666666667|             74.5|             null|     null|             null|             null|  null| 76.3157894736842|             75.8|             null|             65.0|  null|      null| 66.0|     66.0|             70.0|             83.0|  null|  null|   null|   null| 76.0|         null|     null|      null|             67.0|             null| null|      null|     null|            73.75|   null|             70.0|      null|             null|      76.0|   null|74.57142857142857|         null|             62.0|     null| null|             75.2|             null|             70.4|null|     null|             null|             79.0|76.0|       null|             null|76.53846153846153|       null| null|               null|             78.0|             76.0|  null|                 null|              null|             70.0|             69.0|             83.0|        null|             75.0|             71.0|74.66666666666667|       null|             80.4|          null|    null| null|    null|66.07692307692308|75.66666666666667| null|    null|    null|             65.0|             null|   80.0|             71.0|  null|             null|                null|             72.5|            71.75|      null|            76.25|             76.5|  68.0|             null|\n",
            "|     RCB|       null|             68.0|             74.5|   null|             65.0|             null|73.05405405405405|   null|             69.5| 70.0909090909091|      null|    null|   null|             75.5|  null|             73.0|   null|   66.0|              69.0|    null| 75.2051282051282|    69.0|             70.0|   null|70.66666666666667|             71.0|      75.0|                null|null|            70.25|              67.0|            72.75|   null|             66.0|             75.5|71.55555555555556|null|   null|             null|            69.75|             76.0|             72.0|              null|             null|             67.0|       null|71.44642857142857|             null|   null|             null|    null|             null|         null|null|             72.0|75.72413793103448| null|  null|             75.0|72.72916666666667|             72.0|             78.0|   null|null|     null|  65.5|             null|  null|             null|    null|     null|             81.0|             70.0|             71.0|     null|             73.0|             null|  null|74.08333333333333|             74.0|             71.0|69.93333333333334|  null|      null| null|     null|             68.5|             null|  null|  64.0|   null|   null| null|         null|     null|      73.0|             null|             65.0| null|      null|     null|             73.7|   null|             null|      69.0|             71.5|      74.0|   null|73.61111111111111|         null|             67.0|     null| null|            70.25|             71.0|          69.1875|null|     null|             null|76.14285714285714|71.0|       null|70.81818181818181|             75.0|       null| null|   65.3076923076923|             71.5|             80.0|  null|                 null|              67.5|             67.5|            75.25|             74.8|        null|75.33333333333333|             69.0|             67.0|       null|74.52777777777777|          null|    null| null|    null|70.13333333333334|74.11111111111111| null|    null|    null|             79.0|             null|   null|74.22222222222223|  null|             73.0|                null|72.54545454545455|75.71428571428571|      null|             76.0|69.85714285714286|  74.0|             null|\n",
            "|     CDM|       null|             69.5|            70.25|   null|             null|             null|72.76363636363637|   null|          66.8125|69.63157894736842|      71.0|    null|   null|73.71428571428571|  null|             null|   null|   67.0|              82.0|    null|72.67441860465117|    63.5|             64.0|   null|           74.125|             71.8|      67.0|                null|null|             71.8|62.916666666666664|70.88888888888889|   74.0|             69.0|             null|75.11111111111111|null|   null|             null|             69.5|71.66666666666667|             74.0|              null|            69.25|             73.0|       null|            71.88|             null|   null|             null|    null|             76.0|         null|null|             75.0|73.03174603174604| 67.0|  74.0|             73.0|71.58227848101266|74.83333333333333|72.66666666666667|   null|null|     null|  71.0|            76.25|  66.0|             null|    null|     null|72.66666666666667|             68.0|             60.0|     null|             76.0|             null|  72.0|          76.0625|           76.125|             null|65.89473684210526|  null|      null| 74.0|     null|65.33333333333333|             66.0|  null|  null|   null|   null| null|         null|     60.0|      71.0|             63.0|72.66666666666667| null|      null|     null|           70.625|   null|             79.0|      null|             69.8|      null|   null|72.26666666666667|         null|             67.0|     null| null|73.85714285714286|            72.75|71.77777777777777|null|     null|             null|             71.0|74.5|       null|67.29629629629629|74.83333333333333|       null| null|  68.77272727272727|             80.0|             75.2|  null|                 null| 66.06666666666666|             72.6|             73.0|             80.0|        null|             70.0|             77.5|             73.5|       null|74.92307692307692|          null|    null| 60.0|    null|             70.0|73.88888888888889| 67.0|    null|    null|             68.5|             null|   null|71.79310344827586|  null|72.66666666666667|                null|71.08333333333333|71.14285714285714|      null|             75.0|             70.6|  null|             null|\n",
            "|      LS|       null|             null|             null|   null|             null|             null|75.23076923076923|   73.0|             64.0|             82.0|      null|    64.5|   null|             76.0|  null|             null|   null|   null|              77.0|    null|75.33333333333333|    66.0|             null|   null|             80.0|             62.0|      null|                null|null|             72.5|              null|             74.0|   null|             70.0|             null|             65.0|null|   null|             73.0|             null|             null|            70.25|              null|             75.0|             null|       null|68.92307692307692|             null|   72.0|             null|    null|             null|         null|null|             66.0|             74.8| null|  76.0|             null|             71.0|             72.0|             null|   null|null|     null|  null|             69.0|  null|             null|    null|     null|             null|             null|             67.0|     null|             null|             null|  80.0|          73.5625|             76.0|             64.0|            70.75|  null|      null| null|     null|             70.0|             null|  null|  null|   null|   null| null|         null|     null|      null|             null|             null| null|      null|     null|             80.5|   null|             72.5|      null|             78.0|      null|   null|71.33333333333333|         null|             null|     null| null|             70.0|             null|71.33333333333333|null|     null|             null|             71.0|null|       null|             75.0|             79.0|       null| null|               67.6|             75.0|             null|  null|                 null|              null|             69.0|             74.5|             86.0|        null|             null|             null|             null|       null|             78.2|          null|    null| null|    null|73.66666666666667|             66.0| 78.0|    null|    68.0|             null|             null|   67.0|             null|  null|             73.0|                null|             70.0|             74.5|      null|             84.0|             null|  null|             null|\n",
            "|      CB|       null|74.33333333333333|             69.5|   64.0|             79.0|             null|72.85858585858585|   null| 69.0952380952381|         70.28125|      null|    66.0|   null|75.04545454545455|  null|             72.0|   null|   74.0|              74.6|    null| 71.9090909090909|    63.0|             null|   null|73.08333333333333|             70.2|      null|                72.0|null|71.17241379310344| 64.69444444444444|71.38461538461539|   null|69.66666666666667|            70.75|            73.25|null|   66.0|67.66666666666667|             73.1|             72.6|69.94594594594595|              null|             71.5|             76.5|       75.0| 70.2919254658385|             null|   null|70.66666666666667|    null|             69.0|         68.0|null|67.71428571428571|72.83870967741936| null|  79.0|             77.5|        71.359375|             72.5|74.13333333333334|   null|null|     67.0|  77.5|             74.0|  70.0|             73.0|    null|     62.0|             68.5|             71.0|             61.0|     null|             null|             68.0|  null| 72.1219512195122|             72.4|             72.0|64.63265306122449|  null|      null| 64.0|     null|67.07692307692308|             73.5|  null|  54.0|   null|   null| null|         null|     64.0|      65.0|72.33333333333333|             72.5| null|      70.0|     69.0|70.88372093023256|   null|75.66666666666667|      null|            78.25|      null|   null|73.30952380952381|         null|           67.375|     null| null|73.22222222222223|           67.375|68.06451612903226|null|     null|             69.8|             73.0|77.0|       null|68.82352941176471|75.96153846153847|       63.0| 68.0|             66.875|             73.8|             76.5|  null|                 null| 66.48780487804878|            69.72|             72.3|            71.75|        66.0|71.66666666666667|72.57142857142857|             71.0|       null|73.77884615384616|          null|    null| null|    null|           68.225|72.13636363636364| null|    null|    null|             null|             null|   70.5|72.10714285714286|  null|           74.125|                null|69.41666666666667|73.05882352941177|      null|             70.0|          69.8125|  null|             73.0|\n",
            "|     RWB|       null|             null|             82.0|   null|             null|             null|             72.0|   null|             66.0|             66.0|      null|    null|   null|             72.0|  null|             null|   null|   null|              70.0|    null|             null|    null|             null|   null|             74.0|             null|      null|                null|null|             null|61.666666666666664|             74.0|   null|             null|             null|             74.0|null|   null|             null|             81.0|             null|           68.625|              null|             null|             null|       null|67.86666666666666|             null|   null|             null|    null|             null|         null|null|             null|            73.75| null|  null|             null|72.66666666666667|             null|             null|   null|null|     null|  null|             null|  null|             null|    null|     null|             null|             75.0|             null|     null|             null|             null|  null|             72.5|             72.0|             null|             66.0|  70.0|      null| null|     null|             null|             null|  null|  null|   null|   null| null|         null|     null|      null|             null|             null| null|      null|     null|             80.0|   null|             null|      null|             null|      null|   null|             70.5|         null|             61.0|     null| null|             null|             null|             72.0|null|     null|             null|             null|null|       null|             null|             null|       null| null|               71.0|             null|             null|  null|                 null|              65.0|             65.5|             null|             null|        null|             null|             null|             68.0|       null|            78.25|          null|    null| null|    null|             68.0|             71.0| null|    null|    null|             null|             null|   null|             null|  null|             null|                null|             null|             null|      null|             null|             64.0|  null|             null|\n",
            "|      CF|       null|             null|             null|   null|             null|             null|             79.0|   null|             null|             68.0|      null|    null|   null|             null|  null|             null|   null|   null|              null|    null|            78.25|    null|             74.0|   null|             72.0|             null|      null|                null|null|             73.0|              null|             null|   null|             null|             null|             null|null|   75.0|             null|             80.0|             null|             null|              null|             null|             null|       null|             70.0|             null|   null|             null|    null|             null|         null|null|             78.0|             null| null|  null|             null|             73.6|             77.0|             null|   null|null|     null|  null|             null|  null|             null|    null|     null|             null|             81.0|             null|     null|             null|             null|  null|             75.8|             null|             null|           66.625|  null|      null| null|     58.0|70.66666666666667|             73.0|  null|  null|   null|   null| null|         null|     68.0|      null|             null|             null| null|      null|     null|             75.0|   null|             null|      null|             null|      null|   68.0|             null|         null|             null|     null| null|             null|             null|             74.0|null|     null|             null|             null|75.0|       null|             88.0|             null|       null| null|               null|             null|             78.0|  null|                 null|              null|             71.0|             null|             null|        null|             null|             null|             null|       null|            79.25|          null|    null| null|    null|            70.25|             null| null|    null|    null|             null|             null|   null|             75.0|  null|             null|                null|             71.0|             null|      null|             null|             null|  null|             71.0|\n",
            "|      RM|       null|             64.0|            74.75|   null|             68.0|             null| 73.2741935483871|   83.0|70.53846153846153|70.30434782608695|      null|    null|   null|74.26666666666667|  null|             68.0|   null|   72.0|              76.0|    null|75.30434782608695|    71.5|             77.5|   null|             70.5|             74.5|      null|                null|null|72.18181818181819|          65.03125|70.65384615384616|   null|             null|             75.5|76.66666666666667|null|   70.0|             null|             77.0|             72.5|69.18181818181819|              null|             76.0|             82.0|       65.0|69.94782608695652|             null|   null|             63.0|    null|             64.5|         65.5|null|             73.8|74.77551020408163| 68.0|  76.0|             76.0|70.85227272727273|             71.6|76.42857142857143|   null|null|     null|  73.0|             null|  null|             70.0|    78.5|     null|             71.0|             77.5|             67.0|     null|74.33333333333333|             null|  null|73.37037037037037|             81.5|             66.0| 66.8108108108108|  null|      null| null|     null|          68.4375|             70.5|  null|  null|   null|   null| null|         66.0|     71.0|      null|             null|             73.0| null|      null|     null|            72.28|   null|             74.5|      null|             74.8|      null|   null|71.78947368421052|         null|             76.0|     null| 66.0|             77.0|69.85714285714286|           69.125|null|     66.0|             70.5|76.33333333333333|73.0|       null|         68.28125|            76.36|       null| null|               66.7|72.16666666666667|             70.5|  null|                 null| 66.33333333333333|72.42105263157895|             80.2|             69.6|        null|             75.0|             70.6|             66.0|       null|74.86585365853658|          null|    null| 66.0|    null|             70.0|71.41666666666667| 72.0|    null|    68.0|76.66666666666667|             null|   70.0|73.57142857142857|  68.0|             77.5|                null|            72.75|69.57142857142857|      null|73.14285714285714|71.11111111111111|  null|             null|\n",
            "|     LAM|       null|             null|             null|   null|             null|             null|             null|   null|             null|             null|      null|    null|   null|             null|  null|             null|   null|   null|              null|    null|71.46153846153847|    null|             null|   null|             null|             null|      null|                null|null|             null|              null|             81.0|   null|             null|             null|             null|null|   null|             null|             null|             null|             null|              null|             null|             null|       null|             null|             null|   null|             null|    null|             null|         null|null|             null|             null| null|  null|             null|             70.0|             null|             null|   null|null|     null|  null|             null|  null|             null|    null|     null|             null|             null|             null|     null|             null|             null|  null|             null|             null|             null|             69.0|  null|      null| null|     null|             null|             null|  null|  null|   null|   null| null|         null|     null|      null|             null|             null| null|      null|     null|             null|   null|             null|      null|             null|      null|   null|             null|         null|             null|     null| null|             null|             null|             null|null|     null|             null|             null|null|       null|             null|             null|       null| null|               null|             null|             null|  null|                 null|              null|             null|             null|             81.0|        null|             null|             null|             null|       null|             null|          null|    null| null|    null|             null|             null| null|    null|    null|             null|             null|   null|             null|  null|             null|                null|             null|             68.0|      null|             null|             null|  75.0|             null|\n",
            "|     LDM|       null|72.66666666666667|             73.0|   null|             null|             null|           73.375|   null|             70.5|             75.5|      null|    null|   null|             75.5|  null|             71.0|   null|   null|             72.25|    null|            74.16|    57.0|             null|   65.0|             null|             null|      71.0|                71.0|null|            71.25|              60.0|70.81818181818181|   null|             null|             77.0|             84.0|null|   null|             null|             74.0|             null|             69.5|              null|             null|             67.0|       null|70.15384615384616|             null|   null|             null|    null|             83.0|         null|null|             null|74.76470588235294| null|  null|             71.0|71.52173913043478|             76.0|             75.0|   null|null|     null|  82.0|             null|  null|             null|    68.0|     null|             null|             null|             null|     null|             null|             null|  73.0|             70.0|            76.75|             null|             70.0|  null|      null| null|     null|             68.0|             null|  70.0|  null|   null|   null| null|         null|     null|      78.0|             null|             75.0| null|      null|     null|             71.6|   null|             null|      null|             null|      null|   null|78.66666666666667|         null|             null|     null| null|             79.5|             null|             71.0|null|     null|             70.0|             71.0|73.0|       null|67.88888888888889|74.42857142857143|       null| null|               65.6|             73.0|             86.0|  null|                 null| 68.85714285714286|             69.5|             null|             70.0|        null|             76.0|             68.0|             67.0|       null|70.41666666666667|          null|    null| null|    null|             66.0|             81.5| null|    null|    null|             null|             null|   null|            72.75|  null|             77.0|                null|73.33333333333333|             null|      null|             null|             86.0|  null|             null|\n",
            "|      ST|       null|            72.25|            73.75|   null|75.66666666666667|             63.0|           72.928|   70.0|            67.44|68.62962962962963|      67.0|    null|   70.0|75.33333333333333|  null|67.66666666666667|   70.0|   71.0| 72.85714285714286|    null|71.56756756756756|    70.5|67.33333333333333|   null|73.86666666666666|72.28571428571429|      75.0|                null|78.0|70.10416666666667|          63.46875|70.89189189189189|   null|            71.25|            68.25|72.26666666666667|null|   69.5|             65.0|70.88888888888889| 71.9090909090909|69.91304347826087|              85.0|             75.0|             72.0|       null| 69.5575221238938|             null|   65.0|             null|    null|             74.0|         null|null|70.83333333333333|72.45283018867924| 72.0|  79.5|69.66666666666667|           71.125| 75.0909090909091|73.35714285714286|   null|null|     null|  70.5|73.33333333333333|  null|69.66666666666667|    75.0|     null|            72.25|             70.0|             58.5|     null|             75.0|             null|  70.0|            72.75|73.44444444444444|             67.0|67.27272727272727|  null|      null| 74.0|     77.0|68.36111111111111|           69.125|  null|  78.0|   null|   73.0| null|         null|     77.0|      null|             67.0|70.33333333333333| null|      null|     null|72.31428571428572|   79.0|74.66666666666667|      null|71.72727272727273|      null|   null| 73.6829268292683|         null|             70.0|     null| 71.0|73.02941176470588|69.76923076923077| 68.2439024390244|null|     null|68.66666666666667|71.04347826086956|74.0|       null|           69.425|74.66666666666667|       null| null|  66.18604651162791|             73.0|             75.6|  null|                 72.0|              67.1|70.19444444444444|72.27272727272727|73.14285714285714|       72.25|            72.75|70.28571428571429|71.66666666666667|       63.0|73.95412844036697|          62.0|    null| 72.0|    null|69.40816326530613|74.58333333333333| 80.0|    75.0|    null|             73.5|             null|   69.2|72.04166666666667|  null|73.58333333333333|                null|71.08108108108108|            74.55|      null|72.16666666666667|69.93333333333334| 74.25|70.66666666666667|\n",
            "+--------+-----------+-----------------+-----------------+-------+-----------------+-----------------+-----------------+-------+-----------------+-----------------+----------+--------+-------+-----------------+------+-----------------+-------+-------+------------------+--------+-----------------+--------+-----------------+-------+-----------------+-----------------+----------+--------------------+----+-----------------+------------------+-----------------+-------+-----------------+-----------------+-----------------+----+-------+-----------------+-----------------+-----------------+-----------------+------------------+-----------------+-----------------+-----------+-----------------+-----------------+-------+-----------------+--------+-----------------+-------------+----+-----------------+-----------------+-----+------+-----------------+-----------------+-----------------+-----------------+-------+----+---------+------+-----------------+------+-----------------+--------+---------+-----------------+-----------------+-----------------+---------+-----------------+-----------------+------+-----------------+-----------------+-----------------+-----------------+------+----------+-----+---------+-----------------+-----------------+------+------+-------+-------+-----+-------------+---------+----------+-----------------+-----------------+-----+----------+---------+-----------------+-------+-----------------+----------+-----------------+----------+-------+-----------------+-------------+-----------------+---------+-----+-----------------+-----------------+-----------------+----+---------+-----------------+-----------------+----+-----------+-----------------+-----------------+-----------+-----+-------------------+-----------------+-----------------+------+---------------------+------------------+-----------------+-----------------+-----------------+------------+-----------------+-----------------+-----------------+-----------+-----------------+--------------+--------+-----+--------+-----------------+-----------------+-----+--------+--------+-----------------+-----------------+-------+-----------------+------+-----------------+--------------------+-----------------+-----------------+----------+-----------------+-----------------+------+-----------------+\n",
            "\n"
          ],
          "name": "stdout"
        }
      ]
    },
    {
      "cell_type": "code",
      "metadata": {
        "colab": {
          "base_uri": "https://localhost:8080/"
        },
        "id": "tQYaNl1cIhCt",
        "outputId": "5e369e8c-8177-43be-8e7a-b7e1224165c1"
      },
      "source": [
        "# finding the maximum value for each row from all columns excluding Position\n",
        "from pyspark.sql.functions import greatest, col, lit, coalesce, sum\n",
        "#rowmax = sum([coalesce(col(x), lit(0)) for x in pivot_df.columns])\n",
        "rowmax = greatest(*[coalesce(col(x), lit(0)) for x in pivot_df.columns[1:]]) \n",
        "# adding the column containing maximum values\n",
        "pivot_df.withColumn('Position(Maximum_Potential)',rowmax).show(pivot_df.count())"
      ],
      "execution_count": 14,
      "outputs": [
        {
          "output_type": "stream",
          "text": [
            "+--------+-----------+-----------------+-----------------+-------+-----------------+-----------------+-----------------+-------+-----------------+-----------------+----------+--------+-------+-----------------+------+-----------------+-------+-------+------------------+--------+-----------------+--------+-----------------+-------+-----------------+-----------------+----------+------------------------+----+-----------------+------------------+-----------------+-------+-----------------+-----------------+-----------------+----+-------+-----------------+-----------------+-----------------+-----------------+------------------+-----------------+-----------------+-----------+-----------------+-----------------+-------+-----------------+--------+-----------------+-------------+----+-----------------+-----------------+-----+------+-----------------+-----------------+-----------------+-----------------+-------+----+---------+------+-----------------+------+-----------------+--------+---------+-----------------+-----------------+-----------------+---------+-----------------+-----------------+------+-----------------+-----------------+-----------------+-----------------+------+----------+-----+---------+-----------------+-----------------+------+------+-------+-------+-----+-------------+---------+----------+-----------------+-----------------+-----+----------+---------+-----------------+-------+-----------------+----------+-----------------+----------+-------+-----------------+-------------+-----------------+---------+-----+-----------------+-----------------+-----------------+----+---------+-----------------+-----------------+----+-----------+-----------------+-----------------+-----------+-----+-------------------+-----------------+-----------------+------+---------------------+------------------+-----------------+-----------------+-----------------+------------+-----------------+-----------------+-----------------+-----------+-----------------+--------------+--------+-----+--------+-----------------+-----------------+-----+--------+--------+-----------------+-----------------+-------+-----------------+------+-----------------+--------------------+-----------------+-----------------+----------+-----------------+-----------------+------+-----------------+---------------------------+\n",
            "|Position|Afghanistan|          Albania|          Algeria|Andorra|           Angola|Antigua & Barbuda|        Argentina|Armenia|        Australia|          Austria|Azerbaijan|Barbados|Belarus|          Belgium|Belize|            Benin|Bermuda|Bolivia|Bosnia Herzegovina|Botswana|           Brazil|Bulgaria|     Burkina Faso|Burundi|         Cameroon|           Canada|Cape Verde|Central African Republic|Chad|            Chile|          China PR|         Colombia|Comoros|            Congo|       Costa Rica|          Croatia|Cuba|Curacao|           Cyprus|   Czech Republic|         DR Congo|          Denmark|Dominican Republic|          Ecuador|            Egypt|El Salvador|          England|Equatorial Guinea|Eritrea|          Estonia|Ethiopia|    FYR Macedonia|Faroe Islands|Fiji|          Finland|           France|Gabon|Gambia|          Georgia|          Germany|            Ghana|           Greece|Grenada|Guam|Guatemala|Guinea|    Guinea Bissau|Guyana|            Haiti|Honduras|Hong Kong|          Hungary|          Iceland|            India|Indonesia|             Iran|             Iraq|Israel|            Italy|      Ivory Coast|          Jamaica|            Japan|Jordan|Kazakhstan|Kenya|Korea DPR|   Korea Republic|           Kosovo|Kuwait|Latvia|Lebanon|Liberia|Libya|Liechtenstein|Lithuania|Luxembourg|       Madagascar|             Mali|Malta|Mauritania|Mauritius|           Mexico|Moldova|       Montenegro|Montserrat|          Morocco|Mozambique|Namibia|      Netherlands|New Caledonia|      New Zealand|Nicaragua|Niger|          Nigeria| Northern Ireland|           Norway|Oman|Palestine|           Panama|         Paraguay|Peru|Philippines|           Poland|         Portugal|Puerto Rico|Qatar|Republic of Ireland|          Romania|           Russia|Rwanda|S?o Tom�� & Pr��ncipe|      Saudi Arabia|         Scotland|          Senegal|           Serbia|Sierra Leone|         Slovakia|         Slovenia|     South Africa|South Sudan|            Spain|St Kitts Nevis|St Lucia|Sudan|Suriname|           Sweden|      Switzerland|Syria|Tanzania|Thailand|             Togo|Trinidad & Tobago|Tunisia|           Turkey|Uganda|          Ukraine|United Arab Emirates|    United States|          Uruguay|Uzbekistan|        Venezuela|            Wales|Zambia|         Zimbabwe|Position(Maximum_Potential)|\n",
            "+--------+-----------+-----------------+-----------------+-------+-----------------+-----------------+-----------------+-------+-----------------+-----------------+----------+--------+-------+-----------------+------+-----------------+-------+-------+------------------+--------+-----------------+--------+-----------------+-------+-----------------+-----------------+----------+------------------------+----+-----------------+------------------+-----------------+-------+-----------------+-----------------+-----------------+----+-------+-----------------+-----------------+-----------------+-----------------+------------------+-----------------+-----------------+-----------+-----------------+-----------------+-------+-----------------+--------+-----------------+-------------+----+-----------------+-----------------+-----+------+-----------------+-----------------+-----------------+-----------------+-------+----+---------+------+-----------------+------+-----------------+--------+---------+-----------------+-----------------+-----------------+---------+-----------------+-----------------+------+-----------------+-----------------+-----------------+-----------------+------+----------+-----+---------+-----------------+-----------------+------+------+-------+-------+-----+-------------+---------+----------+-----------------+-----------------+-----+----------+---------+-----------------+-------+-----------------+----------+-----------------+----------+-------+-----------------+-------------+-----------------+---------+-----+-----------------+-----------------+-----------------+----+---------+-----------------+-----------------+----+-----------+-----------------+-----------------+-----------+-----+-------------------+-----------------+-----------------+------+---------------------+------------------+-----------------+-----------------+-----------------+------------+-----------------+-----------------+-----------------+-----------+-----------------+--------------+--------+-----+--------+-----------------+-----------------+-----+--------+--------+-----------------+-----------------+-------+-----------------+------+-----------------+--------------------+-----------------+-----------------+----------+-----------------+-----------------+------+-----------------+---------------------------+\n",
            "|      RF|       null|             null|             null|   null|             null|             null|             87.0|   null|             null|             66.0|      null|    null|   null|             82.0|  null|             null|   null|   null|              null|    null|             null|    null|             null|   null|             null|             null|      null|                    null|null|             null|              72.0|             null|   null|             null|             null|             null|null|   null|             null|             null|             null|             null|              null|             null|             null|       null|             null|             null|   null|             null|    null|             null|         null|null|             69.0|             null| null|  null|             null|             78.0|             null|             null|   null|null|     null|  null|             null|  null|             null|    null|     null|             null|             null|             null|     null|             null|             null|  null|             75.0|             null|             null|68.33333333333333|  null|      null| null|     null|             null|             null|  null|  null|   null|   null| null|         null|     null|      null|             null|             null| null|      null|     null|             null|   null|             null|      null|             null|      null|   null|             null|         null|             null|     null| null|             null|             null|             null|null|     null|             null|             null|null|       null|             null|             null|       null| null|               null|             null|             null|  null|                 null|              null|             null|             null|             null|        null|             null|             null|             null|       null|             81.0|          null|    null| null|    null|             75.0|             null| 73.0|    null|    null|             null|             null|   null|             null|  null|             null|                null|             null|             75.0|      null|             null|             null|  null|             null|                       87.0|\n",
            "|     LWB|       null|             null|             null|   null|             null|             null|            75.75|   null|             71.0|             69.0|      null|    null|   null|             null|  null|             null|   null|   null|              null|    null|             null|    null|             null|   null|             75.0|             null|      null|                    null|null|             null|              60.5|             75.5|   69.0|             null|             null|             null|null|   null|             null|             null|             null|            72.75|              null|             null|             null|       null|             69.8|             null|   null|             null|    null|             null|         64.0|null|             62.0|            74.25| null|  null|             null|76.14285714285714|             71.0|             null|   null|null|     null|  null|             null|  null|             null|    null|     null|             null|             70.0|             null|     null|             null|             null|  null|             67.0|             null|             null|             66.0|  null|      null| null|     null|             null|             null|  null|  null|   null|   null| null|         null|     null|      null|             null|             null| null|      null|     null|             null|   null|             null|      null|             null|      null|   null|             72.0|         null|             73.0|     null| null|             72.0|             67.0|             77.0|null|     null|             null|             null|68.0|       null|             null|             82.0|       null| null|               70.0|             null|             76.0|  null|                 null|              67.0|             66.0|             null|             null|        null|             null|             null|             null|       null|            77.25|          null|    null| null|    null|66.77777777777777|             68.0| null|    null|    null|             null|             null|   null|             null|  null|             null|                null|             null|             null|      null|             null|             64.0|  null|             null|                       82.0|\n",
            "|     LCM|       null|             71.0|             76.0|   null|             null|             null|            74.52|   null|             70.0|72.44444444444444|      null|    null|   75.0|78.14285714285714|  null|             null|   null|   68.0|             75.75|    null|             76.5|    null|             null|   null|             69.0|             73.0|      null|                    null|null|             71.8|              68.0|            71.25|   null|             69.0|             null|85.33333333333333|null|   69.0|             null|72.33333333333333|             null|72.45454545454545|              null|             74.0|             null|       null|70.75757575757575|             80.0|   null|             null|    null|             83.0|         68.0|null|67.33333333333333|75.29411764705883| 78.5|  null|             null|73.11764705882354|             76.0|             null|   null|null|     null|  null|             null|  null|             null|    null|     null|             78.0|             72.0|             71.0|     null|             null|             74.0|  72.0|73.42105263157895|             73.6|             null|65.41666666666667|  null|      null| null|     null|67.54545454545455|             77.0|  null|  null|   null|   null| null|         null|     null|      null|             null|             null| null|      null|     null|             77.5|   null|             null|      null|             80.0|      null|   null|             73.1|         null|             66.0|     null| null|             73.0|             67.0|71.36363636363636|null|     null|             null|             75.5|null|       null|             75.2|77.44444444444444|       null| null|               64.8|             null|             75.0|  71.0|                 null|61.333333333333336|70.57142857142857|             73.2|             75.0|        null|             87.0|             83.0|             72.0|       null|75.28571428571429|          72.0|    null| null|    67.0|          70.3125|             74.5| 72.0|    null|    null|             null|             null|   70.0|             69.0|  74.0|             null|                null|             79.0|             78.0|      null|             null|             64.0|  null|             83.0|                       87.0|\n",
            "|      LM|       70.0|73.66666666666667|74.66666666666667|   null|             72.0|             65.0|         74.40625|   69.5|69.54545454545455|69.29411764705883|      68.0|    null|   null|75.31818181818181|  null|             null|   63.0|   70.0| 72.33333333333333|    null|74.43333333333334|    71.0|             null|   null|71.16666666666667|67.85714285714286|      80.0|                    null|null| 71.0952380952381| 63.65384615384615|71.61702127659575|   60.0|72.33333333333333|             null|             73.0|null|   71.0|             75.0|             72.2|73.28571428571429|69.26666666666667|              76.0|             72.2|             75.6|       null| 69.6701030927835|             null|   null|             null|    null|71.66666666666667|         null|null|             72.0|74.79591836734694| 82.5|  71.0|             75.5|71.09574468085107|73.57142857142857|             73.0|   null|null|     null|  67.5|             null|  null|             null|    74.0|     null|             72.0|             71.0|             66.0|     null|             79.0|72.33333333333333|  72.0|72.88888888888889|             74.2|71.66666666666667|69.02857142857142|  null|      null| 73.5|     null|67.14285714285714|             78.0|  null|  null|   null|   null| 73.0|         null|     null|      null|             null|             77.0| 63.0|      null|     null|71.52173913043478|   null|             79.0|      null|             73.0|      null|   null|73.36363636363636|         null|             null|     null| null|75.81818181818181|             71.0|71.44444444444444|null|     null|             null|             74.8|74.5|       null|             69.4|             74.5|       null| null|  68.91304347826087|71.16666666666667|72.33333333333333|  null|                 null|  66.5909090909091|          72.3125|77.33333333333333|71.55555555555556|        null|            70.75|             81.0|             72.0|       null|74.13157894736842|          null|    null| null|    null|69.16666666666667|70.81818181818181| null|    72.0|    null|             null|             74.0|   71.0|72.11538461538461|  null|             71.0|                null|72.46666666666667|73.71428571428571|      null|            74.25|             73.5|  null|             null|                       82.5|\n",
            "|     RDM|       null|             null|71.33333333333333|   null|             null|             null|             73.5|   null|             77.0|72.85714285714286|      null|    null|   null|             null|  null|             null|   null|   null|              null|    null|74.04545454545455|    73.0|             null|   null|             78.0|             null|      68.5|                    null|null|             69.8| 64.33333333333333|72.08333333333333|   70.0|             null|             null|             62.0|76.0|   null|             null|             83.0|             66.0|             70.0|              null|             73.5|             79.0|       70.0|71.84615384615384|             null|   null|             null|    null|             76.0|         null|null|             null|75.78947368421052| 76.0|  null|             null|70.54166666666667|             74.5|             81.5|   null|null|     null|  null|             null|  null|             null|    null|     null|             null|             64.0|             null|     null|             null|             null|  null|            74.75|             78.0|             null|            67.75|  null|      null| null|     null|             59.0|             77.0|  null|  66.0|   null|   null| null|         null|     null|      null|             77.0|             75.0| null|      null|     null|             73.8|   null|             72.0|      null|             77.0|      null|   null|73.71428571428571|         null|             71.0|     null| null|             79.0|             null|             70.5|null|     null|             null|             75.0|79.0|       null|             71.0|             69.5|       null| null|               66.6|             79.0|             79.5|  null|                 null| 68.33333333333333|             69.0|            75.75|77.66666666666667|        null|             69.0|             70.0|             70.0|       null|             74.3|          null|    null| null|    null|             64.0|70.66666666666667| null|    null|    null|             73.5|             68.0|   null|             72.8|  null|             81.0|                null|            75.25|             67.0|      null|             null|             70.4|  null|             null|                       83.0|\n",
            "|      LF|       null|             null|             null|   null|             null|             null|             82.0|   null|             null|             null|      null|    null|   null|             86.0|  null|             null|   null|   null|              null|    null|             74.0|    null|             null|   null|             null|             null|      null|                    null|null|             null|              null|             null|   null|             null|             77.0|             null|null|   null|             null|             null|             null|             null|              null|             null|             null|       null|             null|             null|   null|             66.0|    null|             72.0|         null|null|             null|             null| null|  null|             77.0|             71.0|             null|             null|   null|null|     null|  null|             null|  null|             null|    null|     null|             null|             null|             null|     null|             null|             null|  null|             null|             null|             null|             63.0|  null|      null| null|     null|             null|             null|  null|  null|   null|   null| null|         null|     null|      null|             null|             null| null|      null|     null|             null|   null|             null|      null|             null|      null|   null|             null|         null|             null|     null| null|             null|             null|             null|null|     null|             null|             null|null|       null|             null|             null|       null| null|               null|             null|             null|  null|                 null|              null|             null|             null|             null|        null|             null|             null|             null|       null|             84.0|          null|    null| null|    null|             null|             null| null|    null|    null|             null|             null|   null|             null|  null|             null|                null|             null|             null|      null|             null|             null|  null|             null|                       86.0|\n",
            "|     CAM|       66.0|            70.75|            74.25|   null|             null|             null|74.78260869565217|   null|            71.25|73.16666666666667|      null|    null|   70.0|74.08333333333333|  null|             null|   null|   70.5|              70.8|    null|71.80246913580247|    68.0|             70.5|   67.0|77.66666666666667|69.33333333333333|      null|                    null|null|74.78571428571429|62.666666666666664|             70.4|   null|             69.5|             null|78.66666666666667|null|   null|             null|73.33333333333333|             76.0|72.71428571428571|              null|             73.5|             null|       null|72.47222222222223|             75.0|   null|             61.0|    null|             75.0|         null|null|            72.25|73.41176470588235| null|  null|72.33333333333333|73.33870967741936|             70.5|77.28571428571429|   null|null|     null|  null|             null|  null|             60.0|    null|     null|             78.0|             73.5|             null|     74.0|             null|             null|  74.0|            71.96|             70.5|             69.0|68.57142857142857|  null|      65.0| null|     null| 68.3529411764706|             68.0|  null|  null|   null|   null| 73.0|         null|     null|      null|             65.0|             null| null|      null|     null|             71.2|   74.0|             null|      null|             75.4|      null|   null|72.86842105263158|         null|             70.0|     null| 63.0|             72.0|             69.0|            69.25|null|     null|             null|             77.5|76.5|       null|70.94117647058823|           77.625|       null| null|  68.94444444444444|             78.0|79.33333333333333|  null|                 null| 68.93333333333334|69.81818181818181|             null|            74.25|        null|             80.5|72.28571428571429|74.28571428571429|       null|74.49122807017544|          null|    null| null|    null|70.16666666666667|71.29411764705883| 73.0|    null|    null|             null|             72.0|   72.5|73.52631578947368|  null|             79.0|                78.0|73.07692307692308|74.27272727272727|      null|            73.25|            77.75|  74.0|             null|                       80.5|\n",
            "|     RAM|       null|             null|             null|   null|             null|             null|             null|   null|             null|             null|      null|    null|   null|             null|  null|             null|   null|   null|              null|    null|72.42857142857143|    null|             null|   null|             null|             null|      null|                    null|null|             null|              null|             76.5|   null|             null|             null|             null|null|   null|             null|             null|             null|             null|              null|             null|             null|       null|             null|             null|   null|             null|    null|             null|         null|null|             null|             null| null|  null|             null|             72.0|             null|             null|   null|null|     null|  null|             null|  null|             null|    null|     null|             null|             null|             null|     null|             null|             null|  null|             null|             null|             null|             67.0|  null|      null| null|     null|             null|             null|  null|  null|   null|   null| null|         null|     null|      null|             null|             null| null|      null|     null|             null|   null|             null|      null|             86.0|      null|   null|             null|         null|             null|     null| null|             null|             null|             null|null|     null|             null|             null|null|       null|             null|             null|       null| null|               null|             null|             null|  null|                 null|              null|             null|             null|             null|        null|             null|             null|             null|       null|             null|          null|    null| null|    null|             null|             null| null|    null|    null|             null|             null|   null|             null|  null|             null|                null|             null|             null|      null|             71.0|             null|  null|             null|                       86.0|\n",
            "|      LB|       64.0|             66.0|            73.75|   null|             75.0|             null|72.22033898305085|   null|68.28571428571429|69.47058823529412|      null|    null|   null|71.36363636363636|  null|             69.0|   null|   70.0| 71.33333333333333|    null|73.82089552238806|    68.0|             73.0|   null|             72.0|             69.2|      null|                    null|null|69.26829268292683| 63.63333333333333|68.90566037735849|   null|             69.0|             72.0|74.55555555555556|64.0|   74.0|             null|72.66666666666667|72.66666666666667|            68.72|              null|75.33333333333333|69.33333333333333|       null|70.08064516129032|             75.0|   null|             66.0|    null|             null|         null|null|            68.25|72.58974358974359| 64.5|  null|             null| 71.0506329113924|73.71428571428571|             74.2|   null|null|     68.0|  71.5|             67.0|  null|             null|    70.0|     null|             71.0|71.66666666666667|             65.0|     null|             73.0|             75.0|  69.5|71.74545454545455|             72.6|             70.5|67.53846153846153|  null|      66.0| 66.0|     null|67.77272727272727|             75.0|  null|  null|   null|   null| null|         null|     66.0|      null|             67.0|71.33333333333333| null|      72.0|     null|71.55555555555556|   null|             62.0|      null|             75.0|      70.0|   null|         71.96875|         null|             63.0|     null| null|             70.0|             67.2|68.17391304347827|null|     null|             null|             73.2|71.0|       68.0|67.13636363636364|73.11764705882354|       null| null|  65.51851851851852|70.66666666666667|             75.0|  null|                 null|              65.0|70.61904761904762|           70.625|             70.0|        null|67.33333333333333|             73.0|           67.875|       null|74.27160493827161|          null|    null| null|    null|67.58333333333333|             69.0| 64.0|    null|    62.0|             null|             null|   70.0|70.34482758620689|  64.0|             76.4|                null|69.11111111111111|             75.4|      null|             72.0|71.83333333333333|  null|             68.0|                       76.4|\n",
            "|      LW|       null|             64.0|73.66666666666667|   null|             70.5|             null|75.18518518518519|   null|66.44444444444444|72.33333333333333|      null|    null|   null|           73.625|  null|             null|   null|   null| 69.66666666666667|    null|             77.2|    66.0|             84.0|   76.0|            68.25|             null|      null|                    null|78.0|69.84615384615384| 65.42857142857143|            71.25|   null|             75.0|             65.0|79.66666666666667|76.0|   67.5|             null|             75.0|             74.0|             74.5|              null|             74.0|             71.0|       74.0|73.94444444444444|             null|   null|             null|    null|             null|         66.0|null|             null|          72.8125| null|  68.5|             71.0|76.41666666666667|             72.0|             77.0|   null|null|     null|  80.0|             73.0|  null|             null|    null|     null|             80.0|             72.0|             66.0|     null|             68.0|             null|  null|         73.65625|             75.0|             68.0|             72.0|  null|      null| null|     null|69.14285714285714|73.33333333333333|  null|  null|   null|   null| 72.0|         null|     null|      null|             null|             73.5| null|      null|     null|             75.0|   null|             null|      null|69.66666666666667|      null|   null|             76.4|         null|             66.5|     null| null|79.66666666666667|             null|69.78571428571429|null|     null|             null|             71.5|76.0|       null|             null|             76.6|       null| null|  72.33333333333333|             80.0|             null|  null|                 null|              66.0|             76.0|             75.0|             76.5|        null|             null|             80.0|             69.6|       null|76.53846153846153|          null|    null| null|    72.0|69.28571428571429|             71.0| null|    null|    70.0|             70.0|             null|   null|75.33333333333333|  70.0|             79.0|                null|73.83333333333333|             75.0|      null|             69.0|             79.0|  null|             73.0|                       84.0|\n",
            "|     RCM|       null|             75.0|             76.0|   null|             null|             null|72.94444444444444|   null|             72.5|             69.6|      null|    null|   null|76.28571428571429|  null|             68.0|   null|   67.0|              73.5|    null|             75.8|    null|             null|   null|             73.5|             68.0|      null|                    null|null|             71.4|63.857142857142854|73.54545454545455|   null|             null|             null|             81.0|null|   null|             null|             null|             null|71.44444444444444|              null|             76.0|             71.0|       null|70.29729729729729|             78.0|   null|             null|    null|             null|         null|null|             75.0|72.61538461538461| 75.0|  null|             null|76.77777777777777|            69.75|             null|   null|null|     null|  null|             null|  null|             null|    72.0|     null|             76.0|69.66666666666667|             67.0|     null|             null|             null|  null|           72.875|80.33333333333333|             null|66.61538461538461|  null|      70.0| null|     null|69.81818181818181|             null|  null|  null|   null|   null| null|         null|     null|      null|             null|             84.0| null|      null|     null|75.83333333333333|   null|             null|      null|             75.0|      null|   null|             73.5|         null|             73.0|     null| null|             79.2|             68.0|71.81818181818181|null|     null|             71.0|             71.0|null|       null|             73.5|75.57142857142857|       null| null|  65.84615384615384|             null|             null|  null|                 null|              64.0|             70.6|             70.5|             73.5|        null|             null|             null|             69.0|       null|            76.75|          null|    null| null|    null|70.46153846153847|            74.75| null|    null|    null|             null|             null|   81.0|             70.5|  70.0|             81.0|                null|73.83333333333333|76.14285714285714|      null|             null|             64.0|  null|             74.0|                       84.0|\n",
            "|      GK|       null|             77.5|             67.6|   null|             null|             null|71.76288659793815|   null|             67.0| 68.1590909090909|      null|    null|   69.0|            72.25|  null|             70.5|   null|   69.0|              70.4|    null|72.66176470588235|    65.2|             77.0|   null|             75.2|66.11111111111111|      null|                    null|null|69.30952380952381|  62.9811320754717|69.21153846153847|   null|             61.0|             77.0| 72.6923076923077|75.0|   71.5|             null|             71.5|             65.0|68.91428571428571|              null|72.33333333333333|68.66666666666667|       null| 68.2183908045977|             68.0|   null|             72.5|    null|             72.0|         null|null|           70.875|72.01980198019803| 65.0|  73.0|             70.0|70.90243902439025|             67.0| 74.3529411764706|   null|null|     68.0|  65.0|             null|  null|             null|    70.0|     null|             73.2|71.33333333333333|64.66666666666667|     null|68.33333333333333|             null|  67.0| 71.3695652173913|            68.25|             78.0|63.18032786885246|  null|      null| null|     null|            67.95|             72.0|  null|  68.0|   null|   null| null|         null|     74.0|      null|             null|             66.0| null|      null|     null| 70.1086956521739|   72.0|             71.0|      null|             67.4|      null|   68.0|71.19642857142857|         null|             67.0|     null| null|             82.0|68.42857142857143|68.51612903225806|72.0|     null|             null|73.66666666666667|71.0|       75.0|67.77966101694915|         75.53125|       null| null|   65.8974358974359|             75.6|74.92857142857143|  null|                 null| 64.38297872340425| 66.9047619047619|           72.125|71.77777777777777|        null|69.42857142857143|             79.0|69.57142857142857|       null|73.88793103448276|          null|    null| null|    null|68.32608695652173|70.84848484848484| null|    null|    null|             null|             53.0|   73.0|69.87234042553192|  null|             73.1|                null|67.84722222222223|             72.5|      null|            75.25|67.71428571428571|  null|             null|                       82.0|\n",
            "|      RB|       null|             75.0|             63.0|   null|             null|             71.5|            71.98|   72.0|66.21428571428571| 69.0909090909091|      62.0|    null|   null|             72.0|  null|             null|   null|   70.0|              71.0|    null|72.57142857142857|    69.0|             77.0|   null|71.66666666666667|             70.0|      67.0|                    null|null|69.13793103448276|62.476190476190474|             71.0|   70.0|             null|             68.5|            76.75|null|   71.0|             67.0|             72.5|             78.0|             69.6|              null|             68.5|             71.0|       null|70.25210084033614|             null|   null|             66.0|    64.0|             71.0|         null|null|             64.5|72.72972972972973| 71.0|  65.0|             76.0|70.62650602409639|            71.75|71.83333333333333|   null|67.0|     null|  null|             72.0|  null|             70.0|    69.0|     null|             70.5|             66.0|             66.0|     null|             72.0|             null|  null|72.57894736842105|             75.5|67.66666666666667|66.93548387096774|  null|      65.0| null|     null|66.05555555555556|             69.0|  null|  null|   null|   null| null|         66.0|     null|      72.0|             72.0|             75.5| null|      66.0|     null|69.39473684210526|   null|             69.0|      null|             72.0|      null|   78.0|73.35135135135135|         null|66.66666666666667|     null| null|             73.0|             68.8|69.78260869565217|null|     null|             80.0|             72.5|73.0|       null|68.03225806451613|74.92857142857143|       null| null|  64.79166666666667|             74.0|76.14285714285714|  null|                 null| 66.67567567567568|68.73684210526316|           72.625|72.44444444444444|        70.0|             75.0|             69.5|             68.5|       null|74.37931034482759|          56.0|    68.0| null|    69.5|69.61111111111111|70.73913043478261| null|    null|    null|             null|             null|   69.5|            71.75|  64.0|            74.25|                null|69.65789473684211|72.11111111111111|      null|71.83333333333333| 68.3076923076923|  null|             72.0|                       80.0|\n",
            "|      RS|       null|             71.0|             null|   null|             66.0|             null|             73.8|   null|             66.5|70.66666666666667|      66.0|    null|   null|             77.0|  null|             76.5|   null|   73.0|              null|    null|             74.0|    null|             null|   null|             81.0|             77.0|      null|                    null|null|             76.0|              67.0|77.42857142857143|   null|             null|             null|             71.0|null|   null|             null|             73.0|             70.0|             67.5|              null|             73.0|             null|       null|67.10714285714286|             null|   null|             null|    null|             null|         null|71.0|             null|            77.75| null|  null|             null|             71.0|             75.0|             null|   null|null|     null|  null|             null|  null|             null|    null|     null|             null|             null|             64.0|     null|             null|             null|  80.0|75.23529411764706|            75.25|             62.0|             73.0|  null|      null| null|     null|65.66666666666667|             null|  null|  null|   null|   null| null|         null|     null|      null|             null|             80.0| null|      null|     null|75.66666666666667|   null|             null|      67.0|             70.0|      null|   null|             71.0|         null|             70.0|     null| null|             73.0|             68.0|             73.0|null|     null|             70.0|             null|null|       null|71.33333333333333|             77.0|       null| null|               71.5|             null|             75.5|  null|                 null| 67.33333333333333|            71.75|             68.5|             73.5|        null|             null|             null|             null|       null|77.27272727272727|          null|    null| null|    null|73.33333333333333|             null| null|    null|    null|             null|             null|   null|             69.5|  null|             null|                null|             76.0|            74.75|      null|             74.5|             67.0|  null|             75.0|                       81.0|\n",
            "|     LCB|       null|             null|             69.0|   null|             72.0|             null|73.91428571428571|   null|             67.6|71.58333333333333|      null|    null|   null|             75.0|  null|             null|   null|   72.0|              68.5|    null|74.48936170212765|    69.0|             76.0|   null|             72.8|             66.0|      72.5|                    null|null|73.15384615384616| 66.72727272727273| 72.8076923076923|   null|             69.0|             71.5|77.66666666666667|null|   null|             78.0|             75.0|             69.0|70.84615384615384|              null|72.66666666666667|             72.5|       null|70.92592592592592|             null|   null|             69.0|    null|             null|         null|null|             67.5|76.02702702702703| null|  81.0|             73.0|72.82051282051282|             76.5|             75.0|   68.0|null|     null|  73.0|             null|  null|             null|    null|     null|             75.0|             73.0|             62.0|     null|             67.0|             null|  null|72.88888888888889|             75.0|             74.0|67.85714285714286|  null|      null| null|     null|             66.6|             null|  null|  null|   66.0|   null| null|         null|     null|      null|             null|             null| null|      null|     null|             72.4|   74.0|             69.0|      null|            68.25|      75.0|   null|            75.05|         71.0|             67.0|     66.0| null|             null|             65.0|70.06666666666666|null|     null|             68.0|71.66666666666667|74.5|       null|             68.0|73.71428571428571|       null| null|  68.66666666666667|             74.5|             73.0|  null|                 null|              67.6|72.27272727272727|             75.6|72.88888888888889|        null|79.33333333333333|             74.5|             69.0|       null|74.70967741935483|          null|    null| null|    null|          67.5625|72.16666666666667| null|    null|    null|             null|             null|   76.5|73.83333333333333|  null|             78.0|                null|73.07142857142857|             73.5|      null|             78.0|            72.75|  null|             null|                       81.0|\n",
            "|      CM|       71.0|            71.75|77.66666666666667|   null|             null|             null|73.08695652173913|   null|67.71428571428571|68.70588235294117|      null|    null|   null|74.21428571428571|  null|             null|   null|   72.5|              68.8|    68.0|             76.0|    66.5|             77.0|   null|             72.5|             68.5|      74.5|                    85.0|null|70.17647058823529|62.432432432432435|69.77777777777777|   73.0|             null|70.33333333333333|72.63636363636364|null|   null|             null|74.36363636363636|             70.0|69.21212121212122|              null|             71.0|             73.0|       64.0|69.79591836734694|             null|   null|             null|    null|             66.0|         null|null|70.66666666666667|73.91379310344827| null|  null|             null|74.03333333333333|74.26666666666667|             73.0|   null|null|     null|  82.0|             68.0|  63.0|             69.0|    null|     71.0|             72.5|             72.5|             61.0|     null|             79.0|             64.0|  76.5|72.11111111111111|             74.0|             66.5|65.92105263157895|  null|      null| null|     null| 65.5952380952381|             74.0|  null|  null|   null|   null| null|         71.0|     68.0|      76.0|             64.0|             76.0| null|      null|     null|70.36842105263158|   67.0|             75.5|      68.0|           75.125|      null|   null|72.57142857142857|         null|             68.0|     null| null|65.16666666666667|             72.0|68.91304347826087|null|     null|             null|70.66666666666667|71.5|       null|67.84615384615384|75.44444444444444|       null| null|             67.375|             72.2|             75.0|  null|                 null| 68.61904761904762| 71.3030303030303|             71.1|77.88888888888889|        null|74.16666666666667|             71.0|72.83333333333333|       null|          74.7875|          null|    null| null|    null|68.51282051282051|           72.625| 64.0|    null|    63.0|             null|             null|   69.0|71.44444444444444|  null|74.71428571428571|                null|70.52631578947368|71.33333333333333|      67.5|             72.6|             67.9|  76.0|             null|                       85.0|\n",
            "|      RW|       null|             72.5|             76.6|   null|             null|             null|73.20689655172414|   70.5|             68.6|             71.0|      null|    null|   null|78.16666666666667|  61.0|             null|   null|   null|              75.0|    null|76.42857142857143|    null|             null|   null|             null|             64.0|      null|                    null|null|70.82352941176471| 63.44444444444444|            74.75|   null|             67.0|             67.0|             null|null|   null|             null|             75.0|             77.5|             76.2|              null|             72.0|             null|       null|74.73684210526316|             null|   null|             null|    null|             null|         null|null|             65.5|             74.7| null|  null|             81.0|             73.0|           72.375|             70.0|   null|null|     null|  null|             74.5|  null|             78.0|    null|     null|70.66666666666667|             74.5|             null|     null|             null|             null|  null| 76.3157894736842|             75.8|             null|             65.0|  null|      null| 66.0|     66.0|             70.0|             83.0|  null|  null|   null|   null| 76.0|         null|     null|      null|             67.0|             null| null|      null|     null|            73.75|   null|             70.0|      null|             null|      76.0|   null|74.57142857142857|         null|             62.0|     null| null|             75.2|             null|             70.4|null|     null|             null|             79.0|76.0|       null|             null|76.53846153846153|       null| null|               null|             78.0|             76.0|  null|                 null|              null|             70.0|             69.0|             83.0|        null|             75.0|             71.0|74.66666666666667|       null|             80.4|          null|    null| null|    null|66.07692307692308|75.66666666666667| null|    null|    null|             65.0|             null|   80.0|             71.0|  null|             null|                null|             72.5|            71.75|      null|            76.25|             76.5|  68.0|             null|                       83.0|\n",
            "|     RCB|       null|             68.0|             74.5|   null|             65.0|             null|73.05405405405405|   null|             69.5| 70.0909090909091|      null|    null|   null|             75.5|  null|             73.0|   null|   66.0|              69.0|    null| 75.2051282051282|    69.0|             70.0|   null|70.66666666666667|             71.0|      75.0|                    null|null|            70.25|              67.0|            72.75|   null|             66.0|             75.5|71.55555555555556|null|   null|             null|            69.75|             76.0|             72.0|              null|             null|             67.0|       null|71.44642857142857|             null|   null|             null|    null|             null|         null|null|             72.0|75.72413793103448| null|  null|             75.0|72.72916666666667|             72.0|             78.0|   null|null|     null|  65.5|             null|  null|             null|    null|     null|             81.0|             70.0|             71.0|     null|             73.0|             null|  null|74.08333333333333|             74.0|             71.0|69.93333333333334|  null|      null| null|     null|             68.5|             null|  null|  64.0|   null|   null| null|         null|     null|      73.0|             null|             65.0| null|      null|     null|             73.7|   null|             null|      69.0|             71.5|      74.0|   null|73.61111111111111|         null|             67.0|     null| null|            70.25|             71.0|          69.1875|null|     null|             null|76.14285714285714|71.0|       null|70.81818181818181|             75.0|       null| null|   65.3076923076923|             71.5|             80.0|  null|                 null|              67.5|             67.5|            75.25|             74.8|        null|75.33333333333333|             69.0|             67.0|       null|74.52777777777777|          null|    null| null|    null|70.13333333333334|74.11111111111111| null|    null|    null|             79.0|             null|   null|74.22222222222223|  null|             73.0|                null|72.54545454545455|75.71428571428571|      null|             76.0|69.85714285714286|  74.0|             null|                       81.0|\n",
            "|     CDM|       null|             69.5|            70.25|   null|             null|             null|72.76363636363637|   null|          66.8125|69.63157894736842|      71.0|    null|   null|73.71428571428571|  null|             null|   null|   67.0|              82.0|    null|72.67441860465117|    63.5|             64.0|   null|           74.125|             71.8|      67.0|                    null|null|             71.8|62.916666666666664|70.88888888888889|   74.0|             69.0|             null|75.11111111111111|null|   null|             null|             69.5|71.66666666666667|             74.0|              null|            69.25|             73.0|       null|            71.88|             null|   null|             null|    null|             76.0|         null|null|             75.0|73.03174603174604| 67.0|  74.0|             73.0|71.58227848101266|74.83333333333333|72.66666666666667|   null|null|     null|  71.0|            76.25|  66.0|             null|    null|     null|72.66666666666667|             68.0|             60.0|     null|             76.0|             null|  72.0|          76.0625|           76.125|             null|65.89473684210526|  null|      null| 74.0|     null|65.33333333333333|             66.0|  null|  null|   null|   null| null|         null|     60.0|      71.0|             63.0|72.66666666666667| null|      null|     null|           70.625|   null|             79.0|      null|             69.8|      null|   null|72.26666666666667|         null|             67.0|     null| null|73.85714285714286|            72.75|71.77777777777777|null|     null|             null|             71.0|74.5|       null|67.29629629629629|74.83333333333333|       null| null|  68.77272727272727|             80.0|             75.2|  null|                 null| 66.06666666666666|             72.6|             73.0|             80.0|        null|             70.0|             77.5|             73.5|       null|74.92307692307692|          null|    null| 60.0|    null|             70.0|73.88888888888889| 67.0|    null|    null|             68.5|             null|   null|71.79310344827586|  null|72.66666666666667|                null|71.08333333333333|71.14285714285714|      null|             75.0|             70.6|  null|             null|                       82.0|\n",
            "|      LS|       null|             null|             null|   null|             null|             null|75.23076923076923|   73.0|             64.0|             82.0|      null|    64.5|   null|             76.0|  null|             null|   null|   null|              77.0|    null|75.33333333333333|    66.0|             null|   null|             80.0|             62.0|      null|                    null|null|             72.5|              null|             74.0|   null|             70.0|             null|             65.0|null|   null|             73.0|             null|             null|            70.25|              null|             75.0|             null|       null|68.92307692307692|             null|   72.0|             null|    null|             null|         null|null|             66.0|             74.8| null|  76.0|             null|             71.0|             72.0|             null|   null|null|     null|  null|             69.0|  null|             null|    null|     null|             null|             null|             67.0|     null|             null|             null|  80.0|          73.5625|             76.0|             64.0|            70.75|  null|      null| null|     null|             70.0|             null|  null|  null|   null|   null| null|         null|     null|      null|             null|             null| null|      null|     null|             80.5|   null|             72.5|      null|             78.0|      null|   null|71.33333333333333|         null|             null|     null| null|             70.0|             null|71.33333333333333|null|     null|             null|             71.0|null|       null|             75.0|             79.0|       null| null|               67.6|             75.0|             null|  null|                 null|              null|             69.0|             74.5|             86.0|        null|             null|             null|             null|       null|             78.2|          null|    null| null|    null|73.66666666666667|             66.0| 78.0|    null|    68.0|             null|             null|   67.0|             null|  null|             73.0|                null|             70.0|             74.5|      null|             84.0|             null|  null|             null|                       86.0|\n",
            "|      CB|       null|74.33333333333333|             69.5|   64.0|             79.0|             null|72.85858585858585|   null| 69.0952380952381|         70.28125|      null|    66.0|   null|75.04545454545455|  null|             72.0|   null|   74.0|              74.6|    null| 71.9090909090909|    63.0|             null|   null|73.08333333333333|             70.2|      null|                    72.0|null|71.17241379310344| 64.69444444444444|71.38461538461539|   null|69.66666666666667|            70.75|            73.25|null|   66.0|67.66666666666667|             73.1|             72.6|69.94594594594595|              null|             71.5|             76.5|       75.0| 70.2919254658385|             null|   null|70.66666666666667|    null|             69.0|         68.0|null|67.71428571428571|72.83870967741936| null|  79.0|             77.5|        71.359375|             72.5|74.13333333333334|   null|null|     67.0|  77.5|             74.0|  70.0|             73.0|    null|     62.0|             68.5|             71.0|             61.0|     null|             null|             68.0|  null| 72.1219512195122|             72.4|             72.0|64.63265306122449|  null|      null| 64.0|     null|67.07692307692308|             73.5|  null|  54.0|   null|   null| null|         null|     64.0|      65.0|72.33333333333333|             72.5| null|      70.0|     69.0|70.88372093023256|   null|75.66666666666667|      null|            78.25|      null|   null|73.30952380952381|         null|           67.375|     null| null|73.22222222222223|           67.375|68.06451612903226|null|     null|             69.8|             73.0|77.0|       null|68.82352941176471|75.96153846153847|       63.0| 68.0|             66.875|             73.8|             76.5|  null|                 null| 66.48780487804878|            69.72|             72.3|            71.75|        66.0|71.66666666666667|72.57142857142857|             71.0|       null|73.77884615384616|          null|    null| null|    null|           68.225|72.13636363636364| null|    null|    null|             null|             null|   70.5|72.10714285714286|  null|           74.125|                null|69.41666666666667|73.05882352941177|      null|             70.0|          69.8125|  null|             73.0|                       79.0|\n",
            "|     RWB|       null|             null|             82.0|   null|             null|             null|             72.0|   null|             66.0|             66.0|      null|    null|   null|             72.0|  null|             null|   null|   null|              70.0|    null|             null|    null|             null|   null|             74.0|             null|      null|                    null|null|             null|61.666666666666664|             74.0|   null|             null|             null|             74.0|null|   null|             null|             81.0|             null|           68.625|              null|             null|             null|       null|67.86666666666666|             null|   null|             null|    null|             null|         null|null|             null|            73.75| null|  null|             null|72.66666666666667|             null|             null|   null|null|     null|  null|             null|  null|             null|    null|     null|             null|             75.0|             null|     null|             null|             null|  null|             72.5|             72.0|             null|             66.0|  70.0|      null| null|     null|             null|             null|  null|  null|   null|   null| null|         null|     null|      null|             null|             null| null|      null|     null|             80.0|   null|             null|      null|             null|      null|   null|             70.5|         null|             61.0|     null| null|             null|             null|             72.0|null|     null|             null|             null|null|       null|             null|             null|       null| null|               71.0|             null|             null|  null|                 null|              65.0|             65.5|             null|             null|        null|             null|             null|             68.0|       null|            78.25|          null|    null| null|    null|             68.0|             71.0| null|    null|    null|             null|             null|   null|             null|  null|             null|                null|             null|             null|      null|             null|             64.0|  null|             null|                       82.0|\n",
            "|      CF|       null|             null|             null|   null|             null|             null|             79.0|   null|             null|             68.0|      null|    null|   null|             null|  null|             null|   null|   null|              null|    null|            78.25|    null|             74.0|   null|             72.0|             null|      null|                    null|null|             73.0|              null|             null|   null|             null|             null|             null|null|   75.0|             null|             80.0|             null|             null|              null|             null|             null|       null|             70.0|             null|   null|             null|    null|             null|         null|null|             78.0|             null| null|  null|             null|             73.6|             77.0|             null|   null|null|     null|  null|             null|  null|             null|    null|     null|             null|             81.0|             null|     null|             null|             null|  null|             75.8|             null|             null|           66.625|  null|      null| null|     58.0|70.66666666666667|             73.0|  null|  null|   null|   null| null|         null|     68.0|      null|             null|             null| null|      null|     null|             75.0|   null|             null|      null|             null|      null|   68.0|             null|         null|             null|     null| null|             null|             null|             74.0|null|     null|             null|             null|75.0|       null|             88.0|             null|       null| null|               null|             null|             78.0|  null|                 null|              null|             71.0|             null|             null|        null|             null|             null|             null|       null|            79.25|          null|    null| null|    null|            70.25|             null| null|    null|    null|             null|             null|   null|             75.0|  null|             null|                null|             71.0|             null|      null|             null|             null|  null|             71.0|                       88.0|\n",
            "|      RM|       null|             64.0|            74.75|   null|             68.0|             null| 73.2741935483871|   83.0|70.53846153846153|70.30434782608695|      null|    null|   null|74.26666666666667|  null|             68.0|   null|   72.0|              76.0|    null|75.30434782608695|    71.5|             77.5|   null|             70.5|             74.5|      null|                    null|null|72.18181818181819|          65.03125|70.65384615384616|   null|             null|             75.5|76.66666666666667|null|   70.0|             null|             77.0|             72.5|69.18181818181819|              null|             76.0|             82.0|       65.0|69.94782608695652|             null|   null|             63.0|    null|             64.5|         65.5|null|             73.8|74.77551020408163| 68.0|  76.0|             76.0|70.85227272727273|             71.6|76.42857142857143|   null|null|     null|  73.0|             null|  null|             70.0|    78.5|     null|             71.0|             77.5|             67.0|     null|74.33333333333333|             null|  null|73.37037037037037|             81.5|             66.0| 66.8108108108108|  null|      null| null|     null|          68.4375|             70.5|  null|  null|   null|   null| null|         66.0|     71.0|      null|             null|             73.0| null|      null|     null|            72.28|   null|             74.5|      null|             74.8|      null|   null|71.78947368421052|         null|             76.0|     null| 66.0|             77.0|69.85714285714286|           69.125|null|     66.0|             70.5|76.33333333333333|73.0|       null|         68.28125|            76.36|       null| null|               66.7|72.16666666666667|             70.5|  null|                 null| 66.33333333333333|72.42105263157895|             80.2|             69.6|        null|             75.0|             70.6|             66.0|       null|74.86585365853658|          null|    null| 66.0|    null|             70.0|71.41666666666667| 72.0|    null|    68.0|76.66666666666667|             null|   70.0|73.57142857142857|  68.0|             77.5|                null|            72.75|69.57142857142857|      null|73.14285714285714|71.11111111111111|  null|             null|                       83.0|\n",
            "|     LAM|       null|             null|             null|   null|             null|             null|             null|   null|             null|             null|      null|    null|   null|             null|  null|             null|   null|   null|              null|    null|71.46153846153847|    null|             null|   null|             null|             null|      null|                    null|null|             null|              null|             81.0|   null|             null|             null|             null|null|   null|             null|             null|             null|             null|              null|             null|             null|       null|             null|             null|   null|             null|    null|             null|         null|null|             null|             null| null|  null|             null|             70.0|             null|             null|   null|null|     null|  null|             null|  null|             null|    null|     null|             null|             null|             null|     null|             null|             null|  null|             null|             null|             null|             69.0|  null|      null| null|     null|             null|             null|  null|  null|   null|   null| null|         null|     null|      null|             null|             null| null|      null|     null|             null|   null|             null|      null|             null|      null|   null|             null|         null|             null|     null| null|             null|             null|             null|null|     null|             null|             null|null|       null|             null|             null|       null| null|               null|             null|             null|  null|                 null|              null|             null|             null|             81.0|        null|             null|             null|             null|       null|             null|          null|    null| null|    null|             null|             null| null|    null|    null|             null|             null|   null|             null|  null|             null|                null|             null|             68.0|      null|             null|             null|  75.0|             null|                       81.0|\n",
            "|     LDM|       null|72.66666666666667|             73.0|   null|             null|             null|           73.375|   null|             70.5|             75.5|      null|    null|   null|             75.5|  null|             71.0|   null|   null|             72.25|    null|            74.16|    57.0|             null|   65.0|             null|             null|      71.0|                    71.0|null|            71.25|              60.0|70.81818181818181|   null|             null|             77.0|             84.0|null|   null|             null|             74.0|             null|             69.5|              null|             null|             67.0|       null|70.15384615384616|             null|   null|             null|    null|             83.0|         null|null|             null|74.76470588235294| null|  null|             71.0|71.52173913043478|             76.0|             75.0|   null|null|     null|  82.0|             null|  null|             null|    68.0|     null|             null|             null|             null|     null|             null|             null|  73.0|             70.0|            76.75|             null|             70.0|  null|      null| null|     null|             68.0|             null|  70.0|  null|   null|   null| null|         null|     null|      78.0|             null|             75.0| null|      null|     null|             71.6|   null|             null|      null|             null|      null|   null|78.66666666666667|         null|             null|     null| null|             79.5|             null|             71.0|null|     null|             70.0|             71.0|73.0|       null|67.88888888888889|74.42857142857143|       null| null|               65.6|             73.0|             86.0|  null|                 null| 68.85714285714286|             69.5|             null|             70.0|        null|             76.0|             68.0|             67.0|       null|70.41666666666667|          null|    null| null|    null|             66.0|             81.5| null|    null|    null|             null|             null|   null|            72.75|  null|             77.0|                null|73.33333333333333|             null|      null|             null|             86.0|  null|             null|                       86.0|\n",
            "|      ST|       null|            72.25|            73.75|   null|75.66666666666667|             63.0|           72.928|   70.0|            67.44|68.62962962962963|      67.0|    null|   70.0|75.33333333333333|  null|67.66666666666667|   70.0|   71.0| 72.85714285714286|    null|71.56756756756756|    70.5|67.33333333333333|   null|73.86666666666666|72.28571428571429|      75.0|                    null|78.0|70.10416666666667|          63.46875|70.89189189189189|   null|            71.25|            68.25|72.26666666666667|null|   69.5|             65.0|70.88888888888889| 71.9090909090909|69.91304347826087|              85.0|             75.0|             72.0|       null| 69.5575221238938|             null|   65.0|             null|    null|             74.0|         null|null|70.83333333333333|72.45283018867924| 72.0|  79.5|69.66666666666667|           71.125| 75.0909090909091|73.35714285714286|   null|null|     null|  70.5|73.33333333333333|  null|69.66666666666667|    75.0|     null|            72.25|             70.0|             58.5|     null|             75.0|             null|  70.0|            72.75|73.44444444444444|             67.0|67.27272727272727|  null|      null| 74.0|     77.0|68.36111111111111|           69.125|  null|  78.0|   null|   73.0| null|         null|     77.0|      null|             67.0|70.33333333333333| null|      null|     null|72.31428571428572|   79.0|74.66666666666667|      null|71.72727272727273|      null|   null| 73.6829268292683|         null|             70.0|     null| 71.0|73.02941176470588|69.76923076923077| 68.2439024390244|null|     null|68.66666666666667|71.04347826086956|74.0|       null|           69.425|74.66666666666667|       null| null|  66.18604651162791|             73.0|             75.6|  null|                 72.0|              67.1|70.19444444444444|72.27272727272727|73.14285714285714|       72.25|            72.75|70.28571428571429|71.66666666666667|       63.0|73.95412844036697|          62.0|    null| 72.0|    null|69.40816326530613|74.58333333333333| 80.0|    75.0|    null|             73.5|             null|   69.2|72.04166666666667|  null|73.58333333333333|                null|71.08108108108108|            74.55|      null|72.16666666666667|69.93333333333334| 74.25|70.66666666666667|                       85.0|\n",
            "+--------+-----------+-----------------+-----------------+-------+-----------------+-----------------+-----------------+-------+-----------------+-----------------+----------+--------+-------+-----------------+------+-----------------+-------+-------+------------------+--------+-----------------+--------+-----------------+-------+-----------------+-----------------+----------+------------------------+----+-----------------+------------------+-----------------+-------+-----------------+-----------------+-----------------+----+-------+-----------------+-----------------+-----------------+-----------------+------------------+-----------------+-----------------+-----------+-----------------+-----------------+-------+-----------------+--------+-----------------+-------------+----+-----------------+-----------------+-----+------+-----------------+-----------------+-----------------+-----------------+-------+----+---------+------+-----------------+------+-----------------+--------+---------+-----------------+-----------------+-----------------+---------+-----------------+-----------------+------+-----------------+-----------------+-----------------+-----------------+------+----------+-----+---------+-----------------+-----------------+------+------+-------+-------+-----+-------------+---------+----------+-----------------+-----------------+-----+----------+---------+-----------------+-------+-----------------+----------+-----------------+----------+-------+-----------------+-------------+-----------------+---------+-----+-----------------+-----------------+-----------------+----+---------+-----------------+-----------------+----+-----------+-----------------+-----------------+-----------+-----+-------------------+-----------------+-----------------+------+---------------------+------------------+-----------------+-----------------+-----------------+------------+-----------------+-----------------+-----------------+-----------+-----------------+--------------+--------+-----+--------+-----------------+-----------------+-----+--------+--------+-----------------+-----------------+-------+-----------------+------+-----------------+--------------------+-----------------+-----------------+----------+-----------------+-----------------+------+-----------------+---------------------------+\n",
            "\n"
          ],
          "name": "stdout"
        }
      ]
    },
    {
      "cell_type": "markdown",
      "metadata": {
        "id": "JYdhhRLxJ7Q_"
      },
      "source": [
        "Finding the name of countries with highest average potential for each position is better for understanding. So, we discover the countries having players with highest average potential in each position.  "
      ]
    },
    {
      "cell_type": "code",
      "metadata": {
        "colab": {
          "base_uri": "https://localhost:8080/"
        },
        "id": "NOWiSBYZccXs",
        "outputId": "d43a797d-034f-4a44-a2f4-6073f8e20976"
      },
      "source": [
        "from pyspark.sql import types as T\n",
        "from pyspark.sql import functions as F\n",
        "from pyspark.sql.window import Window as W\n",
        "\n",
        "# creating a dataframe with a column whose values contain an array of country name and average potential value\n",
        "pdf = pivot_df.withColumn('Maximum_Avg_Potential',F.explode( \\\n",
        "        F.array([F.array([F.lit(cols), F.col(cols)]) for cols in pivot_df.columns[1:]])))\n",
        "\n",
        "# creating a dataframe such that the country name and avg potential values are separated in two columns\n",
        "pdf = pdf.select('Position', F.col('Maximum_Avg_Potential').getItem(0).alias('Country'), \\\n",
        "                 F.col('Maximum_Avg_Potential').getItem(1).cast(T.IntegerType()).alias('Avg_Potential'))\n",
        "\n",
        "# creating a rank based on average potential for each position in descending order\n",
        "pdf = pdf.withColumn('Rank', F.rank().over(W.partitionBy('Position').orderBy(F.col('Avg_Potential').desc())))\n",
        "\n",
        "# selecting rows with rank equal to 1 and this gives the maximum average potential value \n",
        "pdf.where('Rank=1').show(pdf.count())"
      ],
      "execution_count": 15,
      "outputs": [
        {
          "output_type": "stream",
          "text": [
            "+--------+--------------------+-------------+----+\n",
            "|Position|             Country|Avg_Potential|Rank|\n",
            "+--------+--------------------+-------------+----+\n",
            "|      RF|           Argentina|           87|   1|\n",
            "|     LWB|            Portugal|           82|   1|\n",
            "|     LCM|            Slovakia|           87|   1|\n",
            "|      LM|               Gabon|           82|   1|\n",
            "|     RDM|      Czech Republic|           83|   1|\n",
            "|      LF|             Belgium|           86|   1|\n",
            "|     CAM|            Slovakia|           80|   1|\n",
            "|     RAM|             Morocco|           86|   1|\n",
            "|      LB|             Ukraine|           76|   1|\n",
            "|      LW|        Burkina Faso|           84|   1|\n",
            "|     RCM|                Mali|           84|   1|\n",
            "|      GK|             Nigeria|           82|   1|\n",
            "|      RB|              Panama|           80|   1|\n",
            "|      RS|            Cameroon|           81|   1|\n",
            "|     LCB|              Gambia|           81|   1|\n",
            "|      CM|Central African R...|           85|   1|\n",
            "|      RW|              Kosovo|           83|   1|\n",
            "|      RW|              Serbia|           83|   1|\n",
            "|     RCB|             Hungary|           81|   1|\n",
            "|     CDM|  Bosnia Herzegovina|           82|   1|\n",
            "|      LS|              Serbia|           86|   1|\n",
            "|      CB|              Angola|           79|   1|\n",
            "|      CB|              Gambia|           79|   1|\n",
            "|     RWB|             Algeria|           82|   1|\n",
            "|      CF|              Poland|           88|   1|\n",
            "|      RM|             Armenia|           83|   1|\n",
            "|     LAM|            Colombia|           81|   1|\n",
            "|     LAM|              Serbia|           81|   1|\n",
            "|     LDM|              Russia|           86|   1|\n",
            "|     LDM|               Wales|           86|   1|\n",
            "|      ST|  Dominican Republic|           85|   1|\n",
            "+--------+--------------------+-------------+----+\n",
            "\n"
          ],
          "name": "stdout"
        }
      ]
    },
    {
      "cell_type": "markdown",
      "metadata": {
        "id": "3p5AJ1K8Ms7I"
      },
      "source": [
        "The most interesting finding from the above dataframe is that Dominican Republic has highest average potential for the striker position. It is well known that unlike European, South American or African continent, players from other continents rarely make it to the big stage. So, it can be assumed that player is an outlier, and is among the few players with highest ratings in that country. Not many scouts might be well aware about that striker. It is good to observe that player's game and see if we can sign that player and make one of the prospects in football."
      ]
    },
    {
      "cell_type": "code",
      "metadata": {
        "id": "36gWXTEJnAjH"
      },
      "source": [
        "from pyspark.sql import SQLContext\n",
        "sqlContext = SQLContext(spark)\n",
        "\n",
        "#df_view = 'soccer_analysis'\n",
        "df_19.createOrReplaceTempView('soccer_analysis')"
      ],
      "execution_count": 16,
      "outputs": []
    },
    {
      "cell_type": "code",
      "metadata": {
        "colab": {
          "base_uri": "https://localhost:8080/"
        },
        "id": "m56xI09nngnG",
        "outputId": "5fff5908-cbde-458e-8e65-dbd1131ecfeb"
      },
      "source": [
        "# viewing the players from Dominican Republic\n",
        "spark.sql(\"\"\"\n",
        "          Select * from soccer_analysis where Nationality = 'Dominican Republic'\n",
        "          \"\"\").show()"
      ],
      "execution_count": 17,
      "outputs": [
        {
          "output_type": "stream",
          "text": [
            "+------+----------+---+--------------------+------------------+--------------------+-------+---------+-----------+--------------------+--------+-------+-------+--------------+------------------------+---------+-----------+------------+---------+---------+--------+-------------+------------+-----------+--------------------+------+----------+------+----------+--------+---------+---------------+------------+-------+---------+-----+----------+-----------+-----------+------------+-----------+-------+---------+-------+---------+-------+-------+--------+---------+----------+-------------+-----------+------+---------+---------+-------+--------------+-------------+--------+----------+---------+-------------+----------+-----------------+\n",
            "|    ID|      Name|Age|               Photo|       Nationality|                Flag|Overall|Potential|       Club|           Club Logo|value(M)|wage(K)|Special|Preferred Foot|International Reputation|Weak Foot|Skill Moves|   Work Rate|Body Type|Real Face|Position|Jersey Number|      Joined|Loaned From|Contract Valid Until|Height|Height(CM)|Weight|Weight(KG)|Crossing|Finishing|HeadingAccuracy|ShortPassing|Volleys|Dribbling|Curve|FKAccuracy|LongPassing|BallControl|Acceleration|SprintSpeed|Agility|Reactions|Balance|ShotPower|Jumping|Stamina|Strength|LongShots|Aggression|Interceptions|Positioning|Vision|Penalties|Composure|Marking|StandingTackle|SlidingTackle|GKDiving|GKHandling|GKKicking|GKPositioning|GKReflexes|Release Clause(M)|\n",
            "+------+----------+---+--------------------+------------------+--------------------+-------+---------+-----------+--------------------+--------+-------+-------+--------------+------------------------+---------+-----------+------------+---------+---------+--------+-------------+------------+-----------+--------------------+------+----------+------+----------+--------+---------+---------------+------------+-------+---------+-----+----------+-----------+-----------+------------+-----------+-------+---------+-------+---------+-------+-------+--------+---------+----------+-------------+-----------+------+---------+---------+-------+--------------+-------------+--------+----------+---------+-------------+----------+-----------------+\n",
            "|221639|   Mariano| 24|https://cdn.sofif...|Dominican Republic|https://cdn.sofif...|     80|       85|Real Madrid|https://cdn.sofif...|      20|    140|   2041|         Right|                       1|        4|          3|High/ Medium|   Normal|       No|      ST|            7|Aug 29, 2018|       null|                2023|  5.11|  155.7528| 168.0| 76.203456|      50|       81|             82|          69|     70|       75|   76|        76|         51|         72|          84|         85|     79|       82|     72|       85|     92|     81|      79|       82|        86|           45|         79|    63|       75|       68|     41|            40|           34|      12|        14|        6|            8|        15|             42.5|\n",
            "|243314|L. Quezada| 22|https://cdn.sofif...|Dominican Republic|https://cdn.sofif...|     64|       76|C��rdoba CF|https://cdn.sofif...|    800K|      2|   1653|          Left|                       1|        3|          2|Medium/ High|   Normal|       No|      LM|           32| Jul 1, 2015|       null|                2019|   5.7|   173.736| 146.0| 66.224432|      75|       56|             51|          61|     44|       60|   42|        51|         59|         65|          71|         72|     64|       58|     79|       66|     47|     62|      52|       63|        54|           45|         61|    54|       45|       42|     46|            47|           53|      10|         7|       12|           13|         8|              1.4|\n",
            "+------+----------+---+--------------------+------------------+--------------------+-------+---------+-----------+--------------------+--------+-------+-------+--------------+------------------------+---------+-----------+------------+---------+---------+--------+-------------+------------+-----------+--------------------+------+----------+------+----------+--------+---------+---------------+------------+-------+---------+-----+----------+-----------+-----------+------------+-----------+-------+---------+-------+---------+-------+-------+--------+---------+----------+-------------+-----------+------+---------+---------+-------+--------------+-------------+--------+----------+---------+-------------+----------+-----------------+\n",
            "\n"
          ],
          "name": "stdout"
        }
      ]
    },
    {
      "cell_type": "markdown",
      "metadata": {
        "id": "2adfMJs-XCTG"
      },
      "source": [
        "It is seen that there are only two players from Dominican Republic in the FIFA 2019 database. And, the player with highest potential as a striker is Mariano who is 24 years old. Since, he has already signed for one of the top clubs in Europe, it is hard to lure him away from the club. The release clause of 42.5 millions is moderate considering the current market in 2019. "
      ]
    },
    {
      "cell_type": "markdown",
      "metadata": {
        "id": "IHYPcucDxW42"
      },
      "source": [
        "Finding the position with highest average potential for Australia: "
      ]
    },
    {
      "cell_type": "code",
      "metadata": {
        "colab": {
          "base_uri": "https://localhost:8080/"
        },
        "id": "8a1XDPhHpMZ7",
        "outputId": "787802b3-0bb4-4549-c136-055468d5e800"
      },
      "source": [
        "# selecting the highest average Potential along with the position for Australia\n",
        "pivot_df.createOrReplaceTempView('pivot_soccer_analysis')\n",
        "spark.sql(\"\"\"\n",
        "          Select Position, Australia from pivot_soccer_analysis Order By Australia Desc Limit 1\n",
        "          \"\"\").show(30)"
      ],
      "execution_count": 18,
      "outputs": [
        {
          "output_type": "stream",
          "text": [
            "+--------+---------+\n",
            "|Position|Australia|\n",
            "+--------+---------+\n",
            "|     RDM|     77.0|\n",
            "+--------+---------+\n",
            "\n"
          ],
          "name": "stdout"
        }
      ]
    },
    {
      "cell_type": "code",
      "metadata": {
        "colab": {
          "base_uri": "https://localhost:8080/"
        },
        "id": "mOBa4ZW-qkfR",
        "outputId": "7035bd68-d8d9-4adc-c353-6a84aca807bb"
      },
      "source": [
        "# finding the name of the Australian player with highest average potential \n",
        "spark.sql(\"\"\"\n",
        "          Select * from soccer_analysis Where Nationality = 'Australia' And Position = 'RDM'\n",
        "          \"\"\").show()"
      ],
      "execution_count": 19,
      "outputs": [
        {
          "output_type": "stream",
          "text": [
            "+------+---------+---+--------------------+-----------+--------------------+-------+---------+-------------------+--------------------+--------+-------+-------+--------------+------------------------+---------+-----------+------------+---------+---------+--------+-------------+------------+-----------+--------------------+------+----------+------+----------+--------+---------+---------------+------------+-------+---------+-----+----------+-----------+-----------+------------+-----------+-------+---------+-------+---------+-------+-------+--------+---------+----------+-------------+-----------+------+---------+---------+-------+--------------+-------------+--------+----------+---------+-------------+----------+-----------------+\n",
            "|    ID|     Name|Age|               Photo|Nationality|                Flag|Overall|Potential|               Club|           Club Logo|value(M)|wage(K)|Special|Preferred Foot|International Reputation|Weak Foot|Skill Moves|   Work Rate|Body Type|Real Face|Position|Jersey Number|      Joined|Loaned From|Contract Valid Until|Height|Height(CM)|Weight|Weight(KG)|Crossing|Finishing|HeadingAccuracy|ShortPassing|Volleys|Dribbling|Curve|FKAccuracy|LongPassing|BallControl|Acceleration|SprintSpeed|Agility|Reactions|Balance|ShotPower|Jumping|Stamina|Strength|LongShots|Aggression|Interceptions|Positioning|Vision|Penalties|Composure|Marking|StandingTackle|SlidingTackle|GKDiving|GKHandling|GKKicking|GKPositioning|GKReflexes|Release Clause(M)|\n",
            "+------+---------+---+--------------------+-----------+--------------------+-------+---------+-------------------+--------------------+--------+-------+-------+--------------+------------------------+---------+-----------+------------+---------+---------+--------+-------------+------------+-----------+--------------------+------+----------+------+----------+--------+---------+---------------+------------+-------+---------+-----+----------+-----------+-----------+------------+-----------+-------+---------+-------+---------+-------+-------+--------+---------+----------+-------------+-----------+------+---------+---------+-------+--------------+-------------+--------+----------+---------+-------------+----------+-----------------+\n",
            "|205347|M. Luongo| 25|https://cdn.sofif...|  Australia|https://cdn.sofif...|     74|       77|Queens Park Rangers|https://cdn.sofif...|       6|      9|   1960|         Right|                       1|        3|          3|Medium/ High|   Normal|       No|     RDM|            8|May 28, 2015|       null|                2020|   5.9|   179.832| 168.0| 76.203456|      51|       63|             59|          71|     46|       74|   49|        46|         68|         72|          73|         74|     79|       72|     76|       69|     84|     92|      72|       63|        76|           72|         65|    70|       52|       63|     64|            77|           74|      15|        13|        9|           14|         6|             11.9|\n",
            "+------+---------+---+--------------------+-----------+--------------------+-------+---------+-------------------+--------------------+--------+-------+-------+--------------+------------------------+---------+-----------+------------+---------+---------+--------+-------------+------------+-----------+--------------------+------+----------+------+----------+--------+---------+---------------+------------+-------+---------+-----+----------+-----------+-----------+------------+-----------+-------+---------+-------+---------+-------+-------+--------+---------+----------+-------------+-----------+------+---------+---------+-------+--------------+-------------+--------+----------+---------+-------------+----------+-----------------+\n",
            "\n"
          ],
          "name": "stdout"
        }
      ]
    },
    {
      "cell_type": "markdown",
      "metadata": {
        "id": "uAKqlL0qzkpe"
      },
      "source": [
        "Finding the under 20 players with the highest and worst potential"
      ]
    },
    {
      "cell_type": "code",
      "metadata": {
        "colab": {
          "base_uri": "https://localhost:8080/"
        },
        "id": "PZtgwjLHrSqX",
        "outputId": "375fba93-10f6-42ab-ba72-2edabdf1538e"
      },
      "source": [
        "# filtering the dataset based on age (under 20) and then arranging the overall in descending order\n",
        "spark.sql(\"\"\"\n",
        "          Select * from soccer_analysis Where Age < 20 Order By Overall Desc\n",
        "          \"\"\").show()"
      ],
      "execution_count": 20,
      "outputs": [
        {
          "output_type": "stream",
          "text": [
            "+------+-------------------+---+--------------------+-------------+--------------------+-------+---------+--------------------+--------------------+--------+-------+-------+--------------+------------------------+---------+-----------+--------------+---------+---------+--------+-------------+------------+-----------+--------------------+------+----------+------+----------+--------+---------+---------------+------------+-------+---------+-----+----------+-----------+-----------+------------+-----------+-------+---------+-------+---------+-------+-------+--------+---------+----------+-------------+-----------+------+---------+---------+-------+--------------+-------------+--------+----------+---------+-------------+----------+-----------------+\n",
            "|    ID|               Name|Age|               Photo|  Nationality|                Flag|Overall|Potential|                Club|           Club Logo|value(M)|wage(K)|Special|Preferred Foot|International Reputation|Weak Foot|Skill Moves|     Work Rate|Body Type|Real Face|Position|Jersey Number|      Joined|Loaned From|Contract Valid Until|Height|Height(CM)|Weight|Weight(KG)|Crossing|Finishing|HeadingAccuracy|ShortPassing|Volleys|Dribbling|Curve|FKAccuracy|LongPassing|BallControl|Acceleration|SprintSpeed|Agility|Reactions|Balance|ShotPower|Jumping|Stamina|Strength|LongShots|Aggression|Interceptions|Positioning|Vision|Penalties|Composure|Marking|StandingTackle|SlidingTackle|GKDiving|GKHandling|GKKicking|GKPositioning|GKReflexes|Release Clause(M)|\n",
            "+------+-------------------+---+--------------------+-------------+--------------------+-------+---------+--------------------+--------------------+--------+-------+-------+--------------+------------------------+---------+-----------+--------------+---------+---------+--------+-------------+------------+-----------+--------------------+------+----------+------+----------+--------+---------+---------------+------------+-------+---------+-----+----------+-----------+-----------+------------+-----------+-------+---------+-------+---------+-------+-------+--------+---------+----------+-------------+-----------+------+---------+---------+-------+--------------+-------------+--------+----------+---------+-------------+----------+-----------------+\n",
            "|231747|         K. Mbapp��| 19|https://cdn.sofif...|       France|https://cdn.sofif...|     88|       95| Paris Saint-Germain|https://cdn.sofif...|      81|    100|   2118|         Right|                       3|        4|          5|  High/ Medium|     Lean|      Yes|      RM|           10| Jul 1, 2018|       null|                2022|   5.1|   155.448| 161.0| 73.028312|      77|       88|             77|          82|     78|       90|   77|        63|         73|         91|          96|         96|     92|       87|     83|       79|     75|     83|      71|       78|        62|           38|         88|    82|       70|       86|     34|            34|           32|      13|         5|        7|           11|         6|            166.1|\n",
            "|230621|      G. Donnarumma| 19|https://cdn.sofif...|        Italy|https://cdn.sofif...|     82|       93|               Milan|https://cdn.sofif...|      29|     23|   1278|         Right|                       3|        3|          1|Medium/ Medium|   Normal|      Yes|      GK|           22| Jul 1, 2015|       null|                2021|   6.5|    198.12| 198.0| 89.811216|      12|       12|             12|          34|      8|       28|   12|        14|         24|         28|          46|         54|     64|       74|     38|       24|     72|     34|      72|       18|        30|           26|         14|    50|       24|       68|     20|            14|           16|      88|        78|       72|           78|        88|             55.1|\n",
            "|235243|         M. de Ligt| 18|https://cdn.sofif...|  Netherlands|https://cdn.sofif...|     82|       91|                Ajax|https://cdn.sofif...|      27|     11|   1937|         Right|                       2|        4|          2|Medium/ Medium|   Normal|      Yes|     RCB|            3|Oct 24, 2016|       null|                2021|   6.2|   188.976| 196.0| 88.904032|      57|       53|             81|          75|     40|       65|   48|        55|         72|         73|          62|         72|     56|       77|     59|       79|     80|     74|      87|       64|        79|           79|         44|    63|       40|       77|     84|            84|           79|      12|        11|       11|           12|        10|             43.2|\n",
            "|235790|         K. Havertz| 19|https://cdn.sofif...|      Germany|https://cdn.sofif...|     80|       89| Bayer 04 Leverkusen|https://cdn.sofif...|      22|     32|   1876|          Left|                       1|        5|          4|Medium/ Medium|     Lean|       No|     CAM|           29| Jul 1, 2016|       null|                2022|   6.2|   188.976| 183.0| 83.007336|      69|       72|             65|          82|     71|       81|   65|        53|         73|         83|          77|         86|     78|       78|     71|       66|     69|     73|      61|       66|        40|           32|         78|    83|       49|       80|     28|            42|           38|       6|         8|       11|           10|        12|             41.8|\n",
            "|227796|         C. Pulisic| 19|https://cdn.sofif...|United States|https://cdn.sofif...|     79|       87|   Borussia Dortmund|https://cdn.sofif...|      18|     26|   1925|         Right|                       3|        4|          4|Medium/ Medium|     Lean|      Yes|      RM|           10| Jan 5, 2016|       null|                2020|   5.1|   155.448| 152.0| 68.945984|      69|       67|             46|          77|     70|       87|   69|        58|         56|         82|          93|         88|     87|       79|     89|       79|     84|     74|      52|       58|        45|           32|         73|    78|       61|       67|     38|            30|           41|       8|        12|       13|           16|        14|             34.2|\n",
            "|231281|T. Alexander-Arnold| 19|https://cdn.sofif...|      England|https://cdn.sofif...|     78|       88|           Liverpool|https://cdn.sofif...|      14|     36|   2025|         Right|                       1|        3|          3|  High/ Medium|     Lean|      Yes|      RB|           14| Oct 7, 2015|       null|                2021|  5.11|  155.7528| 152.0| 68.945984|      83|       56|             59|          76|     41|       72|   74|        74|         75|         72|          82|         79|     74|       75|     74|       70|     66|     79|      62|       63|        73|           76|         62|    72|       55|       74|     75|            76|           74|      14|        15|       14|            6|         7|             29.4|\n",
            "|231691|          A. Lafont| 19|https://cdn.sofif...|       France|https://cdn.sofif...|     78|       90|          Fiorentina|https://cdn.sofif...|      14|     12|   1200|         Right|                       2|        3|          1|Medium/ Medium|     Lean|       No|      GK|            1| Jul 2, 2018|       null|                2023|   6.4|   195.072| 181.0| 82.100152|      13|        6|             13|          54|      9|       14|   13|        12|         38|         10|          48|         45|     55|       69|     53|       23|     73|     40|      70|        9|        20|           17|          4|    47|       16|       59|     20|            14|           12|      79|        77|       71|           76|        80|             26.6|\n",
            "|235212|          A. Hakimi| 19|https://cdn.sofif...|      Morocco|https://cdn.sofif...|     78|       86|   Borussia Dortmund|https://cdn.sofif...|    12.5|     49|   2024|         Right|                       1|        2|          3|  High/ Medium|   Normal|      Yes|      LB|            5|        null|Real Madrid|        Jun 30, 2020|  5.11|  155.7528| 161.0| 73.028312|      76|       59|             64|          77|     48|       78|   65|        55|         68|         78|          89|         91|     75|       77|     75|       75|     69|     84|      73|       62|        67|           71|         71|    63|       46|       72|     74|            73|           75|      10|         8|       14|            6|         8|             null|\n",
            "|233049|          J. Sancho| 18|https://cdn.sofif...|      England|https://cdn.sofif...|     77|       89|   Borussia Dortmund|https://cdn.sofif...|    14.5|     22|   1785|         Right|                       1|        3|          5|Medium/ Medium|     Lean|       No|      RM|            7|Aug 31, 2017|       null|                2022|  5.11|  155.7528| 168.0| 76.203456|      68|       70|             38|          74|     65|       86|   75|        48|         54|         85|          88|         86|     90|       76|     87|       64|     49|     66|      52|       48|        39|           26|         68|    75|       57|       64|     30|            33|           36|       7|        11|       10|           11|        13|             27.6|\n",
            "|229558|       D. Upamecano| 19|https://cdn.sofif...|       France|https://cdn.sofif...|     77|       88|          RB Leipzig|https://cdn.sofif...|      13|     18|   1708|         Right|                       1|        3|          2|Medium/ Medium|   Stocky|       No|     LCB|            5|Jan 13, 2017|       null|                2021|   6.1|   185.928| 183.0| 83.007336|      47|       39|             71|          72|     21|       59|   32|        28|         66|         64|          73|         85|     61|       67|     62|       44|     86|     61|      88|       24|        81|           75|         35|    56|       39|       68|     68|            84|           75|       6|         7|        8|           15|         9|             24.7|\n",
            "|238794|  Vin��cius J��nior| 17|https://cdn.sofif...|       Brazil|https://cdn.sofif...|     77|       92|         Real Madrid|https://cdn.sofif...|    17.5|     66|   1849|         Right|                       1|        4|          5|  High/ Medium|     Lean|       No|      LW|           28|Jul 12, 2018|       null|                2025|   5.9|   179.832| 161.0| 73.028312|      65|       70|             50|          70|     71|       81|   77|        62|         48|         80|          92|         94|     90|       70|     82|       74|     74|     79|      59|       68|        48|           26|         74|    69|       65|       75|     32|            25|           18|       5|         7|        7|            7|        10|             46.8|\n",
            "|243952|           A. Lunin| 19|https://cdn.sofif...|      Ukraine|https://cdn.sofif...|     76|       88|         CD Legan��s|https://cdn.sofif...|    10.5|     24|   1078|         Right|                       1|        3|          1|Medium/ Medium|   Normal|       No|      GK|           29|        null|Real Madrid|        Jun 30, 2019|   6.3|   192.024| 176.0| 79.832192|      15|        8|             12|          25|     12|       11|   14|        15|         26|         15|          33|         26|     36|       76|     22|       22|     56|     32|      61|        7|        22|           19|         11|    60|       19|       56|     22|            13|           11|      74|        71|       76|           77|        79|             null|\n",
            "|234568|   Gedson Fernandes| 19|https://cdn.sofif...|     Portugal|https://cdn.sofif...|     76|       86|          SL Benfica|https://cdn.sofif...|      12|      6|   2078|         Right|                       1|        3|          3|    High/ High|     Lean|       No|     RCM|           83|Jul 20, 2015|       null|                2023|  5.11|  155.7528| 157.0| 71.213944|      71|       64|             61|          75|     64|       77|   68|        70|         72|         77|          81|         78|     79|       77|     71|       80|     69|     88|      73|       77|        77|           68|         71|    73|       61|       74|     68|            72|           71|       9|        15|        7|            9|         5|             26.4|\n",
            "|231826|         Y. Karamoh| 19|https://cdn.sofif...|       France|https://cdn.sofif...|     75|       85|FC Girondins de B...|https://cdn.sofif...|    10.5|     24|   1800|         Right|                       1|        4|          3|  High/ Medium|     Lean|       No|      RM|            8|        null|      Inter|        Jun 30, 2019|   6.1|   185.928| 170.0|  77.11064|      67|       68|             65|          70|     66|       80|   67|        44|         63|         79|          84|         79|     73|       70|     65|       69|     68|     72|      61|       70|        50|           29|         72|    70|       65|       65|     23|            31|           26|      14|        10|       10|            8|        12|             null|\n",
            "|234986|          P. Retsos| 19|https://cdn.sofif...|       Greece|https://cdn.sofif...|     75|       85| Bayer 04 Leverkusen|https://cdn.sofif...|       9|     19|   1669|         Right|                       1|        3|          2|  Medium/ High|     Lean|       No|      CB|            3|Aug 31, 2017|       null|                2022|   6.1|   185.928| 179.0| 81.192968|      57|       26|             70|          77|     26|       46|   31|        29|         62|         65|          69|         74|     67|       72|     54|       60|     74|     76|      74|       33|        69|           75|         37|    42|       33|       73|     72|            79|           73|      14|         9|       11|            6|         7|             17.1|\n",
            "|235454|            M. Sarr| 19|https://cdn.sofif...|       France|https://cdn.sofif...|     75|       84|            OGC Nice|https://cdn.sofif...|     8.5|     11|   1876|          Left|                       1|        4|          2|     Low/ High|   Stocky|       No|     LCB|           23| Jul 1, 2016|       null|                2021|   6.0|    182.88| 161.0| 73.028312|      68|       49|             73|          74|     37|       62|   68|        40|         69|         67|          74|         72|     74|       72|     70|       50|     78|     79|      79|       40|        68|           74|         59|    63|       44|       78|     72|            77|           75|       6|         9|       14|           12|         8|             17.9|\n",
            "|233064|           M. Mount| 19|https://cdn.sofif...|      England|https://cdn.sofif...|     75|       86|        Derby County|https://cdn.sofif...|      11|     37|   1840|         Right|                       1|        4|          3|  High/ Medium|     Lean|      Yes|     LCM|            8|        null|    Chelsea|        Jun 30, 2019|   5.1|   155.448| 141.0| 63.956472|      69|       67|             59|          76|     61|       76|   75|        76|         71|         79|          77|         69|     78|       70|     75|       70|     46|     74|      46|       68|        38|           45|         63|    78|       60|       70|     44|            44|           30|      11|        12|       13|            8|        12|             null|\n",
            "|235883|       R. Sessegnon| 18|https://cdn.sofif...|      England|https://cdn.sofif...|     75|       88|              Fulham|https://cdn.sofif...|      12|     27|   1933|          Left|                       1|        3|          4|  High/ Medium|     Lean|      Yes|      LM|            3| Aug 9, 2016|       null|                2020|   5.1|   155.448| 154.0| 69.853168|      71|       75|             55|          74|     55|       74|   54|        31|         63|         76|          85|         87|     79|       75|     85|       67|     66|     78|      55|       57|        60|           67|         77|    71|       61|       79|     66|            68|           62|       6|        11|        7|            8|         7|             30.3|\n",
            "|238476|         D. Zagadou| 19|https://cdn.sofif...|       France|https://cdn.sofif...|     75|       85|   Borussia Dortmund|https://cdn.sofif...|       9|     16|   1559|          Left|                       1|        3|          2|Medium/ Medium|   Stocky|       No|      CB|            2| Jul 1, 2017|       null|                2022|   6.5|    198.12| 198.0| 89.811216|      46|       26|             77|          71|     25|       49|   37|        25|         55|         54|          52|         69|     47|       70|     34|       56|     64|     61|      87|       24|        75|           70|         31|    42|       30|       68|     71|            81|           75|       9|        13|        5|           14|        14|             17.1|\n",
            "|236920|        J. Kluivert| 19|https://cdn.sofif...|  Netherlands|https://cdn.sofif...|     75|       86|                Roma|https://cdn.sofif...|      11|     28|   1877|         Right|                       1|        4|          4|  High/ Medium|   Normal|       No|      LW|           34| Jul 1, 2018|       null|                2023|   5.7|   173.736| 146.0| 66.224432|      69|       70|             52|          68|     67|       82|   72|        58|         54|         78|          91|         88|     85|       67|     83|       77|     66|     69|      61|       76|        66|           25|         65|    72|       66|       74|     47|            32|           27|       5|         6|       14|            7|        12|             20.9|\n",
            "+------+-------------------+---+--------------------+-------------+--------------------+-------+---------+--------------------+--------------------+--------+-------+-------+--------------+------------------------+---------+-----------+--------------+---------+---------+--------+-------------+------------+-----------+--------------------+------+----------+------+----------+--------+---------+---------------+------------+-------+---------+-----+----------+-----------+-----------+------------+-----------+-------+---------+-------+---------+-------+-------+--------+---------+----------+-------------+-----------+------+---------+---------+-------+--------------+-------------+--------+----------+---------+-------------+----------+-----------------+\n",
            "only showing top 20 rows\n",
            "\n"
          ],
          "name": "stdout"
        }
      ]
    },
    {
      "cell_type": "markdown",
      "metadata": {
        "id": "SflOclDSuYBw"
      },
      "source": [
        "Best player under 20 (Kylian Mbappe) and he has the best potential as well "
      ]
    },
    {
      "cell_type": "code",
      "metadata": {
        "colab": {
          "base_uri": "https://localhost:8080/"
        },
        "id": "Ec0qmitIsAO1",
        "outputId": "460e9d5b-a626-4003-fefe-f0e59ee465c5"
      },
      "source": [
        "# under 20 players having worst potential\n",
        "spark.sql(\"\"\"\n",
        "          Select * from soccer_analysis Where Age < 20 Order By Potential Asc\n",
        "          \"\"\").show()"
      ],
      "execution_count": 21,
      "outputs": [
        {
          "output_type": "stream",
          "text": [
            "+------+-------------+---+--------------------+-------------------+--------------------+-------+---------+--------------------+--------------------+--------+-------+-------+--------------+------------------------+---------+-----------+--------------+---------+---------+--------+-------------+------------+-----------+--------------------+------+----------+------+----------+--------+---------+---------------+------------+-------+---------+-----+----------+-----------+-----------+------------+-----------+-------+---------+-------+---------+-------+-------+--------+---------+----------+-------------+-----------+------+---------+---------+-------+--------------+-------------+--------+----------+---------+-------------+----------+-----------------+\n",
            "|    ID|         Name|Age|               Photo|        Nationality|                Flag|Overall|Potential|                Club|           Club Logo|value(M)|wage(K)|Special|Preferred Foot|International Reputation|Weak Foot|Skill Moves|     Work Rate|Body Type|Real Face|Position|Jersey Number|      Joined|Loaned From|Contract Valid Until|Height|Height(CM)|Weight|Weight(KG)|Crossing|Finishing|HeadingAccuracy|ShortPassing|Volleys|Dribbling|Curve|FKAccuracy|LongPassing|BallControl|Acceleration|SprintSpeed|Agility|Reactions|Balance|ShotPower|Jumping|Stamina|Strength|LongShots|Aggression|Interceptions|Positioning|Vision|Penalties|Composure|Marking|StandingTackle|SlidingTackle|GKDiving|GKHandling|GKKicking|GKPositioning|GKReflexes|Release Clause(M)|\n",
            "+------+-------------+---+--------------------+-------------------+--------------------+-------+---------+--------------------+--------------------+--------+-------+-------+--------------+------------------------+---------+-----------+--------------+---------+---------+--------+-------------+------------+-----------+--------------------+------+----------+------+----------+--------+---------+---------------+------------+-------+---------+-----+----------+-----------+-----------+------------+-----------+-------+---------+-------+---------+-------+-------+--------+---------+----------+-------------+-----------+------+---------+---------+-------+--------------+-------------+--------+----------+---------+-------------+----------+-----------------+\n",
            "|241657|    D. Horton| 18|https://cdn.sofif...|            England|https://cdn.sofif...|     48|       55|        Lincoln City|https://cdn.sofif...|     40K|      1|   1368|         Right|                       1|        3|          2|Medium/ Medium|   Normal|       No|      CM|           33| Nov 4, 2017|       null|                2021|   6.1|   185.928| 179.0| 81.192968|      33|       24|             42|          54|     33|       44|   34|        36|         50|         47|          61|         57|     57|       44|     58|       47|     64|     59|      66|       31|        53|           49|         35|    46|       37|       42|     47|            49|           53|      12|         5|       12|           14|        15|              78K|\n",
            "|246227|   T. Hillman| 17|https://cdn.sofif...|              Wales|https://cdn.sofif...|     48|       57|      Newport County|https://cdn.sofif...|     40K|      1|   1218|         Right|                       1|        2|          2|  High/ Medium|     Lean|       No|      RM|           34|Oct 20, 2018|       null|                2019|  5.11|  155.7528| 148.0| 67.131616|      40|       47|             38|          46|     39|       48|   43|        35|         43|         50|          69|         72|     51|       30|     65|       49|     44|     50|      42|       33|        22|           21|         40|    40|       46|       36|     18|            25|           25|      14|         6|        9|           10|         8|              78K|\n",
            "|246111|M. Humpen?der| 19|https://cdn.sofif...|            Germany|https://cdn.sofif...|     50|       57|FC W��rzburger Ki...|https://cdn.sofif...|     30K|      1|    823|         Right|                       1|        3|          1|Medium/ Medium|   Normal|       No|      GK|           39|Sep 25, 2018|       null|                2019|   6.2|   188.976| 201.0| 91.171992|      12|        6|             13|          24|      6|       13|   12|        13|         17|         14|          33|         31|     32|       41|     31|       21|     51|     24|      62|        7|        19|           14|          5|    30|       13|       23|      6|            13|           12|      49|        55|       50|           41|        53|              50K|\n",
            "|245945|     L. Hlabi| 18|https://cdn.sofif...|            England|https://cdn.sofif...|     55|       58|          Gillingham|https://cdn.sofif...|    100K|      1|   1342|         Right|                       1|        2|          2|Medium/ Medium|   Normal|       No|      ST|           29| Jul 1, 2018|       null|                2018|   6.0|    182.88| 174.0| 78.925008|      36|       49|             49|          38|     30|       38|   39|        29|         28|         39|          78|         79|     54|       58|     80|       68|     72|     66|      75|       49|        47|           14|         55|    26|       54|       41|     12|            17|           16|      12|        10|        7|            8|        10|             183K|\n",
            "|242290| M. Antkowiak| 18|https://cdn.sofif...|             Poland|https://cdn.sofif...|     50|       58|        Lincoln City|https://cdn.sofif...|     30K|      1|    898|         Right|                       1|        3|          1|Medium/ Medium|     Lean|       No|      GK|           22| Jul 1, 2017|       null|                2018|   6.0|    182.88| 179.0| 81.192968|      14|       11|             11|          28|     13|       10|   11|        12|         31|         12|          33|         37|     43|       47|     42|       14|     63|     33|      41|       12|        24|           13|         10|    18|       27|       44|     20|            12|           13|      53|        49|       47|           42|        52|              59K|\n",
            "|245445|     H. Benns| 18|https://cdn.sofif...|            England|https://cdn.sofif...|     50|       58|           Port Vale|https://cdn.sofif...|     40K|      1|   1263|         Right|                       1|        3|          3|Medium/ Medium|     Lean|       No|      RW|           26|Aug 14, 2018|       null|                2019|   5.7|   173.736| 143.0| 64.863656|      44|       49|             36|          36|     39|       53|   40|        30|         31|         55|          74|         72|     68|       31|     80|       58|     40|     42|      39|       39|        33|           21|         45|    47|       49|       47|     20|            22|           20|      15|        15|        5|           10|         5|              78K|\n",
            "|239811|    Lee Yunoh| 19|https://cdn.sofif...|     Korea Republic|https://cdn.sofif...|     53|       58|      Vegalta Sendai|https://cdn.sofif...|     50K|      1|    806|         Right|                       1|        2|          1|Medium/ Medium|   Normal|       No|      GK|           35| Apr 7, 2017|       null|                2021|   6.3|   192.024| 194.0| 87.996848|       8|        5|             10|          28|      6|       10|    9|        13|         23|         18|          14|         23|     22|       35|     27|       20|     39|     31|      65|        4|        26|           14|          7|    36|       10|       29|      8|            12|           11|      54|        52|       55|           52|        59|              66K|\n",
            "|244631| P. Wieliczko| 18|https://cdn.sofif...|             Poland|https://cdn.sofif...|     48|       58|         Wis?a P?ock|https://cdn.sofif...|     40K|      1|   1354|         Right|                       1|        2|          2|Medium/ Medium|   Normal|       No|      CM|           99| Jul 1, 2017|       null|                2021|   6.1|   185.928| 176.0| 79.832192|      42|       31|             42|          54|     32|       51|   32|        38|         51|         50|          66|         69|     56|       47|     57|       48|     58|     43|      60|       34|        53|           39|         48|    46|       36|       36|     50|            37|           44|      12|         9|        6|            6|         7|              62K|\n",
            "|243934|    J. Hipper| 19|https://cdn.sofif...|            Germany|https://cdn.sofif...|     50|       59|   TSV 1860 M��nchen|https://cdn.sofif...|     30K|      1|    806|         Right|                       1|        2|          1|Medium/ Medium|   Normal|       No|      GK|           30| Jul 1, 2017|       null|                2019|   6.0|    182.88| 168.0| 76.203456|      13|        9|             10|          21|      5|        5|   11|        11|         25|         11|          24|         31|     31|       44|     47|       17|     71|     17|      51|        7|        16|           12|          4|    31|       11|       25|      7|            10|           10|      56|        47|       44|           46|        51|              50K|\n",
            "|244359| L. Catherall| 18|https://cdn.sofif...|            England|https://cdn.sofif...|     51|       59|          Gillingham|https://cdn.sofif...|     40K|      1|    760|         Right|                       1|        2|          1|Medium/ Medium|   Stocky|       No|      GK|           32| Jul 1, 2018|       null|                2019|   6.4|   195.072| 165.0|  74.84268|      11|        6|              9|          20|      7|       11|   11|        11|         13|         13|          29|         17|     28|       42|     29|       18|     45|     16|      59|        8|        16|            7|          5|    24|       12|       31|     12|            14|           12|      53|        50|       50|           45|        57|              78K|\n",
            "|245629|  T. O'Connor| 17|https://cdn.sofif...|Republic of Ireland|https://cdn.sofif...|     49|       59|         Limerick FC|https://cdn.sofif...|     40K|      1|   1177|         Right|                       1|        2|          2|Medium/ Medium|     Lean|       No|      CB|           14| Jul 6, 2018|       null|                2018|  5.11|  155.7528| 163.0| 73.935496|      26|       18|             46|          43|     29|       27|   24|        23|         28|         43|          62|         55|     41|       42|     65|       36|     74|     57|      54|       24|        47|           51|         20|    26|       33|       37|     39|            51|           48|      10|         5|       11|            5|        14|              70K|\n",
            "|242591|    K. Hawley| 18|https://cdn.sofif...|            England|https://cdn.sofif...|     49|       59|           Morecambe|https://cdn.sofif...|     40K|      1|   1175|         Right|                       1|        2|          2|Medium/ Medium|     Lean|       No|      ST|           30|Mar 31, 2017|       null|                2019|   5.1|   155.448| 154.0| 69.853168|      18|       54|             47|          35|     34|       39|   36|        28|         20|         47|          54|         57|     55|       47|     61|       52|     65|     56|      48|       30|        28|           15|         48|    44|       43|       48|     27|            12|           12|      12|        12|       11|           15|        13|              78K|\n",
            "|243961|     E. Tweed| 19|https://cdn.sofif...|Republic of Ireland|https://cdn.sofif...|     48|       59|          Derry City|https://cdn.sofif...|     50K|      1|   1315|         Right|                       1|        3|          2|Medium/ Medium|   Normal|       No|     LCM|           19|Feb 23, 2018|       null|                2018|  5.11|  155.7528| 159.0| 72.121128|      37|       34|             49|          55|     27|       40|   31|        30|         46|         43|          59|         61|     63|       53|     66|       47|     60|     60|      43|       30|        52|           45|         35|    49|       40|       43|     39|            39|           48|       6|        11|        9|            5|         8|              88K|\n",
            "|243649|    E. Clarke| 19|https://cdn.sofif...|            England|https://cdn.sofif...|     48|       59|      Fleetwood Town|https://cdn.sofif...|     40K|      1|   1225|          Left|                       1|        2|          2|Medium/ Medium|     Lean|       No|      LB|            3|May 23, 2018|       null|                2019|   5.8|   176.784| 154.0| 69.853168|      40|       25|             38|          29|     21|       48|   34|        32|         21|         31|          66|         55|     49|       46|     42|       26|     62|     62|      52|       26|        54|           45|         43|    38|       39|       30|     45|            52|           49|       9|        12|       15|           12|         7|              78K|\n",
            "|241401|   S. Moloney| 18|https://cdn.sofif...|            England|https://cdn.sofif...|     54|       59|                Bury|https://cdn.sofif...|     60K|      1|    861|         Right|                       1|        2|          1|Medium/ Medium|   Normal|       No|      GK|           43| Jul 1, 2017|       null|                2019|  5.11|  155.7528| 154.0| 69.853168|      13|        8|             11|          27|      7|       13|   14|        10|         28|         11|          28|         27|     33|       45|     42|       22|     62|     24|      35|        7|        28|            6|          7|    25|       14|       43|     19|            13|           14|      55|        51|       53|           55|        54|             110K|\n",
            "|245417|    J. Manley| 19|https://cdn.sofif...|Republic of Ireland|https://cdn.sofif...|     48|       59|St. Patrick's Ath...|https://cdn.sofif...|     40K|      1|   1152|         Right|                       1|        3|          2|Medium/ Medium|   Normal|       No|      CB|           28| Jun 8, 2018|       null|                2018|   5.8|   176.784| 159.0| 72.121128|      28|       23|             45|          27|     24|       25|   21|        26|         29|         28|          63|         50|     47|       42|     76|       35|     65|     49|      49|       21|        45|           46|         25|    29|       37|       43|     42|            54|           54|       6|        11|       12|           13|         5|              70K|\n",
            "|240158|    C. Ehlich| 19|https://cdn.sofif...|            Germany|https://cdn.sofif...|     47|       59|  SpVgg Unterhaching|https://cdn.sofif...|     40K|      1|   1366|         Right|                       1|        3|          2|  High/ Medium|     Lean|       No|      RB|           33| Jul 1, 2017|       null|                2020|   5.1|   155.448| 161.0| 73.028312|      39|       40|             45|          46|     42|       46|   35|        29|         22|         49|          65|         62|     68|       44|     70|       44|     69|     61|      59|       41|        38|           36|         44|    38|       47|       47|     40|            42|           42|      13|        12|       11|           15|        12|              66K|\n",
            "|240708|   T. Knowles| 19|https://cdn.sofif...|            England|https://cdn.sofif...|     50|       59|    Cambridge United|https://cdn.sofif...|     40K|      1|   1242|         Right|                       1|        3|          2|     High/ Low|   Normal|       No|      ST|           23| Oct 6, 2018|       null|                2019|   6.0|    182.88| 154.0| 69.853168|      25|       52|             49|          42|     34|       41|   36|        33|         28|         41|          57|         68|     46|       47|     55|       55|     59|     51|      56|       47|        50|           18|         48|    48|       50|       41|     35|            19|           16|       5|         6|        8|            9|         8|              78K|\n",
            "|229047|W. Longbottom| 19|https://cdn.sofif...|            England|https://cdn.sofif...|     53|       60|    Doncaster Rovers|https://cdn.sofif...|     80K|      1|   1425|          Left|                       1|        3|          2|Medium/ Medium|     Lean|       No|      ST|           21|Mar 31, 2016|       null|                2020|   5.9|   179.832| 137.0| 62.142104|      46|       57|             40|          43|     33|       54|   32|        29|         32|         52|          59|         63|     69|       57|     74|       46|     65|     50|      54|       40|        52|           54|         56|    38|       55|       40|     37|            42|           41|      12|        14|        9|           10|        10|             156K|\n",
            "|244484| B. Gr?tterud| 19|https://cdn.sofif...|             Norway|https://cdn.sofif...|     52|       60|       FK Bod?/Glimt|https://cdn.sofif...|     50K|      1|    923|         Right|                       1|        1|          1|Medium/ Medium|     Lean|       No|      GK|           31| Jun 1, 2018|       null|                2021|   6.1|   185.928| 165.0|  74.84268|      18|       11|             11|          25|     12|       15|   18|        14|         30|         14|          20|         28|     25|       40|     45|       24|     60|     23|      41|       13|        33|           15|         10|    45|       18|       34|     28|            15|           14|      55|        52|       48|           44|        59|              73K|\n",
            "+------+-------------+---+--------------------+-------------------+--------------------+-------+---------+--------------------+--------------------+--------+-------+-------+--------------+------------------------+---------+-----------+--------------+---------+---------+--------+-------------+------------+-----------+--------------------+------+----------+------+----------+--------+---------+---------------+------------+-------+---------+-----+----------+-----------+-----------+------------+-----------+-------+---------+-------+---------+-------+-------+--------+---------+----------+-------------+-----------+------+---------+---------+-------+--------------+-------------+--------+----------+---------+-------------+----------+-----------------+\n",
            "only showing top 20 rows\n",
            "\n"
          ],
          "name": "stdout"
        }
      ]
    },
    {
      "cell_type": "code",
      "metadata": {
        "colab": {
          "base_uri": "https://localhost:8080/"
        },
        "id": "q2Xe62ZdsKMq",
        "outputId": "af3c72c0-fe06-425e-b208-8d0a6371e3f1"
      },
      "source": [
        "# finding the Australian player with highest potential\n",
        "spark.sql(\"\"\"\n",
        "          Select * from soccer_analysis Where Nationality = 'Australia' Order By Potential Desc\n",
        "          \"\"\").show()"
      ],
      "execution_count": 22,
      "outputs": [
        {
          "output_type": "stream",
          "text": [
            "+------+-------------+---+--------------------+-----------+--------------------+-------+---------+--------------------+--------------------+--------+-------+-------+--------------+------------------------+---------+-----------+--------------+---------+---------+--------+-------------+------------+--------------------+--------------------+------+----------+------+----------+--------+---------+---------------+------------+-------+---------+-----+----------+-----------+-----------+------------+-----------+-------+---------+-------+---------+-------+-------+--------+---------+----------+-------------+-----------+------+---------+---------+-------+--------------+-------------+--------+----------+---------+-------------+----------+-----------------+\n",
            "|    ID|         Name|Age|               Photo|Nationality|                Flag|Overall|Potential|                Club|           Club Logo|value(M)|wage(K)|Special|Preferred Foot|International Reputation|Weak Foot|Skill Moves|     Work Rate|Body Type|Real Face|Position|Jersey Number|      Joined|         Loaned From|Contract Valid Until|Height|Height(CM)|Weight|Weight(KG)|Crossing|Finishing|HeadingAccuracy|ShortPassing|Volleys|Dribbling|Curve|FKAccuracy|LongPassing|BallControl|Acceleration|SprintSpeed|Agility|Reactions|Balance|ShotPower|Jumping|Stamina|Strength|LongShots|Aggression|Interceptions|Positioning|Vision|Penalties|Composure|Marking|StandingTackle|SlidingTackle|GKDiving|GKHandling|GKKicking|GKPositioning|GKReflexes|Release Clause(M)|\n",
            "+------+-------------+---+--------------------+-----------+--------------------+-------+---------+--------------------+--------------------+--------+-------+-------+--------------+------------------------+---------+-----------+--------------+---------+---------+--------+-------------+------------+--------------------+--------------------+------+----------+------+----------+--------+---------+---------------+------------+-------+---------+-----+----------+-----------+-----------+------------+-----------+-------+---------+-------+---------+-------+-------+--------+---------+----------+-------------+-----------+------+---------+---------+-------+--------------+-------------+--------+----------+---------+-------------+----------+-----------------+\n",
            "|234867|    D. Arzani| 19|https://cdn.sofif...|  Australia|https://cdn.sofif...|     69|       83|              Celtic|https://cdn.sofif...|     2.3|     20|   1575|         Right|                       1|        3|          4|     High/ Low|     Lean|      Yes|      RM|           14|        null|     Manchester City|        Jun 30, 2020|   5.7|   173.736| 161.0| 73.028312|      65|       63|             23|          64|     51|       76|   66|        40|         58|         69|          79|         80|     80|       58|     62|       53|     33|     61|      32|       57|        35|           23|         62|    65|       64|       65|     34|            33|           35|       8|         8|       14|           10|        14|             null|\n",
            "|199005|      M. Ryan| 26|https://cdn.sofif...|  Australia|https://cdn.sofif...|     79|       81|Brighton & Hove A...|https://cdn.sofif...|    10.5|     41|   1341|         Right|                       1|        4|          1|Medium/ Medium|   Normal|      Yes|      GK|            1| Jul 1, 2017|                null|                2022|   6.0|    182.88| 181.0| 82.100152|      23|       11|             14|          40|     15|       13|   23|        12|         45|         24|          53|         52|     53|       73|     50|       35|     78|     34|      68|       18|        36|           23|         10|    68|       25|       64|     10|            20|           17|      81|        74|       82|           78|        83|             20.7|\n",
            "|229585|   M. Degenek| 24|https://cdn.sofif...|  Australia|https://cdn.sofif...|     73|       80|                null|https://cdn.sofif...|    null|   null|   1995|         Right|                       1|        4|          2|    High/ High|     Lean|       No|      CB|            2|        null|                null|                null|   6.2|   188.976| 181.0| 82.100152|      70|       59|             70|          74|     62|       58|   69|        44|         72|         64|          79|         79|     78|       72|     70|       70|     81|     86|      84|       61|        81|           70|         55|    67|       58|       80|     65|            71|           71|      14|        12|        7|           10|        12|             null|\n",
            "|241861|  N. Atkinson| 19|https://cdn.sofif...|  Australia|https://cdn.sofif...|     64|       79|   Melbourne City FC|https://cdn.sofif...|    875K|      1|   1778|         Right|                       1|        4|          3|  High/ Medium|   Normal|       No|      RW|           13|Dec 10, 2017|                null|                2020|  5.11|  155.7528| 159.0| 72.121128|      59|       46|             38|          61|     31|       65|   65|        38|         55|         64|          84|         80|     86|       62|     89|       44|     88|     75|      74|       43|        55|           54|         66|    60|       51|       66|     64|            65|           60|      15|        11|       12|           12|         6|              1.6|\n",
            "|207928|     T. Rogi?| 25|https://cdn.sofif...|  Australia|https://cdn.sofif...|     76|       79|              Celtic|https://cdn.sofif...|     9.5|     46|   1885|          Left|                       1|        4|          4|Medium/ Medium|   Normal|       No|     CAM|           23| Jan 9, 2013|                null|                2023|   6.2|   188.976| 194.0| 87.996848|      61|       70|             60|          76|     68|       82|   76|        57|         70|         82|          74|         66|     74|       64|     75|       82|     52|     55|      77|       80|        48|           38|         75|    73|       56|       83|     46|            48|           41|      12|        11|       13|           12|        11|             17.8|\n",
            "|241552|  J. Italiano| 16|https://cdn.sofif...|  Australia|https://cdn.sofif...|     58|       79|         Perth Glory|https://cdn.sofif...|    280K|      1|   1434|         Right|                       1|        2|          3|  High/ Medium|     Lean|       No|      LM|           26|Oct 15, 2017|                null|                2019|   5.7|   173.736| 143.0| 64.863656|      43|       50|             36|          61|     35|       59|   41|        36|         57|         56|          80|         72|     72|       53|     79|       54|     58|     57|      42|       33|        38|           22|         53|    52|       40|       57|     36|            38|           43|       7|         7|        9|           10|         5|             630K|\n",
            "|212830|     A. Mabil| 22|https://cdn.sofif...|  Australia|https://cdn.sofif...|     70|       78|      FC Midtjylland|https://cdn.sofif...|     2.6|     12|   1651|         Right|                       1|        2|          4|   Medium/ Low|     Lean|       No|      RW|           21|Jul 28, 2015|                null|                2022|   5.1|   155.448| 161.0| 73.028312|      68|       59|             33|          62|     48|       75|   62|        60|         47|         73|          93|         92|     85|       65|     72|       60|     56|     68|      43|       44|        35|           25|         65|    57|       53|       60|     37|            23|           20|      16|        12|       18|           13|        12|              3.9|\n",
            "|213488|  D. De Silva| 21|https://cdn.sofif...|  Australia|https://cdn.sofif...|     67|       78|           Sydney FC|https://cdn.sofif...|     1.3|      1|   1679|         Right|                       1|        4|          3|    High/ High|     Lean|       No|     CAM|           11|        null|Central Coast Mar...|        May 31, 2019|   5.7|   173.736| 132.0| 59.874144|      47|       59|             27|          65|     59|       70|   62|        45|         63|         72|          77|         74|     81|       56|     88|       59|     77|     89|      67|       65|        36|           30|         60|    64|       50|       67|     32|            36|           20|       7|         9|        8|           15|        10|             null|\n",
            "|233487|    R. McGree| 19|https://cdn.sofif...|  Australia|https://cdn.sofif...|     66|       77|   Melbourne City FC|https://cdn.sofif...|     1.1|      3|   1790|          Left|                       1|        3|          3|Medium/ Medium|   Normal|       No|     RCM|            8|        null|      Club Brugge KV|        May 31, 2019|   5.1|   155.448| 159.0| 72.121128|      53|       63|             48|          66|     40|       70|   65|        55|         64|         69|          76|         76|     76|       62|     75|       64|     58|     74|      63|       58|        68|           60|         66|    64|       44|       68|     57|            57|           52|      12|         9|        5|            8|        13|             null|\n",
            "|205347|    M. Luongo| 25|https://cdn.sofif...|  Australia|https://cdn.sofif...|     74|       77| Queens Park Rangers|https://cdn.sofif...|       6|      9|   1960|         Right|                       1|        3|          3|  Medium/ High|   Normal|       No|     RDM|            8|May 28, 2015|                null|                2020|   5.9|   179.832| 168.0| 76.203456|      51|       63|             59|          71|     46|       74|   49|        46|         68|         72|          73|         74|     79|       72|     76|       69|     84|     92|      72|       63|        76|           72|         65|    70|       52|       63|     64|            77|           74|      15|        13|        9|           14|         6|             11.9|\n",
            "|199000| T. Sainsbury| 26|https://cdn.sofif...|  Australia|https://cdn.sofif...|     74|       77|                 PSV|https://cdn.sofif...|       6|     13|   1836|         Right|                       1|        3|          2|Medium/ Medium|     Lean|       No|     RCB|           20| Aug 7, 2018|                null|                2021|   6.0|    182.88| 172.0| 78.017824|      58|       45|             74|          67|     33|       55|   62|        25|         68|         55|          74|         74|     67|       74|     73|       61|     77|     75|      76|       43|        62|           77|         52|    62|       63|       70|     82|            70|           76|      13|        12|       11|           14|         6|              8.9|\n",
            "|230888|   A. O'Neill| 19|https://cdn.sofif...|  Australia|https://cdn.sofif...|     65|       77|Central Coast Mar...|https://cdn.sofif...|    925K|      6|   1781|         Right|                       1|        2|          3|Medium/ Medium|   Normal|      Yes|      RM|           13|        null|             Burnley|        May 31, 2019|   5.1|   155.448| 154.0| 69.853168|      53|       66|             45|          66|     49|       63|   58|        42|         64|         66|          78|         77|     79|       60|     72|       61|     71|     80|      61|       69|        56|           61|         59|    60|       49|       70|     59|            55|           49|      10|        15|        7|           12|         9|             null|\n",
            "|228171|C. Ikonomidis| 23|https://cdn.sofif...|  Australia|https://cdn.sofif...|     68|       76|         Perth Glory|https://cdn.sofif...|     1.3|      3|   1756|         Right|                       1|        4|          3|  High/ Medium|     Lean|       No|     CAM|           19|Sep 11, 2018|                null|                2021|  5.11|  155.7528| 161.0| 73.028312|      65|       66|             54|          68|     61|       70|   58|        56|         62|         68|          76|         72|     70|       67|     64|       63|     41|     60|      64|       65|        55|           49|         59|    65|       58|       59|     47|            48|           51|      10|         7|       11|           11|        15|              1.9|\n",
            "|202157|    A. Behich| 27|https://cdn.sofif...|  Australia|https://cdn.sofif...|     74|       75|                 PSV|https://cdn.sofif...|       5|     13|   1999|          Left|                       1|        4|          3|  High/ Medium|   Normal|       No|      LB|           16|Aug 31, 2018|                null|                2022|   5.7|   173.736| 139.0| 63.049288|      74|       65|             54|          74|     57|       74|   72|        55|         71|         72|          84|         83|     84|       66|     86|       72|     73|     82|      52|       62|        79|           66|         63|    50|       47|       65|     70|            73|           74|      14|        11|       11|           14|        15|              7.4|\n",
            "|165735|     B. Jones| 36|https://cdn.sofif...|  Australia|https://cdn.sofif...|     75|       75|            Al Nassr|https://cdn.sofif...|    900K|     17|   1171|          Left|                       1|        2|          1|Medium/ Medium|   Normal|       No|      GK|            1| Aug 1, 2018|                null|                2020|   6.4|   195.072| 192.0| 87.089664|      19|       17|             11|          28|     11|       18|   13|        12|         18|         22|          52|         55|     25|       75|     30|       24|     70|     40|      72|       11|        32|           23|         17|    30|       35|       56|     17|            13|           13|      75|        69|       69|           80|        75|              1.5|\n",
            "|195033|    M. Leckie| 27|https://cdn.sofif...|  Australia|https://cdn.sofif...|     75|       75|          Hertha BSC|https://cdn.sofif...|       7|     25|   1967|         Right|                       2|        4|          3|  High/ Medium|   Normal|       No|      RM|            7| Jul 1, 2017|                null|                2021|  5.11|  155.7528| 181.0| 82.100152|      76|       68|             72|          68|     65|       76|   72|        36|         54|         75|          91|         89|     75|       70|     78|       74|     87|     77|      70|       67|        73|           54|         73|    65|       69|       67|     63|            48|           40|       8|        10|        8|            6|        10|             11.9|\n",
            "|240649|   J. Roberts| 17|https://cdn.sofif...|  Australia|https://cdn.sofif...|     55|       75|Western Sydney Wa...|https://cdn.sofif...|    180K|      1|   1324|         Right|                       1|        4|          2|  High/ Medium|     Lean|       No|      ST|           32| Jan 4, 2018|                null|                2020|   5.7|   173.736| 150.0|   68.0388|      27|       57|             53|          42|     35|       51|   31|        25|         31|         48|          86|         83|     51|       48|     84|       54|     64|     57|      66|       48|        30|           13|         46|    40|       57|       48|     31|            12|           19|       9|         5|        5|            6|        10|             405K|\n",
            "|240096|     L. Brook| 17|https://cdn.sofif...|  Australia|https://cdn.sofif...|     53|       75|     Adelaide United|https://cdn.sofif...|    130K|      1|   1336|          Left|                       1|        3|          3|Medium/ Medium|     Lean|       No|     CAM|           18| Jun 1, 2017|                null|                2019|   5.1|   155.448| 152.0| 68.945984|      32|       41|             32|          58|     48|       50|   51|        32|         48|         57|          72|         65|     70|       38|     64|       55|     61|     47|      48|       32|        41|           18|         38|    57|       44|       54|     18|            30|           38|      10|         9|       15|           10|         7|             293K|\n",
            "|211378|    J. Irvine| 25|https://cdn.sofif...|  Australia|https://cdn.sofif...|     71|       75|           Hull City|https://cdn.sofif...|     3.1|     17|   1982|         Right|                       1|        3|          3|    High/ High|   Normal|       No|     CAM|           22|Aug 30, 2017|                null|                2020|   6.2|   188.976| 154.0| 69.853168|      61|       70|             73|          69|     58|       67|   60|        63|         65|         71|          75|         68|     62|       74|     66|       72|     82|     81|      80|       66|        75|           69|         71|    71|       55|       71|     68|            71|           68|       7|        13|       11|            9|        11|                6|\n",
            "|224297|  A. Gersbach| 21|https://cdn.sofif...|  Australia|https://cdn.sofif...|     65|       75|        Rosenborg BK|https://cdn.sofif...|    750K|      1|   1653|          Left|                       1|        3|          2|Medium/ Medium|   Normal|       No|      LB|            3|Jan 31, 2016|                null|                2019|   6.0|    182.88| 161.0| 73.028312|      61|       34|             53|          60|     33|       59|   54|        44|         50|         60|          82|         80|     79|       60|     69|       36|     62|     73|      71|       34|        61|           61|         59|    54|       33|       60|     63|            63|           61|      10|         7|        9|            7|        11|              1.1|\n",
            "+------+-------------+---+--------------------+-----------+--------------------+-------+---------+--------------------+--------------------+--------+-------+-------+--------------+------------------------+---------+-----------+--------------+---------+---------+--------+-------------+------------+--------------------+--------------------+------+----------+------+----------+--------+---------+---------------+------------+-------+---------+-----+----------+-----------+-----------+------------+-----------+-------+---------+-------+---------+-------+-------+--------+---------+----------+-------------+-----------+------+---------+---------+-------+--------------+-------------+--------+----------+---------+-------------+----------+-----------------+\n",
            "only showing top 20 rows\n",
            "\n"
          ],
          "name": "stdout"
        }
      ]
    },
    {
      "cell_type": "code",
      "metadata": {
        "colab": {
          "base_uri": "https://localhost:8080/"
        },
        "id": "kHlFkOmqsR0I",
        "outputId": "5b2123f2-8873-4709-ee5a-0fab8cd68adf"
      },
      "source": [
        "# finding the Australian player with lowest potential\n",
        "spark.sql(\"\"\"\n",
        "          Select * from soccer_analysis Where Nationality = 'Australia' Order By Potential Asc\n",
        "          \"\"\").show()"
      ],
      "execution_count": 23,
      "outputs": [
        {
          "output_type": "stream",
          "text": [
            "+------+--------------+---+--------------------+-----------+--------------------+-------+---------+--------------------+--------------------+--------+-------+-------+--------------+------------------------+---------+-----------+--------------+---------+---------+--------+-------------+------------+-----------+--------------------+------+----------+------+----------+--------+---------+---------------+------------+-------+---------+-----+----------+-----------+-----------+------------+-----------+-------+---------+-------+---------+-------+-------+--------+---------+----------+-------------+-----------+------+---------+---------+-------+--------------+-------------+--------+----------+---------+-------------+----------+-----------------+\n",
            "|    ID|          Name|Age|               Photo|Nationality|                Flag|Overall|Potential|                Club|           Club Logo|value(M)|wage(K)|Special|Preferred Foot|International Reputation|Weak Foot|Skill Moves|     Work Rate|Body Type|Real Face|Position|Jersey Number|      Joined|Loaned From|Contract Valid Until|Height|Height(CM)|Weight|Weight(KG)|Crossing|Finishing|HeadingAccuracy|ShortPassing|Volleys|Dribbling|Curve|FKAccuracy|LongPassing|BallControl|Acceleration|SprintSpeed|Agility|Reactions|Balance|ShotPower|Jumping|Stamina|Strength|LongShots|Aggression|Interceptions|Positioning|Vision|Penalties|Composure|Marking|StandingTackle|SlidingTackle|GKDiving|GKHandling|GKKicking|GKPositioning|GKReflexes|Release Clause(M)|\n",
            "+------+--------------+---+--------------------+-----------+--------------------+-------+---------+--------------------+--------------------+--------+-------+-------+--------------+------------------------+---------+-----------+--------------+---------+---------+--------+-------------+------------+-----------+--------------------+------+----------+------+----------+--------+---------+---------------+------------+-------+---------+-----+----------+-----------+-----------+------------+-----------+-------+---------+-------+---------+-------+-------+--------+---------+----------+-------------+-----------+------+---------+---------+-------+--------------+-------------+--------+----------+---------+-------------+----------+-----------------+\n",
            "|181015|    B. Kennedy| 31|https://cdn.sofif...|  Australia|https://cdn.sofif...|     56|       56|Central Coast Mar...|https://cdn.sofif...|     50K|      1|    983|         Right|                       1|        2|          1|Medium/ Medium|   Normal|       No|      GK|            1|Jun 22, 2017|       null|                2021|   6.2|   188.976| 183.0| 83.007336|      15|       13|             12|          24|     12|       14|   20|        15|         30|         18|          41|         44|     32|       49|     41|       16|     61|     24|      59|       13|        31|           19|          7|    30|       21|       39|     12|            13|           18|      59|        49|       58|           59|        54|              63K|\n",
            "|246196|        R. Way| 28|https://cdn.sofif...|  Australia|https://cdn.sofif...|     58|       58|  Wellington Phoenix|https://cdn.sofif...|    100K|      1|   1603|         Right|                       1|        2|          2|Medium/ Medium|   Stocky|       No|      LB|            3|Oct 17, 2018|       null|                2019|   6.0|    182.88| 194.0| 87.996848|      57|       57|             56|          51|     50|       54|   39|        36|         46|         56|          57|         60|     52|       53|     55|       56|     67|     62|      81|       59|        80|           56|         53|    47|       55|       52|     53|            56|           60|       6|         5|        8|            8|        12|             125K|\n",
            "|198761|    B. McGrath| 27|https://cdn.sofif...|  Australia|https://cdn.sofif...|     59|       59|          Esbjerg fB|https://cdn.sofif...|    170K|      2|   1528|         Right|                       1|        3|          2|     High/ Low|   Normal|       No|      ST|           22| Jul 1, 2016|       null|                2019|   6.0|    182.88| 176.0| 79.832192|      50|       57|             49|          44|     63|       54|   55|        42|         35|         59|          68|         66|     68|       69|     55|       55|     61|     73|      67|       45|        68|           20|         62|    54|       62|       41|     30|            18|           16|      16|        13|       14|            9|        11|             213K|\n",
            "|241597|      B. White| 26|https://cdn.sofif...|  Australia|https://cdn.sofif...|     56|       59|       Brisbane Roar|https://cdn.sofif...|     80K|      1|    909|         Right|                       1|        1|          1|Medium/ Medium|   Normal|       No|      GK|           30| Nov 4, 2017|       null|                2019|   6.0|    182.88| 165.0|  74.84268|      11|       10|             13|          28|      7|       12|   11|        14|         20|         15|          32|         26|     28|       51|     49|       19|     64|     20|      62|        9|        25|           14|          8|    38|       11|       39|     11|            13|           11|      54|        58|       54|           54|        57|             106K|\n",
            "|180755|    T. Velaphi| 31|https://cdn.sofif...|  Australia|https://cdn.sofif...|     60|       60|         Perth Glory|https://cdn.sofif...|    130K|      1|   1006|         Right|                       1|        2|          1|Medium/ Medium|     Lean|       No|      GK|            1| Jul 2, 2018|       null|                2019|   6.1|   185.928| 165.0|  74.84268|      15|       12|             13|          33|     13|       11|   17|        12|         22|         15|          53|         53|     56|       67|     28|       17|     31|     34|      65|       12|        19|           19|          9|    30|       23|       44|      9|            14|           15|      60|        55|       55|           59|        60|             163K|\n",
            "|209887|      J. Oates| 27|https://cdn.sofif...|  Australia|https://cdn.sofif...|     60|       60|         Exeter City|https://cdn.sofif...|    170K|      2|   1543|         Right|                       1|        3|          2|  Medium/ High|   Normal|       No|      RB|           18|Jul 24, 2018|       null|                2020|  5.11|  155.7528| 176.0| 79.832192|      59|       48|             36|          48|     40|       57|   49|        35|         37|         58|          76|         74|     71|       51|     65|       36|     70|     79|      63|       28|        48|           55|         47|    35|       37|       41|     57|            60|           55|      15|        13|       10|           15|        16|             298K|\n",
            "|211768|   L. Italiano| 27|https://cdn.sofif...|  Australia|https://cdn.sofif...|     58|       60|      Newcastle Jets|https://cdn.sofif...|    100K|      1|    946|          Left|                       1|        2|          1|Medium/ Medium|   Normal|       No|      GK|           21|Sep 26, 2018|       null|                2019|   6.2|   188.976| 183.0| 83.007336|      20|       12|             14|          21|     16|       17|   15|        13|         25|         16|          44|         42|     39|       54|     37|        9|     46|     22|      53|       11|        30|           15|          6|    20|       22|       28|     12|            14|           16|      61|        53|       58|           54|        59|             133K|\n",
            "|236525|      R. Lowry| 24|https://cdn.sofif...|  Australia|https://cdn.sofif...|     58|       60|  Wellington Phoenix|https://cdn.sofif...|    130K|      1|   1345|          Left|                       1|        3|          2|Medium/ Medium|   Stocky|       No|      CB|            5|Sep 30, 2016|       null|                2019|  5.11|  155.7528| 154.0| 69.853168|      48|       25|             57|          40|     26|       41|   35|        24|         34|         47|          54|         55|     52|       48|     55|       37|     68|     62|      69|       21|        62|           52|         41|    32|       35|       52|     59|            57|           59|      13|        14|        9|            8|         6|             172K|\n",
            "|180753|     M. Bridge| 32|https://cdn.sofif...|  Australia|https://cdn.sofif...|     61|       61|Western Sydney Wa...|https://cdn.sofif...|    200K|      2|   1648|         Right|                       1|        3|          2|Medium/ Medium|   Normal|       No|      LW|           19|Jul 18, 2017|       null|                2019|  5.11|  155.7528| 176.0| 79.832192|      64|       67|             61|          59|     60|       62|   69|        49|         35|         60|          61|         64|     70|       59|     64|       62|     64|     63|      65|       59|        46|           25|         57|    53|       67|       53|     54|            46|           27|      12|         7|       16|            6|        15|             250K|\n",
            "|203569|   J. Chianese| 28|https://cdn.sofif...|  Australia|https://cdn.sofif...|     61|       61|         Perth Glory|https://cdn.sofif...|    250K|      1|   1593|         Right|                       1|        2|          2|  Medium/ High|   Normal|       No|      RM|            7|Aug 30, 2016|       null|                2019|   5.9|   179.832| 165.0|  74.84268|      51|       59|             42|          61|     65|       58|   61|        52|         50|         64|          59|         69|     70|       61|     63|       60|     48|     66|      63|       54|        35|           38|         64|    59|       55|       59|     30|            34|           45|      15|        16|        7|           10|         9|             313K|\n",
            "|191006|      A. Golec| 28|https://cdn.sofif...|  Australia|https://cdn.sofif...|     62|       62|Central Coast Mar...|https://cdn.sofif...|    250K|      1|   1392|          Left|                       1|        4|          2|Medium/ Medium|   Normal|       No|     LCB|            5| Jun 1, 2017|       null|                2019|   6.3|   192.024| 187.0| 84.821704|      55|       32|             51|          48|     24|       43|   48|        24|         51|         47|          45|         53|     56|       50|     36|       43|     76|     65|      77|       12|        59|           64|         37|    24|       32|       53|     59|            65|           62|       7|         6|       14|           15|        12|             313K|\n",
            "|183025|      M. Simon| 32|https://cdn.sofif...|  Australia|https://cdn.sofif...|     62|       62|Central Coast Mar...|https://cdn.sofif...|    240K|      1|   1651|         Right|                       1|        3|          2|    High/ High|   Normal|       No|      ST|           19| Jun 1, 2018|       null|                2020|   6.2|   188.976| 172.0| 78.017824|      48|       58|             61|          48|     36|       52|   38|        29|         37|         61|          71|         73|     64|       60|     32|       66|     84|     85|      85|       58|        90|           48|         63|    49|       64|       56|     29|            49|           39|      16|        15|       11|           16|        16|             300K|\n",
            "|209834|K. Appiah-Kubi| 26|https://cdn.sofif...|  Australia|https://cdn.sofif...|     61|       62|   Incheon United FC|https://cdn.sofif...|    300K|      1|   1628|         Right|                       1|        1|          3|Medium/ Medium|     Lean|       No|      RW|           19|Feb 17, 2018|       null|                2022|  5.11|  155.7528| 154.0| 69.853168|      57|       42|             63|          56|     44|       68|   45|        44|         54|         58|          92|         92|     90|       55|     91|       41|     72|     78|      58|       40|        51|           42|         53|    53|       39|       55|     41|            28|           38|       6|         7|        8|           13|         9|             398K|\n",
            "|223083|     M. Austin| 27|https://cdn.sofif...|  Australia|https://cdn.sofif...|     62|       62|      Newcastle Jets|https://cdn.sofif...|    325K|      1|   1724|          Left|                       1|        3|          3|  High/ Medium|   Normal|       No|      LW|           27|Sep 14, 2018|       null|                2019|   6.1|   185.928| 172.0| 78.017824|      64|       61|             51|          55|     36|       62|   57|        55|         48|         58|          90|         90|     81|       48|     79|       58|     76|     82|      79|       42|        40|           48|         61|    54|       63|       59|     44|            44|           46|      11|        16|        8|           10|         7|             406K|\n",
            "|180717|      L. Reddy| 36|https://cdn.sofif...|  Australia|https://cdn.sofif...|     62|       62|         Perth Glory|https://cdn.sofif...|     40K|      1|   1028|         Right|                       1|        2|          1|Medium/ Medium|   Normal|       No|      GK|           33|Jun 24, 2016|       null|                2019|   6.2|   188.976| 198.0| 89.811216|      10|       10|             10|          17|     10|       10|   13|        12|         18|         19|          48|         48|     45|       62|     47|       24|     45|     39|      69|       10|        44|           18|          8|    35|       21|       62|     13|            11|           10|      61|        58|       58|           63|        62|              50K|\n",
            "|226094|      S. Brady| 22|https://cdn.sofif...|  Australia|https://cdn.sofif...|     54|       63|       Brisbane Roar|https://cdn.sofif...|    100K|      1|   1429|         Right|                       1|        2|          2|Medium/ Medium|     Lean|       No|      RW|           20|Nov 14, 2014|       null|                2019|   5.9|   179.832| 141.0| 63.956472|      51|       47|             44|          55|     39|       56|   42|        41|         52|         47|          74|         58|     83|       43|     77|       45|     51|     40|      28|       31|        47|           31|         58|    56|       53|       52|     34|            47|           44|      14|         7|       12|           14|         8|             145K|\n",
            "|185256|    J. Hoffman| 29|https://cdn.sofif...|  Australia|https://cdn.sofif...|     63|       63|      Newcastle Jets|https://cdn.sofif...|    350K|      1|   1683|         Right|                       1|        2|          2|  High/ Medium|     Lean|       No|      ST|            3|Jul 16, 2015|       null|                2020|   6.2|   188.976| 174.0| 78.925008|      60|       58|             54|          60|     43|       59|   55|        32|         38|         61|          75|         77|     52|       61|     51|       53|     56|     75|      78|       48|        65|           60|         63|    58|       60|       56|     56|            60|           52|      11|         9|       14|           13|        16|             438K|\n",
            "|203310|     C. Harold| 25|https://cdn.sofif...|  Australia|https://cdn.sofif...|     62|       63|         Perth Glory|https://cdn.sofif...|    350K|      1|   1671|         Right|                       1|        3|          2|  High/ Medium|   Normal|       No|      RM|           14| May 1, 2012|       null|                2020|   5.9|   179.832| 172.0| 78.017824|      51|       63|             56|          52|     66|       61|   49|        34|         50|         60|          89|         87|     87|       45|     73|       63|     68|     64|      61|       52|        59|           35|         66|    61|       59|       55|     30|            36|           28|      13|        13|       14|           14|        12|             464K|\n",
            "|192651|      O. Malik| 27|https://cdn.sofif...|  Australia|https://cdn.sofif...|     63|       63|   Melbourne City FC|https://cdn.sofif...|    300K|      2|   1617|         Right|                       1|        3|          2|   Low/ Medium|   Normal|       No|     CDM|            6|Jan 23, 2016|       null|                2019|   6.1|   185.928| 165.0|  74.84268|      50|       33|             60|          61|     44|       55|   36|        32|         62|         57|          65|         66|     67|       60|     59|       39|     73|     72|      75|       38|        73|           62|         45|    57|       46|       59|     58|            60|           60|       8|        13|       15|            7|         9|             375K|\n",
            "|181021|    D. Djulbic| 35|https://cdn.sofif...|  Australia|https://cdn.sofif...|     63|       63|         Perth Glory|https://cdn.sofif...|     90K|      1|   1306|         Right|                       1|        3|          2|  Medium/ High|   Normal|       No|      CB|           66|Jan 22, 2018|       null|                2019|   6.4|   195.072| 198.0| 89.811216|      21|       39|             66|          41|     28|       25|   21|        42|         44|         40|          30|         35|     33|       52|     31|       59|     59|     56|      90|       29|        84|           56|         26|    35|       39|       58|     57|            64|           61|       6|        12|       12|            6|         7|             113K|\n",
            "+------+--------------+---+--------------------+-----------+--------------------+-------+---------+--------------------+--------------------+--------+-------+-------+--------------+------------------------+---------+-----------+--------------+---------+---------+--------+-------------+------------+-----------+--------------------+------+----------+------+----------+--------+---------+---------------+------------+-------+---------+-----+----------+-----------+-----------+------------+-----------+-------+---------+-------+---------+-------+-------+--------+---------+----------+-------------+-----------+------+---------+---------+-------+--------------+-------------+--------+----------+---------+-------------+----------+-----------------+\n",
            "only showing top 20 rows\n",
            "\n"
          ],
          "name": "stdout"
        }
      ]
    },
    {
      "cell_type": "markdown",
      "metadata": {
        "id": "lGWtR6Ast7o8"
      },
      "source": [
        "**Relationship between age of players with their potential and overall**"
      ]
    },
    {
      "cell_type": "markdown",
      "metadata": {
        "id": "m7Yz_pnlxW43"
      },
      "source": [
        "Finding relationships between age and average potential and age and average overall:"
      ]
    },
    {
      "cell_type": "code",
      "metadata": {
        "colab": {
          "base_uri": "https://localhost:8080/",
          "height": 339
        },
        "id": "mRvkk376u-dE",
        "outputId": "f4e5556f-e041-407f-f5e8-29de72e3a0f0"
      },
      "source": [
        "import matplotlib.pyplot as plt\n",
        "import numpy as np\n",
        "import pandas as pd\n",
        "%matplotlib inline\n",
        "\n",
        "# creating two dataframes that hold Age with Average Potential and Average Overall along with renaming the aggregated columns\n",
        "df_age_potential = df_19.groupby('Age').avg('Potential').withColumnRenamed('avg(Potential)', 'Average Potential')\n",
        "df_age_overall = df_19.groupby('Age').avg('Overall').withColumnRenamed('avg(Overall)', 'Average Overall')\n",
        "\n",
        "# first, converting the above two pyspark dataframes to Pandas and storing in a variable\n",
        "# then, concatenating those two pandas dataframe setting axis 1 i.e. by column\n",
        "data = [df_age_potential.select('*').toPandas(),df_age_overall.select('Average Overall').toPandas()]\n",
        "df_age = pd.concat(data, axis=1)\n",
        "df_age.head(5)\n",
        "\n",
        "# plotting \n",
        "# creating two subplots for plotting Average Potential and Average Overall against Age\n",
        "fig, (ax1,ax2) = plt.subplots(1, 2, sharex='none', sharey='none', figsize=(15,5))\n",
        "# using first scatter plot for Average Potential and the second for Average Overall \n",
        "ax1.scatter(df_age['Age'], df_age['Average Potential'], color='r')\n",
        "ax2.scatter(df_age['Age'], df_age['Average Overall'], color='b')\n",
        "# setting y ticks, labels and titles for both plots\n",
        "ax1.set_yticks(list(range(50,78,2)))\n",
        "ax2.set_yticks(list(range(50,78,2)))\n",
        "ax1.set_xlabel('Age')\n",
        "ax1.set_ylabel('Average Potential')\n",
        "ax1.set_title('Scatter Plot: Average Potential Vs Age')\n",
        "ax2.set_xlabel('Age')\n",
        "ax2.set_ylabel('Average Overall')\n",
        "ax2.set_title('Scatter Plot: Average Overall Vs Age')\n",
        "# enabling grid view\n",
        "ax1.grid(True)\n",
        "ax2.grid(True)\n",
        "plt.show()"
      ],
      "execution_count": 24,
      "outputs": [
        {
          "output_type": "display_data",
          "data": {
            "image/png": "[encoded data removed]",
            "text/plain": [
              "<Figure size 1080x360 with 2 Axes>"
            ]
          },
          "metadata": {
            "tags": [],
            "needs_background": "light"
          }
        }
      ]
    },
    {
      "cell_type": "markdown",
      "metadata": {
        "id": "vD67c-_RxW44"
      },
      "source": [
        "It is seen from the above scatter plots that average potential decreases with age while average overall increases with age. At age 31, both average potential and average overall meet at the same point (70). So, by the age of 31, players will realise their full potential. After 31, both average potential and average overall declines. However, we can see that at 45 both average potential and overall reached a high point which can be considered as an outlier."
      ]
    },
    {
      "cell_type": "code",
      "metadata": {
        "colab": {
          "base_uri": "https://localhost:8080/",
          "height": 143
        },
        "id": "G_VNumgBNvad",
        "outputId": "5e8b57cb-6ed1-4ec2-c7f4-6d328b2fac8b"
      },
      "source": [
        "# finding the correlation matrix\n",
        "df_age.corr(method ='pearson') "
      ],
      "execution_count": 25,
      "outputs": [
        {
          "output_type": "execute_result",
          "data": {
            "text/html": [
              "<div>\n",
              "<style scoped>\n",
              "    .dataframe tbody tr th:only-of-type {\n",
              "        vertical-align: middle;\n",
              "    }\n",
              "\n",
              "    .dataframe tbody tr th {\n",
              "        vertical-align: top;\n",
              "    }\n",
              "\n",
              "    .dataframe thead th {\n",
              "        text-align: right;\n",
              "    }\n",
              "</style>\n",
              "<table border=\"1\" class=\"dataframe\">\n",
              "  <thead>\n",
              "    <tr style=\"text-align: right;\">\n",
              "      <th></th>\n",
              "      <th>Age</th>\n",
              "      <th>Average Potential</th>\n",
              "      <th>Average Overall</th>\n",
              "    </tr>\n",
              "  </thead>\n",
              "  <tbody>\n",
              "    <tr>\n",
              "      <th>Age</th>\n",
              "      <td>1.000000</td>\n",
              "      <td>-0.703127</td>\n",
              "      <td>0.370369</td>\n",
              "    </tr>\n",
              "    <tr>\n",
              "      <th>Average Potential</th>\n",
              "      <td>-0.703127</td>\n",
              "      <td>1.000000</td>\n",
              "      <td>0.199843</td>\n",
              "    </tr>\n",
              "    <tr>\n",
              "      <th>Average Overall</th>\n",
              "      <td>0.370369</td>\n",
              "      <td>0.199843</td>\n",
              "      <td>1.000000</td>\n",
              "    </tr>\n",
              "  </tbody>\n",
              "</table>\n",
              "</div>"
            ],
            "text/plain": [
              "                        Age  Average Potential  Average Overall\n",
              "Age                1.000000          -0.703127         0.370369\n",
              "Average Potential -0.703127           1.000000         0.199843\n",
              "Average Overall    0.370369           0.199843         1.000000"
            ]
          },
          "metadata": {
            "tags": []
          },
          "execution_count": 25
        }
      ]
    },
    {
      "cell_type": "markdown",
      "metadata": {
        "id": "LMs7lWM2xW45"
      },
      "source": [
        "The above correlation matrix reflects the same relationship that can be seen in scatter plots."
      ]
    },
    {
      "cell_type": "markdown",
      "metadata": {
        "id": "0S3BYVijEbAM"
      },
      "source": [
        "Dealing Missing Values:"
      ]
    },
    {
      "cell_type": "markdown",
      "metadata": {
        "id": "opXJVamevgyT"
      },
      "source": [
        "In this stage, we examine the dataset to see the necessary operations required on data to ease our analysis. "
      ]
    },
    {
      "cell_type": "code",
      "metadata": {
        "colab": {
          "base_uri": "https://localhost:8080/"
        },
        "id": "cD7QkXwC8WMh",
        "outputId": "5d99478f-18e2-47bc-bdf8-22e5b6f651d3"
      },
      "source": [
        "# checking the missing values\n",
        "from pyspark.sql.functions import count, col\n",
        "null_values_count = df_19.select([count(F.when(F.isnull(cols), cols)).alias(cols) for cols in df_19.columns])\n",
        "null_values_count.show()"
      ],
      "execution_count": 26,
      "outputs": [
        {
          "output_type": "stream",
          "text": [
            "+---+----+---+-----+-----------+----+-------+---------+----+---------+--------+-------+-------+--------------+------------------------+---------+-----------+---------+---------+---------+--------+-------------+------+-----------+--------------------+------+----------+------+----------+--------+---------+---------------+------------+-------+---------+-----+----------+-----------+-----------+------------+-----------+-------+---------+-------+---------+-------+-------+--------+---------+----------+-------------+-----------+------+---------+---------+-------+--------------+-------------+--------+----------+---------+-------------+----------+-----------------+\n",
            "| ID|Name|Age|Photo|Nationality|Flag|Overall|Potential|Club|Club Logo|value(M)|wage(K)|Special|Preferred Foot|International Reputation|Weak Foot|Skill Moves|Work Rate|Body Type|Real Face|Position|Jersey Number|Joined|Loaned From|Contract Valid Until|Height|Height(CM)|Weight|Weight(KG)|Crossing|Finishing|HeadingAccuracy|ShortPassing|Volleys|Dribbling|Curve|FKAccuracy|LongPassing|BallControl|Acceleration|SprintSpeed|Agility|Reactions|Balance|ShotPower|Jumping|Stamina|Strength|LongShots|Aggression|Interceptions|Positioning|Vision|Penalties|Composure|Marking|StandingTackle|SlidingTackle|GKDiving|GKHandling|GKKicking|GKPositioning|GKReflexes|Release Clause(M)|\n",
            "+---+----+---+-----+-----------+----+-------+---------+----+---------+--------+-------+-------+--------------+------------------------+---------+-----------+---------+---------+---------+--------+-------------+------+-----------+--------------------+------+----------+------+----------+--------+---------+---------------+------------+-------+---------+-----+----------+-----------+-----------+------------+-----------+-------+---------+-------+---------+-------+-------+--------+---------+----------+-------------+-----------+------+---------+---------+-------+--------------+-------------+--------+----------+---------+-------------+----------+-----------------+\n",
            "|  0|   0|  0|    0|          0|   0|      0|        0| 241|        0|     252|    241|      0|            48|                      48|       48|         48|       48|       48|       48|      60|           60|  1553|      16943|                 289|    48|         0|    48|         0|      48|       48|             48|          48|     48|       48|   48|        48|         48|         48|          48|         48|     48|       48|     48|       48|     48|     48|      48|       48|        48|           48|         48|    48|       48|       48|     48|            48|           48|      48|        48|       48|           48|        48|             1564|\n",
            "+---+----+---+-----+-----------+----+-------+---------+----+---------+--------+-------+-------+--------------+------------------------+---------+-----------+---------+---------+---------+--------+-------------+------+-----------+--------------------+------+----------+------+----------+--------+---------+---------------+------------+-------+---------+-----+----------+-----------+-----------+------------+-----------+-------+---------+-------+---------+-------+-------+--------+---------+----------+-------------+-----------+------+---------+---------+-------+--------------+-------------+--------+----------+---------+-------------+----------+-----------------+\n",
            "\n"
          ],
          "name": "stdout"
        }
      ]
    },
    {
      "cell_type": "markdown",
      "metadata": {
        "id": "e5j2e4L5CLhZ"
      },
      "source": [
        "In this analysis, the attributes that we are concerned with are player attributes that has impacts on players' gameplay such as 'Crossing', ShortPassing', etc. We are only concerned with forwards, midfielders and defenders not goalkeepers. It is seen that all attributes of interests have 48 missing values which include goalkeeping attributes too (GKDiving). So, we need to see if those missing values for different attributes belong to goalkeepers only before performing imputation or deletion of missing values."
      ]
    },
    {
      "cell_type": "code",
      "metadata": {
        "colab": {
          "base_uri": "https://localhost:8080/"
        },
        "id": "YmLzarGn1yB0",
        "outputId": "c9c6b249-31ff-47c7-b266-5bd2cf8860ea"
      },
      "source": [
        "# checking the missing values after removing goalkeepers\n",
        "df_non_goalkeeper = df_19.filter(df_19['Position'] != 'GK')\n",
        "df_non_goalkeeper.select([count(F.when(F.isnull(cols), cols)).alias(cols) for cols in df_19.columns]).show()"
      ],
      "execution_count": 28,
      "outputs": [
        {
          "output_type": "stream",
          "text": [
            "+---+----+---+-----+-----------+----+-------+---------+----+---------+--------+-------+-------+--------------+------------------------+---------+-----------+---------+---------+---------+--------+-------------+------+-----------+--------------------+------+----------+------+----------+--------+---------+---------------+------------+-------+---------+-----+----------+-----------+-----------+------------+-----------+-------+---------+-------+---------+-------+-------+--------+---------+----------+-------------+-----------+------+---------+---------+-------+--------------+-------------+--------+----------+---------+-------------+----------+-----------------+\n",
            "| ID|Name|Age|Photo|Nationality|Flag|Overall|Potential|Club|Club Logo|value(M)|wage(K)|Special|Preferred Foot|International Reputation|Weak Foot|Skill Moves|Work Rate|Body Type|Real Face|Position|Jersey Number|Joined|Loaned From|Contract Valid Until|Height|Height(CM)|Weight|Weight(KG)|Crossing|Finishing|HeadingAccuracy|ShortPassing|Volleys|Dribbling|Curve|FKAccuracy|LongPassing|BallControl|Acceleration|SprintSpeed|Agility|Reactions|Balance|ShotPower|Jumping|Stamina|Strength|LongShots|Aggression|Interceptions|Positioning|Vision|Penalties|Composure|Marking|StandingTackle|SlidingTackle|GKDiving|GKHandling|GKKicking|GKPositioning|GKReflexes|Release Clause(M)|\n",
            "+---+----+---+-----+-----------+----+-------+---------+----+---------+--------+-------+-------+--------------+------------------------+---------+-----------+---------+---------+---------+--------+-------------+------+-----------+--------------------+------+----------+------+----------+--------+---------+---------------+------------+-------+---------+-----+----------+-----------+-----------+------------+-----------+-------+---------+-------+---------+-------+-------+--------+---------+----------+-------------+-----------+------+---------+---------+-------+--------------+-------------+--------+----------+---------+-------------+----------+-----------------+\n",
            "|  0|   0|  0|    0|          0|   0|      0|        0| 196|        0|     204|    196|      0|             0|                       0|        0|          0|        0|        0|        0|       0|            0|  1371|      14947|                 196|     0|         0|     0|         0|       0|        0|              0|           0|      0|        0|    0|         0|          0|          0|           0|          0|      0|        0|      0|        0|      0|      0|       0|        0|         0|            0|          0|     0|        0|        0|      0|             0|            0|       0|         0|        0|            0|         0|             1379|\n",
            "+---+----+---+-----+-----------+----+-------+---------+----+---------+--------+-------+-------+--------------+------------------------+---------+-----------+---------+---------+---------+--------+-------------+------+-----------+--------------------+------+----------+------+----------+--------+---------+---------------+------------+-------+---------+-----+----------+-----------+-----------+------------+-----------+-------+---------+-------+---------+-------+-------+--------+---------+----------+-------------+-----------+------+---------+---------+-------+--------------+-------------+--------+----------+---------+-------------+----------+-----------------+\n",
            "\n"
          ],
          "name": "stdout"
        }
      ]
    },
    {
      "cell_type": "markdown",
      "metadata": {
        "id": "rOzUZ_DPEI4W"
      },
      "source": [
        "It is seen that no missing values are present in our many attributes of interests for players belonging to positions other than goalkeepers. So, we create a new dataframe without goalkeepers for our later analysis."
      ]
    },
    {
      "cell_type": "code",
      "metadata": {
        "colab": {
          "base_uri": "https://localhost:8080/"
        },
        "id": "vBeISm5gE3Mb",
        "outputId": "6cb739d3-6c3f-415a-d42d-8c07a40882e9"
      },
      "source": [
        "# removing the position GK and storing in a new dataframe\n",
        "df_19 = df_19.filter(df_19['Position'] != 'GK')\n",
        "# viewing the unique values in the filtered dataframe and check if GK has been removed\n",
        "df_19.cache()\n",
        "df_19.count()"
      ],
      "execution_count": 29,
      "outputs": [
        {
          "output_type": "execute_result",
          "data": {
            "text/plain": [
              "16122"
            ]
          },
          "metadata": {
            "tags": []
          },
          "execution_count": 29
        }
      ]
    },
    {
      "cell_type": "markdown",
      "metadata": {
        "id": "gMqIOge42NI7"
      },
      "source": [
        "## Part 2 - Unsupervised Learning: Kmeans\n",
        "\n",
        "\n",
        "\n",
        "\n",
        "### 2.1 Data Preparation\n",
        "***"
      ]
    },
    {
      "cell_type": "markdown",
      "metadata": {
        "id": "TmD6rRmtxW45"
      },
      "source": [
        "In this stage, we perform clustering of players after grouping them in three groups, DEF, MID and FWD, based on their attributes. Later, we analyse what type of positions are mainly included in each cluster."
      ]
    },
    {
      "cell_type": "code",
      "metadata": {
        "colab": {
          "base_uri": "https://localhost:8080/"
        },
        "id": "thT0hEaduc_G",
        "outputId": "ef4cf226-782e-4dec-ee36-25347e47bbfa"
      },
      "source": [
        "df_19.select('*').explain()"
      ],
      "execution_count": 30,
      "outputs": [
        {
          "output_type": "stream",
          "text": [
            "== Physical Plan ==\n",
            "InMemoryTableScan [ID#10, Name#11, Age#12, Photo#13, Nationality#14, Flag#15, Overall#16, Potential#17, Club#18, Club Logo#19, value(M)#20, wage(K)#21, Special#22, Preferred Foot#23, International Reputation#24, Weak Foot#25, Skill Moves#26, Work Rate#27, Body Type#28, Real Face#29, Position#30, Jersey Number#31, Joined#32, Loaned From#33, ... 40 more fields]\n",
            "   +- InMemoryRelation [ID#10, Name#11, Age#12, Photo#13, Nationality#14, Flag#15, Overall#16, Potential#17, Club#18, Club Logo#19, value(M)#20, wage(K)#21, Special#22, Preferred Foot#23, International Reputation#24, Weak Foot#25, Skill Moves#26, Work Rate#27, Body Type#28, Real Face#29, Position#30, Jersey Number#31, Joined#32, Loaned From#33, ... 40 more fields], StorageLevel(disk, memory, deserialized, 1 replicas)\n",
            "         +- *(1) Project [ID#10, Name#11, Age#12, Photo#13, Nationality#14, Flag#15, Overall#16, Potential#17, Club#18, Club Logo#19, value(M)#20, wage(K)#21, Special#22, Preferred Foot#23, International Reputation#24, Weak Foot#25, Skill Moves#26, Work Rate#27, Body Type#28, Real Face#29, Position#30, Jersey Number#31, Joined#32, Loaned From#33, ... 40 more fields]\n",
            "            +- *(1) Filter (isnotnull(Position#30) && NOT (Position#30 = GK))\n",
            "               +- *(1) FileScan csv [ID#10,Name#11,Age#12,Photo#13,Nationality#14,Flag#15,Overall#16,Potential#17,Club#18,Club Logo#19,value(M)#20,wage(K)#21,Special#22,Preferred Foot#23,International Reputation#24,Weak Foot#25,Skill Moves#26,Work Rate#27,Body Type#28,Real Face#29,Position#30,Jersey Number#31,Joined#32,Loaned From#33,... 40 more fields] Batched: false, Format: CSV, Location: InMemoryFileIndex[file:/content/FIFA_19_players.csv], PartitionFilters: [], PushedFilters: [IsNotNull(Position), Not(EqualTo(Position,GK))], ReadSchema: struct<ID:int,Name:string,Age:int,Photo:string,Nationality:string,Flag:string,Overall:int,Potenti...\n"
          ],
          "name": "stdout"
        }
      ]
    },
    {
      "cell_type": "markdown",
      "metadata": {
        "id": "kVLBzBId9iCk"
      },
      "source": [
        "To make the later stage easier, we define the position group by using the position feature (attributes on Position).\n",
        "- DEF = [LB,LWB,RB,LCB,RCB,CB,RWB] ,\n",
        "- FWD = [RF,LF,LW,RS,RW,LS,CF,ST] ,\n",
        "- MID = [LCM,LM,RDM,CAM,RAM,RCM,CM,CDM,RM,LAM,LDM]"
      ]
    },
    {
      "cell_type": "code",
      "metadata": {
        "colab": {
          "base_uri": "https://localhost:8080/"
        },
        "id": "X4N6edcq5kE_",
        "outputId": "97bf56c8-3860-470f-8517-ea9a7f2c12ea"
      },
      "source": [
        "from pyspark.sql.functions import when,col\n",
        "\n",
        "# creating a list of specific positions\n",
        "DEF = ['LB','LWB','RB','LCB','RCB','CB','RWB']\n",
        "FWD = ['RF','LF','LW','RS','RW','LS','CF','ST']  \n",
        "MID = ['LCM','LM','RDM','CAM','RAM','RCM','CM','CDM','RM','LAM','LDM'] \n",
        "\n",
        "# creating a new column which stores values based on conditions\n",
        "df_kmeans_new = df_19.withColumn('Position_Group',F.when(F.col('Position').isin(DEF),'DEF')\\\n",
        "                                  .when(F.col('Position').isin(FWD),'FWD')\\\n",
        "                                  .when(F.col('Position').isin(MID),'MID').otherwise(0))\n",
        "# checking if correct group has been assigned for specific playing positions\n",
        "df_kmeans_new.select('Position','Position_Group').distinct().show(50)"
      ],
      "execution_count": 31,
      "outputs": [
        {
          "output_type": "stream",
          "text": [
            "+--------+--------------+\n",
            "|Position|Position_Group|\n",
            "+--------+--------------+\n",
            "|     LCB|           DEF|\n",
            "|      LS|           FWD|\n",
            "|     RCB|           DEF|\n",
            "|      ST|           FWD|\n",
            "|      CF|           FWD|\n",
            "|     RAM|           MID|\n",
            "|     RCM|           MID|\n",
            "|     LCM|           MID|\n",
            "|      CM|           MID|\n",
            "|      LF|           FWD|\n",
            "|      RW|           FWD|\n",
            "|      LB|           DEF|\n",
            "|     CDM|           MID|\n",
            "|     LDM|           MID|\n",
            "|     RDM|           MID|\n",
            "|      LM|           MID|\n",
            "|     LWB|           DEF|\n",
            "|      RB|           DEF|\n",
            "|      LW|           FWD|\n",
            "|      RS|           FWD|\n",
            "|     LAM|           MID|\n",
            "|     RWB|           DEF|\n",
            "|      RM|           MID|\n",
            "|      CB|           DEF|\n",
            "|      RF|           FWD|\n",
            "|     CAM|           MID|\n",
            "+--------+--------------+\n",
            "\n"
          ],
          "name": "stdout"
        }
      ]
    },
    {
      "cell_type": "markdown",
      "metadata": {
        "id": "R-NyFp7IBtGZ"
      },
      "source": [
        "Now, we create a feature vector from different features of a player. We only take the feature vector for clustering purpose removing the Position_Group and Position to create the feature for Kmeans\n",
        "\n",
        "\n"
      ]
    },
    {
      "cell_type": "code",
      "metadata": {
        "colab": {
          "base_uri": "https://localhost:8080/"
        },
        "id": "2x_o_w54B-mN",
        "outputId": "5c2305a7-8e39-4541-f285-eab5accd1f3d"
      },
      "source": [
        "from pyspark.ml.clustering import KMeans\n",
        "from pyspark.ml.feature import VectorAssembler\n",
        "\n",
        "features_col = ['Height(CM)', 'Weight(KG)', \n",
        "                      'Crossing', 'Finishing', 'HeadingAccuracy', \n",
        "                      'ShortPassing', 'Volleys', 'Dribbling', 'Curve',\n",
        "                      'FKAccuracy', 'LongPassing', 'BallControl', \n",
        "                      'Acceleration', 'SprintSpeed', 'Agility', \n",
        "                      'Reactions', 'Balance', 'ShotPower', 'Jumping', \n",
        "                      'Stamina', 'Strength', 'LongShots', 'Aggression', \n",
        "                      'Interceptions', 'Positioning', 'Vision', 'Penalties', \n",
        "                      'Composure', 'Marking', 'StandingTackle', 'SlidingTackle']\n",
        "\n",
        "vec_assembler = VectorAssembler(inputCols=features_col, outputCol='features')\n",
        "# selecting only ID and features, which is the feature vector in a new dataframe\n",
        "df_kmeans = vec_assembler.transform(df_kmeans_new).select('ID','features')\n",
        "df_kmeans.show(3)"
      ],
      "execution_count": 32,
      "outputs": [
        {
          "output_type": "stream",
          "text": [
            "+------+--------------------+\n",
            "|    ID|            features|\n",
            "+------+--------------------+\n",
            "|158023|[173.736,72.12112...|\n",
            "| 20801|[188.976,83.00733...|\n",
            "|190871|[179.832,68.0388,...|\n",
            "+------+--------------------+\n",
            "only showing top 3 rows\n",
            "\n"
          ],
          "name": "stdout"
        }
      ]
    },
    {
      "cell_type": "markdown",
      "metadata": {
        "id": "UniVGeYIDa_k"
      },
      "source": [
        "Now we plot the elbow plot to determine the optimum number of clusters for our dataset. We test with a range of cluster numbers from 2 to 20."
      ]
    },
    {
      "cell_type": "code",
      "metadata": {
        "id": "UDia7JYyDLhg"
      },
      "source": [
        "# creating an array to store the within sum of squared errors for different cluster numbers\n",
        "cost = np.zeros(21)\n",
        "\n",
        "for k in range(2,21):\n",
        "    # initialising k means with seed value to enable reproducability and fitting the model to df_kmeans\n",
        "    kmeans_iter = KMeans().setK(k).setSeed(2020)\n",
        "    model = kmeans_iter.fit(df_kmeans)\n",
        "    # storing the within sum of squared errors in the cost array\n",
        "    cost[k] = model.computeCost(df_kmeans)"
      ],
      "execution_count": 33,
      "outputs": []
    },
    {
      "cell_type": "code",
      "metadata": {
        "colab": {
          "base_uri": "https://localhost:8080/",
          "height": 417
        },
        "id": "Mr-bSnj5EA1l",
        "outputId": "f339cb02-f70a-4752-9005-26d000a1189e"
      },
      "source": [
        "fig, ax = plt.subplots(1,1, figsize =(8,6))\n",
        "ax.set_xlabel('k')\n",
        "ax.set_ylabel('cost')\n",
        "\n",
        "#plotting the within sum of squared errors for each cluster number\n",
        "ax.plot(range(2,21),cost[2:21])"
      ],
      "execution_count": 34,
      "outputs": [
        {
          "output_type": "execute_result",
          "data": {
            "text/plain": [
              "[<matplotlib.lines.Line2D at 0x7f25c2c54f50>]"
            ]
          },
          "metadata": {
            "tags": []
          },
          "execution_count": 34
        },
        {
          "output_type": "display_data",
          "data": {
            "image/png": "[encoded data removed]",
            "text/plain": [
              "<Figure size 576x432 with 1 Axes>"
            ]
          },
          "metadata": {
            "tags": [],
            "needs_background": "light"
          }
        }
      ]
    },
    {
      "cell_type": "markdown",
      "metadata": {
        "id": "i4Q9C1kKxW49"
      },
      "source": [
        "From the above plot, it can be seen that after k=8 there is not a steep decline in the cost (sum of squared error), so we take k=8 as our elbow point. For clustering, we take 8 as the ideal number of clusters."
      ]
    },
    {
      "cell_type": "markdown",
      "metadata": {
        "id": "XupecQFHE5Za"
      },
      "source": [
        "\n",
        "### 2.2 K-Means\n",
        "***\n",
        "\n"
      ]
    },
    {
      "cell_type": "code",
      "metadata": {
        "colab": {
          "base_uri": "https://localhost:8080/"
        },
        "id": "LxSOxcowE6vB",
        "outputId": "53e7d3ac-d910-4995-df9b-db3f48d1c68d"
      },
      "source": [
        "k = 8\n",
        "\n",
        "kmeans = KMeans().setK(k).setSeed(2020)\n",
        "model = kmeans.fit(df_kmeans)\n",
        "# assigning the cluster centers\n",
        "print('***Cluster Centres***')\n",
        "cluster_centers = model.clusterCenters()\n",
        "for i in cluster_centers:\n",
        "  print(i) # printing the centers"
      ],
      "execution_count": 35,
      "outputs": [
        {
          "output_type": "stream",
          "text": [
            "***Cluster Centres***\n",
            "[177.45568889  77.43733424  55.1521164   69.76785714  66.54365079\n",
            "  63.61838624  63.81216931  67.9755291   57.9702381   50.59193122\n",
            "  51.62566138  68.80026455  71.45304233  72.56944444  69.84060847\n",
            "  66.64484127  64.91005291  71.04034392  71.06547619  68.28835979\n",
            "  72.6957672   63.88558201  59.07473545  29.97949735  70.10846561\n",
            "  60.4728836   65.3234127   65.73544974  32.12896825  27.96097884\n",
            "  24.36904762]\n",
            "[172.57407959  74.18369877  67.19897959  57.50170068  59.55994898\n",
            "  72.65008503  56.83418367  69.68707483  66.08886054  61.5454932\n",
            "  69.27295918  72.10204082  69.22746599  68.61479592  71.1164966\n",
            "  70.02763605  70.50807823  70.98044218  68.39328231  76.0795068\n",
            "  68.60416667  65.91411565  70.49532313  67.77380952  64.6420068\n",
            "  68.03911565  59.26785714  69.40093537  65.37967687  68.28103741\n",
            "  65.41284014]\n",
            "[186.0693585   80.24622656  35.22898032  26.64713775  64.65116279\n",
            "  53.75268336  28.77728086  39.25357782  31.22406082  30.259839\n",
            "  47.46735242  49.87880143  54.64534884  56.43962433  49.48255814\n",
            "  58.67173524  52.38059034  45.68067979  68.58050089  62.4342576\n",
            "  76.09078712  29.09794275  65.26386404  62.86449016  30.22406082\n",
            "  37.07602862  38.58899821  55.82826476  63.65876565  66.48166369\n",
            "  63.83497317]\n",
            "[177.49266594  75.92734115  38.61964147  62.0639127   58.99454404\n",
            "  51.69680436  50.07950117  57.91738114  42.75681995  35.29150429\n",
            "  37.83476228  58.52065472  67.06235386  68.01325019  62.92595479\n",
            "  55.8355417   62.24006235  60.60483242  64.60171473  59.68901013\n",
            "  65.70381917  54.28293063  43.45830086  19.8355417   59.08417771\n",
            "  49.2314887   59.41543258  52.90802806  25.80046765  20.10833983\n",
            "  18.72096648]\n",
            "[170.56921907  71.10436678  68.99491418  67.24411952  52.2460267\n",
            "  71.47933884  63.87666879  75.08773045  70.70629371  66.14494596\n",
            "  65.37635092  74.44755245  77.34710744  75.5740623   79.27209154\n",
            "  69.24094088  76.90464081  71.29752066  62.71392244  69.18563255\n",
            "  58.76668786  68.7221869   54.51176097  40.46726001  69.81945327\n",
            "  70.67005722  64.57088366  69.71455817  40.60394151  39.32104259\n",
            "  35.59059123]\n",
            "[175.89236072  75.44833414  56.90022243  43.34191293  60.15030187\n",
            "  65.97362568  41.47410232  60.07403877  50.38195106  45.10517954\n",
            "  61.99014935  64.17953607  65.91611058  66.55322529  64.95932634\n",
            "  64.25452812  65.01175723  59.79281856  68.99459803  72.43025103\n",
            "  70.3447728   50.43851287  68.55036543  64.99523356  52.22052749\n",
            "  56.0994598   47.66539561  62.21639657  64.1251986   66.72100413\n",
            "  64.61582459]\n",
            "[170.93348134  69.184243    55.76145489  54.7076051   43.38214454\n",
            "  60.78082192  48.35049598  64.29050543  53.21776098  47.19508739\n",
            "  54.58573453  63.10958904  73.86773736  72.81247048  72.81813888\n",
            "  55.32168162  74.14076523  58.22390175  57.47472839  59.79452055\n",
            "  51.59329239  51.22957015  43.76854039  32.35569202  56.42182333\n",
            "  57.22295701  52.3037317   55.51960321  37.06424185  35.95512518\n",
            "  34.89560699]\n",
            "[170.80530473  71.56832766  51.69716088  33.82492114  50.33648791\n",
            "  56.57991588  32.34121977  55.10147213  40.02313354  36.01787592\n",
            "  50.11987382  55.74500526  68.53838065  67.90904311  64.89484753\n",
            "  55.90378549  68.35488959  43.670347    64.34121977  65.12618297\n",
            "  59.86750789  35.60672976  57.64143007  55.4915878   46.70241851\n",
            "  46.21030494  40.73291272  49.75920084  55.38222923  58.75078864\n",
            "  57.60042061]\n"
          ],
          "name": "stdout"
        }
      ]
    },
    {
      "cell_type": "code",
      "metadata": {
        "colab": {
          "base_uri": "https://localhost:8080/"
        },
        "id": "AkWZ5-6oFlpp",
        "outputId": "27228c06-8b27-454e-98cb-d33755331f8f"
      },
      "source": [
        "# assigning the unique column to a cluster center while taking off the features column using transform method\n",
        "predictions = model.transform(df_kmeans).select('ID','prediction')\n",
        "# assigning the list of predicted ids\n",
        "predictions_list = predictions.collect()\n",
        "\n",
        "# # instantiating a sqlContext object\n",
        "# sqlContext = SQLContext(spark)\n",
        "# creating a dataframe using SQLContext object\n",
        "df_prediction = sqlContext.createDataFrame(predictions_list)\n",
        "df_prediction.show(10)"
      ],
      "execution_count": 36,
      "outputs": [
        {
          "output_type": "stream",
          "text": [
            "+------+----------+\n",
            "|    ID|prediction|\n",
            "+------+----------+\n",
            "|158023|         4|\n",
            "| 20801|         4|\n",
            "|190871|         4|\n",
            "|192985|         1|\n",
            "|183277|         4|\n",
            "|177003|         1|\n",
            "|176580|         4|\n",
            "|155862|         1|\n",
            "|188545|         4|\n",
            "|182521|         1|\n",
            "+------+----------+\n",
            "only showing top 10 rows\n",
            "\n"
          ],
          "name": "stdout"
        }
      ]
    },
    {
      "cell_type": "code",
      "metadata": {
        "colab": {
          "base_uri": "https://localhost:8080/"
        },
        "id": "UYeUV5w2xW4-",
        "outputId": "3bbcd9c5-38e3-4e2c-fea6-0b17857ed0b0"
      },
      "source": [
        "# joining the original dataframe containing Position_Group to the prediction dataframe using common column ID\n",
        "df_prediction_complete = df_prediction.join(df_kmeans_new,'ID')\n",
        "df_prediction_complete.show()"
      ],
      "execution_count": 37,
      "outputs": [
        {
          "output_type": "stream",
          "text": [
            "+------+----------+-----------------+---+--------------------+-----------+--------------------+-------+---------+-------------------+--------------------+--------+-------+-------+--------------+------------------------+---------+-----------+--------------+----------+---------+--------+-------------+------------+-----------+--------------------+------+----------+------+----------+--------+---------+---------------+------------+-------+---------+-----+----------+-----------+-----------+------------+-----------+-------+---------+-------+---------+-------+-------+--------+---------+----------+-------------+-----------+------+---------+---------+-------+--------------+-------------+--------+----------+---------+-------------+----------+-----------------+--------------+\n",
            "|    ID|prediction|             Name|Age|               Photo|Nationality|                Flag|Overall|Potential|               Club|           Club Logo|value(M)|wage(K)|Special|Preferred Foot|International Reputation|Weak Foot|Skill Moves|     Work Rate| Body Type|Real Face|Position|Jersey Number|      Joined|Loaned From|Contract Valid Until|Height|Height(CM)|Weight|Weight(KG)|Crossing|Finishing|HeadingAccuracy|ShortPassing|Volleys|Dribbling|Curve|FKAccuracy|LongPassing|BallControl|Acceleration|SprintSpeed|Agility|Reactions|Balance|ShotPower|Jumping|Stamina|Strength|LongShots|Aggression|Interceptions|Positioning|Vision|Penalties|Composure|Marking|StandingTackle|SlidingTackle|GKDiving|GKHandling|GKKicking|GKPositioning|GKReflexes|Release Clause(M)|Position_Group|\n",
            "+------+----------+-----------------+---+--------------------+-----------+--------------------+-------+---------+-------------------+--------------------+--------+-------+-------+--------------+------------------------+---------+-----------+--------------+----------+---------+--------+-------------+------------+-----------+--------------------+------+----------+------+----------+--------+---------+---------------+------------+-------+---------+-----+----------+-----------+-----------+------------+-----------+-------+---------+-------+---------+-------+-------+--------+---------+----------+-------------+-----------+------+---------+---------+-------+--------------+-------------+--------+----------+---------+-------------+----------+-----------------+--------------+\n",
            "|158023|         4|         L. Messi| 31|https://cdn.sofif...|  Argentina|https://cdn.sofif...|     94|       94|       FC Barcelona|https://cdn.sofif...|   110.5|    565|   2202|          Left|                       5|        4|          4|Medium/ Medium|     Messi|      Yes|      RF|           10| Jul 1, 2004|       null|                2021|   5.7|   173.736| 159.0| 72.121128|      84|       95|             70|          90|     86|       97|   93|        94|         87|         96|          91|         86|     91|       95|     95|       85|     68|     72|      59|       94|        48|           22|         94|    94|       75|       96|     33|            28|           26|       6|        11|       15|           14|         8|            226.5|           FWD|\n",
            "| 20801|         4|Cristiano Ronaldo| 33|https://cdn.sofif...|   Portugal|https://cdn.sofif...|     94|       94|           Juventus|https://cdn.sofif...|      77|    405|   2228|         Right|                       5|        4|          5|     High/ Low|C. Ronaldo|      Yes|      ST|            7|Jul 10, 2018|       null|                2022|   6.2|   188.976| 183.0| 83.007336|      84|       94|             89|          81|     87|       88|   81|        76|         77|         94|          89|         91|     87|       96|     70|       95|     95|     88|      79|       93|        63|           29|         95|    82|       85|       95|     28|            31|           23|       7|        11|       15|           14|        11|            127.1|           FWD|\n",
            "|190871|         4|        Neymar Jr| 26|https://cdn.sofif...|     Brazil|https://cdn.sofif...|     92|       93|Paris Saint-Germain|https://cdn.sofif...|   118.5|    290|   2143|         Right|                       5|        5|          5|  High/ Medium|    Neymar|      Yes|      LW|           10| Aug 3, 2017|       null|                2022|   5.9|   179.832| 150.0|   68.0388|      79|       87|             62|          84|     84|       96|   88|        87|         78|         95|          94|         90|     96|       94|     84|       80|     61|     81|      49|       82|        56|           36|         89|    87|       81|       94|     27|            24|           33|       9|         9|       15|           15|        11|            228.1|           FWD|\n",
            "|192985|         1|     K. De Bruyne| 27|https://cdn.sofif...|    Belgium|https://cdn.sofif...|     91|       92|    Manchester City|https://cdn.sofif...|     102|    355|   2281|         Right|                       4|        5|          4|    High/ High|    Normal|      Yes|     RCM|            7|Aug 30, 2015|       null|                2023|  5.11|  155.7528| 154.0| 69.853168|      93|       82|             55|          92|     82|       86|   85|        83|         91|         91|          78|         76|     79|       91|     77|       91|     63|     90|      75|       91|        76|           61|         87|    94|       79|       88|     68|            58|           51|      15|        13|        5|           10|        13|            196.4|           MID|\n",
            "|183277|         4|        E. Hazard| 27|https://cdn.sofif...|    Belgium|https://cdn.sofif...|     91|       91|            Chelsea|https://cdn.sofif...|      93|    340|   2142|         Right|                       4|        4|          4|  High/ Medium|    Normal|      Yes|      LF|           10| Jul 1, 2012|       null|                2020|   5.8|   176.784| 163.0| 73.935496|      81|       84|             61|          89|     80|       95|   83|        79|         83|         94|          94|         88|     95|       90|     94|       82|     56|     83|      66|       80|        54|           41|         87|    89|       86|       91|     34|            27|           22|      11|        12|        6|            8|         8|            172.1|           FWD|\n",
            "|177003|         1|        L. Modri?| 32|https://cdn.sofif...|    Croatia|https://cdn.sofif...|     91|       91|        Real Madrid|https://cdn.sofif...|      67|    420|   2280|         Right|                       4|        4|          4|    High/ High|      Lean|      Yes|     RCM|           10| Aug 1, 2012|       null|                2020|   5.8|   176.784| 146.0| 66.224432|      86|       72|             55|          93|     76|       90|   85|        78|         88|         93|          80|         72|     93|       90|     94|       79|     68|     89|      58|       82|        62|           83|         79|    92|       82|       84|     60|            76|           73|      13|         9|        7|           14|         9|            137.4|           MID|\n",
            "|176580|         4|       L. Su��rez| 31|https://cdn.sofif...|    Uruguay|https://cdn.sofif...|     91|       91|       FC Barcelona|https://cdn.sofif...|      80|    455|   2346|         Right|                       5|        4|          3|  High/ Medium|    Normal|      Yes|      RS|            9|Jul 11, 2014|       null|                2021|   6.0|    182.88| 190.0|  86.18248|      77|       93|             77|          82|     88|       87|   86|        84|         64|         90|          86|         75|     82|       92|     83|       86|     69|     90|      83|       85|        87|           41|         92|    84|       85|       85|     62|            45|           38|      27|        25|       31|           33|        37|              164|           FWD|\n",
            "|155862|         1|     Sergio Ramos| 32|https://cdn.sofif...|      Spain|https://cdn.sofif...|     91|       91|        Real Madrid|https://cdn.sofif...|      51|    380|   2201|         Right|                       4|        3|          3|  High/ Medium|    Normal|      Yes|     RCB|           15| Aug 1, 2005|       null|                2020|   6.0|    182.88| 181.0| 82.100152|      66|       60|             91|          78|     66|       63|   74|        72|         77|         84|          76|         75|     78|       85|     66|       79|     93|     84|      83|       59|        88|           90|         60|    63|       75|       82|     87|            92|           91|      11|         8|        9|            7|        11|            104.6|           DEF|\n",
            "|188545|         4|   R. Lewandowski| 29|https://cdn.sofif...|     Poland|https://cdn.sofif...|     90|       90| FC Bayern M��nchen|https://cdn.sofif...|      77|    205|   2152|         Right|                       4|        4|          4|  High/ Medium|    Normal|      Yes|      ST|            9| Jul 1, 2014|       null|                2021|   6.0|    182.88| 176.0| 79.832192|      62|       91|             85|          83|     89|       85|   77|        86|         65|         89|          77|         78|     78|       90|     78|       88|     84|     78|      84|       84|        80|           39|         91|    77|       88|       86|     34|            42|           19|      15|         6|       12|            8|        10|            127.1|           FWD|\n",
            "|182521|         1|         T. Kroos| 28|https://cdn.sofif...|    Germany|https://cdn.sofif...|     90|       90|        Real Madrid|https://cdn.sofif...|    76.5|    355|   2190|         Right|                       4|        5|          3|Medium/ Medium|    Normal|      Yes|     LCM|            8|Jul 17, 2014|       null|                2022|   6.0|    182.88| 168.0| 76.203456|      88|       76|             54|          92|     82|       81|   86|        84|         93|         90|          64|         62|     70|       89|     71|       87|     30|     75|      73|       92|        60|           82|         79|    86|       73|       85|     72|            79|           69|      10|        11|       13|            7|        10|            156.8|           MID|\n",
            "|182493|         5|        D. God��n| 32|https://cdn.sofif...|    Uruguay|https://cdn.sofif...|     90|       90|   Atl��tico Madrid|https://cdn.sofif...|      44|    125|   1946|         Right|                       3|        3|          2|  Medium/ High|      Lean|      Yes|      CB|           10| Aug 4, 2010|       null|                2019|   6.2|   188.976| 172.0| 78.017824|      55|       42|             92|          79|     47|       53|   49|        51|         70|         76|          68|         68|     58|       85|     54|       67|     91|     66|      88|       43|        89|           88|         48|    52|       50|       82|     90|            89|           89|       6|         8|       15|            5|        15|             90.2|           DEF|\n",
            "|168542|         4|      David Silva| 32|https://cdn.sofif...|      Spain|https://cdn.sofif...|     90|       90|    Manchester City|https://cdn.sofif...|      60|    285|   2115|          Left|                       4|        2|          4|  High/ Medium|    Normal|      Yes|     LCM|           21|Jul 14, 2010|       null|                2020|   5.8|   176.784| 148.0| 67.131616|      84|       76|             54|          93|     82|       89|   82|        77|         87|         94|          70|         64|     92|       90|     90|       72|     64|     78|      52|       75|        57|           50|         89|    92|       75|       93|     59|            53|           29|       6|        15|        7|            6|        12|              111|           MID|\n",
            "|215914|         1|        N. Kant��| 27|https://cdn.sofif...|     France|https://cdn.sofif...|     89|       90|            Chelsea|https://cdn.sofif...|      63|    225|   2189|         Right|                       3|        3|          2|  Medium/ High|      Lean|      Yes|     LDM|           13|Jul 16, 2016|       null|                2023|   5.6|   170.688| 159.0| 72.121128|      68|       65|             54|          86|     56|       79|   49|        49|         81|         80|          82|         78|     82|       93|     92|       71|     77|     96|      76|       69|        90|           92|         71|    79|       54|       85|     90|            91|           85|      15|        12|       10|            7|        10|            121.3|           MID|\n",
            "|211110|         4|        P. Dybala| 24|https://cdn.sofif...|  Argentina|https://cdn.sofif...|     89|       94|           Juventus|https://cdn.sofif...|      89|    205|   2092|          Left|                       3|        3|          4|  High/ Medium|    Normal|      Yes|      LF|           21| Jul 1, 2015|       null|                2022|   5.1|   155.448| 165.0|  74.84268|      82|       84|             68|          87|     88|       92|   88|        88|         75|         92|          87|         83|     91|       86|     85|       82|     75|     80|      65|       88|        48|           32|         84|    87|       86|       84|     23|            20|           20|       5|         4|        4|            5|         8|            153.5|           FWD|\n",
            "|202126|         4|          H. Kane| 24|https://cdn.sofif...|    England|https://cdn.sofif...|     89|       91|  Tottenham Hotspur|https://cdn.sofif...|    83.5|    205|   2165|         Right|                       3|        4|          3|    High/ High|    Normal|      Yes|      ST|            9| Jul 1, 2010|       null|                2024|   6.2|   188.976| 196.0| 88.904032|      75|       94|             85|          80|     84|       80|   78|        68|         82|         84|          68|         72|     71|       91|     71|       88|     78|     89|      84|       85|        76|           35|         93|    80|       90|       89|     56|            36|           38|       8|        10|       11|           14|        11|            160.7|           FWD|\n",
            "|194765|         4|     A. Griezmann| 27|https://cdn.sofif...|     France|https://cdn.sofif...|     89|       90|   Atl��tico Madrid|https://cdn.sofif...|      78|    145|   2246|          Left|                       4|        3|          4|    High/ High|      Lean|      Yes|     CAM|            7|Jul 28, 2014|       null|                2023|   5.9|   179.832| 161.0| 73.028312|      82|       90|             84|          83|     87|       88|   84|        78|         76|         90|          88|         85|     90|       90|     80|       80|     90|     83|      62|       82|        69|           35|         91|    83|       79|       87|     59|            47|           48|      14|         8|       14|           13|        14|            165.8|           MID|\n",
            "|189511|         1|  Sergio Busquets| 29|https://cdn.sofif...|      Spain|https://cdn.sofif...|     89|       89|       FC Barcelona|https://cdn.sofif...|    51.5|    315|   2065|         Right|                       4|        3|          3|Medium/ Medium|      Lean|      Yes|     CDM|            5| Sep 1, 2008|       null|                2023|   6.2|   188.976| 168.0| 76.203456|      62|       67|             68|          89|     44|       80|   66|        68|         82|         88|          50|         52|     66|       87|     52|       61|     66|     86|      77|       54|        85|           87|         77|    87|       60|       90|     90|            86|           80|       5|         8|       13|            9|        13|            105.6|           MID|\n",
            "|179813|         4|        E. Cavani| 31|https://cdn.sofif...|    Uruguay|https://cdn.sofif...|     89|       89|Paris Saint-Germain|https://cdn.sofif...|      60|    200|   2161|         Right|                       4|        4|          3|    High/ High|      Lean|      Yes|      LS|           21|Jul 16, 2013|       null|                2020|   6.1|   185.928| 170.0|  77.11064|      70|       89|             89|          78|     90|       80|   77|        76|         52|         82|          75|         76|     77|       91|     59|       87|     88|     92|      78|       79|        84|           48|         93|    77|       85|       82|     52|            45|           39|      12|         5|       13|           13|        10|              111|           FWD|\n",
            "|153079|         4|       S. Ag��ero| 30|https://cdn.sofif...|  Argentina|https://cdn.sofif...|     89|       89|    Manchester City|https://cdn.sofif...|    64.5|    300|   2107|         Right|                       4|        4|          4|  High/ Medium|    Stocky|      Yes|      ST|           10|Jul 28, 2011|       null|                2021|   5.8|   176.784| 154.0| 69.853168|      70|       93|             77|          81|     85|       89|   82|        73|         64|         89|          88|         80|     86|       90|     91|       88|     81|     76|      73|       83|        65|           24|         92|    83|       83|       90|     30|            20|           12|      13|        15|        6|           11|        14|            119.3|           FWD|\n",
            "|138956|         5|     G. Chiellini| 33|https://cdn.sofif...|      Italy|https://cdn.sofif...|     89|       89|           Juventus|https://cdn.sofif...|      27|    215|   1841|          Left|                       4|        3|          2|  Medium/ High|    Normal|      Yes|     LCB|            3| Jul 1, 2005|       null|                2020|   6.2|   188.976| 187.0| 84.821704|      58|       33|             83|          59|     45|       58|   60|        31|         59|         57|          63|         75|     54|       82|     55|       78|     89|     65|      89|       49|        92|           88|         28|    50|       50|       84|     93|            93|           90|       3|         3|        2|            4|         3|             44.6|           DEF|\n",
            "+------+----------+-----------------+---+--------------------+-----------+--------------------+-------+---------+-------------------+--------------------+--------+-------+-------+--------------+------------------------+---------+-----------+--------------+----------+---------+--------+-------------+------------+-----------+--------------------+------+----------+------+----------+--------+---------+---------------+------------+-------+---------+-----+----------+-----------+-----------+------------+-----------+-------+---------+-------+---------+-------+-------+--------+---------+----------+-------------+-----------+------+---------+---------+-------+--------------+-------------+--------+----------+---------+-------------+----------+-----------------+--------------+\n",
            "only showing top 20 rows\n",
            "\n"
          ],
          "name": "stdout"
        }
      ]
    },
    {
      "cell_type": "code",
      "metadata": {
        "colab": {
          "base_uri": "https://localhost:8080/"
        },
        "id": "Dwjj5V1wxW4-",
        "outputId": "8c079b90-416f-4a76-b780-4d67ec06b8e4"
      },
      "source": [
        "# counting the position group present in each cluster \n",
        "df_prediction_complete.groupby('prediction','Position_Group').agg(F.count('ID')).sort('prediction').show(30)"
      ],
      "execution_count": 38,
      "outputs": [
        {
          "output_type": "stream",
          "text": [
            "+----------+--------------+---------+\n",
            "|prediction|Position_Group|count(ID)|\n",
            "+----------+--------------+---------+\n",
            "|         0|           MID|      255|\n",
            "|         0|           FWD|     1221|\n",
            "|         0|           DEF|        1|\n",
            "|         1|           DEF|      696|\n",
            "|         1|           FWD|       51|\n",
            "|         1|           MID|     1610|\n",
            "|         2|           FWD|        1|\n",
            "|         2|           DEF|     2167|\n",
            "|         2|           MID|       70|\n",
            "|         3|           FWD|     1142|\n",
            "|         3|           DEF|        1|\n",
            "|         3|           MID|      108|\n",
            "|         4|           DEF|        6|\n",
            "|         4|           MID|     1158|\n",
            "|         4|           FWD|      471|\n",
            "|         5|           DEF|     1738|\n",
            "|         5|           MID|     1383|\n",
            "|         5|           FWD|       24|\n",
            "|         6|           FWD|      493|\n",
            "|         6|           DEF|       17|\n",
            "|         6|           MID|     1600|\n",
            "|         7|           DEF|     1240|\n",
            "|         7|           FWD|       15|\n",
            "|         7|           MID|      654|\n",
            "+----------+--------------+---------+\n",
            "\n"
          ],
          "name": "stdout"
        }
      ]
    },
    {
      "cell_type": "markdown",
      "metadata": {
        "id": "IiHEevY6IOJz"
      },
      "source": [
        "## Part 3 - Supervised Learning: Classification on Position_Group\n"
      ]
    },
    {
      "cell_type": "markdown",
      "metadata": {
        "id": "cMxCG46J684x"
      },
      "source": [
        "In this part, we try to predict the position group of the player."
      ]
    },
    {
      "cell_type": "markdown",
      "metadata": {
        "id": "e66sZKQF7SEn"
      },
      "source": [
        "### 3.1 Data Preparation\n",
        "\n",
        "We remove the feature of position and only use the skill set features and the cluster results from Kmeans as the input. The target for classification is \"Position_Group\".\n",
        "***"
      ]
    },
    {
      "cell_type": "code",
      "metadata": {
        "colab": {
          "base_uri": "https://localhost:8080/"
        },
        "id": "PwtsyrUsI8e_",
        "outputId": "fc1eca94-16c2-4fe1-d12f-9e6eccfe4849"
      },
      "source": [
        "# renaming the column prediction in our dataframe as Cluster and reflecting the changes in a new dataframe df_kmeans_pred\n",
        "df_kmeans_pred = df_prediction_complete.withColumnRenamed('prediction', 'Cluster')\n",
        "df_kmeans_pred.cache()\n",
        "df_kmeans_pred.show(5)"
      ],
      "execution_count": 39,
      "outputs": [
        {
          "output_type": "stream",
          "text": [
            "+------+-------+-----------------+---+--------------------+-----------+--------------------+-------+---------+-------------------+--------------------+--------+-------+-------+--------------+------------------------+---------+-----------+--------------+----------+---------+--------+-------------+------------+-----------+--------------------+------+----------+------+----------+--------+---------+---------------+------------+-------+---------+-----+----------+-----------+-----------+------------+-----------+-------+---------+-------+---------+-------+-------+--------+---------+----------+-------------+-----------+------+---------+---------+-------+--------------+-------------+--------+----------+---------+-------------+----------+-----------------+--------------+\n",
            "|    ID|Cluster|             Name|Age|               Photo|Nationality|                Flag|Overall|Potential|               Club|           Club Logo|value(M)|wage(K)|Special|Preferred Foot|International Reputation|Weak Foot|Skill Moves|     Work Rate| Body Type|Real Face|Position|Jersey Number|      Joined|Loaned From|Contract Valid Until|Height|Height(CM)|Weight|Weight(KG)|Crossing|Finishing|HeadingAccuracy|ShortPassing|Volleys|Dribbling|Curve|FKAccuracy|LongPassing|BallControl|Acceleration|SprintSpeed|Agility|Reactions|Balance|ShotPower|Jumping|Stamina|Strength|LongShots|Aggression|Interceptions|Positioning|Vision|Penalties|Composure|Marking|StandingTackle|SlidingTackle|GKDiving|GKHandling|GKKicking|GKPositioning|GKReflexes|Release Clause(M)|Position_Group|\n",
            "+------+-------+-----------------+---+--------------------+-----------+--------------------+-------+---------+-------------------+--------------------+--------+-------+-------+--------------+------------------------+---------+-----------+--------------+----------+---------+--------+-------------+------------+-----------+--------------------+------+----------+------+----------+--------+---------+---------------+------------+-------+---------+-----+----------+-----------+-----------+------------+-----------+-------+---------+-------+---------+-------+-------+--------+---------+----------+-------------+-----------+------+---------+---------+-------+--------------+-------------+--------+----------+---------+-------------+----------+-----------------+--------------+\n",
            "|158023|      4|         L. Messi| 31|https://cdn.sofif...|  Argentina|https://cdn.sofif...|     94|       94|       FC Barcelona|https://cdn.sofif...|   110.5|    565|   2202|          Left|                       5|        4|          4|Medium/ Medium|     Messi|      Yes|      RF|           10| Jul 1, 2004|       null|                2021|   5.7|   173.736| 159.0| 72.121128|      84|       95|             70|          90|     86|       97|   93|        94|         87|         96|          91|         86|     91|       95|     95|       85|     68|     72|      59|       94|        48|           22|         94|    94|       75|       96|     33|            28|           26|       6|        11|       15|           14|         8|            226.5|           FWD|\n",
            "| 20801|      4|Cristiano Ronaldo| 33|https://cdn.sofif...|   Portugal|https://cdn.sofif...|     94|       94|           Juventus|https://cdn.sofif...|      77|    405|   2228|         Right|                       5|        4|          5|     High/ Low|C. Ronaldo|      Yes|      ST|            7|Jul 10, 2018|       null|                2022|   6.2|   188.976| 183.0| 83.007336|      84|       94|             89|          81|     87|       88|   81|        76|         77|         94|          89|         91|     87|       96|     70|       95|     95|     88|      79|       93|        63|           29|         95|    82|       85|       95|     28|            31|           23|       7|        11|       15|           14|        11|            127.1|           FWD|\n",
            "|190871|      4|        Neymar Jr| 26|https://cdn.sofif...|     Brazil|https://cdn.sofif...|     92|       93|Paris Saint-Germain|https://cdn.sofif...|   118.5|    290|   2143|         Right|                       5|        5|          5|  High/ Medium|    Neymar|      Yes|      LW|           10| Aug 3, 2017|       null|                2022|   5.9|   179.832| 150.0|   68.0388|      79|       87|             62|          84|     84|       96|   88|        87|         78|         95|          94|         90|     96|       94|     84|       80|     61|     81|      49|       82|        56|           36|         89|    87|       81|       94|     27|            24|           33|       9|         9|       15|           15|        11|            228.1|           FWD|\n",
            "|192985|      1|     K. De Bruyne| 27|https://cdn.sofif...|    Belgium|https://cdn.sofif...|     91|       92|    Manchester City|https://cdn.sofif...|     102|    355|   2281|         Right|                       4|        5|          4|    High/ High|    Normal|      Yes|     RCM|            7|Aug 30, 2015|       null|                2023|  5.11|  155.7528| 154.0| 69.853168|      93|       82|             55|          92|     82|       86|   85|        83|         91|         91|          78|         76|     79|       91|     77|       91|     63|     90|      75|       91|        76|           61|         87|    94|       79|       88|     68|            58|           51|      15|        13|        5|           10|        13|            196.4|           MID|\n",
            "|183277|      4|        E. Hazard| 27|https://cdn.sofif...|    Belgium|https://cdn.sofif...|     91|       91|            Chelsea|https://cdn.sofif...|      93|    340|   2142|         Right|                       4|        4|          4|  High/ Medium|    Normal|      Yes|      LF|           10| Jul 1, 2012|       null|                2020|   5.8|   176.784| 163.0| 73.935496|      81|       84|             61|          89|     80|       95|   83|        79|         83|         94|          94|         88|     95|       90|     94|       82|     56|     83|      66|       80|        54|           41|         87|    89|       86|       91|     34|            27|           22|      11|        12|        6|            8|         8|            172.1|           FWD|\n",
            "+------+-------+-----------------+---+--------------------+-----------+--------------------+-------+---------+-------------------+--------------------+--------+-------+-------+--------------+------------------------+---------+-----------+--------------+----------+---------+--------+-------------+------------+-----------+--------------------+------+----------+------+----------+--------+---------+---------------+------------+-------+---------+-----+----------+-----------+-----------+------------+-----------+-------+---------+-------+---------+-------+-------+--------+---------+----------+-------------+-----------+------+---------+---------+-------+--------------+-------------+--------+----------+---------+-------------+----------+-----------------+--------------+\n",
            "only showing top 5 rows\n",
            "\n"
          ],
          "name": "stdout"
        }
      ]
    },
    {
      "cell_type": "code",
      "metadata": {
        "colab": {
          "base_uri": "https://localhost:8080/"
        },
        "id": "isGaE9NO8P6j",
        "outputId": "cca6b10f-1f00-4c22-af53-794b34b30c78"
      },
      "source": [
        "from pyspark.ml.feature import VectorAssembler\n",
        "# selecting the attributes to get a feature vector later\n",
        "features_col = ['Height(CM)', 'Weight(KG)', \n",
        "                      'Crossing', 'Finishing', 'HeadingAccuracy', \n",
        "                      'ShortPassing', 'Volleys', 'Dribbling', 'Curve',\n",
        "                      'FKAccuracy', 'LongPassing', 'BallControl', \n",
        "                      'Acceleration', 'SprintSpeed', 'Agility', \n",
        "                      'Reactions', 'Balance', 'ShotPower', 'Jumping', \n",
        "                      'Stamina', 'Strength', 'LongShots', 'Aggression', \n",
        "                      'Interceptions', 'Positioning', 'Vision', 'Penalties', \n",
        "                      'Composure', 'Marking', 'StandingTackle', 'SlidingTackle', 'Cluster']\n",
        "\n",
        "\n",
        "vec_assembler_ = VectorAssembler(inputCols=features_col, outputCol='features')\n",
        "# this dataframe contains the feature vector generated from players' attributes and their clusters\n",
        "df_class = vec_assembler_.transform(df_kmeans_pred).select('features','Position_Group')\n",
        "df_class.show(3)"
      ],
      "execution_count": 40,
      "outputs": [
        {
          "output_type": "stream",
          "text": [
            "+--------------------+--------------+\n",
            "|            features|Position_Group|\n",
            "+--------------------+--------------+\n",
            "|[173.736,72.12112...|           FWD|\n",
            "|[188.976,83.00733...|           FWD|\n",
            "|[179.832,68.0388,...|           FWD|\n",
            "+--------------------+--------------+\n",
            "only showing top 3 rows\n",
            "\n"
          ],
          "name": "stdout"
        }
      ]
    },
    {
      "cell_type": "markdown",
      "metadata": {
        "id": "AklN81TvMKJS"
      },
      "source": [
        "Performing feature scaling. For this, we use standard scaling on the features."
      ]
    },
    {
      "cell_type": "code",
      "metadata": {
        "colab": {
          "base_uri": "https://localhost:8080/"
        },
        "id": "pjQRAHOQMK6V",
        "outputId": "2f7e933d-9161-47e5-815b-168619e3a186"
      },
      "source": [
        "from pyspark.ml.feature import StandardScaler\n",
        "\n",
        "standardscaler = StandardScaler().setInputCol('features').setOutputCol('Scaled_features')\n",
        "raw_data = standardscaler.fit(df_class).transform(df_class)\n",
        "raw_data.select('features', 'Scaled_features','Position_Group').show(5)"
      ],
      "execution_count": 41,
      "outputs": [
        {
          "output_type": "stream",
          "text": [
            "+--------------------+--------------------+--------------+\n",
            "|            features|     Scaled_features|Position_Group|\n",
            "+--------------------+--------------------+--------------+\n",
            "|[173.736,72.12112...|[12.9261363965246...|           FWD|\n",
            "|[188.976,83.00733...|[14.0600080102548...|           FWD|\n",
            "|[179.832,68.0388,...|[13.3796850420166...|           FWD|\n",
            "|[155.7528,69.8531...|[11.5881678923229...|           MID|\n",
            "|[176.784,73.93549...|[13.1529107192706...|           FWD|\n",
            "+--------------------+--------------------+--------------+\n",
            "only showing top 5 rows\n",
            "\n"
          ],
          "name": "stdout"
        }
      ]
    },
    {
      "cell_type": "markdown",
      "metadata": {
        "id": "DD6wgq2sgiGk"
      },
      "source": [
        "In Spark, we can not use string as Target data type. So, encoding the Position_Group column by using following encoding: \n",
        "\n",
        "FWD = 0\n",
        "DEF = 1\n",
        "MID = 2"
      ]
    },
    {
      "cell_type": "code",
      "metadata": {
        "colab": {
          "base_uri": "https://localhost:8080/"
        },
        "id": "OosmFX9iOc0Z",
        "outputId": "c4c60d3c-0be4-4243-db2c-50693a50afc9"
      },
      "source": [
        "raw_data_encode = raw_data.withColumn('Target',when(col('Position_Group') == 'DEF', 1)\n",
        "      .when(col('Position_Group')== 'FWD', 0)\n",
        "      .otherwise(2))\n",
        "raw_data_encode.show()"
      ],
      "execution_count": 42,
      "outputs": [
        {
          "output_type": "stream",
          "text": [
            "+--------------------+--------------+--------------------+------+\n",
            "|            features|Position_Group|     Scaled_features|Target|\n",
            "+--------------------+--------------+--------------------+------+\n",
            "|[173.736,72.12112...|           FWD|[12.9261363965246...|     0|\n",
            "|[188.976,83.00733...|           FWD|[14.0600080102548...|     0|\n",
            "|[179.832,68.0388,...|           FWD|[13.3796850420166...|     0|\n",
            "|[155.7528,69.8531...|           MID|[11.5881678923229...|     2|\n",
            "|[176.784,73.93549...|           FWD|[13.1529107192706...|     0|\n",
            "|[176.784,66.22443...|           MID|[13.1529107192706...|     2|\n",
            "|[182.88,86.18248,...|           FWD|[13.6064593647627...|     0|\n",
            "|[182.88,82.100152...|           DEF|[13.6064593647627...|     1|\n",
            "|[182.88,79.832192...|           FWD|[13.6064593647627...|     0|\n",
            "|[182.88,76.203456...|           MID|[13.6064593647627...|     2|\n",
            "|[188.976,78.01782...|           DEF|[14.0600080102548...|     1|\n",
            "|[176.784,67.13161...|           MID|[13.1529107192706...|     2|\n",
            "|[170.688,72.12112...|           MID|[12.6993620737785...|     2|\n",
            "|[155.448,74.84268...|           FWD|[11.5654904600483...|     0|\n",
            "|[188.976,88.90403...|           FWD|[14.0600080102548...|     0|\n",
            "|[179.832,73.02831...|           MID|[13.3796850420166...|     2|\n",
            "|[188.976,76.20345...|           MID|[14.0600080102548...|     2|\n",
            "|[185.928,77.11064...|           FWD|[13.8332336875087...|     0|\n",
            "|[176.784,69.85316...|           FWD|[13.1529107192706...|     0|\n",
            "|[188.976,84.82170...|           DEF|[14.0600080102548...|     1|\n",
            "+--------------------+--------------+--------------------+------+\n",
            "only showing top 20 rows\n",
            "\n"
          ],
          "name": "stdout"
        }
      ]
    },
    {
      "cell_type": "markdown",
      "metadata": {
        "id": "NDfZARUNMW2M"
      },
      "source": [
        "### 3.2 Training Test Evaluation\n",
        "***\n",
        "\n",
        "Splitting the data into train/Test, and evaluating the model performance."
      ]
    },
    {
      "cell_type": "code",
      "metadata": {
        "id": "MmbanmwBMUQB"
      },
      "source": [
        "train, test = raw_data_encode.randomSplit([0.7, 0.3], seed=2020)"
      ],
      "execution_count": 43,
      "outputs": []
    },
    {
      "cell_type": "code",
      "metadata": {
        "colab": {
          "base_uri": "https://localhost:8080/"
        },
        "id": "h-vH7VOfpNJP",
        "outputId": "9a0ed75b-eda3-4e16-c228-e2a120651570"
      },
      "source": [
        "test.show()"
      ],
      "execution_count": 44,
      "outputs": [
        {
          "output_type": "stream",
          "text": [
            "+--------------------+--------------+--------------------+------+\n",
            "|            features|Position_Group|     Scaled_features|Target|\n",
            "+--------------------+--------------+--------------------+------+\n",
            "|[155.448,58.05977...|           MID|[11.5654904600483...|     2|\n",
            "|[155.448,62.14210...|           MID|[11.5654904600483...|     2|\n",
            "|[155.448,63.04928...|           MID|[11.5654904600483...|     2|\n",
            "|[155.448,63.04928...|           FWD|[11.5654904600483...|     0|\n",
            "|[155.448,63.04928...|           MID|[11.5654904600483...|     2|\n",
            "|[155.448,63.04928...|           MID|[11.5654904600483...|     2|\n",
            "|[155.448,63.95647...|           FWD|[11.5654904600483...|     0|\n",
            "|[155.448,63.95647...|           MID|[11.5654904600483...|     2|\n",
            "|[155.448,63.95647...|           MID|[11.5654904600483...|     2|\n",
            "|[155.448,63.95647...|           MID|[11.5654904600483...|     2|\n",
            "|[155.448,64.86365...|           MID|[11.5654904600483...|     2|\n",
            "|[155.448,64.86365...|           MID|[11.5654904600483...|     2|\n",
            "|[155.448,64.86365...|           MID|[11.5654904600483...|     2|\n",
            "|[155.448,64.86365...|           MID|[11.5654904600483...|     2|\n",
            "|[155.448,64.86365...|           MID|[11.5654904600483...|     2|\n",
            "|[155.448,64.86365...|           MID|[11.5654904600483...|     2|\n",
            "|[155.448,64.86365...|           MID|[11.5654904600483...|     2|\n",
            "|[155.448,64.86365...|           MID|[11.5654904600483...|     2|\n",
            "|[155.448,66.22443...|           MID|[11.5654904600483...|     2|\n",
            "|[155.448,66.22443...|           FWD|[11.5654904600483...|     0|\n",
            "+--------------------+--------------+--------------------+------+\n",
            "only showing top 20 rows\n",
            "\n"
          ],
          "name": "stdout"
        }
      ]
    },
    {
      "cell_type": "markdown",
      "metadata": {
        "id": "MO4W0cNazfHV"
      },
      "source": [
        "Next, we compare three baseline models and select the best baseline model for further tuning in the later step."
      ]
    },
    {
      "cell_type": "code",
      "metadata": {
        "colab": {
          "base_uri": "https://localhost:8080/"
        },
        "id": "apoKm9igMi12",
        "outputId": "13e60e69-458a-4e03-bc0f-f6f410c81a79"
      },
      "source": [
        "# using logistic regression for classification\n",
        "from pyspark.ml.classification import LogisticRegression\n",
        "lr = LogisticRegression(labelCol='Target', featuresCol='Scaled_features', maxIter=100)\n",
        "model_lr = lr.fit(train)\n",
        "\n",
        "predict_train_lr = model_lr.transform(train)\n",
        "predict_test_lr = model_lr.transform(test)\n",
        "predict_test_lr.select('Target', 'prediction').show(10)"
      ],
      "execution_count": 45,
      "outputs": [
        {
          "output_type": "stream",
          "text": [
            "+------+----------+\n",
            "|Target|prediction|\n",
            "+------+----------+\n",
            "|     2|       2.0|\n",
            "|     2|       2.0|\n",
            "|     2|       2.0|\n",
            "|     0|       2.0|\n",
            "|     2|       0.0|\n",
            "|     2|       2.0|\n",
            "|     0|       0.0|\n",
            "|     2|       2.0|\n",
            "|     2|       2.0|\n",
            "|     2|       2.0|\n",
            "+------+----------+\n",
            "only showing top 10 rows\n",
            "\n"
          ],
          "name": "stdout"
        }
      ]
    },
    {
      "cell_type": "code",
      "metadata": {
        "colab": {
          "base_uri": "https://localhost:8080/"
        },
        "id": "tOmoFii-yYgJ",
        "outputId": "405908d0-25a2-4b81-ae05-56343c802b59"
      },
      "source": [
        "# using random forest for classification\n",
        "from pyspark.ml.classification import RandomForestClassifier\n",
        "rf = RandomForestClassifier(labelCol='Target', featuresCol='Scaled_features', numTrees=20, maxDepth=5,\\\n",
        "                                            impurity='gini', seed=2020)\n",
        "model_rf = rf.fit(train)\n",
        "predict_train_rf = model_rf.transform(train)\n",
        "predict_test_rf = model_rf.transform(test)\n",
        "predict_test_rf.select('Target', 'prediction').show(10)"
      ],
      "execution_count": 46,
      "outputs": [
        {
          "output_type": "stream",
          "text": [
            "+------+----------+\n",
            "|Target|prediction|\n",
            "+------+----------+\n",
            "|     2|       2.0|\n",
            "|     2|       2.0|\n",
            "|     2|       2.0|\n",
            "|     0|       2.0|\n",
            "|     2|       0.0|\n",
            "|     2|       2.0|\n",
            "|     0|       2.0|\n",
            "|     2|       2.0|\n",
            "|     2|       2.0|\n",
            "|     2|       2.0|\n",
            "+------+----------+\n",
            "only showing top 10 rows\n",
            "\n"
          ],
          "name": "stdout"
        }
      ]
    },
    {
      "cell_type": "code",
      "metadata": {
        "colab": {
          "base_uri": "https://localhost:8080/"
        },
        "id": "FrGDyCQY0qZT",
        "outputId": "7478da0e-09bc-4e99-f4af-2502d36ddb57"
      },
      "source": [
        "# using decision tree for classification\n",
        "from pyspark.ml.classification import DecisionTreeClassifier\n",
        "dt = DecisionTreeClassifier(labelCol='Target', featuresCol='Scaled_features', maxDepth=5, maxBins=32, impurity='gini', seed=2020)\n",
        "model_dt = dt.fit(train)\n",
        "predict_train_dt = model_dt.transform(train)\n",
        "predict_test_dt = model_dt.transform(test)\n",
        "predict_test_dt.select('Target', 'prediction').show(10)"
      ],
      "execution_count": 47,
      "outputs": [
        {
          "output_type": "stream",
          "text": [
            "+------+----------+\n",
            "|Target|prediction|\n",
            "+------+----------+\n",
            "|     2|       2.0|\n",
            "|     2|       2.0|\n",
            "|     2|       2.0|\n",
            "|     0|       2.0|\n",
            "|     2|       0.0|\n",
            "|     2|       1.0|\n",
            "|     0|       0.0|\n",
            "|     2|       2.0|\n",
            "|     2|       2.0|\n",
            "|     2|       1.0|\n",
            "+------+----------+\n",
            "only showing top 10 rows\n",
            "\n"
          ],
          "name": "stdout"
        }
      ]
    },
    {
      "cell_type": "markdown",
      "metadata": {
        "id": "EoFo3Uwu-SYP"
      },
      "source": [
        "Evaluating the model using confusion matrix."
      ]
    },
    {
      "cell_type": "code",
      "metadata": {
        "id": "UVszXDHpQ1R4"
      },
      "source": [
        "from pyspark.mllib.evaluation import MulticlassMetrics\n",
        "from pyspark.sql.types import FloatType\n",
        "\n",
        "def calculate_confusion_matrix(df):\n",
        "  # the label need to be in float datatype otherwise it won't work\n",
        "  # creating a column that represents the target but the datatype is float\n",
        "  df_float = df.select(['prediction','Target']).withColumn('label', F.col('Target').cast(FloatType()))\n",
        "\n",
        "  # selecting only prediction and label columns\n",
        "  df_float = df_float.select(['prediction','label'])\n",
        "  # casting to rdd and mapping to a tuple\n",
        "  metrics = MulticlassMetrics(df_float.rdd.map(tuple))\n",
        "  confusion_matrix = metrics.confusionMatrix().toArray()\n",
        "  # changing the confusion matrix array datatype to int as it's datatype is float\n",
        "  confusion_matrix = confusion_matrix.astype('int32')\n",
        "  \n",
        "  return confusion_matrix, metrics"
      ],
      "execution_count": 48,
      "outputs": []
    },
    {
      "cell_type": "code",
      "metadata": {
        "id": "jtvIxTOpmgX2"
      },
      "source": [
        "def calculate_performance_metrics_position(metrics):\n",
        "  fwd_details = ()\n",
        "  def_details = ()\n",
        "  mid_details = ()\n",
        " \n",
        "  # calculating precision, recall and f1-score for different labels\n",
        "  for lab in 0.0,1.0,2.0:\n",
        "    if lab == 0:\n",
        "      precision_fwd = round(metrics.precision(lab) * 100, 2)\n",
        "      recall_fwd = round(metrics.recall(lab) * 100, 2)\n",
        "      f1_score_fwd = round(metrics.fMeasure(lab, beta=1.0) * 100, 2)\n",
        "      fwd_details = fwd_details + (precision_fwd, recall_fwd, f1_score_fwd)\n",
        "\n",
        "    elif lab == 1:\n",
        "      precision_def = round(metrics.precision(lab) * 100, 2)\n",
        "      recall_def = round(metrics.recall(lab) * 100, 2)\n",
        "      f1_score_def = round(metrics.fMeasure(lab, beta=1.0) * 100, 2)\n",
        "      def_details = def_details + (precision_def, recall_def, f1_score_def)\n",
        "\n",
        "    elif lab == 2:\n",
        "      precision_mid = round(metrics.precision(lab) * 100, 2)\n",
        "      recall_mid = round(metrics.recall(lab) * 100, 2)\n",
        "      f1_score_mid = round(metrics.fMeasure(lab, beta=1.0) * 100, 2)\n",
        "      mid_details = mid_details + (precision_mid, recall_mid, f1_score_mid)\n",
        "\n",
        "  return fwd_details, def_details, mid_details"
      ],
      "execution_count": 49,
      "outputs": []
    },
    {
      "cell_type": "markdown",
      "metadata": {
        "id": "J6MyPg-c3WnF"
      },
      "source": [
        "Creating tables or dataframes to compare the performance of different classifiers."
      ]
    },
    {
      "cell_type": "code",
      "metadata": {
        "id": "5A3PwFxW3XGj"
      },
      "source": [
        "# defining a function that generates comparison tables\n",
        "from pyspark.sql.types import StructType, StructField\n",
        "from pyspark.sql.functions import monotonically_increasing_id, row_number\n",
        "from pyspark.sql import Window\n",
        "\n",
        "def comparison_table(pos, classifiers, *args):\n",
        "  # creating a new dataframe from list of classifiers\n",
        "  #classifiers = ('Random Forest', 'Logistic Regression', 'Decision Tree')\n",
        "  metrics_detail_list = []\n",
        "  df_classifier = spark.createDataFrame([(l,) for l in classifiers], ['Classifier'])\n",
        "\n",
        "  # stating conditions to select data based on player positions\n",
        "  if pos == 'FWD':\n",
        "    index = 0\n",
        "    print('Forwards:')\n",
        "  elif pos == 'DEF':\n",
        "    index = 1\n",
        "    print('Defenders:')\n",
        "  elif pos == 'MID':\n",
        "    index = 2\n",
        "    print('Midfielders:')\n",
        "\n",
        "  # populating the data for dataframes containing performance indicators\n",
        "  for i in args:\n",
        "    metrics_detail_list += [i[index]]\n",
        "  \n",
        "  # defining the schema of the dataframes containing performance metrics\n",
        "  schema = StructType([\n",
        "      StructField('Precision', FloatType(), False),\n",
        "      StructField('Recall', FloatType(), False),\n",
        "      StructField('F1-score', FloatType(), False)\n",
        "      ])\n",
        "  \n",
        "  # creating a dataframe for performance metrics\n",
        "  pos_df = spark.createDataFrame(metrics_detail_list, schema)\n",
        "\n",
        "  # adding index to the dataframes to join later\n",
        "  pos_df = pos_df.withColumn('row_index', row_number().over(Window.orderBy(monotonically_increasing_id())))\n",
        "  df_classifier = df_classifier.withColumn('row_index', row_number().over(Window.orderBy(monotonically_increasing_id())))\n",
        "  comparison_df = df_classifier.join(pos_df, pos_df.row_index == df_classifier.row_index).drop('row_index')\n",
        "  \n",
        "  return comparison_df"
      ],
      "execution_count": 50,
      "outputs": []
    },
    {
      "cell_type": "code",
      "metadata": {
        "id": "QopPYzF-Rb0Y"
      },
      "source": [
        "# obtaining confusion matrix for three classifiers\n",
        "confusion_matrix_lr, metrics_lr = calculate_confusion_matrix(predict_test_lr)\n",
        "performance_lr = calculate_performance_metrics_position(metrics_lr)\n",
        "confusion_matrix_rf, metrics_rf = calculate_confusion_matrix(predict_test_rf)\n",
        "performance_rf = calculate_performance_metrics_position(metrics_rf)\n",
        "confusion_matrix_dt, metrics_dt = calculate_confusion_matrix(predict_test_dt)\n",
        "performance_dt = calculate_performance_metrics_position(metrics_dt)"
      ],
      "execution_count": 51,
      "outputs": []
    },
    {
      "cell_type": "code",
      "metadata": {
        "colab": {
          "base_uri": "https://localhost:8080/"
        },
        "id": "KhSlojR_3hfZ",
        "outputId": "56f7d176-fecc-4f8d-a3b8-b7327ae66e14"
      },
      "source": [
        "# showing the comparison table\n",
        "classifiers = ('Random Forest', 'Logistic Regression', 'Decision Tree')\n",
        "comparison_table('FWD', classifiers, performance_rf, performance_lr, performance_dt).show()\n",
        "comparison_table('DEF', classifiers, performance_rf, performance_lr, performance_dt).show()\n",
        "comparison_table('MID', classifiers, performance_rf, performance_lr, performance_dt).show()                "
      ],
      "execution_count": 52,
      "outputs": [
        {
          "output_type": "stream",
          "text": [
            "Forwards:\n",
            "+-------------------+---------+------+--------+\n",
            "|         Classifier|Precision|Recall|F1-score|\n",
            "+-------------------+---------+------+--------+\n",
            "|      Random Forest|    85.85| 70.47|   77.41|\n",
            "|Logistic Regression|    82.94| 79.43|   81.15|\n",
            "|      Decision Tree|    79.21| 77.26|   78.23|\n",
            "+-------------------+---------+------+--------+\n",
            "\n",
            "Defenders:\n",
            "+-------------------+---------+------+--------+\n",
            "|         Classifier|Precision|Recall|F1-score|\n",
            "+-------------------+---------+------+--------+\n",
            "|      Random Forest|    88.13| 87.64|   87.89|\n",
            "|Logistic Regression|    92.31| 91.95|   92.13|\n",
            "|      Decision Tree|    85.11| 85.68|    85.4|\n",
            "+-------------------+---------+------+--------+\n",
            "\n",
            "Midfielders:\n",
            "+-------------------+---------+------+--------+\n",
            "|         Classifier|Precision|Recall|F1-score|\n",
            "+-------------------+---------+------+--------+\n",
            "|      Random Forest|    76.92| 84.13|   80.36|\n",
            "|Logistic Regression|    83.51| 85.55|   84.52|\n",
            "|      Decision Tree|     77.1| 77.59|   77.34|\n",
            "+-------------------+---------+------+--------+\n",
            "\n"
          ],
          "name": "stdout"
        }
      ]
    },
    {
      "cell_type": "markdown",
      "metadata": {
        "id": "3Xsos5BtMug7"
      },
      "source": [
        "Write the result..."
      ]
    },
    {
      "cell_type": "markdown",
      "metadata": {
        "id": "4Iy-g_68Q8OV"
      },
      "source": [
        "### 3.3 K-fold Cross-Validation\n",
        "***"
      ]
    },
    {
      "cell_type": "markdown",
      "metadata": {
        "id": "nb_oFT80Cbcy"
      },
      "source": [
        "In this section, we perform hyper-parameter tuning to find the best hyper-parameter set using K-fold cross validation along with param grid. "
      ]
    },
    {
      "cell_type": "markdown",
      "metadata": {
        "id": "rzEmnsKCPi8A"
      },
      "source": [
        "Preprocessing Stages:"
      ]
    },
    {
      "cell_type": "code",
      "metadata": {
        "id": "Xc-CtS8ctmaa"
      },
      "source": [
        "from pyspark.ml import Pipeline\n",
        "from pyspark.ml.classification import RandomForestClassifier, DecisionTreeClassifier, LogisticRegression\n",
        "from pyspark.ml.evaluation import MulticlassClassificationEvaluator\n",
        "from pyspark.ml.tuning import ParamGridBuilder, CrossValidator\n",
        "import encoder\n",
        "\n",
        "# creating the preprocessing stages for the Machine Learning pipeline and setting the pipeline\n",
        "# defining the stage 1\n",
        "vec_assembler_mlp = VectorAssembler(inputCols=features_col, outputCol=\"features\")\n",
        "# defining the stage 2\n",
        "standard_scaler_mlp = StandardScaler().setInputCol(\"features\").setOutputCol(\"Scaled_features\")\n",
        "# defining the stage 3\n",
        "encoding_mlp = encoder.LabelEncoder()\n",
        "# defining the last stage (logistic regression)\n",
        "logistic_regression = LogisticRegression(featuresCol='Scaled_features', labelCol='Target', maxIter=100, regParam=0, threshold=0.5)\n",
        "\n",
        "# setting the pipeline for logistic_regression\n",
        "pipeline_logistic_regression = Pipeline(stages=[vec_assembler_mlp, standard_scaler_mlp, encoding_mlp, logistic_regression])\n",
        "\n",
        "# building a grid of parameters for logistic regression to be used by the cross-validation\n",
        "# providing iteration number, different lambda values and threshold values for paramter grids\n",
        "paramGrid_logistic_regression = ParamGridBuilder().addGrid(logistic_regression.maxIter, [50, 100, 200, 250, 300])\\\n",
        ".addGrid(logistic_regression.regParam, [0.001, 0.01, 0.1, 0, 1, 10]).build()"
      ],
      "execution_count": 123,
      "outputs": []
    },
    {
      "cell_type": "markdown",
      "metadata": {
        "id": "b339X1hhWIrK"
      },
      "source": [
        "Splitting the dataset:"
      ]
    },
    {
      "cell_type": "code",
      "metadata": {
        "id": "eyUq0AzfWCSa"
      },
      "source": [
        "# splitting the data into training and testing dataset\n",
        "training, testing = df_kmeans_pred.randomSplit([0.7, 0.3], seed=2020)"
      ],
      "execution_count": 124,
      "outputs": []
    },
    {
      "cell_type": "markdown",
      "metadata": {
        "id": "3MvloqqiWO2s"
      },
      "source": [
        "Cross Validation:"
      ]
    },
    {
      "cell_type": "code",
      "metadata": {
        "id": "y2pnIz-2WPI6"
      },
      "source": [
        "# cross validating for logistic regression\n",
        "crossval_logistic_regression = CrossValidator(estimator=pipeline_logistic_regression,\\\n",
        "                          estimatorParamMaps=paramGrid_logistic_regression,\\\n",
        "                          evaluator=MulticlassClassificationEvaluator(labelCol='Target', predictionCol='prediction'),\\\n",
        "                          numFolds=10)\n",
        "\n",
        "# fitting the training dataset\n",
        "cv_logistic_regression = crossval_logistic_regression.fit(training)"
      ],
      "execution_count": 125,
      "outputs": []
    },
    {
      "cell_type": "code",
      "metadata": {
        "id": "GrPLXz4aWaZI",
        "colab": {
          "base_uri": "https://localhost:8080/"
        },
        "outputId": "4a5cb890-bed4-499b-9e61-c4ee22b578d8"
      },
      "source": [
        "# printing the parameter values for the best estimator\n",
        "print(cv_logistic_regression.getEstimatorParamMaps()[np.argmax(cv_logistic_regression.avgMetrics)])"
      ],
      "execution_count": 126,
      "outputs": [
        {
          "output_type": "stream",
          "text": [
            "{Param(parent='LogisticRegression_476ec74d88e9', name='maxIter', doc='max number of iterations (>= 0).'): 300, Param(parent='LogisticRegression_476ec74d88e9', name='regParam', doc='regularization parameter (>= 0).'): 0.0}\n"
          ],
          "name": "stdout"
        }
      ]
    },
    {
      "cell_type": "code",
      "metadata": {
        "id": "j-HN9t8lWlAx",
        "colab": {
          "base_uri": "https://localhost:8080/"
        },
        "outputId": "20cc91de-e58e-490c-9cf6-b2923e9e2b98"
      },
      "source": [
        "# fitting the training data using the best model\n",
        "prediction_logistic_regression = cv_logistic_regression.bestModel.transform(testing).select('Target', 'prediction')\n",
        "prediction_logistic_regression.show()"
      ],
      "execution_count": 127,
      "outputs": [
        {
          "output_type": "stream",
          "text": [
            "+------+----------+\n",
            "|Target|prediction|\n",
            "+------+----------+\n",
            "|     0|       2.0|\n",
            "|     2|       2.0|\n",
            "|     2|       2.0|\n",
            "|     2|       2.0|\n",
            "|     1|       1.0|\n",
            "|     2|       2.0|\n",
            "|     1|       1.0|\n",
            "|     2|       1.0|\n",
            "|     0|       0.0|\n",
            "|     2|       2.0|\n",
            "|     1|       1.0|\n",
            "|     0|       0.0|\n",
            "|     0|       2.0|\n",
            "|     1|       2.0|\n",
            "|     2|       2.0|\n",
            "|     0|       0.0|\n",
            "|     1|       1.0|\n",
            "|     1|       1.0|\n",
            "|     0|       0.0|\n",
            "|     2|       2.0|\n",
            "+------+----------+\n",
            "only showing top 20 rows\n",
            "\n"
          ],
          "name": "stdout"
        }
      ]
    },
    {
      "cell_type": "code",
      "metadata": {
        "id": "KYRXXnNr4bsh"
      },
      "source": [
        "# obtaining confusion matrix for three classifiers\n",
        "confusion_matrix_lr2, metrics_lr2 = calculate_confusion_matrix(prediction_logistic_regression)\n",
        "performance_lr2 = calculate_performance_metrics_position(metrics_lr2)"
      ],
      "execution_count": 129,
      "outputs": []
    },
    {
      "cell_type": "code",
      "metadata": {
        "colab": {
          "base_uri": "https://localhost:8080/"
        },
        "id": "AgRuas5I4ch0",
        "outputId": "c3496ca7-549a-4a59-a872-0fe27e04ae1b"
      },
      "source": [
        "# showing the comparison table\n",
        "classifiers = ('Logistic Regression',)\n",
        "comparison_table('FWD', classifiers, performance_lr2).show()\n",
        "comparison_table('DEF', classifiers, performance_lr2).show()\n",
        "comparison_table('MID', classifiers, performance_lr2).show()                "
      ],
      "execution_count": 149,
      "outputs": [
        {
          "output_type": "stream",
          "text": [
            "Forwards:\n",
            "+-------------------+---------+------+--------+\n",
            "|         Classifier|Precision|Recall|F1-score|\n",
            "+-------------------+---------+------+--------+\n",
            "|Logistic Regression|    82.56| 80.06|   81.29|\n",
            "+-------------------+---------+------+--------+\n",
            "\n",
            "Defenders:\n",
            "+-------------------+---------+------+--------+\n",
            "|         Classifier|Precision|Recall|F1-score|\n",
            "+-------------------+---------+------+--------+\n",
            "|Logistic Regression|    92.07| 92.23|   92.15|\n",
            "+-------------------+---------+------+--------+\n",
            "\n",
            "Midfielders:\n",
            "+-------------------+---------+------+--------+\n",
            "|         Classifier|Precision|Recall|F1-score|\n",
            "+-------------------+---------+------+--------+\n",
            "|Logistic Regression|     84.0| 85.14|   84.57|\n",
            "+-------------------+---------+------+--------+\n",
            "\n"
          ],
          "name": "stdout"
        }
      ]
    },
    {
      "cell_type": "code",
      "metadata": {
        "colab": {
          "base_uri": "https://localhost:8080/",
          "height": 457
        },
        "id": "mUKphPgP7dSU",
        "outputId": "691270a9-5cce-4891-90b9-38ba57050fc7"
      },
      "source": [
        "# creating a heatmap from the confusion matrix\n",
        "import seaborn as sn \n",
        "labels = ['FWD', 'DEF', 'MID'] # specifying the labels in our data based on encoding\n",
        "#creating a dataframe from the confusion matrix\n",
        "confusion_df = pd.DataFrame(confusion_matrix_lr2, index = [i for i in labels], columns = [i for i in labels])\n",
        "plt.figure(figsize=(10,7))\n",
        "sn.set(font_scale=1.5) # setting the label size\n",
        "# drawing the heat map along with displaying values in a digit format and setting the digit size\n",
        "sn.heatmap(confusion_df, annot=True, fmt='d', annot_kws={'size': 20})"
      ],
      "execution_count": 150,
      "outputs": [
        {
          "output_type": "execute_result",
          "data": {
            "text/plain": [
              "<matplotlib.axes._subplots.AxesSubplot at 0x7f2b922ac4d0>"
            ]
          },
          "metadata": {
            "tags": []
          },
          "execution_count": 150
        },
        {
          "output_type": "display_data",
          "data": {
            "image/png": "[encoded data removed]",
            "text/plain": [
              "<Figure size 720x504 with 2 Axes>"
            ]
          },
          "metadata": {
            "tags": [],
            "needs_background": "light"
          }
        }
      ]
    },
    {
      "cell_type": "markdown",
      "metadata": {
        "id": "UYyZy0siKf71"
      },
      "source": [
        "write about what is seen above"
      ]
    }
  ]
}
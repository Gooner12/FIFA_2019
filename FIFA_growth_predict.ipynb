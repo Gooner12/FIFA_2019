{
  "nbformat": 4,
  "nbformat_minor": 0,
  "metadata": {
    "colab": {
      "name": "FIFA_growth_predict",
      "provenance": [],
      "collapsed_sections": []
    },
    "kernelspec": {
      "name": "python3",
      "display_name": "Python 3"
    },
    "language_info": {
      "name": "python"
    }
  },
  "cells": [
    {
      "cell_type": "markdown",
      "metadata": {
        "id": "G1vjEdvs-6vh"
      },
      "source": [
        "## Part 1 - Exploratory Data Analysis\n",
        "\n",
        "### 1.0. Libraries and data files\n",
        "***"
      ]
    },
    {
      "cell_type": "code",
      "metadata": {
        "colab": {
          "base_uri": "https://localhost:8080/"
        },
        "id": "nZY2t-qpxW4x",
        "outputId": "4fd0c85a-2b34-470a-c60d-455199fe31d6"
      },
      "source": [
        "!apt-get update\n",
        "# importing the necessary spark environment and getting jdk\n",
        "!apt-get install openjdk-8-jdk-headless -qq > /dev/null\n",
        "#!wget -q https://www-us.apache.org/dist/spark/spark-3.1.2/spark-3.1.2-bin-hadoop2.7.tgz\n",
        "!wget -q https://downloads.apache.org/spark/spark-3.1.2/spark-3.1.2-bin-hadoop2.7.tgz\n",
        "!tar xf spark-3.1.2-bin-hadoop2.7.tgz\n",
        "import os\n",
        "os.environ['JAVA_HOME'] = '/usr/lib/jvm/java-8-openjdk-amd64'\n",
        "os.environ['SPARK_HOME'] = '/content/spark-3.1.2-bin-hadoop2.7'"
      ],
      "execution_count": 1,
      "outputs": [
        {
          "output_type": "stream",
          "name": "stdout",
          "text": [
            "Get:1 https://cloud.r-project.org/bin/linux/ubuntu bionic-cran40/ InRelease [3,626 B]\n",
            "Ign:2 https://developer.download.nvidia.com/compute/cuda/repos/ubuntu1804/x86_64  InRelease\n",
            "Get:3 http://security.ubuntu.com/ubuntu bionic-security InRelease [88.7 kB]\n",
            "Ign:4 https://developer.download.nvidia.com/compute/machine-learning/repos/ubuntu1804/x86_64  InRelease\n",
            "Get:5 https://developer.download.nvidia.com/compute/cuda/repos/ubuntu1804/x86_64  Release [696 B]\n",
            "Hit:6 http://archive.ubuntu.com/ubuntu bionic InRelease\n",
            "Hit:7 https://developer.download.nvidia.com/compute/machine-learning/repos/ubuntu1804/x86_64  Release\n",
            "Get:8 https://developer.download.nvidia.com/compute/cuda/repos/ubuntu1804/x86_64  Release.gpg [836 B]\n",
            "Get:9 http://archive.ubuntu.com/ubuntu bionic-updates InRelease [88.7 kB]\n",
            "Get:10 http://ppa.launchpad.net/c2d4u.team/c2d4u4.0+/ubuntu bionic InRelease [15.9 kB]\n",
            "Hit:12 http://ppa.launchpad.net/cran/libgit2/ubuntu bionic InRelease\n",
            "Get:13 http://archive.ubuntu.com/ubuntu bionic-backports InRelease [74.6 kB]\n",
            "Get:14 https://developer.download.nvidia.com/compute/cuda/repos/ubuntu1804/x86_64  Packages [717 kB]\n",
            "Get:15 http://ppa.launchpad.net/deadsnakes/ppa/ubuntu bionic InRelease [15.9 kB]\n",
            "Get:16 http://security.ubuntu.com/ubuntu bionic-security/restricted amd64 Packages [560 kB]\n",
            "Hit:17 http://ppa.launchpad.net/graphics-drivers/ppa/ubuntu bionic InRelease\n",
            "Get:18 http://archive.ubuntu.com/ubuntu bionic-updates/restricted amd64 Packages [600 kB]\n",
            "Get:19 http://security.ubuntu.com/ubuntu bionic-security/main amd64 Packages [2,320 kB]\n",
            "Get:20 http://ppa.launchpad.net/c2d4u.team/c2d4u4.0+/ubuntu bionic/main Sources [1,799 kB]\n",
            "Get:21 http://security.ubuntu.com/ubuntu bionic-security/universe amd64 Packages [1,428 kB]\n",
            "Get:22 http://archive.ubuntu.com/ubuntu bionic-updates/universe amd64 Packages [2,202 kB]\n",
            "Get:23 http://archive.ubuntu.com/ubuntu bionic-updates/main amd64 Packages [2,760 kB]\n",
            "Get:24 http://ppa.launchpad.net/c2d4u.team/c2d4u4.0+/ubuntu bionic/main amd64 Packages [921 kB]\n",
            "Get:25 http://ppa.launchpad.net/deadsnakes/ppa/ubuntu bionic/main amd64 Packages [40.8 kB]\n",
            "Fetched 13.6 MB in 7s (1,851 kB/s)\n",
            "Reading package lists... Done\n"
          ]
        }
      ]
    },
    {
      "cell_type": "code",
      "metadata": {
        "colab": {
          "base_uri": "https://localhost:8080/"
        },
        "id": "auVRAscVRVrI",
        "outputId": "301dd88f-8951-4cfe-8294-dce1f4138779"
      },
      "source": [
        "# getting the data\n",
        "!pip install -q wget\n",
        "!pip install -q findspark\n",
        "import wget\n",
        "data_19 = 'https://raw.githubusercontent.com/Gooner12/FIFA_2019/main/FIFA_19_players.csv'\n",
        "data_21 = 'https://raw.githubusercontent.com/Gooner12/FIFA_2019/main/FIFA_21_players.csv'\n",
        "dataset_19 = wget.download(data_19)\n",
        "dataset_21 = wget.download(data_21)"
      ],
      "execution_count": 2,
      "outputs": [
        {
          "output_type": "stream",
          "name": "stdout",
          "text": [
            "  Building wheel for wget (setup.py) ... \u001b[?25l\u001b[?25hdone\n"
          ]
        }
      ]
    },
    {
      "cell_type": "code",
      "metadata": {
        "id": "3Gxm5nc6Rz-a"
      },
      "source": [
        "import findspark\n",
        "findspark.init()\n",
        "#findspark.find()\n",
        "from pyspark.sql import SparkSession"
      ],
      "execution_count": 3,
      "outputs": []
    },
    {
      "cell_type": "markdown",
      "metadata": {
        "id": "dSPbqoEGR30v"
      },
      "source": [
        "### 1.1 Data Exploration\n",
        "***"
      ]
    },
    {
      "cell_type": "code",
      "metadata": {
        "colab": {
          "base_uri": "https://localhost:8080/"
        },
        "id": "uuGY6lgWR7B3",
        "outputId": "342bf96f-9350-4d0a-c4c7-dbfb669d9bf8"
      },
      "source": [
        "# importing the 'FIFA_19.csv' as a Spark dataframe\n",
        "spark = SparkSession.builder.appName('FIFA_19').config('spark.sql.caseSensitive', 'true').getOrCreate()\n",
        "sc = spark.sparkContext\n",
        "# not including header as data while reading so the header value is made true\n",
        "df_19 = spark.read.format('csv').options(header='true', inferschema='true').load('FIFA_19_players.csv')\n",
        "df_19.show()\n",
        "df_19.cache()"
      ],
      "execution_count": 4,
      "outputs": [
        {
          "output_type": "stream",
          "name": "stdout",
          "text": [
            "+------+-----------------+---+--------------------+-----------+--------------------+-------+---------+-------------------+--------------------+--------+-------+-------+--------------+------------------------+---------+-----------+--------------+----------+---------+--------+-------------+------------+-----------+--------------------+------+----------+------+----------+--------+---------+---------------+------------+-------+---------+-----+----------+-----------+-----------+------------+-----------+-------+---------+-------+---------+-------+-------+--------+---------+----------+-------------+-----------+------+---------+---------+-------+--------------+-------------+--------+----------+---------+-------------+----------+-----------------+\n",
            "|    ID|             Name|Age|               Photo|Nationality|                Flag|Overall|Potential|               Club|           Club Logo|value(M)|wage(K)|Special|Preferred Foot|International Reputation|Weak Foot|Skill Moves|     Work Rate| Body Type|Real Face|Position|Jersey Number|      Joined|Loaned From|Contract Valid Until|Height|Height(CM)|Weight|Weight(KG)|Crossing|Finishing|HeadingAccuracy|ShortPassing|Volleys|Dribbling|Curve|FKAccuracy|LongPassing|BallControl|Acceleration|SprintSpeed|Agility|Reactions|Balance|ShotPower|Jumping|Stamina|Strength|LongShots|Aggression|Interceptions|Positioning|Vision|Penalties|Composure|Marking|StandingTackle|SlidingTackle|GKDiving|GKHandling|GKKicking|GKPositioning|GKReflexes|Release Clause(M)|\n",
            "+------+-----------------+---+--------------------+-----------+--------------------+-------+---------+-------------------+--------------------+--------+-------+-------+--------------+------------------------+---------+-----------+--------------+----------+---------+--------+-------------+------------+-----------+--------------------+------+----------+------+----------+--------+---------+---------------+------------+-------+---------+-----+----------+-----------+-----------+------------+-----------+-------+---------+-------+---------+-------+-------+--------+---------+----------+-------------+-----------+------+---------+---------+-------+--------------+-------------+--------+----------+---------+-------------+----------+-----------------+\n",
            "|158023|         L. Messi| 31|https://cdn.sofif...|  Argentina|https://cdn.sofif...|     94|       94|       FC Barcelona|https://cdn.sofif...|   110.5|    565|   2202|          Left|                       5|        4|          4|Medium/ Medium|     Messi|      Yes|      RF|           10| Jul 1, 2004|       null|                2021|   5.7|   173.736| 159.0| 72.121128|      84|       95|             70|          90|     86|       97|   93|        94|         87|         96|          91|         86|     91|       95|     95|       85|     68|     72|      59|       94|        48|           22|         94|    94|       75|       96|     33|            28|           26|       6|        11|       15|           14|         8|            226.5|\n",
            "| 20801|Cristiano Ronaldo| 33|https://cdn.sofif...|   Portugal|https://cdn.sofif...|     94|       94|           Juventus|https://cdn.sofif...|      77|    405|   2228|         Right|                       5|        4|          5|     High/ Low|C. Ronaldo|      Yes|      ST|            7|Jul 10, 2018|       null|                2022|   6.2|   188.976| 183.0| 83.007336|      84|       94|             89|          81|     87|       88|   81|        76|         77|         94|          89|         91|     87|       96|     70|       95|     95|     88|      79|       93|        63|           29|         95|    82|       85|       95|     28|            31|           23|       7|        11|       15|           14|        11|            127.1|\n",
            "|190871|        Neymar Jr| 26|https://cdn.sofif...|     Brazil|https://cdn.sofif...|     92|       93|Paris Saint-Germain|https://cdn.sofif...|   118.5|    290|   2143|         Right|                       5|        5|          5|  High/ Medium|    Neymar|      Yes|      LW|           10| Aug 3, 2017|       null|                2022|   5.9|   179.832| 150.0|   68.0388|      79|       87|             62|          84|     84|       96|   88|        87|         78|         95|          94|         90|     96|       94|     84|       80|     61|     81|      49|       82|        56|           36|         89|    87|       81|       94|     27|            24|           33|       9|         9|       15|           15|        11|            228.1|\n",
            "|193080|           De Gea| 27|https://cdn.sofif...|      Spain|https://cdn.sofif...|     91|       93|  Manchester United|https://cdn.sofif...|      72|    260|   1471|         Right|                       4|        3|          1|Medium/ Medium|      Lean|      Yes|      GK|            1| Jul 1, 2011|       null|                2020|   6.4|   195.072| 168.0| 76.203456|      17|       13|             21|          50|     13|       18|   21|        19|         51|         42|          57|         58|     60|       90|     43|       31|     67|     43|      64|       12|        38|           30|         12|    68|       40|       68|     15|            21|           13|      90|        85|       87|           88|        94|            138.6|\n",
            "|192985|     K. De Bruyne| 27|https://cdn.sofif...|    Belgium|https://cdn.sofif...|     91|       92|    Manchester City|https://cdn.sofif...|     102|    355|   2281|         Right|                       4|        5|          4|    High/ High|    Normal|      Yes|     RCM|            7|Aug 30, 2015|       null|                2023|  5.11|  155.7528| 154.0| 69.853168|      93|       82|             55|          92|     82|       86|   85|        83|         91|         91|          78|         76|     79|       91|     77|       91|     63|     90|      75|       91|        76|           61|         87|    94|       79|       88|     68|            58|           51|      15|        13|        5|           10|        13|            196.4|\n",
            "|183277|        E. Hazard| 27|https://cdn.sofif...|    Belgium|https://cdn.sofif...|     91|       91|            Chelsea|https://cdn.sofif...|      93|    340|   2142|         Right|                       4|        4|          4|  High/ Medium|    Normal|      Yes|      LF|           10| Jul 1, 2012|       null|                2020|   5.8|   176.784| 163.0| 73.935496|      81|       84|             61|          89|     80|       95|   83|        79|         83|         94|          94|         88|     95|       90|     94|       82|     56|     83|      66|       80|        54|           41|         87|    89|       86|       91|     34|            27|           22|      11|        12|        6|            8|         8|            172.1|\n",
            "|177003|        L. Modri?| 32|https://cdn.sofif...|    Croatia|https://cdn.sofif...|     91|       91|        Real Madrid|https://cdn.sofif...|      67|    420|   2280|         Right|                       4|        4|          4|    High/ High|      Lean|      Yes|     RCM|           10| Aug 1, 2012|       null|                2020|   5.8|   176.784| 146.0| 66.224432|      86|       72|             55|          93|     76|       90|   85|        78|         88|         93|          80|         72|     93|       90|     94|       79|     68|     89|      58|       82|        62|           83|         79|    92|       82|       84|     60|            76|           73|      13|         9|        7|           14|         9|            137.4|\n",
            "|176580|       L. Su��rez| 31|https://cdn.sofif...|    Uruguay|https://cdn.sofif...|     91|       91|       FC Barcelona|https://cdn.sofif...|      80|    455|   2346|         Right|                       5|        4|          3|  High/ Medium|    Normal|      Yes|      RS|            9|Jul 11, 2014|       null|                2021|   6.0|    182.88| 190.0|  86.18248|      77|       93|             77|          82|     88|       87|   86|        84|         64|         90|          86|         75|     82|       92|     83|       86|     69|     90|      83|       85|        87|           41|         92|    84|       85|       85|     62|            45|           38|      27|        25|       31|           33|        37|              164|\n",
            "|155862|     Sergio Ramos| 32|https://cdn.sofif...|      Spain|https://cdn.sofif...|     91|       91|        Real Madrid|https://cdn.sofif...|      51|    380|   2201|         Right|                       4|        3|          3|  High/ Medium|    Normal|      Yes|     RCB|           15| Aug 1, 2005|       null|                2020|   6.0|    182.88| 181.0| 82.100152|      66|       60|             91|          78|     66|       63|   74|        72|         77|         84|          76|         75|     78|       85|     66|       79|     93|     84|      83|       59|        88|           90|         60|    63|       75|       82|     87|            92|           91|      11|         8|        9|            7|        11|            104.6|\n",
            "|200389|         J. Oblak| 25|https://cdn.sofif...|   Slovenia|https://cdn.sofif...|     90|       93|   Atl��tico Madrid|https://cdn.sofif...|      68|     94|   1331|         Right|                       3|        3|          1|Medium/ Medium|    Normal|      Yes|      GK|            1|Jul 16, 2014|       null|                2021|   6.2|   188.976| 192.0| 87.089664|      13|       11|             15|          29|     13|       12|   13|        14|         26|         16|          43|         60|     67|       86|     49|       22|     76|     41|      78|       12|        34|           19|         11|    70|       11|       70|     27|            12|           18|      86|        92|       78|           88|        89|            144.5|\n",
            "|188545|   R. Lewandowski| 29|https://cdn.sofif...|     Poland|https://cdn.sofif...|     90|       90| FC Bayern M��nchen|https://cdn.sofif...|      77|    205|   2152|         Right|                       4|        4|          4|  High/ Medium|    Normal|      Yes|      ST|            9| Jul 1, 2014|       null|                2021|   6.0|    182.88| 176.0| 79.832192|      62|       91|             85|          83|     89|       85|   77|        86|         65|         89|          77|         78|     78|       90|     78|       88|     84|     78|      84|       84|        80|           39|         91|    77|       88|       86|     34|            42|           19|      15|         6|       12|            8|        10|            127.1|\n",
            "|182521|         T. Kroos| 28|https://cdn.sofif...|    Germany|https://cdn.sofif...|     90|       90|        Real Madrid|https://cdn.sofif...|    76.5|    355|   2190|         Right|                       4|        5|          3|Medium/ Medium|    Normal|      Yes|     LCM|            8|Jul 17, 2014|       null|                2022|   6.0|    182.88| 168.0| 76.203456|      88|       76|             54|          92|     82|       81|   86|        84|         93|         90|          64|         62|     70|       89|     71|       87|     30|     75|      73|       92|        60|           82|         79|    86|       73|       85|     72|            79|           69|      10|        11|       13|            7|        10|            156.8|\n",
            "|182493|        D. God��n| 32|https://cdn.sofif...|    Uruguay|https://cdn.sofif...|     90|       90|   Atl��tico Madrid|https://cdn.sofif...|      44|    125|   1946|         Right|                       3|        3|          2|  Medium/ High|      Lean|      Yes|      CB|           10| Aug 4, 2010|       null|                2019|   6.2|   188.976| 172.0| 78.017824|      55|       42|             92|          79|     47|       53|   49|        51|         70|         76|          68|         68|     58|       85|     54|       67|     91|     66|      88|       43|        89|           88|         48|    52|       50|       82|     90|            89|           89|       6|         8|       15|            5|        15|             90.2|\n",
            "|168542|      David Silva| 32|https://cdn.sofif...|      Spain|https://cdn.sofif...|     90|       90|    Manchester City|https://cdn.sofif...|      60|    285|   2115|          Left|                       4|        2|          4|  High/ Medium|    Normal|      Yes|     LCM|           21|Jul 14, 2010|       null|                2020|   5.8|   176.784| 148.0| 67.131616|      84|       76|             54|          93|     82|       89|   82|        77|         87|         94|          70|         64|     92|       90|     90|       72|     64|     78|      52|       75|        57|           50|         89|    92|       75|       93|     59|            53|           29|       6|        15|        7|            6|        12|              111|\n",
            "|215914|        N. Kant��| 27|https://cdn.sofif...|     France|https://cdn.sofif...|     89|       90|            Chelsea|https://cdn.sofif...|      63|    225|   2189|         Right|                       3|        3|          2|  Medium/ High|      Lean|      Yes|     LDM|           13|Jul 16, 2016|       null|                2023|   5.6|   170.688| 159.0| 72.121128|      68|       65|             54|          86|     56|       79|   49|        49|         81|         80|          82|         78|     82|       93|     92|       71|     77|     96|      76|       69|        90|           92|         71|    79|       54|       85|     90|            91|           85|      15|        12|       10|            7|        10|            121.3|\n",
            "|211110|        P. Dybala| 24|https://cdn.sofif...|  Argentina|https://cdn.sofif...|     89|       94|           Juventus|https://cdn.sofif...|      89|    205|   2092|          Left|                       3|        3|          4|  High/ Medium|    Normal|      Yes|      LF|           21| Jul 1, 2015|       null|                2022|   5.1|   155.448| 165.0|  74.84268|      82|       84|             68|          87|     88|       92|   88|        88|         75|         92|          87|         83|     91|       86|     85|       82|     75|     80|      65|       88|        48|           32|         84|    87|       86|       84|     23|            20|           20|       5|         4|        4|            5|         8|            153.5|\n",
            "|202126|          H. Kane| 24|https://cdn.sofif...|    England|https://cdn.sofif...|     89|       91|  Tottenham Hotspur|https://cdn.sofif...|    83.5|    205|   2165|         Right|                       3|        4|          3|    High/ High|    Normal|      Yes|      ST|            9| Jul 1, 2010|       null|                2024|   6.2|   188.976| 196.0| 88.904032|      75|       94|             85|          80|     84|       80|   78|        68|         82|         84|          68|         72|     71|       91|     71|       88|     78|     89|      84|       85|        76|           35|         93|    80|       90|       89|     56|            36|           38|       8|        10|       11|           14|        11|            160.7|\n",
            "|194765|     A. Griezmann| 27|https://cdn.sofif...|     France|https://cdn.sofif...|     89|       90|   Atl��tico Madrid|https://cdn.sofif...|      78|    145|   2246|          Left|                       4|        3|          4|    High/ High|      Lean|      Yes|     CAM|            7|Jul 28, 2014|       null|                2023|   5.9|   179.832| 161.0| 73.028312|      82|       90|             84|          83|     87|       88|   84|        78|         76|         90|          88|         85|     90|       90|     80|       80|     90|     83|      62|       82|        69|           35|         91|    83|       79|       87|     59|            47|           48|      14|         8|       14|           13|        14|            165.8|\n",
            "|192448|    M. ter Stegen| 26|https://cdn.sofif...|    Germany|https://cdn.sofif...|     89|       92|       FC Barcelona|https://cdn.sofif...|      58|    240|   1328|         Right|                       3|        4|          1|Medium/ Medium|    Normal|      Yes|      GK|           22| Jul 1, 2014|       null|                2022|   6.2|   188.976| 187.0| 84.821704|      15|       14|             11|          36|     14|       17|   18|        12|         42|         18|          38|         50|     37|       85|     43|       22|     79|     35|      79|       10|        43|           22|         11|    69|       25|       69|     25|            13|           10|      87|        85|       88|           85|        90|            123.3|\n",
            "|192119|      T. Courtois| 26|https://cdn.sofif...|    Belgium|https://cdn.sofif...|     89|       90|        Real Madrid|https://cdn.sofif...|    53.5|    240|   1311|          Left|                       4|        2|          1|Medium/ Medium|  Courtois|      Yes|      GK|            1| Aug 9, 2018|       null|                2024|   6.6|   201.168| 212.0| 96.161504|      14|       14|             13|          33|     12|       13|   19|        20|         35|         23|          46|         52|     61|       84|     45|       36|     68|     38|      70|       17|        23|           15|         13|    44|       27|       66|     20|            18|           16|      85|        91|       72|           86|        88|            113.7|\n",
            "+------+-----------------+---+--------------------+-----------+--------------------+-------+---------+-------------------+--------------------+--------+-------+-------+--------------+------------------------+---------+-----------+--------------+----------+---------+--------+-------------+------------+-----------+--------------------+------+----------+------+----------+--------+---------+---------------+------------+-------+---------+-----+----------+-----------+-----------+------------+-----------+-------+---------+-------+---------+-------+-------+--------+---------+----------+-------------+-----------+------+---------+---------+-------+--------------+-------------+--------+----------+---------+-------------+----------+-----------------+\n",
            "only showing top 20 rows\n",
            "\n"
          ]
        },
        {
          "output_type": "execute_result",
          "data": {
            "text/plain": [
              "DataFrame[ID: int, Name: string, Age: int, Photo: string, Nationality: string, Flag: string, Overall: int, Potential: int, Club: string, Club Logo: string, value(M): string, wage(K): int, Special: int, Preferred Foot: string, International Reputation: int, Weak Foot: int, Skill Moves: int, Work Rate: string, Body Type: string, Real Face: string, Position: string, Jersey Number: int, Joined: string, Loaned From: string, Contract Valid Until: string, Height: double, Height(CM): double, Weight: double, Weight(KG): double, Crossing: int, Finishing: int, HeadingAccuracy: int, ShortPassing: int, Volleys: int, Dribbling: int, Curve: int, FKAccuracy: int, LongPassing: int, BallControl: int, Acceleration: int, SprintSpeed: int, Agility: int, Reactions: int, Balance: int, ShotPower: int, Jumping: int, Stamina: int, Strength: int, LongShots: int, Aggression: int, Interceptions: int, Positioning: int, Vision: int, Penalties: int, Composure: int, Marking: int, StandingTackle: int, SlidingTackle: int, GKDiving: int, GKHandling: int, GKKicking: int, GKPositioning: int, GKReflexes: int, Release Clause(M): string]"
            ]
          },
          "metadata": {},
          "execution_count": 4
        }
      ]
    },
    {
      "cell_type": "code",
      "metadata": {
        "colab": {
          "base_uri": "https://localhost:8080/"
        },
        "id": "pfFxwlwfX0EK",
        "outputId": "92c94a51-9732-4460-fc39-421259444cfb"
      },
      "source": [
        "df_21 = spark.read.format('csv').options(header='true', inferschema='true').load('FIFA_21_players.csv')\n",
        "df_21.show()\n",
        "df_21.cache()"
      ],
      "execution_count": 5,
      "outputs": [
        {
          "output_type": "stream",
          "name": "stdout",
          "text": [
            "+---------+--------------------+-----------------+--------------------+---+----------+---------+---------+-----------+-------------------+--------------------+-----------+-------+---------+---------+--------+----------------+--------------+------------------------+---------+-----------+-------------+--------------------+---------+------------------+--------------------+-------------+------------------+-----------+----------+--------------------+---------------+--------------------+----+--------+-------+---------+---------+------+---------+-----------+----------+-----------+--------+--------------+--------------------+------------------+-------------------+--------------------------+-----------------------+-----------------+---------------+-----------+-----------------+------------------+------------------+---------------------+---------------------+----------------+------------------+----------------+----------------+-------------+-------------+--------------+----------------+--------------------+-----------------------+---------------------+----------------+-------------------+-------------------+-----------------+-------------------------+------------------------+------------------+--------------------+-------------------+-----------------------+--------------------+----+----+----+----+----+----+----+----+----+----+----+----+----+----+----+----+----+----+----+----+----+----+----+----+----+----+\n",
            "|sofifa_id|          player_url|       short_name|           long_name|age|       dob|height_cm|weight_kg|nationality|          club_name|         league_name|league_rank|overall|potential|value_eur|wage_eur|player_positions|preferred_foot|international_reputation|weak_foot|skill_moves|    work_rate|           body_type|real_face|release_clause_eur|         player_tags|team_position|team_jersey_number|loaned_from|    joined|contract_valid_until|nation_position|nation_jersey_number|pace|shooting|passing|dribbling|defending|physic|gk_diving|gk_handling|gk_kicking|gk_reflexes|gk_speed|gk_positioning|       player_traits|attacking_crossing|attacking_finishing|attacking_heading_accuracy|attacking_short_passing|attacking_volleys|skill_dribbling|skill_curve|skill_fk_accuracy|skill_long_passing|skill_ball_control|movement_acceleration|movement_sprint_speed|movement_agility|movement_reactions|movement_balance|power_shot_power|power_jumping|power_stamina|power_strength|power_long_shots|mentality_aggression|mentality_interceptions|mentality_positioning|mentality_vision|mentality_penalties|mentality_composure|defending_marking|defending_standing_tackle|defending_sliding_tackle|goalkeeping_diving|goalkeeping_handling|goalkeeping_kicking|goalkeeping_positioning|goalkeeping_reflexes|  ls|  st|  rs|  lw|  lf|  cf|  rf|  rw| lam| cam| ram|  lm| lcm|  cm| rcm|  rm| lwb| ldm| cdm| rdm| rwb|  lb| lcb|  cb| rcb|  rb|\n",
            "+---------+--------------------+-----------------+--------------------+---+----------+---------+---------+-----------+-------------------+--------------------+-----------+-------+---------+---------+--------+----------------+--------------+------------------------+---------+-----------+-------------+--------------------+---------+------------------+--------------------+-------------+------------------+-----------+----------+--------------------+---------------+--------------------+----+--------+-------+---------+---------+------+---------+-----------+----------+-----------+--------+--------------+--------------------+------------------+-------------------+--------------------------+-----------------------+-----------------+---------------+-----------+-----------------+------------------+------------------+---------------------+---------------------+----------------+------------------+----------------+----------------+-------------+-------------+--------------+----------------+--------------------+-----------------------+---------------------+----------------+-------------------+-------------------+-----------------+-------------------------+------------------------+------------------+--------------------+-------------------+-----------------------+--------------------+----+----+----+----+----+----+----+----+----+----+----+----+----+----+----+----+----+----+----+----+----+----+----+----+----+----+\n",
            "|   158023|https://sofifa.co...|         L. Messi|Lionel Andrés Mes...| 33|1987-06-24|      170|       72|  Argentina|       FC Barcelona|Spain Primera Div...|          1|     93|       93| 67500000|  560000|      RW, ST, CF|          Left|                       5|        4|          4|   Medium/Low|               Messi|      Yes|         138400000|#Dribbler, #Dista...|          CAM|                10|       null|2004-07-01|                2021|             RW|                  10|  85|      92|     91|       95|       38|    65|     null|       null|      null|       null|    null|          null|Finesse Shot, Lon...|                85|                 95|                        70|                     91|               88|             96|         93|               94|                91|                96|                   91|                   80|              91|                94|              95|              86|           68|           72|            69|              94|                  44|                     40|                   93|              95|                 75|                 96|             null|                       35|                      24|                 6|                  11|                 15|                     14|                   8|89+3|89+3|89+3|92+0|93+0|93+0|93+0|92+0|93+0|93+0|93+0|91+2|87+3|87+3|87+3|91+2|66+3|65+3|65+3|65+3|66+3|62+3|52+3|52+3|52+3|62+3|\n",
            "|    20801|https://sofifa.co...|Cristiano Ronaldo|Cristiano Ronaldo...| 35|1985-02-05|      187|       83|   Portugal|           Juventus|     Italian Serie A|          1|     92|       92| 46000000|  220000|          ST, LW|         Right|                       5|        4|          5|     High/Low|          C. Ronaldo|      Yes|          75900000|#Aerial Threat, #...|           LS|                 7|       null|2018-07-10|                2022|             LS|                   7|  89|      93|     81|       89|       35|    77|     null|       null|      null|       null|    null|          null|Power Free-Kick, ...|                84|                 95|                        90|                     82|               86|             88|         81|               76|                77|                92|                   87|                   91|              87|                95|              71|              94|           95|           84|            78|              93|                  63|                     29|                   95|              82|                 84|                 95|             null|                       32|                      24|                 7|                  11|                 15|                     14|                  11|91+1|91+1|91+1|89+0|91+0|91+0|91+0|89+0|88+3|88+3|88+3|88+3|81+3|81+3|81+3|88+3|65+3|61+3|61+3|61+3|65+3|61+3|54+3|54+3|54+3|61+3|\n",
            "|   200389|https://sofifa.co...|         J. Oblak|           Jan Oblak| 27|1993-01-07|      188|       87|   Slovenia|    Atlético Madrid|Spain Primera Div...|          1|     91|       93| 75000000|  125000|              GK|         Right|                       3|        3|          1|Medium/Medium|PLAYER_BODY_TYPE_259|      Yes|         159400000|                null|           GK|                13|       null|2014-07-16|                2023|             GK|                   1|null|    null|   null|     null|     null|  null|       87|         92|        78|         90|      52|            90|GK Long Throw, Co...|                13|                 11|                        15|                     43|               13|             12|         13|               14|                40|                30|                   43|                   60|              67|                88|              49|              59|           78|           41|            78|              12|                  34|                     19|                   11|              65|                 11|                 68|             null|                       12|                      18|                87|                  92|                 78|                     90|                  90|33+3|33+3|33+3|32+0|35+0|35+0|35+0|32+0|38+3|38+3|38+3|35+3|38+3|38+3|38+3|35+3|32+3|36+3|36+3|36+3|32+3|32+3|33+3|33+3|33+3|32+3|\n",
            "|   188545|https://sofifa.co...|   R. Lewandowski|  Robert Lewandowski| 31|1988-08-21|      184|       80|     Poland|  FC Bayern München|German 1. Bundesliga|          1|     91|       91| 80000000|  240000|              ST|         Right|                       4|        4|          4|  High/Medium|PLAYER_BODY_TYPE_276|      Yes|         132000000|#Distance Shooter...|           ST|                 9|       null|2014-07-01|                2023|           null|                null|  78|      91|     78|       85|       43|    82|     null|       null|      null|       null|    null|          null|Solid Player, Fin...|                71|                 94|                        85|                     84|               89|             85|         79|               85|                70|                88|                   77|                   78|              77|                93|              82|              89|           84|           76|            86|              85|                  81|                     49|                   94|              79|                 88|                 88|             null|                       42|                      19|                15|                   6|                 12|                      8|                  10|89+2|89+2|89+2|85+0|87+0|87+0|87+0|85+0|85+3|85+3|85+3|83+3|79+3|79+3|79+3|83+3|64+3|65+3|65+3|65+3|64+3|61+3|60+3|60+3|60+3|61+3|\n",
            "|   190871|https://sofifa.co...|        Neymar Jr|Neymar da Silva S...| 28|1992-02-05|      175|       68|     Brazil|Paris Saint-Germain|      French Ligue 1|          1|     91|       91| 90000000|  270000|         LW, CAM|         Right|                       5|        5|          5|  High/Medium|              Neymar|      Yes|         166500000|#Speedster, #Drib...|           LW|                10|       null|2017-08-03|                2022|           null|                null|  91|      85|     86|       94|       36|    59|     null|       null|      null|       null|    null|          null|Injury Prone, Fla...|                85|                 87|                        62|                     87|               87|             95|         88|               89|                81|                95|                   94|                   89|              96|                91|              83|              80|           62|           81|            50|              84|                  51|                     36|                   87|              90|                 92|                 93|             null|                       30|                      29|                 9|                   9|                 15|                     15|                  11|84+3|84+3|84+3|90+0|89+0|89+0|89+0|90+0|90+1|90+1|90+1|90+1|83+3|83+3|83+3|90+1|67+3|62+3|62+3|62+3|67+3|62+3|49+3|49+3|49+3|62+3|\n",
            "|   192985|https://sofifa.co...|     K. De Bruyne|     Kevin De Bruyne| 29|1991-06-28|      181|       70|    Belgium|    Manchester City|English Premier L...|          1|     91|       91| 87000000|  370000|         CAM, CM|         Right|                       4|        5|          4|    High/High|PLAYER_BODY_TYPE_321|      Yes|         161000000|#Dribbler, #Playm...|          RCM|                17|       null|2015-08-30|                2023|            RCM|                   7|  76|      86|     93|       88|       64|    78|     null|       null|      null|       null|    null|          null|Injury Prone, Lea...|                94|                 82|                        55|                     94|               82|             88|         85|               83|                93|                92|                   77|                   76|              78|                91|              76|              91|           63|           89|            74|              91|                  76|                     66|                   88|              94|                 84|                 91|             null|                       65|                      53|                15|                  13|                  5|                     10|                  13|83+3|83+3|83+3|88+0|88+0|88+0|88+0|88+0|89+2|89+2|89+2|89+2|89+2|89+2|89+2|89+2|79+3|80+3|80+3|80+3|79+3|75+3|69+3|69+3|69+3|75+3|\n",
            "|   231747|https://sofifa.co...|        K. Mbappé|Kylian Mbappé Lottin| 21|1998-12-20|      178|       73|     France|Paris Saint-Germain|      French Ligue 1|          1|     90|       95|105500000|  160000|      ST, LW, RW|         Right|                       3|        4|          5|     High/Low|PLAYER_BODY_TYPE_343|      Yes|         203100000|#Speedster, #Drib...|           LS|                 7|       null|2018-07-01|                2022|             RM|                  10|  96|      86|     78|       91|       39|    76|     null|       null|      null|       null|    null|          null|Finesse Shot, Fla...|                78|                 91|                        73|                     83|               83|             92|         79|               63|                70|                90|                   96|                   96|              92|                92|              82|              86|           77|           86|            76|              79|                  62|                     38|                   91|              80|                 70|                 84|             null|                       34|                      32|                13|                   5|                  7|                     11|                   6|88+3|88+3|88+3|89+0|89+0|89+0|89+0|89+0|87+3|87+3|87+3|87+3|79+3|79+3|79+3|87+3|67+3|63+3|63+3|63+3|67+3|63+3|55+3|55+3|55+3|63+3|\n",
            "|   192448|https://sofifa.co...|    M. ter Stegen|Marc-André ter St...| 28|1992-04-30|      187|       85|    Germany|       FC Barcelona|Spain Primera Div...|          1|     90|       93| 69500000|  260000|              GK|         Right|                       3|        4|          1|Medium/Medium|PLAYER_BODY_TYPE_262|      Yes|         147700000|                null|           GK|                 1|       null|2014-07-01|                2022|            SUB|                  22|null|    null|   null|     null|     null|  null|       88|         85|        88|         90|      45|            88|Rushes Out Of Goa...|                18|                 14|                        11|                     61|               14|             21|         18|               12|                63|                30|                   38|                   50|              37|                86|              43|              66|           79|           35|            78|              10|                  43|                     22|                   11|              70|                 25|                 70|             null|                       13|                      10|                88|                  85|                 88|                     88|                  90|35+3|35+3|35+3|34+0|38+0|38+0|38+0|34+0|42+3|42+3|42+3|39+3|45+3|45+3|45+3|39+3|33+3|41+3|41+3|41+3|33+3|31+3|33+3|33+3|33+3|31+3|\n",
            "|   203376|https://sofifa.co...|      V. van Dijk|     Virgil van Dijk| 28|1991-07-08|      193|       92|Netherlands|          Liverpool|English Premier L...|          1|     90|       91| 75500000|  210000|              CB|         Right|                       3|        3|          2|Medium/Medium|PLAYER_BODY_TYPE_314|      Yes|         145300000|#Tackling, #Tacti...|          LCB|                 4|       null|2018-01-01|                2023|            LCB|                   4|  76|      60|     71|       71|       91|    86|     null|       null|      null|       null|    null|          null|Solid Player, Lea...|                53|                 52|                        87|                     79|               45|             70|         60|               70|                86|                77|                   72|                   79|              61|                89|              53|              81|           90|           75|            92|              64|                  83|                     90|                   47|              65|                 62|                 90|             null|                       93|                      86|                13|                  10|                 13|                     11|                  11|70+3|70+3|70+3|68+0|69+0|69+0|69+0|68+0|70+3|70+3|70+3|70+3|76+3|76+3|76+3|70+3|80+3|85+3|85+3|85+3|80+3|82+3|89+2|89+2|89+2|82+3|\n",
            "|   212831|https://sofifa.co...|          Alisson|Alisson Ramsés Be...| 27|1992-10-02|      191|       91|     Brazil|          Liverpool|English Premier L...|          1|     90|       91| 62500000|  160000|              GK|         Right|                       3|        3|          1|Medium/Medium|PLAYER_BODY_TYPE_312|      Yes|         120300000|                null|           GK|                 1|       null|2018-07-19|                2024|           null|                null|null|    null|   null|     null|     null|  null|       86|         88|        85|         89|      51|            91|GK Long Throw, Ru...|                17|                 13|                        19|                     45|               20|             27|         19|               18|                44|                30|                   56|                   47|              40|                88|              37|              64|           52|           32|            78|              14|                  27|                     11|                   13|              66|                 23|                 65|             null|                       19|                      16|                86|                  88|                 85|                     91|                  89|36+3|36+3|36+3|35+0|38+0|38+0|38+0|35+0|40+3|40+3|40+3|38+3|40+3|40+3|40+3|38+3|31+3|35+3|35+3|35+3|31+3|30+3|30+3|30+3|30+3|30+3|\n",
            "|   208722|https://sofifa.co...|          S. Mané|          Sadio Mané| 28|1992-04-10|      175|       69|    Senegal|          Liverpool|English Premier L...|          1|     90|       90| 78000000|  250000|              LW|         Right|                       3|        4|          4|  High/Medium|PLAYER_BODY_TYPE_313|      Yes|         144300000|#Speedster, #Drib...|           LW|                10|       null|2016-07-01|                2023|           null|                null|  94|      85|     80|       90|       44|    76|     null|       null|      null|       null|    null|          null|Flair, Speed Drib...|                76|                 90|                        84|                     85|               75|             91|         76|               64|                71|                89|                   95|                   93|              93|                93|              86|              84|           86|           88|            70|              78|                  75|                     35|                   92|              85|                 71|                 84|             null|                       42|                      38|                10|                  10|                 15|                      7|                  14|88+2|88+2|88+2|89+0|89+0|89+0|89+0|89+0|88+2|88+2|88+2|88+2|81+3|81+3|81+3|88+2|69+3|65+3|65+3|65+3|69+3|66+3|59+3|59+3|59+3|66+3|\n",
            "|   209331|https://sofifa.co...|         M. Salah| Mohamed Salah Ghaly| 28|1992-06-15|      175|       71|      Egypt|          Liverpool|English Premier L...|          1|     90|       90| 78000000|  250000|              RW|          Left|                       3|        3|          4|  High/Medium|       Mohamed Salah|      Yes|         144300000|#Speedster, #Drib...|           RW|                11|       null|2017-07-01|                2023|             RW|                  10|  93|      86|     81|       90|       45|    75|     null|       null|      null|       null|    null|          null|Finesse Shot, Lon...|                79|                 91|                        59|                     84|               79|             90|         83|               69|                75|                89|                   94|                   92|              91|                92|              91|              80|           69|           85|            75|              84|                  63|                     55|                   91|              84|                 83|                 90|             null|                       43|                      41|                14|                  14|                  9|                     11|                  14|85+3|85+3|85+3|88+0|88+0|88+0|88+0|88+0|88+2|88+2|88+2|87+3|82+3|82+3|82+3|87+3|71+3|68+3|68+3|68+3|71+3|67+3|58+3|58+3|58+3|67+3|\n",
            "|   192119|https://sofifa.co...|      T. Courtois|    Thibaut Courtois| 28|1992-05-11|      199|       96|    Belgium|        Real Madrid|Spain Primera Div...|          1|     89|       90| 56000000|  250000|              GK|          Left|                       4|        3|          1|Medium/Medium|            Courtois|      Yes|         119000000|                null|           GK|                 1|       null|2018-08-09|                2024|             GK|                   1|null|    null|   null|     null|     null|  null|       84|         89|        74|         88|      48|            85|GK Long Throw, Co...|                14|                 14|                        13|                     33|               12|             13|         19|               20|                35|                23|                   42|                   52|              61|                84|              45|              56|           68|           38|            70|              17|                  23|                     15|                   13|              44|                 27|                 66|             null|                       18|                      16|                84|                  89|                 74|                     85|                  88|31+3|31+3|31+3|29+0|31+0|31+0|31+0|29+0|32+3|32+3|32+3|31+3|32+3|32+3|32+3|31+3|29+3|31+3|31+3|31+3|29+3|29+3|29+3|29+3|29+3|29+3|\n",
            "|   153079|https://sofifa.co...|        S. Agüero|Sergio Leonel Agü...| 32|1988-06-02|      173|       70|  Argentina|    Manchester City|English Premier L...|          1|     89|       89| 53000000|  300000|              ST|         Right|                       4|        4|          4|  High/Medium|PLAYER_BODY_TYPE_322|      Yes|          98100000|#Dribbler, #Clini...|          SUB|                10|       null|2011-07-28|                2021|             ST|                   9|  78|      90|     77|       88|       33|    73|     null|       null|      null|       null|    null|          null|Injury Prone, Lea...|                70|                 94|                        78|                     83|               86|             88|         83|               73|                64|                89|                   79|                   78|              84|                92|              91|              89|           78|           78|            74|              84|                  65|                     24|                   94|              83|                 75|                 91|             null|                       29|                      24|                13|                  15|                  6|                     11|                  14|87+2|87+2|87+2|86+0|88+0|88+0|88+0|86+0|86+3|86+3|86+3|84+3|77+3|77+3|77+3|84+3|60+3|58+3|58+3|58+3|60+3|56+3|51+3|51+3|51+3|56+3|\n",
            "|   155862|https://sofifa.co...|     Sergio Ramos| Sergio Ramos García| 34|1986-03-30|      184|       82|      Spain|        Real Madrid|Spain Primera Div...|          1|     89|       89| 24500000|  300000|              CB|         Right|                       4|        3|          3|  High/Medium|PLAYER_BODY_TYPE_352|      Yes|          50200000|#Aerial Threat, #...|          LCB|                 4|       null|2005-08-01|                2021|            RCB|                  15|  71|      70|     76|       73|       88|    85|     null|       null|      null|       null|    null|          null|Dives Into Tackle...|                66|                 65|                        92|                     82|               69|             65|         74|               76|                83|                83|                   72|                   70|              78|                92|              66|              79|           93|           81|            85|              64|                  90|                     88|                   73|              71|                 92|                 88|             null|                       88|                      90|                11|                   8|                  9|                      7|                  11|77+3|77+3|77+3|73+0|75+0|75+0|75+0|73+0|75+3|75+3|75+3|75+3|79+3|79+3|79+3|75+3|81+3|85+3|85+3|85+3|81+3|83+3|88+1|88+1|88+1|83+3|\n",
            "|   165153|https://sofifa.co...|       K. Benzema|       Karim Benzema| 32|1987-12-19|      185|       81|     France|        Real Madrid|Spain Primera Div...|          1|     89|       89| 53000000|  350000|          CF, ST|         Right|                       4|        4|          4|   Medium/Low|              Normal|      Yes|         108700000|            #Poacher|           CF|                 9|       null|2009-07-09|                2022|           null|                null|  74|      85|     81|       86|       40|    76|     null|       null|      null|       null|    null|          null|Leadership, Fines...|                75|                 88|                        91|                     86|               86|             87|         81|               73|                73|                90|                   77|                   72|              79|                91|              69|              84|           79|           78|            80|              79|                  63|                     39|                   90|              87|                 84|                 90|             null|                       24|                      18|                13|                  11|                  5|                      5|                   7|86+3|86+3|86+3|85+0|87+0|87+0|87+0|85+0|86+3|86+3|86+3|84+3|80+3|80+3|80+3|84+3|63+3|63+3|63+3|63+3|63+3|59+3|55+3|55+3|55+3|59+3|\n",
            "|   167495|https://sofifa.co...|         M. Neuer|        Manuel Neuer| 34|1986-03-27|      193|       92|    Germany|  FC Bayern München|German 1. Bundesliga|          1|     89|       89| 29000000|  125000|              GK|         Right|                       5|        4|          1|Medium/Medium|PLAYER_BODY_TYPE_273|      Yes|          47900000|                null|           GK|                 1|       null|2011-07-01|                2023|             GK|                   1|null|    null|   null|     null|     null|  null|       87|         87|        91|         89|      57|            86|Leadership, GK Lo...|                15|                 13|                        25|                     55|               11|             30|         14|               11|                59|                46|                   54|                   60|              51|                86|              35|              68|           77|           43|            80|              16|                  29|                     30|                   12|              70|                 47|                 70|             null|                       10|                      11|                87|                  87|                 91|                     86|                  89|39+3|39+3|39+3|40+0|43+0|43+0|43+0|40+0|46+3|46+3|46+3|43+3|48+3|48+3|48+3|43+3|36+3|42+3|42+3|42+3|36+3|34+3|34+3|34+3|34+3|34+3|\n",
            "|   200145|https://sofifa.co...|         Casemiro|Carlos Henrique V...| 28|1992-02-23|      185|       84|     Brazil|        Real Madrid|Spain Primera Div...|          1|     89|       89| 59500000|  310000|             CDM|         Right|                       3|        3|          2|    High/High|PLAYER_BODY_TYPE_358|      Yes|         122000000|#Engine, #Tacklin...|          CDM|                14|       null|2013-07-11|                2023|           null|                null|  65|      73|     76|       72|       86|    91|     null|       null|      null|       null|    null|          null|Power Free-Kick, ...|                58|                 64|                        80|                     84|               63|             69|         63|               74|                84|                79|                   60|                   69|              61|                87|              66|              88|           87|           90|            91|              81|                  91|                     87|                   72|              80|                 66|                 84|             null|                       88|                      87|                13|                  14|                 16|                     12|                  12|76+3|76+3|76+3|72+0|75+0|75+0|75+0|72+0|76+3|76+3|76+3|74+3|81+3|81+3|81+3|74+3|80+3|86+3|86+3|86+3|80+3|81+3|86+3|86+3|86+3|81+3|\n",
            "|   210257|https://sofifa.co...|          Ederson|Ederson Santana d...| 26|1993-08-17|      188|       86|     Brazil|    Manchester City|English Premier L...|          1|     88|       91| 53500000|  195000|              GK|          Left|                       2|        3|          1|Medium/Medium|PLAYER_BODY_TYPE_325|      Yes|         103000000|                null|           GK|                31|       null|2017-07-01|                2024|           null|                null|null|    null|   null|     null|     null|  null|       86|         82|        93|         88|      63|            86|Long Passer (AI),...|                20|                 14|                        14|                     57|               18|             23|         15|               20|                59|                40|                   64|                   63|              60|                87|              48|              70|           66|           41|            78|              18|                  38|                     27|                   20|              70|                 17|                 70|             null|                       15|                       8|                86|                  82|                 93|                     86|                  88|39+2|39+2|39+2|40+0|43+0|43+0|43+0|40+0|46+2|46+2|46+2|44+2|47+2|47+2|47+2|44+2|37+2|43+2|43+2|43+2|37+2|35+2|35+2|35+2|35+2|35+2|\n",
            "|   202652|https://sofifa.co...|      R. Sterling|Raheem Shaquille ...| 25|1994-12-08|      170|       69|    England|    Manchester City|English Premier L...|          1|     88|       90| 72500000|  270000|          LW, RW|         Right|                       3|        3|          4|  High/Medium|PLAYER_BODY_TYPE_320|      Yes|         139600000|#Speedster, #Drib...|           LW|                 7|       null|2015-07-14|                2023|             LW|                   7|  93|      81|     79|       90|       45|    67|     null|       null|      null|       null|    null|          null|Flair, Speed Drib...|                78|                 85|                        46|                     84|               67|             90|         77|               63|                69|                88|                   96|                   90|              94|                90|              94|              78|           57|           79|            65|              79|                  59|                     30|                   92|              82|                 69|                 80|             null|                       53|                      47|                15|                  12|                 12|                     15|                   9|81+3|81+3|81+3|87+0|87+0|87+0|87+0|87+0|86+3|86+3|86+3|86+3|79+3|79+3|79+3|86+3|69+3|64+3|64+3|64+3|69+3|65+3|55+3|55+3|55+3|65+3|\n",
            "+---------+--------------------+-----------------+--------------------+---+----------+---------+---------+-----------+-------------------+--------------------+-----------+-------+---------+---------+--------+----------------+--------------+------------------------+---------+-----------+-------------+--------------------+---------+------------------+--------------------+-------------+------------------+-----------+----------+--------------------+---------------+--------------------+----+--------+-------+---------+---------+------+---------+-----------+----------+-----------+--------+--------------+--------------------+------------------+-------------------+--------------------------+-----------------------+-----------------+---------------+-----------+-----------------+------------------+------------------+---------------------+---------------------+----------------+------------------+----------------+----------------+-------------+-------------+--------------+----------------+--------------------+-----------------------+---------------------+----------------+-------------------+-------------------+-----------------+-------------------------+------------------------+------------------+--------------------+-------------------+-----------------------+--------------------+----+----+----+----+----+----+----+----+----+----+----+----+----+----+----+----+----+----+----+----+----+----+----+----+----+----+\n",
            "only showing top 20 rows\n",
            "\n"
          ]
        },
        {
          "output_type": "execute_result",
          "data": {
            "text/plain": [
              "DataFrame[sofifa_id: int, player_url: string, short_name: string, long_name: string, age: int, dob: string, height_cm: int, weight_kg: int, nationality: string, club_name: string, league_name: string, league_rank: int, overall: int, potential: int, value_eur: int, wage_eur: int, player_positions: string, preferred_foot: string, international_reputation: int, weak_foot: int, skill_moves: int, work_rate: string, body_type: string, real_face: string, release_clause_eur: int, player_tags: string, team_position: string, team_jersey_number: int, loaned_from: string, joined: string, contract_valid_until: int, nation_position: string, nation_jersey_number: int, pace: int, shooting: int, passing: int, dribbling: int, defending: int, physic: int, gk_diving: int, gk_handling: int, gk_kicking: int, gk_reflexes: int, gk_speed: int, gk_positioning: int, player_traits: string, attacking_crossing: int, attacking_finishing: int, attacking_heading_accuracy: int, attacking_short_passing: int, attacking_volleys: int, skill_dribbling: int, skill_curve: int, skill_fk_accuracy: int, skill_long_passing: int, skill_ball_control: int, movement_acceleration: int, movement_sprint_speed: int, movement_agility: int, movement_reactions: int, movement_balance: int, power_shot_power: int, power_jumping: int, power_stamina: int, power_strength: int, power_long_shots: int, mentality_aggression: int, mentality_interceptions: int, mentality_positioning: int, mentality_vision: int, mentality_penalties: int, mentality_composure: int, defending_marking: string, defending_standing_tackle: int, defending_sliding_tackle: int, goalkeeping_diving: int, goalkeeping_handling: int, goalkeeping_kicking: int, goalkeeping_positioning: int, goalkeeping_reflexes: int, ls: string, st: string, rs: string, lw: string, lf: string, cf: string, rf: string, rw: string, lam: string, cam: string, ram: string, lm: string, lcm: string, cm: string, rcm: string, rm: string, lwb: string, ldm: string, cdm: string, rdm: string, rwb: string, lb: string, lcb: string, cb: string, rcb: string, rb: string]"
            ]
          },
          "metadata": {},
          "execution_count": 5
        }
      ]
    },
    {
      "cell_type": "markdown",
      "metadata": {
        "id": "diElsHZPYRBF"
      },
      "source": [
        "Merging the 2019 and 2021 dataframe to get the overall, potential, value in 2021 for every player."
      ]
    },
    {
      "cell_type": "code",
      "metadata": {
        "colab": {
          "base_uri": "https://localhost:8080/"
        },
        "id": "VSBxUB5AZ581",
        "outputId": "5058e789-9018-47bf-b604-64b8b680efc2"
      },
      "source": [
        "# first renaming the id column in fifa 21 database same as the id column in fifa 19 database for merging later\n",
        "df_21 = df_21.withColumnRenamed('sofifa_id','ID')\n",
        "# joining the two dataframes on id and only merging overall, potential and value_eur to the fifa 19 database\n",
        "df = df_19.join(df_21['ID','overall','potential','value_eur'], on=['ID'], how='left_outer')\n",
        "df.cache()\n",
        "df.show()"
      ],
      "execution_count": 6,
      "outputs": [
        {
          "output_type": "stream",
          "name": "stdout",
          "text": [
            "+------+-----------------+---+--------------------+-----------+--------------------+-------+---------+-------------------+--------------------+--------+-------+-------+--------------+------------------------+---------+-----------+--------------+----------+---------+--------+-------------+------------+-----------+--------------------+------+----------+------+----------+--------+---------+---------------+------------+-------+---------+-----+----------+-----------+-----------+------------+-----------+-------+---------+-------+---------+-------+-------+--------+---------+----------+-------------+-----------+------+---------+---------+-------+--------------+-------------+--------+----------+---------+-------------+----------+-----------------+-------+---------+---------+\n",
            "|    ID|             Name|Age|               Photo|Nationality|                Flag|Overall|Potential|               Club|           Club Logo|value(M)|wage(K)|Special|Preferred Foot|International Reputation|Weak Foot|Skill Moves|     Work Rate| Body Type|Real Face|Position|Jersey Number|      Joined|Loaned From|Contract Valid Until|Height|Height(CM)|Weight|Weight(KG)|Crossing|Finishing|HeadingAccuracy|ShortPassing|Volleys|Dribbling|Curve|FKAccuracy|LongPassing|BallControl|Acceleration|SprintSpeed|Agility|Reactions|Balance|ShotPower|Jumping|Stamina|Strength|LongShots|Aggression|Interceptions|Positioning|Vision|Penalties|Composure|Marking|StandingTackle|SlidingTackle|GKDiving|GKHandling|GKKicking|GKPositioning|GKReflexes|Release Clause(M)|overall|potential|value_eur|\n",
            "+------+-----------------+---+--------------------+-----------+--------------------+-------+---------+-------------------+--------------------+--------+-------+-------+--------------+------------------------+---------+-----------+--------------+----------+---------+--------+-------------+------------+-----------+--------------------+------+----------+------+----------+--------+---------+---------------+------------+-------+---------+-----+----------+-----------+-----------+------------+-----------+-------+---------+-------+---------+-------+-------+--------+---------+----------+-------------+-----------+------+---------+---------+-------+--------------+-------------+--------+----------+---------+-------------+----------+-----------------+-------+---------+---------+\n",
            "|158023|         L. Messi| 31|https://cdn.sofif...|  Argentina|https://cdn.sofif...|     94|       94|       FC Barcelona|https://cdn.sofif...|   110.5|    565|   2202|          Left|                       5|        4|          4|Medium/ Medium|     Messi|      Yes|      RF|           10| Jul 1, 2004|       null|                2021|   5.7|   173.736| 159.0| 72.121128|      84|       95|             70|          90|     86|       97|   93|        94|         87|         96|          91|         86|     91|       95|     95|       85|     68|     72|      59|       94|        48|           22|         94|    94|       75|       96|     33|            28|           26|       6|        11|       15|           14|         8|            226.5|     93|       93| 67500000|\n",
            "| 20801|Cristiano Ronaldo| 33|https://cdn.sofif...|   Portugal|https://cdn.sofif...|     94|       94|           Juventus|https://cdn.sofif...|      77|    405|   2228|         Right|                       5|        4|          5|     High/ Low|C. Ronaldo|      Yes|      ST|            7|Jul 10, 2018|       null|                2022|   6.2|   188.976| 183.0| 83.007336|      84|       94|             89|          81|     87|       88|   81|        76|         77|         94|          89|         91|     87|       96|     70|       95|     95|     88|      79|       93|        63|           29|         95|    82|       85|       95|     28|            31|           23|       7|        11|       15|           14|        11|            127.1|     92|       92| 46000000|\n",
            "|190871|        Neymar Jr| 26|https://cdn.sofif...|     Brazil|https://cdn.sofif...|     92|       93|Paris Saint-Germain|https://cdn.sofif...|   118.5|    290|   2143|         Right|                       5|        5|          5|  High/ Medium|    Neymar|      Yes|      LW|           10| Aug 3, 2017|       null|                2022|   5.9|   179.832| 150.0|   68.0388|      79|       87|             62|          84|     84|       96|   88|        87|         78|         95|          94|         90|     96|       94|     84|       80|     61|     81|      49|       82|        56|           36|         89|    87|       81|       94|     27|            24|           33|       9|         9|       15|           15|        11|            228.1|     91|       91| 90000000|\n",
            "|193080|           De Gea| 27|https://cdn.sofif...|      Spain|https://cdn.sofif...|     91|       93|  Manchester United|https://cdn.sofif...|      72|    260|   1471|         Right|                       4|        3|          1|Medium/ Medium|      Lean|      Yes|      GK|            1| Jul 1, 2011|       null|                2020|   6.4|   195.072| 168.0| 76.203456|      17|       13|             21|          50|     13|       18|   21|        19|         51|         42|          57|         58|     60|       90|     43|       31|     67|     43|      64|       12|        38|           30|         12|    68|       40|       68|     15|            21|           13|      90|        85|       87|           88|        94|            138.6|     86|       86| 31500000|\n",
            "|192985|     K. De Bruyne| 27|https://cdn.sofif...|    Belgium|https://cdn.sofif...|     91|       92|    Manchester City|https://cdn.sofif...|     102|    355|   2281|         Right|                       4|        5|          4|    High/ High|    Normal|      Yes|     RCM|            7|Aug 30, 2015|       null|                2023|  5.11|  155.7528| 154.0| 69.853168|      93|       82|             55|          92|     82|       86|   85|        83|         91|         91|          78|         76|     79|       91|     77|       91|     63|     90|      75|       91|        76|           61|         87|    94|       79|       88|     68|            58|           51|      15|        13|        5|           10|        13|            196.4|     91|       91| 87000000|\n",
            "|183277|        E. Hazard| 27|https://cdn.sofif...|    Belgium|https://cdn.sofif...|     91|       91|            Chelsea|https://cdn.sofif...|      93|    340|   2142|         Right|                       4|        4|          4|  High/ Medium|    Normal|      Yes|      LF|           10| Jul 1, 2012|       null|                2020|   5.8|   176.784| 163.0| 73.935496|      81|       84|             61|          89|     80|       95|   83|        79|         83|         94|          94|         88|     95|       90|     94|       82|     56|     83|      66|       80|        54|           41|         87|    89|       86|       91|     34|            27|           22|      11|        12|        6|            8|         8|            172.1|     88|       88| 58000000|\n",
            "|177003|        L. Modri?| 32|https://cdn.sofif...|    Croatia|https://cdn.sofif...|     91|       91|        Real Madrid|https://cdn.sofif...|      67|    420|   2280|         Right|                       4|        4|          4|    High/ High|      Lean|      Yes|     RCM|           10| Aug 1, 2012|       null|                2020|   5.8|   176.784| 146.0| 66.224432|      86|       72|             55|          93|     76|       90|   85|        78|         88|         93|          80|         72|     93|       90|     94|       79|     68|     89|      58|       82|        62|           83|         79|    92|       82|       84|     60|            76|           73|      13|         9|        7|           14|         9|            137.4|     87|       87| 24500000|\n",
            "|176580|       L. Su��rez| 31|https://cdn.sofif...|    Uruguay|https://cdn.sofif...|     91|       91|       FC Barcelona|https://cdn.sofif...|      80|    455|   2346|         Right|                       5|        4|          3|  High/ Medium|    Normal|      Yes|      RS|            9|Jul 11, 2014|       null|                2021|   6.0|    182.88| 190.0|  86.18248|      77|       93|             77|          82|     88|       87|   86|        84|         64|         90|          86|         75|     82|       92|     83|       86|     69|     90|      83|       85|        87|           41|         92|    84|       85|       85|     62|            45|           38|      27|        25|       31|           33|        37|              164|     87|       87| 31500000|\n",
            "|155862|     Sergio Ramos| 32|https://cdn.sofif...|      Spain|https://cdn.sofif...|     91|       91|        Real Madrid|https://cdn.sofif...|      51|    380|   2201|         Right|                       4|        3|          3|  High/ Medium|    Normal|      Yes|     RCB|           15| Aug 1, 2005|       null|                2020|   6.0|    182.88| 181.0| 82.100152|      66|       60|             91|          78|     66|       63|   74|        72|         77|         84|          76|         75|     78|       85|     66|       79|     93|     84|      83|       59|        88|           90|         60|    63|       75|       82|     87|            92|           91|      11|         8|        9|            7|        11|            104.6|     89|       89| 24500000|\n",
            "|200389|         J. Oblak| 25|https://cdn.sofif...|   Slovenia|https://cdn.sofif...|     90|       93|   Atl��tico Madrid|https://cdn.sofif...|      68|     94|   1331|         Right|                       3|        3|          1|Medium/ Medium|    Normal|      Yes|      GK|            1|Jul 16, 2014|       null|                2021|   6.2|   188.976| 192.0| 87.089664|      13|       11|             15|          29|     13|       12|   13|        14|         26|         16|          43|         60|     67|       86|     49|       22|     76|     41|      78|       12|        34|           19|         11|    70|       11|       70|     27|            12|           18|      86|        92|       78|           88|        89|            144.5|     91|       93| 75000000|\n",
            "|188545|   R. Lewandowski| 29|https://cdn.sofif...|     Poland|https://cdn.sofif...|     90|       90| FC Bayern M��nchen|https://cdn.sofif...|      77|    205|   2152|         Right|                       4|        4|          4|  High/ Medium|    Normal|      Yes|      ST|            9| Jul 1, 2014|       null|                2021|   6.0|    182.88| 176.0| 79.832192|      62|       91|             85|          83|     89|       85|   77|        86|         65|         89|          77|         78|     78|       90|     78|       88|     84|     78|      84|       84|        80|           39|         91|    77|       88|       86|     34|            42|           19|      15|         6|       12|            8|        10|            127.1|     91|       91| 80000000|\n",
            "|182521|         T. Kroos| 28|https://cdn.sofif...|    Germany|https://cdn.sofif...|     90|       90|        Real Madrid|https://cdn.sofif...|    76.5|    355|   2190|         Right|                       4|        5|          3|Medium/ Medium|    Normal|      Yes|     LCM|            8|Jul 17, 2014|       null|                2022|   6.0|    182.88| 168.0| 76.203456|      88|       76|             54|          92|     82|       81|   86|        84|         93|         90|          64|         62|     70|       89|     71|       87|     30|     75|      73|       92|        60|           82|         79|    86|       73|       85|     72|            79|           69|      10|        11|       13|            7|        10|            156.8|     88|       88| 55000000|\n",
            "|182493|        D. God��n| 32|https://cdn.sofif...|    Uruguay|https://cdn.sofif...|     90|       90|   Atl��tico Madrid|https://cdn.sofif...|      44|    125|   1946|         Right|                       3|        3|          2|  Medium/ High|      Lean|      Yes|      CB|           10| Aug 4, 2010|       null|                2019|   6.2|   188.976| 172.0| 78.017824|      55|       42|             92|          79|     47|       53|   49|        51|         70|         76|          68|         68|     58|       85|     54|       67|     91|     66|      88|       43|        89|           88|         48|    52|       50|       82|     90|            89|           89|       6|         8|       15|            5|        15|             90.2|     85|       85| 14500000|\n",
            "|168542|      David Silva| 32|https://cdn.sofif...|      Spain|https://cdn.sofif...|     90|       90|    Manchester City|https://cdn.sofif...|      60|    285|   2115|          Left|                       4|        2|          4|  High/ Medium|    Normal|      Yes|     LCM|           21|Jul 14, 2010|       null|                2020|   5.8|   176.784| 148.0| 67.131616|      84|       76|             54|          93|     82|       89|   82|        77|         87|         94|          70|         64|     92|       90|     90|       72|     64|     78|      52|       75|        57|           50|         89|    92|       75|       93|     59|            53|           29|       6|        15|        7|            6|        12|              111|     86|       86| 22500000|\n",
            "|215914|        N. Kant��| 27|https://cdn.sofif...|     France|https://cdn.sofif...|     89|       90|            Chelsea|https://cdn.sofif...|      63|    225|   2189|         Right|                       3|        3|          2|  Medium/ High|      Lean|      Yes|     LDM|           13|Jul 16, 2016|       null|                2023|   5.6|   170.688| 159.0| 72.121128|      68|       65|             54|          86|     56|       79|   49|        49|         81|         80|          82|         78|     82|       93|     92|       71|     77|     96|      76|       69|        90|           92|         71|    79|       54|       85|     90|            91|           85|      15|        12|       10|            7|        10|            121.3|     88|       88| 51000000|\n",
            "|211110|        P. Dybala| 24|https://cdn.sofif...|  Argentina|https://cdn.sofif...|     89|       94|           Juventus|https://cdn.sofif...|      89|    205|   2092|          Left|                       3|        3|          4|  High/ Medium|    Normal|      Yes|      LF|           21| Jul 1, 2015|       null|                2022|   5.1|   155.448| 165.0|  74.84268|      82|       84|             68|          87|     88|       92|   88|        88|         75|         92|          87|         83|     91|       86|     85|       82|     75|     80|      65|       88|        48|           32|         84|    87|       86|       84|     23|            20|           20|       5|         4|        4|            5|         8|            153.5|     88|       89| 71000000|\n",
            "|202126|          H. Kane| 24|https://cdn.sofif...|    England|https://cdn.sofif...|     89|       91|  Tottenham Hotspur|https://cdn.sofif...|    83.5|    205|   2165|         Right|                       3|        4|          3|    High/ High|    Normal|      Yes|      ST|            9| Jul 1, 2010|       null|                2024|   6.2|   188.976| 196.0| 88.904032|      75|       94|             85|          80|     84|       80|   78|        68|         82|         84|          68|         72|     71|       91|     71|       88|     78|     89|      84|       85|        76|           35|         93|    80|       90|       89|     56|            36|           38|       8|        10|       11|           14|        11|            160.7|     88|       89| 71000000|\n",
            "|194765|     A. Griezmann| 27|https://cdn.sofif...|     France|https://cdn.sofif...|     89|       90|   Atl��tico Madrid|https://cdn.sofif...|      78|    145|   2246|          Left|                       4|        3|          4|    High/ High|      Lean|      Yes|     CAM|            7|Jul 28, 2014|       null|                2023|   5.9|   179.832| 161.0| 73.028312|      82|       90|             84|          83|     87|       88|   84|        78|         76|         90|          88|         85|     90|       90|     80|       80|     90|     83|      62|       82|        69|           35|         91|    83|       79|       87|     59|            47|           48|      14|         8|       14|           13|        14|            165.8|     87|       87| 50500000|\n",
            "|192448|    M. ter Stegen| 26|https://cdn.sofif...|    Germany|https://cdn.sofif...|     89|       92|       FC Barcelona|https://cdn.sofif...|      58|    240|   1328|         Right|                       3|        4|          1|Medium/ Medium|    Normal|      Yes|      GK|           22| Jul 1, 2014|       null|                2022|   6.2|   188.976| 187.0| 84.821704|      15|       14|             11|          36|     14|       17|   18|        12|         42|         18|          38|         50|     37|       85|     43|       22|     79|     35|      79|       10|        43|           22|         11|    69|       25|       69|     25|            13|           10|      87|        85|       88|           85|        90|            123.3|     90|       93| 69500000|\n",
            "|192119|      T. Courtois| 26|https://cdn.sofif...|    Belgium|https://cdn.sofif...|     89|       90|        Real Madrid|https://cdn.sofif...|    53.5|    240|   1311|          Left|                       4|        2|          1|Medium/ Medium|  Courtois|      Yes|      GK|            1| Aug 9, 2018|       null|                2024|   6.6|   201.168| 212.0| 96.161504|      14|       14|             13|          33|     12|       13|   19|        20|         35|         23|          46|         52|     61|       84|     45|       36|     68|     38|      70|       17|        23|           15|         13|    44|       27|       66|     20|            18|           16|      85|        91|       72|           86|        88|            113.7|     89|       90| 56000000|\n",
            "+------+-----------------+---+--------------------+-----------+--------------------+-------+---------+-------------------+--------------------+--------+-------+-------+--------------+------------------------+---------+-----------+--------------+----------+---------+--------+-------------+------------+-----------+--------------------+------+----------+------+----------+--------+---------+---------------+------------+-------+---------+-----+----------+-----------+-----------+------------+-----------+-------+---------+-------+---------+-------+-------+--------+---------+----------+-------------+-----------+------+---------+---------+-------+--------------+-------------+--------+----------+---------+-------------+----------+-----------------+-------+---------+---------+\n",
            "only showing top 20 rows\n",
            "\n"
          ]
        }
      ]
    },
    {
      "cell_type": "code",
      "metadata": {
        "colab": {
          "base_uri": "https://localhost:8080/"
        },
        "id": "V2_81--rQpLs",
        "outputId": "ed2e5836-1171-480a-c426-4fdbbc117839"
      },
      "source": [
        "df.printSchema()"
      ],
      "execution_count": 7,
      "outputs": [
        {
          "output_type": "stream",
          "name": "stdout",
          "text": [
            "root\n",
            " |-- ID: integer (nullable = true)\n",
            " |-- Name: string (nullable = true)\n",
            " |-- Age: integer (nullable = true)\n",
            " |-- Photo: string (nullable = true)\n",
            " |-- Nationality: string (nullable = true)\n",
            " |-- Flag: string (nullable = true)\n",
            " |-- Overall: integer (nullable = true)\n",
            " |-- Potential: integer (nullable = true)\n",
            " |-- Club: string (nullable = true)\n",
            " |-- Club Logo: string (nullable = true)\n",
            " |-- value(M): string (nullable = true)\n",
            " |-- wage(K): integer (nullable = true)\n",
            " |-- Special: integer (nullable = true)\n",
            " |-- Preferred Foot: string (nullable = true)\n",
            " |-- International Reputation: integer (nullable = true)\n",
            " |-- Weak Foot: integer (nullable = true)\n",
            " |-- Skill Moves: integer (nullable = true)\n",
            " |-- Work Rate: string (nullable = true)\n",
            " |-- Body Type: string (nullable = true)\n",
            " |-- Real Face: string (nullable = true)\n",
            " |-- Position: string (nullable = true)\n",
            " |-- Jersey Number: integer (nullable = true)\n",
            " |-- Joined: string (nullable = true)\n",
            " |-- Loaned From: string (nullable = true)\n",
            " |-- Contract Valid Until: string (nullable = true)\n",
            " |-- Height: double (nullable = true)\n",
            " |-- Height(CM): double (nullable = true)\n",
            " |-- Weight: double (nullable = true)\n",
            " |-- Weight(KG): double (nullable = true)\n",
            " |-- Crossing: integer (nullable = true)\n",
            " |-- Finishing: integer (nullable = true)\n",
            " |-- HeadingAccuracy: integer (nullable = true)\n",
            " |-- ShortPassing: integer (nullable = true)\n",
            " |-- Volleys: integer (nullable = true)\n",
            " |-- Dribbling: integer (nullable = true)\n",
            " |-- Curve: integer (nullable = true)\n",
            " |-- FKAccuracy: integer (nullable = true)\n",
            " |-- LongPassing: integer (nullable = true)\n",
            " |-- BallControl: integer (nullable = true)\n",
            " |-- Acceleration: integer (nullable = true)\n",
            " |-- SprintSpeed: integer (nullable = true)\n",
            " |-- Agility: integer (nullable = true)\n",
            " |-- Reactions: integer (nullable = true)\n",
            " |-- Balance: integer (nullable = true)\n",
            " |-- ShotPower: integer (nullable = true)\n",
            " |-- Jumping: integer (nullable = true)\n",
            " |-- Stamina: integer (nullable = true)\n",
            " |-- Strength: integer (nullable = true)\n",
            " |-- LongShots: integer (nullable = true)\n",
            " |-- Aggression: integer (nullable = true)\n",
            " |-- Interceptions: integer (nullable = true)\n",
            " |-- Positioning: integer (nullable = true)\n",
            " |-- Vision: integer (nullable = true)\n",
            " |-- Penalties: integer (nullable = true)\n",
            " |-- Composure: integer (nullable = true)\n",
            " |-- Marking: integer (nullable = true)\n",
            " |-- StandingTackle: integer (nullable = true)\n",
            " |-- SlidingTackle: integer (nullable = true)\n",
            " |-- GKDiving: integer (nullable = true)\n",
            " |-- GKHandling: integer (nullable = true)\n",
            " |-- GKKicking: integer (nullable = true)\n",
            " |-- GKPositioning: integer (nullable = true)\n",
            " |-- GKReflexes: integer (nullable = true)\n",
            " |-- Release Clause(M): string (nullable = true)\n",
            " |-- overall: integer (nullable = true)\n",
            " |-- potential: integer (nullable = true)\n",
            " |-- value_eur: integer (nullable = true)\n",
            "\n"
          ]
        }
      ]
    },
    {
      "cell_type": "markdown",
      "metadata": {
        "id": "ji_Gj-f-GTsg"
      },
      "source": [
        "**Getting the summary statistics:**"
      ]
    },
    {
      "cell_type": "code",
      "metadata": {
        "colab": {
          "base_uri": "https://localhost:8080/"
        },
        "id": "o9baiYstDKzd",
        "outputId": "ad56900f-2b64-4a81-ef02-6de9ab55baef"
      },
      "source": [
        "# while taking summary statistics we'll only use players that are present in both FIFA 19 and FIFA 21 databases as we are \n",
        "# performing comparison between these two years.\n",
        "temp_df = df.na.drop(subset=['overall','value_eur'])\n",
        "temp_df.describe().show()"
      ],
      "execution_count": 8,
      "outputs": [
        {
          "output_type": "stream",
          "name": "stdout",
          "text": [
            "+-------+-----------------+---------+------------------+--------------------+-----------+--------------------+-----------------+-----------------+--------------------+--------------------+-----------------+------------------+------------------+--------------+------------------------+------------------+------------------+--------------+---------+---------+--------+------------------+-----------+--------------------+--------------------+-------------------+------------------+------------------+-----------------+------------------+-----------------+------------------+-----------------+------------------+------------------+------------------+------------------+------------------+------------------+------------------+------------------+------------------+-----------------+------------------+------------------+------------------+------------------+-----------------+------------------+------------------+------------------+-----------------+------------------+------------------+------------------+------------------+------------------+------------------+-----------------+------------------+-----------------+------------------+------------------+------------------+-----------------+------------------+------------------+\n",
            "|summary|               ID|     Name|               Age|               Photo|Nationality|                Flag|          Overall|        Potential|                Club|           Club Logo|         value(M)|           wage(K)|           Special|Preferred Foot|International Reputation|         Weak Foot|       Skill Moves|     Work Rate|Body Type|Real Face|Position|     Jersey Number|     Joined|         Loaned From|Contract Valid Until|             Height|        Height(CM)|            Weight|       Weight(KG)|          Crossing|        Finishing|   HeadingAccuracy|     ShortPassing|           Volleys|         Dribbling|             Curve|        FKAccuracy|       LongPassing|       BallControl|      Acceleration|       SprintSpeed|           Agility|        Reactions|           Balance|         ShotPower|           Jumping|           Stamina|         Strength|         LongShots|        Aggression|     Interceptions|      Positioning|            Vision|         Penalties|         Composure|           Marking|    StandingTackle|     SlidingTackle|         GKDiving|        GKHandling|        GKKicking|     GKPositioning|        GKReflexes| Release Clause(M)|          overall|         potential|         value_eur|\n",
            "+-------+-----------------+---------+------------------+--------------------+-----------+--------------------+-----------------+-----------------+--------------------+--------------------+-----------------+------------------+------------------+--------------+------------------------+------------------+------------------+--------------+---------+---------+--------+------------------+-----------+--------------------+--------------------+-------------------+------------------+------------------+-----------------+------------------+-----------------+------------------+-----------------+------------------+------------------+------------------+------------------+------------------+------------------+------------------+------------------+------------------+-----------------+------------------+------------------+------------------+------------------+-----------------+------------------+------------------+------------------+-----------------+------------------+------------------+------------------+------------------+------------------+------------------+-----------------+------------------+-----------------+------------------+------------------+------------------+-----------------+------------------+------------------+\n",
            "|  count|            11184|    11184|             11184|               11184|      11184|               11184|            11184|            11184|               11074|               11184|            11071|             11074|             11184|         11163|                   11163|             11163|             11163|         11163|    11163|    11163|   11160|             11160|      10177|                 876|               11053|              11163|             11184|             11163|            11184|             11163|            11163|             11163|            11163|             11163|             11163|             11163|             11163|             11163|             11163|             11163|             11163|             11163|            11163|             11163|             11163|             11163|             11163|            11163|             11163|             11163|             11163|            11163|             11163|             11163|             11163|             11163|             11163|             11163|            11163|             11163|            11163|             11163|             11163|             10174|            11184|             11184|             11184|\n",
            "|   mean|215398.9941881259|     null|24.765647353361945|                null|       null|                null|67.85675965665236|73.04640557939913|                null|                null|6.322367941712124|13.197218710493047|1633.7288984263232|          null|       1.142255666039595|2.9836961390307266|2.4405625727850935|          null|     null|     null|    null|18.650358422939068|       null|                null|  2020.4246831089713|  5.807181761175242|176.67054484978098|166.38609692734929|75.32969115307259| 51.12899758129535|46.84502373913823| 53.28083848427842|60.35214548060557| 44.09056705186778| 57.06324464749619|48.617755083758844| 43.86759831586491| 54.23443518767356|  60.1521096479441| 65.95440293827824| 66.19654214816805| 64.58899937292843|63.47800770402222|  64.3089671235331| 56.85290692466183| 65.66944369793066| 64.98486070052853|66.12102481411807|48.521275642748364| 57.03153274209442| 48.00770402221625| 51.3714055361462|54.991310579593296| 49.14637642210875| 60.26480336827018|48.431156499148976|48.978500403117444|46.807489026247424|16.73098629400699|16.483382603242855|16.30054644808743|16.516169488488757|16.846815372211772| 9.271652628521664|68.63161659513591|  72.1444921316166|3280964.3240343346|\n",
            "| stddev|25720.63554278423|     null| 4.276824094202578|                null|       null|                null|6.818809094590622|6.091370484199351|                null|                null| 8.76294070238198| 26.72745815198947|272.43563262998003|          null|      0.4443697031819299| 0.667213643167124|0.7896091713794327|          null|     null|     null|    null|15.367073226917952|       null|                null|  1.2677404472090492|0.45174391208311127|15.746625778057533|15.743059671248801|7.846852300156961|18.630644105677522|19.86750119093551|17.607464524052258|14.69141680226057|18.028077994988347|19.116555492479538| 18.74733203485843|17.814967842382586|15.336532697552876|16.756553721436944|14.654828626399105|14.277846691893808|14.696927268218536|   8.914520460939|14.113172274235934|17.363000680042326|11.806244446215374|15.671622534477395|12.36884425245799|19.519826447301593|17.380716670891367|20.995382077418515|19.80674448505211| 14.19383614504172|15.738742363737504|11.266299948755742|20.256662205641298|22.035731193026425|21.685704527551014|18.13301494862668|17.272357074008017|16.85456585418888| 17.47231621814401|18.450619953288182|15.728462313216914|6.087635805443543|6.0082397497879585| 6322167.097237924|\n",
            "|    min|               41|     ?der|                16|https://cdn.sofif...|Afghanistan|https://cdn.sofif...|               46|               51| SSV Jahn Regensburg|https://cdn.sofif...|                1|                 1|               755|          Left|                       1|                 1|                 1|    High/ High|Akinfenwa|       No|     CAM|                 1|Apr 1, 2008|          1. FC K?ln|                2018|                5.1|               0.0|             110.0|              0.0|                 6|                2|                 4|                7|                 4|                 4|                 6|                 6|                 9|                 5|                13|                12|                14|               21|                17|                 2|                15|                14|               24|                 4|                11|                 3|                2|                10|                 8|                 3|                 5|                 2|                 4|                1|                 1|                1|                 1|                 1|                 1|               48|                51|                 0|\n",
            "|    max|           246620|Z�� Lu��s|                41|https://cdn.sofif...|   Zimbabwe|https://cdn.sofif...|               94|               95|  Zag??bie Sosnowiec|https://cdn.sofif...|             975K|               565|              2346|         Right|                       5|                 5|                 5|Medium/ Medium|   Stocky|      Yes|      ST|                99|Sep 9, 2018|Wolverhampton Wan...|        Oct 14, 2019|                6.9|           210.312|             243.0|       110.222856|                93|               95|                94|               93|                90|                97|                94|                94|                93|                96|                97|                96|                96|               96|                96|                95|                95|                96|               97|                94|                95|                92|               95|                94|                91|                96|                93|                93|                91|               90|                92|               91|                90|                94|               99K|               93|                95|         105500000|\n",
            "+-------+-----------------+---------+------------------+--------------------+-----------+--------------------+-----------------+-----------------+--------------------+--------------------+-----------------+------------------+------------------+--------------+------------------------+------------------+------------------+--------------+---------+---------+--------+------------------+-----------+--------------------+--------------------+-------------------+------------------+------------------+-----------------+------------------+-----------------+------------------+-----------------+------------------+------------------+------------------+------------------+------------------+------------------+------------------+------------------+------------------+-----------------+------------------+------------------+------------------+------------------+-----------------+------------------+------------------+------------------+-----------------+------------------+------------------+------------------+------------------+------------------+------------------+-----------------+------------------+-----------------+------------------+------------------+------------------+-----------------+------------------+------------------+\n",
            "\n"
          ]
        }
      ]
    },
    {
      "cell_type": "markdown",
      "metadata": {
        "id": "fK4y1JefBzXe"
      },
      "source": [
        "From the above statistics, it is seen that the average overall in 2019 is 67.86 and in 2021, it has increased to 68.63. On the other hand, the average potential has decreased from 73.05 to 72.14. In two years, the set of  players started to meet their potential while their potential to grow has decreased."
      ]
    },
    {
      "cell_type": "markdown",
      "metadata": {
        "id": "uIWBQM4FRzpg"
      },
      "source": [
        "**Splitting the Dataset:**"
      ]
    },
    {
      "cell_type": "markdown",
      "metadata": {
        "id": "0BaWdFN3R4-M"
      },
      "source": [
        "To avoid data leakage we split the data into training and test dataset (validation) from the beginning before performing any steps related to data manipulations."
      ]
    },
    {
      "cell_type": "code",
      "metadata": {
        "id": "ktbHG71pSGZ6",
        "colab": {
          "base_uri": "https://localhost:8080/"
        },
        "outputId": "8068aea5-4ced-44e8-a5e5-11b77ce2db8b"
      },
      "source": [
        "train_df, validation_df = df.randomSplit([0.8, 0.2], seed=2020)\n",
        "train_df.cache()\n",
        "validation_df.cache()"
      ],
      "execution_count": 9,
      "outputs": [
        {
          "output_type": "execute_result",
          "data": {
            "text/plain": [
              "DataFrame[ID: int, Name: string, Age: int, Photo: string, Nationality: string, Flag: string, Overall: int, Potential: int, Club: string, Club Logo: string, value(M): string, wage(K): int, Special: int, Preferred Foot: string, International Reputation: int, Weak Foot: int, Skill Moves: int, Work Rate: string, Body Type: string, Real Face: string, Position: string, Jersey Number: int, Joined: string, Loaned From: string, Contract Valid Until: string, Height: double, Height(CM): double, Weight: double, Weight(KG): double, Crossing: int, Finishing: int, HeadingAccuracy: int, ShortPassing: int, Volleys: int, Dribbling: int, Curve: int, FKAccuracy: int, LongPassing: int, BallControl: int, Acceleration: int, SprintSpeed: int, Agility: int, Reactions: int, Balance: int, ShotPower: int, Jumping: int, Stamina: int, Strength: int, LongShots: int, Aggression: int, Interceptions: int, Positioning: int, Vision: int, Penalties: int, Composure: int, Marking: int, StandingTackle: int, SlidingTackle: int, GKDiving: int, GKHandling: int, GKKicking: int, GKPositioning: int, GKReflexes: int, Release Clause(M): string, overall: int, potential: int, value_eur: int]"
            ]
          },
          "metadata": {},
          "execution_count": 9
        }
      ]
    },
    {
      "cell_type": "markdown",
      "metadata": {
        "id": "0S3BYVijEbAM"
      },
      "source": [
        "**Dealing Missing Values:**"
      ]
    },
    {
      "cell_type": "markdown",
      "metadata": {
        "id": "opXJVamevgyT"
      },
      "source": [
        "In this stage, we examine the dataset to see the necessary operations required on data to ease our analysis. Based on the examination, we develop separate transformers that can perform data manipulation to output the data in the desired format."
      ]
    },
    {
      "cell_type": "code",
      "metadata": {
        "colab": {
          "base_uri": "https://localhost:8080/"
        },
        "id": "cD7QkXwC8WMh",
        "outputId": "f99af799-c942-4f0b-9dd8-1b6e30409568"
      },
      "source": [
        "# checking the missing values\n",
        "from pyspark.sql.functions import count, col, when\n",
        "from pyspark.sql import functions as F\n",
        "null_values_count = train_df.select([count(when(F.isnull(cols), cols)).alias(cols) for cols in train_df.columns])\n",
        "null_values_count.show()"
      ],
      "execution_count": 10,
      "outputs": [
        {
          "output_type": "stream",
          "name": "stdout",
          "text": [
            "+---+----+---+-----+-----------+----+-------+---------+----+---------+--------+-------+-------+--------------+------------------------+---------+-----------+---------+---------+---------+--------+-------------+------+-----------+--------------------+------+----------+------+----------+--------+---------+---------------+------------+-------+---------+-----+----------+-----------+-----------+------------+-----------+-------+---------+-------+---------+-------+-------+--------+---------+----------+-------------+-----------+------+---------+---------+-------+--------------+-------------+--------+----------+---------+-------------+----------+-----------------+-------+---------+---------+\n",
            "| ID|Name|Age|Photo|Nationality|Flag|Overall|Potential|Club|Club Logo|value(M)|wage(K)|Special|Preferred Foot|International Reputation|Weak Foot|Skill Moves|Work Rate|Body Type|Real Face|Position|Jersey Number|Joined|Loaned From|Contract Valid Until|Height|Height(CM)|Weight|Weight(KG)|Crossing|Finishing|HeadingAccuracy|ShortPassing|Volleys|Dribbling|Curve|FKAccuracy|LongPassing|BallControl|Acceleration|SprintSpeed|Agility|Reactions|Balance|ShotPower|Jumping|Stamina|Strength|LongShots|Aggression|Interceptions|Positioning|Vision|Penalties|Composure|Marking|StandingTackle|SlidingTackle|GKDiving|GKHandling|GKKicking|GKPositioning|GKReflexes|Release Clause(M)|overall|potential|value_eur|\n",
            "+---+----+---+-----+-----------+----+-------+---------+----+---------+--------+-------+-------+--------------+------------------------+---------+-----------+---------+---------+---------+--------+-------------+------+-----------+--------------------+------+----------+------+----------+--------+---------+---------------+------------+-------+---------+-----+----------+-----------+-----------+------------+-----------+-------+---------+-------+---------+-------+-------+--------+---------+----------+-------------+-----------+------+---------+---------+-------+--------------+-------------+--------+----------+---------+-------------+----------+-----------------+-------+---------+---------+\n",
            "|  0|   0|  0|    0|          0|   0|      0|        0| 195|        0|     204|    195|      0|            34|                      34|       34|         34|       34|       34|       34|      43|           43|  1257|      13563|                 229|    34|         0|    34|         0|      34|       34|             34|          34|     34|       34|   34|        34|         34|         34|          34|         34|     34|       34|     34|       34|     34|     34|      34|       34|        34|           34|         34|    34|       34|       34|     34|            34|           34|      34|        34|       34|           34|        34|             1266|   5609|     5609|     5609|\n",
            "+---+----+---+-----+-----------+----+-------+---------+----+---------+--------+-------+-------+--------------+------------------------+---------+-----------+---------+---------+---------+--------+-------------+------+-----------+--------------------+------+----------+------+----------+--------+---------+---------------+------------+-------+---------+-----+----------+-----------+-----------+------------+-----------+-------+---------+-------+---------+-------+-------+--------+---------+----------+-------------+-----------+------+---------+---------+-------+--------------+-------------+--------+----------+---------+-------------+----------+-----------------+-------+---------+---------+\n",
            "\n"
          ]
        }
      ]
    },
    {
      "cell_type": "markdown",
      "metadata": {
        "id": "e5j2e4L5CLhZ"
      },
      "source": [
        "In this analysis, the attributes that we are concerned with are player attributes that have impacts on players' gameplay such as 'Crossing', ShortPassing', etc. We are only concerned with forwards, midfielders and defenders, not goalkeepers. It is seen that all attributes of interests have 34 missing values which include goalkeeping attributes too. So, we need to see if those missing values for different attributes belong to goalkeepers only before performing imputation or deletion of missing values."
      ]
    },
    {
      "cell_type": "code",
      "metadata": {
        "colab": {
          "base_uri": "https://localhost:8080/"
        },
        "id": "YmLzarGn1yB0",
        "outputId": "025be96b-d197-43c0-f7a7-8b96a62ed605"
      },
      "source": [
        "# checking the missing values after removing goalkeepers\n",
        "df_non_goalkeeper = train_df.filter(train_df['Position'] != 'GK')\n",
        "df_non_goalkeeper.select([count(F.when(F.isnull(cols), cols)).alias(cols) for cols in df_non_goalkeeper.columns]).show()"
      ],
      "execution_count": 11,
      "outputs": [
        {
          "output_type": "stream",
          "name": "stdout",
          "text": [
            "+---+----+---+-----+-----------+----+-------+---------+----+---------+--------+-------+-------+--------------+------------------------+---------+-----------+---------+---------+---------+--------+-------------+------+-----------+--------------------+------+----------+------+----------+--------+---------+---------------+------------+-------+---------+-----+----------+-----------+-----------+------------+-----------+-------+---------+-------+---------+-------+-------+--------+---------+----------+-------------+-----------+------+---------+---------+-------+--------------+-------------+--------+----------+---------+-------------+----------+-----------------+-------+---------+---------+\n",
            "| ID|Name|Age|Photo|Nationality|Flag|Overall|Potential|Club|Club Logo|value(M)|wage(K)|Special|Preferred Foot|International Reputation|Weak Foot|Skill Moves|Work Rate|Body Type|Real Face|Position|Jersey Number|Joined|Loaned From|Contract Valid Until|Height|Height(CM)|Weight|Weight(KG)|Crossing|Finishing|HeadingAccuracy|ShortPassing|Volleys|Dribbling|Curve|FKAccuracy|LongPassing|BallControl|Acceleration|SprintSpeed|Agility|Reactions|Balance|ShotPower|Jumping|Stamina|Strength|LongShots|Aggression|Interceptions|Positioning|Vision|Penalties|Composure|Marking|StandingTackle|SlidingTackle|GKDiving|GKHandling|GKKicking|GKPositioning|GKReflexes|Release Clause(M)|overall|potential|value_eur|\n",
            "+---+----+---+-----+-----------+----+-------+---------+----+---------+--------+-------+-------+--------------+------------------------+---------+-----------+---------+---------+---------+--------+-------------+------+-----------+--------------------+------+----------+------+----------+--------+---------+---------------+------------+-------+---------+-----+----------+-----------+-----------+------------+-----------+-------+---------+-------+---------+-------+-------+--------+---------+----------+-------------+-----------+------+---------+---------+-------+--------------+-------------+--------+----------+---------+-------------+----------+-----------------+-------+---------+---------+\n",
            "|  0|   0|  0|    0|          0|   0|      0|        0| 162|        0|     168|    162|      0|             0|                       0|        0|          0|        0|        0|        0|       0|            0|  1118|      11971|                 162|     0|         0|     0|         0|       0|        0|              0|           0|      0|        0|    0|         0|          0|          0|           0|          0|      0|        0|      0|        0|      0|      0|       0|        0|         0|            0|          0|     0|        0|        0|      0|             0|            0|       0|         0|        0|            0|         0|             1124|   4942|     4942|     4942|\n",
            "+---+----+---+-----+-----------+----+-------+---------+----+---------+--------+-------+-------+--------------+------------------------+---------+-----------+---------+---------+---------+--------+-------------+------+-----------+--------------------+------+----------+------+----------+--------+---------+---------------+------------+-------+---------+-----+----------+-----------+-----------+------------+-----------+-------+---------+-------+---------+-------+-------+--------+---------+----------+-------------+-----------+------+---------+---------+-------+--------------+-------------+--------+----------+---------+-------------+----------+-----------------+-------+---------+---------+\n",
            "\n"
          ]
        }
      ]
    },
    {
      "cell_type": "markdown",
      "metadata": {
        "id": "rOzUZ_DPEI4W"
      },
      "source": [
        "It is seen that no missing values are present in our many attributes of interests for players belonging to positions other than goalkeepers. Important features in our analysis such as value(M), potential and value_eur, still have missing values, so appropriate operations to deal with those missing values should be performed before we proceed to other analyses."
      ]
    },
    {
      "cell_type": "markdown",
      "metadata": {
        "id": "MgCh7XdxYGl8"
      },
      "source": [
        "**Missing values for potential:**"
      ]
    },
    {
      "cell_type": "markdown",
      "metadata": {
        "id": "DErudJ4RYf2T"
      },
      "source": [
        "We can see from above that we only have missing values for players' potential in 2021 only. In the next step, we will analyse what type of players are having null values in 2021 for potential."
      ]
    },
    {
      "cell_type": "code",
      "metadata": {
        "id": "osAOmpInG45O"
      },
      "source": [
        "from pyspark.sql import SQLContext\n",
        "sqlContext = SQLContext(spark)\n",
        "\n",
        "#df_view = 'soccer_analysis'\n",
        "train_df.createOrReplaceTempView('soccer_analysis')"
      ],
      "execution_count": null,
      "outputs": []
    },
    {
      "cell_type": "code",
      "metadata": {
        "colab": {
          "base_uri": "https://localhost:8080/"
        },
        "id": "SKHqJuKVYOal",
        "outputId": "1274784f-bd60-4e2d-a139-29b110eb4f56"
      },
      "source": [
        "spark.sql(\"\"\"\n",
        "          Select * from soccer_analysis Where Position <> 'GK' AND potential Is Null\n",
        "          \"\"\").show(10)"
      ],
      "execution_count": null,
      "outputs": [
        {
          "output_type": "stream",
          "name": "stdout",
          "text": [
            "+----+------------+---+--------------------+-------------------+--------------------+-------+---------+--------------------+--------------------+--------+-------+-------+--------------+------------------------+---------+-----------+--------------+---------+---------+--------+-------------+------------+-----------+--------------------+------+----------+------+----------+--------+---------+---------------+------------+-------+---------+-----+----------+-----------+-----------+------------+-----------+-------+---------+-------+---------+-------+-------+--------+---------+----------+-------------+-----------+------+---------+---------+-------+--------------+-------------+--------+----------+---------+-------------+----------+-----------------+-------+---------+---------+\n",
            "|  ID|        Name|Age|               Photo|        Nationality|                Flag|Overall|Potential|                Club|           Club Logo|value(M)|wage(K)|Special|Preferred Foot|International Reputation|Weak Foot|Skill Moves|     Work Rate|Body Type|Real Face|Position|Jersey Number|      Joined|Loaned From|Contract Valid Until|Height|Height(CM)|Weight|Weight(KG)|Crossing|Finishing|HeadingAccuracy|ShortPassing|Volleys|Dribbling|Curve|FKAccuracy|LongPassing|BallControl|Acceleration|SprintSpeed|Agility|Reactions|Balance|ShotPower|Jumping|Stamina|Strength|LongShots|Aggression|Interceptions|Positioning|Vision|Penalties|Composure|Marking|StandingTackle|SlidingTackle|GKDiving|GKHandling|GKKicking|GKPositioning|GKReflexes|Release Clause(M)|overall|potential|value_eur|\n",
            "+----+------------+---+--------------------+-------------------+--------------------+-------+---------+--------------------+--------------------+--------+-------+-------+--------------+------------------------+---------+-----------+--------------+---------+---------+--------+-------------+------------+-----------+--------------------+------+----------+------+----------+--------+---------+---------------+------------+-------+---------+-----+----------+-----------+-----------+------------+-----------+-------+---------+-------+---------+-------+-------+--------+---------+----------+-------------+-----------+------+---------+---------+-------+--------------+-------------+--------+----------+---------+-------------+----------+-----------------+-------+---------+---------+\n",
            "|  16|Luis Garc��a| 37|https://cdn.sofif...|              Spain|https://cdn.sofif...|     71|       71|           KAS Eupen|https://cdn.sofif...|    750K|      6|   1906|         Right|                       1|        4|          3|Medium/ Medium|     Lean|       No|     RCM|           10|Jul 19, 2014|       null|                2019|   5.1|   155.448| 143.0| 64.863656|      68|       64|             61|          76|     68|       69|   79|        79|         71|         71|          56|         50|     62|       65|     72|       75|     54|     64|      60|       71|        71|           71|         72|    73|       75|       79|     70|            43|           40|       9|        12|       13|           11|        11|              1.1|   null|     null|     null|\n",
            "|  80|E. Bel?zo?lu| 37|https://cdn.sofif...|             Turkey|https://cdn.sofif...|     79|       79|Medipol Ba?ak?ehi...|https://cdn.sofif...|       4|     23|   2047|          Left|                       2|        4|          4|Medium/ Medium|   Stocky|       No|      CM|            5| Jul 9, 2015|       null|                2019|   5.7|   173.736| 159.0| 72.121128|      80|       68|             43|          86|     69|       78|   83|        80|         87|         82|          54|         38|     68|       73|     81|       77|     72|     61|      65|       76|        87|           66|         63|    86|       85|       80|     65|            67|           60|       7|        11|        7|           14|         8|              7.6|   null|     null|     null|\n",
            "| 164|    G. Pinzi| 37|https://cdn.sofif...|              Italy|https://cdn.sofif...|     70|       70|              Padova|https://cdn.sofif...|    240K|      2|   1882|         Right|                       2|        3|          3|     Low/ High|   Normal|       No|     LCM|           11|Aug 31, 2017|       null|                2019|  5.11|  155.7528| 168.0| 76.203456|      63|       53|             62|          69|     61|       66|   58|        54|         64|         67|          65|         62|     69|       67|     63|       71|     69|     74|      67|       65|        75|           70|         61|    65|       65|       68|     74|            71|           66|       5|        15|        7|            6|        13|             372K|   null|     null|     null|\n",
            "| 657|  D. Vaughan| 35|https://cdn.sofif...|              Wales|https://cdn.sofif...|     66|       66|        Notts County|https://cdn.sofif...|    150K|      4|   1781|          Left|                       1|        3|          2|  Medium/ High|   Stocky|       No|     CDM|            8| Jul 6, 2018|       null|                2019|   5.6|   170.688| 154.0| 69.853168|      64|       59|             58|          72|     57|       62|   68|        67|         68|         68|          33|         33|     60|       67|     91|       70|     60|     50|      58|       66|        74|           63|         55|    64|       66|       82|     59|            66|           62|       6|         9|       10|            9|         7|             263K|   null|     null|     null|\n",
            "| 768|      Felipe| 33|https://cdn.sofif...|             Brazil|https://cdn.sofif...|     75|       75|                SPAL|https://cdn.sofif...|     2.7|     13|   1535|          Left|                       2|        3|          2|   Low/ Medium|     Lean|       No|     LCB|           27| Jul 4, 2017|       null|                2020|   6.2|   188.976| 165.0|  74.84268|      34|       20|             74|          62|     19|       44|   49|        21|         64|         60|          38|         41|     49|       72|     63|       68|     69|     48|      67|       40|        70|           81|         29|    46|       35|       68|     77|            80|           76|      11|         6|        8|            9|         5|              4.9|   null|     null|     null|\n",
            "|3484|   J. O'Shea| 37|https://cdn.sofif...|Republic of Ireland|https://cdn.sofif...|     69|       69|             Reading|https://cdn.sofif...|    140K|     10|   1497|         Right|                       2|        3|          2|Medium/ Medium|   Normal|      Yes|      CB|            4| Jul 1, 2018|       null|                2019|   6.3|   192.024| 185.0|  83.91452|      53|       29|             72|          60|     32|       46|   51|        35|         57|         60|          29|         32|     49|       63|     54|       49|     57|     30|      77|       23|        64|           71|         32|    55|       47|       69|     72|            70|           68|       9|        14|       13|           10|        14|             266K|   null|     null|     null|\n",
            "|3665|    B. Nivet| 41|https://cdn.sofif...|             France|https://cdn.sofif...|     71|       71|        ESTAC Troyes|https://cdn.sofif...|    null|      5|   1785|         Right|                       2|        3|          3|Medium/ Medium|   Normal|       No|     CAM|           10| Jul 1, 2012|       null|                2019|   5.1|   155.448| 165.0|  74.84268|      67|       69|             58|          75|     67|       68|   73|        71|         72|         76|          39|         40|     59|       70|     67|       75|     30|     41|      56|       72|        58|           54|         65|    83|       76|       82|     58|            56|           43|      11|         7|        8|           14|         7|             null|   null|     null|     null|\n",
            "|6826|    G. Barry| 37|https://cdn.sofif...|            England|https://cdn.sofif...|     72|       72|West Bromwich Albion|https://cdn.sofif...|    425K|     16|   1878|          Left|                       2|        3|          3|Medium/ Medium|   Normal|      Yes|     CDM|           18|Aug 15, 2017|       null|                2019|   6.0|    182.88| 172.0| 78.017824|      75|       56|             69|          76|     63|       68|   76|        71|         71|         76|          30|         33|     43|       71|     60|       74|     70|     47|      74|       69|        74|           68|         58|    68|       72|       81|     80|            73|           65|       7|        13|        9|            7|        12|             808K|   null|     null|     null|\n",
            "|7647| D. Dainelli| 39|https://cdn.sofif...|              Italy|https://cdn.sofif...|     73|       73|             Livorno|https://cdn.sofif...|    270K|      2|   1419|         Right|                       2|        3|          2|   Low/ Medium|     Lean|       No|      CB|            3|Jul 16, 2018|       null|                2019|   6.3|   192.024| 172.0| 78.017824|      28|       22|             73|          56|     19|       52|   40|        31|         64|         55|          30|         33|     30|       70|     34|       69|     74|     32|      79|       31|        69|           83|         16|    25|       30|       75|     73|            76|           70|       6|        12|       14|           13|        10|             419K|   null|     null|     null|\n",
            "|8205|       Braga| 35|https://cdn.sofif...|           Portugal|https://cdn.sofif...|     70|       70|             CD Aves|https://cdn.sofif...|    750K|      5|   1858|         Right|                       1|        4|          3|Medium/ Medium|   Normal|       No|     LCM|            8| Jul 1, 2017|       null|                2019|  5.11|  155.7528| 165.0|  74.84268|      72|       64|             54|          75|     74|       72|   70|        61|         72|         75|          48|         49|     62|       63|     62|       82|     56|     54|      72|       77|        67|           54|         71|    72|       74|       80|     55|            56|           38|      15|        15|       13|            8|         6|              1.6|   null|     null|     null|\n",
            "+----+------------+---+--------------------+-------------------+--------------------+-------+---------+--------------------+--------------------+--------+-------+-------+--------------+------------------------+---------+-----------+--------------+---------+---------+--------+-------------+------------+-----------+--------------------+------+----------+------+----------+--------+---------+---------------+------------+-------+---------+-----+----------+-----------+-----------+------------+-----------+-------+---------+-------+---------+-------+-------+--------+---------+----------+-------------+-----------+------+---------+---------+-------+--------------+-------------+--------+----------+---------+-------------+----------+-----------------+-------+---------+---------+\n",
            "only showing top 10 rows\n",
            "\n"
          ]
        }
      ]
    },
    {
      "cell_type": "code",
      "metadata": {
        "colab": {
          "base_uri": "https://localhost:8080/"
        },
        "id": "eUtRDSyvY5fA",
        "outputId": "eb81732d-5d00-454c-922f-c597adf541fe"
      },
      "source": [
        "spark.sql(\"\"\"\n",
        "          Select MIN(Age), MAX(Age) from soccer_analysis Where Position <> 'GK' AND potential Is Null\n",
        "          \"\"\").show()"
      ],
      "execution_count": null,
      "outputs": [
        {
          "output_type": "stream",
          "name": "stdout",
          "text": [
            "+--------+--------+\n",
            "|min(Age)|max(Age)|\n",
            "+--------+--------+\n",
            "|      16|      41|\n",
            "+--------+--------+\n",
            "\n"
          ]
        }
      ]
    },
    {
      "cell_type": "markdown",
      "metadata": {
        "id": "ApYYF9RwZ3o9"
      },
      "source": [
        "It is seen that players that have missing values for potential in 2021 belong to a wide range of ages. "
      ]
    },
    {
      "cell_type": "code",
      "metadata": {
        "colab": {
          "base_uri": "https://localhost:8080/"
        },
        "id": "hdLiBhJPaKG0",
        "outputId": "3c8123e9-5feb-404c-afb0-d1390f4f3b33"
      },
      "source": [
        "spark.sql(\"\"\"\n",
        "          Select Age, MIN(`International Reputation`), MAX(`International Reputation`) from soccer_analysis \n",
        "          Where Position <> 'GK' AND potential Is Null \n",
        "          GROUP BY Age\n",
        "          ORDER BY Age ASC\n",
        "          \"\"\").show(30)"
      ],
      "execution_count": null,
      "outputs": [
        {
          "output_type": "stream",
          "name": "stdout",
          "text": [
            "+---+-----------------------------+-----------------------------+\n",
            "|Age|min(International Reputation)|max(International Reputation)|\n",
            "+---+-----------------------------+-----------------------------+\n",
            "| 16|                            1|                            1|\n",
            "| 17|                            1|                            1|\n",
            "| 18|                            1|                            1|\n",
            "| 19|                            1|                            1|\n",
            "| 20|                            1|                            1|\n",
            "| 21|                            1|                            2|\n",
            "| 22|                            1|                            1|\n",
            "| 23|                            1|                            2|\n",
            "| 24|                            1|                            2|\n",
            "| 25|                            1|                            2|\n",
            "| 26|                            1|                            4|\n",
            "| 27|                            1|                            4|\n",
            "| 28|                            1|                            3|\n",
            "| 29|                            1|                            2|\n",
            "| 30|                            1|                            3|\n",
            "| 31|                            1|                            4|\n",
            "| 32|                            1|                            4|\n",
            "| 33|                            1|                            4|\n",
            "| 34|                            1|                            3|\n",
            "| 35|                            1|                            4|\n",
            "| 36|                            1|                            3|\n",
            "| 37|                            1|                            3|\n",
            "| 38|                            1|                            2|\n",
            "| 39|                            1|                            3|\n",
            "| 40|                            1|                            1|\n",
            "| 41|                            2|                            2|\n",
            "+---+-----------------------------+-----------------------------+\n",
            "\n"
          ]
        }
      ]
    },
    {
      "cell_type": "markdown",
      "metadata": {
        "id": "o_vpv8NHcs-u"
      },
      "source": [
        "Of all the ages of players, players belonging to mid-twenties to mid-thirties have a good reputation than players from other remaining age groups. So, we cannot impute players with null potential values as zero as it is not representative of the whole population. \n",
        "\n",
        "For this, we impute missing values based on the average potential variation from the respective age groups and calculate the potential from the potential in 2019."
      ]
    },
    {
      "cell_type": "markdown",
      "metadata": {
        "id": "UkVQ3Ry2G9sf"
      },
      "source": [
        "**Handling of missing values in Value_2019(M) column:**"
      ]
    },
    {
      "cell_type": "code",
      "metadata": {
        "colab": {
          "base_uri": "https://localhost:8080/"
        },
        "id": "V7EZ2T_msV2v",
        "outputId": "581e75e3-e2c6-4ab3-f79f-1cde002a5279"
      },
      "source": [
        "spark.sql(\"\"\"\n",
        "          Select * from soccer_analysis Where value_eur Is Not Null AND `value(M)` Is Null\n",
        "          \"\"\").show()"
      ],
      "execution_count": null,
      "outputs": [
        {
          "output_type": "stream",
          "name": "stdout",
          "text": [
            "+------+---------------+---+--------------------+------------+--------------------+-------+---------+---------------+--------------------+--------+-------+-------+--------------+------------------------+---------+-----------+--------------+---------+---------+--------+-------------+------------+-----------+--------------------+------+----------+------+----------+--------+---------+---------------+------------+-------+---------+-----+----------+-----------+-----------+------------+-----------+-------+---------+-------+---------+-------+-------+--------+---------+----------+-------------+-----------+------+---------+---------+-------+--------------+-------------+--------+----------+---------+-------------+----------+-----------------+-------+---------+---------+\n",
            "|    ID|           Name|Age|               Photo| Nationality|                Flag|Overall|Potential|           Club|           Club Logo|value(M)|wage(K)|Special|Preferred Foot|International Reputation|Weak Foot|Skill Moves|     Work Rate|Body Type|Real Face|Position|Jersey Number|      Joined|Loaned From|Contract Valid Until|Height|Height(CM)|Weight|Weight(KG)|Crossing|Finishing|HeadingAccuracy|ShortPassing|Volleys|Dribbling|Curve|FKAccuracy|LongPassing|BallControl|Acceleration|SprintSpeed|Agility|Reactions|Balance|ShotPower|Jumping|Stamina|Strength|LongShots|Aggression|Interceptions|Positioning|Vision|Penalties|Composure|Marking|StandingTackle|SlidingTackle|GKDiving|GKHandling|GKKicking|GKPositioning|GKReflexes|Release Clause(M)|overall|potential|value_eur|\n",
            "+------+---------------+---+--------------------+------------+--------------------+-------+---------+---------------+--------------------+--------+-------+-------+--------------+------------------------+---------+-----------+--------------+---------+---------+--------+-------------+------------+-----------+--------------------+------+----------+------+----------+--------+---------+---------------+------------+-------+---------+-----+----------+-----------+-----------+------------+-----------+-------+---------+-------+---------+-------+-------+--------+---------+----------+-------------+-----------+------+---------+---------+-------+--------------+-------------+--------+----------+---------+-------------+----------+-----------------+-------+---------+---------+\n",
            "| 29552|    S. Nakamura| 40|https://cdn.sofif...|       Japan|https://cdn.sofif...|     72|       72|  J��bilo Iwata|https://cdn.sofif...|    null|      4|   1781|          Left|                       3|        3|          3|     High/ Low|     Lean|       No|     CAM|           10|Jan 10, 2017|       null|                2021|   5.1|   155.448| 157.0| 71.213944|      80|       65|             28|          78|     78|       70|   87|        88|         77|         76|          32|         30|     75|       76|     69|       79|     64|     45|      65|       77|        30|           33|         68|    74|       83|       77|     40|            38|           34|       8|         6|        7|           15|         6|             null|     65|       65|        0|\n",
            "|140222|    P. Da Silva| 38|https://cdn.sofif...|    Paraguay|https://cdn.sofif...|     72|       72|           null|https://cdn.sofif...|    null|   null|   1703|         Right|                       2|        3|          2|     Low/ High|   Normal|       No|     RCB|            4|        null|       null|                null|  5.11|  155.7528| 168.0| 76.203456|      55|       29|             80|          62|     59|       52|   56|        48|         60|         57|          34|         32|     60|       67|     60|       66|     79|     55|      81|       56|        71|           70|         26|    55|       63|       70|     70|            70|           73|       9|         8|       15|           16|         9|             null|     67|       67|        0|\n",
            "|153260|         Hilton| 40|https://cdn.sofif...|      Brazil|https://cdn.sofif...|     78|       78|Montpellier HSC|https://cdn.sofif...|    null|     18|   1807|         Right|                       2|        3|          3|Medium/ Medium|   Normal|      Yes|      CB|            4| Aug 1, 2011|       null|                2019|  5.11|  155.7528| 172.0| 78.017824|      60|       45|             79|          73|     51|       63|   42|        48|         72|         73|          33|         38|     51|       70|     60|       55|     79|     54|      76|       58|        76|           79|         50|    67|       64|       70|     83|            77|           76|      12|         7|       11|           12|        13|             null|     77|       77|        0|\n",
            "|156713|   A. Granqvist| 33|https://cdn.sofif...|      Sweden|https://cdn.sofif...|     80|       80|           null|https://cdn.sofif...|    null|   null|   1797|         Right|                       2|        4|          2|  High/ Medium|   Normal|       No|     LCB|            4|        null|       null|                null|   6.4|   195.072| 185.0|  83.91452|      49|       51|             81|          73|     37|       49|   36|        40|         67|         63|          46|         49|     55|       76|     36|       74|     64|     67|      83|       59|        81|           82|         54|    49|       79|       78|     82|            83|           79|       7|         9|       12|           10|        15|             null|     72|       72|   950000|\n",
            "|166851|     K. ?rnason| 35|https://cdn.sofif...|     Iceland|https://cdn.sofif...|     70|       70|           null|https://cdn.sofif...|    null|   null|   1650|         Right|                       1|        2|          2|   Low/ Medium|   Normal|       No|     RCB|           14|        null|       null|                null|   6.3|   192.024| 181.0| 82.100152|      48|       43|             68|          59|     43|       49|   52|        51|         62|         53|          30|         30|     34|       66|     59|       70|     80|     55|      84|       53|        78|           76|         41|    60|       52|       74|     76|            63|           58|      12|        15|       10|           13|         7|             null|     68|       68|        0|\n",
            "|174381|     C. Riveros| 35|https://cdn.sofif...|    Paraguay|https://cdn.sofif...|     76|       76|           null|https://cdn.sofif...|    null|   null|   2012|         Right|                       1|        3|          3|Medium/ Medium|   Normal|       No|     CAM|           16|        null|       null|                null|   5.1|   155.448| 163.0| 73.935496|      74|       69|             70|          81|     64|       69|   67|        68|         77|         76|          60|         53|     79|       72|     70|       71|     65|     75|      62|       71|        72|           65|         76|    77|       71|       80|     76|            61|           62|       9|        13|        6|           16|        15|             null|     68|       68|   275000|\n",
            "|175608|       A. Fathi| 33|https://cdn.sofif...|       Egypt|https://cdn.sofif...|     70|       70|           null|https://cdn.sofif...|    null|   null|   1917|         Right|                       2|        4|          3|  High/ Medium|   Normal|       No|      RB|            7|        null|       null|                null|   5.9|   179.832| 168.0| 76.203456|      70|       59|             50|          64|     62|       67|   65|        35|         72|         66|          77|         74|     73|       67|     68|       72|     57|     70|      69|       69|        77|           69|         66|    67|       57|       65|     75|            71|           68|      15|         6|        9|           15|        16|             null|     70|       70|        0|\n",
            "|179897|  R. Sigur?sson| 32|https://cdn.sofif...|     Iceland|https://cdn.sofif...|     73|       73|           null|https://cdn.sofif...|    null|   null|   1649|         Right|                       1|        3|          2|Medium/ Medium|     Lean|       No|     LCB|            6|        null|       null|                null|   6.2|   188.976| 170.0|  77.11064|      40|       26|             74|          66|     25|       30|   42|        32|         62|         52|          62|         61|     56|       68|     60|       59|     60|     78|      81|       52|        80|           74|         29|    55|       65|       68|     74|            71|           71|       9|         8|        6|            9|        12|             null|     71|       71|   875000|\n",
            "|181795|  F. Kudryashov| 31|https://cdn.sofif...|      Russia|https://cdn.sofif...|     73|       73|           null|https://cdn.sofif...|    null|   null|   1815|          Left|                       1|        2|          2|Medium/ Medium|   Normal|       No|     LCB|           13|        null|       null|                null|  5.11|  155.7528| 179.0| 81.192968|      71|       41|             63|          68|     51|       61|   47|        41|         60|         69|          71|         73|     74|       74|     64|       43|     70|     72|      73|       56|        71|           74|         45|    58|       46|       69|     72|            74|           75|      16|        11|       11|           12|         8|             null|     73|       73|  1800000|\n",
            "|183389|         G. Sio| 29|https://cdn.sofif...| Ivory Coast|https://cdn.sofif...|     77|       77|           null|https://cdn.sofif...|    null|   null|   1933|          Left|                       2|        3|          3|     High/ Low|   Normal|       No|      ST|           21|        null|       null|                null|  5.11|  155.7528| 176.0| 79.832192|      68|       77|             71|          73|     73|       76|   73|        69|         67|         76|          78|         85|     79|       71|     73|       77|     70|     78|      74|       74|        77|           18|         76|    73|       72|       72|     40|            18|           12|      15|         9|       10|           15|        16|             null|     74|       74|  5000000|\n",
            "|187607|      A. Dzyuba| 29|https://cdn.sofif...|      Russia|https://cdn.sofif...|     78|       78|           null|https://cdn.sofif...|    null|   null|   1810|         Right|                       2|        3|          3|  High/ Medium|   Stocky|       No|      ST|           22|        null|       null|                null|   6.5|    198.12| 201.0| 91.171992|      61|       79|             86|          71|     74|       71|   64|        60|         55|         77|          66|         65|     50|       75|     32|       78|     63|     77|      93|       68|        75|           30|         78|    73|       77|       70|     21|            15|           19|      15|        12|       11|           11|         8|             null|     79|       79|        0|\n",
            "|188916| H. Eyj��lfsson| 27|https://cdn.sofif...|     Iceland|https://cdn.sofif...|     68|       69|           null|https://cdn.sofif...|    null|   null|   1636|         Right|                       1|        3|          2|Medium/ Medium|   Normal|       No|      CB|           15|        null|       null|                null|   6.3|   192.024| 190.0|  86.18248|      57|       38|             66|          60|     33|       54|   31|        38|         56|         53|          73|         74|     46|       64|     58|       59|     71|     60|      78|       44|        67|           69|         38|    51|       45|       62|     63|            71|           66|       8|        12|       11|           11|        11|             null|     67|       67|   650000|\n",
            "|193359|        R. Romo| 28|https://cdn.sofif...|   Venezuela|https://cdn.sofif...|     69|       71|           null|https://cdn.sofif...|    null|   null|   1105|         Right|                       1|        2|          1|Medium/ Medium|   Normal|       No|      GK|           22|        null|       null|                null|   6.6|   201.168| 187.0| 84.821704|      11|       15|             11|          22|     10|       13|   14|        13|         33|         21|          50|         50|     48|       71|     28|       21|     74|     28|      66|       13|        23|           26|         18|    36|       20|       61|     14|            11|           14|      65|        63|       61|           69|        73|             null|     66|       66|   425000|\n",
            "|193772|   A. Kov��csik| 27|https://cdn.sofif...|     Hungary|https://cdn.sofif...|     69|       70|           null|https://cdn.sofif...|    null|   null|   1205|         Right|                       1|        2|          1|Medium/ Medium|   Normal|       No|      GK|           22|        null|       null|                null|   6.4|   195.072| 179.0| 81.192968|      13|       20|             10|          32|     16|       17|   14|        14|         33|         21|          53|         43|     65|       60|     55|       36|     75|     35|      65|       16|        45|           22|         11|    13|       33|       56|     17|            15|           14|      69|        64|       63|           71|        75|             null|     69|       70|        0|\n",
            "|196688|       A. Corzo| 29|https://cdn.sofif...|        Peru|https://cdn.sofif...|     69|       69|           null|https://cdn.sofif...|    null|   null|   1677|         Right|                       1|        3|          3|Medium/ Medium|   Normal|       No|      LB|            3|        null|       null|                null|   5.8|   176.784| 165.0|  74.84268|      69|       18|             68|          59|     31|       63|   46|        50|         53|         65|          72|         68|     72|       63|     73|       59|     43|     67|      55|       49|        53|           66|         59|    48|       43|       50|     68|            73|           70|      15|        12|        8|           13|         6|             null|     70|       70|        0|\n",
            "|199572|        C. Deac| 32|https://cdn.sofif...|     Romania|https://cdn.sofif...|     70|       70|           null|https://cdn.sofif...|    null|   null|   1889|          Left|                       1|        3|          3|  High/ Medium|   Normal|       No|      CM|           17|        null|       null|                null|   5.1|   155.448| 163.0| 73.935496|      70|       63|             49|          74|     61|       63|   62|        67|         62|         69|          64|         65|     72|       74|     65|       74|     50|     84|      70|       65|        66|           63|         63|    69|       66|       64|     54|            67|           65|       7|        14|        9|            9|        14|             null|     72|       72|  1600000|\n",
            "|201698|     M. P��tkai| 30|https://cdn.sofif...|     Hungary|https://cdn.sofif...|     70|       70|           null|https://cdn.sofif...|    null|   null|   1855|         Right|                       1|        3|          3|Medium/ Medium|   Normal|       No|     CDM|           16|        null|       null|                null|   5.8|   176.784| 141.0| 63.956472|      52|       56|             53|          74|     74|       63|   69|        54|         71|         70|          74|         72|     79|       66|     70|       62|     53|     72|      45|       69|        68|           73|         53|    70|       47|       64|     68|            68|           67|       7|         7|        7|            6|        16|             null|     70|       70|        0|\n",
            "|204062|        D. Keet| 28|https://cdn.sofif...|South Africa|https://cdn.sofif...|     70|       71|           null|https://cdn.sofif...|    null|   null|   1190|          Left|                       1|        2|          1|Medium/ Medium|   Normal|       No|      GK|           13|        null|       null|                null|   6.0|    182.88| 170.0|  77.11064|      11|       12|             13|          33|     19|       22|   17|        13|         43|         32|          45|         44|     41|       65|     46|       37|     77|     27|      68|       13|        17|           16|         14|    42|       34|       30|     15|            10|           17|      72|        69|       68|           67|        71|             null|     68|       68|   600000|\n",
            "|204341|     Lu��s Neto| 30|https://cdn.sofif...|    Portugal|https://cdn.sofif...|     77|       77|           null|https://cdn.sofif...|    null|   null|   1749|         Right|                       1|        3|          2|Medium/ Medium|     Lean|       No|      CB|            4|        null|       null|                null|   6.2|   188.976| 157.0| 71.213944|      42|       33|             80|          72|     40|       49|   52|        43|         77|         48|          57|         59|     69|       78|     61|       42|     79|     72|      72|       37|        76|           78|         44|    46|       47|       72|     80|            77|           78|      10|        15|       13|           15|         8|             null|     75|       75|  4300000|\n",
            "|206379|H. Halld��rsson| 34|https://cdn.sofif...|     Iceland|https://cdn.sofif...|     69|       69|           null|https://cdn.sofif...|    null|   null|   1108|         Right|                       1|        2|          1|Medium/ Medium|   Normal|       No|      GK|            1|        null|       null|                null|   6.4|   195.072| 194.0| 87.996848|      18|        8|              9|          36|      9|       10|   11|        13|         26|         16|          25|         48|     25|       67|     59|       48|     68|     31|      65|       12|        21|           13|          9|    27|       41|       54|     26|            18|           15|      70|        62|       62|           69|        71|             null|     66|       66|        0|\n",
            "+------+---------------+---+--------------------+------------+--------------------+-------+---------+---------------+--------------------+--------+-------+-------+--------------+------------------------+---------+-----------+--------------+---------+---------+--------+-------------+------------+-----------+--------------------+------+----------+------+----------+--------+---------+---------------+------------+-------+---------+-----+----------+-----------+-----------+------------+-----------+-------+---------+-------+---------+-------+-------+--------+---------+----------+-------------+-----------+------+---------+---------+-------+--------------+-------------+--------+----------+---------+-------------+----------+-----------------+-------+---------+---------+\n",
            "only showing top 20 rows\n",
            "\n"
          ]
        }
      ]
    },
    {
      "cell_type": "markdown",
      "metadata": {
        "id": "tLboQfzWHfFT"
      },
      "source": [
        "It is seen that although we have missing values for players value in 2019, we can find the value of some of those players in 2021. Based on the value in 2021, we perform imputation of missing values in the value column in 2019. To do that, we first compare the values in both years and calculate the percentage variation in values in those two years. Using that variation, we calculate the figures for missing values. "
      ]
    },
    {
      "cell_type": "markdown",
      "metadata": {
        "id": "9Ya621l5HHQK"
      },
      "source": [
        "The necessary operation is performed in a separate python file which we will import later."
      ]
    },
    {
      "cell_type": "code",
      "metadata": {
        "colab": {
          "base_uri": "https://localhost:8080/"
        },
        "id": "eANvWu6PsX6K",
        "outputId": "970296f0-13d7-481f-f99d-268453b24bd5"
      },
      "source": [
        "spark.sql(\"\"\"\n",
        "          Select * from soccer_analysis Where `value(M)` Like '%K'\n",
        "          \"\"\").show()"
      ],
      "execution_count": null,
      "outputs": [
        {
          "output_type": "stream",
          "name": "stdout",
          "text": [
            "+-----+---------------+---+--------------------+-------------------+--------------------+-------+---------+--------------------+--------------------+--------+-------+-------+--------------+------------------------+---------+-----------+--------------+---------+---------+--------+-------------+------------+-----------+--------------------+------+----------+------+----------+--------+---------+---------------+------------+-------+---------+-----+----------+-----------+-----------+------------+-----------+-------+---------+-------+---------+-------+-------+--------+---------+----------+-------------+-----------+------+---------+---------+-------+--------------+-------------+--------+----------+---------+-------------+----------+-----------------+-------+---------+---------+\n",
            "|   ID|           Name|Age|               Photo|        Nationality|                Flag|Overall|Potential|                Club|           Club Logo|value(M)|wage(K)|Special|Preferred Foot|International Reputation|Weak Foot|Skill Moves|     Work Rate|Body Type|Real Face|Position|Jersey Number|      Joined|Loaned From|Contract Valid Until|Height|Height(CM)|Weight|Weight(KG)|Crossing|Finishing|HeadingAccuracy|ShortPassing|Volleys|Dribbling|Curve|FKAccuracy|LongPassing|BallControl|Acceleration|SprintSpeed|Agility|Reactions|Balance|ShotPower|Jumping|Stamina|Strength|LongShots|Aggression|Interceptions|Positioning|Vision|Penalties|Composure|Marking|StandingTackle|SlidingTackle|GKDiving|GKHandling|GKKicking|GKPositioning|GKReflexes|Release Clause(M)|overall|potential|value_eur|\n",
            "+-----+---------------+---+--------------------+-------------------+--------------------+-------+---------+--------------------+--------------------+--------+-------+-------+--------------+------------------------+---------+-----------+--------------+---------+---------+--------+-------------+------------+-----------+--------------------+------+----------+------+----------+--------+---------+---------------+------------+-------+---------+-----+----------+-----------+-----------+------------+-----------+-------+---------+-------+---------+-------+-------+--------+---------+----------+-------------+-----------+------+---------+---------+-------+--------------+-------------+--------+----------+---------+-------------+----------+-----------------+-------+---------+---------+\n",
            "|   16|   Luis Garc��a| 37|https://cdn.sofif...|              Spain|https://cdn.sofif...|     71|       71|           KAS Eupen|https://cdn.sofif...|    750K|      6|   1906|         Right|                       1|        4|          3|Medium/ Medium|     Lean|       No|     RCM|           10|Jul 19, 2014|       null|                2019|   5.1|   155.448| 143.0| 64.863656|      68|       64|             61|          76|     68|       69|   79|        79|         71|         71|          56|         50|     62|       65|     72|       75|     54|     64|      60|       71|        71|           71|         72|    73|       75|       79|     70|            43|           40|       9|        12|       13|           11|        11|              1.1|   null|     null|     null|\n",
            "|  164|       G. Pinzi| 37|https://cdn.sofif...|              Italy|https://cdn.sofif...|     70|       70|              Padova|https://cdn.sofif...|    240K|      2|   1882|         Right|                       2|        3|          3|     Low/ High|   Normal|       No|     LCM|           11|Aug 31, 2017|       null|                2019|  5.11|  155.7528| 168.0| 76.203456|      63|       53|             62|          69|     61|       66|   58|        54|         64|         67|          65|         62|     69|       67|     63|       71|     69|     74|      67|       65|        75|           70|         61|    65|       65|       68|     74|            71|           66|       5|        15|        7|            6|        13|             372K|   null|     null|     null|\n",
            "|  657|     D. Vaughan| 35|https://cdn.sofif...|              Wales|https://cdn.sofif...|     66|       66|        Notts County|https://cdn.sofif...|    150K|      4|   1781|          Left|                       1|        3|          2|  Medium/ High|   Stocky|       No|     CDM|            8| Jul 6, 2018|       null|                2019|   5.6|   170.688| 154.0| 69.853168|      64|       59|             58|          72|     57|       62|   68|        67|         68|         68|          33|         33|     60|       67|     91|       70|     60|     50|      58|       66|        74|           63|         55|    64|       66|       82|     59|            66|           62|       6|         9|       10|            9|         7|             263K|   null|     null|     null|\n",
            "| 2147|M. Stekelenburg| 35|https://cdn.sofif...|        Netherlands|https://cdn.sofif...|     73|       73|             Everton|https://cdn.sofif...|    950K|     30|   1125|         Right|                       2|        4|          1|Medium/ Medium|     Lean|      Yes|      GK|           22| Jul 4, 2016|       null|                2019|   6.6|   201.168| 203.0| 92.079176|      18|       11|             14|          39|     11|       12|   13|        13|         37|         31|          30|         36|     30|       72|     27|       13|     55|     30|      77|       11|        41|           26|         12|    40|       23|       59|      9|            15|           14|      71|        72|       76|           73|        73|              1.8|     72|       72|   325000|\n",
            "| 3484|      J. O'Shea| 37|https://cdn.sofif...|Republic of Ireland|https://cdn.sofif...|     69|       69|             Reading|https://cdn.sofif...|    140K|     10|   1497|         Right|                       2|        3|          2|Medium/ Medium|   Normal|      Yes|      CB|            4| Jul 1, 2018|       null|                2019|   6.3|   192.024| 185.0|  83.91452|      53|       29|             72|          60|     32|       46|   51|        35|         57|         60|          29|         32|     49|       63|     54|       49|     57|     30|      77|       23|        64|           71|         32|    55|       47|       69|     72|            70|           68|       9|        14|       13|           10|        14|             266K|   null|     null|     null|\n",
            "| 6826|       G. Barry| 37|https://cdn.sofif...|            England|https://cdn.sofif...|     72|       72|West Bromwich Albion|https://cdn.sofif...|    425K|     16|   1878|          Left|                       2|        3|          3|Medium/ Medium|   Normal|      Yes|     CDM|           18|Aug 15, 2017|       null|                2019|   6.0|    182.88| 172.0| 78.017824|      75|       56|             69|          76|     63|       68|   76|        71|         71|         76|          30|         33|     43|       71|     60|       74|     70|     47|      74|       69|        74|           68|         58|    68|       72|       81|     80|            73|           65|       7|        13|        9|            7|        12|             808K|   null|     null|     null|\n",
            "| 7647|    D. Dainelli| 39|https://cdn.sofif...|              Italy|https://cdn.sofif...|     73|       73|             Livorno|https://cdn.sofif...|    270K|      2|   1419|         Right|                       2|        3|          2|   Low/ Medium|     Lean|       No|      CB|            3|Jul 16, 2018|       null|                2019|   6.3|   192.024| 172.0| 78.017824|      28|       22|             73|          56|     19|       52|   40|        31|         64|         55|          30|         33|     30|       70|     34|       69|     74|     32|      79|       31|        69|           83|         16|    25|       30|       75|     73|            76|           70|       6|        12|       14|           13|        10|             419K|   null|     null|     null|\n",
            "| 8205|          Braga| 35|https://cdn.sofif...|           Portugal|https://cdn.sofif...|     70|       70|             CD Aves|https://cdn.sofif...|    750K|      5|   1858|         Right|                       1|        4|          3|Medium/ Medium|   Normal|       No|     LCM|            8| Jul 1, 2017|       null|                2019|  5.11|  155.7528| 165.0|  74.84268|      72|       64|             54|          75|     74|       72|   70|        61|         72|         75|          48|         49|     62|       63|     62|       82|     56|     54|      72|       77|        67|           54|         71|    72|       74|       80|     55|            56|           38|      15|        15|       13|            8|         6|              1.6|   null|     null|     null|\n",
            "| 9833|        D. Boer| 37|https://cdn.sofif...|        Netherlands|https://cdn.sofif...|     69|       69|          PEC Zwolle|https://cdn.sofif...|     70K|      3|   1142|         Right|                       1|        3|          1|Medium/ Medium|   Stocky|       No|      GK|            1| Jul 1, 2017|       null|                2019|   6.4|   195.072| 196.0| 88.904032|      15|       11|             11|          46|     14|       14|   12|        12|         43|         29|          31|         43|     36|       66|     41|       28|     45|     32|      64|       16|        37|           23|         14|    47|       46|       55|     12|            13|           12|      64|        72|       52|           77|        64|             102K|   null|     null|     null|\n",
            "|10466|    S. Ishizaki| 36|https://cdn.sofif...|             Sweden|https://cdn.sofif...|     67|       67|         IF Elfsborg|https://cdn.sofif...|    240K|      2|   1813|         Right|                       1|        3|          3|Medium/ Medium|   Normal|       No|      RM|           24| Jan 8, 2018|       null|                2019|  5.11|  155.7528| 179.0| 81.192968|      72|       59|             48|          69|     66|       68|   74|        69|         71|         70|          64|         57|     73|       68|     72|       66|     60|     61|      69|       68|        43|           43|         66|    69|       68|       69|     65|            51|           38|       6|        13|        6|           10|        11|             300K|   null|     null|     null|\n",
            "|11811|       P. Green| 35|https://cdn.sofif...|Republic of Ireland|https://cdn.sofif...|     63|       63|     Crewe Alexandra|https://cdn.sofif...|    150K|      3|   1791|         Right|                       1|        3|          2|    High/ High|   Normal|       No|      CM|           17| Jul 1, 2018|       null|                2019|   5.7|   173.736| 170.0|  77.11064|      61|       52|             56|          64|     52|       57|   48|        55|         63|         62|          58|         56|     70|       62|     80|       62|     76|     79|      66|       58|        72|           60|         54|    63|       63|       63|     58|            63|           62|      13|        11|       10|           14|        11|             263K|   null|     null|     null|\n",
            "|12940|    E. Pogatetz| 35|https://cdn.sofif...|            Austria|https://cdn.sofif...|     68|       68|           LASK Linz|https://cdn.sofif...|    210K|      3|   1369|          Left|                       2|        2|          2|Medium/ Medium|     Lean|      Yes|      CB|            4| Jul 1, 2017|       null|                2019|   6.3|   192.024| 198.0| 89.811216|      33|       26|             65|          66|     24|       29|   22|        23|         49|         38|          33|         32|     32|       58|     48|       48|     60|     61|      91|       36|        81|           62|         43|    23|       45|       63|     67|            69|           62|       8|         8|        9|           10|         8|             305K|   null|     null|     null|\n",
            "|13883|    D. Whitaker| 37|https://cdn.sofif...|            England|https://cdn.sofif...|     61|       61|   Macclesfield Town|https://cdn.sofif...|     80K|      1|   1708|         Right|                       1|        3|          2|Medium/ Medium|     Lean|       No|     RDM|           23| Aug 8, 2013|       null|                2019|   5.1|   155.448| 161.0| 73.028312|      52|       58|             49|          64|     57|       56|   43|        58|         57|         65|          59|         54|     74|       56|     76|       64|     70|     66|      65|       63|        48|           45|         50|    71|       63|       72|     59|            51|           50|      13|        11|       16|           16|         9|             140K|   null|     null|     null|\n",
            "|14907|    A. Bizzarri| 40|https://cdn.sofif...|          Argentina|https://cdn.sofif...|     76|       76|              Foggia|https://cdn.sofif...|    525K|      2|   1198|         Right|                       2|        3|          1|Medium/ Medium|   Normal|       No|      GK|            1|Jul 17, 2018|       null|                2019|   6.2|   188.976| 196.0| 88.904032|      11|       17|             10|          27|     19|       18|   19|        18|         26|         23|          55|         45|     53|       68|     51|       19|     68|     31|      55|       19|        40|           19|         10|    49|       20|       60|     11|            12|           11|      76|        74|       66|           82|        76|             840K|   null|     null|     null|\n",
            "|16097|     N. Rimando| 39|https://cdn.sofif...|      United States|https://cdn.sofif...|     71|       71|      Real Salt Lake|https://cdn.sofif...|    160K|      3|   1247|         Right|                       1|        4|          1|Medium/ Medium|   Normal|       No|      GK|           18| Jan 1, 2007|       null|                2019|   5.1|   155.448| 183.0| 83.007336|      24|       17|             13|          39|     12|       16|   20|        24|         39|         37|          45|         46|     52|       66|     55|       25|     64|     31|      60|       15|        31|           11|         17|    56|       35|       51|     20|            12|           13|      71|        69|       69|           70|        73|             240K|   null|     null|     null|\n",
            "|16254|      T. Howard| 39|https://cdn.sofif...|      United States|https://cdn.sofif...|     72|       72|     Colorado Rapids|https://cdn.sofif...|    210K|      3|   1199|         Right|                       3|        3|          1|Medium/ Medium|   Normal|      Yes|      GK|            1| Jul 4, 2016|       null|                2019|   6.3|   192.024| 194.0| 87.996848|      16|       13|             12|          33|     12|       13|   14|        14|         32|         29|          49|         39|     38|       68|     50|       26|     69|     26|      74|       15|        34|           17|         13|    57|       33|       54|     18|            12|           14|      72|        73|       72|           72|        70|             305K|   null|     null|     null|\n",
            "|17725|      A. Hughes| 38|https://cdn.sofif...|   Northern Ireland|https://cdn.sofif...|     65|       65| Heart of Midlothian|https://cdn.sofif...|     70K|      2|   1388|         Right|                       2|        3|          2|Medium/ Medium|   Normal|       No|      CB|           16| Jan 9, 2017|       null|                2019|   6.0|    182.88| 154.0| 69.853168|      46|       34|             69|          52|     33|       43|   42|        25|         47|         39|          22|         26|     43|       52|     52|       48|     58|     55|      77|       26|        66|           63|         29|    41|       45|       52|     67|            69|           66|       8|         6|       16|           12|        11|             123K|   null|     null|     null|\n",
            "|18122|   N. Penneteau| 37|https://cdn.sofif...|             France|https://cdn.sofif...|     73|       73|Sporting de Charl...|https://cdn.sofif...|    270K|      6|   1073|          Left|                       2|        3|          1|Medium/ Medium|   Normal|       No|      GK|            1| Aug 7, 2014|       null|                2019|   6.1|   185.928| 190.0|  86.18248|      11|        9|             19|          33|     15|       14|    6|         9|         23|         29|          26|         27|     38|       61|     41|       13|     56|     26|      63|       11|        36|           26|         11|    53|       15|       56|     21|            11|           11|      70|        76|       66|           81|        66|             405K|     73|       73|   400000|\n",
            "|19410|      A. Revell| 34|https://cdn.sofif...|            England|https://cdn.sofif...|     61|       61|           Stevenage|https://cdn.sofif...|    130K|      3|   1515|         Right|                       1|        3|          2|    High/ High|   Normal|       No|      RS|            9|Jan 30, 2018|       null|                2019|   6.3|   192.024| 172.0| 78.017824|      55|       64|             64|          52|     60|       43|   30|        35|         23|         48|          52|         58|     46|       58|     48|       71|     76|     89|      76|       53|        78|           24|         64|    58|       66|       59|     21|            23|           22|      14|        15|        8|            7|        14|             228K|   null|     null|     null|\n",
            "|19521|      J. Ibehre| 35|https://cdn.sofif...|            England|https://cdn.sofif...|     61|       61|    Cambridge United|https://cdn.sofif...|    120K|      2|   1560|         Right|                       1|        2|          2|Medium/ Medium|   Normal|       No|      ST|           14| Jul 1, 2017|       null|                2019|   6.4|   195.072| 203.0| 92.079176|      48|       56|             59|          58|     53|       59|   43|        27|         47|         59|          62|         68|     47|       59|     48|       60|     65|     80|      90|       51|        60|           41|         60|    55|       56|       60|     41|            32|           31|       7|         9|       11|            9|         9|             210K|   null|     null|     null|\n",
            "+-----+---------------+---+--------------------+-------------------+--------------------+-------+---------+--------------------+--------------------+--------+-------+-------+--------------+------------------------+---------+-----------+--------------+---------+---------+--------+-------------+------------+-----------+--------------------+------+----------+------+----------+--------+---------+---------------+------------+-------+---------+-----+----------+-----------+-----------+------------+-----------+-------+---------+-------+---------+-------+-------+--------+---------+----------+-------------+-----------+------+---------+---------+-------+--------------+-------------+--------+----------+---------+-------------+----------+-----------------+-------+---------+---------+\n",
            "only showing top 20 rows\n",
            "\n"
          ]
        }
      ]
    },
    {
      "cell_type": "markdown",
      "metadata": {
        "id": "a-Q5C-fLW4iT"
      },
      "source": [
        "The players' values in 2019 have K to indicate 1000. We will transform this column into a numerical feature by multiplying with 1000 in our data processing. "
      ]
    },
    {
      "cell_type": "markdown",
      "metadata": {
        "id": "Qhw_gxsh_VK4"
      },
      "source": [
        "All the issues seen above have to be dealt with before proceeding to further analysis. To deal with those issues, a separate python script has been developed which we will import later on in this analysis to create dataframes that are free from complications seen above."
      ]
    },
    {
      "cell_type": "markdown",
      "metadata": {
        "id": "sF3HvXJYfDpE"
      },
      "source": [
        "### 1.2 Data Preprocessing\n",
        "***"
      ]
    },
    {
      "cell_type": "markdown",
      "metadata": {
        "id": "8txlnp7Gi2dO"
      },
      "source": [
        "**Creating Pipelines for Data Preprocessing:**"
      ]
    },
    {
      "cell_type": "markdown",
      "metadata": {
        "id": "GoVgxnkCoNnL"
      },
      "source": [
        "In this stage, we create a pipeline for generating a dataframe suitable for classifying players' growth applying the necessary steps determined in the previous steps and the logic which mainly form the players' growth classification. Depending on the task, certain operations are omitted in the pipeline. For example, for classification, we will not use the ValueImputer function to impute missing values for players' monetary values in 2019 and 2021 as classification is done independently of these two columns.\n",
        "\n",
        "Note: the modules used to generate the classification dataframe can be found in the github repository for this project."
      ]
    },
    {
      "cell_type": "markdown",
      "metadata": {
        "id": "rNwl_W74wdO8"
      },
      "source": [
        "Here, we import two python scripts containing transformers that we developed according to our examination in the previous section. The first python script is data_preprocessor.py which contains classes such as ValueManipulator, UnifyValue and ValueImputer. The second script is target_generator, and it contains classes such as ProfitGenerator and GrowthGenerator."
      ]
    },
    {
      "cell_type": "code",
      "metadata": {
        "id": "4mke06-ruVw_"
      },
      "source": [
        "!rm -rf FIFA_2019"
      ],
      "execution_count": null,
      "outputs": []
    },
    {
      "cell_type": "code",
      "metadata": {
        "colab": {
          "base_uri": "https://localhost:8080/"
        },
        "id": "_fdds9u6VFN0",
        "outputId": "105b960f-4156-4a66-9263-6e5610be689a"
      },
      "source": [
        "# only for google colab\n",
        "!git clone https://github.com/Gooner12/FIFA_2019.git FIFA_2019\n",
        "!mv \"/content/FIFA_2019/data_preprocessor.py\" \"/content/\"\n",
        "!mv \"/content/FIFA_2019/target_generator.py\" \"/content/\"\n",
        "!mv \"/content/FIFA_2019/encoder.py\" \"/content/\""
      ],
      "execution_count": 12,
      "outputs": [
        {
          "output_type": "stream",
          "name": "stdout",
          "text": [
            "Cloning into 'FIFA_2019'...\n",
            "remote: Enumerating objects: 336, done.\u001b[K\n",
            "remote: Counting objects: 100% (336/336), done.\u001b[K\n",
            "remote: Compressing objects: 100% (213/213), done.\u001b[K\n",
            "remote: Total 336 (delta 192), reused 225 (delta 122), pack-reused 0\u001b[K\n",
            "Receiving objects: 100% (336/336), 5.38 MiB | 10.92 MiB/s, done.\n",
            "Resolving deltas: 100% (192/192), done.\n"
          ]
        }
      ]
    },
    {
      "cell_type": "code",
      "metadata": {
        "id": "6A8GtAe9pBHP"
      },
      "source": [
        "from pyspark.ml import Pipeline\n",
        "import data_preprocessor, target_generator\n",
        "\n",
        "# defining the stage that changes the units of players' values in 2021 along with renaming columns based on the year \n",
        "value_manipulation = data_preprocessor.ValueManipulator()\n",
        "# defining the stage that standardises the players' values in 2019 to millions\n",
        "value_standardisation = data_preprocessor.UnifyValue()\n",
        "# defining the stage that imputes and removes missing values present in the potential column for 2021\n",
        "value_imputation = data_preprocessor.ValueImputer('Potential_2019', 'Potential_2021', 1)\n",
        "# defining the stage that generates labels based on the potential to grow in two years\n",
        "classification_target = target_generator.GrowthGenerator()"
      ],
      "execution_count": 13,
      "outputs": []
    },
    {
      "cell_type": "markdown",
      "metadata": {
        "id": "LJUWIYtEtm_I"
      },
      "source": [
        "DataFrame for Classification"
      ]
    },
    {
      "cell_type": "code",
      "metadata": {
        "id": "rk_4RlvNtrZu",
        "colab": {
          "base_uri": "https://localhost:8080/"
        },
        "outputId": "2ed0be6c-3632-4b84-bcb8-48439a86cad2"
      },
      "source": [
        "# creating a pipeline to generate a dataframe for classification\n",
        "pipeline_classification = Pipeline(stages=[value_manipulation, value_standardisation, value_imputation, classification_target])\n",
        "# fitting the pipeline model and transforming the data as defined\n",
        "pipeline_model = pipeline_classification.fit(train_df)\n",
        "classification_df = pipeline_model.transform(train_df)\n",
        "classification_df.cache()"
      ],
      "execution_count": 14,
      "outputs": [
        {
          "output_type": "stream",
          "name": "stdout",
          "text": [
            "The age bracket 1 has average variation of 0.004724\n",
            "The age bracket 2 has average variation of -0.017822\n",
            "The age bracket 3 has average variation of -0.013099\n",
            "The age bracket 4 has average variation of -0.019257\n",
            "The age bracket 5 has average variation of -0.027886\n",
            "The age bracket 6 has average variation of 0.015873\n"
          ]
        },
        {
          "output_type": "execute_result",
          "data": {
            "text/plain": [
              "DataFrame[ID: int, Name: string, Age: int, Photo: string, Nationality: string, Flag: string, Overall_2019: int, Potential_2019: int, Club: string, Club Logo: string, Value_2019(M): float, wage(K): int, Special: int, Preferred Foot: string, International Reputation: int, Weak Foot: int, Skill Moves: int, Work Rate: string, Body Type: string, Real Face: string, Position: string, Jersey Number: int, Joined: string, Loaned From: string, Contract Valid Until: string, Height: double, Height(CM): double, Weight: double, Weight(KG): double, Crossing: int, Finishing: int, HeadingAccuracy: int, ShortPassing: int, Volleys: int, Dribbling: int, Curve: int, FKAccuracy: int, LongPassing: int, BallControl: int, Acceleration: int, SprintSpeed: int, Agility: int, Reactions: int, Balance: int, ShotPower: int, Jumping: int, Stamina: int, Strength: int, LongShots: int, Aggression: int, Interceptions: int, Positioning: int, Vision: int, Penalties: int, Composure: int, Marking: int, StandingTackle: int, SlidingTackle: int, GKDiving: int, GKHandling: int, GKKicking: int, GKPositioning: int, GKReflexes: int, Release Clause(M): string, Overall_2021: int, Potential_2021: double, Value_2021(M): double, Growth_Level: string]"
            ]
          },
          "metadata": {},
          "execution_count": 14
        }
      ]
    },
    {
      "cell_type": "markdown",
      "metadata": {
        "id": "IEOakD6kwmRB"
      },
      "source": [
        "The above variation levels are used for imputing the test data so that the imputations are done with the same variations for both training and test data."
      ]
    },
    {
      "cell_type": "code",
      "metadata": {
        "colab": {
          "base_uri": "https://localhost:8080/"
        },
        "id": "TEGEnD4ylsZ1",
        "outputId": "3fb55ab2-348f-4fc7-eadc-b5d69e3b31d1"
      },
      "source": [
        "# checking the missing values after data preprocessing\n",
        "classification_df.select([F.count(F.when(F.isnull(cols), cols)).alias(cols) for cols in classification_df.columns]).show()"
      ],
      "execution_count": 15,
      "outputs": [
        {
          "output_type": "stream",
          "name": "stdout",
          "text": [
            "+---+----+---+-----+-----------+----+------------+--------------+----+---------+-------------+-------+-------+--------------+------------------------+---------+-----------+---------+---------+---------+--------+-------------+------+-----------+--------------------+------+----------+------+----------+--------+---------+---------------+------------+-------+---------+-----+----------+-----------+-----------+------------+-----------+-------+---------+-------+---------+-------+-------+--------+---------+----------+-------------+-----------+------+---------+---------+-------+--------------+-------------+--------+----------+---------+-------------+----------+-----------------+------------+--------------+-------------+------------+\n",
            "| ID|Name|Age|Photo|Nationality|Flag|Overall_2019|Potential_2019|Club|Club Logo|Value_2019(M)|wage(K)|Special|Preferred Foot|International Reputation|Weak Foot|Skill Moves|Work Rate|Body Type|Real Face|Position|Jersey Number|Joined|Loaned From|Contract Valid Until|Height|Height(CM)|Weight|Weight(KG)|Crossing|Finishing|HeadingAccuracy|ShortPassing|Volleys|Dribbling|Curve|FKAccuracy|LongPassing|BallControl|Acceleration|SprintSpeed|Agility|Reactions|Balance|ShotPower|Jumping|Stamina|Strength|LongShots|Aggression|Interceptions|Positioning|Vision|Penalties|Composure|Marking|StandingTackle|SlidingTackle|GKDiving|GKHandling|GKKicking|GKPositioning|GKReflexes|Release Clause(M)|Overall_2021|Potential_2021|Value_2021(M)|Growth_Level|\n",
            "+---+----+---+-----+-----------+----+------------+--------------+----+---------+-------------+-------+-------+--------------+------------------------+---------+-----------+---------+---------+---------+--------+-------------+------+-----------+--------------------+------+----------+------+----------+--------+---------+---------------+------------+-------+---------+-----+----------+-----------+-----------+------------+-----------+-------+---------+-------+---------+-------+-------+--------+---------+----------+-------------+-----------+------+---------+---------+-------+--------------+-------------+--------+----------+---------+-------------+----------+-----------------+------------+--------------+-------------+------------+\n",
            "|  0|   0|  0|    0|          0|   0|           0|             0| 162|        0|          168|    162|      0|             0|                       0|        0|          0|        0|        0|        0|       0|            0|  1118|      11971|                 162|     0|         0|     0|         0|       0|        0|              0|           0|      0|        0|    0|         0|          0|          0|           0|          0|      0|        0|      0|        0|      0|      0|       0|        0|         0|            0|          0|     0|        0|        0|      0|             0|            0|       0|         0|        0|            0|         0|             1124|        4942|             0|         4942|           0|\n",
            "+---+----+---+-----+-----------+----+------------+--------------+----+---------+-------------+-------+-------+--------------+------------------------+---------+-----------+---------+---------+---------+--------+-------------+------+-----------+--------------------+------+----------+------+----------+--------+---------+---------------+------------+-------+---------+-----+----------+-----------+-----------+------------+-----------+-------+---------+-------+---------+-------+-------+--------+---------+----------+-------------+-----------+------+---------+---------+-------+--------------+-------------+--------+----------+---------+-------------+----------+-----------------+------------+--------------+-------------+------------+\n",
            "\n"
          ]
        }
      ]
    },
    {
      "cell_type": "markdown",
      "metadata": {
        "id": "O5J-9Z_pm1Q2"
      },
      "source": [
        "From above, we can see that the missing values in potential for 2021 has been fixed."
      ]
    },
    {
      "cell_type": "code",
      "metadata": {
        "colab": {
          "base_uri": "https://localhost:8080/"
        },
        "id": "VhqKtlrgt7Vu",
        "outputId": "cdd4abf7-6f2b-409c-f4a0-95016a088f26"
      },
      "source": [
        "classification_df.printSchema()"
      ],
      "execution_count": 16,
      "outputs": [
        {
          "output_type": "stream",
          "name": "stdout",
          "text": [
            "root\n",
            " |-- ID: integer (nullable = true)\n",
            " |-- Name: string (nullable = true)\n",
            " |-- Age: integer (nullable = true)\n",
            " |-- Photo: string (nullable = true)\n",
            " |-- Nationality: string (nullable = true)\n",
            " |-- Flag: string (nullable = true)\n",
            " |-- Overall_2019: integer (nullable = true)\n",
            " |-- Potential_2019: integer (nullable = true)\n",
            " |-- Club: string (nullable = true)\n",
            " |-- Club Logo: string (nullable = true)\n",
            " |-- Value_2019(M): float (nullable = true)\n",
            " |-- wage(K): integer (nullable = true)\n",
            " |-- Special: integer (nullable = true)\n",
            " |-- Preferred Foot: string (nullable = true)\n",
            " |-- International Reputation: integer (nullable = true)\n",
            " |-- Weak Foot: integer (nullable = true)\n",
            " |-- Skill Moves: integer (nullable = true)\n",
            " |-- Work Rate: string (nullable = true)\n",
            " |-- Body Type: string (nullable = true)\n",
            " |-- Real Face: string (nullable = true)\n",
            " |-- Position: string (nullable = true)\n",
            " |-- Jersey Number: integer (nullable = true)\n",
            " |-- Joined: string (nullable = true)\n",
            " |-- Loaned From: string (nullable = true)\n",
            " |-- Contract Valid Until: string (nullable = true)\n",
            " |-- Height: double (nullable = true)\n",
            " |-- Height(CM): double (nullable = true)\n",
            " |-- Weight: double (nullable = true)\n",
            " |-- Weight(KG): double (nullable = true)\n",
            " |-- Crossing: integer (nullable = true)\n",
            " |-- Finishing: integer (nullable = true)\n",
            " |-- HeadingAccuracy: integer (nullable = true)\n",
            " |-- ShortPassing: integer (nullable = true)\n",
            " |-- Volleys: integer (nullable = true)\n",
            " |-- Dribbling: integer (nullable = true)\n",
            " |-- Curve: integer (nullable = true)\n",
            " |-- FKAccuracy: integer (nullable = true)\n",
            " |-- LongPassing: integer (nullable = true)\n",
            " |-- BallControl: integer (nullable = true)\n",
            " |-- Acceleration: integer (nullable = true)\n",
            " |-- SprintSpeed: integer (nullable = true)\n",
            " |-- Agility: integer (nullable = true)\n",
            " |-- Reactions: integer (nullable = true)\n",
            " |-- Balance: integer (nullable = true)\n",
            " |-- ShotPower: integer (nullable = true)\n",
            " |-- Jumping: integer (nullable = true)\n",
            " |-- Stamina: integer (nullable = true)\n",
            " |-- Strength: integer (nullable = true)\n",
            " |-- LongShots: integer (nullable = true)\n",
            " |-- Aggression: integer (nullable = true)\n",
            " |-- Interceptions: integer (nullable = true)\n",
            " |-- Positioning: integer (nullable = true)\n",
            " |-- Vision: integer (nullable = true)\n",
            " |-- Penalties: integer (nullable = true)\n",
            " |-- Composure: integer (nullable = true)\n",
            " |-- Marking: integer (nullable = true)\n",
            " |-- StandingTackle: integer (nullable = true)\n",
            " |-- SlidingTackle: integer (nullable = true)\n",
            " |-- GKDiving: integer (nullable = true)\n",
            " |-- GKHandling: integer (nullable = true)\n",
            " |-- GKKicking: integer (nullable = true)\n",
            " |-- GKPositioning: integer (nullable = true)\n",
            " |-- GKReflexes: integer (nullable = true)\n",
            " |-- Release Clause(M): string (nullable = true)\n",
            " |-- Overall_2021: integer (nullable = true)\n",
            " |-- Potential_2021: double (nullable = true)\n",
            " |-- Value_2021(M): double (nullable = true)\n",
            " |-- Growth_Level: string (nullable = true)\n",
            "\n"
          ]
        }
      ]
    },
    {
      "cell_type": "markdown",
      "metadata": {
        "id": "WLmbdIwpvr3-"
      },
      "source": [
        "**Data Processing for Test Data:**"
      ]
    },
    {
      "cell_type": "markdown",
      "metadata": {
        "id": "ZT34dvV2vyZJ"
      },
      "source": [
        "In this section, we apply all the steps that have been applied to the training data to the validation data. The only change in the processing for validation data is that we should impute the missing values for the potential column for the year 2021 with the variation that has been recorded during the training data imputation. For this, we need to import a separate script to perform the imputation for validation data."
      ]
    },
    {
      "cell_type": "code",
      "metadata": {
        "id": "6nyJlVrawhuQ"
      },
      "source": [
        "!mv \"/content/FIFA_2019/data_preprocessor_test.py\" \"/content/\""
      ],
      "execution_count": 17,
      "outputs": []
    },
    {
      "cell_type": "code",
      "metadata": {
        "id": "jSMTyb5exmY9"
      },
      "source": [
        "# creating a classification dataframe from validation data\n",
        "import data_preprocessor_test\n",
        "\n",
        "# creating a list containing the variations for different age brackets obtained from the last step\n",
        "variation_list = [0.004724, -0.017822, -0.013099, -0.019257, -0.027886, 0.015873]\n",
        "\n",
        "# defining the stage that changes the units of players' values in 2021 along with renaming columns based on the year \n",
        "value_manipulation = data_preprocessor.ValueManipulator()\n",
        "# defining the stage that standardises the players' values in 2019 to millions\n",
        "value_standardisation = data_preprocessor.UnifyValue()\n",
        "# defining the stage that imputes and removes missing values present in the potential column for 2021\n",
        "value_imputation = data_preprocessor_test.ValueImputer(variation_list, 'Potential_2019', 'Potential_2021', 1)\n",
        "# defining the stage that generates labels based on the potential to grow in two years\n",
        "classification_target = target_generator.GrowthGenerator()"
      ],
      "execution_count": 18,
      "outputs": []
    },
    {
      "cell_type": "code",
      "metadata": {
        "colab": {
          "base_uri": "https://localhost:8080/"
        },
        "id": "Kjddl2BfyIAZ",
        "outputId": "b3ac0696-4924-40f6-ebf4-751305f8f3b9"
      },
      "source": [
        "# creating a pipeline to generate a dataframe for classification\n",
        "pipeline_classification = Pipeline(stages=[value_manipulation, value_standardisation, value_imputation, classification_target])\n",
        "# fitting the pipeline model and transforming the data as defined\n",
        "pipeline_model = pipeline_classification.fit(validation_df)\n",
        "classification_df2 = pipeline_model.transform(validation_df)\n",
        "classification_df2.cache()"
      ],
      "execution_count": 19,
      "outputs": [
        {
          "output_type": "execute_result",
          "data": {
            "text/plain": [
              "DataFrame[ID: int, Name: string, Age: int, Photo: string, Nationality: string, Flag: string, Overall_2019: int, Potential_2019: int, Club: string, Club Logo: string, Value_2019(M): float, wage(K): int, Special: int, Preferred Foot: string, International Reputation: int, Weak Foot: int, Skill Moves: int, Work Rate: string, Body Type: string, Real Face: string, Position: string, Jersey Number: int, Joined: string, Loaned From: string, Contract Valid Until: string, Height: double, Height(CM): double, Weight: double, Weight(KG): double, Crossing: int, Finishing: int, HeadingAccuracy: int, ShortPassing: int, Volleys: int, Dribbling: int, Curve: int, FKAccuracy: int, LongPassing: int, BallControl: int, Acceleration: int, SprintSpeed: int, Agility: int, Reactions: int, Balance: int, ShotPower: int, Jumping: int, Stamina: int, Strength: int, LongShots: int, Aggression: int, Interceptions: int, Positioning: int, Vision: int, Penalties: int, Composure: int, Marking: int, StandingTackle: int, SlidingTackle: int, GKDiving: int, GKHandling: int, GKKicking: int, GKPositioning: int, GKReflexes: int, Release Clause(M): string, Overall_2021: int, Potential_2021: double, Value_2021(M): double, Growth_Level: string]"
            ]
          },
          "metadata": {},
          "execution_count": 19
        }
      ]
    },
    {
      "cell_type": "code",
      "metadata": {
        "colab": {
          "base_uri": "https://localhost:8080/"
        },
        "id": "phmVVHj_0xjz",
        "outputId": "8388ef8b-4fd5-4d78-ea46-c4d4b88078e1"
      },
      "source": [
        "# checking the missing values after data preprocessing\n",
        "classification_df2.select([F.count(F.when(F.isnull(cols), cols)).alias(cols) for cols in classification_df2.columns]).show()"
      ],
      "execution_count": 20,
      "outputs": [
        {
          "output_type": "stream",
          "name": "stdout",
          "text": [
            "+---+----+---+-----+-----------+----+------------+--------------+----+---------+-------------+-------+-------+--------------+------------------------+---------+-----------+---------+---------+---------+--------+-------------+------+-----------+--------------------+------+----------+------+----------+--------+---------+---------------+------------+-------+---------+-----+----------+-----------+-----------+------------+-----------+-------+---------+-------+---------+-------+-------+--------+---------+----------+-------------+-----------+------+---------+---------+-------+--------------+-------------+--------+----------+---------+-------------+----------+-----------------+------------+--------------+-------------+------------+\n",
            "| ID|Name|Age|Photo|Nationality|Flag|Overall_2019|Potential_2019|Club|Club Logo|Value_2019(M)|wage(K)|Special|Preferred Foot|International Reputation|Weak Foot|Skill Moves|Work Rate|Body Type|Real Face|Position|Jersey Number|Joined|Loaned From|Contract Valid Until|Height|Height(CM)|Weight|Weight(KG)|Crossing|Finishing|HeadingAccuracy|ShortPassing|Volleys|Dribbling|Curve|FKAccuracy|LongPassing|BallControl|Acceleration|SprintSpeed|Agility|Reactions|Balance|ShotPower|Jumping|Stamina|Strength|LongShots|Aggression|Interceptions|Positioning|Vision|Penalties|Composure|Marking|StandingTackle|SlidingTackle|GKDiving|GKHandling|GKKicking|GKPositioning|GKReflexes|Release Clause(M)|Overall_2021|Potential_2021|Value_2021(M)|Growth_Level|\n",
            "+---+----+---+-----+-----------+----+------------+--------------+----+---------+-------------+-------+-------+--------------+------------------------+---------+-----------+---------+---------+---------+--------+-------------+------+-----------+--------------------+------+----------+------+----------+--------+---------+---------------+------------+-------+---------+-----+----------+-----------+-----------+------------+-----------+-------+---------+-------+---------+-------+-------+--------+---------+----------+-------------+-----------+------+---------+---------+-------+--------------+-------------+--------+----------+---------+-------------+----------+-----------------+------------+--------------+-------------+------------+\n",
            "|  0|   0|  0|    0|          0|   0|           0|             0|  34|        0|           36|     34|      0|             0|                       0|        0|          0|        0|        0|        0|       0|            0|   253|       2976|                  34|     0|         0|     0|         0|       0|        0|              0|           0|      0|        0|    0|         0|          0|          0|           0|          0|      0|        0|      0|        0|      0|      0|       0|        0|         0|            0|          0|     0|        0|        0|      0|             0|            0|       0|         0|        0|            0|         0|              255|        1241|             0|         1241|           0|\n",
            "+---+----+---+-----+-----------+----+------------+--------------+----+---------+-------------+-------+-------+--------------+------------------------+---------+-----------+---------+---------+---------+--------+-------------+------+-----------+--------------------+------+----------+------+----------+--------+---------+---------------+------------+-------+---------+-----+----------+-----------+-----------+------------+-----------+-------+---------+-------+---------+-------+-------+--------+---------+----------+-------------+-----------+------+---------+---------+-------+--------------+-------------+--------+----------+---------+-------------+----------+-----------------+------------+--------------+-------------+------------+\n",
            "\n"
          ]
        }
      ]
    },
    {
      "cell_type": "markdown",
      "metadata": {
        "id": "yxHvOXXIM4U7"
      },
      "source": [
        "**Data Visualisation:**"
      ]
    },
    {
      "cell_type": "markdown",
      "metadata": {
        "id": "8hDMBuBFNHuA"
      },
      "source": [
        "In this part, we explore the relationship between independent variables and the target variable."
      ]
    },
    {
      "cell_type": "code",
      "metadata": {
        "colab": {
          "base_uri": "https://localhost:8080/",
          "height": 1000
        },
        "id": "lEat4joXNW7f",
        "outputId": "0532b229-290e-439a-c73a-268e922dc756"
      },
      "source": [
        "import pandas as pd\n",
        "import numpy as np\n",
        "import matplotlib.pyplot as plt\n",
        "%matplotlib inline\n",
        "# selecting only relevant features and dividing the features into numerical and categorical features \n",
        "features_col_numerical = ['Age', 'Height(CM)', 'Weight(KG)', \n",
        "                      'Crossing', 'Finishing', 'HeadingAccuracy', \n",
        "                      'ShortPassing', 'Volleys', 'Dribbling', 'Curve',\n",
        "                      'FKAccuracy', 'LongPassing', 'BallControl', \n",
        "                      'Acceleration', 'SprintSpeed', 'Agility', \n",
        "                      'Reactions', 'Balance', 'ShotPower', 'Jumping', \n",
        "                      'Stamina', 'Strength', 'LongShots', 'Aggression', \n",
        "                      'Interceptions', 'Positioning', 'Vision', 'Penalties', \n",
        "                      'Composure', 'Marking', 'StandingTackle', 'SlidingTackle', 'Overall_2019']\n",
        "features_col_categorical = ['International Reputation', 'Growth_Level']\n",
        "\n",
        "# for numerical feature we use histograms and for cateorical we use bar charts to understand the distribution\n",
        "temp_df = classification_df.toPandas()\n",
        "rows = int(len(features_col_numerical)/3)+1\n",
        "cols = 3\n",
        "\n",
        "def plotter(df, features, rows, col, width, height, type):\n",
        "  fig = plt.figure(figsize=(width,height))\n",
        "  for i, col in enumerate(df[features]):\n",
        "    ax = fig.add_subplot(rows, cols, i+1)\n",
        "    if type == 'numerical':\n",
        "      df.hist(column=col, ax=ax, bins=20)\n",
        "      ax.set_title('Distribution for '+col)\n",
        "    elif type == 'categorical':\n",
        "      df2 = df.groupby(col).size().reset_index(name='count')\n",
        "      #ax = df2.plot.bar(x=col, y='count')\n",
        "      ax.bar(df2[col], df2['count'])\n",
        "      ax.set_title('Distribution for '+col)\n",
        "    \n",
        "\n",
        "  fig.tight_layout()  \n",
        "  plt.show()\n",
        "\n",
        "# producing charts\n",
        "plotter(temp_df, features_col_numerical, int(len(features_col_numerical)/3)+1, 3, 10, 30, 'numerical')\n",
        "plotter(temp_df, features_col_categorical, int(len(features_col_categorical)/3)+1, 2, 20, 3, 'categorical')"
      ],
      "execution_count": null,
      "outputs": [
        {
          "output_type": "display_data",
          "data": {
            "image/png": "[encoded data removed]",
            "text/plain": [
              "<Figure size 720x2160 with 33 Axes>"
            ]
          },
          "metadata": {
            "needs_background": "light"
          }
        },
        {
          "output_type": "display_data",
          "data": {
            "image/png": "[encoded data removed]",
            "text/plain": [
              "<Figure size 1440x216 with 2 Axes>"
            ]
          },
          "metadata": {
            "needs_background": "light"
          }
        }
      ]
    },
    {
      "cell_type": "markdown",
      "metadata": {
        "id": "nNN0bDiSglrg"
      },
      "source": [
        "From the above distribution of both numerical and categorical variables, it is seen that numerical variables are normally distributed to some level and there is a bias present in both categorical variables. For International Reputation we have many players with a low reputation of 1 and fewer players with a high reputation of 5. We can see that the number of players is in decreasing order of their reputation. Similarly, for Growth Level, No_Growth players are high and high_growth players are low. Similar to reputation, the number of players are in descending order of their growth potential."
      ]
    },
    {
      "cell_type": "markdown",
      "metadata": {
        "id": "e66sZKQF7SEn"
      },
      "source": [
        "## Part 2 - Data Manipulation & Transformation\n",
        "\n",
        "### 2.0. Data Preparation\n",
        "We try to categorise the growth of players using the attributes that determine a players' capability for a position and their status that might impact the future of a player.\n",
        "***"
      ]
    },
    {
      "cell_type": "markdown",
      "metadata": {
        "id": "Jv45L3DTTVXm"
      },
      "source": [
        "**Preprocessor Function:**"
      ]
    },
    {
      "cell_type": "code",
      "metadata": {
        "id": "J77D34Z8RVXC"
      },
      "source": [
        "from pyspark.ml.feature import VectorAssembler\n",
        "from pyspark.ml.feature import StandardScaler\n",
        "\n",
        "def steps_processor(features_col, df, weight=None):\n",
        "  # encoding the target or labels\n",
        "  target_encode = df.withColumn('Target', when(col('Growth_Level') == 'No_Growth', 0).when(col('Growth_Level') == 'Low_Growth', 1) \\\n",
        "                               .when(col('Growth_Level') == 'Mid_Growth', 2).otherwise(3))\n",
        "\n",
        "  # creating a feature vector\n",
        "  vec_assembler = VectorAssembler(inputCols=features_col, outputCol='features')\n",
        "  if weight is None:\n",
        "    df_class = vec_assembler.transform(target_encode).select('features','Growth_Level', 'Target')\n",
        "  elif weight is not None:\n",
        "    df_class = vec_assembler.transform(target_encode).select('features', 'Growth_Level', 'Target', weight)\n",
        "\n",
        "  # scaling the feature vector\n",
        "  standardscaler = StandardScaler().setInputCol('features').setOutputCol('Scaled_features')\n",
        "  raw_data = standardscaler.fit(df_class).transform(df_class)\n",
        "\n",
        "  return raw_data"
      ],
      "execution_count": 21,
      "outputs": []
    },
    {
      "cell_type": "code",
      "metadata": {
        "id": "wuo1mC40S6U8"
      },
      "source": [
        "features_col = ['Age', 'International Reputation', 'Height(CM)', 'Weight(KG)', \n",
        "                      'Crossing', 'Finishing', 'HeadingAccuracy', \n",
        "                      'ShortPassing', 'Volleys', 'Dribbling', 'Curve',\n",
        "                      'FKAccuracy', 'LongPassing', 'BallControl', \n",
        "                      'Acceleration', 'SprintSpeed', 'Agility', \n",
        "                      'Reactions', 'Balance', 'ShotPower', 'Jumping', \n",
        "                      'Stamina', 'Strength', 'LongShots', 'Aggression', \n",
        "                      'Interceptions', 'Positioning', 'Vision', 'Penalties', \n",
        "                      'Composure', 'Marking', 'StandingTackle', 'SlidingTackle', 'Overall_2019']\n",
        "train = steps_processor(features_col, classification_df)\n",
        "test = steps_processor(features_col, classification_df2)"
      ],
      "execution_count": 22,
      "outputs": []
    },
    {
      "cell_type": "markdown",
      "metadata": {
        "id": "MO4W0cNazfHV"
      },
      "source": [
        "Next, we compare three baseline models and select the best baseline model for further tuning in the later step."
      ]
    },
    {
      "cell_type": "code",
      "metadata": {
        "id": "CnONGzgsFs8F"
      },
      "source": [
        "# this function expects one or all of logistic, random forest and decision tree \n",
        "def classification_model(dict_model, train, test):\n",
        "  dict_models = {}\n",
        "  for i in dict_model:\n",
        "    model = dict_model[i].fit(train)\n",
        "    predict_train = model.transform(train)\n",
        "    predict_test = model.transform(test)\n",
        "    dict_models[i] = [predict_train, predict_test]\n",
        "  return dict_models"
      ],
      "execution_count": 23,
      "outputs": []
    },
    {
      "cell_type": "code",
      "metadata": {
        "id": "c38UY0yCw6HG"
      },
      "source": [
        "from pyspark.ml.classification import LogisticRegression, RandomForestClassifier, DecisionTreeClassifier\n",
        "\n",
        "lr = LogisticRegression(labelCol='Target', featuresCol='Scaled_features', maxIter=100)\n",
        "rf = RandomForestClassifier(labelCol='Target', featuresCol='Scaled_features', numTrees=20, maxDepth=5,\\\n",
        "                                            impurity='gini', maxBins=32, seed=2020)\n",
        "dt = DecisionTreeClassifier(labelCol='Target', featuresCol='Scaled_features', maxDepth=5, maxBins=32, impurity='gini', seed=2020)\n",
        "model_list = {'Logistic Regression' : lr, 'Random Forest' : rf, 'Decision Tree' : dt}\n",
        "dict_models = classification_model(model_list, train, test)"
      ],
      "execution_count": 24,
      "outputs": []
    },
    {
      "cell_type": "code",
      "metadata": {
        "colab": {
          "base_uri": "https://localhost:8080/"
        },
        "id": "pJHRGrMaxxvx",
        "outputId": "c31251cd-e835-4185-ae34-5e5b277b1b44"
      },
      "source": [
        "dict_models"
      ],
      "execution_count": 25,
      "outputs": [
        {
          "output_type": "execute_result",
          "data": {
            "text/plain": [
              "{'Decision Tree': [DataFrame[features: vector, Growth_Level: string, Target: int, Scaled_features: vector, rawPrediction: vector, probability: vector, prediction: double],\n",
              "  DataFrame[features: vector, Growth_Level: string, Target: int, Scaled_features: vector, rawPrediction: vector, probability: vector, prediction: double]],\n",
              " 'Logistic Regression': [DataFrame[features: vector, Growth_Level: string, Target: int, Scaled_features: vector, rawPrediction: vector, probability: vector, prediction: double],\n",
              "  DataFrame[features: vector, Growth_Level: string, Target: int, Scaled_features: vector, rawPrediction: vector, probability: vector, prediction: double]],\n",
              " 'Random Forest': [DataFrame[features: vector, Growth_Level: string, Target: int, Scaled_features: vector, rawPrediction: vector, probability: vector, prediction: double],\n",
              "  DataFrame[features: vector, Growth_Level: string, Target: int, Scaled_features: vector, rawPrediction: vector, probability: vector, prediction: double]]}"
            ]
          },
          "metadata": {},
          "execution_count": 25
        }
      ]
    },
    {
      "cell_type": "markdown",
      "metadata": {
        "id": "EoFo3Uwu-SYP"
      },
      "source": [
        "**Model Evaluation:**"
      ]
    },
    {
      "cell_type": "markdown",
      "metadata": {
        "id": "attbcyoJggbY"
      },
      "source": [
        "In this stage, we develop a confusion matrix to evaluate different models obtained from different classifiers."
      ]
    },
    {
      "cell_type": "code",
      "metadata": {
        "id": "UVszXDHpQ1R4"
      },
      "source": [
        "from pyspark.mllib.evaluation import MulticlassMetrics\n",
        "from pyspark.sql.types import FloatType\n",
        "\n",
        "def calculate_confusion_matrix(df):\n",
        "  # the labels need to be in float datatype otherwise it won't work\n",
        "  # creating a column that represents the target but the datatype is float\n",
        "  df_float = df.select(['prediction','Target']).withColumn('label', F.col('Target').cast(FloatType()))\n",
        "\n",
        "  # selecting only the prediction and label columns\n",
        "  df_float = df_float.select(['prediction','label'])\n",
        "  # casting to rdd and mapping to a tuple\n",
        "  metrics = MulticlassMetrics(df_float.rdd.map(tuple))\n",
        "  confusion_matrix = metrics.confusionMatrix().toArray()\n",
        "  # changing the confusion matrix array datatype to int as its datatype is float\n",
        "  confusion_matrix = confusion_matrix.astype('int32')\n",
        "  \n",
        "  return confusion_matrix, metrics"
      ],
      "execution_count": 26,
      "outputs": []
    },
    {
      "cell_type": "code",
      "metadata": {
        "id": "mvPxsHSqC0Bv"
      },
      "source": [
        "def calculate_performance_metrics_position(metrics):\n",
        "  details = []\n",
        "  for lab in 0.0,1.0,2.0,3.0:\n",
        "    precision = round(metrics.precision(lab) * 100, 2)\n",
        "    recall = round(metrics.recall(lab) * 100, 2)\n",
        "    f1_score = round(metrics.fMeasure(lab, beta=1.0) * 100, 2)\n",
        "    scores = [precision, recall, f1_score]\n",
        "    details.append(scores)\n",
        "  return details"
      ],
      "execution_count": 27,
      "outputs": []
    },
    {
      "cell_type": "markdown",
      "metadata": {
        "id": "J6MyPg-c3WnF"
      },
      "source": [
        "**Performance Comparison:**"
      ]
    },
    {
      "cell_type": "markdown",
      "metadata": {
        "id": "F8Qx7VOmgQso"
      },
      "source": [
        "In this part, we create tables or dataframes to compare the performances of different classifiers."
      ]
    },
    {
      "cell_type": "code",
      "metadata": {
        "id": "5A3PwFxW3XGj"
      },
      "source": [
        "# defining a function that generates comparison tables\n",
        "from pyspark.sql.types import StructType, StructField\n",
        "from pyspark.sql.functions import monotonically_increasing_id, row_number\n",
        "from pyspark.sql import Window\n",
        "\n",
        "def comparison_table(pos, classifiers, *args):\n",
        "  # creating a new dataframe from list of classifiers\n",
        "  #classifiers = ('Random Forest', 'Logistic Regression', 'Decision Tree')\n",
        "  metrics_detail_list = []\n",
        "  df_classifier = spark.createDataFrame([(l,) for l in classifiers], ['Classifier'])\n",
        "\n",
        "  # stating conditions to select data based on player positions\n",
        "  if pos == 'No_Growth':\n",
        "    index = 0\n",
        "    print('No Growth:')\n",
        "  elif pos == 'Low_Growth':\n",
        "    index = 1\n",
        "    print('Low Growth:')\n",
        "  elif pos == 'Mid_Growth':\n",
        "    index = 2\n",
        "    print('Mid Growth:')\n",
        "  elif pos == 'High_Growth':\n",
        "    index = 3\n",
        "    print('High Growth')\n",
        "\n",
        "  # populating the data for dataframes containing performance indicators\n",
        "  for i in args:\n",
        "    metrics_detail_list += [i[index]]\n",
        "  \n",
        "  # defining the schema of the dataframes containing performance metrics\n",
        "  schema = StructType([\n",
        "      StructField('Precision', FloatType(), False),\n",
        "      StructField('Recall', FloatType(), False),\n",
        "      StructField('F1-score', FloatType(), False)\n",
        "      ])\n",
        "  \n",
        "  # creating a dataframe for performance metrics\n",
        "  pos_df = spark.createDataFrame(metrics_detail_list, schema)\n",
        "\n",
        "  # adding index to the dataframes to join later\n",
        "  pos_df = pos_df.withColumn('row_index', row_number().over(Window.orderBy(monotonically_increasing_id())))\n",
        "  df_classifier = df_classifier.withColumn('row_index', row_number().over(Window.orderBy(monotonically_increasing_id())))\n",
        "  comparison_df = df_classifier.join(pos_df, pos_df.row_index == df_classifier.row_index).drop('row_index')\n",
        "  \n",
        "  return comparison_df"
      ],
      "execution_count": 28,
      "outputs": []
    },
    {
      "cell_type": "code",
      "metadata": {
        "id": "QopPYzF-Rb0Y"
      },
      "source": [
        "confusion_matrix_lr, metrics_lr = calculate_confusion_matrix(dict_models.get('Logistic Regression')[1])\n",
        "performance_lr = calculate_performance_metrics_position(metrics_lr)\n",
        "confusion_matrix_rf, metrics_rf = calculate_confusion_matrix(dict_models.get('Random Forest')[1])\n",
        "performance_rf = calculate_performance_metrics_position(metrics_rf)\n",
        "confusion_matrix_dt, metrics_dt = calculate_confusion_matrix(dict_models.get('Decision Tree')[1])\n",
        "performance_dt = calculate_performance_metrics_position(metrics_dt)"
      ],
      "execution_count": 29,
      "outputs": []
    },
    {
      "cell_type": "code",
      "metadata": {
        "colab": {
          "base_uri": "https://localhost:8080/"
        },
        "id": "tIaHUG4ECsJ1",
        "outputId": "59b1ea2c-9c94-49e2-a6b7-ae14056192f6"
      },
      "source": [
        "performance_lr"
      ],
      "execution_count": 30,
      "outputs": [
        {
          "output_type": "execute_result",
          "data": {
            "text/plain": [
              "[[78.62, 98.77, 87.55],\n",
              " [64.89, 16.16, 25.88],\n",
              " [0.0, 0.0, 0.0],\n",
              " [0.0, 0.0, 0.0]]"
            ]
          },
          "metadata": {},
          "execution_count": 30
        }
      ]
    },
    {
      "cell_type": "code",
      "metadata": {
        "id": "ENQGpP0WH-RK",
        "colab": {
          "base_uri": "https://localhost:8080/"
        },
        "outputId": "75b2695d-18fb-40f3-c72f-1575e0ccf3c5"
      },
      "source": [
        "def show_comparison_table(classifiers, *args):\n",
        "  comparison_table('No_Growth', classifiers, *[x for x in args]).show()\n",
        "  comparison_table('Low_Growth', classifiers, *[x for x in args]).show()\n",
        "  comparison_table('Mid_Growth', classifiers, *[x for x in args]).show() \n",
        "  comparison_table('High_Growth', classifiers, *[x for x in args]).show() \n",
        "\n",
        "classifiers = ('Random Forest', 'Logistic Regression', 'Decision Tree')\n",
        "show_comparison_table(classifiers, performance_rf, performance_lr, performance_dt) "
      ],
      "execution_count": 31,
      "outputs": [
        {
          "output_type": "stream",
          "name": "stdout",
          "text": [
            "No Growth:\n",
            "+-------------------+---------+------+--------+\n",
            "|         Classifier|Precision|Recall|F1-score|\n",
            "+-------------------+---------+------+--------+\n",
            "|      Random Forest|    81.84| 97.91|   89.15|\n",
            "|Logistic Regression|    78.62| 98.77|   87.55|\n",
            "|      Decision Tree|    82.99| 96.64|    89.3|\n",
            "+-------------------+---------+------+--------+\n",
            "\n",
            "Low Growth:\n",
            "+-------------------+---------+------+--------+\n",
            "|         Classifier|Precision|Recall|F1-score|\n",
            "+-------------------+---------+------+--------+\n",
            "|      Random Forest|    67.15| 35.36|   46.33|\n",
            "|Logistic Regression|    64.89| 16.16|   25.88|\n",
            "|      Decision Tree|    62.04| 41.63|   49.83|\n",
            "+-------------------+---------+------+--------+\n",
            "\n",
            "Mid Growth:\n",
            "+-------------------+---------+------+--------+\n",
            "|         Classifier|Precision|Recall|F1-score|\n",
            "+-------------------+---------+------+--------+\n",
            "|      Random Forest|      0.0|   0.0|     0.0|\n",
            "|Logistic Regression|      0.0|   0.0|     0.0|\n",
            "|      Decision Tree|      0.0|   0.0|     0.0|\n",
            "+-------------------+---------+------+--------+\n",
            "\n",
            "High Growth\n",
            "+-------------------+---------+------+--------+\n",
            "|         Classifier|Precision|Recall|F1-score|\n",
            "+-------------------+---------+------+--------+\n",
            "|      Random Forest|      0.0|   0.0|     0.0|\n",
            "|Logistic Regression|      0.0|   0.0|     0.0|\n",
            "|      Decision Tree|      0.0|   0.0|     0.0|\n",
            "+-------------------+---------+------+--------+\n",
            "\n"
          ]
        }
      ]
    },
    {
      "cell_type": "markdown",
      "metadata": {
        "id": "gYp2Val04e43"
      },
      "source": [
        "In the above performance comparison, the recall of 97.91% indicates that the model can predict 97.91% of correct no_growth players. Similarly, the precision of 81.84% indicates that the model is correct 81.84% of the time when they predict a player belongs to the No_growth category. "
      ]
    },
    {
      "cell_type": "markdown",
      "metadata": {
        "id": "3Xsos5BtMug7"
      },
      "source": [
        "All three models have high recall and F1-score for the No_growth category. For the low growth category we can see some performance details whereas for the remaining two categories, all we see are zeroes for all three performance metrics. The reason for this can be attributed to the data imbalance which we saw earlier for growth categories.\n"
      ]
    },
    {
      "cell_type": "markdown",
      "metadata": {
        "id": "CvG6qgn3g1VI"
      },
      "source": [
        "**Class Balancing:**"
      ]
    },
    {
      "cell_type": "markdown",
      "metadata": {
        "id": "G-k8EQ1xvU3a"
      },
      "source": [
        "To balance the dataset, we use SMOTE upsampling/ downsampling which we developed for upsampling and downsampling multiple classes. "
      ]
    },
    {
      "cell_type": "code",
      "metadata": {
        "id": "9AKwXv4BwOtZ"
      },
      "source": [
        "# only for colab\n",
        "!mv \"/content/FIFA_2019/smote_multiclass_sampling.py\" \"/content/\""
      ],
      "execution_count": null,
      "outputs": []
    },
    {
      "cell_type": "code",
      "metadata": {
        "id": "w45r736EBq6N"
      },
      "source": [
        "# selecting only scaled features and target to up/ downsample\n",
        "train = train.select(['Scaled_features', 'Target'])\n",
        "test = test.select(['Scaled_features', 'Target'])"
      ],
      "execution_count": null,
      "outputs": []
    },
    {
      "cell_type": "code",
      "metadata": {
        "colab": {
          "base_uri": "https://localhost:8080/"
        },
        "id": "9NITzefo5mPs",
        "outputId": "3128ac43-9755-4f53-cb50-bcf936453649"
      },
      "source": [
        "# rough\n",
        "train.show(5)"
      ],
      "execution_count": null,
      "outputs": [
        {
          "output_type": "stream",
          "name": "stdout",
          "text": [
            "+--------------------+------------+------+--------------------+\n",
            "|            features|Growth_Level|Target|     Scaled_features|\n",
            "+--------------------+------------+------+--------------------+\n",
            "|[34.0,4.0,173.736...|   No_Growth|     0|[7.47606018751398...|\n",
            "|[34.0,1.0,188.976...|   No_Growth|     0|[7.47606018751398...|\n",
            "|[32.0,1.0,185.928...|   No_Growth|     0|[7.03629194118963...|\n",
            "|[34.0,3.0,179.832...|   No_Growth|     0|[7.47606018751398...|\n",
            "|[33.0,5.0,188.976...|   No_Growth|     0|[7.25617606435181...|\n",
            "+--------------------+------------+------+--------------------+\n",
            "only showing top 5 rows\n",
            "\n"
          ]
        }
      ]
    },
    {
      "cell_type": "markdown",
      "metadata": {
        "id": "0AgtLnHSUYy0"
      },
      "source": [
        "The rate of upsampling and downsampling for the respective majority and minority classes.\n",
        "\n",
        "Downsample Class 0: 80\n",
        "Upsample Class 1: 300\n",
        "Upsample Class 2: 900\n",
        "Upsample Class 3: 3000"
      ]
    },
    {
      "cell_type": "code",
      "metadata": {
        "colab": {
          "base_uri": "https://localhost:8080/"
        },
        "id": "x8ULWR2Jwb_b",
        "outputId": "270de12c-da88-4b78-c564-62abb0706846"
      },
      "source": [
        "import smote_multiclass_sampling as smt\n",
        "obj = smt.SMOTEMultiClassBalancer(spark_context=sc, target='Target', minority_class=1, majority_class=0, upsample_percentage=300, downsample_percentage=80)\n",
        "train = obj.transform(train)"
      ],
      "execution_count": null,
      "outputs": [
        {
          "name": "stdout",
          "output_type": "stream",
          "text": [
            "Is there any more minority classes? Type Yes or No. yes\n",
            "Enter minority class:2\n",
            "Enter upsample percentage:900\n",
            "Is there any more minority classes? Type Yes or No. yes\n",
            "Enter minority class:3\n",
            "Enter upsample percentage:3000\n",
            "Is there any more minority classes? Type Yes or No. no\n"
          ]
        }
      ]
    },
    {
      "cell_type": "code",
      "metadata": {
        "colab": {
          "base_uri": "https://localhost:8080/"
        },
        "id": "Fq7gW22XCRdT",
        "outputId": "df3cf8fd-65f3-4c3b-af96-40559aac5de4"
      },
      "source": [
        "train.groupby('Target').agg({'Scaled_features':'count'}).show()"
      ],
      "execution_count": null,
      "outputs": [
        {
          "output_type": "stream",
          "name": "stdout",
          "text": [
            "+------+----------------------+\n",
            "|Target|count(Scaled_features)|\n",
            "+------+----------------------+\n",
            "|     0|                  7767|\n",
            "|     1|                  8632|\n",
            "|     3|                  8339|\n",
            "|     2|                  7390|\n",
            "+------+----------------------+\n",
            "\n"
          ]
        }
      ]
    },
    {
      "cell_type": "code",
      "metadata": {
        "colab": {
          "base_uri": "https://localhost:8080/"
        },
        "id": "Gc-ay9buOYI0",
        "outputId": "4e74c748-8e58-4efe-cd79-ef7b819ae982"
      },
      "source": [
        "test.groupby('Target').agg({'Scaled_features':'count'}).show()"
      ],
      "execution_count": null,
      "outputs": [
        {
          "output_type": "stream",
          "text": [
            "+------+----------------------+\n",
            "|Target|count(Scaled_features)|\n",
            "+------+----------------------+\n",
            "|     1|                   441|\n",
            "|     3|                   105|\n",
            "|     2|                   269|\n",
            "|     0|                  3980|\n",
            "+------+----------------------+\n",
            "\n"
          ],
          "name": "stdout"
        }
      ]
    },
    {
      "cell_type": "markdown",
      "metadata": {
        "id": "SaNhi2M75sum"
      },
      "source": [
        "For checking SMOTE effects, we select the decision tree."
      ]
    },
    {
      "cell_type": "code",
      "metadata": {
        "colab": {
          "base_uri": "https://localhost:8080/"
        },
        "id": "F1cSfKAd1FHN",
        "outputId": "bcf444fb-e815-474d-fc9b-235cad0093f9"
      },
      "source": [
        "# using decision tree for classification\n",
        "dt = DecisionTreeClassifier(labelCol='Target', featuresCol='Scaled_features', maxDepth=5, maxBins=32, weightCol='Weight', impurity='gini', seed=2020)\n",
        "model_list = {'Decision Tree' : dt}\n",
        "dict_models = classification_model(model_list, train, test)\n",
        "\n",
        "# obtaining confusion matrix using validation set \n",
        "confusion_matrix_dt, metrics_dt = calculate_confusion_matrix(dict_models.get('Decision Tree')[1])\n",
        "performance_dt = calculate_performance_metrics_position(metrics_dt)\n",
        "\n",
        "# showing the comparison table\n",
        "print('Performance for decision tree:')\n",
        "classifier = ('Decision Tree',)\n",
        "show_comparison_table(classifier, performance_dt) "
      ],
      "execution_count": null,
      "outputs": [
        {
          "output_type": "stream",
          "name": "stdout",
          "text": [
            "Performance for decision tree:\n",
            "No Growth:\n",
            "+-------------+---------+------+--------+\n",
            "|   Classifier|Precision|Recall|F1-score|\n",
            "+-------------+---------+------+--------+\n",
            "|Decision Tree|    87.03| 71.55|   78.53|\n",
            "+-------------+---------+------+--------+\n",
            "\n",
            "Low Growth:\n",
            "+-------------+---------+------+--------+\n",
            "|   Classifier|Precision|Recall|F1-score|\n",
            "+-------------+---------+------+--------+\n",
            "|Decision Tree|    48.89| 29.28|   36.62|\n",
            "+-------------+---------+------+--------+\n",
            "\n",
            "Mid Growth:\n",
            "+-------------+---------+------+--------+\n",
            "|   Classifier|Precision|Recall|F1-score|\n",
            "+-------------+---------+------+--------+\n",
            "|Decision Tree|     10.0| 19.16|   13.14|\n",
            "+-------------+---------+------+--------+\n",
            "\n",
            "High Growth\n",
            "+-------------+---------+------+--------+\n",
            "|   Classifier|Precision|Recall|F1-score|\n",
            "+-------------+---------+------+--------+\n",
            "|Decision Tree|     5.23| 46.03|    9.39|\n",
            "+-------------+---------+------+--------+\n",
            "\n"
          ]
        }
      ]
    },
    {
      "cell_type": "markdown",
      "metadata": {
        "id": "Blh4XXQUAag2"
      },
      "source": [
        "From SMOTE up/downsampling, we improved the decision tree model to classify high growth and mid growth from zero to around 10 at the expense of missing out on classifying no growth and low growth players by some points."
      ]
    },
    {
      "cell_type": "markdown",
      "metadata": {
        "id": "iSNH0-G7nYEY"
      },
      "source": [
        "**Checking the Performance for the Training Set:**"
      ]
    },
    {
      "cell_type": "code",
      "metadata": {
        "id": "tSfExPFTnUA9"
      },
      "source": [
        "# obtaining confusion matrix for three classifiers\n",
        "confusion_matrix_dt, metrics_dt = calculate_confusion_matrix(dict_models.get('Decision Tree')[0])\n",
        "performance_dt = calculate_performance_metrics_position(metrics_dt)"
      ],
      "execution_count": null,
      "outputs": []
    },
    {
      "cell_type": "code",
      "metadata": {
        "colab": {
          "base_uri": "https://localhost:8080/"
        },
        "id": "yl7uDrmnnVFh",
        "outputId": "270c1dfe-e83c-424b-eb7e-0238e61c769d"
      },
      "source": [
        "# showing the comparison table\n",
        "print('Performance for training data:')\n",
        "classifier = ('Decision Tree',)\n",
        "show_comparison_table(classifier, performance_dt) "
      ],
      "execution_count": null,
      "outputs": [
        {
          "output_type": "stream",
          "name": "stdout",
          "text": [
            "Performance for training data:\n",
            "No Growth:\n",
            "+-------------+---------+------+--------+\n",
            "|   Classifier|Precision|Recall|F1-score|\n",
            "+-------------+---------+------+--------+\n",
            "|Decision Tree|    44.45| 79.93|   57.13|\n",
            "+-------------+---------+------+--------+\n",
            "\n",
            "Low Growth:\n",
            "+-------------+---------+------+--------+\n",
            "|   Classifier|Precision|Recall|F1-score|\n",
            "+-------------+---------+------+--------+\n",
            "|Decision Tree|    41.03| 44.54|   42.72|\n",
            "+-------------+---------+------+--------+\n",
            "\n",
            "Mid Growth:\n",
            "+-------------+---------+------+--------+\n",
            "|   Classifier|Precision|Recall|F1-score|\n",
            "+-------------+---------+------+--------+\n",
            "|Decision Tree|    52.86|  9.39|   15.95|\n",
            "+-------------+---------+------+--------+\n",
            "\n",
            "High Growth\n",
            "+-------------+---------+------+--------+\n",
            "|   Classifier|Precision|Recall|F1-score|\n",
            "+-------------+---------+------+--------+\n",
            "|Decision Tree|    50.51| 45.29|   47.76|\n",
            "+-------------+---------+------+--------+\n",
            "\n"
          ]
        }
      ]
    },
    {
      "cell_type": "markdown",
      "metadata": {
        "id": "V5_5w2A_o7FT"
      },
      "source": [
        "It seems that using synthetic samples in the training process caused our model to have high variance in general as the performance in the validation set is very low for all groups except for the \"No Growth\" category compared to the training set performance. Having more data would help in reducing the generalising error and make a more accurate prediction on the validation set. Despite this, we try other techniques such as assigning weights to classes and feature engineering to see if we can improve the performance."
      ]
    },
    {
      "cell_type": "markdown",
      "metadata": {
        "id": "8ZFSWnXebLXd"
      },
      "source": [
        "**Adjusing Weights:**"
      ]
    },
    {
      "cell_type": "markdown",
      "metadata": {
        "id": "9Rcnnmr9xXHB"
      },
      "source": [
        "In this part, we create a new column called weight in which priority is assigned based on their presence in the dataset such that high-frequency classes are given low value and vice-versa. First, we determine class weights for different classes. Then, map each row containing a label to its class weight. To do that we create a list containing tuples of class and its weight using the items method. Then we create a single iterable from a series of iterables generated from unpacking the results from the items method using the chain method. Then we create literal columns from the values from the iterable, which is then converted to MapType. Using the new custom map, we map the label to its corresponding weight."
      ]
    },
    {
      "cell_type": "code",
      "metadata": {
        "id": "NNiHWJPOaHZf"
      },
      "source": [
        "import numpy as np\n",
        "from itertools import chain\n",
        "from pyspark.sql.functions import lit, create_map, col\n",
        "\n",
        "def weight_allocator(df):\n",
        "  # getting a list containing the count for each label\n",
        "  target_count = df.select('Growth_Level').groupby('Growth_Level').count().collect()\n",
        "  # creating a list of unique labels\n",
        "  unique_target = [x['Growth_Level'] for x in target_count]\n",
        "  # getting the total number of samples in the dataset\n",
        "  total_samples = sum([x['count'] for x in target_count])\n",
        "  # storing the total number of labels\n",
        "  label_count = len(target_count)\n",
        "  # creating a list to store bin count for each label\n",
        "  bin_count = [x['count'] for x in target_count]\n",
        "\n",
        "  # generating the class weights based on the class frequency in the data. This is similar to how weights are calculated in scikit-learn\n",
        "  class_weights = {key: value  for key, value in zip(unique_target, total_samples / (label_count * np.array(bin_count)))}\n",
        "  print(class_weights)\n",
        "\n",
        "  custom_map = create_map([lit(x) for x in chain(*class_weights.items())])\n",
        "  df = df.withColumn('Weight', custom_map.getItem(col('Growth_Level')))\n",
        "  return df"
      ],
      "execution_count": 32,
      "outputs": []
    },
    {
      "cell_type": "code",
      "metadata": {
        "colab": {
          "base_uri": "https://localhost:8080/"
        },
        "id": "De00OuaoW5_h",
        "outputId": "d22390cb-7afd-46c2-ab98-f75b73ed9731"
      },
      "source": [
        "# getting the training dataset containing weights\n",
        "train= steps_processor(features_col, weight_allocator(classification_df), 'Weight')"
      ],
      "execution_count": 33,
      "outputs": [
        {
          "output_type": "stream",
          "name": "stdout",
          "text": [
            "{'High_Growth': 12.013940520446097, 'Mid_Growth': 4.373139377537212, 'No_Growth': 0.33108800327835264, 'Low_Growth': 1.4975671918443003}\n"
          ]
        }
      ]
    },
    {
      "cell_type": "code",
      "metadata": {
        "colab": {
          "base_uri": "https://localhost:8080/"
        },
        "id": "5YZHIYsib7MW",
        "outputId": "35a168f7-17ea-4abe-ed5a-6e92d6ff714f"
      },
      "source": [
        "train.show(5)"
      ],
      "execution_count": 34,
      "outputs": [
        {
          "output_type": "stream",
          "name": "stdout",
          "text": [
            "+--------------------+------------+------+-------------------+--------------------+\n",
            "|            features|Growth_Level|Target|             Weight|     Scaled_features|\n",
            "+--------------------+------------+------+-------------------+--------------------+\n",
            "|[34.0,4.0,173.736...|   No_Growth|     0|0.33108800327835264|[7.47606018751398...|\n",
            "|[34.0,1.0,188.976...|   No_Growth|     0|0.33108800327835264|[7.47606018751398...|\n",
            "|[32.0,1.0,185.928...|   No_Growth|     0|0.33108800327835264|[7.03629194118963...|\n",
            "|[34.0,3.0,179.832...|   No_Growth|     0|0.33108800327835264|[7.47606018751398...|\n",
            "|[33.0,5.0,188.976...|   No_Growth|     0|0.33108800327835264|[7.25617606435181...|\n",
            "+--------------------+------------+------+-------------------+--------------------+\n",
            "only showing top 5 rows\n",
            "\n"
          ]
        }
      ]
    },
    {
      "cell_type": "code",
      "metadata": {
        "colab": {
          "base_uri": "https://localhost:8080/"
        },
        "id": "l83NwEaaJKz-",
        "outputId": "a63dac3b-7782-4785-88d4-f99e29721252"
      },
      "source": [
        "# using decision tree for classification\n",
        "dt = DecisionTreeClassifier(labelCol='Target', featuresCol='Scaled_features', maxDepth=5, maxBins=32, weightCol='Weight', impurity='gini', seed=2020)\n",
        "model_list = {'Decision Tree' : dt}\n",
        "dict_models = classification_model(model_list, train, test)\n",
        "\n",
        "# obtaining confusion matrix \n",
        "confusion_matrix_dt, metrics_dt = calculate_confusion_matrix(dict_models.get('Decision Tree')[1])\n",
        "performance_dt = calculate_performance_metrics_position(metrics_dt)\n",
        "\n",
        "# showing the comparison table\n",
        "print('Performance for decision tree:')\n",
        "classifier = ('Decision Tree',)\n",
        "show_comparison_table(classifier, performance_dt) "
      ],
      "execution_count": 35,
      "outputs": [
        {
          "output_type": "stream",
          "name": "stdout",
          "text": [
            "Performance for decision tree:\n",
            "No Growth:\n",
            "+-------------+---------+------+--------+\n",
            "|   Classifier|Precision|Recall|F1-score|\n",
            "+-------------+---------+------+--------+\n",
            "|Decision Tree|    87.58| 58.67|   70.27|\n",
            "+-------------+---------+------+--------+\n",
            "\n",
            "Low Growth:\n",
            "+-------------+---------+------+--------+\n",
            "|   Classifier|Precision|Recall|F1-score|\n",
            "+-------------+---------+------+--------+\n",
            "|Decision Tree|    61.65| 15.59|   24.89|\n",
            "+-------------+---------+------+--------+\n",
            "\n",
            "Mid Growth:\n",
            "+-------------+---------+------+--------+\n",
            "|   Classifier|Precision|Recall|F1-score|\n",
            "+-------------+---------+------+--------+\n",
            "|Decision Tree|     6.81| 36.53|   11.48|\n",
            "+-------------+---------+------+--------+\n",
            "\n",
            "High Growth\n",
            "+-------------+---------+------+--------+\n",
            "|   Classifier|Precision|Recall|F1-score|\n",
            "+-------------+---------+------+--------+\n",
            "|Decision Tree|     6.02| 50.79|   10.76|\n",
            "+-------------+---------+------+--------+\n",
            "\n"
          ]
        }
      ]
    },
    {
      "cell_type": "markdown",
      "metadata": {
        "id": "VyYQkByQlZcV"
      },
      "source": [
        "Classifying samples based on their importance was able to improve the performance compared to the original one, but the overall performance is low compared to the SMOTE performance."
      ]
    },
    {
      "cell_type": "markdown",
      "metadata": {
        "id": "RrOvv3AwbeEZ"
      },
      "source": [
        "**Using Embedded Method:**"
      ]
    },
    {
      "cell_type": "markdown",
      "metadata": {
        "id": "40TRhuqTbhwP"
      },
      "source": [
        "We enable Lasso regression in Logistic regression to see if reducing the value of unimportant coefficients to zero improves the performance or not."
      ]
    },
    {
      "cell_type": "code",
      "metadata": {
        "colab": {
          "base_uri": "https://localhost:8080/"
        },
        "id": "TRpsr0Knb_xt",
        "outputId": "bbb345aa-d579-468e-9088-b616999115a5"
      },
      "source": [
        "lr = LogisticRegression(labelCol='Target', featuresCol='Scaled_features', maxIter=100, elasticNetParam=1, regParam=0.8, weightCol='Weight')\n",
        "model_list = {'Logistic Regression' : lr}\n",
        "dict_models = classification_model(model_list, train, test)\n",
        "\n",
        "# obtaining confusion matrix \n",
        "confusion_matrix_lr, metrics_lr = calculate_confusion_matrix(dict_models.get('Logistic Regression')[1])\n",
        "performance_lr = calculate_performance_metrics_position(metrics_lr)\n",
        "\n",
        "# showing the comparison table\n",
        "print('Performance for logistic regression:')\n",
        "classifier = ('Logistic Regression',)\n",
        "show_comparison_table(classifier, performance_lr) "
      ],
      "execution_count": 36,
      "outputs": [
        {
          "output_type": "stream",
          "name": "stdout",
          "text": [
            "Performance for logistic regression:\n",
            "No Growth:\n",
            "+-------------------+---------+------+--------+\n",
            "|         Classifier|Precision|Recall|F1-score|\n",
            "+-------------------+---------+------+--------+\n",
            "|Logistic Regression|      0.0|   0.0|     0.0|\n",
            "+-------------------+---------+------+--------+\n",
            "\n",
            "Low Growth:\n",
            "+-------------------+---------+------+--------+\n",
            "|         Classifier|Precision|Recall|F1-score|\n",
            "+-------------------+---------+------+--------+\n",
            "|Logistic Regression|      0.0|   0.0|     0.0|\n",
            "+-------------------+---------+------+--------+\n",
            "\n",
            "Mid Growth:\n",
            "+-------------------+---------+------+--------+\n",
            "|         Classifier|Precision|Recall|F1-score|\n",
            "+-------------------+---------+------+--------+\n",
            "|Logistic Regression|      0.0|   0.0|     0.0|\n",
            "+-------------------+---------+------+--------+\n",
            "\n",
            "High Growth\n",
            "+-------------------+---------+------+--------+\n",
            "|         Classifier|Precision|Recall|F1-score|\n",
            "+-------------------+---------+------+--------+\n",
            "|Logistic Regression|     1.97| 100.0|    3.87|\n",
            "+-------------------+---------+------+--------+\n",
            "\n"
          ]
        }
      ]
    },
    {
      "cell_type": "markdown",
      "metadata": {
        "id": "vRI8d9qg6iWq"
      },
      "source": [
        "Using embedded methods to reduce features performed worse than without penalising the best fit data. "
      ]
    },
    {
      "cell_type": "markdown",
      "metadata": {
        "id": "f_JEXl-B0fKV"
      },
      "source": [
        "The conclusion from this analysis is that due to the low amount of data for groups other than no growth category, we are not able to develop a robust model that can predict the growth level of a player. "
      ]
    },
    {
      "cell_type": "code",
      "metadata": {
        "id": "KwQSCUt-YuwZ"
      },
      "source": [
        ""
      ],
      "execution_count": null,
      "outputs": []
    }
  ]
}